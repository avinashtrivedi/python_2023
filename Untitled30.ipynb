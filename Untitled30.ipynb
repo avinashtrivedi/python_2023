{
 "cells": [
  {
   "cell_type": "code",
   "execution_count": 8,
   "id": "30ecca76",
   "metadata": {},
   "outputs": [],
   "source": [
    "import pandas as pd\n",
    "\n",
    "df = pd.read_csv('D:\\OneDrive - NITT\\Custom_Download\\eye_color.csv')"
   ]
  },
  {
   "cell_type": "code",
   "execution_count": 10,
   "id": "58ac3fc6",
   "metadata": {},
   "outputs": [],
   "source": [
    "df = df[['gender','eyecolor']]\n",
    "# Convert categorical variables to numerical\n",
    "df['gender'] = df['gender'].map({'female': 0, 'male': 1})"
   ]
  },
  {
   "cell_type": "code",
   "execution_count": null,
   "id": "98f043f3",
   "metadata": {},
   "outputs": [],
   "source": []
  },
  {
   "cell_type": "code",
   "execution_count": 12,
   "id": "6640fed9",
   "metadata": {},
   "outputs": [],
   "source": [
    "# Features and target variable\n",
    "X = df[['eyecolor']]\n",
    "y = df['gender']"
   ]
  },
  {
   "cell_type": "code",
   "execution_count": 15,
   "id": "84ec6503",
   "metadata": {},
   "outputs": [],
   "source": [
    "X = pd.get_dummies(X)"
   ]
  },
  {
   "cell_type": "code",
   "execution_count": 19,
   "id": "d6834fbd",
   "metadata": {},
   "outputs": [
    {
     "data": {
      "text/plain": [
       "['eyecolor_blue',\n",
       " 'eyecolor_brown',\n",
       " 'eyecolor_green',\n",
       " 'eyecolor_hazel',\n",
       " 'eyecolor_other']"
      ]
     },
     "execution_count": 19,
     "metadata": {},
     "output_type": "execute_result"
    }
   ],
   "source": [
    "list(X)"
   ]
  },
  {
   "cell_type": "code",
   "execution_count": 20,
   "id": "44cab8ff",
   "metadata": {},
   "outputs": [
    {
     "name": "stdout",
     "output_type": "stream",
     "text": [
      "|--- eyecolor_green <= 0.50\n",
      "|   |--- eyecolor_brown <= 0.50\n",
      "|   |   |--- eyecolor_other <= 0.50\n",
      "|   |   |   |--- eyecolor_hazel <= 0.50\n",
      "|   |   |   |   |--- class: 0\n",
      "|   |   |   |--- eyecolor_hazel >  0.50\n",
      "|   |   |   |   |--- class: 0\n",
      "|   |   |--- eyecolor_other >  0.50\n",
      "|   |   |   |--- class: 1\n",
      "|   |--- eyecolor_brown >  0.50\n",
      "|   |   |--- class: 0\n",
      "|--- eyecolor_green >  0.50\n",
      "|   |--- class: 0\n",
      "\n"
     ]
    }
   ],
   "source": [
    "\n",
    "from sklearn.tree import DecisionTreeClassifier, export_text\n",
    "\n",
    "# # Creating a DataFrame with the provided dataset\n",
    "# data = {\n",
    "#     'gender': ['female', 'male', 'female', 'male', 'female', 'male', 'male', 'male', 'female', 'male',\n",
    "#                'male', 'female', 'male', 'female', 'male', 'male', 'female', 'male', 'female', 'male',\n",
    "#                'female', 'female', 'female', 'male', 'male', 'male', 'male', 'male', 'female', 'male',\n",
    "#                'female', 'female', 'female', 'male', 'female', 'male', 'female', 'male', 'female', 'female'],\n",
    "#     'eyecolor': ['hazel', 'brown', 'green', 'hazel', 'blue', 'green', 'brown', 'brown', 'brown', 'blue',\n",
    "#                  'blue', 'blue', 'brown', 'green', 'blue', 'brown', 'brown', 'blue', 'hazel', 'hazel',\n",
    "#                  'blue', 'hazel', 'blue', 'green', 'blue', 'brown', 'blue', 'hazel', 'blue', 'hazel',\n",
    "#                  'blue', 'hazel', 'blue', 'hazel', 'green', 'blue', 'hazel', 'blue', 'brown', 'blue', 'hazel'],\n",
    "# }\n",
    "\n",
    "# df = pd.DataFrame(data)\n",
    "\n",
    "# # Convert categorical variables to numerical\n",
    "# df['gender'] = df['gender'].map({'female': 0, 'male': 1})\n",
    "\n",
    "# # Features and target variable\n",
    "# X = df[['eyecolor']]\n",
    "# y = df['gender']\n",
    "\n",
    "# Decision Tree model\n",
    "dt_model = DecisionTreeClassifier(criterion='gini', random_state=42)\n",
    "dt_model.fit(X, y)\n",
    "\n",
    "# Display the decision tree rules\n",
    "tree_rules = export_text(dt_model, feature_names=['eyecolor_blue',\n",
    " 'eyecolor_brown',\n",
    " 'eyecolor_green',\n",
    " 'eyecolor_hazel',\n",
    " 'eyecolor_other'])\n",
    "print(tree_rules)\n"
   ]
  },
  {
   "cell_type": "code",
   "execution_count": null,
   "id": "6b18ecd5",
   "metadata": {},
   "outputs": [],
   "source": [
    "dt_model."
   ]
  }
 ],
 "metadata": {
  "kernelspec": {
   "display_name": "Python (myNEWenv)",
   "language": "python",
   "name": "mynewenv"
  },
  "language_info": {
   "codemirror_mode": {
    "name": "ipython",
    "version": 3
   },
   "file_extension": ".py",
   "mimetype": "text/x-python",
   "name": "python",
   "nbconvert_exporter": "python",
   "pygments_lexer": "ipython3",
   "version": "3.10.12"
  }
 },
 "nbformat": 4,
 "nbformat_minor": 5
}
