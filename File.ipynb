{
 "cells": [
  {
   "cell_type": "markdown",
   "id": "3b4e030d",
   "metadata": {},
   "source": [
    "### The University of Melbourne, School of Computing and Information Systems\n",
    "# COMP90086 Computer Vision, 2023 Semester 2\n",
    "\n",
    "## Assignment 2"
   ]
  },
  {
   "cell_type": "markdown",
   "id": "47b592bd",
   "metadata": {},
   "source": [
    "**Student Name:**    `PLEASE ENTER YOUR NAME HERE`\n",
    "\n",
    "**Student ID:**     `PLEASE ENTER YOUR ID HERE`"
   ]
  },
  {
   "cell_type": "markdown",
   "id": "0cf1c1ce",
   "metadata": {},
   "source": [
    "## This iPython notebook is a template which you should use for your Assignment 2 submission. This file should be submitted at the **Assignment 2: Code** link on the LMS.\n",
    "\n",
    "In addition to this file, you should submit a written report explaining your results at the **Assignment 2: Report** link on the LMS. Please see the assignment specification for details on what must be included in the report for each question.\n",
    "\n",
    "*Adding proper comments to your code is MANDATORY.*"
   ]
  },
  {
   "cell_type": "markdown",
   "id": "920cbf26",
   "metadata": {},
   "source": [
    "### 1. CNN training\n",
    "\n",
    "The following code section will load the dataset from a folder that you specify. You may change the batch sizes and add additional data augmentation steps here if you wish."
   ]
  },
  {
   "cell_type": "code",
   "execution_count": null,
   "id": "b59fecf6",
   "metadata": {
    "scrolled": true
   },
   "outputs": [],
   "source": [
    "from keras.preprocessing.image import ImageDataGenerator\n",
    "\n",
    "data_dir = 'scene32' # SPECIFY YOUR PATH TO THE DATASET\n",
    "batch_size = 40\n",
    "\n",
    "# Data generator for training\n",
    "# Additional data augmentation may be added here if desired\n",
    "train_datagen = ImageDataGenerator(\n",
    "    rescale=1./255)\n",
    "\n",
    "# Data generator for test\n",
    "# DO NOT USE DATA AUGMENTATION WITH TEST SET\n",
    "test_datagen = ImageDataGenerator(\n",
    "    rescale=1./255)\n",
    "\n",
    "# Generate training data from 'train' directory\n",
    "train_data = train_datagen.flow_from_directory(\n",
    "        data_dir+'/train',\n",
    "        target_size=(32,32),\n",
    "        batch_size=batch_size,\n",
    "        class_mode='categorical')\n",
    "\n",
    "# Generate vaildation data from 'valid' directory\n",
    "val_data = test_datagen.flow_from_directory(\n",
    "        data_dir+'/valid',\n",
    "        target_size=(32,32),\n",
    "        batch_size=batch_size,\n",
    "        class_mode='categorical')\n",
    "\n",
    "# Generate test data from 'test' directory\n",
    "test_data = test_datagen.flow_from_directory(\n",
    "        data_dir+'/test',\n",
    "        target_size=(32,32),\n",
    "        batch_size=batch_size,\n",
    "        class_mode='categorical')\n",
    "\n",
    "# Output list of class names\n",
    "class_names_and_indices = train_data.class_indices\n",
    "print(class_names_and_indices)\n",
    "\n",
    "# Note: To train a model with the dataset loaded above, pass the train and val\n",
    "# datasets to the fit() function, like so:\n",
    "# myModel.fit(train_data, validation_data=val_data, ...)"
   ]
  },
  {
   "cell_type": "code",
   "execution_count": null,
   "id": "c18a21a9",
   "metadata": {},
   "outputs": [],
   "source": []
  },
  {
   "cell_type": "markdown",
   "id": "1a47af5f",
   "metadata": {},
   "source": [
    "### 2. Error anaylsis"
   ]
  },
  {
   "cell_type": "code",
   "execution_count": null,
   "id": "6bcf7dfc",
   "metadata": {},
   "outputs": [],
   "source": []
  },
  {
   "cell_type": "markdown",
   "id": "09a39a88",
   "metadata": {},
   "source": [
    "### 3. Kernel engineering"
   ]
  },
  {
   "cell_type": "code",
   "execution_count": null,
   "id": "7a7d21af",
   "metadata": {},
   "outputs": [],
   "source": []
  }
 ],
 "metadata": {
  "kernelspec": {
   "display_name": "Python 3 (ipykernel)",
   "language": "python",
   "name": "python3"
  },
  "language_info": {
   "codemirror_mode": {
    "name": "ipython",
    "version": 3
   },
   "file_extension": ".py",
   "mimetype": "text/x-python",
   "name": "python",
   "nbconvert_exporter": "python",
   "pygments_lexer": "ipython3",
   "version": "3.9.15"
  }
 },
 "nbformat": 4,
 "nbformat_minor": 5
}
