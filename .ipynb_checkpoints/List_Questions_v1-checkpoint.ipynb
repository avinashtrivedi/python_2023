{
 "cells": [
  {
   "cell_type": "markdown",
   "id": "979c0e3d",
   "metadata": {},
   "source": [
    "# Q1"
   ]
  },
  {
   "cell_type": "code",
   "execution_count": 1,
   "id": "b059e105",
   "metadata": {},
   "outputs": [],
   "source": [
    "# lambda function to get count of odd\n",
    "func_odd = lambda x: ['odd' for i in x  if i%2!=0].count('odd')\n",
    "\n",
    "# lambda function to get count of even\n",
    "func_even = lambda x: ['even' for i in x if i%2==0].count('even')"
   ]
  },
  {
   "cell_type": "code",
   "execution_count": 2,
   "id": "4a7f212f",
   "metadata": {},
   "outputs": [
    {
     "name": "stdout",
     "output_type": "stream",
     "text": [
      "Odd: 2\n",
      "Even: 3\n"
     ]
    }
   ],
   "source": [
    "# example-1\n",
    "list1 = [2, 7, 5, 64, 14]\n",
    "print('Odd:',func_odd(list1))\n",
    "print('Even:',func_even(list1))"
   ]
  },
  {
   "cell_type": "code",
   "execution_count": 3,
   "id": "4ed94205",
   "metadata": {},
   "outputs": [
    {
     "name": "stdout",
     "output_type": "stream",
     "text": [
      "Odd: 2\n",
      "Even: 2\n"
     ]
    }
   ],
   "source": [
    "# example-2\n",
    "list2 = [12, 14, 95, 3]\n",
    "print('Odd:',func_odd(list2))\n",
    "print('Even:',func_even(list2))"
   ]
  },
  {
   "cell_type": "markdown",
   "id": "ac122386",
   "metadata": {},
   "source": [
    "# Q2"
   ]
  },
  {
   "cell_type": "code",
   "execution_count": 4,
   "id": "452e0e5d",
   "metadata": {},
   "outputs": [],
   "source": [
    "# Convert decimal signal to analog voltage using a DAC with given settings.\n",
    "def V_DAC(decimal_signal, max_voltage=5.0, bits=10):\n",
    "\n",
    "    # Convert decimal signal to binary with given number of bits\n",
    "    binary_signal = format(decimal_signal, '0{}b'.format(bits))\n",
    "\n",
    "    # Calculate the voltage level based on the binary signal\n",
    "    voltage_level = int(binary_signal, 2) * (max_voltage / ((2**bits)-1))\n",
    "\n",
    "    #Analog voltage level\n",
    "    return round(voltage_level,2)\n"
   ]
  },
  {
   "cell_type": "code",
   "execution_count": 5,
   "id": "516d6c26",
   "metadata": {},
   "outputs": [
    {
     "data": {
      "text/plain": [
       "0.0"
      ]
     },
     "execution_count": 5,
     "metadata": {},
     "output_type": "execute_result"
    }
   ],
   "source": [
    "V_DAC(0)"
   ]
  },
  {
   "cell_type": "code",
   "execution_count": 6,
   "id": "62546c3a",
   "metadata": {},
   "outputs": [
    {
     "data": {
      "text/plain": [
       "5.0"
      ]
     },
     "execution_count": 6,
     "metadata": {},
     "output_type": "execute_result"
    }
   ],
   "source": [
    "V_DAC(1023)"
   ]
  },
  {
   "cell_type": "code",
   "execution_count": 7,
   "id": "895484c7",
   "metadata": {},
   "outputs": [
    {
     "data": {
      "text/plain": [
       "1.96"
      ]
     },
     "execution_count": 7,
     "metadata": {},
     "output_type": "execute_result"
    }
   ],
   "source": [
    "V_DAC(400)"
   ]
  },
  {
   "cell_type": "markdown",
   "id": "1e228774",
   "metadata": {},
   "source": [
    "# Q3"
   ]
  },
  {
   "cell_type": "code",
   "execution_count": 8,
   "id": "f36623b1",
   "metadata": {},
   "outputs": [],
   "source": [
    "import random\n",
    "import string\n",
    "random.seed(100)\n",
    "def get_pass():\n",
    "    \n",
    "    # store uppercase,digits,punctuation\n",
    "    upper = string.ascii_uppercase\n",
    "    digit = string.digits\n",
    "    special_char = string.punctuation\n",
    "    \n",
    "    # all set of char used in password\n",
    "    all_char = upper + special_char + digit + string.ascii_lowercase\n",
    "    \n",
    "    # choose mandatory number of upper, digit and special_char\n",
    "    a =random.choices(upper,k=2)\n",
    "    b = random.choices(digit,k=1)\n",
    "    c = random.choices(special_char,k=1)\n",
    "    d = random.choices(all_char,k=6)\n",
    "    \n",
    "    # combine final characters\n",
    "    finalpass = a+b+c+d\n",
    "    finalpass = ''.join(finalpass)\n",
    "    return finalpass"
   ]
  },
  {
   "cell_type": "code",
   "execution_count": 9,
   "id": "0395c3c1",
   "metadata": {},
   "outputs": [
    {
     "data": {
      "text/plain": [
       "'DL7[a/h]H;'"
      ]
     },
     "execution_count": 9,
     "metadata": {},
     "output_type": "execute_result"
    }
   ],
   "source": [
    "get_pass()"
   ]
  },
  {
   "cell_type": "markdown",
   "id": "42525947",
   "metadata": {},
   "source": [
    "# Numpy and Matplotlib"
   ]
  },
  {
   "cell_type": "code",
   "execution_count": 10,
   "id": "6997b7f0",
   "metadata": {},
   "outputs": [],
   "source": [
    "import numpy as np"
   ]
  },
  {
   "cell_type": "markdown",
   "id": "a4fe8f53",
   "metadata": {},
   "source": [
    "# Q1"
   ]
  },
  {
   "cell_type": "code",
   "execution_count": 11,
   "id": "9afead52",
   "metadata": {},
   "outputs": [
    {
     "name": "stdout",
     "output_type": "stream",
     "text": [
      "(1, 5, 3)\n"
     ]
    }
   ],
   "source": [
    "#  (x,y,z) of the 100th element\n",
    "print(np.unravel_index(99,(6,7,8)))"
   ]
  },
  {
   "cell_type": "markdown",
   "id": "5131281a",
   "metadata": {},
   "source": [
    "# Q2"
   ]
  },
  {
   "cell_type": "code",
   "execution_count": 12,
   "id": "f3dae8e0",
   "metadata": {},
   "outputs": [
    {
     "data": {
      "text/plain": [
       "array([9, 8, 7, 6, 5, 4, 3, 2, 1])"
      ]
     },
     "execution_count": 12,
     "metadata": {},
     "output_type": "execute_result"
    }
   ],
   "source": [
    "Z = np.arange(1,10)\n",
    "\n",
    "# reverse\n",
    "Z= Z[::-1]\n",
    "Z"
   ]
  },
  {
   "cell_type": "markdown",
   "id": "e24a6d19",
   "metadata": {},
   "source": [
    "# Q3"
   ]
  },
  {
   "cell_type": "code",
   "execution_count": 13,
   "id": "1bdcbcb5",
   "metadata": {},
   "outputs": [
    {
     "name": "stdout",
     "output_type": "stream",
     "text": [
      "(array([0, 1, 4], dtype=int64),)\n"
     ]
    }
   ],
   "source": [
    "# get indices of non-zero elements\n",
    "nz = np.nonzero([1,2,0,0,4,0])\n",
    "print(nz)"
   ]
  },
  {
   "cell_type": "markdown",
   "id": "8bb84476",
   "metadata": {},
   "source": [
    "# Q4"
   ]
  },
  {
   "cell_type": "code",
   "execution_count": 14,
   "id": "65148cb3",
   "metadata": {},
   "outputs": [
    {
     "data": {
      "text/plain": [
       "array([[0.22737286, 0.17812145, 0.26275486, 0.17335024, 0.06543616],\n",
       "       [0.19968416, 0.30550124, 1.        , 0.01847992, 0.64474673],\n",
       "       [0.25001875, 0.82767448, 0.00652715, 0.59129118, 0.        ],\n",
       "       [0.59437085, 0.9672217 , 0.63832849, 0.06915771, 0.51031126],\n",
       "       [0.08381382, 0.19451536, 0.37421615, 0.86864427, 0.99814562]])"
      ]
     },
     "execution_count": 14,
     "metadata": {},
     "output_type": "execute_result"
    }
   ],
   "source": [
    "X = np.random.random((5,5))\n",
    "# normalize\n",
    "X = (X - X.min()) /(X.max() - X.min())\n",
    "X"
   ]
  },
  {
   "cell_type": "markdown",
   "id": "56faf5b7",
   "metadata": {},
   "source": [
    "# Q5"
   ]
  },
  {
   "cell_type": "code",
   "execution_count": 15,
   "id": "332bfb1d",
   "metadata": {},
   "outputs": [
    {
     "name": "stdout",
     "output_type": "stream",
     "text": [
      "9\n",
      "10\n"
     ]
    }
   ],
   "source": [
    "print(sum(range(5),-1))\n",
    "from numpy import *\n",
    "print(sum(range(5),-1))"
   ]
  },
  {
   "cell_type": "markdown",
   "id": "92168acd",
   "metadata": {},
   "source": [
    "# Q5"
   ]
  },
  {
   "cell_type": "code",
   "execution_count": 16,
   "id": "446a1f8e",
   "metadata": {},
   "outputs": [
    {
     "name": "stderr",
     "output_type": "stream",
     "text": [
      "C:\\Users\\avitr\\AppData\\Local\\Temp\\ipykernel_16340\\1571972474.py:1: RuntimeWarning: invalid value encountered in divide\n",
      "  np.array(0)/np.array(0)\n"
     ]
    },
    {
     "data": {
      "text/plain": [
       "nan"
      ]
     },
     "execution_count": 16,
     "metadata": {},
     "output_type": "execute_result"
    }
   ],
   "source": [
    "np.array(0)/np.array(0)"
   ]
  },
  {
   "cell_type": "code",
   "execution_count": 17,
   "id": "b1da570c",
   "metadata": {},
   "outputs": [
    {
     "name": "stderr",
     "output_type": "stream",
     "text": [
      "C:\\Users\\avitr\\AppData\\Local\\Temp\\ipykernel_16340\\3350367291.py:1: RuntimeWarning: divide by zero encountered in floor_divide\n",
      "  np.array(0)//np.array(0)\n"
     ]
    },
    {
     "data": {
      "text/plain": [
       "0"
      ]
     },
     "execution_count": 17,
     "metadata": {},
     "output_type": "execute_result"
    }
   ],
   "source": [
    "np.array(0)//np.array(0)"
   ]
  },
  {
   "cell_type": "code",
   "execution_count": 18,
   "id": "4abaecc3",
   "metadata": {},
   "outputs": [
    {
     "data": {
      "text/plain": [
       "array([-2.14748365e+09])"
      ]
     },
     "execution_count": 18,
     "metadata": {},
     "output_type": "execute_result"
    }
   ],
   "source": [
    "np.array([np.nan]).astype(int).astype(float)"
   ]
  },
  {
   "cell_type": "markdown",
   "id": "37f7ca45",
   "metadata": {},
   "source": [
    "# Q6"
   ]
  },
  {
   "cell_type": "code",
   "execution_count": 19,
   "id": "3fb7b222",
   "metadata": {},
   "outputs": [
    {
     "name": "stderr",
     "output_type": "stream",
     "text": [
      "C:\\Users\\avitr\\AppData\\Local\\Temp\\ipykernel_16340\\244602691.py:1: RuntimeWarning: invalid value encountered in sqrt\n",
      "  np.sqrt(-1) == np.emath.sqrt(-1)\n"
     ]
    },
    {
     "data": {
      "text/plain": [
       "False"
      ]
     },
     "execution_count": 19,
     "metadata": {},
     "output_type": "execute_result"
    }
   ],
   "source": [
    "np.sqrt(-1) == np.emath.sqrt(-1)"
   ]
  },
  {
   "cell_type": "markdown",
   "id": "25b8782e",
   "metadata": {},
   "source": [
    "# Q7"
   ]
  },
  {
   "cell_type": "code",
   "execution_count": 20,
   "id": "27776dc2",
   "metadata": {},
   "outputs": [
    {
     "data": {
      "text/plain": [
       "iinfo(min=-128, max=127, dtype=int8)"
      ]
     },
     "execution_count": 20,
     "metadata": {},
     "output_type": "execute_result"
    }
   ],
   "source": [
    "np.iinfo(int8)# Machine limits for integer types."
   ]
  },
  {
   "cell_type": "code",
   "execution_count": 21,
   "id": "eda9850c",
   "metadata": {},
   "outputs": [
    {
     "data": {
      "text/plain": [
       "iinfo(min=-2147483648, max=2147483647, dtype=int32)"
      ]
     },
     "execution_count": 21,
     "metadata": {},
     "output_type": "execute_result"
    }
   ],
   "source": [
    "np.iinfo(int32) # Machine limits for integer types."
   ]
  },
  {
   "cell_type": "code",
   "execution_count": 22,
   "id": "e0f24d24",
   "metadata": {},
   "outputs": [
    {
     "data": {
      "text/plain": [
       "iinfo(min=-9223372036854775808, max=9223372036854775807, dtype=int64)"
      ]
     },
     "execution_count": 22,
     "metadata": {},
     "output_type": "execute_result"
    }
   ],
   "source": [
    "np.iinfo(int64) # Machine limits for integer types."
   ]
  },
  {
   "cell_type": "code",
   "execution_count": 23,
   "id": "59844540",
   "metadata": {},
   "outputs": [
    {
     "data": {
      "text/plain": [
       "finfo(resolution=1e-06, min=-3.4028235e+38, max=3.4028235e+38, dtype=float32)"
      ]
     },
     "execution_count": 23,
     "metadata": {},
     "output_type": "execute_result"
    }
   ],
   "source": [
    "np.finfo(float32)  # Machine limits for float types."
   ]
  },
  {
   "cell_type": "code",
   "execution_count": 24,
   "id": "6e64f993",
   "metadata": {},
   "outputs": [
    {
     "data": {
      "text/plain": [
       "finfo(resolution=1e-15, min=-1.7976931348623157e+308, max=1.7976931348623157e+308, dtype=float64)"
      ]
     },
     "execution_count": 24,
     "metadata": {},
     "output_type": "execute_result"
    }
   ],
   "source": [
    "np.finfo(float64)  # Machine limits for float types."
   ]
  },
  {
   "cell_type": "markdown",
   "id": "65df2eff",
   "metadata": {},
   "source": [
    "# Q8"
   ]
  },
  {
   "cell_type": "code",
   "execution_count": 25,
   "id": "cae529d3",
   "metadata": {},
   "outputs": [
    {
     "name": "stdout",
     "output_type": "stream",
     "text": [
      "[0. 7. 0. 6. 5. 0. 0. 0. 0. 3.]\n"
     ]
    }
   ],
   "source": [
    "X = [1,2,3,4,5,6]\n",
    "I = [1,3,9,3,4,1]\n",
    "F = np.bincount(I,X)\n",
    "print(F)"
   ]
  },
  {
   "cell_type": "markdown",
   "id": "6f34c77f",
   "metadata": {},
   "source": [
    "# Q9"
   ]
  },
  {
   "cell_type": "code",
   "execution_count": 26,
   "id": "5bc22670",
   "metadata": {},
   "outputs": [
    {
     "name": "stdout",
     "output_type": "stream",
     "text": [
      "[[55 45 54 53]\n",
      " [69 66 43 76]\n",
      " [50 58 42 49]]\n"
     ]
    }
   ],
   "source": [
    "A = np.random.randint(0,10,(3,4,3,4))\n",
    "\n",
    "# get sum over the last two axis at once\n",
    "sum = A.reshape(A.shape[:-2] + (-1,)).sum(axis=-1)\n",
    "print(sum)"
   ]
  },
  {
   "cell_type": "markdown",
   "id": "7b46f7fa",
   "metadata": {},
   "source": [
    "# Q10"
   ]
  },
  {
   "cell_type": "code",
   "execution_count": 27,
   "id": "02f1176f",
   "metadata": {},
   "outputs": [
    {
     "name": "stdout",
     "output_type": "stream",
     "text": [
      "[[0 1 2]\n",
      " [1 2 3]\n",
      " [2 3 4]\n",
      " [3 4 5]\n",
      " [4 5 6]\n",
      " [5 6 7]\n",
      " [6 7 8]\n",
      " [7 8 9]]\n"
     ]
    }
   ],
   "source": [
    "def rolling(a, window):\n",
    "    shape = (a.size - window + 1, window)\n",
    "    strides = (a.itemsize, a.itemsize)\n",
    "# Create a view into the array with the given shape and strides.\n",
    "    return np.lib.stride_tricks.as_strided(a, shape=shape, strides=strides)\n",
    "Z = rolling(np.arange(10), 3)\n",
    "print(Z)"
   ]
  },
  {
   "cell_type": "markdown",
   "id": "a25a9260",
   "metadata": {},
   "source": [
    "# Q11"
   ]
  },
  {
   "cell_type": "code",
   "execution_count": 28,
   "id": "4cb0f6df",
   "metadata": {},
   "outputs": [
    {
     "name": "stdout",
     "output_type": "stream",
     "text": [
      "original: \n",
      "[ 1  2  3  4  5  6  7  8  9 10 11 12 13 14]\n",
      "after strides: \n",
      "[[ 1  2  3  4]\n",
      " [ 2  3  4  5]\n",
      " [ 3  4  5  6]\n",
      " [ 4  5  6  7]\n",
      " [ 5  6  7  8]\n",
      " [ 6  7  8  9]\n",
      " [ 7  8  9 10]\n",
      " [ 8  9 10 11]\n",
      " [ 9 10 11 12]\n",
      " [10 11 12 13]\n",
      " [11 12 13 14]]\n"
     ]
    }
   ],
   "source": [
    "Z = np.arange(1,15,dtype=int)\n",
    "\n",
    "def rolling(a, window):\n",
    "    shape = (a.size - window + 1, window)\n",
    "    strides = (a.itemsize, a.itemsize)\n",
    "    \n",
    "# Create a view into the array with the given shape and strides.\n",
    "    return np.lib.stride_tricks.as_strided(a, shape=shape, strides=strides)\n",
    "R = rolling(Z, 4)\n",
    "print ('original: ')\n",
    "print (Z)\n",
    "print ('after strides: ')\n",
    "print(R)"
   ]
  },
  {
   "cell_type": "markdown",
   "id": "91cc751a",
   "metadata": {},
   "source": [
    "# Q12"
   ]
  },
  {
   "cell_type": "code",
   "execution_count": 29,
   "id": "10e7068d",
   "metadata": {},
   "outputs": [
    {
     "name": "stdout",
     "output_type": "stream",
     "text": [
      "[[0 0 0 0 0 0 0 0]\n",
      " [0 0 0 0 0 0 0 1]\n",
      " [0 0 0 0 0 0 1 0]\n",
      " [0 0 0 0 0 0 1 1]\n",
      " [0 0 0 0 1 1 1 1]\n",
      " [0 0 0 1 0 0 0 0]\n",
      " [0 0 1 0 0 0 0 0]\n",
      " [0 1 0 0 0 0 0 0]\n",
      " [1 0 0 0 0 0 0 0]]\n"
     ]
    }
   ],
   "source": [
    "I = np.array([0, 1, 2, 3, 15, 16, 32, 64, 128], dtype=np.uint8)\n",
    "\n",
    "# Unpacks elements of a uint8 array into a binary-valued output array\n",
    "print(np.unpackbits(I[:, np.newaxis], axis=1))"
   ]
  },
  {
   "cell_type": "markdown",
   "id": "036ffe3e",
   "metadata": {},
   "source": [
    "# Q13"
   ]
  },
  {
   "cell_type": "code",
   "execution_count": 30,
   "id": "9eea8b87",
   "metadata": {},
   "outputs": [],
   "source": [
    "# Create a data type object.\n",
    "color = np.dtype([(\"r\", np.ubyte),\n",
    "                  (\"g\", np.ubyte),\n",
    "                  (\"b\", np.ubyte),\n",
    "                  (\"a\", np.ubyte)])"
   ]
  },
  {
   "cell_type": "code",
   "execution_count": 31,
   "id": "ee20e991",
   "metadata": {},
   "outputs": [
    {
     "data": {
      "text/plain": [
       "dtype([('r', 'u1'), ('g', 'u1'), ('b', 'u1'), ('a', 'u1')])"
      ]
     },
     "execution_count": 31,
     "metadata": {},
     "output_type": "execute_result"
    }
   ],
   "source": [
    "color"
   ]
  },
  {
   "cell_type": "markdown",
   "id": "824a266d",
   "metadata": {},
   "source": [
    "# Q14"
   ]
  },
  {
   "cell_type": "code",
   "execution_count": 32,
   "id": "985f6852",
   "metadata": {},
   "outputs": [
    {
     "name": "stdout",
     "output_type": "stream",
     "text": [
      "Original array:\n",
      "[[ 3  1 44 22 12 32]\n",
      " [45 21 23 11 32 56]]\n",
      "Sort the array along the 1st axis:\n",
      "[[ 3  1 23 11 12 32]\n",
      " [45 21 44 22 32 56]]\n",
      "Sort the array along the last axis:\n",
      "[[ 1  3 12 22 32 44]\n",
      " [11 21 23 32 45 56]]\n",
      "Sort the flattened array:\n",
      "[ 1  3 11 12 21 22 23 32 32 44 45 56]\n"
     ]
    }
   ],
   "source": [
    "X = np.array([[3,1,44,22,12,32],[45,21,23,11,32,56]])\n",
    "print(\"Original array:\")\n",
    "print(X)\n",
    "print(\"Sort the array along the 1st axis:\")\n",
    "print(np.sort(X, axis=0))\n",
    "print(\"Sort the array along the last axis:\")\n",
    "print(np.sort(X))\n",
    "print(\"Sort the flattened array:\")\n",
    "print(np.sort(X, axis=None))"
   ]
  },
  {
   "cell_type": "markdown",
   "id": "0a50c1d8",
   "metadata": {},
   "source": [
    "# Q15"
   ]
  },
  {
   "cell_type": "code",
   "execution_count": 33,
   "id": "530d941a",
   "metadata": {},
   "outputs": [
    {
     "name": "stdout",
     "output_type": "stream",
     "text": [
      "[[100 110]\n",
      " [120 130]\n",
      " [140 150]\n",
      " [160 170]\n",
      " [180 190]]\n"
     ]
    }
   ],
   "source": [
    "# create a array of value between 100-200 with difference of 10\n",
    "X = np.arange(100, 200, 10)\n",
    "X = X.reshape(5,2)\n",
    "print (X)"
   ]
  },
  {
   "cell_type": "markdown",
   "id": "8e5bb8e9",
   "metadata": {},
   "source": [
    "# Exercise 1"
   ]
  },
  {
   "cell_type": "code",
   "execution_count": 34,
   "id": "fb69c98c",
   "metadata": {},
   "outputs": [
    {
     "data": {
      "text/plain": [
       "array([[ 80842, 333008, 202553, 140037,  81969],\n",
       "       [ 63857,  42105, 261540, 481981, 176739],\n",
       "       [489984, 326386, 110795, 394863,  25024],\n",
       "       [ 38317,  49982, 408830, 485118,  16119],\n",
       "       [407675, 231729, 265455, 109413, 103399],\n",
       "       [174677, 343356, 301717, 224120, 401101],\n",
       "       [140473, 254634, 112262,  25063, 108262],\n",
       "       [375059, 406983, 208947, 115641, 296685],\n",
       "       [444899, 129585, 171318, 313094, 425041],\n",
       "       [188411, 335140, 141681,  59641, 211420],\n",
       "       [287650,   8973, 477425, 382803, 465168],\n",
       "       [  3975,  32213, 160603, 275485, 388234],\n",
       "       [246225,  56174, 244097,   9350, 496966],\n",
       "       [225516, 273338,  73335, 283013, 212813],\n",
       "       [ 38175, 282399, 318413, 337639, 379802],\n",
       "       [198049, 101115, 419547, 260219, 325793],\n",
       "       [148593, 425024, 348570, 117968, 107007],\n",
       "       [ 52547, 180346, 178760, 305186, 262153],\n",
       "       [ 11835, 449971, 494184, 472031, 353049],\n",
       "       [476442,  35455, 191553, 384154,  29917]])"
      ]
     },
     "execution_count": 34,
     "metadata": {},
     "output_type": "execute_result"
    }
   ],
   "source": [
    "import numpy as np\n",
    "np.random.seed(21)\n",
    "random_integers = np.random.randint(1,high=500000,size=(20,5))\n",
    "random_integers"
   ]
  },
  {
   "cell_type": "markdown",
   "id": "69ec7e4b",
   "metadata": {},
   "source": [
    "# a"
   ]
  },
  {
   "cell_type": "code",
   "execution_count": 35,
   "id": "0d6cd4e8",
   "metadata": {},
   "outputs": [
    {
     "data": {
      "text/plain": [
       "214895.8"
      ]
     },
     "execution_count": 35,
     "metadata": {},
     "output_type": "execute_result"
    }
   ],
   "source": [
    "# average value of the second column\n",
    "round(random_integers[:,1].mean(axis=0),2)"
   ]
  },
  {
   "cell_type": "markdown",
   "id": "25e8bc4d",
   "metadata": {},
   "source": [
    "# b"
   ]
  },
  {
   "cell_type": "code",
   "execution_count": 36,
   "id": "1f0fbeb5",
   "metadata": {},
   "outputs": [
    {
     "data": {
      "text/plain": [
       "array([171295. , 371760.5, 252829. , 446974. , 187434. ])"
      ]
     },
     "execution_count": 36,
     "metadata": {},
     "output_type": "execute_result"
    }
   ],
   "source": [
    "# average value of the first 5 rows of the third and fourth columns\n",
    "random_integers[:5,[2,3]].mean(axis=1)"
   ]
  },
  {
   "cell_type": "markdown",
   "id": "6d81eb7d",
   "metadata": {},
   "source": [
    "# Exercise 2"
   ]
  },
  {
   "cell_type": "code",
   "execution_count": 37,
   "id": "65a84b8e",
   "metadata": {},
   "outputs": [],
   "source": [
    "url = 'https://archive.ics.uci.edu/ml/machine-learning-databases/iris/iris.data'\n",
    "iris = np.genfromtxt(url, delimiter=',', dtype='object')\n",
    "names = ('sepallength', 'sepalwidth', 'petallength', 'petalwidth', 'species')"
   ]
  },
  {
   "cell_type": "code",
   "execution_count": 38,
   "id": "e24a4218",
   "metadata": {},
   "outputs": [
    {
     "data": {
      "text/plain": [
       "array([b'Iris-setosa', b'Iris-setosa', b'Iris-setosa', b'Iris-setosa',\n",
       "       b'Iris-setosa', b'Iris-setosa', b'Iris-setosa', b'Iris-setosa',\n",
       "       b'Iris-setosa', b'Iris-setosa', b'Iris-setosa', b'Iris-setosa',\n",
       "       b'Iris-setosa', b'Iris-setosa', b'Iris-setosa', b'Iris-setosa',\n",
       "       b'Iris-setosa', b'Iris-setosa', b'Iris-setosa', b'Iris-setosa',\n",
       "       b'Iris-setosa', b'Iris-setosa', b'Iris-setosa', b'Iris-setosa',\n",
       "       b'Iris-setosa', b'Iris-setosa', b'Iris-setosa', b'Iris-setosa',\n",
       "       b'Iris-setosa', b'Iris-setosa', b'Iris-setosa', b'Iris-setosa',\n",
       "       b'Iris-setosa', b'Iris-setosa', b'Iris-setosa', b'Iris-setosa',\n",
       "       b'Iris-setosa', b'Iris-setosa', b'Iris-setosa', b'Iris-setosa',\n",
       "       b'Iris-setosa', b'Iris-setosa', b'Iris-setosa', b'Iris-setosa',\n",
       "       b'Iris-setosa', b'Iris-setosa', b'Iris-setosa', b'Iris-setosa',\n",
       "       b'Iris-setosa', b'Iris-setosa', b'Iris-versicolor',\n",
       "       b'Iris-versicolor', b'Iris-versicolor', b'Iris-versicolor',\n",
       "       b'Iris-versicolor', b'Iris-versicolor', b'Iris-versicolor',\n",
       "       b'Iris-versicolor', b'Iris-versicolor', b'Iris-versicolor',\n",
       "       b'Iris-versicolor', b'Iris-versicolor', b'Iris-versicolor',\n",
       "       b'Iris-versicolor', b'Iris-versicolor', b'Iris-versicolor',\n",
       "       b'Iris-versicolor', b'Iris-versicolor', b'Iris-versicolor',\n",
       "       b'Iris-versicolor', b'Iris-versicolor', b'Iris-versicolor',\n",
       "       b'Iris-versicolor', b'Iris-versicolor', b'Iris-versicolor',\n",
       "       b'Iris-versicolor', b'Iris-versicolor', b'Iris-versicolor',\n",
       "       b'Iris-versicolor', b'Iris-versicolor', b'Iris-versicolor',\n",
       "       b'Iris-versicolor', b'Iris-versicolor', b'Iris-versicolor',\n",
       "       b'Iris-versicolor', b'Iris-versicolor', b'Iris-versicolor',\n",
       "       b'Iris-versicolor', b'Iris-versicolor', b'Iris-versicolor',\n",
       "       b'Iris-versicolor', b'Iris-versicolor', b'Iris-versicolor',\n",
       "       b'Iris-versicolor', b'Iris-versicolor', b'Iris-versicolor',\n",
       "       b'Iris-versicolor', b'Iris-versicolor', b'Iris-versicolor',\n",
       "       b'Iris-versicolor', b'Iris-virginica', b'Iris-virginica',\n",
       "       b'Iris-virginica', b'Iris-virginica', b'Iris-virginica',\n",
       "       b'Iris-virginica', b'Iris-virginica', b'Iris-virginica',\n",
       "       b'Iris-virginica', b'Iris-virginica', b'Iris-virginica',\n",
       "       b'Iris-virginica', b'Iris-virginica', b'Iris-virginica',\n",
       "       b'Iris-virginica', b'Iris-virginica', b'Iris-virginica',\n",
       "       b'Iris-virginica', b'Iris-virginica', b'Iris-virginica',\n",
       "       b'Iris-virginica', b'Iris-virginica', b'Iris-virginica',\n",
       "       b'Iris-virginica', b'Iris-virginica', b'Iris-virginica',\n",
       "       b'Iris-virginica', b'Iris-virginica', b'Iris-virginica',\n",
       "       b'Iris-virginica', b'Iris-virginica', b'Iris-virginica',\n",
       "       b'Iris-virginica', b'Iris-virginica', b'Iris-virginica',\n",
       "       b'Iris-virginica', b'Iris-virginica', b'Iris-virginica',\n",
       "       b'Iris-virginica', b'Iris-virginica', b'Iris-virginica',\n",
       "       b'Iris-virginica', b'Iris-virginica', b'Iris-virginica',\n",
       "       b'Iris-virginica', b'Iris-virginica', b'Iris-virginica',\n",
       "       b'Iris-virginica', b'Iris-virginica', b'Iris-virginica'],\n",
       "      dtype=object)"
      ]
     },
     "execution_count": 38,
     "metadata": {},
     "output_type": "execute_result"
    }
   ],
   "source": [
    "# a\n",
    "iris[:,4]"
   ]
  },
  {
   "cell_type": "code",
   "execution_count": 39,
   "id": "dbeca04a",
   "metadata": {},
   "outputs": [
    {
     "data": {
      "text/plain": [
       "array([[b'5.1', b'3.5', b'1.4', b'0.2'],\n",
       "       [b'4.9', b'3.0', b'1.4', b'0.2'],\n",
       "       [b'4.7', b'3.2', b'1.3', b'0.2'],\n",
       "       [b'4.6', b'3.1', b'1.5', b'0.2'],\n",
       "       [b'5.0', b'3.6', b'1.4', b'0.2'],\n",
       "       [b'5.4', b'3.9', b'1.7', b'0.4'],\n",
       "       [b'4.6', b'3.4', b'1.4', b'0.3'],\n",
       "       [b'5.0', b'3.4', b'1.5', b'0.2'],\n",
       "       [b'4.4', b'2.9', b'1.4', b'0.2'],\n",
       "       [b'4.9', b'3.1', b'1.5', b'0.1'],\n",
       "       [b'5.4', b'3.7', b'1.5', b'0.2'],\n",
       "       [b'4.8', b'3.4', b'1.6', b'0.2'],\n",
       "       [b'4.8', b'3.0', b'1.4', b'0.1'],\n",
       "       [b'4.3', b'3.0', b'1.1', b'0.1'],\n",
       "       [b'5.8', b'4.0', b'1.2', b'0.2'],\n",
       "       [b'5.7', b'4.4', b'1.5', b'0.4'],\n",
       "       [b'5.4', b'3.9', b'1.3', b'0.4'],\n",
       "       [b'5.1', b'3.5', b'1.4', b'0.3'],\n",
       "       [b'5.7', b'3.8', b'1.7', b'0.3'],\n",
       "       [b'5.1', b'3.8', b'1.5', b'0.3'],\n",
       "       [b'5.4', b'3.4', b'1.7', b'0.2'],\n",
       "       [b'5.1', b'3.7', b'1.5', b'0.4'],\n",
       "       [b'4.6', b'3.6', b'1.0', b'0.2'],\n",
       "       [b'5.1', b'3.3', b'1.7', b'0.5'],\n",
       "       [b'4.8', b'3.4', b'1.9', b'0.2'],\n",
       "       [b'5.0', b'3.0', b'1.6', b'0.2'],\n",
       "       [b'5.0', b'3.4', b'1.6', b'0.4'],\n",
       "       [b'5.2', b'3.5', b'1.5', b'0.2'],\n",
       "       [b'5.2', b'3.4', b'1.4', b'0.2'],\n",
       "       [b'4.7', b'3.2', b'1.6', b'0.2'],\n",
       "       [b'4.8', b'3.1', b'1.6', b'0.2'],\n",
       "       [b'5.4', b'3.4', b'1.5', b'0.4'],\n",
       "       [b'5.2', b'4.1', b'1.5', b'0.1'],\n",
       "       [b'5.5', b'4.2', b'1.4', b'0.2'],\n",
       "       [b'4.9', b'3.1', b'1.5', b'0.1'],\n",
       "       [b'5.0', b'3.2', b'1.2', b'0.2'],\n",
       "       [b'5.5', b'3.5', b'1.3', b'0.2'],\n",
       "       [b'4.9', b'3.1', b'1.5', b'0.1'],\n",
       "       [b'4.4', b'3.0', b'1.3', b'0.2'],\n",
       "       [b'5.1', b'3.4', b'1.5', b'0.2'],\n",
       "       [b'5.0', b'3.5', b'1.3', b'0.3'],\n",
       "       [b'4.5', b'2.3', b'1.3', b'0.3'],\n",
       "       [b'4.4', b'3.2', b'1.3', b'0.2'],\n",
       "       [b'5.0', b'3.5', b'1.6', b'0.6'],\n",
       "       [b'5.1', b'3.8', b'1.9', b'0.4'],\n",
       "       [b'4.8', b'3.0', b'1.4', b'0.3'],\n",
       "       [b'5.1', b'3.8', b'1.6', b'0.2'],\n",
       "       [b'4.6', b'3.2', b'1.4', b'0.2'],\n",
       "       [b'5.3', b'3.7', b'1.5', b'0.2'],\n",
       "       [b'5.0', b'3.3', b'1.4', b'0.2'],\n",
       "       [b'7.0', b'3.2', b'4.7', b'1.4'],\n",
       "       [b'6.4', b'3.2', b'4.5', b'1.5'],\n",
       "       [b'6.9', b'3.1', b'4.9', b'1.5'],\n",
       "       [b'5.5', b'2.3', b'4.0', b'1.3'],\n",
       "       [b'6.5', b'2.8', b'4.6', b'1.5'],\n",
       "       [b'5.7', b'2.8', b'4.5', b'1.3'],\n",
       "       [b'6.3', b'3.3', b'4.7', b'1.6'],\n",
       "       [b'4.9', b'2.4', b'3.3', b'1.0'],\n",
       "       [b'6.6', b'2.9', b'4.6', b'1.3'],\n",
       "       [b'5.2', b'2.7', b'3.9', b'1.4'],\n",
       "       [b'5.0', b'2.0', b'3.5', b'1.0'],\n",
       "       [b'5.9', b'3.0', b'4.2', b'1.5'],\n",
       "       [b'6.0', b'2.2', b'4.0', b'1.0'],\n",
       "       [b'6.1', b'2.9', b'4.7', b'1.4'],\n",
       "       [b'5.6', b'2.9', b'3.6', b'1.3'],\n",
       "       [b'6.7', b'3.1', b'4.4', b'1.4'],\n",
       "       [b'5.6', b'3.0', b'4.5', b'1.5'],\n",
       "       [b'5.8', b'2.7', b'4.1', b'1.0'],\n",
       "       [b'6.2', b'2.2', b'4.5', b'1.5'],\n",
       "       [b'5.6', b'2.5', b'3.9', b'1.1'],\n",
       "       [b'5.9', b'3.2', b'4.8', b'1.8'],\n",
       "       [b'6.1', b'2.8', b'4.0', b'1.3'],\n",
       "       [b'6.3', b'2.5', b'4.9', b'1.5'],\n",
       "       [b'6.1', b'2.8', b'4.7', b'1.2'],\n",
       "       [b'6.4', b'2.9', b'4.3', b'1.3'],\n",
       "       [b'6.6', b'3.0', b'4.4', b'1.4'],\n",
       "       [b'6.8', b'2.8', b'4.8', b'1.4'],\n",
       "       [b'6.7', b'3.0', b'5.0', b'1.7'],\n",
       "       [b'6.0', b'2.9', b'4.5', b'1.5'],\n",
       "       [b'5.7', b'2.6', b'3.5', b'1.0'],\n",
       "       [b'5.5', b'2.4', b'3.8', b'1.1'],\n",
       "       [b'5.5', b'2.4', b'3.7', b'1.0'],\n",
       "       [b'5.8', b'2.7', b'3.9', b'1.2'],\n",
       "       [b'6.0', b'2.7', b'5.1', b'1.6'],\n",
       "       [b'5.4', b'3.0', b'4.5', b'1.5'],\n",
       "       [b'6.0', b'3.4', b'4.5', b'1.6'],\n",
       "       [b'6.7', b'3.1', b'4.7', b'1.5'],\n",
       "       [b'6.3', b'2.3', b'4.4', b'1.3'],\n",
       "       [b'5.6', b'3.0', b'4.1', b'1.3'],\n",
       "       [b'5.5', b'2.5', b'4.0', b'1.3'],\n",
       "       [b'5.5', b'2.6', b'4.4', b'1.2'],\n",
       "       [b'6.1', b'3.0', b'4.6', b'1.4'],\n",
       "       [b'5.8', b'2.6', b'4.0', b'1.2'],\n",
       "       [b'5.0', b'2.3', b'3.3', b'1.0'],\n",
       "       [b'5.6', b'2.7', b'4.2', b'1.3'],\n",
       "       [b'5.7', b'3.0', b'4.2', b'1.2'],\n",
       "       [b'5.7', b'2.9', b'4.2', b'1.3'],\n",
       "       [b'6.2', b'2.9', b'4.3', b'1.3'],\n",
       "       [b'5.1', b'2.5', b'3.0', b'1.1'],\n",
       "       [b'5.7', b'2.8', b'4.1', b'1.3'],\n",
       "       [b'6.3', b'3.3', b'6.0', b'2.5'],\n",
       "       [b'5.8', b'2.7', b'5.1', b'1.9'],\n",
       "       [b'7.1', b'3.0', b'5.9', b'2.1'],\n",
       "       [b'6.3', b'2.9', b'5.6', b'1.8'],\n",
       "       [b'6.5', b'3.0', b'5.8', b'2.2'],\n",
       "       [b'7.6', b'3.0', b'6.6', b'2.1'],\n",
       "       [b'4.9', b'2.5', b'4.5', b'1.7'],\n",
       "       [b'7.3', b'2.9', b'6.3', b'1.8'],\n",
       "       [b'6.7', b'2.5', b'5.8', b'1.8'],\n",
       "       [b'7.2', b'3.6', b'6.1', b'2.5'],\n",
       "       [b'6.5', b'3.2', b'5.1', b'2.0'],\n",
       "       [b'6.4', b'2.7', b'5.3', b'1.9'],\n",
       "       [b'6.8', b'3.0', b'5.5', b'2.1'],\n",
       "       [b'5.7', b'2.5', b'5.0', b'2.0'],\n",
       "       [b'5.8', b'2.8', b'5.1', b'2.4'],\n",
       "       [b'6.4', b'3.2', b'5.3', b'2.3'],\n",
       "       [b'6.5', b'3.0', b'5.5', b'1.8'],\n",
       "       [b'7.7', b'3.8', b'6.7', b'2.2'],\n",
       "       [b'7.7', b'2.6', b'6.9', b'2.3'],\n",
       "       [b'6.0', b'2.2', b'5.0', b'1.5'],\n",
       "       [b'6.9', b'3.2', b'5.7', b'2.3'],\n",
       "       [b'5.6', b'2.8', b'4.9', b'2.0'],\n",
       "       [b'7.7', b'2.8', b'6.7', b'2.0'],\n",
       "       [b'6.3', b'2.7', b'4.9', b'1.8'],\n",
       "       [b'6.7', b'3.3', b'5.7', b'2.1'],\n",
       "       [b'7.2', b'3.2', b'6.0', b'1.8'],\n",
       "       [b'6.2', b'2.8', b'4.8', b'1.8'],\n",
       "       [b'6.1', b'3.0', b'4.9', b'1.8'],\n",
       "       [b'6.4', b'2.8', b'5.6', b'2.1'],\n",
       "       [b'7.2', b'3.0', b'5.8', b'1.6'],\n",
       "       [b'7.4', b'2.8', b'6.1', b'1.9'],\n",
       "       [b'7.9', b'3.8', b'6.4', b'2.0'],\n",
       "       [b'6.4', b'2.8', b'5.6', b'2.2'],\n",
       "       [b'6.3', b'2.8', b'5.1', b'1.5'],\n",
       "       [b'6.1', b'2.6', b'5.6', b'1.4'],\n",
       "       [b'7.7', b'3.0', b'6.1', b'2.3'],\n",
       "       [b'6.3', b'3.4', b'5.6', b'2.4'],\n",
       "       [b'6.4', b'3.1', b'5.5', b'1.8'],\n",
       "       [b'6.0', b'3.0', b'4.8', b'1.8'],\n",
       "       [b'6.9', b'3.1', b'5.4', b'2.1'],\n",
       "       [b'6.7', b'3.1', b'5.6', b'2.4'],\n",
       "       [b'6.9', b'3.1', b'5.1', b'2.3'],\n",
       "       [b'5.8', b'2.7', b'5.1', b'1.9'],\n",
       "       [b'6.8', b'3.2', b'5.9', b'2.3'],\n",
       "       [b'6.7', b'3.3', b'5.7', b'2.5'],\n",
       "       [b'6.7', b'3.0', b'5.2', b'2.3'],\n",
       "       [b'6.3', b'2.5', b'5.0', b'1.9'],\n",
       "       [b'6.5', b'3.0', b'5.2', b'2.0'],\n",
       "       [b'6.2', b'3.4', b'5.4', b'2.3'],\n",
       "       [b'5.9', b'3.0', b'5.1', b'1.8']], dtype=object)"
      ]
     },
     "execution_count": 39,
     "metadata": {},
     "output_type": "execute_result"
    }
   ],
   "source": [
    "# b\n",
    "\n",
    "# skip the last column\n",
    "iris_2d = iris[:,:-1]\n",
    "iris_2d"
   ]
  },
  {
   "cell_type": "code",
   "execution_count": 40,
   "id": "96a0df25",
   "metadata": {},
   "outputs": [
    {
     "name": "stdout",
     "output_type": "stream",
     "text": [
      "mean 5.843333333333334\n",
      "median 5.8\n",
      "std: 0.8253012917851409\n"
     ]
    }
   ],
   "source": [
    "#c\n",
    "sepallength = iris_2d[:,0]\n",
    "\n",
    "# conver byte like string to float\n",
    "sepallength = np.array([float(i.decode()) for i in sepallength])\n",
    "sepallength\n",
    "\n",
    "# mean, median, standard deviation\n",
    "print('mean',np.mean(sepallength))\n",
    "print('median',np.median(sepallength))\n",
    "print('std:',np.std(sepallength))"
   ]
  },
  {
   "cell_type": "code",
   "execution_count": 41,
   "id": "199e32c1",
   "metadata": {},
   "outputs": [
    {
     "data": {
      "text/plain": [
       "array([0.22222222, 0.16666667, 0.11111111, 0.08333333, 0.19444444,\n",
       "       0.30555556, 0.08333333, 0.19444444, 0.02777778, 0.16666667,\n",
       "       0.30555556, 0.13888889, 0.13888889, 0.        , 0.41666667,\n",
       "       0.38888889, 0.30555556, 0.22222222, 0.38888889, 0.22222222,\n",
       "       0.30555556, 0.22222222, 0.08333333, 0.22222222, 0.13888889,\n",
       "       0.19444444, 0.19444444, 0.25      , 0.25      , 0.11111111,\n",
       "       0.13888889, 0.30555556, 0.25      , 0.33333333, 0.16666667,\n",
       "       0.19444444, 0.33333333, 0.16666667, 0.02777778, 0.22222222,\n",
       "       0.19444444, 0.05555556, 0.02777778, 0.19444444, 0.22222222,\n",
       "       0.13888889, 0.22222222, 0.08333333, 0.27777778, 0.19444444,\n",
       "       0.75      , 0.58333333, 0.72222222, 0.33333333, 0.61111111,\n",
       "       0.38888889, 0.55555556, 0.16666667, 0.63888889, 0.25      ,\n",
       "       0.19444444, 0.44444444, 0.47222222, 0.5       , 0.36111111,\n",
       "       0.66666667, 0.36111111, 0.41666667, 0.52777778, 0.36111111,\n",
       "       0.44444444, 0.5       , 0.55555556, 0.5       , 0.58333333,\n",
       "       0.63888889, 0.69444444, 0.66666667, 0.47222222, 0.38888889,\n",
       "       0.33333333, 0.33333333, 0.41666667, 0.47222222, 0.30555556,\n",
       "       0.47222222, 0.66666667, 0.55555556, 0.36111111, 0.33333333,\n",
       "       0.33333333, 0.5       , 0.41666667, 0.19444444, 0.36111111,\n",
       "       0.38888889, 0.38888889, 0.52777778, 0.22222222, 0.38888889,\n",
       "       0.55555556, 0.41666667, 0.77777778, 0.55555556, 0.61111111,\n",
       "       0.91666667, 0.16666667, 0.83333333, 0.66666667, 0.80555556,\n",
       "       0.61111111, 0.58333333, 0.69444444, 0.38888889, 0.41666667,\n",
       "       0.58333333, 0.61111111, 0.94444444, 0.94444444, 0.47222222,\n",
       "       0.72222222, 0.36111111, 0.94444444, 0.55555556, 0.66666667,\n",
       "       0.80555556, 0.52777778, 0.5       , 0.58333333, 0.80555556,\n",
       "       0.86111111, 1.        , 0.58333333, 0.55555556, 0.5       ,\n",
       "       0.94444444, 0.55555556, 0.58333333, 0.47222222, 0.72222222,\n",
       "       0.66666667, 0.72222222, 0.41666667, 0.69444444, 0.66666667,\n",
       "       0.66666667, 0.55555556, 0.61111111, 0.52777778, 0.44444444])"
      ]
     },
     "execution_count": 41,
     "metadata": {},
     "output_type": "execute_result"
    }
   ],
   "source": [
    "#d\n",
    "\n",
    "# normalized form  (x-xmin)/(xmax-xmin)\n",
    "sepallength_norm = (sepallength - sepallength.min())/(sepallength.max()-sepallength.min())\n",
    "sepallength_norm"
   ]
  },
  {
   "cell_type": "code",
   "execution_count": 42,
   "id": "49c5fe30",
   "metadata": {},
   "outputs": [
    {
     "data": {
      "text/plain": [
       "array([4.6  , 7.255])"
      ]
     },
     "execution_count": 42,
     "metadata": {},
     "output_type": "execute_result"
    }
   ],
   "source": [
    "# e\n",
    "\n",
    "# 5th and 95th percentile\n",
    "np.percentile(sepallength, q=[5, 95])"
   ]
  },
  {
   "cell_type": "markdown",
   "id": "9e0f0883",
   "metadata": {},
   "source": [
    "#  Exercise 3"
   ]
  },
  {
   "cell_type": "code",
   "execution_count": 43,
   "id": "30996292",
   "metadata": {},
   "outputs": [],
   "source": [
    "Programming_languages = ['Java', 'Python', 'PHP', 'JavaScript', 'C#', 'C++']\n",
    "Popularity =[22.2, 17.6, 8.8, 8, 7.7, 6.7]"
   ]
  },
  {
   "cell_type": "code",
   "execution_count": 44,
   "id": "f505b81b",
   "metadata": {},
   "outputs": [],
   "source": [
    "import matplotlib.pyplot as plt"
   ]
  },
  {
   "cell_type": "code",
   "execution_count": 45,
   "id": "f8e7c73e",
   "metadata": {},
   "outputs": [
    {
     "data": {
      "image/png": "[encoded data removed]",
      "text/plain": [
       "<Figure size 640x480 with 1 Axes>"
      ]
     },
     "metadata": {},
     "output_type": "display_data"
    }
   ],
   "source": [
    "# bar chart\n",
    "plt.bar(Programming_languages,Popularity)\n",
    "plt.show()"
   ]
  },
  {
   "cell_type": "code",
   "execution_count": 46,
   "id": "0fc00bff",
   "metadata": {},
   "outputs": [
    {
     "data": {
      "image/png": "[encoded data removed]",
      "text/plain": [
       "<Figure size 640x480 with 1 Axes>"
      ]
     },
     "metadata": {},
     "output_type": "display_data"
    }
   ],
   "source": [
    "# pie chart\n",
    "plt.pie(Popularity,labels=Programming_languages)\n",
    "plt.show()"
   ]
  },
  {
   "cell_type": "markdown",
   "id": "7955be99",
   "metadata": {},
   "source": [
    "# Exercise 4"
   ]
  },
  {
   "cell_type": "code",
   "execution_count": 47,
   "id": "73c928aa",
   "metadata": {},
   "outputs": [],
   "source": [
    "Means_men = (22, 30, 35, 35, 26)\n",
    "Means_women = (25, 32, 30, 35, 29)\n",
    "Men_std = (4, 3, 4, 1, 5)\n",
    "Women_std = (3, 5, 2, 3, 3)\n",
    "\n",
    "x = ['Group1', 'Group2', 'Group3', 'Group4','Group5']"
   ]
  },
  {
   "cell_type": "code",
   "execution_count": 48,
   "id": "8b367e0a",
   "metadata": {},
   "outputs": [
    {
     "data": {
      "image/png": "[encoded data removed]",
      "text/plain": [
       "<Figure size 640x480 with 1 Axes>"
      ]
     },
     "metadata": {},
     "output_type": "display_data"
    }
   ],
   "source": [
    "# plot bars for men\n",
    "plt.bar(x, Means_men, color='red',yerr=Men_std,align='center', ecolor='blue', capsize=3,label='Men')\n",
    "\n",
    "# plot bar for women\n",
    "plt.bar(x, Means_women, bottom=Means_men, color='green',yerr=Women_std,align='center', ecolor='blue', capsize=3,label='Women')\n",
    "# add other properties\n",
    "plt.legend(loc='upper right')\n",
    "plt.xlabel('Groups')\n",
    "plt.title('Scores by Group and Gender')\n",
    "plt.ylabel('Scores')\n",
    "plt.show()"
   ]
  }
 ],
 "metadata": {
  "kernelspec": {
   "display_name": "Python 3 (ipykernel)",
   "language": "python",
   "name": "python3"
  },
  "language_info": {
   "codemirror_mode": {
    "name": "ipython",
    "version": 3
   },
   "file_extension": ".py",
   "mimetype": "text/x-python",
   "name": "python",
   "nbconvert_exporter": "python",
   "pygments_lexer": "ipython3",
   "version": "3.9.15"
  }
 },
 "nbformat": 4,
 "nbformat_minor": 5
}
