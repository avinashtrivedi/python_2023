{
 "cells": [
  {
   "cell_type": "markdown",
   "id": "58bf90c8",
   "metadata": {},
   "source": [
    "# Q1.a"
   ]
  },
  {
   "cell_type": "code",
   "execution_count": 1,
   "id": "63ec2524",
   "metadata": {},
   "outputs": [],
   "source": [
    "# define list of books\n",
    "library_books = [\n",
    "    ('001', \"Who will cry when you die\", \"Robin singh\", 1960),\n",
    "    ('002', \"1984\", \"George Orwell\", 1949),\n",
    "    ('003', \"Pride and Prejudice\", \"Jane Austen\", 1813),\n",
    "    ('004', \"Rich dad poor dad\", \"Robert k\", 1925),\n",
    "    ('005', \"Brave New World\", \"Aldous Huxley\", 1932),\n",
    "    ('006', \"The Alchemist\", \"Paulo Coelho\", 1951),\n",
    "    ('007', \"Moby-Dick\", \"Herman Melville\", 1851),\n",
    "    ('008', \"War and Peace\", \"Leo Tolstoy\", 1869),\n",
    "    ('009', \"Atomic Habits\", \"James Clear\", 1954),\n",
    "    ('010', \"Thinking Fast and Slow\", \"Daniel\", 2008)\n",
    "]"
   ]
  },
  {
   "cell_type": "markdown",
   "id": "d0dc66a3",
   "metadata": {},
   "source": [
    "# Q1.b"
   ]
  },
  {
   "cell_type": "code",
   "execution_count": 2,
   "id": "c30eafe3",
   "metadata": {},
   "outputs": [],
   "source": [
    "def display_books(library_books):\n",
    "    \"\"\"\n",
    "    function to display books details.\n",
    "    \"\"\"\n",
    "    # iterate through each book\n",
    "    for bookID, title, author, year in library_books:\n",
    "        \n",
    "        # print the book details\n",
    "        print(f\"ID:  {bookID}\")\n",
    "        print(f\"Title:  {title}\")\n",
    "        print(f\"Authors:  {author}\")\n",
    "        print(f\"Year:  {year}\")\n",
    "        \n",
    "        # print 20 '*' symbol\n",
    "        print('*'*20)"
   ]
  },
  {
   "cell_type": "code",
   "execution_count": 3,
   "id": "9f80a2da",
   "metadata": {},
   "outputs": [
    {
     "name": "stdout",
     "output_type": "stream",
     "text": [
      "ID:  001\n",
      "Title:  Who will cry when you die\n",
      "Authors:  Robin singh\n",
      "Year:  1960\n",
      "********************\n",
      "ID:  002\n",
      "Title:  1984\n",
      "Authors:  George Orwell\n",
      "Year:  1949\n",
      "********************\n",
      "ID:  003\n",
      "Title:  Pride and Prejudice\n",
      "Authors:  Jane Austen\n",
      "Year:  1813\n",
      "********************\n",
      "ID:  004\n",
      "Title:  Rich dad poor dad\n",
      "Authors:  Robert k\n",
      "Year:  1925\n",
      "********************\n",
      "ID:  005\n",
      "Title:  Brave New World\n",
      "Authors:  Aldous Huxley\n",
      "Year:  1932\n",
      "********************\n",
      "ID:  006\n",
      "Title:  The Alchemist\n",
      "Authors:  Paulo Coelho\n",
      "Year:  1951\n",
      "********************\n",
      "ID:  007\n",
      "Title:  Moby-Dick\n",
      "Authors:  Herman Melville\n",
      "Year:  1851\n",
      "********************\n",
      "ID:  008\n",
      "Title:  War and Peace\n",
      "Authors:  Leo Tolstoy\n",
      "Year:  1869\n",
      "********************\n",
      "ID:  009\n",
      "Title:  Atomic Habits\n",
      "Authors:  James Clear\n",
      "Year:  1954\n",
      "********************\n",
      "ID:  010\n",
      "Title:  Thinking Fast and Slow\n",
      "Authors:  Daniel\n",
      "Year:  2008\n",
      "********************\n"
     ]
    }
   ],
   "source": [
    "# test case\n",
    "display_books(library_books)"
   ]
  },
  {
   "cell_type": "markdown",
   "id": "722c83cd",
   "metadata": {},
   "source": [
    "# Q2"
   ]
  },
  {
   "cell_type": "code",
   "execution_count": 4,
   "id": "f0e2d2bf",
   "metadata": {},
   "outputs": [],
   "source": [
    "# Define variables to store borrowed books, requested books and book wise borrowed counts\n",
    "borrowed_books = []\n",
    "requested_books = []\n",
    "borrowed_counts = {}\n",
    "def borrow_book(bookID):\n",
    "    \n",
    "    # make the variable global so as to change globally\n",
    "    global library_books, borrowed_books, requested_books\n",
    "    book_found = False\n",
    "\n",
    "    # iterate through library books\n",
    "    for book_entry in library_books:\n",
    "        book = book_entry[0]\n",
    "        # find the book we are trying to borrow using book id\n",
    "        if book == bookID:\n",
    "            \n",
    "            # once corresponding book is found, remove it from library_books list\n",
    "            library_books.remove(book_entry)\n",
    "            \n",
    "            # add to borrowed_books\n",
    "            borrowed_books.append(book_entry)\n",
    "            \n",
    "            # also increase borrowed_counts by 1 As parrt of Q3\n",
    "            if bookID in borrowed_counts:\n",
    "                borrowed_counts[bookID] = borrowed_counts[bookID] + 1\n",
    "            else:\n",
    "                borrowed_counts[bookID] = 1\n",
    "            \n",
    "            # print message\n",
    "            print(f\"The book with the ID {bookID} is successfully loaned to you now.\")\n",
    "            \n",
    "            # make book_found as True i.e requested book was available and loaned.\n",
    "            book_found = True\n",
    "            \n",
    "            # break from this loop\n",
    "            break\n",
    "\n",
    "    # now check if requested book is already borrowed by anyone.\n",
    "    if book_found==False:\n",
    "        \n",
    "        # iterate through the books\n",
    "        for book_entry in borrowed_books:\n",
    "            book = book_entry[0]\n",
    "            # check for book match based on book id\n",
    "            if book == bookID:\n",
    "                print(f\"The book with the ID {bookID} is not available right now. However, we have requested it for you.\")\n",
    "                \n",
    "                # Since book was already given to someone. Now, add the book request to requested_books list\n",
    "                requested_books.append(bookID)\n",
    "                \n",
    "                # Making this as True , since it was found in borrowed list borrowed_books\n",
    "                book_found = True\n",
    "                \n",
    "                # break from here\n",
    "                break\n",
    "\n",
    "    # if book was neither in library_books nor in borrowed_books\n",
    "    if book_found==False:\n",
    "        print(f\"The book with the ID {bookID} is unfortunately not available in the system. Please re-check the ID.\")"
   ]
  },
  {
   "cell_type": "code",
   "execution_count": 5,
   "id": "0ea666e3",
   "metadata": {},
   "outputs": [
    {
     "name": "stdout",
     "output_type": "stream",
     "text": [
      "The book with the ID 001 is successfully loaned to you now.\n"
     ]
    }
   ],
   "source": [
    "borrow_book(\"001\")"
   ]
  },
  {
   "cell_type": "code",
   "execution_count": 6,
   "id": "23b550f2",
   "metadata": {},
   "outputs": [
    {
     "name": "stdout",
     "output_type": "stream",
     "text": [
      "The book with the ID 003 is successfully loaned to you now.\n"
     ]
    }
   ],
   "source": [
    "borrow_book(\"003\")"
   ]
  },
  {
   "cell_type": "code",
   "execution_count": 7,
   "id": "10b9e8d0",
   "metadata": {},
   "outputs": [
    {
     "name": "stdout",
     "output_type": "stream",
     "text": [
      "The book with the ID 001 is not available right now. However, we have requested it for you.\n"
     ]
    }
   ],
   "source": [
    "borrow_book(\"001\")"
   ]
  },
  {
   "cell_type": "code",
   "execution_count": 8,
   "id": "4891f897",
   "metadata": {},
   "outputs": [
    {
     "data": {
      "text/plain": [
       "['001']"
      ]
     },
     "execution_count": 8,
     "metadata": {},
     "output_type": "execute_result"
    }
   ],
   "source": [
    "requested_books"
   ]
  },
  {
   "cell_type": "code",
   "execution_count": 9,
   "id": "40881188",
   "metadata": {},
   "outputs": [
    {
     "name": "stdout",
     "output_type": "stream",
     "text": [
      "The book with the ID 0014 is unfortunately not available in the system. Please re-check the ID.\n"
     ]
    }
   ],
   "source": [
    "borrow_book(\"0014\")"
   ]
  },
  {
   "cell_type": "code",
   "execution_count": 10,
   "id": "84e4708a",
   "metadata": {},
   "outputs": [
    {
     "data": {
      "text/plain": [
       "[('002', '1984', 'George Orwell', 1949),\n",
       " ('004', 'Rich dad poor dad', 'Robert k', 1925),\n",
       " ('005', 'Brave New World', 'Aldous Huxley', 1932),\n",
       " ('006', 'The Alchemist', 'Paulo Coelho', 1951),\n",
       " ('007', 'Moby-Dick', 'Herman Melville', 1851),\n",
       " ('008', 'War and Peace', 'Leo Tolstoy', 1869),\n",
       " ('009', 'Atomic Habits', 'James Clear', 1954),\n",
       " ('010', 'Thinking Fast and Slow', 'Daniel', 2008)]"
      ]
     },
     "execution_count": 10,
     "metadata": {},
     "output_type": "execute_result"
    }
   ],
   "source": [
    "library_books"
   ]
  },
  {
   "cell_type": "markdown",
   "id": "997f7071",
   "metadata": {},
   "source": [
    "# Q3"
   ]
  },
  {
   "cell_type": "code",
   "execution_count": 11,
   "id": "2872e199",
   "metadata": {},
   "outputs": [],
   "source": [
    "def return_book(bookID):\n",
    "    # These are global variable, not a local one.\n",
    "    global library_books, borrowed_books, requested_books, borrowed_counts\n",
    "\n",
    "    # iterate through books\n",
    "    for i in range(len(borrowed_books)):\n",
    "        \n",
    "        # get the book by index position\n",
    "        book_entry = borrowed_books[i]\n",
    "        book = book_entry[0]\n",
    "        # check for book match based on book id\n",
    "        if book == bookID:\n",
    "            \n",
    "            # once book is matched, remove it from borrowed_books list\n",
    "            borrowed_books.pop(i)\n",
    "            \n",
    "            # also if book is in requested list, remove from there\n",
    "            if bookID in requested_books:\n",
    "                requested_books.remove(bookID)\n",
    "                \n",
    "            # finally append the returned book in library_books list\n",
    "            library_books.append(book_entry)\n",
    "            \n",
    "            # print the message\n",
    "            print(f\"The book with the ID {bookID} is successfully returned.\")\n",
    "            return \n",
    "        \n",
    "    # if book dones not exist in borrowed_books list, print this message\n",
    "    print(f\"The book with the ID {bookID} cannot be returned. Please re-check the ID.\")"
   ]
  },
  {
   "cell_type": "code",
   "execution_count": 12,
   "id": "fca53652",
   "metadata": {},
   "outputs": [
    {
     "data": {
      "text/plain": [
       "[('001', 'Who will cry when you die', 'Robin singh', 1960),\n",
       " ('003', 'Pride and Prejudice', 'Jane Austen', 1813)]"
      ]
     },
     "execution_count": 12,
     "metadata": {},
     "output_type": "execute_result"
    }
   ],
   "source": [
    "# check for borrowed books\n",
    "borrowed_books"
   ]
  },
  {
   "cell_type": "code",
   "execution_count": 13,
   "id": "693870a4",
   "metadata": {},
   "outputs": [
    {
     "data": {
      "text/plain": [
       "[('002', '1984', 'George Orwell', 1949),\n",
       " ('004', 'Rich dad poor dad', 'Robert k', 1925),\n",
       " ('005', 'Brave New World', 'Aldous Huxley', 1932),\n",
       " ('006', 'The Alchemist', 'Paulo Coelho', 1951),\n",
       " ('007', 'Moby-Dick', 'Herman Melville', 1851),\n",
       " ('008', 'War and Peace', 'Leo Tolstoy', 1869),\n",
       " ('009', 'Atomic Habits', 'James Clear', 1954),\n",
       " ('010', 'Thinking Fast and Slow', 'Daniel', 2008)]"
      ]
     },
     "execution_count": 13,
     "metadata": {},
     "output_type": "execute_result"
    }
   ],
   "source": [
    "# check for available library books\n",
    "library_books"
   ]
  },
  {
   "cell_type": "code",
   "execution_count": 14,
   "id": "2971d316",
   "metadata": {},
   "outputs": [
    {
     "data": {
      "text/plain": [
       "['001']"
      ]
     },
     "execution_count": 14,
     "metadata": {},
     "output_type": "execute_result"
    }
   ],
   "source": [
    "# check for books requested but already borrowed by someone\n",
    "requested_books"
   ]
  },
  {
   "cell_type": "code",
   "execution_count": 15,
   "id": "a514d1b2",
   "metadata": {},
   "outputs": [
    {
     "data": {
      "text/plain": [
       "{'001': 1, '003': 1}"
      ]
     },
     "execution_count": 15,
     "metadata": {},
     "output_type": "execute_result"
    }
   ],
   "source": [
    "# book wise borrow counts\n",
    "borrowed_counts"
   ]
  },
  {
   "cell_type": "code",
   "execution_count": 16,
   "id": "70e900bc",
   "metadata": {},
   "outputs": [
    {
     "name": "stdout",
     "output_type": "stream",
     "text": [
      "The book with the ID 001 is successfully returned.\n"
     ]
    }
   ],
   "source": [
    "# return a valid book \n",
    "return_book(\"001\")"
   ]
  },
  {
   "cell_type": "code",
   "execution_count": 17,
   "id": "241a98bf",
   "metadata": {},
   "outputs": [
    {
     "name": "stdout",
     "output_type": "stream",
     "text": [
      "The book with the ID 001 is successfully loaned to you now.\n"
     ]
    }
   ],
   "source": [
    "# Again loan a book with ID 001\n",
    "borrow_book(\"001\")"
   ]
  },
  {
   "cell_type": "code",
   "execution_count": 18,
   "id": "0d5894ab",
   "metadata": {},
   "outputs": [
    {
     "data": {
      "text/plain": [
       "{'001': 2, '003': 1}"
      ]
     },
     "execution_count": 18,
     "metadata": {},
     "output_type": "execute_result"
    }
   ],
   "source": [
    "# check book wise borrow counts\n",
    "borrowed_counts"
   ]
  },
  {
   "cell_type": "code",
   "execution_count": 19,
   "id": "d16201eb",
   "metadata": {},
   "outputs": [
    {
     "name": "stdout",
     "output_type": "stream",
     "text": [
      "The book with the ID 0011 cannot be returned. Please re-check the ID.\n"
     ]
    }
   ],
   "source": [
    "# return a book that does not exist in the borrowed_books \n",
    "return_book(\"0011\")"
   ]
  },
  {
   "cell_type": "code",
   "execution_count": 20,
   "id": "4fdf4cd7",
   "metadata": {},
   "outputs": [
    {
     "data": {
      "text/plain": [
       "[('002', '1984', 'George Orwell', 1949),\n",
       " ('004', 'Rich dad poor dad', 'Robert k', 1925),\n",
       " ('005', 'Brave New World', 'Aldous Huxley', 1932),\n",
       " ('006', 'The Alchemist', 'Paulo Coelho', 1951),\n",
       " ('007', 'Moby-Dick', 'Herman Melville', 1851),\n",
       " ('008', 'War and Peace', 'Leo Tolstoy', 1869),\n",
       " ('009', 'Atomic Habits', 'James Clear', 1954),\n",
       " ('010', 'Thinking Fast and Slow', 'Daniel', 2008)]"
      ]
     },
     "execution_count": 20,
     "metadata": {},
     "output_type": "execute_result"
    }
   ],
   "source": [
    "# Finally check for available library books\n",
    "library_books"
   ]
  }
 ],
 "metadata": {
  "kernelspec": {
   "display_name": "Python (myNEWenv)",
   "language": "python",
   "name": "mynewenv"
  },
  "language_info": {
   "codemirror_mode": {
    "name": "ipython",
    "version": 3
   },
   "file_extension": ".py",
   "mimetype": "text/x-python",
   "name": "python",
   "nbconvert_exporter": "python",
   "pygments_lexer": "ipython3",
   "version": "3.10.12"
  }
 },
 "nbformat": 4,
 "nbformat_minor": 5
}
