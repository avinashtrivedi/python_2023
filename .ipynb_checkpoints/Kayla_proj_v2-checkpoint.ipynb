{
 "cells": [
  {
   "cell_type": "code",
   "execution_count": 1,
   "id": "a7da05b2",
   "metadata": {},
   "outputs": [],
   "source": [
    "# import libraries\n",
    "import pandas as pd\n",
    "import numpy as np\n",
    "import seaborn as sns\n",
    "from tqdm import tqdm\n",
    "import matplotlib.pyplot as plt\n",
    "import warnings\n",
    "warnings.filterwarnings('ignore')\n",
    "\n",
    "from sklearn.model_selection import GridSearchCV\n",
    "from sklearn.tree import DecisionTreeClassifier\n",
    "from sklearn.ensemble import RandomForestClassifier,AdaBoostClassifier\n",
    "\n",
    "from sklearn.ensemble import AdaBoostClassifier\n",
    "\n",
    "from sklearn.linear_model import LogisticRegression\n",
    "from tqdm.notebook import tqdm\n",
    "from sklearn.metrics import recall_score, precision_score, f1_score\n",
    "from sklearn.metrics import confusion_matrix, roc_auc_score,ConfusionMatrixDisplay,accuracy_score"
   ]
  },
  {
   "cell_type": "markdown",
   "id": "97e8d86a",
   "metadata": {},
   "source": [
    "# objective: \n",
    "- To predicted \"Death\" situation with more than 80% accuracy i.e predict patients who are at high risk of death from covid\n",
    "- Apply atleast 3 ML Models\n",
    "- Balance the training data before fitting the model."
   ]
  },
  {
   "cell_type": "code",
   "execution_count": 2,
   "id": "e33e5896",
   "metadata": {},
   "outputs": [],
   "source": [
    "# read the dataset\n",
    "# Since 97,99 represent the NaN values, therefore , need to specify here so that pandas can treat it as NaN\n",
    "df = pd.read_csv(r\"D:\\OneDrive - NITT\\Custom_Download\\Covid Data.csv\",na_values=[97,99])"
   ]
  },
  {
   "cell_type": "code",
   "execution_count": 3,
   "id": "c17dcd87",
   "metadata": {},
   "outputs": [
    {
     "data": {
      "text/html": [
       "<div>\n",
       "<style scoped>\n",
       "    .dataframe tbody tr th:only-of-type {\n",
       "        vertical-align: middle;\n",
       "    }\n",
       "\n",
       "    .dataframe tbody tr th {\n",
       "        vertical-align: top;\n",
       "    }\n",
       "\n",
       "    .dataframe thead th {\n",
       "        text-align: right;\n",
       "    }\n",
       "</style>\n",
       "<table border=\"1\" class=\"dataframe\">\n",
       "  <thead>\n",
       "    <tr style=\"text-align: right;\">\n",
       "      <th></th>\n",
       "      <th>USMER</th>\n",
       "      <th>MEDICAL_UNIT</th>\n",
       "      <th>SEX</th>\n",
       "      <th>PATIENT_TYPE</th>\n",
       "      <th>DATE_DIED</th>\n",
       "      <th>INTUBED</th>\n",
       "      <th>PNEUMONIA</th>\n",
       "      <th>AGE</th>\n",
       "      <th>PREGNANT</th>\n",
       "      <th>DIABETES</th>\n",
       "      <th>...</th>\n",
       "      <th>ASTHMA</th>\n",
       "      <th>INMSUPR</th>\n",
       "      <th>HIPERTENSION</th>\n",
       "      <th>OTHER_DISEASE</th>\n",
       "      <th>CARDIOVASCULAR</th>\n",
       "      <th>OBESITY</th>\n",
       "      <th>RENAL_CHRONIC</th>\n",
       "      <th>TOBACCO</th>\n",
       "      <th>CLASIFFICATION_FINAL</th>\n",
       "      <th>ICU</th>\n",
       "    </tr>\n",
       "  </thead>\n",
       "  <tbody>\n",
       "    <tr>\n",
       "      <th>0</th>\n",
       "      <td>2</td>\n",
       "      <td>1</td>\n",
       "      <td>1</td>\n",
       "      <td>1</td>\n",
       "      <td>03/05/2020</td>\n",
       "      <td>NaN</td>\n",
       "      <td>1.0</td>\n",
       "      <td>65.0</td>\n",
       "      <td>2.0</td>\n",
       "      <td>2</td>\n",
       "      <td>...</td>\n",
       "      <td>2</td>\n",
       "      <td>2</td>\n",
       "      <td>1</td>\n",
       "      <td>2</td>\n",
       "      <td>2</td>\n",
       "      <td>2</td>\n",
       "      <td>2</td>\n",
       "      <td>2</td>\n",
       "      <td>3</td>\n",
       "      <td>NaN</td>\n",
       "    </tr>\n",
       "    <tr>\n",
       "      <th>1</th>\n",
       "      <td>2</td>\n",
       "      <td>1</td>\n",
       "      <td>2</td>\n",
       "      <td>1</td>\n",
       "      <td>03/06/2020</td>\n",
       "      <td>NaN</td>\n",
       "      <td>1.0</td>\n",
       "      <td>72.0</td>\n",
       "      <td>NaN</td>\n",
       "      <td>2</td>\n",
       "      <td>...</td>\n",
       "      <td>2</td>\n",
       "      <td>2</td>\n",
       "      <td>1</td>\n",
       "      <td>2</td>\n",
       "      <td>2</td>\n",
       "      <td>1</td>\n",
       "      <td>1</td>\n",
       "      <td>2</td>\n",
       "      <td>5</td>\n",
       "      <td>NaN</td>\n",
       "    </tr>\n",
       "    <tr>\n",
       "      <th>2</th>\n",
       "      <td>2</td>\n",
       "      <td>1</td>\n",
       "      <td>2</td>\n",
       "      <td>2</td>\n",
       "      <td>09/06/2020</td>\n",
       "      <td>1.0</td>\n",
       "      <td>2.0</td>\n",
       "      <td>55.0</td>\n",
       "      <td>NaN</td>\n",
       "      <td>1</td>\n",
       "      <td>...</td>\n",
       "      <td>2</td>\n",
       "      <td>2</td>\n",
       "      <td>2</td>\n",
       "      <td>2</td>\n",
       "      <td>2</td>\n",
       "      <td>2</td>\n",
       "      <td>2</td>\n",
       "      <td>2</td>\n",
       "      <td>3</td>\n",
       "      <td>2.0</td>\n",
       "    </tr>\n",
       "    <tr>\n",
       "      <th>3</th>\n",
       "      <td>2</td>\n",
       "      <td>1</td>\n",
       "      <td>1</td>\n",
       "      <td>1</td>\n",
       "      <td>12/06/2020</td>\n",
       "      <td>NaN</td>\n",
       "      <td>2.0</td>\n",
       "      <td>53.0</td>\n",
       "      <td>2.0</td>\n",
       "      <td>2</td>\n",
       "      <td>...</td>\n",
       "      <td>2</td>\n",
       "      <td>2</td>\n",
       "      <td>2</td>\n",
       "      <td>2</td>\n",
       "      <td>2</td>\n",
       "      <td>2</td>\n",
       "      <td>2</td>\n",
       "      <td>2</td>\n",
       "      <td>7</td>\n",
       "      <td>NaN</td>\n",
       "    </tr>\n",
       "    <tr>\n",
       "      <th>4</th>\n",
       "      <td>2</td>\n",
       "      <td>1</td>\n",
       "      <td>2</td>\n",
       "      <td>1</td>\n",
       "      <td>21/06/2020</td>\n",
       "      <td>NaN</td>\n",
       "      <td>2.0</td>\n",
       "      <td>68.0</td>\n",
       "      <td>NaN</td>\n",
       "      <td>1</td>\n",
       "      <td>...</td>\n",
       "      <td>2</td>\n",
       "      <td>2</td>\n",
       "      <td>1</td>\n",
       "      <td>2</td>\n",
       "      <td>2</td>\n",
       "      <td>2</td>\n",
       "      <td>2</td>\n",
       "      <td>2</td>\n",
       "      <td>3</td>\n",
       "      <td>NaN</td>\n",
       "    </tr>\n",
       "  </tbody>\n",
       "</table>\n",
       "<p>5 rows × 21 columns</p>\n",
       "</div>"
      ],
      "text/plain": [
       "   USMER  MEDICAL_UNIT  SEX  PATIENT_TYPE   DATE_DIED  INTUBED  PNEUMONIA  \\\n",
       "0      2             1    1             1  03/05/2020      NaN        1.0   \n",
       "1      2             1    2             1  03/06/2020      NaN        1.0   \n",
       "2      2             1    2             2  09/06/2020      1.0        2.0   \n",
       "3      2             1    1             1  12/06/2020      NaN        2.0   \n",
       "4      2             1    2             1  21/06/2020      NaN        2.0   \n",
       "\n",
       "    AGE  PREGNANT  DIABETES  ...  ASTHMA  INMSUPR  HIPERTENSION  \\\n",
       "0  65.0       2.0         2  ...       2        2             1   \n",
       "1  72.0       NaN         2  ...       2        2             1   \n",
       "2  55.0       NaN         1  ...       2        2             2   \n",
       "3  53.0       2.0         2  ...       2        2             2   \n",
       "4  68.0       NaN         1  ...       2        2             1   \n",
       "\n",
       "   OTHER_DISEASE  CARDIOVASCULAR  OBESITY  RENAL_CHRONIC  TOBACCO  \\\n",
       "0              2               2        2              2        2   \n",
       "1              2               2        1              1        2   \n",
       "2              2               2        2              2        2   \n",
       "3              2               2        2              2        2   \n",
       "4              2               2        2              2        2   \n",
       "\n",
       "   CLASIFFICATION_FINAL  ICU  \n",
       "0                     3  NaN  \n",
       "1                     5  NaN  \n",
       "2                     3  2.0  \n",
       "3                     7  NaN  \n",
       "4                     3  NaN  \n",
       "\n",
       "[5 rows x 21 columns]"
      ]
     },
     "execution_count": 3,
     "metadata": {},
     "output_type": "execute_result"
    }
   ],
   "source": [
    "df.head()"
   ]
  },
  {
   "cell_type": "code",
   "execution_count": 4,
   "id": "93afffe0",
   "metadata": {},
   "outputs": [
    {
     "name": "stdout",
     "output_type": "stream",
     "text": [
      "Data Shape : (1048575, 21)\n"
     ]
    }
   ],
   "source": [
    "print('Data Shape :', df.shape) # check the shape"
   ]
  },
  {
   "cell_type": "code",
   "execution_count": 5,
   "id": "e37b8b1b",
   "metadata": {},
   "outputs": [
    {
     "name": "stdout",
     "output_type": "stream",
     "text": [
      "<class 'pandas.core.frame.DataFrame'>\n",
      "RangeIndex: 1048575 entries, 0 to 1048574\n",
      "Data columns (total 21 columns):\n",
      " #   Column                Non-Null Count    Dtype  \n",
      "---  ------                --------------    -----  \n",
      " 0   USMER                 1048575 non-null  int64  \n",
      " 1   MEDICAL_UNIT          1048575 non-null  int64  \n",
      " 2   SEX                   1048575 non-null  int64  \n",
      " 3   PATIENT_TYPE          1048575 non-null  int64  \n",
      " 4   DATE_DIED             1048575 non-null  object \n",
      " 5   INTUBED               192706 non-null   float64\n",
      " 6   PNEUMONIA             1032572 non-null  float64\n",
      " 7   AGE                   1048354 non-null  float64\n",
      " 8   PREGNANT              525064 non-null   float64\n",
      " 9   DIABETES              1048575 non-null  int64  \n",
      " 10  COPD                  1048575 non-null  int64  \n",
      " 11  ASTHMA                1048575 non-null  int64  \n",
      " 12  INMSUPR               1048575 non-null  int64  \n",
      " 13  HIPERTENSION          1048575 non-null  int64  \n",
      " 14  OTHER_DISEASE         1048575 non-null  int64  \n",
      " 15  CARDIOVASCULAR        1048575 non-null  int64  \n",
      " 16  OBESITY               1048575 non-null  int64  \n",
      " 17  RENAL_CHRONIC         1048575 non-null  int64  \n",
      " 18  TOBACCO               1048575 non-null  int64  \n",
      " 19  CLASIFFICATION_FINAL  1048575 non-null  int64  \n",
      " 20  ICU                   192543 non-null   float64\n",
      "dtypes: float64(5), int64(15), object(1)\n",
      "memory usage: 168.0+ MB\n"
     ]
    }
   ],
   "source": [
    "df.info() # Print a concise summary of a DataFrame."
   ]
  },
  {
   "cell_type": "code",
   "execution_count": 6,
   "id": "553bb9da",
   "metadata": {},
   "outputs": [
    {
     "data": {
      "text/html": [
       "<div>\n",
       "<style scoped>\n",
       "    .dataframe tbody tr th:only-of-type {\n",
       "        vertical-align: middle;\n",
       "    }\n",
       "\n",
       "    .dataframe tbody tr th {\n",
       "        vertical-align: top;\n",
       "    }\n",
       "\n",
       "    .dataframe thead th {\n",
       "        text-align: right;\n",
       "    }\n",
       "</style>\n",
       "<table border=\"1\" class=\"dataframe\">\n",
       "  <thead>\n",
       "    <tr style=\"text-align: right;\">\n",
       "      <th></th>\n",
       "      <th>USMER</th>\n",
       "      <th>MEDICAL_UNIT</th>\n",
       "      <th>SEX</th>\n",
       "      <th>PATIENT_TYPE</th>\n",
       "      <th>INTUBED</th>\n",
       "      <th>PNEUMONIA</th>\n",
       "      <th>AGE</th>\n",
       "      <th>PREGNANT</th>\n",
       "      <th>DIABETES</th>\n",
       "      <th>COPD</th>\n",
       "      <th>ASTHMA</th>\n",
       "      <th>INMSUPR</th>\n",
       "      <th>HIPERTENSION</th>\n",
       "      <th>OTHER_DISEASE</th>\n",
       "      <th>CARDIOVASCULAR</th>\n",
       "      <th>OBESITY</th>\n",
       "      <th>RENAL_CHRONIC</th>\n",
       "      <th>TOBACCO</th>\n",
       "      <th>CLASIFFICATION_FINAL</th>\n",
       "      <th>ICU</th>\n",
       "    </tr>\n",
       "  </thead>\n",
       "  <tbody>\n",
       "    <tr>\n",
       "      <th>count</th>\n",
       "      <td>1.048575e+06</td>\n",
       "      <td>1.048575e+06</td>\n",
       "      <td>1.048575e+06</td>\n",
       "      <td>1.048575e+06</td>\n",
       "      <td>192706.000000</td>\n",
       "      <td>1.032572e+06</td>\n",
       "      <td>1.048354e+06</td>\n",
       "      <td>525064.000000</td>\n",
       "      <td>1.048575e+06</td>\n",
       "      <td>1.048575e+06</td>\n",
       "      <td>1.048575e+06</td>\n",
       "      <td>1.048575e+06</td>\n",
       "      <td>1.048575e+06</td>\n",
       "      <td>1.048575e+06</td>\n",
       "      <td>1.048575e+06</td>\n",
       "      <td>1.048575e+06</td>\n",
       "      <td>1.048575e+06</td>\n",
       "      <td>1.048575e+06</td>\n",
       "      <td>1.048575e+06</td>\n",
       "      <td>192543.000000</td>\n",
       "    </tr>\n",
       "    <tr>\n",
       "      <th>mean</th>\n",
       "      <td>1.632194e+00</td>\n",
       "      <td>8.980565e+00</td>\n",
       "      <td>1.499259e+00</td>\n",
       "      <td>1.190765e+00</td>\n",
       "      <td>1.825351</td>\n",
       "      <td>1.864379e+00</td>\n",
       "      <td>4.178230e+01</td>\n",
       "      <td>2.670876</td>\n",
       "      <td>2.186404e+00</td>\n",
       "      <td>2.260569e+00</td>\n",
       "      <td>2.242626e+00</td>\n",
       "      <td>2.298132e+00</td>\n",
       "      <td>2.128989e+00</td>\n",
       "      <td>2.435143e+00</td>\n",
       "      <td>2.261810e+00</td>\n",
       "      <td>2.125176e+00</td>\n",
       "      <td>2.257180e+00</td>\n",
       "      <td>2.214333e+00</td>\n",
       "      <td>5.305653e+00</td>\n",
       "      <td>1.912446</td>\n",
       "    </tr>\n",
       "    <tr>\n",
       "      <th>std</th>\n",
       "      <td>4.822084e-01</td>\n",
       "      <td>3.723278e+00</td>\n",
       "      <td>4.999997e-01</td>\n",
       "      <td>3.929041e-01</td>\n",
       "      <td>0.379668</td>\n",
       "      <td>3.423854e-01</td>\n",
       "      <td>1.688961e+01</td>\n",
       "      <td>8.090506</td>\n",
       "      <td>5.424242e+00</td>\n",
       "      <td>5.132258e+00</td>\n",
       "      <td>5.114089e+00</td>\n",
       "      <td>5.462843e+00</td>\n",
       "      <td>5.236397e+00</td>\n",
       "      <td>6.646676e+00</td>\n",
       "      <td>5.194850e+00</td>\n",
       "      <td>5.175445e+00</td>\n",
       "      <td>5.135354e+00</td>\n",
       "      <td>5.323097e+00</td>\n",
       "      <td>1.881165e+00</td>\n",
       "      <td>0.282647</td>\n",
       "    </tr>\n",
       "    <tr>\n",
       "      <th>min</th>\n",
       "      <td>1.000000e+00</td>\n",
       "      <td>1.000000e+00</td>\n",
       "      <td>1.000000e+00</td>\n",
       "      <td>1.000000e+00</td>\n",
       "      <td>1.000000</td>\n",
       "      <td>1.000000e+00</td>\n",
       "      <td>0.000000e+00</td>\n",
       "      <td>1.000000</td>\n",
       "      <td>1.000000e+00</td>\n",
       "      <td>1.000000e+00</td>\n",
       "      <td>1.000000e+00</td>\n",
       "      <td>1.000000e+00</td>\n",
       "      <td>1.000000e+00</td>\n",
       "      <td>1.000000e+00</td>\n",
       "      <td>1.000000e+00</td>\n",
       "      <td>1.000000e+00</td>\n",
       "      <td>1.000000e+00</td>\n",
       "      <td>1.000000e+00</td>\n",
       "      <td>1.000000e+00</td>\n",
       "      <td>1.000000</td>\n",
       "    </tr>\n",
       "    <tr>\n",
       "      <th>25%</th>\n",
       "      <td>1.000000e+00</td>\n",
       "      <td>4.000000e+00</td>\n",
       "      <td>1.000000e+00</td>\n",
       "      <td>1.000000e+00</td>\n",
       "      <td>2.000000</td>\n",
       "      <td>2.000000e+00</td>\n",
       "      <td>3.000000e+01</td>\n",
       "      <td>2.000000</td>\n",
       "      <td>2.000000e+00</td>\n",
       "      <td>2.000000e+00</td>\n",
       "      <td>2.000000e+00</td>\n",
       "      <td>2.000000e+00</td>\n",
       "      <td>2.000000e+00</td>\n",
       "      <td>2.000000e+00</td>\n",
       "      <td>2.000000e+00</td>\n",
       "      <td>2.000000e+00</td>\n",
       "      <td>2.000000e+00</td>\n",
       "      <td>2.000000e+00</td>\n",
       "      <td>3.000000e+00</td>\n",
       "      <td>2.000000</td>\n",
       "    </tr>\n",
       "    <tr>\n",
       "      <th>50%</th>\n",
       "      <td>2.000000e+00</td>\n",
       "      <td>1.200000e+01</td>\n",
       "      <td>1.000000e+00</td>\n",
       "      <td>1.000000e+00</td>\n",
       "      <td>2.000000</td>\n",
       "      <td>2.000000e+00</td>\n",
       "      <td>4.000000e+01</td>\n",
       "      <td>2.000000</td>\n",
       "      <td>2.000000e+00</td>\n",
       "      <td>2.000000e+00</td>\n",
       "      <td>2.000000e+00</td>\n",
       "      <td>2.000000e+00</td>\n",
       "      <td>2.000000e+00</td>\n",
       "      <td>2.000000e+00</td>\n",
       "      <td>2.000000e+00</td>\n",
       "      <td>2.000000e+00</td>\n",
       "      <td>2.000000e+00</td>\n",
       "      <td>2.000000e+00</td>\n",
       "      <td>6.000000e+00</td>\n",
       "      <td>2.000000</td>\n",
       "    </tr>\n",
       "    <tr>\n",
       "      <th>75%</th>\n",
       "      <td>2.000000e+00</td>\n",
       "      <td>1.200000e+01</td>\n",
       "      <td>2.000000e+00</td>\n",
       "      <td>1.000000e+00</td>\n",
       "      <td>2.000000</td>\n",
       "      <td>2.000000e+00</td>\n",
       "      <td>5.300000e+01</td>\n",
       "      <td>2.000000</td>\n",
       "      <td>2.000000e+00</td>\n",
       "      <td>2.000000e+00</td>\n",
       "      <td>2.000000e+00</td>\n",
       "      <td>2.000000e+00</td>\n",
       "      <td>2.000000e+00</td>\n",
       "      <td>2.000000e+00</td>\n",
       "      <td>2.000000e+00</td>\n",
       "      <td>2.000000e+00</td>\n",
       "      <td>2.000000e+00</td>\n",
       "      <td>2.000000e+00</td>\n",
       "      <td>7.000000e+00</td>\n",
       "      <td>2.000000</td>\n",
       "    </tr>\n",
       "    <tr>\n",
       "      <th>max</th>\n",
       "      <td>2.000000e+00</td>\n",
       "      <td>1.300000e+01</td>\n",
       "      <td>2.000000e+00</td>\n",
       "      <td>2.000000e+00</td>\n",
       "      <td>2.000000</td>\n",
       "      <td>2.000000e+00</td>\n",
       "      <td>1.210000e+02</td>\n",
       "      <td>98.000000</td>\n",
       "      <td>9.800000e+01</td>\n",
       "      <td>9.800000e+01</td>\n",
       "      <td>9.800000e+01</td>\n",
       "      <td>9.800000e+01</td>\n",
       "      <td>9.800000e+01</td>\n",
       "      <td>9.800000e+01</td>\n",
       "      <td>9.800000e+01</td>\n",
       "      <td>9.800000e+01</td>\n",
       "      <td>9.800000e+01</td>\n",
       "      <td>9.800000e+01</td>\n",
       "      <td>7.000000e+00</td>\n",
       "      <td>2.000000</td>\n",
       "    </tr>\n",
       "  </tbody>\n",
       "</table>\n",
       "</div>"
      ],
      "text/plain": [
       "              USMER  MEDICAL_UNIT           SEX  PATIENT_TYPE        INTUBED  \\\n",
       "count  1.048575e+06  1.048575e+06  1.048575e+06  1.048575e+06  192706.000000   \n",
       "mean   1.632194e+00  8.980565e+00  1.499259e+00  1.190765e+00       1.825351   \n",
       "std    4.822084e-01  3.723278e+00  4.999997e-01  3.929041e-01       0.379668   \n",
       "min    1.000000e+00  1.000000e+00  1.000000e+00  1.000000e+00       1.000000   \n",
       "25%    1.000000e+00  4.000000e+00  1.000000e+00  1.000000e+00       2.000000   \n",
       "50%    2.000000e+00  1.200000e+01  1.000000e+00  1.000000e+00       2.000000   \n",
       "75%    2.000000e+00  1.200000e+01  2.000000e+00  1.000000e+00       2.000000   \n",
       "max    2.000000e+00  1.300000e+01  2.000000e+00  2.000000e+00       2.000000   \n",
       "\n",
       "          PNEUMONIA           AGE       PREGNANT      DIABETES          COPD  \\\n",
       "count  1.032572e+06  1.048354e+06  525064.000000  1.048575e+06  1.048575e+06   \n",
       "mean   1.864379e+00  4.178230e+01       2.670876  2.186404e+00  2.260569e+00   \n",
       "std    3.423854e-01  1.688961e+01       8.090506  5.424242e+00  5.132258e+00   \n",
       "min    1.000000e+00  0.000000e+00       1.000000  1.000000e+00  1.000000e+00   \n",
       "25%    2.000000e+00  3.000000e+01       2.000000  2.000000e+00  2.000000e+00   \n",
       "50%    2.000000e+00  4.000000e+01       2.000000  2.000000e+00  2.000000e+00   \n",
       "75%    2.000000e+00  5.300000e+01       2.000000  2.000000e+00  2.000000e+00   \n",
       "max    2.000000e+00  1.210000e+02      98.000000  9.800000e+01  9.800000e+01   \n",
       "\n",
       "             ASTHMA       INMSUPR  HIPERTENSION  OTHER_DISEASE  \\\n",
       "count  1.048575e+06  1.048575e+06  1.048575e+06   1.048575e+06   \n",
       "mean   2.242626e+00  2.298132e+00  2.128989e+00   2.435143e+00   \n",
       "std    5.114089e+00  5.462843e+00  5.236397e+00   6.646676e+00   \n",
       "min    1.000000e+00  1.000000e+00  1.000000e+00   1.000000e+00   \n",
       "25%    2.000000e+00  2.000000e+00  2.000000e+00   2.000000e+00   \n",
       "50%    2.000000e+00  2.000000e+00  2.000000e+00   2.000000e+00   \n",
       "75%    2.000000e+00  2.000000e+00  2.000000e+00   2.000000e+00   \n",
       "max    9.800000e+01  9.800000e+01  9.800000e+01   9.800000e+01   \n",
       "\n",
       "       CARDIOVASCULAR       OBESITY  RENAL_CHRONIC       TOBACCO  \\\n",
       "count    1.048575e+06  1.048575e+06   1.048575e+06  1.048575e+06   \n",
       "mean     2.261810e+00  2.125176e+00   2.257180e+00  2.214333e+00   \n",
       "std      5.194850e+00  5.175445e+00   5.135354e+00  5.323097e+00   \n",
       "min      1.000000e+00  1.000000e+00   1.000000e+00  1.000000e+00   \n",
       "25%      2.000000e+00  2.000000e+00   2.000000e+00  2.000000e+00   \n",
       "50%      2.000000e+00  2.000000e+00   2.000000e+00  2.000000e+00   \n",
       "75%      2.000000e+00  2.000000e+00   2.000000e+00  2.000000e+00   \n",
       "max      9.800000e+01  9.800000e+01   9.800000e+01  9.800000e+01   \n",
       "\n",
       "       CLASIFFICATION_FINAL            ICU  \n",
       "count          1.048575e+06  192543.000000  \n",
       "mean           5.305653e+00       1.912446  \n",
       "std            1.881165e+00       0.282647  \n",
       "min            1.000000e+00       1.000000  \n",
       "25%            3.000000e+00       2.000000  \n",
       "50%            6.000000e+00       2.000000  \n",
       "75%            7.000000e+00       2.000000  \n",
       "max            7.000000e+00       2.000000  "
      ]
     },
     "execution_count": 6,
     "metadata": {},
     "output_type": "execute_result"
    }
   ],
   "source": [
    "df.describe() # Generate descriptive statistics."
   ]
  },
  {
   "cell_type": "code",
   "execution_count": 7,
   "id": "6dc88d57",
   "metadata": {},
   "outputs": [
    {
     "data": {
      "text/plain": [
       "USMER                    0.000000\n",
       "MEDICAL_UNIT             0.000000\n",
       "SEX                      0.000000\n",
       "PATIENT_TYPE             0.000000\n",
       "DATE_DIED                0.000000\n",
       "INTUBED                 81.622106\n",
       "PNEUMONIA                1.526166\n",
       "AGE                      0.021076\n",
       "PREGNANT                49.925947\n",
       "DIABETES                 0.000000\n",
       "COPD                     0.000000\n",
       "ASTHMA                   0.000000\n",
       "INMSUPR                  0.000000\n",
       "HIPERTENSION             0.000000\n",
       "OTHER_DISEASE            0.000000\n",
       "CARDIOVASCULAR           0.000000\n",
       "OBESITY                  0.000000\n",
       "RENAL_CHRONIC            0.000000\n",
       "TOBACCO                  0.000000\n",
       "CLASIFFICATION_FINAL     0.000000\n",
       "ICU                     81.637651\n",
       "dtype: float64"
      ]
     },
     "execution_count": 7,
     "metadata": {},
     "output_type": "execute_result"
    }
   ],
   "source": [
    "# check for percentage of NaN values\n",
    "df.isna().mean()*100"
   ]
  },
  {
   "cell_type": "code",
   "execution_count": 8,
   "id": "81d99f87",
   "metadata": {},
   "outputs": [
    {
     "data": {
      "text/plain": [
       "0          03/05/2020\n",
       "1          03/06/2020\n",
       "2          09/06/2020\n",
       "3          12/06/2020\n",
       "4          21/06/2020\n",
       "              ...    \n",
       "1048570    9999-99-99\n",
       "1048571    9999-99-99\n",
       "1048572    9999-99-99\n",
       "1048573    9999-99-99\n",
       "1048574    9999-99-99\n",
       "Name: DATE_DIED, Length: 1048575, dtype: object"
      ]
     },
     "execution_count": 8,
     "metadata": {},
     "output_type": "execute_result"
    }
   ],
   "source": [
    "#  As per dataset description: If the patient died indicate the date of death, and 9999-99-99 otherwise.\n",
    "df['DATE_DIED']"
   ]
  },
  {
   "cell_type": "code",
   "execution_count": 9,
   "id": "1a2c6916",
   "metadata": {},
   "outputs": [],
   "source": [
    "# create a new column as Target to predict patients who are at high risk of death from covid\n",
    "df['DEATH'] = [0 if row=='9999-99-99' else 1 for row in df['DATE_DIED']]"
   ]
  },
  {
   "cell_type": "code",
   "execution_count": 10,
   "id": "479f2001",
   "metadata": {},
   "outputs": [
    {
     "data": {
      "text/plain": [
       "0          1\n",
       "1          1\n",
       "2          1\n",
       "3          1\n",
       "4          1\n",
       "          ..\n",
       "1048570    0\n",
       "1048571    0\n",
       "1048572    0\n",
       "1048573    0\n",
       "1048574    0\n",
       "Name: DEATH, Length: 1048575, dtype: int64"
      ]
     },
     "execution_count": 10,
     "metadata": {},
     "output_type": "execute_result"
    }
   ],
   "source": [
    "df['DEATH']"
   ]
  },
  {
   "cell_type": "code",
   "execution_count": null,
   "id": "fa8a27ab",
   "metadata": {},
   "outputs": [],
   "source": []
  },
  {
   "cell_type": "code",
   "execution_count": 11,
   "id": "3f17c5ed",
   "metadata": {},
   "outputs": [
    {
     "data": {
      "image/png": "[encoded data removed]",
      "text/plain": [
       "<Figure size 640x480 with 1 Axes>"
      ]
     },
     "metadata": {},
     "output_type": "display_data"
    }
   ],
   "source": [
    "# check for class Distribution\n",
    "ax = sns.countplot(x=df['DEATH'])\n",
    "plt.title('Death Distribution', fontsize=10)\n",
    "plt.show()"
   ]
  },
  {
   "cell_type": "code",
   "execution_count": 12,
   "id": "7a544d70",
   "metadata": {},
   "outputs": [],
   "source": [
    "# 'INTUBED','PREGNANT','ICU' all three have high percentage of missing (NaN) values\n",
    "# and DATE_DIED is of no use since a new column called DEATH has been created from this.\n",
    "# hence we can delete these columns.\n",
    "\n",
    "col_to_drop = ['INTUBED','PREGNANT','ICU','DATE_DIED']"
   ]
  },
  {
   "cell_type": "code",
   "execution_count": 13,
   "id": "b118d1ab",
   "metadata": {},
   "outputs": [],
   "source": [
    "# drop those columns\n",
    "df.drop(col_to_drop,axis=1,inplace=True)"
   ]
  },
  {
   "cell_type": "code",
   "execution_count": 14,
   "id": "c48e08e0",
   "metadata": {},
   "outputs": [
    {
     "data": {
      "text/plain": [
       "USMER                   0.000000\n",
       "MEDICAL_UNIT            0.000000\n",
       "SEX                     0.000000\n",
       "PATIENT_TYPE            0.000000\n",
       "PNEUMONIA               1.526166\n",
       "AGE                     0.021076\n",
       "DIABETES                0.000000\n",
       "COPD                    0.000000\n",
       "ASTHMA                  0.000000\n",
       "INMSUPR                 0.000000\n",
       "HIPERTENSION            0.000000\n",
       "OTHER_DISEASE           0.000000\n",
       "CARDIOVASCULAR          0.000000\n",
       "OBESITY                 0.000000\n",
       "RENAL_CHRONIC           0.000000\n",
       "TOBACCO                 0.000000\n",
       "CLASIFFICATION_FINAL    0.000000\n",
       "DEATH                   0.000000\n",
       "dtype: float64"
      ]
     },
     "execution_count": 14,
     "metadata": {},
     "output_type": "execute_result"
    }
   ],
   "source": [
    "# check for percentage of NaN values.\n",
    "df.isna().mean()*100"
   ]
  },
  {
   "cell_type": "code",
   "execution_count": 15,
   "id": "f4de664c",
   "metadata": {},
   "outputs": [],
   "source": [
    "# fill the NaN values with average of respective column\n",
    "df['PNEUMONIA'] = df['PNEUMONIA'].fillna(df['PNEUMONIA'].mean())\n",
    "df['AGE'] = df['AGE'].fillna(df['AGE'].mean())"
   ]
  },
  {
   "cell_type": "code",
   "execution_count": 16,
   "id": "86519135",
   "metadata": {},
   "outputs": [
    {
     "data": {
      "text/plain": [
       "USMER                   0.0\n",
       "MEDICAL_UNIT            0.0\n",
       "SEX                     0.0\n",
       "PATIENT_TYPE            0.0\n",
       "PNEUMONIA               0.0\n",
       "AGE                     0.0\n",
       "DIABETES                0.0\n",
       "COPD                    0.0\n",
       "ASTHMA                  0.0\n",
       "INMSUPR                 0.0\n",
       "HIPERTENSION            0.0\n",
       "OTHER_DISEASE           0.0\n",
       "CARDIOVASCULAR          0.0\n",
       "OBESITY                 0.0\n",
       "RENAL_CHRONIC           0.0\n",
       "TOBACCO                 0.0\n",
       "CLASIFFICATION_FINAL    0.0\n",
       "DEATH                   0.0\n",
       "dtype: float64"
      ]
     },
     "execution_count": 16,
     "metadata": {},
     "output_type": "execute_result"
    }
   ],
   "source": [
    "# Again check for percentage of NaN values.\n",
    "df.isna().mean()*100"
   ]
  },
  {
   "cell_type": "markdown",
   "id": "8292953c",
   "metadata": {},
   "source": [
    "- Now , there is no Missing values"
   ]
  },
  {
   "cell_type": "code",
   "execution_count": 17,
   "id": "8277727b",
   "metadata": {},
   "outputs": [
    {
     "data": {
      "text/plain": [
       "USMER                     2\n",
       "MEDICAL_UNIT             13\n",
       "SEX                       2\n",
       "PATIENT_TYPE              2\n",
       "PNEUMONIA                 3\n",
       "AGE                     120\n",
       "DIABETES                  3\n",
       "COPD                      3\n",
       "ASTHMA                    3\n",
       "INMSUPR                   3\n",
       "HIPERTENSION              3\n",
       "OTHER_DISEASE             3\n",
       "CARDIOVASCULAR            3\n",
       "OBESITY                   3\n",
       "RENAL_CHRONIC             3\n",
       "TOBACCO                   3\n",
       "CLASIFFICATION_FINAL      7\n",
       "DEATH                     2\n",
       "dtype: int64"
      ]
     },
     "execution_count": 17,
     "metadata": {},
     "output_type": "execute_result"
    }
   ],
   "source": [
    "# check for number of unique values among featues\n",
    "df.nunique()"
   ]
  },
  {
   "cell_type": "code",
   "execution_count": 18,
   "id": "8a1567f4",
   "metadata": {},
   "outputs": [
    {
     "name": "stdout",
     "output_type": "stream",
     "text": [
      "USMER\n",
      "2    662903\n",
      "1    385672\n",
      "Name: USMER, dtype: int64 \n",
      "\n",
      "MEDICAL_UNIT\n",
      "12    602995\n",
      "4     314405\n",
      "6      40584\n",
      "9      38116\n",
      "3      19175\n",
      "8      10399\n",
      "10      7873\n",
      "5       7244\n",
      "11      5577\n",
      "13       996\n",
      "7        891\n",
      "2        169\n",
      "1        151\n",
      "Name: MEDICAL_UNIT, dtype: int64 \n",
      "\n",
      "SEX\n",
      "1    525064\n",
      "2    523511\n",
      "Name: SEX, dtype: int64 \n",
      "\n",
      "PATIENT_TYPE\n",
      "1    848544\n",
      "2    200031\n",
      "Name: PATIENT_TYPE, dtype: int64 \n",
      "\n",
      "PNEUMONIA\n",
      "2.000000    892534\n",
      "1.000000    140038\n",
      "1.864379     16003\n",
      "Name: PNEUMONIA, dtype: int64 \n",
      "\n",
      "AGE\n",
      "30.0     27010\n",
      "31.0     25927\n",
      "28.0     25313\n",
      "29.0     25134\n",
      "34.0     24872\n",
      "         ...  \n",
      "114.0        2\n",
      "116.0        2\n",
      "111.0        1\n",
      "121.0        1\n",
      "113.0        1\n",
      "Name: AGE, Length: 120, dtype: int64 \n",
      "\n",
      "DIABETES\n",
      "2     920248\n",
      "1     124989\n",
      "98      3338\n",
      "Name: DIABETES, dtype: int64 \n",
      "\n",
      "COPD\n",
      "2     1030510\n",
      "1       15062\n",
      "98       3003\n",
      "Name: COPD, dtype: int64 \n",
      "\n",
      "ASTHMA\n",
      "2     1014024\n",
      "1       31572\n",
      "98       2979\n",
      "Name: ASTHMA, dtype: int64 \n",
      "\n",
      "INMSUPR\n",
      "2     1031001\n",
      "1       14170\n",
      "98       3404\n",
      "Name: INMSUPR, dtype: int64 \n",
      "\n",
      "HIPERTENSION\n",
      "2     882742\n",
      "1     162729\n",
      "98      3104\n",
      "Name: HIPERTENSION, dtype: int64 \n",
      "\n",
      "OTHER_DISEASE\n",
      "2     1015490\n",
      "1       28040\n",
      "98       5045\n",
      "Name: OTHER_DISEASE, dtype: int64 \n",
      "\n",
      "CARDIOVASCULAR\n",
      "2     1024730\n",
      "1       20769\n",
      "98       3076\n",
      "Name: CARDIOVASCULAR, dtype: int64 \n",
      "\n",
      "OBESITY\n",
      "2     885727\n",
      "1     159816\n",
      "98      3032\n",
      "Name: OBESITY, dtype: int64 \n",
      "\n",
      "RENAL_CHRONIC\n",
      "2     1026665\n",
      "1       18904\n",
      "98       3006\n",
      "Name: RENAL_CHRONIC, dtype: int64 \n",
      "\n",
      "TOBACCO\n",
      "2     960979\n",
      "1      84376\n",
      "98      3220\n",
      "Name: TOBACCO, dtype: int64 \n",
      "\n",
      "CLASIFFICATION_FINAL\n",
      "7    499250\n",
      "3    381527\n",
      "6    128133\n",
      "5     26091\n",
      "1      8601\n",
      "4      3122\n",
      "2      1851\n",
      "Name: CLASIFFICATION_FINAL, dtype: int64 \n",
      "\n",
      "DEATH\n",
      "0    971633\n",
      "1     76942\n",
      "Name: DEATH, dtype: int64 \n",
      "\n"
     ]
    }
   ],
   "source": [
    "# check columns different values\n",
    "for col in df:\n",
    "    print(col)\n",
    "    print(df[col].value_counts(),'\\n')"
   ]
  },
  {
   "cell_type": "code",
   "execution_count": 19,
   "id": "3a0b263e",
   "metadata": {},
   "outputs": [],
   "source": [
    "from sklearn.preprocessing import StandardScaler\n",
    "standard_scaler = StandardScaler()\n",
    "\n",
    "# except Age column all are within a small range of value i.e discrete values, hence scale Age column\n",
    "df['AGE'] = standard_scaler.fit_transform(df.loc[:,['AGE']])"
   ]
  },
  {
   "cell_type": "code",
   "execution_count": 20,
   "id": "7d96f57b",
   "metadata": {},
   "outputs": [],
   "source": [
    "# get X and y\n",
    "X = df.drop('DEATH', axis=1)\n",
    "y = df['DEATH']"
   ]
  },
  {
   "cell_type": "code",
   "execution_count": 21,
   "id": "1826d8ab",
   "metadata": {},
   "outputs": [],
   "source": [
    "# split the data into train and test i.e 80:20\n",
    "from sklearn.model_selection import train_test_split\n",
    "X_train, X_test, y_train, y_test = train_test_split(X, y, test_size = 0.20, random_state = 42)"
   ]
  },
  {
   "cell_type": "code",
   "execution_count": 22,
   "id": "fe0626bd",
   "metadata": {},
   "outputs": [
    {
     "name": "stdout",
     "output_type": "stream",
     "text": [
      "Train X : (838860, 17)\n",
      "Test X : (209715, 17)\n",
      "Train Y : (838860,)\n",
      "Test Y : (209715,)\n"
     ]
    }
   ],
   "source": [
    "# check shapes\n",
    "print('Train X :', X_train.shape)\n",
    "print('Test X :', X_test.shape)\n",
    "print('Train Y :', y_train.shape)\n",
    "print('Test Y :', y_test .shape)"
   ]
  },
  {
   "cell_type": "code",
   "execution_count": 23,
   "id": "260baf51",
   "metadata": {},
   "outputs": [
    {
     "data": {
      "text/plain": [
       "0    777158\n",
       "1     61702\n",
       "Name: DEATH, dtype: int64"
      ]
     },
     "execution_count": 23,
     "metadata": {},
     "output_type": "execute_result"
    }
   ],
   "source": [
    "# check for class distribution, its not balanced\n",
    "y_train.value_counts()"
   ]
  },
  {
   "cell_type": "code",
   "execution_count": 24,
   "id": "0d186dd4",
   "metadata": {},
   "outputs": [
    {
     "data": {
      "image/png": "[encoded data removed]",
      "text/plain": [
       "<Figure size 640x480 with 1 Axes>"
      ]
     },
     "metadata": {},
     "output_type": "display_data"
    }
   ],
   "source": [
    "ax = sns.countplot(x=y_train)\n",
    "plt.title('Training data: Death Distribution before balancing', fontsize=10)\n",
    "plt.show()"
   ]
  },
  {
   "cell_type": "code",
   "execution_count": 25,
   "id": "4750492c",
   "metadata": {},
   "outputs": [],
   "source": [
    "from imblearn.over_sampling import SMOTE\n",
    "\n",
    "# perform data balancing using over sampling of minority class data.\n",
    "oversample = SMOTE()\n",
    "X_train, y_train = oversample.fit_resample(X_train, y_train)"
   ]
  },
  {
   "cell_type": "code",
   "execution_count": 26,
   "id": "2e86a8b2",
   "metadata": {},
   "outputs": [
    {
     "data": {
      "text/plain": [
       "0    777158\n",
       "1    777158\n",
       "Name: DEATH, dtype: int64"
      ]
     },
     "execution_count": 26,
     "metadata": {},
     "output_type": "execute_result"
    }
   ],
   "source": [
    "# check for class distribution after balancing, its balanced now\n",
    "y_train.value_counts()"
   ]
  },
  {
   "cell_type": "code",
   "execution_count": 27,
   "id": "beaa5668",
   "metadata": {},
   "outputs": [
    {
     "data": {
      "image/png": "[encoded data removed]",
      "text/plain": [
       "<Figure size 640x480 with 1 Axes>"
      ]
     },
     "metadata": {},
     "output_type": "display_data"
    }
   ],
   "source": [
    "ax = sns.countplot(x=y_train)\n",
    "plt.title('Training data: Death Distribution after balancing', fontsize=10)\n",
    "plt.show()"
   ]
  },
  {
   "cell_type": "code",
   "execution_count": 28,
   "id": "6deca9e0",
   "metadata": {},
   "outputs": [],
   "source": [
    "# store all the model classificers\n",
    "models = {\n",
    "    'LogisticRegression': LogisticRegression(n_jobs=-1,random_state = 42),\n",
    "    \"RandomForest\": RandomForestClassifier (random_state = 42,n_jobs=-1),\n",
    "    \"DecisionTree\": DecisionTreeClassifier(random_state = 42),\n",
    "    \"AdaBoostClassifier\" :AdaBoostClassifier(random_state = 42)\n",
    "}"
   ]
  },
  {
   "cell_type": "code",
   "execution_count": 29,
   "id": "cf37f201",
   "metadata": {},
   "outputs": [],
   "source": [
    "# function to return various performance measure\n",
    "def perf_measure (y_true, y_pred):\n",
    "    \n",
    "    all_per_list  = []\n",
    "    \n",
    "    # compute accuracy,recall, precision,f1-score and AUC\n",
    "    all_per_list.append (accuracy_score (y_true, y_pred))\n",
    "    all_per_list.append (recall_score (y_true, y_pred))\n",
    "    all_per_list.append (precision_score (y_true, y_pred))\n",
    "    all_per_list.append (f1_score (y_true, y_pred))\n",
    "    all_per_list.append (roc_auc_score (y_true, y_pred))\n",
    "    \n",
    "    return all_per_list"
   ]
  },
  {
   "cell_type": "code",
   "execution_count": 30,
   "id": "d90a5a2e",
   "metadata": {},
   "outputs": [
    {
     "data": {
      "application/vnd.jupyter.widget-view+json": {
       "model_id": "5aab409e5925433aa457fc71275a6929",
       "version_major": 2,
       "version_minor": 0
      },
      "text/plain": [
       "  0%|          | 0/4 [00:00<?, ?it/s]"
      ]
     },
     "metadata": {},
     "output_type": "display_data"
    }
   ],
   "source": [
    "y_pred_train = {} # store y_predicted for training\n",
    "y_pred_test = {} # store y_predicted for testing\n",
    "\n",
    "cm = {}  # store confusion  matrix \n",
    "Train_Score_algorithm = {} # store performance measure\n",
    "Test_Score_algorithm = {} # store performance measure\n",
    "\n",
    "# iterate through all the models\n",
    "for model_name, clf in tqdm(models.items ()):\n",
    "    \n",
    "    # train the model\n",
    "    clf.fit (X_train, y_train)\n",
    "    \n",
    "    # perform prediction on train set\n",
    "    y_pred_train [model_name] = clf.predict (X_train)\n",
    "    \n",
    "    # perform prediction on test set\n",
    "    y_pred_test [model_name] = clf.predict (X_test)\n",
    "    \n",
    "    # store performance measure in Train_Score_algorithm, Test_Score_algorithm dictionary where model_name is key\n",
    "    Train_Score_algorithm [model_name] = perf_measure (y_train,  y_pred_train [model_name])\n",
    "    Test_Score_algorithm [model_name] = perf_measure (y_test,  y_pred_test [model_name])\n",
    "    \n",
    "    # store confusion matrix\n",
    "    cm [model_name] = confusion_matrix (y_test,y_pred_test [model_name], normalize =\"true\")"
   ]
  },
  {
   "cell_type": "code",
   "execution_count": 31,
   "id": "47c41619",
   "metadata": {},
   "outputs": [],
   "source": [
    "# create a result dataframe from Perf_per_algorithm\n",
    "train_result = pd.DataFrame.from_dict(Train_Score_algorithm, orient='index', \n",
    "                       columns=['Accuracy', 'Recall', 'Precision', 'F1', 'AUC'])\n",
    "\n",
    "# create a result dataframe from Perf_per_algorithm\n",
    "test_result = pd.DataFrame.from_dict(Test_Score_algorithm, orient='index', \n",
    "                       columns=['Accuracy', 'Recall', 'Precision', 'F1', 'AUC'])\n",
    "\n"
   ]
  },
  {
   "cell_type": "code",
   "execution_count": 32,
   "id": "74a06a1f",
   "metadata": {},
   "outputs": [
    {
     "data": {
      "text/html": [
       "<div>\n",
       "<style scoped>\n",
       "    .dataframe tbody tr th:only-of-type {\n",
       "        vertical-align: middle;\n",
       "    }\n",
       "\n",
       "    .dataframe tbody tr th {\n",
       "        vertical-align: top;\n",
       "    }\n",
       "\n",
       "    .dataframe thead th {\n",
       "        text-align: right;\n",
       "    }\n",
       "</style>\n",
       "<table border=\"1\" class=\"dataframe\">\n",
       "  <thead>\n",
       "    <tr style=\"text-align: right;\">\n",
       "      <th></th>\n",
       "      <th>Accuracy</th>\n",
       "      <th>Recall</th>\n",
       "      <th>Precision</th>\n",
       "      <th>F1</th>\n",
       "      <th>AUC</th>\n",
       "    </tr>\n",
       "  </thead>\n",
       "  <tbody>\n",
       "    <tr>\n",
       "      <th>LogisticRegression</th>\n",
       "      <td>0.903790</td>\n",
       "      <td>0.917871</td>\n",
       "      <td>0.892729</td>\n",
       "      <td>0.905126</td>\n",
       "      <td>0.903790</td>\n",
       "    </tr>\n",
       "    <tr>\n",
       "      <th>RandomForest</th>\n",
       "      <td>0.972847</td>\n",
       "      <td>0.987380</td>\n",
       "      <td>0.959492</td>\n",
       "      <td>0.973236</td>\n",
       "      <td>0.972847</td>\n",
       "    </tr>\n",
       "    <tr>\n",
       "      <th>DecisionTree</th>\n",
       "      <td>0.972858</td>\n",
       "      <td>0.983526</td>\n",
       "      <td>0.962979</td>\n",
       "      <td>0.973144</td>\n",
       "      <td>0.972858</td>\n",
       "    </tr>\n",
       "    <tr>\n",
       "      <th>AdaBoostClassifier</th>\n",
       "      <td>0.903249</td>\n",
       "      <td>0.908297</td>\n",
       "      <td>0.899219</td>\n",
       "      <td>0.903735</td>\n",
       "      <td>0.903249</td>\n",
       "    </tr>\n",
       "  </tbody>\n",
       "</table>\n",
       "</div>"
      ],
      "text/plain": [
       "                    Accuracy    Recall  Precision        F1       AUC\n",
       "LogisticRegression  0.903790  0.917871   0.892729  0.905126  0.903790\n",
       "RandomForest        0.972847  0.987380   0.959492  0.973236  0.972847\n",
       "DecisionTree        0.972858  0.983526   0.962979  0.973144  0.972858\n",
       "AdaBoostClassifier  0.903249  0.908297   0.899219  0.903735  0.903249"
      ]
     },
     "execution_count": 32,
     "metadata": {},
     "output_type": "execute_result"
    }
   ],
   "source": [
    "train_result"
   ]
  },
  {
   "cell_type": "code",
   "execution_count": 33,
   "id": "db9920e0",
   "metadata": {},
   "outputs": [
    {
     "data": {
      "text/html": [
       "<div>\n",
       "<style scoped>\n",
       "    .dataframe tbody tr th:only-of-type {\n",
       "        vertical-align: middle;\n",
       "    }\n",
       "\n",
       "    .dataframe tbody tr th {\n",
       "        vertical-align: top;\n",
       "    }\n",
       "\n",
       "    .dataframe thead th {\n",
       "        text-align: right;\n",
       "    }\n",
       "</style>\n",
       "<table border=\"1\" class=\"dataframe\">\n",
       "  <thead>\n",
       "    <tr style=\"text-align: right;\">\n",
       "      <th></th>\n",
       "      <th>Accuracy</th>\n",
       "      <th>Recall</th>\n",
       "      <th>Precision</th>\n",
       "      <th>F1</th>\n",
       "      <th>AUC</th>\n",
       "    </tr>\n",
       "  </thead>\n",
       "  <tbody>\n",
       "    <tr>\n",
       "      <th>LogisticRegression</th>\n",
       "      <td>0.891105</td>\n",
       "      <td>0.918963</td>\n",
       "      <td>0.393322</td>\n",
       "      <td>0.550868</td>\n",
       "      <td>0.903942</td>\n",
       "    </tr>\n",
       "    <tr>\n",
       "      <th>RandomForest</th>\n",
       "      <td>0.916139</td>\n",
       "      <td>0.715617</td>\n",
       "      <td>0.451426</td>\n",
       "      <td>0.553618</td>\n",
       "      <td>0.823735</td>\n",
       "    </tr>\n",
       "    <tr>\n",
       "      <th>DecisionTree</th>\n",
       "      <td>0.916720</td>\n",
       "      <td>0.613255</td>\n",
       "      <td>0.446814</td>\n",
       "      <td>0.516968</td>\n",
       "      <td>0.776878</td>\n",
       "    </tr>\n",
       "    <tr>\n",
       "      <th>AdaBoostClassifier</th>\n",
       "      <td>0.897876</td>\n",
       "      <td>0.903412</td>\n",
       "      <td>0.408388</td>\n",
       "      <td>0.562499</td>\n",
       "      <td>0.900427</td>\n",
       "    </tr>\n",
       "  </tbody>\n",
       "</table>\n",
       "</div>"
      ],
      "text/plain": [
       "                    Accuracy    Recall  Precision        F1       AUC\n",
       "LogisticRegression  0.891105  0.918963   0.393322  0.550868  0.903942\n",
       "RandomForest        0.916139  0.715617   0.451426  0.553618  0.823735\n",
       "DecisionTree        0.916720  0.613255   0.446814  0.516968  0.776878\n",
       "AdaBoostClassifier  0.897876  0.903412   0.408388  0.562499  0.900427"
      ]
     },
     "execution_count": 33,
     "metadata": {},
     "output_type": "execute_result"
    }
   ],
   "source": [
    "test_result"
   ]
  },
  {
   "cell_type": "code",
   "execution_count": 34,
   "id": "2b266a10",
   "metadata": {},
   "outputs": [
    {
     "name": "stdout",
     "output_type": "stream",
     "text": [
      "------------LogisticRegression-----------\n"
     ]
    },
    {
     "data": {
      "image/png": "[encoded data removed]",
      "text/plain": [
       "<Figure size 640x480 with 2 Axes>"
      ]
     },
     "metadata": {},
     "output_type": "display_data"
    },
    {
     "name": "stdout",
     "output_type": "stream",
     "text": [
      "------------RandomForest-----------\n"
     ]
    },
    {
     "data": {
      "image/png": "[encoded data removed]",
      "text/plain": [
       "<Figure size 640x480 with 2 Axes>"
      ]
     },
     "metadata": {},
     "output_type": "display_data"
    },
    {
     "name": "stdout",
     "output_type": "stream",
     "text": [
      "------------DecisionTree-----------\n"
     ]
    },
    {
     "data": {
      "image/png": "[encoded data removed]",
      "text/plain": [
       "<Figure size 640x480 with 2 Axes>"
      ]
     },
     "metadata": {},
     "output_type": "display_data"
    },
    {
     "name": "stdout",
     "output_type": "stream",
     "text": [
      "------------AdaBoostClassifier-----------\n"
     ]
    },
    {
     "data": {
      "image/png": "[encoded data removed]",
      "text/plain": [
       "<Figure size 640x480 with 2 Axes>"
      ]
     },
     "metadata": {},
     "output_type": "display_data"
    }
   ],
   "source": [
    "# display confusion matrix\n",
    "for name,confusion in cm.items():\n",
    "    print(f\"------------{name}-----------\")\n",
    "    disp = ConfusionMatrixDisplay(confusion_matrix=confusion,\n",
    "                                  display_labels=[0,1])\n",
    "    disp.plot()\n",
    "    plt.show()"
   ]
  },
  {
   "cell_type": "markdown",
   "id": "d52d5042",
   "metadata": {},
   "source": [
    "- based on the result , its safe to say that Logistic regression is the best performing model with robust prediction ability on train and test set for both the classes with 90% accuracy.Remaining three model suffer from overfitting i.e., more accuracy on train set and very less accuracy of test set"
   ]
  },
  {
   "cell_type": "code",
   "execution_count": null,
   "id": "92b68431",
   "metadata": {},
   "outputs": [],
   "source": []
  }
 ],
 "metadata": {
  "kernelspec": {
   "display_name": "Python 3 (ipykernel)",
   "language": "python",
   "name": "python3"
  },
  "language_info": {
   "codemirror_mode": {
    "name": "ipython",
    "version": 3
   },
   "file_extension": ".py",
   "mimetype": "text/x-python",
   "name": "python",
   "nbconvert_exporter": "python",
   "pygments_lexer": "ipython3",
   "version": "3.9.15"
  }
 },
 "nbformat": 4,
 "nbformat_minor": 5
}
