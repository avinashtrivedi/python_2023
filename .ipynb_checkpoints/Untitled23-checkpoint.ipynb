{
 "cells": [
  {
   "cell_type": "code",
   "execution_count": 16,
   "id": "1ddc6f06",
   "metadata": {},
   "outputs": [],
   "source": [
    "import numpy as np\n",
    "\n",
    "def simulate_planetary_system(objects, masses, xpos, ypos, xvel, yvel, T):\n",
    "    # This is a simplified example of simulating planetary motion.\n",
    "    # In reality, you'd need to implement numerical integration methods like Euler's method or Runge-Kutta.\n",
    "    # This placeholder code assumes linear motion for demonstration purposes.\n",
    "\n",
    "    new_xpos = xpos + xvel * T\n",
    "    new_ypos = ypos + yvel * T\n",
    "\n",
    "    return new_xpos, new_ypos  # These are the new positions at time T\n",
    "\n",
    "def calculate_error(good_positions, approx_positions):\n",
    "    # This is a simplified error calculation.\n",
    "    # In reality, you'd calculate the Euclidean distance for each object and sum them.\n",
    "    # This placeholder code calculates the error for a single object (object 0) for demonstration purposes.\n",
    "    \n",
    "    error = np.sqrt((good_positions[0] - approx_positions[0]) ** 2 + (good_positions[1] - approx_positions[1]) ** 2)\n",
    "    \n",
    "    return error\n",
    "\n",
    "# # Example usage:\n",
    "# objects = [\"Sun\", \"Earth\"]\n",
    "# masses = np.array([1.99e+30, 5.97e+24])\n",
    "# xpos = np.array([0.0, -1.15e+11])\n",
    "# ypos = np.array([0.0, -9.75e+10])\n",
    "# xvel = np.array([0.0, 1.90e+04])\n",
    "# yvel = np.array([0.0, -2.27e+04])\n",
    "\n",
    "# T = 1000  # Time to simulate\n",
    "\n",
    "# good_positions = simulate_planetary_system(objects, masses, xpos, ypos, xvel, yvel, T)\n",
    "# approx_positions = simulate_planetary_system(objects, masses, xpos, ypos, xvel, yvel, 0.0)\n",
    "# error = calculate_error(good_positions, approx_positions)\n",
    "# print(\"Error:\", error)\n"
   ]
  },
  {
   "cell_type": "code",
   "execution_count": 20,
   "id": "c9b6582b",
   "metadata": {},
   "outputs": [],
   "source": [
    "import numpy as np\n",
    "\n",
    "def max_accurate_time(file_path, epsilon):\n",
    "    data = np.genfromtxt(file_path, delimiter='\\t', skip_header=1, dtype=None, encoding=None)\n",
    "\n",
    "    # Extract data from the file\n",
    "    objects = data['f0']\n",
    "    masses = data['f1']\n",
    "    xpos = data['f2']\n",
    "    ypos = data['f3']\n",
    "    xvel = data['f4']\n",
    "    yvel = data['f5']\n",
    "\n",
    "    # Time step\n",
    "    T = 0.0\n",
    "    max_T = 0\n",
    "\n",
    "    while True:\n",
    "        T += 1  # Increase the time step\n",
    "\n",
    "        # Simulate the planetary system at time T\n",
    "        good_positions = simulate_planetary_system(objects, masses, xpos, ypos, xvel, yvel, T)\n",
    "\n",
    "        # Simulate the planetary system at time 0 (initial positions)\n",
    "        approx_positions = simulate_planetary_system(objects, masses, xpos, ypos, xvel, yvel, 0.0)\n",
    "\n",
    "        # Calculate errors for all objects\n",
    "        errors = calculate_error(good_positions, approx_positions)\n",
    "\n",
    "        # Check if any error exceeds epsilon\n",
    "        if np.any(errors > epsilon):\n",
    "            break  # The error exceeds the threshold, stop\n",
    "\n",
    "        max_T = T\n",
    "\n",
    "    return max_T\n"
   ]
  },
  {
   "cell_type": "code",
   "execution_count": 21,
   "id": "1bae4340",
   "metadata": {},
   "outputs": [
    {
     "ename": "AssertionError",
     "evalue": "",
     "output_type": "error",
     "traceback": [
      "\u001b[1;31m---------------------------------------------------------------------------\u001b[0m",
      "\u001b[1;31mAssertionError\u001b[0m                            Traceback (most recent call last)",
      "Cell \u001b[1;32mIn[21], line 1\u001b[0m\n\u001b[1;32m----> 1\u001b[0m \u001b[38;5;28;01massert\u001b[39;00m max_accurate_time(\u001b[38;5;124m'\u001b[39m\u001b[38;5;124msolar_system.tsv\u001b[39m\u001b[38;5;124m'\u001b[39m, \u001b[38;5;241m1\u001b[39m) \u001b[38;5;241m==\u001b[39m \u001b[38;5;241m5.0\u001b[39m\n\u001b[0;32m      2\u001b[0m \u001b[38;5;28;01massert\u001b[39;00m max_accurate_time(\u001b[38;5;124m'\u001b[39m\u001b[38;5;124msolar_system.tsv\u001b[39m\u001b[38;5;124m'\u001b[39m, \u001b[38;5;241m1000\u001b[39m) \u001b[38;5;241m==\u001b[39m \u001b[38;5;241m163.0\u001b[39m\n\u001b[0;32m      3\u001b[0m \u001b[38;5;28;01massert\u001b[39;00m max_accurate_time(\u001b[38;5;124m'\u001b[39m\u001b[38;5;124msolar_system.tsv\u001b[39m\u001b[38;5;124m'\u001b[39m, \u001b[38;5;241m100000\u001b[39m) \u001b[38;5;241m==\u001b[39m \u001b[38;5;241m1632.0\u001b[39m\n",
      "\u001b[1;31mAssertionError\u001b[0m: "
     ]
    }
   ],
   "source": [
    "assert max_accurate_time('solar_system.tsv', 1) == 5.0\n",
    "assert max_accurate_time('solar_system.tsv', 1000) == 163.0\n",
    "assert max_accurate_time('solar_system.tsv', 100000) == 1632.0\n"
   ]
  },
  {
   "cell_type": "code",
   "execution_count": null,
   "id": "668ffd5f",
   "metadata": {},
   "outputs": [],
   "source": []
  },
  {
   "cell_type": "code",
   "execution_count": 9,
   "id": "9146fbe4",
   "metadata": {},
   "outputs": [],
   "source": [
    "def test_max_accurate_time():\n",
    "    '''\n",
    "    Run tests of the max_accurate_time function.\n",
    "    If all tests pass you will just see \"all tests passed\".\n",
    "    If any test fails there will be an error message.\n",
    "    NOTE: passing all tests does not automatically mean that your code is correct\n",
    "    because this function only tests a limited number of test cases.\n",
    "    '''\n",
    "    assert max_accurate_time('solar_system.tsv', 1) == 5.0\n",
    "    assert max_accurate_time('solar_system.tsv', 1000) == 163.0\n",
    "    assert max_accurate_time('solar_system.tsv', 100000) == 1632.0\n",
    "    print(\"all tests passed\")\n"
   ]
  },
  {
   "cell_type": "code",
   "execution_count": 10,
   "id": "4c2c7191",
   "metadata": {},
   "outputs": [
    {
     "ename": "AssertionError",
     "evalue": "",
     "output_type": "error",
     "traceback": [
      "\u001b[1;31m---------------------------------------------------------------------------\u001b[0m",
      "\u001b[1;31mAssertionError\u001b[0m                            Traceback (most recent call last)",
      "Cell \u001b[1;32mIn[10], line 1\u001b[0m\n\u001b[1;32m----> 1\u001b[0m \u001b[43mtest_max_accurate_time\u001b[49m\u001b[43m(\u001b[49m\u001b[43m)\u001b[49m\n",
      "Cell \u001b[1;32mIn[9], line 9\u001b[0m, in \u001b[0;36mtest_max_accurate_time\u001b[1;34m()\u001b[0m\n\u001b[0;32m      1\u001b[0m \u001b[38;5;28;01mdef\u001b[39;00m \u001b[38;5;21mtest_max_accurate_time\u001b[39m():\n\u001b[0;32m      2\u001b[0m \u001b[38;5;250m    \u001b[39m\u001b[38;5;124;03m'''\u001b[39;00m\n\u001b[0;32m      3\u001b[0m \u001b[38;5;124;03m    Run tests of the max_accurate_time function.\u001b[39;00m\n\u001b[0;32m      4\u001b[0m \u001b[38;5;124;03m    If all tests pass you will just see \"all tests passed\".\u001b[39;00m\n\u001b[1;32m   (...)\u001b[0m\n\u001b[0;32m      7\u001b[0m \u001b[38;5;124;03m    because this function only tests a limited number of test cases.\u001b[39;00m\n\u001b[0;32m      8\u001b[0m \u001b[38;5;124;03m    '''\u001b[39;00m\n\u001b[1;32m----> 9\u001b[0m     \u001b[38;5;28;01massert\u001b[39;00m max_accurate_time(\u001b[38;5;124m'\u001b[39m\u001b[38;5;124msolar_system.tsv\u001b[39m\u001b[38;5;124m'\u001b[39m, \u001b[38;5;241m1\u001b[39m) \u001b[38;5;241m==\u001b[39m \u001b[38;5;241m5.0\u001b[39m\n\u001b[0;32m     10\u001b[0m     \u001b[38;5;28;01massert\u001b[39;00m max_accurate_time(\u001b[38;5;124m'\u001b[39m\u001b[38;5;124msolar_system.tsv\u001b[39m\u001b[38;5;124m'\u001b[39m, \u001b[38;5;241m1000\u001b[39m) \u001b[38;5;241m==\u001b[39m \u001b[38;5;241m163.0\u001b[39m\n\u001b[0;32m     11\u001b[0m     \u001b[38;5;28;01massert\u001b[39;00m max_accurate_time(\u001b[38;5;124m'\u001b[39m\u001b[38;5;124msolar_system.tsv\u001b[39m\u001b[38;5;124m'\u001b[39m, \u001b[38;5;241m100000\u001b[39m) \u001b[38;5;241m==\u001b[39m \u001b[38;5;241m1632.0\u001b[39m\n",
      "\u001b[1;31mAssertionError\u001b[0m: "
     ]
    }
   ],
   "source": [
    "test_max_accurate_time()"
   ]
  },
  {
   "cell_type": "code",
   "execution_count": null,
   "id": "68280599",
   "metadata": {},
   "outputs": [],
   "source": []
  }
 ],
 "metadata": {
  "kernelspec": {
   "display_name": "Python (myNEWenv)",
   "language": "python",
   "name": "mynewenv"
  },
  "language_info": {
   "codemirror_mode": {
    "name": "ipython",
    "version": 3
   },
   "file_extension": ".py",
   "mimetype": "text/x-python",
   "name": "python",
   "nbconvert_exporter": "python",
   "pygments_lexer": "ipython3",
   "version": "3.10.12"
  }
 },
 "nbformat": 4,
 "nbformat_minor": 5
}
