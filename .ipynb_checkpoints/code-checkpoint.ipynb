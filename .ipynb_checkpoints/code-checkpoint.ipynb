{
 "cells": [
  {
   "cell_type": "code",
   "execution_count": 68,
   "id": "3205b26e",
   "metadata": {},
   "outputs": [
    {
     "name": "stdout",
     "output_type": "stream",
     "text": [
      "error Singular matrix\n",
      "error Singular matrix\n",
      "   1Y  5Y  10Y  30Y  mahalanobis\n",
      "2  -4  10    7   -3    13.714286\n",
      "0   2   2    2    2    10.714286\n",
      "1   3   3    3    3     4.928571\n",
      "2   4   4    4    4     0.017857\n",
      "3   5   5    5    5     0.071429\n",
      "4   6   6    6    6     1.928571\n",
      "5   7   7    7    7     0.000000\n",
      "   1Y  5Y  10Y  30Y  mahalanobis\n",
      "3  -2  -5   20   15     2.959821\n",
      "0   2   2    2    2     2.151786\n",
      "1   3   3    3    3     0.863839\n",
      "2   4   4    4    4     0.198661\n",
      "3   5   5    5    5     0.120536\n",
      "4   6   6    6    6     0.562500\n",
      "5   7   7    7    7     1.982143\n",
      "   1Y  5Y  10Y  30Y  mahalanobis\n",
      "4  18  -9   -8    9   -23.142857\n",
      "0   2   2    2    2     1.660714\n",
      "1   3   3    3    3     0.392857\n",
      "2   4   4    4    4     0.642857\n",
      "3   5   5    5    5     0.500000\n",
      "4   6   6    6    6    -1.000000\n",
      "5   7   7    7    7     4.857143\n",
      "error Singular matrix\n"
     ]
    }
   ],
   "source": [
    "import pandas as pd\n",
    "import numpy as np\n",
    "\n",
    "stress_scenarios = pd.read_excel('Stress scenarios.xlsx')\n",
    "im_scenarios = pd.read_excel('IM scenarios.xlsx')\n",
    "\n",
    "def mahalanobis(x=None, data=None, cov=None):\n",
    "    x_mu = x - np.mean(data)\n",
    "    if not cov:\n",
    "        cov = np.cov(data.values.T)\n",
    "    inv_covmat = np.linalg.inv(cov)\n",
    "    left = np.dot(x_mu, inv_covmat)\n",
    "    mahal = np.dot(left, x_mu.T)\n",
    "    return mahal.diagonal()\n",
    "\n",
    "# I want to have one stress scenario + all IM scenarios per dataframe.\n",
    "# 1. Iterate through the stress scenario index by using .index\n",
    "# 2. Use df.loc[[i]], which selects the stress scenario row by the index\n",
    "# 3. Concat the dataframe\n",
    "df = []\n",
    "new_df = []\n",
    "for stress_scenario_row in stress_scenarios.index:\n",
    "    try:\n",
    "        result_df = pd.concat([stress_scenarios.loc[[stress_scenario_row]], im_scenarios], axis=0)\n",
    "        result_df['mahalanobis'] = mahalanobis(x=result_df, data=result_df[['1Y', '5Y', '10Y', '30Y']])\n",
    "        df_one_row = result_df.head(1)\n",
    "        new_df.append(df_one_row)\n",
    "        print(result_df)\n",
    "        df.append(result_df)\n",
    "    except Exception as e:\n",
    "        df.append(result_df)\n",
    "        print('error',e)\n",
    "\n",
    "#Requirement is now to create a new dataframe that just selects the first row from each of the concatenated dataframes"
   ]
  },
  {
   "cell_type": "code",
   "execution_count": 71,
   "id": "b937ecbd",
   "metadata": {},
   "outputs": [
    {
     "data": {
      "text/html": [
       "<div>\n",
       "<style scoped>\n",
       "    .dataframe tbody tr th:only-of-type {\n",
       "        vertical-align: middle;\n",
       "    }\n",
       "\n",
       "    .dataframe tbody tr th {\n",
       "        vertical-align: top;\n",
       "    }\n",
       "\n",
       "    .dataframe thead th {\n",
       "        text-align: right;\n",
       "    }\n",
       "</style>\n",
       "<table border=\"1\" class=\"dataframe\">\n",
       "  <thead>\n",
       "    <tr style=\"text-align: right;\">\n",
       "      <th></th>\n",
       "      <th>1Y</th>\n",
       "      <th>5Y</th>\n",
       "      <th>10Y</th>\n",
       "      <th>30Y</th>\n",
       "      <th>mahalanobis</th>\n",
       "    </tr>\n",
       "  </thead>\n",
       "  <tbody>\n",
       "    <tr>\n",
       "      <th>3</th>\n",
       "      <td>-2</td>\n",
       "      <td>-5</td>\n",
       "      <td>20</td>\n",
       "      <td>15</td>\n",
       "      <td>2.959821</td>\n",
       "    </tr>\n",
       "  </tbody>\n",
       "</table>\n",
       "</div>"
      ],
      "text/plain": [
       "   1Y  5Y  10Y  30Y  mahalanobis\n",
       "3  -2  -5   20   15     2.959821"
      ]
     },
     "execution_count": 71,
     "metadata": {},
     "output_type": "execute_result"
    }
   ],
   "source": [
    "new_df[1]"
   ]
  },
  {
   "cell_type": "code",
   "execution_count": null,
   "id": "4d062eeb",
   "metadata": {},
   "outputs": [],
   "source": []
  }
 ],
 "metadata": {
  "kernelspec": {
   "display_name": "Python 3 (ipykernel)",
   "language": "python",
   "name": "python3"
  },
  "language_info": {
   "codemirror_mode": {
    "name": "ipython",
    "version": 3
   },
   "file_extension": ".py",
   "mimetype": "text/x-python",
   "name": "python",
   "nbconvert_exporter": "python",
   "pygments_lexer": "ipython3",
   "version": "3.9.15"
  }
 },
 "nbformat": 4,
 "nbformat_minor": 5
}
