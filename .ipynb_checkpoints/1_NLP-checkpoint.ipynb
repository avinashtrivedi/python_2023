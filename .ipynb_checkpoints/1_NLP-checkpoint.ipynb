{
 "cells": [
  {
   "cell_type": "code",
   "execution_count": 75,
   "id": "d72c56c7",
   "metadata": {},
   "outputs": [],
   "source": [
    "d1 = \"Hi There\".split()\n",
    "d2 = \"There are few apples\".split()\n",
    "d3 = \"hi How are you\".split()"
   ]
  },
  {
   "cell_type": "code",
   "execution_count": 87,
   "id": "c6d39afb",
   "metadata": {},
   "outputs": [],
   "source": [
    "d1 = list(map(str.lower,d1))\n",
    "d2 = list(map(str.lower,d2))\n",
    "d3 = list(map(str.lower,d3))"
   ]
  },
  {
   "cell_type": "code",
   "execution_count": 81,
   "id": "5cf63e04",
   "metadata": {},
   "outputs": [
    {
     "data": {
      "text/plain": [
       "['there', 'are', 'few', 'apples']"
      ]
     },
     "execution_count": 81,
     "metadata": {},
     "output_type": "execute_result"
    }
   ],
   "source": [
    "[i.lower() for i in d2]"
   ]
  },
  {
   "cell_type": "code",
   "execution_count": 86,
   "id": "97a509d1",
   "metadata": {},
   "outputs": [
    {
     "data": {
      "text/plain": [
       "['there', 'are', 'few', 'apples']"
      ]
     },
     "execution_count": 86,
     "metadata": {},
     "output_type": "execute_result"
    }
   ],
   "source": [
    "list(map(str.lower,d2))"
   ]
  },
  {
   "cell_type": "code",
   "execution_count": 88,
   "id": "2df7254d",
   "metadata": {},
   "outputs": [
    {
     "data": {
      "text/plain": [
       "['hi', 'there']"
      ]
     },
     "execution_count": 88,
     "metadata": {},
     "output_type": "execute_result"
    }
   ],
   "source": [
    "d1"
   ]
  },
  {
   "cell_type": "code",
   "execution_count": null,
   "id": "537ca305",
   "metadata": {},
   "outputs": [],
   "source": []
  },
  {
   "cell_type": "code",
   "execution_count": null,
   "id": "b5f370ff",
   "metadata": {},
   "outputs": [],
   "source": []
  },
  {
   "cell_type": "code",
   "execution_count": 76,
   "id": "4dcc1b5f",
   "metadata": {},
   "outputs": [
    {
     "data": {
      "text/plain": [
       "['hi', 'How', 'are', 'you']"
      ]
     },
     "execution_count": 76,
     "metadata": {},
     "output_type": "execute_result"
    }
   ],
   "source": [
    "d3"
   ]
  },
  {
   "cell_type": "code",
   "execution_count": 77,
   "id": "dec111f7",
   "metadata": {},
   "outputs": [
    {
     "data": {
      "text/plain": [
       "{'Hi', 'How', 'There', 'apples', 'are', 'few', 'hi', 'you'}"
      ]
     },
     "execution_count": 77,
     "metadata": {},
     "output_type": "execute_result"
    }
   ],
   "source": [
    "# token \n",
    "set(d1+d2+d3)"
   ]
  },
  {
   "cell_type": "code",
   "execution_count": 21,
   "id": "370daf8b",
   "metadata": {},
   "outputs": [],
   "source": [
    "# d1.extend(d2)"
   ]
  },
  {
   "cell_type": "code",
   "execution_count": 22,
   "id": "91ca9cfe",
   "metadata": {},
   "outputs": [],
   "source": [
    "# d1.extend(d3)"
   ]
  },
  {
   "cell_type": "code",
   "execution_count": 23,
   "id": "c8f4ba2d",
   "metadata": {},
   "outputs": [
    {
     "name": "stdout",
     "output_type": "stream",
     "text": [
      "you\n",
      "Hi\n",
      "apples\n",
      "There\n",
      "How\n",
      "few\n",
      "are\n"
     ]
    }
   ],
   "source": [
    "for i in set(d1+d2+d3):\n",
    "    print(i)"
   ]
  },
  {
   "cell_type": "code",
   "execution_count": 24,
   "id": "4eca19a9",
   "metadata": {},
   "outputs": [],
   "source": [
    "from gensim.models import KeyedVectors\n",
    "# https://s3.amazonaws.com/dl4j-distribution/GoogleNews-vectors-negative300.bin.gz"
   ]
  },
  {
   "cell_type": "code",
   "execution_count": 34,
   "id": "7d1c3fb0",
   "metadata": {},
   "outputs": [],
   "source": [
    "w2v = KeyedVectors.load_word2vec_format(r'E:\\VECTOR\\GoogleNews-vectors-negative300.bin.gz',binary=True)"
   ]
  },
  {
   "cell_type": "code",
   "execution_count": 90,
   "id": "fc1b28f1",
   "metadata": {},
   "outputs": [],
   "source": [
    "import numpy as np\n",
    "a = np.zeros_like(w2v['hi'])\n",
    "for i in d2:\n",
    "    a = a + w2v[i]\n",
    "a = a/len(d2)"
   ]
  },
  {
   "cell_type": "code",
   "execution_count": 91,
   "id": "166df990",
   "metadata": {},
   "outputs": [
    {
     "data": {
      "text/plain": [
       "array([-1.83105469e-03, -6.75201416e-03, -1.14784241e-02,  7.21435547e-02,\n",
       "       -1.02294922e-01, -7.50122070e-02,  5.46569824e-02, -4.59289551e-02,\n",
       "        4.70581055e-02,  1.52404785e-01, -7.69042969e-02, -9.42993164e-02,\n",
       "       -8.50830078e-02,  1.27197266e-01, -1.58325195e-01,  8.95996094e-02,\n",
       "        3.63769531e-02,  1.15598679e-01, -1.70776367e-01, -7.76672363e-03,\n",
       "       -1.31927490e-01,  3.56292725e-02,  2.22015381e-02, -9.76562500e-04,\n",
       "        5.40771484e-02,  3.57666016e-02, -1.75552368e-01,  6.35681152e-02,\n",
       "       -1.09558105e-01, -3.76281738e-02, -1.53808594e-01, -2.47573853e-02,\n",
       "        1.41601562e-02,  7.32421875e-03, -7.81250000e-03,  1.50756836e-02,\n",
       "        7.08122253e-02, -1.18408203e-01,  1.34643555e-01,  7.32421875e-02,\n",
       "        2.33154297e-01, -6.29272461e-02,  5.06744385e-02, -6.70166016e-02,\n",
       "       -1.75476074e-02, -6.19506836e-02, -9.05227661e-02, -1.64184570e-02,\n",
       "       -9.33227539e-02, -5.07812500e-02, -3.39508057e-03,  2.52838135e-02,\n",
       "       -1.27838135e-01, -4.05273438e-02, -6.06689453e-02, -1.24206543e-02,\n",
       "        6.51855469e-02, -3.93066406e-02,  3.66516113e-02, -1.28784180e-01,\n",
       "       -5.03425598e-02,  1.51000977e-01, -1.23291016e-02, -4.49829102e-02,\n",
       "       -5.10864258e-02, -7.05757141e-02, -9.11865234e-02,  1.62048340e-02,\n",
       "       -1.36657715e-01, -3.76892090e-03,  3.42102051e-02,  8.17565918e-02,\n",
       "       -1.19018555e-02, -6.60095215e-02, -1.89819336e-01, -5.02166748e-02,\n",
       "       -3.52783203e-02,  3.19519043e-02,  4.39453125e-02,  1.35452271e-01,\n",
       "        1.08032227e-02, -3.13110352e-02,  7.08007812e-03, -3.42941284e-02,\n",
       "       -8.76464844e-02, -9.91210938e-02, -3.60870361e-02,  1.53198242e-02,\n",
       "        6.08062744e-03,  5.09185791e-02,  9.08660889e-02,  8.45947266e-02,\n",
       "       -1.27075195e-01, -3.63159180e-03, -4.37011719e-02, -2.45056152e-02,\n",
       "        1.27929688e-01,  1.47247314e-01,  7.15637207e-02, -5.76782227e-02,\n",
       "       -2.32887268e-02,  3.42941284e-03,  1.03271484e-01,  1.21398926e-01,\n",
       "        2.99606323e-02, -1.41113281e-01, -4.21752930e-02,  3.31420898e-02,\n",
       "       -7.14111328e-03, -1.98211670e-01, -1.58386230e-01,  3.96347046e-02,\n",
       "        6.12030029e-02, -6.29882812e-02, -3.75976562e-02,  4.24804688e-02,\n",
       "        9.41162109e-02, -1.07666016e-01,  4.46777344e-02,  7.61108398e-02,\n",
       "       -1.23596191e-01,  8.94775391e-02, -4.51660156e-02, -5.27954102e-03,\n",
       "        2.00805664e-02, -2.39372253e-04, -1.69555664e-01,  4.84619141e-02,\n",
       "        7.69042969e-03,  1.36322021e-01, -5.87158203e-02, -1.75537109e-01,\n",
       "        3.05175781e-03, -5.38330078e-02,  5.13916016e-02,  3.29589844e-03,\n",
       "        1.89575195e-01,  5.24902344e-02,  1.22436523e-01,  1.92260742e-02,\n",
       "        1.20239258e-02, -1.07025146e-01,  2.03979492e-01, -5.64575195e-03,\n",
       "        7.37915039e-02,  6.73828125e-02,  7.84301758e-03, -8.03833008e-02,\n",
       "       -1.28967285e-01, -1.77230835e-02,  9.32312012e-03,  3.68041992e-02,\n",
       "       -1.27441406e-01,  2.86703110e-02, -8.05664062e-02,  3.96423340e-02,\n",
       "       -1.28707886e-01, -2.01416016e-01, -1.65996552e-01,  1.07177734e-01,\n",
       "       -1.37145996e-01,  1.85546875e-02,  1.05621338e-01,  2.40478516e-02,\n",
       "        1.52099609e-01, -6.16683960e-02, -1.14440918e-02,  1.75476074e-02,\n",
       "        9.87243652e-02, -1.31774902e-01, -3.28857422e-01,  3.69873047e-02,\n",
       "       -1.28784180e-01, -7.69042969e-02, -5.45959473e-02, -1.04125977e-01,\n",
       "       -6.46972656e-02,  2.13623047e-03,  1.19445801e-01,  1.25976562e-01,\n",
       "       -6.52694702e-02, -4.47616577e-02,  7.99407959e-02,  1.84326172e-01,\n",
       "       -9.15527344e-03,  4.09545898e-02, -1.43432617e-03,  7.97576904e-02,\n",
       "       -1.10321045e-02,  1.36962891e-01,  2.55126953e-02,  5.26123047e-02,\n",
       "       -2.12707520e-02, -7.14416504e-02, -4.85839844e-02,  8.36791992e-02,\n",
       "        5.05065918e-02, -1.30981445e-01, -9.24377441e-02, -6.39953613e-02,\n",
       "        5.51757812e-02,  5.73730469e-02,  1.94702148e-02, -4.32739258e-02,\n",
       "       -1.30065918e-01,  4.73632812e-02, -6.27059937e-02, -2.71301270e-02,\n",
       "       -8.94165039e-03,  4.90112305e-02, -6.53076172e-03, -5.26123047e-02,\n",
       "       -1.85241699e-02,  5.52978516e-02, -5.57861328e-02,  1.32202148e-01,\n",
       "        9.14306641e-02,  1.91040039e-02, -5.82275391e-02,  1.00463867e-01,\n",
       "       -1.67846680e-02, -1.42364502e-02, -8.53881836e-02, -6.48193359e-02,\n",
       "        7.02514648e-02, -5.22613525e-03,  5.86128235e-03,  1.07391357e-01,\n",
       "       -3.60717773e-02,  8.17260742e-02, -7.32421875e-04, -1.41937256e-01,\n",
       "        5.59692383e-02,  1.12854004e-01,  9.03320312e-02, -8.36486816e-02,\n",
       "        1.52587891e-02, -1.06353760e-01,  8.95996094e-02,  5.37109375e-02,\n",
       "        2.36968994e-02,  1.75537109e-01,  2.10571289e-02, -4.63943481e-02,\n",
       "       -4.16870117e-02,  4.29077148e-02, -3.99627686e-02,  8.11004639e-02,\n",
       "       -4.59289551e-02,  8.47167969e-02, -1.28112793e-01, -7.56835938e-02,\n",
       "        1.87454224e-02, -2.47192383e-03,  6.74438477e-02,  5.63354492e-02,\n",
       "        2.05078125e-02,  5.27343750e-02, -1.05804443e-01, -9.61914062e-02,\n",
       "        2.39562988e-03, -9.75341797e-02, -4.96826172e-02,  5.42602539e-02,\n",
       "        1.87988281e-02,  7.73925781e-02, -1.51306152e-01,  4.13818359e-02,\n",
       "       -8.45947266e-02, -6.49108887e-02,  1.64428711e-01,  2.20703125e-01,\n",
       "        1.69921875e-01,  1.00585938e-01,  5.84716797e-02, -1.78527832e-02,\n",
       "        6.46057129e-02, -1.71142578e-01, -9.52148438e-02,  1.34277344e-02,\n",
       "       -7.55615234e-02,  1.02233887e-02,  1.08261108e-01, -7.30590820e-02,\n",
       "        1.57470703e-02, -3.94287109e-02, -9.81674194e-02,  4.70581055e-02,\n",
       "        2.22167969e-02,  2.19665527e-01, -7.76329041e-02, -3.56140137e-02,\n",
       "       -8.95385742e-02, -5.41381836e-02,  7.96203613e-02,  9.71679688e-02,\n",
       "        5.08117676e-03,  7.05261230e-02,  1.27563477e-01,  2.57568359e-02],\n",
       "      dtype=float32)"
      ]
     },
     "execution_count": 91,
     "metadata": {},
     "output_type": "execute_result"
    }
   ],
   "source": [
    "a"
   ]
  },
  {
   "cell_type": "code",
   "execution_count": 59,
   "id": "9790a9cb",
   "metadata": {},
   "outputs": [
    {
     "data": {
      "text/plain": [
       "False"
      ]
     },
     "execution_count": 59,
     "metadata": {},
     "output_type": "execute_result"
    }
   ],
   "source": [
    "all(a == b)"
   ]
  },
  {
   "cell_type": "code",
   "execution_count": null,
   "id": "537d46e2",
   "metadata": {},
   "outputs": [],
   "source": [
    "# Get a text dataset\n",
    "# get the embedding\n",
    "# write a fn to return the most similar document"
   ]
  },
  {
   "cell_type": "code",
   "execution_count": null,
   "id": "edcb4887",
   "metadata": {},
   "outputs": [],
   "source": [
    "# 'i am going home'\n",
    "\n",
    "# 'i am hoing to my room'"
   ]
  },
  {
   "cell_type": "code",
   "execution_count": 92,
   "id": "55a17b6a",
   "metadata": {},
   "outputs": [],
   "source": [
    "import pandas as pd"
   ]
  },
  {
   "cell_type": "code",
   "execution_count": 97,
   "id": "38b4693f",
   "metadata": {},
   "outputs": [],
   "source": [
    "df = pd.read_csv('D:\\\\OneDrive - NITT\\\\Desktop\\\\train.csv')"
   ]
  },
  {
   "cell_type": "code",
   "execution_count": 107,
   "id": "c4bd020c",
   "metadata": {},
   "outputs": [],
   "source": [
    "data = df['question1'][:100]"
   ]
  },
  {
   "cell_type": "code",
   "execution_count": 108,
   "id": "2c0343bb",
   "metadata": {},
   "outputs": [
    {
     "data": {
      "text/plain": [
       "0     What is the step by step guide to invest in sh...\n",
       "1                                                     1\n",
       "2     How can I increase the speed of my internet co...\n",
       "3     Why am I mentally very lonely? How can I solve...\n",
       "4     Which one dissolve in water quikly sugar, salt...\n",
       "                            ...                        \n",
       "95                           How does 3D printing work?\n",
       "96    What was it like to attend Caltech with Jeremy...\n",
       "97                      Why did harry become a horcrux?\n",
       "98    What are the best associate product manager (A...\n",
       "99    Why is the number for Skype at 1-855-425-3768 ...\n",
       "Name: question1, Length: 100, dtype: object"
      ]
     },
     "execution_count": 108,
     "metadata": {},
     "output_type": "execute_result"
    }
   ],
   "source": [
    "data"
   ]
  },
  {
   "cell_type": "code",
   "execution_count": null,
   "id": "ef9b78e8",
   "metadata": {},
   "outputs": [],
   "source": [
    "def get_vector(line):\n",
    "    a = np.zeros_like(w2v['hi'])\n",
    "    \n",
    "    # we need as list of word\n",
    "    for i in ...:\n",
    "        a = a + w2v[i]\n",
    "    a = a/len(...)\n",
    "    return ..."
   ]
  },
  {
   "cell_type": "code",
   "execution_count": 102,
   "id": "6e2caf5e",
   "metadata": {},
   "outputs": [],
   "source": [
    "# Craete a new dataframe , with text and embedding\n",
    "# Use lambda function to get embedding\n",
    "# Create a new function which take a single argument as user text"
   ]
  },
  {
   "cell_type": "code",
   "execution_count": null,
   "id": "82de594b",
   "metadata": {},
   "outputs": [],
   "source": [
    "def newfunction(text):\n",
    "    text_vect = ... # store text vector\n",
    "    \n",
    "    # compute cosine similarity text_vect against entire 100 vectors\n",
    "#     sklearn.metrics.pairwise.cosine_distances\n",
    "    # return the line with highest cosine similarity"
   ]
  },
  {
   "cell_type": "code",
   "execution_count": 104,
   "id": "7b31da09",
   "metadata": {},
   "outputs": [
    {
     "data": {
      "text/plain": [
       "0     What is the step by step guide to invest in sh...\n",
       "1                                                     1\n",
       "2     How can I increase the speed of my internet co...\n",
       "3     Why am I mentally very lonely? How can I solve...\n",
       "4     Which one dissolve in water quikly sugar, salt...\n",
       "                            ...                        \n",
       "95                           How does 3D printing work?\n",
       "96    What was it like to attend Caltech with Jeremy...\n",
       "97                      Why did harry become a horcrux?\n",
       "98    What are the best associate product manager (A...\n",
       "99    Why is the number for Skype at 1-855-425-3768 ...\n",
       "Name: question1, Length: 100, dtype: object"
      ]
     },
     "execution_count": 104,
     "metadata": {},
     "output_type": "execute_result"
    }
   ],
   "source": [
    "data"
   ]
  },
  {
   "cell_type": "code",
   "execution_count": null,
   "id": "edf142d7",
   "metadata": {},
   "outputs": [],
   "source": [
    "'where is google situated'"
   ]
  },
  {
   "cell_type": "code",
   "execution_count": null,
   "id": "c4c0234f",
   "metadata": {},
   "outputs": [],
   "source": []
  },
  {
   "cell_type": "code",
   "execution_count": 112,
   "id": "f9304cf8",
   "metadata": {},
   "outputs": [],
   "source": [
    "for i in range(100):\n",
    "    ..."
   ]
  },
  {
   "cell_type": "code",
   "execution_count": null,
   "id": "1c3b9e99",
   "metadata": {},
   "outputs": [],
   "source": []
  }
 ],
 "metadata": {
  "kernelspec": {
   "display_name": "Python (myNEWenv)",
   "language": "python",
   "name": "mynewenv"
  },
  "language_info": {
   "codemirror_mode": {
    "name": "ipython",
    "version": 3
   },
   "file_extension": ".py",
   "mimetype": "text/x-python",
   "name": "python",
   "nbconvert_exporter": "python",
   "pygments_lexer": "ipython3",
   "version": "3.10.12"
  }
 },
 "nbformat": 4,
 "nbformat_minor": 5
}
