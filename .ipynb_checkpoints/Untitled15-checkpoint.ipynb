{
 "cells": [
  {
   "cell_type": "code",
   "execution_count": 8,
   "id": "f9594f77",
   "metadata": {},
   "outputs": [],
   "source": [
    "from application.app.folder import file"
   ]
  },
  {
   "cell_type": "code",
   "execution_count": 9,
   "id": "b152ec71",
   "metadata": {},
   "outputs": [
    {
     "name": "stdout",
     "output_type": "stream",
     "text": [
      "in folder app\n"
     ]
    }
   ],
   "source": [
    "file.fun1()"
   ]
  },
  {
   "cell_type": "code",
   "execution_count": 10,
   "id": "415db24a",
   "metadata": {},
   "outputs": [],
   "source": [
    "from application.app2.some_folder import some_file"
   ]
  },
  {
   "cell_type": "code",
   "execution_count": 12,
   "id": "f0e38dc6",
   "metadata": {},
   "outputs": [
    {
     "name": "stdout",
     "output_type": "stream",
     "text": [
      "in folder app\n",
      "in some folder some app\n"
     ]
    }
   ],
   "source": [
    "some_file.fun2()"
   ]
  },
  {
   "cell_type": "code",
   "execution_count": null,
   "id": "2c341865",
   "metadata": {},
   "outputs": [],
   "source": []
  }
 ],
 "metadata": {
  "kernelspec": {
   "display_name": "Python 3 (ipykernel)",
   "language": "python",
   "name": "python3"
  },
  "language_info": {
   "codemirror_mode": {
    "name": "ipython",
    "version": 3
   },
   "file_extension": ".py",
   "mimetype": "text/x-python",
   "name": "python",
   "nbconvert_exporter": "python",
   "pygments_lexer": "ipython3",
   "version": "3.9.15"
  }
 },
 "nbformat": 4,
 "nbformat_minor": 5
}
