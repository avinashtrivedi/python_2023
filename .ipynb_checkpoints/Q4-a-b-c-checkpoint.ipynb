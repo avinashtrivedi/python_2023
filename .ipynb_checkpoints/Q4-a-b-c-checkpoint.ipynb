{
 "cells": [
  {
   "cell_type": "markdown",
   "id": "0ce20c56",
   "metadata": {},
   "source": [
    "# Q4-a"
   ]
  },
  {
   "cell_type": "code",
   "execution_count": 1,
   "id": "5832cc24",
   "metadata": {},
   "outputs": [],
   "source": [
    "import pandas as pd\n",
    "from sklearn.model_selection import train_test_split\n",
    "from sklearn.ensemble import ExtraTreesClassifier,RandomForestClassifier\n",
    "from lightgbm import LGBMClassifier\n",
    "from xgboost import XGBClassifier"
   ]
  },
  {
   "cell_type": "code",
   "execution_count": null,
   "id": "1cc54a30",
   "metadata": {
    "scrolled": true
   },
   "outputs": [],
   "source": [
    "def GetFeatureImportances(dic_models,filename):\n",
    "    df = pd.read_csv(f\"{filename}\")\n",
    "    X = df.drop('Loan_Status',axis=1).values\n",
    "    y = df['Loan_Status'].values\n",
    "    X_train, X_test, y_train, y_test = train_test_split(X, y, test_size=0.20, random_state=42)\n",
    "    df1 = pd.DataFrame(index=list(df)[:-1])\n",
    "    for name in dic_models:\n",
    "        model = dic_models[name]\n",
    "        model.fit(X_train,y_train)\n",
    "        imp = model.feature_importances_\n",
    "        normalized = (imp-min(imp))/(max(imp)-min(imp))\n",
    "        df1[name] = normalized\n",
    "    return df1"
   ]
  },
  {
   "cell_type": "code",
   "execution_count": null,
   "id": "40b07cd5",
   "metadata": {},
   "outputs": [],
   "source": [
    "dic_models={\"ET\":ExtraTreesClassifier(random_state=1),\n",
    "\"XGB\":XGBClassifier(random_state = 2),\n",
    "\"RF\":RandomForestClassifier(random_state = 2),\n",
    "\"LGBM\": LGBMClassifier(random_state = 2)}\n",
    "df_featImportances = GetFeatureImportances(dic_models, filename=\"q4_XAI_data.csv\")\n",
    "df_featImportances"
   ]
  },
  {
   "cell_type": "markdown",
   "id": "d6c1ef47",
   "metadata": {},
   "source": [
    "# Q4-b"
   ]
  },
  {
   "cell_type": "code",
   "execution_count": null,
   "id": "e213be87",
   "metadata": {},
   "outputs": [],
   "source": [
    "from sklearn.metrics import recall_score, precision_score, f1_score,accuracy_score"
   ]
  },
  {
   "cell_type": "code",
   "execution_count": null,
   "id": "1ab78fa4",
   "metadata": {},
   "outputs": [],
   "source": [
    "def RunClassification_featureRemoval(dic_models, filename, n_feats_remove):\n",
    "    \n",
    "    df = pd.read_csv(rf\"D:\\OneDrive - NITT\\Custom_Download\\{filename}\")\n",
    "    X = df.drop('Loan_Status',axis=1)\n",
    "    y = df['Loan_Status']\n",
    "    \n",
    "    df1 = pd.DataFrame([],columns=['name','accuracy','precision','recall','f1'])\n",
    "    \n",
    "    for name in dic_models:\n",
    "        model = dic_models[name]\n",
    "        \n",
    "        X_train, X_test, y_train, y_test = train_test_split(X, y, test_size=0.20, random_state=42)\n",
    "        model.fit(X_train,y_train)\n",
    "        y_pred = model.predict(X_test)\n",
    "        acc = accuracy_score (y_test, y_pred)\n",
    "        pre = precision_score (y_test, y_pred)\n",
    "        recall = recall_score (y_test, y_pred)\n",
    "        f1 = f1_score(y_test, y_pred)\n",
    "        df1.loc[len(df1)] = [name,acc,pre,recall,f1]\n",
    "        \n",
    "        X_remaining_cols = df_featImportances[name].sort_values(ascending=False)[n_feats_remove:].index\n",
    "        \n",
    "        X_small = X[X_remaining_cols]\n",
    "        X_train, X_test, y_train, y_test = train_test_split(X_small, y, test_size=0.20, random_state=42)\n",
    "        model.fit(X_train,y_train)\n",
    "        y_pred = model.predict(X_test)\n",
    "        acc = accuracy_score (y_test, y_pred)\n",
    "        pre = precision_score (y_test, y_pred)\n",
    "        recall = recall_score (y_test, y_pred)\n",
    "        f1 = f1_score(y_test, y_pred)\n",
    "        df1.loc[len(df1)] = [f\"{name}-rtop{n_feats_remove}\",acc,pre,recall,f1]\n",
    "        \n",
    "    df1.set_index('name',inplace=True)\n",
    "    return df1"
   ]
  },
  {
   "cell_type": "code",
   "execution_count": null,
   "id": "c3765e96",
   "metadata": {},
   "outputs": [],
   "source": [
    "dic_models={\"XGB\":XGBClassifier(random_state = 2),\n",
    "\"LGBM\": LGBMClassifier(random_state = 2)}\n",
    "df_fremovalRess=RunClassification_featureRemoval(dic_models, filename=\"q4_XAI_data.csv\", n_feats_remove=3)\n",
    "df_fremovalRess"
   ]
  },
  {
   "cell_type": "markdown",
   "id": "0b9f02ef",
   "metadata": {},
   "source": [
    "# Q4-c"
   ]
  },
  {
   "cell_type": "code",
   "execution_count": 2,
   "id": "886ea570",
   "metadata": {},
   "outputs": [],
   "source": [
    "import shap\n",
    "import numpy as np"
   ]
  },
  {
   "cell_type": "code",
   "execution_count": 3,
   "id": "15ffe695",
   "metadata": {},
   "outputs": [],
   "source": [
    "def GetTreeSHAPImportance_values(dic_models, filename, test_size):\n",
    "    df = pd.read_csv(f\"{filename}\")\n",
    "    X = df.drop('Loan_Status',axis=1).values\n",
    "    y = df['Loan_Status'].values\n",
    "    X_train, X_test, y_train, y_test = train_test_split(X, y, test_size=test_size, random_state=42)\n",
    "    df1 = pd.DataFrame(index=list(df)[:-1])\n",
    "    for name in dic_models:\n",
    "        clf = dic_models[name]\n",
    "        model = clf.fit(X_train,y_train)\n",
    "        explainer = shap.TreeExplainer(model)\n",
    "        vals = explainer.shap_values(X_test)\n",
    "        if isinstance(vals,list):\n",
    "            vals = vals[0]\n",
    "        imp = np.array([abs(vals[:,i]).sum() for i in range(11)])\n",
    "        normalized = (imp-min(imp))/(max(imp)-min(imp))\n",
    "        \n",
    "        df1[name] = normalized\n",
    "    return df1"
   ]
  },
  {
   "cell_type": "code",
   "execution_count": 4,
   "id": "ae2471aa",
   "metadata": {},
   "outputs": [
    {
     "name": "stderr",
     "output_type": "stream",
     "text": [
      "ntree_limit is deprecated, use `iteration_range` or model slicing instead.\n",
      "LightGBM binary classifier with TreeExplainer shap values output has changed to a list of ndarray\n"
     ]
    }
   ],
   "source": [
    "dic_models={\n",
    "\"ET\":ExtraTreesClassifier(random_state=1),\n",
    "\"XGB\":XGBClassifier(random_state = 2),\n",
    "\"RF\":RandomForestClassifier(random_state = 2),\n",
    "\"LGBM\": LGBMClassifier(random_state = 2)\n",
    "}\n",
    "\n",
    "df_treeSHAPImportances=GetTreeSHAPImportance_values(dic_models, filename=\"q4_XAI_data.csv\", test_size = 0.2)\n"
   ]
  },
  {
   "cell_type": "code",
   "execution_count": 5,
   "id": "d4c0a563",
   "metadata": {},
   "outputs": [
    {
     "data": {
      "text/html": [
       "<div>\n",
       "<style scoped>\n",
       "    .dataframe tbody tr th:only-of-type {\n",
       "        vertical-align: middle;\n",
       "    }\n",
       "\n",
       "    .dataframe tbody tr th {\n",
       "        vertical-align: top;\n",
       "    }\n",
       "\n",
       "    .dataframe thead th {\n",
       "        text-align: right;\n",
       "    }\n",
       "</style>\n",
       "<table border=\"1\" class=\"dataframe\">\n",
       "  <thead>\n",
       "    <tr style=\"text-align: right;\">\n",
       "      <th></th>\n",
       "      <th>ET</th>\n",
       "      <th>XGB</th>\n",
       "      <th>RF</th>\n",
       "      <th>LGBM</th>\n",
       "    </tr>\n",
       "  </thead>\n",
       "  <tbody>\n",
       "    <tr>\n",
       "      <th>Gender</th>\n",
       "      <td>0.022885</td>\n",
       "      <td>0.059476</td>\n",
       "      <td>0.014118</td>\n",
       "      <td>0.013935</td>\n",
       "    </tr>\n",
       "    <tr>\n",
       "      <th>Married</th>\n",
       "      <td>0.124195</td>\n",
       "      <td>0.176754</td>\n",
       "      <td>0.096959</td>\n",
       "      <td>0.149068</td>\n",
       "    </tr>\n",
       "    <tr>\n",
       "      <th>Dependents</th>\n",
       "      <td>0.102660</td>\n",
       "      <td>0.119689</td>\n",
       "      <td>0.059385</td>\n",
       "      <td>0.085737</td>\n",
       "    </tr>\n",
       "    <tr>\n",
       "      <th>Education</th>\n",
       "      <td>0.040771</td>\n",
       "      <td>0.034346</td>\n",
       "      <td>0.013676</td>\n",
       "      <td>0.052030</td>\n",
       "    </tr>\n",
       "    <tr>\n",
       "      <th>Self_Employed</th>\n",
       "      <td>0.000000</td>\n",
       "      <td>0.000000</td>\n",
       "      <td>0.000000</td>\n",
       "      <td>0.000000</td>\n",
       "    </tr>\n",
       "    <tr>\n",
       "      <th>ApplicantIncome</th>\n",
       "      <td>0.055228</td>\n",
       "      <td>0.581620</td>\n",
       "      <td>0.152531</td>\n",
       "      <td>0.416175</td>\n",
       "    </tr>\n",
       "    <tr>\n",
       "      <th>CoapplicantIncome</th>\n",
       "      <td>0.066092</td>\n",
       "      <td>0.458876</td>\n",
       "      <td>0.109563</td>\n",
       "      <td>0.347184</td>\n",
       "    </tr>\n",
       "    <tr>\n",
       "      <th>LoanAmount</th>\n",
       "      <td>0.069007</td>\n",
       "      <td>0.545512</td>\n",
       "      <td>0.152045</td>\n",
       "      <td>0.358062</td>\n",
       "    </tr>\n",
       "    <tr>\n",
       "      <th>Loan_Amount_Term</th>\n",
       "      <td>0.068818</td>\n",
       "      <td>0.116028</td>\n",
       "      <td>0.116074</td>\n",
       "      <td>0.042146</td>\n",
       "    </tr>\n",
       "    <tr>\n",
       "      <th>Credit_History</th>\n",
       "      <td>1.000000</td>\n",
       "      <td>1.000000</td>\n",
       "      <td>1.000000</td>\n",
       "      <td>1.000000</td>\n",
       "    </tr>\n",
       "    <tr>\n",
       "      <th>Property_Area</th>\n",
       "      <td>0.230539</td>\n",
       "      <td>0.257263</td>\n",
       "      <td>0.199610</td>\n",
       "      <td>0.274026</td>\n",
       "    </tr>\n",
       "  </tbody>\n",
       "</table>\n",
       "</div>"
      ],
      "text/plain": [
       "                         ET       XGB        RF      LGBM\n",
       "Gender             0.022885  0.059476  0.014118  0.013935\n",
       "Married            0.124195  0.176754  0.096959  0.149068\n",
       "Dependents         0.102660  0.119689  0.059385  0.085737\n",
       "Education          0.040771  0.034346  0.013676  0.052030\n",
       "Self_Employed      0.000000  0.000000  0.000000  0.000000\n",
       "ApplicantIncome    0.055228  0.581620  0.152531  0.416175\n",
       "CoapplicantIncome  0.066092  0.458876  0.109563  0.347184\n",
       "LoanAmount         0.069007  0.545512  0.152045  0.358062\n",
       "Loan_Amount_Term   0.068818  0.116028  0.116074  0.042146\n",
       "Credit_History     1.000000  1.000000  1.000000  1.000000\n",
       "Property_Area      0.230539  0.257263  0.199610  0.274026"
      ]
     },
     "execution_count": 5,
     "metadata": {},
     "output_type": "execute_result"
    }
   ],
   "source": [
    "df_treeSHAPImportances"
   ]
  },
  {
   "cell_type": "code",
   "execution_count": null,
   "id": "aa0edcc7",
   "metadata": {},
   "outputs": [],
   "source": []
  }
 ],
 "metadata": {
  "kernelspec": {
   "display_name": "Python 3 (ipykernel)",
   "language": "python",
   "name": "python3"
  },
  "language_info": {
   "codemirror_mode": {
    "name": "ipython",
    "version": 3
   },
   "file_extension": ".py",
   "mimetype": "text/x-python",
   "name": "python",
   "nbconvert_exporter": "python",
   "pygments_lexer": "ipython3",
   "version": "3.9.15"
  }
 },
 "nbformat": 4,
 "nbformat_minor": 5
}
