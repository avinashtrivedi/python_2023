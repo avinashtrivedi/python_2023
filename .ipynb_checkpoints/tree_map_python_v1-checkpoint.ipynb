{
 "cells": [
  {
   "cell_type": "markdown",
   "id": "4110f8ff",
   "metadata": {},
   "source": [
    "# Q1"
   ]
  },
  {
   "cell_type": "markdown",
   "id": "9ea33224",
   "metadata": {},
   "source": [
    "# ref: https://plotly.com/python/treemaps/"
   ]
  },
  {
   "cell_type": "code",
   "execution_count": 1,
   "id": "d3e06413",
   "metadata": {},
   "outputs": [],
   "source": [
    "import pandas as pd\n",
    "df = pd.read_csv(\"https://raw.githubusercontent.com/holtzy/data_to_viz/master/Example_dataset/11_SevCatOneNumNestedOneObsPerGroup.csv\", sep=\";\")\n",
    "\n",
    "df.dropna(inplace=True)"
   ]
  },
  {
   "cell_type": "code",
   "execution_count": 2,
   "id": "8801b512",
   "metadata": {},
   "outputs": [],
   "source": [
    "df1 = df.rename(columns={'key':'pop'})"
   ]
  },
  {
   "cell_type": "code",
   "execution_count": 3,
   "id": "e3a818f8",
   "metadata": {},
   "outputs": [
    {
     "data": {
      "text/html": [
       "<div>\n",
       "<style scoped>\n",
       "    .dataframe tbody tr th:only-of-type {\n",
       "        vertical-align: middle;\n",
       "    }\n",
       "\n",
       "    .dataframe tbody tr th {\n",
       "        vertical-align: top;\n",
       "    }\n",
       "\n",
       "    .dataframe thead th {\n",
       "        text-align: right;\n",
       "    }\n",
       "</style>\n",
       "<table border=\"1\" class=\"dataframe\">\n",
       "  <thead>\n",
       "    <tr style=\"text-align: right;\">\n",
       "      <th></th>\n",
       "      <th>region</th>\n",
       "      <th>subregion</th>\n",
       "      <th>pop</th>\n",
       "      <th>value</th>\n",
       "    </tr>\n",
       "  </thead>\n",
       "  <tbody>\n",
       "    <tr>\n",
       "      <th>0</th>\n",
       "      <td>Asia</td>\n",
       "      <td>Southern Asia</td>\n",
       "      <td>Afghanistan</td>\n",
       "      <td>25500100</td>\n",
       "    </tr>\n",
       "    <tr>\n",
       "      <th>1</th>\n",
       "      <td>Europe</td>\n",
       "      <td>Northern Europe</td>\n",
       "      <td>Åland Islands</td>\n",
       "      <td>28502</td>\n",
       "    </tr>\n",
       "    <tr>\n",
       "      <th>2</th>\n",
       "      <td>Europe</td>\n",
       "      <td>Southern Europe</td>\n",
       "      <td>Albania</td>\n",
       "      <td>2821977</td>\n",
       "    </tr>\n",
       "    <tr>\n",
       "      <th>3</th>\n",
       "      <td>Africa</td>\n",
       "      <td>Northern Africa</td>\n",
       "      <td>Algeria</td>\n",
       "      <td>37900000</td>\n",
       "    </tr>\n",
       "    <tr>\n",
       "      <th>4</th>\n",
       "      <td>Oceania</td>\n",
       "      <td>Polynesia</td>\n",
       "      <td>American Samoa</td>\n",
       "      <td>55519</td>\n",
       "    </tr>\n",
       "  </tbody>\n",
       "</table>\n",
       "</div>"
      ],
      "text/plain": [
       "    region        subregion             pop     value\n",
       "0     Asia    Southern Asia     Afghanistan  25500100\n",
       "1   Europe  Northern Europe   Åland Islands     28502\n",
       "2   Europe  Southern Europe         Albania   2821977\n",
       "3   Africa  Northern Africa         Algeria  37900000\n",
       "4  Oceania        Polynesia  American Samoa     55519"
      ]
     },
     "execution_count": 3,
     "metadata": {},
     "output_type": "execute_result"
    }
   ],
   "source": [
    "df1.head()"
   ]
  },
  {
   "cell_type": "code",
   "execution_count": 8,
   "id": "080915e4",
   "metadata": {},
   "outputs": [
    {
     "data": {
      "application/vnd.plotly.v1+json": {
       "config": {
        "plotlyServerURL": "https://plot.ly"
       },
       "data": [
        {
         "branchvalues": "total",
         "domain": {
          "x": [
           0,
           1
          ],
          "y": [
           0,
           1
          ]
         },
         "hovertemplate": "labels=%{label}<br>value=%{value}<br>parent=%{parent}<br>id=%{id}<extra></extra>",
         "ids": [
          "World/Asia/Afghanistan",
          "World/Europe/Albania",
          "World/Africa/Algeria",
          "World/Oceania/American Samoa",
          "World/Europe/Andorra",
          "World/Africa/Angola",
          "World/Americas/Anguilla",
          "World/Americas/Antigua and Barbuda",
          "World/Americas/Argentina",
          "World/Asia/Armenia",
          "World/Americas/Aruba",
          "World/Oceania/Australia",
          "World/Europe/Austria",
          "World/Asia/Azerbaijan",
          "World/Americas/Bahamas",
          "World/Asia/Bahrain",
          "World/Asia/Bangladesh",
          "World/Americas/Barbados",
          "World/Europe/Belarus",
          "World/Europe/Belgium",
          "World/Americas/Belize",
          "World/Africa/Benin",
          "World/Americas/Bermuda",
          "World/Asia/Bhutan",
          "World/Americas/Bolivia",
          "World/Americas/Bonaire",
          "World/Europe/Bosnia and Herzegovina",
          "World/Africa/Botswana",
          "World/Americas/Brazil",
          "World/Africa/British Indian Ocean Territory",
          "World/Americas/British Virgin Islands",
          "World/Asia/Brunei",
          "World/Europe/Bulgaria",
          "World/Africa/Burkina Faso",
          "World/Africa/Burundi",
          "World/Asia/Cambodia",
          "World/Africa/Cameroon",
          "World/Americas/Canada",
          "World/Africa/Cape Verde",
          "World/Americas/Cayman Islands",
          "World/Africa/Central African Republic",
          "World/Africa/Chad",
          "World/Americas/Chile",
          "World/Asia/China",
          "World/Oceania/Christmas Island",
          "World/Oceania/Cocos (Keeling) Islands",
          "World/Americas/Colombia",
          "World/Africa/Comoros",
          "World/Oceania/Cook Islands",
          "World/Americas/Costa Rica",
          "World/Europe/Croatia",
          "World/Americas/Cuba",
          "World/Americas/Curaçao",
          "World/Asia/Cyprus",
          "World/Europe/Czech Republic",
          "World/Africa/Côte d'Ivoire",
          "World/Africa/Democratic Republic of the Congo",
          "World/Europe/Denmark",
          "World/Africa/Djibouti",
          "World/Americas/Dominica",
          "World/Americas/Dominican Republic",
          "World/Americas/Ecuador",
          "World/Africa/Egypt",
          "World/Americas/El Salvador",
          "World/Africa/Equatorial Guinea",
          "World/Africa/Eritrea",
          "World/Europe/Estonia",
          "World/Africa/Ethiopia",
          "World/Americas/Falkland Islands",
          "World/Europe/Faroe Islands",
          "World/Oceania/Fiji",
          "World/Europe/Finland",
          "World/Europe/France",
          "World/Americas/French Guiana",
          "World/Oceania/French Polynesia",
          "World/Africa/Gabon",
          "World/Africa/Gambia",
          "World/Asia/Georgia",
          "World/Europe/Germany",
          "World/Africa/Ghana",
          "World/Europe/Gibraltar",
          "World/Europe/Greece",
          "World/Americas/Greenland",
          "World/Americas/Grenada",
          "World/Americas/Guadeloupe",
          "World/Oceania/Guam",
          "World/Americas/Guatemala",
          "World/Europe/Guernsey",
          "World/Africa/Guinea",
          "World/Africa/Guinea-Bissau",
          "World/Americas/Guyana",
          "World/Americas/Haiti",
          "World/Americas/Honduras",
          "World/Asia/Hong Kong",
          "World/Europe/Hungary",
          "World/Europe/Iceland",
          "World/Asia/India",
          "World/Asia/Indonesia",
          "World/Asia/Iran",
          "World/Asia/Iraq",
          "World/Europe/Ireland",
          "World/Europe/Isle of Man",
          "World/Asia/Israel",
          "World/Europe/Italy",
          "World/Americas/Jamaica",
          "World/Asia/Japan",
          "World/Europe/Jersey",
          "World/Asia/Jordan",
          "World/Asia/Kazakhstan",
          "World/Africa/Kenya",
          "World/Oceania/Kiribati",
          "World/Asia/Kuwait",
          "World/Asia/Kyrgyzstan",
          "World/Asia/Laos",
          "World/Europe/Latvia",
          "World/Asia/Lebanon",
          "World/Africa/Lesotho",
          "World/Africa/Liberia",
          "World/Africa/Libya",
          "World/Europe/Liechtenstein",
          "World/Europe/Lithuania",
          "World/Europe/Luxembourg",
          "World/Asia/Macau",
          "World/Europe/Macedonia",
          "World/Africa/Madagascar",
          "World/Africa/Malawi",
          "World/Asia/Malaysia",
          "World/Asia/Maldives",
          "World/Africa/Mali",
          "World/Europe/Malta",
          "World/Oceania/Marshall Islands",
          "World/Americas/Martinique",
          "World/Africa/Mauritania",
          "World/Africa/Mauritius",
          "World/Africa/Mayotte",
          "World/Americas/Mexico",
          "World/Oceania/Micronesia",
          "World/Europe/Moldova",
          "World/Europe/Monaco",
          "World/Asia/Mongolia",
          "World/Europe/Montenegro",
          "World/Americas/Montserrat",
          "World/Africa/Morocco",
          "World/Africa/Mozambique",
          "World/Asia/Myanmar",
          "World/Africa/Namibia",
          "World/Oceania/Nauru",
          "World/Asia/Nepal",
          "World/Europe/Netherlands",
          "World/Oceania/New Caledonia",
          "World/Oceania/New Zealand",
          "World/Americas/Nicaragua",
          "World/Africa/Niger",
          "World/Africa/Nigeria",
          "World/Oceania/Niue",
          "World/Oceania/Norfolk Island",
          "World/Asia/North Korea",
          "World/Oceania/Northern Mariana Islands",
          "World/Europe/Norway",
          "World/Asia/Oman",
          "World/Asia/Pakistan",
          "World/Oceania/Palau",
          "World/Asia/Palestine",
          "World/Americas/Panama",
          "World/Oceania/Papua New Guinea",
          "World/Americas/Paraguay",
          "World/Americas/Peru",
          "World/Asia/Philippines",
          "World/Oceania/Pitcairn Islands",
          "World/Europe/Poland",
          "World/Europe/Portugal",
          "World/Americas/Puerto Rico",
          "World/Asia/Qatar",
          "World/Europe/Republic of Kosovo",
          "World/Africa/Republic of the Congo",
          "World/Europe/Romania",
          "World/Europe/Russia",
          "World/Africa/Rwanda",
          "World/Africa/Réunion",
          "World/Americas/Saint Barthélemy",
          "World/Africa/Saint Helena",
          "World/Americas/Saint Kitts and Nevis",
          "World/Americas/Saint Lucia",
          "World/Americas/Saint Martin",
          "World/Americas/Saint Pierre and Miquelon",
          "World/Americas/Saint Vincent and the Grenadines",
          "World/Oceania/Samoa",
          "World/Europe/San Marino",
          "World/Asia/Saudi Arabia",
          "World/Africa/Senegal",
          "World/Europe/Serbia",
          "World/Africa/Seychelles",
          "World/Africa/Sierra Leone",
          "World/Asia/Singapore",
          "World/Americas/Sint Maarten",
          "World/Europe/Slovakia",
          "World/Europe/Slovenia",
          "World/Oceania/Solomon Islands",
          "World/Africa/Somalia",
          "World/Africa/South Africa",
          "World/Americas/South Georgia",
          "World/Asia/South Korea",
          "World/Africa/South Sudan",
          "World/Europe/Spain",
          "World/Asia/Sri Lanka",
          "World/Africa/Sudan",
          "World/Americas/Suriname",
          "World/Europe/Svalbard and Jan Mayen",
          "World/Africa/Swaziland",
          "World/Europe/Sweden",
          "World/Europe/Switzerland",
          "World/Asia/Syria",
          "World/Africa/São Tomé and Príncipe",
          "World/Asia/Taiwan",
          "World/Asia/Tajikistan",
          "World/Africa/Tanzania",
          "World/Asia/Thailand",
          "World/Asia/Timor-Leste",
          "World/Africa/Togo",
          "World/Oceania/Tokelau",
          "World/Oceania/Tonga",
          "World/Americas/Trinidad and Tobago",
          "World/Africa/Tunisia",
          "World/Asia/Turkey",
          "World/Asia/Turkmenistan",
          "World/Americas/Turks and Caicos Islands",
          "World/Oceania/Tuvalu",
          "World/Africa/Uganda",
          "World/Europe/Ukraine",
          "World/Asia/United Arab Emirates",
          "World/Europe/United Kingdom",
          "World/Americas/United States",
          "World/Americas/United States Minor Outlying Islands",
          "World/Americas/United States Virgin Islands",
          "World/Americas/Uruguay",
          "World/Asia/Uzbekistan",
          "World/Oceania/Vanuatu",
          "World/Europe/Vatican City",
          "World/Americas/Venezuela",
          "World/Asia/Vietnam",
          "World/Oceania/Wallis and Futuna",
          "World/Africa/Western Sahara",
          "World/Asia/Yemen",
          "World/Africa/Zambia",
          "World/Africa/Zimbabwe",
          "World/Europe/Åland Islands",
          "World/Africa",
          "World/Americas",
          "World/Asia",
          "World/Europe",
          "World/Oceania",
          "World"
         ],
         "labels": [
          "Afghanistan",
          "Albania",
          "Algeria",
          "American Samoa",
          "Andorra",
          "Angola",
          "Anguilla",
          "Antigua and Barbuda",
          "Argentina",
          "Armenia",
          "Aruba",
          "Australia",
          "Austria",
          "Azerbaijan",
          "Bahamas",
          "Bahrain",
          "Bangladesh",
          "Barbados",
          "Belarus",
          "Belgium",
          "Belize",
          "Benin",
          "Bermuda",
          "Bhutan",
          "Bolivia",
          "Bonaire",
          "Bosnia and Herzegovina",
          "Botswana",
          "Brazil",
          "British Indian Ocean Territory",
          "British Virgin Islands",
          "Brunei",
          "Bulgaria",
          "Burkina Faso",
          "Burundi",
          "Cambodia",
          "Cameroon",
          "Canada",
          "Cape Verde",
          "Cayman Islands",
          "Central African Republic",
          "Chad",
          "Chile",
          "China",
          "Christmas Island",
          "Cocos (Keeling) Islands",
          "Colombia",
          "Comoros",
          "Cook Islands",
          "Costa Rica",
          "Croatia",
          "Cuba",
          "Curaçao",
          "Cyprus",
          "Czech Republic",
          "Côte d'Ivoire",
          "Democratic Republic of the Congo",
          "Denmark",
          "Djibouti",
          "Dominica",
          "Dominican Republic",
          "Ecuador",
          "Egypt",
          "El Salvador",
          "Equatorial Guinea",
          "Eritrea",
          "Estonia",
          "Ethiopia",
          "Falkland Islands",
          "Faroe Islands",
          "Fiji",
          "Finland",
          "France",
          "French Guiana",
          "French Polynesia",
          "Gabon",
          "Gambia",
          "Georgia",
          "Germany",
          "Ghana",
          "Gibraltar",
          "Greece",
          "Greenland",
          "Grenada",
          "Guadeloupe",
          "Guam",
          "Guatemala",
          "Guernsey",
          "Guinea",
          "Guinea-Bissau",
          "Guyana",
          "Haiti",
          "Honduras",
          "Hong Kong",
          "Hungary",
          "Iceland",
          "India",
          "Indonesia",
          "Iran",
          "Iraq",
          "Ireland",
          "Isle of Man",
          "Israel",
          "Italy",
          "Jamaica",
          "Japan",
          "Jersey",
          "Jordan",
          "Kazakhstan",
          "Kenya",
          "Kiribati",
          "Kuwait",
          "Kyrgyzstan",
          "Laos",
          "Latvia",
          "Lebanon",
          "Lesotho",
          "Liberia",
          "Libya",
          "Liechtenstein",
          "Lithuania",
          "Luxembourg",
          "Macau",
          "Macedonia",
          "Madagascar",
          "Malawi",
          "Malaysia",
          "Maldives",
          "Mali",
          "Malta",
          "Marshall Islands",
          "Martinique",
          "Mauritania",
          "Mauritius",
          "Mayotte",
          "Mexico",
          "Micronesia",
          "Moldova",
          "Monaco",
          "Mongolia",
          "Montenegro",
          "Montserrat",
          "Morocco",
          "Mozambique",
          "Myanmar",
          "Namibia",
          "Nauru",
          "Nepal",
          "Netherlands",
          "New Caledonia",
          "New Zealand",
          "Nicaragua",
          "Niger",
          "Nigeria",
          "Niue",
          "Norfolk Island",
          "North Korea",
          "Northern Mariana Islands",
          "Norway",
          "Oman",
          "Pakistan",
          "Palau",
          "Palestine",
          "Panama",
          "Papua New Guinea",
          "Paraguay",
          "Peru",
          "Philippines",
          "Pitcairn Islands",
          "Poland",
          "Portugal",
          "Puerto Rico",
          "Qatar",
          "Republic of Kosovo",
          "Republic of the Congo",
          "Romania",
          "Russia",
          "Rwanda",
          "Réunion",
          "Saint Barthélemy",
          "Saint Helena",
          "Saint Kitts and Nevis",
          "Saint Lucia",
          "Saint Martin",
          "Saint Pierre and Miquelon",
          "Saint Vincent and the Grenadines",
          "Samoa",
          "San Marino",
          "Saudi Arabia",
          "Senegal",
          "Serbia",
          "Seychelles",
          "Sierra Leone",
          "Singapore",
          "Sint Maarten",
          "Slovakia",
          "Slovenia",
          "Solomon Islands",
          "Somalia",
          "South Africa",
          "South Georgia",
          "South Korea",
          "South Sudan",
          "Spain",
          "Sri Lanka",
          "Sudan",
          "Suriname",
          "Svalbard and Jan Mayen",
          "Swaziland",
          "Sweden",
          "Switzerland",
          "Syria",
          "São Tomé and Príncipe",
          "Taiwan",
          "Tajikistan",
          "Tanzania",
          "Thailand",
          "Timor-Leste",
          "Togo",
          "Tokelau",
          "Tonga",
          "Trinidad and Tobago",
          "Tunisia",
          "Turkey",
          "Turkmenistan",
          "Turks and Caicos Islands",
          "Tuvalu",
          "Uganda",
          "Ukraine",
          "United Arab Emirates",
          "United Kingdom",
          "United States",
          "United States Minor Outlying Islands",
          "United States Virgin Islands",
          "Uruguay",
          "Uzbekistan",
          "Vanuatu",
          "Vatican City",
          "Venezuela",
          "Vietnam",
          "Wallis and Futuna",
          "Western Sahara",
          "Yemen",
          "Zambia",
          "Zimbabwe",
          "Åland Islands",
          "Africa",
          "Americas",
          "Asia",
          "Europe",
          "Oceania",
          "World"
         ],
         "name": "",
         "parents": [
          "World/Asia",
          "World/Europe",
          "World/Africa",
          "World/Oceania",
          "World/Europe",
          "World/Africa",
          "World/Americas",
          "World/Americas",
          "World/Americas",
          "World/Asia",
          "World/Americas",
          "World/Oceania",
          "World/Europe",
          "World/Asia",
          "World/Americas",
          "World/Asia",
          "World/Asia",
          "World/Americas",
          "World/Europe",
          "World/Europe",
          "World/Americas",
          "World/Africa",
          "World/Americas",
          "World/Asia",
          "World/Americas",
          "World/Americas",
          "World/Europe",
          "World/Africa",
          "World/Americas",
          "World/Africa",
          "World/Americas",
          "World/Asia",
          "World/Europe",
          "World/Africa",
          "World/Africa",
          "World/Asia",
          "World/Africa",
          "World/Americas",
          "World/Africa",
          "World/Americas",
          "World/Africa",
          "World/Africa",
          "World/Americas",
          "World/Asia",
          "World/Oceania",
          "World/Oceania",
          "World/Americas",
          "World/Africa",
          "World/Oceania",
          "World/Americas",
          "World/Europe",
          "World/Americas",
          "World/Americas",
          "World/Asia",
          "World/Europe",
          "World/Africa",
          "World/Africa",
          "World/Europe",
          "World/Africa",
          "World/Americas",
          "World/Americas",
          "World/Americas",
          "World/Africa",
          "World/Americas",
          "World/Africa",
          "World/Africa",
          "World/Europe",
          "World/Africa",
          "World/Americas",
          "World/Europe",
          "World/Oceania",
          "World/Europe",
          "World/Europe",
          "World/Americas",
          "World/Oceania",
          "World/Africa",
          "World/Africa",
          "World/Asia",
          "World/Europe",
          "World/Africa",
          "World/Europe",
          "World/Europe",
          "World/Americas",
          "World/Americas",
          "World/Americas",
          "World/Oceania",
          "World/Americas",
          "World/Europe",
          "World/Africa",
          "World/Africa",
          "World/Americas",
          "World/Americas",
          "World/Americas",
          "World/Asia",
          "World/Europe",
          "World/Europe",
          "World/Asia",
          "World/Asia",
          "World/Asia",
          "World/Asia",
          "World/Europe",
          "World/Europe",
          "World/Asia",
          "World/Europe",
          "World/Americas",
          "World/Asia",
          "World/Europe",
          "World/Asia",
          "World/Asia",
          "World/Africa",
          "World/Oceania",
          "World/Asia",
          "World/Asia",
          "World/Asia",
          "World/Europe",
          "World/Asia",
          "World/Africa",
          "World/Africa",
          "World/Africa",
          "World/Europe",
          "World/Europe",
          "World/Europe",
          "World/Asia",
          "World/Europe",
          "World/Africa",
          "World/Africa",
          "World/Asia",
          "World/Asia",
          "World/Africa",
          "World/Europe",
          "World/Oceania",
          "World/Americas",
          "World/Africa",
          "World/Africa",
          "World/Africa",
          "World/Americas",
          "World/Oceania",
          "World/Europe",
          "World/Europe",
          "World/Asia",
          "World/Europe",
          "World/Americas",
          "World/Africa",
          "World/Africa",
          "World/Asia",
          "World/Africa",
          "World/Oceania",
          "World/Asia",
          "World/Europe",
          "World/Oceania",
          "World/Oceania",
          "World/Americas",
          "World/Africa",
          "World/Africa",
          "World/Oceania",
          "World/Oceania",
          "World/Asia",
          "World/Oceania",
          "World/Europe",
          "World/Asia",
          "World/Asia",
          "World/Oceania",
          "World/Asia",
          "World/Americas",
          "World/Oceania",
          "World/Americas",
          "World/Americas",
          "World/Asia",
          "World/Oceania",
          "World/Europe",
          "World/Europe",
          "World/Americas",
          "World/Asia",
          "World/Europe",
          "World/Africa",
          "World/Europe",
          "World/Europe",
          "World/Africa",
          "World/Africa",
          "World/Americas",
          "World/Africa",
          "World/Americas",
          "World/Americas",
          "World/Americas",
          "World/Americas",
          "World/Americas",
          "World/Oceania",
          "World/Europe",
          "World/Asia",
          "World/Africa",
          "World/Europe",
          "World/Africa",
          "World/Africa",
          "World/Asia",
          "World/Americas",
          "World/Europe",
          "World/Europe",
          "World/Oceania",
          "World/Africa",
          "World/Africa",
          "World/Americas",
          "World/Asia",
          "World/Africa",
          "World/Europe",
          "World/Asia",
          "World/Africa",
          "World/Americas",
          "World/Europe",
          "World/Africa",
          "World/Europe",
          "World/Europe",
          "World/Asia",
          "World/Africa",
          "World/Asia",
          "World/Asia",
          "World/Africa",
          "World/Asia",
          "World/Asia",
          "World/Africa",
          "World/Oceania",
          "World/Oceania",
          "World/Americas",
          "World/Africa",
          "World/Asia",
          "World/Asia",
          "World/Americas",
          "World/Oceania",
          "World/Africa",
          "World/Europe",
          "World/Asia",
          "World/Europe",
          "World/Americas",
          "World/Americas",
          "World/Americas",
          "World/Americas",
          "World/Asia",
          "World/Oceania",
          "World/Europe",
          "World/Americas",
          "World/Asia",
          "World/Oceania",
          "World/Africa",
          "World/Asia",
          "World/Africa",
          "World/Africa",
          "World/Europe",
          "World",
          "World",
          "World",
          "World",
          "World",
          ""
         ],
         "type": "treemap",
         "values": [
          25500100,
          2821977,
          37900000,
          55519,
          76246,
          20609294,
          13452,
          86295,
          40117096,
          3024100,
          101484,
          23254142,
          8501502,
          9235100,
          -1,
          1234571,
          152518015,
          274200,
          9465500,
          11175653,
          312971,
          10323000,
          64237,
          740990,
          10027254,
          -1,
          3791622,
          2024904,
          201032714,
          -1,
          29537,
          393162,
          7282041,
          17322796,
          10163000,
          15135000,
          20386799,
          35158304,
          491875,
          55456,
          4616000,
          12825000,
          16634603,
          1361170000,
          2072,
          550,
          47330000,
          724300,
          14974,
          4667096,
          4290612,
          11167325,
          150563,
          865878,
          10512900,
          -1,
          67514000,
          5623501,
          864618,
          71293,
          9445281,
          15617900,
          83661000,
          6340000,
          1622000,
          6333000,
          1286540,
          86613986,
          2563,
          48509,
          858038,
          5445883,
          65806000,
          229040,
          268270,
          1672000,
          -1,
          -1,
          80523700,
          24658823,
          29752,
          10815197,
          56370,
          103328,
          403355,
          159358,
          15438384,
          62431,
          10824200,
          1704000,
          784894,
          10413211,
          8555072,
          7184000,
          9906000,
          325010,
          1236670000,
          237641326,
          77068000,
          34035000,
          -1,
          84497,
          8092700,
          59829079,
          2711476,
          127290000,
          97857,
          6512600,
          17099000,
          44354000,
          106461,
          3582054,
          5551900,
          6580800,
          2014000,
          4822000,
          2074000,
          4294000,
          6202000,
          36842,
          2950684,
          537000,
          -1,
          -1,
          20696070,
          16363000,
          29793600,
          317280,
          15302000,
          416055,
          56086,
          394173,
          3461041,
          1257900,
          212600,
          118395054,
          -1,
          3559500,
          36136,
          2754685,
          620029,
          4922,
          33087700,
          23700715,
          -1,
          2113077,
          9945,
          26494504,
          16807300,
          258958,
          4478810,
          6071045,
          17129076,
          173615000,
          1613,
          2302,
          24895000,
          53883,
          5077798,
          3929000,
          184845000,
          20901,
          -1,
          3405813,
          7059653,
          6783374,
          30475144,
          98678000,
          56,
          38533299,
          10562178,
          3667084,
          2024707,
          1733842,
          4448000,
          20121641,
          143500000,
          10537222,
          821136,
          8938,
          -1,
          54000,
          166526,
          -1,
          6081,
          109000,
          187820,
          32509,
          29994272,
          13567338,
          7181505,
          90945,
          6190280,
          5399200,
          37429,
          5412008,
          2061405,
          561000,
          10496000,
          52981991,
          -1,
          50219669,
          11296000,
          46704314,
          20277597,
          37964000,
          534189,
          2655,
          1250000,
          9625444,
          8085300,
          21898000,
          187356,
          23361147,
          8000000,
          44928923,
          65926261,
          -1,
          6191155,
          1411,
          103036,
          1328019,
          10833431,
          75627384,
          5240000,
          31458,
          11323,
          35357000,
          45461627,
          8264070,
          63705000,
          317101000,
          -1,
          106405,
          3286314,
          30183400,
          264652,
          800,
          28946101,
          90388000,
          13135,
          567000,
          24527000,
          13092666,
          12973808,
          28502,
          1060491021,
          958306818,
          4174984067,
          732609380,
          37803967,
          6964195253
         ]
        }
       ],
       "layout": {
        "legend": {
         "tracegroupgap": 0
        },
        "margin": {
         "t": 60
        },
        "template": {
         "data": {
          "bar": [
           {
            "error_x": {
             "color": "#2a3f5f"
            },
            "error_y": {
             "color": "#2a3f5f"
            },
            "marker": {
             "line": {
              "color": "#E5ECF6",
              "width": 0.5
             },
             "pattern": {
              "fillmode": "overlay",
              "size": 10,
              "solidity": 0.2
             }
            },
            "type": "bar"
           }
          ],
          "barpolar": [
           {
            "marker": {
             "line": {
              "color": "#E5ECF6",
              "width": 0.5
             },
             "pattern": {
              "fillmode": "overlay",
              "size": 10,
              "solidity": 0.2
             }
            },
            "type": "barpolar"
           }
          ],
          "carpet": [
           {
            "aaxis": {
             "endlinecolor": "#2a3f5f",
             "gridcolor": "white",
             "linecolor": "white",
             "minorgridcolor": "white",
             "startlinecolor": "#2a3f5f"
            },
            "baxis": {
             "endlinecolor": "#2a3f5f",
             "gridcolor": "white",
             "linecolor": "white",
             "minorgridcolor": "white",
             "startlinecolor": "#2a3f5f"
            },
            "type": "carpet"
           }
          ],
          "choropleth": [
           {
            "colorbar": {
             "outlinewidth": 0,
             "ticks": ""
            },
            "type": "choropleth"
           }
          ],
          "contour": [
           {
            "colorbar": {
             "outlinewidth": 0,
             "ticks": ""
            },
            "colorscale": [
             [
              0,
              "#0d0887"
             ],
             [
              0.1111111111111111,
              "#46039f"
             ],
             [
              0.2222222222222222,
              "#7201a8"
             ],
             [
              0.3333333333333333,
              "#9c179e"
             ],
             [
              0.4444444444444444,
              "#bd3786"
             ],
             [
              0.5555555555555556,
              "#d8576b"
             ],
             [
              0.6666666666666666,
              "#ed7953"
             ],
             [
              0.7777777777777778,
              "#fb9f3a"
             ],
             [
              0.8888888888888888,
              "#fdca26"
             ],
             [
              1,
              "#f0f921"
             ]
            ],
            "type": "contour"
           }
          ],
          "contourcarpet": [
           {
            "colorbar": {
             "outlinewidth": 0,
             "ticks": ""
            },
            "type": "contourcarpet"
           }
          ],
          "heatmap": [
           {
            "colorbar": {
             "outlinewidth": 0,
             "ticks": ""
            },
            "colorscale": [
             [
              0,
              "#0d0887"
             ],
             [
              0.1111111111111111,
              "#46039f"
             ],
             [
              0.2222222222222222,
              "#7201a8"
             ],
             [
              0.3333333333333333,
              "#9c179e"
             ],
             [
              0.4444444444444444,
              "#bd3786"
             ],
             [
              0.5555555555555556,
              "#d8576b"
             ],
             [
              0.6666666666666666,
              "#ed7953"
             ],
             [
              0.7777777777777778,
              "#fb9f3a"
             ],
             [
              0.8888888888888888,
              "#fdca26"
             ],
             [
              1,
              "#f0f921"
             ]
            ],
            "type": "heatmap"
           }
          ],
          "heatmapgl": [
           {
            "colorbar": {
             "outlinewidth": 0,
             "ticks": ""
            },
            "colorscale": [
             [
              0,
              "#0d0887"
             ],
             [
              0.1111111111111111,
              "#46039f"
             ],
             [
              0.2222222222222222,
              "#7201a8"
             ],
             [
              0.3333333333333333,
              "#9c179e"
             ],
             [
              0.4444444444444444,
              "#bd3786"
             ],
             [
              0.5555555555555556,
              "#d8576b"
             ],
             [
              0.6666666666666666,
              "#ed7953"
             ],
             [
              0.7777777777777778,
              "#fb9f3a"
             ],
             [
              0.8888888888888888,
              "#fdca26"
             ],
             [
              1,
              "#f0f921"
             ]
            ],
            "type": "heatmapgl"
           }
          ],
          "histogram": [
           {
            "marker": {
             "pattern": {
              "fillmode": "overlay",
              "size": 10,
              "solidity": 0.2
             }
            },
            "type": "histogram"
           }
          ],
          "histogram2d": [
           {
            "colorbar": {
             "outlinewidth": 0,
             "ticks": ""
            },
            "colorscale": [
             [
              0,
              "#0d0887"
             ],
             [
              0.1111111111111111,
              "#46039f"
             ],
             [
              0.2222222222222222,
              "#7201a8"
             ],
             [
              0.3333333333333333,
              "#9c179e"
             ],
             [
              0.4444444444444444,
              "#bd3786"
             ],
             [
              0.5555555555555556,
              "#d8576b"
             ],
             [
              0.6666666666666666,
              "#ed7953"
             ],
             [
              0.7777777777777778,
              "#fb9f3a"
             ],
             [
              0.8888888888888888,
              "#fdca26"
             ],
             [
              1,
              "#f0f921"
             ]
            ],
            "type": "histogram2d"
           }
          ],
          "histogram2dcontour": [
           {
            "colorbar": {
             "outlinewidth": 0,
             "ticks": ""
            },
            "colorscale": [
             [
              0,
              "#0d0887"
             ],
             [
              0.1111111111111111,
              "#46039f"
             ],
             [
              0.2222222222222222,
              "#7201a8"
             ],
             [
              0.3333333333333333,
              "#9c179e"
             ],
             [
              0.4444444444444444,
              "#bd3786"
             ],
             [
              0.5555555555555556,
              "#d8576b"
             ],
             [
              0.6666666666666666,
              "#ed7953"
             ],
             [
              0.7777777777777778,
              "#fb9f3a"
             ],
             [
              0.8888888888888888,
              "#fdca26"
             ],
             [
              1,
              "#f0f921"
             ]
            ],
            "type": "histogram2dcontour"
           }
          ],
          "mesh3d": [
           {
            "colorbar": {
             "outlinewidth": 0,
             "ticks": ""
            },
            "type": "mesh3d"
           }
          ],
          "parcoords": [
           {
            "line": {
             "colorbar": {
              "outlinewidth": 0,
              "ticks": ""
             }
            },
            "type": "parcoords"
           }
          ],
          "pie": [
           {
            "automargin": true,
            "type": "pie"
           }
          ],
          "scatter": [
           {
            "fillpattern": {
             "fillmode": "overlay",
             "size": 10,
             "solidity": 0.2
            },
            "type": "scatter"
           }
          ],
          "scatter3d": [
           {
            "line": {
             "colorbar": {
              "outlinewidth": 0,
              "ticks": ""
             }
            },
            "marker": {
             "colorbar": {
              "outlinewidth": 0,
              "ticks": ""
             }
            },
            "type": "scatter3d"
           }
          ],
          "scattercarpet": [
           {
            "marker": {
             "colorbar": {
              "outlinewidth": 0,
              "ticks": ""
             }
            },
            "type": "scattercarpet"
           }
          ],
          "scattergeo": [
           {
            "marker": {
             "colorbar": {
              "outlinewidth": 0,
              "ticks": ""
             }
            },
            "type": "scattergeo"
           }
          ],
          "scattergl": [
           {
            "marker": {
             "colorbar": {
              "outlinewidth": 0,
              "ticks": ""
             }
            },
            "type": "scattergl"
           }
          ],
          "scattermapbox": [
           {
            "marker": {
             "colorbar": {
              "outlinewidth": 0,
              "ticks": ""
             }
            },
            "type": "scattermapbox"
           }
          ],
          "scatterpolar": [
           {
            "marker": {
             "colorbar": {
              "outlinewidth": 0,
              "ticks": ""
             }
            },
            "type": "scatterpolar"
           }
          ],
          "scatterpolargl": [
           {
            "marker": {
             "colorbar": {
              "outlinewidth": 0,
              "ticks": ""
             }
            },
            "type": "scatterpolargl"
           }
          ],
          "scatterternary": [
           {
            "marker": {
             "colorbar": {
              "outlinewidth": 0,
              "ticks": ""
             }
            },
            "type": "scatterternary"
           }
          ],
          "surface": [
           {
            "colorbar": {
             "outlinewidth": 0,
             "ticks": ""
            },
            "colorscale": [
             [
              0,
              "#0d0887"
             ],
             [
              0.1111111111111111,
              "#46039f"
             ],
             [
              0.2222222222222222,
              "#7201a8"
             ],
             [
              0.3333333333333333,
              "#9c179e"
             ],
             [
              0.4444444444444444,
              "#bd3786"
             ],
             [
              0.5555555555555556,
              "#d8576b"
             ],
             [
              0.6666666666666666,
              "#ed7953"
             ],
             [
              0.7777777777777778,
              "#fb9f3a"
             ],
             [
              0.8888888888888888,
              "#fdca26"
             ],
             [
              1,
              "#f0f921"
             ]
            ],
            "type": "surface"
           }
          ],
          "table": [
           {
            "cells": {
             "fill": {
              "color": "#EBF0F8"
             },
             "line": {
              "color": "white"
             }
            },
            "header": {
             "fill": {
              "color": "#C8D4E3"
             },
             "line": {
              "color": "white"
             }
            },
            "type": "table"
           }
          ]
         },
         "layout": {
          "annotationdefaults": {
           "arrowcolor": "#2a3f5f",
           "arrowhead": 0,
           "arrowwidth": 1
          },
          "autotypenumbers": "strict",
          "coloraxis": {
           "colorbar": {
            "outlinewidth": 0,
            "ticks": ""
           }
          },
          "colorscale": {
           "diverging": [
            [
             0,
             "#8e0152"
            ],
            [
             0.1,
             "#c51b7d"
            ],
            [
             0.2,
             "#de77ae"
            ],
            [
             0.3,
             "#f1b6da"
            ],
            [
             0.4,
             "#fde0ef"
            ],
            [
             0.5,
             "#f7f7f7"
            ],
            [
             0.6,
             "#e6f5d0"
            ],
            [
             0.7,
             "#b8e186"
            ],
            [
             0.8,
             "#7fbc41"
            ],
            [
             0.9,
             "#4d9221"
            ],
            [
             1,
             "#276419"
            ]
           ],
           "sequential": [
            [
             0,
             "#0d0887"
            ],
            [
             0.1111111111111111,
             "#46039f"
            ],
            [
             0.2222222222222222,
             "#7201a8"
            ],
            [
             0.3333333333333333,
             "#9c179e"
            ],
            [
             0.4444444444444444,
             "#bd3786"
            ],
            [
             0.5555555555555556,
             "#d8576b"
            ],
            [
             0.6666666666666666,
             "#ed7953"
            ],
            [
             0.7777777777777778,
             "#fb9f3a"
            ],
            [
             0.8888888888888888,
             "#fdca26"
            ],
            [
             1,
             "#f0f921"
            ]
           ],
           "sequentialminus": [
            [
             0,
             "#0d0887"
            ],
            [
             0.1111111111111111,
             "#46039f"
            ],
            [
             0.2222222222222222,
             "#7201a8"
            ],
            [
             0.3333333333333333,
             "#9c179e"
            ],
            [
             0.4444444444444444,
             "#bd3786"
            ],
            [
             0.5555555555555556,
             "#d8576b"
            ],
            [
             0.6666666666666666,
             "#ed7953"
            ],
            [
             0.7777777777777778,
             "#fb9f3a"
            ],
            [
             0.8888888888888888,
             "#fdca26"
            ],
            [
             1,
             "#f0f921"
            ]
           ]
          },
          "colorway": [
           "#636efa",
           "#EF553B",
           "#00cc96",
           "#ab63fa",
           "#FFA15A",
           "#19d3f3",
           "#FF6692",
           "#B6E880",
           "#FF97FF",
           "#FECB52"
          ],
          "font": {
           "color": "#2a3f5f"
          },
          "geo": {
           "bgcolor": "white",
           "lakecolor": "white",
           "landcolor": "#E5ECF6",
           "showlakes": true,
           "showland": true,
           "subunitcolor": "white"
          },
          "hoverlabel": {
           "align": "left"
          },
          "hovermode": "closest",
          "mapbox": {
           "style": "light"
          },
          "paper_bgcolor": "white",
          "plot_bgcolor": "#E5ECF6",
          "polar": {
           "angularaxis": {
            "gridcolor": "white",
            "linecolor": "white",
            "ticks": ""
           },
           "bgcolor": "#E5ECF6",
           "radialaxis": {
            "gridcolor": "white",
            "linecolor": "white",
            "ticks": ""
           }
          },
          "scene": {
           "xaxis": {
            "backgroundcolor": "#E5ECF6",
            "gridcolor": "white",
            "gridwidth": 2,
            "linecolor": "white",
            "showbackground": true,
            "ticks": "",
            "zerolinecolor": "white"
           },
           "yaxis": {
            "backgroundcolor": "#E5ECF6",
            "gridcolor": "white",
            "gridwidth": 2,
            "linecolor": "white",
            "showbackground": true,
            "ticks": "",
            "zerolinecolor": "white"
           },
           "zaxis": {
            "backgroundcolor": "#E5ECF6",
            "gridcolor": "white",
            "gridwidth": 2,
            "linecolor": "white",
            "showbackground": true,
            "ticks": "",
            "zerolinecolor": "white"
           }
          },
          "shapedefaults": {
           "line": {
            "color": "#2a3f5f"
           }
          },
          "ternary": {
           "aaxis": {
            "gridcolor": "white",
            "linecolor": "white",
            "ticks": ""
           },
           "baxis": {
            "gridcolor": "white",
            "linecolor": "white",
            "ticks": ""
           },
           "bgcolor": "#E5ECF6",
           "caxis": {
            "gridcolor": "white",
            "linecolor": "white",
            "ticks": ""
           }
          },
          "title": {
           "x": 0.05
          },
          "xaxis": {
           "automargin": true,
           "gridcolor": "white",
           "linecolor": "white",
           "ticks": "",
           "title": {
            "standoff": 15
           },
           "zerolinecolor": "white",
           "zerolinewidth": 2
          },
          "yaxis": {
           "automargin": true,
           "gridcolor": "white",
           "linecolor": "white",
           "ticks": "",
           "title": {
            "standoff": 15
           },
           "zerolinecolor": "white",
           "zerolinewidth": 2
          }
         }
        }
       }
      },
      "text/html": [
       "<div>                            <div id=\"67262add-9960-4863-93a0-3ffba8f7ca05\" class=\"plotly-graph-div\" style=\"height:525px; width:100%;\"></div>            <script type=\"text/javascript\">                require([\"plotly\"], function(Plotly) {                    window.PLOTLYENV=window.PLOTLYENV || {};                                    if (document.getElementById(\"67262add-9960-4863-93a0-3ffba8f7ca05\")) {                    Plotly.newPlot(                        \"67262add-9960-4863-93a0-3ffba8f7ca05\",                        [{\"branchvalues\":\"total\",\"domain\":{\"x\":[0.0,1.0],\"y\":[0.0,1.0]},\"hovertemplate\":\"labels=%{label}<br>value=%{value}<br>parent=%{parent}<br>id=%{id}<extra></extra>\",\"ids\":[\"World/Asia/Afghanistan\",\"World/Europe/Albania\",\"World/Africa/Algeria\",\"World/Oceania/American Samoa\",\"World/Europe/Andorra\",\"World/Africa/Angola\",\"World/Americas/Anguilla\",\"World/Americas/Antigua and Barbuda\",\"World/Americas/Argentina\",\"World/Asia/Armenia\",\"World/Americas/Aruba\",\"World/Oceania/Australia\",\"World/Europe/Austria\",\"World/Asia/Azerbaijan\",\"World/Americas/Bahamas\",\"World/Asia/Bahrain\",\"World/Asia/Bangladesh\",\"World/Americas/Barbados\",\"World/Europe/Belarus\",\"World/Europe/Belgium\",\"World/Americas/Belize\",\"World/Africa/Benin\",\"World/Americas/Bermuda\",\"World/Asia/Bhutan\",\"World/Americas/Bolivia\",\"World/Americas/Bonaire\",\"World/Europe/Bosnia and Herzegovina\",\"World/Africa/Botswana\",\"World/Americas/Brazil\",\"World/Africa/British Indian Ocean Territory\",\"World/Americas/British Virgin Islands\",\"World/Asia/Brunei\",\"World/Europe/Bulgaria\",\"World/Africa/Burkina Faso\",\"World/Africa/Burundi\",\"World/Asia/Cambodia\",\"World/Africa/Cameroon\",\"World/Americas/Canada\",\"World/Africa/Cape Verde\",\"World/Americas/Cayman Islands\",\"World/Africa/Central African Republic\",\"World/Africa/Chad\",\"World/Americas/Chile\",\"World/Asia/China\",\"World/Oceania/Christmas Island\",\"World/Oceania/Cocos (Keeling) Islands\",\"World/Americas/Colombia\",\"World/Africa/Comoros\",\"World/Oceania/Cook Islands\",\"World/Americas/Costa Rica\",\"World/Europe/Croatia\",\"World/Americas/Cuba\",\"World/Americas/Curaçao\",\"World/Asia/Cyprus\",\"World/Europe/Czech Republic\",\"World/Africa/Côte d'Ivoire\",\"World/Africa/Democratic Republic of the Congo\",\"World/Europe/Denmark\",\"World/Africa/Djibouti\",\"World/Americas/Dominica\",\"World/Americas/Dominican Republic\",\"World/Americas/Ecuador\",\"World/Africa/Egypt\",\"World/Americas/El Salvador\",\"World/Africa/Equatorial Guinea\",\"World/Africa/Eritrea\",\"World/Europe/Estonia\",\"World/Africa/Ethiopia\",\"World/Americas/Falkland Islands\",\"World/Europe/Faroe Islands\",\"World/Oceania/Fiji\",\"World/Europe/Finland\",\"World/Europe/France\",\"World/Americas/French Guiana\",\"World/Oceania/French Polynesia\",\"World/Africa/Gabon\",\"World/Africa/Gambia\",\"World/Asia/Georgia\",\"World/Europe/Germany\",\"World/Africa/Ghana\",\"World/Europe/Gibraltar\",\"World/Europe/Greece\",\"World/Americas/Greenland\",\"World/Americas/Grenada\",\"World/Americas/Guadeloupe\",\"World/Oceania/Guam\",\"World/Americas/Guatemala\",\"World/Europe/Guernsey\",\"World/Africa/Guinea\",\"World/Africa/Guinea-Bissau\",\"World/Americas/Guyana\",\"World/Americas/Haiti\",\"World/Americas/Honduras\",\"World/Asia/Hong Kong\",\"World/Europe/Hungary\",\"World/Europe/Iceland\",\"World/Asia/India\",\"World/Asia/Indonesia\",\"World/Asia/Iran\",\"World/Asia/Iraq\",\"World/Europe/Ireland\",\"World/Europe/Isle of Man\",\"World/Asia/Israel\",\"World/Europe/Italy\",\"World/Americas/Jamaica\",\"World/Asia/Japan\",\"World/Europe/Jersey\",\"World/Asia/Jordan\",\"World/Asia/Kazakhstan\",\"World/Africa/Kenya\",\"World/Oceania/Kiribati\",\"World/Asia/Kuwait\",\"World/Asia/Kyrgyzstan\",\"World/Asia/Laos\",\"World/Europe/Latvia\",\"World/Asia/Lebanon\",\"World/Africa/Lesotho\",\"World/Africa/Liberia\",\"World/Africa/Libya\",\"World/Europe/Liechtenstein\",\"World/Europe/Lithuania\",\"World/Europe/Luxembourg\",\"World/Asia/Macau\",\"World/Europe/Macedonia\",\"World/Africa/Madagascar\",\"World/Africa/Malawi\",\"World/Asia/Malaysia\",\"World/Asia/Maldives\",\"World/Africa/Mali\",\"World/Europe/Malta\",\"World/Oceania/Marshall Islands\",\"World/Americas/Martinique\",\"World/Africa/Mauritania\",\"World/Africa/Mauritius\",\"World/Africa/Mayotte\",\"World/Americas/Mexico\",\"World/Oceania/Micronesia\",\"World/Europe/Moldova\",\"World/Europe/Monaco\",\"World/Asia/Mongolia\",\"World/Europe/Montenegro\",\"World/Americas/Montserrat\",\"World/Africa/Morocco\",\"World/Africa/Mozambique\",\"World/Asia/Myanmar\",\"World/Africa/Namibia\",\"World/Oceania/Nauru\",\"World/Asia/Nepal\",\"World/Europe/Netherlands\",\"World/Oceania/New Caledonia\",\"World/Oceania/New Zealand\",\"World/Americas/Nicaragua\",\"World/Africa/Niger\",\"World/Africa/Nigeria\",\"World/Oceania/Niue\",\"World/Oceania/Norfolk Island\",\"World/Asia/North Korea\",\"World/Oceania/Northern Mariana Islands\",\"World/Europe/Norway\",\"World/Asia/Oman\",\"World/Asia/Pakistan\",\"World/Oceania/Palau\",\"World/Asia/Palestine\",\"World/Americas/Panama\",\"World/Oceania/Papua New Guinea\",\"World/Americas/Paraguay\",\"World/Americas/Peru\",\"World/Asia/Philippines\",\"World/Oceania/Pitcairn Islands\",\"World/Europe/Poland\",\"World/Europe/Portugal\",\"World/Americas/Puerto Rico\",\"World/Asia/Qatar\",\"World/Europe/Republic of Kosovo\",\"World/Africa/Republic of the Congo\",\"World/Europe/Romania\",\"World/Europe/Russia\",\"World/Africa/Rwanda\",\"World/Africa/Réunion\",\"World/Americas/Saint Barthélemy\",\"World/Africa/Saint Helena\",\"World/Americas/Saint Kitts and Nevis\",\"World/Americas/Saint Lucia\",\"World/Americas/Saint Martin\",\"World/Americas/Saint Pierre and Miquelon\",\"World/Americas/Saint Vincent and the Grenadines\",\"World/Oceania/Samoa\",\"World/Europe/San Marino\",\"World/Asia/Saudi Arabia\",\"World/Africa/Senegal\",\"World/Europe/Serbia\",\"World/Africa/Seychelles\",\"World/Africa/Sierra Leone\",\"World/Asia/Singapore\",\"World/Americas/Sint Maarten\",\"World/Europe/Slovakia\",\"World/Europe/Slovenia\",\"World/Oceania/Solomon Islands\",\"World/Africa/Somalia\",\"World/Africa/South Africa\",\"World/Americas/South Georgia\",\"World/Asia/South Korea\",\"World/Africa/South Sudan\",\"World/Europe/Spain\",\"World/Asia/Sri Lanka\",\"World/Africa/Sudan\",\"World/Americas/Suriname\",\"World/Europe/Svalbard and Jan Mayen\",\"World/Africa/Swaziland\",\"World/Europe/Sweden\",\"World/Europe/Switzerland\",\"World/Asia/Syria\",\"World/Africa/São Tomé and Príncipe\",\"World/Asia/Taiwan\",\"World/Asia/Tajikistan\",\"World/Africa/Tanzania\",\"World/Asia/Thailand\",\"World/Asia/Timor-Leste\",\"World/Africa/Togo\",\"World/Oceania/Tokelau\",\"World/Oceania/Tonga\",\"World/Americas/Trinidad and Tobago\",\"World/Africa/Tunisia\",\"World/Asia/Turkey\",\"World/Asia/Turkmenistan\",\"World/Americas/Turks and Caicos Islands\",\"World/Oceania/Tuvalu\",\"World/Africa/Uganda\",\"World/Europe/Ukraine\",\"World/Asia/United Arab Emirates\",\"World/Europe/United Kingdom\",\"World/Americas/United States\",\"World/Americas/United States Minor Outlying Islands\",\"World/Americas/United States Virgin Islands\",\"World/Americas/Uruguay\",\"World/Asia/Uzbekistan\",\"World/Oceania/Vanuatu\",\"World/Europe/Vatican City\",\"World/Americas/Venezuela\",\"World/Asia/Vietnam\",\"World/Oceania/Wallis and Futuna\",\"World/Africa/Western Sahara\",\"World/Asia/Yemen\",\"World/Africa/Zambia\",\"World/Africa/Zimbabwe\",\"World/Europe/Åland Islands\",\"World/Africa\",\"World/Americas\",\"World/Asia\",\"World/Europe\",\"World/Oceania\",\"World\"],\"labels\":[\"Afghanistan\",\"Albania\",\"Algeria\",\"American Samoa\",\"Andorra\",\"Angola\",\"Anguilla\",\"Antigua and Barbuda\",\"Argentina\",\"Armenia\",\"Aruba\",\"Australia\",\"Austria\",\"Azerbaijan\",\"Bahamas\",\"Bahrain\",\"Bangladesh\",\"Barbados\",\"Belarus\",\"Belgium\",\"Belize\",\"Benin\",\"Bermuda\",\"Bhutan\",\"Bolivia\",\"Bonaire\",\"Bosnia and Herzegovina\",\"Botswana\",\"Brazil\",\"British Indian Ocean Territory\",\"British Virgin Islands\",\"Brunei\",\"Bulgaria\",\"Burkina Faso\",\"Burundi\",\"Cambodia\",\"Cameroon\",\"Canada\",\"Cape Verde\",\"Cayman Islands\",\"Central African Republic\",\"Chad\",\"Chile\",\"China\",\"Christmas Island\",\"Cocos (Keeling) Islands\",\"Colombia\",\"Comoros\",\"Cook Islands\",\"Costa Rica\",\"Croatia\",\"Cuba\",\"Curaçao\",\"Cyprus\",\"Czech Republic\",\"Côte d'Ivoire\",\"Democratic Republic of the Congo\",\"Denmark\",\"Djibouti\",\"Dominica\",\"Dominican Republic\",\"Ecuador\",\"Egypt\",\"El Salvador\",\"Equatorial Guinea\",\"Eritrea\",\"Estonia\",\"Ethiopia\",\"Falkland Islands\",\"Faroe Islands\",\"Fiji\",\"Finland\",\"France\",\"French Guiana\",\"French Polynesia\",\"Gabon\",\"Gambia\",\"Georgia\",\"Germany\",\"Ghana\",\"Gibraltar\",\"Greece\",\"Greenland\",\"Grenada\",\"Guadeloupe\",\"Guam\",\"Guatemala\",\"Guernsey\",\"Guinea\",\"Guinea-Bissau\",\"Guyana\",\"Haiti\",\"Honduras\",\"Hong Kong\",\"Hungary\",\"Iceland\",\"India\",\"Indonesia\",\"Iran\",\"Iraq\",\"Ireland\",\"Isle of Man\",\"Israel\",\"Italy\",\"Jamaica\",\"Japan\",\"Jersey\",\"Jordan\",\"Kazakhstan\",\"Kenya\",\"Kiribati\",\"Kuwait\",\"Kyrgyzstan\",\"Laos\",\"Latvia\",\"Lebanon\",\"Lesotho\",\"Liberia\",\"Libya\",\"Liechtenstein\",\"Lithuania\",\"Luxembourg\",\"Macau\",\"Macedonia\",\"Madagascar\",\"Malawi\",\"Malaysia\",\"Maldives\",\"Mali\",\"Malta\",\"Marshall Islands\",\"Martinique\",\"Mauritania\",\"Mauritius\",\"Mayotte\",\"Mexico\",\"Micronesia\",\"Moldova\",\"Monaco\",\"Mongolia\",\"Montenegro\",\"Montserrat\",\"Morocco\",\"Mozambique\",\"Myanmar\",\"Namibia\",\"Nauru\",\"Nepal\",\"Netherlands\",\"New Caledonia\",\"New Zealand\",\"Nicaragua\",\"Niger\",\"Nigeria\",\"Niue\",\"Norfolk Island\",\"North Korea\",\"Northern Mariana Islands\",\"Norway\",\"Oman\",\"Pakistan\",\"Palau\",\"Palestine\",\"Panama\",\"Papua New Guinea\",\"Paraguay\",\"Peru\",\"Philippines\",\"Pitcairn Islands\",\"Poland\",\"Portugal\",\"Puerto Rico\",\"Qatar\",\"Republic of Kosovo\",\"Republic of the Congo\",\"Romania\",\"Russia\",\"Rwanda\",\"Réunion\",\"Saint Barthélemy\",\"Saint Helena\",\"Saint Kitts and Nevis\",\"Saint Lucia\",\"Saint Martin\",\"Saint Pierre and Miquelon\",\"Saint Vincent and the Grenadines\",\"Samoa\",\"San Marino\",\"Saudi Arabia\",\"Senegal\",\"Serbia\",\"Seychelles\",\"Sierra Leone\",\"Singapore\",\"Sint Maarten\",\"Slovakia\",\"Slovenia\",\"Solomon Islands\",\"Somalia\",\"South Africa\",\"South Georgia\",\"South Korea\",\"South Sudan\",\"Spain\",\"Sri Lanka\",\"Sudan\",\"Suriname\",\"Svalbard and Jan Mayen\",\"Swaziland\",\"Sweden\",\"Switzerland\",\"Syria\",\"São Tomé and Príncipe\",\"Taiwan\",\"Tajikistan\",\"Tanzania\",\"Thailand\",\"Timor-Leste\",\"Togo\",\"Tokelau\",\"Tonga\",\"Trinidad and Tobago\",\"Tunisia\",\"Turkey\",\"Turkmenistan\",\"Turks and Caicos Islands\",\"Tuvalu\",\"Uganda\",\"Ukraine\",\"United Arab Emirates\",\"United Kingdom\",\"United States\",\"United States Minor Outlying Islands\",\"United States Virgin Islands\",\"Uruguay\",\"Uzbekistan\",\"Vanuatu\",\"Vatican City\",\"Venezuela\",\"Vietnam\",\"Wallis and Futuna\",\"Western Sahara\",\"Yemen\",\"Zambia\",\"Zimbabwe\",\"Åland Islands\",\"Africa\",\"Americas\",\"Asia\",\"Europe\",\"Oceania\",\"World\"],\"name\":\"\",\"parents\":[\"World/Asia\",\"World/Europe\",\"World/Africa\",\"World/Oceania\",\"World/Europe\",\"World/Africa\",\"World/Americas\",\"World/Americas\",\"World/Americas\",\"World/Asia\",\"World/Americas\",\"World/Oceania\",\"World/Europe\",\"World/Asia\",\"World/Americas\",\"World/Asia\",\"World/Asia\",\"World/Americas\",\"World/Europe\",\"World/Europe\",\"World/Americas\",\"World/Africa\",\"World/Americas\",\"World/Asia\",\"World/Americas\",\"World/Americas\",\"World/Europe\",\"World/Africa\",\"World/Americas\",\"World/Africa\",\"World/Americas\",\"World/Asia\",\"World/Europe\",\"World/Africa\",\"World/Africa\",\"World/Asia\",\"World/Africa\",\"World/Americas\",\"World/Africa\",\"World/Americas\",\"World/Africa\",\"World/Africa\",\"World/Americas\",\"World/Asia\",\"World/Oceania\",\"World/Oceania\",\"World/Americas\",\"World/Africa\",\"World/Oceania\",\"World/Americas\",\"World/Europe\",\"World/Americas\",\"World/Americas\",\"World/Asia\",\"World/Europe\",\"World/Africa\",\"World/Africa\",\"World/Europe\",\"World/Africa\",\"World/Americas\",\"World/Americas\",\"World/Americas\",\"World/Africa\",\"World/Americas\",\"World/Africa\",\"World/Africa\",\"World/Europe\",\"World/Africa\",\"World/Americas\",\"World/Europe\",\"World/Oceania\",\"World/Europe\",\"World/Europe\",\"World/Americas\",\"World/Oceania\",\"World/Africa\",\"World/Africa\",\"World/Asia\",\"World/Europe\",\"World/Africa\",\"World/Europe\",\"World/Europe\",\"World/Americas\",\"World/Americas\",\"World/Americas\",\"World/Oceania\",\"World/Americas\",\"World/Europe\",\"World/Africa\",\"World/Africa\",\"World/Americas\",\"World/Americas\",\"World/Americas\",\"World/Asia\",\"World/Europe\",\"World/Europe\",\"World/Asia\",\"World/Asia\",\"World/Asia\",\"World/Asia\",\"World/Europe\",\"World/Europe\",\"World/Asia\",\"World/Europe\",\"World/Americas\",\"World/Asia\",\"World/Europe\",\"World/Asia\",\"World/Asia\",\"World/Africa\",\"World/Oceania\",\"World/Asia\",\"World/Asia\",\"World/Asia\",\"World/Europe\",\"World/Asia\",\"World/Africa\",\"World/Africa\",\"World/Africa\",\"World/Europe\",\"World/Europe\",\"World/Europe\",\"World/Asia\",\"World/Europe\",\"World/Africa\",\"World/Africa\",\"World/Asia\",\"World/Asia\",\"World/Africa\",\"World/Europe\",\"World/Oceania\",\"World/Americas\",\"World/Africa\",\"World/Africa\",\"World/Africa\",\"World/Americas\",\"World/Oceania\",\"World/Europe\",\"World/Europe\",\"World/Asia\",\"World/Europe\",\"World/Americas\",\"World/Africa\",\"World/Africa\",\"World/Asia\",\"World/Africa\",\"World/Oceania\",\"World/Asia\",\"World/Europe\",\"World/Oceania\",\"World/Oceania\",\"World/Americas\",\"World/Africa\",\"World/Africa\",\"World/Oceania\",\"World/Oceania\",\"World/Asia\",\"World/Oceania\",\"World/Europe\",\"World/Asia\",\"World/Asia\",\"World/Oceania\",\"World/Asia\",\"World/Americas\",\"World/Oceania\",\"World/Americas\",\"World/Americas\",\"World/Asia\",\"World/Oceania\",\"World/Europe\",\"World/Europe\",\"World/Americas\",\"World/Asia\",\"World/Europe\",\"World/Africa\",\"World/Europe\",\"World/Europe\",\"World/Africa\",\"World/Africa\",\"World/Americas\",\"World/Africa\",\"World/Americas\",\"World/Americas\",\"World/Americas\",\"World/Americas\",\"World/Americas\",\"World/Oceania\",\"World/Europe\",\"World/Asia\",\"World/Africa\",\"World/Europe\",\"World/Africa\",\"World/Africa\",\"World/Asia\",\"World/Americas\",\"World/Europe\",\"World/Europe\",\"World/Oceania\",\"World/Africa\",\"World/Africa\",\"World/Americas\",\"World/Asia\",\"World/Africa\",\"World/Europe\",\"World/Asia\",\"World/Africa\",\"World/Americas\",\"World/Europe\",\"World/Africa\",\"World/Europe\",\"World/Europe\",\"World/Asia\",\"World/Africa\",\"World/Asia\",\"World/Asia\",\"World/Africa\",\"World/Asia\",\"World/Asia\",\"World/Africa\",\"World/Oceania\",\"World/Oceania\",\"World/Americas\",\"World/Africa\",\"World/Asia\",\"World/Asia\",\"World/Americas\",\"World/Oceania\",\"World/Africa\",\"World/Europe\",\"World/Asia\",\"World/Europe\",\"World/Americas\",\"World/Americas\",\"World/Americas\",\"World/Americas\",\"World/Asia\",\"World/Oceania\",\"World/Europe\",\"World/Americas\",\"World/Asia\",\"World/Oceania\",\"World/Africa\",\"World/Asia\",\"World/Africa\",\"World/Africa\",\"World/Europe\",\"World\",\"World\",\"World\",\"World\",\"World\",\"\"],\"values\":[25500100,2821977,37900000,55519,76246,20609294,13452,86295,40117096,3024100,101484,23254142,8501502,9235100,-1,1234571,152518015,274200,9465500,11175653,312971,10323000,64237,740990,10027254,-1,3791622,2024904,201032714,-1,29537,393162,7282041,17322796,10163000,15135000,20386799,35158304,491875,55456,4616000,12825000,16634603,1361170000,2072,550,47330000,724300,14974,4667096,4290612,11167325,150563,865878,10512900,-1,67514000,5623501,864618,71293,9445281,15617900,83661000,6340000,1622000,6333000,1286540,86613986,2563,48509,858038,5445883,65806000,229040,268270,1672000,-1,-1,80523700,24658823,29752,10815197,56370,103328,403355,159358,15438384,62431,10824200,1704000,784894,10413211,8555072,7184000,9906000,325010,1236670000,237641326,77068000,34035000,-1,84497,8092700,59829079,2711476,127290000,97857,6512600,17099000,44354000,106461,3582054,5551900,6580800,2014000,4822000,2074000,4294000,6202000,36842,2950684,537000,-1,-1,20696070,16363000,29793600,317280,15302000,416055,56086,394173,3461041,1257900,212600,118395054,-1,3559500,36136,2754685,620029,4922,33087700,23700715,-1,2113077,9945,26494504,16807300,258958,4478810,6071045,17129076,173615000,1613,2302,24895000,53883,5077798,3929000,184845000,20901,-1,3405813,7059653,6783374,30475144,98678000,56,38533299,10562178,3667084,2024707,1733842,4448000,20121641,143500000,10537222,821136,8938,-1,54000,166526,-1,6081,109000,187820,32509,29994272,13567338,7181505,90945,6190280,5399200,37429,5412008,2061405,561000,10496000,52981991,-1,50219669,11296000,46704314,20277597,37964000,534189,2655,1250000,9625444,8085300,21898000,187356,23361147,8000000,44928923,65926261,-1,6191155,1411,103036,1328019,10833431,75627384,5240000,31458,11323,35357000,45461627,8264070,63705000,317101000,-1,106405,3286314,30183400,264652,800,28946101,90388000,13135,567000,24527000,13092666,12973808,28502,1060491021,958306818,4174984067,732609380,37803967,6964195253],\"type\":\"treemap\"}],                        {\"template\":{\"data\":{\"histogram2dcontour\":[{\"type\":\"histogram2dcontour\",\"colorbar\":{\"outlinewidth\":0,\"ticks\":\"\"},\"colorscale\":[[0.0,\"#0d0887\"],[0.1111111111111111,\"#46039f\"],[0.2222222222222222,\"#7201a8\"],[0.3333333333333333,\"#9c179e\"],[0.4444444444444444,\"#bd3786\"],[0.5555555555555556,\"#d8576b\"],[0.6666666666666666,\"#ed7953\"],[0.7777777777777778,\"#fb9f3a\"],[0.8888888888888888,\"#fdca26\"],[1.0,\"#f0f921\"]]}],\"choropleth\":[{\"type\":\"choropleth\",\"colorbar\":{\"outlinewidth\":0,\"ticks\":\"\"}}],\"histogram2d\":[{\"type\":\"histogram2d\",\"colorbar\":{\"outlinewidth\":0,\"ticks\":\"\"},\"colorscale\":[[0.0,\"#0d0887\"],[0.1111111111111111,\"#46039f\"],[0.2222222222222222,\"#7201a8\"],[0.3333333333333333,\"#9c179e\"],[0.4444444444444444,\"#bd3786\"],[0.5555555555555556,\"#d8576b\"],[0.6666666666666666,\"#ed7953\"],[0.7777777777777778,\"#fb9f3a\"],[0.8888888888888888,\"#fdca26\"],[1.0,\"#f0f921\"]]}],\"heatmap\":[{\"type\":\"heatmap\",\"colorbar\":{\"outlinewidth\":0,\"ticks\":\"\"},\"colorscale\":[[0.0,\"#0d0887\"],[0.1111111111111111,\"#46039f\"],[0.2222222222222222,\"#7201a8\"],[0.3333333333333333,\"#9c179e\"],[0.4444444444444444,\"#bd3786\"],[0.5555555555555556,\"#d8576b\"],[0.6666666666666666,\"#ed7953\"],[0.7777777777777778,\"#fb9f3a\"],[0.8888888888888888,\"#fdca26\"],[1.0,\"#f0f921\"]]}],\"heatmapgl\":[{\"type\":\"heatmapgl\",\"colorbar\":{\"outlinewidth\":0,\"ticks\":\"\"},\"colorscale\":[[0.0,\"#0d0887\"],[0.1111111111111111,\"#46039f\"],[0.2222222222222222,\"#7201a8\"],[0.3333333333333333,\"#9c179e\"],[0.4444444444444444,\"#bd3786\"],[0.5555555555555556,\"#d8576b\"],[0.6666666666666666,\"#ed7953\"],[0.7777777777777778,\"#fb9f3a\"],[0.8888888888888888,\"#fdca26\"],[1.0,\"#f0f921\"]]}],\"contourcarpet\":[{\"type\":\"contourcarpet\",\"colorbar\":{\"outlinewidth\":0,\"ticks\":\"\"}}],\"contour\":[{\"type\":\"contour\",\"colorbar\":{\"outlinewidth\":0,\"ticks\":\"\"},\"colorscale\":[[0.0,\"#0d0887\"],[0.1111111111111111,\"#46039f\"],[0.2222222222222222,\"#7201a8\"],[0.3333333333333333,\"#9c179e\"],[0.4444444444444444,\"#bd3786\"],[0.5555555555555556,\"#d8576b\"],[0.6666666666666666,\"#ed7953\"],[0.7777777777777778,\"#fb9f3a\"],[0.8888888888888888,\"#fdca26\"],[1.0,\"#f0f921\"]]}],\"surface\":[{\"type\":\"surface\",\"colorbar\":{\"outlinewidth\":0,\"ticks\":\"\"},\"colorscale\":[[0.0,\"#0d0887\"],[0.1111111111111111,\"#46039f\"],[0.2222222222222222,\"#7201a8\"],[0.3333333333333333,\"#9c179e\"],[0.4444444444444444,\"#bd3786\"],[0.5555555555555556,\"#d8576b\"],[0.6666666666666666,\"#ed7953\"],[0.7777777777777778,\"#fb9f3a\"],[0.8888888888888888,\"#fdca26\"],[1.0,\"#f0f921\"]]}],\"mesh3d\":[{\"type\":\"mesh3d\",\"colorbar\":{\"outlinewidth\":0,\"ticks\":\"\"}}],\"scatter\":[{\"fillpattern\":{\"fillmode\":\"overlay\",\"size\":10,\"solidity\":0.2},\"type\":\"scatter\"}],\"parcoords\":[{\"type\":\"parcoords\",\"line\":{\"colorbar\":{\"outlinewidth\":0,\"ticks\":\"\"}}}],\"scatterpolargl\":[{\"type\":\"scatterpolargl\",\"marker\":{\"colorbar\":{\"outlinewidth\":0,\"ticks\":\"\"}}}],\"bar\":[{\"error_x\":{\"color\":\"#2a3f5f\"},\"error_y\":{\"color\":\"#2a3f5f\"},\"marker\":{\"line\":{\"color\":\"#E5ECF6\",\"width\":0.5},\"pattern\":{\"fillmode\":\"overlay\",\"size\":10,\"solidity\":0.2}},\"type\":\"bar\"}],\"scattergeo\":[{\"type\":\"scattergeo\",\"marker\":{\"colorbar\":{\"outlinewidth\":0,\"ticks\":\"\"}}}],\"scatterpolar\":[{\"type\":\"scatterpolar\",\"marker\":{\"colorbar\":{\"outlinewidth\":0,\"ticks\":\"\"}}}],\"histogram\":[{\"marker\":{\"pattern\":{\"fillmode\":\"overlay\",\"size\":10,\"solidity\":0.2}},\"type\":\"histogram\"}],\"scattergl\":[{\"type\":\"scattergl\",\"marker\":{\"colorbar\":{\"outlinewidth\":0,\"ticks\":\"\"}}}],\"scatter3d\":[{\"type\":\"scatter3d\",\"line\":{\"colorbar\":{\"outlinewidth\":0,\"ticks\":\"\"}},\"marker\":{\"colorbar\":{\"outlinewidth\":0,\"ticks\":\"\"}}}],\"scattermapbox\":[{\"type\":\"scattermapbox\",\"marker\":{\"colorbar\":{\"outlinewidth\":0,\"ticks\":\"\"}}}],\"scatterternary\":[{\"type\":\"scatterternary\",\"marker\":{\"colorbar\":{\"outlinewidth\":0,\"ticks\":\"\"}}}],\"scattercarpet\":[{\"type\":\"scattercarpet\",\"marker\":{\"colorbar\":{\"outlinewidth\":0,\"ticks\":\"\"}}}],\"carpet\":[{\"aaxis\":{\"endlinecolor\":\"#2a3f5f\",\"gridcolor\":\"white\",\"linecolor\":\"white\",\"minorgridcolor\":\"white\",\"startlinecolor\":\"#2a3f5f\"},\"baxis\":{\"endlinecolor\":\"#2a3f5f\",\"gridcolor\":\"white\",\"linecolor\":\"white\",\"minorgridcolor\":\"white\",\"startlinecolor\":\"#2a3f5f\"},\"type\":\"carpet\"}],\"table\":[{\"cells\":{\"fill\":{\"color\":\"#EBF0F8\"},\"line\":{\"color\":\"white\"}},\"header\":{\"fill\":{\"color\":\"#C8D4E3\"},\"line\":{\"color\":\"white\"}},\"type\":\"table\"}],\"barpolar\":[{\"marker\":{\"line\":{\"color\":\"#E5ECF6\",\"width\":0.5},\"pattern\":{\"fillmode\":\"overlay\",\"size\":10,\"solidity\":0.2}},\"type\":\"barpolar\"}],\"pie\":[{\"automargin\":true,\"type\":\"pie\"}]},\"layout\":{\"autotypenumbers\":\"strict\",\"colorway\":[\"#636efa\",\"#EF553B\",\"#00cc96\",\"#ab63fa\",\"#FFA15A\",\"#19d3f3\",\"#FF6692\",\"#B6E880\",\"#FF97FF\",\"#FECB52\"],\"font\":{\"color\":\"#2a3f5f\"},\"hovermode\":\"closest\",\"hoverlabel\":{\"align\":\"left\"},\"paper_bgcolor\":\"white\",\"plot_bgcolor\":\"#E5ECF6\",\"polar\":{\"bgcolor\":\"#E5ECF6\",\"angularaxis\":{\"gridcolor\":\"white\",\"linecolor\":\"white\",\"ticks\":\"\"},\"radialaxis\":{\"gridcolor\":\"white\",\"linecolor\":\"white\",\"ticks\":\"\"}},\"ternary\":{\"bgcolor\":\"#E5ECF6\",\"aaxis\":{\"gridcolor\":\"white\",\"linecolor\":\"white\",\"ticks\":\"\"},\"baxis\":{\"gridcolor\":\"white\",\"linecolor\":\"white\",\"ticks\":\"\"},\"caxis\":{\"gridcolor\":\"white\",\"linecolor\":\"white\",\"ticks\":\"\"}},\"coloraxis\":{\"colorbar\":{\"outlinewidth\":0,\"ticks\":\"\"}},\"colorscale\":{\"sequential\":[[0.0,\"#0d0887\"],[0.1111111111111111,\"#46039f\"],[0.2222222222222222,\"#7201a8\"],[0.3333333333333333,\"#9c179e\"],[0.4444444444444444,\"#bd3786\"],[0.5555555555555556,\"#d8576b\"],[0.6666666666666666,\"#ed7953\"],[0.7777777777777778,\"#fb9f3a\"],[0.8888888888888888,\"#fdca26\"],[1.0,\"#f0f921\"]],\"sequentialminus\":[[0.0,\"#0d0887\"],[0.1111111111111111,\"#46039f\"],[0.2222222222222222,\"#7201a8\"],[0.3333333333333333,\"#9c179e\"],[0.4444444444444444,\"#bd3786\"],[0.5555555555555556,\"#d8576b\"],[0.6666666666666666,\"#ed7953\"],[0.7777777777777778,\"#fb9f3a\"],[0.8888888888888888,\"#fdca26\"],[1.0,\"#f0f921\"]],\"diverging\":[[0,\"#8e0152\"],[0.1,\"#c51b7d\"],[0.2,\"#de77ae\"],[0.3,\"#f1b6da\"],[0.4,\"#fde0ef\"],[0.5,\"#f7f7f7\"],[0.6,\"#e6f5d0\"],[0.7,\"#b8e186\"],[0.8,\"#7fbc41\"],[0.9,\"#4d9221\"],[1,\"#276419\"]]},\"xaxis\":{\"gridcolor\":\"white\",\"linecolor\":\"white\",\"ticks\":\"\",\"title\":{\"standoff\":15},\"zerolinecolor\":\"white\",\"automargin\":true,\"zerolinewidth\":2},\"yaxis\":{\"gridcolor\":\"white\",\"linecolor\":\"white\",\"ticks\":\"\",\"title\":{\"standoff\":15},\"zerolinecolor\":\"white\",\"automargin\":true,\"zerolinewidth\":2},\"scene\":{\"xaxis\":{\"backgroundcolor\":\"#E5ECF6\",\"gridcolor\":\"white\",\"linecolor\":\"white\",\"showbackground\":true,\"ticks\":\"\",\"zerolinecolor\":\"white\",\"gridwidth\":2},\"yaxis\":{\"backgroundcolor\":\"#E5ECF6\",\"gridcolor\":\"white\",\"linecolor\":\"white\",\"showbackground\":true,\"ticks\":\"\",\"zerolinecolor\":\"white\",\"gridwidth\":2},\"zaxis\":{\"backgroundcolor\":\"#E5ECF6\",\"gridcolor\":\"white\",\"linecolor\":\"white\",\"showbackground\":true,\"ticks\":\"\",\"zerolinecolor\":\"white\",\"gridwidth\":2}},\"shapedefaults\":{\"line\":{\"color\":\"#2a3f5f\"}},\"annotationdefaults\":{\"arrowcolor\":\"#2a3f5f\",\"arrowhead\":0,\"arrowwidth\":1},\"geo\":{\"bgcolor\":\"white\",\"landcolor\":\"#E5ECF6\",\"subunitcolor\":\"white\",\"showland\":true,\"showlakes\":true,\"lakecolor\":\"white\"},\"title\":{\"x\":0.05},\"mapbox\":{\"style\":\"light\"}}},\"legend\":{\"tracegroupgap\":0},\"margin\":{\"t\":60}},                        {\"responsive\": true}                    ).then(function(){\n",
       "                            \n",
       "var gd = document.getElementById('67262add-9960-4863-93a0-3ffba8f7ca05');\n",
       "var x = new MutationObserver(function (mutations, observer) {{\n",
       "        var display = window.getComputedStyle(gd).display;\n",
       "        if (!display || display === 'none') {{\n",
       "            console.log([gd, 'removed!']);\n",
       "            Plotly.purge(gd);\n",
       "            observer.disconnect();\n",
       "        }}\n",
       "}});\n",
       "\n",
       "// Listen for the removal of the full notebook cells\n",
       "var notebookContainer = gd.closest('#notebook-container');\n",
       "if (notebookContainer) {{\n",
       "    x.observe(notebookContainer, {childList: true});\n",
       "}}\n",
       "\n",
       "// Listen for the clearing of the current output cell\n",
       "var outputEl = gd.closest('.output');\n",
       "if (outputEl) {{\n",
       "    x.observe(outputEl, {childList: true});\n",
       "}}\n",
       "\n",
       "                        })                };                });            </script>        </div>"
      ]
     },
     "metadata": {},
     "output_type": "display_data"
    }
   ],
   "source": [
    "import plotly.express as px\n",
    "fig = px.treemap(df1, path=[px.Constant(\"World\"), 'region','pop'], \n",
    "                 values='value', \n",
    "                )\n",
    "fig.show()"
   ]
  },
  {
   "cell_type": "markdown",
   "id": "4b96654e",
   "metadata": {},
   "source": [
    "# Q2"
   ]
  },
  {
   "cell_type": "code",
   "execution_count": 5,
   "id": "40d3b80c",
   "metadata": {},
   "outputs": [],
   "source": [
    "data = df"
   ]
  },
  {
   "cell_type": "code",
   "execution_count": 6,
   "id": "17df1342",
   "metadata": {},
   "outputs": [],
   "source": [
    "data = data.groupby(['region','subregion'])['value'].sum()\n",
    "data = data.reset_index()"
   ]
  },
  {
   "cell_type": "code",
   "execution_count": 7,
   "id": "6eadc07f",
   "metadata": {},
   "outputs": [],
   "source": [
    "dict_all = {'id':'World','datum':data['value'].sum()}\n",
    "dict_lists = []\n",
    "for region in set(data['region']):\n",
    "    d = {}\n",
    "    d['id'] = region\n",
    "    d['datum'] = data[data['region']== region]['value'].sum()\n",
    "    d['children'] = [{'id':i['subregion'],'datum':i['value']} for i in data[data['region']==region][['subregion','value']].to_dict('records')]\n",
    "    dict_lists.append(d)\n",
    "dict_all['children'] = dict_lists\n",
    "data = [dict_all]"
   ]
  },
  {
   "cell_type": "code",
   "execution_count": 8,
   "id": "611e899c",
   "metadata": {},
   "outputs": [],
   "source": [
    "# import the circlify library\n",
    "import circlify\n",
    "\n",
    "# Compute circle positions thanks to the circlify() function\n",
    "circles = circlify.circlify(\n",
    "    data, \n",
    "    show_enclosure=False, \n",
    "    target_enclosure=circlify.Circle(x=0, y=0, r=1)\n",
    ")"
   ]
  },
  {
   "cell_type": "code",
   "execution_count": 9,
   "id": "2a775584",
   "metadata": {},
   "outputs": [
    {
     "data": {
      "image/png": "[encoded data removed]",
      "text/plain": [
       "<Figure size 1400x1400 with 1 Axes>"
      ]
     },
     "metadata": {},
     "output_type": "display_data"
    }
   ],
   "source": [
    "# import libraries\n",
    "import circlify\n",
    "import matplotlib.pyplot as plt\n",
    "\n",
    "# Create just a figure and only one subplot\n",
    "fig, ax = plt.subplots(figsize=(14,14))\n",
    "\n",
    "# Title\n",
    "ax.set_title('Repartition of the world population')\n",
    "\n",
    "# Remove axes\n",
    "ax.axis('off')\n",
    "\n",
    "# Find axis boundaries\n",
    "lim = max(\n",
    "    max(\n",
    "        abs(circle.x) + circle.r,\n",
    "        abs(circle.y) + circle.r,\n",
    "    )\n",
    "    for circle in circles\n",
    ")\n",
    "plt.xlim(-lim, lim)\n",
    "plt.ylim(-lim, lim)\n",
    "\n",
    "# Print circle the highest level (continents):\n",
    "for circle in circles:\n",
    "    if circle.level != 2:\n",
    "        continue\n",
    "    x, y, r = circle\n",
    "    ax.add_patch( plt.Circle((x, y), r, alpha=0.5, linewidth=2, color=\"lightblue\"))\n",
    "\n",
    "# Print circle and labels for the highest level:\n",
    "for circle in circles:\n",
    "    if circle.level != 3:\n",
    "        continue\n",
    "    x, y, r = circle\n",
    "    label = circle.ex[\"id\"]\n",
    "    ax.add_patch( plt.Circle((x, y), r, alpha=0.5, linewidth=2, color=\"#69b3a2\"))\n",
    "    plt.annotate(label, (x,y ), ha='center', color=\"white\")\n",
    "\n",
    "# Print labels for the continents\n",
    "for circle in circles:\n",
    "    if circle.level != 2:\n",
    "        continue\n",
    "    x, y, r = circle\n",
    "    label = circle.ex[\"id\"]\n",
    "    plt.annotate(label, (x,y ) ,va='center', ha='center', bbox=dict(facecolor='white', edgecolor='black', boxstyle='round', pad=.5))\n",
    "\n"
   ]
  }
 ],
 "metadata": {
  "kernelspec": {
   "display_name": "Python 3 (ipykernel)",
   "language": "python",
   "name": "python3"
  },
  "language_info": {
   "codemirror_mode": {
    "name": "ipython",
    "version": 3
   },
   "file_extension": ".py",
   "mimetype": "text/x-python",
   "name": "python",
   "nbconvert_exporter": "python",
   "pygments_lexer": "ipython3",
   "version": "3.9.15"
  }
 },
 "nbformat": 4,
 "nbformat_minor": 5
}
