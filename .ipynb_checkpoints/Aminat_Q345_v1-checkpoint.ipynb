{
 "cells": [
  {
   "cell_type": "code",
   "execution_count": 1,
   "id": "d4e5c5cd",
   "metadata": {},
   "outputs": [],
   "source": [
    "import pandas as pd\n",
    "from sklearn import svm\n",
    "import numpy as np\n",
    "import warnings\n",
    "warnings.filterwarnings('ignore')\n",
    "from tqdm import tqdm\n",
    "from sklearn.model_selection import KFold\n",
    "from sklearn.metrics import classification_report\n",
    "from sklearn.model_selection import train_test_split\n",
    "from sklearn.linear_model import LogisticRegression\n",
    "from sklearn.metrics import f1_score\n",
    "from sklearn.feature_extraction.text import TfidfVectorizer"
   ]
  },
  {
   "cell_type": "markdown",
   "id": "2ab02c07",
   "metadata": {},
   "source": [
    "# Q3"
   ]
  },
  {
   "cell_type": "code",
   "execution_count": 4,
   "id": "a275f8ad",
   "metadata": {},
   "outputs": [],
   "source": [
    "def run_logistic_regression(filename):\n",
    "    df = pd.read_csv(filename)\n",
    "    X = df.drop('class',axis=1)\n",
    "    y = df['class']\n",
    "    clf = LogisticRegression(random_state=0).fit(X, y)\n",
    "    y_pred = clf.predict(X)\n",
    "    f1_wt = f1_score(y,y_pred,average='weighted')\n",
    "    f1_m = f1_score(y,y_pred,average='macro')\n",
    "    return f1_wt,f1_m"
   ]
  },
  {
   "cell_type": "code",
   "execution_count": 5,
   "id": "e7a6c0c8",
   "metadata": {},
   "outputs": [
    {
     "data": {
      "text/plain": [
       "(0.6206537195686039, 0.5310156395842579)"
      ]
     },
     "execution_count": 5,
     "metadata": {},
     "output_type": "execute_result"
    }
   ],
   "source": [
    "run_logistic_regression(\"q3_data.csv\")"
   ]
  },
  {
   "cell_type": "markdown",
   "id": "3724a444",
   "metadata": {},
   "source": [
    "# Q4.1"
   ]
  },
  {
   "cell_type": "code",
   "execution_count": 6,
   "id": "7febf025",
   "metadata": {},
   "outputs": [],
   "source": [
    "import numpy as np\n",
    "import math\n",
    "\n",
    "\n",
    "# problem data\n",
    "i_nInputs = 2 # +1 bias term\n",
    "i_nHiddenNodes = 2 # +1 bias term\n",
    "i_nOutputs = 2\n",
    "\n",
    "v_inputs = np.zeros(i_nInputs+1)\n",
    "v_inputs[0] = 0.10 # x1 \n",
    "v_inputs[1] = 0.20 # x2\n",
    "v_inputs[2] = 1.0 # bias term\n",
    "\n",
    "v_initW_l1 = np.zeros((i_nInputs+1, i_nHiddenNodes))\n",
    "v_initW_l1[0][0] = 0.10 # w1\n",
    "v_initW_l1[0][1] = 0.15 # w2\n",
    "v_initW_l1[1][0] = 0.20 # w3\n",
    "v_initW_l1[1][1] = 0.25 # w4\n",
    "v_initW_l1[2][0] = 0.30 # w5 # bias term weight\n",
    "v_initW_l1[2][1] = 0.30 # w6 # bias term weight\n",
    "\n",
    "v_initW_l2 = np.zeros((i_nHiddenNodes+1, i_nOutputs))\n",
    "v_initW_l2[0][0] = 0.35 # w7 \n",
    "v_initW_l2[0][1] = 0.40 # w8 \n",
    "v_initW_l2[1][0] = 0.45 # w9\n",
    "v_initW_l2[1][1] = 0.50 # w10\n",
    "v_initW_l2[2][0] = 0.55 # w11 # bias term weight\n",
    "v_initW_l2[2][1] = 0.55 # w12 # bias term weight\n",
    "\n",
    "v_targetOutputs = np.zeros(i_nOutputs)\n",
    "v_targetOutputs[0] = 0.10\n",
    "v_targetOutputs[1] = 0.90\n",
    "\n",
    "def ForwardPass(v_inputs, v_initW_l1, v_initW_l2, v_targetOutputs):\n",
    "    def sigmoid(x):\n",
    "        return 1 / (1 + np.exp(-x))\n",
    "\n",
    "    h1 = sigmoid(np.dot(v_inputs, v_initW_l1))\n",
    "\n",
    "    h_inputs = np.zeros(i_nHiddenNodes+1)\n",
    "    h_inputs[0] = h1[0] \n",
    "    h_inputs[1] = h1[1]\n",
    "    h_inputs[2] = 1.0\n",
    "\n",
    "    out = sigmoid(np.dot(h_inputs, v_initW_l2))\n",
    "\n",
    "    return h1,out"
   ]
  },
  {
   "cell_type": "code",
   "execution_count": 7,
   "id": "daf60408",
   "metadata": {},
   "outputs": [],
   "source": [
    "v_out_h,v_out=ForwardPass(v_inputs, v_initW_l1, v_initW_l2, v_targetOutputs)"
   ]
  },
  {
   "cell_type": "code",
   "execution_count": 8,
   "id": "af62f16a",
   "metadata": {},
   "outputs": [
    {
     "name": "stdout",
     "output_type": "stream",
     "text": [
      "v_out_h [0.58661758 0.59025025]\n",
      "v_out [0.73515347 0.74645086]\n"
     ]
    }
   ],
   "source": [
    "print(\"v_out_h\", v_out_h)\n",
    "print(\"v_out\", v_out) "
   ]
  },
  {
   "cell_type": "markdown",
   "id": "e2c9c51d",
   "metadata": {},
   "source": [
    "# Q4.2"
   ]
  },
  {
   "cell_type": "code",
   "execution_count": 9,
   "id": "c0ac1fd8",
   "metadata": {},
   "outputs": [],
   "source": [
    "def BackwardPass(v_inputs, v_initW_l1,v_initW_l2, v_targetOutputs, geta=0.5):\n",
    "\n",
    "    h1,out = ForwardPass(v_inputs, v_initW_l1, v_initW_l2, v_targetOutputs)\n",
    "\n",
    "    output_error = out - v_targetOutputs\n",
    "\n",
    "    hidden_error = h1* (1 - h1) * np.dot(output_error, v_initW_l2.T[:,:2])\n",
    "\n",
    "    # partial derivatives\n",
    "    hidden_pd = v_inputs[:2] * hidden_error\n",
    "    output_pd = h1 * output_error\n",
    "\n",
    "    # update weights\n",
    "    v_initW_l1 += - geta * hidden_pd\n",
    "    v_initW_l2 += - geta * output_pd\n",
    "    return v_initW_l1, v_initW_l2"
   ]
  },
  {
   "cell_type": "code",
   "execution_count": 10,
   "id": "49d5bb9d",
   "metadata": {},
   "outputs": [],
   "source": [
    "t_v_updatedW_l1, t_v_updatedW_l2 = BackwardPass(v_inputs, v_initW_l1,v_initW_l2, v_targetOutputs, geta=0.5)"
   ]
  },
  {
   "cell_type": "code",
   "execution_count": 11,
   "id": "436cacfd",
   "metadata": {},
   "outputs": [
    {
     "name": "stdout",
     "output_type": "stream",
     "text": [
      "[[0.0980493  0.14494416]\n",
      " [0.1980493  0.24494416]\n",
      " [0.2980493  0.29494416]]\n"
     ]
    }
   ],
   "source": [
    "print(t_v_updatedW_l1)"
   ]
  },
  {
   "cell_type": "code",
   "execution_count": 12,
   "id": "64f1895c",
   "metadata": {},
   "outputs": [
    {
     "name": "stdout",
     "output_type": "stream",
     "text": [
      "[[0.1637039  0.44531621]\n",
      " [0.2637039  0.54531621]\n",
      " [0.3637039  0.59531621]]\n"
     ]
    }
   ],
   "source": [
    "print(t_v_updatedW_l2)"
   ]
  },
  {
   "cell_type": "markdown",
   "id": "f07d9e9e",
   "metadata": {},
   "source": [
    "# Q5"
   ]
  },
  {
   "cell_type": "code",
   "execution_count": 13,
   "id": "f057f03e",
   "metadata": {},
   "outputs": [],
   "source": [
    "def run_kfold_CV_SVM(filename,n_folds):\n",
    "    df = pd.read_csv(filename)\n",
    "    vectorizer = TfidfVectorizer(stop_words='english')\n",
    "    X = df['content']\n",
    "    y = df['label']\n",
    "    X = vectorizer.fit_transform(X)\n",
    "\n",
    "    kf = KFold(n_splits=n_folds)\n",
    "\n",
    "    out = []\n",
    "    for i, (train_index, test_index) in tqdm(enumerate(kf.split(X))):\n",
    "        X_train, y_train = X[train_index],y[train_index]\n",
    "        X_test, y_test = X[test_index],y[test_index]\n",
    "\n",
    "        clf = svm.SVC(random_state=42).fit(X_train, y_train)\n",
    "        y_pred = clf.predict(X_test)\n",
    "        d = classification_report(y_test,y_pred,output_dict=True)\n",
    "        result = pd.DataFrame(d)\n",
    "        out.append(result)\n",
    "    out = sum(out)/n_folds\n",
    "    out.rename({'comedy': 'class-comedy',\n",
    "            'crime':'class-crime','drama': 'class-drama',\n",
    "           'horror':'class-horror','western':'class-western'}, \n",
    "           axis=1,inplace=True)  \n",
    "    \n",
    "    out = out.T\n",
    "    out.reset_index(inplace=True)\n",
    "    out['Model'] = 'SVM'\n",
    "    out.rename({'index': 'Class'}, axis=1,inplace=True)  \n",
    "    out = out[['Model','Class','precision', 'recall', 'f1-score', 'support']]\n",
    "    return out.sort_values('Class').reset_index(drop=True)"
   ]
  },
  {
   "cell_type": "code",
   "execution_count": 14,
   "id": "8cf985e5",
   "metadata": {},
   "outputs": [
    {
     "name": "stderr",
     "output_type": "stream",
     "text": [
      "3it [00:09,  3.03s/it]\n"
     ]
    }
   ],
   "source": [
    "df_report_svm = run_kfold_CV_SVM(\"q5_text.csv\", n_folds=3)"
   ]
  },
  {
   "cell_type": "code",
   "execution_count": 15,
   "id": "fa54e6a1",
   "metadata": {},
   "outputs": [
    {
     "data": {
      "text/html": [
       "<div>\n",
       "<style scoped>\n",
       "    .dataframe tbody tr th:only-of-type {\n",
       "        vertical-align: middle;\n",
       "    }\n",
       "\n",
       "    .dataframe tbody tr th {\n",
       "        vertical-align: top;\n",
       "    }\n",
       "\n",
       "    .dataframe thead th {\n",
       "        text-align: right;\n",
       "    }\n",
       "</style>\n",
       "<table border=\"1\" class=\"dataframe\">\n",
       "  <thead>\n",
       "    <tr style=\"text-align: right;\">\n",
       "      <th></th>\n",
       "      <th>Model</th>\n",
       "      <th>Class</th>\n",
       "      <th>precision</th>\n",
       "      <th>recall</th>\n",
       "      <th>f1-score</th>\n",
       "      <th>support</th>\n",
       "    </tr>\n",
       "  </thead>\n",
       "  <tbody>\n",
       "    <tr>\n",
       "      <th>0</th>\n",
       "      <td>SVM</td>\n",
       "      <td>accuracy</td>\n",
       "      <td>0.450642</td>\n",
       "      <td>0.450642</td>\n",
       "      <td>0.450642</td>\n",
       "      <td>0.450642</td>\n",
       "    </tr>\n",
       "    <tr>\n",
       "      <th>1</th>\n",
       "      <td>SVM</td>\n",
       "      <td>class-comedy</td>\n",
       "      <td>0.405195</td>\n",
       "      <td>0.742855</td>\n",
       "      <td>0.513673</td>\n",
       "      <td>221.333333</td>\n",
       "    </tr>\n",
       "    <tr>\n",
       "      <th>2</th>\n",
       "      <td>SVM</td>\n",
       "      <td>class-crime</td>\n",
       "      <td>0.811966</td>\n",
       "      <td>0.076779</td>\n",
       "      <td>0.134175</td>\n",
       "      <td>112.666667</td>\n",
       "    </tr>\n",
       "    <tr>\n",
       "      <th>3</th>\n",
       "      <td>SVM</td>\n",
       "      <td>class-drama</td>\n",
       "      <td>0.430278</td>\n",
       "      <td>0.548212</td>\n",
       "      <td>0.457204</td>\n",
       "      <td>220.666667</td>\n",
       "    </tr>\n",
       "    <tr>\n",
       "      <th>4</th>\n",
       "      <td>SVM</td>\n",
       "      <td>class-horror</td>\n",
       "      <td>1.000000</td>\n",
       "      <td>0.027998</td>\n",
       "      <td>0.053667</td>\n",
       "      <td>87.666667</td>\n",
       "    </tr>\n",
       "    <tr>\n",
       "      <th>5</th>\n",
       "      <td>SVM</td>\n",
       "      <td>class-western</td>\n",
       "      <td>0.706132</td>\n",
       "      <td>0.627796</td>\n",
       "      <td>0.495889</td>\n",
       "      <td>175.000000</td>\n",
       "    </tr>\n",
       "    <tr>\n",
       "      <th>6</th>\n",
       "      <td>SVM</td>\n",
       "      <td>macro avg</td>\n",
       "      <td>0.670714</td>\n",
       "      <td>0.404728</td>\n",
       "      <td>0.330922</td>\n",
       "      <td>817.333333</td>\n",
       "    </tr>\n",
       "    <tr>\n",
       "      <th>7</th>\n",
       "      <td>SVM</td>\n",
       "      <td>weighted avg</td>\n",
       "      <td>0.663264</td>\n",
       "      <td>0.450642</td>\n",
       "      <td>0.409218</td>\n",
       "      <td>817.333333</td>\n",
       "    </tr>\n",
       "  </tbody>\n",
       "</table>\n",
       "</div>"
      ],
      "text/plain": [
       "  Model          Class  precision    recall  f1-score     support\n",
       "0   SVM       accuracy   0.450642  0.450642  0.450642    0.450642\n",
       "1   SVM   class-comedy   0.405195  0.742855  0.513673  221.333333\n",
       "2   SVM    class-crime   0.811966  0.076779  0.134175  112.666667\n",
       "3   SVM    class-drama   0.430278  0.548212  0.457204  220.666667\n",
       "4   SVM   class-horror   1.000000  0.027998  0.053667   87.666667\n",
       "5   SVM  class-western   0.706132  0.627796  0.495889  175.000000\n",
       "6   SVM      macro avg   0.670714  0.404728  0.330922  817.333333\n",
       "7   SVM   weighted avg   0.663264  0.450642  0.409218  817.333333"
      ]
     },
     "execution_count": 15,
     "metadata": {},
     "output_type": "execute_result"
    }
   ],
   "source": [
    "df_report_svm"
   ]
  },
  {
   "cell_type": "code",
   "execution_count": null,
   "id": "eb781324",
   "metadata": {},
   "outputs": [],
   "source": []
  }
 ],
 "metadata": {
  "kernelspec": {
   "display_name": "Python 3 (ipykernel)",
   "language": "python",
   "name": "python3"
  },
  "language_info": {
   "codemirror_mode": {
    "name": "ipython",
    "version": 3
   },
   "file_extension": ".py",
   "mimetype": "text/x-python",
   "name": "python",
   "nbconvert_exporter": "python",
   "pygments_lexer": "ipython3",
   "version": "3.9.15"
  }
 },
 "nbformat": 4,
 "nbformat_minor": 5
}
