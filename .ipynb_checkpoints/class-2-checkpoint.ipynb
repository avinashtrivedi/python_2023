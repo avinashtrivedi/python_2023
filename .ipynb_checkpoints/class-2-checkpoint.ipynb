{
 "cells": [
  {
   "cell_type": "code",
   "execution_count": 4,
   "id": "7c264f9d",
   "metadata": {},
   "outputs": [],
   "source": [
    "d1 = {}\n",
    "d2 = dict()"
   ]
  },
  {
   "cell_type": "code",
   "execution_count": 2,
   "id": "ae24d635",
   "metadata": {},
   "outputs": [
    {
     "data": {
      "text/plain": [
       "dict"
      ]
     },
     "execution_count": 2,
     "metadata": {},
     "output_type": "execute_result"
    }
   ],
   "source": [
    "type(s)"
   ]
  },
  {
   "cell_type": "code",
   "execution_count": 3,
   "id": "23519fc3",
   "metadata": {},
   "outputs": [
    {
     "data": {
      "text/plain": [
       "dict"
      ]
     },
     "execution_count": 3,
     "metadata": {},
     "output_type": "execute_result"
    }
   ],
   "source": [
    "type(ss)"
   ]
  },
  {
   "cell_type": "code",
   "execution_count": 5,
   "id": "d96c0d42",
   "metadata": {},
   "outputs": [],
   "source": [
    "s = set()"
   ]
  },
  {
   "cell_type": "markdown",
   "id": "353b796e",
   "metadata": {},
   "source": [
    "# SET"
   ]
  },
  {
   "cell_type": "code",
   "execution_count": 6,
   "id": "c4e8a6fb",
   "metadata": {},
   "outputs": [],
   "source": [
    "s = set()"
   ]
  },
  {
   "cell_type": "code",
   "execution_count": 7,
   "id": "df2227f9",
   "metadata": {},
   "outputs": [
    {
     "data": {
      "text/plain": [
       "set"
      ]
     },
     "execution_count": 7,
     "metadata": {},
     "output_type": "execute_result"
    }
   ],
   "source": [
    "type(s)"
   ]
  },
  {
   "cell_type": "code",
   "execution_count": 14,
   "id": "f986d0db",
   "metadata": {},
   "outputs": [],
   "source": [
    "s = {1,2}"
   ]
  },
  {
   "cell_type": "code",
   "execution_count": 15,
   "id": "ad6750b8",
   "metadata": {},
   "outputs": [
    {
     "data": {
      "text/plain": [
       "{1, 2}"
      ]
     },
     "execution_count": 15,
     "metadata": {},
     "output_type": "execute_result"
    }
   ],
   "source": [
    "s"
   ]
  },
  {
   "cell_type": "code",
   "execution_count": 16,
   "id": "5f971c2f",
   "metadata": {},
   "outputs": [
    {
     "data": {
      "text/plain": [
       "set"
      ]
     },
     "execution_count": 16,
     "metadata": {},
     "output_type": "execute_result"
    }
   ],
   "source": [
    "type(s)"
   ]
  },
  {
   "cell_type": "code",
   "execution_count": 17,
   "id": "c8d1c06a",
   "metadata": {},
   "outputs": [],
   "source": [
    "s.add(41)"
   ]
  },
  {
   "cell_type": "code",
   "execution_count": 18,
   "id": "6f730c72",
   "metadata": {},
   "outputs": [
    {
     "data": {
      "text/plain": [
       "{1, 2, 41}"
      ]
     },
     "execution_count": 18,
     "metadata": {},
     "output_type": "execute_result"
    }
   ],
   "source": [
    "s"
   ]
  },
  {
   "cell_type": "code",
   "execution_count": 20,
   "id": "a0e4f1d7",
   "metadata": {},
   "outputs": [
    {
     "data": {
      "text/plain": [
       "2"
      ]
     },
     "execution_count": 20,
     "metadata": {},
     "output_type": "execute_result"
    }
   ],
   "source": [
    "s.pop()"
   ]
  },
  {
   "cell_type": "code",
   "execution_count": 21,
   "id": "2be95261",
   "metadata": {},
   "outputs": [
    {
     "data": {
      "text/plain": [
       "{41}"
      ]
     },
     "execution_count": 21,
     "metadata": {},
     "output_type": "execute_result"
    }
   ],
   "source": [
    "s"
   ]
  },
  {
   "cell_type": "code",
   "execution_count": 22,
   "id": "3c369cad",
   "metadata": {},
   "outputs": [
    {
     "data": {
      "text/plain": [
       "{1, 2, 3}"
      ]
     },
     "execution_count": 22,
     "metadata": {},
     "output_type": "execute_result"
    }
   ],
   "source": [
    "set([1,2,3,3,3])"
   ]
  },
  {
   "cell_type": "code",
   "execution_count": 24,
   "id": "46551b6d",
   "metadata": {},
   "outputs": [],
   "source": [
    "s1 = {1,2,3,4}\n",
    "s2 = {1,2}\n",
    "s3 = {1,4}"
   ]
  },
  {
   "cell_type": "code",
   "execution_count": 26,
   "id": "93e0da84",
   "metadata": {},
   "outputs": [
    {
     "data": {
      "text/plain": [
       "{1}"
      ]
     },
     "execution_count": 26,
     "metadata": {},
     "output_type": "execute_result"
    }
   ],
   "source": [
    "s1.intersection(s2).intersection(s3)"
   ]
  },
  {
   "cell_type": "markdown",
   "id": "3d76b7e7",
   "metadata": {},
   "source": [
    "# Dictionary"
   ]
  },
  {
   "cell_type": "code",
   "execution_count": 27,
   "id": "d4b95aa2",
   "metadata": {},
   "outputs": [],
   "source": [
    "d1=  {}"
   ]
  },
  {
   "cell_type": "code",
   "execution_count": 29,
   "id": "0a5a24b2",
   "metadata": {},
   "outputs": [],
   "source": [
    "d1['key1'] = 10"
   ]
  },
  {
   "cell_type": "code",
   "execution_count": 30,
   "id": "5a6e2e45",
   "metadata": {},
   "outputs": [
    {
     "data": {
      "text/plain": [
       "{'key1': 10}"
      ]
     },
     "execution_count": 30,
     "metadata": {},
     "output_type": "execute_result"
    }
   ],
   "source": [
    "d1"
   ]
  },
  {
   "cell_type": "code",
   "execution_count": 31,
   "id": "4b8245cf",
   "metadata": {},
   "outputs": [],
   "source": [
    "d1['key2'] = 20"
   ]
  },
  {
   "cell_type": "code",
   "execution_count": 33,
   "id": "4b888052",
   "metadata": {},
   "outputs": [
    {
     "data": {
      "text/plain": [
       "{'key1': 10, 'key2': 20}"
      ]
     },
     "execution_count": 33,
     "metadata": {},
     "output_type": "execute_result"
    }
   ],
   "source": [
    "d1"
   ]
  },
  {
   "cell_type": "code",
   "execution_count": 35,
   "id": "0cd03308",
   "metadata": {},
   "outputs": [
    {
     "data": {
      "text/plain": [
       "20"
      ]
     },
     "execution_count": 35,
     "metadata": {},
     "output_type": "execute_result"
    }
   ],
   "source": [
    "d1['key2']"
   ]
  },
  {
   "cell_type": "code",
   "execution_count": 36,
   "id": "8ab541ec",
   "metadata": {},
   "outputs": [
    {
     "data": {
      "text/plain": [
       "dict_keys(['key1', 'key2'])"
      ]
     },
     "execution_count": 36,
     "metadata": {},
     "output_type": "execute_result"
    }
   ],
   "source": [
    "d1.keys()"
   ]
  },
  {
   "cell_type": "code",
   "execution_count": 37,
   "id": "b169f00a",
   "metadata": {},
   "outputs": [
    {
     "data": {
      "text/plain": [
       "['key1', 'key2']"
      ]
     },
     "execution_count": 37,
     "metadata": {},
     "output_type": "execute_result"
    }
   ],
   "source": [
    "list(d1)"
   ]
  },
  {
   "cell_type": "code",
   "execution_count": 39,
   "id": "5584951f",
   "metadata": {},
   "outputs": [],
   "source": [
    "x = d1.values()"
   ]
  },
  {
   "cell_type": "code",
   "execution_count": 45,
   "id": "330dc7fe",
   "metadata": {},
   "outputs": [
    {
     "data": {
      "text/plain": [
       "20"
      ]
     },
     "execution_count": 45,
     "metadata": {},
     "output_type": "execute_result"
    }
   ],
   "source": [
    "list(x)[1]"
   ]
  },
  {
   "cell_type": "code",
   "execution_count": 48,
   "id": "578d165f",
   "metadata": {},
   "outputs": [
    {
     "data": {
      "text/plain": [
       "dict_values([10, 20])"
      ]
     },
     "execution_count": 48,
     "metadata": {},
     "output_type": "execute_result"
    }
   ],
   "source": [
    "x"
   ]
  },
  {
   "cell_type": "code",
   "execution_count": 49,
   "id": "356904d5",
   "metadata": {},
   "outputs": [
    {
     "data": {
      "text/plain": [
       "{'key1': 10, 'key2': 20}"
      ]
     },
     "execution_count": 49,
     "metadata": {},
     "output_type": "execute_result"
    }
   ],
   "source": [
    "d1"
   ]
  },
  {
   "cell_type": "code",
   "execution_count": 55,
   "id": "955ac73f",
   "metadata": {},
   "outputs": [
    {
     "data": {
      "text/plain": [
       "10"
      ]
     },
     "execution_count": 55,
     "metadata": {},
     "output_type": "execute_result"
    }
   ],
   "source": [
    "d1.get('key1',500)"
   ]
  },
  {
   "cell_type": "code",
   "execution_count": 56,
   "id": "f86580e9",
   "metadata": {},
   "outputs": [
    {
     "ename": "KeyError",
     "evalue": "'key22'",
     "output_type": "error",
     "traceback": [
      "\u001b[1;31m---------------------------------------------------------------------------\u001b[0m",
      "\u001b[1;31mKeyError\u001b[0m                                  Traceback (most recent call last)",
      "Cell \u001b[1;32mIn[56], line 1\u001b[0m\n\u001b[1;32m----> 1\u001b[0m \u001b[43md1\u001b[49m\u001b[43m[\u001b[49m\u001b[38;5;124;43m'\u001b[39;49m\u001b[38;5;124;43mkey22\u001b[39;49m\u001b[38;5;124;43m'\u001b[39;49m\u001b[43m]\u001b[49m\n",
      "\u001b[1;31mKeyError\u001b[0m: 'key22'"
     ]
    }
   ],
   "source": [
    "d1['key22']"
   ]
  },
  {
   "cell_type": "code",
   "execution_count": 58,
   "id": "664cf545",
   "metadata": {},
   "outputs": [
    {
     "data": {
      "text/plain": [
       "{'key1': 10, 'key2': 20}"
      ]
     },
     "execution_count": 58,
     "metadata": {},
     "output_type": "execute_result"
    }
   ],
   "source": [
    "d1"
   ]
  },
  {
   "cell_type": "code",
   "execution_count": 59,
   "id": "2dd7f19d",
   "metadata": {},
   "outputs": [],
   "source": [
    "d1['key3'] = 100"
   ]
  },
  {
   "cell_type": "code",
   "execution_count": 60,
   "id": "5c588c65",
   "metadata": {},
   "outputs": [
    {
     "data": {
      "text/plain": [
       "{'key1': 10, 'key2': 20, 'key3': 100}"
      ]
     },
     "execution_count": 60,
     "metadata": {},
     "output_type": "execute_result"
    }
   ],
   "source": [
    "d1"
   ]
  },
  {
   "cell_type": "code",
   "execution_count": 63,
   "id": "631e209a",
   "metadata": {},
   "outputs": [],
   "source": [
    "d1['key4'] = d1.get('key4',50)"
   ]
  },
  {
   "cell_type": "code",
   "execution_count": 65,
   "id": "0ff93f27",
   "metadata": {},
   "outputs": [
    {
     "data": {
      "text/plain": [
       "{'key1': 10, 'key2': 20, 'key3': 100, 'key4': 50}"
      ]
     },
     "execution_count": 65,
     "metadata": {},
     "output_type": "execute_result"
    }
   ],
   "source": [
    "d1"
   ]
  },
  {
   "cell_type": "code",
   "execution_count": 67,
   "id": "34db885c",
   "metadata": {},
   "outputs": [
    {
     "data": {
      "text/plain": [
       "{'key2': 20, 'key4': 50}"
      ]
     },
     "execution_count": 67,
     "metadata": {},
     "output_type": "execute_result"
    }
   ],
   "source": [
    "{'key2': 20, 'key4': 50}\n"
   ]
  },
  {
   "cell_type": "code",
   "execution_count": 95,
   "id": "caf01af5",
   "metadata": {},
   "outputs": [
    {
     "data": {
      "text/plain": [
       "{'key2': 20, 'key4': 50}"
      ]
     },
     "execution_count": 95,
     "metadata": {},
     "output_type": "execute_result"
    }
   ],
   "source": [
    "{k:d1[k] for k in d1 if k in ['key2','key4']}"
   ]
  },
  {
   "cell_type": "code",
   "execution_count": 96,
   "id": "c6c74b9c",
   "metadata": {},
   "outputs": [
    {
     "data": {
      "text/plain": [
       "{'key1': 1000, 'key2': 20, 'key3': 1000, 'key4': 50}"
      ]
     },
     "execution_count": 96,
     "metadata": {},
     "output_type": "execute_result"
    }
   ],
   "source": [
    "{k:d1[k] if k in ['key2','key4'] else 1000 for k in d1 }"
   ]
  },
  {
   "cell_type": "code",
   "execution_count": 90,
   "id": "20c9513d",
   "metadata": {},
   "outputs": [
    {
     "ename": "SyntaxError",
     "evalue": "invalid syntax (1385529173.py, line 1)",
     "output_type": "error",
     "traceback": [
      "\u001b[1;36m  Cell \u001b[1;32mIn[90], line 1\u001b[1;36m\u001b[0m\n\u001b[1;33m    { if k in ['key2','key4'] else 1000 k:d1[k] for k in d1 }\u001b[0m\n\u001b[1;37m      ^\u001b[0m\n\u001b[1;31mSyntaxError\u001b[0m\u001b[1;31m:\u001b[0m invalid syntax\n"
     ]
    }
   ],
   "source": [
    "{ if k in ['key2','key4'] else 1000 k:d1[k] for k in d1 }"
   ]
  },
  {
   "cell_type": "code",
   "execution_count": 70,
   "id": "635de302",
   "metadata": {},
   "outputs": [
    {
     "data": {
      "text/plain": [
       "{'key1': 10, 'key2': 20, 'key3': 100, 'key4': 50}"
      ]
     },
     "execution_count": 70,
     "metadata": {},
     "output_type": "execute_result"
    }
   ],
   "source": [
    "1000"
   ]
  },
  {
   "cell_type": "code",
   "execution_count": 73,
   "id": "e5c389fa",
   "metadata": {},
   "outputs": [
    {
     "name": "stdout",
     "output_type": "stream",
     "text": [
      "key1 10\n",
      "key2 20\n",
      "key3 100\n",
      "key4 50\n"
     ]
    }
   ],
   "source": [
    "for k in d1:\n",
    "    print(k,d1[k])"
   ]
  },
  {
   "cell_type": "code",
   "execution_count": 74,
   "id": "c12e5a71",
   "metadata": {},
   "outputs": [
    {
     "name": "stdout",
     "output_type": "stream",
     "text": [
      "key1 10\n",
      "key2 20\n",
      "key3 100\n",
      "key4 50\n"
     ]
    }
   ],
   "source": [
    "for k,v in d1.items():\n",
    "    print(k,v)"
   ]
  },
  {
   "cell_type": "code",
   "execution_count": 75,
   "id": "9f09fcf3",
   "metadata": {},
   "outputs": [
    {
     "data": {
      "text/plain": [
       "dict_items([('key1', 10), ('key2', 20), ('key3', 100), ('key4', 50)])"
      ]
     },
     "execution_count": 75,
     "metadata": {},
     "output_type": "execute_result"
    }
   ],
   "source": [
    "d1.items()"
   ]
  },
  {
   "cell_type": "code",
   "execution_count": 76,
   "id": "07164c15",
   "metadata": {},
   "outputs": [
    {
     "name": "stdout",
     "output_type": "stream",
     "text": [
      "1\n",
      "2\n",
      "3\n"
     ]
    }
   ],
   "source": [
    "for a in [1,2,3]:\n",
    "    print(a)"
   ]
  },
  {
   "cell_type": "code",
   "execution_count": 78,
   "id": "c10836e2",
   "metadata": {},
   "outputs": [
    {
     "name": "stdout",
     "output_type": "stream",
     "text": [
      "1\n",
      "2\n"
     ]
    }
   ],
   "source": [
    "for a,b,c in [('A',1),('B',2)]:\n",
    "    print(b)"
   ]
  },
  {
   "cell_type": "code",
   "execution_count": 83,
   "id": "5545c39f",
   "metadata": {},
   "outputs": [],
   "source": [
    "x = [1,2,3,4,5,6,7,8,9]"
   ]
  },
  {
   "cell_type": "code",
   "execution_count": 93,
   "id": "64a9268c",
   "metadata": {},
   "outputs": [
    {
     "data": {
      "text/plain": [
       "['odd', 2, 'odd', 4, 'odd', 6, 'odd', 8, 'odd']"
      ]
     },
     "execution_count": 93,
     "metadata": {},
     "output_type": "execute_result"
    }
   ],
   "source": [
    "[i if i%2==0 else 'odd' for i in x ]"
   ]
  },
  {
   "cell_type": "code",
   "execution_count": 87,
   "id": "43a2423e",
   "metadata": {},
   "outputs": [
    {
     "data": {
      "text/plain": [
       "['odd', 2, 'odd', 4, 'odd', 6, 'odd', 8, 'odd']"
      ]
     },
     "execution_count": 87,
     "metadata": {},
     "output_type": "execute_result"
    }
   ],
   "source": []
  },
  {
   "cell_type": "code",
   "execution_count": null,
   "id": "8728734a",
   "metadata": {},
   "outputs": [],
   "source": [
    "if k in ['key2','key4']"
   ]
  },
  {
   "cell_type": "code",
   "execution_count": null,
   "id": "debc9d59",
   "metadata": {},
   "outputs": [],
   "source": []
  },
  {
   "cell_type": "code",
   "execution_count": 97,
   "id": "50164872",
   "metadata": {},
   "outputs": [],
   "source": [
    "\n",
    "s= '''If your titles don't make sense when you take out those articles or prepositions, then it's best to leave them be. After all, you want your audience to actually click and read your content. If the most prominent parts — including the title — don't make sense, the website could come off as unprofessional or even spammy.\n",
    "\n",
    "It usually makes the most sense to leave stop words in titles and headings, as these are wayfinding elements for users navigating your content. Just keep in mind that the optimal character count for titles is 50-60 characters, as search engines cut off longer titles, which could omit important information for the visitor. If you have lengthy stop words in your title, consider rewriting them to balance brevity and clarity.'''\n",
    "\n"
   ]
  },
  {
   "cell_type": "code",
   "execution_count": 98,
   "id": "7d85d3f2",
   "metadata": {},
   "outputs": [
    {
     "data": {
      "text/plain": [
       "\"If your titles don't make sense when you take out those articles or prepositions, then it's best to leave them be. After all, you want your audience to actually click and read your content. If the most prominent parts — including the title — don't make sense, the website could come off as unprofessional or even spammy.\\n\\nIt usually makes the most sense to leave stop words in titles and headings, as these are wayfinding elements for users navigating your content. Just keep in mind that the optimal character count for titles is 50-60 characters, as search engines cut off longer titles, which could omit important information for the visitor. If you have lengthy stop words in your title, consider rewriting them to balance brevity and clarity.\""
      ]
     },
     "execution_count": 98,
     "metadata": {},
     "output_type": "execute_result"
    }
   ],
   "source": [
    "s"
   ]
  },
  {
   "cell_type": "code",
   "execution_count": 107,
   "id": "eabac817",
   "metadata": {},
   "outputs": [],
   "source": [
    "d1['t'] = 1 # TODO, create a dictionary with frequency of each char"
   ]
  },
  {
   "cell_type": "code",
   "execution_count": 103,
   "id": "c587614e",
   "metadata": {},
   "outputs": [
    {
     "data": {
      "text/plain": [
       "{'key1': 10, 'key2': 20, 'key3': 100, 'key4': 50, 't': 2}"
      ]
     },
     "execution_count": 103,
     "metadata": {},
     "output_type": "execute_result"
    }
   ],
   "source": [
    "d1"
   ]
  },
  {
   "cell_type": "code",
   "execution_count": 106,
   "id": "04e5f156",
   "metadata": {},
   "outputs": [],
   "source": [
    "# dict.fromkeys(['a','b','c'],0)"
   ]
  },
  {
   "cell_type": "code",
   "execution_count": null,
   "id": "dd7859cc",
   "metadata": {},
   "outputs": [],
   "source": []
  },
  {
   "cell_type": "code",
   "execution_count": null,
   "id": "8c804e74",
   "metadata": {},
   "outputs": [],
   "source": []
  },
  {
   "cell_type": "code",
   "execution_count": null,
   "id": "f0d65f26",
   "metadata": {},
   "outputs": [],
   "source": []
  },
  {
   "cell_type": "code",
   "execution_count": null,
   "id": "adb3f811",
   "metadata": {},
   "outputs": [],
   "source": []
  },
  {
   "cell_type": "code",
   "execution_count": 102,
   "id": "6bd1484f",
   "metadata": {},
   "outputs": [],
   "source": [
    "if 't' in d1:\n",
    "    d1['t'] = d1['t'] + 1"
   ]
  },
  {
   "cell_type": "code",
   "execution_count": null,
   "id": "fdefb4c5",
   "metadata": {},
   "outputs": [],
   "source": [
    "# list comp\n",
    "# string slicing adv\n",
    "# function"
   ]
  },
  {
   "cell_type": "code",
   "execution_count": null,
   "id": "c8ee33a3",
   "metadata": {},
   "outputs": [],
   "source": []
  },
  {
   "cell_type": "code",
   "execution_count": 108,
   "id": "ad4e9d39",
   "metadata": {},
   "outputs": [],
   "source": [
    "x = 'hello'"
   ]
  },
  {
   "cell_type": "code",
   "execution_count": 109,
   "id": "de20d4de",
   "metadata": {},
   "outputs": [
    {
     "data": {
      "text/plain": [
       "'hello'"
      ]
     },
     "execution_count": 109,
     "metadata": {},
     "output_type": "execute_result"
    }
   ],
   "source": [
    "x"
   ]
  },
  {
   "cell_type": "code",
   "execution_count": 110,
   "id": "62275743",
   "metadata": {},
   "outputs": [
    {
     "data": {
      "text/plain": [
       "'olleh'"
      ]
     },
     "execution_count": 110,
     "metadata": {},
     "output_type": "execute_result"
    }
   ],
   "source": [
    "x[::-1]"
   ]
  },
  {
   "cell_type": "code",
   "execution_count": 111,
   "id": "4f17c271",
   "metadata": {},
   "outputs": [
    {
     "data": {
      "text/plain": [
       "'olh'"
      ]
     },
     "execution_count": 111,
     "metadata": {},
     "output_type": "execute_result"
    }
   ],
   "source": [
    "x[::-2]"
   ]
  },
  {
   "cell_type": "code",
   "execution_count": 113,
   "id": "a7e758d8",
   "metadata": {},
   "outputs": [
    {
     "data": {
      "text/plain": [
       "{'key1': 10, 'key2': 20, 'key3': 100, 'key4': 50, 't': 1}"
      ]
     },
     "execution_count": 113,
     "metadata": {},
     "output_type": "execute_result"
    }
   ],
   "source": [
    "d2[k] = v"
   ]
  },
  {
   "cell_type": "code",
   "execution_count": 116,
   "id": "b574c2d0",
   "metadata": {},
   "outputs": [
    {
     "name": "stdout",
     "output_type": "stream",
     "text": [
      "{'key3': 100, 'key4': 50}\n"
     ]
    }
   ],
   "source": [
    "d2={}\n",
    "for k,v in d1.items():\n",
    "    if v % 50 == 0:\n",
    "        d2[k]=v\n",
    "print(d2)"
   ]
  },
  {
   "cell_type": "code",
   "execution_count": 119,
   "id": "ab570bdd",
   "metadata": {},
   "outputs": [],
   "source": [
    "def get_dict(d):\n",
    "    d2={}\n",
    "    for k,v in d.items():\n",
    "        if v % 50 == 0:\n",
    "            d2[k]=v\n",
    "    return d2"
   ]
  },
  {
   "cell_type": "code",
   "execution_count": 120,
   "id": "43bb469f",
   "metadata": {},
   "outputs": [
    {
     "data": {
      "text/plain": [
       "{'key3': 100, 'key4': 50}"
      ]
     },
     "execution_count": 120,
     "metadata": {},
     "output_type": "execute_result"
    }
   ],
   "source": [
    "get_dict(d1)"
   ]
  },
  {
   "cell_type": "code",
   "execution_count": 131,
   "id": "97ed1c98",
   "metadata": {},
   "outputs": [],
   "source": [
    "for i in range(50):\n",
    "    if i%2==0:\n",
    "        break\n",
    "        \n",
    "    print(i)"
   ]
  },
  {
   "cell_type": "code",
   "execution_count": null,
   "id": "2e22b292",
   "metadata": {},
   "outputs": [],
   "source": []
  }
 ],
 "metadata": {
  "kernelspec": {
   "display_name": "Python 3 (ipykernel)",
   "language": "python",
   "name": "python3"
  },
  "language_info": {
   "codemirror_mode": {
    "name": "ipython",
    "version": 3
   },
   "file_extension": ".py",
   "mimetype": "text/x-python",
   "name": "python",
   "nbconvert_exporter": "python",
   "pygments_lexer": "ipython3",
   "version": "3.9.15"
  }
 },
 "nbformat": 4,
 "nbformat_minor": 5
}
