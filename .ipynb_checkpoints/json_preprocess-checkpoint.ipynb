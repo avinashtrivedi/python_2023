{
 "cells": [
  {
   "cell_type": "code",
   "execution_count": 101,
   "id": "bc59542f",
   "metadata": {},
   "outputs": [],
   "source": [
    "import json\n",
    "import pandas as pd"
   ]
  },
  {
   "cell_type": "code",
   "execution_count": 102,
   "id": "8d2d4f84",
   "metadata": {},
   "outputs": [],
   "source": [
    "with open(\"response_ascensionCare.json\") as fp:\n",
    "    data2 = json.load(fp)"
   ]
  },
  {
   "cell_type": "code",
   "execution_count": 58,
   "id": "6cb755d4",
   "metadata": {},
   "outputs": [],
   "source": [
    "df = []\n",
    "for i in range(len(data2['TransactionList'])):\n",
    "    trans_dict = data2['TransactionList'][i]['AdditionalData']\n",
    "    address_dict = {k['InfoName']:k['Value'] for k in trans_dict}\n",
    "    df_temp = pd.DataFrame([address_dict])\n",
    "    df.append(df_temp)\n",
    "df = pd.concat(df)\n",
    "df.reset_index(drop=True,inplace=True)"
   ]
  },
  {
   "cell_type": "code",
   "execution_count": 62,
   "id": "a009fd2c",
   "metadata": {},
   "outputs": [],
   "source": [
    "df.columns = ['AdditionalData.BillToLocation',\n",
    " 'AdditionalData.Location',\n",
    " 'AdditionalData.Facility',\n",
    " 'AdditionalData.Department',\n",
    " 'AdditionalData.PIN']"
   ]
  },
  {
   "cell_type": "code",
   "execution_count": 63,
   "id": "7c5792dc",
   "metadata": {},
   "outputs": [
    {
     "data": {
      "text/html": [
       "<div>\n",
       "<style scoped>\n",
       "    .dataframe tbody tr th:only-of-type {\n",
       "        vertical-align: middle;\n",
       "    }\n",
       "\n",
       "    .dataframe tbody tr th {\n",
       "        vertical-align: top;\n",
       "    }\n",
       "\n",
       "    .dataframe thead th {\n",
       "        text-align: right;\n",
       "    }\n",
       "</style>\n",
       "<table border=\"1\" class=\"dataframe\">\n",
       "  <thead>\n",
       "    <tr style=\"text-align: right;\">\n",
       "      <th></th>\n",
       "      <th>AdditionalData.BillToLocation</th>\n",
       "      <th>AdditionalData.Location</th>\n",
       "      <th>AdditionalData.Facility</th>\n",
       "      <th>AdditionalData.Department</th>\n",
       "      <th>AdditionalData.PIN</th>\n",
       "    </tr>\n",
       "  </thead>\n",
       "  <tbody>\n",
       "    <tr>\n",
       "      <th>0</th>\n",
       "      <td>22</td>\n",
       "      <td>US</td>\n",
       "      <td>AC</td>\n",
       "      <td>CS</td>\n",
       "      <td>6556</td>\n",
       "    </tr>\n",
       "    <tr>\n",
       "      <th>1</th>\n",
       "      <td>ty</td>\n",
       "      <td>sdf</td>\n",
       "      <td>IN</td>\n",
       "      <td>CA</td>\n",
       "      <td>6677</td>\n",
       "    </tr>\n",
       "    <tr>\n",
       "      <th>2</th>\n",
       "      <td></td>\n",
       "      <td></td>\n",
       "      <td></td>\n",
       "      <td></td>\n",
       "      <td></td>\n",
       "    </tr>\n",
       "    <tr>\n",
       "      <th>3</th>\n",
       "      <td></td>\n",
       "      <td></td>\n",
       "      <td></td>\n",
       "      <td></td>\n",
       "      <td></td>\n",
       "    </tr>\n",
       "    <tr>\n",
       "      <th>4</th>\n",
       "      <td></td>\n",
       "      <td></td>\n",
       "      <td></td>\n",
       "      <td></td>\n",
       "      <td></td>\n",
       "    </tr>\n",
       "  </tbody>\n",
       "</table>\n",
       "</div>"
      ],
      "text/plain": [
       "  AdditionalData.BillToLocation AdditionalData.Location  \\\n",
       "0                            22                      US   \n",
       "1                            ty                     sdf   \n",
       "2                                                         \n",
       "3                                                         \n",
       "4                                                         \n",
       "\n",
       "  AdditionalData.Facility AdditionalData.Department AdditionalData.PIN  \n",
       "0                      AC                        CS               6556  \n",
       "1                      IN                        CA               6677  \n",
       "2                                                                       \n",
       "3                                                                       \n",
       "4                                                                       "
      ]
     },
     "execution_count": 63,
     "metadata": {},
     "output_type": "execute_result"
    }
   ],
   "source": [
    "df"
   ]
  },
  {
   "cell_type": "code",
   "execution_count": null,
   "id": "3c42d0a5",
   "metadata": {},
   "outputs": [],
   "source": []
  },
  {
   "cell_type": "code",
   "execution_count": null,
   "id": "a991a361",
   "metadata": {},
   "outputs": [],
   "source": [
    "def reportlist(url, payload, headers):\n",
    "#     response2 = requests.request(\"POST\", url, headers=headers, data=payload)\n",
    "#     print(response2.text)\n",
    "    data2= json.loads(response2.text)\n",
    "    print(len(data2))\n",
    "    if len(data2.keys()) > 2 :\n",
    "        df2 = pd.json_normalize(data2, record_path = ['TransactionList'], meta = ['Successful','Reason'])\n",
    "        return df2\n",
    "    else:\n",
    "        return None\n"
   ]
  },
  {
   "cell_type": "code",
   "execution_count": 64,
   "id": "0179f241",
   "metadata": {},
   "outputs": [],
   "source": [
    "trans_dict = data2['TransactionList'][0]['AdditionalData']\n",
    "address_dict = {k['InfoName']:k['Value'] for k in trans_dict}"
   ]
  },
  {
   "cell_type": "code",
   "execution_count": 65,
   "id": "32d7efde",
   "metadata": {},
   "outputs": [
    {
     "data": {
      "text/plain": [
       "{'BillToLocation': '22',\n",
       " 'Location': 'US',\n",
       " 'Facility': 'AC',\n",
       " 'Department': 'CS',\n",
       " 'PIN': '6556'}"
      ]
     },
     "execution_count": 65,
     "metadata": {},
     "output_type": "execute_result"
    }
   ],
   "source": [
    "address_dict"
   ]
  },
  {
   "cell_type": "code",
   "execution_count": 66,
   "id": "11b7176a",
   "metadata": {},
   "outputs": [
    {
     "data": {
      "text/html": [
       "<div>\n",
       "<style scoped>\n",
       "    .dataframe tbody tr th:only-of-type {\n",
       "        vertical-align: middle;\n",
       "    }\n",
       "\n",
       "    .dataframe tbody tr th {\n",
       "        vertical-align: top;\n",
       "    }\n",
       "\n",
       "    .dataframe thead th {\n",
       "        text-align: right;\n",
       "    }\n",
       "</style>\n",
       "<table border=\"1\" class=\"dataframe\">\n",
       "  <thead>\n",
       "    <tr style=\"text-align: right;\">\n",
       "      <th></th>\n",
       "      <th>BillToLocation</th>\n",
       "      <th>Location</th>\n",
       "      <th>Facility</th>\n",
       "      <th>Department</th>\n",
       "      <th>PIN</th>\n",
       "    </tr>\n",
       "  </thead>\n",
       "  <tbody>\n",
       "    <tr>\n",
       "      <th>0</th>\n",
       "      <td>22</td>\n",
       "      <td>US</td>\n",
       "      <td>AC</td>\n",
       "      <td>CS</td>\n",
       "      <td>6556</td>\n",
       "    </tr>\n",
       "  </tbody>\n",
       "</table>\n",
       "</div>"
      ],
      "text/plain": [
       "  BillToLocation Location Facility Department   PIN\n",
       "0             22       US       AC         CS  6556"
      ]
     },
     "execution_count": 66,
     "metadata": {},
     "output_type": "execute_result"
    }
   ],
   "source": [
    "pd.json_normalize(address_dict)"
   ]
  },
  {
   "cell_type": "code",
   "execution_count": 67,
   "id": "deed439f",
   "metadata": {},
   "outputs": [
    {
     "data": {
      "text/plain": [
       "{'CompanyCode': 'AscensionCare',\n",
       " 'CallerID': '+13177132798',\n",
       " 'ClientId': 48359,\n",
       " 'ClientName': 'Ascension Care Management',\n",
       " 'UserId': 114032236,\n",
       " 'UserName': 'Ascension Spiritual Care',\n",
       " 'AudioVideo': 'Audio',\n",
       " 'RequestType': 'Audio',\n",
       " 'RequestId': 19006395,\n",
       " 'SourceLanguage': 'English',\n",
       " 'TargetLanguage': 'Spanish',\n",
       " 'RequestTimeUTC': '2022-06-09 15:20:38',\n",
       " 'WaitSeconds': 12,\n",
       " 'ServiceMinutes': 1,\n",
       " 'InterpreterId': '1088282',\n",
       " 'Status': 'Serviced',\n",
       " 'UnitPrice': 0.49,\n",
       " 'Charge': 0.49,\n",
       " 'AdditionalData': [{'InfoName': 'BillToLocation', 'Value': '22'},\n",
       "  {'InfoName': 'Location', 'Value': 'US'},\n",
       "  {'InfoName': 'Facility', 'Value': 'AC'},\n",
       "  {'InfoName': 'Department', 'Value': 'CS'},\n",
       "  {'InfoName': 'PIN', 'Value': '6556'}]}"
      ]
     },
     "execution_count": 67,
     "metadata": {},
     "output_type": "execute_result"
    }
   ],
   "source": [
    "data2['TransactionList'][0]"
   ]
  },
  {
   "cell_type": "code",
   "execution_count": 71,
   "id": "1bbf3b64",
   "metadata": {},
   "outputs": [],
   "source": [
    "del data2['TransactionList'][0]['AdditionalData']"
   ]
  },
  {
   "cell_type": "code",
   "execution_count": 74,
   "id": "15165d39",
   "metadata": {},
   "outputs": [
    {
     "ename": "KeyError",
     "evalue": "'AdditionalData'",
     "output_type": "error",
     "traceback": [
      "\u001b[1;31m---------------------------------------------------------------------------\u001b[0m",
      "\u001b[1;31mKeyError\u001b[0m                                  Traceback (most recent call last)",
      "Cell \u001b[1;32mIn[74], line 1\u001b[0m\n\u001b[1;32m----> 1\u001b[0m \u001b[43mdata2\u001b[49m\u001b[43m[\u001b[49m\u001b[38;5;124;43m'\u001b[39;49m\u001b[38;5;124;43mTransactionList\u001b[39;49m\u001b[38;5;124;43m'\u001b[39;49m\u001b[43m]\u001b[49m\u001b[43m[\u001b[49m\u001b[38;5;241;43m0\u001b[39;49m\u001b[43m]\u001b[49m\u001b[43m[\u001b[49m\u001b[38;5;124;43m'\u001b[39;49m\u001b[38;5;124;43mAdditionalData\u001b[39;49m\u001b[38;5;124;43m'\u001b[39;49m\u001b[43m]\u001b[49m\n",
      "\u001b[1;31mKeyError\u001b[0m: 'AdditionalData'"
     ]
    }
   ],
   "source": [
    "data2['TransactionList'][0]['AdditionalData']"
   ]
  },
  {
   "cell_type": "code",
   "execution_count": 73,
   "id": "f06c8955",
   "metadata": {},
   "outputs": [
    {
     "data": {
      "text/plain": [
       "{'BillToLocation': '22',\n",
       " 'Location': 'US',\n",
       " 'Facility': 'AC',\n",
       " 'Department': 'CS',\n",
       " 'PIN': '6556'}"
      ]
     },
     "execution_count": 73,
     "metadata": {},
     "output_type": "execute_result"
    }
   ],
   "source": [
    "{for iaddress_dict}"
   ]
  },
  {
   "cell_type": "code",
   "execution_count": null,
   "id": "f74d8fff",
   "metadata": {},
   "outputs": [],
   "source": []
  },
  {
   "cell_type": "code",
   "execution_count": 69,
   "id": "d355c9ed",
   "metadata": {},
   "outputs": [
    {
     "data": {
      "text/plain": [
       "{'BillToLocation': '22',\n",
       " 'Location': 'US',\n",
       " 'Facility': 'AC',\n",
       " 'Department': 'CS',\n",
       " 'PIN': '6556'}"
      ]
     },
     "execution_count": 69,
     "metadata": {},
     "output_type": "execute_result"
    }
   ],
   "source": [
    "address_dict"
   ]
  },
  {
   "cell_type": "code",
   "execution_count": 79,
   "id": "a182b102",
   "metadata": {},
   "outputs": [],
   "source": [
    "d = data2['TransactionList'][0].copy()"
   ]
  },
  {
   "cell_type": "code",
   "execution_count": 82,
   "id": "03e1f31e",
   "metadata": {},
   "outputs": [],
   "source": [
    "del d['AdditionalData']"
   ]
  },
  {
   "cell_type": "code",
   "execution_count": 118,
   "id": "fd803a9c",
   "metadata": {},
   "outputs": [
    {
     "data": {
      "text/plain": [
       "{'CompanyCode': 'AscensionCare',\n",
       " 'CallerID': '+13147337600',\n",
       " 'ClientId': 48359,\n",
       " 'ClientName': 'Ascension Care Management',\n",
       " 'UserId': 114032236,\n",
       " 'UserName': 'Ascension Spiritual Care',\n",
       " 'AudioVideo': 'Audio',\n",
       " 'RequestType': 'Audio',\n",
       " 'RequestId': 19027460,\n",
       " 'SourceLanguage': 'English',\n",
       " 'TargetLanguage': 'Spanish',\n",
       " 'RequestTimeUTC': '2022-06-10 16:50:03',\n",
       " 'WaitSeconds': 17,\n",
       " 'ServiceMinutes': 7,\n",
       " 'InterpreterId': '1091826',\n",
       " 'Status': 'Serviced',\n",
       " 'UnitPrice': 0.49,\n",
       " 'Charge': 3.43,\n",
       " 'AdditionalData': [{'InfoName': 'BillToLocation', 'Value': ''},\n",
       "  {'InfoName': 'Location', 'Value': ''},\n",
       "  {'InfoName': 'Facility', 'Value': ''},\n",
       "  {'InfoName': 'Department', 'Value': ''},\n",
       "  {'InfoName': 'PIN', 'Value': ''}],\n",
       " 'AdditionalData.BillToLocation': '',\n",
       " 'AdditionalData.Location': '',\n",
       " 'AdditionalData.Facility': '',\n",
       " 'AdditionalData.Department': '',\n",
       " 'AdditionalData.PIN': ''}"
      ]
     },
     "execution_count": 118,
     "metadata": {},
     "output_type": "execute_result"
    }
   ],
   "source": [
    "d"
   ]
  },
  {
   "cell_type": "code",
   "execution_count": 116,
   "id": "2f889b05",
   "metadata": {},
   "outputs": [],
   "source": [
    "list_df = []\n",
    "for i in range(len(data2['TransactionList'])):\n",
    "    trans_dict = data2['TransactionList'][i]['AdditionalData']\n",
    "    address_dict = {k['InfoName']:k['Value'] for k in trans_dict}\n",
    "    d1 = {'AdditionalData.'+k:address_dict[k]  for k in address_dict}\n",
    "    d2 = data2['TransactionList'][i]\n",
    "    d = {**d2,**d1}\n",
    "    temp = pd.DataFrame([d])\n",
    "    list_df.append(temp)\n",
    "df = pd.concat(list_df)\n",
    "df.reset_index(drop=True,inplace=True)"
   ]
  },
  {
   "cell_type": "code",
   "execution_count": 117,
   "id": "d8916754",
   "metadata": {},
   "outputs": [
    {
     "data": {
      "text/html": [
       "<div>\n",
       "<style scoped>\n",
       "    .dataframe tbody tr th:only-of-type {\n",
       "        vertical-align: middle;\n",
       "    }\n",
       "\n",
       "    .dataframe tbody tr th {\n",
       "        vertical-align: top;\n",
       "    }\n",
       "\n",
       "    .dataframe thead th {\n",
       "        text-align: right;\n",
       "    }\n",
       "</style>\n",
       "<table border=\"1\" class=\"dataframe\">\n",
       "  <thead>\n",
       "    <tr style=\"text-align: right;\">\n",
       "      <th></th>\n",
       "      <th>CompanyCode</th>\n",
       "      <th>CallerID</th>\n",
       "      <th>ClientId</th>\n",
       "      <th>ClientName</th>\n",
       "      <th>UserId</th>\n",
       "      <th>UserName</th>\n",
       "      <th>AudioVideo</th>\n",
       "      <th>RequestType</th>\n",
       "      <th>RequestId</th>\n",
       "      <th>SourceLanguage</th>\n",
       "      <th>...</th>\n",
       "      <th>InterpreterId</th>\n",
       "      <th>Status</th>\n",
       "      <th>UnitPrice</th>\n",
       "      <th>Charge</th>\n",
       "      <th>AdditionalData</th>\n",
       "      <th>AdditionalData.BillToLocation</th>\n",
       "      <th>AdditionalData.Location</th>\n",
       "      <th>AdditionalData.Facility</th>\n",
       "      <th>AdditionalData.Department</th>\n",
       "      <th>AdditionalData.PIN</th>\n",
       "    </tr>\n",
       "  </thead>\n",
       "  <tbody>\n",
       "    <tr>\n",
       "      <th>0</th>\n",
       "      <td>AscensionCare</td>\n",
       "      <td>+13177132798</td>\n",
       "      <td>48359</td>\n",
       "      <td>Ascension Care Management</td>\n",
       "      <td>114032236</td>\n",
       "      <td>Ascension Spiritual Care</td>\n",
       "      <td>Audio</td>\n",
       "      <td>Audio</td>\n",
       "      <td>19006395</td>\n",
       "      <td>English</td>\n",
       "      <td>...</td>\n",
       "      <td>1088282</td>\n",
       "      <td>Serviced</td>\n",
       "      <td>0.49</td>\n",
       "      <td>0.49</td>\n",
       "      <td>[{'InfoName': 'BillToLocation', 'Value': '22'}...</td>\n",
       "      <td>22</td>\n",
       "      <td>US</td>\n",
       "      <td>AC</td>\n",
       "      <td>CS</td>\n",
       "      <td>6556</td>\n",
       "    </tr>\n",
       "    <tr>\n",
       "      <th>1</th>\n",
       "      <td>AscensionCare</td>\n",
       "      <td>+13147337524</td>\n",
       "      <td>48359</td>\n",
       "      <td>Ascension Care Management</td>\n",
       "      <td>114032236</td>\n",
       "      <td>Ascension Spiritual Care</td>\n",
       "      <td>Audio</td>\n",
       "      <td>Audio</td>\n",
       "      <td>19007894</td>\n",
       "      <td>English</td>\n",
       "      <td>...</td>\n",
       "      <td>1095592</td>\n",
       "      <td>Serviced</td>\n",
       "      <td>0.49</td>\n",
       "      <td>0.49</td>\n",
       "      <td>[{'InfoName': 'BillToLocation', 'Value': 'ty'}...</td>\n",
       "      <td>ty</td>\n",
       "      <td>sdf</td>\n",
       "      <td>IN</td>\n",
       "      <td>CA</td>\n",
       "      <td>6677</td>\n",
       "    </tr>\n",
       "    <tr>\n",
       "      <th>2</th>\n",
       "      <td>AscensionCare</td>\n",
       "      <td>+13147337524</td>\n",
       "      <td>48359</td>\n",
       "      <td>Ascension Care Management</td>\n",
       "      <td>114032236</td>\n",
       "      <td>Ascension Spiritual Care</td>\n",
       "      <td>Audio</td>\n",
       "      <td>Audio</td>\n",
       "      <td>19008002</td>\n",
       "      <td>English</td>\n",
       "      <td>...</td>\n",
       "      <td>1094050</td>\n",
       "      <td>Serviced</td>\n",
       "      <td>0.49</td>\n",
       "      <td>6.37</td>\n",
       "      <td>[{'InfoName': 'BillToLocation', 'Value': ''}, ...</td>\n",
       "      <td></td>\n",
       "      <td></td>\n",
       "      <td></td>\n",
       "      <td></td>\n",
       "      <td></td>\n",
       "    </tr>\n",
       "    <tr>\n",
       "      <th>3</th>\n",
       "      <td>AscensionCare</td>\n",
       "      <td>+13147337600</td>\n",
       "      <td>48359</td>\n",
       "      <td>Ascension Care Management</td>\n",
       "      <td>114032236</td>\n",
       "      <td>Ascension Spiritual Care</td>\n",
       "      <td>Audio</td>\n",
       "      <td>Audio</td>\n",
       "      <td>19027213</td>\n",
       "      <td>English</td>\n",
       "      <td>...</td>\n",
       "      <td>1093761</td>\n",
       "      <td>Serviced</td>\n",
       "      <td>0.49</td>\n",
       "      <td>3.92</td>\n",
       "      <td>[{'InfoName': 'BillToLocation', 'Value': ''}, ...</td>\n",
       "      <td></td>\n",
       "      <td></td>\n",
       "      <td></td>\n",
       "      <td></td>\n",
       "      <td></td>\n",
       "    </tr>\n",
       "    <tr>\n",
       "      <th>4</th>\n",
       "      <td>AscensionCare</td>\n",
       "      <td>+13147337600</td>\n",
       "      <td>48359</td>\n",
       "      <td>Ascension Care Management</td>\n",
       "      <td>114032236</td>\n",
       "      <td>Ascension Spiritual Care</td>\n",
       "      <td>Audio</td>\n",
       "      <td>Audio</td>\n",
       "      <td>19027460</td>\n",
       "      <td>English</td>\n",
       "      <td>...</td>\n",
       "      <td>1091826</td>\n",
       "      <td>Serviced</td>\n",
       "      <td>0.49</td>\n",
       "      <td>3.43</td>\n",
       "      <td>[{'InfoName': 'BillToLocation', 'Value': ''}, ...</td>\n",
       "      <td></td>\n",
       "      <td></td>\n",
       "      <td></td>\n",
       "      <td></td>\n",
       "      <td></td>\n",
       "    </tr>\n",
       "  </tbody>\n",
       "</table>\n",
       "<p>5 rows × 24 columns</p>\n",
       "</div>"
      ],
      "text/plain": [
       "     CompanyCode      CallerID  ClientId                 ClientName  \\\n",
       "0  AscensionCare  +13177132798     48359  Ascension Care Management   \n",
       "1  AscensionCare  +13147337524     48359  Ascension Care Management   \n",
       "2  AscensionCare  +13147337524     48359  Ascension Care Management   \n",
       "3  AscensionCare  +13147337600     48359  Ascension Care Management   \n",
       "4  AscensionCare  +13147337600     48359  Ascension Care Management   \n",
       "\n",
       "      UserId                  UserName AudioVideo RequestType  RequestId  \\\n",
       "0  114032236  Ascension Spiritual Care      Audio       Audio   19006395   \n",
       "1  114032236  Ascension Spiritual Care      Audio       Audio   19007894   \n",
       "2  114032236  Ascension Spiritual Care      Audio       Audio   19008002   \n",
       "3  114032236  Ascension Spiritual Care      Audio       Audio   19027213   \n",
       "4  114032236  Ascension Spiritual Care      Audio       Audio   19027460   \n",
       "\n",
       "  SourceLanguage  ... InterpreterId    Status  UnitPrice  Charge  \\\n",
       "0        English  ...       1088282  Serviced       0.49    0.49   \n",
       "1        English  ...       1095592  Serviced       0.49    0.49   \n",
       "2        English  ...       1094050  Serviced       0.49    6.37   \n",
       "3        English  ...       1093761  Serviced       0.49    3.92   \n",
       "4        English  ...       1091826  Serviced       0.49    3.43   \n",
       "\n",
       "                                      AdditionalData  \\\n",
       "0  [{'InfoName': 'BillToLocation', 'Value': '22'}...   \n",
       "1  [{'InfoName': 'BillToLocation', 'Value': 'ty'}...   \n",
       "2  [{'InfoName': 'BillToLocation', 'Value': ''}, ...   \n",
       "3  [{'InfoName': 'BillToLocation', 'Value': ''}, ...   \n",
       "4  [{'InfoName': 'BillToLocation', 'Value': ''}, ...   \n",
       "\n",
       "  AdditionalData.BillToLocation  AdditionalData.Location  \\\n",
       "0                            22                       US   \n",
       "1                            ty                      sdf   \n",
       "2                                                          \n",
       "3                                                          \n",
       "4                                                          \n",
       "\n",
       "   AdditionalData.Facility AdditionalData.Department AdditionalData.PIN  \n",
       "0                       AC                        CS               6556  \n",
       "1                       IN                        CA               6677  \n",
       "2                                                                        \n",
       "3                                                                        \n",
       "4                                                                        \n",
       "\n",
       "[5 rows x 24 columns]"
      ]
     },
     "execution_count": 117,
     "metadata": {},
     "output_type": "execute_result"
    }
   ],
   "source": [
    "df"
   ]
  },
  {
   "cell_type": "code",
   "execution_count": 106,
   "id": "b39c1c4f",
   "metadata": {},
   "outputs": [],
   "source": []
  },
  {
   "cell_type": "code",
   "execution_count": null,
   "id": "8d76f225",
   "metadata": {},
   "outputs": [],
   "source": []
  },
  {
   "cell_type": "code",
   "execution_count": 108,
   "id": "cafd2ac5",
   "metadata": {},
   "outputs": [],
   "source": []
  },
  {
   "cell_type": "code",
   "execution_count": 109,
   "id": "734d7103",
   "metadata": {},
   "outputs": [
    {
     "data": {
      "text/html": [
       "<div>\n",
       "<style scoped>\n",
       "    .dataframe tbody tr th:only-of-type {\n",
       "        vertical-align: middle;\n",
       "    }\n",
       "\n",
       "    .dataframe tbody tr th {\n",
       "        vertical-align: top;\n",
       "    }\n",
       "\n",
       "    .dataframe thead th {\n",
       "        text-align: right;\n",
       "    }\n",
       "</style>\n",
       "<table border=\"1\" class=\"dataframe\">\n",
       "  <thead>\n",
       "    <tr style=\"text-align: right;\">\n",
       "      <th></th>\n",
       "      <th>CompanyCode</th>\n",
       "      <th>CallerID</th>\n",
       "      <th>ClientId</th>\n",
       "      <th>ClientName</th>\n",
       "      <th>UserId</th>\n",
       "      <th>UserName</th>\n",
       "      <th>AudioVideo</th>\n",
       "      <th>RequestType</th>\n",
       "      <th>RequestId</th>\n",
       "      <th>SourceLanguage</th>\n",
       "      <th>...</th>\n",
       "      <th>InterpreterId</th>\n",
       "      <th>Status</th>\n",
       "      <th>UnitPrice</th>\n",
       "      <th>Charge</th>\n",
       "      <th>AdditionalData</th>\n",
       "      <th>AdditionalData.BillToLocation</th>\n",
       "      <th>AdditionalData.Location</th>\n",
       "      <th>AdditionalData.Facility</th>\n",
       "      <th>AdditionalData.Department</th>\n",
       "      <th>AdditionalData.PIN</th>\n",
       "    </tr>\n",
       "  </thead>\n",
       "  <tbody>\n",
       "    <tr>\n",
       "      <th>0</th>\n",
       "      <td>AscensionCare</td>\n",
       "      <td>+13177132798</td>\n",
       "      <td>48359</td>\n",
       "      <td>Ascension Care Management</td>\n",
       "      <td>114032236</td>\n",
       "      <td>Ascension Spiritual Care</td>\n",
       "      <td>Audio</td>\n",
       "      <td>Audio</td>\n",
       "      <td>19006395</td>\n",
       "      <td>English</td>\n",
       "      <td>...</td>\n",
       "      <td>1088282</td>\n",
       "      <td>Serviced</td>\n",
       "      <td>0.49</td>\n",
       "      <td>0.49</td>\n",
       "      <td>[{'InfoName': 'BillToLocation', 'Value': '22'}...</td>\n",
       "      <td>22</td>\n",
       "      <td>US</td>\n",
       "      <td>AC</td>\n",
       "      <td>CS</td>\n",
       "      <td>6556</td>\n",
       "    </tr>\n",
       "  </tbody>\n",
       "</table>\n",
       "<p>1 rows × 24 columns</p>\n",
       "</div>"
      ],
      "text/plain": [
       "     CompanyCode      CallerID  ClientId                 ClientName  \\\n",
       "0  AscensionCare  +13177132798     48359  Ascension Care Management   \n",
       "\n",
       "      UserId                  UserName AudioVideo RequestType  RequestId  \\\n",
       "0  114032236  Ascension Spiritual Care      Audio       Audio   19006395   \n",
       "\n",
       "  SourceLanguage  ... InterpreterId    Status  UnitPrice  Charge  \\\n",
       "0        English  ...       1088282  Serviced       0.49    0.49   \n",
       "\n",
       "                                      AdditionalData  \\\n",
       "0  [{'InfoName': 'BillToLocation', 'Value': '22'}...   \n",
       "\n",
       "  AdditionalData.BillToLocation  AdditionalData.Location  \\\n",
       "0                            22                       US   \n",
       "\n",
       "   AdditionalData.Facility AdditionalData.Department AdditionalData.PIN  \n",
       "0                       AC                        CS               6556  \n",
       "\n",
       "[1 rows x 24 columns]"
      ]
     },
     "execution_count": 109,
     "metadata": {},
     "output_type": "execute_result"
    }
   ],
   "source": []
  },
  {
   "cell_type": "code",
   "execution_count": null,
   "id": "50444da0",
   "metadata": {},
   "outputs": [],
   "source": []
  }
 ],
 "metadata": {
  "kernelspec": {
   "display_name": "Python 3 (ipykernel)",
   "language": "python",
   "name": "python3"
  },
  "language_info": {
   "codemirror_mode": {
    "name": "ipython",
    "version": 3
   },
   "file_extension": ".py",
   "mimetype": "text/x-python",
   "name": "python",
   "nbconvert_exporter": "python",
   "pygments_lexer": "ipython3",
   "version": "3.9.15"
  }
 },
 "nbformat": 4,
 "nbformat_minor": 5
}
