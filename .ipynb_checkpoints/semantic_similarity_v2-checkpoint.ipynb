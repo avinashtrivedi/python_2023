{
 "cells": [
  {
   "cell_type": "code",
   "execution_count": 6,
   "id": "05536c9a",
   "metadata": {},
   "outputs": [],
   "source": [
    "from dotmap import DotMap\n",
    "import pandas as pd\n",
    "import numpy as np\n",
    "import json\n",
    "from tqdm.notebook import tqdm\n",
    "tqdm.pandas()"
   ]
  },
  {
   "cell_type": "code",
   "execution_count": 7,
   "id": "06a72a25",
   "metadata": {},
   "outputs": [],
   "source": [
    "# pip install DotMap"
   ]
  },
  {
   "cell_type": "code",
   "execution_count": 9,
   "id": "41437856",
   "metadata": {
    "collapsed": true
   },
   "outputs": [
    {
     "ename": "UnicodeDecodeError",
     "evalue": "'charmap' codec can't decode byte 0x81 in position 6375: character maps to <undefined>",
     "output_type": "error",
     "traceback": [
      "\u001b[1;31m---------------------------------------------------------------------------\u001b[0m",
      "\u001b[1;31mUnicodeDecodeError\u001b[0m                        Traceback (most recent call last)",
      "Cell \u001b[1;32mIn[9], line 1\u001b[0m\n\u001b[1;32m----> 1\u001b[0m data \u001b[38;5;241m=\u001b[39m [DotMap(json\u001b[38;5;241m.\u001b[39mloads(x)) \u001b[38;5;28;01mfor\u001b[39;00m x \u001b[38;5;129;01min\u001b[39;00m \u001b[38;5;28mopen\u001b[39m(\u001b[38;5;124mr\u001b[39m\u001b[38;5;124m'\u001b[39m\u001b[38;5;124mD:\u001b[39m\u001b[38;5;124m\\\u001b[39m\u001b[38;5;124mOneDrive - NITT\u001b[39m\u001b[38;5;124m\\\u001b[39m\u001b[38;5;124mCustom_Download\u001b[39m\u001b[38;5;124m\\\u001b[39m\u001b[38;5;124mnew_all_ann.json\u001b[39m\u001b[38;5;124m'\u001b[39m, \u001b[38;5;124m'\u001b[39m\u001b[38;5;124mr\u001b[39m\u001b[38;5;124m'\u001b[39m)]\n\u001b[0;32m      2\u001b[0m js \u001b[38;5;241m=\u001b[39m [json\u001b[38;5;241m.\u001b[39mloads(x) \u001b[38;5;28;01mfor\u001b[39;00m x \u001b[38;5;129;01min\u001b[39;00m \u001b[38;5;28mopen\u001b[39m (\u001b[38;5;124mr\u001b[39m\u001b[38;5;124m'\u001b[39m\u001b[38;5;124mD:\u001b[39m\u001b[38;5;124m\\\u001b[39m\u001b[38;5;124mOneDrive - NITT\u001b[39m\u001b[38;5;124m\\\u001b[39m\u001b[38;5;124mCustom_Download\u001b[39m\u001b[38;5;124m\\\u001b[39m\u001b[38;5;124mnew_all_ann.json\u001b[39m\u001b[38;5;124m'\u001b[39m, \u001b[38;5;124m'\u001b[39m\u001b[38;5;124mr\u001b[39m\u001b[38;5;124m'\u001b[39m)]\n\u001b[0;32m      3\u001b[0m js[\u001b[38;5;241m3\u001b[39m]\n",
      "Cell \u001b[1;32mIn[9], line 1\u001b[0m, in \u001b[0;36m<listcomp>\u001b[1;34m(.0)\u001b[0m\n\u001b[1;32m----> 1\u001b[0m data \u001b[38;5;241m=\u001b[39m [DotMap(json\u001b[38;5;241m.\u001b[39mloads(x)) \u001b[38;5;28;01mfor\u001b[39;00m x \u001b[38;5;129;01min\u001b[39;00m \u001b[38;5;28mopen\u001b[39m(\u001b[38;5;124mr\u001b[39m\u001b[38;5;124m'\u001b[39m\u001b[38;5;124mD:\u001b[39m\u001b[38;5;124m\\\u001b[39m\u001b[38;5;124mOneDrive - NITT\u001b[39m\u001b[38;5;124m\\\u001b[39m\u001b[38;5;124mCustom_Download\u001b[39m\u001b[38;5;124m\\\u001b[39m\u001b[38;5;124mnew_all_ann.json\u001b[39m\u001b[38;5;124m'\u001b[39m, \u001b[38;5;124m'\u001b[39m\u001b[38;5;124mr\u001b[39m\u001b[38;5;124m'\u001b[39m)]\n\u001b[0;32m      2\u001b[0m js \u001b[38;5;241m=\u001b[39m [json\u001b[38;5;241m.\u001b[39mloads(x) \u001b[38;5;28;01mfor\u001b[39;00m x \u001b[38;5;129;01min\u001b[39;00m \u001b[38;5;28mopen\u001b[39m (\u001b[38;5;124mr\u001b[39m\u001b[38;5;124m'\u001b[39m\u001b[38;5;124mD:\u001b[39m\u001b[38;5;124m\\\u001b[39m\u001b[38;5;124mOneDrive - NITT\u001b[39m\u001b[38;5;124m\\\u001b[39m\u001b[38;5;124mCustom_Download\u001b[39m\u001b[38;5;124m\\\u001b[39m\u001b[38;5;124mnew_all_ann.json\u001b[39m\u001b[38;5;124m'\u001b[39m, \u001b[38;5;124m'\u001b[39m\u001b[38;5;124mr\u001b[39m\u001b[38;5;124m'\u001b[39m)]\n\u001b[0;32m      3\u001b[0m js[\u001b[38;5;241m3\u001b[39m]\n",
      "File \u001b[1;32m~\\anaconda3\\lib\\encodings\\cp1252.py:23\u001b[0m, in \u001b[0;36mIncrementalDecoder.decode\u001b[1;34m(self, input, final)\u001b[0m\n\u001b[0;32m     22\u001b[0m \u001b[38;5;28;01mdef\u001b[39;00m \u001b[38;5;21mdecode\u001b[39m(\u001b[38;5;28mself\u001b[39m, \u001b[38;5;28minput\u001b[39m, final\u001b[38;5;241m=\u001b[39m\u001b[38;5;28;01mFalse\u001b[39;00m):\n\u001b[1;32m---> 23\u001b[0m     \u001b[38;5;28;01mreturn\u001b[39;00m \u001b[43mcodecs\u001b[49m\u001b[38;5;241;43m.\u001b[39;49m\u001b[43mcharmap_decode\u001b[49m\u001b[43m(\u001b[49m\u001b[38;5;28;43minput\u001b[39;49m\u001b[43m,\u001b[49m\u001b[38;5;28;43mself\u001b[39;49m\u001b[38;5;241;43m.\u001b[39;49m\u001b[43merrors\u001b[49m\u001b[43m,\u001b[49m\u001b[43mdecoding_table\u001b[49m\u001b[43m)\u001b[49m[\u001b[38;5;241m0\u001b[39m]\n",
      "\u001b[1;31mUnicodeDecodeError\u001b[0m: 'charmap' codec can't decode byte 0x81 in position 6375: character maps to <undefined>"
     ]
    }
   ],
   "source": [
    "data = [DotMap(json.loads(x)) for x in open('new_all_ann.json', 'r')]\n",
    "js = [json.loads(x) for x in open ('new_all_ann.json', 'r')]\n",
    "js[3]"
   ]
  },
  {
   "cell_type": "code",
   "execution_count": 4,
   "id": "cffe9de5",
   "metadata": {},
   "outputs": [
    {
     "ename": "NameError",
     "evalue": "name 'data' is not defined",
     "output_type": "error",
     "traceback": [
      "\u001b[1;31m---------------------------------------------------------------------------\u001b[0m",
      "\u001b[1;31mNameError\u001b[0m                                 Traceback (most recent call last)",
      "Cell \u001b[1;32mIn[4], line 3\u001b[0m\n\u001b[0;32m      1\u001b[0m lis \u001b[38;5;241m=\u001b[39m [[\u001b[38;5;124m\"\u001b[39m\u001b[38;5;124mtext\u001b[39m\u001b[38;5;124m\"\u001b[39m, \u001b[38;5;124m\"\u001b[39m\u001b[38;5;124mintent\u001b[39m\u001b[38;5;124m\"\u001b[39m, \u001b[38;5;124m\"\u001b[39m\u001b[38;5;124marg\u001b[39m\u001b[38;5;124m\"\u001b[39m, \u001b[38;5;124m\"\u001b[39m\u001b[38;5;124menType\u001b[39m\u001b[38;5;124m\"\u001b[39m, \u001b[38;5;124m\"\u001b[39m\u001b[38;5;124mvalue\u001b[39m\u001b[38;5;124m\"\u001b[39m]]\n\u001b[1;32m----> 3\u001b[0m \u001b[38;5;28;01mfor\u001b[39;00m j \u001b[38;5;129;01min\u001b[39;00m \u001b[43mdata\u001b[49m:\n\u001b[0;32m      4\u001b[0m     \u001b[38;5;28;01mfor\u001b[39;00m a \u001b[38;5;129;01min\u001b[39;00m j\u001b[38;5;241m.\u001b[39mintents[\u001b[38;5;241m0\u001b[39m]\u001b[38;5;241m.\u001b[39marguments:\n\u001b[0;32m      5\u001b[0m         element \u001b[38;5;241m=\u001b[39m [j\u001b[38;5;241m.\u001b[39mtext, j\u001b[38;5;241m.\u001b[39mintents[\u001b[38;5;241m0\u001b[39m]\u001b[38;5;241m.\u001b[39mintent, a\u001b[38;5;241m.\u001b[39marg, a\u001b[38;5;241m.\u001b[39menType, a\u001b[38;5;241m.\u001b[39mvalue]\n",
      "\u001b[1;31mNameError\u001b[0m: name 'data' is not defined"
     ]
    }
   ],
   "source": [
    "lis = [[\"text\", \"intent\", \"arg\", \"enType\", \"value\"]]\n",
    "\n",
    "for j in data:\n",
    "    for a in j.intents[0].arguments:\n",
    "        element = [j.text, j.intents[0].intent, a.arg, a.enType, a.value]\n",
    "        lis.append(element)"
   ]
  },
  {
   "cell_type": "code",
   "execution_count": 18,
   "id": "fe32b13c",
   "metadata": {},
   "outputs": [
    {
     "data": {
      "text/html": [
       "<div>\n",
       "<style scoped>\n",
       "    .dataframe tbody tr th:only-of-type {\n",
       "        vertical-align: middle;\n",
       "    }\n",
       "\n",
       "    .dataframe tbody tr th {\n",
       "        vertical-align: top;\n",
       "    }\n",
       "\n",
       "    .dataframe thead th {\n",
       "        text-align: right;\n",
       "    }\n",
       "</style>\n",
       "<table border=\"1\" class=\"dataframe\">\n",
       "  <thead>\n",
       "    <tr style=\"text-align: right;\">\n",
       "      <th></th>\n",
       "      <th>text</th>\n",
       "      <th>intent</th>\n",
       "      <th>arg</th>\n",
       "      <th>enType</th>\n",
       "      <th>value</th>\n",
       "    </tr>\n",
       "  </thead>\n",
       "  <tbody>\n",
       "    <tr>\n",
       "      <th>0</th>\n",
       "      <td>Music video Miley Cyrus Wrecking Ball</td>\n",
       "      <td>GOTO</td>\n",
       "      <td>content_type</td>\n",
       "      <td>type_modifier</td>\n",
       "      <td>Music video</td>\n",
       "    </tr>\n",
       "    <tr>\n",
       "      <th>1</th>\n",
       "      <td>Music video Miley Cyrus Wrecking Ball</td>\n",
       "      <td>GOTO</td>\n",
       "      <td>program_name</td>\n",
       "      <td>musicvideo</td>\n",
       "      <td>Miley Cyrus Wrecking Ball</td>\n",
       "    </tr>\n",
       "    <tr>\n",
       "      <th>2</th>\n",
       "      <td>Pictures of little crystal things from the pool</td>\n",
       "      <td>BROWSE</td>\n",
       "      <td>topic</td>\n",
       "      <td></td>\n",
       "      <td>little crystal things from the pool</td>\n",
       "    </tr>\n",
       "    <tr>\n",
       "      <th>3</th>\n",
       "      <td>Pictures of little crystal things from the pool</td>\n",
       "      <td>BROWSE</td>\n",
       "      <td>content_type</td>\n",
       "      <td>type_modifier</td>\n",
       "      <td>Pictures</td>\n",
       "    </tr>\n",
       "    <tr>\n",
       "      <th>4</th>\n",
       "      <td>Ukraine coverage</td>\n",
       "      <td>BROWSE</td>\n",
       "      <td>topic</td>\n",
       "      <td>topic</td>\n",
       "      <td>Ukraine</td>\n",
       "    </tr>\n",
       "    <tr>\n",
       "      <th>...</th>\n",
       "      <td>...</td>\n",
       "      <td>...</td>\n",
       "      <td>...</td>\n",
       "      <td>...</td>\n",
       "      <td>...</td>\n",
       "    </tr>\n",
       "    <tr>\n",
       "      <th>14981</th>\n",
       "      <td>Game of Thrones Season 5</td>\n",
       "      <td>GOTO</td>\n",
       "      <td>collection_ordering_season</td>\n",
       "      <td>number</td>\n",
       "      <td>5</td>\n",
       "    </tr>\n",
       "    <tr>\n",
       "      <th>14982</th>\n",
       "      <td>Game of Thrones Season 5</td>\n",
       "      <td>GOTO</td>\n",
       "      <td>program-set_modifier</td>\n",
       "      <td>program-set_modifier</td>\n",
       "      <td>Season</td>\n",
       "    </tr>\n",
       "    <tr>\n",
       "      <th>14983</th>\n",
       "      <td>Game of Thrones Season 5</td>\n",
       "      <td>GOTO</td>\n",
       "      <td>program_name</td>\n",
       "      <td>seriesmaster</td>\n",
       "      <td>Game of Thrones</td>\n",
       "    </tr>\n",
       "    <tr>\n",
       "      <th>14984</th>\n",
       "      <td>Go to Lindsey Graham debate</td>\n",
       "      <td>BROWSE</td>\n",
       "      <td>person_name</td>\n",
       "      <td>person</td>\n",
       "      <td>Lindsey Graham</td>\n",
       "    </tr>\n",
       "    <tr>\n",
       "      <th>14985</th>\n",
       "      <td>Go to Lindsey Graham debate</td>\n",
       "      <td>BROWSE</td>\n",
       "      <td>content_type</td>\n",
       "      <td>type_modifier</td>\n",
       "      <td>debate</td>\n",
       "    </tr>\n",
       "  </tbody>\n",
       "</table>\n",
       "<p>14986 rows × 5 columns</p>\n",
       "</div>"
      ],
      "text/plain": [
       "                                                  text  intent  \\\n",
       "0                Music video Miley Cyrus Wrecking Ball    GOTO   \n",
       "1                Music video Miley Cyrus Wrecking Ball    GOTO   \n",
       "2      Pictures of little crystal things from the pool  BROWSE   \n",
       "3      Pictures of little crystal things from the pool  BROWSE   \n",
       "4                                     Ukraine coverage  BROWSE   \n",
       "...                                                ...     ...   \n",
       "14981                         Game of Thrones Season 5    GOTO   \n",
       "14982                         Game of Thrones Season 5    GOTO   \n",
       "14983                         Game of Thrones Season 5    GOTO   \n",
       "14984                      Go to Lindsey Graham debate  BROWSE   \n",
       "14985                      Go to Lindsey Graham debate  BROWSE   \n",
       "\n",
       "                              arg                enType  \\\n",
       "0                    content_type         type_modifier   \n",
       "1                    program_name            musicvideo   \n",
       "2                           topic                         \n",
       "3                    content_type         type_modifier   \n",
       "4                           topic                 topic   \n",
       "...                           ...                   ...   \n",
       "14981  collection_ordering_season                number   \n",
       "14982        program-set_modifier  program-set_modifier   \n",
       "14983                program_name          seriesmaster   \n",
       "14984                 person_name                person   \n",
       "14985                content_type         type_modifier   \n",
       "\n",
       "                                     value  \n",
       "0                              Music video  \n",
       "1                Miley Cyrus Wrecking Ball  \n",
       "2      little crystal things from the pool  \n",
       "3                                 Pictures  \n",
       "4                                  Ukraine  \n",
       "...                                    ...  \n",
       "14981                                    5  \n",
       "14982                               Season  \n",
       "14983                      Game of Thrones  \n",
       "14984                       Lindsey Graham  \n",
       "14985                               debate  \n",
       "\n",
       "[14986 rows x 5 columns]"
      ]
     },
     "execution_count": 18,
     "metadata": {},
     "output_type": "execute_result"
    }
   ],
   "source": [
    "df = pd.DataFrame(lis[1:], columns=lis[0])\n",
    "df"
   ]
  },
  {
   "cell_type": "code",
   "execution_count": 21,
   "id": "363ea5e4",
   "metadata": {},
   "outputs": [],
   "source": [
    "# !pip install -U sentence-transformers\n"
   ]
  },
  {
   "cell_type": "code",
   "execution_count": 23,
   "id": "6a1d6963",
   "metadata": {
    "scrolled": false
   },
   "outputs": [
    {
     "data": {
      "application/vnd.jupyter.widget-view+json": {
       "model_id": "d8da4d4db42e4f2cb1cad35e1cd40a61",
       "version_major": 2,
       "version_minor": 0
      },
      "text/plain": [
       "Downloading:   0%|          | 0.00/438M [00:00<?, ?B/s]"
      ]
     },
     "metadata": {},
     "output_type": "display_data"
    },
    {
     "data": {
      "application/vnd.jupyter.widget-view+json": {
       "model_id": "97c4b7c7003d47c1ad101e97163f01b0",
       "version_major": 2,
       "version_minor": 0
      },
      "text/plain": [
       "Downloading:   0%|          | 0.00/53.0 [00:00<?, ?B/s]"
      ]
     },
     "metadata": {},
     "output_type": "display_data"
    },
    {
     "data": {
      "application/vnd.jupyter.widget-view+json": {
       "model_id": "fa1b974596c749be861bc873b6e19f1c",
       "version_major": 2,
       "version_minor": 0
      },
      "text/plain": [
       "Downloading:   0%|          | 0.00/112 [00:00<?, ?B/s]"
      ]
     },
     "metadata": {},
     "output_type": "display_data"
    },
    {
     "data": {
      "application/vnd.jupyter.widget-view+json": {
       "model_id": "aba70cf9ba494c52bf6c4030a5aeb68f",
       "version_major": 2,
       "version_minor": 0
      },
      "text/plain": [
       "Downloading:   0%|          | 0.00/466k [00:00<?, ?B/s]"
      ]
     },
     "metadata": {},
     "output_type": "display_data"
    },
    {
     "data": {
      "application/vnd.jupyter.widget-view+json": {
       "model_id": "f70a73c54f9a4ee0b2a681702dcf07e4",
       "version_major": 2,
       "version_minor": 0
      },
      "text/plain": [
       "Downloading:   0%|          | 0.00/399 [00:00<?, ?B/s]"
      ]
     },
     "metadata": {},
     "output_type": "display_data"
    },
    {
     "data": {
      "application/vnd.jupyter.widget-view+json": {
       "model_id": "c3148c895b19403aa8452219f4c14b51",
       "version_major": 2,
       "version_minor": 0
      },
      "text/plain": [
       "Downloading:   0%|          | 0.00/232k [00:00<?, ?B/s]"
      ]
     },
     "metadata": {},
     "output_type": "display_data"
    },
    {
     "data": {
      "application/vnd.jupyter.widget-view+json": {
       "model_id": "aefaa33316124dc0a640a33b39f6b3cd",
       "version_major": 2,
       "version_minor": 0
      },
      "text/plain": [
       "Downloading:   0%|          | 0.00/229 [00:00<?, ?B/s]"
      ]
     },
     "metadata": {},
     "output_type": "display_data"
    }
   ],
   "source": [
    "from sentence_transformers import SentenceTransformer\n",
    "\n",
    "model = SentenceTransformer('bert-base-nli-mean-tokens')"
   ]
  },
  {
   "cell_type": "code",
   "execution_count": 25,
   "id": "32837fe9",
   "metadata": {},
   "outputs": [
    {
     "data": {
      "application/vnd.jupyter.widget-view+json": {
       "model_id": "14ca2235e8ce49e8aaf2f906f5e23275",
       "version_major": 2,
       "version_minor": 0
      },
      "text/plain": [
       "  0%|          | 0/14986 [00:00<?, ?it/s]"
      ]
     },
     "metadata": {},
     "output_type": "display_data"
    }
   ],
   "source": [
    "df['Embeddings'] = df['text'].progress_apply(lambda x: model.encode(x))"
   ]
  },
  {
   "cell_type": "code",
   "execution_count": 30,
   "id": "cdb6859e",
   "metadata": {},
   "outputs": [
    {
     "data": {
      "text/html": [
       "<div>\n",
       "<style scoped>\n",
       "    .dataframe tbody tr th:only-of-type {\n",
       "        vertical-align: middle;\n",
       "    }\n",
       "\n",
       "    .dataframe tbody tr th {\n",
       "        vertical-align: top;\n",
       "    }\n",
       "\n",
       "    .dataframe thead th {\n",
       "        text-align: right;\n",
       "    }\n",
       "</style>\n",
       "<table border=\"1\" class=\"dataframe\">\n",
       "  <thead>\n",
       "    <tr style=\"text-align: right;\">\n",
       "      <th></th>\n",
       "      <th>text</th>\n",
       "      <th>intent</th>\n",
       "      <th>arg</th>\n",
       "      <th>enType</th>\n",
       "      <th>value</th>\n",
       "      <th>Embeddings</th>\n",
       "    </tr>\n",
       "  </thead>\n",
       "  <tbody>\n",
       "    <tr>\n",
       "      <th>0</th>\n",
       "      <td>Music video Miley Cyrus Wrecking Ball</td>\n",
       "      <td>GOTO</td>\n",
       "      <td>content_type</td>\n",
       "      <td>type_modifier</td>\n",
       "      <td>Music video</td>\n",
       "      <td>[0.17077258, 0.28951067, 0.25437003, 0.9451275...</td>\n",
       "    </tr>\n",
       "    <tr>\n",
       "      <th>1</th>\n",
       "      <td>Music video Miley Cyrus Wrecking Ball</td>\n",
       "      <td>GOTO</td>\n",
       "      <td>program_name</td>\n",
       "      <td>musicvideo</td>\n",
       "      <td>Miley Cyrus Wrecking Ball</td>\n",
       "      <td>[0.17077258, 0.28951067, 0.25437003, 0.9451275...</td>\n",
       "    </tr>\n",
       "    <tr>\n",
       "      <th>2</th>\n",
       "      <td>Pictures of little crystal things from the pool</td>\n",
       "      <td>BROWSE</td>\n",
       "      <td>topic</td>\n",
       "      <td></td>\n",
       "      <td>little crystal things from the pool</td>\n",
       "      <td>[0.26491255, -0.15935867, -0.10594376, 0.63270...</td>\n",
       "    </tr>\n",
       "    <tr>\n",
       "      <th>3</th>\n",
       "      <td>Pictures of little crystal things from the pool</td>\n",
       "      <td>BROWSE</td>\n",
       "      <td>content_type</td>\n",
       "      <td>type_modifier</td>\n",
       "      <td>Pictures</td>\n",
       "      <td>[0.26491255, -0.15935867, -0.10594376, 0.63270...</td>\n",
       "    </tr>\n",
       "    <tr>\n",
       "      <th>4</th>\n",
       "      <td>Ukraine coverage</td>\n",
       "      <td>BROWSE</td>\n",
       "      <td>topic</td>\n",
       "      <td>topic</td>\n",
       "      <td>Ukraine</td>\n",
       "      <td>[0.1111691, 0.07645768, 1.173136, 0.31297937, ...</td>\n",
       "    </tr>\n",
       "    <tr>\n",
       "      <th>...</th>\n",
       "      <td>...</td>\n",
       "      <td>...</td>\n",
       "      <td>...</td>\n",
       "      <td>...</td>\n",
       "      <td>...</td>\n",
       "      <td>...</td>\n",
       "    </tr>\n",
       "    <tr>\n",
       "      <th>14981</th>\n",
       "      <td>Game of Thrones Season 5</td>\n",
       "      <td>GOTO</td>\n",
       "      <td>collection_ordering_season</td>\n",
       "      <td>number</td>\n",
       "      <td>5</td>\n",
       "      <td>[-0.345199, -0.24777296, 1.2264862, 0.25946948...</td>\n",
       "    </tr>\n",
       "    <tr>\n",
       "      <th>14982</th>\n",
       "      <td>Game of Thrones Season 5</td>\n",
       "      <td>GOTO</td>\n",
       "      <td>program-set_modifier</td>\n",
       "      <td>program-set_modifier</td>\n",
       "      <td>Season</td>\n",
       "      <td>[-0.345199, -0.24777296, 1.2264862, 0.25946948...</td>\n",
       "    </tr>\n",
       "    <tr>\n",
       "      <th>14983</th>\n",
       "      <td>Game of Thrones Season 5</td>\n",
       "      <td>GOTO</td>\n",
       "      <td>program_name</td>\n",
       "      <td>seriesmaster</td>\n",
       "      <td>Game of Thrones</td>\n",
       "      <td>[-0.345199, -0.24777296, 1.2264862, 0.25946948...</td>\n",
       "    </tr>\n",
       "    <tr>\n",
       "      <th>14984</th>\n",
       "      <td>Go to Lindsey Graham debate</td>\n",
       "      <td>BROWSE</td>\n",
       "      <td>person_name</td>\n",
       "      <td>person</td>\n",
       "      <td>Lindsey Graham</td>\n",
       "      <td>[0.19333829, -0.33627465, 1.4484699, -0.012458...</td>\n",
       "    </tr>\n",
       "    <tr>\n",
       "      <th>14985</th>\n",
       "      <td>Go to Lindsey Graham debate</td>\n",
       "      <td>BROWSE</td>\n",
       "      <td>content_type</td>\n",
       "      <td>type_modifier</td>\n",
       "      <td>debate</td>\n",
       "      <td>[0.19333829, -0.33627465, 1.4484699, -0.012458...</td>\n",
       "    </tr>\n",
       "  </tbody>\n",
       "</table>\n",
       "<p>14986 rows × 6 columns</p>\n",
       "</div>"
      ],
      "text/plain": [
       "                                                  text  intent  \\\n",
       "0                Music video Miley Cyrus Wrecking Ball    GOTO   \n",
       "1                Music video Miley Cyrus Wrecking Ball    GOTO   \n",
       "2      Pictures of little crystal things from the pool  BROWSE   \n",
       "3      Pictures of little crystal things from the pool  BROWSE   \n",
       "4                                     Ukraine coverage  BROWSE   \n",
       "...                                                ...     ...   \n",
       "14981                         Game of Thrones Season 5    GOTO   \n",
       "14982                         Game of Thrones Season 5    GOTO   \n",
       "14983                         Game of Thrones Season 5    GOTO   \n",
       "14984                      Go to Lindsey Graham debate  BROWSE   \n",
       "14985                      Go to Lindsey Graham debate  BROWSE   \n",
       "\n",
       "                              arg                enType  \\\n",
       "0                    content_type         type_modifier   \n",
       "1                    program_name            musicvideo   \n",
       "2                           topic                         \n",
       "3                    content_type         type_modifier   \n",
       "4                           topic                 topic   \n",
       "...                           ...                   ...   \n",
       "14981  collection_ordering_season                number   \n",
       "14982        program-set_modifier  program-set_modifier   \n",
       "14983                program_name          seriesmaster   \n",
       "14984                 person_name                person   \n",
       "14985                content_type         type_modifier   \n",
       "\n",
       "                                     value  \\\n",
       "0                              Music video   \n",
       "1                Miley Cyrus Wrecking Ball   \n",
       "2      little crystal things from the pool   \n",
       "3                                 Pictures   \n",
       "4                                  Ukraine   \n",
       "...                                    ...   \n",
       "14981                                    5   \n",
       "14982                               Season   \n",
       "14983                      Game of Thrones   \n",
       "14984                       Lindsey Graham   \n",
       "14985                               debate   \n",
       "\n",
       "                                              Embeddings  \n",
       "0      [0.17077258, 0.28951067, 0.25437003, 0.9451275...  \n",
       "1      [0.17077258, 0.28951067, 0.25437003, 0.9451275...  \n",
       "2      [0.26491255, -0.15935867, -0.10594376, 0.63270...  \n",
       "3      [0.26491255, -0.15935867, -0.10594376, 0.63270...  \n",
       "4      [0.1111691, 0.07645768, 1.173136, 0.31297937, ...  \n",
       "...                                                  ...  \n",
       "14981  [-0.345199, -0.24777296, 1.2264862, 0.25946948...  \n",
       "14982  [-0.345199, -0.24777296, 1.2264862, 0.25946948...  \n",
       "14983  [-0.345199, -0.24777296, 1.2264862, 0.25946948...  \n",
       "14984  [0.19333829, -0.33627465, 1.4484699, -0.012458...  \n",
       "14985  [0.19333829, -0.33627465, 1.4484699, -0.012458...  \n",
       "\n",
       "[14986 rows x 6 columns]"
      ]
     },
     "execution_count": 30,
     "metadata": {},
     "output_type": "execute_result"
    }
   ],
   "source": [
    "df"
   ]
  },
  {
   "cell_type": "markdown",
   "id": "b8b0aec7",
   "metadata": {},
   "source": [
    "# NEW CODE"
   ]
  },
  {
   "cell_type": "code",
   "execution_count": 65,
   "id": "35c4220b",
   "metadata": {},
   "outputs": [],
   "source": [
    "from sklearn.metrics.pairwise import cosine_similarity"
   ]
  },
  {
   "cell_type": "code",
   "execution_count": 69,
   "id": "18e4138e",
   "metadata": {},
   "outputs": [],
   "source": [
    "def get_top5_embedding_rows(user_input):\n",
    "    \n",
    "    # convert user_input to embeddings\n",
    "    # reshape in (one row, possible columns) using reshape(1,-1), so that cosine_similarity function can work\n",
    "    vect2 = model.encode(user_input).reshape(1,-1)\n",
    "    \n",
    "    # make a copy of original dataframe\n",
    "    df_temp = df.copy()\n",
    "    \n",
    "    \n",
    "    # reshape embeddings in (one row, possible columns) using reshape(1,-1)\n",
    "    # taking [0][0], because cosine_similarity will return similarity score in the form of [[val]]\n",
    "    \n",
    "    df_temp['similarity'] = df_temp['Embeddings'].progress_apply(lambda vect1:cosine_similarity(vect1.reshape(1,-1), vect2)[0][0])\n",
    "    \n",
    "    # sort and get top 5 rows based on similarity score\n",
    "    top_5 = df_temp.sort_values('similarity',ascending=False).head(5)\n",
    "    \n",
    "    \n",
    "    return top_5"
   ]
  },
  {
   "cell_type": "code",
   "execution_count": 70,
   "id": "a82467db",
   "metadata": {},
   "outputs": [
    {
     "data": {
      "application/vnd.jupyter.widget-view+json": {
       "model_id": "e299094a914e46638d2a11b175c89d8f",
       "version_major": 2,
       "version_minor": 0
      },
      "text/plain": [
       "  0%|          | 0/14986 [00:00<?, ?it/s]"
      ]
     },
     "metadata": {},
     "output_type": "display_data"
    },
    {
     "data": {
      "text/html": [
       "<div>\n",
       "<style scoped>\n",
       "    .dataframe tbody tr th:only-of-type {\n",
       "        vertical-align: middle;\n",
       "    }\n",
       "\n",
       "    .dataframe tbody tr th {\n",
       "        vertical-align: top;\n",
       "    }\n",
       "\n",
       "    .dataframe thead th {\n",
       "        text-align: right;\n",
       "    }\n",
       "</style>\n",
       "<table border=\"1\" class=\"dataframe\">\n",
       "  <thead>\n",
       "    <tr style=\"text-align: right;\">\n",
       "      <th></th>\n",
       "      <th>text</th>\n",
       "      <th>intent</th>\n",
       "      <th>arg</th>\n",
       "      <th>enType</th>\n",
       "      <th>value</th>\n",
       "      <th>Embeddings</th>\n",
       "    </tr>\n",
       "  </thead>\n",
       "  <tbody>\n",
       "    <tr>\n",
       "      <th>14607</th>\n",
       "      <td>Manifest on Netflix</td>\n",
       "      <td>GOTO</td>\n",
       "      <td>program_name</td>\n",
       "      <td>seriesmaster</td>\n",
       "      <td>Manifest</td>\n",
       "      <td>[0.45404822, -0.8297721, 1.3893384, 0.01563108...</td>\n",
       "    </tr>\n",
       "    <tr>\n",
       "      <th>14606</th>\n",
       "      <td>Manifest on Netflix</td>\n",
       "      <td>GOTO</td>\n",
       "      <td>medium_name</td>\n",
       "      <td>app</td>\n",
       "      <td>Netflix</td>\n",
       "      <td>[0.45404822, -0.8297721, 1.3893384, 0.01563108...</td>\n",
       "    </tr>\n",
       "    <tr>\n",
       "      <th>1856</th>\n",
       "      <td>Shows on Netflix</td>\n",
       "      <td>BROWSE</td>\n",
       "      <td>content_type</td>\n",
       "      <td>type_modifier</td>\n",
       "      <td>Shows</td>\n",
       "      <td>[0.5030104, -0.7988308, 1.3389351, -0.01286268...</td>\n",
       "    </tr>\n",
       "    <tr>\n",
       "      <th>1857</th>\n",
       "      <td>Shows on Netflix</td>\n",
       "      <td>BROWSE</td>\n",
       "      <td>medium_name</td>\n",
       "      <td>app</td>\n",
       "      <td>Netflix</td>\n",
       "      <td>[0.5030104, -0.7988308, 1.3389351, -0.01286268...</td>\n",
       "    </tr>\n",
       "    <tr>\n",
       "      <th>4717</th>\n",
       "      <td>Show on Netflix</td>\n",
       "      <td>BROWSE</td>\n",
       "      <td>content_type</td>\n",
       "      <td>type_modifier</td>\n",
       "      <td>Show</td>\n",
       "      <td>[0.42065197, -0.7473568, 1.3655772, -0.0855346...</td>\n",
       "    </tr>\n",
       "  </tbody>\n",
       "</table>\n",
       "</div>"
      ],
      "text/plain": [
       "                      text  intent           arg         enType     value  \\\n",
       "14607  Manifest on Netflix    GOTO  program_name   seriesmaster  Manifest   \n",
       "14606  Manifest on Netflix    GOTO   medium_name            app   Netflix   \n",
       "1856      Shows on Netflix  BROWSE  content_type  type_modifier     Shows   \n",
       "1857      Shows on Netflix  BROWSE   medium_name            app   Netflix   \n",
       "4717       Show on Netflix  BROWSE  content_type  type_modifier      Show   \n",
       "\n",
       "                                              Embeddings  \n",
       "14607  [0.45404822, -0.8297721, 1.3893384, 0.01563108...  \n",
       "14606  [0.45404822, -0.8297721, 1.3893384, 0.01563108...  \n",
       "1856   [0.5030104, -0.7988308, 1.3389351, -0.01286268...  \n",
       "1857   [0.5030104, -0.7988308, 1.3389351, -0.01286268...  \n",
       "4717   [0.42065197, -0.7473568, 1.3655772, -0.0855346...  "
      ]
     },
     "execution_count": 70,
     "metadata": {},
     "output_type": "execute_result"
    }
   ],
   "source": [
    "get_top5_embedding_rows('This is user input from NetFlix')"
   ]
  },
  {
   "cell_type": "code",
   "execution_count": 71,
   "id": "a3919bd0",
   "metadata": {},
   "outputs": [
    {
     "data": {
      "application/vnd.jupyter.widget-view+json": {
       "model_id": "9fca8137e13f4a56a27119dc925b32d6",
       "version_major": 2,
       "version_minor": 0
      },
      "text/plain": [
       "  0%|          | 0/14986 [00:00<?, ?it/s]"
      ]
     },
     "metadata": {},
     "output_type": "display_data"
    },
    {
     "data": {
      "text/html": [
       "<div>\n",
       "<style scoped>\n",
       "    .dataframe tbody tr th:only-of-type {\n",
       "        vertical-align: middle;\n",
       "    }\n",
       "\n",
       "    .dataframe tbody tr th {\n",
       "        vertical-align: top;\n",
       "    }\n",
       "\n",
       "    .dataframe thead th {\n",
       "        text-align: right;\n",
       "    }\n",
       "</style>\n",
       "<table border=\"1\" class=\"dataframe\">\n",
       "  <thead>\n",
       "    <tr style=\"text-align: right;\">\n",
       "      <th></th>\n",
       "      <th>text</th>\n",
       "      <th>intent</th>\n",
       "      <th>arg</th>\n",
       "      <th>enType</th>\n",
       "      <th>value</th>\n",
       "      <th>Embeddings</th>\n",
       "    </tr>\n",
       "  </thead>\n",
       "  <tbody>\n",
       "    <tr>\n",
       "      <th>3484</th>\n",
       "      <td>The thing from another world</td>\n",
       "      <td>GOTO</td>\n",
       "      <td>program_name</td>\n",
       "      <td>movie</td>\n",
       "      <td>The thing from another world</td>\n",
       "      <td>[0.39518136, -1.0534317, 1.2271986, 0.40548608...</td>\n",
       "    </tr>\n",
       "    <tr>\n",
       "      <th>3432</th>\n",
       "      <td>Some kind of different as me</td>\n",
       "      <td>GOTO</td>\n",
       "      <td>program_name</td>\n",
       "      <td>movie</td>\n",
       "      <td>Some kind of different as me</td>\n",
       "      <td>[0.4745888, -0.5755253, 1.2872398, 0.18823226,...</td>\n",
       "    </tr>\n",
       "    <tr>\n",
       "      <th>8684</th>\n",
       "      <td>Another World</td>\n",
       "      <td>GOTO</td>\n",
       "      <td>program_name</td>\n",
       "      <td>movie</td>\n",
       "      <td>Another World</td>\n",
       "      <td>[0.07352781, -0.91636515, 1.6938751, 0.4291938...</td>\n",
       "    </tr>\n",
       "    <tr>\n",
       "      <th>3671</th>\n",
       "      <td>Reviews and what's the matter</td>\n",
       "      <td>BROWSE</td>\n",
       "      <td>topic</td>\n",
       "      <td></td>\n",
       "      <td>what's the matter</td>\n",
       "      <td>[0.09323749, -0.45978102, 2.0107567, 0.2435647...</td>\n",
       "    </tr>\n",
       "    <tr>\n",
       "      <th>3672</th>\n",
       "      <td>Reviews and what's the matter</td>\n",
       "      <td>BROWSE</td>\n",
       "      <td>content_type</td>\n",
       "      <td>type_modifier</td>\n",
       "      <td>Reviews</td>\n",
       "      <td>[0.09323749, -0.45978102, 2.0107567, 0.2435647...</td>\n",
       "    </tr>\n",
       "  </tbody>\n",
       "</table>\n",
       "</div>"
      ],
      "text/plain": [
       "                               text  intent           arg         enType  \\\n",
       "3484   The thing from another world    GOTO  program_name          movie   \n",
       "3432   Some kind of different as me    GOTO  program_name          movie   \n",
       "8684                  Another World    GOTO  program_name          movie   \n",
       "3671  Reviews and what's the matter  BROWSE         topic                  \n",
       "3672  Reviews and what's the matter  BROWSE  content_type  type_modifier   \n",
       "\n",
       "                             value  \\\n",
       "3484  The thing from another world   \n",
       "3432  Some kind of different as me   \n",
       "8684                 Another World   \n",
       "3671             what's the matter   \n",
       "3672                       Reviews   \n",
       "\n",
       "                                             Embeddings  \n",
       "3484  [0.39518136, -1.0534317, 1.2271986, 0.40548608...  \n",
       "3432  [0.4745888, -0.5755253, 1.2872398, 0.18823226,...  \n",
       "8684  [0.07352781, -0.91636515, 1.6938751, 0.4291938...  \n",
       "3671  [0.09323749, -0.45978102, 2.0107567, 0.2435647...  \n",
       "3672  [0.09323749, -0.45978102, 2.0107567, 0.2435647...  "
      ]
     },
     "execution_count": 71,
     "metadata": {},
     "output_type": "execute_result"
    }
   ],
   "source": [
    "get_top5_embedding_rows('This is another test input')"
   ]
  },
  {
   "cell_type": "code",
   "execution_count": null,
   "id": "f49876be",
   "metadata": {},
   "outputs": [],
   "source": []
  }
 ],
 "metadata": {
  "kernelspec": {
   "display_name": "Python 3 (ipykernel)",
   "language": "python",
   "name": "python3"
  },
  "language_info": {
   "codemirror_mode": {
    "name": "ipython",
    "version": 3
   },
   "file_extension": ".py",
   "mimetype": "text/x-python",
   "name": "python",
   "nbconvert_exporter": "python",
   "pygments_lexer": "ipython3",
   "version": "3.9.15"
  },
  "toc": {
   "base_numbering": 1,
   "nav_menu": {},
   "number_sections": true,
   "sideBar": true,
   "skip_h1_title": false,
   "title_cell": "Table of Contents",
   "title_sidebar": "Contents",
   "toc_cell": false,
   "toc_position": {},
   "toc_section_display": true,
   "toc_window_display": false
  }
 },
 "nbformat": 4,
 "nbformat_minor": 5
}
