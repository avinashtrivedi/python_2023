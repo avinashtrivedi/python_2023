{
 "cells": [
  {
   "cell_type": "code",
   "execution_count": 17,
   "id": "b1333988",
   "metadata": {},
   "outputs": [
    {
     "name": "stdout",
     "output_type": "stream",
     "text": [
      "['{\"accounts\": {\"account_id\": \"abc\", \"subtype\": \"mortgage\", \"type\": \"loan\", \"balances\": {\"available\": 0, \"current\": 13140.26, \"limit\": null, \"iso_currency_code\": \"USD\"}}, \"transactions\": [{\"date\": \"2022-06-02\", \"amount\": 125.0, \"iso_currency_code\": \"USD\", \"category\": [\"Tax\", \"Payment\"], \"account_id\": \"abc\"}, {\"date\": \"2022-06-01\", \"amount\": -100.0, \"iso_currency_code\": \"USD\", \"category\": [\"Service\", \"Subscription\"], \"account_id\": \"abc\"}, {\"date\": \"2022-06-01\", \"amount\": 25.0, \"iso_currency_code\": \"CAD\", \"category\": [\"Service\", \"Subscription\"], \"account_id\": \"abc\"}, {\"date\": \"2022-05-31\", \"amount\": 50.0, \"iso_currency_code\": \"USD\", \"category\": [\"Shops\", \"Digital Purchase\"], \"account_id\": \"abc\"}]}']\n"
     ]
    }
   ],
   "source": [
    "import pandas as pd\n",
    "class Fixture:\n",
    "    raw_plaid = [\n",
    "        [\n",
    "            {\n",
    "                \"date\": \"2022-06-02\",\n",
    "                \"amount\": 125.0,\n",
    "                \"iso_currency_code\": \"USD\",\n",
    "                \"category\": [\"Tax\", \"Payment\"],\n",
    "                \"account_id\": \"abc\",\n",
    "            },\n",
    "            {\n",
    "                \"date\": \"2022-06-01\",\n",
    "                \"amount\": -100.0,\n",
    "                \"iso_currency_code\": \"USD\",\n",
    "                \"category\": [\"Service\", \"Subscription\"],\n",
    "                \"account_id\": \"abc\",\n",
    "            },\n",
    "            {\n",
    "                \"date\": \"2022-06-01\",\n",
    "                \"amount\": 25.0,\n",
    "                \"iso_currency_code\": \"CAD\",\n",
    "                \"category\": [\"Service\", \"Subscription\"],\n",
    "                \"account_id\": \"abc\",\n",
    "            },\n",
    "            {\n",
    "                \"date\": \"2022-05-31\",\n",
    "                \"amount\": 50.00,\n",
    "                \"iso_currency_code\": \"USD\",\n",
    "                \"category\": [\"Shops\", \"Digital Purchase\"],\n",
    "                \"account_id\": \"abc\",\n",
    "            },\n",
    "        ]\n",
    "    ]\n",
    "    sample_account_data = [\n",
    "        {\n",
    "            \"account_id\": \"abc\",\n",
    "            \"subtype\": \"mortgage\",\n",
    "            \"type\": \"loan\",\n",
    "            \"balances\": {\n",
    "                \"available\": 0,\n",
    "                \"current\": 13140.26,\n",
    "                \"limit\": None,\n",
    "                \"iso_currency_code\": \"USD\",\n",
    "            },\n",
    "        }\n",
    "    ]\n",
    "    \n",
    "    a = {'A':11}\n",
    "#     print(sample_account_data)\n",
    "    application_created_at_timestamp = [pd.Timestamp(\"2022-06-02\").value / 1e9]\n",
    "\n",
    "    n_applicants = len(raw_plaid)\n",
    "    n_transactions = sum(len(plaid) for plaid in raw_plaid)\n",
    "    json_data = [json.dumps({\"accounts\": _, \"transactions\": data}) for data,_ in zip(raw_plaid,sample_account_data)]\n",
    "    print(json_data)"
   ]
  },
  {
   "cell_type": "code",
   "execution_count": null,
   "id": "4cffeb09",
   "metadata": {},
   "outputs": [],
   "source": []
  }
 ],
 "metadata": {
  "kernelspec": {
   "display_name": "Python (myNEWenv)",
   "language": "python",
   "name": "mynewenv"
  },
  "language_info": {
   "codemirror_mode": {
    "name": "ipython",
    "version": 3
   },
   "file_extension": ".py",
   "mimetype": "text/x-python",
   "name": "python",
   "nbconvert_exporter": "python",
   "pygments_lexer": "ipython3",
   "version": "3.10.12"
  }
 },
 "nbformat": 4,
 "nbformat_minor": 5
}
