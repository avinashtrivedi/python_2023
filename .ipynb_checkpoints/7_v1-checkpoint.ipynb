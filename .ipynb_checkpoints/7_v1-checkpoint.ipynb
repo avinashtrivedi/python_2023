{
 "cells": [
  {
   "cell_type": "code",
   "execution_count": 1,
   "id": "631ac862",
   "metadata": {
    "id": "631ac862"
   },
   "outputs": [],
   "source": [
    "#Import the packages\n",
    "import pandas as pd\n",
    "import numpy as np\n",
    "import matplotlib.pyplot as plt"
   ]
  },
  {
   "cell_type": "markdown",
   "id": "2943eec6",
   "metadata": {
    "id": "2943eec6"
   },
   "source": [
    "## We will work with the \"Adult\" Data Set of the UCI Repository"
   ]
  },
  {
   "cell_type": "markdown",
   "id": "75906b0e",
   "metadata": {
    "id": "75906b0e"
   },
   "source": [
    "Here we will try to predict whether one's salary is above or below $50,000/year. \n",
    "The original dataset can be found on UCI Repository: https://archive.ics.uci.edu/ml/datasets/adult"
   ]
  },
  {
   "cell_type": "markdown",
   "id": "25a58790",
   "metadata": {
    "id": "25a58790"
   },
   "source": [
    "### Read the file"
   ]
  },
  {
   "cell_type": "code",
   "execution_count": 100,
   "id": "7755f3f1",
   "metadata": {
    "id": "7755f3f1"
   },
   "outputs": [],
   "source": [
    "# Source: https://www.valentinmihov.com/2015/04/17/adult-income-data-set/\n",
    "# taken and modified slightly from https://fairmlbook.org/code/adult.html\n",
    "\n",
    "features = [\"Age\", \"Workclass\", \"fnlwgt\", \"Education\", \"Education-Num\", \"Martial Status\",\n",
    "        \"Occupation\", \"Relationship\", \"Race\", \"Sex\", \"Capital Gain\", \"Capital Loss\",\n",
    "        \"Hours per week\", \"Country\", \"Target\"] #feaures of the dataset \n",
    "\n",
    "# Change these to local file if available\n",
    "train_url = 'https://archive.ics.uci.edu/ml/machine-learning-databases/adult/adult.data' #link of the training data\n",
    "test_url = 'https://archive.ics.uci.edu/ml/machine-learning-databases/adult/adult.test' #link of the test data\n",
    "\n",
    "# This will download 3.8M\n",
    "df_train = pd.read_csv(train_url, names=features, sep=r'\\s*,\\s*', \n",
    "                             engine='python', na_values=\"?\") #read csv training\n",
    "# # This will download 1.9M\n",
    "df_test = pd.read_csv(test_url, names=features, sep=r'\\s*,\\s*', \n",
    "                            engine='python', na_values=\"?\", skiprows=1) #read csv test\n",
    "\n",
    "num_train = len(df_train) #number of training instances\n",
    "num_test = len(df_test)"
   ]
  },
  {
   "cell_type": "markdown",
   "id": "b2e81f9a",
   "metadata": {
    "id": "b2e81f9a"
   },
   "source": [
    "### Q1: Replace the labels of the training and test sets so that \"Target = 1\" means high income and \"Target = 0\" means low income. The target column should be an integer (binary) column eventually."
   ]
  },
  {
   "cell_type": "markdown",
   "id": "74068666",
   "metadata": {
    "id": "74068666"
   },
   "source": [
    "#### A1:"
   ]
  },
  {
   "cell_type": "code",
   "execution_count": 101,
   "id": "5d0d9a5e",
   "metadata": {
    "id": "5d0d9a5e"
   },
   "outputs": [],
   "source": [
    "#now we can replace the labels\n",
    "df_train.Target = df_train.Target.replace(\"High Income\")\n",
    "df_test.Target = df_test.Target.replace(\"Low Income\")"
   ]
  },
  {
   "cell_type": "code",
   "execution_count": 102,
   "id": "76a7af72",
   "metadata": {},
   "outputs": [],
   "source": [
    "df_test['Target'] =df_test['Target'].replace(['<=50K.','>50K.'],[0,1])\n"
   ]
  },
  {
   "cell_type": "code",
   "execution_count": 103,
   "id": "c9dbd6e1",
   "metadata": {},
   "outputs": [],
   "source": [
    "\n",
    "\n",
    "\n",
    "\n",
    "df_train['Target']  =df_train['Target'].replace(['<=50K','>50K'],[0,1])\n"
   ]
  },
  {
   "cell_type": "code",
   "execution_count": 104,
   "id": "d864f8cd",
   "metadata": {},
   "outputs": [
    {
     "data": {
      "text/plain": [
       "0    12435\n",
       "1     3846\n",
       "Name: Target, dtype: int64"
      ]
     },
     "execution_count": 104,
     "metadata": {},
     "output_type": "execute_result"
    }
   ],
   "source": [
    "df_test['Target'].value_counts()"
   ]
  },
  {
   "cell_type": "markdown",
   "id": "256144fd",
   "metadata": {
    "id": "256144fd"
   },
   "source": [
    "### Q2: Inspect the column names and the data type of each column. Answer the following."
   ]
  },
  {
   "cell_type": "markdown",
   "id": "23c2af7a",
   "metadata": {
    "id": "23c2af7a"
   },
   "source": [
    "#### Q2.1: List how many missing values there are in each column for training and test sets."
   ]
  },
  {
   "cell_type": "markdown",
   "id": "9c5fc3bf",
   "metadata": {
    "id": "9c5fc3bf"
   },
   "source": [
    "#### A2.1:"
   ]
  },
  {
   "cell_type": "code",
   "execution_count": 105,
   "id": "dca8a1f4",
   "metadata": {
    "id": "dca8a1f4"
   },
   "outputs": [
    {
     "name": "stdout",
     "output_type": "stream",
     "text": [
      "<class 'pandas.core.frame.DataFrame'>\n",
      "RangeIndex: 32561 entries, 0 to 32560\n",
      "Data columns (total 15 columns):\n",
      " #   Column          Non-Null Count  Dtype \n",
      "---  ------          --------------  ----- \n",
      " 0   Age             32561 non-null  int64 \n",
      " 1   Workclass       30725 non-null  object\n",
      " 2   fnlwgt          32561 non-null  int64 \n",
      " 3   Education       32561 non-null  object\n",
      " 4   Education-Num   32561 non-null  int64 \n",
      " 5   Martial Status  32561 non-null  object\n",
      " 6   Occupation      30718 non-null  object\n",
      " 7   Relationship    32561 non-null  object\n",
      " 8   Race            32561 non-null  object\n",
      " 9   Sex             32561 non-null  object\n",
      " 10  Capital Gain    32561 non-null  int64 \n",
      " 11  Capital Loss    32561 non-null  int64 \n",
      " 12  Hours per week  32561 non-null  int64 \n",
      " 13  Country         31978 non-null  object\n",
      " 14  Target          32561 non-null  int64 \n",
      "dtypes: int64(7), object(8)\n",
      "memory usage: 3.7+ MB\n"
     ]
    }
   ],
   "source": [
    "#first list the columns\n",
    "pd.set_option('max_colwidth', None)\n",
    "df_train.info(verbose=True)"
   ]
  },
  {
   "cell_type": "code",
   "execution_count": 106,
   "id": "1ab5b9f2",
   "metadata": {
    "id": "1ab5b9f2"
   },
   "outputs": [],
   "source": [
    "#now see the number of missing values for each column -- training\n",
    "missing_values_1 = df_train.isnull().sum()\n"
   ]
  },
  {
   "cell_type": "code",
   "execution_count": 107,
   "id": "a65a73ed",
   "metadata": {
    "id": "a65a73ed",
    "scrolled": true
   },
   "outputs": [],
   "source": [
    "#see the number of missing values for each column -- test\n",
    "missing_values_2 = df_test.isnull().sum()\n",
    "\n"
   ]
  },
  {
   "cell_type": "markdown",
   "id": "4567035d",
   "metadata": {
    "id": "4567035d"
   },
   "source": [
    "#### Q2.2: How many missing values there are in total for the training set?"
   ]
  },
  {
   "cell_type": "markdown",
   "id": "797ae857",
   "metadata": {
    "id": "797ae857"
   },
   "source": [
    "#### A2.2:"
   ]
  },
  {
   "cell_type": "code",
   "execution_count": 108,
   "id": "e542ea52",
   "metadata": {
    "id": "e542ea52"
   },
   "outputs": [
    {
     "name": "stdout",
     "output_type": "stream",
     "text": [
      "4262\n"
     ]
    }
   ],
   "source": [
    "print(sum(missing_values_1))"
   ]
  },
  {
   "cell_type": "markdown",
   "id": "797ec48d",
   "metadata": {
    "id": "797ec48d"
   },
   "source": [
    "#### Q2.3: How many rows are there with at least one NaN?"
   ]
  },
  {
   "cell_type": "markdown",
   "id": "146b35ef",
   "metadata": {
    "id": "146b35ef"
   },
   "source": [
    "#### A2.3:"
   ]
  },
  {
   "cell_type": "code",
   "execution_count": 109,
   "id": "3e8ddf2e",
   "metadata": {
    "id": "3e8ddf2e"
   },
   "outputs": [],
   "source": [
    "#one possible way:\n",
    "#take a True/False Series for whether each row includes NaN. Then sum them, where True will be taken as = 1.\n",
    "\n",
    "rows_with_nan = df_train.isnull().any(axis=1).sum()"
   ]
  },
  {
   "cell_type": "markdown",
   "id": "23e9f381",
   "metadata": {
    "id": "23e9f381"
   },
   "source": [
    "#### Q2.4: If NaN's were identially distributed among the NaN rows at random, then what is the expectation of the number of NaNs in a row that has at least one NaN? If you find the same expectation for the test set, do these values look alike?"
   ]
  },
  {
   "cell_type": "markdown",
   "id": "5adcc5a4",
   "metadata": {
    "id": "5adcc5a4"
   },
   "source": [
    "#### A2.4:"
   ]
  },
  {
   "cell_type": "code",
   "execution_count": 110,
   "id": "fea07117",
   "metadata": {
    "id": "fea07117"
   },
   "outputs": [
    {
     "ename": "NameError",
     "evalue": "name 'df_training' is not defined",
     "output_type": "error",
     "traceback": [
      "\u001b[1;31m---------------------------------------------------------------------------\u001b[0m",
      "\u001b[1;31mNameError\u001b[0m                                 Traceback (most recent call last)",
      "Cell \u001b[1;32mIn[110], line 2\u001b[0m\n\u001b[0;32m      1\u001b[0m \u001b[38;5;66;03m# Count the total number of NaN values\u001b[39;00m\n\u001b[1;32m----> 2\u001b[0m total_nans \u001b[38;5;241m=\u001b[39m \u001b[43mdf_training\u001b[49m\u001b[38;5;241m.\u001b[39misnull()\u001b[38;5;241m.\u001b[39msum()\u001b[38;5;241m.\u001b[39msum()\n\u001b[0;32m      4\u001b[0m \u001b[38;5;66;03m# Calculate the expectation\u001b[39;00m\n\u001b[0;32m      5\u001b[0m expectation \u001b[38;5;241m=\u001b[39m total_nans \u001b[38;5;241m/\u001b[39m rows_with_nan\n",
      "\u001b[1;31mNameError\u001b[0m: name 'df_training' is not defined"
     ]
    }
   ],
   "source": [
    "# Count the total number of NaN values\n",
    "total_nans = df_training.isnull().sum().sum()\n",
    "\n",
    "# Calculate the expectation\n",
    "expectation = total_nans / rows_with_nan"
   ]
  },
  {
   "cell_type": "markdown",
   "id": "f49afb50",
   "metadata": {
    "id": "f49afb50"
   },
   "source": [
    "### Q3: Let us inspect the target variable further."
   ]
  },
  {
   "cell_type": "markdown",
   "id": "61367d5f",
   "metadata": {
    "id": "61367d5f"
   },
   "source": [
    "#### Q3.1: What fraction of the training instances are making high income? Does a similar result hold for the test set?"
   ]
  },
  {
   "cell_type": "markdown",
   "id": "68233a89",
   "metadata": {
    "id": "68233a89"
   },
   "source": [
    "#### A3.1:"
   ]
  },
  {
   "cell_type": "code",
   "execution_count": 27,
   "id": "6cc1ae0d",
   "metadata": {
    "id": "6cc1ae0d"
   },
   "outputs": [
    {
     "data": {
      "text/plain": [
       "0.2408095574460244"
      ]
     },
     "execution_count": 27,
     "metadata": {},
     "output_type": "execute_result"
    }
   ],
   "source": [
    "df_train[\"Target\"].value_counts(normalize=True).tolist()[1]"
   ]
  },
  {
   "cell_type": "code",
   "execution_count": 28,
   "id": "80e9804f",
   "metadata": {
    "id": "80e9804f"
   },
   "outputs": [
    {
     "data": {
      "text/plain": [
       "0.23622627602727106"
      ]
     },
     "execution_count": 28,
     "metadata": {},
     "output_type": "execute_result"
    }
   ],
   "source": [
    "df_test[\"Target\"].value_counts(normalize=True).tolist()[1]"
   ]
  },
  {
   "cell_type": "markdown",
   "id": "d3366487",
   "metadata": {
    "id": "d3366487"
   },
   "source": [
    "#### Q3.2: If we classify everyone as a low-income instance, what is our accuracy, sensitivity, and specificy in the test set? Assume that a \"positive\" class is a high income class, that is, our end goal is to be able to tell who makes more money."
   ]
  },
  {
   "cell_type": "code",
   "execution_count": 111,
   "id": "a833ede3",
   "metadata": {},
   "outputs": [],
   "source": [
    "import pandas as pd\n",
    "from sklearn.metrics import accuracy_score, recall_score, precision_score"
   ]
  },
  {
   "cell_type": "code",
   "execution_count": 112,
   "id": "3fb5e661",
   "metadata": {},
   "outputs": [
    {
     "data": {
      "text/plain": [
       "0    12435\n",
       "1     3846\n",
       "Name: Target, dtype: int64"
      ]
     },
     "execution_count": 112,
     "metadata": {},
     "output_type": "execute_result"
    }
   ],
   "source": [
    "actual_labels.value_counts()"
   ]
  },
  {
   "cell_type": "code",
   "execution_count": 113,
   "id": "01979453",
   "metadata": {},
   "outputs": [
    {
     "name": "stdout",
     "output_type": "stream",
     "text": [
      "Accuracy: 0.7637737239727289\n",
      "Sensitivity (Recall): 0.0\n",
      "Specificity: 1.0\n"
     ]
    }
   ],
   "source": [
    "actual_labels = df_test['Target']  # Assuming the column name is 'income_label'\n",
    "\n",
    "# Predict everyone as low-income\n",
    "predicted_labels = [0] * len(df_test)\n",
    "\n",
    "# Calculate accuracy\n",
    "accuracy = accuracy_score(actual_labels, predicted_labels)\n",
    "\n",
    "# Calculate sensitivity (recall)\n",
    "sensitivity = recall_score(actual_labels, predicted_labels,pos_label=1)\n",
    "\n",
    "# Calculate specificity\n",
    "specificity = recall_score(actual_labels, predicted_labels,pos_label=0)\n",
    "\n",
    "# Display the results\n",
    "print(\"Accuracy:\", accuracy)\n",
    "print(\"Sensitivity (Recall):\", sensitivity)\n",
    "print(\"Specificity:\", specificity)"
   ]
  },
  {
   "cell_type": "markdown",
   "id": "3d79e4f3",
   "metadata": {
    "id": "3d79e4f3"
   },
   "source": [
    "#### A3.2:"
   ]
  },
  {
   "cell_type": "code",
   "execution_count": null,
   "id": "1e69bf06",
   "metadata": {
    "id": "1e69bf06"
   },
   "outputs": [],
   "source": [
    "accuracy = ...\n",
    "sensitivity = ...\n",
    "specificity = ..."
   ]
  },
  {
   "cell_type": "markdown",
   "id": "a87bc8cc",
   "metadata": {
    "id": "a87bc8cc"
   },
   "source": [
    "#### Q3.3: List the fraction of high income instances within each group of \"workclass\" separately in the training set. Do you have an intuition on this?"
   ]
  },
  {
   "cell_type": "markdown",
   "id": "3e650ccc",
   "metadata": {
    "id": "3e650ccc"
   },
   "source": [
    "#### A3.3:"
   ]
  },
  {
   "cell_type": "code",
   "execution_count": 17,
   "id": "6693e54c",
   "metadata": {
    "id": "6693e54c"
   },
   "outputs": [
    {
     "data": {
      "text/html": [
       "<div>\n",
       "<style scoped>\n",
       "    .dataframe tbody tr th:only-of-type {\n",
       "        vertical-align: middle;\n",
       "    }\n",
       "\n",
       "    .dataframe tbody tr th {\n",
       "        vertical-align: top;\n",
       "    }\n",
       "\n",
       "    .dataframe thead th {\n",
       "        text-align: right;\n",
       "    }\n",
       "</style>\n",
       "<table border=\"1\" class=\"dataframe\">\n",
       "  <thead>\n",
       "    <tr style=\"text-align: right;\">\n",
       "      <th></th>\n",
       "      <th>Workclass</th>\n",
       "      <th>Target</th>\n",
       "    </tr>\n",
       "  </thead>\n",
       "  <tbody>\n",
       "    <tr>\n",
       "      <th>0</th>\n",
       "      <td>Federal-gov</td>\n",
       "      <td>371</td>\n",
       "    </tr>\n",
       "    <tr>\n",
       "      <th>1</th>\n",
       "      <td>Local-gov</td>\n",
       "      <td>617</td>\n",
       "    </tr>\n",
       "    <tr>\n",
       "      <th>2</th>\n",
       "      <td>Never-worked</td>\n",
       "      <td>0</td>\n",
       "    </tr>\n",
       "    <tr>\n",
       "      <th>3</th>\n",
       "      <td>Private</td>\n",
       "      <td>4963</td>\n",
       "    </tr>\n",
       "    <tr>\n",
       "      <th>4</th>\n",
       "      <td>Self-emp-inc</td>\n",
       "      <td>622</td>\n",
       "    </tr>\n",
       "    <tr>\n",
       "      <th>5</th>\n",
       "      <td>Self-emp-not-inc</td>\n",
       "      <td>724</td>\n",
       "    </tr>\n",
       "    <tr>\n",
       "      <th>6</th>\n",
       "      <td>State-gov</td>\n",
       "      <td>353</td>\n",
       "    </tr>\n",
       "    <tr>\n",
       "      <th>7</th>\n",
       "      <td>Without-pay</td>\n",
       "      <td>0</td>\n",
       "    </tr>\n",
       "  </tbody>\n",
       "</table>\n",
       "</div>"
      ],
      "text/plain": [
       "          Workclass  Target\n",
       "0       Federal-gov     371\n",
       "1         Local-gov     617\n",
       "2      Never-worked       0\n",
       "3           Private    4963\n",
       "4      Self-emp-inc     622\n",
       "5  Self-emp-not-inc     724\n",
       "6         State-gov     353\n",
       "7       Without-pay       0"
      ]
     },
     "execution_count": 17,
     "metadata": {},
     "output_type": "execute_result"
    }
   ],
   "source": [
    "df_train.groupby('Workclass', as_index=False)['Target'].sum() #or you can find this via alternative codes"
   ]
  },
  {
   "cell_type": "code",
   "execution_count": 47,
   "id": "23d560a9",
   "metadata": {},
   "outputs": [
    {
     "data": {
      "text/html": [
       "<div>\n",
       "<style scoped>\n",
       "    .dataframe tbody tr th:only-of-type {\n",
       "        vertical-align: middle;\n",
       "    }\n",
       "\n",
       "    .dataframe tbody tr th {\n",
       "        vertical-align: top;\n",
       "    }\n",
       "\n",
       "    .dataframe thead th {\n",
       "        text-align: right;\n",
       "    }\n",
       "</style>\n",
       "<table border=\"1\" class=\"dataframe\">\n",
       "  <thead>\n",
       "    <tr style=\"text-align: right;\">\n",
       "      <th></th>\n",
       "      <th>Age</th>\n",
       "      <th>Workclass</th>\n",
       "      <th>fnlwgt</th>\n",
       "      <th>Education</th>\n",
       "      <th>Education-Num</th>\n",
       "      <th>Martial Status</th>\n",
       "      <th>Occupation</th>\n",
       "      <th>Relationship</th>\n",
       "      <th>Race</th>\n",
       "      <th>Sex</th>\n",
       "      <th>Capital Gain</th>\n",
       "      <th>Capital Loss</th>\n",
       "      <th>Hours per week</th>\n",
       "      <th>Country</th>\n",
       "      <th>Target</th>\n",
       "    </tr>\n",
       "  </thead>\n",
       "  <tbody>\n",
       "    <tr>\n",
       "      <th>0</th>\n",
       "      <td>25</td>\n",
       "      <td>Private</td>\n",
       "      <td>226802</td>\n",
       "      <td>11th</td>\n",
       "      <td>7</td>\n",
       "      <td>Never-married</td>\n",
       "      <td>Machine-op-inspct</td>\n",
       "      <td>Own-child</td>\n",
       "      <td>Black</td>\n",
       "      <td>Male</td>\n",
       "      <td>0</td>\n",
       "      <td>0</td>\n",
       "      <td>40</td>\n",
       "      <td>United-States</td>\n",
       "      <td>0</td>\n",
       "    </tr>\n",
       "    <tr>\n",
       "      <th>1</th>\n",
       "      <td>38</td>\n",
       "      <td>Private</td>\n",
       "      <td>89814</td>\n",
       "      <td>HS-grad</td>\n",
       "      <td>9</td>\n",
       "      <td>Married-civ-spouse</td>\n",
       "      <td>Farming-fishing</td>\n",
       "      <td>Husband</td>\n",
       "      <td>White</td>\n",
       "      <td>Male</td>\n",
       "      <td>0</td>\n",
       "      <td>0</td>\n",
       "      <td>50</td>\n",
       "      <td>United-States</td>\n",
       "      <td>0</td>\n",
       "    </tr>\n",
       "    <tr>\n",
       "      <th>2</th>\n",
       "      <td>28</td>\n",
       "      <td>Local-gov</td>\n",
       "      <td>336951</td>\n",
       "      <td>Assoc-acdm</td>\n",
       "      <td>12</td>\n",
       "      <td>Married-civ-spouse</td>\n",
       "      <td>Protective-serv</td>\n",
       "      <td>Husband</td>\n",
       "      <td>White</td>\n",
       "      <td>Male</td>\n",
       "      <td>0</td>\n",
       "      <td>0</td>\n",
       "      <td>40</td>\n",
       "      <td>United-States</td>\n",
       "      <td>1</td>\n",
       "    </tr>\n",
       "    <tr>\n",
       "      <th>3</th>\n",
       "      <td>44</td>\n",
       "      <td>Private</td>\n",
       "      <td>160323</td>\n",
       "      <td>Some-college</td>\n",
       "      <td>10</td>\n",
       "      <td>Married-civ-spouse</td>\n",
       "      <td>Machine-op-inspct</td>\n",
       "      <td>Husband</td>\n",
       "      <td>Black</td>\n",
       "      <td>Male</td>\n",
       "      <td>7688</td>\n",
       "      <td>0</td>\n",
       "      <td>40</td>\n",
       "      <td>United-States</td>\n",
       "      <td>1</td>\n",
       "    </tr>\n",
       "    <tr>\n",
       "      <th>4</th>\n",
       "      <td>18</td>\n",
       "      <td>NaN</td>\n",
       "      <td>103497</td>\n",
       "      <td>Some-college</td>\n",
       "      <td>10</td>\n",
       "      <td>Never-married</td>\n",
       "      <td>NaN</td>\n",
       "      <td>Own-child</td>\n",
       "      <td>White</td>\n",
       "      <td>Female</td>\n",
       "      <td>0</td>\n",
       "      <td>0</td>\n",
       "      <td>30</td>\n",
       "      <td>United-States</td>\n",
       "      <td>0</td>\n",
       "    </tr>\n",
       "    <tr>\n",
       "      <th>...</th>\n",
       "      <td>...</td>\n",
       "      <td>...</td>\n",
       "      <td>...</td>\n",
       "      <td>...</td>\n",
       "      <td>...</td>\n",
       "      <td>...</td>\n",
       "      <td>...</td>\n",
       "      <td>...</td>\n",
       "      <td>...</td>\n",
       "      <td>...</td>\n",
       "      <td>...</td>\n",
       "      <td>...</td>\n",
       "      <td>...</td>\n",
       "      <td>...</td>\n",
       "      <td>...</td>\n",
       "    </tr>\n",
       "    <tr>\n",
       "      <th>16276</th>\n",
       "      <td>39</td>\n",
       "      <td>Private</td>\n",
       "      <td>215419</td>\n",
       "      <td>Bachelors</td>\n",
       "      <td>13</td>\n",
       "      <td>Divorced</td>\n",
       "      <td>Prof-specialty</td>\n",
       "      <td>Not-in-family</td>\n",
       "      <td>White</td>\n",
       "      <td>Female</td>\n",
       "      <td>0</td>\n",
       "      <td>0</td>\n",
       "      <td>36</td>\n",
       "      <td>United-States</td>\n",
       "      <td>0</td>\n",
       "    </tr>\n",
       "    <tr>\n",
       "      <th>16277</th>\n",
       "      <td>64</td>\n",
       "      <td>NaN</td>\n",
       "      <td>321403</td>\n",
       "      <td>HS-grad</td>\n",
       "      <td>9</td>\n",
       "      <td>Widowed</td>\n",
       "      <td>NaN</td>\n",
       "      <td>Other-relative</td>\n",
       "      <td>Black</td>\n",
       "      <td>Male</td>\n",
       "      <td>0</td>\n",
       "      <td>0</td>\n",
       "      <td>40</td>\n",
       "      <td>United-States</td>\n",
       "      <td>0</td>\n",
       "    </tr>\n",
       "    <tr>\n",
       "      <th>16278</th>\n",
       "      <td>38</td>\n",
       "      <td>Private</td>\n",
       "      <td>374983</td>\n",
       "      <td>Bachelors</td>\n",
       "      <td>13</td>\n",
       "      <td>Married-civ-spouse</td>\n",
       "      <td>Prof-specialty</td>\n",
       "      <td>Husband</td>\n",
       "      <td>White</td>\n",
       "      <td>Male</td>\n",
       "      <td>0</td>\n",
       "      <td>0</td>\n",
       "      <td>50</td>\n",
       "      <td>United-States</td>\n",
       "      <td>0</td>\n",
       "    </tr>\n",
       "    <tr>\n",
       "      <th>16279</th>\n",
       "      <td>44</td>\n",
       "      <td>Private</td>\n",
       "      <td>83891</td>\n",
       "      <td>Bachelors</td>\n",
       "      <td>13</td>\n",
       "      <td>Divorced</td>\n",
       "      <td>Adm-clerical</td>\n",
       "      <td>Own-child</td>\n",
       "      <td>Asian-Pac-Islander</td>\n",
       "      <td>Male</td>\n",
       "      <td>5455</td>\n",
       "      <td>0</td>\n",
       "      <td>40</td>\n",
       "      <td>United-States</td>\n",
       "      <td>0</td>\n",
       "    </tr>\n",
       "    <tr>\n",
       "      <th>16280</th>\n",
       "      <td>35</td>\n",
       "      <td>Self-emp-inc</td>\n",
       "      <td>182148</td>\n",
       "      <td>Bachelors</td>\n",
       "      <td>13</td>\n",
       "      <td>Married-civ-spouse</td>\n",
       "      <td>Exec-managerial</td>\n",
       "      <td>Husband</td>\n",
       "      <td>White</td>\n",
       "      <td>Male</td>\n",
       "      <td>0</td>\n",
       "      <td>0</td>\n",
       "      <td>60</td>\n",
       "      <td>United-States</td>\n",
       "      <td>1</td>\n",
       "    </tr>\n",
       "  </tbody>\n",
       "</table>\n",
       "<p>16281 rows × 15 columns</p>\n",
       "</div>"
      ],
      "text/plain": [
       "       Age     Workclass  fnlwgt     Education  Education-Num  \\\n",
       "0       25       Private  226802          11th              7   \n",
       "1       38       Private   89814       HS-grad              9   \n",
       "2       28     Local-gov  336951    Assoc-acdm             12   \n",
       "3       44       Private  160323  Some-college             10   \n",
       "4       18           NaN  103497  Some-college             10   \n",
       "...    ...           ...     ...           ...            ...   \n",
       "16276   39       Private  215419     Bachelors             13   \n",
       "16277   64           NaN  321403       HS-grad              9   \n",
       "16278   38       Private  374983     Bachelors             13   \n",
       "16279   44       Private   83891     Bachelors             13   \n",
       "16280   35  Self-emp-inc  182148     Bachelors             13   \n",
       "\n",
       "           Martial Status         Occupation    Relationship  \\\n",
       "0           Never-married  Machine-op-inspct       Own-child   \n",
       "1      Married-civ-spouse    Farming-fishing         Husband   \n",
       "2      Married-civ-spouse    Protective-serv         Husband   \n",
       "3      Married-civ-spouse  Machine-op-inspct         Husband   \n",
       "4           Never-married                NaN       Own-child   \n",
       "...                   ...                ...             ...   \n",
       "16276            Divorced     Prof-specialty   Not-in-family   \n",
       "16277             Widowed                NaN  Other-relative   \n",
       "16278  Married-civ-spouse     Prof-specialty         Husband   \n",
       "16279            Divorced       Adm-clerical       Own-child   \n",
       "16280  Married-civ-spouse    Exec-managerial         Husband   \n",
       "\n",
       "                     Race     Sex  Capital Gain  Capital Loss  Hours per week  \\\n",
       "0                   Black    Male             0             0              40   \n",
       "1                   White    Male             0             0              50   \n",
       "2                   White    Male             0             0              40   \n",
       "3                   Black    Male          7688             0              40   \n",
       "4                   White  Female             0             0              30   \n",
       "...                   ...     ...           ...           ...             ...   \n",
       "16276               White  Female             0             0              36   \n",
       "16277               Black    Male             0             0              40   \n",
       "16278               White    Male             0             0              50   \n",
       "16279  Asian-Pac-Islander    Male          5455             0              40   \n",
       "16280               White    Male             0             0              60   \n",
       "\n",
       "             Country  Target  \n",
       "0      United-States       0  \n",
       "1      United-States       0  \n",
       "2      United-States       1  \n",
       "3      United-States       1  \n",
       "4      United-States       0  \n",
       "...              ...     ...  \n",
       "16276  United-States       0  \n",
       "16277  United-States       0  \n",
       "16278  United-States       0  \n",
       "16279  United-States       0  \n",
       "16280  United-States       1  \n",
       "\n",
       "[16281 rows x 15 columns]"
      ]
     },
     "execution_count": 47,
     "metadata": {},
     "output_type": "execute_result"
    }
   ],
   "source": [
    "df_test"
   ]
  },
  {
   "cell_type": "markdown",
   "id": "7e568da8",
   "metadata": {
    "id": "7e568da8"
   },
   "source": [
    "#### Q3.4: Motivated by the question before, apply the following simple classification on the test set: if an instance has a workclass that is in the first or second highest-making group, then classify \"1\". What is the accuracy and the sensitivity of this model?"
   ]
  },
  {
   "cell_type": "markdown",
   "id": "f9ea66e1",
   "metadata": {
    "id": "f9ea66e1"
   },
   "source": [
    "#### A3.4:"
   ]
  },
  {
   "cell_type": "code",
   "execution_count": 114,
   "id": "a5e48d61",
   "metadata": {
    "id": "a5e48d61"
   },
   "outputs": [],
   "source": [
    "grp = ['Self-emp-not-inc','Private']\n",
    "greedy_workclass = df_test.apply(lambda row: 1 if row['Workclass'] in grp else 0, axis = 1) #apply a function to predict -- fill the dots"
   ]
  },
  {
   "cell_type": "code",
   "execution_count": 115,
   "id": "b0cc9639",
   "metadata": {
    "id": "b0cc9639"
   },
   "outputs": [],
   "source": [
    "from sklearn.metrics import confusion_matrix #import sklearn's confusion matrix\n",
    "cm = confusion_matrix(df_test['Target'],greedy_workclass) #obtain the confusion matrix"
   ]
  },
  {
   "cell_type": "code",
   "execution_count": 116,
   "id": "49417cc3",
   "metadata": {
    "id": "49417cc3"
   },
   "outputs": [],
   "source": [
    "total = ... #number of instances\n",
    "correct = ... #number of collectly classified instances -- sum of the ??\n",
    "accuracy = ...\n",
    "sensitivity = ...  #fraction of 1's that we can find out of true 1's"
   ]
  },
  {
   "cell_type": "code",
   "execution_count": null,
   "id": "21d92e8d",
   "metadata": {
    "id": "21d92e8d"
   },
   "outputs": [],
   "source": [
    "print(\"Accuracy:\", accuracy, \", and Sensitivity:\", sensitivity)"
   ]
  },
  {
   "cell_type": "markdown",
   "id": "e7656c1e",
   "metadata": {
    "id": "e7656c1e"
   },
   "source": [
    "### Q4: Further statistics and Outliers."
   ]
  },
  {
   "cell_type": "markdown",
   "id": "cfb01a85",
   "metadata": {
    "id": "cfb01a85"
   },
   "source": [
    "#### Q4.1: List the fraction of male and females within US citizens in the training set."
   ]
  },
  {
   "cell_type": "markdown",
   "id": "92e8b941",
   "metadata": {
    "id": "92e8b941"
   },
   "source": [
    "#### A4.1:"
   ]
  },
  {
   "cell_type": "code",
   "execution_count": 52,
   "id": "bee7c43c",
   "metadata": {
    "id": "bee7c43c"
   },
   "outputs": [
    {
     "data": {
      "text/plain": [
       "Male      0.669205\n",
       "Female    0.330795\n",
       "Name: Sex, dtype: float64"
      ]
     },
     "execution_count": 52,
     "metadata": {},
     "output_type": "execute_result"
    }
   ],
   "source": [
    "df_train['Sex'].value_counts(normalize=True\n",
    "                            )"
   ]
  },
  {
   "cell_type": "markdown",
   "id": "89f1c7f0",
   "metadata": {
    "id": "89f1c7f0"
   },
   "source": [
    "#### Q4.2: What is the most common occupation (training set)?"
   ]
  },
  {
   "cell_type": "markdown",
   "id": "2018caa6",
   "metadata": {
    "id": "2018caa6"
   },
   "source": [
    "#### A4.2:"
   ]
  },
  {
   "cell_type": "code",
   "execution_count": 61,
   "id": "f4e270a5",
   "metadata": {
    "id": "f4e270a5"
   },
   "outputs": [
    {
     "data": {
      "text/plain": [
       "'Prof-specialty'"
      ]
     },
     "execution_count": 61,
     "metadata": {},
     "output_type": "execute_result"
    }
   ],
   "source": [
    "df_train['Occupation'].value_counts().index[0]"
   ]
  },
  {
   "cell_type": "markdown",
   "id": "0c0cb992",
   "metadata": {
    "id": "0c0cb992"
   },
   "source": [
    "#### Q4.3: Which occupations are the most common male and female instances, respectively (training set)?"
   ]
  },
  {
   "cell_type": "markdown",
   "id": "58fcae06",
   "metadata": {
    "id": "58fcae06"
   },
   "source": [
    "#### A4.3:"
   ]
  },
  {
   "cell_type": "code",
   "execution_count": 62,
   "id": "bdf59b47",
   "metadata": {
    "id": "bdf59b47"
   },
   "outputs": [
    {
     "data": {
      "text/plain": [
       "'Adm-clerical'"
      ]
     },
     "execution_count": 62,
     "metadata": {},
     "output_type": "execute_result"
    }
   ],
   "source": [
    "df_train[df_train[\"Sex\"]==\"Female\"]['Occupation'].value_counts().index[0]"
   ]
  },
  {
   "cell_type": "code",
   "execution_count": null,
   "id": "800dd8cb",
   "metadata": {
    "id": "800dd8cb"
   },
   "outputs": [],
   "source": [
    "df_train[df_train[\"Sex\"]==\"Male\"]..."
   ]
  },
  {
   "cell_type": "markdown",
   "id": "13ab38b5",
   "metadata": {
    "id": "13ab38b5"
   },
   "source": [
    "#### Q4.4: Plot the histogram of the \"Age\" column (using training set data). Let the histogram have 10 bins, and reflect the percentage of instances falling in the relevant bin on Y axis.  Visually try to see if there are outliers. Are there more outliers on the high age, or low age?"
   ]
  },
  {
   "cell_type": "markdown",
   "id": "3a5ca4f6",
   "metadata": {
    "id": "3a5ca4f6"
   },
   "source": [
    "#### A4.4: "
   ]
  },
  {
   "cell_type": "code",
   "execution_count": 66,
   "id": "a5e9f6b0",
   "metadata": {
    "id": "a5e9f6b0"
   },
   "outputs": [
    {
     "data": {
      "image/png": "[encoded data removed]",
      "text/plain": [
       "<Figure size 640x480 with 1 Axes>"
      ]
     },
     "metadata": {},
     "output_type": "display_data"
    }
   ],
   "source": [
    "df_train[\"Age\"].hist(bins=10, weights=np.ones_like(df_train['Age']) * 100. / len(df_train)).plot()\n",
    "plt.show()\n",
    "plt.close()"
   ]
  },
  {
   "cell_type": "markdown",
   "id": "cd16ee2a",
   "metadata": {
    "id": "cd16ee2a"
   },
   "source": [
    "#### Q4.5: Report the age on the $99$-th quantile. "
   ]
  },
  {
   "cell_type": "markdown",
   "id": "d107d0dd",
   "metadata": {
    "id": "d107d0dd"
   },
   "source": [
    "#### A4.5:"
   ]
  },
  {
   "cell_type": "code",
   "execution_count": 68,
   "id": "550a44a1",
   "metadata": {
    "id": "550a44a1"
   },
   "outputs": [
    {
     "data": {
      "text/plain": [
       "74.0"
      ]
     },
     "execution_count": 68,
     "metadata": {},
     "output_type": "execute_result"
    }
   ],
   "source": [
    "#Hint: the \".quantile\" function of pandas will be enough\n",
    "df_train['Age'].quantile(q=.99)"
   ]
  },
  {
   "cell_type": "markdown",
   "id": "342406a0",
   "metadata": {
    "id": "342406a0"
   },
   "source": [
    "#### Q4.6: Given the previous analysis, would you say there are outliers in this dataset? "
   ]
  },
  {
   "cell_type": "markdown",
   "id": "b99f36f4",
   "metadata": {
    "id": "b99f36f4"
   },
   "source": [
    "#### A4.6:"
   ]
  },
  {
   "cell_type": "markdown",
   "id": "fc600672",
   "metadata": {
    "id": "fc600672"
   },
   "source": [
    "### Q5: Inspect the correlation of the numerical predictors with the target and report your findings (in training set). What does the correlation of \"Age\" tell us?"
   ]
  },
  {
   "cell_type": "code",
   "execution_count": 72,
   "id": "f9d34eed",
   "metadata": {
    "id": "f9d34eed"
   },
   "outputs": [
    {
     "data": {
      "text/plain": [
       "Age               0.234037\n",
       "fnlwgt           -0.009463\n",
       "Education-Num     0.335154\n",
       "Capital Gain      0.223329\n",
       "Capital Loss      0.150526\n",
       "Hours per week    0.229689\n",
       "Target            1.000000\n",
       "dtype: float64"
      ]
     },
     "execution_count": 72,
     "metadata": {},
     "output_type": "execute_result"
    }
   ],
   "source": [
    "df_train.corrwith(df_train.Target)"
   ]
  },
  {
   "cell_type": "markdown",
   "id": "76b23df8",
   "metadata": {
    "id": "76b23df8"
   },
   "source": [
    "### Q6: Let us apply Linear Regression for classification. "
   ]
  },
  {
   "cell_type": "markdown",
   "id": "c454ebd7",
   "metadata": {
    "id": "c454ebd7"
   },
   "source": [
    "#### Q6.1: Discuss why Linear Regression is not immediately applicable in this setting."
   ]
  },
  {
   "cell_type": "markdown",
   "id": "2980b7a0",
   "metadata": {
    "id": "2980b7a0"
   },
   "source": [
    "#### A6.1: "
   ]
  },
  {
   "cell_type": "markdown",
   "id": "de9bc7bb",
   "metadata": {
    "id": "de9bc7bb"
   },
   "source": [
    "#### Q6.2: Drop rows that include NaN values."
   ]
  },
  {
   "cell_type": "markdown",
   "id": "aa329364",
   "metadata": {
    "id": "aa329364"
   },
   "source": [
    "#### A6.2:"
   ]
  },
  {
   "cell_type": "code",
   "execution_count": 21,
   "id": "7d8b2cd6",
   "metadata": {
    "id": "7d8b2cd6"
   },
   "outputs": [],
   "source": [
    "df_train.dropna(inplace=True)"
   ]
  },
  {
   "cell_type": "markdown",
   "id": "f1c81fea",
   "metadata": {
    "id": "f1c81fea"
   },
   "source": [
    "#### Q6.3: Train a linear regression model on the training set. Use the numeric columns only."
   ]
  },
  {
   "cell_type": "markdown",
   "id": "c8f44441",
   "metadata": {
    "id": "c8f44441"
   },
   "source": [
    "#### A6.3:"
   ]
  },
  {
   "cell_type": "code",
   "execution_count": 117,
   "id": "c34392c7",
   "metadata": {
    "id": "c34392c7"
   },
   "outputs": [],
   "source": [
    "#Step 1 -- take the numeric columns\n",
    "numericals = [] #start with an empty array\n",
    "for i in range(len(df_train.dtypes)): #for all columns\n",
    "    coltype = df_train.dtypes[i] #take the type of column\n",
    "    if coltype!='O': #check if the type is not an object\n",
    "        numericals.append(i)"
   ]
  },
  {
   "cell_type": "code",
   "execution_count": 118,
   "id": "ae4ed8ed",
   "metadata": {},
   "outputs": [
    {
     "data": {
      "text/html": [
       "<div>\n",
       "<style scoped>\n",
       "    .dataframe tbody tr th:only-of-type {\n",
       "        vertical-align: middle;\n",
       "    }\n",
       "\n",
       "    .dataframe tbody tr th {\n",
       "        vertical-align: top;\n",
       "    }\n",
       "\n",
       "    .dataframe thead th {\n",
       "        text-align: right;\n",
       "    }\n",
       "</style>\n",
       "<table border=\"1\" class=\"dataframe\">\n",
       "  <thead>\n",
       "    <tr style=\"text-align: right;\">\n",
       "      <th></th>\n",
       "      <th>Age</th>\n",
       "      <th>fnlwgt</th>\n",
       "      <th>Education-Num</th>\n",
       "      <th>Capital Gain</th>\n",
       "      <th>Capital Loss</th>\n",
       "      <th>Hours per week</th>\n",
       "      <th>Target</th>\n",
       "    </tr>\n",
       "  </thead>\n",
       "  <tbody>\n",
       "    <tr>\n",
       "      <th>0</th>\n",
       "      <td>39</td>\n",
       "      <td>77516</td>\n",
       "      <td>13</td>\n",
       "      <td>2174</td>\n",
       "      <td>0</td>\n",
       "      <td>40</td>\n",
       "      <td>0</td>\n",
       "    </tr>\n",
       "    <tr>\n",
       "      <th>1</th>\n",
       "      <td>50</td>\n",
       "      <td>83311</td>\n",
       "      <td>13</td>\n",
       "      <td>0</td>\n",
       "      <td>0</td>\n",
       "      <td>13</td>\n",
       "      <td>0</td>\n",
       "    </tr>\n",
       "    <tr>\n",
       "      <th>2</th>\n",
       "      <td>38</td>\n",
       "      <td>215646</td>\n",
       "      <td>9</td>\n",
       "      <td>0</td>\n",
       "      <td>0</td>\n",
       "      <td>40</td>\n",
       "      <td>0</td>\n",
       "    </tr>\n",
       "    <tr>\n",
       "      <th>3</th>\n",
       "      <td>53</td>\n",
       "      <td>234721</td>\n",
       "      <td>7</td>\n",
       "      <td>0</td>\n",
       "      <td>0</td>\n",
       "      <td>40</td>\n",
       "      <td>0</td>\n",
       "    </tr>\n",
       "    <tr>\n",
       "      <th>4</th>\n",
       "      <td>28</td>\n",
       "      <td>338409</td>\n",
       "      <td>13</td>\n",
       "      <td>0</td>\n",
       "      <td>0</td>\n",
       "      <td>40</td>\n",
       "      <td>0</td>\n",
       "    </tr>\n",
       "    <tr>\n",
       "      <th>...</th>\n",
       "      <td>...</td>\n",
       "      <td>...</td>\n",
       "      <td>...</td>\n",
       "      <td>...</td>\n",
       "      <td>...</td>\n",
       "      <td>...</td>\n",
       "      <td>...</td>\n",
       "    </tr>\n",
       "    <tr>\n",
       "      <th>32556</th>\n",
       "      <td>27</td>\n",
       "      <td>257302</td>\n",
       "      <td>12</td>\n",
       "      <td>0</td>\n",
       "      <td>0</td>\n",
       "      <td>38</td>\n",
       "      <td>0</td>\n",
       "    </tr>\n",
       "    <tr>\n",
       "      <th>32557</th>\n",
       "      <td>40</td>\n",
       "      <td>154374</td>\n",
       "      <td>9</td>\n",
       "      <td>0</td>\n",
       "      <td>0</td>\n",
       "      <td>40</td>\n",
       "      <td>1</td>\n",
       "    </tr>\n",
       "    <tr>\n",
       "      <th>32558</th>\n",
       "      <td>58</td>\n",
       "      <td>151910</td>\n",
       "      <td>9</td>\n",
       "      <td>0</td>\n",
       "      <td>0</td>\n",
       "      <td>40</td>\n",
       "      <td>0</td>\n",
       "    </tr>\n",
       "    <tr>\n",
       "      <th>32559</th>\n",
       "      <td>22</td>\n",
       "      <td>201490</td>\n",
       "      <td>9</td>\n",
       "      <td>0</td>\n",
       "      <td>0</td>\n",
       "      <td>20</td>\n",
       "      <td>0</td>\n",
       "    </tr>\n",
       "    <tr>\n",
       "      <th>32560</th>\n",
       "      <td>52</td>\n",
       "      <td>287927</td>\n",
       "      <td>9</td>\n",
       "      <td>15024</td>\n",
       "      <td>0</td>\n",
       "      <td>40</td>\n",
       "      <td>1</td>\n",
       "    </tr>\n",
       "  </tbody>\n",
       "</table>\n",
       "<p>32561 rows × 7 columns</p>\n",
       "</div>"
      ],
      "text/plain": [
       "       Age  fnlwgt  Education-Num  Capital Gain  Capital Loss  Hours per week  \\\n",
       "0       39   77516             13          2174             0              40   \n",
       "1       50   83311             13             0             0              13   \n",
       "2       38  215646              9             0             0              40   \n",
       "3       53  234721              7             0             0              40   \n",
       "4       28  338409             13             0             0              40   \n",
       "...    ...     ...            ...           ...           ...             ...   \n",
       "32556   27  257302             12             0             0              38   \n",
       "32557   40  154374              9             0             0              40   \n",
       "32558   58  151910              9             0             0              40   \n",
       "32559   22  201490              9             0             0              20   \n",
       "32560   52  287927              9         15024             0              40   \n",
       "\n",
       "       Target  \n",
       "0           0  \n",
       "1           0  \n",
       "2           0  \n",
       "3           0  \n",
       "4           0  \n",
       "...       ...  \n",
       "32556       0  \n",
       "32557       1  \n",
       "32558       0  \n",
       "32559       0  \n",
       "32560       1  \n",
       "\n",
       "[32561 rows x 7 columns]"
      ]
     },
     "execution_count": 118,
     "metadata": {},
     "output_type": "execute_result"
    }
   ],
   "source": [
    "df_train.iloc[:,numericals]"
   ]
  },
  {
   "cell_type": "code",
   "execution_count": 119,
   "id": "2455e0ad",
   "metadata": {
    "id": "2455e0ad"
   },
   "outputs": [],
   "source": [
    "#Step 2 -- fit\n",
    "from sklearn.linear_model import LinearRegression\n",
    "X = df_train.iloc[:,numericals] #training predictors\n",
    "y = df_train['Target'] #training target\n",
    "clf = LinearRegression().fit(X, y) #time to fit"
   ]
  },
  {
   "cell_type": "markdown",
   "id": "180084ec",
   "metadata": {
    "id": "180084ec"
   },
   "source": [
    "#### Q6.4: Apply the linear model that we just fit and predict the training target. Show the first couple of predictions."
   ]
  },
  {
   "cell_type": "markdown",
   "id": "9755db00",
   "metadata": {
    "id": "9755db00"
   },
   "source": [
    "#### A6.4: "
   ]
  },
  {
   "cell_type": "code",
   "execution_count": 25,
   "id": "ebd7fda5",
   "metadata": {
    "id": "ebd7fda5"
   },
   "outputs": [
    {
     "data": {
      "text/plain": [
       "array([-4.87057168e-16,  2.04731345e-15,  2.77399354e-15, ...,\n",
       "        3.37954964e-15,  1.62536745e-15,  1.00000000e+00])"
      ]
     },
     "execution_count": 25,
     "metadata": {},
     "output_type": "execute_result"
    }
   ],
   "source": [
    "#use \"clf.predict\" function\n",
    "pred = clf.predict(X)\n",
    "pred"
   ]
  },
  {
   "cell_type": "markdown",
   "id": "668af8f6",
   "metadata": {
    "id": "668af8f6"
   },
   "source": [
    "#### Q6.5: To make a classification on the *training set*, use a cutoff value = 0.4 so that if the output is more than this value then we classify as \"1\". Compute the accuracy, sensitivity, and specificity manually (do not use a function). Discuss the performance."
   ]
  },
  {
   "cell_type": "markdown",
   "id": "19ad6985",
   "metadata": {
    "id": "19ad6985"
   },
   "source": [
    "#### A6.5: "
   ]
  },
  {
   "cell_type": "code",
   "execution_count": 26,
   "id": "04eb793b",
   "metadata": {
    "id": "04eb793b"
   },
   "outputs": [],
   "source": [
    "cutoff = 0.4\n",
    "y_pred = np.where(pred>cutoff,1,0)"
   ]
  },
  {
   "cell_type": "code",
   "execution_count": 117,
   "id": "e855ffab",
   "metadata": {},
   "outputs": [
    {
     "data": {
      "text/plain": [
       "array([0, 0, 0, ..., 0, 0, 1])"
      ]
     },
     "execution_count": 117,
     "metadata": {},
     "output_type": "execute_result"
    }
   ],
   "source": [
    "y_pred"
   ]
  },
  {
   "cell_type": "code",
   "execution_count": 116,
   "id": "afe8e66b",
   "metadata": {},
   "outputs": [
    {
     "data": {
      "text/plain": [
       "0        0\n",
       "1        0\n",
       "2        0\n",
       "3        0\n",
       "4        0\n",
       "        ..\n",
       "32556    0\n",
       "32557    1\n",
       "32558    0\n",
       "32559    0\n",
       "32560    1\n",
       "Name: Target, Length: 30162, dtype: int64"
      ]
     },
     "execution_count": 116,
     "metadata": {},
     "output_type": "execute_result"
    }
   ],
   "source": [
    "y"
   ]
  },
  {
   "cell_type": "code",
   "execution_count": 27,
   "id": "f1703d10",
   "metadata": {
    "id": "f1703d10"
   },
   "outputs": [
    {
     "ename": "SyntaxError",
     "evalue": "invalid syntax (429592587.py, line 1)",
     "output_type": "error",
     "traceback": [
      "\u001b[1;36m  Cell \u001b[1;32mIn[27], line 1\u001b[1;36m\u001b[0m\n\u001b[1;33m    accuracy_train =\u001b[0m\n\u001b[1;37m                     ^\u001b[0m\n\u001b[1;31mSyntaxError\u001b[0m\u001b[1;31m:\u001b[0m invalid syntax\n"
     ]
    }
   ],
   "source": [
    "accuracy_train = \n",
    "sensitivity_train = ...\n",
    "specificity_train = ..."
   ]
  },
  {
   "cell_type": "code",
   "execution_count": 28,
   "id": "c7e38902",
   "metadata": {
    "id": "c7e38902"
   },
   "outputs": [
    {
     "ename": "NameError",
     "evalue": "name 'accuracy_train' is not defined",
     "output_type": "error",
     "traceback": [
      "\u001b[1;31m---------------------------------------------------------------------------\u001b[0m",
      "\u001b[1;31mNameError\u001b[0m                                 Traceback (most recent call last)",
      "Cell \u001b[1;32mIn[28], line 1\u001b[0m\n\u001b[1;32m----> 1\u001b[0m \u001b[38;5;28mprint\u001b[39m(\u001b[38;5;124m\"\u001b[39m\u001b[38;5;124mAccuracy:\u001b[39m\u001b[38;5;124m\"\u001b[39m, \u001b[38;5;28mround\u001b[39m(\u001b[43maccuracy_train\u001b[49m,\u001b[38;5;241m3\u001b[39m), \u001b[38;5;124m\"\u001b[39m\u001b[38;5;130;01m\\n\u001b[39;00m\u001b[38;5;124mSensitivity:\u001b[39m\u001b[38;5;124m\"\u001b[39m, \u001b[38;5;28mround\u001b[39m(sensitivity_train,\u001b[38;5;241m3\u001b[39m),\\\n\u001b[0;32m      2\u001b[0m       \u001b[38;5;124m\"\u001b[39m\u001b[38;5;130;01m\\n\u001b[39;00m\u001b[38;5;124mSpecificity:\u001b[39m\u001b[38;5;124m\"\u001b[39m, \u001b[38;5;28mround\u001b[39m(specificity_train,\u001b[38;5;241m3\u001b[39m))\n",
      "\u001b[1;31mNameError\u001b[0m: name 'accuracy_train' is not defined"
     ]
    }
   ],
   "source": [
    "print(\"Accuracy:\", round(accuracy_train,3), \"\\nSensitivity:\", round(sensitivity_train,3),\\\n",
    "      \"\\nSpecificity:\", round(specificity_train,3))"
   ]
  },
  {
   "cell_type": "markdown",
   "id": "3e794603",
   "metadata": {
    "id": "3e794603"
   },
   "source": [
    "#### Q6.6: Apply the same on training set but decrease the cutoff down to 0.2. Inspect the metrics we looked before, and compare the results with the cutoff 0.4. Interpret the results."
   ]
  },
  {
   "cell_type": "markdown",
   "id": "6d3104cd",
   "metadata": {
    "id": "6d3104cd"
   },
   "source": [
    "#### A6.6:"
   ]
  },
  {
   "cell_type": "code",
   "execution_count": null,
   "id": "ba0f4b4f",
   "metadata": {
    "id": "ba0f4b4f"
   },
   "outputs": [],
   "source": [
    "cutoff_altenative = 0.2 #cutoff value"
   ]
  },
  {
   "cell_type": "code",
   "execution_count": null,
   "id": "ded638e2",
   "metadata": {
    "id": "ded638e2"
   },
   "outputs": [],
   "source": [
    "accuracy_taccuracy_train_altrain = ...\n",
    "sensitivity_train_alt = ...\n",
    "specificity_train_alt = ..."
   ]
  },
  {
   "cell_type": "code",
   "execution_count": null,
   "id": "985e2d17",
   "metadata": {
    "id": "985e2d17"
   },
   "outputs": [],
   "source": [
    "print(\"Accuracy:\", round(accuracy_train_alt,3), \"\\nSensitivity:\", round(sensitivity_train_alt,3),\\\n",
    "      \"\\nSpecificity:\", round(specificity_train_alt,3))"
   ]
  },
  {
   "cell_type": "markdown",
   "id": "2e6064d1",
   "metadata": {
    "id": "2e6064d1"
   },
   "source": [
    "#### Q6.7: Now use the linear model on the *test set*. Choose the cutoff value = 0.4 and return the accuracy, sensitivity, and specificity."
   ]
  },
  {
   "cell_type": "markdown",
   "id": "186ec97f",
   "metadata": {
    "id": "186ec97f"
   },
   "source": [
    "#### A6.7:"
   ]
  },
  {
   "cell_type": "code",
   "execution_count": 120,
   "id": "de3c23d9",
   "metadata": {},
   "outputs": [],
   "source": [
    "X = df_test.iloc[:,numericals] #training predictors\n",
    "y = df_test['Target'] #training target\n",
    "clf = LinearRegression().fit(X, y) #time to fit\n",
    "pred = clf.predict(X)\n",
    "cutoff = 0.4\n",
    "y_pred = np.where(pred>cutoff,1,0)\n"
   ]
  },
  {
   "cell_type": "code",
   "execution_count": 121,
   "id": "9e3bdc1d",
   "metadata": {},
   "outputs": [],
   "source": [
    "from sklearn.metrics import accuracy_score,confusion_matrix\n",
    "def sensitivity(cm):\n",
    "    return cm[0,0]/(cm[0,0]+cm[0,1])"
   ]
  },
  {
   "cell_type": "markdown",
   "id": "80415e41",
   "metadata": {
    "id": "80415e41"
   },
   "source": [
    "#### Q6.8: Try different cutoff values on the training set and choose the best one according to the performance on the training set. Choose the following metric to optimize: *keep accuracy above 76% and trying to obtain the best possible sensitivity*. What is the optimal cutoff value in your experiment? (Note: this approach will be discussed later)."
   ]
  },
  {
   "cell_type": "markdown",
   "id": "65a6b24a",
   "metadata": {
    "id": "65a6b24a"
   },
   "source": [
    "#### A6.8: \n",
    "- Application of the previous chunks in an iterated manner."
   ]
  },
  {
   "cell_type": "code",
   "execution_count": 122,
   "id": "c772c373",
   "metadata": {},
   "outputs": [],
   "source": [
    "cutt = 0.1\n",
    "result = []\n",
    "while cutt<=1:\n",
    "    X = df_train.iloc[:,numericals] #training predictors\n",
    "    y = df_train['Target'] #training target\n",
    "    clf = LinearRegression().fit(X, y) #time to fit\n",
    "    pred = clf.predict(X)\n",
    "    y_pred = np.where(pred>cutt,1,0)\n",
    "    acc = accuracy_score(y,y_pred)\n",
    "    cm = confusion_matrix(y,y_pred)\n",
    "    s = sensitivity(cm)\n",
    "    result.append((cutt,acc,s))\n",
    "    cutt = cutt + 0.1"
   ]
  },
  {
   "cell_type": "code",
   "execution_count": 123,
   "id": "b091ef44",
   "metadata": {},
   "outputs": [
    {
     "data": {
      "text/plain": [
       "[(0.1, 1.0, 1.0),\n",
       " (0.2, 1.0, 1.0),\n",
       " (0.30000000000000004, 1.0, 1.0),\n",
       " (0.4, 1.0, 1.0),\n",
       " (0.5, 1.0, 1.0),\n",
       " (0.6, 1.0, 1.0),\n",
       " (0.7, 1.0, 1.0),\n",
       " (0.7999999999999999, 1.0, 1.0),\n",
       " (0.8999999999999999, 1.0, 1.0),\n",
       " (0.9999999999999999, 0.9237431282823009, 1.0)]"
      ]
     },
     "execution_count": 123,
     "metadata": {},
     "output_type": "execute_result"
    }
   ],
   "source": [
    "result"
   ]
  },
  {
   "cell_type": "markdown",
   "id": "9835660a",
   "metadata": {
    "id": "9835660a"
   },
   "source": [
    "#### Q6.9: In the previous question we tuned the cutoff value on the training set. This initialy makes sense, because we cannot tune on the test-set, which will be indirectly training on the test set. However, we also discussed in the validation-set approach that it is not a good practice to *compare* models on the training set, because of a natural bias in this procedure. Hence, it is a better approach to tune a value on a validation set. For this purpose, apply the following steps:\n",
    "- Split the training set as 80% (training) - 20% (validation) sets. You can take the first 80% and last 20% and no need to randomize the selection.\n",
    "- Train a linear model on the training set obtained in the previous approach. Training one model is enough.\n",
    "- Compare cutoff values between 0.2 - 0.8 with 0.05 increments. Pick the best model by looking at the validation set, where the \"best\" model has an accuracy over 76% and has the highest sensitivity still.\n",
    "- Test the validated cutoff on the test set and return the metrics.\n",
    "- [Extra / optional] Instead of the hold-out validation that you just applied, try 5-fold cross validation in the original training set."
   ]
  },
  {
   "cell_type": "code",
   "execution_count": 124,
   "id": "b6b328f7",
   "metadata": {},
   "outputs": [
    {
     "data": {
      "text/plain": [
       "26048"
      ]
     },
     "execution_count": 124,
     "metadata": {},
     "output_type": "execute_result"
    }
   ],
   "source": [
    "n80 = int(len(df_train)*0.8)\n",
    "n80"
   ]
  },
  {
   "cell_type": "code",
   "execution_count": 125,
   "id": "d352a802",
   "metadata": {},
   "outputs": [],
   "source": [
    "data_train = df_train[:n80]\n",
    "data_val = df_train[n80:]"
   ]
  },
  {
   "cell_type": "code",
   "execution_count": 126,
   "id": "b68dfb81",
   "metadata": {},
   "outputs": [
    {
     "name": "stdout",
     "output_type": "stream",
     "text": [
      "--------------------\n",
      "cutoff: 0.2\n",
      "acc: 1.0\n",
      "sensitivity: 1.0\n",
      "--------------------\n",
      "cutoff: 0.25\n",
      "acc: 1.0\n",
      "sensitivity: 1.0\n",
      "--------------------\n",
      "cutoff: 0.3\n",
      "acc: 1.0\n",
      "sensitivity: 1.0\n",
      "--------------------\n",
      "cutoff: 0.35\n",
      "acc: 1.0\n",
      "sensitivity: 1.0\n",
      "--------------------\n",
      "cutoff: 0.39999999999999997\n",
      "acc: 1.0\n",
      "sensitivity: 1.0\n",
      "--------------------\n",
      "cutoff: 0.44999999999999996\n",
      "acc: 1.0\n",
      "sensitivity: 1.0\n",
      "--------------------\n",
      "cutoff: 0.49999999999999994\n",
      "acc: 1.0\n",
      "sensitivity: 1.0\n",
      "--------------------\n",
      "cutoff: 0.5499999999999999\n",
      "acc: 1.0\n",
      "sensitivity: 1.0\n",
      "--------------------\n",
      "cutoff: 0.6\n",
      "acc: 1.0\n",
      "sensitivity: 1.0\n",
      "--------------------\n",
      "cutoff: 0.65\n",
      "acc: 1.0\n",
      "sensitivity: 1.0\n",
      "--------------------\n",
      "cutoff: 0.7000000000000001\n",
      "acc: 1.0\n",
      "sensitivity: 1.0\n",
      "--------------------\n",
      "cutoff: 0.7500000000000001\n",
      "acc: 1.0\n",
      "sensitivity: 1.0\n"
     ]
    }
   ],
   "source": [
    "X_train = data_train.iloc[:,numericals] #training predictors\n",
    "y_train = data_train['Target'] #training target\n",
    "\n",
    "X_val = data_val.iloc[:,numericals]\n",
    "y_val = data_val['Target']\n",
    "\n",
    "\n",
    "cutoff = 0.2\n",
    "\n",
    "while cutoff<=0.8:\n",
    "    clf = LinearRegression().fit(X_train, y_train) #time to fit\n",
    "    pred = clf.predict(X_val)\n",
    "    y_pred = np.where(pred>cutoff,1,0)\n",
    "    acc = accuracy_score(y_val,y_pred)\n",
    "    cm = confusion_matrix(y_val,y_pred)\n",
    "    s = sensitivity(cm)\n",
    "    print('-'*20)\n",
    "    print('cutoff:',cutoff)\n",
    "    print('acc:',acc)\n",
    "    print('sensitivity:',s)\n",
    "    \n",
    "    cutoff = cutoff + 0.05\n"
   ]
  },
  {
   "cell_type": "code",
   "execution_count": 127,
   "id": "89d951fb",
   "metadata": {},
   "outputs": [
    {
     "name": "stdout",
     "output_type": "stream",
     "text": [
      "acc: 1.0\n",
      "sensitivity: 1.0\n"
     ]
    }
   ],
   "source": [
    "X_test = df_test.iloc[:,numericals]\n",
    "y_test= df_test['Target']\n",
    "\n",
    "clf = LinearRegression().fit(X_train, y_train) #time to fit\n",
    "pred = clf.predict(X_test)\n",
    "y_pred = np.where(pred>0.4,1,0)\n",
    "acc = accuracy_score(y_test,y_pred)\n",
    "cm = confusion_matrix(y_test,y_pred)\n",
    "s = sensitivity(cm)\n",
    "print('acc:',acc)\n",
    "print('sensitivity:',s)"
   ]
  },
  {
   "cell_type": "markdown",
   "id": "05d29000",
   "metadata": {
    "id": "05d29000"
   },
   "source": [
    "#### A6.9"
   ]
  },
  {
   "cell_type": "markdown",
   "id": "da7d7823",
   "metadata": {
    "id": "da7d7823"
   },
   "source": [
    "#### Q6.10: Previously we have seen that if we decrese the cutoff value then we get more sensitivity as we try to classify more \"1\"s. Obviously we would expect to have sensitivity = 1 if we pick the smallest possible cutoff. To this end, try a cutoff = 0 on the test set and report the sensitivity. If the sensitivity is not equal to 1, please give a possible reason."
   ]
  },
  {
   "cell_type": "code",
   "execution_count": 128,
   "id": "c67e02d8",
   "metadata": {},
   "outputs": [
    {
     "name": "stdout",
     "output_type": "stream",
     "text": [
      "acc: 0.31926785823966586\n",
      "sensitivity: 0.1087253719340571\n"
     ]
    }
   ],
   "source": [
    "X_test = df_test.iloc[:,numericals]\n",
    "y_test= df_test['Target']\n",
    "\n",
    "clf = LinearRegression().fit(X_train, y_train) #time to fit\n",
    "pred = clf.predict(X_test)\n",
    "y_pred = np.where(pred>0,1,0)\n",
    "acc = accuracy_score(y_test,y_pred)\n",
    "cm = confusion_matrix(y_test,y_pred)\n",
    "s = sensitivity(cm)\n",
    "print('acc:',acc)\n",
    "print('sensitivity:',s)"
   ]
  },
  {
   "cell_type": "markdown",
   "id": "f9f848a0",
   "metadata": {
    "id": "f9f848a0"
   },
   "source": [
    "#### A6.10:"
   ]
  },
  {
   "cell_type": "markdown",
   "id": "e3fba4f2",
   "metadata": {
    "id": "e3fba4f2"
   },
   "source": [
    "#### Q6.11 [Bonus / Optional]: Encode \"worksclass\" with dummies so that we can include these variables in the linear regression (i.e., introduce a column for each value the workclass can take and write '1' if this is true -- note that you should drop one of these dummies without loss of generality as from the others you can figure out the one left out). Train the linear regression by using this new variable in addition to the previous variables. Test on the test set by using the cutoff value you found previously."
   ]
  },
  {
   "cell_type": "markdown",
   "id": "a755d39f",
   "metadata": {
    "id": "a755d39f"
   },
   "source": [
    "#### A6.11:\n",
    "- One can iterate over the \".dtypes\" of the training set and for every \"O\" data type, convert this to \"Categorical\". Then, using \"pd.get_dummies\" one can obtain dummies on this categorical variable. The rest is identical to what we did before -- only add the new additional numeric values."
   ]
  },
  {
   "cell_type": "code",
   "execution_count": 129,
   "id": "478345ee",
   "metadata": {},
   "outputs": [],
   "source": [
    "import warnings\n",
    "warnings.filterwarnings('ignore')"
   ]
  },
  {
   "cell_type": "code",
   "execution_count": 138,
   "id": "56d521d2",
   "metadata": {},
   "outputs": [],
   "source": [
    "df_full = pd.concat([df_train,df_test])"
   ]
  },
  {
   "cell_type": "code",
   "execution_count": 139,
   "id": "35943a6f",
   "metadata": {},
   "outputs": [],
   "source": [
    "df_full_num = df_full.iloc[:,numericals]"
   ]
  },
  {
   "cell_type": "code",
   "execution_count": 140,
   "id": "45cbfca7",
   "metadata": {},
   "outputs": [],
   "source": [
    "full = pd.get_dummies(df_full['Workclass'])"
   ]
  },
  {
   "cell_type": "code",
   "execution_count": 142,
   "id": "db35e5aa",
   "metadata": {},
   "outputs": [],
   "source": [
    "df_full_num[list(full)] = full"
   ]
  },
  {
   "cell_type": "code",
   "execution_count": 144,
   "id": "83f4e07d",
   "metadata": {},
   "outputs": [],
   "source": [
    "df_train = df_full_num[:len(df_train)]\n",
    "df_test = df_full_num[len(df_train):]"
   ]
  },
  {
   "cell_type": "code",
   "execution_count": 146,
   "id": "52515b8e",
   "metadata": {},
   "outputs": [
    {
     "name": "stdout",
     "output_type": "stream",
     "text": [
      "acc: 0.8000737055463424\n",
      "sensitivity: 0.9040611178126257\n"
     ]
    }
   ],
   "source": [
    "X_train = df_train.drop('Target',axis=1)\n",
    "y_train = df_train['Target']\n",
    "\n",
    "X_test = df_test.drop('Target',axis=1)\n",
    "y_test= df_test['Target']\n",
    "\n",
    "clf = LinearRegression().fit(X_train, y_train) #time to fit\n",
    "pred = clf.predict(X_test)\n",
    "y_pred = np.where(pred>0.4,1,0)\n",
    "acc = accuracy_score(y_test,y_pred)\n",
    "cm = confusion_matrix(y_test,y_pred)\n",
    "s = sensitivity(cm)\n",
    "print('acc:',acc)\n",
    "print('sensitivity:',s)"
   ]
  },
  {
   "cell_type": "markdown",
   "id": "501d35d5",
   "metadata": {
    "id": "501d35d5"
   },
   "source": [
    "### Final notes\n",
    "Note that linear regression is not designed for such tasks, however, it works great in many cases. A variant of linear regression, that is called the *logistic regression*, takes a linear relationship as in the linear regression setting, but applies a non-linear mapping on the output. In return, we obtain predictions that are between [0,1], hence simply using \"predict\" function would classify the instances with a prediction of >= 0.5 as \"1\". We can similarly change the threshold. Although logistic regression will be introduced in more detail, we can also write similar code to make use of it easily as the following. "
   ]
  },
  {
   "cell_type": "code",
   "execution_count": null,
   "id": "de14c84f",
   "metadata": {
    "id": "de14c84f"
   },
   "outputs": [],
   "source": [
    "from sklearn.linear_model import LogisticRegression\n",
    "clf = LogisticRegression(random_state=0).fit(X, y) \n",
    "#X,y have to be filled before so that X comprises numerical variables"
   ]
  },
  {
   "cell_type": "code",
   "execution_count": null,
   "id": "a9cc8f75",
   "metadata": {
    "id": "a9cc8f75"
   },
   "outputs": [],
   "source": [
    "scores_linear_training = clf.predict(X) #predict function\n",
    "# alternatively, for using a cutoff, first get the assigned 'probabilities' by using \"probs = clf.predict_proba(X)\"\n",
    "# and then apply thresholds."
   ]
  },
  {
   "cell_type": "markdown",
   "id": "3af32967",
   "metadata": {
    "id": "3af32967"
   },
   "source": [
    "As extra, you can try coding other concepts such as:\n",
    "- Visualising lift charts and comparing models via lift charts.\n",
    "- Applying more advanced algorithms and/or using further categorial variables by using several encodings.\n",
    "- Analyzing the categorical variables further to see if we have an ordinal relationship that can be modeled via integers.\n",
    "- As mentioned above, using K fold cross validation."
   ]
  }
 ],
 "metadata": {
  "colab": {
   "collapsed_sections": [
    "797ae857",
    "797ec48d",
    "146b35ef",
    "23e9f381",
    "5adcc5a4",
    "f49afb50",
    "61367d5f",
    "68233a89",
    "d3366487",
    "3d79e4f3",
    "a87bc8cc",
    "3e650ccc",
    "7e568da8",
    "f9ea66e1",
    "e7656c1e",
    "cfb01a85",
    "92e8b941",
    "89f1c7f0",
    "2018caa6",
    "0c0cb992",
    "58fcae06",
    "13ab38b5",
    "3a5ca4f6",
    "cd16ee2a",
    "d107d0dd",
    "342406a0",
    "b99f36f4",
    "c454ebd7",
    "2980b7a0",
    "de9bc7bb",
    "aa329364",
    "f1c81fea",
    "c8f44441",
    "180084ec",
    "9755db00",
    "668af8f6",
    "19ad6985",
    "3e794603",
    "2e6064d1",
    "186ec97f",
    "80415e41",
    "65a6b24a",
    "9835660a",
    "05d29000",
    "da7d7823",
    "f9f848a0",
    "e3fba4f2",
    "a755d39f",
    "501d35d5"
   ],
   "name": "Project Questions.ipynb",
   "provenance": []
  },
  "kernelspec": {
   "display_name": "Python 3 (ipykernel)",
   "language": "python",
   "name": "python3"
  },
  "language_info": {
   "codemirror_mode": {
    "name": "ipython",
    "version": 3
   },
   "file_extension": ".py",
   "mimetype": "text/x-python",
   "name": "python",
   "nbconvert_exporter": "python",
   "pygments_lexer": "ipython3",
   "version": "3.9.15"
  }
 },
 "nbformat": 4,
 "nbformat_minor": 5
}
