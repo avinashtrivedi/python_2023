{
 "cells": [
  {
   "cell_type": "markdown",
   "metadata": {
    "id": "jms4APVyDz-d"
   },
   "source": [
    "# DS 8008 - Final Project \n",
    "# TASK -2 Sequence Labeling TASK"
   ]
  },
  {
   "cell_type": "markdown",
   "metadata": {
    "id": "aVKVDz7KGkAB"
   },
   "source": [
    "# 0. Group Name\n",
    "Wellcome! Please type your group name "
   ]
  },
  {
   "cell_type": "code",
   "execution_count": 12,
   "metadata": {
    "id": "QIC9yAruGoFy"
   },
   "outputs": [],
   "source": [
    "group_name=\"Group-1\" # <- group name\n",
    "assert group_name !=\"\""
   ]
  },
  {
   "cell_type": "markdown",
   "metadata": {
    "id": "yqJKJnT1_5Hz"
   },
   "source": [
    "# 1. Read train data"
   ]
  },
  {
   "cell_type": "code",
   "execution_count": 2,
   "metadata": {
    "scrolled": true
   },
   "outputs": [
    {
     "name": "stdout",
     "output_type": "stream",
     "text": [
      "Requirement already satisfied: pyarrow in c:\\users\\avitr\\anaconda3\\lib\\site-packages (9.0.0)\n",
      "Requirement already satisfied: numpy>=1.16.6 in c:\\users\\avitr\\anaconda3\\lib\\site-packages (from pyarrow) (1.23.5)\n",
      "Note: you may need to restart the kernel to use updated packages.\n"
     ]
    },
    {
     "name": "stderr",
     "output_type": "stream",
     "text": [
      "WARNING: Ignoring invalid distribution -rotobuf (c:\\users\\avitr\\anaconda3\\lib\\site-packages)\n",
      "WARNING: Ignoring invalid distribution -atplotlib (c:\\users\\avitr\\anaconda3\\lib\\site-packages)\n",
      "WARNING: Ignoring invalid distribution -rotobuf (c:\\users\\avitr\\anaconda3\\lib\\site-packages)\n",
      "WARNING: Ignoring invalid distribution -atplotlib (c:\\users\\avitr\\anaconda3\\lib\\site-packages)\n",
      "WARNING: Ignoring invalid distribution -rotobuf (c:\\users\\avitr\\anaconda3\\lib\\site-packages)\n",
      "WARNING: Ignoring invalid distribution -atplotlib (c:\\users\\avitr\\anaconda3\\lib\\site-packages)\n",
      "WARNING: Ignoring invalid distribution -rotobuf (c:\\users\\avitr\\anaconda3\\lib\\site-packages)\n",
      "WARNING: Ignoring invalid distribution -atplotlib (c:\\users\\avitr\\anaconda3\\lib\\site-packages)\n",
      "WARNING: Ignoring invalid distribution -rotobuf (c:\\users\\avitr\\anaconda3\\lib\\site-packages)\n",
      "WARNING: Ignoring invalid distribution -atplotlib (c:\\users\\avitr\\anaconda3\\lib\\site-packages)\n",
      "WARNING: Ignoring invalid distribution -rotobuf (c:\\users\\avitr\\anaconda3\\lib\\site-packages)\n",
      "WARNING: Ignoring invalid distribution -atplotlib (c:\\users\\avitr\\anaconda3\\lib\\site-packages)\n"
     ]
    }
   ],
   "source": [
    "pip install pyarrow"
   ]
  },
  {
   "cell_type": "code",
   "execution_count": 3,
   "metadata": {
    "scrolled": true
   },
   "outputs": [
    {
     "name": "stdout",
     "output_type": "stream",
     "text": [
      "Note: you may need to restart the kernel to use updated packages.\n"
     ]
    },
    {
     "name": "stderr",
     "output_type": "stream",
     "text": [
      "WARNING: Ignoring invalid distribution -rotobuf (c:\\users\\avitr\\anaconda3\\lib\\site-packages)\n",
      "WARNING: Ignoring invalid distribution -atplotlib (c:\\users\\avitr\\anaconda3\\lib\\site-packages)\n",
      "WARNING: Ignoring invalid distribution -rotobuf (c:\\users\\avitr\\anaconda3\\lib\\site-packages)\n",
      "WARNING: Ignoring invalid distribution -atplotlib (c:\\users\\avitr\\anaconda3\\lib\\site-packages)\n",
      "WARNING: Ignoring invalid distribution -rotobuf (c:\\users\\avitr\\anaconda3\\lib\\site-packages)\n",
      "WARNING: Ignoring invalid distribution -atplotlib (c:\\users\\avitr\\anaconda3\\lib\\site-packages)\n",
      "WARNING: Ignoring invalid distribution -rotobuf (c:\\users\\avitr\\anaconda3\\lib\\site-packages)\n",
      "WARNING: Ignoring invalid distribution -atplotlib (c:\\users\\avitr\\anaconda3\\lib\\site-packages)\n",
      "WARNING: Ignoring invalid distribution -rotobuf (c:\\users\\avitr\\anaconda3\\lib\\site-packages)\n",
      "WARNING: Ignoring invalid distribution -atplotlib (c:\\users\\avitr\\anaconda3\\lib\\site-packages)\n",
      "WARNING: Ignoring invalid distribution -rotobuf (c:\\users\\avitr\\anaconda3\\lib\\site-packages)\n",
      "WARNING: Ignoring invalid distribution -atplotlib (c:\\users\\avitr\\anaconda3\\lib\\site-packages)\n",
      "WARNING: Ignoring invalid distribution -rotobuf (c:\\users\\avitr\\anaconda3\\lib\\site-packages)\n",
      "WARNING: Ignoring invalid distribution -atplotlib (c:\\users\\avitr\\anaconda3\\lib\\site-packages)\n",
      "WARNING: Ignoring invalid distribution -rotobuf (c:\\users\\avitr\\anaconda3\\lib\\site-packages)\n",
      "WARNING: Ignoring invalid distribution -atplotlib (c:\\users\\avitr\\anaconda3\\lib\\site-packages)\n"
     ]
    }
   ],
   "source": [
    "pip install -q fastparquet"
   ]
  },
  {
   "cell_type": "code",
   "execution_count": 4,
   "metadata": {},
   "outputs": [
    {
     "name": "stderr",
     "output_type": "stream",
     "text": [
      "WARNING: Ignoring invalid distribution -rotobuf (c:\\users\\avitr\\anaconda3\\lib\\site-packages)\n",
      "WARNING: Ignoring invalid distribution -atplotlib (c:\\users\\avitr\\anaconda3\\lib\\site-packages)\n",
      "WARNING: Ignoring invalid distribution -rotobuf (c:\\users\\avitr\\anaconda3\\lib\\site-packages)\n",
      "WARNING: Ignoring invalid distribution -atplotlib (c:\\users\\avitr\\anaconda3\\lib\\site-packages)\n",
      "WARNING: Ignoring invalid distribution -rotobuf (c:\\users\\avitr\\anaconda3\\lib\\site-packages)\n",
      "WARNING: Ignoring invalid distribution -atplotlib (c:\\users\\avitr\\anaconda3\\lib\\site-packages)\n",
      "WARNING: Ignoring invalid distribution -rotobuf (c:\\users\\avitr\\anaconda3\\lib\\site-packages)\n",
      "WARNING: Ignoring invalid distribution -atplotlib (c:\\users\\avitr\\anaconda3\\lib\\site-packages)\n",
      "WARNING: Ignoring invalid distribution -rotobuf (c:\\users\\avitr\\anaconda3\\lib\\site-packages)\n",
      "WARNING: Ignoring invalid distribution -atplotlib (c:\\users\\avitr\\anaconda3\\lib\\site-packages)\n",
      "WARNING: Ignoring invalid distribution -rotobuf (c:\\users\\avitr\\anaconda3\\lib\\site-packages)\n",
      "WARNING: Ignoring invalid distribution -atplotlib (c:\\users\\avitr\\anaconda3\\lib\\site-packages)\n"
     ]
    }
   ],
   "source": [
    "!pip install -q torch"
   ]
  },
  {
   "cell_type": "code",
   "execution_count": 13,
   "metadata": {
    "colab": {
     "base_uri": "https://localhost:8080/",
     "height": 206
    },
    "id": "E4mZyfha6l3X",
    "outputId": "02a067b4-9249-439b-b2ea-6cdf2d1067ae",
    "scrolled": true
   },
   "outputs": [
    {
     "data": {
      "text/html": [
       "<div>\n",
       "<style scoped>\n",
       "    .dataframe tbody tr th:only-of-type {\n",
       "        vertical-align: middle;\n",
       "    }\n",
       "\n",
       "    .dataframe tbody tr th {\n",
       "        vertical-align: top;\n",
       "    }\n",
       "\n",
       "    .dataframe thead th {\n",
       "        text-align: right;\n",
       "    }\n",
       "</style>\n",
       "<table border=\"1\" class=\"dataframe\">\n",
       "  <thead>\n",
       "    <tr style=\"text-align: right;\">\n",
       "      <th></th>\n",
       "      <th>text</th>\n",
       "      <th>labels</th>\n",
       "    </tr>\n",
       "  </thead>\n",
       "  <tbody>\n",
       "    <tr>\n",
       "      <th>18615</th>\n",
       "      <td>`` This is a reference to Charlotte Stanley ( ...</td>\n",
       "      <td>[PER: Charlotte Stanley]</td>\n",
       "    </tr>\n",
       "    <tr>\n",
       "      <th>14951</th>\n",
       "      <td>The Hitchhiker 's Guide to the Galaxy ( Dougla...</td>\n",
       "      <td>[ORG: The Hitchhiker 's Guide to the Galaxy, P...</td>\n",
       "    </tr>\n",
       "    <tr>\n",
       "      <th>570</th>\n",
       "      <td>' '' Venue : ' '' Daegu Civic Stadium , Daegu</td>\n",
       "      <td>[ORG: Daegu Civic Stadium, LOC: Daegu]</td>\n",
       "    </tr>\n",
       "    <tr>\n",
       "      <th>8684</th>\n",
       "      <td>He served as Archbishop of Braga from 1963 unt...</td>\n",
       "      <td>[LOC: Archbishop of Braga]</td>\n",
       "    </tr>\n",
       "    <tr>\n",
       "      <th>18933</th>\n",
       "      <td>It is found in Great Britain , Belgium , Franc...</td>\n",
       "      <td>[LOC: Great Britain, LOC: Belgium, LOC: France...</td>\n",
       "    </tr>\n",
       "  </tbody>\n",
       "</table>\n",
       "</div>"
      ],
      "text/plain": [
       "                                                    text  \\\n",
       "18615  `` This is a reference to Charlotte Stanley ( ...   \n",
       "14951  The Hitchhiker 's Guide to the Galaxy ( Dougla...   \n",
       "570        ' '' Venue : ' '' Daegu Civic Stadium , Daegu   \n",
       "8684   He served as Archbishop of Braga from 1963 unt...   \n",
       "18933  It is found in Great Britain , Belgium , Franc...   \n",
       "\n",
       "                                                  labels  \n",
       "18615                           [PER: Charlotte Stanley]  \n",
       "14951  [ORG: The Hitchhiker 's Guide to the Galaxy, P...  \n",
       "570               [ORG: Daegu Civic Stadium, LOC: Daegu]  \n",
       "8684                          [LOC: Archbishop of Braga]  \n",
       "18933  [LOC: Great Britain, LOC: Belgium, LOC: France...  "
      ]
     },
     "execution_count": 13,
     "metadata": {},
     "output_type": "execute_result"
    }
   ],
   "source": [
    "import pandas as pd\n",
    "train_df= pd.read_parquet(\"train2.parquet\")\n",
    "train_df.head(5)"
   ]
  },
  {
   "cell_type": "code",
   "execution_count": 26,
   "metadata": {},
   "outputs": [
    {
     "data": {
      "text/plain": [
       "'LOC: Great Britain'"
      ]
     },
     "execution_count": 26,
     "metadata": {},
     "output_type": "execute_result"
    }
   ],
   "source": [
    "train_df['labels'][18933].tolist()[0]"
   ]
  },
  {
   "cell_type": "code",
   "execution_count": null,
   "metadata": {},
   "outputs": [],
   "source": []
  },
  {
   "cell_type": "code",
   "execution_count": 10,
   "metadata": {},
   "outputs": [
    {
     "name": "stdout",
     "output_type": "stream",
     "text": [
      "Index(['text', 'labels'], dtype='object')\n"
     ]
    }
   ],
   "source": [
    "print(train_df.columns)"
   ]
  },
  {
   "cell_type": "code",
   "execution_count": 7,
   "metadata": {
    "colab": {
     "base_uri": "https://localhost:8080/"
    },
    "id": "lr6frhX02b6e",
    "outputId": "4f61980d-e0db-475a-905f-3459072e478b"
   },
   "outputs": [
    {
     "data": {
      "text/plain": [
       "array(['ORG: R.H. Saunders', 'ORG: St. Lawrence River'], dtype=object)"
      ]
     },
     "execution_count": 7,
     "metadata": {},
     "output_type": "execute_result"
    }
   ],
   "source": [
    "train_df.labels[0]"
   ]
  },
  {
   "cell_type": "markdown",
   "metadata": {
    "id": "VO8Q8OBT9B-8"
   },
   "source": [
    "# 2. Model Training\n",
    "Write a suitable pipeline and train a token classification model with train_df dataset. Your model simply maps `text-> PER-LOC-ORG labels` as you seen in training set.\n",
    "* you can insert as many code cells here as you want \n",
    " \n",
    "* Please modify `predict()` function at the end!"
   ]
  },
  {
   "cell_type": "code",
   "execution_count": 40,
   "metadata": {
    "id": "eJW-Fd-r6pxF"
   },
   "outputs": [],
   "source": [
    "# train your model\n",
    "# ...\n",
    "\n",
    "def train():\n",
    "  # train your model\n",
    "  return\n",
    "\n",
    "\n",
    "# a dummy prediction function:\n",
    "import random\n",
    "def predict(a_sentence):\n",
    "  # your model predicts label of a_sentence:\n",
    "  # your corresponding codes go here\n",
    "  return [\"LOC:\" + str(a_sentence.split()[0])]"
   ]
  },
  {
   "cell_type": "code",
   "execution_count": 11,
   "metadata": {},
   "outputs": [
    {
     "name": "stderr",
     "output_type": "stream",
     "text": [
      "Some weights of the model checkpoint at distilbert-base-uncased were not used when initializing DistilBertForTokenClassification: ['vocab_layer_norm.bias', 'vocab_transform.bias', 'vocab_projector.bias', 'vocab_projector.weight', 'vocab_transform.weight', 'vocab_layer_norm.weight']\n",
      "- This IS expected if you are initializing DistilBertForTokenClassification from the checkpoint of a model trained on another task or with another architecture (e.g. initializing a BertForSequenceClassification model from a BertForPreTraining model).\n",
      "- This IS NOT expected if you are initializing DistilBertForTokenClassification from the checkpoint of a model that you expect to be exactly identical (initializing a BertForSequenceClassification model from a BertForSequenceClassification model).\n",
      "Some weights of DistilBertForTokenClassification were not initialized from the model checkpoint at distilbert-base-uncased and are newly initialized: ['classifier.bias', 'classifier.weight']\n",
      "You should probably TRAIN this model on a down-stream task to be able to use it for predictions and inference.\n",
      "C:\\Users\\avitr\\anaconda3\\lib\\site-packages\\transformers\\optimization.py:306: FutureWarning: This implementation of AdamW is deprecated and will be removed in a future version. Use the PyTorch implementation torch.optim.AdamW instead, or set `no_deprecation_warning=True` to disable this warning\n",
      "  warnings.warn(\n",
      "***** Running training *****\n",
      "  Num examples = 2800\n",
      "  Num Epochs = 3\n",
      "  Instantaneous batch size per device = 8\n",
      "  Total train batch size (w. parallel, distributed & accumulation) = 8\n",
      "  Gradient Accumulation steps = 1\n",
      "  Total optimization steps = 1050\n"
     ]
    },
    {
     "data": {
      "text/html": [
       "\n",
       "    <div>\n",
       "      \n",
       "      <progress value='29' max='1050' style='width:300px; height:20px; vertical-align: middle;'></progress>\n",
       "      [  29/1050 01:17 < 49:04, 0.35 it/s, Epoch 0.08/3]\n",
       "    </div>\n",
       "    <table border=\"1\" class=\"dataframe\">\n",
       "  <thead>\n",
       " <tr style=\"text-align: left;\">\n",
       "      <th>Epoch</th>\n",
       "      <th>Training Loss</th>\n",
       "      <th>Validation Loss</th>\n",
       "    </tr>\n",
       "  </thead>\n",
       "  <tbody>\n",
       "  </tbody>\n",
       "</table><p>"
      ],
      "text/plain": [
       "<IPython.core.display.HTML object>"
      ]
     },
     "metadata": {},
     "output_type": "display_data"
    },
    {
     "name": "stderr",
     "output_type": "stream",
     "text": [
      "\n",
      "KeyboardInterrupt\n",
      "\n"
     ]
    }
   ],
   "source": [
    "###Here is the implementation i am having issues with for the Model Implementation above\n",
    "\n",
    "import os\n",
    "import pandas as pd\n",
    "import torch\n",
    "from transformers import DistilBertForTokenClassification, DistilBertTokenizerFast, Trainer, TrainingArguments\n",
    "from sklearn.model_selection import train_test_split\n",
    "from torch.utils.data import Dataset\n",
    "\n",
    "os.environ[\"CUDA_VISIBLE_DEVICES\"] = \"-1\"\n",
    "\n",
    "# Load the train_df dataset\n",
    "train_df = pd.read_parquet(\"train2.parquet\")\n",
    "\n",
    "# Function to transform the labels\n",
    "def transform_labels(labels):\n",
    "    new_labels = []\n",
    "    for label in labels:\n",
    "        if \"PER:\" in label:\n",
    "            new_labels.extend(['B-PER'] + ['I-PER'] * (len(label.split()) - 2))\n",
    "        elif \"ORG:\" in label:\n",
    "            new_labels.extend(['B-ORG'] + ['I-ORG'] * (len(label.split()) - 2))\n",
    "        elif \"LOC:\" in label:\n",
    "            new_labels.extend(['B-LOC'] + ['I-LOC'] * (len(label.split()) - 2))\n",
    "        else:\n",
    "            new_labels.append('O')\n",
    "    return new_labels\n",
    "\n",
    "# Transform the labels\n",
    "train_df['new_labels'] = train_df['labels'].apply(transform_labels)\n",
    "\n",
    "# Replace the 'labels' column with the 'new_labels' column\n",
    "train_df.drop(columns=['labels'], inplace=True)\n",
    "train_df.rename(columns={'new_labels': 'labels'}, inplace=True)\n",
    "\n",
    "# Create X and y\n",
    "X = train_df[\"text\"]\n",
    "y = train_df[\"labels\"]\n",
    "\n",
    "# Split into train and validation sets\n",
    "X_train, X_valid, y_train, y_valid = train_test_split(X, y, test_size=0.2, random_state=42)\n",
    "\n",
    "# Reset the indices\n",
    "X_train.reset_index(drop=True, inplace=True)\n",
    "X_valid.reset_index(drop=True, inplace=True)\n",
    "y_train.reset_index(drop=True, inplace=True)\n",
    "y_valid.reset_index(drop=True, inplace=True)\n",
    "\n",
    "# Create a Dataset class for token classification\n",
    "class TokenClassificationDataset(Dataset):\n",
    "    def __init__(self, texts, labels, tokenizer, unique_labels, max_length=128):\n",
    "        self.texts = texts\n",
    "        self.labels = labels\n",
    "        self.tokenizer = tokenizer\n",
    "        self.max_length = max_length\n",
    "        self.label_map = {label: i for i, label in enumerate(unique_labels)}\n",
    "\n",
    "    def __len__(self):\n",
    "        return len(self.texts)\n",
    "\n",
    "    def label_to_id(self, label):\n",
    "        return [self.label_map.get(l, -100) for l in label]\n",
    "\n",
    "    def __getitem__(self, idx):\n",
    "        text = self.texts[idx]\n",
    "        label = self.labels[idx]\n",
    "        label_ids = self.label_to_id(label)\n",
    "        encoding = self.tokenizer(text, return_tensors=\"pt\", padding=\"max_length\", truncation=True, max_length=self.max_length)\n",
    "        label_ids_padded = [-100] * self.max_length\n",
    "        label_ids_padded[:len(label_ids)] = label_ids\n",
    "        encoding[\"labels\"] = torch.tensor(label_ids_padded, dtype=torch.long)\n",
    "\n",
    "        return {key: value.squeeze(0) for key, value in encoding.items()}\n",
    "\n",
    "# Define a model and tokenizer\n",
    "model = DistilBertForTokenClassification.from_pretrained(\"distilbert-base-uncased\", num_labels=9)\n",
    "tokenizer = DistilBertTokenizerFast.from_pretrained(\"distilbert-base-uncased\")\n",
    "\n",
    "# Get unique labels\n",
    "unique_labels = sorted(set([lbl for labels in y_train for lbl in labels]))\n",
    "\n",
    "# Create datasets\n",
    "train_dataset = TokenClassificationDataset(X_train, y_train, tokenizer, unique_labels)\n",
    "valid_dataset = TokenClassificationDataset(X_valid, y_valid, tokenizer, unique_labels)\n",
    "\n",
    "# Define the training arguments\n",
    "training_args = TrainingArguments(\n",
    "    output_dir=\"./results\",\n",
    "    num_train_epochs=3,\n",
    "    per_device_train_batch_size=8,\n",
    "    per_device_eval_batch_size=8,\n",
    "    logging_dir=\"./logs\",\n",
    "    evaluation_strategy=\"epoch\",\n",
    "    logging_steps=100,\n",
    "    save_strategy=\"epoch\",\n",
    "    load_best_model_at_end=True,\n",
    ")\n",
    "\n",
    "# Create a Trainer\n",
    "trainer = Trainer(\n",
    "    model=model,\n",
    "    args=training_args,\n",
    "    train_dataset=train_dataset,\n",
    "    eval_dataset=valid_dataset,\n",
    ")\n",
    "\n",
    "# Train the model\n",
    "trainer.train()\n",
    "\n",
    "# Define a predict function\n",
    "def predict(text):\n",
    "    input_ids = torch.tensor(tokenizer.encode(text)).unsqueeze(0)\n",
    "    output = model(input_ids)\n",
    "    label_indices = torch.argmax(output.logits, dim=2).squeeze().tolist()\n",
    "    return [f\"PER:{word}\" if idx == 0 else f\"LOC:{word}\" if idx == 1 else f\"ORG:{word}\" for word, idx in zip(text.split(), label_indices)]\n",
    "\n",
    "\n",
    "example_sentence = X_train.iloc[0]\n",
    "predicted_labels = predict(example_sentence)\n",
    "print(predicted_labels)\n",
    "\n"
   ]
  },
  {
   "cell_type": "markdown",
   "metadata": {
    "id": "1TaLRRCx9XcN"
   },
   "source": [
    "# 3. Make your prediction using test dataset\n",
    "If you feel your trained model are strong enough, you can continue with the test part.\n"
   ]
  },
  {
   "cell_type": "markdown",
   "metadata": {
    "id": "cjbv1Un9Ehzr"
   },
   "source": [
    "\n",
    "## 3.1 Read Test Dataset"
   ]
  },
  {
   "cell_type": "code",
   "execution_count": 34,
   "metadata": {
    "colab": {
     "base_uri": "https://localhost:8080/",
     "height": 206
    },
    "id": "yRtcosim8CF5",
    "outputId": "144f7741-7ac5-41c4-96bb-cca38bc178ed"
   },
   "outputs": [
    {
     "data": {
      "text/html": [
       "<div>\n",
       "<style scoped>\n",
       "    .dataframe tbody tr th:only-of-type {\n",
       "        vertical-align: middle;\n",
       "    }\n",
       "\n",
       "    .dataframe tbody tr th {\n",
       "        vertical-align: top;\n",
       "    }\n",
       "\n",
       "    .dataframe thead th {\n",
       "        text-align: right;\n",
       "    }\n",
       "</style>\n",
       "<table border=\"1\" class=\"dataframe\">\n",
       "  <thead>\n",
       "    <tr style=\"text-align: right;\">\n",
       "      <th></th>\n",
       "      <th>text</th>\n",
       "      <th>labels</th>\n",
       "    </tr>\n",
       "  </thead>\n",
       "  <tbody>\n",
       "    <tr>\n",
       "      <th>15604</th>\n",
       "      <td>He was a devoted Northern Baptist and supporte...</td>\n",
       "      <td>empty</td>\n",
       "    </tr>\n",
       "    <tr>\n",
       "      <th>10003</th>\n",
       "      <td>) who emigrated from Ennis , County Clare , Ir...</td>\n",
       "      <td>empty</td>\n",
       "    </tr>\n",
       "    <tr>\n",
       "      <th>7462</th>\n",
       "      <td>'' Byzantine Empire '' ' – Basil II the Bulgar...</td>\n",
       "      <td>empty</td>\n",
       "    </tr>\n",
       "    <tr>\n",
       "      <th>13980</th>\n",
       "      <td>At the age of seven , Temy moved to England wi...</td>\n",
       "      <td>empty</td>\n",
       "    </tr>\n",
       "    <tr>\n",
       "      <th>7497</th>\n",
       "      <td>37 / 1 , Make Me an Instrument of Your Peace .</td>\n",
       "      <td>empty</td>\n",
       "    </tr>\n",
       "  </tbody>\n",
       "</table>\n",
       "</div>"
      ],
      "text/plain": [
       "                                                    text labels\n",
       "15604  He was a devoted Northern Baptist and supporte...  empty\n",
       "10003  ) who emigrated from Ennis , County Clare , Ir...  empty\n",
       "7462   '' Byzantine Empire '' ' – Basil II the Bulgar...  empty\n",
       "13980  At the age of seven , Temy moved to England wi...  empty\n",
       "7497      37 / 1 , Make Me an Instrument of Your Peace .  empty"
      ]
     },
     "execution_count": 34,
     "metadata": {},
     "output_type": "execute_result"
    }
   ],
   "source": [
    "# load dataset\n",
    "test_df= pd.read_parquet(\"test2_without_labels.parquet\")\n",
    "test_df.head(5)"
   ]
  },
  {
   "cell_type": "markdown",
   "metadata": {
    "id": "Wc3pg972AHZn"
   },
   "source": [
    "Please see that all label values are *empty* (fake). Do not take this label column as ground truth. Ignore that column. "
   ]
  },
  {
   "cell_type": "code",
   "execution_count": 31,
   "metadata": {
    "colab": {
     "base_uri": "https://localhost:8080/",
     "height": 423
    },
    "id": "_ojKF6w_9frN",
    "outputId": "85d461be-ec72-4693-cbe9-3db3ba0b08f1"
   },
   "outputs": [
    {
     "data": {
      "text/plain": [
       "<AxesSubplot: ylabel='labels'>"
      ]
     },
     "execution_count": 31,
     "metadata": {},
     "output_type": "execute_result"
    },
    {
     "data": {
      "image/png": "[encoded data removed]",
      "text/plain": [
       "<Figure size 640x480 with 1 Axes>"
      ]
     },
     "metadata": {},
     "output_type": "display_data"
    }
   ],
   "source": [
    "test_df.labels.value_counts().plot(kind=\"pie\")"
   ]
  },
  {
   "cell_type": "markdown",
   "metadata": {
    "id": "TdoNlHBLCcym"
   },
   "source": [
    "## 3.2 Make your prediction\n",
    "\n",
    "Once you train your model and modify `predict` function above properly, run the following code and make your prediction"
   ]
  },
  {
   "cell_type": "code",
   "execution_count": 35,
   "metadata": {
    "colab": {
     "base_uri": "https://localhost:8080/",
     "height": 206
    },
    "id": "-maeXuez9kyL",
    "outputId": "bfaa97a0-4bc9-4a4f-ce32-8fe26612cc48"
   },
   "outputs": [
    {
     "data": {
      "text/html": [
       "<div>\n",
       "<style scoped>\n",
       "    .dataframe tbody tr th:only-of-type {\n",
       "        vertical-align: middle;\n",
       "    }\n",
       "\n",
       "    .dataframe tbody tr th {\n",
       "        vertical-align: top;\n",
       "    }\n",
       "\n",
       "    .dataframe thead th {\n",
       "        text-align: right;\n",
       "    }\n",
       "</style>\n",
       "<table border=\"1\" class=\"dataframe\">\n",
       "  <thead>\n",
       "    <tr style=\"text-align: right;\">\n",
       "      <th></th>\n",
       "      <th>text</th>\n",
       "      <th>labels</th>\n",
       "      <th>my_prediction</th>\n",
       "    </tr>\n",
       "  </thead>\n",
       "  <tbody>\n",
       "    <tr>\n",
       "      <th>15604</th>\n",
       "      <td>He was a devoted Northern Baptist and supporte...</td>\n",
       "      <td>empty</td>\n",
       "      <td>[PER:He, PER:was, PER:a, PER:devoted, PER:Nort...</td>\n",
       "    </tr>\n",
       "    <tr>\n",
       "      <th>10003</th>\n",
       "      <td>) who emigrated from Ennis , County Clare , Ir...</td>\n",
       "      <td>empty</td>\n",
       "      <td>[LOC:), LOC:who, LOC:emigrated, LOC:from, LOC:...</td>\n",
       "    </tr>\n",
       "    <tr>\n",
       "      <th>7462</th>\n",
       "      <td>'' Byzantine Empire '' ' – Basil II the Bulgar...</td>\n",
       "      <td>empty</td>\n",
       "      <td>[PER:'', PER:Byzantine, PER:Empire, PER:'', PE...</td>\n",
       "    </tr>\n",
       "    <tr>\n",
       "      <th>13980</th>\n",
       "      <td>At the age of seven , Temy moved to England wi...</td>\n",
       "      <td>empty</td>\n",
       "      <td>[LOC:At, LOC:the, LOC:age, LOC:of, LOC:seven, ...</td>\n",
       "    </tr>\n",
       "    <tr>\n",
       "      <th>7497</th>\n",
       "      <td>37 / 1 , Make Me an Instrument of Your Peace .</td>\n",
       "      <td>empty</td>\n",
       "      <td>[LOC:37, LOC:/, LOC:1, LOC:,, LOC:Make, LOC:Me...</td>\n",
       "    </tr>\n",
       "  </tbody>\n",
       "</table>\n",
       "</div>"
      ],
      "text/plain": [
       "                                                    text labels  \\\n",
       "15604  He was a devoted Northern Baptist and supporte...  empty   \n",
       "10003  ) who emigrated from Ennis , County Clare , Ir...  empty   \n",
       "7462   '' Byzantine Empire '' ' – Basil II the Bulgar...  empty   \n",
       "13980  At the age of seven , Temy moved to England wi...  empty   \n",
       "7497      37 / 1 , Make Me an Instrument of Your Peace .  empty   \n",
       "\n",
       "                                           my_prediction  \n",
       "15604  [PER:He, PER:was, PER:a, PER:devoted, PER:Nort...  \n",
       "10003  [LOC:), LOC:who, LOC:emigrated, LOC:from, LOC:...  \n",
       "7462   [PER:'', PER:Byzantine, PER:Empire, PER:'', PE...  \n",
       "13980  [LOC:At, LOC:the, LOC:age, LOC:of, LOC:seven, ...  \n",
       "7497   [LOC:37, LOC:/, LOC:1, LOC:,, LOC:Make, LOC:Me...  "
      ]
     },
     "execution_count": 35,
     "metadata": {},
     "output_type": "execute_result"
    }
   ],
   "source": [
    "# lets predict\n",
    "test_df[\"my_prediction\"]= test_df.apply(lambda x: predict(x.text), axis=1)\n",
    "test_df.head()"
   ]
  },
  {
   "cell_type": "markdown",
   "metadata": {
    "id": "LCgywHsdBbex"
   },
   "source": [
    "# 4. Save your predictions\n",
    "\n",
    "Remember that you made your prediction and save it under `my_prediction` column above. Now You will save your `test_df` prediction table as-is. and upload to the D2L Submission system."
   ]
  },
  {
   "cell_type": "code",
   "execution_count": 20,
   "metadata": {
    "id": "6NXTzqh_BnSm"
   },
   "outputs": [],
   "source": [
    "test_df.to_parquet(group_name+\"_task2.parquet\")"
   ]
  },
  {
   "cell_type": "markdown",
   "metadata": {
    "id": "1outzK6nDZ36"
   },
   "source": [
    "# 5. Check your parquet file.\n",
    "For sanity check, let us see you correctly save your dataset"
   ]
  },
  {
   "cell_type": "code",
   "execution_count": 21,
   "metadata": {
    "colab": {
     "base_uri": "https://localhost:8080/",
     "height": 206
    },
    "id": "lxyYKj3LDknM",
    "outputId": "3e139c16-4045-41f9-d8d6-c772ec05b4a4"
   },
   "outputs": [
    {
     "data": {
      "text/html": [
       "\n",
       "  <div id=\"df-503612eb-6f3c-403c-b46c-989acd049b84\">\n",
       "    <div class=\"colab-df-container\">\n",
       "      <div>\n",
       "<style scoped>\n",
       "    .dataframe tbody tr th:only-of-type {\n",
       "        vertical-align: middle;\n",
       "    }\n",
       "\n",
       "    .dataframe tbody tr th {\n",
       "        vertical-align: top;\n",
       "    }\n",
       "\n",
       "    .dataframe thead th {\n",
       "        text-align: right;\n",
       "    }\n",
       "</style>\n",
       "<table border=\"1\" class=\"dataframe\">\n",
       "  <thead>\n",
       "    <tr style=\"text-align: right;\">\n",
       "      <th></th>\n",
       "      <th>text</th>\n",
       "      <th>labels</th>\n",
       "      <th>my_prediction</th>\n",
       "    </tr>\n",
       "  </thead>\n",
       "  <tbody>\n",
       "    <tr>\n",
       "      <th>15604</th>\n",
       "      <td>He was a devoted Northern Baptist and supporte...</td>\n",
       "      <td>empty</td>\n",
       "      <td>[LOC:He]</td>\n",
       "    </tr>\n",
       "    <tr>\n",
       "      <th>10003</th>\n",
       "      <td>) who emigrated from Ennis , County Clare , Ir...</td>\n",
       "      <td>empty</td>\n",
       "      <td>[LOC:)]</td>\n",
       "    </tr>\n",
       "    <tr>\n",
       "      <th>7462</th>\n",
       "      <td>'' Byzantine Empire '' ' – Basil II the Bulgar...</td>\n",
       "      <td>empty</td>\n",
       "      <td>[LOC:'']</td>\n",
       "    </tr>\n",
       "    <tr>\n",
       "      <th>13980</th>\n",
       "      <td>At the age of seven , Temy moved to England wi...</td>\n",
       "      <td>empty</td>\n",
       "      <td>[LOC:At]</td>\n",
       "    </tr>\n",
       "    <tr>\n",
       "      <th>7497</th>\n",
       "      <td>37 / 1 , Make Me an Instrument of Your Peace .</td>\n",
       "      <td>empty</td>\n",
       "      <td>[LOC:37]</td>\n",
       "    </tr>\n",
       "  </tbody>\n",
       "</table>\n",
       "</div>\n",
       "      <button class=\"colab-df-convert\" onclick=\"convertToInteractive('df-503612eb-6f3c-403c-b46c-989acd049b84')\"\n",
       "              title=\"Convert this dataframe to an interactive table.\"\n",
       "              style=\"display:none;\">\n",
       "        \n",
       "  <svg xmlns=\"http://www.w3.org/2000/svg\" height=\"24px\"viewBox=\"0 0 24 24\"\n",
       "       width=\"24px\">\n",
       "    <path d=\"M0 0h24v24H0V0z\" fill=\"none\"/>\n",
       "    <path d=\"M18.56 5.44l.94 2.06.94-2.06 2.06-.94-2.06-.94-.94-2.06-.94 2.06-2.06.94zm-11 1L8.5 8.5l.94-2.06 2.06-.94-2.06-.94L8.5 2.5l-.94 2.06-2.06.94zm10 10l.94 2.06.94-2.06 2.06-.94-2.06-.94-.94-2.06-.94 2.06-2.06.94z\"/><path d=\"M17.41 7.96l-1.37-1.37c-.4-.4-.92-.59-1.43-.59-.52 0-1.04.2-1.43.59L10.3 9.45l-7.72 7.72c-.78.78-.78 2.05 0 2.83L4 21.41c.39.39.9.59 1.41.59.51 0 1.02-.2 1.41-.59l7.78-7.78 2.81-2.81c.8-.78.8-2.07 0-2.86zM5.41 20L4 18.59l7.72-7.72 1.47 1.35L5.41 20z\"/>\n",
       "  </svg>\n",
       "      </button>\n",
       "      \n",
       "  <style>\n",
       "    .colab-df-container {\n",
       "      display:flex;\n",
       "      flex-wrap:wrap;\n",
       "      gap: 12px;\n",
       "    }\n",
       "\n",
       "    .colab-df-convert {\n",
       "      background-color: #E8F0FE;\n",
       "      border: none;\n",
       "      border-radius: 50%;\n",
       "      cursor: pointer;\n",
       "      display: none;\n",
       "      fill: #1967D2;\n",
       "      height: 32px;\n",
       "      padding: 0 0 0 0;\n",
       "      width: 32px;\n",
       "    }\n",
       "\n",
       "    .colab-df-convert:hover {\n",
       "      background-color: #E2EBFA;\n",
       "      box-shadow: 0px 1px 2px rgba(60, 64, 67, 0.3), 0px 1px 3px 1px rgba(60, 64, 67, 0.15);\n",
       "      fill: #174EA6;\n",
       "    }\n",
       "\n",
       "    [theme=dark] .colab-df-convert {\n",
       "      background-color: #3B4455;\n",
       "      fill: #D2E3FC;\n",
       "    }\n",
       "\n",
       "    [theme=dark] .colab-df-convert:hover {\n",
       "      background-color: #434B5C;\n",
       "      box-shadow: 0px 1px 3px 1px rgba(0, 0, 0, 0.15);\n",
       "      filter: drop-shadow(0px 1px 2px rgba(0, 0, 0, 0.3));\n",
       "      fill: #FFFFFF;\n",
       "    }\n",
       "  </style>\n",
       "\n",
       "      <script>\n",
       "        const buttonEl =\n",
       "          document.querySelector('#df-503612eb-6f3c-403c-b46c-989acd049b84 button.colab-df-convert');\n",
       "        buttonEl.style.display =\n",
       "          google.colab.kernel.accessAllowed ? 'block' : 'none';\n",
       "\n",
       "        async function convertToInteractive(key) {\n",
       "          const element = document.querySelector('#df-503612eb-6f3c-403c-b46c-989acd049b84');\n",
       "          const dataTable =\n",
       "            await google.colab.kernel.invokeFunction('convertToInteractive',\n",
       "                                                     [key], {});\n",
       "          if (!dataTable) return;\n",
       "\n",
       "          const docLinkHtml = 'Like what you see? Visit the ' +\n",
       "            '<a target=\"_blank\" href=https://colab.research.google.com/notebooks/data_table.ipynb>data table notebook</a>'\n",
       "            + ' to learn more about interactive tables.';\n",
       "          element.innerHTML = '';\n",
       "          dataTable['output_type'] = 'display_data';\n",
       "          await google.colab.output.renderOutput(dataTable, element);\n",
       "          const docLink = document.createElement('div');\n",
       "          docLink.innerHTML = docLinkHtml;\n",
       "          element.appendChild(docLink);\n",
       "        }\n",
       "      </script>\n",
       "    </div>\n",
       "  </div>\n",
       "  "
      ],
      "text/plain": [
       "                                                    text labels my_prediction\n",
       "15604  He was a devoted Northern Baptist and supporte...  empty      [LOC:He]\n",
       "10003  ) who emigrated from Ennis , County Clare , Ir...  empty       [LOC:)]\n",
       "7462   '' Byzantine Empire '' ' – Basil II the Bulgar...  empty      [LOC:'']\n",
       "13980  At the age of seven , Temy moved to England wi...  empty      [LOC:At]\n",
       "7497      37 / 1 , Make Me an Instrument of Your Peace .  empty      [LOC:37]"
      ]
     },
     "execution_count": 21,
     "metadata": {},
     "output_type": "execute_result"
    }
   ],
   "source": [
    "check_test_df= pd.read_parquet(group_name+\"_task2.parquet\")\n",
    "check_test_df.head()"
   ]
  },
  {
   "cell_type": "code",
   "execution_count": 21,
   "metadata": {
    "id": "GzV0Hf3rDol9"
   },
   "outputs": [],
   "source": []
  },
  {
   "cell_type": "code",
   "execution_count": null,
   "metadata": {
    "id": "oLDeuHwDGHHN"
   },
   "outputs": [],
   "source": []
  }
 ],
 "metadata": {
  "colab": {
   "provenance": []
  },
  "kernelspec": {
   "display_name": "Python 3 (ipykernel)",
   "language": "python",
   "name": "python3"
  },
  "language_info": {
   "codemirror_mode": {
    "name": "ipython",
    "version": 3
   },
   "file_extension": ".py",
   "mimetype": "text/x-python",
   "name": "python",
   "nbconvert_exporter": "python",
   "pygments_lexer": "ipython3",
   "version": "3.9.15"
  }
 },
 "nbformat": 4,
 "nbformat_minor": 1
}
