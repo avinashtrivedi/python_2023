{
 "cells": [
  {
   "cell_type": "code",
   "execution_count": 1,
   "id": "e33d93d1",
   "metadata": {},
   "outputs": [],
   "source": [
    "import pandas as pd"
   ]
  },
  {
   "cell_type": "code",
   "execution_count": 2,
   "id": "620b7ff3",
   "metadata": {},
   "outputs": [],
   "source": [
    "df = pd.read_csv(\"D:\\OneDrive - NITT\\Custom_Download\\MPS LSOA Level Crime (most recent 24 months).csv\")"
   ]
  },
  {
   "cell_type": "code",
   "execution_count": 5,
   "id": "1ec01661",
   "metadata": {},
   "outputs": [
    {
     "data": {
      "text/plain": [
       "0                    Arson and Criminal Damage\n",
       "1                                     Burglary\n",
       "2                                     Burglary\n",
       "3                                Drug Offences\n",
       "4         Miscellaneous Crimes Against Society\n",
       "                          ...                 \n",
       "102556                        Vehicle Offences\n",
       "102557                        Vehicle Offences\n",
       "102558                        Vehicle Offences\n",
       "102559             Violence Against the Person\n",
       "102560             Violence Against the Person\n",
       "Name: Major Category, Length: 102561, dtype: object"
      ]
     },
     "execution_count": 5,
     "metadata": {},
     "output_type": "execute_result"
    }
   ],
   "source": [
    "df['Major Category']"
   ]
  },
  {
   "cell_type": "code",
   "execution_count": null,
   "id": "df4d5bf1",
   "metadata": {},
   "outputs": [],
   "source": []
  }
 ],
 "metadata": {
  "kernelspec": {
   "display_name": "Python 3 (ipykernel)",
   "language": "python",
   "name": "python3"
  },
  "language_info": {
   "codemirror_mode": {
    "name": "ipython",
    "version": 3
   },
   "file_extension": ".py",
   "mimetype": "text/x-python",
   "name": "python",
   "nbconvert_exporter": "python",
   "pygments_lexer": "ipython3",
   "version": "3.9.15"
  }
 },
 "nbformat": 4,
 "nbformat_minor": 5
}
