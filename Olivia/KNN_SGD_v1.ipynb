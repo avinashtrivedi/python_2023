{
 "cells": [
  {
   "cell_type": "code",
   "execution_count": 1,
   "id": "75e5fc55",
   "metadata": {},
   "outputs": [],
   "source": [
    "import pandas as pd\n",
    "import matplotlib.pyplot as plt\n",
    "\n",
    "# ignore warnings\n",
    "import warnings\n",
    "warnings.filterwarnings(\"ignore\")"
   ]
  },
  {
   "cell_type": "code",
   "execution_count": 2,
   "id": "01c2139e",
   "metadata": {},
   "outputs": [],
   "source": [
    "# load the dataset\n",
    "df = pd.read_csv(\"Caravan-2.csv\")"
   ]
  },
  {
   "cell_type": "code",
   "execution_count": 3,
   "id": "3ea3a986",
   "metadata": {},
   "outputs": [
    {
     "data": {
      "text/html": [
       "<div>\n",
       "<style scoped>\n",
       "    .dataframe tbody tr th:only-of-type {\n",
       "        vertical-align: middle;\n",
       "    }\n",
       "\n",
       "    .dataframe tbody tr th {\n",
       "        vertical-align: top;\n",
       "    }\n",
       "\n",
       "    .dataframe thead th {\n",
       "        text-align: right;\n",
       "    }\n",
       "</style>\n",
       "<table border=\"1\" class=\"dataframe\">\n",
       "  <thead>\n",
       "    <tr style=\"text-align: right;\">\n",
       "      <th></th>\n",
       "      <th>Unnamed: 0</th>\n",
       "      <th>MOSTYPE</th>\n",
       "      <th>MAANTHUI</th>\n",
       "      <th>MGEMOMV</th>\n",
       "      <th>MGEMLEEF</th>\n",
       "      <th>MOSHOOFD</th>\n",
       "      <th>MGODRK</th>\n",
       "      <th>MGODPR</th>\n",
       "      <th>MGODOV</th>\n",
       "      <th>MGODGE</th>\n",
       "      <th>...</th>\n",
       "      <th>APERSONG</th>\n",
       "      <th>AGEZONG</th>\n",
       "      <th>AWAOREG</th>\n",
       "      <th>ABRAND</th>\n",
       "      <th>AZEILPL</th>\n",
       "      <th>APLEZIER</th>\n",
       "      <th>AFIETS</th>\n",
       "      <th>AINBOED</th>\n",
       "      <th>ABYSTAND</th>\n",
       "      <th>Purchase</th>\n",
       "    </tr>\n",
       "  </thead>\n",
       "  <tbody>\n",
       "    <tr>\n",
       "      <th>0</th>\n",
       "      <td>1</td>\n",
       "      <td>33</td>\n",
       "      <td>1</td>\n",
       "      <td>3</td>\n",
       "      <td>2</td>\n",
       "      <td>8</td>\n",
       "      <td>0</td>\n",
       "      <td>5</td>\n",
       "      <td>1</td>\n",
       "      <td>3</td>\n",
       "      <td>...</td>\n",
       "      <td>0</td>\n",
       "      <td>0</td>\n",
       "      <td>0</td>\n",
       "      <td>1</td>\n",
       "      <td>0</td>\n",
       "      <td>0</td>\n",
       "      <td>0</td>\n",
       "      <td>0</td>\n",
       "      <td>0</td>\n",
       "      <td>No</td>\n",
       "    </tr>\n",
       "    <tr>\n",
       "      <th>1</th>\n",
       "      <td>2</td>\n",
       "      <td>37</td>\n",
       "      <td>1</td>\n",
       "      <td>2</td>\n",
       "      <td>2</td>\n",
       "      <td>8</td>\n",
       "      <td>1</td>\n",
       "      <td>4</td>\n",
       "      <td>1</td>\n",
       "      <td>4</td>\n",
       "      <td>...</td>\n",
       "      <td>0</td>\n",
       "      <td>0</td>\n",
       "      <td>0</td>\n",
       "      <td>1</td>\n",
       "      <td>0</td>\n",
       "      <td>0</td>\n",
       "      <td>0</td>\n",
       "      <td>0</td>\n",
       "      <td>0</td>\n",
       "      <td>No</td>\n",
       "    </tr>\n",
       "    <tr>\n",
       "      <th>2</th>\n",
       "      <td>3</td>\n",
       "      <td>37</td>\n",
       "      <td>1</td>\n",
       "      <td>2</td>\n",
       "      <td>2</td>\n",
       "      <td>8</td>\n",
       "      <td>0</td>\n",
       "      <td>4</td>\n",
       "      <td>2</td>\n",
       "      <td>4</td>\n",
       "      <td>...</td>\n",
       "      <td>0</td>\n",
       "      <td>0</td>\n",
       "      <td>0</td>\n",
       "      <td>1</td>\n",
       "      <td>0</td>\n",
       "      <td>0</td>\n",
       "      <td>0</td>\n",
       "      <td>0</td>\n",
       "      <td>0</td>\n",
       "      <td>No</td>\n",
       "    </tr>\n",
       "    <tr>\n",
       "      <th>3</th>\n",
       "      <td>4</td>\n",
       "      <td>9</td>\n",
       "      <td>1</td>\n",
       "      <td>3</td>\n",
       "      <td>3</td>\n",
       "      <td>3</td>\n",
       "      <td>2</td>\n",
       "      <td>3</td>\n",
       "      <td>2</td>\n",
       "      <td>4</td>\n",
       "      <td>...</td>\n",
       "      <td>0</td>\n",
       "      <td>0</td>\n",
       "      <td>0</td>\n",
       "      <td>1</td>\n",
       "      <td>0</td>\n",
       "      <td>0</td>\n",
       "      <td>0</td>\n",
       "      <td>0</td>\n",
       "      <td>0</td>\n",
       "      <td>No</td>\n",
       "    </tr>\n",
       "    <tr>\n",
       "      <th>4</th>\n",
       "      <td>5</td>\n",
       "      <td>40</td>\n",
       "      <td>1</td>\n",
       "      <td>4</td>\n",
       "      <td>2</td>\n",
       "      <td>10</td>\n",
       "      <td>1</td>\n",
       "      <td>4</td>\n",
       "      <td>1</td>\n",
       "      <td>4</td>\n",
       "      <td>...</td>\n",
       "      <td>0</td>\n",
       "      <td>0</td>\n",
       "      <td>0</td>\n",
       "      <td>1</td>\n",
       "      <td>0</td>\n",
       "      <td>0</td>\n",
       "      <td>0</td>\n",
       "      <td>0</td>\n",
       "      <td>0</td>\n",
       "      <td>No</td>\n",
       "    </tr>\n",
       "  </tbody>\n",
       "</table>\n",
       "<p>5 rows × 87 columns</p>\n",
       "</div>"
      ],
      "text/plain": [
       "   Unnamed: 0  MOSTYPE  MAANTHUI  MGEMOMV  MGEMLEEF  MOSHOOFD  MGODRK  MGODPR  \\\n",
       "0           1       33         1        3         2         8       0       5   \n",
       "1           2       37         1        2         2         8       1       4   \n",
       "2           3       37         1        2         2         8       0       4   \n",
       "3           4        9         1        3         3         3       2       3   \n",
       "4           5       40         1        4         2        10       1       4   \n",
       "\n",
       "   MGODOV  MGODGE  ...  APERSONG  AGEZONG  AWAOREG  ABRAND  AZEILPL  APLEZIER  \\\n",
       "0       1       3  ...         0        0        0       1        0         0   \n",
       "1       1       4  ...         0        0        0       1        0         0   \n",
       "2       2       4  ...         0        0        0       1        0         0   \n",
       "3       2       4  ...         0        0        0       1        0         0   \n",
       "4       1       4  ...         0        0        0       1        0         0   \n",
       "\n",
       "   AFIETS  AINBOED  ABYSTAND  Purchase  \n",
       "0       0        0         0        No  \n",
       "1       0        0         0        No  \n",
       "2       0        0         0        No  \n",
       "3       0        0         0        No  \n",
       "4       0        0         0        No  \n",
       "\n",
       "[5 rows x 87 columns]"
      ]
     },
     "execution_count": 3,
     "metadata": {},
     "output_type": "execute_result"
    }
   ],
   "source": [
    "df.head()"
   ]
  },
  {
   "cell_type": "code",
   "execution_count": 4,
   "id": "661ac060",
   "metadata": {},
   "outputs": [
    {
     "data": {
      "text/plain": [
       "0"
      ]
     },
     "execution_count": 4,
     "metadata": {},
     "output_type": "execute_result"
    }
   ],
   "source": [
    "# check for Missing/NaN value\n",
    "sum(df.isna().sum())"
   ]
  },
  {
   "cell_type": "code",
   "execution_count": 5,
   "id": "ae93b0ad",
   "metadata": {},
   "outputs": [],
   "source": [
    "# drop unwanted columns\n",
    "df = df.drop(columns='Unnamed: 0')"
   ]
  },
  {
   "cell_type": "code",
   "execution_count": 6,
   "id": "4adbe11b",
   "metadata": {},
   "outputs": [
    {
     "data": {
      "text/plain": [
       "Index(['Purchase'], dtype='object')"
      ]
     },
     "execution_count": 6,
     "metadata": {},
     "output_type": "execute_result"
    }
   ],
   "source": [
    "# check for object column\n",
    "df.select_dtypes('object').columns"
   ]
  },
  {
   "cell_type": "markdown",
   "id": "05447a09",
   "metadata": {},
   "source": [
    "# Data balancing check"
   ]
  },
  {
   "cell_type": "code",
   "execution_count": 7,
   "id": "803b4167",
   "metadata": {},
   "outputs": [
    {
     "data": {
      "text/plain": [
       "No     5474\n",
       "Yes     348\n",
       "Name: Purchase, dtype: int64"
      ]
     },
     "execution_count": 7,
     "metadata": {},
     "output_type": "execute_result"
    }
   ],
   "source": [
    "# check for counts of yes,No\n",
    "df['Purchase'].value_counts()"
   ]
  },
  {
   "cell_type": "code",
   "execution_count": 8,
   "id": "ddeea00f",
   "metadata": {},
   "outputs": [
    {
     "data": {
      "image/png": "[encoded data removed]",
      "text/plain": [
       "<Figure size 640x480 with 1 Axes>"
      ]
     },
     "metadata": {},
     "output_type": "display_data"
    }
   ],
   "source": [
    "df['Purchase'].value_counts().plot(kind='bar')\n",
    "plt.show()"
   ]
  },
  {
   "cell_type": "markdown",
   "id": "906289fd",
   "metadata": {},
   "source": [
    "- Therefore we need to balance the training part of data"
   ]
  },
  {
   "cell_type": "markdown",
   "id": "a0eb3fda",
   "metadata": {},
   "source": [
    "# Get X and Y"
   ]
  },
  {
   "cell_type": "code",
   "execution_count": 9,
   "id": "69460a01",
   "metadata": {},
   "outputs": [],
   "source": [
    "# get x and y\n",
    "X = df.drop(columns=['Purchase'])\n",
    "y = df['Purchase']"
   ]
  },
  {
   "cell_type": "code",
   "execution_count": 10,
   "id": "0d1d6933",
   "metadata": {},
   "outputs": [],
   "source": [
    "# modify these columns to ohehot encoding\n",
    "cols = ['MGEMLEEF' ,'MOSHOOFD', 'MGODRK','PWAPART','MOSTYPE']\n",
    "X = pd.get_dummies(X,columns=cols)"
   ]
  },
  {
   "cell_type": "code",
   "execution_count": 11,
   "id": "fa2cf462",
   "metadata": {},
   "outputs": [],
   "source": [
    "from sklearn.model_selection import train_test_split\n",
    "\n",
    "# split the data into train and test of \n",
    "X_train, X_test, y_train, y_test = train_test_split(X, y, test_size=0.20, random_state=42)"
   ]
  },
  {
   "cell_type": "markdown",
   "id": "23fca135",
   "metadata": {},
   "source": [
    "# Now balance the training data using SMOTE library"
   ]
  },
  {
   "cell_type": "code",
   "execution_count": 12,
   "id": "e8e33794",
   "metadata": {},
   "outputs": [],
   "source": [
    "# import SMOTE, if not installed, this will install first\n",
    "try:\n",
    "    from imblearn.over_sampling import SMOTE\n",
    "except:\n",
    "    !pip install imbalanced-learn\n",
    "    from imblearn.over_sampling import SMOTE"
   ]
  },
  {
   "cell_type": "code",
   "execution_count": 13,
   "id": "2922b68a",
   "metadata": {},
   "outputs": [],
   "source": [
    "# perform oversampling to balance the minority class ie Yes\n",
    "smote = SMOTE(sampling_strategy='auto')\n",
    "X_resampled, y_resampled = smote.fit_resample(X_train, y_train)"
   ]
  },
  {
   "cell_type": "code",
   "execution_count": 14,
   "id": "74dc7713",
   "metadata": {},
   "outputs": [
    {
     "data": {
      "image/png": "[encoded data removed]",
      "text/plain": [
       "<Figure size 640x480 with 1 Axes>"
      ]
     },
     "metadata": {},
     "output_type": "display_data"
    }
   ],
   "source": [
    "y_resampled_series = pd.Series(y_resampled)\n",
    "y_resampled_series.value_counts().plot(kind='bar')\n",
    "plt.show()"
   ]
  },
  {
   "cell_type": "markdown",
   "id": "a3a2626e",
   "metadata": {},
   "source": [
    "# A:- KNN"
   ]
  },
  {
   "cell_type": "code",
   "execution_count": 15,
   "id": "a3dfae0c",
   "metadata": {},
   "outputs": [],
   "source": [
    "from sklearn.neighbors import KNeighborsClassifier\n",
    "from sklearn.metrics import classification_report,recall_score,f1_score,precision_score"
   ]
  },
  {
   "cell_type": "code",
   "execution_count": 16,
   "id": "08e5b56f",
   "metadata": {},
   "outputs": [],
   "source": [
    "def get_result(y_test,y_pred):\n",
    "    print('******************* classification_report *********************')\n",
    "    print(classification_report(y_test,y_pred))\n",
    "    print('recall_score:',recall_score(y_test,y_pred,pos_label='Yes'))\n",
    "    print('precision_score:',precision_score(y_test,y_pred,pos_label='Yes'))\n",
    "    print('f1_score:',f1_score(y_test,y_pred,pos_label='Yes'))"
   ]
  },
  {
   "cell_type": "code",
   "execution_count": 17,
   "id": "21252b51",
   "metadata": {
    "scrolled": true
   },
   "outputs": [
    {
     "name": "stdout",
     "output_type": "stream",
     "text": [
      "******************* classification_report *********************\n",
      "              precision    recall  f1-score   support\n",
      "\n",
      "          No       0.93      0.92      0.93      1084\n",
      "         Yes       0.10      0.11      0.10        81\n",
      "\n",
      "    accuracy                           0.87      1165\n",
      "   macro avg       0.51      0.52      0.52      1165\n",
      "weighted avg       0.87      0.87      0.87      1165\n",
      "\n",
      "recall_score: 0.1111111111111111\n",
      "precision_score: 0.09574468085106383\n",
      "f1_score: 0.10285714285714286\n"
     ]
    }
   ],
   "source": [
    "# K=1\n",
    "\n",
    "k=1\n",
    "clf_knn = KNeighborsClassifier(n_neighbors=k,weights='distance')\n",
    "clf_knn.fit(X_resampled, y_resampled)\n",
    "y_pred = clf_knn.predict(X_test)\n",
    "get_result(y_test,y_pred)"
   ]
  },
  {
   "cell_type": "code",
   "execution_count": 18,
   "id": "32f01340",
   "metadata": {},
   "outputs": [
    {
     "name": "stdout",
     "output_type": "stream",
     "text": [
      "******************* classification_report *********************\n",
      "              precision    recall  f1-score   support\n",
      "\n",
      "          No       0.94      0.89      0.91      1084\n",
      "         Yes       0.12      0.20      0.15        81\n",
      "\n",
      "    accuracy                           0.84      1165\n",
      "   macro avg       0.53      0.54      0.53      1165\n",
      "weighted avg       0.88      0.84      0.86      1165\n",
      "\n",
      "recall_score: 0.19753086419753085\n",
      "precision_score: 0.11678832116788321\n",
      "f1_score: 0.14678899082568808\n"
     ]
    }
   ],
   "source": [
    "# K=3\n",
    "\n",
    "k=3\n",
    "clf_knn = KNeighborsClassifier(n_neighbors=k)\n",
    "clf_knn.fit(X_resampled, y_resampled)\n",
    "y_pred = clf_knn.predict(X_test)\n",
    "get_result(y_test,y_pred)"
   ]
  },
  {
   "cell_type": "code",
   "execution_count": 19,
   "id": "42452cda",
   "metadata": {},
   "outputs": [
    {
     "name": "stdout",
     "output_type": "stream",
     "text": [
      "******************* classification_report *********************\n",
      "              precision    recall  f1-score   support\n",
      "\n",
      "          No       0.94      0.84      0.89      1084\n",
      "         Yes       0.12      0.31      0.18        81\n",
      "\n",
      "    accuracy                           0.80      1165\n",
      "   macro avg       0.53      0.57      0.53      1165\n",
      "weighted avg       0.89      0.80      0.84      1165\n",
      "\n",
      "recall_score: 0.30864197530864196\n",
      "precision_score: 0.125\n",
      "f1_score: 0.17793594306049823\n"
     ]
    }
   ],
   "source": [
    "# K=5\n",
    "\n",
    "k=5\n",
    "clf_knn = KNeighborsClassifier(n_neighbors=k)\n",
    "clf_knn.fit(X_resampled, y_resampled)\n",
    "y_pred = clf_knn.predict(X_test)\n",
    "get_result(y_test,y_pred)"
   ]
  },
  {
   "cell_type": "markdown",
   "id": "72034d0d",
   "metadata": {},
   "source": [
    "__Comment on Precision:__\n",
    "\n",
    "__k=1 Precision (0.095)__: This indicates that when considering only the nearest neighbor (k=1), the classifier is not very precise in correctly predicting instances of the positive class. It has a relatively low precision, suggesting that there are a considerable number of false positives.\n",
    "\n",
    "__k=3 Precision (0.116)__: With k=3, the precision slightly increases, but it's still relatively low. The model is becoming a bit more conservative in predicting the positive class, leading to a slightly higher precision compared to k=1.\n",
    "\n",
    "__k=5 Precision (0.125)__: As you increase the number of neighbors to 5, the precision further improves. The model considers more neighbors, which helps in reducing the impact of noise or outliers. This results in a higher precision, indicating a better ability to correctly identify instances of the positive class."
   ]
  },
  {
   "cell_type": "markdown",
   "id": "3186c42b",
   "metadata": {},
   "source": [
    "# B:-  SGD"
   ]
  },
  {
   "cell_type": "code",
   "execution_count": 20,
   "id": "32422a9b",
   "metadata": {},
   "outputs": [],
   "source": [
    "from sklearn.linear_model import SGDClassifier"
   ]
  },
  {
   "cell_type": "code",
   "execution_count": 21,
   "id": "0f2cbee0",
   "metadata": {},
   "outputs": [
    {
     "name": "stdout",
     "output_type": "stream",
     "text": [
      "******************* classification_report *********************\n",
      "              precision    recall  f1-score   support\n",
      "\n",
      "          No       0.94      0.89      0.91      1084\n",
      "         Yes       0.13      0.22      0.16        81\n",
      "\n",
      "    accuracy                           0.84      1165\n",
      "   macro avg       0.53      0.55      0.54      1165\n",
      "weighted avg       0.88      0.84      0.86      1165\n",
      "\n",
      "recall_score: 0.2222222222222222\n",
      "precision_score: 0.1267605633802817\n",
      "f1_score: 0.16143497757847533\n"
     ]
    }
   ],
   "source": [
    "clf_sgd = SGDClassifier(random_state=42)\n",
    "clf_sgd.fit(X_resampled, y_resampled)\n",
    "y_pred = clf_sgd.predict(X_test)\n",
    "get_result(y_test,y_pred)"
   ]
  },
  {
   "cell_type": "markdown",
   "id": "964bfb2d",
   "metadata": {},
   "source": [
    "# C"
   ]
  },
  {
   "cell_type": "markdown",
   "id": "c7c53757",
   "metadata": {},
   "source": [
    "__KNN (k=1) - F1-score: 0.102:__\n",
    "Relatively low F1-score, indicating a suboptimal balance between precision and recall.\n",
    "Sensitive to noise or outliers due to the small number of neighbors considered.\n",
    "\n",
    "__KNN (k=3) - F1-score: 0.146:__\n",
    "Slightly higher F1-score compared to k=1, but still relatively low.\n",
    "The model might be improving in capturing some patterns, but the overall performance is limited.\n",
    "\n",
    "__KNN (k=5) - F1-score: 0.177:__\n",
    "Higher F1-score compared to k=1 and k=3.\n",
    "Indicates better balance between precision and recall, suggesting a more robust performance.\n",
    "\n",
    "__SGDClassifier - F1-score: 0.161:__\n",
    "High F1-score as compared to K=1 and K=3\n",
    "Indicates better performance, able to capture patterns or generalize from the data.\n",
    "\n",
    "Among the classifiers, the KNN classifier with __k=5__ appears to perform relatively better in terms of finding patterns in the dataset, as indicated by the higher F1-score."
   ]
  }
 ],
 "metadata": {
  "kernelspec": {
   "display_name": "Python (myNEWenv)",
   "language": "python",
   "name": "mynewenv"
  },
  "language_info": {
   "codemirror_mode": {
    "name": "ipython",
    "version": 3
   },
   "file_extension": ".py",
   "mimetype": "text/x-python",
   "name": "python",
   "nbconvert_exporter": "python",
   "pygments_lexer": "ipython3",
   "version": "3.10.12"
  }
 },
 "nbformat": 4,
 "nbformat_minor": 5
}
