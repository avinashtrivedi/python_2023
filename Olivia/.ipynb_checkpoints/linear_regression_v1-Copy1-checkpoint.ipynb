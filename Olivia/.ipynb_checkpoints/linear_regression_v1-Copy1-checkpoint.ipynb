{
 "cells": [
  {
   "cell_type": "code",
   "execution_count": 1,
   "id": "89c1fbcb",
   "metadata": {},
   "outputs": [],
   "source": [
    "import pandas as pd\n",
    "import numpy as np\n",
    "import matplotlib.pyplot as plt"
   ]
  },
  {
   "cell_type": "code",
   "execution_count": 2,
   "id": "4b08ae6a",
   "metadata": {},
   "outputs": [],
   "source": [
    "baseball = pd.read_table('http://jse.amstat.org/datasets/baseball.dat.txt', header = None, \n",
    "                         sep= \"\\s+\", names = [\"salary\", \"batting.avg\", \"OBP\",\"runs\", \"hits\", \"doubles\", \"triples\", \n",
    "                                              \"homeruns\", \"RBI\", \"walks\", \"strike.outs\", \"stolen.bases\", \"errors\", \"free.agency.elig\", \"free.agent.91\", \"arb.elig\", \"arb.91\", \"name\"])"
   ]
  },
  {
   "cell_type": "code",
   "execution_count": 3,
   "id": "8175462a",
   "metadata": {},
   "outputs": [
    {
     "data": {
      "text/html": [
       "<div>\n",
       "<style scoped>\n",
       "    .dataframe tbody tr th:only-of-type {\n",
       "        vertical-align: middle;\n",
       "    }\n",
       "\n",
       "    .dataframe tbody tr th {\n",
       "        vertical-align: top;\n",
       "    }\n",
       "\n",
       "    .dataframe thead th {\n",
       "        text-align: right;\n",
       "    }\n",
       "</style>\n",
       "<table border=\"1\" class=\"dataframe\">\n",
       "  <thead>\n",
       "    <tr style=\"text-align: right;\">\n",
       "      <th></th>\n",
       "      <th>salary</th>\n",
       "      <th>batting.avg</th>\n",
       "      <th>OBP</th>\n",
       "      <th>runs</th>\n",
       "      <th>hits</th>\n",
       "      <th>doubles</th>\n",
       "      <th>triples</th>\n",
       "      <th>homeruns</th>\n",
       "      <th>RBI</th>\n",
       "      <th>walks</th>\n",
       "      <th>strike.outs</th>\n",
       "      <th>stolen.bases</th>\n",
       "      <th>errors</th>\n",
       "      <th>free.agency.elig</th>\n",
       "      <th>free.agent.91</th>\n",
       "      <th>arb.elig</th>\n",
       "      <th>arb.91</th>\n",
       "      <th>name</th>\n",
       "    </tr>\n",
       "  </thead>\n",
       "  <tbody>\n",
       "    <tr>\n",
       "      <th>0</th>\n",
       "      <td>3300</td>\n",
       "      <td>0.272</td>\n",
       "      <td>0.302</td>\n",
       "      <td>69</td>\n",
       "      <td>153</td>\n",
       "      <td>21</td>\n",
       "      <td>4</td>\n",
       "      <td>31</td>\n",
       "      <td>104</td>\n",
       "      <td>22</td>\n",
       "      <td>80</td>\n",
       "      <td>4</td>\n",
       "      <td>3</td>\n",
       "      <td>1</td>\n",
       "      <td>0</td>\n",
       "      <td>0</td>\n",
       "      <td>0</td>\n",
       "      <td>Andre Dawson</td>\n",
       "    </tr>\n",
       "    <tr>\n",
       "      <th>1</th>\n",
       "      <td>2600</td>\n",
       "      <td>0.269</td>\n",
       "      <td>0.335</td>\n",
       "      <td>58</td>\n",
       "      <td>111</td>\n",
       "      <td>17</td>\n",
       "      <td>2</td>\n",
       "      <td>18</td>\n",
       "      <td>66</td>\n",
       "      <td>39</td>\n",
       "      <td>69</td>\n",
       "      <td>0</td>\n",
       "      <td>3</td>\n",
       "      <td>1</td>\n",
       "      <td>1</td>\n",
       "      <td>0</td>\n",
       "      <td>0</td>\n",
       "      <td>Steve Buchele</td>\n",
       "    </tr>\n",
       "    <tr>\n",
       "      <th>2</th>\n",
       "      <td>2500</td>\n",
       "      <td>0.249</td>\n",
       "      <td>0.337</td>\n",
       "      <td>54</td>\n",
       "      <td>115</td>\n",
       "      <td>15</td>\n",
       "      <td>1</td>\n",
       "      <td>17</td>\n",
       "      <td>73</td>\n",
       "      <td>63</td>\n",
       "      <td>116</td>\n",
       "      <td>6</td>\n",
       "      <td>5</td>\n",
       "      <td>1</td>\n",
       "      <td>0</td>\n",
       "      <td>0</td>\n",
       "      <td>0</td>\n",
       "      <td>Kal Daniels</td>\n",
       "    </tr>\n",
       "    <tr>\n",
       "      <th>3</th>\n",
       "      <td>2475</td>\n",
       "      <td>0.260</td>\n",
       "      <td>0.292</td>\n",
       "      <td>59</td>\n",
       "      <td>128</td>\n",
       "      <td>22</td>\n",
       "      <td>7</td>\n",
       "      <td>12</td>\n",
       "      <td>50</td>\n",
       "      <td>23</td>\n",
       "      <td>64</td>\n",
       "      <td>21</td>\n",
       "      <td>21</td>\n",
       "      <td>0</td>\n",
       "      <td>0</td>\n",
       "      <td>1</td>\n",
       "      <td>0</td>\n",
       "      <td>Shawon Dunston</td>\n",
       "    </tr>\n",
       "    <tr>\n",
       "      <th>4</th>\n",
       "      <td>2313</td>\n",
       "      <td>0.273</td>\n",
       "      <td>0.346</td>\n",
       "      <td>87</td>\n",
       "      <td>169</td>\n",
       "      <td>28</td>\n",
       "      <td>5</td>\n",
       "      <td>8</td>\n",
       "      <td>58</td>\n",
       "      <td>70</td>\n",
       "      <td>53</td>\n",
       "      <td>3</td>\n",
       "      <td>8</td>\n",
       "      <td>0</td>\n",
       "      <td>0</td>\n",
       "      <td>1</td>\n",
       "      <td>0</td>\n",
       "      <td>Mark Grace</td>\n",
       "    </tr>\n",
       "  </tbody>\n",
       "</table>\n",
       "</div>"
      ],
      "text/plain": [
       "   salary  batting.avg    OBP  runs  hits  doubles  triples  homeruns  RBI  \\\n",
       "0    3300        0.272  0.302    69   153       21        4        31  104   \n",
       "1    2600        0.269  0.335    58   111       17        2        18   66   \n",
       "2    2500        0.249  0.337    54   115       15        1        17   73   \n",
       "3    2475        0.260  0.292    59   128       22        7        12   50   \n",
       "4    2313        0.273  0.346    87   169       28        5         8   58   \n",
       "\n",
       "   walks  strike.outs  stolen.bases  errors  free.agency.elig  free.agent.91  \\\n",
       "0     22           80             4       3                 1              0   \n",
       "1     39           69             0       3                 1              1   \n",
       "2     63          116             6       5                 1              0   \n",
       "3     23           64            21      21                 0              0   \n",
       "4     70           53             3       8                 0              0   \n",
       "\n",
       "   arb.elig  arb.91               name  \n",
       "0         0       0  Andre Dawson       \n",
       "1         0       0  Steve Buchele      \n",
       "2         0       0  Kal Daniels        \n",
       "3         1       0  Shawon Dunston     \n",
       "4         1       0  Mark Grace         "
      ]
     },
     "execution_count": 3,
     "metadata": {},
     "output_type": "execute_result"
    }
   ],
   "source": [
    "baseball.head()"
   ]
  },
  {
   "cell_type": "markdown",
   "id": "a7b5b201",
   "metadata": {},
   "source": [
    "# Q1 - Exploratory Data Analysis\n",
    "\n",
    "__a)__"
   ]
  },
  {
   "cell_type": "code",
   "execution_count": 4,
   "id": "7812ce2b",
   "metadata": {},
   "outputs": [
    {
     "data": {
      "image/png": "[encoded data removed]",
      "text/plain": [
       "<Figure size 640x480 with 1 Axes>"
      ]
     },
     "metadata": {},
     "output_type": "display_data"
    }
   ],
   "source": [
    "salaries = baseball['salary']\n",
    "plt.hist(salaries, bins=10, edgecolor='k')\n",
    "plt.title('Salary Histogram')\n",
    "plt.xlabel('Salary')\n",
    "plt.ylabel('Frequency')\n",
    "plt.show()"
   ]
  },
  {
   "cell_type": "code",
   "execution_count": 5,
   "id": "e57904ea",
   "metadata": {},
   "outputs": [
    {
     "data": {
      "image/png": "[encoded data removed]",
      "text/plain": [
       "<Figure size 640x480 with 1 Axes>"
      ]
     },
     "metadata": {},
     "output_type": "display_data"
    }
   ],
   "source": [
    "log_salaries = [np.log(salary) for salary in salaries]\n",
    "\n",
    "plt.hist(log_salaries, bins=10, edgecolor='k')\n",
    "plt.title('Histogram of Natural Logarithm of Salary')\n",
    "plt.xlabel('Logarithm of Salary')\n",
    "plt.ylabel('Frequency')\n",
    "plt.show()"
   ]
  },
  {
   "cell_type": "markdown",
   "id": "70f19aaf",
   "metadata": {},
   "source": [
    "- The majority of salaries are of small amounts.\n",
    "- The distribution of the salary is skewed to the right\n",
    "- The distribution of the log-transformed salary is approximately normal."
   ]
  },
  {
   "cell_type": "markdown",
   "id": "ad136652",
   "metadata": {},
   "source": [
    "__b)__"
   ]
  },
  {
   "cell_type": "code",
   "execution_count": 6,
   "id": "8d45a7bd",
   "metadata": {},
   "outputs": [],
   "source": [
    "baseball['salary'] = log_salaries"
   ]
  },
  {
   "cell_type": "code",
   "execution_count": 7,
   "id": "b50abd1a",
   "metadata": {},
   "outputs": [
    {
     "data": {
      "text/plain": [
       "salary              0\n",
       "batting.avg         0\n",
       "OBP                 0\n",
       "runs                0\n",
       "hits                0\n",
       "doubles             0\n",
       "triples             0\n",
       "homeruns            0\n",
       "RBI                 0\n",
       "walks               0\n",
       "strike.outs         0\n",
       "stolen.bases        0\n",
       "errors              0\n",
       "free.agency.elig    0\n",
       "free.agent.91       0\n",
       "arb.elig            0\n",
       "arb.91              0\n",
       "name                0\n",
       "dtype: int64"
      ]
     },
     "execution_count": 7,
     "metadata": {},
     "output_type": "execute_result"
    }
   ],
   "source": [
    "baseball.isna().sum()"
   ]
  },
  {
   "cell_type": "markdown",
   "id": "45f69881",
   "metadata": {},
   "source": [
    "__There are no any missing data__"
   ]
  },
  {
   "cell_type": "code",
   "execution_count": 8,
   "id": "b764c1e4",
   "metadata": {},
   "outputs": [
    {
     "data": {
      "text/plain": [
       "salary              float64\n",
       "batting.avg         float64\n",
       "OBP                 float64\n",
       "runs                  int64\n",
       "hits                  int64\n",
       "doubles               int64\n",
       "triples               int64\n",
       "homeruns              int64\n",
       "RBI                   int64\n",
       "walks                 int64\n",
       "strike.outs           int64\n",
       "stolen.bases          int64\n",
       "errors                int64\n",
       "free.agency.elig      int64\n",
       "free.agent.91         int64\n",
       "arb.elig              int64\n",
       "arb.91                int64\n",
       "name                 object\n",
       "dtype: object"
      ]
     },
     "execution_count": 8,
     "metadata": {},
     "output_type": "execute_result"
    }
   ],
   "source": [
    "baseball.dtypes"
   ]
  },
  {
   "cell_type": "code",
   "execution_count": 9,
   "id": "76c8f366",
   "metadata": {},
   "outputs": [
    {
     "data": {
      "text/plain": [
       "3"
      ]
     },
     "execution_count": 9,
     "metadata": {},
     "output_type": "execute_result"
    }
   ],
   "source": [
    "len(list(baseball.select_dtypes('float'))) # number of float predictor"
   ]
  },
  {
   "cell_type": "code",
   "execution_count": 10,
   "id": "c9356d31",
   "metadata": {},
   "outputs": [
    {
     "data": {
      "text/plain": [
       "14"
      ]
     },
     "execution_count": 10,
     "metadata": {},
     "output_type": "execute_result"
    }
   ],
   "source": [
    "len(list(baseball.select_dtypes('int'))) # number of int predictor"
   ]
  },
  {
   "cell_type": "code",
   "execution_count": 11,
   "id": "946d98f6",
   "metadata": {},
   "outputs": [
    {
     "data": {
      "text/plain": [
       "1"
      ]
     },
     "execution_count": 11,
     "metadata": {},
     "output_type": "execute_result"
    }
   ],
   "source": [
    "len(list(baseball.select_dtypes('object'))) # number of object predictor"
   ]
  },
  {
   "cell_type": "markdown",
   "id": "66838da5",
   "metadata": {},
   "source": [
    "# Q2\n",
    "\n",
    "__a__"
   ]
  },
  {
   "cell_type": "code",
   "execution_count": 12,
   "id": "401da2d6",
   "metadata": {},
   "outputs": [],
   "source": [
    "from sklearn.model_selection import train_test_split"
   ]
  },
  {
   "cell_type": "code",
   "execution_count": 13,
   "id": "6f764c26",
   "metadata": {},
   "outputs": [],
   "source": [
    "D0,D1 = train_test_split(baseball, test_size=0.33, random_state=42)"
   ]
  },
  {
   "cell_type": "code",
   "execution_count": 14,
   "id": "41540e25",
   "metadata": {},
   "outputs": [],
   "source": [
    "D0_xtrain = D0.drop(columns=['salary','name'],axis=1)\n",
    "D0_ytrain = D0['salary']"
   ]
  },
  {
   "cell_type": "code",
   "execution_count": 15,
   "id": "e93230d4",
   "metadata": {},
   "outputs": [],
   "source": [
    "D1_xtest = D1.drop(columns=['salary','name'],axis=1)\n",
    "D1_ytest = D1['salary']"
   ]
  },
  {
   "cell_type": "code",
   "execution_count": 16,
   "id": "c06659ea",
   "metadata": {},
   "outputs": [],
   "source": [
    "X_train, X_test, y_train, y_test = D0_xtrain,D1_xtest,D0_ytrain,D1_ytest"
   ]
  },
  {
   "cell_type": "markdown",
   "id": "ce5ef71f",
   "metadata": {},
   "source": [
    "__b__ , __c__ , __d__ and __e__"
   ]
  },
  {
   "cell_type": "code",
   "execution_count": 17,
   "id": "a310190b",
   "metadata": {},
   "outputs": [],
   "source": [
    "from sklearn.model_selection import train_test_split\n",
    "from sklearn.linear_model import LinearRegression, Lasso, Ridge, ElasticNet\n",
    "from sklearn.metrics import mean_squared_error"
   ]
  },
  {
   "cell_type": "code",
   "execution_count": 18,
   "id": "3f06dd02",
   "metadata": {},
   "outputs": [],
   "source": [
    "# Linear Regression\n",
    "lr = LinearRegression()\n",
    "lr.fit(X_train, y_train)\n",
    "lr_predictions = lr.predict(X_test)\n",
    "lr_rmse = np.sqrt(mean_squared_error(y_test, lr_predictions))"
   ]
  },
  {
   "cell_type": "code",
   "execution_count": 19,
   "id": "549cdf3f",
   "metadata": {},
   "outputs": [
    {
     "data": {
      "text/plain": [
       "array([-0.36969271, -1.0461816 , -0.00716147,  0.00816538, -0.00433332,\n",
       "       -0.01289436,  0.00378515,  0.00998208,  0.0062583 , -0.00362073,\n",
       "        0.00343273, -0.01189812,  1.70005274, -0.47649664,  1.36579804,\n",
       "       -0.13711863])"
      ]
     },
     "execution_count": 19,
     "metadata": {},
     "output_type": "execute_result"
    }
   ],
   "source": [
    "lr.coef_"
   ]
  },
  {
   "cell_type": "code",
   "execution_count": 20,
   "id": "12c0d5f3",
   "metadata": {},
   "outputs": [
    {
     "data": {
      "text/plain": [
       "5.314525330180657"
      ]
     },
     "execution_count": 20,
     "metadata": {},
     "output_type": "execute_result"
    }
   ],
   "source": [
    "lr.intercept_"
   ]
  },
  {
   "cell_type": "code",
   "execution_count": 21,
   "id": "296a025c",
   "metadata": {},
   "outputs": [
    {
     "name": "stdout",
     "output_type": "stream",
     "text": [
      "Linear Regression MSE: 0.5871109361189645\n",
      "Lasso Regression MSE: 0.32510929714762565\n",
      "Ridge Regression MSE: 0.34476688544175565\n",
      "Elastic Net MSE: 0.32765837225001526\n"
     ]
    }
   ],
   "source": [
    "# Lasso Regression (L1 Regularization)\n",
    "lasso = Lasso(alpha=0.01)  # Adjust the alpha value as needed\n",
    "lasso.fit(X_train, y_train)\n",
    "lasso_predictions = lasso.predict(X_test)\n",
    "lasso_rmse = mean_squared_error(y_test, lasso_predictions)\n",
    "\n",
    "# Ridge Regression (L2 Regularization)\n",
    "ridge = Ridge(alpha=0.01)  # Adjust the alpha value as needed\n",
    "ridge.fit(X_train, y_train)\n",
    "ridge_predictions = ridge.predict(X_test)\n",
    "ridge_rmse = mean_squared_error(y_test, ridge_predictions)\n",
    "\n",
    "# Elastic Net (L1 + L2 Regularization)\n",
    "elastic_net = ElasticNet(alpha=0.01, l1_ratio=0.5)  # Adjust alpha and l1_ratio as needed\n",
    "elastic_net.fit(X_train, y_train)\n",
    "elastic_net_predictions = elastic_net.predict(X_test)\n",
    "elastic_net_rmse = mean_squared_error(y_test, elastic_net_predictions)\n",
    "\n",
    "# Compare the MSE of different models\n",
    "print(f'Linear Regression MSE: {lr_rmse}')\n",
    "print(f'Lasso Regression MSE: {lasso_rmse}')\n",
    "print(f'Ridge Regression MSE: {ridge_rmse}')\n",
    "print(f'Elastic Net MSE: {elastic_net_rmse}')"
   ]
  },
  {
   "cell_type": "code",
   "execution_count": 22,
   "id": "f5de08ae",
   "metadata": {},
   "outputs": [
    {
     "data": {
      "text/plain": [
       "array([-0.        , -0.        , -0.00686979,  0.00759917, -0.00279971,\n",
       "       -0.0067823 ,  0.00521737,  0.00991726,  0.00518611, -0.00319729,\n",
       "        0.00342705, -0.01180533,  1.55569973, -0.28110256,  1.23202657,\n",
       "       -0.        ])"
      ]
     },
     "execution_count": 22,
     "metadata": {},
     "output_type": "execute_result"
    }
   ],
   "source": [
    "lasso.coef_"
   ]
  },
  {
   "cell_type": "code",
   "execution_count": 23,
   "id": "f60f31d9",
   "metadata": {},
   "outputs": [
    {
     "data": {
      "text/plain": [
       "4.940057287589946"
      ]
     },
     "execution_count": 23,
     "metadata": {},
     "output_type": "execute_result"
    }
   ],
   "source": [
    "lasso.intercept_"
   ]
  },
  {
   "cell_type": "code",
   "execution_count": 24,
   "id": "1ff07acc",
   "metadata": {},
   "outputs": [
    {
     "data": {
      "text/plain": [
       "array([-0.43833123, -0.96129137, -0.00717755,  0.00819775, -0.00433032,\n",
       "       -0.01289592,  0.00378287,  0.00999006,  0.00615041, -0.00360893,\n",
       "        0.00343329, -0.01190042,  1.6991871 , -0.47556223,  1.36508247,\n",
       "       -0.13693265])"
      ]
     },
     "execution_count": 24,
     "metadata": {},
     "output_type": "execute_result"
    }
   ],
   "source": [
    "ridge.coef_"
   ]
  },
  {
   "cell_type": "code",
   "execution_count": 25,
   "id": "89f892cc",
   "metadata": {},
   "outputs": [
    {
     "data": {
      "text/plain": [
       "5.30556181857615"
      ]
     },
     "execution_count": 25,
     "metadata": {},
     "output_type": "execute_result"
    }
   ],
   "source": [
    "ridge.intercept_"
   ]
  },
  {
   "cell_type": "code",
   "execution_count": 26,
   "id": "4501c8c6",
   "metadata": {},
   "outputs": [
    {
     "data": {
      "text/plain": [
       "4.9465840207523275"
      ]
     },
     "execution_count": 26,
     "metadata": {},
     "output_type": "execute_result"
    }
   ],
   "source": [
    "elastic_net.intercept_"
   ]
  },
  {
   "cell_type": "code",
   "execution_count": 27,
   "id": "b70cbb9b",
   "metadata": {},
   "outputs": [
    {
     "data": {
      "text/plain": [
       "array([-0.        , -0.        , -0.00704061,  0.00788612, -0.00340598,\n",
       "       -0.00841996,  0.00524117,  0.00991467,  0.00521417, -0.00322217,\n",
       "        0.00351322, -0.01191242,  1.5458611 , -0.31358354,  1.21533817,\n",
       "       -0.        ])"
      ]
     },
     "execution_count": 27,
     "metadata": {},
     "output_type": "execute_result"
    }
   ],
   "source": [
    "elastic_net.coef_"
   ]
  },
  {
   "cell_type": "markdown",
   "id": "6b433dcd",
   "metadata": {},
   "source": [
    "# Q3"
   ]
  },
  {
   "cell_type": "code",
   "execution_count": 28,
   "id": "dd1c47af",
   "metadata": {},
   "outputs": [],
   "source": [
    "best_model = lasso # since its having lowest MSE"
   ]
  },
  {
   "cell_type": "code",
   "execution_count": 29,
   "id": "55361ed3",
   "metadata": {},
   "outputs": [],
   "source": [
    "X_full = pd.concat([X_train,X_test])\n",
    "y_full = pd.concat([y_train,y_test])"
   ]
  },
  {
   "cell_type": "code",
   "execution_count": 30,
   "id": "afa0520c",
   "metadata": {},
   "outputs": [
    {
     "data": {
      "text/html": [
       "<style>#sk-container-id-1 {color: black;background-color: white;}#sk-container-id-1 pre{padding: 0;}#sk-container-id-1 div.sk-toggleable {background-color: white;}#sk-container-id-1 label.sk-toggleable__label {cursor: pointer;display: block;width: 100%;margin-bottom: 0;padding: 0.3em;box-sizing: border-box;text-align: center;}#sk-container-id-1 label.sk-toggleable__label-arrow:before {content: \"▸\";float: left;margin-right: 0.25em;color: #696969;}#sk-container-id-1 label.sk-toggleable__label-arrow:hover:before {color: black;}#sk-container-id-1 div.sk-estimator:hover label.sk-toggleable__label-arrow:before {color: black;}#sk-container-id-1 div.sk-toggleable__content {max-height: 0;max-width: 0;overflow: hidden;text-align: left;background-color: #f0f8ff;}#sk-container-id-1 div.sk-toggleable__content pre {margin: 0.2em;color: black;border-radius: 0.25em;background-color: #f0f8ff;}#sk-container-id-1 input.sk-toggleable__control:checked~div.sk-toggleable__content {max-height: 200px;max-width: 100%;overflow: auto;}#sk-container-id-1 input.sk-toggleable__control:checked~label.sk-toggleable__label-arrow:before {content: \"▾\";}#sk-container-id-1 div.sk-estimator input.sk-toggleable__control:checked~label.sk-toggleable__label {background-color: #d4ebff;}#sk-container-id-1 div.sk-label input.sk-toggleable__control:checked~label.sk-toggleable__label {background-color: #d4ebff;}#sk-container-id-1 input.sk-hidden--visually {border: 0;clip: rect(1px 1px 1px 1px);clip: rect(1px, 1px, 1px, 1px);height: 1px;margin: -1px;overflow: hidden;padding: 0;position: absolute;width: 1px;}#sk-container-id-1 div.sk-estimator {font-family: monospace;background-color: #f0f8ff;border: 1px dotted black;border-radius: 0.25em;box-sizing: border-box;margin-bottom: 0.5em;}#sk-container-id-1 div.sk-estimator:hover {background-color: #d4ebff;}#sk-container-id-1 div.sk-parallel-item::after {content: \"\";width: 100%;border-bottom: 1px solid gray;flex-grow: 1;}#sk-container-id-1 div.sk-label:hover label.sk-toggleable__label {background-color: #d4ebff;}#sk-container-id-1 div.sk-serial::before {content: \"\";position: absolute;border-left: 1px solid gray;box-sizing: border-box;top: 0;bottom: 0;left: 50%;z-index: 0;}#sk-container-id-1 div.sk-serial {display: flex;flex-direction: column;align-items: center;background-color: white;padding-right: 0.2em;padding-left: 0.2em;position: relative;}#sk-container-id-1 div.sk-item {position: relative;z-index: 1;}#sk-container-id-1 div.sk-parallel {display: flex;align-items: stretch;justify-content: center;background-color: white;position: relative;}#sk-container-id-1 div.sk-item::before, #sk-container-id-1 div.sk-parallel-item::before {content: \"\";position: absolute;border-left: 1px solid gray;box-sizing: border-box;top: 0;bottom: 0;left: 50%;z-index: -1;}#sk-container-id-1 div.sk-parallel-item {display: flex;flex-direction: column;z-index: 1;position: relative;background-color: white;}#sk-container-id-1 div.sk-parallel-item:first-child::after {align-self: flex-end;width: 50%;}#sk-container-id-1 div.sk-parallel-item:last-child::after {align-self: flex-start;width: 50%;}#sk-container-id-1 div.sk-parallel-item:only-child::after {width: 0;}#sk-container-id-1 div.sk-dashed-wrapped {border: 1px dashed gray;margin: 0 0.4em 0.5em 0.4em;box-sizing: border-box;padding-bottom: 0.4em;background-color: white;}#sk-container-id-1 div.sk-label label {font-family: monospace;font-weight: bold;display: inline-block;line-height: 1.2em;}#sk-container-id-1 div.sk-label-container {text-align: center;}#sk-container-id-1 div.sk-container {/* jupyter's `normalize.less` sets `[hidden] { display: none; }` but bootstrap.min.css set `[hidden] { display: none !important; }` so we also need the `!important` here to be able to override the default hidden behavior on the sphinx rendered scikit-learn.org. See: https://github.com/scikit-learn/scikit-learn/issues/21755 */display: inline-block !important;position: relative;}#sk-container-id-1 div.sk-text-repr-fallback {display: none;}</style><div id=\"sk-container-id-1\" class=\"sk-top-container\"><div class=\"sk-text-repr-fallback\"><pre>Lasso(alpha=0.01)</pre><b>In a Jupyter environment, please rerun this cell to show the HTML representation or trust the notebook. <br />On GitHub, the HTML representation is unable to render, please try loading this page with nbviewer.org.</b></div><div class=\"sk-container\" hidden><div class=\"sk-item\"><div class=\"sk-estimator sk-toggleable\"><input class=\"sk-toggleable__control sk-hidden--visually\" id=\"sk-estimator-id-1\" type=\"checkbox\" checked><label for=\"sk-estimator-id-1\" class=\"sk-toggleable__label sk-toggleable__label-arrow\">Lasso</label><div class=\"sk-toggleable__content\"><pre>Lasso(alpha=0.01)</pre></div></div></div></div></div>"
      ],
      "text/plain": [
       "Lasso(alpha=0.01)"
      ]
     },
     "execution_count": 30,
     "metadata": {},
     "output_type": "execute_result"
    }
   ],
   "source": [
    "best_model.fit(X_full, y_full)"
   ]
  },
  {
   "cell_type": "code",
   "execution_count": 31,
   "id": "512edcb3",
   "metadata": {},
   "outputs": [
    {
     "data": {
      "text/plain": [
       "array([-0.00000000e+00, -0.00000000e+00,  5.93976754e-04,  5.42565702e-03,\n",
       "       -1.68567547e-03, -1.45340161e-02,  5.64885284e-03,  9.84469800e-03,\n",
       "        2.99658311e-03, -4.96829997e-03,  4.79831399e-03, -8.18904734e-03,\n",
       "        1.44111662e+00, -7.50010250e-02,  1.19043959e+00, -0.00000000e+00])"
      ]
     },
     "execution_count": 31,
     "metadata": {},
     "output_type": "execute_result"
    }
   ],
   "source": [
    "lasso.coef_"
   ]
  },
  {
   "cell_type": "code",
   "execution_count": 32,
   "id": "8a7e24b7",
   "metadata": {},
   "outputs": [
    {
     "data": {
      "text/plain": [
       "4.980052952609238"
      ]
     },
     "execution_count": 32,
     "metadata": {},
     "output_type": "execute_result"
    }
   ],
   "source": [
    "lasso.intercept_"
   ]
  },
  {
   "cell_type": "markdown",
   "id": "bd5de45a",
   "metadata": {},
   "source": [
    "These arrays essentially tell you which features are retained (non-zero coefficients) and which features are removed (zero coefficients) by the Lasso regularization. It also reflects feature selection (shrinkage to zero) .The magnitude of the coefficient values also gives you an idea of the relative importance of each retained feature. Features with larger non-zero coefficients have a more significant impact on predictions."
   ]
  },
  {
   "cell_type": "markdown",
   "id": "1a4e56c6",
   "metadata": {},
   "source": [
    "# Q4"
   ]
  },
  {
   "cell_type": "code",
   "execution_count": 41,
   "id": "7d7b1e31",
   "metadata": {},
   "outputs": [],
   "source": [
    "# Load the test dataset\n",
    "test_data = pd.read_csv('bb92-test-2.csv')\n",
    "X_test = test_data\n",
    "# X_test = test_data.drop(columns=['salary','name'],axis=1)\n",
    "\n",
    "# Predict logsalary for the test dataset\n",
    "y_pred_logsalary = best_model.predict(X_test)\n",
    "\n",
    "# Transform the predicted logsalary back to regular salary values\n",
    "y_pred_salary = np.exp(y_pred_logsalary)\n",
    "\n",
    "# # Plot an error bar plot\n",
    "# players = test_data['name'].tolist()\n",
    "# actual_salary = test_data['salary'].tolist()\n",
    "\n",
    "# # Calculate the errors\n",
    "# errors = np.abs(actual_salary - y_pred_salary)\n",
    "\n",
    "# plt.figure(figsize=(12, 6))\n",
    "# plt.bar(players, y_pred_salary, yerr=errors, capsize=5)\n",
    "# plt.xlabel('Players Name')\n",
    "# plt.ylabel('Predicted Salary')\n",
    "# plt.title('Predicted Salary with Error Bars')\n",
    "# plt.xticks(rotation=90)\n",
    "# plt.tight_layout()\n",
    "\n",
    "# plt.show()"
   ]
  },
  {
   "cell_type": "code",
   "execution_count": 42,
   "id": "da2866dd",
   "metadata": {},
   "outputs": [
    {
     "data": {
      "text/plain": [
       "array([ 193.99277644,  738.11004372, 1491.73645601,  296.90770536,\n",
       "        256.62626939,  840.09070692,  514.77584356,  464.44296128,\n",
       "        676.73154474, 1218.90520414,  901.32430878,  667.18192992,\n",
       "       2808.4470334 ,  214.17797688,  494.88745716, 1760.35009755,\n",
       "       1031.35996575, 1267.94012992,  418.92321365,  264.29136747])"
      ]
     },
     "execution_count": 42,
     "metadata": {},
     "output_type": "execute_result"
    }
   ],
   "source": [
    "y_pred_salary"
   ]
  },
  {
   "cell_type": "code",
   "execution_count": null,
   "id": "14e276ad",
   "metadata": {},
   "outputs": [],
   "source": []
  }
 ],
 "metadata": {
  "kernelspec": {
   "display_name": "Python (myNEWenv)",
   "language": "python",
   "name": "mynewenv"
  },
  "language_info": {
   "codemirror_mode": {
    "name": "ipython",
    "version": 3
   },
   "file_extension": ".py",
   "mimetype": "text/x-python",
   "name": "python",
   "nbconvert_exporter": "python",
   "pygments_lexer": "ipython3",
   "version": "3.10.12"
  }
 },
 "nbformat": 4,
 "nbformat_minor": 5
}
