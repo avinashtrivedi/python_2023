{
 "cells": [
  {
   "cell_type": "code",
   "execution_count": 1,
   "id": "f8c37c6a",
   "metadata": {},
   "outputs": [
    {
     "name": "stdout",
     "output_type": "stream",
     "text": [
      "Principal Component Y1: [0.89442719 0.4472136 ]\n",
      "Principal Component Y2: [-0.4472136   0.89442719]\n",
      "Proportion of Variance Explained by Y1: 0.8571428571428571\n"
     ]
    }
   ],
   "source": [
    "import numpy as np\n",
    "\n",
    "# Given covariance matrix\n",
    "cov_matrix = np.array([[5, 2],\n",
    "                        [2, 2]])\n",
    "\n",
    "# Step 1: Calculate the eigenvalues and eigenvectors of the covariance matrix\n",
    "eigenvalues, eigenvectors = np.linalg.eig(cov_matrix)\n",
    "\n",
    "# Step 2: Sort the eigenvalues and eigenvectors in descending order\n",
    "sorted_indices = np.argsort(eigenvalues)[::-1]\n",
    "eigenvalues = eigenvalues[sorted_indices]\n",
    "eigenvectors = eigenvectors[:, sorted_indices]\n",
    "\n",
    "# Step 3: Calculate the proportion of total variance explained by each principal component\n",
    "total_variance = np.trace(cov_matrix)\n",
    "variance_explained = eigenvalues / total_variance\n",
    "\n",
    "# Step 4: Calculate the principal components (Y1 and Y2)\n",
    "# Y1 is the first principal component (eigenvector corresponding to the largest eigenvalue)\n",
    "Y1 = eigenvectors[:, 0]\n",
    "# Y2 is the second principal component (eigenvector corresponding to the second largest eigenvalue)\n",
    "Y2 = eigenvectors[:, 1]\n",
    "\n",
    "# Print the results\n",
    "print(\"Principal Component Y1:\", Y1)\n",
    "print(\"Principal Component Y2:\", Y2)\n",
    "print(\"Proportion of Variance Explained by Y1:\", variance_explained[0])\n"
   ]
  },
  {
   "cell_type": "code",
   "execution_count": 2,
   "id": "997fc7fb",
   "metadata": {},
   "outputs": [
    {
     "data": {
      "text/plain": [
       "array([6., 1.])"
      ]
     },
     "execution_count": 2,
     "metadata": {},
     "output_type": "execute_result"
    }
   ],
   "source": [
    "eigenvalues"
   ]
  },
  {
   "cell_type": "markdown",
   "id": "9e720a2e",
   "metadata": {},
   "source": [
    "Proportion of variance explained by principal component i = eigenvalue_i / sum(eigenvalues)"
   ]
  },
  {
   "cell_type": "markdown",
   "id": "902ce081",
   "metadata": {},
   "source": [
    "- Proportion of variance explained by Y1 = 7 / (7 + 3) = 85.71%\n",
    "- Proportion of variance explained by Y2 = 3 / (7 + 3) = 14.29%"
   ]
  },
  {
   "cell_type": "markdown",
   "id": "269bc7a1",
   "metadata": {},
   "source": [
    "Therefore, the first principal component, Y1, explains 85.71% of the variance in the data, while the second principal component, Y2, explains 14.29% of the variance in the data. This suggests that a significant portion of the dataset's variability can be captured by considering only the first principal component."
   ]
  },
  {
   "cell_type": "markdown",
   "id": "e316d58b",
   "metadata": {},
   "source": [
    "Also, the first principal component has a much larger eigenvalue than the second principal component. This means that the first principal component captures much more of the variance in the data than the second principal component."
   ]
  },
  {
   "cell_type": "markdown",
   "id": "a318ef77",
   "metadata": {},
   "source": [
    "__Interesting Findings__: \n",
    "The fact that Y1 explains a significant portion of the variance implies that the original variables in the dataset are correlated and can be efficiently represented using just one component. This could indicate a high degree of redundancy or multicollinearity among the variables."
   ]
  },
  {
   "cell_type": "code",
   "execution_count": null,
   "id": "7f68cf6f",
   "metadata": {},
   "outputs": [],
   "source": []
  }
 ],
 "metadata": {
  "kernelspec": {
   "display_name": "Python (myNEWenv)",
   "language": "python",
   "name": "mynewenv"
  },
  "language_info": {
   "codemirror_mode": {
    "name": "ipython",
    "version": 3
   },
   "file_extension": ".py",
   "mimetype": "text/x-python",
   "name": "python",
   "nbconvert_exporter": "python",
   "pygments_lexer": "ipython3",
   "version": "3.10.12"
  }
 },
 "nbformat": 4,
 "nbformat_minor": 5
}
