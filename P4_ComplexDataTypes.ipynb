{
 "cells": [
  {
   "cell_type": "markdown",
   "metadata": {},
   "source": [
    "# Practice 4 - Working with Complex Data Types\n",
    "\n",
    "\n",
    "Here we will explore the use of iteration, factors, and dates in the analysis of R data. Each of these data types presents unique and important challenges to the data scientist new to R. The more you work with these libraries and data types, the better shape you will be in. It's a little bit like data science push-ups."
   ]
  },
  {
   "cell_type": "markdown",
   "metadata": {},
   "source": [
    "**Task 1:** Load the [ggplot2](https://web.dsa.missouri.edu/static/PDF/R/ggplot2.pdf), [lubridate](https://web.dsa.missouri.edu/static/PDF/R/lubridate.pdf), and [dplyr](https://web.dsa.missouri.edu/static/PDF/R/dplyr.pdf) libraries."
   ]
  },
  {
   "cell_type": "code",
   "execution_count": 1,
   "metadata": {
    "scrolled": true
   },
   "outputs": [],
   "source": [
    "## 1.  Develop your code for Task 1 here.\n",
    "## ---------------------------------------\n",
    "suppressMessages(library('dplyr'))\n",
    "suppressMessages(library('lubridate'))\n",
    "suppressMessages(library('ggplot2'))\n"
   ]
  },
  {
   "cell_type": "markdown",
   "metadata": {},
   "source": [
    "**Task 2:** \n",
    "- Read the \"/dsa/data/all_datasets/Shooting_Victims.csv\" shooting victim csv into a new data frame, reading strings as characters. \n",
    "- Output the first 5 rows of the data frame to the screen."
   ]
  },
  {
   "cell_type": "code",
   "execution_count": 2,
   "metadata": {
    "scrolled": true
   },
   "outputs": [
    {
     "data": {
      "text/html": [
       "<table>\n",
       "<caption>A data.frame: 5 × 19</caption>\n",
       "<thead>\n",
       "\t<tr><th scope=col>DIST</th><th scope=col>DC_KEY</th><th scope=col>CODE</th><th scope=col>DATE_</th><th scope=col>TIME</th><th scope=col>RACE</th><th scope=col>SEX</th><th scope=col>LATINO</th><th scope=col>AGE</th><th scope=col>WOUND</th><th scope=col>INSIDE</th><th scope=col>OUTSIDE</th><th scope=col>FATAL</th><th scope=col>OFFICER_INVOLVED</th><th scope=col>OFFENDER_INJURED</th><th scope=col>OFFENDER_DECEASED</th><th scope=col>LOCATION</th><th scope=col>SHAPE</th><th scope=col>Police.Districts</th></tr>\n",
       "\t<tr><th scope=col>&lt;int&gt;</th><th scope=col>&lt;dbl&gt;</th><th scope=col>&lt;int&gt;</th><th scope=col>&lt;chr&gt;</th><th scope=col>&lt;chr&gt;</th><th scope=col>&lt;chr&gt;</th><th scope=col>&lt;chr&gt;</th><th scope=col>&lt;int&gt;</th><th scope=col>&lt;int&gt;</th><th scope=col>&lt;chr&gt;</th><th scope=col>&lt;int&gt;</th><th scope=col>&lt;int&gt;</th><th scope=col>&lt;int&gt;</th><th scope=col>&lt;chr&gt;</th><th scope=col>&lt;chr&gt;</th><th scope=col>&lt;chr&gt;</th><th scope=col>&lt;chr&gt;</th><th scope=col>&lt;chr&gt;</th><th scope=col>&lt;int&gt;</th></tr>\n",
       "</thead>\n",
       "<tbody>\n",
       "\t<tr><td>39</td><td>2.01539e+11</td><td>411</td><td>05/16/2015 12:00:00 AM</td><td>23:15 pm</td><td>B</td><td>M</td><td>0</td><td>18</td><td>buttocks</td><td>0</td><td>-1</td><td>0</td><td>N</td><td>N</td><td>N</td><td>2800 Block of N. Bonsall St.   </td><td>POINT (-75.169159 39.998284)</td><td>21</td></tr>\n",
       "\t<tr><td>39</td><td>2.01539e+11</td><td>411</td><td>05/25/2015 12:00:00 AM</td><td>01:40 am</td><td>B</td><td>M</td><td>0</td><td>20</td><td>hand    </td><td>0</td><td>-1</td><td>0</td><td>N</td><td>N</td><td>N</td><td>1700 Block of W. Courtland St. </td><td>POINT (-75.153064 40.023554)</td><td>20</td></tr>\n",
       "\t<tr><td>39</td><td>2.01539e+11</td><td>411</td><td>06/03/2015 12:00:00 AM</td><td>23:30 pm</td><td>B</td><td>M</td><td>0</td><td>26</td><td>leg     </td><td>0</td><td>-1</td><td>0</td><td>N</td><td>N</td><td>N</td><td>2200 Block of N. Lippencott St.</td><td>POINT (-75.166117 40.002397)</td><td>21</td></tr>\n",
       "\t<tr><td>39</td><td>2.01539e+11</td><td>411</td><td>06/13/2015 12:00:00 AM</td><td>02:31 am</td><td>B</td><td>F</td><td>0</td><td>27</td><td>leg     </td><td>0</td><td>-1</td><td>0</td><td>N</td><td>N</td><td>N</td><td>4200 Block of N. Carlisle St.  </td><td>POINT (-75.15049 40.017063) </td><td>21</td></tr>\n",
       "\t<tr><td>39</td><td>2.01539e+11</td><td>411</td><td>06/13/2015 12:00:00 AM</td><td>02:31 am</td><td>B</td><td>M</td><td>0</td><td>40</td><td>leg     </td><td>0</td><td>-1</td><td>0</td><td>N</td><td>N</td><td>N</td><td>4200 Block of N. Carlisle St.  </td><td>POINT (-75.15049 40.017063) </td><td>21</td></tr>\n",
       "</tbody>\n",
       "</table>\n"
      ],
      "text/latex": [
       "A data.frame: 5 × 19\n",
       "\\begin{tabular}{r|lllllllllllllllllll}\n",
       " DIST & DC\\_KEY & CODE & DATE\\_ & TIME & RACE & SEX & LATINO & AGE & WOUND & INSIDE & OUTSIDE & FATAL & OFFICER\\_INVOLVED & OFFENDER\\_INJURED & OFFENDER\\_DECEASED & LOCATION & SHAPE & Police.Districts\\\\\n",
       " <int> & <dbl> & <int> & <chr> & <chr> & <chr> & <chr> & <int> & <int> & <chr> & <int> & <int> & <int> & <chr> & <chr> & <chr> & <chr> & <chr> & <int>\\\\\n",
       "\\hline\n",
       "\t 39 & 2.01539e+11 & 411 & 05/16/2015 12:00:00 AM & 23:15 pm & B & M & 0 & 18 & buttocks & 0 & -1 & 0 & N & N & N & 2800 Block of N. Bonsall St.    & POINT (-75.169159 39.998284) & 21\\\\\n",
       "\t 39 & 2.01539e+11 & 411 & 05/25/2015 12:00:00 AM & 01:40 am & B & M & 0 & 20 & hand     & 0 & -1 & 0 & N & N & N & 1700 Block of W. Courtland St.  & POINT (-75.153064 40.023554) & 20\\\\\n",
       "\t 39 & 2.01539e+11 & 411 & 06/03/2015 12:00:00 AM & 23:30 pm & B & M & 0 & 26 & leg      & 0 & -1 & 0 & N & N & N & 2200 Block of N. Lippencott St. & POINT (-75.166117 40.002397) & 21\\\\\n",
       "\t 39 & 2.01539e+11 & 411 & 06/13/2015 12:00:00 AM & 02:31 am & B & F & 0 & 27 & leg      & 0 & -1 & 0 & N & N & N & 4200 Block of N. Carlisle St.   & POINT (-75.15049 40.017063)  & 21\\\\\n",
       "\t 39 & 2.01539e+11 & 411 & 06/13/2015 12:00:00 AM & 02:31 am & B & M & 0 & 40 & leg      & 0 & -1 & 0 & N & N & N & 4200 Block of N. Carlisle St.   & POINT (-75.15049 40.017063)  & 21\\\\\n",
       "\\end{tabular}\n"
      ],
      "text/markdown": [
       "\n",
       "A data.frame: 5 × 19\n",
       "\n",
       "| DIST &lt;int&gt; | DC_KEY &lt;dbl&gt; | CODE &lt;int&gt; | DATE_ &lt;chr&gt; | TIME &lt;chr&gt; | RACE &lt;chr&gt; | SEX &lt;chr&gt; | LATINO &lt;int&gt; | AGE &lt;int&gt; | WOUND &lt;chr&gt; | INSIDE &lt;int&gt; | OUTSIDE &lt;int&gt; | FATAL &lt;int&gt; | OFFICER_INVOLVED &lt;chr&gt; | OFFENDER_INJURED &lt;chr&gt; | OFFENDER_DECEASED &lt;chr&gt; | LOCATION &lt;chr&gt; | SHAPE &lt;chr&gt; | Police.Districts &lt;int&gt; |\n",
       "|---|---|---|---|---|---|---|---|---|---|---|---|---|---|---|---|---|---|---|\n",
       "| 39 | 2.01539e+11 | 411 | 05/16/2015 12:00:00 AM | 23:15 pm | B | M | 0 | 18 | buttocks | 0 | -1 | 0 | N | N | N | 2800 Block of N. Bonsall St.    | POINT (-75.169159 39.998284) | 21 |\n",
       "| 39 | 2.01539e+11 | 411 | 05/25/2015 12:00:00 AM | 01:40 am | B | M | 0 | 20 | hand     | 0 | -1 | 0 | N | N | N | 1700 Block of W. Courtland St.  | POINT (-75.153064 40.023554) | 20 |\n",
       "| 39 | 2.01539e+11 | 411 | 06/03/2015 12:00:00 AM | 23:30 pm | B | M | 0 | 26 | leg      | 0 | -1 | 0 | N | N | N | 2200 Block of N. Lippencott St. | POINT (-75.166117 40.002397) | 21 |\n",
       "| 39 | 2.01539e+11 | 411 | 06/13/2015 12:00:00 AM | 02:31 am | B | F | 0 | 27 | leg      | 0 | -1 | 0 | N | N | N | 4200 Block of N. Carlisle St.   | POINT (-75.15049 40.017063)  | 21 |\n",
       "| 39 | 2.01539e+11 | 411 | 06/13/2015 12:00:00 AM | 02:31 am | B | M | 0 | 40 | leg      | 0 | -1 | 0 | N | N | N | 4200 Block of N. Carlisle St.   | POINT (-75.15049 40.017063)  | 21 |\n",
       "\n"
      ],
      "text/plain": [
       "  DIST DC_KEY      CODE DATE_                  TIME     RACE SEX LATINO AGE\n",
       "1 39   2.01539e+11 411  05/16/2015 12:00:00 AM 23:15 pm B    M   0      18 \n",
       "2 39   2.01539e+11 411  05/25/2015 12:00:00 AM 01:40 am B    M   0      20 \n",
       "3 39   2.01539e+11 411  06/03/2015 12:00:00 AM 23:30 pm B    M   0      26 \n",
       "4 39   2.01539e+11 411  06/13/2015 12:00:00 AM 02:31 am B    F   0      27 \n",
       "5 39   2.01539e+11 411  06/13/2015 12:00:00 AM 02:31 am B    M   0      40 \n",
       "  WOUND    INSIDE OUTSIDE FATAL OFFICER_INVOLVED OFFENDER_INJURED\n",
       "1 buttocks 0      -1      0     N                N               \n",
       "2 hand     0      -1      0     N                N               \n",
       "3 leg      0      -1      0     N                N               \n",
       "4 leg      0      -1      0     N                N               \n",
       "5 leg      0      -1      0     N                N               \n",
       "  OFFENDER_DECEASED LOCATION                       \n",
       "1 N                 2800 Block of N. Bonsall St.   \n",
       "2 N                 1700 Block of W. Courtland St. \n",
       "3 N                 2200 Block of N. Lippencott St.\n",
       "4 N                 4200 Block of N. Carlisle St.  \n",
       "5 N                 4200 Block of N. Carlisle St.  \n",
       "  SHAPE                        Police.Districts\n",
       "1 POINT (-75.169159 39.998284) 21              \n",
       "2 POINT (-75.153064 40.023554) 20              \n",
       "3 POINT (-75.166117 40.002397) 21              \n",
       "4 POINT (-75.15049 40.017063)  21              \n",
       "5 POINT (-75.15049 40.017063)  21              "
      ]
     },
     "metadata": {},
     "output_type": "display_data"
    }
   ],
   "source": [
    "## 2.  Develop your code for Task 2 here.\n",
    "## ---------------------------------------\n",
    "\n",
    "shooting.victims <- read.csv(\"/dsa/data/all_datasets/Shooting_Victims.csv\", stringsAsFactors = FALSE)\n",
    "\n",
    "head(shooting.victims, 5L)\n",
    "\n"
   ]
  },
  {
   "cell_type": "markdown",
   "metadata": {},
   "source": [
    "**Task 3:** \n",
    "- Create a new date variable based on the information in the `DATE_` field.  Name it datevar.\n",
    "- Output the first 5 lines of the data frame to the screen. \n",
    "\n",
    "Hint: as_date(); parse_date_time()."
   ]
  },
  {
   "cell_type": "code",
   "execution_count": 3,
   "metadata": {
    "scrolled": false
   },
   "outputs": [
    {
     "data": {
      "text/html": [
       "<table>\n",
       "<caption>A data.frame: 5 × 20</caption>\n",
       "<thead>\n",
       "\t<tr><th scope=col>DIST</th><th scope=col>DC_KEY</th><th scope=col>CODE</th><th scope=col>DATE_</th><th scope=col>TIME</th><th scope=col>RACE</th><th scope=col>SEX</th><th scope=col>LATINO</th><th scope=col>AGE</th><th scope=col>WOUND</th><th scope=col>INSIDE</th><th scope=col>OUTSIDE</th><th scope=col>FATAL</th><th scope=col>OFFICER_INVOLVED</th><th scope=col>OFFENDER_INJURED</th><th scope=col>OFFENDER_DECEASED</th><th scope=col>LOCATION</th><th scope=col>SHAPE</th><th scope=col>Police.Districts</th><th scope=col>datevar</th></tr>\n",
       "\t<tr><th scope=col>&lt;int&gt;</th><th scope=col>&lt;dbl&gt;</th><th scope=col>&lt;int&gt;</th><th scope=col>&lt;chr&gt;</th><th scope=col>&lt;chr&gt;</th><th scope=col>&lt;chr&gt;</th><th scope=col>&lt;chr&gt;</th><th scope=col>&lt;int&gt;</th><th scope=col>&lt;int&gt;</th><th scope=col>&lt;chr&gt;</th><th scope=col>&lt;int&gt;</th><th scope=col>&lt;int&gt;</th><th scope=col>&lt;int&gt;</th><th scope=col>&lt;chr&gt;</th><th scope=col>&lt;chr&gt;</th><th scope=col>&lt;chr&gt;</th><th scope=col>&lt;chr&gt;</th><th scope=col>&lt;chr&gt;</th><th scope=col>&lt;int&gt;</th><th scope=col>&lt;dttm&gt;</th></tr>\n",
       "</thead>\n",
       "<tbody>\n",
       "\t<tr><td>39</td><td>2.01539e+11</td><td>411</td><td>05/16/2015 12:00:00 AM</td><td>23:15 pm</td><td>B</td><td>M</td><td>0</td><td>18</td><td>buttocks</td><td>0</td><td>-1</td><td>0</td><td>N</td><td>N</td><td>N</td><td>2800 Block of N. Bonsall St.   </td><td>POINT (-75.169159 39.998284)</td><td>21</td><td>2015-05-16 12:00:00</td></tr>\n",
       "\t<tr><td>39</td><td>2.01539e+11</td><td>411</td><td>05/25/2015 12:00:00 AM</td><td>01:40 am</td><td>B</td><td>M</td><td>0</td><td>20</td><td>hand    </td><td>0</td><td>-1</td><td>0</td><td>N</td><td>N</td><td>N</td><td>1700 Block of W. Courtland St. </td><td>POINT (-75.153064 40.023554)</td><td>20</td><td>2015-05-25 12:00:00</td></tr>\n",
       "\t<tr><td>39</td><td>2.01539e+11</td><td>411</td><td>06/03/2015 12:00:00 AM</td><td>23:30 pm</td><td>B</td><td>M</td><td>0</td><td>26</td><td>leg     </td><td>0</td><td>-1</td><td>0</td><td>N</td><td>N</td><td>N</td><td>2200 Block of N. Lippencott St.</td><td>POINT (-75.166117 40.002397)</td><td>21</td><td>2015-06-03 12:00:00</td></tr>\n",
       "\t<tr><td>39</td><td>2.01539e+11</td><td>411</td><td>06/13/2015 12:00:00 AM</td><td>02:31 am</td><td>B</td><td>F</td><td>0</td><td>27</td><td>leg     </td><td>0</td><td>-1</td><td>0</td><td>N</td><td>N</td><td>N</td><td>4200 Block of N. Carlisle St.  </td><td>POINT (-75.15049 40.017063) </td><td>21</td><td>2015-06-13 12:00:00</td></tr>\n",
       "\t<tr><td>39</td><td>2.01539e+11</td><td>411</td><td>06/13/2015 12:00:00 AM</td><td>02:31 am</td><td>B</td><td>M</td><td>0</td><td>40</td><td>leg     </td><td>0</td><td>-1</td><td>0</td><td>N</td><td>N</td><td>N</td><td>4200 Block of N. Carlisle St.  </td><td>POINT (-75.15049 40.017063) </td><td>21</td><td>2015-06-13 12:00:00</td></tr>\n",
       "</tbody>\n",
       "</table>\n"
      ],
      "text/latex": [
       "A data.frame: 5 × 20\n",
       "\\begin{tabular}{r|llllllllllllllllllll}\n",
       " DIST & DC\\_KEY & CODE & DATE\\_ & TIME & RACE & SEX & LATINO & AGE & WOUND & INSIDE & OUTSIDE & FATAL & OFFICER\\_INVOLVED & OFFENDER\\_INJURED & OFFENDER\\_DECEASED & LOCATION & SHAPE & Police.Districts & datevar\\\\\n",
       " <int> & <dbl> & <int> & <chr> & <chr> & <chr> & <chr> & <int> & <int> & <chr> & <int> & <int> & <int> & <chr> & <chr> & <chr> & <chr> & <chr> & <int> & <dttm>\\\\\n",
       "\\hline\n",
       "\t 39 & 2.01539e+11 & 411 & 05/16/2015 12:00:00 AM & 23:15 pm & B & M & 0 & 18 & buttocks & 0 & -1 & 0 & N & N & N & 2800 Block of N. Bonsall St.    & POINT (-75.169159 39.998284) & 21 & 2015-05-16 12:00:00\\\\\n",
       "\t 39 & 2.01539e+11 & 411 & 05/25/2015 12:00:00 AM & 01:40 am & B & M & 0 & 20 & hand     & 0 & -1 & 0 & N & N & N & 1700 Block of W. Courtland St.  & POINT (-75.153064 40.023554) & 20 & 2015-05-25 12:00:00\\\\\n",
       "\t 39 & 2.01539e+11 & 411 & 06/03/2015 12:00:00 AM & 23:30 pm & B & M & 0 & 26 & leg      & 0 & -1 & 0 & N & N & N & 2200 Block of N. Lippencott St. & POINT (-75.166117 40.002397) & 21 & 2015-06-03 12:00:00\\\\\n",
       "\t 39 & 2.01539e+11 & 411 & 06/13/2015 12:00:00 AM & 02:31 am & B & F & 0 & 27 & leg      & 0 & -1 & 0 & N & N & N & 4200 Block of N. Carlisle St.   & POINT (-75.15049 40.017063)  & 21 & 2015-06-13 12:00:00\\\\\n",
       "\t 39 & 2.01539e+11 & 411 & 06/13/2015 12:00:00 AM & 02:31 am & B & M & 0 & 40 & leg      & 0 & -1 & 0 & N & N & N & 4200 Block of N. Carlisle St.   & POINT (-75.15049 40.017063)  & 21 & 2015-06-13 12:00:00\\\\\n",
       "\\end{tabular}\n"
      ],
      "text/markdown": [
       "\n",
       "A data.frame: 5 × 20\n",
       "\n",
       "| DIST &lt;int&gt; | DC_KEY &lt;dbl&gt; | CODE &lt;int&gt; | DATE_ &lt;chr&gt; | TIME &lt;chr&gt; | RACE &lt;chr&gt; | SEX &lt;chr&gt; | LATINO &lt;int&gt; | AGE &lt;int&gt; | WOUND &lt;chr&gt; | INSIDE &lt;int&gt; | OUTSIDE &lt;int&gt; | FATAL &lt;int&gt; | OFFICER_INVOLVED &lt;chr&gt; | OFFENDER_INJURED &lt;chr&gt; | OFFENDER_DECEASED &lt;chr&gt; | LOCATION &lt;chr&gt; | SHAPE &lt;chr&gt; | Police.Districts &lt;int&gt; | datevar &lt;dttm&gt; |\n",
       "|---|---|---|---|---|---|---|---|---|---|---|---|---|---|---|---|---|---|---|---|\n",
       "| 39 | 2.01539e+11 | 411 | 05/16/2015 12:00:00 AM | 23:15 pm | B | M | 0 | 18 | buttocks | 0 | -1 | 0 | N | N | N | 2800 Block of N. Bonsall St.    | POINT (-75.169159 39.998284) | 21 | 2015-05-16 12:00:00 |\n",
       "| 39 | 2.01539e+11 | 411 | 05/25/2015 12:00:00 AM | 01:40 am | B | M | 0 | 20 | hand     | 0 | -1 | 0 | N | N | N | 1700 Block of W. Courtland St.  | POINT (-75.153064 40.023554) | 20 | 2015-05-25 12:00:00 |\n",
       "| 39 | 2.01539e+11 | 411 | 06/03/2015 12:00:00 AM | 23:30 pm | B | M | 0 | 26 | leg      | 0 | -1 | 0 | N | N | N | 2200 Block of N. Lippencott St. | POINT (-75.166117 40.002397) | 21 | 2015-06-03 12:00:00 |\n",
       "| 39 | 2.01539e+11 | 411 | 06/13/2015 12:00:00 AM | 02:31 am | B | F | 0 | 27 | leg      | 0 | -1 | 0 | N | N | N | 4200 Block of N. Carlisle St.   | POINT (-75.15049 40.017063)  | 21 | 2015-06-13 12:00:00 |\n",
       "| 39 | 2.01539e+11 | 411 | 06/13/2015 12:00:00 AM | 02:31 am | B | M | 0 | 40 | leg      | 0 | -1 | 0 | N | N | N | 4200 Block of N. Carlisle St.   | POINT (-75.15049 40.017063)  | 21 | 2015-06-13 12:00:00 |\n",
       "\n"
      ],
      "text/plain": [
       "  DIST DC_KEY      CODE DATE_                  TIME     RACE SEX LATINO AGE\n",
       "1 39   2.01539e+11 411  05/16/2015 12:00:00 AM 23:15 pm B    M   0      18 \n",
       "2 39   2.01539e+11 411  05/25/2015 12:00:00 AM 01:40 am B    M   0      20 \n",
       "3 39   2.01539e+11 411  06/03/2015 12:00:00 AM 23:30 pm B    M   0      26 \n",
       "4 39   2.01539e+11 411  06/13/2015 12:00:00 AM 02:31 am B    F   0      27 \n",
       "5 39   2.01539e+11 411  06/13/2015 12:00:00 AM 02:31 am B    M   0      40 \n",
       "  WOUND    INSIDE OUTSIDE FATAL OFFICER_INVOLVED OFFENDER_INJURED\n",
       "1 buttocks 0      -1      0     N                N               \n",
       "2 hand     0      -1      0     N                N               \n",
       "3 leg      0      -1      0     N                N               \n",
       "4 leg      0      -1      0     N                N               \n",
       "5 leg      0      -1      0     N                N               \n",
       "  OFFENDER_DECEASED LOCATION                       \n",
       "1 N                 2800 Block of N. Bonsall St.   \n",
       "2 N                 1700 Block of W. Courtland St. \n",
       "3 N                 2200 Block of N. Lippencott St.\n",
       "4 N                 4200 Block of N. Carlisle St.  \n",
       "5 N                 4200 Block of N. Carlisle St.  \n",
       "  SHAPE                        Police.Districts datevar            \n",
       "1 POINT (-75.169159 39.998284) 21               2015-05-16 12:00:00\n",
       "2 POINT (-75.153064 40.023554) 20               2015-05-25 12:00:00\n",
       "3 POINT (-75.166117 40.002397) 21               2015-06-03 12:00:00\n",
       "4 POINT (-75.15049 40.017063)  21               2015-06-13 12:00:00\n",
       "5 POINT (-75.15049 40.017063)  21               2015-06-13 12:00:00"
      ]
     },
     "metadata": {},
     "output_type": "display_data"
    }
   ],
   "source": [
    "## 3.  Develop your code for Task 3 here.\n",
    "## ---------------------------------------\n",
    "\n",
    "shooting.victims$datevar <- parse_date_time(shooting.victims$DATE_, orders='mdY HMS')\n",
    "head(shooting.victims,n=5L)\n",
    "\n",
    "\n"
   ]
  },
  {
   "cell_type": "markdown",
   "metadata": {},
   "source": [
    "**Task 4:** \n",
    "- Create a list of all of the unique names in the `LOCATION` variable. \n",
    "- Output the first 5 lines to the screen. \n",
    "\n",
    "Hint: distinct()."
   ]
  },
  {
   "cell_type": "code",
   "execution_count": 4,
   "metadata": {
    "scrolled": false
   },
   "outputs": [
    {
     "data": {
      "text/html": [
       "<table>\n",
       "<caption>A data.frame: 5 × 1</caption>\n",
       "<thead>\n",
       "\t<tr><th scope=col>LOCATION</th></tr>\n",
       "\t<tr><th scope=col>&lt;chr&gt;</th></tr>\n",
       "</thead>\n",
       "<tbody>\n",
       "\t<tr><td>2800 Block of N. Bonsall St.    </td></tr>\n",
       "\t<tr><td>1700 Block of W. Courtland St.  </td></tr>\n",
       "\t<tr><td>2200 Block of N. Lippencott St. </td></tr>\n",
       "\t<tr><td>4200 Block of N. Carlisle St.   </td></tr>\n",
       "\t<tr><td>3700 Block of N. Germantown Ave.</td></tr>\n",
       "</tbody>\n",
       "</table>\n"
      ],
      "text/latex": [
       "A data.frame: 5 × 1\n",
       "\\begin{tabular}{r|l}\n",
       " LOCATION\\\\\n",
       " <chr>\\\\\n",
       "\\hline\n",
       "\t 2800 Block of N. Bonsall St.    \\\\\n",
       "\t 1700 Block of W. Courtland St.  \\\\\n",
       "\t 2200 Block of N. Lippencott St. \\\\\n",
       "\t 4200 Block of N. Carlisle St.   \\\\\n",
       "\t 3700 Block of N. Germantown Ave.\\\\\n",
       "\\end{tabular}\n"
      ],
      "text/markdown": [
       "\n",
       "A data.frame: 5 × 1\n",
       "\n",
       "| LOCATION &lt;chr&gt; |\n",
       "|---|\n",
       "| 2800 Block of N. Bonsall St.     |\n",
       "| 1700 Block of W. Courtland St.   |\n",
       "| 2200 Block of N. Lippencott St.  |\n",
       "| 4200 Block of N. Carlisle St.    |\n",
       "| 3700 Block of N. Germantown Ave. |\n",
       "\n"
      ],
      "text/plain": [
       "  LOCATION                        \n",
       "1 2800 Block of N. Bonsall St.    \n",
       "2 1700 Block of W. Courtland St.  \n",
       "3 2200 Block of N. Lippencott St. \n",
       "4 4200 Block of N. Carlisle St.   \n",
       "5 3700 Block of N. Germantown Ave."
      ]
     },
     "metadata": {},
     "output_type": "display_data"
    }
   ],
   "source": [
    "## 4.  Develop your code for Task 4 here.\n",
    "## ---------------------------------------\n",
    "\n",
    "unique.names <- distinct(shooting.victims, LOCATION)\n",
    "head(unique.names, 5L)\n",
    "\n"
   ]
  },
  {
   "cell_type": "markdown",
   "metadata": {},
   "source": [
    " **Task 5:** \n",
    " - Examine the list of unique location names that you generated more closely (and looking at more lines). What if we needed to come up with a list of the unique street names, not just the unique location references?  Are there any patterns that emerge that could be used to help us parse out the street names?  Do you see any instances where streets may have different spellings or naming conventions?  \n",
    " - List three or more issues below (as comments) so you can get a feel for the types of inconsistencies that may need to be remedied before this info can be used more reliably."
   ]
  },
  {
   "cell_type": "code",
   "execution_count": 5,
   "metadata": {
    "scrolled": false
   },
   "outputs": [
    {
     "data": {
      "text/html": [
       "<table>\n",
       "<caption>A data.frame: 10 × 1</caption>\n",
       "<thead>\n",
       "\t<tr><th scope=col>LOCATION</th></tr>\n",
       "\t<tr><th scope=col>&lt;chr&gt;</th></tr>\n",
       "</thead>\n",
       "<tbody>\n",
       "\t<tr><td>2800 Block of N. Bonsall St.    </td></tr>\n",
       "\t<tr><td>1700 Block of W. Courtland St.  </td></tr>\n",
       "\t<tr><td>2200 Block of N. Lippencott St. </td></tr>\n",
       "\t<tr><td>4200 Block of N. Carlisle St.   </td></tr>\n",
       "\t<tr><td>3700 Block of N. Germantown Ave.</td></tr>\n",
       "\t<tr><td>3900 Block of Priscilla St.     </td></tr>\n",
       "\t<tr><td>2500 Block of W. Allegheny Ave. </td></tr>\n",
       "\t<tr><td>2700 Block of N. 29th St.       </td></tr>\n",
       "\t<tr><td>2800 Block of Stillman St.      </td></tr>\n",
       "\t<tr><td>3700 Block of N. 21st St.       </td></tr>\n",
       "</tbody>\n",
       "</table>\n"
      ],
      "text/latex": [
       "A data.frame: 10 × 1\n",
       "\\begin{tabular}{r|l}\n",
       " LOCATION\\\\\n",
       " <chr>\\\\\n",
       "\\hline\n",
       "\t 2800 Block of N. Bonsall St.    \\\\\n",
       "\t 1700 Block of W. Courtland St.  \\\\\n",
       "\t 2200 Block of N. Lippencott St. \\\\\n",
       "\t 4200 Block of N. Carlisle St.   \\\\\n",
       "\t 3700 Block of N. Germantown Ave.\\\\\n",
       "\t 3900 Block of Priscilla St.     \\\\\n",
       "\t 2500 Block of W. Allegheny Ave. \\\\\n",
       "\t 2700 Block of N. 29th St.       \\\\\n",
       "\t 2800 Block of Stillman St.      \\\\\n",
       "\t 3700 Block of N. 21st St.       \\\\\n",
       "\\end{tabular}\n"
      ],
      "text/markdown": [
       "\n",
       "A data.frame: 10 × 1\n",
       "\n",
       "| LOCATION &lt;chr&gt; |\n",
       "|---|\n",
       "| 2800 Block of N. Bonsall St.     |\n",
       "| 1700 Block of W. Courtland St.   |\n",
       "| 2200 Block of N. Lippencott St.  |\n",
       "| 4200 Block of N. Carlisle St.    |\n",
       "| 3700 Block of N. Germantown Ave. |\n",
       "| 3900 Block of Priscilla St.      |\n",
       "| 2500 Block of W. Allegheny Ave.  |\n",
       "| 2700 Block of N. 29th St.        |\n",
       "| 2800 Block of Stillman St.       |\n",
       "| 3700 Block of N. 21st St.        |\n",
       "\n"
      ],
      "text/plain": [
       "   LOCATION                        \n",
       "1  2800 Block of N. Bonsall St.    \n",
       "2  1700 Block of W. Courtland St.  \n",
       "3  2200 Block of N. Lippencott St. \n",
       "4  4200 Block of N. Carlisle St.   \n",
       "5  3700 Block of N. Germantown Ave.\n",
       "6  3900 Block of Priscilla St.     \n",
       "7  2500 Block of W. Allegheny Ave. \n",
       "8  2700 Block of N. 29th St.       \n",
       "9  2800 Block of Stillman St.      \n",
       "10 3700 Block of N. 21st St.       "
      ]
     },
     "metadata": {},
     "output_type": "display_data"
    }
   ],
   "source": [
    "## 5.  Develop your code for Task 5 here.\n",
    "## ---------------------------------------\n",
    "\n",
    "# The pattern I see so far is all have \"Block of\"\n",
    "# Yes, there are changes in patterns, some have N., W. and others do not\n",
    "# Some addresses have a lowercase n., some have an \"&\", some don't have a number,\n",
    "# Some have street as ST others as St. or St, I see some street have St attached to\n",
    "# the street name\n",
    "unique.names <- distinct(shooting.victims, LOCATION)\n",
    "head(unique.names, 10L)\n"
   ]
  },
  {
   "cell_type": "markdown",
   "metadata": {},
   "source": [
    "**Task 6:** \n",
    "- Develop some code that separates the street name into two new fields, one with the block info `block` and the other `street` with the street name. \n",
    "    - In this case, let's base the decision to separate based on the presence of the word ` of`. Of course, the names with an `&` in them won't split properly, but we can deal with that later. \n",
    "- Output the first 5 lines of the data frame to the screen. \n",
    "\n",
    "Hint: library(); separate()."
   ]
  },
  {
   "cell_type": "code",
   "execution_count": 6,
   "metadata": {
    "scrolled": false
   },
   "outputs": [
    {
     "name": "stderr",
     "output_type": "stream",
     "text": [
      "Warning message:\n",
      "“Expected 2 pieces. Additional pieces discarded in 2 rows [415, 987].”Warning message:\n",
      "“Expected 2 pieces. Missing pieces filled with `NA` in 21 rows [214, 215, 216, 217, 218, 219, 220, 221, 222, 223, 224, 225, 226, 227, 228, 229, 231, 1263, 1264, 1265, ...].”"
     ]
    },
    {
     "data": {
      "text/html": [
       "<table>\n",
       "<caption>A data.frame: 5 × 2</caption>\n",
       "<thead>\n",
       "\t<tr><th scope=col>BLOCK</th><th scope=col>STREET</th></tr>\n",
       "\t<tr><th scope=col>&lt;chr&gt;</th><th scope=col>&lt;chr&gt;</th></tr>\n",
       "</thead>\n",
       "<tbody>\n",
       "\t<tr><td>2800 Block </td><td> N. Bonsall St.    </td></tr>\n",
       "\t<tr><td>1700 Block </td><td> W. Courtland St.  </td></tr>\n",
       "\t<tr><td>2200 Block </td><td> N. Lippencott St. </td></tr>\n",
       "\t<tr><td>4200 Block </td><td> N. Carlisle St.   </td></tr>\n",
       "\t<tr><td>3700 Block </td><td> N. Germantown Ave.</td></tr>\n",
       "</tbody>\n",
       "</table>\n"
      ],
      "text/latex": [
       "A data.frame: 5 × 2\n",
       "\\begin{tabular}{r|ll}\n",
       " BLOCK & STREET\\\\\n",
       " <chr> & <chr>\\\\\n",
       "\\hline\n",
       "\t 2800 Block  &  N. Bonsall St.    \\\\\n",
       "\t 1700 Block  &  W. Courtland St.  \\\\\n",
       "\t 2200 Block  &  N. Lippencott St. \\\\\n",
       "\t 4200 Block  &  N. Carlisle St.   \\\\\n",
       "\t 3700 Block  &  N. Germantown Ave.\\\\\n",
       "\\end{tabular}\n"
      ],
      "text/markdown": [
       "\n",
       "A data.frame: 5 × 2\n",
       "\n",
       "| BLOCK &lt;chr&gt; | STREET &lt;chr&gt; |\n",
       "|---|---|\n",
       "| 2800 Block  |  N. Bonsall St.     |\n",
       "| 1700 Block  |  W. Courtland St.   |\n",
       "| 2200 Block  |  N. Lippencott St.  |\n",
       "| 4200 Block  |  N. Carlisle St.    |\n",
       "| 3700 Block  |  N. Germantown Ave. |\n",
       "\n"
      ],
      "text/plain": [
       "  BLOCK       STREET             \n",
       "1 2800 Block   N. Bonsall St.    \n",
       "2 1700 Block   W. Courtland St.  \n",
       "3 2200 Block   N. Lippencott St. \n",
       "4 4200 Block   N. Carlisle St.   \n",
       "5 3700 Block   N. Germantown Ave."
      ]
     },
     "metadata": {},
     "output_type": "display_data"
    }
   ],
   "source": [
    "## 6.  Develop your code for Task 6 here.\n",
    "## ---------------------------------------\n",
    "suppressMessages(library('tidyr'))\n",
    "\n",
    "block.street <- unique.names %>% separate(LOCATION, c('BLOCK', 'STREET'), sep = 'of')\n",
    "head(block.street, 5L)\n",
    "\n"
   ]
  },
  {
   "cell_type": "markdown",
   "metadata": {},
   "source": [
    "**Task 7:** \n",
    "- Let's deal with the streets with `&` separating their names. Create a new column named `street2` and set it equal to NA. \n",
    "- Then, iterate over the data frame using a `for` loop, testing if the `street` variable you created earlier contains an NA value.  \n",
    "    - In cases where this occurs, separate the names in `block` according to the `&` delimiter into the fields `street` and `street2` accordingly.  \n",
    "- Output the first 5 lines of the data frame to the screen. \n",
    "\n",
    "Hint: mutate(); for; if; :; nrow(); is.na(); strsplit(); unlist()."
   ]
  },
  {
   "cell_type": "code",
   "execution_count": 14,
   "metadata": {
    "scrolled": true
   },
   "outputs": [
    {
     "data": {
      "text/html": [
       "<table>\n",
       "<caption>A data.frame: 5 × 3</caption>\n",
       "<thead>\n",
       "\t<tr><th scope=col>BLOCK</th><th scope=col>STREET</th><th scope=col>STREET2</th></tr>\n",
       "\t<tr><th scope=col>&lt;chr&gt;</th><th scope=col>&lt;chr&gt;</th><th scope=col>&lt;lgl&gt;</th></tr>\n",
       "</thead>\n",
       "<tbody>\n",
       "\t<tr><td>2800 Block </td><td> N. Bonsall St.    </td><td>FALSE</td></tr>\n",
       "\t<tr><td>1700 Block </td><td> W. Courtland St.  </td><td>FALSE</td></tr>\n",
       "\t<tr><td>2200 Block </td><td> N. Lippencott St. </td><td>FALSE</td></tr>\n",
       "\t<tr><td>4200 Block </td><td> N. Carlisle St.   </td><td>FALSE</td></tr>\n",
       "\t<tr><td>3700 Block </td><td> N. Germantown Ave.</td><td>FALSE</td></tr>\n",
       "</tbody>\n",
       "</table>\n"
      ],
      "text/latex": [
       "A data.frame: 5 × 3\n",
       "\\begin{tabular}{r|lll}\n",
       " BLOCK & STREET & STREET2\\\\\n",
       " <chr> & <chr> & <lgl>\\\\\n",
       "\\hline\n",
       "\t 2800 Block  &  N. Bonsall St.     & FALSE\\\\\n",
       "\t 1700 Block  &  W. Courtland St.   & FALSE\\\\\n",
       "\t 2200 Block  &  N. Lippencott St.  & FALSE\\\\\n",
       "\t 4200 Block  &  N. Carlisle St.    & FALSE\\\\\n",
       "\t 3700 Block  &  N. Germantown Ave. & FALSE\\\\\n",
       "\\end{tabular}\n"
      ],
      "text/markdown": [
       "\n",
       "A data.frame: 5 × 3\n",
       "\n",
       "| BLOCK &lt;chr&gt; | STREET &lt;chr&gt; | STREET2 &lt;lgl&gt; |\n",
       "|---|---|---|\n",
       "| 2800 Block  |  N. Bonsall St.     | FALSE |\n",
       "| 1700 Block  |  W. Courtland St.   | FALSE |\n",
       "| 2200 Block  |  N. Lippencott St.  | FALSE |\n",
       "| 4200 Block  |  N. Carlisle St.    | FALSE |\n",
       "| 3700 Block  |  N. Germantown Ave. | FALSE |\n",
       "\n"
      ],
      "text/plain": [
       "  BLOCK       STREET              STREET2\n",
       "1 2800 Block   N. Bonsall St.     FALSE  \n",
       "2 1700 Block   W. Courtland St.   FALSE  \n",
       "3 2200 Block   N. Lippencott St.  FALSE  \n",
       "4 4200 Block   N. Carlisle St.    FALSE  \n",
       "5 3700 Block   N. Germantown Ave. FALSE  "
      ]
     },
     "metadata": {},
     "output_type": "display_data"
    }
   ],
   "source": [
    "## 7.  Develop your code for Task 7 here.\n",
    "## ---------------------------------------\n",
    "\n",
    "new.street <- block.street %>% mutate(STREET2 = (STREET==\"NA\"))\n",
    "head(new.street, 5L)\n"
   ]
  },
  {
   "cell_type": "code",
   "execution_count": 15,
   "metadata": {},
   "outputs": [
    {
     "ename": "ERROR",
     "evalue": "Error in `[<-.data.frame`(`*tmp*`, row, STREET2, value = c(\"2800 Block \", : object 'STREET2' not found\n",
     "output_type": "error",
     "traceback": [
      "Error in `[<-.data.frame`(`*tmp*`, row, STREET2, value = c(\"2800 Block \", : object 'STREET2' not found\nTraceback:\n",
      "1. `[<-`(`*tmp*`, row, STREET2, value = c(\"2800 Block \", \"1700 Block \", \n . \"2200 Block \", \"4200 Block \", \"3700 Block \", \"3900 Block \", \"2500 Block \", \n . \"2700 Block \", \"2800 Block \", \"3700 Block \", \"1800 Block \", \"1600 Block \", \n . \"2900 Block \", \"2600 Block \", \"3400 Block \", \"2900 Block \", \"2800 Block \", \n . \"3700 Block \", \"1400 Block \", \"2700 Block \", \"3100 Block \", \"1600 Block \", \n . \"2900 Block \", \"2200 Block \", \"2400 Block \", \"700 Block \", \"1400 Block \", \n . \"5900 Block \", \"300 Block \", \"1100 Block \", \"1400 Block \", \"500 Block \", \n . \"2000 Block \", \"100 Block \", \"1000 Block \", \"4500 Block \", \"4800 Block \", \n . \"5100 Block \", \"2000 Block \", \"3600 Block \", \"4500 Block \", \"5500 Block \", \n . \"4500 Block \", \"1500 Block \", \"5900 Block \", \"400 Block \", \"2000 Block \", \n . \"200 Block \", \"1300 Block \", \"2000 Block \", \"1800 Block \", \"2100 Block \", \n . \"5900 Block \", \"300 Block \", \"2100 Block \", \"1800 Block \", \"1700 Block \", \n . \"5100 Block \", \"6700 Block \", \"2100 Block \", \"5200 Block \", \"5900 Block \", \n . \"4900 Block \", \"500 Block \", \"6700 Block \", \"5200 Block \", \"1200 Block \", \n . \"1000 Block \", \"1500 Block \", \"1800 Block \", \"4900 Block \", \"5700 Block \", \n . \"1600 Block \", \"2900 Block \", \"3100 Block \", \"4400 Block \", \"4800 Block \", \n . \"3000 Block \", \"2600 Block \", \"2600 Block \", \"1500 Block \", \"3100 Block \", \n . \"2100 Block \", \"2100 Block \", \"4100 Block \", \"3200 Block \", \"400 Block \", \n . \"2900 Block \", \"2800 Block \", \"100 Block \", \"3800 Block \", \"400 Block \", \n . \"3700 Block \", \"1700 Block \", \"2200 Block \", \"5500 Block \", \"4200 Block \", \n . \"200 Block \", \"3800 Block \", \"2600 Block \", \"100 Block \", \"3000 Block \", \n . \"2100 Block \", \"5000 Block \", \"2700 Block \", \"1600 Block \", \"3100 Block \", \n . \"2700 Block \", \"3000 Block \", \"1700 Block \", \"4300 Block \", \"7100 Block \", \n . \"0 Block \", \"500 Block \", \"7100 Block \", \"100 Block \", \"5500 Block \", \n . \"7800 Block \", \"7400 Block \", \"1300 Block \", \"7300 Block \", \"300 Block \", \n . \"5300 Block \", \"5200 Block \", \"6300 Block \", \"0 Block \", \"1100 Block \", \n . \"2100 Block \", \"2000 Block \", \"7200 Block \", \"500 Block \", \"1300 Block \", \n . \"600 Block \", \"5500 Block \", \"500 Block \", \"1100 Block \", \"7400 Block \", \n . \"800 Block \", \"1300 Block \", \"1000 Block \", \"300 Block \", \"6600 Block \", \n . \"7100 Block \", \"400 Block \", \"7000 Block \", \"800 Block \", \"300 Block \", \n . \"1300 Block \", \"7900 Block \", \"500 Block \", \"600 Block \", \"5500 Block \", \n . \"100 Block \", \"5000 Block \", \"1100 Block \", \"1900 Block \", \"8300 Block \", \n . \"5300 Block \", \"6600 Block \", \"200 Block \", \"400 Block \", \"6300 Block \", \n . \"1900 Block \", \"4600 Block \", \"700 Block \", \"2800 Block \", \"3300 Block \", \n . \"400 Block \", \"3000 Block \", \"1100 Block \", \"3300 Block \", \"1300 Block \", \n . \"4900 Block \", \"500 Block \", \"4500 Block \", \"2000 Block \", \"5100 Block \", \n . \"1600 Block \", \"1400 Block \", \"6700 Block \", \"1300 Block \", \"400 Block \", \n . \"6700 Block \", \"1900 Block \", \"5000 Block \", \"1800 Block \", \"2100 Block \", \n . \"5700 Block \", \"5900 Block \", \"200 Block \", \"2900 Block \", \"2700 Block \", \n . \"2900 Block \", \"2000 Block \", \"1700 Block \", \"1700 Block \", \"3500 Block \", \n . \"4300 Block \", \"3400 Block \", \"3500 Block \", \"3100 Block \", \"0 Block \", \n . \"100 Block \", \"4300 Block \", \"2700 Block \", \"2700 Block \", \"3600 Block \", \n . \"3600 Block \", \"3100 Block \", \"3100 Block \", \"3000 Block \", \"1400 Block \", \n . \"1500 Block \", \"25th \", \" Wolf St.\", \"2nd \", \" Chestnut\", \"21st \", \n . \" Ellsworth St.\", \"61st \", \" Callowhill St.\", \"52nd \", \" Market St.\", \n . \"30th \", \" Girard Ave.\", \"33rd \", \" Berks St.\", \"29th \", \" Diamond St.\", \n . \"27th \", \" Fletcher Sts.\", \"2nd \", \" Linton\", \"21st \", \" Nedro St.\", \n . \"17th \", \" W. Cayuga St.\", \"17th \", \" Cayuga St.(Blavis)\", \"60th \", \n . \" Media St.\", \"5th \", \" Venago St\", \"23rd \", \"Lippincott Sts.\", \n . \"6500 Block \", \"60th \", \" Spruce\", \"6000 Block \", \"5500 Block \", \n . \"700 Block \", \"5900 Block \", \"6100 Block \", \"500 Block \", \"5100 Block \", \n . \"800 Block \", \"5800 Block \", \"5900 Block \", \"500 Block \", \"5800 Block \", \n . \"5400 Block \", \"5100 Block \", \"4000 Block \", \"1300 Block \", \"3000 Block \", \n . \"2000 Block \", \"100 Block \", \"2200 Block \", \"2400 Block \", \"2100 Block \", \n . \"5600 Block \", \"2100 Block \", \"5400 Block \", \"6600 Block \", \"200 Block \", \n . \"5900 Block \", \"100 Block \", \"600 Block \", \"4500 Block \", \"400 Block \", \n . \"4700 Block \", \"4600 Block \", \"200 Block \", \"4400 Block \", \"4200 Block \", \n . \"5100 Block \", \"4300 Block \", \"0 Block \", \"3400 Block \", \"5700 Block \", \n . \"5500 Block \", \"2100 Block \", \"5600 Block \", \"1500 Block \", \"5700 Block \", \n . \"6700 Block \", \"100 Block \", \"6800 Block \", \"1200 Block \", \"5900 Block \", \n . \"6100 Block \", \"7700 Block \", \"5200 Block \", \"6500 Block \", \"6400 Block \", \n . \"1400 Block \", \"0 Block \", \"1800 Block \", \"8000 Block \", \"1000 Block \", \n . \"3500 Block \", \"100 Block \", \"6200 Block \", \"1200 Block \", \"1900 Block \", \n . \"800 Block \", \"900 Block \", \"600 Block \", \"1100 Block \", \"300 Block \", \n . \"900 Block \", \"1400 Block \", \"600 Block \", \"500 Block \", \"1700 Block \", \n . \"1300 Block \", \"400 Block \", \"8200 Block \", \"800 Block \", \"5800 Block \", \n . \"700 Block \", \"1200 Block \", \"500 Block \", \"600 Block \", \"500 Block \", \n . \"900 Block \", \"6300 Block \", \"5400 Block \", \"500 Block \", \"1400 Block \", \n . \"6400 Block \", \"900 Block \", \"700 Block \", \"6500 Block \", \"6100 Block \", \n . \"500 Block \", \"900 Block \", \"6200 Block \", \"7900 Block \", \"6900 Block \", \n . \"900 Block \", \"5900 Block \", \"1800 Block \", \"1200 Block \", \"1500 Block \", \n . \"4600 Block \", \"4700 Block \", \"4700 Block \", \"2900 Block \", \"5100 Block \", \n . \"4800 Block \", \"7600 Block \", \"4700 Block \", \"6000 Block \", \"4300 Block \", \n . \"6000 Block \", \"4800 Block \", \"1600 Block \", \"5300 Block \", \"5000 Block \", \n . \"4700 Block \", \"7000 Block \", \"3200 Block \", \"4700 Block \", \"5700 Block \", \n . \"1700 Block \", \"1700 Block \", \"2800 Block \", \"5200 Block \", \"2000 Block \", \n . \"5200 Block \", \"1400 Block \", \"5200 Block \", \"4600 Block \", \"4500 Block \", \n . \"4900 Block \", \"5000 Block \", \"6700 Block \", \"1700 Block \", \"4700 Block \", \n . \"2600 Block \", \"6800 Block \", \"5200 Block \", \"4400 Block \", \"4100 Block \", \n . \"1800 Block \", \"4000 Block \", \"5000 Block \", \"5800 Block \", \"2100 Block \", \n . \"4200 Block \", \"7100 Block \", \"6200 Block \", \"5300 Block \", \"6700 Block \", \n . \"5700 Block \", \"5800 Block \", \"2400 Block \", \"5700 Block \", \"2400 Block \", \n . \"6900 Block \", \"5700 Block \", \"1600 Block \", \"1700 Block \", \"1600 Block \", \n . \"5300 Block \", \"6600 Block \", \"1400 Block \", \"5000 Block \", \"6500 Block \", \n . \"6300 Block \", \"6000 Block \", \"5400 Block \", \"1000 Block \", \"2000 Block \", \n . \"7200 Block \", \"5500 Block \", \"5700 Block \", \"5300 Block \", \"1800 Block \", \n . \"2600 Block \", \"5600 Block \", \"5300 Block \", \"2000 Block \", \"1100 Block \", \n . \"7100 Block \", \"1300 Block \", \"2000 Block \", \"1800 Block \", \"7800 Block \", \n . \"2500 Block \", \"1100 Block \", \"900 Block \", \"2600 Block \", \"6400 Block \", \n . \"2700 Block \", \"6600 Block \", \"6400 Block \", \"5600 Block \", \"300 Block \", \n . \"5100 Block \", \"700 Block \", \"4600 Block \", \"5100 Block \", \"4100 Block \", \n . \"3700 Block \", \"700 Block \", \"4500 Block \", \"4000 Block \", \"4600 Block \", \n . \"800 Block \", \"2100 Block \", \"5200 Block \", \"800 Block \", \"4600 Block \", \n . \"4900 Block \", \"3800 Block \", \"100 Block \", \"700 Block \", \"4100 Block \", \n . \"5100 Block \", \"600 Block \", \"500 Block \", \"400 Block \", \"700 Block \", \n . \"3800 Block \", \"700 Block \", \"4900 Block \", \"4000 Block \", \"4300 Block \", \n . \"200 Block \", \"800 Block \", \"900 Block \", \"5100 Block \", \"5000 Block \", \n . \"1700 Block \", \"1100 Block \", \"2100 Block \", \"1300 Block \", \"1400 Block \", \n . \"1500 Block \", \"2700 Block \", \"5500 Block \", \"1200 Block \", \"1700 Block \", \n . \"2000 Block \", \"1500 Block \", \"2000 Block \", \"1200 Block \", \"1600 Block \", \n . \"2300 Block \", \"1300 Block \", \"2000 Block \", \"1700 Block \", \"1700 Block \", \n . \"1800 Block \", \"1200 Block \", \"2400 Block \", \"800 Block \", \"700 Block \", \n . \"100 Block \", \"800 Block \", \"0 Block \", \"1300 Block \", \"1000 Block \", \n . \"600 Block \", \"2000 Block \", \"4300 Block \", \"100 Block \", \"3800 Block \", \n . \"800 Block \", \"1000 Block \", \"200 Block \", \"800 Block \", \"1600 Block \", \n . \"6600 Block \", \"1100 Block \", \"6100 Block \", \"5600 Block \", \"1900 Block \", \n . \"5500 Block \", \"7100 Block \", \"5900 Block \", \"2600 Block \", \"6500 Block \", \n . \"1400 Block \", \"5800 Block \", \"5800 Block \", \"500 Block \", \"1300 Block \", \n . \"6700 Block \", \"2200 Block \", \"2600 Block \", \"2200 Block \", \"6100 Block \", \n . \"5500 Block \", \"6200 Block \", \"2500 Block \", \"6400 Block \", \"1500 Block \", \n . \"1500 Block \", \"6700 Block \", \"5400 Block \", \"5700 Block \", \"5700 Block \", \n . \"1900 Block \", \"1800 Block \", \"2000 Block \", \"2600 Block \", \"2700 Block \", \n . \"1400 Block \", \"1900 Block \", \"2200 Block \", \"6500 Block \", \"900 Block \", \n . \"900 Block \", \"500 Block \", \"6000 Block \", \"2100 Block \", \"2200 Block \", \n . \"6700 Block \", \"1500 Block \", \"6100 Block \", \"6900 Block \", \"6000 Block \", \n . \"1300 Block \", \"5500 Block \", \"100 Block \", \"5900 Block \", \"500 Block \", \n . \"6100 Block \", \"500 Block \", \"5200 Block \", \"6000 Block \", \"5400 Block \", \n . \"5500 Block \", \"5200 Block \", \"5800 Block \", \"5100 Block \", \"5300 Block \", \n . \"5200 Block \", \"900 Block \", \"1200 Block \", \"5100 Block \", \"5400 Block \", \n . \"5000 Block \", \"1500 Block \", \"1200 Block \", \"1700 Block \", \"1900 Block \", \n . \"1700 Block \", \"1800 Block \", \"1700 Block \", \"1400 Block \", \"1200 Block \", \n . \"1400 Block \", \"1500 Block \", \"1400 Block \", \"2300 Block \", \"1500 Block \", \n . \"1900 Block \", \"2100 Block \", \"1400 Block \", \"1900 Block \", \"1900 Block \", \n . \"1600 Block \", \"1600 Block \", \"2200 Block \", \"1800 Block \", \"2500 Block \", \n . \"3000 Block \", \"2600 Block \", \"2000 Block \", \"1200 Block \", \"2000 Block \", \n . \"2500 Block \", \"1700 Block \", \"3200 Block \", \"2100 Block \", \"1800 Block \", \n . \"1600 Block \", \"1100 Block \", \"1600 Block \", \"1800 Block \", \"1200 Block \", \n . \"2400 Block \", \"2200 Block \", \"2400 Block \", \"2600 Block \", \"2300 Block \", \n . \"2400 Block \", \"2700 Block \", \"1900 Block \", \"3000 Block \", \"2300 Block \", \n . \"2500 Block \", \"1000 Block \", \"2300 Block \", \"2400 Block \", \"1500 Block \", \n . \"2500 Block \", \"1900 Block \", \"1400 Block \", \"2300 Block \", \"1600 Block \", \n . \"2600 Block \", \"2400 Block \", \"3200 Block \", \"2300 Block \", \"2500 Block \", \n . \"1700 Block \", \"1700 Block \", \"2100 Block \", \"2500 Block \", \"3100 Block \", \n . \"2600 Block \", \"2400 Block \", \"2600 Block \", \"2400 Block \", \"2100 Block \", \n . \"1700 Block \", \"1700 Block \", \"2500 Block \", \"2200 Block \", \"2900 Block \", \n . \"2500 Block \", \"2200 Block \", \"1800 Block \", \"4500 Block \", \"6200 Block \", \n . \"4600 Block \", \"5200 Block \", \"4700 Block \", \"5200 Block \", \"4900 Block \", \n . \"1100 Block \", \"5300 Block \", \"7100 Block \", \"800 Block \", \"3700 Block \", \n . \"4900 Block \", \"600 Block \", \"300 Block \", \"700 Block \", \"600 Block \", \n . \"600 Block \", \"5100 Block \", \"4000 Block \", \"4900 Block \", \"4200 Block \", \n . \"5800 Block \", \"800 Block \", \"5700 Block \", \"5700 Block \", \"200 Block \", \n . \"5900 Block \", \"3500 Block \", \"100 Block \", \"6100 Block \", \"6000 Block \", \n . \"5300 Block \", \"1300 Block \", \"0 Block \", \"5300 Block \", \"6100 Block \", \n . \"200 Block \", \"5100 Block \", \"5300 Block \", \"5400 Block \", \"5100 Block \", \n . \"6600 Block \", \"100 Block \", \"7600 Block \", \"100 Block \", \"6300 Block \", \n . \"0 Block \", \"5400 Block \", \"4900 Block \", \"400 Block \", \"5500 Block \", \n . \"5400 Block \", \"5000 Block \", \"5300 Block \", \"6700 Block \", \"300 Block \", \n . \"6700 Block \", \"1200 Block \", \"0 Block \", \"5500 Block \", \"2900 Block \", \n . \"1500 Block \", \"2200 Block \", \"5400 Block \", \"5800 Block \", \"5500 Block \", \n . \"4500 Block \", \"900 Block \", \"0 Block \", \"0 Block \", \"2600 Block \", \n . \"2400 Block \", \"2600 Block \", \"2400 Block \", \"1900 Block \", \"2500 Block \", \n . \"2500 Block \", \"2100 Block \", \"2400 Block \", \"1400 Block \", \"2500 Block \", \n . \"2300 Block \", \"2200 Block \", \"1800 Block \", \"2100 Block \", \"2200 Block \", \n . \"3000 Block \", \"3900 Block \", \"100 Block \", \"3400 Block \", \"800 Block \", \n . \"3500 Block \", \"2000 Block \", \"2900 Block \", \"3100 Block \", \"1800 Block \", \n . \"4200 Block \", \"3500 Block \", \"100 Block \", \"3400 Block \", \"1800 Block \", \n . \"1200 Block \", \"3900 Block \", \"2800 Block \", \"3000 Block \", \"2100 Block \", \n . \"2900 Block \", \"2900 Block \", \"1900 Block \", \"3500 Block \", \"500 Block \", \n . \"3200 Block \", \"3000 Block \", \"3000 Block \", \"400 Block \", \"3100 Block \", \n . \"3500 Block \", \"3000 Block \", \"1800 Block \", \"3300 Block \", \"4000 Block \", \n . \"300 Block \", \"2200 Block \", \"3000 Block \", \"2000 Block \", \"2000 Block \", \n . \"2000 Block \", \"1800 Block \", \"400 Block \", \"1800 Block \", \"3100 Block \", \n . \"2800 Block \", \"3000 Block \", \"1500 Block \", \"2800 Block \", \"3000 Block \", \n . \"3200 Block \", \"2700 Block \", \"2800 Block \", \"2900 Block \", \"2900 Block \", \n . \"1100 Block \", \"2900 Block \", \"2300 Block \", \"2500 Block \", \"1700 Block \", \n . \"2900 Block \", \"2100 Block \", \"5800 Block \", \"5900 Block \", \"5900 Block \", \n . \"6100 Block \", \"6000 Block \", \"100 Block \", \"6500 Block \", \"6000 Block \", \n . \"1500 Block \", \"5900 Block \", \"5500 Block \", \"5400 Block \", \"5300 Block \", \n . \"6400 Block \", \"5500 Block \", \"900 Block \", \"1500 Block \", \"6600 Block \", \n . \"6600 Block \", \"100 Block \", \"5000 Block \", \"6200 Block \", \"900 Block \", \n . \"1700 Block \", \"1600 Block \", \"5400 Block \", \"6200 Block \", \"5800 Block \", \n . \"5300 Block \", \"300 Block \", \"6100 Block \", \"1300 Block \", \"5500 Block \", \n . \"5400 Block \", \"5900 Block \", \"1700 Block \", \"100 Block \", \"5700 Block \", \n . \"6600 Block \", \"1200 Block \", \"5200 Block \", \"5500 Block \", \"2000 Block \", \n . \"1400 Block \", \"1900 Block \", \"100 Block \", \"7500 Block \", \"7400 Block \", \n . \"5700 Block \", \"100 Block \", \"6800 Block \", \"6600 Block \", \"4300 Block \", \n . \"3700 Block \", \"300 Block \", \"3400 Block \", \"4200 Block \", \"2700 Block \", \n . \"3400 Block \", \"3400 Block \", \"200 Block \", \"3000 Block \", \"400 Block \", \n . \"2800 Block \", \"1100 Block \", \"3400 Block \", \"4600 Block \", \"700 Block \", \n . \"3500 Block \", \"1300 Block \", \"3700 Block \", \"1100 Block \", \"100 Block \", \n . \"2700 Block \", \"2800 Block \", \"3100 Block \", \"2100 Block \", \"2800 Block \", \n . \"3500 Block \", \"1800 Block \", \"100 Block \", \"2700 Block \", \"800 Block \", \n . \"800 Block \", \"2200 Block \", \"1800 Block \", \"2300 Block \", \"500 Block \", \n . \"2200 Block \", \"3500 Block \", \"600 Block \", \"2900 Block \", \"2700 Block \", \n . \"1300 Block \", \"3300 Block \", \"5000 Block \", \"2800 Block \", \"100 Block \", \n . \"2400 Block \", \"2200 Block \", \"400 Block \", \"2100 Block \", \"1900 Block \", \n . \"2600 Block \", \"2400 Block \", \"100 Block \", \"400 Block \", \"2400 Block \", \n . \"2400 Block \", \"2000 Block \", \"100 Block \", \"400 Block \", \"2500 Block \", \n . \"500 Block \", \"500 Block \", \"600 Block \", \"2600 Block \", \"2500 Block \", \n . \"900 Block \", \"1500 Block \", \"500 Block \", \"1600 Block \", \"2600 Block \", \n . \"900 Block \", \"2000 Block \", \"2300 Block \", \"2100 Block \", \"600 Block \", \n . \"2300 Block \", \"1800 Block \", \"1200 Block \", \"2100 Block \", \"2500 Block \", \n . \"300 Block \", \"100 Block \", \"2400 Block \", \"900 Block \", \"1500 Block \", \n . \"2600 Block \", \"5800 Block \", \"6500 Block \", \"1300 Block \", \"200 Block \", \n . \"6100 Block \", \"5500 Block \", \"200 Block \", \"100 Block \", \"5600 Block \", \n . \"6200 Block \", \"5800 Block \", \"500 Block \", \"4800 Block \", \"1400 Block \", \n . \"4900 Block \", \"100 Block \", \"1700 Block \", \"6100 Block \", \"5600 Block \", \n . \"1500 Block \", \"5500 Block \", \"500 Block \", \"1400 Block \", \"5900 Block \", \n . \"2000 Block \", \"3000 Block \", \"2800 Block \", \"1300 Block \", \"2700 Block \", \n . \"1300 Block \", \"1800 Block \", \"3300 Block \", \"3100 Block \", \"2900 Block \", \n . \"2400 Block \", \"1200 Block \", \"2300 Block \", \"2500 Block \", \"1200 Block \", \n . \"3300 Block \", \"1600 Block \", \"3100 Block \", \"1800 Block \", \"3000 Block \", \n . \"2000 Block \", \"300 Block \", \"100 Block \", \"1800 Block \", \"1100 Block \", \n . \"2700 Block \", \"2900 Block \", \"3000 Block \", \"100 Block \", \"3100 Block \", \n . \"1000 Block \", \"700 Block \", \"5000 Block \", \"2800 Block \", \"800 Block \", \n . \"4000 Block \", \"1300 Block \", \"3300 Block \", \"4000 Block \", \"2700 Block \", \n . \"3700 Block \", \"1300 Block \", \"3700 Block \", \"3600 Block \", \"400 Block \", \n . \"2800 Block \", \"2900 Block \", \"3200 Block \", \"500 Block \", \"3400 Block \", \n . \"100 Block \", \"300 Block \", \"300 Block \", \"2000 Block \", \"3400 Block \", \n . \"3000 Block \", \"3600 Block \", \"2000 Block \", \"3500 Block \", \"3200 Block \", \n . \"4200 Block \", \"100 Block \", \"3400 Block \", \"4400 Block \", \"600 Block \", \n . \"0 Block \", \"2400 Block \", \"2100 Block \", \"900 Block \", \"2200 Block \", \n . \"500 Block \", \"400 Block \", \"2600 Block \", \"1900 Block \", \"1900 Block \", \n . \"1800 Block \", \"2900 Block \", \"2200 Block \", \"2400 Block \", \"2000 Block \", \n . \"2100 Block \", \"2000 Block \", \"2800 Block \", \"2600 Block \", \"2900 Block \", \n . \"1700 Block \", \"2300 Block \", \"1500 Block \", \"2400 Block \", \"3100 Block \", \n . \"2600 Block \", \"2100 Block \", \"600 Block \", \"2900 Block \", \"300 Block \", \n . \"400 Block \", \"3900 Block \", \"4200 Block \", \"2800 Block \", \"200 Block \", \n . \"3600 Block \", \"2700 Block \", \"3100 Block \", \"3500 Block \", \"100 Block \", \n . \"1600 Block \", \"2700 Block \", \"3000 Block \", \"3100 Block \", \"1300 Block \", \n . \"400 Block \", \"3700 Block \", \"100 Block \", \"2700 Block \", \"4000 Block \", \n . \"3000 Block \", \"600 Block \", \"400 Block \", \"2800 Block \", \"2800 Block \", \n . \"4300 Block \", \"4500 Block \", \"3200 Block \", \"3900 Block \", \"3800 Block \", \n . \"1100 Block \", \"3900 Block \", \"2900 Block \", \"3200 Block \", \"3700 Block \", \n . \"1300 Block \", \"4800 Block \", \"5900 Block \", \"4800 Block \", \"500 Block \", \n . \"3100 Block \", \"2900 Block \", \"3800 Block \", \"4700 Block \", \"3700 Block \", \n . \"3700 Block \", \"200 Block \", \"200 Block \", \"3300 Block \", \"4100 Block \", \n . \"1100 Block \", \"1100 Block \", \"600 Block \", \"700 Block \", \"3200 Block \", \n . \"800 Block \", \"4700 Block \", \"600 Block \", \"4800 Block \", \"1300 Block \", \n . \"2700 Block \", \"3300 Block \", \"3600 Block \", \"600 Block \", \"1300 Block \", \n . \"2800 Block \", \"400 Block \", \"300 Block \", \"3000 Block \", \"500 Block \", \n . \"3000 Block \", \"2900 Block \", \"3200 Block \", \"3000 Block \", \"3500 Block \", \n . \"3600 Block \", \"4700 Block \", \"4600 Block \", \"800 Block \", \"4900 Block \", \n . \"2900 Block \", \"2800 Block \", \"4700 Block \", \"600 Block \", \"0 Block \", \n . \"4000 Block \", \"700 Block \", \"2500 Block \", \"1200 Block \", \"2800 Block \", \n . \"1400 Block \", \"1400 Block \", \"1500 Block \", \"2700 Block \", \"1600 Block \", \n . \"2300 Block \", \"3000 Block \", \"2900 Block \", \"1700 Block \", \"1300 Block \", \n . \"5800 Block \", \"1300 Block \", \"5600 Block \", \"300 Block \", \"3700 Block \", \n . \"5100 Block \", \"3700 Block \", \"200 Block \", \"1500 Block \", \"1600 Block \", \n . \"1800 Block \", \"1600 Block \", \"2000 Block \", \"4400 Block \", \"1200 Block \", \n . \"5300 Block \", \"6200 Block \", \"5400 Block \", \"5700 Block \", \"200 Block \", \n . \"0 Block \", \"1600 Block \", \"1400 Block \", \"300 Block \", \"5400 Block \", \n . \"400 Block \", \"4900 Block \", \"6300 Block \", \"1400 Block \", \"5400 Block \", \n . \"300 Block \", \"2600 Block \", \"1500 Block \", \"1900 Block \", \"1700 Block \", \n . \"2800 Block \", \"100 Block \", \"1300 Block \", \"1300 Block \", \"700 Block \", \n . \"100 Block \", \"600 Block \", \"1300 Block \", \"400 Block \", \"8000 Block \", \n . \"3100 Block \", \"1100 Block \", \"200 Block \", \"7100 Block \", \"6600 Block \", \n . \"2300 Block \", \"1100 Block \", \"2400 Block \", \"5700 Block \", \"5400 Block \", \n . \"1000 Block \", \"5800 Block \", \"2200 Block \", \"2500 Block \", \"6000 Block \", \n . \"6700 Block \", \"0 Block \", \"6700 Block \", \"600 Block \", \"1900 Block \", \n . \"5500 Block \", \"7800 Block \", \"5500 Block \", \"6100 Block \", \"7500 Block \", \n . \"5600 Block \", \"7200 Block \", \"0 Block \", \"1700 Block \", \"2200 Block \", \n . \"4700 Block \", \"1600 Block \", \"4600 Block \", \"1200 Block \", \"4900 Block \", \n . \"4800 Block \", \"1800 Block \", \"7400 Block \", \"4700 Block \", \"1700 Block \", \n . \"4700 Block \", \"6300 Block \", \"1600 Block \", \"100 Block \", \"4400 Block \", \n . \"600 Block \", \"800 Block \", \"800 Block \", \"5100 Block \", \"Wagner \", \n . \" Olney\", \"Ashmead \", \" Wakefield Sts\", \"Jackson \", \" Disston\", \n . \"American \", \" Olney Sts\", \"400 Block \", \"900 Block \", \"2000 Block \", \n . \"4900 Block \"))",
      "2. `[<-.data.frame`(`*tmp*`, row, STREET2, value = c(\"2800 Block \", \n . \"1700 Block \", \"2200 Block \", \"4200 Block \", \"3700 Block \", \"3900 Block \", \n . \"2500 Block \", \"2700 Block \", \"2800 Block \", \"3700 Block \", \"1800 Block \", \n . \"1600 Block \", \"2900 Block \", \"2600 Block \", \"3400 Block \", \"2900 Block \", \n . \"2800 Block \", \"3700 Block \", \"1400 Block \", \"2700 Block \", \"3100 Block \", \n . \"1600 Block \", \"2900 Block \", \"2200 Block \", \"2400 Block \", \"700 Block \", \n . \"1400 Block \", \"5900 Block \", \"300 Block \", \"1100 Block \", \"1400 Block \", \n . \"500 Block \", \"2000 Block \", \"100 Block \", \"1000 Block \", \"4500 Block \", \n . \"4800 Block \", \"5100 Block \", \"2000 Block \", \"3600 Block \", \"4500 Block \", \n . \"5500 Block \", \"4500 Block \", \"1500 Block \", \"5900 Block \", \"400 Block \", \n . \"2000 Block \", \"200 Block \", \"1300 Block \", \"2000 Block \", \"1800 Block \", \n . \"2100 Block \", \"5900 Block \", \"300 Block \", \"2100 Block \", \"1800 Block \", \n . \"1700 Block \", \"5100 Block \", \"6700 Block \", \"2100 Block \", \"5200 Block \", \n . \"5900 Block \", \"4900 Block \", \"500 Block \", \"6700 Block \", \"5200 Block \", \n . \"1200 Block \", \"1000 Block \", \"1500 Block \", \"1800 Block \", \"4900 Block \", \n . \"5700 Block \", \"1600 Block \", \"2900 Block \", \"3100 Block \", \"4400 Block \", \n . \"4800 Block \", \"3000 Block \", \"2600 Block \", \"2600 Block \", \"1500 Block \", \n . \"3100 Block \", \"2100 Block \", \"2100 Block \", \"4100 Block \", \"3200 Block \", \n . \"400 Block \", \"2900 Block \", \"2800 Block \", \"100 Block \", \"3800 Block \", \n . \"400 Block \", \"3700 Block \", \"1700 Block \", \"2200 Block \", \"5500 Block \", \n . \"4200 Block \", \"200 Block \", \"3800 Block \", \"2600 Block \", \"100 Block \", \n . \"3000 Block \", \"2100 Block \", \"5000 Block \", \"2700 Block \", \"1600 Block \", \n . \"3100 Block \", \"2700 Block \", \"3000 Block \", \"1700 Block \", \"4300 Block \", \n . \"7100 Block \", \"0 Block \", \"500 Block \", \"7100 Block \", \"100 Block \", \n . \"5500 Block \", \"7800 Block \", \"7400 Block \", \"1300 Block \", \"7300 Block \", \n . \"300 Block \", \"5300 Block \", \"5200 Block \", \"6300 Block \", \"0 Block \", \n . \"1100 Block \", \"2100 Block \", \"2000 Block \", \"7200 Block \", \"500 Block \", \n . \"1300 Block \", \"600 Block \", \"5500 Block \", \"500 Block \", \"1100 Block \", \n . \"7400 Block \", \"800 Block \", \"1300 Block \", \"1000 Block \", \"300 Block \", \n . \"6600 Block \", \"7100 Block \", \"400 Block \", \"7000 Block \", \"800 Block \", \n . \"300 Block \", \"1300 Block \", \"7900 Block \", \"500 Block \", \"600 Block \", \n . \"5500 Block \", \"100 Block \", \"5000 Block \", \"1100 Block \", \"1900 Block \", \n . \"8300 Block \", \"5300 Block \", \"6600 Block \", \"200 Block \", \"400 Block \", \n . \"6300 Block \", \"1900 Block \", \"4600 Block \", \"700 Block \", \"2800 Block \", \n . \"3300 Block \", \"400 Block \", \"3000 Block \", \"1100 Block \", \"3300 Block \", \n . \"1300 Block \", \"4900 Block \", \"500 Block \", \"4500 Block \", \"2000 Block \", \n . \"5100 Block \", \"1600 Block \", \"1400 Block \", \"6700 Block \", \"1300 Block \", \n . \"400 Block \", \"6700 Block \", \"1900 Block \", \"5000 Block \", \"1800 Block \", \n . \"2100 Block \", \"5700 Block \", \"5900 Block \", \"200 Block \", \"2900 Block \", \n . \"2700 Block \", \"2900 Block \", \"2000 Block \", \"1700 Block \", \"1700 Block \", \n . \"3500 Block \", \"4300 Block \", \"3400 Block \", \"3500 Block \", \"3100 Block \", \n . \"0 Block \", \"100 Block \", \"4300 Block \", \"2700 Block \", \"2700 Block \", \n . \"3600 Block \", \"3600 Block \", \"3100 Block \", \"3100 Block \", \"3000 Block \", \n . \"1400 Block \", \"1500 Block \", \"25th \", \" Wolf St.\", \"2nd \", \" Chestnut\", \n . \"21st \", \" Ellsworth St.\", \"61st \", \" Callowhill St.\", \"52nd \", \n . \" Market St.\", \"30th \", \" Girard Ave.\", \"33rd \", \" Berks St.\", \n . \"29th \", \" Diamond St.\", \"27th \", \" Fletcher Sts.\", \"2nd \", \" Linton\", \n . \"21st \", \" Nedro St.\", \"17th \", \" W. Cayuga St.\", \"17th \", \" Cayuga St.(Blavis)\", \n . \"60th \", \" Media St.\", \"5th \", \" Venago St\", \"23rd \", \"Lippincott Sts.\", \n . \"6500 Block \", \"60th \", \" Spruce\", \"6000 Block \", \"5500 Block \", \n . \"700 Block \", \"5900 Block \", \"6100 Block \", \"500 Block \", \"5100 Block \", \n . \"800 Block \", \"5800 Block \", \"5900 Block \", \"500 Block \", \"5800 Block \", \n . \"5400 Block \", \"5100 Block \", \"4000 Block \", \"1300 Block \", \"3000 Block \", \n . \"2000 Block \", \"100 Block \", \"2200 Block \", \"2400 Block \", \"2100 Block \", \n . \"5600 Block \", \"2100 Block \", \"5400 Block \", \"6600 Block \", \"200 Block \", \n . \"5900 Block \", \"100 Block \", \"600 Block \", \"4500 Block \", \"400 Block \", \n . \"4700 Block \", \"4600 Block \", \"200 Block \", \"4400 Block \", \"4200 Block \", \n . \"5100 Block \", \"4300 Block \", \"0 Block \", \"3400 Block \", \"5700 Block \", \n . \"5500 Block \", \"2100 Block \", \"5600 Block \", \"1500 Block \", \"5700 Block \", \n . \"6700 Block \", \"100 Block \", \"6800 Block \", \"1200 Block \", \"5900 Block \", \n . \"6100 Block \", \"7700 Block \", \"5200 Block \", \"6500 Block \", \"6400 Block \", \n . \"1400 Block \", \"0 Block \", \"1800 Block \", \"8000 Block \", \"1000 Block \", \n . \"3500 Block \", \"100 Block \", \"6200 Block \", \"1200 Block \", \"1900 Block \", \n . \"800 Block \", \"900 Block \", \"600 Block \", \"1100 Block \", \"300 Block \", \n . \"900 Block \", \"1400 Block \", \"600 Block \", \"500 Block \", \"1700 Block \", \n . \"1300 Block \", \"400 Block \", \"8200 Block \", \"800 Block \", \"5800 Block \", \n . \"700 Block \", \"1200 Block \", \"500 Block \", \"600 Block \", \"500 Block \", \n . \"900 Block \", \"6300 Block \", \"5400 Block \", \"500 Block \", \"1400 Block \", \n . \"6400 Block \", \"900 Block \", \"700 Block \", \"6500 Block \", \"6100 Block \", \n . \"500 Block \", \"900 Block \", \"6200 Block \", \"7900 Block \", \"6900 Block \", \n . \"900 Block \", \"5900 Block \", \"1800 Block \", \"1200 Block \", \"1500 Block \", \n . \"4600 Block \", \"4700 Block \", \"4700 Block \", \"2900 Block \", \"5100 Block \", \n . \"4800 Block \", \"7600 Block \", \"4700 Block \", \"6000 Block \", \"4300 Block \", \n . \"6000 Block \", \"4800 Block \", \"1600 Block \", \"5300 Block \", \"5000 Block \", \n . \"4700 Block \", \"7000 Block \", \"3200 Block \", \"4700 Block \", \"5700 Block \", \n . \"1700 Block \", \"1700 Block \", \"2800 Block \", \"5200 Block \", \"2000 Block \", \n . \"5200 Block \", \"1400 Block \", \"5200 Block \", \"4600 Block \", \"4500 Block \", \n . \"4900 Block \", \"5000 Block \", \"6700 Block \", \"1700 Block \", \"4700 Block \", \n . \"2600 Block \", \"6800 Block \", \"5200 Block \", \"4400 Block \", \"4100 Block \", \n . \"1800 Block \", \"4000 Block \", \"5000 Block \", \"5800 Block \", \"2100 Block \", \n . \"4200 Block \", \"7100 Block \", \"6200 Block \", \"5300 Block \", \"6700 Block \", \n . \"5700 Block \", \"5800 Block \", \"2400 Block \", \"5700 Block \", \"2400 Block \", \n . \"6900 Block \", \"5700 Block \", \"1600 Block \", \"1700 Block \", \"1600 Block \", \n . \"5300 Block \", \"6600 Block \", \"1400 Block \", \"5000 Block \", \"6500 Block \", \n . \"6300 Block \", \"6000 Block \", \"5400 Block \", \"1000 Block \", \"2000 Block \", \n . \"7200 Block \", \"5500 Block \", \"5700 Block \", \"5300 Block \", \"1800 Block \", \n . \"2600 Block \", \"5600 Block \", \"5300 Block \", \"2000 Block \", \"1100 Block \", \n . \"7100 Block \", \"1300 Block \", \"2000 Block \", \"1800 Block \", \"7800 Block \", \n . \"2500 Block \", \"1100 Block \", \"900 Block \", \"2600 Block \", \"6400 Block \", \n . \"2700 Block \", \"6600 Block \", \"6400 Block \", \"5600 Block \", \"300 Block \", \n . \"5100 Block \", \"700 Block \", \"4600 Block \", \"5100 Block \", \"4100 Block \", \n . \"3700 Block \", \"700 Block \", \"4500 Block \", \"4000 Block \", \"4600 Block \", \n . \"800 Block \", \"2100 Block \", \"5200 Block \", \"800 Block \", \"4600 Block \", \n . \"4900 Block \", \"3800 Block \", \"100 Block \", \"700 Block \", \"4100 Block \", \n . \"5100 Block \", \"600 Block \", \"500 Block \", \"400 Block \", \"700 Block \", \n . \"3800 Block \", \"700 Block \", \"4900 Block \", \"4000 Block \", \"4300 Block \", \n . \"200 Block \", \"800 Block \", \"900 Block \", \"5100 Block \", \"5000 Block \", \n . \"1700 Block \", \"1100 Block \", \"2100 Block \", \"1300 Block \", \"1400 Block \", \n . \"1500 Block \", \"2700 Block \", \"5500 Block \", \"1200 Block \", \"1700 Block \", \n . \"2000 Block \", \"1500 Block \", \"2000 Block \", \"1200 Block \", \"1600 Block \", \n . \"2300 Block \", \"1300 Block \", \"2000 Block \", \"1700 Block \", \"1700 Block \", \n . \"1800 Block \", \"1200 Block \", \"2400 Block \", \"800 Block \", \"700 Block \", \n . \"100 Block \", \"800 Block \", \"0 Block \", \"1300 Block \", \"1000 Block \", \n . \"600 Block \", \"2000 Block \", \"4300 Block \", \"100 Block \", \"3800 Block \", \n . \"800 Block \", \"1000 Block \", \"200 Block \", \"800 Block \", \"1600 Block \", \n . \"6600 Block \", \"1100 Block \", \"6100 Block \", \"5600 Block \", \"1900 Block \", \n . \"5500 Block \", \"7100 Block \", \"5900 Block \", \"2600 Block \", \"6500 Block \", \n . \"1400 Block \", \"5800 Block \", \"5800 Block \", \"500 Block \", \"1300 Block \", \n . \"6700 Block \", \"2200 Block \", \"2600 Block \", \"2200 Block \", \"6100 Block \", \n . \"5500 Block \", \"6200 Block \", \"2500 Block \", \"6400 Block \", \"1500 Block \", \n . \"1500 Block \", \"6700 Block \", \"5400 Block \", \"5700 Block \", \"5700 Block \", \n . \"1900 Block \", \"1800 Block \", \"2000 Block \", \"2600 Block \", \"2700 Block \", \n . \"1400 Block \", \"1900 Block \", \"2200 Block \", \"6500 Block \", \"900 Block \", \n . \"900 Block \", \"500 Block \", \"6000 Block \", \"2100 Block \", \"2200 Block \", \n . \"6700 Block \", \"1500 Block \", \"6100 Block \", \"6900 Block \", \"6000 Block \", \n . \"1300 Block \", \"5500 Block \", \"100 Block \", \"5900 Block \", \"500 Block \", \n . \"6100 Block \", \"500 Block \", \"5200 Block \", \"6000 Block \", \"5400 Block \", \n . \"5500 Block \", \"5200 Block \", \"5800 Block \", \"5100 Block \", \"5300 Block \", \n . \"5200 Block \", \"900 Block \", \"1200 Block \", \"5100 Block \", \"5400 Block \", \n . \"5000 Block \", \"1500 Block \", \"1200 Block \", \"1700 Block \", \"1900 Block \", \n . \"1700 Block \", \"1800 Block \", \"1700 Block \", \"1400 Block \", \"1200 Block \", \n . \"1400 Block \", \"1500 Block \", \"1400 Block \", \"2300 Block \", \"1500 Block \", \n . \"1900 Block \", \"2100 Block \", \"1400 Block \", \"1900 Block \", \"1900 Block \", \n . \"1600 Block \", \"1600 Block \", \"2200 Block \", \"1800 Block \", \"2500 Block \", \n . \"3000 Block \", \"2600 Block \", \"2000 Block \", \"1200 Block \", \"2000 Block \", \n . \"2500 Block \", \"1700 Block \", \"3200 Block \", \"2100 Block \", \"1800 Block \", \n . \"1600 Block \", \"1100 Block \", \"1600 Block \", \"1800 Block \", \"1200 Block \", \n . \"2400 Block \", \"2200 Block \", \"2400 Block \", \"2600 Block \", \"2300 Block \", \n . \"2400 Block \", \"2700 Block \", \"1900 Block \", \"3000 Block \", \"2300 Block \", \n . \"2500 Block \", \"1000 Block \", \"2300 Block \", \"2400 Block \", \"1500 Block \", \n . \"2500 Block \", \"1900 Block \", \"1400 Block \", \"2300 Block \", \"1600 Block \", \n . \"2600 Block \", \"2400 Block \", \"3200 Block \", \"2300 Block \", \"2500 Block \", \n . \"1700 Block \", \"1700 Block \", \"2100 Block \", \"2500 Block \", \"3100 Block \", \n . \"2600 Block \", \"2400 Block \", \"2600 Block \", \"2400 Block \", \"2100 Block \", \n . \"1700 Block \", \"1700 Block \", \"2500 Block \", \"2200 Block \", \"2900 Block \", \n . \"2500 Block \", \"2200 Block \", \"1800 Block \", \"4500 Block \", \"6200 Block \", \n . \"4600 Block \", \"5200 Block \", \"4700 Block \", \"5200 Block \", \"4900 Block \", \n . \"1100 Block \", \"5300 Block \", \"7100 Block \", \"800 Block \", \"3700 Block \", \n . \"4900 Block \", \"600 Block \", \"300 Block \", \"700 Block \", \"600 Block \", \n . \"600 Block \", \"5100 Block \", \"4000 Block \", \"4900 Block \", \"4200 Block \", \n . \"5800 Block \", \"800 Block \", \"5700 Block \", \"5700 Block \", \"200 Block \", \n . \"5900 Block \", \"3500 Block \", \"100 Block \", \"6100 Block \", \"6000 Block \", \n . \"5300 Block \", \"1300 Block \", \"0 Block \", \"5300 Block \", \"6100 Block \", \n . \"200 Block \", \"5100 Block \", \"5300 Block \", \"5400 Block \", \"5100 Block \", \n . \"6600 Block \", \"100 Block \", \"7600 Block \", \"100 Block \", \"6300 Block \", \n . \"0 Block \", \"5400 Block \", \"4900 Block \", \"400 Block \", \"5500 Block \", \n . \"5400 Block \", \"5000 Block \", \"5300 Block \", \"6700 Block \", \"300 Block \", \n . \"6700 Block \", \"1200 Block \", \"0 Block \", \"5500 Block \", \"2900 Block \", \n . \"1500 Block \", \"2200 Block \", \"5400 Block \", \"5800 Block \", \"5500 Block \", \n . \"4500 Block \", \"900 Block \", \"0 Block \", \"0 Block \", \"2600 Block \", \n . \"2400 Block \", \"2600 Block \", \"2400 Block \", \"1900 Block \", \"2500 Block \", \n . \"2500 Block \", \"2100 Block \", \"2400 Block \", \"1400 Block \", \"2500 Block \", \n . \"2300 Block \", \"2200 Block \", \"1800 Block \", \"2100 Block \", \"2200 Block \", \n . \"3000 Block \", \"3900 Block \", \"100 Block \", \"3400 Block \", \"800 Block \", \n . \"3500 Block \", \"2000 Block \", \"2900 Block \", \"3100 Block \", \"1800 Block \", \n . \"4200 Block \", \"3500 Block \", \"100 Block \", \"3400 Block \", \"1800 Block \", \n . \"1200 Block \", \"3900 Block \", \"2800 Block \", \"3000 Block \", \"2100 Block \", \n . \"2900 Block \", \"2900 Block \", \"1900 Block \", \"3500 Block \", \"500 Block \", \n . \"3200 Block \", \"3000 Block \", \"3000 Block \", \"400 Block \", \"3100 Block \", \n . \"3500 Block \", \"3000 Block \", \"1800 Block \", \"3300 Block \", \"4000 Block \", \n . \"300 Block \", \"2200 Block \", \"3000 Block \", \"2000 Block \", \"2000 Block \", \n . \"2000 Block \", \"1800 Block \", \"400 Block \", \"1800 Block \", \"3100 Block \", \n . \"2800 Block \", \"3000 Block \", \"1500 Block \", \"2800 Block \", \"3000 Block \", \n . \"3200 Block \", \"2700 Block \", \"2800 Block \", \"2900 Block \", \"2900 Block \", \n . \"1100 Block \", \"2900 Block \", \"2300 Block \", \"2500 Block \", \"1700 Block \", \n . \"2900 Block \", \"2100 Block \", \"5800 Block \", \"5900 Block \", \"5900 Block \", \n . \"6100 Block \", \"6000 Block \", \"100 Block \", \"6500 Block \", \"6000 Block \", \n . \"1500 Block \", \"5900 Block \", \"5500 Block \", \"5400 Block \", \"5300 Block \", \n . \"6400 Block \", \"5500 Block \", \"900 Block \", \"1500 Block \", \"6600 Block \", \n . \"6600 Block \", \"100 Block \", \"5000 Block \", \"6200 Block \", \"900 Block \", \n . \"1700 Block \", \"1600 Block \", \"5400 Block \", \"6200 Block \", \"5800 Block \", \n . \"5300 Block \", \"300 Block \", \"6100 Block \", \"1300 Block \", \"5500 Block \", \n . \"5400 Block \", \"5900 Block \", \"1700 Block \", \"100 Block \", \"5700 Block \", \n . \"6600 Block \", \"1200 Block \", \"5200 Block \", \"5500 Block \", \"2000 Block \", \n . \"1400 Block \", \"1900 Block \", \"100 Block \", \"7500 Block \", \"7400 Block \", \n . \"5700 Block \", \"100 Block \", \"6800 Block \", \"6600 Block \", \"4300 Block \", \n . \"3700 Block \", \"300 Block \", \"3400 Block \", \"4200 Block \", \"2700 Block \", \n . \"3400 Block \", \"3400 Block \", \"200 Block \", \"3000 Block \", \"400 Block \", \n . \"2800 Block \", \"1100 Block \", \"3400 Block \", \"4600 Block \", \"700 Block \", \n . \"3500 Block \", \"1300 Block \", \"3700 Block \", \"1100 Block \", \"100 Block \", \n . \"2700 Block \", \"2800 Block \", \"3100 Block \", \"2100 Block \", \"2800 Block \", \n . \"3500 Block \", \"1800 Block \", \"100 Block \", \"2700 Block \", \"800 Block \", \n . \"800 Block \", \"2200 Block \", \"1800 Block \", \"2300 Block \", \"500 Block \", \n . \"2200 Block \", \"3500 Block \", \"600 Block \", \"2900 Block \", \"2700 Block \", \n . \"1300 Block \", \"3300 Block \", \"5000 Block \", \"2800 Block \", \"100 Block \", \n . \"2400 Block \", \"2200 Block \", \"400 Block \", \"2100 Block \", \"1900 Block \", \n . \"2600 Block \", \"2400 Block \", \"100 Block \", \"400 Block \", \"2400 Block \", \n . \"2400 Block \", \"2000 Block \", \"100 Block \", \"400 Block \", \"2500 Block \", \n . \"500 Block \", \"500 Block \", \"600 Block \", \"2600 Block \", \"2500 Block \", \n . \"900 Block \", \"1500 Block \", \"500 Block \", \"1600 Block \", \"2600 Block \", \n . \"900 Block \", \"2000 Block \", \"2300 Block \", \"2100 Block \", \"600 Block \", \n . \"2300 Block \", \"1800 Block \", \"1200 Block \", \"2100 Block \", \"2500 Block \", \n . \"300 Block \", \"100 Block \", \"2400 Block \", \"900 Block \", \"1500 Block \", \n . \"2600 Block \", \"5800 Block \", \"6500 Block \", \"1300 Block \", \"200 Block \", \n . \"6100 Block \", \"5500 Block \", \"200 Block \", \"100 Block \", \"5600 Block \", \n . \"6200 Block \", \"5800 Block \", \"500 Block \", \"4800 Block \", \"1400 Block \", \n . \"4900 Block \", \"100 Block \", \"1700 Block \", \"6100 Block \", \"5600 Block \", \n . \"1500 Block \", \"5500 Block \", \"500 Block \", \"1400 Block \", \"5900 Block \", \n . \"2000 Block \", \"3000 Block \", \"2800 Block \", \"1300 Block \", \"2700 Block \", \n . \"1300 Block \", \"1800 Block \", \"3300 Block \", \"3100 Block \", \"2900 Block \", \n . \"2400 Block \", \"1200 Block \", \"2300 Block \", \"2500 Block \", \"1200 Block \", \n . \"3300 Block \", \"1600 Block \", \"3100 Block \", \"1800 Block \", \"3000 Block \", \n . \"2000 Block \", \"300 Block \", \"100 Block \", \"1800 Block \", \"1100 Block \", \n . \"2700 Block \", \"2900 Block \", \"3000 Block \", \"100 Block \", \"3100 Block \", \n . \"1000 Block \", \"700 Block \", \"5000 Block \", \"2800 Block \", \"800 Block \", \n . \"4000 Block \", \"1300 Block \", \"3300 Block \", \"4000 Block \", \"2700 Block \", \n . \"3700 Block \", \"1300 Block \", \"3700 Block \", \"3600 Block \", \"400 Block \", \n . \"2800 Block \", \"2900 Block \", \"3200 Block \", \"500 Block \", \"3400 Block \", \n . \"100 Block \", \"300 Block \", \"300 Block \", \"2000 Block \", \"3400 Block \", \n . \"3000 Block \", \"3600 Block \", \"2000 Block \", \"3500 Block \", \"3200 Block \", \n . \"4200 Block \", \"100 Block \", \"3400 Block \", \"4400 Block \", \"600 Block \", \n . \"0 Block \", \"2400 Block \", \"2100 Block \", \"900 Block \", \"2200 Block \", \n . \"500 Block \", \"400 Block \", \"2600 Block \", \"1900 Block \", \"1900 Block \", \n . \"1800 Block \", \"2900 Block \", \"2200 Block \", \"2400 Block \", \"2000 Block \", \n . \"2100 Block \", \"2000 Block \", \"2800 Block \", \"2600 Block \", \"2900 Block \", \n . \"1700 Block \", \"2300 Block \", \"1500 Block \", \"2400 Block \", \"3100 Block \", \n . \"2600 Block \", \"2100 Block \", \"600 Block \", \"2900 Block \", \"300 Block \", \n . \"400 Block \", \"3900 Block \", \"4200 Block \", \"2800 Block \", \"200 Block \", \n . \"3600 Block \", \"2700 Block \", \"3100 Block \", \"3500 Block \", \"100 Block \", \n . \"1600 Block \", \"2700 Block \", \"3000 Block \", \"3100 Block \", \"1300 Block \", \n . \"400 Block \", \"3700 Block \", \"100 Block \", \"2700 Block \", \"4000 Block \", \n . \"3000 Block \", \"600 Block \", \"400 Block \", \"2800 Block \", \"2800 Block \", \n . \"4300 Block \", \"4500 Block \", \"3200 Block \", \"3900 Block \", \"3800 Block \", \n . \"1100 Block \", \"3900 Block \", \"2900 Block \", \"3200 Block \", \"3700 Block \", \n . \"1300 Block \", \"4800 Block \", \"5900 Block \", \"4800 Block \", \"500 Block \", \n . \"3100 Block \", \"2900 Block \", \"3800 Block \", \"4700 Block \", \"3700 Block \", \n . \"3700 Block \", \"200 Block \", \"200 Block \", \"3300 Block \", \"4100 Block \", \n . \"1100 Block \", \"1100 Block \", \"600 Block \", \"700 Block \", \"3200 Block \", \n . \"800 Block \", \"4700 Block \", \"600 Block \", \"4800 Block \", \"1300 Block \", \n . \"2700 Block \", \"3300 Block \", \"3600 Block \", \"600 Block \", \"1300 Block \", \n . \"2800 Block \", \"400 Block \", \"300 Block \", \"3000 Block \", \"500 Block \", \n . \"3000 Block \", \"2900 Block \", \"3200 Block \", \"3000 Block \", \"3500 Block \", \n . \"3600 Block \", \"4700 Block \", \"4600 Block \", \"800 Block \", \"4900 Block \", \n . \"2900 Block \", \"2800 Block \", \"4700 Block \", \"600 Block \", \"0 Block \", \n . \"4000 Block \", \"700 Block \", \"2500 Block \", \"1200 Block \", \"2800 Block \", \n . \"1400 Block \", \"1400 Block \", \"1500 Block \", \"2700 Block \", \"1600 Block \", \n . \"2300 Block \", \"3000 Block \", \"2900 Block \", \"1700 Block \", \"1300 Block \", \n . \"5800 Block \", \"1300 Block \", \"5600 Block \", \"300 Block \", \"3700 Block \", \n . \"5100 Block \", \"3700 Block \", \"200 Block \", \"1500 Block \", \"1600 Block \", \n . \"1800 Block \", \"1600 Block \", \"2000 Block \", \"4400 Block \", \"1200 Block \", \n . \"5300 Block \", \"6200 Block \", \"5400 Block \", \"5700 Block \", \"200 Block \", \n . \"0 Block \", \"1600 Block \", \"1400 Block \", \"300 Block \", \"5400 Block \", \n . \"400 Block \", \"4900 Block \", \"6300 Block \", \"1400 Block \", \"5400 Block \", \n . \"300 Block \", \"2600 Block \", \"1500 Block \", \"1900 Block \", \"1700 Block \", \n . \"2800 Block \", \"100 Block \", \"1300 Block \", \"1300 Block \", \"700 Block \", \n . \"100 Block \", \"600 Block \", \"1300 Block \", \"400 Block \", \"8000 Block \", \n . \"3100 Block \", \"1100 Block \", \"200 Block \", \"7100 Block \", \"6600 Block \", \n . \"2300 Block \", \"1100 Block \", \"2400 Block \", \"5700 Block \", \"5400 Block \", \n . \"1000 Block \", \"5800 Block \", \"2200 Block \", \"2500 Block \", \"6000 Block \", \n . \"6700 Block \", \"0 Block \", \"6700 Block \", \"600 Block \", \"1900 Block \", \n . \"5500 Block \", \"7800 Block \", \"5500 Block \", \"6100 Block \", \"7500 Block \", \n . \"5600 Block \", \"7200 Block \", \"0 Block \", \"1700 Block \", \"2200 Block \", \n . \"4700 Block \", \"1600 Block \", \"4600 Block \", \"1200 Block \", \"4900 Block \", \n . \"4800 Block \", \"1800 Block \", \"7400 Block \", \"4700 Block \", \"1700 Block \", \n . \"4700 Block \", \"6300 Block \", \"1600 Block \", \"100 Block \", \"4400 Block \", \n . \"600 Block \", \"800 Block \", \"800 Block \", \"5100 Block \", \"Wagner \", \n . \" Olney\", \"Ashmead \", \" Wakefield Sts\", \"Jackson \", \" Disston\", \n . \"American \", \" Olney Sts\", \"400 Block \", \"900 Block \", \"2000 Block \", \n . \"4900 Block \"))"
     ]
    }
   ],
   "source": [
    "street_separate <- for (i in seq (from = 1, to = length(colnames(new.street)))) {\n",
    "    for (row in seq(from =1, to=nrow(new.street))) {\n",
    "        if (i == 3 ) {\n",
    "          new.street[row,STREET2] <- unlist(strsplit(new.street$BLOCK, split = \"&\"))\n",
    "        }       \n",
    "    }    \n",
    "}    \n",
    "\n",
    "head(street_separate, 5L)"
   ]
  },
  {
   "cell_type": "markdown",
   "metadata": {},
   "source": [
    "**Task 8:** \n",
    "- Clean up the street names by trimming the whitespace from the `street` and `street2` variables. You'll need to look up the function `trimws()`.  Figure out what trim white space does."
   ]
  },
  {
   "cell_type": "code",
   "execution_count": null,
   "metadata": {
    "scrolled": true
   },
   "outputs": [],
   "source": [
    "## 8.  Develop your code for Task 8 here.\n",
    "## ---------------------------------------\n",
    "\n",
    "\n",
    "\n"
   ]
  },
  {
   "cell_type": "markdown",
   "metadata": {},
   "source": [
    "**Task 9:** \n",
    "- Continue cleaning up the street names by developing some code that loops through the data frame and checks for some common problems in the street names and that standardizes the naming conventions a bit. \n",
    "    - For example, find instances of `N` and `N.` meaning north and make sure to change so they are all `N.`.  \n",
    "    - Do as many corrections that you need to feel comfortable with this task...no need to overdo it though. This is just practice. For a real analysis you would need to be thorough. \n",
    "    \n",
    "Hint: for; if; :; nrow(); length(); regexpr(); sub()."
   ]
  },
  {
   "cell_type": "code",
   "execution_count": null,
   "metadata": {
    "scrolled": false
   },
   "outputs": [],
   "source": [
    "## 9.  Develop your code for Task 9 here.\n",
    "## ---------------------------------------\n",
    "\n",
    "\n",
    "\n",
    "\n",
    "\n",
    "\n",
    "    \n"
   ]
  },
  {
   "cell_type": "markdown",
   "metadata": {},
   "source": [
    "**Task 10:** \n",
    "- Add a new column to the data frame named `dayofweek`. Set the value of this new variable to be the name of the day of the week the shooting was reported (i.e., Monday). \n",
    "- Output the first 5 lines of the data frame to the screen. \n",
    "\n",
    "Hint: mutate(); wday()."
   ]
  },
  {
   "cell_type": "code",
   "execution_count": null,
   "metadata": {
    "scrolled": false
   },
   "outputs": [],
   "source": [
    "## 10.  Develop your code for Task 10 here.\n",
    "## ---------------------------------------\n",
    "\n",
    "\n",
    "\n",
    "\n"
   ]
  },
  {
   "cell_type": "markdown",
   "metadata": {},
   "source": [
    "**Task 11:** \n",
    "- For each shooting, compute a new variable `mindays` representing the number of days until the next shooting occurred. \n",
    "- Arrange the results such that `mindays` is reported in decreasing order. \n",
    "- Output the first 15 lines of the data frame to the screen.  \n",
    "\n",
    "Hint: for; :; nrow(); filter(); min(); arrange(); select records with dates greater than the date of the current record."
   ]
  },
  {
   "cell_type": "code",
   "execution_count": null,
   "metadata": {
    "scrolled": true
   },
   "outputs": [],
   "source": [
    "## 11.  Develop your code for Task 11 here.\n",
    "## ---------------------------------------\n",
    "\n",
    "\n",
    "\n",
    "\n",
    "\n"
   ]
  },
  {
   "cell_type": "markdown",
   "metadata": {},
   "source": [
    "**Task 12:** \n",
    "- Based on the primary street variable that was refined earlier, list the top 20 streets associated with the most shootings in this dataset. \n",
    "\n",
    "Hint: count(); arrange(); head()."
   ]
  },
  {
   "cell_type": "code",
   "execution_count": null,
   "metadata": {
    "scrolled": true
   },
   "outputs": [],
   "source": [
    "## 12.  Develop your code for Task 12 here.\n",
    "## ---------------------------------------\n",
    "\n",
    "\n",
    "\n",
    "\n"
   ]
  },
  {
   "cell_type": "markdown",
   "metadata": {},
   "source": [
    "# SAVE YOUR NOTEBOOK, then `File > Close and Halt`"
   ]
  },
  {
   "cell_type": "markdown",
   "metadata": {},
   "source": [
    "---"
   ]
  }
 ],
 "metadata": {
  "kernelspec": {
   "display_name": "R",
   "language": "R",
   "name": "ir"
  },
  "language_info": {
   "codemirror_mode": "r",
   "file_extension": ".r",
   "mimetype": "text/x-r-source",
   "name": "R",
   "pygments_lexer": "r",
   "version": "3.5.1"
  }
 },
 "nbformat": 4,
 "nbformat_minor": 2
}
