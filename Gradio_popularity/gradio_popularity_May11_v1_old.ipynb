{
 "cells": [
  {
   "cell_type": "code",
   "execution_count": 1,
   "id": "767a297f",
   "metadata": {},
   "outputs": [],
   "source": [
    "import gradio as gr\n",
    "from joblib import Parallel, delayed\n",
    "import torch\n",
    "import joblib\n",
    "from sklearn.preprocessing import OneHotEncoder\n",
    "from sklearn.pipeline import Pipeline\n",
    "\n",
    "from sklearn.base import BaseEstimator, TransformerMixin\n",
    "from sklearn.compose import ColumnTransformer\n",
    "import pandas as pd\n",
    "from sklearn.metrics.pairwise import cosine_similarity\n",
    "import numpy as np\n",
    "\n",
    "import numpy as np\n",
    "import pandas as pd\n",
    "import matplotlib.pyplot as plt\n",
    "import plotly.express as px\n",
    "import plotly.graph_objects as go\n",
    "\n",
    "# Sklearn\n",
    "import seaborn as sns\n",
    "import sklearn\n",
    "from tqdm.notebook import tqdm\n",
    "from sklearn.ensemble import RandomForestRegressor\n",
    "import statsmodels.api as sm\n",
    "from sklearn.feature_selection import SelectKBest, f_regression\n",
    "from sklearn.metrics import mean_squared_error\n",
    "from sklearn.ensemble import AdaBoostRegressor\n",
    "from xgboost import XGBRegressor\n",
    "from sklearn.model_selection import GridSearchCV\n",
    "from sklearn.neural_network import MLPRegressor\n",
    "from sklearn.model_selection import GridSearchCV\n",
    "from sklearn.model_selection import train_test_split\n",
    "from sklearn.preprocessing import StandardScaler\n",
    "# Deep learning \n",
    "from sklearn.model_selection import train_test_split\n",
    "from sklearn.preprocessing import StandardScaler\n",
    "from tensorflow.keras.models import Sequential\n",
    "from tensorflow.keras.layers import Dense\n",
    "from tensorflow.keras.utils import to_categorical\n",
    "from keras.callbacks import ReduceLROnPlateau, EarlyStopping\n",
    "\n",
    "import warnings\n",
    "\n",
    "# Suppress all warnings\n",
    "warnings.filterwarnings(\"ignore\")\n"
   ]
  },
  {
   "cell_type": "code",
   "execution_count": 2,
   "id": "b42ff9a7",
   "metadata": {},
   "outputs": [],
   "source": [
    "class PassthroughTransformer(BaseEstimator):\n",
    "    def fit(self, X, y = None):\n",
    "        self.cols = X.columns\n",
    "        return self\n",
    "        \n",
    "    def transform(self, X, y = None):\n",
    "        \n",
    "        X_ = X.copy()\n",
    "        all_genre = {'Action',\n",
    "                     'Adventure',\n",
    "                     'Animation',\n",
    "                     'Comedy',\n",
    "                     'Crime',\n",
    "                     'Documentary',\n",
    "                     'Drama',\n",
    "                     'Family',\n",
    "                     'Fantasy',\n",
    "                     'Foreign',\n",
    "                     'History',\n",
    "                     'Horror',\n",
    "                     'Music',\n",
    "                     'Mystery',\n",
    "                     'Romance',\n",
    "                     'Science Fiction',\n",
    "                     'TV Movie',\n",
    "                     'Thriller',\n",
    "                     'War',\n",
    "                     'Western'}\n",
    "        for gen in tqdm(all_genre):\n",
    "            X_[gen] = X_['genres'].apply(lambda x: 1 if gen in x else 0)\n",
    "            \n",
    "        X_.drop('genres',axis=1,inplace=True)\n",
    "        return X_\n",
    "\n",
    "    def get_feature_names(self):\n",
    "        return self.cols"
   ]
  },
  {
   "cell_type": "code",
   "execution_count": 3,
   "id": "291ec75f",
   "metadata": {},
   "outputs": [],
   "source": [
    "Genres = [\"Action\", \"Comedy\", \"Crime\",'Thriller']\n",
    "language = ['en','fr','es','zh']\n",
    "rf_from_joblib = joblib.load('reg_rf.pkl')\n",
    "cleaner_from_joblib = joblib.load('preprocessing.pkl')"
   ]
  },
  {
   "cell_type": "code",
   "execution_count": 4,
   "id": "77b4612e",
   "metadata": {},
   "outputs": [
    {
     "name": "stdout",
     "output_type": "stream",
     "text": [
      "IMPORTANT: You are using gradio version 3.5, however version 3.14.0 is available, please upgrade.\n",
      "--------\n",
      "Running on local URL:  http://127.0.0.1:7869\n",
      "\n",
      "To create a public link, set `share=True` in `launch()`.\n"
     ]
    },
    {
     "data": {
      "text/html": [
       "<div><iframe src=\"http://127.0.0.1:7869/\" width=\"900\" height=\"500\" allow=\"autoplay; camera; microphone; clipboard-read; clipboard-write;\" frameborder=\"0\" allowfullscreen></iframe></div>"
      ],
      "text/plain": [
       "<IPython.core.display.HTML object>"
      ]
     },
     "metadata": {},
     "output_type": "display_data"
    },
    {
     "data": {
      "text/plain": [
       "(<gradio.routes.App at 0x1f52a6a40d0>, 'http://127.0.0.1:7869/', None)"
      ]
     },
     "execution_count": 4,
     "metadata": {},
     "output_type": "execute_result"
    },
    {
     "data": {
      "application/vnd.jupyter.widget-view+json": {
       "model_id": "ddb47afd22284e26bb0c0635f89bf114",
       "version_major": 2,
       "version_minor": 0
      },
      "text/plain": [
       "  0%|          | 0/20 [00:00<?, ?it/s]"
      ]
     },
     "metadata": {},
     "output_type": "display_data"
    }
   ],
   "source": [
    "def translate(budget,genre,language,runtime,vote_average,vote_count,release_month):\n",
    "    \"\"\"\n",
    "    Translate the text from source lang to target lang\n",
    "    \"\"\"\n",
    "    \n",
    "    X_test = [budget,genre,language,runtime,vote_average,vote_count,release_month]\n",
    "    df_new = pd.DataFrame(X_test).T\n",
    "    df_new.columns = ['budget',\n",
    "     'genres',\n",
    "     'original_language',\n",
    "     'runtime',\n",
    "     'vote_average',\n",
    "     'vote_count',\n",
    "     'release_date_month']\n",
    "        # Load the model from the file\n",
    "    \n",
    "    df_new = cleaner_from_joblib.transform(df_new)\n",
    "    y_pred_rf = rf_from_joblib.predict(df_new)\n",
    "    y_pred_rf\n",
    "    return y_pred_rf[0]\n",
    "\n",
    "demo = gr.Interface(\n",
    "    fn=translate,\n",
    "    inputs=[\n",
    "\n",
    "        gr.components.Textbox(label=\"budget\"),\n",
    "        gr.components.Dropdown(label=\"genres\", choices=Genres),\n",
    "        gr.components.Dropdown(label=\"Language\", choices=language),\n",
    "        \n",
    "        gr.components.Textbox(label=\"runtime\"),\n",
    "        gr.components.Textbox(label=\"vote_average\"),\n",
    "        gr.components.Textbox(label=\"vote_count\"),\n",
    "        gr.components.Textbox(label=\"release_date\"),\n",
    "        \n",
    "    ],\n",
    "    outputs=[\"text\"],\n",
    "#     examples=[[\"Building a translation demo with Gradio is so easy!\", \"eng_Latn\", \"spa_Latn\"]],\n",
    "    cache_examples=False,\n",
    "    title=\"Popularity Prediction\",\n",
    "#     description=\"This demo is a simplified version of the original [NLLB-Translator](https://huggingface.co/spaces/Narrativaai/NLLB-Translator) space\"\n",
    ")\n",
    "\n",
    "demo.launch()\n"
   ]
  }
 ],
 "metadata": {
  "kernelspec": {
   "display_name": "Python 3 (ipykernel)",
   "language": "python",
   "name": "python3"
  },
  "language_info": {
   "codemirror_mode": {
    "name": "ipython",
    "version": 3
   },
   "file_extension": ".py",
   "mimetype": "text/x-python",
   "name": "python",
   "nbconvert_exporter": "python",
   "pygments_lexer": "ipython3",
   "version": "3.9.15"
  }
 },
 "nbformat": 4,
 "nbformat_minor": 5
}
