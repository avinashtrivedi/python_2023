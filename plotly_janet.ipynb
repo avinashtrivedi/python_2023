{
 "cells": [
  {
   "cell_type": "code",
   "execution_count": null,
   "id": "f3d13588",
   "metadata": {},
   "outputs": [],
   "source": [
    "import plotly.graph_objects as go\n",
    "import plotly.io as pio\n",
    "import pandas as pd\n",
    "import locale\n",
    "import os\n",
    "from plotly.subplots import make_subplots\n",
    "import pandas as pd\n",
    "import numpy as np\n",
    "\n",
    "pio.renderers.default = 'browser'\n",
    "\n",
    "# https://plotly.com/python/table/\n",
    "# https://dash.plotly.com/datatable/conditional-formatting"
   ]
  },
  {
   "cell_type": "code",
   "execution_count": null,
   "id": "acd33d36",
   "metadata": {},
   "outputs": [],
   "source": [
    "df = pd.read_csv(r\"D:\\OneDrive - NITT\\Custom_Download\\pivot_for_bar_chart (1).csv\")"
   ]
  },
  {
   "cell_type": "code",
   "execution_count": null,
   "id": "441af535",
   "metadata": {},
   "outputs": [],
   "source": [
    "df.columns = df.iloc[1]"
   ]
  },
  {
   "cell_type": "code",
   "execution_count": null,
   "id": "d5a924df",
   "metadata": {},
   "outputs": [],
   "source": [
    "df.drop([0,1,2],axis=0,inplace=True)"
   ]
  },
  {
   "cell_type": "code",
   "execution_count": null,
   "id": "f790da8a",
   "metadata": {},
   "outputs": [],
   "source": [
    "df = df.rename(columns={'not CA': 'US'})\n",
    "\n",
    "for col in list(df)[1:]:\n",
    "    df[col] = df[col].apply(lambda x:x.replace(',',''))\n",
    "    df[col] = df[col].astype('float')"
   ]
  },
  {
   "cell_type": "code",
   "execution_count": null,
   "id": "48630e5d",
   "metadata": {},
   "outputs": [],
   "source": [
    "df.sort_values('CA',ascending=True,inplace=True)"
   ]
  },
  {
   "cell_type": "code",
   "execution_count": null,
   "id": "cc5c2dd2",
   "metadata": {},
   "outputs": [],
   "source": [
    "# set the colors for the bars\n",
    "colors = {'US': '#894caf', 'CA': '#5cbc5c'}\n",
    "locale.setlocale(locale.LC_ALL, '')\n",
    "\n",
    "# create two horizontal bar charts side by side using facets\n",
    "fig = make_subplots(rows=1, cols=2, shared_yaxes=True, horizontal_spacing=0.01)\n"
   ]
  },
  {
   "cell_type": "code",
   "execution_count": null,
   "id": "a8c9ee17",
   "metadata": {},
   "outputs": [],
   "source": [
    "df_loc = df.copy()"
   ]
  },
  {
   "cell_type": "code",
   "execution_count": null,
   "id": "1c5fad61",
   "metadata": {},
   "outputs": [],
   "source": [
    "print(df_loc)"
   ]
  },
  {
   "cell_type": "code",
   "execution_count": null,
   "id": "57ffb8e2",
   "metadata": {
    "scrolled": true
   },
   "outputs": [],
   "source": [
    "# pip install dash"
   ]
  },
  {
   "cell_type": "code",
   "execution_count": 3,
   "id": "0077fc4b",
   "metadata": {},
   "outputs": [
    {
     "name": "stdout",
     "output_type": "stream",
     "text": [
      "Dash is running on http://127.0.0.1:8050/\n",
      "\n",
      "Dash is running on http://127.0.0.1:8050/\n",
      "\n",
      " * Serving Flask app '__main__' (lazy loading)\n",
      " * Environment: production\n",
      "\u001b[31m   WARNING: This is a development server. Do not use it in a production deployment.\u001b[0m\n",
      "\u001b[2m   Use a production WSGI server instead.\u001b[0m\n",
      " * Debug mode: on\n"
     ]
    },
    {
     "ename": "ImportError",
     "evalue": "cannot import name 'EVENT_TYPE_OPENED' from 'watchdog.events' (C:\\Users\\avitr\\anaconda3\\lib\\site-packages\\watchdog\\events.py)",
     "output_type": "error",
     "traceback": [
      "\u001b[1;31m---------------------------------------------------------------------------\u001b[0m",
      "\u001b[1;31mImportError\u001b[0m                               Traceback (most recent call last)",
      "Cell \u001b[1;32mIn[3], line 131\u001b[0m\n\u001b[0;32m    111\u001b[0m app\u001b[38;5;241m.\u001b[39mlayout \u001b[38;5;241m=\u001b[39m dash_table\u001b[38;5;241m.\u001b[39mDataTable(\n\u001b[0;32m    112\u001b[0m     data\u001b[38;5;241m=\u001b[39mdf\u001b[38;5;241m.\u001b[39mto_dict(\u001b[38;5;124m'\u001b[39m\u001b[38;5;124mrecords\u001b[39m\u001b[38;5;124m'\u001b[39m),\n\u001b[0;32m    113\u001b[0m     sort_action\u001b[38;5;241m=\u001b[39m\u001b[38;5;124m'\u001b[39m\u001b[38;5;124mnative\u001b[39m\u001b[38;5;124m'\u001b[39m,\n\u001b[1;32m   (...)\u001b[0m\n\u001b[0;32m    126\u001b[0m     page_size\u001b[38;5;241m=\u001b[39m\u001b[38;5;241m20\u001b[39m\n\u001b[0;32m    127\u001b[0m )\n\u001b[0;32m    130\u001b[0m \u001b[38;5;28;01mif\u001b[39;00m \u001b[38;5;18m__name__\u001b[39m \u001b[38;5;241m==\u001b[39m \u001b[38;5;124m'\u001b[39m\u001b[38;5;124m__main__\u001b[39m\u001b[38;5;124m'\u001b[39m:\n\u001b[1;32m--> 131\u001b[0m     \u001b[43mapp\u001b[49m\u001b[38;5;241;43m.\u001b[39;49m\u001b[43mrun_server\u001b[49m\u001b[43m(\u001b[49m\u001b[43mdebug\u001b[49m\u001b[38;5;241;43m=\u001b[39;49m\u001b[38;5;28;43;01mTrue\u001b[39;49;00m\u001b[43m)\u001b[49m\n",
      "File \u001b[1;32m~\\anaconda3\\lib\\site-packages\\dash\\dash.py:2134\u001b[0m, in \u001b[0;36mDash.run_server\u001b[1;34m(self, *args, **kwargs)\u001b[0m\n\u001b[0;32m   2128\u001b[0m \u001b[38;5;28;01mdef\u001b[39;00m \u001b[38;5;21mrun_server\u001b[39m(\u001b[38;5;28mself\u001b[39m, \u001b[38;5;241m*\u001b[39margs, \u001b[38;5;241m*\u001b[39m\u001b[38;5;241m*\u001b[39mkwargs):\n\u001b[0;32m   2129\u001b[0m \u001b[38;5;250m    \u001b[39m\u001b[38;5;124;03m\"\"\"`run_server` is a deprecated alias of `run` and may be removed in a\u001b[39;00m\n\u001b[0;32m   2130\u001b[0m \u001b[38;5;124;03m    future version. We recommend using `app.run` instead.\u001b[39;00m\n\u001b[0;32m   2131\u001b[0m \n\u001b[0;32m   2132\u001b[0m \u001b[38;5;124;03m    See `app.run` for usage information.\u001b[39;00m\n\u001b[0;32m   2133\u001b[0m \u001b[38;5;124;03m    \"\"\"\u001b[39;00m\n\u001b[1;32m-> 2134\u001b[0m     \u001b[38;5;28mself\u001b[39m\u001b[38;5;241m.\u001b[39mrun(\u001b[38;5;241m*\u001b[39margs, \u001b[38;5;241m*\u001b[39m\u001b[38;5;241m*\u001b[39mkwargs)\n",
      "File \u001b[1;32m~\\anaconda3\\lib\\site-packages\\dash\\dash.py:1962\u001b[0m, in \u001b[0;36mDash.run\u001b[1;34m(self, host, port, proxy, debug, dev_tools_ui, dev_tools_props_check, dev_tools_serve_dev_bundles, dev_tools_hot_reload, dev_tools_hot_reload_interval, dev_tools_hot_reload_watch_interval, dev_tools_hot_reload_max_retry, dev_tools_silence_routes_logging, dev_tools_prune_errors, **flask_run_options)\u001b[0m\n\u001b[0;32m   1959\u001b[0m         \u001b[38;5;28;01melif\u001b[39;00m os\u001b[38;5;241m.\u001b[39mpath\u001b[38;5;241m.\u001b[39misfile(path):\n\u001b[0;32m   1960\u001b[0m             extra_files\u001b[38;5;241m.\u001b[39mappend(path)\n\u001b[1;32m-> 1962\u001b[0m \u001b[38;5;28mself\u001b[39m\u001b[38;5;241m.\u001b[39mserver\u001b[38;5;241m.\u001b[39mrun(host\u001b[38;5;241m=\u001b[39mhost, port\u001b[38;5;241m=\u001b[39mport, debug\u001b[38;5;241m=\u001b[39mdebug, \u001b[38;5;241m*\u001b[39m\u001b[38;5;241m*\u001b[39mflask_run_options)\n",
      "File \u001b[1;32m~\\anaconda3\\lib\\site-packages\\flask\\app.py:920\u001b[0m, in \u001b[0;36mFlask.run\u001b[1;34m(self, host, port, debug, load_dotenv, **options)\u001b[0m\n\u001b[0;32m    917\u001b[0m \u001b[38;5;28;01mfrom\u001b[39;00m \u001b[38;5;21;01mwerkzeug\u001b[39;00m\u001b[38;5;21;01m.\u001b[39;00m\u001b[38;5;21;01mserving\u001b[39;00m \u001b[38;5;28;01mimport\u001b[39;00m run_simple\n\u001b[0;32m    919\u001b[0m \u001b[38;5;28;01mtry\u001b[39;00m:\n\u001b[1;32m--> 920\u001b[0m     run_simple(t\u001b[38;5;241m.\u001b[39mcast(\u001b[38;5;28mstr\u001b[39m, host), port, \u001b[38;5;28mself\u001b[39m, \u001b[38;5;241m*\u001b[39m\u001b[38;5;241m*\u001b[39moptions)\n\u001b[0;32m    921\u001b[0m \u001b[38;5;28;01mfinally\u001b[39;00m:\n\u001b[0;32m    922\u001b[0m     \u001b[38;5;66;03m# reset the first request information if the development server\u001b[39;00m\n\u001b[0;32m    923\u001b[0m     \u001b[38;5;66;03m# reset normally.  This makes it possible to restart the server\u001b[39;00m\n\u001b[0;32m    924\u001b[0m     \u001b[38;5;66;03m# without reloader and that stuff from an interactive shell.\u001b[39;00m\n\u001b[0;32m    925\u001b[0m     \u001b[38;5;28mself\u001b[39m\u001b[38;5;241m.\u001b[39m_got_first_request \u001b[38;5;241m=\u001b[39m \u001b[38;5;28;01mFalse\u001b[39;00m\n",
      "File \u001b[1;32m~\\anaconda3\\lib\\site-packages\\werkzeug\\serving.py:1097\u001b[0m, in \u001b[0;36mrun_simple\u001b[1;34m(hostname, port, application, use_reloader, use_debugger, use_evalex, extra_files, exclude_patterns, reloader_interval, reloader_type, threaded, processes, request_handler, static_files, passthrough_errors, ssl_context)\u001b[0m\n\u001b[0;32m   1094\u001b[0m \u001b[38;5;28;01mfrom\u001b[39;00m \u001b[38;5;21;01m.\u001b[39;00m\u001b[38;5;21;01m_reloader\u001b[39;00m \u001b[38;5;28;01mimport\u001b[39;00m run_with_reloader\n\u001b[0;32m   1096\u001b[0m \u001b[38;5;28;01mtry\u001b[39;00m:\n\u001b[1;32m-> 1097\u001b[0m     \u001b[43mrun_with_reloader\u001b[49m\u001b[43m(\u001b[49m\n\u001b[0;32m   1098\u001b[0m \u001b[43m        \u001b[49m\u001b[43msrv\u001b[49m\u001b[38;5;241;43m.\u001b[39;49m\u001b[43mserve_forever\u001b[49m\u001b[43m,\u001b[49m\n\u001b[0;32m   1099\u001b[0m \u001b[43m        \u001b[49m\u001b[43mextra_files\u001b[49m\u001b[38;5;241;43m=\u001b[39;49m\u001b[43mextra_files\u001b[49m\u001b[43m,\u001b[49m\n\u001b[0;32m   1100\u001b[0m \u001b[43m        \u001b[49m\u001b[43mexclude_patterns\u001b[49m\u001b[38;5;241;43m=\u001b[39;49m\u001b[43mexclude_patterns\u001b[49m\u001b[43m,\u001b[49m\n\u001b[0;32m   1101\u001b[0m \u001b[43m        \u001b[49m\u001b[43minterval\u001b[49m\u001b[38;5;241;43m=\u001b[39;49m\u001b[43mreloader_interval\u001b[49m\u001b[43m,\u001b[49m\n\u001b[0;32m   1102\u001b[0m \u001b[43m        \u001b[49m\u001b[43mreloader_type\u001b[49m\u001b[38;5;241;43m=\u001b[39;49m\u001b[43mreloader_type\u001b[49m\u001b[43m,\u001b[49m\n\u001b[0;32m   1103\u001b[0m \u001b[43m    \u001b[49m\u001b[43m)\u001b[49m\n\u001b[0;32m   1104\u001b[0m \u001b[38;5;28;01mfinally\u001b[39;00m:\n\u001b[0;32m   1105\u001b[0m     srv\u001b[38;5;241m.\u001b[39mserver_close()\n",
      "File \u001b[1;32m~\\anaconda3\\lib\\site-packages\\werkzeug\\_reloader.py:440\u001b[0m, in \u001b[0;36mrun_with_reloader\u001b[1;34m(main_func, extra_files, exclude_patterns, interval, reloader_type)\u001b[0m\n\u001b[0;32m    437\u001b[0m \u001b[38;5;28;01mimport\u001b[39;00m \u001b[38;5;21;01msignal\u001b[39;00m\n\u001b[0;32m    439\u001b[0m signal\u001b[38;5;241m.\u001b[39msignal(signal\u001b[38;5;241m.\u001b[39mSIGTERM, \u001b[38;5;28;01mlambda\u001b[39;00m \u001b[38;5;241m*\u001b[39margs: sys\u001b[38;5;241m.\u001b[39mexit(\u001b[38;5;241m0\u001b[39m))\n\u001b[1;32m--> 440\u001b[0m reloader \u001b[38;5;241m=\u001b[39m \u001b[43mreloader_loops\u001b[49m\u001b[43m[\u001b[49m\u001b[43mreloader_type\u001b[49m\u001b[43m]\u001b[49m\u001b[43m(\u001b[49m\n\u001b[0;32m    441\u001b[0m \u001b[43m    \u001b[49m\u001b[43mextra_files\u001b[49m\u001b[38;5;241;43m=\u001b[39;49m\u001b[43mextra_files\u001b[49m\u001b[43m,\u001b[49m\u001b[43m \u001b[49m\u001b[43mexclude_patterns\u001b[49m\u001b[38;5;241;43m=\u001b[39;49m\u001b[43mexclude_patterns\u001b[49m\u001b[43m,\u001b[49m\u001b[43m \u001b[49m\u001b[43minterval\u001b[49m\u001b[38;5;241;43m=\u001b[39;49m\u001b[43minterval\u001b[49m\n\u001b[0;32m    442\u001b[0m \u001b[43m\u001b[49m\u001b[43m)\u001b[49m\n\u001b[0;32m    444\u001b[0m \u001b[38;5;28;01mtry\u001b[39;00m:\n\u001b[0;32m    445\u001b[0m     \u001b[38;5;28;01mif\u001b[39;00m os\u001b[38;5;241m.\u001b[39menviron\u001b[38;5;241m.\u001b[39mget(\u001b[38;5;124m\"\u001b[39m\u001b[38;5;124mWERKZEUG_RUN_MAIN\u001b[39m\u001b[38;5;124m\"\u001b[39m) \u001b[38;5;241m==\u001b[39m \u001b[38;5;124m\"\u001b[39m\u001b[38;5;124mtrue\u001b[39m\u001b[38;5;124m\"\u001b[39m:\n",
      "File \u001b[1;32m~\\anaconda3\\lib\\site-packages\\werkzeug\\_reloader.py:315\u001b[0m, in \u001b[0;36mWatchdogReloaderLoop.__init__\u001b[1;34m(self, *args, **kwargs)\u001b[0m\n\u001b[0;32m    313\u001b[0m \u001b[38;5;28;01mfrom\u001b[39;00m \u001b[38;5;21;01mwatchdog\u001b[39;00m\u001b[38;5;21;01m.\u001b[39;00m\u001b[38;5;21;01mobservers\u001b[39;00m \u001b[38;5;28;01mimport\u001b[39;00m Observer\n\u001b[0;32m    314\u001b[0m \u001b[38;5;28;01mfrom\u001b[39;00m \u001b[38;5;21;01mwatchdog\u001b[39;00m\u001b[38;5;21;01m.\u001b[39;00m\u001b[38;5;21;01mevents\u001b[39;00m \u001b[38;5;28;01mimport\u001b[39;00m PatternMatchingEventHandler\n\u001b[1;32m--> 315\u001b[0m \u001b[38;5;28;01mfrom\u001b[39;00m \u001b[38;5;21;01mwatchdog\u001b[39;00m\u001b[38;5;21;01m.\u001b[39;00m\u001b[38;5;21;01mevents\u001b[39;00m \u001b[38;5;28;01mimport\u001b[39;00m EVENT_TYPE_OPENED\n\u001b[0;32m    316\u001b[0m \u001b[38;5;28;01mfrom\u001b[39;00m \u001b[38;5;21;01mwatchdog\u001b[39;00m\u001b[38;5;21;01m.\u001b[39;00m\u001b[38;5;21;01mevents\u001b[39;00m \u001b[38;5;28;01mimport\u001b[39;00m FileModifiedEvent\n\u001b[0;32m    318\u001b[0m \u001b[38;5;28msuper\u001b[39m()\u001b[38;5;241m.\u001b[39m\u001b[38;5;21m__init__\u001b[39m(\u001b[38;5;241m*\u001b[39margs, \u001b[38;5;241m*\u001b[39m\u001b[38;5;241m*\u001b[39mkwargs)\n",
      "\u001b[1;31mImportError\u001b[0m: cannot import name 'EVENT_TYPE_OPENED' from 'watchdog.events' (C:\\Users\\avitr\\anaconda3\\lib\\site-packages\\watchdog\\events.py)"
     ]
    }
   ],
   "source": [
    "# !pip install dash\n",
    "\n",
    "from dash import Dash, dash_table\n",
    "import pandas as pd\n",
    "\n",
    "df_gapminder = pd.read_csv('https://raw.githubusercontent.com/plotly/datasets/master/gapminderDataFiveYear.csv')\n",
    "df = df_gapminder[:500]\n",
    "\n",
    "app = Dash(__name__)\n",
    "\n",
    "def data_bars(df, column):\n",
    "    n_bins = 100\n",
    "    bounds = [i * (1.0 / n_bins) for i in range(n_bins + 1)]\n",
    "    ranges = [\n",
    "        ((df[column].max() - df[column].min()) * i) + df[column].min()\n",
    "        for i in bounds\n",
    "    ]\n",
    "    styles = []\n",
    "    for i in range(1, len(bounds)):\n",
    "        min_bound = ranges[i - 1]\n",
    "        max_bound = ranges[i]\n",
    "        max_bound_percentage = bounds[i] * 100\n",
    "        styles.append({\n",
    "            'if': {\n",
    "                'filter_query': (\n",
    "                    '{{{column}}} >= {min_bound}' +\n",
    "                    (' && {{{column}}} < {max_bound}' if (i < len(bounds) - 1) else '')\n",
    "                ).format(column=column, min_bound=min_bound, max_bound=max_bound),\n",
    "                'column_id': column\n",
    "            },\n",
    "            'background': (\n",
    "                \"\"\"\n",
    "                    linear-gradient(90deg,\n",
    "                    #0074D9 0%,\n",
    "                    #0074D9 {max_bound_percentage}%,\n",
    "                    white {max_bound_percentage}%,\n",
    "                    white 100%)\n",
    "                \"\"\".format(max_bound_percentage=max_bound_percentage)\n",
    "            ),\n",
    "            'paddingBottom': 2,\n",
    "            'paddingTop': 2\n",
    "        })\n",
    "\n",
    "    return styles\n",
    "\n",
    "\n",
    "def data_bars_diverging(df, column, color_above='#3D9970', color_below='#FF4136'):\n",
    "    n_bins = 100\n",
    "    bounds = [i * (1.0 / n_bins) for i in range(n_bins + 1)]\n",
    "    col_max = df[column].max()\n",
    "    col_min = df[column].min()\n",
    "    ranges = [\n",
    "        ((col_max - col_min) * i) + col_min\n",
    "        for i in bounds\n",
    "    ]\n",
    "    midpoint = (col_max + col_min) / 2.\n",
    "\n",
    "    styles = []\n",
    "    for i in range(1, len(bounds)):\n",
    "        min_bound = ranges[i - 1]\n",
    "        max_bound = ranges[i]\n",
    "        min_bound_percentage = bounds[i - 1] * 100\n",
    "        max_bound_percentage = bounds[i] * 100\n",
    "\n",
    "        style = {\n",
    "            'if': {\n",
    "                'filter_query': (\n",
    "                    '{{{column}}} >= {min_bound}' +\n",
    "                    (' && {{{column}}} < {max_bound}' if (i < len(bounds) - 1) else '')\n",
    "                ).format(column=column, min_bound=min_bound, max_bound=max_bound),\n",
    "                'column_id': column\n",
    "            },\n",
    "            'paddingBottom': 2,\n",
    "            'paddingTop': 2\n",
    "        }\n",
    "        if max_bound > midpoint:\n",
    "            background = (\n",
    "                \"\"\"\n",
    "                    linear-gradient(90deg,\n",
    "                    white 0%,\n",
    "                    white 50%,\n",
    "                    {color_above} 50%,\n",
    "                    {color_above} {max_bound_percentage}%,\n",
    "                    white {max_bound_percentage}%,\n",
    "                    white 100%)\n",
    "                \"\"\".format(\n",
    "                    max_bound_percentage=max_bound_percentage,\n",
    "                    color_above=color_above\n",
    "                )\n",
    "            )\n",
    "        else:\n",
    "            background = (\n",
    "                \"\"\"\n",
    "                    linear-gradient(90deg,\n",
    "                    white 0%,\n",
    "                    white {min_bound_percentage}%,\n",
    "                    {color_below} {min_bound_percentage}%,\n",
    "                    {color_below} 50%,\n",
    "                    white 50%,\n",
    "                    white 100%)\n",
    "                \"\"\".format(\n",
    "                    min_bound_percentage=min_bound_percentage,\n",
    "                    color_below=color_below\n",
    "                )\n",
    "            )\n",
    "        style['background'] = background\n",
    "        styles.append(style)\n",
    "\n",
    "    return styles\n",
    "\n",
    "app.layout = dash_table.DataTable(\n",
    "    data=df.to_dict('records'),\n",
    "    sort_action='native',\n",
    "    columns=[{'name': i, 'id': i} for i in df.columns],\n",
    "    style_data_conditional=(\n",
    "        data_bars(df, 'lifeExp') +\n",
    "        data_bars(df, 'gdpPercap')\n",
    "    ),\n",
    "    style_cell={\n",
    "        'width': '100px',\n",
    "        'minWidth': '100px',\n",
    "        'maxWidth': '100px',\n",
    "        'overflow': 'hidden',\n",
    "        'textOverflow': 'ellipsis',\n",
    "    },\n",
    "    page_size=20\n",
    ")\n",
    "\n",
    "\n",
    "if __name__ == '__main__':\n",
    "    app.run_server(debug=True)"
   ]
  },
  {
   "cell_type": "code",
   "execution_count": null,
   "id": "215b78e3",
   "metadata": {},
   "outputs": [],
   "source": [
    "# !pip install Flask==2.1.0"
   ]
  },
  {
   "cell_type": "code",
   "execution_count": null,
   "id": "3a54a7b6",
   "metadata": {},
   "outputs": [],
   "source": [
    "# pip install --upgrade pip"
   ]
  },
  {
   "cell_type": "code",
   "execution_count": 2,
   "id": "cbc574b5",
   "metadata": {},
   "outputs": [
    {
     "name": "stdout",
     "output_type": "stream",
     "text": [
      "Requirement already satisfied: watchdog in c:\\users\\avitr\\anaconda3\\lib\\site-packages (2.2.1)\n",
      "Note: you may need to restart the kernel to use updated packages.\n"
     ]
    },
    {
     "name": "stderr",
     "output_type": "stream",
     "text": [
      "WARNING: Ignoring invalid distribution -atplotlib (c:\\users\\avitr\\anaconda3\\lib\\site-packages)\n",
      "WARNING: Ignoring invalid distribution -rotobuf (c:\\users\\avitr\\anaconda3\\lib\\site-packages)\n",
      "WARNING: Error parsing requirements for pyyaml: [Errno 2] No such file or directory: 'c:\\\\users\\\\avitr\\\\anaconda3\\\\lib\\\\site-packages\\\\PyYAML-5.4.1.dist-info\\\\METADATA'\n",
      "WARNING: Ignoring invalid distribution -atplotlib (c:\\users\\avitr\\anaconda3\\lib\\site-packages)\n",
      "WARNING: Ignoring invalid distribution -rotobuf (c:\\users\\avitr\\anaconda3\\lib\\site-packages)\n"
     ]
    }
   ],
   "source": [
    "pip install watchdog\n"
   ]
  },
  {
   "cell_type": "code",
   "execution_count": null,
   "id": "fcc039b6",
   "metadata": {},
   "outputs": [],
   "source": []
  }
 ],
 "metadata": {
  "kernelspec": {
   "display_name": "Python 3 (ipykernel)",
   "language": "python",
   "name": "python3"
  },
  "language_info": {
   "codemirror_mode": {
    "name": "ipython",
    "version": 3
   },
   "file_extension": ".py",
   "mimetype": "text/x-python",
   "name": "python",
   "nbconvert_exporter": "python",
   "pygments_lexer": "ipython3",
   "version": "3.9.15"
  }
 },
 "nbformat": 4,
 "nbformat_minor": 5
}
