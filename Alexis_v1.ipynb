{
 "cells": [
  {
   "cell_type": "code",
   "execution_count": 12,
   "id": "de1fdeb9",
   "metadata": {},
   "outputs": [],
   "source": [
    "artist_list = ['Prince',\n",
    "'John Lennon',\n",
    "'Michael Jackson',\n",
    "'Queen',\n",
    "'Whitney Houston',\n",
    "'The Beatles',\n",
    "'Marvin Gaye',\n",
    "'Universal Music Group',\n",
    "'The Rolling Stones',\n",
    "'Aretha Franklin',\n",
    "'David Bowie']"
   ]
  },
  {
   "cell_type": "code",
   "execution_count": 13,
   "id": "22f04a64",
   "metadata": {},
   "outputs": [],
   "source": [
    "artist_iconic_song = {}"
   ]
  },
  {
   "cell_type": "code",
   "execution_count": 14,
   "id": "5c039ef2",
   "metadata": {},
   "outputs": [
    {
     "name": "stdout",
     "output_type": "stream",
     "text": [
      "Prince: is it artist name or something else(y/n):y\n",
      "i am Prince,Please enter the title of my iconic_song:title prince song\n",
      "John Lennon: is it artist name or something else(y/n):y\n",
      "i am John Lennon,Please enter the title of my iconic_song:abc\n",
      "Michael Jackson: is it artist name or something else(y/n):n\n",
      "Michael Jackson: Does not belong to artist category\n",
      "Queen: is it artist name or something else(y/n):n\n",
      "Queen: Does not belong to artist category\n",
      "Whitney Houston: is it artist name or something else(y/n):n\n",
      "Whitney Houston: Does not belong to artist category\n",
      "The Beatles: is it artist name or something else(y/n):n\n",
      "The Beatles: Does not belong to artist category\n",
      "Marvin Gaye: is it artist name or something else(y/n):n\n",
      "Marvin Gaye: Does not belong to artist category\n",
      "Universal Music Group: is it artist name or something else(y/n):n\n",
      "Universal Music Group: Does not belong to artist category\n",
      "The Rolling Stones: is it artist name or something else(y/n):n\n",
      "The Rolling Stones: Does not belong to artist category\n",
      "Aretha Franklin: is it artist name or something else(y/n):n\n",
      "Aretha Franklin: Does not belong to artist category\n",
      "David Bowie: is it artist name or something else(y/n):n\n",
      "David Bowie: Does not belong to artist category\n"
     ]
    }
   ],
   "source": [
    "temp_list = artist_list.copy()\n",
    "\n",
    "for artist in temp_list:\n",
    "    c = input(f'{artist}: is it artist name or something else(y/n):')\n",
    "    if c.lower() == 'y':\n",
    "        title = input(f'i am {artist},Please enter the title of my iconic_song:')\n",
    "        artist_iconic_song[artist] = title\n",
    "    else:\n",
    "        print(f'{artist}: Does not belong to artist category')\n",
    "        artist_list.remove(artist)"
   ]
  },
  {
   "cell_type": "code",
   "execution_count": 18,
   "id": "0b3c3611",
   "metadata": {},
   "outputs": [
    {
     "name": "stdout",
     "output_type": "stream",
     "text": [
      "Prince :- title prince song\n",
      "John Lennon :- abc\n"
     ]
    }
   ],
   "source": [
    "for artist, song in artist_iconic_song.items():\n",
    "    print(artist,':-',song)"
   ]
  },
  {
   "cell_type": "code",
   "execution_count": null,
   "id": "9b6a2612",
   "metadata": {},
   "outputs": [],
   "source": []
  }
 ],
 "metadata": {
  "kernelspec": {
   "display_name": "Python 3 (ipykernel)",
   "language": "python",
   "name": "python3"
  },
  "language_info": {
   "codemirror_mode": {
    "name": "ipython",
    "version": 3
   },
   "file_extension": ".py",
   "mimetype": "text/x-python",
   "name": "python",
   "nbconvert_exporter": "python",
   "pygments_lexer": "ipython3",
   "version": "3.9.15"
  }
 },
 "nbformat": 4,
 "nbformat_minor": 5
}
