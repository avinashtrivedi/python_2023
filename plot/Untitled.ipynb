{
 "cells": [
  {
   "cell_type": "code",
   "execution_count": 9,
   "id": "34f95f5b",
   "metadata": {},
   "outputs": [
    {
     "name": "stdout",
     "output_type": "stream",
     "text": [
      "<xarray.Dataset>\n",
      "Dimensions:                                (time: 150,\n",
      "                                            YDim_SpPolarGrid12km: 664,\n",
      "                                            XDim_SpPolarGrid12km: 632)\n",
      "Coordinates:\n",
      "  * time                                   (time) datetime64[ns] 2012-08-01 ....\n",
      "    GridLon_SpPolarGrid12km                (YDim_SpPolarGrid12km, XDim_SpPolarGrid12km) float64 ...\n",
      "    GridLat_SpPolarGrid12km                (YDim_SpPolarGrid12km, XDim_SpPolarGrid12km) float64 ...\n",
      "Dimensions without coordinates: YDim_SpPolarGrid12km, XDim_SpPolarGrid12km\n",
      "Data variables:\n",
      "    SI_12km_SH_ICECON_DAY_SpPolarGrid12km  (time, YDim_SpPolarGrid12km, XDim_SpPolarGrid12km) int32 ...\n",
      "Attributes:\n",
      "    CDI:             Climate Data Interface version 1.9.9 (https://mpimet.mpg...\n",
      "    Conventions:     None\n",
      "    creation_date:   Mon 19 Jul 2021 08:05:55 PDT\n",
      "    NCL_Version:     6.6.2\n",
      "    system:          Darwin Fridas-MBP.attlocal.net 20.5.0 Darwin Kernel Vers...\n",
      "    hdfeos5_source:  AMSR_U2_L3_SeaIce12km_B04_20120702.he5\n",
      "    title:           NCL: convert-HDFEOS5-to-netCDF\n",
      "    history:         Mon Aug 09 17:35:17 2021: cdo -seltimestep,1/150 sic_Aug...\n",
      "    CDO:             Climate Data Operators version 1.9.9 (https://mpimet.mpg...\n"
     ]
    },
    {
     "ename": "AttributeError",
     "evalue": "'Dataset' object has no attribute '__xarray_dataarray_variable__'",
     "output_type": "error",
     "traceback": [
      "\u001b[1;31m---------------------------------------------------------------------------\u001b[0m",
      "\u001b[1;31mAttributeError\u001b[0m                            Traceback (most recent call last)",
      "Cell \u001b[1;32mIn[9], line 66\u001b[0m\n\u001b[0;32m     64\u001b[0m sub_data \u001b[38;5;241m=\u001b[39m xr\u001b[38;5;241m.\u001b[39mopen_dataset(\u001b[38;5;124m'\u001b[39m\u001b[38;5;124mdaily_sic_subset.nc\u001b[39m\u001b[38;5;124m'\u001b[39m)\n\u001b[0;32m     65\u001b[0m \u001b[38;5;28mprint\u001b[39m(sub_data)\n\u001b[1;32m---> 66\u001b[0m ice \u001b[38;5;241m=\u001b[39m  \u001b[43msub_data\u001b[49m\u001b[38;5;241;43m.\u001b[39;49m\u001b[43m__xarray_dataarray_variable__\u001b[49m\n\u001b[0;32m     67\u001b[0m ice\u001b[38;5;241m.\u001b[39mplot()\n",
      "File \u001b[1;32m~\\anaconda3\\lib\\site-packages\\xarray\\core\\common.py:278\u001b[0m, in \u001b[0;36mAttrAccessMixin.__getattr__\u001b[1;34m(self, name)\u001b[0m\n\u001b[0;32m    276\u001b[0m         \u001b[38;5;28;01mwith\u001b[39;00m suppress(\u001b[38;5;167;01mKeyError\u001b[39;00m):\n\u001b[0;32m    277\u001b[0m             \u001b[38;5;28;01mreturn\u001b[39;00m source[name]\n\u001b[1;32m--> 278\u001b[0m \u001b[38;5;28;01mraise\u001b[39;00m \u001b[38;5;167;01mAttributeError\u001b[39;00m(\n\u001b[0;32m    279\u001b[0m     \u001b[38;5;124mf\u001b[39m\u001b[38;5;124m\"\u001b[39m\u001b[38;5;132;01m{\u001b[39;00m\u001b[38;5;28mtype\u001b[39m(\u001b[38;5;28mself\u001b[39m)\u001b[38;5;241m.\u001b[39m\u001b[38;5;18m__name__\u001b[39m\u001b[38;5;132;01m!r}\u001b[39;00m\u001b[38;5;124m object has no attribute \u001b[39m\u001b[38;5;132;01m{\u001b[39;00mname\u001b[38;5;132;01m!r}\u001b[39;00m\u001b[38;5;124m\"\u001b[39m\n\u001b[0;32m    280\u001b[0m )\n",
      "\u001b[1;31mAttributeError\u001b[0m: 'Dataset' object has no attribute '__xarray_dataarray_variable__'"
     ]
    }
   ],
   "source": [
    "# %load \"test (2).py\"\n",
    "import numpy as np\n",
    "import csv\n",
    "import glob\n",
    "import matplotlib as plt\n",
    "import matplotlib.pyplot as plt\n",
    "# %matplotlib inline\n",
    "import xarray as xr\n",
    "import seaborn as sns;\n",
    "sns.set(color_codes=True)\n",
    "plt.style.use('ggplot')\n",
    "import netCDF4 as nc\n",
    "# from mpl_toolkits.basemap import Basemap\n",
    "import matplotlib.colors as colors\n",
    "\n",
    "from pylab import *\n",
    "import os\n",
    "from matplotlib import ticker\n",
    "from netCDF4 import Dataset\n",
    "import matplotlib.pyplot as plt\n",
    "# from mpl_toolkits.basemap import Basemap, addcyclic, shiftgrid\n",
    "import numpy as np\n",
    "import datetime\n",
    "import calendar as cal\n",
    "from matplotlib.colors import ListedColormap, BoundaryNorm\n",
    "import cmocean\n",
    "#\n",
    "# data = xr.open_dataset('/Volumes/WorkDrive/melt_dates/seaiceconc.nc') # opening sit for xarray\n",
    "# ## Arange months up to Aug to December ##\n",
    "# def is_months(month):\n",
    "#     return (month >= 8) & (month <= 12)\n",
    "# data = data.sel(time=is_months(data['time.month']))\n",
    "\n",
    "# ## Select SIC variable ##\n",
    "# sic_xr = data.SI_12km_SH_ICECON_DAY_SpPolarGrid12km\n",
    "# latitude = data.GridLat_SpPolarGrid12km\n",
    "# longitude = data.GridLon_SpPolarGrid12km\n",
    "#\n",
    "# ## Here we want all the values that are over 100 (missing or land mask) to be set to nan ##\n",
    "# sic_xr = sic_xr.where(sic_xr < 101,np.nan)\n",
    "\n",
    "## Because the desired output is one slice/ image/grid for each year, I will process year by year\n",
    "def continuous_meet(cond, window_size, dim):\n",
    "    \"\"\"\n",
    "    Continuously meet a given condition along a dimension.\n",
    "    \"\"\"\n",
    "    _found = cond.rolling(dim={'time': window_size},\n",
    "                          center=True).sum(skipna=True).fillna(False).astype(np.float)\n",
    "\n",
    "    print('--->>>>',_found)\n",
    "    detected = np.array(\n",
    "        _found.rolling(dim={'time': window_size})\n",
    "        .reduce(lambda a, axis: (a == window_size).any(axis=axis))\n",
    "        .fillna(False)\n",
    "        .astype(bool)\n",
    "    )\n",
    "\n",
    "    indices = (detected * np.arange(detected.shape[0]).reshape(detected.shape[0], 1, 1))\n",
    "    indices[indices == 0] = detected.shape[0]\n",
    "    output = indices.argmin(axis=0)\n",
    "\n",
    "    return xr.DataArray(output)\n",
    "\n",
    "sub_data = xr.open_dataset('daily_sic_subset.nc')\n",
    "print(sub_data)\n",
    "ice =  sub_data.__xarray_dataarray_variable__\n",
    "ice.plot()\n"
   ]
  },
  {
   "cell_type": "code",
   "execution_count": 6,
   "id": "15337f15",
   "metadata": {},
   "outputs": [
    {
     "data": {
      "text/plain": [
       "<module 'time' (built-in)>"
      ]
     },
     "execution_count": 6,
     "metadata": {},
     "output_type": "execute_result"
    }
   ],
   "source": [
    "time"
   ]
  },
  {
   "cell_type": "code",
   "execution_count": 8,
   "id": "40f5e0ed",
   "metadata": {},
   "outputs": [
    {
     "ename": "AttributeError",
     "evalue": "'int' object has no attribute 'rolling'",
     "output_type": "error",
     "traceback": [
      "\u001b[1;31m---------------------------------------------------------------------------\u001b[0m",
      "\u001b[1;31mAttributeError\u001b[0m                            Traceback (most recent call last)",
      "Cell \u001b[1;32mIn[8], line 1\u001b[0m\n\u001b[1;32m----> 1\u001b[0m \u001b[43mcontinuous_meet\u001b[49m\u001b[43m(\u001b[49m\u001b[38;5;241;43m30\u001b[39;49m\u001b[43m,\u001b[49m\u001b[43m \u001b[49m\u001b[38;5;241;43m5\u001b[39;49m\u001b[43m,\u001b[49m\u001b[43m \u001b[49m\u001b[43mdim\u001b[49m\u001b[38;5;241;43m=\u001b[39;49m\u001b[38;5;124;43m'\u001b[39;49m\u001b[38;5;124;43mtime\u001b[39;49m\u001b[38;5;124;43m'\u001b[39;49m\u001b[43m)\u001b[49m\n",
      "Cell \u001b[1;32mIn[4], line 47\u001b[0m, in \u001b[0;36mcontinuous_meet\u001b[1;34m(cond, window_size, dim)\u001b[0m\n\u001b[0;32m     43\u001b[0m \u001b[38;5;28;01mdef\u001b[39;00m \u001b[38;5;21mcontinuous_meet\u001b[39m(cond, window_size, dim):\n\u001b[0;32m     44\u001b[0m \u001b[38;5;250m    \u001b[39m\u001b[38;5;124;03m\"\"\"\u001b[39;00m\n\u001b[0;32m     45\u001b[0m \u001b[38;5;124;03m    Continuously meet a given condition along a dimension.\u001b[39;00m\n\u001b[0;32m     46\u001b[0m \u001b[38;5;124;03m    \"\"\"\u001b[39;00m\n\u001b[1;32m---> 47\u001b[0m     _found \u001b[38;5;241m=\u001b[39m \u001b[43mcond\u001b[49m\u001b[38;5;241;43m.\u001b[39;49m\u001b[43mrolling\u001b[49m(dim\u001b[38;5;241m=\u001b[39m{\u001b[38;5;124m'\u001b[39m\u001b[38;5;124mtime\u001b[39m\u001b[38;5;124m'\u001b[39m: window_size},\n\u001b[0;32m     48\u001b[0m                           center\u001b[38;5;241m=\u001b[39m\u001b[38;5;28;01mTrue\u001b[39;00m)\u001b[38;5;241m.\u001b[39msum(skipna\u001b[38;5;241m=\u001b[39m\u001b[38;5;28;01mTrue\u001b[39;00m)\u001b[38;5;241m.\u001b[39mfillna(\u001b[38;5;28;01mFalse\u001b[39;00m)\u001b[38;5;241m.\u001b[39mastype(np\u001b[38;5;241m.\u001b[39mfloat)\n\u001b[0;32m     50\u001b[0m     \u001b[38;5;28mprint\u001b[39m(\u001b[38;5;124m'\u001b[39m\u001b[38;5;124m--->>>>\u001b[39m\u001b[38;5;124m'\u001b[39m,_found)\n\u001b[0;32m     51\u001b[0m     detected \u001b[38;5;241m=\u001b[39m np\u001b[38;5;241m.\u001b[39marray(\n\u001b[0;32m     52\u001b[0m         _found\u001b[38;5;241m.\u001b[39mrolling(dim\u001b[38;5;241m=\u001b[39m{\u001b[38;5;124m'\u001b[39m\u001b[38;5;124mtime\u001b[39m\u001b[38;5;124m'\u001b[39m: window_size})\n\u001b[0;32m     53\u001b[0m         \u001b[38;5;241m.\u001b[39mreduce(\u001b[38;5;28;01mlambda\u001b[39;00m a, axis: (a \u001b[38;5;241m==\u001b[39m window_size)\u001b[38;5;241m.\u001b[39many(axis\u001b[38;5;241m=\u001b[39maxis))\n\u001b[0;32m     54\u001b[0m         \u001b[38;5;241m.\u001b[39mfillna(\u001b[38;5;28;01mFalse\u001b[39;00m)\n\u001b[0;32m     55\u001b[0m         \u001b[38;5;241m.\u001b[39mastype(\u001b[38;5;28mbool\u001b[39m)\n\u001b[0;32m     56\u001b[0m     )\n",
      "\u001b[1;31mAttributeError\u001b[0m: 'int' object has no attribute 'rolling'"
     ]
    }
   ],
   "source": [
    "continuous_meet(30, 5, dim='time')"
   ]
  },
  {
   "cell_type": "code",
   "execution_count": null,
   "id": "5a024f79",
   "metadata": {},
   "outputs": [],
   "source": []
  }
 ],
 "metadata": {
  "kernelspec": {
   "display_name": "Python 3 (ipykernel)",
   "language": "python",
   "name": "python3"
  },
  "language_info": {
   "codemirror_mode": {
    "name": "ipython",
    "version": 3
   },
   "file_extension": ".py",
   "mimetype": "text/x-python",
   "name": "python",
   "nbconvert_exporter": "python",
   "pygments_lexer": "ipython3",
   "version": "3.9.15"
  }
 },
 "nbformat": 4,
 "nbformat_minor": 5
}
