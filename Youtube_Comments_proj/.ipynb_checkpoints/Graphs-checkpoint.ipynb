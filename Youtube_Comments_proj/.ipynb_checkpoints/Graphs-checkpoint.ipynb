{
 "cells": [
  {
   "cell_type": "code",
   "execution_count": 1,
   "id": "871c4a44",
   "metadata": {},
   "outputs": [],
   "source": [
    "import pandas as pd\n",
    "import matplotlib.pyplot as plt\n",
    "import seaborn as sns\n",
    "import re"
   ]
  },
  {
   "cell_type": "code",
   "execution_count": 2,
   "id": "f0a68488",
   "metadata": {},
   "outputs": [],
   "source": [
    "df_Netflix_trailers_cleaned = pd.read_csv('Clean_Data\\df_Netflix_trailers_cleaned.csv')\n",
    "df_Netflix_highlights_cleaned = pd.read_csv('Clean_Data\\df_Netflix_highlights_cleaned.csv')\n",
    "df_Formula1_trailers_cleaned = pd.read_csv('Clean_Data\\df_Formula1_trailers_cleaned.csv')\n",
    "df_Formula1_highlights_cleaned = pd.read_csv('Clean_Data\\df_Formula1_highlights_cleaned.csv')\n",
    "df_Miscellaneous_cleaned = pd.read_csv('Clean_Data\\df_Miscellaneous_cleaned.csv')"
   ]
  },
  {
   "cell_type": "code",
   "execution_count": null,
   "id": "3b69179f",
   "metadata": {},
   "outputs": [],
   "source": [
    "# sum(df_Netflix_trailers_cleaned['Clean_text'].apply(lambda x: x.split()),[])"
   ]
  },
  {
   "cell_type": "code",
   "execution_count": 4,
   "id": "58dedfc7",
   "metadata": {},
   "outputs": [],
   "source": [
    "def no_of_token(df):\n",
    "    return sum([len(line.split()) for line in df['Clean_text']])"
   ]
  },
  {
   "cell_type": "code",
   "execution_count": 6,
   "id": "11907ec7",
   "metadata": {},
   "outputs": [
    {
     "data": {
      "text/plain": [
       "564000"
      ]
     },
     "execution_count": 6,
     "metadata": {},
     "output_type": "execute_result"
    }
   ],
   "source": [
    "no_of_token(df_Netflix_trailers_cleaned)"
   ]
  },
  {
   "cell_type": "code",
   "execution_count": 7,
   "id": "3165130b",
   "metadata": {},
   "outputs": [
    {
     "data": {
      "text/plain": [
       "183500"
      ]
     },
     "execution_count": 7,
     "metadata": {},
     "output_type": "execute_result"
    }
   ],
   "source": [
    "no_of_token(df_Netflix_highlights_cleaned)"
   ]
  },
  {
   "cell_type": "code",
   "execution_count": 8,
   "id": "259605ff",
   "metadata": {},
   "outputs": [
    {
     "data": {
      "text/plain": [
       "272500"
      ]
     },
     "execution_count": 8,
     "metadata": {},
     "output_type": "execute_result"
    }
   ],
   "source": [
    "no_of_token(df_Formula1_trailers_cleaned)"
   ]
  },
  {
   "cell_type": "code",
   "execution_count": 9,
   "id": "20fade93",
   "metadata": {},
   "outputs": [
    {
     "data": {
      "text/plain": [
       "238500"
      ]
     },
     "execution_count": 9,
     "metadata": {},
     "output_type": "execute_result"
    }
   ],
   "source": [
    "no_of_token(df_Formula1_highlights_cleaned)"
   ]
  },
  {
   "cell_type": "code",
   "execution_count": 10,
   "id": "b44a11d8",
   "metadata": {},
   "outputs": [
    {
     "data": {
      "text/plain": [
       "272"
      ]
     },
     "execution_count": 10,
     "metadata": {},
     "output_type": "execute_result"
    }
   ],
   "source": [
    "no_of_token(df_Miscellaneous_cleaned)"
   ]
  },
  {
   "cell_type": "markdown",
   "id": "d2212a90",
   "metadata": {},
   "source": [
    "# Netflix_trailers_cleaned"
   ]
  },
  {
   "cell_type": "code",
   "execution_count": null,
   "id": "edd887d6",
   "metadata": {},
   "outputs": [],
   "source": [
    "sns.countplot(x='Sentiment',data=df_Netflix_trailers_cleaned)\n",
    "plt.show()"
   ]
  },
  {
   "cell_type": "code",
   "execution_count": null,
   "id": "515d4408",
   "metadata": {},
   "outputs": [],
   "source": [
    "x = df_Netflix_trailers_cleaned.groupby('Sentiment')['likeCount'].mean()\n",
    "plt.bar(x.keys(),list(x))\n",
    "plt.title('likeCount vs Sentiment')\n",
    "plt.xlabel('Comment Sentiment')\n",
    "plt.ylabel('likeCount')\n",
    "plt.show()"
   ]
  },
  {
   "cell_type": "markdown",
   "id": "5bcfee10",
   "metadata": {},
   "source": [
    "# df_Netflix_highlights_cleaned"
   ]
  },
  {
   "cell_type": "code",
   "execution_count": null,
   "id": "d4783ceb",
   "metadata": {},
   "outputs": [],
   "source": [
    "sns.countplot(x='Sentiment',data=df_Netflix_highlights_cleaned)\n",
    "plt.show()"
   ]
  },
  {
   "cell_type": "code",
   "execution_count": null,
   "id": "2662118a",
   "metadata": {},
   "outputs": [],
   "source": [
    "x = df_Netflix_highlights_cleaned.groupby('Sentiment')['likeCount'].mean()\n",
    "plt.bar(x.keys(),list(x))\n",
    "plt.title('likeCount vs Sentiment')\n",
    "plt.xlabel('Comment Sentiment')\n",
    "plt.ylabel('likeCount')\n",
    "plt.show()"
   ]
  },
  {
   "cell_type": "markdown",
   "id": "5bbabbfe",
   "metadata": {},
   "source": [
    "# df_Formula1_trailers_cleaned"
   ]
  },
  {
   "cell_type": "code",
   "execution_count": null,
   "id": "004d26f2",
   "metadata": {},
   "outputs": [],
   "source": [
    "sns.countplot(x='Sentiment',data=df_Formula1_trailers_cleaned)\n",
    "plt.show()"
   ]
  },
  {
   "cell_type": "code",
   "execution_count": null,
   "id": "187e6491",
   "metadata": {},
   "outputs": [],
   "source": [
    "x = df_Formula1_trailers_cleaned.groupby('Sentiment')['likeCount'].mean()\n",
    "plt.bar(x.keys(),list(x))\n",
    "plt.title('likeCount vs Sentiment')\n",
    "plt.xlabel('Comment Sentiment')\n",
    "plt.ylabel('likeCount')\n",
    "plt.show()"
   ]
  },
  {
   "cell_type": "markdown",
   "id": "5f4a27ec",
   "metadata": {},
   "source": [
    "# df_Formula1_highlights_cleaned"
   ]
  },
  {
   "cell_type": "code",
   "execution_count": null,
   "id": "548068ae",
   "metadata": {},
   "outputs": [],
   "source": [
    "sns.countplot(x='Sentiment',data=df_Formula1_highlights_cleaned)\n",
    "plt.show()"
   ]
  },
  {
   "cell_type": "code",
   "execution_count": null,
   "id": "06552a9c",
   "metadata": {},
   "outputs": [],
   "source": [
    "x = df_Formula1_highlights_cleaned.groupby('Sentiment')['likeCount'].mean()\n",
    "plt.bar(x.keys(),list(x))\n",
    "plt.title('likeCount vs Sentiment')\n",
    "plt.xlabel('Comment Sentiment')\n",
    "plt.ylabel('likeCount')\n",
    "plt.show()"
   ]
  },
  {
   "cell_type": "markdown",
   "id": "e0d7c648",
   "metadata": {},
   "source": [
    "# df_Miscellaneous_cleaned"
   ]
  },
  {
   "cell_type": "code",
   "execution_count": null,
   "id": "da0e53fd",
   "metadata": {},
   "outputs": [],
   "source": [
    "sns.countplot(x='Sentiment',data=df_Miscellaneous_cleaned)\n",
    "plt.show()"
   ]
  },
  {
   "cell_type": "code",
   "execution_count": null,
   "id": "5760ecd3",
   "metadata": {},
   "outputs": [],
   "source": [
    "x = df_Miscellaneous_cleaned.groupby('Sentiment')['likeCount'].mean()\n",
    "plt.bar(x.keys(),list(x))\n",
    "plt.title('likeCount vs Sentiment')\n",
    "plt.xlabel('Comment Sentiment')\n",
    "plt.ylabel('likeCount')\n",
    "plt.show()"
   ]
  },
  {
   "cell_type": "code",
   "execution_count": null,
   "id": "14229a39",
   "metadata": {},
   "outputs": [],
   "source": [
    "# Tool- Used:\n",
    "    \n",
    "# nltk\n",
    "# gensim\n",
    "# sklearn\n",
    "# spacy\n",
    "# pandas\n",
    "# numpy\n",
    "\n",
    "# vader:\n",
    "\n",
    "# Since my data is text, without any specific gold standard labelling. \n",
    "# Therefore performing sentiment analysis was not possible by training any specific model. \n",
    "# Hence, to know the sentiment of comments i have used nltk Vadar sentiment analyzer."
   ]
  }
 ],
 "metadata": {
  "kernelspec": {
   "display_name": "Python 3 (ipykernel)",
   "language": "python",
   "name": "python3"
  },
  "language_info": {
   "codemirror_mode": {
    "name": "ipython",
    "version": 3
   },
   "file_extension": ".py",
   "mimetype": "text/x-python",
   "name": "python",
   "nbconvert_exporter": "python",
   "pygments_lexer": "ipython3",
   "version": "3.9.15"
  }
 },
 "nbformat": 4,
 "nbformat_minor": 5
}
