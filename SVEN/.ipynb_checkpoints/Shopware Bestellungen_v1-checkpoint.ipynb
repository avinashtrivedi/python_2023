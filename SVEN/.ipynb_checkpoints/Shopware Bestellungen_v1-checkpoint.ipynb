{
 "cells": [
  {
   "cell_type": "markdown",
   "metadata": {
    "datalore": {
     "hide_input_from_viewers": true,
     "hide_output_from_viewers": false,
     "node_id": "0VcywxSnqTbfy1IxJ8JJMX",
     "report_properties": {
      "height": 7,
      "isDynamicHeight": false,
      "relativeY": 0,
      "rowId": "gZjc27tXLaqyuY5EAkzsq2",
      "splitHeight": 2,
      "width": 0.6458333333333334,
      "x": 0
     },
     "type": "MD"
    }
   },
   "source": [
    "# Verschiedene Auswertungen zu den Bestellungen aus shopware"
   ]
  },
  {
   "cell_type": "code",
   "execution_count": 1,
   "metadata": {
    "datalore": {
     "hide_input_from_viewers": true,
     "hide_output_from_viewers": true,
     "node_id": "C5UfuuRC7CN7p8gLbFxo8M",
     "type": "CODE"
    }
   },
   "outputs": [],
   "source": [
    "import pandas as pd\n",
    "import numpy as np\n",
    "from datetime import date\n",
    "import matplotlib.pyplot as plt\n",
    "\n",
    "# Einlesen des CSV-Files das in Apollon erstellt wurde Titel= Versandretouren 095 neu\n",
    "df = pd.read_csv('Standardprofil Bestellungen.csv',\n",
    "                 encoding='cp1252',\n",
    "                 sep=';',\n",
    "                 usecols=[1, 3, 4, 5, 7, 8, 20, 21, 23],\n",
    "                 parse_dates=['order_date_time'])\n",
    "\n",
    "df.columns = ['Bestell-Nr', 'Vorname', 'Name', 'E-Mail', 'PLZ', 'Ort', 'Betrag', 'Status', 'Bestell-Datum']\n",
    "\n",
    "# Erstellt ein Feld mit Jahr und Kalenderwoche\n",
    "df['Jahr_Woche'] = df['Bestell-Datum'].dt.strftime('%Y-%V')\n",
    "df['Jahr_Monat'] = df['Bestell-Datum'].dt.strftime('%Y-%m')\n",
    "\n",
    "\n",
    "# Dict der Bestellungsstati erstellen\n",
    "# liste_keys = list(df['Status'].unique())\n",
    "# liste_values = ['Abgeschlossen', 'Abgebrochen', 'in Bearbeitung', 'Offen', 'noch_nicht_definiert']\n",
    "# dict_stati = dict(zip(liste_keys, liste_values))\n",
    "dict_stati = {'631746e6b48842b18a8fe0b252ebe131': 'Abgeschlossen',\n",
    "              '4c3514aaa4e448a5a142a216f18f350b': 'Abgebrochen',\n",
    "              '4e61d3596d094072a3e7b138cef95080': 'in Bearbeitung',\n",
    "              'c1d1f7e8848147948abebd0efdf446cd': 'Offen',\n",
    "              'ff2fa796931b471a8a99c8259c18da49': 'Bereit zur Abholung'}\n",
    "\n",
    "# Ersetzt die IDs der Stati durch die richtigen Begriffe\n",
    "df.replace({\"Status\": dict_stati}, inplace=True)\n",
    "\n",
    "# Definieren von Click&Collect-Bestellungen (dort wo der Bestellungsbetrag = 0) ist\n",
    "df['click_and_collect'] = np.where(df['Betrag'] == 0, 1, 0)\n",
    "\n",
    "\n",
    "# Erstellt ein Dataframe mit abgebrochenen Bestellungen\n",
    "abgebrochen = df['Status'] == 'Abgebrochen'\n",
    "df_abgebrochen = df[abgebrochen]\n",
    "df_abgebrochen_sum = df_abgebrochen.groupby('Jahr_Woche').aggregate({'Betrag':['count']})\n",
    "total_abgebrochen = df_abgebrochen_sum.sum()\n",
    "\n",
    "# Erstellt ein Dataframe mit regulären Bestellungen ohne Click&Collect\n",
    "kein_click_and_collect = df['click_and_collect'] == 0\n",
    "df_regulaer = df[~abgebrochen & kein_click_and_collect]\n",
    "df_regulaer_sum = df_regulaer.groupby('Jahr_Woche').aggregate({'Betrag':['count']})\n",
    "total_regular = df_regulaer_sum.sum()\n",
    "df_regulaer_sum_mon = df_regulaer.groupby('Jahr_Monat').aggregate({'Betrag':['count', 'sum']})\n",
    "\n",
    "# Erstellt ein Dataframe mit Click&Collect-Bestellungen\n",
    "click_and_collect =  df['click_and_collect'] == 1\n",
    "df_click_and_collect = df[click_and_collect & ~abgebrochen]        \n",
    "df_click_and_collect_sum = df_click_and_collect.groupby('Jahr_Woche').aggregate({'click_and_collect':['count']})\n",
    "total_click_and_collect = df_click_and_collect_sum.sum()\n"
   ]
  },
  {
   "cell_type": "code",
   "execution_count": 2,
   "metadata": {
    "datalore": {
     "hide_input_from_viewers": true,
     "hide_output_from_viewers": false,
     "node_id": "Nipu0x6boBY7RUXFW9vf94",
     "report_properties": {
      "height": 3,
      "isDynamicHeight": false,
      "relativeY": 0,
      "rowId": "gZjc27tXLaqyuY5EAkzsq2",
      "splitHeight": 2,
      "width": 0.25,
      "x": 0.6458333333333334
     },
     "type": "CODE"
    }
   },
   "outputs": [
    {
     "name": "stdout",
     "output_type": "stream",
     "text": [
      "Auswertung per:  28/07/2023\n"
     ]
    }
   ],
   "source": [
    "today = date.today()\n",
    "d1 = today.strftime(\"%d/%m/%Y\")\n",
    "print(\"Auswertung per: \", d1)"
   ]
  },
  {
   "cell_type": "code",
   "execution_count": 3,
   "metadata": {
    "datalore": {
     "hide_input_from_viewers": true,
     "hide_output_from_viewers": true,
     "node_id": "eyuoVkqoYOKhwbYVkgzjUk",
     "type": "CODE"
    }
   },
   "outputs": [
    {
     "name": "stdout",
     "output_type": "stream",
     "text": [
      "<class 'pandas.core.frame.DataFrame'>\n",
      "RangeIndex: 2200 entries, 0 to 2199\n",
      "Data columns (total 12 columns):\n",
      " #   Column             Non-Null Count  Dtype              \n",
      "---  ------             --------------  -----              \n",
      " 0   Bestell-Nr         2200 non-null   int64              \n",
      " 1   Vorname            2200 non-null   object             \n",
      " 2   Name               2200 non-null   object             \n",
      " 3   E-Mail             2200 non-null   object             \n",
      " 4   PLZ                2200 non-null   int64              \n",
      " 5   Ort                2200 non-null   object             \n",
      " 6   Betrag             2200 non-null   float64            \n",
      " 7   Status             2200 non-null   object             \n",
      " 8   Bestell-Datum      2200 non-null   datetime64[ns, UTC]\n",
      " 9   Jahr_Woche         2200 non-null   object             \n",
      " 10  Jahr_Monat         2200 non-null   object             \n",
      " 11  click_and_collect  2200 non-null   int32              \n",
      "dtypes: datetime64[ns, UTC](1), float64(1), int32(1), int64(2), object(7)\n",
      "memory usage: 197.8+ KB\n"
     ]
    }
   ],
   "source": [
    "df.info()"
   ]
  },
  {
   "cell_type": "markdown",
   "metadata": {
    "datalore": {
     "hide_input_from_viewers": true,
     "hide_output_from_viewers": true,
     "node_id": "MpBEwXCfNVdYHJlggqmB0g",
     "type": "MD"
    }
   },
   "source": [
    "## Teilauswertungen"
   ]
  },
  {
   "cell_type": "markdown",
   "metadata": {
    "datalore": {
     "hide_input_from_viewers": false,
     "hide_output_from_viewers": false,
     "node_id": "rqOqQzHvgplMo8tzs3TwxX",
     "report_properties": {
      "height": 5,
      "relativeY": 0,
      "rowId": "tJSDvyDwdqplhSFuDpdt0l",
      "splitHeight": 2,
      "width": 0.5,
      "x": 0
     },
     "type": "MD"
    }
   },
   "source": [
    "### Anteil an Click&Collect Bestellungen (dort wo Betrag = 0 ist) pro Woche und Total"
   ]
  },
  {
   "cell_type": "code",
   "execution_count": 4,
   "metadata": {
    "datalore": {
     "hide_input_from_viewers": true,
     "hide_output_from_viewers": true,
     "node_id": "Dyko5vg1wObD3uiXeEZ9mb",
     "type": "CODE"
    }
   },
   "outputs": [
    {
     "data": {
      "text/html": [
       "<div>\n",
       "<style scoped>\n",
       "    .dataframe tbody tr th:only-of-type {\n",
       "        vertical-align: middle;\n",
       "    }\n",
       "\n",
       "    .dataframe tbody tr th {\n",
       "        vertical-align: top;\n",
       "    }\n",
       "\n",
       "    .dataframe thead tr th {\n",
       "        text-align: left;\n",
       "    }\n",
       "\n",
       "    .dataframe thead tr:last-of-type th {\n",
       "        text-align: right;\n",
       "    }\n",
       "</style>\n",
       "<table border=\"1\" class=\"dataframe\">\n",
       "  <thead>\n",
       "    <tr>\n",
       "      <th></th>\n",
       "      <th>click_and_collect</th>\n",
       "    </tr>\n",
       "    <tr>\n",
       "      <th></th>\n",
       "      <th>sum</th>\n",
       "    </tr>\n",
       "    <tr>\n",
       "      <th>Jahr_Woche</th>\n",
       "      <th></th>\n",
       "    </tr>\n",
       "  </thead>\n",
       "  <tbody>\n",
       "    <tr>\n",
       "      <th>2023-24</th>\n",
       "      <td>109</td>\n",
       "    </tr>\n",
       "    <tr>\n",
       "      <th>2023-25</th>\n",
       "      <td>160</td>\n",
       "    </tr>\n",
       "    <tr>\n",
       "      <th>2023-26</th>\n",
       "      <td>122</td>\n",
       "    </tr>\n",
       "    <tr>\n",
       "      <th>2023-27</th>\n",
       "      <td>81</td>\n",
       "    </tr>\n",
       "    <tr>\n",
       "      <th>2023-28</th>\n",
       "      <td>90</td>\n",
       "    </tr>\n",
       "    <tr>\n",
       "      <th>2023-29</th>\n",
       "      <td>108</td>\n",
       "    </tr>\n",
       "    <tr>\n",
       "      <th>2023-30</th>\n",
       "      <td>96</td>\n",
       "    </tr>\n",
       "  </tbody>\n",
       "</table>\n",
       "</div>"
      ],
      "text/plain": [
       "           click_and_collect\n",
       "                         sum\n",
       "Jahr_Woche                  \n",
       "2023-24                  109\n",
       "2023-25                  160\n",
       "2023-26                  122\n",
       "2023-27                   81\n",
       "2023-28                   90\n",
       "2023-29                  108\n",
       "2023-30                   96"
      ]
     },
     "execution_count": 4,
     "metadata": {},
     "output_type": "execute_result"
    }
   ],
   "source": [
    "df.groupby(['Jahr_Woche']).aggregate({'click_and_collect': ['sum']})"
   ]
  },
  {
   "cell_type": "code",
   "execution_count": 5,
   "metadata": {
    "datalore": {
     "hide_input_from_viewers": true,
     "hide_output_from_viewers": true,
     "node_id": "KPhsVlkyCdqj7pUeYnANwn",
     "type": "CODE"
    }
   },
   "outputs": [
    {
     "data": {
      "text/plain": [
       "<matplotlib.legend.Legend at 0x11216996850>"
      ]
     },
     "execution_count": 5,
     "metadata": {},
     "output_type": "execute_result"
    },
    {
     "data": {
      "image/png": "[encoded data removed]",
      "text/plain": [
       "<Figure size 640x480 with 1 Axes>"
      ]
     },
     "metadata": {},
     "output_type": "display_data"
    }
   ],
   "source": [
    "df_click_and_collect_sum.plot.bar(xlabel='Woche', ylabel='Anz. Bestellungen', legend='Test', color='blue')\n",
    "plt.legend()"
   ]
  },
  {
   "cell_type": "code",
   "execution_count": 6,
   "metadata": {
    "datalore": {
     "hide_input_from_viewers": true,
     "hide_output_from_viewers": false,
     "node_id": "a5MP3WAdnM4mk8OYW2szd9",
     "report_properties": {
      "height": 5,
      "relativeY": 0,
      "rowId": "tA8zkRUTKJ7xb1tCyHVzE0",
      "splitHeight": 2,
      "width": 0.5,
      "x": 0
     },
     "type": "CODE"
    }
   },
   "outputs": [
    {
     "name": "stdout",
     "output_type": "stream",
     "text": [
      "Total Click&Collect-Bestellungen\n",
      "click_and_collect  count    746\n",
      "dtype: int64\n"
     ]
    }
   ],
   "source": [
    "print('Total Click&Collect-Bestellungen')\n",
    "print(total_click_and_collect)"
   ]
  },
  {
   "cell_type": "code",
   "execution_count": 7,
   "metadata": {
    "datalore": {
     "hide_input_from_viewers": true,
     "hide_output_from_viewers": true,
     "node_id": "gTOSVWGwUmHHkBZsny34qS",
     "type": "CODE"
    }
   },
   "outputs": [
    {
     "data": {
      "text/plain": [
       "{'631746e6b48842b18a8fe0b252ebe131': 'Abgeschlossen',\n",
       " '4c3514aaa4e448a5a142a216f18f350b': 'Abgebrochen',\n",
       " '4e61d3596d094072a3e7b138cef95080': 'in Bearbeitung',\n",
       " 'c1d1f7e8848147948abebd0efdf446cd': 'Offen',\n",
       " 'ff2fa796931b471a8a99c8259c18da49': 'Bereit zur Abholung'}"
      ]
     },
     "execution_count": 7,
     "metadata": {},
     "output_type": "execute_result"
    }
   ],
   "source": [
    "dict_stati"
   ]
  },
  {
   "cell_type": "markdown",
   "metadata": {
    "datalore": {
     "hide_input_from_viewers": true,
     "hide_output_from_viewers": true,
     "node_id": "4Q8aMnt3hCKfsEka1Twbpc",
     "type": "MD"
    }
   },
   "source": [
    "### Anzahl Bestellungen nach Bestellnummern pro Woche und Total"
   ]
  },
  {
   "cell_type": "code",
   "execution_count": 8,
   "metadata": {
    "datalore": {
     "hide_input_from_viewers": true,
     "hide_output_from_viewers": true,
     "node_id": "ssjQzBzBn3NuxEUkaOfOFh",
     "type": "CODE"
    }
   },
   "outputs": [
    {
     "data": {
      "text/html": [
       "<div>\n",
       "<style scoped>\n",
       "    .dataframe tbody tr th:only-of-type {\n",
       "        vertical-align: middle;\n",
       "    }\n",
       "\n",
       "    .dataframe tbody tr th {\n",
       "        vertical-align: top;\n",
       "    }\n",
       "\n",
       "    .dataframe thead tr th {\n",
       "        text-align: left;\n",
       "    }\n",
       "\n",
       "    .dataframe thead tr:last-of-type th {\n",
       "        text-align: right;\n",
       "    }\n",
       "</style>\n",
       "<table border=\"1\" class=\"dataframe\">\n",
       "  <thead>\n",
       "    <tr>\n",
       "      <th></th>\n",
       "      <th colspan=\"2\" halign=\"left\">Bestell-Nr</th>\n",
       "    </tr>\n",
       "    <tr>\n",
       "      <th></th>\n",
       "      <th>count</th>\n",
       "      <th>sum</th>\n",
       "    </tr>\n",
       "    <tr>\n",
       "      <th>Jahr_Woche</th>\n",
       "      <th></th>\n",
       "      <th></th>\n",
       "    </tr>\n",
       "  </thead>\n",
       "  <tbody>\n",
       "    <tr>\n",
       "      <th>2023-24</th>\n",
       "      <td>285</td>\n",
       "      <td>3013875</td>\n",
       "    </tr>\n",
       "    <tr>\n",
       "      <th>2023-25</th>\n",
       "      <td>460</td>\n",
       "      <td>5036284</td>\n",
       "    </tr>\n",
       "    <tr>\n",
       "      <th>2023-26</th>\n",
       "      <td>355</td>\n",
       "      <td>4045999</td>\n",
       "    </tr>\n",
       "    <tr>\n",
       "      <th>2023-27</th>\n",
       "      <td>287</td>\n",
       "      <td>3367665</td>\n",
       "    </tr>\n",
       "    <tr>\n",
       "      <th>2023-28</th>\n",
       "      <td>266</td>\n",
       "      <td>3195059</td>\n",
       "    </tr>\n",
       "    <tr>\n",
       "      <th>2023-29</th>\n",
       "      <td>298</td>\n",
       "      <td>3663463</td>\n",
       "    </tr>\n",
       "    <tr>\n",
       "      <th>2023-30</th>\n",
       "      <td>249</td>\n",
       "      <td>3129183</td>\n",
       "    </tr>\n",
       "  </tbody>\n",
       "</table>\n",
       "</div>"
      ],
      "text/plain": [
       "           Bestell-Nr         \n",
       "                count      sum\n",
       "Jahr_Woche                    \n",
       "2023-24           285  3013875\n",
       "2023-25           460  5036284\n",
       "2023-26           355  4045999\n",
       "2023-27           287  3367665\n",
       "2023-28           266  3195059\n",
       "2023-29           298  3663463\n",
       "2023-30           249  3129183"
      ]
     },
     "execution_count": 8,
     "metadata": {},
     "output_type": "execute_result"
    }
   ],
   "source": [
    "df.groupby(['Jahr_Woche']).aggregate({'Bestell-Nr':['count', 'sum']})"
   ]
  },
  {
   "cell_type": "code",
   "execution_count": 9,
   "metadata": {
    "datalore": {
     "hide_input_from_viewers": true,
     "hide_output_from_viewers": true,
     "node_id": "gtMEPwBjQ1VfbweFP8dWmM",
     "type": "CODE"
    }
   },
   "outputs": [
    {
     "data": {
      "text/plain": [
       "Bestell-Nr  count        2200\n",
       "            sum      25451528\n",
       "dtype: int64"
      ]
     },
     "execution_count": 9,
     "metadata": {},
     "output_type": "execute_result"
    }
   ],
   "source": [
    "df.groupby(['Jahr_Woche']).aggregate({'Bestell-Nr':['count', 'sum']}).sum()"
   ]
  },
  {
   "cell_type": "code",
   "execution_count": 10,
   "metadata": {
    "datalore": {
     "hide_input_from_viewers": true,
     "hide_output_from_viewers": false,
     "node_id": "DjY8KExBjtKJyW4mHZ3P3J",
     "report_properties": {
      "height": 24,
      "isDynamicHeight": false,
      "relativeY": 0,
      "rowId": "Jrk86vw7Ytzdpq5EfcBM1N",
      "splitHeight": 2,
      "width": 0.5,
      "x": 0
     },
     "type": "CODE"
    }
   },
   "outputs": [
    {
     "data": {
      "text/plain": [
       "<matplotlib.legend.Legend at 0x1121b5ccd60>"
      ]
     },
     "execution_count": 10,
     "metadata": {},
     "output_type": "execute_result"
    },
    {
     "data": {
      "image/png": "[encoded data removed]",
      "text/plain": [
       "<Figure size 640x480 with 1 Axes>"
      ]
     },
     "metadata": {},
     "output_type": "display_data"
    }
   ],
   "source": [
    "df_click_and_collect_sum.plot.bar(xlabel='Woche', ylabel='Anz. Bestellungen', legend='Test', color='blue')\n",
    "plt.legend()"
   ]
  },
  {
   "cell_type": "markdown",
   "metadata": {
    "datalore": {
     "hide_input_from_viewers": false,
     "hide_output_from_viewers": false,
     "node_id": "VeUlnCyGJYzYm4y0JaVzLW",
     "report_properties": {
      "height": 5,
      "relativeY": 0,
      "rowId": "tJSDvyDwdqplhSFuDpdt0l",
      "width": 0.5,
      "x": 0.5
     },
     "type": "MD"
    }
   },
   "source": [
    "### Anzahl abgebrochener Bestellungen"
   ]
  },
  {
   "cell_type": "code",
   "execution_count": 11,
   "metadata": {
    "datalore": {
     "hide_input_from_viewers": true,
     "hide_output_from_viewers": true,
     "node_id": "EmjQ3d6LbVIyzYI1kQdlTh",
     "type": "CODE"
    }
   },
   "outputs": [
    {
     "data": {
      "text/html": [
       "<div>\n",
       "<style scoped>\n",
       "    .dataframe tbody tr th:only-of-type {\n",
       "        vertical-align: middle;\n",
       "    }\n",
       "\n",
       "    .dataframe tbody tr th {\n",
       "        vertical-align: top;\n",
       "    }\n",
       "\n",
       "    .dataframe thead tr th {\n",
       "        text-align: left;\n",
       "    }\n",
       "\n",
       "    .dataframe thead tr:last-of-type th {\n",
       "        text-align: right;\n",
       "    }\n",
       "</style>\n",
       "<table border=\"1\" class=\"dataframe\">\n",
       "  <thead>\n",
       "    <tr>\n",
       "      <th></th>\n",
       "      <th>Betrag</th>\n",
       "    </tr>\n",
       "    <tr>\n",
       "      <th></th>\n",
       "      <th>count</th>\n",
       "    </tr>\n",
       "    <tr>\n",
       "      <th>Jahr_Woche</th>\n",
       "      <th></th>\n",
       "    </tr>\n",
       "  </thead>\n",
       "  <tbody>\n",
       "    <tr>\n",
       "      <th>2023-24</th>\n",
       "      <td>46</td>\n",
       "    </tr>\n",
       "    <tr>\n",
       "      <th>2023-25</th>\n",
       "      <td>40</td>\n",
       "    </tr>\n",
       "    <tr>\n",
       "      <th>2023-26</th>\n",
       "      <td>16</td>\n",
       "    </tr>\n",
       "    <tr>\n",
       "      <th>2023-27</th>\n",
       "      <td>6</td>\n",
       "    </tr>\n",
       "    <tr>\n",
       "      <th>2023-28</th>\n",
       "      <td>7</td>\n",
       "    </tr>\n",
       "    <tr>\n",
       "      <th>2023-29</th>\n",
       "      <td>14</td>\n",
       "    </tr>\n",
       "    <tr>\n",
       "      <th>2023-30</th>\n",
       "      <td>15</td>\n",
       "    </tr>\n",
       "  </tbody>\n",
       "</table>\n",
       "</div>"
      ],
      "text/plain": [
       "           Betrag\n",
       "            count\n",
       "Jahr_Woche       \n",
       "2023-24        46\n",
       "2023-25        40\n",
       "2023-26        16\n",
       "2023-27         6\n",
       "2023-28         7\n",
       "2023-29        14\n",
       "2023-30        15"
      ]
     },
     "execution_count": 11,
     "metadata": {},
     "output_type": "execute_result"
    }
   ],
   "source": [
    "df_abgebrochen_sum"
   ]
  },
  {
   "cell_type": "code",
   "execution_count": 12,
   "metadata": {
    "datalore": {
     "hide_input_from_viewers": true,
     "hide_output_from_viewers": false,
     "node_id": "mwaI5gdx2giWUKsbqtzaL8",
     "report_properties": {
      "height": 24,
      "relativeY": 0,
      "rowId": "Jrk86vw7Ytzdpq5EfcBM1N",
      "splitHeight": 5,
      "width": 0.5,
      "x": 0.5
     },
     "type": "CODE"
    }
   },
   "outputs": [
    {
     "data": {
      "text/plain": [
       "<matplotlib.legend.Legend at 0x1121ba52a60>"
      ]
     },
     "execution_count": 12,
     "metadata": {},
     "output_type": "execute_result"
    },
    {
     "data": {
      "image/png": "[encoded data removed]",
      "text/plain": [
       "<Figure size 640x480 with 1 Axes>"
      ]
     },
     "metadata": {},
     "output_type": "display_data"
    }
   ],
   "source": [
    "df_abgebrochen_sum.plot.bar(xlabel='Woche', ylabel='Anz. Bestellungen', legend='Test', color='red')\n",
    "plt.legend()"
   ]
  },
  {
   "cell_type": "code",
   "execution_count": 13,
   "metadata": {
    "datalore": {
     "hide_input_from_viewers": true,
     "hide_output_from_viewers": false,
     "node_id": "aoh6ACT3PF0KlsOBYIr9rH",
     "report_properties": {
      "height": 5,
      "isDynamicHeight": false,
      "relativeY": 0,
      "rowId": "tA8zkRUTKJ7xb1tCyHVzE0",
      "splitHeight": 4,
      "width": 0.5,
      "x": 0.5
     },
     "type": "CODE"
    }
   },
   "outputs": [
    {
     "name": "stdout",
     "output_type": "stream",
     "text": [
      "Total  abgebrochene Bestellungen\n",
      "Betrag  count    144\n",
      "dtype: int64\n"
     ]
    }
   ],
   "source": [
    "print('Total  abgebrochene Bestellungen')\n",
    "print(total_abgebrochen)"
   ]
  },
  {
   "cell_type": "markdown",
   "metadata": {
    "datalore": {
     "hide_input_from_viewers": false,
     "hide_output_from_viewers": false,
     "node_id": "tNb3kX8pbC9MTSHHcUBQyX",
     "report_properties": {
      "height": 5,
      "isDynamicHeight": false,
      "relativeY": 0,
      "rowId": "cz4BheoSVTgzKN1ZV068vG",
      "splitHeight": 2,
      "width": 0.5,
      "x": 0
     },
     "type": "MD"
    }
   },
   "source": [
    "## Anzahl reguläre Bestellungen"
   ]
  },
  {
   "cell_type": "code",
   "execution_count": 14,
   "metadata": {
    "datalore": {
     "hide_input_from_viewers": true,
     "hide_output_from_viewers": true,
     "node_id": "DLIOpP84Rz0GMWqGBSl1xQ",
     "type": "CODE"
    }
   },
   "outputs": [
    {
     "data": {
      "text/html": [
       "<div>\n",
       "<style scoped>\n",
       "    .dataframe tbody tr th:only-of-type {\n",
       "        vertical-align: middle;\n",
       "    }\n",
       "\n",
       "    .dataframe tbody tr th {\n",
       "        vertical-align: top;\n",
       "    }\n",
       "\n",
       "    .dataframe thead tr th {\n",
       "        text-align: left;\n",
       "    }\n",
       "\n",
       "    .dataframe thead tr:last-of-type th {\n",
       "        text-align: right;\n",
       "    }\n",
       "</style>\n",
       "<table border=\"1\" class=\"dataframe\">\n",
       "  <thead>\n",
       "    <tr>\n",
       "      <th></th>\n",
       "      <th>Betrag</th>\n",
       "    </tr>\n",
       "    <tr>\n",
       "      <th></th>\n",
       "      <th>count</th>\n",
       "    </tr>\n",
       "    <tr>\n",
       "      <th>Jahr_Woche</th>\n",
       "      <th></th>\n",
       "    </tr>\n",
       "  </thead>\n",
       "  <tbody>\n",
       "    <tr>\n",
       "      <th>2023-24</th>\n",
       "      <td>142</td>\n",
       "    </tr>\n",
       "    <tr>\n",
       "      <th>2023-25</th>\n",
       "      <td>266</td>\n",
       "    </tr>\n",
       "    <tr>\n",
       "      <th>2023-26</th>\n",
       "      <td>219</td>\n",
       "    </tr>\n",
       "    <tr>\n",
       "      <th>2023-27</th>\n",
       "      <td>200</td>\n",
       "    </tr>\n",
       "    <tr>\n",
       "      <th>2023-28</th>\n",
       "      <td>169</td>\n",
       "    </tr>\n",
       "    <tr>\n",
       "      <th>2023-29</th>\n",
       "      <td>176</td>\n",
       "    </tr>\n",
       "    <tr>\n",
       "      <th>2023-30</th>\n",
       "      <td>138</td>\n",
       "    </tr>\n",
       "  </tbody>\n",
       "</table>\n",
       "</div>"
      ],
      "text/plain": [
       "           Betrag\n",
       "            count\n",
       "Jahr_Woche       \n",
       "2023-24       142\n",
       "2023-25       266\n",
       "2023-26       219\n",
       "2023-27       200\n",
       "2023-28       169\n",
       "2023-29       176\n",
       "2023-30       138"
      ]
     },
     "execution_count": 14,
     "metadata": {},
     "output_type": "execute_result"
    }
   ],
   "source": [
    "\n",
    "df_regulaer_sum"
   ]
  },
  {
   "cell_type": "code",
   "execution_count": 15,
   "metadata": {
    "datalore": {
     "hide_input_from_viewers": true,
     "hide_output_from_viewers": true,
     "node_id": "RjcGa0pBy4Hm1FNFoUPiju",
     "type": "CODE"
    }
   },
   "outputs": [
    {
     "data": {
      "text/plain": [
       "Betrag  count    1310\n",
       "dtype: int64"
      ]
     },
     "execution_count": 15,
     "metadata": {},
     "output_type": "execute_result"
    }
   ],
   "source": [
    "total_regular"
   ]
  },
  {
   "cell_type": "code",
   "execution_count": 16,
   "metadata": {
    "datalore": {
     "hide_input_from_viewers": true,
     "hide_output_from_viewers": false,
     "node_id": "FH3Ec6No9SXrMJ7ImmdDzG",
     "report_properties": {
      "height": 20,
      "isDynamicHeight": false,
      "relativeY": 0,
      "rowId": "6qfb9QyBa4RklAnbZATSYj",
      "splitHeight": 2,
      "width": 0.5,
      "x": 0
     },
     "type": "CODE"
    }
   },
   "outputs": [
    {
     "data": {
      "text/plain": [
       "<matplotlib.legend.Legend at 0x1121b6d0370>"
      ]
     },
     "execution_count": 16,
     "metadata": {},
     "output_type": "execute_result"
    },
    {
     "data": {
      "image/png": "[encoded data removed]",
      "text/plain": [
       "<Figure size 640x480 with 1 Axes>"
      ]
     },
     "metadata": {},
     "output_type": "display_data"
    }
   ],
   "source": [
    "df_regulaer_sum.plot.bar(xlabel='Woche', ylabel='Anz. Bestellungen', legend='Test', color='green')\n",
    "plt.legend()"
   ]
  },
  {
   "cell_type": "code",
   "execution_count": 17,
   "metadata": {
    "datalore": {
     "hide_input_from_viewers": true,
     "hide_output_from_viewers": false,
     "node_id": "TnsQ1kZPD0OLQUtOYnTPBC",
     "report_properties": {
      "height": 5,
      "relativeY": 20,
      "rowId": "6qfb9QyBa4RklAnbZATSYj",
      "splitHeight": 2,
      "width": 0.5,
      "x": 0
     },
     "type": "CODE"
    }
   },
   "outputs": [
    {
     "name": "stdout",
     "output_type": "stream",
     "text": [
      "Online Bestellungen\n",
      "Betrag  count    1310\n",
      "dtype: int64\n"
     ]
    }
   ],
   "source": [
    "print('Online Bestellungen')\n",
    "print(total_regular)"
   ]
  },
  {
   "cell_type": "code",
   "execution_count": 18,
   "metadata": {
    "datalore": {
     "hide_input_from_viewers": true,
     "hide_output_from_viewers": true,
     "node_id": "xQrWElCySTHHb6FmMyoldh",
     "type": "CODE"
    }
   },
   "outputs": [
    {
     "name": "stdout",
     "output_type": "stream",
     "text": [
      "Online Bestellungen\n"
     ]
    },
    {
     "data": {
      "text/plain": [
       "click_and_collect  count    746\n",
       "dtype: int64"
      ]
     },
     "execution_count": 18,
     "metadata": {},
     "output_type": "execute_result"
    }
   ],
   "source": [
    "print('Online Bestellungen')\n",
    "total_click_and_collect"
   ]
  },
  {
   "cell_type": "code",
   "execution_count": 19,
   "metadata": {
    "datalore": {
     "hide_input_from_viewers": true,
     "hide_output_from_viewers": true,
     "node_id": "OdsvQ38LdWyqQOvHqZVPWm",
     "type": "CODE"
    }
   },
   "outputs": [
    {
     "data": {
      "text/plain": [
       "Betrag  count    1310\n",
       "dtype: int64"
      ]
     },
     "execution_count": 19,
     "metadata": {},
     "output_type": "execute_result"
    }
   ],
   "source": [
    "total_regular"
   ]
  },
  {
   "cell_type": "code",
   "execution_count": 20,
   "metadata": {
    "datalore": {
     "hide_input_from_viewers": true,
     "hide_output_from_viewers": true,
     "node_id": "mq0bQFRi7ONd0ayjyZZTBN",
     "type": "CODE"
    }
   },
   "outputs": [],
   "source": [
    "merged_df = pd.merge(df_regulaer_sum, df_abgebrochen_sum, on = 'Jahr_Woche')\n",
    "merged_df_2 =pd.merge(merged_df, df_click_and_collect_sum, on = 'Jahr_Woche') "
   ]
  },
  {
   "cell_type": "code",
   "execution_count": 21,
   "metadata": {
    "datalore": {
     "hide_input_from_viewers": true,
     "hide_output_from_viewers": true,
     "node_id": "gJtGy3CCaym1xViMUAWP8V",
     "type": "CODE"
    }
   },
   "outputs": [
    {
     "name": "stderr",
     "output_type": "stream",
     "text": [
      "C:\\Users\\avitr\\AppData\\Local\\Temp\\ipykernel_12960\\4283660780.py:3: FutureWarning: inplace is deprecated and will be removed in a future version.\n",
      "  merged_df_2.columns.set_levels(['Bestellungen', 'Abgebrochen', 'click_and_collect'], level=0, inplace=True )\n"
     ]
    }
   ],
   "source": [
    "merged_df_2\n",
    "\n",
    "merged_df_2.columns.set_levels(['Bestellungen', 'Abgebrochen', 'click_and_collect'], level=0, inplace=True )"
   ]
  },
  {
   "cell_type": "code",
   "execution_count": 22,
   "metadata": {
    "datalore": {
     "hide_input_from_viewers": true,
     "hide_output_from_viewers": true,
     "node_id": "d99WIbAFyzRMNVlUgfTGBQ",
     "type": "CODE"
    }
   },
   "outputs": [
    {
     "data": {
      "text/plain": [
       "<matplotlib.legend.Legend at 0x1121b720730>"
      ]
     },
     "execution_count": 22,
     "metadata": {},
     "output_type": "execute_result"
    },
    {
     "data": {
      "image/png": "[encoded data removed]",
      "text/plain": [
       "<Figure size 640x480 with 1 Axes>"
      ]
     },
     "metadata": {},
     "output_type": "display_data"
    }
   ],
   "source": [
    "merged_df_2.plot.bar(xlabel='Woche', ylabel='Anz. Bestellungen', legend='Test', color='green')\n",
    "plt.legend()"
   ]
  },
  {
   "cell_type": "code",
   "execution_count": 23,
   "metadata": {
    "datalore": {
     "hide_input_from_viewers": true,
     "hide_output_from_viewers": true,
     "node_id": "kYkxKmD9bOHDWFNmB58YDH",
     "type": "CODE"
    }
   },
   "outputs": [
    {
     "data": {
      "text/html": [
       "<div>\n",
       "<style scoped>\n",
       "    .dataframe tbody tr th:only-of-type {\n",
       "        vertical-align: middle;\n",
       "    }\n",
       "\n",
       "    .dataframe tbody tr th {\n",
       "        vertical-align: top;\n",
       "    }\n",
       "\n",
       "    .dataframe thead tr th {\n",
       "        text-align: left;\n",
       "    }\n",
       "\n",
       "    .dataframe thead tr:last-of-type th {\n",
       "        text-align: right;\n",
       "    }\n",
       "</style>\n",
       "<table border=\"1\" class=\"dataframe\">\n",
       "  <thead>\n",
       "    <tr>\n",
       "      <th></th>\n",
       "      <th>Bestellungen</th>\n",
       "      <th>Abgebrochen</th>\n",
       "      <th>click_and_collect</th>\n",
       "    </tr>\n",
       "    <tr>\n",
       "      <th></th>\n",
       "      <th>count</th>\n",
       "      <th>count</th>\n",
       "      <th>count</th>\n",
       "    </tr>\n",
       "    <tr>\n",
       "      <th>Jahr_Woche</th>\n",
       "      <th></th>\n",
       "      <th></th>\n",
       "      <th></th>\n",
       "    </tr>\n",
       "  </thead>\n",
       "  <tbody>\n",
       "    <tr>\n",
       "      <th>2023-24</th>\n",
       "      <td>142</td>\n",
       "      <td>46</td>\n",
       "      <td>97</td>\n",
       "    </tr>\n",
       "    <tr>\n",
       "      <th>2023-25</th>\n",
       "      <td>266</td>\n",
       "      <td>40</td>\n",
       "      <td>154</td>\n",
       "    </tr>\n",
       "    <tr>\n",
       "      <th>2023-26</th>\n",
       "      <td>219</td>\n",
       "      <td>16</td>\n",
       "      <td>120</td>\n",
       "    </tr>\n",
       "    <tr>\n",
       "      <th>2023-27</th>\n",
       "      <td>200</td>\n",
       "      <td>6</td>\n",
       "      <td>81</td>\n",
       "    </tr>\n",
       "    <tr>\n",
       "      <th>2023-28</th>\n",
       "      <td>169</td>\n",
       "      <td>7</td>\n",
       "      <td>90</td>\n",
       "    </tr>\n",
       "    <tr>\n",
       "      <th>2023-29</th>\n",
       "      <td>176</td>\n",
       "      <td>14</td>\n",
       "      <td>108</td>\n",
       "    </tr>\n",
       "    <tr>\n",
       "      <th>2023-30</th>\n",
       "      <td>138</td>\n",
       "      <td>15</td>\n",
       "      <td>96</td>\n",
       "    </tr>\n",
       "  </tbody>\n",
       "</table>\n",
       "</div>"
      ],
      "text/plain": [
       "           Bestellungen Abgebrochen click_and_collect\n",
       "                  count       count             count\n",
       "Jahr_Woche                                           \n",
       "2023-24             142          46                97\n",
       "2023-25             266          40               154\n",
       "2023-26             219          16               120\n",
       "2023-27             200           6                81\n",
       "2023-28             169           7                90\n",
       "2023-29             176          14               108\n",
       "2023-30             138          15                96"
      ]
     },
     "execution_count": 23,
     "metadata": {},
     "output_type": "execute_result"
    }
   ],
   "source": [
    "merged_df_2"
   ]
  },
  {
   "cell_type": "markdown",
   "metadata": {
    "datalore": {
     "hide_input_from_viewers": false,
     "hide_output_from_viewers": false,
     "node_id": "togD7QHKyvCwQl04JTrLWa",
     "report_properties": {
      "height": 5,
      "relativeY": 0,
      "rowId": "cz4BheoSVTgzKN1ZV068vG",
      "width": 0.5,
      "x": 0.5
     },
     "type": "MD"
    }
   },
   "source": [
    "## Die 20 letzten abgebrochenen Bestellungen zum Kontrollieren"
   ]
  },
  {
   "cell_type": "code",
   "execution_count": 24,
   "metadata": {
    "datalore": {
     "hide_input_from_viewers": true,
     "hide_output_from_viewers": false,
     "node_id": "cNtyNSzm7fpCNSPAvMeKXh",
     "report_properties": {
      "height": 33,
      "relativeY": 0,
      "rowId": "6qfb9QyBa4RklAnbZATSYj",
      "width": 0.5,
      "x": 0.5
     },
     "type": "CODE"
    }
   },
   "outputs": [
    {
     "data": {
      "text/html": [
       "<div>\n",
       "<style scoped>\n",
       "    .dataframe tbody tr th:only-of-type {\n",
       "        vertical-align: middle;\n",
       "    }\n",
       "\n",
       "    .dataframe tbody tr th {\n",
       "        vertical-align: top;\n",
       "    }\n",
       "\n",
       "    .dataframe thead th {\n",
       "        text-align: right;\n",
       "    }\n",
       "</style>\n",
       "<table border=\"1\" class=\"dataframe\">\n",
       "  <thead>\n",
       "    <tr style=\"text-align: right;\">\n",
       "      <th></th>\n",
       "      <th>Bestell-Nr</th>\n",
       "      <th>Name</th>\n",
       "      <th>E-Mail</th>\n",
       "      <th>Betrag</th>\n",
       "    </tr>\n",
       "  </thead>\n",
       "  <tbody>\n",
       "    <tr>\n",
       "      <th>1808</th>\n",
       "      <td>12300</td>\n",
       "      <td>Campos Garcia</td>\n",
       "      <td>dina300@msn.com</td>\n",
       "      <td>31.45</td>\n",
       "    </tr>\n",
       "    <tr>\n",
       "      <th>1809</th>\n",
       "      <td>12301</td>\n",
       "      <td>Campos Garcia</td>\n",
       "      <td>dina300@msn.com</td>\n",
       "      <td>55.20</td>\n",
       "    </tr>\n",
       "    <tr>\n",
       "      <th>1814</th>\n",
       "      <td>12306</td>\n",
       "      <td>Nutt</td>\n",
       "      <td>m.nutt@adon.li</td>\n",
       "      <td>249.00</td>\n",
       "    </tr>\n",
       "    <tr>\n",
       "      <th>1816</th>\n",
       "      <td>12308</td>\n",
       "      <td>Nutt</td>\n",
       "      <td>m.nutt@adon.li</td>\n",
       "      <td>498.00</td>\n",
       "    </tr>\n",
       "    <tr>\n",
       "      <th>1939</th>\n",
       "      <td>12431</td>\n",
       "      <td>Baumann</td>\n",
       "      <td>benjamin@familiebaumann.ch</td>\n",
       "      <td>260.00</td>\n",
       "    </tr>\n",
       "    <tr>\n",
       "      <th>1953</th>\n",
       "      <td>12445</td>\n",
       "      <td>Schilter</td>\n",
       "      <td>katja.schilter@icloud.com</td>\n",
       "      <td>102.50</td>\n",
       "    </tr>\n",
       "    <tr>\n",
       "      <th>1957</th>\n",
       "      <td>12449</td>\n",
       "      <td>Waeber</td>\n",
       "      <td>silvia.waeber13@gmx.ch</td>\n",
       "      <td>197.60</td>\n",
       "    </tr>\n",
       "    <tr>\n",
       "      <th>1992</th>\n",
       "      <td>12484</td>\n",
       "      <td>KÃ¼nzli</td>\n",
       "      <td>silvia.kuenzli@immonetwork.ch</td>\n",
       "      <td>134.00</td>\n",
       "    </tr>\n",
       "    <tr>\n",
       "      <th>1995</th>\n",
       "      <td>12487</td>\n",
       "      <td>Testet</td>\n",
       "      <td>kuhlmann@men-at-work.de</td>\n",
       "      <td>47.60</td>\n",
       "    </tr>\n",
       "    <tr>\n",
       "      <th>1996</th>\n",
       "      <td>12488</td>\n",
       "      <td>Testet</td>\n",
       "      <td>kuhlmann@men-at-work.de</td>\n",
       "      <td>47.60</td>\n",
       "    </tr>\n",
       "    <tr>\n",
       "      <th>1998</th>\n",
       "      <td>12490</td>\n",
       "      <td>Spycher Kramer</td>\n",
       "      <td>ursula.spycher@bluewin.ch</td>\n",
       "      <td>73.72</td>\n",
       "    </tr>\n",
       "    <tr>\n",
       "      <th>2060</th>\n",
       "      <td>12552</td>\n",
       "      <td>Buschor Cechmanek</td>\n",
       "      <td>jenniferbuschor@hotmail.com</td>\n",
       "      <td>25.75</td>\n",
       "    </tr>\n",
       "    <tr>\n",
       "      <th>2077</th>\n",
       "      <td>12569</td>\n",
       "      <td>Fischer</td>\n",
       "      <td>anji@gmx.ch</td>\n",
       "      <td>142.50</td>\n",
       "    </tr>\n",
       "    <tr>\n",
       "      <th>2090</th>\n",
       "      <td>12582</td>\n",
       "      <td>Frick</td>\n",
       "      <td>evfrick@bluewin.ch</td>\n",
       "      <td>95.00</td>\n",
       "    </tr>\n",
       "    <tr>\n",
       "      <th>2103</th>\n",
       "      <td>12595</td>\n",
       "      <td>Wanner</td>\n",
       "      <td>ingrid.wanner@bluewin.ch</td>\n",
       "      <td>94.05</td>\n",
       "    </tr>\n",
       "    <tr>\n",
       "      <th>2105</th>\n",
       "      <td>12597</td>\n",
       "      <td>Wanner</td>\n",
       "      <td>ingrid.wanner@bluewin.ch</td>\n",
       "      <td>94.05</td>\n",
       "    </tr>\n",
       "    <tr>\n",
       "      <th>2106</th>\n",
       "      <td>12598</td>\n",
       "      <td>Wanner</td>\n",
       "      <td>ingrid.wanner@bluewin.ch</td>\n",
       "      <td>94.05</td>\n",
       "    </tr>\n",
       "    <tr>\n",
       "      <th>2129</th>\n",
       "      <td>12621</td>\n",
       "      <td>Frick</td>\n",
       "      <td>evfrick@bluewin.ch</td>\n",
       "      <td>73.72</td>\n",
       "    </tr>\n",
       "    <tr>\n",
       "      <th>2171</th>\n",
       "      <td>12663</td>\n",
       "      <td>Herrmann</td>\n",
       "      <td>mengiarda.herrmann@bluewin.ch</td>\n",
       "      <td>589.50</td>\n",
       "    </tr>\n",
       "    <tr>\n",
       "      <th>2188</th>\n",
       "      <td>12680</td>\n",
       "      <td>Seiler</td>\n",
       "      <td>mashy.seiler@bluewin.ch</td>\n",
       "      <td>129.00</td>\n",
       "    </tr>\n",
       "  </tbody>\n",
       "</table>\n",
       "</div>"
      ],
      "text/plain": [
       "      Bestell-Nr               Name                         E-Mail  Betrag\n",
       "1808       12300      Campos Garcia                dina300@msn.com   31.45\n",
       "1809       12301      Campos Garcia                dina300@msn.com   55.20\n",
       "1814       12306               Nutt                 m.nutt@adon.li  249.00\n",
       "1816       12308               Nutt                 m.nutt@adon.li  498.00\n",
       "1939       12431            Baumann     benjamin@familiebaumann.ch  260.00\n",
       "1953       12445           Schilter      katja.schilter@icloud.com  102.50\n",
       "1957       12449             Waeber         silvia.waeber13@gmx.ch  197.60\n",
       "1992       12484            KÃ¼nzli  silvia.kuenzli@immonetwork.ch  134.00\n",
       "1995       12487             Testet        kuhlmann@men-at-work.de   47.60\n",
       "1996       12488             Testet        kuhlmann@men-at-work.de   47.60\n",
       "1998       12490     Spycher Kramer      ursula.spycher@bluewin.ch   73.72\n",
       "2060       12552  Buschor Cechmanek    jenniferbuschor@hotmail.com   25.75\n",
       "2077       12569            Fischer                    anji@gmx.ch  142.50\n",
       "2090       12582             Frick              evfrick@bluewin.ch   95.00\n",
       "2103       12595             Wanner       ingrid.wanner@bluewin.ch   94.05\n",
       "2105       12597             Wanner       ingrid.wanner@bluewin.ch   94.05\n",
       "2106       12598             Wanner       ingrid.wanner@bluewin.ch   94.05\n",
       "2129       12621              Frick             evfrick@bluewin.ch   73.72\n",
       "2171       12663           Herrmann  mengiarda.herrmann@bluewin.ch  589.50\n",
       "2188       12680             Seiler        mashy.seiler@bluewin.ch  129.00"
      ]
     },
     "execution_count": 24,
     "metadata": {},
     "output_type": "execute_result"
    }
   ],
   "source": [
    "df_abgebrochen[['Bestell-Nr', 'Name', 'E-Mail', 'Betrag']].tail(n=20)"
   ]
  },
  {
   "cell_type": "code",
   "execution_count": 25,
   "metadata": {
    "datalore": {
     "hide_input_from_viewers": true,
     "hide_output_from_viewers": true,
     "node_id": "gRgHSLiLwtQmlQ2Jk29ZoO",
     "type": "CODE"
    }
   },
   "outputs": [
    {
     "data": {
      "text/html": [
       "<div>\n",
       "<style scoped>\n",
       "    .dataframe tbody tr th:only-of-type {\n",
       "        vertical-align: middle;\n",
       "    }\n",
       "\n",
       "    .dataframe tbody tr th {\n",
       "        vertical-align: top;\n",
       "    }\n",
       "\n",
       "    .dataframe thead th {\n",
       "        text-align: right;\n",
       "    }\n",
       "</style>\n",
       "<table border=\"1\" class=\"dataframe\">\n",
       "  <thead>\n",
       "    <tr style=\"text-align: right;\">\n",
       "      <th></th>\n",
       "      <th>Bestell-Nr</th>\n",
       "      <th>Status</th>\n",
       "    </tr>\n",
       "  </thead>\n",
       "  <tbody>\n",
       "    <tr>\n",
       "      <th>11</th>\n",
       "      <td>10444</td>\n",
       "      <td>in Bearbeitung</td>\n",
       "    </tr>\n",
       "    <tr>\n",
       "      <th>20</th>\n",
       "      <td>10453</td>\n",
       "      <td>Bereit zur Abholung</td>\n",
       "    </tr>\n",
       "    <tr>\n",
       "      <th>27</th>\n",
       "      <td>10460</td>\n",
       "      <td>Bereit zur Abholung</td>\n",
       "    </tr>\n",
       "    <tr>\n",
       "      <th>37</th>\n",
       "      <td>10470</td>\n",
       "      <td>Bereit zur Abholung</td>\n",
       "    </tr>\n",
       "    <tr>\n",
       "      <th>38</th>\n",
       "      <td>10471</td>\n",
       "      <td>in Bearbeitung</td>\n",
       "    </tr>\n",
       "    <tr>\n",
       "      <th>...</th>\n",
       "      <td>...</td>\n",
       "      <td>...</td>\n",
       "    </tr>\n",
       "    <tr>\n",
       "      <th>2192</th>\n",
       "      <td>12684</td>\n",
       "      <td>Offen</td>\n",
       "    </tr>\n",
       "    <tr>\n",
       "      <th>2194</th>\n",
       "      <td>12686</td>\n",
       "      <td>Offen</td>\n",
       "    </tr>\n",
       "    <tr>\n",
       "      <th>2195</th>\n",
       "      <td>12687</td>\n",
       "      <td>Offen</td>\n",
       "    </tr>\n",
       "    <tr>\n",
       "      <th>2196</th>\n",
       "      <td>12688</td>\n",
       "      <td>Offen</td>\n",
       "    </tr>\n",
       "    <tr>\n",
       "      <th>2198</th>\n",
       "      <td>12690</td>\n",
       "      <td>Offen</td>\n",
       "    </tr>\n",
       "  </tbody>\n",
       "</table>\n",
       "<p>746 rows × 2 columns</p>\n",
       "</div>"
      ],
      "text/plain": [
       "      Bestell-Nr               Status\n",
       "11         10444       in Bearbeitung\n",
       "20         10453  Bereit zur Abholung\n",
       "27         10460  Bereit zur Abholung\n",
       "37         10470  Bereit zur Abholung\n",
       "38         10471       in Bearbeitung\n",
       "...          ...                  ...\n",
       "2192       12684                Offen\n",
       "2194       12686                Offen\n",
       "2195       12687                Offen\n",
       "2196       12688                Offen\n",
       "2198       12690                Offen\n",
       "\n",
       "[746 rows x 2 columns]"
      ]
     },
     "execution_count": 25,
     "metadata": {},
     "output_type": "execute_result"
    }
   ],
   "source": [
    "df_click_and_collect[['Bestell-Nr', 'Status']]"
   ]
  },
  {
   "cell_type": "markdown",
   "metadata": {},
   "source": [
    "# NEW CODE"
   ]
  },
  {
   "cell_type": "code",
   "execution_count": 26,
   "metadata": {},
   "outputs": [],
   "source": [
    "df_regulaer_sum_mon['Betrag','Final_val'] = df_regulaer_sum_mon['Betrag']['sum']/df_regulaer_sum_mon['Betrag']['count']"
   ]
  },
  {
   "cell_type": "code",
   "execution_count": 27,
   "metadata": {},
   "outputs": [
    {
     "data": {
      "text/html": [
       "<div>\n",
       "<style scoped>\n",
       "    .dataframe tbody tr th:only-of-type {\n",
       "        vertical-align: middle;\n",
       "    }\n",
       "\n",
       "    .dataframe tbody tr th {\n",
       "        vertical-align: top;\n",
       "    }\n",
       "\n",
       "    .dataframe thead tr th {\n",
       "        text-align: left;\n",
       "    }\n",
       "\n",
       "    .dataframe thead tr:last-of-type th {\n",
       "        text-align: right;\n",
       "    }\n",
       "</style>\n",
       "<table border=\"1\" class=\"dataframe\">\n",
       "  <thead>\n",
       "    <tr>\n",
       "      <th></th>\n",
       "      <th colspan=\"3\" halign=\"left\">Betrag</th>\n",
       "    </tr>\n",
       "    <tr>\n",
       "      <th></th>\n",
       "      <th>count</th>\n",
       "      <th>sum</th>\n",
       "      <th>Final_val</th>\n",
       "    </tr>\n",
       "    <tr>\n",
       "      <th>Jahr_Monat</th>\n",
       "      <th></th>\n",
       "      <th></th>\n",
       "      <th></th>\n",
       "    </tr>\n",
       "  </thead>\n",
       "  <tbody>\n",
       "    <tr>\n",
       "      <th>2023-06</th>\n",
       "      <td>574</td>\n",
       "      <td>94162.76</td>\n",
       "      <td>164.04662</td>\n",
       "    </tr>\n",
       "    <tr>\n",
       "      <th>2023-07</th>\n",
       "      <td>736</td>\n",
       "      <td>117908.90</td>\n",
       "      <td>160.20231</td>\n",
       "    </tr>\n",
       "  </tbody>\n",
       "</table>\n",
       "</div>"
      ],
      "text/plain": [
       "           Betrag                      \n",
       "            count        sum  Final_val\n",
       "Jahr_Monat                             \n",
       "2023-06       574   94162.76  164.04662\n",
       "2023-07       736  117908.90  160.20231"
      ]
     },
     "execution_count": 27,
     "metadata": {},
     "output_type": "execute_result"
    }
   ],
   "source": [
    "df_regulaer_sum_mon"
   ]
  },
  {
   "cell_type": "code",
   "execution_count": 28,
   "metadata": {},
   "outputs": [],
   "source": [
    "df_regulaer_sum_mon.columns = df_regulaer_sum_mon.columns.droplevel(0)"
   ]
  },
  {
   "cell_type": "code",
   "execution_count": 29,
   "metadata": {},
   "outputs": [],
   "source": [
    "df_regulaer_sum_mon.reset_index(inplace=True)"
   ]
  },
  {
   "cell_type": "code",
   "execution_count": 30,
   "metadata": {},
   "outputs": [
    {
     "data": {
      "text/html": [
       "<div>\n",
       "<style scoped>\n",
       "    .dataframe tbody tr th:only-of-type {\n",
       "        vertical-align: middle;\n",
       "    }\n",
       "\n",
       "    .dataframe tbody tr th {\n",
       "        vertical-align: top;\n",
       "    }\n",
       "\n",
       "    .dataframe thead th {\n",
       "        text-align: right;\n",
       "    }\n",
       "</style>\n",
       "<table border=\"1\" class=\"dataframe\">\n",
       "  <thead>\n",
       "    <tr style=\"text-align: right;\">\n",
       "      <th></th>\n",
       "      <th>Jahr_Monat</th>\n",
       "      <th>count</th>\n",
       "      <th>sum</th>\n",
       "      <th>Final_val</th>\n",
       "    </tr>\n",
       "  </thead>\n",
       "  <tbody>\n",
       "    <tr>\n",
       "      <th>0</th>\n",
       "      <td>2023-06</td>\n",
       "      <td>574</td>\n",
       "      <td>94162.76</td>\n",
       "      <td>164.04662</td>\n",
       "    </tr>\n",
       "    <tr>\n",
       "      <th>1</th>\n",
       "      <td>2023-07</td>\n",
       "      <td>736</td>\n",
       "      <td>117908.90</td>\n",
       "      <td>160.20231</td>\n",
       "    </tr>\n",
       "  </tbody>\n",
       "</table>\n",
       "</div>"
      ],
      "text/plain": [
       "  Jahr_Monat  count        sum  Final_val\n",
       "0    2023-06    574   94162.76  164.04662\n",
       "1    2023-07    736  117908.90  160.20231"
      ]
     },
     "execution_count": 30,
     "metadata": {},
     "output_type": "execute_result"
    }
   ],
   "source": [
    "df_regulaer_sum_mon"
   ]
  },
  {
   "cell_type": "markdown",
   "metadata": {},
   "source": [
    "# Merge-> Multi to Single"
   ]
  },
  {
   "cell_type": "code",
   "execution_count": 31,
   "metadata": {},
   "outputs": [],
   "source": [
    "merged_df = pd.merge(df_regulaer_sum, df_abgebrochen_sum, on = 'Jahr_Woche')\n",
    "merged_df_2 =pd.merge(merged_df, df_click_and_collect_sum, on = 'Jahr_Woche') "
   ]
  },
  {
   "cell_type": "code",
   "execution_count": 32,
   "metadata": {},
   "outputs": [],
   "source": [
    "merged_df_2.columns = merged_df_2.columns.droplevel(1)"
   ]
  },
  {
   "cell_type": "code",
   "execution_count": 33,
   "metadata": {},
   "outputs": [],
   "source": [
    "merged_df_2.reset_index(inplace=True)"
   ]
  },
  {
   "cell_type": "code",
   "execution_count": 34,
   "metadata": {},
   "outputs": [
    {
     "data": {
      "text/html": [
       "<div>\n",
       "<style scoped>\n",
       "    .dataframe tbody tr th:only-of-type {\n",
       "        vertical-align: middle;\n",
       "    }\n",
       "\n",
       "    .dataframe tbody tr th {\n",
       "        vertical-align: top;\n",
       "    }\n",
       "\n",
       "    .dataframe thead th {\n",
       "        text-align: right;\n",
       "    }\n",
       "</style>\n",
       "<table border=\"1\" class=\"dataframe\">\n",
       "  <thead>\n",
       "    <tr style=\"text-align: right;\">\n",
       "      <th></th>\n",
       "      <th>Jahr_Woche</th>\n",
       "      <th>Betrag_x</th>\n",
       "      <th>Betrag_y</th>\n",
       "      <th>click_and_collect</th>\n",
       "    </tr>\n",
       "  </thead>\n",
       "  <tbody>\n",
       "    <tr>\n",
       "      <th>0</th>\n",
       "      <td>2023-24</td>\n",
       "      <td>142</td>\n",
       "      <td>46</td>\n",
       "      <td>97</td>\n",
       "    </tr>\n",
       "    <tr>\n",
       "      <th>1</th>\n",
       "      <td>2023-25</td>\n",
       "      <td>266</td>\n",
       "      <td>40</td>\n",
       "      <td>154</td>\n",
       "    </tr>\n",
       "    <tr>\n",
       "      <th>2</th>\n",
       "      <td>2023-26</td>\n",
       "      <td>219</td>\n",
       "      <td>16</td>\n",
       "      <td>120</td>\n",
       "    </tr>\n",
       "    <tr>\n",
       "      <th>3</th>\n",
       "      <td>2023-27</td>\n",
       "      <td>200</td>\n",
       "      <td>6</td>\n",
       "      <td>81</td>\n",
       "    </tr>\n",
       "    <tr>\n",
       "      <th>4</th>\n",
       "      <td>2023-28</td>\n",
       "      <td>169</td>\n",
       "      <td>7</td>\n",
       "      <td>90</td>\n",
       "    </tr>\n",
       "    <tr>\n",
       "      <th>5</th>\n",
       "      <td>2023-29</td>\n",
       "      <td>176</td>\n",
       "      <td>14</td>\n",
       "      <td>108</td>\n",
       "    </tr>\n",
       "    <tr>\n",
       "      <th>6</th>\n",
       "      <td>2023-30</td>\n",
       "      <td>138</td>\n",
       "      <td>15</td>\n",
       "      <td>96</td>\n",
       "    </tr>\n",
       "  </tbody>\n",
       "</table>\n",
       "</div>"
      ],
      "text/plain": [
       "  Jahr_Woche  Betrag_x  Betrag_y  click_and_collect\n",
       "0    2023-24       142        46                 97\n",
       "1    2023-25       266        40                154\n",
       "2    2023-26       219        16                120\n",
       "3    2023-27       200         6                 81\n",
       "4    2023-28       169         7                 90\n",
       "5    2023-29       176        14                108\n",
       "6    2023-30       138        15                 96"
      ]
     },
     "execution_count": 34,
     "metadata": {},
     "output_type": "execute_result"
    }
   ],
   "source": [
    "merged_df_2"
   ]
  },
  {
   "cell_type": "code",
   "execution_count": null,
   "metadata": {},
   "outputs": [],
   "source": []
  }
 ],
 "metadata": {
  "datalore": {
   "base_environment": "default",
   "computation_mode": "JUPYTER",
   "package_manager": "pip",
   "packages": [],
   "report_row_ids": [
    "gZjc27tXLaqyuY5EAkzsq2",
    "tJSDvyDwdqplhSFuDpdt0l",
    "Jrk86vw7Ytzdpq5EfcBM1N",
    "tA8zkRUTKJ7xb1tCyHVzE0",
    "cz4BheoSVTgzKN1ZV068vG",
    "6qfb9QyBa4RklAnbZATSYj"
   ],
   "version": 3
  },
  "kernelspec": {
   "display_name": "Python 3 (ipykernel)",
   "language": "python",
   "name": "python3"
  },
  "language_info": {
   "codemirror_mode": {
    "name": "ipython",
    "version": 3
   },
   "file_extension": ".py",
   "mimetype": "text/x-python",
   "name": "python",
   "nbconvert_exporter": "python",
   "pygments_lexer": "ipython3",
   "version": "3.9.15"
  }
 },
 "nbformat": 4,
 "nbformat_minor": 4
}
