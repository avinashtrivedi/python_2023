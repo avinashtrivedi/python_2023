{
 "cells": [
  {
   "cell_type": "markdown",
   "id": "cec6f211",
   "metadata": {},
   "source": [
    "## First Assignment"
   ]
  },
  {
   "cell_type": "markdown",
   "id": "d7a3895a",
   "metadata": {},
   "source": [
    "## Student Name: (Please write your name here)"
   ]
  },
  {
   "cell_type": "markdown",
   "id": "de0839a2",
   "metadata": {},
   "source": [
    "### In this assignment you are going to work on your Python programming skills that you learned so far. You are going use libraries like Pandas, Numpy, and MatplotLib."
   ]
  },
  {
   "cell_type": "markdown",
   "id": "f61a7a1b",
   "metadata": {},
   "source": [
    "### Assignment Description\n",
    "In this assignment, you will be analyzing a dataset of online retail sales using Pandas, NumPy, and Matplotlib in Python. You will be performing several data manipulation, visualization, and statistical analysis tasks using these libraries.\n"
   ]
  },
  {
   "cell_type": "markdown",
   "id": "6aa20cc7",
   "metadata": {},
   "source": [
    "### Dataset\n",
    "The dataset you will be using is called \"Online Retail\" and can be downloaded from the UCI Machine Learning Repository at the following URL:\n",
    "https://archive.ics.uci.edu/ml/datasets/online+retail\n",
    "This dataset contains transactional data from a UK-based online retailer between 01/12/2010 and 09/12/2011. The dataset includes over 500,000 transactions and 8 columns, including customer ID, product ID, quantity, and price. The Dataset is going to be attached to canvas as well.\n",
    "#### The dataset is a large dataset and depending on your hardware capability it may take up to 5 minutes to load the data into your notebook."
   ]
  },
  {
   "cell_type": "markdown",
   "id": "d7d6c4a9",
   "metadata": {},
   "source": [
    "#### There are 5 taks that you need to complete each one in the order given to get to the correct results. you can use this template for having a guidline to help you out with your assignment. You can add as many cells as you want to the notebook"
   ]
  },
  {
   "cell_type": "markdown",
   "id": "2e6cca7d",
   "metadata": {},
   "source": [
    "# Import libraries"
   ]
  },
  {
   "cell_type": "code",
   "execution_count": null,
   "id": "283cc419",
   "metadata": {},
   "outputs": [],
   "source": []
  },
  {
   "cell_type": "markdown",
   "id": "b14d7f76",
   "metadata": {},
   "source": [
    "# Load the dataset\n",
    "You can use below syntax to import excel file: \n",
    "df = pd.read_excel('C:/Users/downloads/online retail.xlsx')  "
   ]
  },
  {
   "cell_type": "code",
   "execution_count": null,
   "id": "790c183d",
   "metadata": {},
   "outputs": [],
   "source": []
  },
  {
   "cell_type": "markdown",
   "id": "e55e84bc",
   "metadata": {},
   "source": [
    "# Task 1: Clean the dataset (10 points)\n",
    "#### Drop missing values and filter the \"Quantity\" and \"UnitPrice\" columns for values greater than 0.\n",
    "#### You can use this syntax to filter your dataset (df = df[df[\"Quantity\"] > 0])"
   ]
  },
  {
   "cell_type": "code",
   "execution_count": null,
   "id": "2e512e40",
   "metadata": {},
   "outputs": [],
   "source": []
  },
  {
   "cell_type": "markdown",
   "id": "a58fd736",
   "metadata": {},
   "source": [
    "# Task 2: Group the data by customer ID and calculate the total amount spent by each customer. (20 points)\n",
    "### To do this task you need to first add a column to your dataframe and calculate the \"TotalPrice\" by multiplying \"Quantity\" and \"UnitPrice\" columns. then you can Group them by using the below syntax : \n",
    "customer_spending = df.groupby(\"CustomerID\")[\"TotalPrice\"].sum()"
   ]
  },
  {
   "cell_type": "code",
   "execution_count": null,
   "id": "7ccc5f5c",
   "metadata": {},
   "outputs": [],
   "source": []
  },
  {
   "cell_type": "markdown",
   "id": "bb224c87",
   "metadata": {},
   "source": [
    "# Task 3: Calculate the mean, median, and standard deviation of the total amount spent by customers.(20 points)"
   ]
  },
  {
   "cell_type": "code",
   "execution_count": null,
   "id": "ab8cb270",
   "metadata": {},
   "outputs": [],
   "source": []
  },
  {
   "cell_type": "markdown",
   "id": "220c7515",
   "metadata": {},
   "source": [
    "# Task 4: Visualize the distribution of the total amount spent by customers using a histogram created with Matplotlib.(20 points)"
   ]
  },
  {
   "cell_type": "code",
   "execution_count": null,
   "id": "9a63e10f",
   "metadata": {},
   "outputs": [],
   "source": []
  },
  {
   "cell_type": "markdown",
   "id": "93626fd1",
   "metadata": {},
   "source": [
    "# Task 5: Group the data by product ID and calculate the total quantity sold for each product.(20 points)\n",
    "Use the same syntax for grouping your data from task 2"
   ]
  },
  {
   "cell_type": "code",
   "execution_count": null,
   "id": "cde89fe6",
   "metadata": {},
   "outputs": [],
   "source": []
  },
  {
   "cell_type": "code",
   "execution_count": null,
   "id": "d518a856",
   "metadata": {},
   "outputs": [],
   "source": []
  },
  {
   "cell_type": "code",
   "execution_count": null,
   "id": "6f03c618",
   "metadata": {},
   "outputs": [],
   "source": []
  },
  {
   "cell_type": "code",
   "execution_count": null,
   "id": "dd833911",
   "metadata": {},
   "outputs": [],
   "source": []
  },
  {
   "cell_type": "markdown",
   "id": "f144ff7c",
   "metadata": {},
   "source": [
    "\n",
    "## You can use any additional libraries that you want. your assignment will be graded based on the cleanness of your code and additional comments wherever necessary. (10 points)\n",
    "## You don't need to interpret the results, just the proper commentation and codes with accurate results is sufficient."
   ]
  },
  {
   "cell_type": "code",
   "execution_count": null,
   "id": "c91afa5b",
   "metadata": {},
   "outputs": [],
   "source": []
  }
 ],
 "metadata": {
  "kernelspec": {
   "display_name": "Python 3 (ipykernel)",
   "language": "python",
   "name": "python3"
  },
  "language_info": {
   "codemirror_mode": {
    "name": "ipython",
    "version": 3
   },
   "file_extension": ".py",
   "mimetype": "text/x-python",
   "name": "python",
   "nbconvert_exporter": "python",
   "pygments_lexer": "ipython3",
   "version": "3.9.15"
  }
 },
 "nbformat": 4,
 "nbformat_minor": 5
}
