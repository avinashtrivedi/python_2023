{
 "cells": [
  {
   "cell_type": "markdown",
   "metadata": {},
   "source": [
    "# List\n",
    "- write the code so as to get the expected output"
   ]
  },
  {
   "cell_type": "markdown",
   "metadata": {},
   "source": [
    "# Q.1"
   ]
  },
  {
   "cell_type": "code",
   "execution_count": 1,
   "metadata": {},
   "outputs": [],
   "source": [
    "mylist = ['hello','world', 'this','is','python']\n",
    "\n",
    "# expected output: 'world'\n",
    "\n",
    "#### Type your code here #########"
   ]
  },
  {
   "cell_type": "markdown",
   "metadata": {},
   "source": [
    "# Q.2"
   ]
  },
  {
   "cell_type": "code",
   "execution_count": 2,
   "metadata": {},
   "outputs": [],
   "source": [
    "mylist = ['hello','world', 'this','is','python']\n",
    "\n",
    "# expected output: 'python'\n",
    "\n",
    "#### Type your code here #########"
   ]
  },
  {
   "cell_type": "markdown",
   "metadata": {},
   "source": [
    "# Q.3"
   ]
  },
  {
   "cell_type": "code",
   "execution_count": 3,
   "metadata": {},
   "outputs": [],
   "source": [
    "mylist = ['hello','world', 'this','is','python']\n",
    "\n",
    "# expected output: 'is'\n",
    "\n",
    "#### Type your code here #########"
   ]
  },
  {
   "cell_type": "markdown",
   "metadata": {},
   "source": [
    "# Q.4"
   ]
  },
  {
   "cell_type": "code",
   "execution_count": 4,
   "metadata": {},
   "outputs": [],
   "source": [
    "mylist = ['hello','world', 'this','is','python']\n",
    "\n",
    "# expected output: ['hello','world']\n",
    "\n",
    "#### Type your code here #########"
   ]
  },
  {
   "cell_type": "markdown",
   "metadata": {},
   "source": [
    "# Q.5"
   ]
  },
  {
   "cell_type": "code",
   "execution_count": 5,
   "metadata": {},
   "outputs": [],
   "source": [
    "mylist = ['hello','world', 'this','is','python']\n",
    "\n",
    "# expected output: ['this','is']\n",
    "\n",
    "#### Type your code here #########"
   ]
  },
  {
   "cell_type": "markdown",
   "metadata": {},
   "source": [
    "# Q.6"
   ]
  },
  {
   "cell_type": "code",
   "execution_count": 6,
   "metadata": {},
   "outputs": [],
   "source": [
    "mylist = ['hello','world', 'this','is','python']\n",
    "\n",
    "# expected output: ['this','is','python']\n",
    "\n",
    "#### Type your code here #########"
   ]
  },
  {
   "cell_type": "markdown",
   "metadata": {},
   "source": [
    "# Q .7"
   ]
  },
  {
   "cell_type": "code",
   "execution_count": 7,
   "metadata": {},
   "outputs": [],
   "source": [
    "mylist = ['hello','world', 'this','is','python']\n",
    "\n",
    "# get 'this' and reverse\n",
    "# expected output: 'siht'\n",
    "\n",
    "#### Type your code here #########"
   ]
  },
  {
   "cell_type": "markdown",
   "metadata": {},
   "source": [
    "# Q.8"
   ]
  },
  {
   "cell_type": "code",
   "execution_count": 8,
   "metadata": {},
   "outputs": [],
   "source": [
    "mylist = ['hello','world', 'this','is','python']\n",
    "\n",
    "# expected output: 'hello world this is python'\n",
    "\n",
    "#### Type your code here #########\n"
   ]
  },
  {
   "cell_type": "markdown",
   "metadata": {},
   "source": [
    "# Q.9"
   ]
  },
  {
   "cell_type": "code",
   "execution_count": 9,
   "metadata": {},
   "outputs": [],
   "source": [
    "mylist = ['hello','world', 'this','is','python']\n",
    "\n",
    "# expected output: [['hello','world'], 'this','is','python']\n",
    "\n",
    "#### Type your code here #########"
   ]
  },
  {
   "cell_type": "markdown",
   "metadata": {},
   "source": [
    "# Q.10"
   ]
  },
  {
   "cell_type": "code",
   "execution_count": 10,
   "metadata": {},
   "outputs": [],
   "source": [
    "mylist = [['hello','world'], 'this','is','python']\n",
    "\n",
    "# expected output: ['hello','world', 'this','is','python']\n",
    "\n",
    "#### Type your code here #########"
   ]
  },
  {
   "cell_type": "markdown",
   "metadata": {},
   "source": [
    "# Q.11"
   ]
  },
  {
   "cell_type": "code",
   "execution_count": 11,
   "metadata": {},
   "outputs": [],
   "source": [
    "mylist = [['hello','world'], 'this','is','python',['get','me','outside']]\n",
    "\n",
    "# expected output: 'world'\n",
    "\n",
    "#### Type your code here #########"
   ]
  },
  {
   "cell_type": "markdown",
   "metadata": {},
   "source": [
    "# Q.12"
   ]
  },
  {
   "cell_type": "code",
   "execution_count": 12,
   "metadata": {},
   "outputs": [],
   "source": [
    "mylist = [['hello','world'], 'this','is','python',['get','me','outside']]\n",
    "\n",
    "# expected output: 'outside'\n",
    "\n",
    "#### Type your code here #########"
   ]
  },
  {
   "cell_type": "markdown",
   "metadata": {},
   "source": [
    "# Q.13"
   ]
  },
  {
   "cell_type": "code",
   "execution_count": 13,
   "metadata": {},
   "outputs": [],
   "source": [
    "mylist = [['hello','world'], 'this','is','python',['get','me','outside']]\n",
    "\n",
    "# expected output: 'me'\n",
    "\n",
    "#### Type your code here #########"
   ]
  },
  {
   "cell_type": "markdown",
   "metadata": {},
   "source": [
    "# Q.14"
   ]
  },
  {
   "cell_type": "code",
   "execution_count": 14,
   "metadata": {},
   "outputs": [],
   "source": [
    "mylist = [['hello','world'], 'this','is','python',['get','me','outside']]\n",
    "\n",
    "# expected output: ['hello','world', 'this','is','python','get','me','outside']\n",
    "\n",
    "#### Type your code here #########"
   ]
  },
  {
   "cell_type": "markdown",
   "metadata": {},
   "source": [
    "# Q.15"
   ]
  },
  {
   "cell_type": "code",
   "execution_count": 15,
   "metadata": {},
   "outputs": [],
   "source": [
    "mylist = [['hello','world'], 'this','is','python',['get','me','outside']]\n",
    "\n",
    "# find the length of each element\n",
    "# expected output: [2,4,2,6,3]\n",
    "# Hint: use for loop or list comprehension\n",
    "\n",
    "#### Type your code here #########"
   ]
  },
  {
   "cell_type": "markdown",
   "metadata": {},
   "source": [
    "# Q.16"
   ]
  },
  {
   "cell_type": "code",
   "execution_count": 16,
   "metadata": {},
   "outputs": [],
   "source": [
    "mylist = ['hello','world', 'this','is','python']\n",
    "\n",
    "# find the length of each element\n",
    "# expected output: ['olleh', 'dlrow', 'siht', 'si', 'nohtyp']\n",
    "# Hint: use for loop or list comprehension\n",
    "\n",
    "#### Type your code here #########"
   ]
  },
  {
   "cell_type": "markdown",
   "metadata": {},
   "source": [
    "# Q.17"
   ]
  },
  {
   "cell_type": "code",
   "execution_count": 17,
   "metadata": {},
   "outputs": [],
   "source": [
    "mylist = ['hello','world', 'this','is','python']\n",
    "\n",
    "# find the length of each element\n",
    "# expected output: ['nohtyp', 'si', 'siht', 'dlrow', 'olleh']\n",
    "# Hint: use for loop or list comprehension\n",
    "\n",
    "#### Type your code here #########"
   ]
  }
 ],
 "metadata": {
  "kernelspec": {
   "display_name": "Python 3 (ipykernel)",
   "language": "python",
   "name": "python3"
  },
  "language_info": {
   "codemirror_mode": {
    "name": "ipython",
    "version": 3
   },
   "file_extension": ".py",
   "mimetype": "text/x-python",
   "name": "python",
   "nbconvert_exporter": "python",
   "pygments_lexer": "ipython3",
   "version": "3.9.15"
  }
 },
 "nbformat": 4,
 "nbformat_minor": 4
}
