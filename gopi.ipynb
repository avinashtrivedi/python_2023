{
 "cells": [
  {
   "cell_type": "code",
   "execution_count": 6,
   "id": "e21aa749",
   "metadata": {},
   "outputs": [],
   "source": [
    "# d = {'UserName':'abc',\n",
    "# 'Password':'mypass'}"
   ]
  },
  {
   "cell_type": "code",
   "execution_count": 7,
   "id": "4f95cfc0",
   "metadata": {},
   "outputs": [],
   "source": [
    "# import json"
   ]
  },
  {
   "cell_type": "code",
   "execution_count": 8,
   "id": "e7e74dbf",
   "metadata": {},
   "outputs": [],
   "source": [
    "# with open('config.json','w') as fp:\n",
    "#     json.dump(d,fp)"
   ]
  },
  {
   "cell_type": "markdown",
   "id": "8834fda2",
   "metadata": {},
   "source": [
    "# MAin code"
   ]
  },
  {
   "cell_type": "code",
   "execution_count": 22,
   "id": "5dd9ec0d",
   "metadata": {},
   "outputs": [],
   "source": [
    "import json\n",
    "with open('config.json') as fp:\n",
    "    data = json.load(fp)"
   ]
  },
  {
   "cell_type": "code",
   "execution_count": 23,
   "id": "2f1abd92",
   "metadata": {},
   "outputs": [
    {
     "data": {
      "text/plain": [
       "{'firstname': 'abc', 'lastname': 'trivedi', 'Password': 'mypass'}"
      ]
     },
     "execution_count": 23,
     "metadata": {},
     "output_type": "execute_result"
    }
   ],
   "source": [
    "data"
   ]
  },
  {
   "cell_type": "code",
   "execution_count": 24,
   "id": "74e771f6",
   "metadata": {},
   "outputs": [],
   "source": [
    "fname = data['firstname']\n",
    "lanme = data['lastname']"
   ]
  },
  {
   "cell_type": "code",
   "execution_count": 18,
   "id": "bcf4fa1f",
   "metadata": {},
   "outputs": [
    {
     "data": {
      "text/plain": [
       "'mypass'"
      ]
     },
     "execution_count": 18,
     "metadata": {},
     "output_type": "execute_result"
    }
   ],
   "source": [
    "data['Password']"
   ]
  },
  {
   "cell_type": "code",
   "execution_count": null,
   "id": "ec6a2b8c",
   "metadata": {},
   "outputs": [],
   "source": []
  }
 ],
 "metadata": {
  "kernelspec": {
   "display_name": "Python 3 (ipykernel)",
   "language": "python",
   "name": "python3"
  },
  "language_info": {
   "codemirror_mode": {
    "name": "ipython",
    "version": 3
   },
   "file_extension": ".py",
   "mimetype": "text/x-python",
   "name": "python",
   "nbconvert_exporter": "python",
   "pygments_lexer": "ipython3",
   "version": "3.9.15"
  }
 },
 "nbformat": 4,
 "nbformat_minor": 5
}
