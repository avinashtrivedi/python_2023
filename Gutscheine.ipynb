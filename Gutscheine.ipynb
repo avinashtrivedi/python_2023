{
 "cells": [
  {
   "cell_type": "code",
   "execution_count": null,
   "id": "04c38c2d-100a-45c4-9a03-1092ad4248b1",
   "metadata": {},
   "outputs": [],
   "source": [
    "\"\"\"\n",
    "Auswertung die für die eingelösten Geschenkgutscheine verwendet wird.\n",
    "SG/25.06.2021\n",
    "\"\"\"\n",
    "\n",
    "import pandas as pd\n",
    "import numpy as np\n",
    "\n",
    "# Liste mit Wochennummern erstellen\n",
    "week = []\n",
    "for i in range(6, 53):\n",
    "    week.append(i)\n",
    "\n",
    "# Gutscheine, die im Versand eingelöst wurden, erscheinen mit Fil und verschobenen Feldern\n",
    "filialliste = [6]\n",
    "\n",
    "col = ['Filiale', 'Woche', 'Rec', 'Amount', 'LotId', 'LotName','Trans-ID']\n",
    "\n",
    "# Einlesen des CSV-Files das in der Gutscheinverwaltung erstellt und\n",
    "# via PrimalSQL in ein CSV-File importiert wurde\n",
    "df_alle = pd.read_csv(r'D:\\OneDrive - NITT\\Custom_Download\\waldermailing_fs_23.csv',\n",
    "                      encoding='cp1252',\n",
    "                      sep=','\n",
    "                      )\n",
    "# Wird gebraucht, damit die Reihenfolge bei den Gutscheinen im Versand stimmt\n",
    "df_dummy = pd.read_csv(r'D:\\OneDrive - NITT\\Custom_Download\\waldermailing_dummy.csv',\n",
    "                       encoding='cp1252',\n",
    "                       sep=';'\n",
    "                       )\n",
    "df_dummy.columns = col\n",
    "df_alle.columns = col\n",
    "\n",
    "df_versand = df_alle[df_alle['Filiale'].isin(filialliste)]\n",
    "df_gut = df_alle[~df_alle['Filiale'].isin(filialliste)].copy()\n",
    "\n",
    "# dummy wid angehängt, damit in der Excel-Tabelle die Werte in der richtigen Reihe stehen\n",
    "df_versand_alle = df_versand.append(df_dummy)\n",
    "\n",
    "df_versand_alle.info()\n",
    "\n",
    "df_versand_alle[\"Amount_neu\"] = df_versand.loc[:, [\"Woche\"]] / -100\n",
    "\n",
    "df_versand_alle\n",
    "\n",
    "df_gut['Amount_neu'] = np.where(df_gut.loc[:, ['Amount']] == -1000, 10.00, 20.00)\n",
    "# df_gut['Woche'] = df_gut['Woche']\n",
    "print(df_gut)\n",
    "\n",
    "df_select = df_gut.loc[df_gut['Woche'].isin(week)]\n",
    "\n",
    "df_weeks = df_select.pivot_table(index=['Woche'],\n",
    "                                 columns=['LotId'],\n",
    "                                 values=['Amount_neu'], fill_value=0,\n",
    "                                 aggfunc='sum'\n",
    "                                 )\n",
    "df_weeks\n",
    "\n",
    "df_shops = df_select.pivot_table(index=['Filiale'],\n",
    "                                 columns=['LotId'],\n",
    "                                 values=['Amount_neu'], fill_value=0,\n",
    "                                 aggfunc='sum'\n",
    "                                )\n",
    "df_shops"
   ]
  },
  {
   "cell_type": "code",
   "execution_count": null,
   "id": "bb909e29-0957-4ee6-8080-e6131635069f",
   "metadata": {},
   "outputs": [],
   "source": [
    "df_gut.dtypes"
   ]
  },
  {
   "cell_type": "code",
   "execution_count": null,
   "id": "f584bb40",
   "metadata": {},
   "outputs": [],
   "source": [
    "df_weeks"
   ]
  },
  {
   "cell_type": "code",
   "execution_count": null,
   "id": "4ecfc954",
   "metadata": {},
   "outputs": [],
   "source": [
    "df_shops"
   ]
  },
  {
   "cell_type": "code",
   "execution_count": null,
   "id": "4576f18a",
   "metadata": {},
   "outputs": [],
   "source": [
    "import numpy as np\n",
    "import gradio as gr\n",
    "\n",
    "def sepia(input_img):\n",
    "    sepia_filter = np.array([\n",
    "        [0.393, 0.769, 0.189], \n",
    "        [0.349, 0.686, 0.168], \n",
    "        [0.272, 0.534, 0.131]\n",
    "    ])\n",
    "    sepia_img = input_img.dot(sepia_filter.T)\n",
    "    sepia_img /= sepia_img.max()\n",
    "    return sepia_img\n",
    "\n",
    "\n",
    "\n",
    "\n",
    "demo = gr.Interface(sepia, gr.Image(shape=(200, 200)), \"image\")\n",
    "\n",
    "\n",
    "demo.launch()"
   ]
  },
  {
   "cell_type": "code",
   "execution_count": null,
   "id": "a2de50aa",
   "metadata": {},
   "outputs": [],
   "source": []
  },
  {
   "cell_type": "code",
   "execution_count": 1,
   "id": "67ecd5a5",
   "metadata": {},
   "outputs": [
    {
     "name": "stdout",
     "output_type": "stream",
     "text": [
      "Dash is running on http://127.0.0.1:8050/\n",
      "\n",
      " * Serving Flask app '__main__' (lazy loading)\n",
      " * Environment: production\n",
      "\u001b[31m   WARNING: This is a development server. Do not use it in a production deployment.\u001b[0m\n",
      "\u001b[2m   Use a production WSGI server instead.\u001b[0m\n",
      " * Debug mode: on\n"
     ]
    },
    {
     "ename": "SystemExit",
     "evalue": "1",
     "output_type": "error",
     "traceback": [
      "An exception has occurred, use %tb to see the full traceback.\n",
      "\u001b[1;31mSystemExit\u001b[0m\u001b[1;31m:\u001b[0m 1\n"
     ]
    },
    {
     "name": "stderr",
     "output_type": "stream",
     "text": [
      "C:\\Users\\avitr\\anaconda3\\lib\\site-packages\\IPython\\core\\interactiveshell.py:3450: UserWarning: To exit: use 'exit', 'quit', or Ctrl-D.\n",
      "  warn(\"To exit: use 'exit', 'quit', or Ctrl-D.\", stacklevel=1)\n"
     ]
    }
   ],
   "source": [
    "from dash import Dash, dcc, html, Input, Output\n",
    "import plotly.express as px\n",
    "\n",
    "app = Dash(__name__)\n",
    "\n",
    "app.layout = html.Div([\n",
    "    html.H4('Analysis of Iris data using scatter matrix'),\n",
    "    dcc.Dropdown(\n",
    "        id=\"dropdown\",\n",
    "        options=['sepal_length', 'sepal_width', 'petal_length', 'petal_width'],\n",
    "        value=['sepal_length', 'sepal_width'],\n",
    "        multi=True\n",
    "    ),\n",
    "    dcc.Graph(id=\"graph\"),\n",
    "])\n",
    "\n",
    "\n",
    "@app.callback(\n",
    "    Output(\"graph\", \"figure\"), \n",
    "    Input(\"dropdown\", \"value\"))\n",
    "def update_bar_chart(dims):\n",
    "    df = px.data.iris() # replace with your own data source\n",
    "    fig = px.scatter_matrix(\n",
    "        df, dimensions=dims, color=\"species\")\n",
    "    return fig\n",
    "\n",
    "\n",
    "app.run_server(debug=True)"
   ]
  },
  {
   "cell_type": "code",
   "execution_count": null,
   "id": "7cbfa6e4",
   "metadata": {},
   "outputs": [],
   "source": [
    "# !pip install --upgrade watchdog"
   ]
  },
  {
   "cell_type": "code",
   "execution_count": null,
   "id": "7c4afacb",
   "metadata": {},
   "outputs": [
    {
     "name": "stdout",
     "output_type": "stream",
     "text": [
      "Dash is running on http://127.0.0.1:8050/\n",
      "\n",
      "Dash is running on http://127.0.0.1:8050/\n",
      "\n",
      " * Serving Flask app '__main__' (lazy loading)\n",
      " * Environment: production\n",
      "\u001b[31m   WARNING: This is a development server. Do not use it in a production deployment.\u001b[0m\n",
      "\u001b[2m   Use a production WSGI server instead.\u001b[0m\n",
      " * Debug mode: off\n"
     ]
    },
    {
     "name": "stderr",
     "output_type": "stream",
     "text": [
      "C:\\Users\\avitr\\AppData\\Local\\Temp\\ipykernel_22672\\2656144333.py:3: UserWarning: \n",
      "The dash_core_components package is deprecated. Please replace\n",
      "`import dash_core_components as dcc` with `from dash import dcc`\n",
      "  import dash_core_components as dcc\n",
      "C:\\Users\\avitr\\AppData\\Local\\Temp\\ipykernel_22672\\2656144333.py:4: UserWarning: \n",
      "The dash_html_components package is deprecated. Please replace\n",
      "`import dash_html_components as html` with `from dash import html`\n",
      "  import dash_html_components as html\n"
     ]
    }
   ],
   "source": [
    "import dash\n",
    "from dash.dependencies import Output, Input\n",
    "import dash_core_components as dcc\n",
    "import dash_html_components as html\n",
    "import plotly\n",
    "import random\n",
    "import plotly.graph_objs as go\n",
    "from collections import deque\n",
    "\n",
    "X = deque(maxlen = 20)\n",
    "X.append(1)\n",
    "\n",
    "Y = deque(maxlen = 20)\n",
    "Y.append(1)\n",
    "\n",
    "app = dash.Dash(__name__)\n",
    "\n",
    "app.layout = html.Div(\n",
    "\t[\n",
    "\t\tdcc.Graph(id = 'live-graph', animate = True),\n",
    "\t\tdcc.Interval(\n",
    "\t\t\tid = 'graph-update',\n",
    "\t\t\tinterval = 1000,\n",
    "\t\t\tn_intervals = 0\n",
    "\t\t),\n",
    "\t]\n",
    ")\n",
    "\n",
    "@app.callback(\n",
    "\tOutput('live-graph', 'figure'),\n",
    "\t[ Input('graph-update', 'n_intervals') ]\n",
    ")\n",
    "\n",
    "def update_graph_scatter(n):\n",
    "\tX.append(X[-1]+1)\n",
    "\tY.append(Y[-1]+Y[-1] * random.uniform(-0.1,0.1))\n",
    "\n",
    "\tdata = plotly.graph_objs.Scatter(\n",
    "\t\t\tx=list(X),\n",
    "\t\t\ty=list(Y),\n",
    "\t\t\tname='Scatter',\n",
    "\t\t\tmode= 'lines+markers'\n",
    "\t)\n",
    "\n",
    "\treturn {'data': [data],\n",
    "\t\t\t'layout' : go.Layout(xaxis=dict(range=[min(X),max(X)]),yaxis = dict(range = [min(Y),max(Y)]),)}\n",
    "\n",
    "if __name__ == '__main__':\n",
    "\tapp.run_server()\n"
   ]
  },
  {
   "cell_type": "code",
   "execution_count": null,
   "id": "10094ac2",
   "metadata": {},
   "outputs": [],
   "source": []
  }
 ],
 "metadata": {
  "kernelspec": {
   "display_name": "Python 3 (ipykernel)",
   "language": "python",
   "name": "python3"
  },
  "language_info": {
   "codemirror_mode": {
    "name": "ipython",
    "version": 3
   },
   "file_extension": ".py",
   "mimetype": "text/x-python",
   "name": "python",
   "nbconvert_exporter": "python",
   "pygments_lexer": "ipython3",
   "version": "3.9.15"
  }
 },
 "nbformat": 4,
 "nbformat_minor": 5
}
