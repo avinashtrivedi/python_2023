{
 "cells": [
  {
   "cell_type": "markdown",
   "metadata": {},
   "source": [
    "# Exercise: Logistic discrimination"
   ]
  },
  {
   "cell_type": "markdown",
   "metadata": {},
   "source": [
    "Implement the logistic discrimination (LD) algorithm for 2 class problems (see the lecture notes).\n",
    "\n",
    "Test out your implementation over a synthetic data set. You can use the dataset generated below."
   ]
  },
  {
   "cell_type": "code",
   "execution_count": 1,
   "metadata": {},
   "outputs": [
    {
     "data": {
      "text/plain": [
       "array([[1.22, 0.28, 0.58, 0.74, 1.  ],\n",
       "       [0.92, 1.58, 0.4 , 1.02, 1.  ],\n",
       "       [1.18, 0.1 , 1.22, 0.34, 1.  ],\n",
       "       [0.14, 1.9 , 1.94, 1.62, 1.  ],\n",
       "       [0.6 , 0.2 , 1.36, 0.88, 1.  ],\n",
       "       [0.24, 1.  , 0.06, 1.82, 1.  ],\n",
       "       [0.52, 1.32, 0.62, 1.04, 1.  ],\n",
       "       [1.1 , 0.36, 1.94, 1.56, 1.  ],\n",
       "       [1.88, 1.78, 1.2 , 1.84, 1.  ],\n",
       "       [0.18, 0.4 , 0.1 , 0.66, 1.  ],\n",
       "       [0.78, 0.54, 1.66, 0.72, 1.  ],\n",
       "       [0.56, 1.08, 0.28, 1.6 , 1.  ],\n",
       "       [0.14, 1.98, 1.54, 0.4 , 1.  ],\n",
       "       [0.02, 1.64, 1.42, 1.46, 1.  ],\n",
       "       [1.54, 0.14, 0.72, 0.24, 1.  ],\n",
       "       [0.15, 3.2 , 1.55, 2.55, 0.  ],\n",
       "       [4.55, 1.25, 2.05, 3.8 , 0.  ],\n",
       "       [1.15, 0.4 , 1.45, 0.8 , 0.  ],\n",
       "       [4.65, 4.05, 3.15, 4.35, 0.  ],\n",
       "       [4.  , 0.95, 4.45, 2.7 , 0.  ],\n",
       "       [4.05, 4.5 , 1.6 , 0.55, 0.  ],\n",
       "       [1.15, 2.15, 4.1 , 4.3 , 0.  ],\n",
       "       [0.05, 2.55, 2.1 , 1.1 , 0.  ],\n",
       "       [0.6 , 1.7 , 4.7 , 1.6 , 0.  ],\n",
       "       [2.6 , 3.5 , 1.8 , 4.85, 0.  ],\n",
       "       [4.8 , 1.25, 2.5 , 1.5 , 0.  ],\n",
       "       [1.4 , 0.2 , 3.05, 2.5 , 0.  ],\n",
       "       [0.25, 1.4 , 4.55, 1.2 , 0.  ],\n",
       "       [0.7 , 2.45, 4.95, 1.2 , 0.  ],\n",
       "       [3.35, 3.8 , 1.2 , 3.65, 0.  ]])"
      ]
     },
     "execution_count": 1,
     "metadata": {},
     "output_type": "execute_result"
    }
   ],
   "source": [
    "import numpy as np\n",
    "np.random.seed(42)\n",
    "\n",
    "# Define hyper-parameters and other size\n",
    "db_N=40  # number of samples in dataset\n",
    "K=2      # the number of classes\n",
    "D=4      # size of dimension OR number of independent variables\n",
    "\n",
    "# prepare sample data\n",
    "X=np.round(np.random.rand(db_N,D),2)\n",
    "\n",
    "# Adding some pattern into X\n",
    "half_N=int(db_N/2)\n",
    "X[:half_N,:]=X[:half_N,:]*2\n",
    "X[half_N:db_N,:]=X[half_N:db_N,:]*5\n",
    "\n",
    "# number of instances to pick as test set per class\n",
    "test_numel=5\n",
    "X_test_class1=X[0:test_numel,:]\n",
    "X_test_class2=X[half_N:half_N+test_numel,:]\n",
    "\n",
    "# remove test instances from X\n",
    "X=np.delete(X, np.s_[0:test_numel], 0)\n",
    "X=np.delete(X, np.s_[half_N-test_numel:half_N], 0)\n",
    "\n",
    "N=X.shape[0]\n",
    "\n",
    "# R is the output\n",
    "R=np.repeat([1,0], N/K, axis=0)\n",
    "\n",
    "np.c_[X,R]"
   ]
  },
  {
   "cell_type": "code",
   "execution_count": 2,
   "metadata": {},
   "outputs": [],
   "source": [
    "import math \n",
    "\n",
    "def log_regression(x,r,d,step_size,iterations):\n",
    "    x0=np.repeat(1,len(x))\n",
    "    new_x = np.c_[x0,x]\n",
    "    w= []\n",
    "    for j in range(0,d+1):\n",
    "        w.append(np.random.uniform(-0.01,0.01))\n",
    "        \n",
    "    for test in range(0,iterations):\n",
    "        deriv_w = []\n",
    "        for j in range(0,d+1):\n",
    "            deriv_w.append(0)\n",
    "        for i in range(0,len(new_x)):\n",
    "            o = 0\n",
    "            for j in range(0,d+1):\n",
    "                o = o+w[j]*new_x[i,j]\n",
    "            y = 1/(1 + math.exp(-o))\n",
    "            for j in range(0,d):\n",
    "                deriv_w[j] = deriv_w[j] + (r[i]-y)*new_x[i,j]\n",
    "                \n",
    "        for j in range(0,d+1):\n",
    "            w[j] = w[j] + step_size*deriv_w[j]\n",
    "    \n",
    "    return w"
   ]
  },
  {
   "cell_type": "code",
   "execution_count": 3,
   "metadata": {},
   "outputs": [
    {
     "data": {
      "text/plain": [
       "[18.60033740768685,\n",
       " -5.346828744026548,\n",
       " -4.6698336271031575,\n",
       " -8.211096393755309,\n",
       " -0.008194204598911833]"
      ]
     },
     "execution_count": 3,
     "metadata": {},
     "output_type": "execute_result"
    }
   ],
   "source": [
    "log_regression(X,R,D,0.5,10)"
   ]
  },
  {
   "cell_type": "code",
   "execution_count": null,
   "metadata": {},
   "outputs": [],
   "source": []
  }
 ],
 "metadata": {
  "kernelspec": {
   "display_name": "Python 3",
   "language": "python",
   "name": "python3"
  },
  "language_info": {
   "codemirror_mode": {
    "name": "ipython",
    "version": 3
   },
   "file_extension": ".py",
   "mimetype": "text/x-python",
   "name": "python",
   "nbconvert_exporter": "python",
   "pygments_lexer": "ipython3",
   "version": "3.5.4"
  }
 },
 "nbformat": 4,
 "nbformat_minor": 2
}