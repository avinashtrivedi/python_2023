{
 "cells": [
  {
   "cell_type": "markdown",
   "metadata": {
    "toc": true
   },
   "source": [
    "<h1>Table of Contents<span class=\"tocSkip\"></span></h1>\n",
    "<div class=\"toc\"><ul class=\"toc-item\"><li><ul class=\"toc-item\"><li><span><a href=\"#Importing-the-dataset\" data-toc-modified-id=\"Importing-the-dataset-0.1\">Importing the dataset</a></span></li><li><span><a href=\"#Cleaning-and-organizing-our-data\" data-toc-modified-id=\"Cleaning-and-organizing-our-data-0.2\">Cleaning and organizing our data</a></span><ul class=\"toc-item\"><li><span><a href=\"#Distribution-of-Data---Target\" data-toc-modified-id=\"Distribution-of-Data---Target-0.2.1\">Distribution of Data - Target</a></span></li><li><span><a href=\"#Steps-to-clean-the-data\" data-toc-modified-id=\"Steps-to-clean-the-data-0.2.2\">Steps to clean the data</a></span></li><li><span><a href=\"#Product\" data-toc-modified-id=\"Product-0.2.3\">Product</a></span></li><li><span><a href=\"#Handling-Null-Values:\" data-toc-modified-id=\"Handling-Null-Values:-0.2.4\">Handling Null Values:</a></span></li></ul></li><li><span><a href=\"#Sentiments\" data-toc-modified-id=\"Sentiments-0.3\">Sentiments</a></span><ul class=\"toc-item\"><li><span><a href=\"#Streamline-names-of-emotions\" data-toc-modified-id=\"Streamline-names-of-emotions-0.3.1\">Streamline names of emotions</a></span></li></ul></li><li><span><a href=\"#Text-Pre-Processing\" data-toc-modified-id=\"Text-Pre-Processing-0.4\">Text Pre-Processing</a></span><ul class=\"toc-item\"><li><span><a href=\"#Hashtags\" data-toc-modified-id=\"Hashtags-0.4.1\">Hashtags</a></span></li><li><span><a href=\"#Preprocess-Text\" data-toc-modified-id=\"Preprocess-Text-0.4.2\">Preprocess Text</a></span></li><li><span><a href=\"#Stemming\" data-toc-modified-id=\"Stemming-0.4.3\">Stemming</a></span></li><li><span><a href=\"#Tokenize\" data-toc-modified-id=\"Tokenize-0.4.4\">Tokenize</a></span></li></ul></li></ul></li><li><span><a href=\"#Exploratory-Data-Analysis-(EDA)\" data-toc-modified-id=\"Exploratory-Data-Analysis-(EDA)-1\">Exploratory Data Analysis (EDA)</a></span><ul class=\"toc-item\"><li><ul class=\"toc-item\"><li><span><a href=\"#TF-IDF-Vector\" data-toc-modified-id=\"TF-IDF-Vector-1.0.1\">TF IDF Vector</a></span></li><li><span><a href=\"#Positive\" data-toc-modified-id=\"Positive-1.0.2\">Positive</a></span></li></ul></li><li><span><a href=\"#N-grams\" data-toc-modified-id=\"N-grams-1.1\">N-grams</a></span></li></ul></li></ul></div>"
   ]
  },
  {
   "cell_type": "code",
   "execution_count": 5,
   "metadata": {},
   "outputs": [],
   "source": [
    "#Importing Libraries\n",
    "\n",
    "\n",
    "# Import Sklearn libraries to build models \n",
    "from sklearn.feature_extraction.text import TfidfVectorizer #  TF-IDF to vectorize words \n",
    "from sklearn.metrics import classification_report \n",
    "from sklearn.model_selection import train_test_split\n",
    "from sklearn.metrics import accuracy_score\n",
    "from sklearn.ensemble import RandomForestClassifier\n",
    "\n",
    "\n",
    "# Import Libraries to perform computation and do visualization. \n",
    "import pandas as pd\n",
    "import numpy as np\n",
    "np.random.seed(0)\n",
    "import seaborn as sns\n",
    "import matplotlib.pyplot as plt\n",
    "import string\n",
    "\n",
    "# Import nltk to check english lexicon.\n",
    "import nltk\n",
    "from nltk.tokenize import word_tokenize\n",
    "from nltk.corpus import wordnet, stopwords\n",
    "from nltk import word_tokenize, FreqDist\n",
    "from nltk import pos_tag # for Parts of Speech tagging\n",
    "from nltk.tokenize import RegexpTokenizer\n",
    "from nltk.stem import WordNetLemmatizer\n",
    "\n",
    "# Generate wordcloud for word distribution visualization.\n",
    "from wordcloud import WordCloud \n",
    "\n",
    "# Generating random numbers.\n",
    "import random \n",
    "\n",
    "\n",
    "# Transforms text to a fixed-length vector of integers.\n",
    "from gensim.models import Word2Vec \n",
    "\n",
    "#Efficient functions to search in strings.\n",
    "import re as re \n",
    "\n",
    "# Import images for world cloud.\n",
    "from PIL import Image, ImageDraw, ImageFont \n",
    "\n",
    "\n",
    "# Import Yellowbrick and vector coupon for visualization of frequent words\n",
    " \n",
    "from sklearn.feature_extraction.text import CountVectorizer\n",
    "from yellowbrick.text import FreqDistVisualizer\n",
    "from yellowbrick.datasets import load_hobbies\n",
    "\n",
    "from os import path\n",
    "from os import environ"
   ]
  },
  {
   "cell_type": "code",
   "execution_count": 4,
   "metadata": {},
   "outputs": [],
   "source": [
    "# !pip install yellowbrick"
   ]
  },
  {
   "cell_type": "markdown",
   "metadata": {},
   "source": [
    "### Importing the dataset"
   ]
  },
  {
   "cell_type": "code",
   "execution_count": 17,
   "metadata": {},
   "outputs": [
    {
     "data": {
      "text/html": [
       "<div>\n",
       "<style scoped>\n",
       "    .dataframe tbody tr th:only-of-type {\n",
       "        vertical-align: middle;\n",
       "    }\n",
       "\n",
       "    .dataframe tbody tr th {\n",
       "        vertical-align: top;\n",
       "    }\n",
       "\n",
       "    .dataframe thead th {\n",
       "        text-align: right;\n",
       "    }\n",
       "</style>\n",
       "<table border=\"1\" class=\"dataframe\">\n",
       "  <thead>\n",
       "    <tr style=\"text-align: right;\">\n",
       "      <th></th>\n",
       "      <th>tweet</th>\n",
       "      <th>product</th>\n",
       "      <th>sentiment</th>\n",
       "    </tr>\n",
       "  </thead>\n",
       "  <tbody>\n",
       "    <tr>\n",
       "      <th>0</th>\n",
       "      <td>.@wesley83 I have a 3G iPhone. After 3 hrs twe...</td>\n",
       "      <td>iPhone</td>\n",
       "      <td>Negative emotion</td>\n",
       "    </tr>\n",
       "    <tr>\n",
       "      <th>1</th>\n",
       "      <td>@jessedee Know about @fludapp ? Awesome iPad/i...</td>\n",
       "      <td>iPad or iPhone App</td>\n",
       "      <td>Positive emotion</td>\n",
       "    </tr>\n",
       "    <tr>\n",
       "      <th>2</th>\n",
       "      <td>@swonderlin Can not wait for #iPad 2 also. The...</td>\n",
       "      <td>iPad</td>\n",
       "      <td>Positive emotion</td>\n",
       "    </tr>\n",
       "    <tr>\n",
       "      <th>3</th>\n",
       "      <td>@sxsw I hope this year's festival isn't as cra...</td>\n",
       "      <td>iPad or iPhone App</td>\n",
       "      <td>Negative emotion</td>\n",
       "    </tr>\n",
       "    <tr>\n",
       "      <th>4</th>\n",
       "      <td>@sxtxstate great stuff on Fri #SXSW: Marissa M...</td>\n",
       "      <td>Google</td>\n",
       "      <td>Positive emotion</td>\n",
       "    </tr>\n",
       "  </tbody>\n",
       "</table>\n",
       "</div>"
      ],
      "text/plain": [
       "                                               tweet             product  \\\n",
       "0  .@wesley83 I have a 3G iPhone. After 3 hrs twe...              iPhone   \n",
       "1  @jessedee Know about @fludapp ? Awesome iPad/i...  iPad or iPhone App   \n",
       "2  @swonderlin Can not wait for #iPad 2 also. The...                iPad   \n",
       "3  @sxsw I hope this year's festival isn't as cra...  iPad or iPhone App   \n",
       "4  @sxtxstate great stuff on Fri #SXSW: Marissa M...              Google   \n",
       "\n",
       "          sentiment  \n",
       "0  Negative emotion  \n",
       "1  Positive emotion  \n",
       "2  Positive emotion  \n",
       "3  Negative emotion  \n",
       "4  Positive emotion  "
      ]
     },
     "execution_count": 17,
     "metadata": {},
     "output_type": "execute_result"
    }
   ],
   "source": [
    "DATASET_COLUMNS=['tweet','product','sentiment']\n",
    "DATASET_ENCODING = \"ISO-8859-1\"\n",
    "ta_df = pd.read_csv('TWEETS (1).csv', encoding=DATASET_ENCODING, names=DATASET_COLUMNS,skiprows=1)\n",
    "\n",
    "ta_df.head(5)"
   ]
  },
  {
   "cell_type": "code",
   "execution_count": 14,
   "metadata": {},
   "outputs": [],
   "source": [
    "# tweet = ta_df['tweet']"
   ]
  },
  {
   "cell_type": "code",
   "execution_count": 4,
   "metadata": {},
   "outputs": [],
   "source": [
    "#(lambda x: [i for i in x if any(i.startswith(j) for j in ('not', 'Not'))])(tweet)b"
   ]
  },
  {
   "cell_type": "code",
   "execution_count": 5,
   "metadata": {},
   "outputs": [],
   "source": [
    "# happy\n",
    "# happiest\n",
    "# happiness\n",
    "# def merge_not(tweet):\n"
   ]
  },
  {
   "cell_type": "code",
   "execution_count": 6,
   "metadata": {},
   "outputs": [],
   "source": [
    "# TODO\n",
    "# preprocess the tweets\n",
    "# print/plot , not and next words\n",
    "\n",
    "# apply countvectorizer\n",
    "# apply tfidf vectorizer\n",
    "# create the accuracy Table for comparision\n"
   ]
  },
  {
   "cell_type": "markdown",
   "metadata": {},
   "source": [
    "### Cleaning and organizing our data "
   ]
  },
  {
   "cell_type": "code",
   "execution_count": 18,
   "metadata": {},
   "outputs": [],
   "source": [
    "# Drop first row by selecting all rows from first row onwards\n",
    "\n",
    "# ta_df = ta_df.iloc[1: , :]\n",
    "# ta_df.head(10)"
   ]
  },
  {
   "cell_type": "code",
   "execution_count": 19,
   "metadata": {},
   "outputs": [
    {
     "name": "stdout",
     "output_type": "stream",
     "text": [
      "length of data is 9288\n"
     ]
    }
   ],
   "source": [
    "# Checking length \n",
    "print('length of data is', len(ta_df))"
   ]
  },
  {
   "cell_type": "code",
   "execution_count": 20,
   "metadata": {},
   "outputs": [
    {
     "name": "stdout",
     "output_type": "stream",
     "text": [
      "<class 'pandas.core.frame.DataFrame'>\n",
      "RangeIndex: 9288 entries, 0 to 9287\n",
      "Data columns (total 3 columns):\n",
      " #   Column     Non-Null Count  Dtype \n",
      "---  ------     --------------  ----- \n",
      " 0   tweet      9261 non-null   object\n",
      " 1   product    3291 non-null   object\n",
      " 2   sentiment  9093 non-null   object\n",
      "dtypes: object(3)\n",
      "memory usage: 217.8+ KB\n",
      "None\n"
     ]
    }
   ],
   "source": [
    "# Understadning the type of data we are dealing with\n",
    "\n",
    "print(ta_df.info())"
   ]
  },
  {
   "cell_type": "markdown",
   "metadata": {},
   "source": [
    "#### Distribution of Data - Target "
   ]
  },
  {
   "cell_type": "code",
   "execution_count": 25,
   "metadata": {},
   "outputs": [
    {
     "data": {
      "text/plain": [
       "0                         Negative emotion\n",
       "1                         Positive emotion\n",
       "2                         Positive emotion\n",
       "3                         Negative emotion\n",
       "4                         Positive emotion\n",
       "                       ...                \n",
       "9283                      Positive emotion\n",
       "9284    No emotion toward brand or product\n",
       "9285    No emotion toward brand or product\n",
       "9286    No emotion toward brand or product\n",
       "9287    No emotion toward brand or product\n",
       "Name: sentiment, Length: 9288, dtype: object"
      ]
     },
     "execution_count": 25,
     "metadata": {},
     "output_type": "execute_result"
    }
   ],
   "source": [
    "ta_df['sentiment']"
   ]
  },
  {
   "cell_type": "code",
   "execution_count": 26,
   "metadata": {},
   "outputs": [
    {
     "data": {
      "text/plain": [
       "[Text(0.5, 1.0, 'Count of Tweets per Sentiment')]"
      ]
     },
     "execution_count": 26,
     "metadata": {},
     "output_type": "execute_result"
    },
    {
     "data": {
      "image/png": "[encoded data removed]",
      "text/plain": [
       "<Figure size 800x550 with 1 Axes>"
      ]
     },
     "metadata": {},
     "output_type": "display_data"
    }
   ],
   "source": [
    "# Plot the count plot for the target labels.\n",
    "\n",
    "p = sns.countplot(data = ta_df, y = 'sentiment', palette=\"Set3\") #Setting p to plot of Emotion\n",
    "p.set(xlabel = 'count') #Labling X\n",
    "p.set(ylabel = 'sentiment') #Labling Y\n",
    "p.set(title = \"Count of Tweets per Sentiment\")"
   ]
  },
  {
   "cell_type": "code",
   "execution_count": 27,
   "metadata": {},
   "outputs": [
    {
     "name": "stdout",
     "output_type": "stream",
     "text": [
      "Count of columns in the data is:   3\n",
      "Count of rows in the data is:   9288\n"
     ]
    }
   ],
   "source": [
    "print('Count of columns in the data is:  ', len(ta_df.columns))\n",
    "print('Count of rows in the data is:  ', len(ta_df))"
   ]
  },
  {
   "cell_type": "markdown",
   "metadata": {},
   "source": [
    "#### Steps to clean the data\n",
    "\n",
    "* Checking and handling NaN values\n",
    "* Drop duplicate\n",
    "* Cleaning up product names in order to unify brand names\n",
    "*"
   ]
  },
  {
   "cell_type": "code",
   "execution_count": 30,
   "metadata": {},
   "outputs": [
    {
     "data": {
      "text/plain": [
       "tweet          27\n",
       "product      5997\n",
       "sentiment     195\n",
       "dtype: int64"
      ]
     },
     "execution_count": 30,
     "metadata": {},
     "output_type": "execute_result"
    }
   ],
   "source": [
    "ta_df.isna().sum() # get NaN column wise"
   ]
  },
  {
   "cell_type": "code",
   "execution_count": 13,
   "metadata": {
    "scrolled": true
   },
   "outputs": [
    {
     "data": {
      "image/png": "[encoded data removed]",
      "text/plain": [
       "<Figure size 800x550 with 1 Axes>"
      ]
     },
     "metadata": {},
     "output_type": "display_data"
    }
   ],
   "source": [
    "# Checking for Null values.  We use the heatmap code which shows the contrast well.\n",
    "\n",
    "sns.heatmap(ta_df.isnull(), cbar=False)\n",
    "plt.title(\"NaNs\")\n",
    "plt.xlabel('Culomns')\n",
    "plt.ylabel('Row')\n",
    "plt.show()"
   ]
  },
  {
   "cell_type": "code",
   "execution_count": 13,
   "metadata": {},
   "outputs": [
    {
     "name": "stdout",
     "output_type": "stream",
     "text": [
      "tweet          27\n",
      "product      5997\n",
      "sentiment     195\n",
      "dtype: int64\n"
     ]
    }
   ],
   "source": [
    "# Checking for Nulls numerically \n",
    "print(ta_df.isna().sum()) "
   ]
  },
  {
   "cell_type": "code",
   "execution_count": 31,
   "metadata": {},
   "outputs": [],
   "source": [
    "# Removing duplicate values\n",
    "ta_df.drop_duplicates(inplace = True) "
   ]
  },
  {
   "cell_type": "code",
   "execution_count": 32,
   "metadata": {},
   "outputs": [
    {
     "data": {
      "text/html": [
       "<div>\n",
       "<style scoped>\n",
       "    .dataframe tbody tr th:only-of-type {\n",
       "        vertical-align: middle;\n",
       "    }\n",
       "\n",
       "    .dataframe tbody tr th {\n",
       "        vertical-align: top;\n",
       "    }\n",
       "\n",
       "    .dataframe thead th {\n",
       "        text-align: right;\n",
       "    }\n",
       "</style>\n",
       "<table border=\"1\" class=\"dataframe\">\n",
       "  <thead>\n",
       "    <tr style=\"text-align: right;\">\n",
       "      <th></th>\n",
       "      <th>tweet</th>\n",
       "      <th>product</th>\n",
       "      <th>sentiment</th>\n",
       "    </tr>\n",
       "  </thead>\n",
       "  <tbody>\n",
       "    <tr>\n",
       "      <th>0</th>\n",
       "      <td>.@wesley83 I have a 3G iPhone. After 3 hrs twe...</td>\n",
       "      <td>iPhone</td>\n",
       "      <td>Negative emotion</td>\n",
       "    </tr>\n",
       "    <tr>\n",
       "      <th>1</th>\n",
       "      <td>@jessedee Know about @fludapp ? Awesome iPad/i...</td>\n",
       "      <td>iPad or iPhone App</td>\n",
       "      <td>Positive emotion</td>\n",
       "    </tr>\n",
       "    <tr>\n",
       "      <th>2</th>\n",
       "      <td>@swonderlin Can not wait for #iPad 2 also. The...</td>\n",
       "      <td>iPad</td>\n",
       "      <td>Positive emotion</td>\n",
       "    </tr>\n",
       "    <tr>\n",
       "      <th>3</th>\n",
       "      <td>@sxsw I hope this year's festival isn't as cra...</td>\n",
       "      <td>iPad or iPhone App</td>\n",
       "      <td>Negative emotion</td>\n",
       "    </tr>\n",
       "    <tr>\n",
       "      <th>4</th>\n",
       "      <td>@sxtxstate great stuff on Fri #SXSW: Marissa M...</td>\n",
       "      <td>Google</td>\n",
       "      <td>Positive emotion</td>\n",
       "    </tr>\n",
       "  </tbody>\n",
       "</table>\n",
       "</div>"
      ],
      "text/plain": [
       "                                               tweet             product  \\\n",
       "0  .@wesley83 I have a 3G iPhone. After 3 hrs twe...              iPhone   \n",
       "1  @jessedee Know about @fludapp ? Awesome iPad/i...  iPad or iPhone App   \n",
       "2  @swonderlin Can not wait for #iPad 2 also. The...                iPad   \n",
       "3  @sxsw I hope this year's festival isn't as cra...  iPad or iPhone App   \n",
       "4  @sxtxstate great stuff on Fri #SXSW: Marissa M...              Google   \n",
       "\n",
       "          sentiment  \n",
       "0  Negative emotion  \n",
       "1  Positive emotion  \n",
       "2  Positive emotion  \n",
       "3  Negative emotion  \n",
       "4  Positive emotion  "
      ]
     },
     "execution_count": 32,
     "metadata": {},
     "output_type": "execute_result"
    }
   ],
   "source": [
    "ta_df.head(5)"
   ]
  },
  {
   "cell_type": "markdown",
   "metadata": {},
   "source": [
    "#### Product"
   ]
  },
  {
   "cell_type": "markdown",
   "metadata": {},
   "source": [
    "For this particular project we will be focusing on the companies themselves and therefore we consolidated the names. All if apple related products (e.g. iPad, iPhone ) will be under Apple and Google’s products will be consolidated into one.  "
   ]
  },
  {
   "cell_type": "code",
   "execution_count": 33,
   "metadata": {},
   "outputs": [],
   "source": [
    "ta_df['product_brand']= ta_df['product']"
   ]
  },
  {
   "cell_type": "code",
   "execution_count": 34,
   "metadata": {},
   "outputs": [
    {
     "data": {
      "text/plain": [
       "array(['iPhone', 'iPad or iPhone App', 'iPad', 'Google', nan, 'Android',\n",
       "       'Apple', 'Android App', 'Other Google product or service',\n",
       "       'Other Apple product or service'], dtype=object)"
      ]
     },
     "execution_count": 34,
     "metadata": {},
     "output_type": "execute_result"
    }
   ],
   "source": [
    "ta_df.product_brand.unique()"
   ]
  },
  {
   "cell_type": "code",
   "execution_count": 18,
   "metadata": {},
   "outputs": [],
   "source": [
    "# ta_df['Product'].fillna('Undefined',inplace=True)"
   ]
  },
  {
   "cell_type": "code",
   "execution_count": 35,
   "metadata": {},
   "outputs": [
    {
     "name": "stdout",
     "output_type": "stream",
     "text": [
      "tweet               2\n",
      "product          5897\n",
      "sentiment         114\n",
      "product_brand    5897\n",
      "dtype: int64\n"
     ]
    }
   ],
   "source": [
    "print(ta_df.isna().sum()) "
   ]
  },
  {
   "cell_type": "code",
   "execution_count": 36,
   "metadata": {},
   "outputs": [],
   "source": [
    "l = [('#google'),('Google'), 'google', 'Anroid', \n",
    "     'anroid', 'ipad','ipad2','iphone','apple','Apple', 'ipad3','SXSW']\n",
    "\n",
    "pat = '|'.join(r\"\\b{}\\b\".format(x) for x in l)\n",
    "\n",
    "\n",
    "ta_df['product'] = ta_df['tweet'].str.extract('('+ pat + ')', \n",
    "                                        expand=False, \n",
    "                                        flags=re.I) \n",
    "# The function takes a an object from the consolidated list we created, \n",
    "# and returns the replacement string."
   ]
  },
  {
   "cell_type": "code",
   "execution_count": 43,
   "metadata": {},
   "outputs": [
    {
     "data": {
      "text/plain": [
       "'iPad apps are just like software development in that once you release it, you have to start working on the update. #sxsw'"
      ]
     },
     "execution_count": 43,
     "metadata": {},
     "output_type": "execute_result"
    }
   ],
   "source": [
    "ta_df.iloc[315]['tweet']"
   ]
  },
  {
   "cell_type": "code",
   "execution_count": 48,
   "metadata": {},
   "outputs": [
    {
     "data": {
      "text/plain": [
       "tweet             0.021791\n",
       "product           0.838963\n",
       "sentiment         1.242101\n",
       "product_brand    64.251471\n",
       "dtype: float64"
      ]
     },
     "execution_count": 48,
     "metadata": {},
     "output_type": "execute_result"
    }
   ],
   "source": [
    "ta_df.isna().mean()*100"
   ]
  },
  {
   "cell_type": "code",
   "execution_count": 46,
   "metadata": {},
   "outputs": [
    {
     "data": {
      "text/plain": [
       "(9178, 4)"
      ]
     },
     "execution_count": 46,
     "metadata": {},
     "output_type": "execute_result"
    }
   ],
   "source": [
    "ta_df.shape"
   ]
  },
  {
   "cell_type": "code",
   "execution_count": 40,
   "metadata": {},
   "outputs": [
    {
     "data": {
      "text/html": [
       "<div>\n",
       "<style scoped>\n",
       "    .dataframe tbody tr th:only-of-type {\n",
       "        vertical-align: middle;\n",
       "    }\n",
       "\n",
       "    .dataframe tbody tr th {\n",
       "        vertical-align: top;\n",
       "    }\n",
       "\n",
       "    .dataframe thead th {\n",
       "        text-align: right;\n",
       "    }\n",
       "</style>\n",
       "<table border=\"1\" class=\"dataframe\">\n",
       "  <thead>\n",
       "    <tr style=\"text-align: right;\">\n",
       "      <th></th>\n",
       "      <th>tweet</th>\n",
       "      <th>product</th>\n",
       "      <th>sentiment</th>\n",
       "      <th>product_brand</th>\n",
       "    </tr>\n",
       "  </thead>\n",
       "  <tbody>\n",
       "    <tr>\n",
       "      <th>6</th>\n",
       "      <td>NaN</td>\n",
       "      <td>NaN</td>\n",
       "      <td>No emotion toward brand or product</td>\n",
       "      <td>NaN</td>\n",
       "    </tr>\n",
       "    <tr>\n",
       "      <th>108</th>\n",
       "      <td>#HP opens &amp;quot;Mobile Park&amp;quot;Ê &amp;amp; Conte...</td>\n",
       "      <td>NaN</td>\n",
       "      <td>No emotion toward brand or product</td>\n",
       "      <td>NaN</td>\n",
       "    </tr>\n",
       "    <tr>\n",
       "      <th>181</th>\n",
       "      <td>NaN</td>\n",
       "      <td>NaN</td>\n",
       "      <td>NaN</td>\n",
       "      <td>NaN</td>\n",
       "    </tr>\n",
       "    <tr>\n",
       "      <th>184</th>\n",
       "      <td>The wait is a couple city blocks.Ê</td>\n",
       "      <td>NaN</td>\n",
       "      <td>NaN</td>\n",
       "      <td>NaN</td>\n",
       "    </tr>\n",
       "    <tr>\n",
       "      <th>315</th>\n",
       "      <td>And a few are Android too RT @mention 10 New M...</td>\n",
       "      <td>NaN</td>\n",
       "      <td>Positive emotion</td>\n",
       "      <td>Android App</td>\n",
       "    </tr>\n",
       "    <tr>\n",
       "      <th>...</th>\n",
       "      <td>...</td>\n",
       "      <td>...</td>\n",
       "      <td>...</td>\n",
       "      <td>...</td>\n",
       "    </tr>\n",
       "    <tr>\n",
       "      <th>8280</th>\n",
       "      <td>Apples Austin popup store. Line are the corner...</td>\n",
       "      <td>NaN</td>\n",
       "      <td>No emotion toward brand or product</td>\n",
       "      <td>NaN</td>\n",
       "    </tr>\n",
       "    <tr>\n",
       "      <th>8386</th>\n",
       "      <td>In line at an impromptu &amp;quot;pop-up&amp;quot;</td>\n",
       "      <td>NaN</td>\n",
       "      <td>No emotion toward brand or product</td>\n",
       "      <td>NaN</td>\n",
       "    </tr>\n",
       "    <tr>\n",
       "      <th>8410</th>\n",
       "      <td>Some great free music! --Ê</td>\n",
       "      <td>NaN</td>\n",
       "      <td>No emotion toward brand or product</td>\n",
       "      <td>NaN</td>\n",
       "    </tr>\n",
       "    <tr>\n",
       "      <th>8497</th>\n",
       "      <td>Free &amp;quot;Payments on the #Android Platform&amp;q...</td>\n",
       "      <td>NaN</td>\n",
       "      <td>No emotion toward brand or product</td>\n",
       "      <td>NaN</td>\n",
       "    </tr>\n",
       "    <tr>\n",
       "      <th>8704</th>\n",
       "      <td>Mom (@mention quick - apply for a job @mention...</td>\n",
       "      <td>NaN</td>\n",
       "      <td>No emotion toward brand or product</td>\n",
       "      <td>NaN</td>\n",
       "    </tr>\n",
       "  </tbody>\n",
       "</table>\n",
       "<p>77 rows × 4 columns</p>\n",
       "</div>"
      ],
      "text/plain": [
       "                                                  tweet product  \\\n",
       "6                                                   NaN     NaN   \n",
       "108   #HP opens &quot;Mobile Park&quot;Ê &amp; Conte...     NaN   \n",
       "181                                                 NaN     NaN   \n",
       "184                  The wait is a couple city blocks.Ê     NaN   \n",
       "315   And a few are Android too RT @mention 10 New M...     NaN   \n",
       "...                                                 ...     ...   \n",
       "8280  Apples Austin popup store. Line are the corner...     NaN   \n",
       "8386         In line at an impromptu &quot;pop-up&quot;     NaN   \n",
       "8410                         Some great free music! --Ê     NaN   \n",
       "8497  Free &quot;Payments on the #Android Platform&q...     NaN   \n",
       "8704  Mom (@mention quick - apply for a job @mention...     NaN   \n",
       "\n",
       "                               sentiment product_brand  \n",
       "6     No emotion toward brand or product           NaN  \n",
       "108   No emotion toward brand or product           NaN  \n",
       "181                                  NaN           NaN  \n",
       "184                                  NaN           NaN  \n",
       "315                     Positive emotion   Android App  \n",
       "...                                  ...           ...  \n",
       "8280  No emotion toward brand or product           NaN  \n",
       "8386  No emotion toward brand or product           NaN  \n",
       "8410  No emotion toward brand or product           NaN  \n",
       "8497  No emotion toward brand or product           NaN  \n",
       "8704  No emotion toward brand or product           NaN  \n",
       "\n",
       "[77 rows x 4 columns]"
      ]
     },
     "execution_count": 40,
     "metadata": {},
     "output_type": "execute_result"
    }
   ],
   "source": [
    "ta_df[ta_df['product'].isnull()]"
   ]
  },
  {
   "cell_type": "code",
   "execution_count": 50,
   "metadata": {},
   "outputs": [],
   "source": [
    "ta_df.drop('product_brand',axis=1,inplace=True)"
   ]
  },
  {
   "cell_type": "code",
   "execution_count": 51,
   "metadata": {},
   "outputs": [],
   "source": [
    "ta_df.dropna(inplace=True)"
   ]
  },
  {
   "cell_type": "code",
   "execution_count": 52,
   "metadata": {},
   "outputs": [
    {
     "data": {
      "text/plain": [
       "(9026, 3)"
      ]
     },
     "execution_count": 52,
     "metadata": {},
     "output_type": "execute_result"
    }
   ],
   "source": [
    "ta_df.shape"
   ]
  },
  {
   "cell_type": "markdown",
   "metadata": {},
   "source": [
    "# Pre process"
   ]
  },
  {
   "cell_type": "code",
   "execution_count": 54,
   "metadata": {},
   "outputs": [
    {
     "data": {
      "text/plain": [
       "No emotion toward brand or product    5341\n",
       "Positive emotion                      2961\n",
       "Negative emotion                       568\n",
       "I can't tell                           156\n",
       "Name: sentiment, dtype: int64"
      ]
     },
     "execution_count": 54,
     "metadata": {},
     "output_type": "execute_result"
    }
   ],
   "source": [
    "ta_df['sentiment'].value_counts()"
   ]
  },
  {
   "cell_type": "code",
   "execution_count": null,
   "metadata": {},
   "outputs": [],
   "source": []
  },
  {
   "cell_type": "code",
   "execution_count": 53,
   "metadata": {},
   "outputs": [
    {
     "data": {
      "text/html": [
       "<div>\n",
       "<style scoped>\n",
       "    .dataframe tbody tr th:only-of-type {\n",
       "        vertical-align: middle;\n",
       "    }\n",
       "\n",
       "    .dataframe tbody tr th {\n",
       "        vertical-align: top;\n",
       "    }\n",
       "\n",
       "    .dataframe thead th {\n",
       "        text-align: right;\n",
       "    }\n",
       "</style>\n",
       "<table border=\"1\" class=\"dataframe\">\n",
       "  <thead>\n",
       "    <tr style=\"text-align: right;\">\n",
       "      <th></th>\n",
       "      <th>tweet</th>\n",
       "      <th>product</th>\n",
       "      <th>sentiment</th>\n",
       "    </tr>\n",
       "  </thead>\n",
       "  <tbody>\n",
       "    <tr>\n",
       "      <th>0</th>\n",
       "      <td>.@wesley83 I have a 3G iPhone. After 3 hrs twe...</td>\n",
       "      <td>iPhone</td>\n",
       "      <td>Negative emotion</td>\n",
       "    </tr>\n",
       "    <tr>\n",
       "      <th>1</th>\n",
       "      <td>@jessedee Know about @fludapp ? Awesome iPad/i...</td>\n",
       "      <td>iPad</td>\n",
       "      <td>Positive emotion</td>\n",
       "    </tr>\n",
       "    <tr>\n",
       "      <th>2</th>\n",
       "      <td>@swonderlin Can not wait for #iPad 2 also. The...</td>\n",
       "      <td>iPad</td>\n",
       "      <td>Positive emotion</td>\n",
       "    </tr>\n",
       "    <tr>\n",
       "      <th>3</th>\n",
       "      <td>@sxsw I hope this year's festival isn't as cra...</td>\n",
       "      <td>sxsw</td>\n",
       "      <td>Negative emotion</td>\n",
       "    </tr>\n",
       "    <tr>\n",
       "      <th>4</th>\n",
       "      <td>@sxtxstate great stuff on Fri #SXSW: Marissa M...</td>\n",
       "      <td>SXSW</td>\n",
       "      <td>Positive emotion</td>\n",
       "    </tr>\n",
       "  </tbody>\n",
       "</table>\n",
       "</div>"
      ],
      "text/plain": [
       "                                               tweet product         sentiment\n",
       "0  .@wesley83 I have a 3G iPhone. After 3 hrs twe...  iPhone  Negative emotion\n",
       "1  @jessedee Know about @fludapp ? Awesome iPad/i...    iPad  Positive emotion\n",
       "2  @swonderlin Can not wait for #iPad 2 also. The...    iPad  Positive emotion\n",
       "3  @sxsw I hope this year's festival isn't as cra...    sxsw  Negative emotion\n",
       "4  @sxtxstate great stuff on Fri #SXSW: Marissa M...    SXSW  Positive emotion"
      ]
     },
     "execution_count": 53,
     "metadata": {},
     "output_type": "execute_result"
    }
   ],
   "source": [
    "ta_df.head(5)"
   ]
  },
  {
   "cell_type": "code",
   "execution_count": 63,
   "metadata": {},
   "outputs": [
    {
     "data": {
      "text/plain": [
       "'@swonderlin Can not wait for #iPad 2 also. They should sale them down at #SXSW.'"
      ]
     },
     "execution_count": 63,
     "metadata": {},
     "output_type": "execute_result"
    }
   ],
   "source": [
    "ta_df[ta_df['product']=='iPhone']['tweet'].iloc[1]"
   ]
  },
  {
   "cell_type": "code",
   "execution_count": 56,
   "metadata": {},
   "outputs": [
    {
     "data": {
      "text/plain": [
       "array(['iPhone', 'iPad', 'sxsw', 'SXSW', 'iPad2', 'google', 'ipad2',\n",
       "       'Google', 'IPad2', 'Apple', 'APPLE', 'SxSW', 'apple', 'Sxsw',\n",
       "       'iphone', 'ipad', 'IPad', 'IPhone', 'sXsw', 'Ipad', 'SxSw',\n",
       "       'iPAD2', 'IPAD', 'Iphone', 'Ipad2', 'IPHONE', 'GOOGLE', 'iPAD',\n",
       "       'iPHONE'], dtype=object)"
      ]
     },
     "execution_count": 56,
     "metadata": {},
     "output_type": "execute_result"
    }
   ],
   "source": [
    "ta_df['product'].unique()"
   ]
  },
  {
   "cell_type": "code",
   "execution_count": null,
   "metadata": {},
   "outputs": [],
   "source": []
  },
  {
   "cell_type": "code",
   "execution_count": 64,
   "metadata": {},
   "outputs": [],
   "source": [
    "# ta_df['product_brand'].replace({\"iPhone\":\"Apple\",\n",
    "#                               'iPad':\"Apple\",\n",
    "#                      \"iPad or iPhone App\":\"Apple\",\n",
    "#                      \"iPhone\":\"Apple\", \n",
    "#                       \"iPAD2\": \"Apple\" , \n",
    "#                       \"iPad2\":\"Apple\",\n",
    "#                       \"IPAD\":\"Apple\",\n",
    "#                       \"Iphone\":\"Apple\",\n",
    "#                       \"Ipad2\":\"Apple\",\n",
    "#                       \"IPHONE\":\"Apple\",\n",
    "#                       \"iPAD\":\"Apple\",\n",
    "#                       \"iPHONE\":\"Apple\",\n",
    "#                       \"IPad\":\"Apple\",\n",
    "#                       \"APPLE\":\"Apple\",\n",
    "#                       \"apple\":\"Apple\",                   \n",
    "#                       \"IPad\":\"Apple\",\n",
    "#                       \"ipad\":\"Apple\",\n",
    "#                       \"iphone\":\"Apple\",\n",
    "#                       \"ipad2\":\"Apple\",\n",
    "#                       \"Ipad\":\"Apple\",\n",
    "#                       \"IPhone\":\"Apple\",         \n",
    "#                       \"Android\":\"Google\", \n",
    "#                       \"Android App\":\"Google\", \n",
    "#                       \"SXSW\":\"Google\",\n",
    "#                       \"sxsw\": \"Google\",\n",
    "#                       \"SxSw\": \"Google\",     \n",
    "#                       \"Sxsw\": \"Google\",\n",
    "#                       \"GOOGLE\": \"Google\",\n",
    "#                       \"google\": \"Google\",\n",
    "#                       \"sXsw\": \"Google\",      \n",
    "#                       \"SxSW\": \"Google\",    \n",
    "#                       \"Other Google product or service\":\"Google\",\n",
    "#                       \"Other Apple product or service\":\"Google\" },inplace=True)"
   ]
  },
  {
   "cell_type": "code",
   "execution_count": 65,
   "metadata": {
    "scrolled": true
   },
   "outputs": [
    {
     "data": {
      "image/png": "[encoded data removed]",
      "text/plain": [
       "<Figure size 800x550 with 1 Axes>"
      ]
     },
     "metadata": {},
     "output_type": "display_data"
    }
   ],
   "source": [
    "sns.heatmap(ta_df.isnull(), cbar=False)\n",
    "plt.title(\"NaNs\")\n",
    "plt.xlabel('Culomns')\n",
    "plt.ylabel('Row')\n",
    "plt.show()"
   ]
  },
  {
   "cell_type": "code",
   "execution_count": 26,
   "metadata": {},
   "outputs": [
    {
     "data": {
      "text/plain": [
       "array(['Apple', 'Google', nan], dtype=object)"
      ]
     },
     "execution_count": 26,
     "metadata": {},
     "output_type": "execute_result"
    }
   ],
   "source": [
    "ta_df.product_brand.unique()"
   ]
  },
  {
   "cell_type": "code",
   "execution_count": 66,
   "metadata": {},
   "outputs": [
    {
     "data": {
      "text/html": [
       "<div>\n",
       "<style scoped>\n",
       "    .dataframe tbody tr th:only-of-type {\n",
       "        vertical-align: middle;\n",
       "    }\n",
       "\n",
       "    .dataframe tbody tr th {\n",
       "        vertical-align: top;\n",
       "    }\n",
       "\n",
       "    .dataframe thead th {\n",
       "        text-align: right;\n",
       "    }\n",
       "</style>\n",
       "<table border=\"1\" class=\"dataframe\">\n",
       "  <thead>\n",
       "    <tr style=\"text-align: right;\">\n",
       "      <th></th>\n",
       "      <th>tweet</th>\n",
       "      <th>product</th>\n",
       "      <th>sentiment</th>\n",
       "    </tr>\n",
       "  </thead>\n",
       "  <tbody>\n",
       "    <tr>\n",
       "      <th>0</th>\n",
       "      <td>.@wesley83 I have a 3G iPhone. After 3 hrs twe...</td>\n",
       "      <td>iPhone</td>\n",
       "      <td>Negative emotion</td>\n",
       "    </tr>\n",
       "    <tr>\n",
       "      <th>1</th>\n",
       "      <td>@jessedee Know about @fludapp ? Awesome iPad/i...</td>\n",
       "      <td>iPad</td>\n",
       "      <td>Positive emotion</td>\n",
       "    </tr>\n",
       "    <tr>\n",
       "      <th>2</th>\n",
       "      <td>@swonderlin Can not wait for #iPad 2 also. The...</td>\n",
       "      <td>iPad</td>\n",
       "      <td>Positive emotion</td>\n",
       "    </tr>\n",
       "    <tr>\n",
       "      <th>3</th>\n",
       "      <td>@sxsw I hope this year's festival isn't as cra...</td>\n",
       "      <td>sxsw</td>\n",
       "      <td>Negative emotion</td>\n",
       "    </tr>\n",
       "    <tr>\n",
       "      <th>4</th>\n",
       "      <td>@sxtxstate great stuff on Fri #SXSW: Marissa M...</td>\n",
       "      <td>SXSW</td>\n",
       "      <td>Positive emotion</td>\n",
       "    </tr>\n",
       "  </tbody>\n",
       "</table>\n",
       "</div>"
      ],
      "text/plain": [
       "                                               tweet product         sentiment\n",
       "0  .@wesley83 I have a 3G iPhone. After 3 hrs twe...  iPhone  Negative emotion\n",
       "1  @jessedee Know about @fludapp ? Awesome iPad/i...    iPad  Positive emotion\n",
       "2  @swonderlin Can not wait for #iPad 2 also. The...    iPad  Positive emotion\n",
       "3  @sxsw I hope this year's festival isn't as cra...    sxsw  Negative emotion\n",
       "4  @sxtxstate great stuff on Fri #SXSW: Marissa M...    SXSW  Positive emotion"
      ]
     },
     "execution_count": 66,
     "metadata": {},
     "output_type": "execute_result"
    }
   ],
   "source": [
    "ta_df.head(5)"
   ]
  },
  {
   "cell_type": "code",
   "execution_count": 67,
   "metadata": {},
   "outputs": [],
   "source": [
    "# ta_df.dropna(subset = ['product_brand','tweet','sentiment', 'product'], inplace = True) #Droping null entries"
   ]
  },
  {
   "cell_type": "code",
   "execution_count": 29,
   "metadata": {
    "scrolled": true
   },
   "outputs": [
    {
     "data": {
      "image/png": "[encoded data removed]",
      "text/plain": [
       "<Figure size 432x288 with 1 Axes>"
      ]
     },
     "metadata": {
      "needs_background": "light"
     },
     "output_type": "display_data"
    }
   ],
   "source": [
    "sns.heatmap(ta_df.isnull(), cbar=False)\n",
    "plt.title(\"NaNs\")\n",
    "plt.xlabel('Culomns')\n",
    "plt.ylabel('Row')\n",
    "plt.show()"
   ]
  },
  {
   "cell_type": "code",
   "execution_count": 30,
   "metadata": {},
   "outputs": [
    {
     "name": "stdout",
     "output_type": "stream",
     "text": [
      "tweet            0\n",
      "product          0\n",
      "sentiment        0\n",
      "product_brand    0\n",
      "dtype: int64\n"
     ]
    }
   ],
   "source": [
    "print(ta_df.isna().sum()) "
   ]
  },
  {
   "cell_type": "code",
   "execution_count": 31,
   "metadata": {},
   "outputs": [
    {
     "data": {
      "text/plain": [
       "(3273, 4)"
      ]
     },
     "execution_count": 31,
     "metadata": {},
     "output_type": "execute_result"
    }
   ],
   "source": [
    "ta_df.shape"
   ]
  },
  {
   "cell_type": "markdown",
   "metadata": {},
   "source": [
    "\n",
    "#### Handling Null Values: \n",
    "\n",
    "Sentiment: there are only 195 null values in the sentiment column therefore the most effective approach is to delete these.\n",
    "\n",
    "Tweets: there are only 27 null values and here as well the most effective approach is to remove these null values.\n",
    " \n",
    "On the other hand, Product shows 5,997 nulls - we will extract any words that appear on the tweet that mention the product. \n",
    "\n",
    "After doing that we only were left with 77 null values, which we removed. Now we are dealing with 9,026 tweets with their respective product, brand and sentiment.\n"
   ]
  },
  {
   "cell_type": "markdown",
   "metadata": {},
   "source": [
    "### Sentiments"
   ]
  },
  {
   "cell_type": "markdown",
   "metadata": {},
   "source": [
    "#### Streamline names of emotions \n",
    "\n",
    "* Adding not to the subsequent word - to affiliate it with a sentiment.\n",
    "\n",
    "* We will clean up the data by removing \"emotion\" and then replacing ‘I can’t tell’ with \"Neutral\" and \"nan\" with \"Undefined.\" "
   ]
  },
  {
   "cell_type": "code",
   "execution_count": 68,
   "metadata": {},
   "outputs": [
    {
     "data": {
      "text/html": [
       "<div>\n",
       "<style scoped>\n",
       "    .dataframe tbody tr th:only-of-type {\n",
       "        vertical-align: middle;\n",
       "    }\n",
       "\n",
       "    .dataframe tbody tr th {\n",
       "        vertical-align: top;\n",
       "    }\n",
       "\n",
       "    .dataframe thead th {\n",
       "        text-align: right;\n",
       "    }\n",
       "</style>\n",
       "<table border=\"1\" class=\"dataframe\">\n",
       "  <thead>\n",
       "    <tr style=\"text-align: right;\">\n",
       "      <th></th>\n",
       "      <th>tweet</th>\n",
       "      <th>product</th>\n",
       "      <th>sentiment</th>\n",
       "    </tr>\n",
       "  </thead>\n",
       "  <tbody>\n",
       "    <tr>\n",
       "      <th>0</th>\n",
       "      <td>.@wesley83 I have a 3G iPhone. After 3 hrs twe...</td>\n",
       "      <td>iPhone</td>\n",
       "      <td>Negative emotion</td>\n",
       "    </tr>\n",
       "    <tr>\n",
       "      <th>1</th>\n",
       "      <td>@jessedee Know about @fludapp ? Awesome iPad/i...</td>\n",
       "      <td>iPad</td>\n",
       "      <td>Positive emotion</td>\n",
       "    </tr>\n",
       "    <tr>\n",
       "      <th>2</th>\n",
       "      <td>@swonderlin Can not wait for #iPad 2 also. The...</td>\n",
       "      <td>iPad</td>\n",
       "      <td>Positive emotion</td>\n",
       "    </tr>\n",
       "    <tr>\n",
       "      <th>3</th>\n",
       "      <td>@sxsw I hope this year's festival isn't as cra...</td>\n",
       "      <td>sxsw</td>\n",
       "      <td>Negative emotion</td>\n",
       "    </tr>\n",
       "    <tr>\n",
       "      <th>4</th>\n",
       "      <td>@sxtxstate great stuff on Fri #SXSW: Marissa M...</td>\n",
       "      <td>SXSW</td>\n",
       "      <td>Positive emotion</td>\n",
       "    </tr>\n",
       "  </tbody>\n",
       "</table>\n",
       "</div>"
      ],
      "text/plain": [
       "                                               tweet product         sentiment\n",
       "0  .@wesley83 I have a 3G iPhone. After 3 hrs twe...  iPhone  Negative emotion\n",
       "1  @jessedee Know about @fludapp ? Awesome iPad/i...    iPad  Positive emotion\n",
       "2  @swonderlin Can not wait for #iPad 2 also. The...    iPad  Positive emotion\n",
       "3  @sxsw I hope this year's festival isn't as cra...    sxsw  Negative emotion\n",
       "4  @sxtxstate great stuff on Fri #SXSW: Marissa M...    SXSW  Positive emotion"
      ]
     },
     "execution_count": 68,
     "metadata": {},
     "output_type": "execute_result"
    }
   ],
   "source": [
    "ta_df.head(5)"
   ]
  },
  {
   "cell_type": "code",
   "execution_count": 33,
   "metadata": {},
   "outputs": [],
   "source": [
    "#ta_df['tweet'].join(ta_df['tweet'].str.get_dummies(', ').reindex(tweet, axis=1, fill_value=0)"
   ]
  },
  {
   "cell_type": "code",
   "execution_count": 82,
   "metadata": {},
   "outputs": [],
   "source": [
    "# merge not and next word\n",
    "def merge_not(x):\n",
    "    \n",
    "    x = tweet.str.split()\n",
    "    n = x.str.index('not')\n",
    "\n",
    "    x[n+1] = x[n]+'_'+x[n+1]\n",
    "\n",
    "    x.pop(n)\n",
    "\n",
    "    ' '.join(x)"
   ]
  },
  {
   "cell_type": "code",
   "execution_count": 35,
   "metadata": {},
   "outputs": [],
   "source": [
    "# ???\n",
    "#merge_not(tweet)"
   ]
  },
  {
   "cell_type": "code",
   "execution_count": 36,
   "metadata": {},
   "outputs": [],
   "source": [
    "def not_extract(i):\n",
    "    not_word_list = []\n",
    "    for i in x:\n",
    "        if(i.startswith(K) or i.startswith(K.lower()) or i.startswith(K.upper())):not_word_list.append(i)\n",
    " \n",
    "# printing result\n",
    "\n",
    "    print(\"The filtered elements : \" + str(not_word_list))"
   ]
  },
  {
   "cell_type": "code",
   "execution_count": 37,
   "metadata": {},
   "outputs": [
    {
     "data": {
      "text/plain": [
       "array(['Negative emotion', 'Positive emotion',\n",
       "       'No emotion toward brand or product', \"I can't tell\"], dtype=object)"
      ]
     },
     "execution_count": 37,
     "metadata": {},
     "output_type": "execute_result"
    }
   ],
   "source": [
    "# Checking the possible values in the sentiment column\n",
    "ta_df['sentiment'].unique()"
   ]
  },
  {
   "cell_type": "code",
   "execution_count": 69,
   "metadata": {},
   "outputs": [
    {
     "data": {
      "text/plain": [
       "No emotion toward brand or product    5341\n",
       "Positive emotion                      2961\n",
       "Negative emotion                       568\n",
       "I can't tell                           156\n",
       "Name: sentiment, dtype: int64"
      ]
     },
     "execution_count": 69,
     "metadata": {},
     "output_type": "execute_result"
    }
   ],
   "source": [
    "ta_df['sentiment'].value_counts()"
   ]
  },
  {
   "cell_type": "code",
   "execution_count": 70,
   "metadata": {},
   "outputs": [],
   "source": [
    "ta_df['sentiment'].replace({\"Positive emotion\":\"Postive\",\n",
    "                         \"Negative emotion\":\"Negative\", \n",
    "                         \"No emotion toward brand or product\":\"Neutural\",\n",
    "                         \"I can't tell\":\"Neutural\"}, inplace=True)"
   ]
  },
  {
   "cell_type": "code",
   "execution_count": 73,
   "metadata": {},
   "outputs": [
    {
     "data": {
      "text/plain": [
       "Neutural    60.901839\n",
       "Postive     32.805229\n",
       "Negative     6.292932\n",
       "Name: sentiment, dtype: float64"
      ]
     },
     "execution_count": 73,
     "metadata": {},
     "output_type": "execute_result"
    }
   ],
   "source": [
    "ta_df['sentiment'].value_counts(normalize=True)*100"
   ]
  },
  {
   "cell_type": "code",
   "execution_count": null,
   "metadata": {},
   "outputs": [],
   "source": []
  },
  {
   "cell_type": "code",
   "execution_count": 39,
   "metadata": {},
   "outputs": [],
   "source": [
    "# ta_df['sentiment'].fillna('Undefined',inplace=True)"
   ]
  },
  {
   "cell_type": "code",
   "execution_count": 74,
   "metadata": {},
   "outputs": [
    {
     "data": {
      "text/plain": [
       "<AxesSubplot:>"
      ]
     },
     "execution_count": 74,
     "metadata": {},
     "output_type": "execute_result"
    },
    {
     "data": {
      "image/png": "[encoded data removed]",
      "text/plain": [
       "<Figure size 800x550 with 1 Axes>"
      ]
     },
     "metadata": {},
     "output_type": "display_data"
    }
   ],
   "source": [
    "ta_df[\"sentiment\"].hist(facecolor='g',alpha=0.5) # Examine the data and check if the data unbalanced \n",
    "\n",
    "#plt.bar(TA[\"Sentiment\"],color=['red','beige','lightpink','black'], height=5000000)"
   ]
  },
  {
   "cell_type": "code",
   "execution_count": 75,
   "metadata": {},
   "outputs": [
    {
     "data": {
      "text/plain": [
       "Neutural    5497\n",
       "Postive     2961\n",
       "Negative     568\n",
       "Name: sentiment, dtype: int64"
      ]
     },
     "execution_count": 75,
     "metadata": {},
     "output_type": "execute_result"
    }
   ],
   "source": [
    "ta_df['sentiment'].value_counts()"
   ]
  },
  {
   "cell_type": "markdown",
   "metadata": {},
   "source": [
    "????### Should I look into th tweets and gather what sentiment they are."
   ]
  },
  {
   "cell_type": "markdown",
   "metadata": {},
   "source": [
    "### Text Pre-Processing  \n",
    "\n",
    "Next, let's try tokenizing our dataset. I order to save ourselves some time, we'll write a function to clean our dataset and then use Python's built-in map() function to clean every article in the dataset at the same time.\n",
    "\n",
    "\n",
    "Take in one parameter, the article\n",
    "Tokenize the article using the appropriate function from nltk\n",
    "Lowercase every token, remove any stopwords found in stopwords_list from the tokenized article and return the results."
   ]
  },
  {
   "cell_type": "code",
   "execution_count": 42,
   "metadata": {},
   "outputs": [],
   "source": [
    "# stopwords_list = stopwords.words('english') + list(string.punctuation)\n",
    "# stopwords_list += [\"''\", '\"\"', '...', '``']\n",
    "\n",
    "# def process_article(article):\n",
    "#     tokens = nltk.word_tokenize(article)\n",
    "#     stopwords_removed = [token.lower() for token in tokens if token.lower() not in stopwords_list]\n",
    "#     return stopwords_removed    \n",
    "\n",
    "# ##### Unique Words\n",
    "\n",
    "# total_vocab = set()\n",
    "# for comment in processed_data:\n",
    "#     total_vocab.update(comment)\n",
    "# len(total_vocab)\n",
    "\n",
    "\n",
    "# articles_concat = []\n",
    "# for article in processed_data:\n",
    "#     articles_concat += article\n",
    "    \n",
    "# articles_freqdist = FreqDist(articles_concat)\n",
    "# articles_freqdist.most_common(200)\n"
   ]
  },
  {
   "cell_type": "markdown",
   "metadata": {},
   "source": [
    "#### Hashtags\n",
    "We extracted the hashtags into a new column from the tweets so that we can analyze them closer later on."
   ]
  },
  {
   "cell_type": "code",
   "execution_count": 107,
   "metadata": {},
   "outputs": [],
   "source": [
    "def extract(tweet,key):\n",
    "    #This function extracts hashtags from the tweets.\n",
    "    return re.findall(f'({key}[A-Za-z]+[A-Za-z0-9-_]+)', tweet)"
   ]
  },
  {
   "cell_type": "code",
   "execution_count": 106,
   "metadata": {},
   "outputs": [],
   "source": [
    "#  lambda (tweet,key): re.findall(f'({key}[A-Za-z]+[A-Za-z0-9-_]+)', tweet)"
   ]
  },
  {
   "cell_type": "code",
   "execution_count": null,
   "metadata": {},
   "outputs": [],
   "source": []
  },
  {
   "cell_type": "code",
   "execution_count": 113,
   "metadata": {},
   "outputs": [],
   "source": [
    "ta_df['hashtags'] = ta_df['tweet'].apply(lambda x: extract(x,'#'))\n",
    "ta_df['UserName'] = ta_df['tweet'].apply(lambda x: extract(x,'@'))"
   ]
  },
  {
   "cell_type": "code",
   "execution_count": 114,
   "metadata": {},
   "outputs": [
    {
     "data": {
      "text/html": [
       "<div>\n",
       "<style scoped>\n",
       "    .dataframe tbody tr th:only-of-type {\n",
       "        vertical-align: middle;\n",
       "    }\n",
       "\n",
       "    .dataframe tbody tr th {\n",
       "        vertical-align: top;\n",
       "    }\n",
       "\n",
       "    .dataframe thead th {\n",
       "        text-align: right;\n",
       "    }\n",
       "</style>\n",
       "<table border=\"1\" class=\"dataframe\">\n",
       "  <thead>\n",
       "    <tr style=\"text-align: right;\">\n",
       "      <th></th>\n",
       "      <th>tweet</th>\n",
       "      <th>product</th>\n",
       "      <th>sentiment</th>\n",
       "      <th>hashtags</th>\n",
       "      <th>UserName</th>\n",
       "    </tr>\n",
       "  </thead>\n",
       "  <tbody>\n",
       "    <tr>\n",
       "      <th>0</th>\n",
       "      <td>.@wesley83 I have a 3G iPhone. After 3 hrs twe...</td>\n",
       "      <td>iPhone</td>\n",
       "      <td>Negative</td>\n",
       "      <td>[#RISE_Austin, #SXSW]</td>\n",
       "      <td>[@wesley83]</td>\n",
       "    </tr>\n",
       "    <tr>\n",
       "      <th>1</th>\n",
       "      <td>@jessedee Know about @fludapp ? Awesome iPad/i...</td>\n",
       "      <td>iPad</td>\n",
       "      <td>Postive</td>\n",
       "      <td>[#SXSW]</td>\n",
       "      <td>[@jessedee, @fludapp]</td>\n",
       "    </tr>\n",
       "    <tr>\n",
       "      <th>2</th>\n",
       "      <td>@swonderlin Can not wait for #iPad 2 also. The...</td>\n",
       "      <td>iPad</td>\n",
       "      <td>Postive</td>\n",
       "      <td>[#iPad, #SXSW]</td>\n",
       "      <td>[@swonderlin]</td>\n",
       "    </tr>\n",
       "    <tr>\n",
       "      <th>3</th>\n",
       "      <td>@sxsw I hope this year's festival isn't as cra...</td>\n",
       "      <td>sxsw</td>\n",
       "      <td>Negative</td>\n",
       "      <td>[#sxsw]</td>\n",
       "      <td>[@sxsw]</td>\n",
       "    </tr>\n",
       "    <tr>\n",
       "      <th>4</th>\n",
       "      <td>@sxtxstate great stuff on Fri #SXSW: Marissa M...</td>\n",
       "      <td>SXSW</td>\n",
       "      <td>Postive</td>\n",
       "      <td>[#SXSW]</td>\n",
       "      <td>[@sxtxstate]</td>\n",
       "    </tr>\n",
       "  </tbody>\n",
       "</table>\n",
       "</div>"
      ],
      "text/plain": [
       "                                               tweet product sentiment  \\\n",
       "0  .@wesley83 I have a 3G iPhone. After 3 hrs twe...  iPhone  Negative   \n",
       "1  @jessedee Know about @fludapp ? Awesome iPad/i...    iPad   Postive   \n",
       "2  @swonderlin Can not wait for #iPad 2 also. The...    iPad   Postive   \n",
       "3  @sxsw I hope this year's festival isn't as cra...    sxsw  Negative   \n",
       "4  @sxtxstate great stuff on Fri #SXSW: Marissa M...    SXSW   Postive   \n",
       "\n",
       "                hashtags               UserName  \n",
       "0  [#RISE_Austin, #SXSW]            [@wesley83]  \n",
       "1                [#SXSW]  [@jessedee, @fludapp]  \n",
       "2         [#iPad, #SXSW]          [@swonderlin]  \n",
       "3                [#sxsw]                [@sxsw]  \n",
       "4                [#SXSW]           [@sxtxstate]  "
      ]
     },
     "execution_count": 114,
     "metadata": {},
     "output_type": "execute_result"
    }
   ],
   "source": [
    "ta_df.head()"
   ]
  },
  {
   "cell_type": "code",
   "execution_count": 81,
   "metadata": {},
   "outputs": [
    {
     "data": {
      "text/plain": [
       "'@swonderlin Can not wait for #iPad 2 also. They should sale them down at #SXSW.'"
      ]
     },
     "execution_count": 81,
     "metadata": {},
     "output_type": "execute_result"
    }
   ],
   "source": [
    "ta_df['tweet'][2]"
   ]
  },
  {
   "cell_type": "code",
   "execution_count": null,
   "metadata": {},
   "outputs": [],
   "source": [
    "'I have a 3G iPhone. After 3 hrs tweeting at #RISE_Austin, \n",
    "it was dead!Ê I need to upgrade. Plugin stations at #SXSW.'"
   ]
  },
  {
   "cell_type": "code",
   "execution_count": null,
   "metadata": {},
   "outputs": [],
   "source": [
    "\"can not\""
   ]
  },
  {
   "cell_type": "code",
   "execution_count": 89,
   "metadata": {},
   "outputs": [],
   "source": [
    "def get_count(x):\n",
    "    x = x.lower()\n",
    "    return x.count(\"can not\")\n",
    "\n",
    "\n",
    "# def check_not(x):\n",
    "#     temp = x.split()\n",
    "#     for i,word in enumerate(temp):\n",
    "#         if word.lower() == 'can':\n",
    "#             if temp[i+1].lower() == 'not':\n",
    "#                 return 1\n",
    "            \n",
    "    "
   ]
  },
  {
   "cell_type": "code",
   "execution_count": 93,
   "metadata": {},
   "outputs": [],
   "source": [
    "from tqdm.notebook import tqdm\n",
    "tqdm.pandas()"
   ]
  },
  {
   "cell_type": "code",
   "execution_count": 97,
   "metadata": {},
   "outputs": [],
   "source": [
    "# sum(list(ta_df['tweet'].progress_apply(lambda x:get_count(x))))"
   ]
  },
  {
   "cell_type": "code",
   "execution_count": 88,
   "metadata": {},
   "outputs": [
    {
     "name": "stdout",
     "output_type": "stream",
     "text": [
      "0 A\n",
      "1 B\n",
      "2 C\n"
     ]
    }
   ],
   "source": [
    "for i,word in enumerate(['can','not','Can']):\n",
    "    print(i,word)"
   ]
  },
  {
   "cell_type": "code",
   "execution_count": null,
   "metadata": {},
   "outputs": [],
   "source": []
  },
  {
   "cell_type": "code",
   "execution_count": null,
   "metadata": {},
   "outputs": [],
   "source": []
  },
  {
   "cell_type": "code",
   "execution_count": null,
   "metadata": {},
   "outputs": [],
   "source": []
  },
  {
   "cell_type": "code",
   "execution_count": null,
   "metadata": {},
   "outputs": [],
   "source": []
  },
  {
   "cell_type": "markdown",
   "metadata": {},
   "source": [
    "#### Preprocess Text\n",
    "\n",
    "We will use text processing to allow the data to be more digestible for model use later in this project. This is an integral step in Natural Language Processing (NLP). \n",
    "\n",
    "\n",
    "The Preprocessing steps taken are:\n",
    "\n",
    "\n",
    "* Removing Stopwords: Stopwords are common words used in the English language and do not add meaning to the sentences. Therefore we can remove them without sacrificing the meaning of the sentence. \n",
    "\n",
    "* Removing Words  with 2 letters: Words with length less than 2 are removed.\n",
    "\n",
    "* Converting to lower case letters: Each text will be transferred to a lower case letter.\n",
    "\n",
    "* Replacing http with space: Links starting with \"http\" or \"https\" or \"www\" are replaced by \" \n",
    "\".\n",
    "\n",
    "* Lemmetizing "
   ]
  },
  {
   "cell_type": "code",
   "execution_count": 45,
   "metadata": {},
   "outputs": [],
   "source": [
    "#Limited stop words\n",
    "#stopwordlist_limited = ['rt','a', 'about', 'after', 'again',  'all', 'am', 'an', 'and',  'are',  'as', 'at', 'be', 'because', 'been', 'before', 'being', 'below', 'between', 'both', 'but', 'by', 'can',  'd', 'did', 'do', 'does', 'doing', 'don', \"don't\", 'down', 'during', 'each', 'few', 'for', 'from', 'further', 'had', 'hadn','has', 'hasn', \"hasn't\", 'have', 'having', 'he', 'her', 'here', 'hers', 'herself', 'him', 'himself', 'his', 'how', 'i', 'if', 'in', 'into', 'is',  'it', \"it's\", 'its', 'itself', 'just', 'll', 'm', 'ma', 'me', 'mightn',  'more', 'most', 'mustn', \"mustn't\", 'my', 'myself', 'no', 'nor',  'now', 'o', 'of',  'on', 'once', 'only', 'or', 'ours', 'ourselves', 'out',  'own', 're', 's', 'same', 'shan', \"shan't\", 'she', \"she's\", \"should've\", 'so', 'some', 'such', 't', 'than', 'that', \"that'll\", 'the', 'their', 'theirs', 'them', 'themselves', 'then', 'there', 'these', 'they', 'this', 'those', 'through', 'to', 'too', 'under', 'until', 'up', 've', 'very', 'was', \"wasn't\", 'we', 'were',  'what', 'when', 'where', 'which', 'while', 'who', 'whom', 'will', 'with',  'y', 'you', \"you'd\", \"you'll\", \"you're\", \"you've\", 'your', 'yours', 'yourself', 'yourselves']                             "
   ]
  },
  {
   "cell_type": "code",
   "execution_count": 46,
   "metadata": {},
   "outputs": [
    {
     "data": {
      "text/plain": [
       "{'a',\n",
       " 'about',\n",
       " 'above',\n",
       " 'after',\n",
       " 'again',\n",
       " 'against',\n",
       " 'ain',\n",
       " 'all',\n",
       " 'am',\n",
       " 'an',\n",
       " 'and',\n",
       " 'any',\n",
       " 'are',\n",
       " 'aren',\n",
       " \"aren't\",\n",
       " 'as',\n",
       " 'at',\n",
       " 'be',\n",
       " 'because',\n",
       " 'been',\n",
       " 'before',\n",
       " 'being',\n",
       " 'below',\n",
       " 'between',\n",
       " 'both',\n",
       " 'but',\n",
       " 'by',\n",
       " 'can',\n",
       " 'couldn',\n",
       " \"couldn't\",\n",
       " 'd',\n",
       " 'did',\n",
       " 'didn',\n",
       " \"didn't\",\n",
       " 'do',\n",
       " 'does',\n",
       " 'doesn',\n",
       " \"doesn't\",\n",
       " 'doing',\n",
       " 'don',\n",
       " \"don't\",\n",
       " 'down',\n",
       " 'during',\n",
       " 'each',\n",
       " 'few',\n",
       " 'for',\n",
       " 'from',\n",
       " 'further',\n",
       " 'had',\n",
       " 'hadn',\n",
       " \"hadn't\",\n",
       " 'has',\n",
       " 'hasn',\n",
       " \"hasn't\",\n",
       " 'have',\n",
       " 'haven',\n",
       " \"haven't\",\n",
       " 'having',\n",
       " 'he',\n",
       " 'her',\n",
       " 'here',\n",
       " 'hers',\n",
       " 'herself',\n",
       " 'him',\n",
       " 'himself',\n",
       " 'his',\n",
       " 'how',\n",
       " 'i',\n",
       " 'if',\n",
       " 'in',\n",
       " 'into',\n",
       " 'is',\n",
       " 'isn',\n",
       " \"isn't\",\n",
       " 'it',\n",
       " \"it's\",\n",
       " 'its',\n",
       " 'itself',\n",
       " 'just',\n",
       " 'll',\n",
       " 'm',\n",
       " 'ma',\n",
       " 'me',\n",
       " 'mightn',\n",
       " \"mightn't\",\n",
       " 'more',\n",
       " 'most',\n",
       " 'mustn',\n",
       " \"mustn't\",\n",
       " 'my',\n",
       " 'myself',\n",
       " 'needn',\n",
       " \"needn't\",\n",
       " 'no',\n",
       " 'nor',\n",
       " 'not',\n",
       " 'now',\n",
       " 'o',\n",
       " 'of',\n",
       " 'off',\n",
       " 'on',\n",
       " 'once',\n",
       " 'only',\n",
       " 'or',\n",
       " 'other',\n",
       " 'our',\n",
       " 'ours',\n",
       " 'ourselves',\n",
       " 'out',\n",
       " 'over',\n",
       " 'own',\n",
       " 're',\n",
       " 's',\n",
       " 'same',\n",
       " 'shan',\n",
       " \"shan't\",\n",
       " 'she',\n",
       " \"she's\",\n",
       " 'should',\n",
       " \"should've\",\n",
       " 'shouldn',\n",
       " \"shouldn't\",\n",
       " 'so',\n",
       " 'some',\n",
       " 'such',\n",
       " 't',\n",
       " 'than',\n",
       " 'that',\n",
       " \"that'll\",\n",
       " 'the',\n",
       " 'their',\n",
       " 'theirs',\n",
       " 'them',\n",
       " 'themselves',\n",
       " 'then',\n",
       " 'there',\n",
       " 'these',\n",
       " 'they',\n",
       " 'this',\n",
       " 'those',\n",
       " 'through',\n",
       " 'to',\n",
       " 'too',\n",
       " 'under',\n",
       " 'until',\n",
       " 'up',\n",
       " 've',\n",
       " 'very',\n",
       " 'was',\n",
       " 'wasn',\n",
       " \"wasn't\",\n",
       " 'we',\n",
       " 'were',\n",
       " 'weren',\n",
       " \"weren't\",\n",
       " 'what',\n",
       " 'when',\n",
       " 'where',\n",
       " 'which',\n",
       " 'while',\n",
       " 'who',\n",
       " 'whom',\n",
       " 'why',\n",
       " 'will',\n",
       " 'with',\n",
       " 'won',\n",
       " \"won't\",\n",
       " 'wouldn',\n",
       " \"wouldn't\",\n",
       " 'y',\n",
       " 'you',\n",
       " \"you'd\",\n",
       " \"you'll\",\n",
       " \"you're\",\n",
       " \"you've\",\n",
       " 'your',\n",
       " 'yours',\n",
       " 'yourself',\n",
       " 'yourselves'}"
      ]
     },
     "execution_count": 46,
     "metadata": {},
     "output_type": "execute_result"
    }
   ],
   "source": [
    "stopwords = set().union(stopwords.words('english'))\n",
    "stopwords"
   ]
  },
  {
   "cell_type": "code",
   "execution_count": 123,
   "metadata": {},
   "outputs": [],
   "source": [
    "ta_df['clean_tweets'] = ta_df['tweet']"
   ]
  },
  {
   "cell_type": "code",
   "execution_count": 124,
   "metadata": {},
   "outputs": [],
   "source": [
    "clean_tweets= ta_df['clean_tweets']"
   ]
  },
  {
   "cell_type": "code",
   "execution_count": 127,
   "metadata": {},
   "outputs": [],
   "source": [
    "def text_process(tweets):\n",
    "    \n",
    "    clean_text = [] \n",
    "        \n",
    "    for tweet in tweets:\n",
    "        # Convert to lower case.\n",
    "        tweet= tweet.lower()\n",
    "    \n",
    "        # Remove user_name @\n",
    "        tweet = re.sub('(@[a-z0-9]+)\\w+', '', tweet)\n",
    "    \n",
    "        # Remove url\n",
    "        tweet = re.sub('r\"((http://)[^ ]*|(https://)[^ ]*|( www\\.)[^ ]*)', '', tweet)  \n",
    "    \n",
    "        # Remove all non alphabets\n",
    "        tweet = re.sub('([^0-9a-z \\t])', '', tweet)\n",
    "    \n",
    "        # Remove 3 or more consecutive letters\n",
    "        tweet = re.sub(r'(.)1+', '', tweet)\n",
    "\n",
    "        tweet_words = ''\n",
    "    \n",
    "        for word in tweet.split():\n",
    "            \n",
    "            #if word not in stopwordlist then lemmatize the word:\n",
    "            \n",
    "            if len(word)>1:\n",
    "        \n",
    "                word = WordNetLemmatizer().lemmatize(word)\n",
    "                tweet_words += (word+' ')  \n",
    "        \n",
    "        clean_text.append(tweet_words)\n",
    "        \n",
    "    return clean_text\n",
    "    \n",
    "    \n",
    "    \n",
    "#https://www.kaggle.com/code/stoicstatic/twitter-sentiment-analysis-for-beginners"
   ]
  },
  {
   "cell_type": "code",
   "execution_count": null,
   "metadata": {},
   "outputs": [],
   "source": []
  },
  {
   "cell_type": "code",
   "execution_count": 164,
   "metadata": {},
   "outputs": [],
   "source": [
    "def clean_tweet(tweet):\n",
    "    tweet= tweet.lower()\n",
    "    # Remove user_name @\n",
    "    tweet = re.sub('(@[a-z0-9]+)\\w+', '', tweet)\n",
    "    \n",
    "    tweet = re.sub('(#[a-z0-9]+)\\w+', '', tweet)\n",
    "    \n",
    "    # Remove all non alphabets\n",
    "    tweet = re.sub('([^0-9a-z \\t])', '', tweet)\n",
    "    \n",
    "    # it will remove hyperlinks\n",
    "    tweet = re.sub(r'https?:\\/\\/.*[\\r\\n]*', '', tweet)\n",
    "    \n",
    "    tweet = re.sub(r'^rt[\\s]+', '', tweet)\n",
    "    \n",
    "    return tweet"
   ]
  },
  {
   "cell_type": "code",
   "execution_count": 166,
   "metadata": {},
   "outputs": [],
   "source": [
    "ta_df['Clean_Tweet'] = ta_df['tweet'].apply(clean_tweet)"
   ]
  },
  {
   "cell_type": "code",
   "execution_count": 169,
   "metadata": {},
   "outputs": [],
   "source": [
    "# ta_df.drop('clean_tweets',axis=1,inplace=True)"
   ]
  },
  {
   "cell_type": "code",
   "execution_count": 174,
   "metadata": {},
   "outputs": [
    {
     "data": {
      "text/html": [
       "<div>\n",
       "<style scoped>\n",
       "    .dataframe tbody tr th:only-of-type {\n",
       "        vertical-align: middle;\n",
       "    }\n",
       "\n",
       "    .dataframe tbody tr th {\n",
       "        vertical-align: top;\n",
       "    }\n",
       "\n",
       "    .dataframe thead th {\n",
       "        text-align: right;\n",
       "    }\n",
       "</style>\n",
       "<table border=\"1\" class=\"dataframe\">\n",
       "  <thead>\n",
       "    <tr style=\"text-align: right;\">\n",
       "      <th></th>\n",
       "      <th>tweet</th>\n",
       "      <th>product</th>\n",
       "      <th>sentiment</th>\n",
       "      <th>hashtags</th>\n",
       "      <th>UserName</th>\n",
       "      <th>Clean_Tweet</th>\n",
       "    </tr>\n",
       "  </thead>\n",
       "  <tbody>\n",
       "    <tr>\n",
       "      <th>0</th>\n",
       "      <td>.@wesley83 I have a 3G iPhone. After 3 hrs twe...</td>\n",
       "      <td>iPhone</td>\n",
       "      <td>Negative</td>\n",
       "      <td>[#RISE_Austin, #SXSW]</td>\n",
       "      <td>[@wesley83]</td>\n",
       "      <td>i have a 3g iphone after 3 hrs tweeting at  i...</td>\n",
       "    </tr>\n",
       "    <tr>\n",
       "      <th>1</th>\n",
       "      <td>@jessedee Know about @fludapp ? Awesome iPad/i...</td>\n",
       "      <td>iPad</td>\n",
       "      <td>Postive</td>\n",
       "      <td>[#SXSW]</td>\n",
       "      <td>[@jessedee, @fludapp]</td>\n",
       "      <td>know about   awesome ipadiphone app that youl...</td>\n",
       "    </tr>\n",
       "    <tr>\n",
       "      <th>2</th>\n",
       "      <td>@swonderlin Can not wait for #iPad 2 also. The...</td>\n",
       "      <td>iPad</td>\n",
       "      <td>Postive</td>\n",
       "      <td>[#iPad, #SXSW]</td>\n",
       "      <td>[@swonderlin]</td>\n",
       "      <td>can not wait for  2 also they should sale the...</td>\n",
       "    </tr>\n",
       "    <tr>\n",
       "      <th>3</th>\n",
       "      <td>@sxsw I hope this year's festival isn't as cra...</td>\n",
       "      <td>sxsw</td>\n",
       "      <td>Negative</td>\n",
       "      <td>[#sxsw]</td>\n",
       "      <td>[@sxsw]</td>\n",
       "      <td>i hope this years festival isnt as crashy as ...</td>\n",
       "    </tr>\n",
       "    <tr>\n",
       "      <th>4</th>\n",
       "      <td>@sxtxstate great stuff on Fri #SXSW: Marissa M...</td>\n",
       "      <td>SXSW</td>\n",
       "      <td>Postive</td>\n",
       "      <td>[#SXSW]</td>\n",
       "      <td>[@sxtxstate]</td>\n",
       "      <td>great stuff on fri  marissa mayer google tim ...</td>\n",
       "    </tr>\n",
       "    <tr>\n",
       "      <th>...</th>\n",
       "      <td>...</td>\n",
       "      <td>...</td>\n",
       "      <td>...</td>\n",
       "      <td>...</td>\n",
       "      <td>...</td>\n",
       "      <td>...</td>\n",
       "    </tr>\n",
       "    <tr>\n",
       "      <th>9283</th>\n",
       "      <td>Ipad everywhere. #SXSW {link}</td>\n",
       "      <td>Ipad</td>\n",
       "      <td>Postive</td>\n",
       "      <td>[#SXSW]</td>\n",
       "      <td>[]</td>\n",
       "      <td>ipad everywhere  link</td>\n",
       "    </tr>\n",
       "    <tr>\n",
       "      <th>9284</th>\n",
       "      <td>Wave, buzz... RT @mention We interrupt your re...</td>\n",
       "      <td>sxsw</td>\n",
       "      <td>Neutural</td>\n",
       "      <td>[#sxsw, #google, #circles]</td>\n",
       "      <td>[@mention]</td>\n",
       "      <td>wave buzz rt  we interrupt your regularly sche...</td>\n",
       "    </tr>\n",
       "    <tr>\n",
       "      <th>9285</th>\n",
       "      <td>Google's Zeiger, a physician never reported po...</td>\n",
       "      <td>Google</td>\n",
       "      <td>Neutural</td>\n",
       "      <td>[#sxsw, #health2dev]</td>\n",
       "      <td>[]</td>\n",
       "      <td>googles zeiger a physician never reported pote...</td>\n",
       "    </tr>\n",
       "    <tr>\n",
       "      <th>9286</th>\n",
       "      <td>Some Verizon iPhone customers complained their...</td>\n",
       "      <td>iPhone</td>\n",
       "      <td>Neutural</td>\n",
       "      <td>[#SXSW]</td>\n",
       "      <td>[]</td>\n",
       "      <td>some verizon iphone customers complained their...</td>\n",
       "    </tr>\n",
       "    <tr>\n",
       "      <th>9287</th>\n",
       "      <td>_________Ü__Ü__Ü__Ü__Ü__Ü__Ü__Ü__Ü__Ü__Ü__RT @...</td>\n",
       "      <td>Google</td>\n",
       "      <td>Neutural</td>\n",
       "      <td>[#SXSW]</td>\n",
       "      <td>[@mention]</td>\n",
       "      <td>google tests checkin offers at  link</td>\n",
       "    </tr>\n",
       "  </tbody>\n",
       "</table>\n",
       "<p>9026 rows × 6 columns</p>\n",
       "</div>"
      ],
      "text/plain": [
       "                                                  tweet product sentiment  \\\n",
       "0     .@wesley83 I have a 3G iPhone. After 3 hrs twe...  iPhone  Negative   \n",
       "1     @jessedee Know about @fludapp ? Awesome iPad/i...    iPad   Postive   \n",
       "2     @swonderlin Can not wait for #iPad 2 also. The...    iPad   Postive   \n",
       "3     @sxsw I hope this year's festival isn't as cra...    sxsw  Negative   \n",
       "4     @sxtxstate great stuff on Fri #SXSW: Marissa M...    SXSW   Postive   \n",
       "...                                                 ...     ...       ...   \n",
       "9283                      Ipad everywhere. #SXSW {link}    Ipad   Postive   \n",
       "9284  Wave, buzz... RT @mention We interrupt your re...    sxsw  Neutural   \n",
       "9285  Google's Zeiger, a physician never reported po...  Google  Neutural   \n",
       "9286  Some Verizon iPhone customers complained their...  iPhone  Neutural   \n",
       "9287  _________Ü__Ü__Ü__Ü__Ü__Ü__Ü__Ü__Ü__Ü__Ü__RT @...  Google  Neutural   \n",
       "\n",
       "                        hashtags               UserName  \\\n",
       "0          [#RISE_Austin, #SXSW]            [@wesley83]   \n",
       "1                        [#SXSW]  [@jessedee, @fludapp]   \n",
       "2                 [#iPad, #SXSW]          [@swonderlin]   \n",
       "3                        [#sxsw]                [@sxsw]   \n",
       "4                        [#SXSW]           [@sxtxstate]   \n",
       "...                          ...                    ...   \n",
       "9283                     [#SXSW]                     []   \n",
       "9284  [#sxsw, #google, #circles]             [@mention]   \n",
       "9285        [#sxsw, #health2dev]                     []   \n",
       "9286                     [#SXSW]                     []   \n",
       "9287                     [#SXSW]             [@mention]   \n",
       "\n",
       "                                            Clean_Tweet  \n",
       "0      i have a 3g iphone after 3 hrs tweeting at  i...  \n",
       "1      know about   awesome ipadiphone app that youl...  \n",
       "2      can not wait for  2 also they should sale the...  \n",
       "3      i hope this years festival isnt as crashy as ...  \n",
       "4      great stuff on fri  marissa mayer google tim ...  \n",
       "...                                                 ...  \n",
       "9283                              ipad everywhere  link  \n",
       "9284  wave buzz rt  we interrupt your regularly sche...  \n",
       "9285  googles zeiger a physician never reported pote...  \n",
       "9286  some verizon iphone customers complained their...  \n",
       "9287               google tests checkin offers at  link  \n",
       "\n",
       "[9026 rows x 6 columns]"
      ]
     },
     "execution_count": 174,
     "metadata": {},
     "output_type": "execute_result"
    }
   ],
   "source": [
    "ta_df"
   ]
  },
  {
   "cell_type": "markdown",
   "metadata": {},
   "source": [
    "# Remove STOP Words"
   ]
  },
  {
   "cell_type": "code",
   "execution_count": 176,
   "metadata": {},
   "outputs": [],
   "source": [
    "from nltk.corpus import stopwords "
   ]
  },
  {
   "cell_type": "code",
   "execution_count": 177,
   "metadata": {},
   "outputs": [],
   "source": [
    "stopwords_english = stopwords.words('english') "
   ]
  },
  {
   "cell_type": "code",
   "execution_count": 180,
   "metadata": {},
   "outputs": [],
   "source": [
    "stopwords_english.remove('not')"
   ]
  },
  {
   "cell_type": "code",
   "execution_count": 181,
   "metadata": {},
   "outputs": [
    {
     "data": {
      "text/plain": [
       "False"
      ]
     },
     "execution_count": 181,
     "metadata": {},
     "output_type": "execute_result"
    }
   ],
   "source": [
    "'not' in stopwords_english"
   ]
  },
  {
   "cell_type": "code",
   "execution_count": 199,
   "metadata": {},
   "outputs": [],
   "source": [
    "from nltk.stem import PorterStemmer"
   ]
  },
  {
   "cell_type": "code",
   "execution_count": 185,
   "metadata": {},
   "outputs": [],
   "source": [
    "ps = PorterStemmer()"
   ]
  },
  {
   "cell_type": "code",
   "execution_count": 206,
   "metadata": {},
   "outputs": [
    {
     "data": {
      "text/plain": [
       "'tweet'"
      ]
     },
     "execution_count": 206,
     "metadata": {},
     "output_type": "execute_result"
    }
   ],
   "source": [
    "ps.stem('tweeting')"
   ]
  },
  {
   "cell_type": "code",
   "execution_count": null,
   "metadata": {},
   "outputs": [],
   "source": [
    "'tweeting'"
   ]
  },
  {
   "cell_type": "code",
   "execution_count": 211,
   "metadata": {},
   "outputs": [
    {
     "data": {
      "text/plain": [
       "' i have a 3g iphone after 3 hrs tweeting at  it was dead i need to upgrade plugin stations at '"
      ]
     },
     "execution_count": 211,
     "metadata": {},
     "output_type": "execute_result"
    }
   ],
   "source": [
    "c"
   ]
  },
  {
   "cell_type": "code",
   "execution_count": 215,
   "metadata": {},
   "outputs": [],
   "source": [
    "# ' '.join([ps.stem(i) for i in c.split() if i not in stopwords_english])"
   ]
  },
  {
   "cell_type": "code",
   "execution_count": 195,
   "metadata": {},
   "outputs": [],
   "source": [
    "c = ta_df['Clean_Tweet'].iloc[0]"
   ]
  },
  {
   "cell_type": "code",
   "execution_count": 240,
   "metadata": {},
   "outputs": [],
   "source": [
    "def stop_stem_token_tweet(x):\n",
    "    temp = x.split() #1 tokenization\n",
    "    stemmed = [ps.stem(token) for token in temp if token not in stopwords_english]\n",
    "    return ' '.join(stemmed)"
   ]
  },
  {
   "cell_type": "code",
   "execution_count": 224,
   "metadata": {},
   "outputs": [],
   "source": [
    "ta_df['Clean_Tweet'] = ta_df['Clean_Tweet'].apply(stop_stem_token_tweet)"
   ]
  },
  {
   "cell_type": "code",
   "execution_count": 230,
   "metadata": {},
   "outputs": [],
   "source": [
    "ta_df['product'] = ta_df['product'].apply(str.lower)"
   ]
  },
  {
   "cell_type": "code",
   "execution_count": 236,
   "metadata": {},
   "outputs": [],
   "source": [
    "ta_df = pd.get_dummies(ta_df,columns=['product'])"
   ]
  },
  {
   "cell_type": "code",
   "execution_count": 238,
   "metadata": {},
   "outputs": [
    {
     "data": {
      "text/html": [
       "<div>\n",
       "<style scoped>\n",
       "    .dataframe tbody tr th:only-of-type {\n",
       "        vertical-align: middle;\n",
       "    }\n",
       "\n",
       "    .dataframe tbody tr th {\n",
       "        vertical-align: top;\n",
       "    }\n",
       "\n",
       "    .dataframe thead th {\n",
       "        text-align: right;\n",
       "    }\n",
       "</style>\n",
       "<table border=\"1\" class=\"dataframe\">\n",
       "  <thead>\n",
       "    <tr style=\"text-align: right;\">\n",
       "      <th></th>\n",
       "      <th>tweet</th>\n",
       "      <th>sentiment</th>\n",
       "      <th>hashtags</th>\n",
       "      <th>UserName</th>\n",
       "      <th>Clean_Tweet</th>\n",
       "      <th>product_apple</th>\n",
       "      <th>product_google</th>\n",
       "      <th>product_ipad</th>\n",
       "      <th>product_ipad2</th>\n",
       "      <th>product_iphone</th>\n",
       "      <th>product_sxsw</th>\n",
       "    </tr>\n",
       "  </thead>\n",
       "  <tbody>\n",
       "    <tr>\n",
       "      <th>0</th>\n",
       "      <td>.@wesley83 I have a 3G iPhone. After 3 hrs twe...</td>\n",
       "      <td>Negative</td>\n",
       "      <td>[#RISE_Austin, #SXSW]</td>\n",
       "      <td>[@wesley83]</td>\n",
       "      <td>[3g, iphon, 3, hr, tweet, dead, need, upgrad, ...</td>\n",
       "      <td>0</td>\n",
       "      <td>0</td>\n",
       "      <td>0</td>\n",
       "      <td>0</td>\n",
       "      <td>1</td>\n",
       "      <td>0</td>\n",
       "    </tr>\n",
       "    <tr>\n",
       "      <th>1</th>\n",
       "      <td>@jessedee Know about @fludapp ? Awesome iPad/i...</td>\n",
       "      <td>Postive</td>\n",
       "      <td>[#SXSW]</td>\n",
       "      <td>[@jessedee, @fludapp]</td>\n",
       "      <td>[know, awesom, ipadiphon, app, youll, like, ap...</td>\n",
       "      <td>0</td>\n",
       "      <td>0</td>\n",
       "      <td>1</td>\n",
       "      <td>0</td>\n",
       "      <td>0</td>\n",
       "      <td>0</td>\n",
       "    </tr>\n",
       "    <tr>\n",
       "      <th>2</th>\n",
       "      <td>@swonderlin Can not wait for #iPad 2 also. The...</td>\n",
       "      <td>Postive</td>\n",
       "      <td>[#iPad, #SXSW]</td>\n",
       "      <td>[@swonderlin]</td>\n",
       "      <td>[not, wait, 2, also, sale]</td>\n",
       "      <td>0</td>\n",
       "      <td>0</td>\n",
       "      <td>1</td>\n",
       "      <td>0</td>\n",
       "      <td>0</td>\n",
       "      <td>0</td>\n",
       "    </tr>\n",
       "    <tr>\n",
       "      <th>3</th>\n",
       "      <td>@sxsw I hope this year's festival isn't as cra...</td>\n",
       "      <td>Negative</td>\n",
       "      <td>[#sxsw]</td>\n",
       "      <td>[@sxsw]</td>\n",
       "      <td>[hope, year, festiv, isnt, crashi, year, iphon...</td>\n",
       "      <td>0</td>\n",
       "      <td>0</td>\n",
       "      <td>0</td>\n",
       "      <td>0</td>\n",
       "      <td>0</td>\n",
       "      <td>1</td>\n",
       "    </tr>\n",
       "    <tr>\n",
       "      <th>4</th>\n",
       "      <td>@sxtxstate great stuff on Fri #SXSW: Marissa M...</td>\n",
       "      <td>Postive</td>\n",
       "      <td>[#SXSW]</td>\n",
       "      <td>[@sxtxstate]</td>\n",
       "      <td>[great, stuff, fri, marissa, mayer, googl, tim...</td>\n",
       "      <td>0</td>\n",
       "      <td>0</td>\n",
       "      <td>0</td>\n",
       "      <td>0</td>\n",
       "      <td>0</td>\n",
       "      <td>1</td>\n",
       "    </tr>\n",
       "  </tbody>\n",
       "</table>\n",
       "</div>"
      ],
      "text/plain": [
       "                                               tweet sentiment  \\\n",
       "0  .@wesley83 I have a 3G iPhone. After 3 hrs twe...  Negative   \n",
       "1  @jessedee Know about @fludapp ? Awesome iPad/i...   Postive   \n",
       "2  @swonderlin Can not wait for #iPad 2 also. The...   Postive   \n",
       "3  @sxsw I hope this year's festival isn't as cra...  Negative   \n",
       "4  @sxtxstate great stuff on Fri #SXSW: Marissa M...   Postive   \n",
       "\n",
       "                hashtags               UserName  \\\n",
       "0  [#RISE_Austin, #SXSW]            [@wesley83]   \n",
       "1                [#SXSW]  [@jessedee, @fludapp]   \n",
       "2         [#iPad, #SXSW]          [@swonderlin]   \n",
       "3                [#sxsw]                [@sxsw]   \n",
       "4                [#SXSW]           [@sxtxstate]   \n",
       "\n",
       "                                         Clean_Tweet  product_apple  \\\n",
       "0  [3g, iphon, 3, hr, tweet, dead, need, upgrad, ...              0   \n",
       "1  [know, awesom, ipadiphon, app, youll, like, ap...              0   \n",
       "2                         [not, wait, 2, also, sale]              0   \n",
       "3  [hope, year, festiv, isnt, crashi, year, iphon...              0   \n",
       "4  [great, stuff, fri, marissa, mayer, googl, tim...              0   \n",
       "\n",
       "   product_google  product_ipad  product_ipad2  product_iphone  product_sxsw  \n",
       "0               0             0              0               1             0  \n",
       "1               0             1              0               0             0  \n",
       "2               0             1              0               0             0  \n",
       "3               0             0              0               0             1  \n",
       "4               0             0              0               0             1  "
      ]
     },
     "execution_count": 238,
     "metadata": {},
     "output_type": "execute_result"
    }
   ],
   "source": [
    "ta_df.head()"
   ]
  },
  {
   "cell_type": "markdown",
   "metadata": {},
   "source": [
    "# TF-IDF"
   ]
  },
  {
   "cell_type": "code",
   "execution_count": 239,
   "metadata": {},
   "outputs": [],
   "source": [
    "# complete tf-df\n",
    "# https://scikit-learn.org/stable/modules/generated/sklearn.feature_extraction.text.TfidfVectorizer.html\n",
    "# countvectorizer\n",
    "# plot hashtags, usename"
   ]
  },
  {
   "cell_type": "code",
   "execution_count": 247,
   "metadata": {},
   "outputs": [],
   "source": [
    "from sklearn.feature_extraction.text import TfidfVectorizer,CountVectorizer\n",
    "corpus = [\n",
    "    'This is the first document.',\n",
    "    'This document is the second document.',\n",
    "    'And this is the third one.',\n",
    "    'Is this the first document?',\n",
    "]\n",
    "vectorizer = CountVectorizer() # ,TfidfVectorizer()\n",
    "X = vectorizer.fit_transform(corpus)"
   ]
  },
  {
   "cell_type": "code",
   "execution_count": 248,
   "metadata": {},
   "outputs": [
    {
     "data": {
      "text/html": [
       "<div>\n",
       "<style scoped>\n",
       "    .dataframe tbody tr th:only-of-type {\n",
       "        vertical-align: middle;\n",
       "    }\n",
       "\n",
       "    .dataframe tbody tr th {\n",
       "        vertical-align: top;\n",
       "    }\n",
       "\n",
       "    .dataframe thead th {\n",
       "        text-align: right;\n",
       "    }\n",
       "</style>\n",
       "<table border=\"1\" class=\"dataframe\">\n",
       "  <thead>\n",
       "    <tr style=\"text-align: right;\">\n",
       "      <th></th>\n",
       "      <th>0</th>\n",
       "      <th>1</th>\n",
       "      <th>2</th>\n",
       "      <th>3</th>\n",
       "      <th>4</th>\n",
       "      <th>5</th>\n",
       "      <th>6</th>\n",
       "      <th>7</th>\n",
       "      <th>8</th>\n",
       "    </tr>\n",
       "  </thead>\n",
       "  <tbody>\n",
       "    <tr>\n",
       "      <th>0</th>\n",
       "      <td>0</td>\n",
       "      <td>1</td>\n",
       "      <td>1</td>\n",
       "      <td>1</td>\n",
       "      <td>0</td>\n",
       "      <td>0</td>\n",
       "      <td>1</td>\n",
       "      <td>0</td>\n",
       "      <td>1</td>\n",
       "    </tr>\n",
       "    <tr>\n",
       "      <th>1</th>\n",
       "      <td>0</td>\n",
       "      <td>2</td>\n",
       "      <td>0</td>\n",
       "      <td>1</td>\n",
       "      <td>0</td>\n",
       "      <td>1</td>\n",
       "      <td>1</td>\n",
       "      <td>0</td>\n",
       "      <td>1</td>\n",
       "    </tr>\n",
       "    <tr>\n",
       "      <th>2</th>\n",
       "      <td>1</td>\n",
       "      <td>0</td>\n",
       "      <td>0</td>\n",
       "      <td>1</td>\n",
       "      <td>1</td>\n",
       "      <td>0</td>\n",
       "      <td>1</td>\n",
       "      <td>1</td>\n",
       "      <td>1</td>\n",
       "    </tr>\n",
       "    <tr>\n",
       "      <th>3</th>\n",
       "      <td>0</td>\n",
       "      <td>1</td>\n",
       "      <td>1</td>\n",
       "      <td>1</td>\n",
       "      <td>0</td>\n",
       "      <td>0</td>\n",
       "      <td>1</td>\n",
       "      <td>0</td>\n",
       "      <td>1</td>\n",
       "    </tr>\n",
       "  </tbody>\n",
       "</table>\n",
       "</div>"
      ],
      "text/plain": [
       "   0  1  2  3  4  5  6  7  8\n",
       "0  0  1  1  1  0  0  1  0  1\n",
       "1  0  2  0  1  0  1  1  0  1\n",
       "2  1  0  0  1  1  0  1  1  1\n",
       "3  0  1  1  1  0  0  1  0  1"
      ]
     },
     "execution_count": 248,
     "metadata": {},
     "output_type": "execute_result"
    }
   ],
   "source": [
    "pd.DataFrame(X.toarray())"
   ]
  },
  {
   "cell_type": "code",
   "execution_count": null,
   "metadata": {},
   "outputs": [],
   "source": []
  },
  {
   "cell_type": "code",
   "execution_count": null,
   "metadata": {},
   "outputs": [],
   "source": []
  },
  {
   "cell_type": "code",
   "execution_count": null,
   "metadata": {},
   "outputs": [],
   "source": []
  },
  {
   "cell_type": "code",
   "execution_count": 56,
   "metadata": {},
   "outputs": [],
   "source": [
    "# tweet = tweet.apply(str)"
   ]
  },
  {
   "cell_type": "code",
   "execution_count": 175,
   "metadata": {},
   "outputs": [],
   "source": [
    "# import time\n",
    "# t = time.time()\n",
    "# processed_text = text_process(clean_tweets)\n",
    "# print(f'Text Preprocessing complete.')\n",
    "# print(f'Time Taken: {round(time.time()-t)} seconds')"
   ]
  },
  {
   "cell_type": "code",
   "execution_count": 59,
   "metadata": {},
   "outputs": [],
   "source": [
    "# Remove our Stopwords\n",
    "def remove_stopwordlist_limited(text): #Function to remove the stopwords we chose that we think won't impact the santiment \n",
    "    return [word for word in word_tokenize(text) if not word in stopwordlist_limited] #Returns tweet without stopwords"
   ]
  },
  {
   "cell_type": "code",
   "execution_count": 60,
   "metadata": {},
   "outputs": [],
   "source": [
    "# #Applying function to build new column\n",
    "# ta_df['clean_tweets'] = ta_df['tweet'].apply(lambda x: remove_stopwordlist_limited(x))\n",
    "# ta_df['clean_tweets']"
   ]
  },
  {
   "cell_type": "markdown",
   "metadata": {},
   "source": [
    "We create a new column for the clean Tweets but we will keep the old column as well in case we need it later on. "
   ]
  },
  {
   "cell_type": "code",
   "execution_count": null,
   "metadata": {},
   "outputs": [],
   "source": []
  },
  {
   "cell_type": "markdown",
   "metadata": {},
   "source": []
  },
  {
   "cell_type": "markdown",
   "metadata": {},
   "source": [
    "We remove any short words that are less than 2 letters as they often happen to be meaningless and will not help our model. "
   ]
  },
  {
   "cell_type": "code",
   "execution_count": 61,
   "metadata": {},
   "outputs": [],
   "source": [
    "# Remove short words\n",
    "#ta_df['Clean_Tweets'] = ta_df['Clean_Tweets'].apply(lambda x: ' '.join([w for w in x.split() if len(w)>2]))\n"
   ]
  },
  {
   "cell_type": "markdown",
   "metadata": {},
   "source": [
    "#### Stemming\n",
    "We stem the words to make our text more standardize.\n"
   ]
  },
  {
   "cell_type": "markdown",
   "metadata": {},
   "source": [
    "ps = nltk.PorterStemmer()\n",
    "\n",
    "def stemming(text):\n",
    "    text = [ps.stem(word) for word in text]\n",
    "    return text\n",
    "\n",
    "tokenized_tweets = ta_df['clean_tweets'].apply(lambda x: stemming(x))\n",
    "ta_df.head()"
   ]
  },
  {
   "cell_type": "markdown",
   "metadata": {},
   "source": [
    "#### Tokenize\n",
    "We tokenize the tweets so that we can make a use of our text. "
   ]
  },
  {
   "cell_type": "code",
   "execution_count": 62,
   "metadata": {},
   "outputs": [],
   "source": [
    "#Create a function to tenize the tweets\n",
    "\n",
    "ta_df['tokenize_tweets'] =clean_tweets.apply(word_tokenize)\n",
    "#ta_df['tokenize_tweets'].head()"
   ]
  },
  {
   "cell_type": "code",
   "execution_count": 63,
   "metadata": {},
   "outputs": [
    {
     "data": {
      "text/html": [
       "<div>\n",
       "<style scoped>\n",
       "    .dataframe tbody tr th:only-of-type {\n",
       "        vertical-align: middle;\n",
       "    }\n",
       "\n",
       "    .dataframe tbody tr th {\n",
       "        vertical-align: top;\n",
       "    }\n",
       "\n",
       "    .dataframe thead th {\n",
       "        text-align: right;\n",
       "    }\n",
       "</style>\n",
       "<table border=\"1\" class=\"dataframe\">\n",
       "  <thead>\n",
       "    <tr style=\"text-align: right;\">\n",
       "      <th></th>\n",
       "      <th>tweet</th>\n",
       "      <th>product</th>\n",
       "      <th>sentiment</th>\n",
       "      <th>product_brand</th>\n",
       "      <th>hashtags</th>\n",
       "      <th>clean_tweets</th>\n",
       "      <th>tokenize_tweets</th>\n",
       "    </tr>\n",
       "  </thead>\n",
       "  <tbody>\n",
       "    <tr>\n",
       "      <th>1</th>\n",
       "      <td>.@wesley83 I have a 3G iPhone. After 3 hrs twe...</td>\n",
       "      <td>iPhone</td>\n",
       "      <td>Negative</td>\n",
       "      <td>Apple</td>\n",
       "      <td>[#RISE_Austin, #SXSW]</td>\n",
       "      <td>.@wesley83 I have a 3G iPhone. After 3 hrs twe...</td>\n",
       "      <td>[., @, wesley83, I, have, a, 3G, iPhone, ., Af...</td>\n",
       "    </tr>\n",
       "    <tr>\n",
       "      <th>2</th>\n",
       "      <td>@jessedee Know about @fludapp ? Awesome iPad/i...</td>\n",
       "      <td>iPad</td>\n",
       "      <td>Postive</td>\n",
       "      <td>Apple</td>\n",
       "      <td>[#SXSW]</td>\n",
       "      <td>@jessedee Know about @fludapp ? Awesome iPad/i...</td>\n",
       "      <td>[@, jessedee, Know, about, @, fludapp, ?, Awes...</td>\n",
       "    </tr>\n",
       "    <tr>\n",
       "      <th>3</th>\n",
       "      <td>@swonderlin Can not wait for #iPad 2 also. The...</td>\n",
       "      <td>iPad</td>\n",
       "      <td>Postive</td>\n",
       "      <td>Apple</td>\n",
       "      <td>[#iPad, #SXSW]</td>\n",
       "      <td>@swonderlin Can not wait for #iPad 2 also. The...</td>\n",
       "      <td>[@, swonderlin, Can, not, wait, for, #, iPad, ...</td>\n",
       "    </tr>\n",
       "    <tr>\n",
       "      <th>4</th>\n",
       "      <td>@sxsw I hope this year's festival isn't as cra...</td>\n",
       "      <td>sxsw</td>\n",
       "      <td>Negative</td>\n",
       "      <td>Apple</td>\n",
       "      <td>[#sxsw]</td>\n",
       "      <td>@sxsw I hope this year's festival isn't as cra...</td>\n",
       "      <td>[@, sxsw, I, hope, this, year, 's, festival, i...</td>\n",
       "    </tr>\n",
       "    <tr>\n",
       "      <th>5</th>\n",
       "      <td>@sxtxstate great stuff on Fri #SXSW: Marissa M...</td>\n",
       "      <td>SXSW</td>\n",
       "      <td>Postive</td>\n",
       "      <td>Google</td>\n",
       "      <td>[#SXSW]</td>\n",
       "      <td>@sxtxstate great stuff on Fri #SXSW: Marissa M...</td>\n",
       "      <td>[@, sxtxstate, great, stuff, on, Fri, #, SXSW,...</td>\n",
       "    </tr>\n",
       "  </tbody>\n",
       "</table>\n",
       "</div>"
      ],
      "text/plain": [
       "                                               tweet product sentiment  \\\n",
       "1  .@wesley83 I have a 3G iPhone. After 3 hrs twe...  iPhone  Negative   \n",
       "2  @jessedee Know about @fludapp ? Awesome iPad/i...    iPad   Postive   \n",
       "3  @swonderlin Can not wait for #iPad 2 also. The...    iPad   Postive   \n",
       "4  @sxsw I hope this year's festival isn't as cra...    sxsw  Negative   \n",
       "5  @sxtxstate great stuff on Fri #SXSW: Marissa M...    SXSW   Postive   \n",
       "\n",
       "  product_brand               hashtags  \\\n",
       "1         Apple  [#RISE_Austin, #SXSW]   \n",
       "2         Apple                [#SXSW]   \n",
       "3         Apple         [#iPad, #SXSW]   \n",
       "4         Apple                [#sxsw]   \n",
       "5        Google                [#SXSW]   \n",
       "\n",
       "                                        clean_tweets  \\\n",
       "1  .@wesley83 I have a 3G iPhone. After 3 hrs twe...   \n",
       "2  @jessedee Know about @fludapp ? Awesome iPad/i...   \n",
       "3  @swonderlin Can not wait for #iPad 2 also. The...   \n",
       "4  @sxsw I hope this year's festival isn't as cra...   \n",
       "5  @sxtxstate great stuff on Fri #SXSW: Marissa M...   \n",
       "\n",
       "                                     tokenize_tweets  \n",
       "1  [., @, wesley83, I, have, a, 3G, iPhone, ., Af...  \n",
       "2  [@, jessedee, Know, about, @, fludapp, ?, Awes...  \n",
       "3  [@, swonderlin, Can, not, wait, for, #, iPad, ...  \n",
       "4  [@, sxsw, I, hope, this, year, 's, festival, i...  \n",
       "5  [@, sxtxstate, great, stuff, on, Fri, #, SXSW,...  "
      ]
     },
     "execution_count": 63,
     "metadata": {},
     "output_type": "execute_result"
    }
   ],
   "source": [
    "ta_df.head()"
   ]
  },
  {
   "cell_type": "markdown",
   "metadata": {},
   "source": [
    "##  Exploratory Data Analysis (EDA)"
   ]
  },
  {
   "cell_type": "markdown",
   "metadata": {},
   "source": [
    "#### TF IDF Vector\n",
    "\n",
    "TF-IDF is a way to measure statistically the relevant words in the document. It is effectively the product of frequency in which a word appears in a text and inverse document frequency (I.e. whether the word is rare or common in the text.)"
   ]
  },
  {
   "cell_type": "code",
   "execution_count": 64,
   "metadata": {},
   "outputs": [],
   "source": [
    "tweets_concat = []\n",
    "for tweet in ta_df['tokenize_tweets']:\n",
    "   tweets_concat += tweet"
   ]
  },
  {
   "cell_type": "code",
   "execution_count": 65,
   "metadata": {},
   "outputs": [
    {
     "data": {
      "text/plain": [
       "[('#', 5419),\n",
       " ('.', 2360),\n",
       " ('@', 2297),\n",
       " ('mention', 2241),\n",
       " ('sxsw', 1662),\n",
       " ('the', 1616),\n",
       " ('SXSW', 1596),\n",
       " ('to', 1294),\n",
       " (',', 1216),\n",
       " ('!', 1216),\n",
       " ('link', 1186),\n",
       " ('{', 1183),\n",
       " ('}', 1183),\n",
       " ('at', 991),\n",
       " ('iPad', 991),\n",
       " ('RT', 972),\n",
       " ('for', 927),\n",
       " (';', 897),\n",
       " ('&', 856),\n",
       " ('a', 845),\n",
       " ('Apple', 792),\n",
       " ('is', 734),\n",
       " ('I', 720),\n",
       " ('of', 712),\n",
       " (':', 680),\n",
       " ('in', 663),\n",
       " ('Google', 618),\n",
       " ('quot', 594),\n",
       " ('and', 584),\n",
       " ('iPhone', 536),\n",
       " (\"'s\", 530),\n",
       " ('2', 519),\n",
       " ('on', 478),\n",
       " ('?', 417),\n",
       " ('store', 416),\n",
       " ('it', 383),\n",
       " ('an', 372),\n",
       " ('app', 361),\n",
       " ('-', 346),\n",
       " ('my', 332),\n",
       " ('with', 316),\n",
       " ('you', 310),\n",
       " (')', 306),\n",
       " ('up', 303),\n",
       " ('Austin', 274),\n",
       " ('(', 262),\n",
       " ('new', 250),\n",
       " (\"n't\", 232),\n",
       " ('be', 229),\n",
       " ('...', 217),\n",
       " ('that', 216),\n",
       " ('amp', 204),\n",
       " ('apple', 199),\n",
       " ('have', 197),\n",
       " ('this', 194),\n",
       " ('out', 188),\n",
       " ('Ê', 180),\n",
       " ('by', 169),\n",
       " ('from', 168),\n",
       " ('The', 164),\n",
       " ('just', 160),\n",
       " ('are', 156),\n",
       " ('your', 153),\n",
       " ('one', 153),\n",
       " ('not', 151),\n",
       " ('google', 148),\n",
       " ('Android', 143),\n",
       " ('get', 138),\n",
       " ('Store', 138),\n",
       " ('It', 137),\n",
       " ('do', 136),\n",
       " ('they', 134),\n",
       " ('line', 132),\n",
       " ('about', 131),\n",
       " ('like', 131),\n",
       " ('pop-up', 128),\n",
       " (\"'m\", 127),\n",
       " ('all', 125),\n",
       " ('was', 124),\n",
       " ('has', 123),\n",
       " ('time', 121),\n",
       " ('now', 119),\n",
       " ('me', 119),\n",
       " ('so', 118),\n",
       " ('iPad2', 117),\n",
       " ('will', 116),\n",
       " ('Circles', 116),\n",
       " ('New', 116),\n",
       " ('via', 115),\n",
       " ('launch', 112),\n",
       " ('Just', 109),\n",
       " ('party', 108),\n",
       " ('but', 106),\n",
       " ('as', 104),\n",
       " ('no', 104),\n",
       " ('ipad', 96),\n",
       " ('ä__', 95),\n",
       " ('cool', 94),\n",
       " ('day', 94),\n",
       " ('people', 90),\n",
       " ('here', 89),\n",
       " ('can', 88),\n",
       " ('downtown', 85),\n",
       " ('free', 83),\n",
       " ('go', 82),\n",
       " (\"'re\", 79),\n",
       " ('great', 79),\n",
       " ('apps', 79),\n",
       " ('today', 77),\n",
       " ('more', 76),\n",
       " ('their', 75),\n",
       " ('temporary', 75),\n",
       " ('there', 74),\n",
       " ('our', 74),\n",
       " ('w/', 73),\n",
       " ('opening', 73),\n",
       " ('iphone', 72),\n",
       " ('ipad2', 70),\n",
       " ('Social', 69),\n",
       " ('At', 69),\n",
       " ('we', 69),\n",
       " ('what', 68),\n",
       " ('or', 68),\n",
       " ('good', 67),\n",
       " ('got', 67),\n",
       " ('need', 66),\n",
       " ('if', 65),\n",
       " ('going', 65),\n",
       " ('social', 64),\n",
       " ('mobile', 64),\n",
       " ('see', 64),\n",
       " ('because', 64),\n",
       " ('than', 62),\n",
       " ('think', 62),\n",
       " ('Mayer', 61),\n",
       " ('users', 61),\n",
       " ('open', 61),\n",
       " ('maps', 61),\n",
       " ('SxSW', 61),\n",
       " ('sxswi', 58),\n",
       " (\"'\", 58),\n",
       " ('around', 57),\n",
       " ('next', 57),\n",
       " ('popup', 57),\n",
       " ('We', 57),\n",
       " (\"'ll\", 56),\n",
       " ('love', 55),\n",
       " ('how', 55),\n",
       " ('too', 55),\n",
       " ('Network', 55),\n",
       " ('year', 54),\n",
       " ('only', 54),\n",
       " ('awesome', 54),\n",
       " ('want', 54),\n",
       " ('Thanks', 53),\n",
       " ('App', 53),\n",
       " ('technology', 53),\n",
       " ('Major', 52),\n",
       " ('pop', 52),\n",
       " ('Marissa', 51),\n",
       " ('Great', 51),\n",
       " ('My', 51),\n",
       " ('ever', 51),\n",
       " ('Launch', 51),\n",
       " ('design', 50),\n",
       " ('would', 50),\n",
       " ('know', 50),\n",
       " ('us', 50),\n",
       " ('first', 50),\n",
       " ('really', 49),\n",
       " (\"'ve\", 49),\n",
       " ('[', 49),\n",
       " ('heard', 49),\n",
       " ('android', 48),\n",
       " (']', 48),\n",
       " ('This', 48),\n",
       " ('use', 48),\n",
       " ('%', 48),\n",
       " ('Called', 48),\n",
       " ('comes', 47),\n",
       " ('You', 47),\n",
       " ('before', 47),\n",
       " ('*', 47),\n",
       " ('4', 46),\n",
       " ('win', 45),\n",
       " ('--', 45),\n",
       " ('panel', 44),\n",
       " ('wait', 43),\n",
       " ('Maps', 43),\n",
       " ('So', 43),\n",
       " ('set', 43),\n",
       " ('way', 43),\n",
       " ('tech', 42),\n",
       " ('game', 42),\n",
       " ('had', 42),\n",
       " ('Even', 42),\n",
       " ('check', 41),\n",
       " ('case', 41),\n",
       " ('marketing', 41),\n",
       " ('who', 41)]"
      ]
     },
     "execution_count": 65,
     "metadata": {},
     "output_type": "execute_result"
    }
   ],
   "source": [
    "tweets_freqdist = FreqDist(tweets_concat)\n",
    "tweets_freqdist.most_common(200)"
   ]
  },
  {
   "cell_type": "code",
   "execution_count": 66,
   "metadata": {},
   "outputs": [
    {
     "data": {
      "image/png": "[encoded data removed]",
      "text/plain": [
       "<Figure size 432x288 with 1 Axes>"
      ]
     },
     "metadata": {
      "needs_background": "light"
     },
     "output_type": "display_data"
    },
    {
     "data": {
      "text/plain": [
       "<AxesSubplot: title={'center': 'Frequency Distribution of Top 50 tokens'}>"
      ]
     },
     "execution_count": 66,
     "metadata": {},
     "output_type": "execute_result"
    }
   ],
   "source": [
    "vectorizer = CountVectorizer()\n",
    "docs       = vectorizer.fit_transform(tweets_concat)\n",
    "features   = vectorizer.get_feature_names()\n",
    "\n",
    "visualizer = FreqDistVisualizer(features=features, orient='v')\n",
    "visualizer.fit(docs)\n",
    "visualizer.show()"
   ]
  },
  {
   "cell_type": "markdown",
   "metadata": {},
   "source": [
    "The top 10 are The follwoing: \n",
    "    \n",
    "    1.sxsw\n",
    "    2.mention\n",
    "    3.link\n",
    "    4.ipad\n",
    "    4.apple\n",
    "    5.google\n",
    "    6.iphone\n",
    "    7.quot\n",
    "    8.store\n",
    "    9.app\n",
    "    10.new"
   ]
  },
  {
   "cell_type": "markdown",
   "metadata": {},
   "source": [
    "***QUESTION - How can it be helpful for me to know this *** "
   ]
  },
  {
   "cell_type": "code",
   "execution_count": 67,
   "metadata": {},
   "outputs": [],
   "source": [
    "def red_color_func(word, font_size, position, orientation, random_state=None,**kwargs):\n",
    "    return tuple(Reds_9.colors[random.randint(6,8)])  # Function to help us generate wordcloud"
   ]
  },
  {
   "cell_type": "markdown",
   "metadata": {},
   "source": [
    "* What are the most common words used in our data?"
   ]
  },
  {
   "cell_type": "code",
   "execution_count": 68,
   "metadata": {},
   "outputs": [
    {
     "data": {
      "image/png": "[encoded data removed]",
      "text/plain": [
       "<Figure size 720x504 with 1 Axes>"
      ]
     },
     "metadata": {
      "needs_background": "light"
     },
     "output_type": "display_data"
    }
   ],
   "source": [
    "# We visualize our data with a word cloud \n",
    "\n",
    "all_words = ' '.join([text for text in ta_df['clean_tweets']])\n",
    "\n",
    "wordcloud = WordCloud(width=800, height=500, random_state=21, max_font_size=110).generate(all_words)\n",
    "\n",
    "plt.figure(figsize=(10, 7))\n",
    "plt.imshow(wordcloud, interpolation=\"bilinear\")\n",
    "plt.axis('off')\n",
    "plt.show()"
   ]
  },
  {
   "cell_type": "markdown",
   "metadata": {},
   "source": [
    "* What are the most common words in our data for negative and positive tweets?"
   ]
  },
  {
   "cell_type": "markdown",
   "metadata": {},
   "source": [
    "####                                                                       Positive "
   ]
  },
  {
   "cell_type": "code",
   "execution_count": 69,
   "metadata": {},
   "outputs": [
    {
     "data": {
      "text/plain": [
       "1       Negative\n",
       "2        Postive\n",
       "3        Postive\n",
       "4       Negative\n",
       "5        Postive\n",
       "          ...   \n",
       "9273     Postive\n",
       "9275     Postive\n",
       "9276    Negative\n",
       "9281     Postive\n",
       "9284     Postive\n",
       "Name: sentiment, Length: 3273, dtype: object"
      ]
     },
     "execution_count": 69,
     "metadata": {},
     "output_type": "execute_result"
    }
   ],
   "source": [
    "ta_df['sentiment']"
   ]
  },
  {
   "cell_type": "code",
   "execution_count": 70,
   "metadata": {},
   "outputs": [],
   "source": [
    "# Extract all tweets into one long string with each word separate with a \"space\"\n",
    "ta_df['clean_tweets'] = ta_df['clean_tweets'].apply(str)\n",
    "ta_df['sentiment'] = ta_df['sentiment'].apply(str)\n",
    "tweets_long_string = ta_df['sentiment'].tolist()\n",
    "tweets_long_string = \" \".join(tweets_long_string)\n"
   ]
  },
  {
   "cell_type": "code",
   "execution_count": 72,
   "metadata": {},
   "outputs": [],
   "source": [
    "# Choosing sentiments that are positive and combining them\n",
    "\n",
    "# po_sentiments = ta_df[ta_df['sentiment']=='positive'] \n",
    "\n",
    "# pt= \" \".join([sentence for sentence in ta_df['clean_tweets'] =='positive'])\n",
    "\n",
    "# # Choosing sentiments that are negative and combining them\n",
    "\n",
    "# ne_sentiments = ta_df[ta_df['sentiment']=='negative']\n",
    "\n",
    "# nt = \" \".join([sentence for sentence in ta_df['clean_tweets'][ta_df['sentiment']=='negative']])"
   ]
  },
  {
   "cell_type": "markdown",
   "metadata": {},
   "source": [
    "    * QUESTION WHY DOESNT WORK\n",
    "    \n",
    "\n",
    "font_path = \"/Users/nataliaedelson/Desktop/OpenSans-CondBold.ttf\""
   ]
  },
  {
   "cell_type": "code",
   "execution_count": 73,
   "metadata": {},
   "outputs": [],
   "source": [
    "# We build a function to generate word cloud\n",
    "def plot_wordcloud(wordcloud):\n",
    "    plt.figure(figsize=(30,30))\n",
    "    plt.imshow(wordcloud)\n",
    "    plt.axis(\"off\")"
   ]
  },
  {
   "cell_type": "code",
   "execution_count": 74,
   "metadata": {},
   "outputs": [],
   "source": [
    "# Add thumbs up \n"
   ]
  },
  {
   "cell_type": "code",
   "execution_count": 75,
   "metadata": {},
   "outputs": [
    {
     "ename": "FileNotFoundError",
     "evalue": "[Errno 2] No such file or directory: 'td.png'",
     "output_type": "error",
     "traceback": [
      "\u001b[0;31m---------------------------------------------------------------------------\u001b[0m",
      "\u001b[0;31mFileNotFoundError\u001b[0m                         Traceback (most recent call last)",
      "\u001b[0;32m<ipython-input-75-195482974636>\u001b[0m in \u001b[0;36m<module>\u001b[0;34m\u001b[0m\n\u001b[1;32m      1\u001b[0m \u001b[0;31m# Import image to np.array\u001b[0m\u001b[0;34m\u001b[0m\u001b[0;34m\u001b[0m\u001b[0;34m\u001b[0m\u001b[0m\n\u001b[0;32m----> 2\u001b[0;31m \u001b[0mmask\u001b[0m \u001b[0;34m=\u001b[0m \u001b[0mnp\u001b[0m\u001b[0;34m.\u001b[0m\u001b[0marray\u001b[0m\u001b[0;34m(\u001b[0m\u001b[0mImage\u001b[0m\u001b[0;34m.\u001b[0m\u001b[0mopen\u001b[0m\u001b[0;34m(\u001b[0m\u001b[0;34m'td.png'\u001b[0m\u001b[0;34m)\u001b[0m\u001b[0;34m)\u001b[0m\u001b[0;34m\u001b[0m\u001b[0;34m\u001b[0m\u001b[0m\n\u001b[0m\u001b[1;32m      3\u001b[0m \u001b[0;31m# Generate wordcloud\u001b[0m\u001b[0;34m\u001b[0m\u001b[0;34m\u001b[0m\u001b[0;34m\u001b[0m\u001b[0m\n\u001b[1;32m      4\u001b[0m \u001b[0mwordcloud\u001b[0m \u001b[0;34m=\u001b[0m \u001b[0mWordCloud\u001b[0m\u001b[0;34m(\u001b[0m\u001b[0mwidth\u001b[0m \u001b[0;34m=\u001b[0m \u001b[0;36m3000\u001b[0m\u001b[0;34m,\u001b[0m \u001b[0mheight\u001b[0m \u001b[0;34m=\u001b[0m \u001b[0;36m2000\u001b[0m\u001b[0;34m,\u001b[0m \u001b[0mrandom_state\u001b[0m\u001b[0;34m=\u001b[0m\u001b[0;36m1\u001b[0m\u001b[0;34m,\u001b[0m \u001b[0mbackground_color\u001b[0m\u001b[0;34m=\u001b[0m\u001b[0;34m'white'\u001b[0m\u001b[0;34m,\u001b[0m \u001b[0mcolormap\u001b[0m\u001b[0;34m=\u001b[0m\u001b[0;34m'Reds'\u001b[0m\u001b[0;34m,\u001b[0m \u001b[0mcollocations\u001b[0m\u001b[0;34m=\u001b[0m\u001b[0;32mFalse\u001b[0m\u001b[0;34m,\u001b[0m \u001b[0mcontour_color\u001b[0m \u001b[0;34m=\u001b[0m \u001b[0;34m'white'\u001b[0m\u001b[0;34m,\u001b[0m\u001b[0mcontour_width\u001b[0m\u001b[0;34m=\u001b[0m\u001b[0;36m1\u001b[0m\u001b[0;34m,\u001b[0m \u001b[0mmask\u001b[0m\u001b[0;34m=\u001b[0m\u001b[0mmask\u001b[0m\u001b[0;34m)\u001b[0m\u001b[0;34m.\u001b[0m\u001b[0mgenerate\u001b[0m\u001b[0;34m(\u001b[0m\u001b[0mnt\u001b[0m\u001b[0;34m)\u001b[0m\u001b[0;34m\u001b[0m\u001b[0;34m\u001b[0m\u001b[0m\n\u001b[1;32m      5\u001b[0m \u001b[0;31m# Plot\u001b[0m\u001b[0;34m\u001b[0m\u001b[0;34m\u001b[0m\u001b[0;34m\u001b[0m\u001b[0m\n",
      "\u001b[0;32m~/opt/anaconda3/lib/python3.8/site-packages/PIL/Image.py\u001b[0m in \u001b[0;36mopen\u001b[0;34m(fp, mode, formats)\u001b[0m\n\u001b[1;32m   2910\u001b[0m \u001b[0;34m\u001b[0m\u001b[0m\n\u001b[1;32m   2911\u001b[0m     \u001b[0;32mif\u001b[0m \u001b[0mfilename\u001b[0m\u001b[0;34m:\u001b[0m\u001b[0;34m\u001b[0m\u001b[0;34m\u001b[0m\u001b[0m\n\u001b[0;32m-> 2912\u001b[0;31m         \u001b[0mfp\u001b[0m \u001b[0;34m=\u001b[0m \u001b[0mbuiltins\u001b[0m\u001b[0;34m.\u001b[0m\u001b[0mopen\u001b[0m\u001b[0;34m(\u001b[0m\u001b[0mfilename\u001b[0m\u001b[0;34m,\u001b[0m \u001b[0;34m\"rb\"\u001b[0m\u001b[0;34m)\u001b[0m\u001b[0;34m\u001b[0m\u001b[0;34m\u001b[0m\u001b[0m\n\u001b[0m\u001b[1;32m   2913\u001b[0m         \u001b[0mexclusive_fp\u001b[0m \u001b[0;34m=\u001b[0m \u001b[0;32mTrue\u001b[0m\u001b[0;34m\u001b[0m\u001b[0;34m\u001b[0m\u001b[0m\n\u001b[1;32m   2914\u001b[0m \u001b[0;34m\u001b[0m\u001b[0m\n",
      "\u001b[0;31mFileNotFoundError\u001b[0m: [Errno 2] No such file or directory: 'td.png'"
     ]
    }
   ],
   "source": [
    "# Import image to np.array\n",
    "mask = np.array(Image.open('td.png'))\n",
    "# Generate wordcloud\n",
    "wordcloud = WordCloud(width = 3000, height = 2000, random_state=1, background_color='white', colormap='Reds', collocations=False, contour_color = 'white',contour_width=1, mask=mask).generate(nt)\n",
    "# Plot\n",
    "plot_wordcloud(wordcloud)"
   ]
  },
  {
   "cell_type": "markdown",
   "metadata": {},
   "source": [
    "We would like to see if I can get more color on the word distribution and check what the output will be if we extract adjectives."
   ]
  },
  {
   "cell_type": "code",
   "execution_count": 76,
   "metadata": {},
   "outputs": [],
   "source": [
    "# We build a function to obtain adjectives from tweets\n",
    "def getAdjectives(tweet):\n",
    "    tweet = word_tokenize(tweet)  # convert string to tokens\n",
    "    tweet = [word for (word, tag) in pos_tag(tweet)\n",
    "             if tag == \"JJ\"]  # pos_tag module in NLTK librarybb\n",
    "    return \" \".join(tweet)  # join words with a space in between them"
   ]
  },
  {
   "cell_type": "code",
   "execution_count": 77,
   "metadata": {},
   "outputs": [],
   "source": [
    "# Convert teh column in to strings \n",
    "ta_df['clean_tweets'] = ta_df['clean_tweets'].apply(str)"
   ]
  },
  {
   "cell_type": "code",
   "execution_count": 78,
   "metadata": {},
   "outputs": [],
   "source": [
    "# Apply getAdgectives to our tweets\n",
    "ta_df['tweets_adjectives'] = ta_df['clean_tweets'].apply(getAdjectives)"
   ]
  },
  {
   "cell_type": "code",
   "execution_count": 79,
   "metadata": {},
   "outputs": [
    {
     "data": {
      "text/html": [
       "<div>\n",
       "<style scoped>\n",
       "    .dataframe tbody tr th:only-of-type {\n",
       "        vertical-align: middle;\n",
       "    }\n",
       "\n",
       "    .dataframe tbody tr th {\n",
       "        vertical-align: top;\n",
       "    }\n",
       "\n",
       "    .dataframe thead th {\n",
       "        text-align: right;\n",
       "    }\n",
       "</style>\n",
       "<table border=\"1\" class=\"dataframe\">\n",
       "  <thead>\n",
       "    <tr style=\"text-align: right;\">\n",
       "      <th></th>\n",
       "      <th>tweet</th>\n",
       "      <th>product</th>\n",
       "      <th>sentiment</th>\n",
       "      <th>product_brand</th>\n",
       "      <th>hashtags</th>\n",
       "      <th>clean_tweets</th>\n",
       "      <th>tokenize_tweets</th>\n",
       "      <th>tweets_adjectives</th>\n",
       "    </tr>\n",
       "  </thead>\n",
       "  <tbody>\n",
       "    <tr>\n",
       "      <th>1</th>\n",
       "      <td>.@wesley83 I have a 3G iPhone. After 3 hrs twe...</td>\n",
       "      <td>iPhone</td>\n",
       "      <td>Negative</td>\n",
       "      <td>Apple</td>\n",
       "      <td>[#RISE_Austin, #SXSW]</td>\n",
       "      <td>.@wesley83 I have a 3G iPhone. After 3 hrs twe...</td>\n",
       "      <td>[., @, wesley83, I, have, a, 3G, iPhone, ., Af...</td>\n",
       "      <td>dead</td>\n",
       "    </tr>\n",
       "    <tr>\n",
       "      <th>2</th>\n",
       "      <td>@jessedee Know about @fludapp ? Awesome iPad/i...</td>\n",
       "      <td>iPad</td>\n",
       "      <td>Postive</td>\n",
       "      <td>Apple</td>\n",
       "      <td>[#SXSW]</td>\n",
       "      <td>@jessedee Know about @fludapp ? Awesome iPad/i...</td>\n",
       "      <td>[@, jessedee, Know, about, @, fludapp, ?, Awes...</td>\n",
       "      <td>@ free</td>\n",
       "    </tr>\n",
       "    <tr>\n",
       "      <th>3</th>\n",
       "      <td>@swonderlin Can not wait for #iPad 2 also. The...</td>\n",
       "      <td>iPad</td>\n",
       "      <td>Postive</td>\n",
       "      <td>Apple</td>\n",
       "      <td>[#iPad, #SXSW]</td>\n",
       "      <td>@swonderlin Can not wait for #iPad 2 also. The...</td>\n",
       "      <td>[@, swonderlin, Can, not, wait, for, #, iPad, ...</td>\n",
       "      <td>@</td>\n",
       "    </tr>\n",
       "    <tr>\n",
       "      <th>4</th>\n",
       "      <td>@sxsw I hope this year's festival isn't as cra...</td>\n",
       "      <td>sxsw</td>\n",
       "      <td>Negative</td>\n",
       "      <td>Apple</td>\n",
       "      <td>[#sxsw]</td>\n",
       "      <td>@sxsw I hope this year's festival isn't as cra...</td>\n",
       "      <td>[@, sxsw, I, hope, this, year, 's, festival, i...</td>\n",
       "      <td>@ crashy</td>\n",
       "    </tr>\n",
       "    <tr>\n",
       "      <th>5</th>\n",
       "      <td>@sxtxstate great stuff on Fri #SXSW: Marissa M...</td>\n",
       "      <td>SXSW</td>\n",
       "      <td>Postive</td>\n",
       "      <td>Google</td>\n",
       "      <td>[#SXSW]</td>\n",
       "      <td>@sxtxstate great stuff on Fri #SXSW: Marissa M...</td>\n",
       "      <td>[@, sxtxstate, great, stuff, on, Fri, #, SXSW,...</td>\n",
       "      <td>@ great tech</td>\n",
       "    </tr>\n",
       "  </tbody>\n",
       "</table>\n",
       "</div>"
      ],
      "text/plain": [
       "                                               tweet product sentiment  \\\n",
       "1  .@wesley83 I have a 3G iPhone. After 3 hrs twe...  iPhone  Negative   \n",
       "2  @jessedee Know about @fludapp ? Awesome iPad/i...    iPad   Postive   \n",
       "3  @swonderlin Can not wait for #iPad 2 also. The...    iPad   Postive   \n",
       "4  @sxsw I hope this year's festival isn't as cra...    sxsw  Negative   \n",
       "5  @sxtxstate great stuff on Fri #SXSW: Marissa M...    SXSW   Postive   \n",
       "\n",
       "  product_brand               hashtags  \\\n",
       "1         Apple  [#RISE_Austin, #SXSW]   \n",
       "2         Apple                [#SXSW]   \n",
       "3         Apple         [#iPad, #SXSW]   \n",
       "4         Apple                [#sxsw]   \n",
       "5        Google                [#SXSW]   \n",
       "\n",
       "                                        clean_tweets  \\\n",
       "1  .@wesley83 I have a 3G iPhone. After 3 hrs twe...   \n",
       "2  @jessedee Know about @fludapp ? Awesome iPad/i...   \n",
       "3  @swonderlin Can not wait for #iPad 2 also. The...   \n",
       "4  @sxsw I hope this year's festival isn't as cra...   \n",
       "5  @sxtxstate great stuff on Fri #SXSW: Marissa M...   \n",
       "\n",
       "                                     tokenize_tweets tweets_adjectives  \n",
       "1  [., @, wesley83, I, have, a, 3G, iPhone, ., Af...              dead  \n",
       "2  [@, jessedee, Know, about, @, fludapp, ?, Awes...            @ free  \n",
       "3  [@, swonderlin, Can, not, wait, for, #, iPad, ...                 @  \n",
       "4  [@, sxsw, I, hope, this, year, 's, festival, i...          @ crashy  \n",
       "5  [@, sxtxstate, great, stuff, on, Fri, #, SXSW,...      @ great tech  "
      ]
     },
     "execution_count": 79,
     "metadata": {},
     "output_type": "execute_result"
    }
   ],
   "source": [
    "ta_df.head() # Check dataframe first 5 rows"
   ]
  },
  {
   "cell_type": "code",
   "execution_count": 80,
   "metadata": {},
   "outputs": [],
   "source": [
    "# Extract all tweets into one long string with each word separate with a \"space\"\n",
    "tweets_long_string = ta_df['tweets_adjectives'].tolist()\n",
    "tweets_long_string = \" \".join(tweets_long_string)"
   ]
  },
  {
   "cell_type": "code",
   "execution_count": 81,
   "metadata": {},
   "outputs": [
    {
     "data": {
      "image/png": "[encoded data removed]",
      "text/plain": [
       "<Figure size 864x720 with 1 Axes>"
      ]
     },
     "metadata": {
      "needs_background": "light"
     },
     "output_type": "display_data"
    }
   ],
   "source": [
    "#Frequency of words in our data\n",
    "#fdist = FreqDist(TA['Clean_Tweets'])\n",
    "#WordCloud\n",
    "wc = WordCloud(width=900, height=500, max_words=50).generate(tweets_long_string )\n",
    "plt.figure(figsize=(12,10))\n",
    "plt.imshow(wc, interpolation=\"bilinear\")\n",
    "plt.axis(\"off\")\n",
    "plt.show()"
   ]
  },
  {
   "cell_type": "code",
   "execution_count": 82,
   "metadata": {},
   "outputs": [
    {
     "data": {
      "text/plain": [
       "95"
      ]
     },
     "execution_count": 82,
     "metadata": {},
     "output_type": "execute_result"
    }
   ],
   "source": [
    "total_vocab = set()\n",
    "for comment in ta_df['clean_tweets']:\n",
    "    total_vocab.update(comment)\n",
    "len(total_vocab)"
   ]
  },
  {
   "cell_type": "markdown",
   "metadata": {},
   "source": [
    "*** DOUBLE CHECK # There are 7,921 unique words"
   ]
  },
  {
   "cell_type": "code",
   "execution_count": 83,
   "metadata": {},
   "outputs": [],
   "source": [
    "# Distribution of data focusing on sentiments and sentiment’s brand "
   ]
  },
  {
   "cell_type": "code",
   "execution_count": 84,
   "metadata": {},
   "outputs": [
    {
     "data": {
      "text/plain": [
       "[Text(0.5, 1.0, 'Count of Tweets per Sentiment')]"
      ]
     },
     "execution_count": 84,
     "metadata": {},
     "output_type": "execute_result"
    },
    {
     "data": {
      "image/png": "[encoded data removed]",
      "text/plain": [
       "<Figure size 432x288 with 1 Axes>"
      ]
     },
     "metadata": {
      "needs_background": "light"
     },
     "output_type": "display_data"
    }
   ],
   "source": [
    "p = sns.countplot(data = ta_df, y = 'sentiment', palette=\"Set3\") #Setting p to plot of Emotion\n",
    "p.set(xlabel = 'count') #Labling X\n",
    "p.set(ylabel = 'sentiment') #Labling Y\n",
    "p.set(title = \"Count of Tweets per Sentiment\")"
   ]
  },
  {
   "cell_type": "markdown",
   "metadata": {},
   "source": [
    "There are four more times positive tweets than negatives. There are barely any neutral tweets.\n"
   ]
  },
  {
   "cell_type": "code",
   "execution_count": 85,
   "metadata": {},
   "outputs": [
    {
     "data": {
      "text/plain": [
       "[Text(0.5, 1.0, 'Count of Tweets per Sentiment')]"
      ]
     },
     "execution_count": 85,
     "metadata": {},
     "output_type": "execute_result"
    },
    {
     "data": {
      "image/png": "[encoded data removed]",
      "text/plain": [
       "<Figure size 432x288 with 1 Axes>"
      ]
     },
     "metadata": {
      "needs_background": "light"
     },
     "output_type": "display_data"
    }
   ],
   "source": [
    "p = sns.countplot(data = ta_df, y = 'product_brand', palette=\"Set3\") #Setting p to plot of Emotion\n",
    "p.set(xlabel = 'Count') #Labling X\n",
    "p.set(ylabel = 'Product_Brand') #Labling Y\n",
    "p.set(title = \"Count of Tweets per Sentiment\")\n",
    "\n"
   ]
  },
  {
   "cell_type": "markdown",
   "metadata": {},
   "source": [
    "Apple has a little more than double tweets "
   ]
  },
  {
   "cell_type": "code",
   "execution_count": 86,
   "metadata": {},
   "outputs": [
    {
     "data": {
      "text/html": [
       "<div>\n",
       "<style scoped>\n",
       "    .dataframe tbody tr th:only-of-type {\n",
       "        vertical-align: middle;\n",
       "    }\n",
       "\n",
       "    .dataframe tbody tr th {\n",
       "        vertical-align: top;\n",
       "    }\n",
       "\n",
       "    .dataframe thead th {\n",
       "        text-align: right;\n",
       "    }\n",
       "</style>\n",
       "<table border=\"1\" class=\"dataframe\">\n",
       "  <thead>\n",
       "    <tr style=\"text-align: right;\">\n",
       "      <th></th>\n",
       "      <th>tweet</th>\n",
       "      <th>product</th>\n",
       "      <th>sentiment</th>\n",
       "      <th>product_brand</th>\n",
       "      <th>hashtags</th>\n",
       "      <th>clean_tweets</th>\n",
       "      <th>tokenize_tweets</th>\n",
       "      <th>tweets_adjectives</th>\n",
       "    </tr>\n",
       "  </thead>\n",
       "  <tbody>\n",
       "    <tr>\n",
       "      <th>1</th>\n",
       "      <td>.@wesley83 I have a 3G iPhone. After 3 hrs twe...</td>\n",
       "      <td>iPhone</td>\n",
       "      <td>Negative</td>\n",
       "      <td>Apple</td>\n",
       "      <td>[#RISE_Austin, #SXSW]</td>\n",
       "      <td>.@wesley83 I have a 3G iPhone. After 3 hrs twe...</td>\n",
       "      <td>[., @, wesley83, I, have, a, 3G, iPhone, ., Af...</td>\n",
       "      <td>dead</td>\n",
       "    </tr>\n",
       "    <tr>\n",
       "      <th>2</th>\n",
       "      <td>@jessedee Know about @fludapp ? Awesome iPad/i...</td>\n",
       "      <td>iPad</td>\n",
       "      <td>Postive</td>\n",
       "      <td>Apple</td>\n",
       "      <td>[#SXSW]</td>\n",
       "      <td>@jessedee Know about @fludapp ? Awesome iPad/i...</td>\n",
       "      <td>[@, jessedee, Know, about, @, fludapp, ?, Awes...</td>\n",
       "      <td>@ free</td>\n",
       "    </tr>\n",
       "    <tr>\n",
       "      <th>3</th>\n",
       "      <td>@swonderlin Can not wait for #iPad 2 also. The...</td>\n",
       "      <td>iPad</td>\n",
       "      <td>Postive</td>\n",
       "      <td>Apple</td>\n",
       "      <td>[#iPad, #SXSW]</td>\n",
       "      <td>@swonderlin Can not wait for #iPad 2 also. The...</td>\n",
       "      <td>[@, swonderlin, Can, not, wait, for, #, iPad, ...</td>\n",
       "      <td>@</td>\n",
       "    </tr>\n",
       "    <tr>\n",
       "      <th>4</th>\n",
       "      <td>@sxsw I hope this year's festival isn't as cra...</td>\n",
       "      <td>sxsw</td>\n",
       "      <td>Negative</td>\n",
       "      <td>Apple</td>\n",
       "      <td>[#sxsw]</td>\n",
       "      <td>@sxsw I hope this year's festival isn't as cra...</td>\n",
       "      <td>[@, sxsw, I, hope, this, year, 's, festival, i...</td>\n",
       "      <td>@ crashy</td>\n",
       "    </tr>\n",
       "    <tr>\n",
       "      <th>5</th>\n",
       "      <td>@sxtxstate great stuff on Fri #SXSW: Marissa M...</td>\n",
       "      <td>SXSW</td>\n",
       "      <td>Postive</td>\n",
       "      <td>Google</td>\n",
       "      <td>[#SXSW]</td>\n",
       "      <td>@sxtxstate great stuff on Fri #SXSW: Marissa M...</td>\n",
       "      <td>[@, sxtxstate, great, stuff, on, Fri, #, SXSW,...</td>\n",
       "      <td>@ great tech</td>\n",
       "    </tr>\n",
       "  </tbody>\n",
       "</table>\n",
       "</div>"
      ],
      "text/plain": [
       "                                               tweet product sentiment  \\\n",
       "1  .@wesley83 I have a 3G iPhone. After 3 hrs twe...  iPhone  Negative   \n",
       "2  @jessedee Know about @fludapp ? Awesome iPad/i...    iPad   Postive   \n",
       "3  @swonderlin Can not wait for #iPad 2 also. The...    iPad   Postive   \n",
       "4  @sxsw I hope this year's festival isn't as cra...    sxsw  Negative   \n",
       "5  @sxtxstate great stuff on Fri #SXSW: Marissa M...    SXSW   Postive   \n",
       "\n",
       "  product_brand               hashtags  \\\n",
       "1         Apple  [#RISE_Austin, #SXSW]   \n",
       "2         Apple                [#SXSW]   \n",
       "3         Apple         [#iPad, #SXSW]   \n",
       "4         Apple                [#sxsw]   \n",
       "5        Google                [#SXSW]   \n",
       "\n",
       "                                        clean_tweets  \\\n",
       "1  .@wesley83 I have a 3G iPhone. After 3 hrs twe...   \n",
       "2  @jessedee Know about @fludapp ? Awesome iPad/i...   \n",
       "3  @swonderlin Can not wait for #iPad 2 also. The...   \n",
       "4  @sxsw I hope this year's festival isn't as cra...   \n",
       "5  @sxtxstate great stuff on Fri #SXSW: Marissa M...   \n",
       "\n",
       "                                     tokenize_tweets tweets_adjectives  \n",
       "1  [., @, wesley83, I, have, a, 3G, iPhone, ., Af...              dead  \n",
       "2  [@, jessedee, Know, about, @, fludapp, ?, Awes...            @ free  \n",
       "3  [@, swonderlin, Can, not, wait, for, #, iPad, ...                 @  \n",
       "4  [@, sxsw, I, hope, this, year, 's, festival, i...          @ crashy  \n",
       "5  [@, sxtxstate, great, stuff, on, Fri, #, SXSW,...      @ great tech  "
      ]
     },
     "execution_count": 86,
     "metadata": {},
     "output_type": "execute_result"
    }
   ],
   "source": [
    "ta_df.head()"
   ]
  },
  {
   "cell_type": "code",
   "execution_count": 87,
   "metadata": {},
   "outputs": [
    {
     "data": {
      "text/plain": [
       "sentiment  product_brand\n",
       "0          Apple               7\n",
       "           Google              2\n",
       "Negative   Apple             385\n",
       "           Google            133\n",
       "Neutural   Apple              64\n",
       "           Google             27\n",
       "Postive    Apple            1907\n",
       "           Google            748\n",
       "Name: product_brand, dtype: int64"
      ]
     },
     "metadata": {},
     "output_type": "display_data"
    },
    {
     "data": {
      "text/plain": [
       "product_brand  sentiment\n",
       "Apple          Postive      1907\n",
       "               Negative      385\n",
       "               Neutural       64\n",
       "               0               7\n",
       "Google         Postive       748\n",
       "               Negative      133\n",
       "               Neutural       27\n",
       "               0               2\n",
       "Name: sentiment, dtype: int64"
      ]
     },
     "metadata": {},
     "output_type": "display_data"
    }
   ],
   "source": [
    "display(ta_df.groupby(['sentiment'])['product_brand'].value_counts()) #Checking tweets rated by brand\n",
    "\n",
    "display(ta_df.groupby(['product_brand'])['sentiment'].value_counts()) #Checking tweets rated by brand"
   ]
  },
  {
   "cell_type": "code",
   "execution_count": 88,
   "metadata": {},
   "outputs": [
    {
     "data": {
      "image/png": "[encoded data removed]",
      "text/plain": [
       "<Figure size 432x288 with 1 Axes>"
      ]
     },
     "metadata": {
      "needs_background": "light"
     },
     "output_type": "display_data"
    }
   ],
   "source": [
    "plot = sns.countplot(data = ta_df, x = 'product_brand', hue = 'sentiment') #Setting p to plot of Brand and Emotion\n",
    "plot.legend(title = 'sentiment', bbox_to_anchor = (1, 1), loc = 'upper left') #Creating legend for plot\n",
    "plot.set(xlabel = 'Product_Brand') #Setting x label\n",
    "plot.set(ylabel = 'Count') #Setting y label\n",
    "plot.set(title = 'No. of Tweets per Brand by Sentiment'); #Setting title of plot"
   ]
  },
  {
   "cell_type": "code",
   "execution_count": 89,
   "metadata": {},
   "outputs": [
    {
     "data": {
      "image/png": "[encoded data removed]",
      "text/plain": [
       "<Figure size 432x288 with 1 Axes>"
      ]
     },
     "metadata": {
      "needs_background": "light"
     },
     "output_type": "display_data"
    }
   ],
   "source": [
    "plot = sns.countplot(data = ta_df, x = 'sentiment', hue = 'product_brand',color='silver') #Setting p to plot of Emotion and Brand\n",
    "plot.legend(title = 'Product_Brand', bbox_to_anchor = (1, 1), loc = 'upper left') #Creating legend for plot\n",
    "plot.set(xlabel = 'Sentiment') #Setting x label\n",
    "plot.set(ylabel = 'Count') #Setting y label\n",
    "plot.set(title = 'No. of Tweets per sentiment by Brand'); #Setting title of plot"
   ]
  },
  {
   "cell_type": "markdown",
   "metadata": {},
   "source": [
    "#https://www.sharpsightlabs.com/blog/seaborn-countplot/"
   ]
  },
  {
   "cell_type": "markdown",
   "metadata": {},
   "source": [
    "### N-grams"
   ]
  },
  {
   "cell_type": "code",
   "execution_count": 90,
   "metadata": {},
   "outputs": [
    {
     "ename": "NameError",
     "evalue": "name 'stop' is not defined",
     "output_type": "error",
     "traceback": [
      "\u001b[0;31m---------------------------------------------------------------------------\u001b[0m",
      "\u001b[0;31mNameError\u001b[0m                                 Traceback (most recent call last)",
      "\u001b[0;32m<ipython-input-90-3dd9cae63c82>\u001b[0m in \u001b[0;36m<module>\u001b[0;34m\u001b[0m\n\u001b[0;32m----> 1\u001b[0;31m \u001b[0mstop\u001b[0m\u001b[0;34m\u001b[0m\u001b[0;34m\u001b[0m\u001b[0m\n\u001b[0m",
      "\u001b[0;31mNameError\u001b[0m: name 'stop' is not defined"
     ]
    }
   ],
   "source": [
    "stop "
   ]
  },
  {
   "cell_type": "code",
   "execution_count": null,
   "metadata": {},
   "outputs": [],
   "source": [
    "#Converting to dummy variables "
   ]
  },
  {
   "cell_type": "markdown",
   "metadata": {},
   "source": [
    "sentiments_dummies = pd.get_dummies(TA[\"Sentiment\"], prefix=\"Sentiment\")\n",
    "TA = pd.concat([TA, sentiments_dummies ], axis = 1)\n",
    "TA.head()"
   ]
  },
  {
   "cell_type": "code",
   "execution_count": null,
   "metadata": {},
   "outputs": [],
   "source": [
    "\n",
    "X = ta_df[\"tokenize_tweets\"]  \n",
    "y = ta_df[\"sentiment\"]\n",
    " "
   ]
  },
  {
   "cell_type": "code",
   "execution_count": null,
   "metadata": {},
   "outputs": [],
   "source": [
    "from sklearn.model_selection import train_test_split  \n",
    "X_train, X_test, y_train, y_test = train_test_split(X, y, test_size=0.2, random_state=0)\n",
    " "
   ]
  },
  {
   "cell_type": "code",
   "execution_count": null,
   "metadata": {},
   "outputs": [],
   "source": [
    "ta_df.head()\n"
   ]
  },
  {
   "cell_type": "code",
   "execution_count": null,
   "metadata": {},
   "outputs": [],
   "source": [
    "#Transforming data set"
   ]
  },
  {
   "cell_type": "code",
   "execution_count": null,
   "metadata": {},
   "outputs": [],
   "source": [
    "vectorizer =TfidfVectorizer(ngram_range=(1,2), max_features =40000)"
   ]
  },
  {
   "cell_type": "code",
   "execution_count": null,
   "metadata": {},
   "outputs": [],
   "source": [
    "#vectorizer.fit(X_train)"
   ]
  },
  {
   "cell_type": "code",
   "execution_count": null,
   "metadata": {},
   "outputs": [],
   "source": [
    "Print(\"Number of words:\", len(vectorizer.getfeature_names()))"
   ]
  },
  {
   "cell_type": "code",
   "execution_count": null,
   "metadata": {},
   "outputs": [],
   "source": [
    "'''\n",
    "    from sklearn.ensemble import RandomForestClassifier\n",
    "    text_classifier = RandomForestClassifier(n_estimators=100, random_state=0)  \n",
    "    text_classifier.fit(X_train, y_train)\n",
    "    '''"
   ]
  },
  {
   "cell_type": "code",
   "execution_count": null,
   "metadata": {},
   "outputs": [],
   "source": []
  },
  {
   "cell_type": "code",
   "execution_count": null,
   "metadata": {},
   "outputs": [],
   "source": []
  },
  {
   "cell_type": "code",
   "execution_count": null,
   "metadata": {},
   "outputs": [],
   "source": []
  }
 ],
 "metadata": {
  "kernelspec": {
   "display_name": "Python 3 (ipykernel)",
   "language": "python",
   "name": "python3"
  },
  "language_info": {
   "codemirror_mode": {
    "name": "ipython",
    "version": 3
   },
   "file_extension": ".py",
   "mimetype": "text/x-python",
   "name": "python",
   "nbconvert_exporter": "python",
   "pygments_lexer": "ipython3",
   "version": "3.9.15"
  },
  "toc": {
   "base_numbering": 1,
   "nav_menu": {},
   "number_sections": false,
   "sideBar": true,
   "skip_h1_title": true,
   "title_cell": "Table of Contents",
   "title_sidebar": "Contents",
   "toc_cell": true,
   "toc_position": {},
   "toc_section_display": true,
   "toc_window_display": false
  }
 },
 "nbformat": 4,
 "nbformat_minor": 4
}
