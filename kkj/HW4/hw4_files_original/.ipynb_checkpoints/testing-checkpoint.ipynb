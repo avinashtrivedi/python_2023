{
 "cells": [
  {
   "cell_type": "code",
   "execution_count": 1,
   "id": "ebc1a334",
   "metadata": {},
   "outputs": [],
   "source": [
    "from lexsub_main import *\n",
    "import os\n",
    "if not os.path.exists('data'):\n",
    "    os.makedirs(r'data')"
   ]
  },
  {
   "cell_type": "markdown",
   "id": "325e27ef",
   "metadata": {},
   "source": [
    "# Part-1"
   ]
  },
  {
   "cell_type": "code",
   "execution_count": 2,
   "id": "437e5f4c",
   "metadata": {},
   "outputs": [
    {
     "data": {
      "text/plain": [
       "['boring',\n",
       " 'deadening',\n",
       " 'dense',\n",
       " 'dim',\n",
       " 'dull',\n",
       " 'dumb',\n",
       " 'ho-hum',\n",
       " 'irksome',\n",
       " 'obtuse',\n",
       " 'sluggish',\n",
       " 'tedious',\n",
       " 'tiresome',\n",
       " 'wearisome']"
      ]
     },
     "execution_count": 2,
     "metadata": {},
     "output_type": "execute_result"
    }
   ],
   "source": [
    "get_candidates('slow','a')"
   ]
  },
  {
   "cell_type": "markdown",
   "id": "73d9f4cf",
   "metadata": {},
   "source": [
    "# Part-2"
   ]
  },
  {
   "cell_type": "code",
   "execution_count": 3,
   "id": "0608196b",
   "metadata": {},
   "outputs": [],
   "source": [
    "fp = open(r'C:\\Users\\avitr\\hw4_files_original\\part2.predict','w')\n",
    "newline = ''\n",
    "for context in read_lexsub_xml('lexsub_trial.xml'):\n",
    "    prediction = wn_frequency_predictor(context)\n",
    "    fp.write(newline)\n",
    "    fp.write(\"{}.{} {} :: {}\".format(context.lemma, context.pos, context.cid, prediction))\n",
    "    newline = '\\n'\n",
    "fp.close()"
   ]
  },
  {
   "cell_type": "markdown",
   "id": "28f7ad7d",
   "metadata": {},
   "source": [
    "# Part-3"
   ]
  },
  {
   "cell_type": "code",
   "execution_count": 4,
   "id": "ce195f9f",
   "metadata": {},
   "outputs": [],
   "source": [
    "fp = open(r'C:\\Users\\avitr\\hw4_files_original\\part3.predict','w')\n",
    "newline = ''\n",
    "for context in read_lexsub_xml('lexsub_trial.xml'):\n",
    "    prediction = wn_simple_lesk_predictor(context)\n",
    "    fp.write(newline)\n",
    "    fp.write(\"{}.{} {} :: {}\".format(context.lemma, context.pos, context.cid, prediction))\n",
    "    newline = '\\n'\n",
    "fp.close()"
   ]
  },
  {
   "cell_type": "markdown",
   "id": "be3e7b94",
   "metadata": {},
   "source": [
    "# Part-4"
   ]
  },
  {
   "cell_type": "code",
   "execution_count": 5,
   "id": "f2b8e9ac",
   "metadata": {},
   "outputs": [],
   "source": [
    "w2vmodel_path = 'D:\\OneDrive - NITT\\Custom_Download\\GoogleNews-vectors-negative300.bin.gz'\n",
    "predictor = Word2VecSubst(w2vmodel_path)"
   ]
  },
  {
   "cell_type": "code",
   "execution_count": 6,
   "id": "186377bc",
   "metadata": {},
   "outputs": [],
   "source": [
    "fp = open(r'C:\\Users\\avitr\\hw4_files_original\\part4.predict','w')\n",
    "newline = ''\n",
    "for context in read_lexsub_xml('lexsub_trial.xml'):\n",
    "    prediction = predictor.predict_nearest(context)\n",
    "    fp.write(newline)\n",
    "    fp.write(\"{}.{} {} :: {}\".format(context.lemma, context.pos, context.cid, prediction))\n",
    "    newline = '\\n'\n",
    "fp.close()"
   ]
  },
  {
   "cell_type": "markdown",
   "id": "317ab743",
   "metadata": {},
   "source": [
    "# Part-5"
   ]
  },
  {
   "cell_type": "code",
   "execution_count": 7,
   "id": "651c76a2",
   "metadata": {},
   "outputs": [
    {
     "name": "stderr",
     "output_type": "stream",
     "text": [
      "Some layers from the model checkpoint at distilbert-base-uncased were not used when initializing TFDistilBertForMaskedLM: ['activation_13']\n",
      "- This IS expected if you are initializing TFDistilBertForMaskedLM from the checkpoint of a model trained on another task or with another architecture (e.g. initializing a BertForSequenceClassification model from a BertForPreTraining model).\n",
      "- This IS NOT expected if you are initializing TFDistilBertForMaskedLM from the checkpoint of a model that you expect to be exactly identical (initializing a BertForSequenceClassification model from a BertForSequenceClassification model).\n",
      "All the layers of TFDistilBertForMaskedLM were initialized from the model checkpoint at distilbert-base-uncased.\n",
      "If your task is similar to the task the model of the checkpoint was trained on, you can already use TFDistilBertForMaskedLM for predictions without further training.\n"
     ]
    }
   ],
   "source": [
    "predictor = BertPredictor()\n",
    "fp = open(r'C:\\Users\\avitr\\hw4_files_original\\part5.predict','w')\n",
    "newline = ''\n",
    "for context in read_lexsub_xml('lexsub_trial.xml'):\n",
    "    prediction = predictor.predict(context)\n",
    "    fp.write(newline)\n",
    "    fp.write(\"{}.{} {} :: {}\".format(context.lemma, context.pos, context.cid, prediction))\n",
    "    newline = '\\n'\n",
    "fp.close()"
   ]
  },
  {
   "cell_type": "markdown",
   "id": "1cd062a0",
   "metadata": {},
   "source": [
    "# Part-6"
   ]
  },
  {
   "cell_type": "code",
   "execution_count": 8,
   "id": "b3dbf327",
   "metadata": {},
   "outputs": [],
   "source": [
    "w2vmodel_path = 'D:\\OneDrive - NITT\\Custom_Download\\GoogleNews-vectors-negative300.bin.gz'\n",
    "predictor = custom_predictor(w2vmodel_path)"
   ]
  },
  {
   "cell_type": "code",
   "execution_count": 9,
   "id": "f0e90221",
   "metadata": {},
   "outputs": [],
   "source": [
    "fp = open(r'C:\\Users\\avitr\\hw4_files_original\\part6.predict','w')\n",
    "newline = ''\n",
    "for context in read_lexsub_xml('lexsub_trial.xml'):\n",
    "    prediction = predictor.predict(context)\n",
    "    fp.write(newline)\n",
    "    fp.write(\"{}.{} {} :: {}\".format(context.lemma, context.pos, context.cid, prediction))\n",
    "    newline = '\\n'\n",
    "fp.close()"
   ]
  },
  {
   "cell_type": "code",
   "execution_count": null,
   "id": "a76e92b2",
   "metadata": {},
   "outputs": [],
   "source": []
  }
 ],
 "metadata": {
  "kernelspec": {
   "display_name": "Python 3 (ipykernel)",
   "language": "python",
   "name": "python3"
  },
  "language_info": {
   "codemirror_mode": {
    "name": "ipython",
    "version": 3
   },
   "file_extension": ".py",
   "mimetype": "text/x-python",
   "name": "python",
   "nbconvert_exporter": "python",
   "pygments_lexer": "ipython3",
   "version": "3.9.15"
  }
 },
 "nbformat": 4,
 "nbformat_minor": 5
}
