{
 "cells": [
  {
   "cell_type": "code",
   "execution_count": null,
   "id": "bd2f5e2a",
   "metadata": {},
   "outputs": [],
   "source": [
    "def wn_simple_lesk_predictor(context: Context) -> str:\n",
    "\n",
    "    stop_word_list = stopwords.words('english')\n",
    "    max_val = 0\n",
    "    max_key = ''\n",
    "    max_count = -1\n",
    "    max_lemma = ''\n",
    "\n",
    "    for syn in wn.synsets(context.lemma, pos=context.pos):\n",
    "        hyper_str = ''\n",
    "        for item in syn.hypernyms():\n",
    "            hyper_str = hyper_str + ' ' + item.definition() + ' ' + ' '.join(item.examples()) + ' '\n",
    "\n",
    "        res_str = syn.definition().strip() + ' ' + ' '.join(syn.examples()).strip() + ' ' + hyper_str\n",
    "        context_str = ' '.join(context.left_context) + ' ' + ' '.join(context.right_context)\n",
    "\n",
    "        res_list = res_str.split()\n",
    "        context_list = context_str.split()\n",
    "        \n",
    "        res_list = {word for word in set(res_list) if (word.isalpha() and word not in stop_word_list)}\n",
    "        context_list = {word for word in set(context_list) if (word.isalpha() and word not in stop_word_list)}\n",
    "        \n",
    "        overlap_count = len(res_list.intersection(context_list))\n",
    "\n",
    "        if overlap_count > max_val:\n",
    "            if any(lem.name() != context.lemma for lem in syn.lemmas()):\n",
    "                max_val = overlap_count\n",
    "                max_key = syn\n",
    "\n",
    "    def update_max_lemma(lemma_list):\n",
    "        nonlocal max_count, max_lemma\n",
    "        for l in lemma_list:\n",
    "            if l.name() == context.lemma:\n",
    "                continue\n",
    "            if l.count() > max_count:\n",
    "                max_count = l.count()\n",
    "                max_lemma = l.name()\n",
    "\n",
    "    if max_val != 0:\n",
    "        update_max_lemma(max_key.lemmas())\n",
    "    else:\n",
    "        for syn in wn.synsets(context.lemma, pos=context.pos):\n",
    "            update_max_lemma(syn.lemmas())\n",
    "\n",
    "    return max_lemma.replace('_', ' ')"
   ]
  },
  {
   "cell_type": "code",
   "execution_count": null,
   "id": "e13cd652",
   "metadata": {},
   "outputs": [],
   "source": []
  },
  {
   "cell_type": "code",
   "execution_count": 3,
   "id": "8e79aaa6",
   "metadata": {},
   "outputs": [
    {
     "data": {
      "text/plain": [
       "'1 3  '"
      ]
     },
     "execution_count": 3,
     "metadata": {},
     "output_type": "execute_result"
    }
   ],
   "source": [
    "(' ').join(['1','3',' '])"
   ]
  },
  {
   "cell_type": "code",
   "execution_count": 13,
   "id": "e6998b16",
   "metadata": {},
   "outputs": [],
   "source": [
    "res_list = [1,2,'-1',3,4,'-1']"
   ]
  },
  {
   "cell_type": "code",
   "execution_count": 14,
   "id": "e83a6124",
   "metadata": {},
   "outputs": [
    {
     "data": {
      "text/plain": [
       "[1, 2, 3, 4]"
      ]
     },
     "execution_count": 14,
     "metadata": {},
     "output_type": "execute_result"
    }
   ],
   "source": [
    "list(filter(lambda a: a != '-1', res_list))"
   ]
  },
  {
   "cell_type": "code",
   "execution_count": 17,
   "id": "c183b81c",
   "metadata": {},
   "outputs": [
    {
     "data": {
      "text/plain": [
       "{2, 3}"
      ]
     },
     "execution_count": 17,
     "metadata": {},
     "output_type": "execute_result"
    }
   ],
   "source": [
    "{1,2,3}.intersection(set([2,3,4]))"
   ]
  },
  {
   "cell_type": "code",
   "execution_count": null,
   "id": "5336491c",
   "metadata": {},
   "outputs": [],
   "source": []
  }
 ],
 "metadata": {
  "kernelspec": {
   "display_name": "Python 3 (ipykernel)",
   "language": "python",
   "name": "python3"
  },
  "language_info": {
   "codemirror_mode": {
    "name": "ipython",
    "version": 3
   },
   "file_extension": ".py",
   "mimetype": "text/x-python",
   "name": "python",
   "nbconvert_exporter": "python",
   "pygments_lexer": "ipython3",
   "version": "3.9.15"
  }
 },
 "nbformat": 4,
 "nbformat_minor": 5
}
