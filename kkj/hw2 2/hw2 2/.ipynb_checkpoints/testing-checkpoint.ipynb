{
 "cells": [
  {
   "cell_type": "markdown",
   "id": "6f11b1f2",
   "metadata": {},
   "source": [
    "# Part 1"
   ]
  },
  {
   "cell_type": "code",
   "execution_count": 1,
   "id": "3c4e46b2",
   "metadata": {},
   "outputs": [],
   "source": [
    "from grammar import *"
   ]
  },
  {
   "cell_type": "code",
   "execution_count": 2,
   "id": "87195022",
   "metadata": {},
   "outputs": [],
   "source": [
    "with open('atis3.pcfg','r') as grammar_file:\n",
    "    grammar = Pcfg(grammar_file)"
   ]
  },
  {
   "cell_type": "code",
   "execution_count": 3,
   "id": "c026d9e9",
   "metadata": {},
   "outputs": [
    {
     "data": {
      "text/plain": [
       "'TOP'"
      ]
     },
     "execution_count": 3,
     "metadata": {},
     "output_type": "execute_result"
    }
   ],
   "source": [
    "grammar.startsymbol"
   ]
  },
  {
   "cell_type": "code",
   "execution_count": 4,
   "id": "c355bc36",
   "metadata": {},
   "outputs": [
    {
     "data": {
      "text/plain": [
       "[('PP', ('ABOUT', 'NP'), 0.00133511348465),\n",
       " ('PP', ('ADVP', 'PPBAR'), 0.00133511348465),\n",
       " ('PP', ('AFTER', 'NP'), 0.0253671562083),\n",
       " ('PP', ('AROUND', 'NP'), 0.00667556742323),\n",
       " ('PP', ('AS', 'ADJP'), 0.00133511348465),\n",
       " ('PP', ('AT', 'NP'), 0.0106809078772),\n",
       " ('PP', ('AT', 'PPBAR'), 0.00133511348465),\n",
       " ('PP', ('BEFORE', 'NP'), 0.0146862483311),\n",
       " ('PP', ('BETWEEN', 'NP'), 0.0160213618158),\n",
       " ('PP', ('BY', 'NP'), 0.00267022696929),\n",
       " ('PP', ('DURING', 'NP'), 0.00133511348465),\n",
       " ('PP', ('FOR', 'NP'), 0.00934579439252),\n",
       " ('PP', ('FROM', 'NP'), 0.332443257677),\n",
       " ('PP', ('IN', 'NP'), 0.0587449933244),\n",
       " ('PP', ('INTO', 'NP'), 0.00133511348465),\n",
       " ('PP', ('NP', 'PPBAR'), 0.00133511348465),\n",
       " ('PP', ('OF', 'NP'), 0.0520694259012),\n",
       " ('PP', ('ON', 'NP'), 0.110814419226),\n",
       " ('PP', ('PP', 'PP'), 0.00133511348465),\n",
       " ('PP', ('PP', 'PPBAR'), 0.00133511348465),\n",
       " ('PP', ('THAN', 'NP'), 0.00267022696929),\n",
       " ('PP', ('THROUGH', 'NP'), 0.00133511348465),\n",
       " ('PP', ('TO', 'ADVP'), 0.00133511348465),\n",
       " ('PP', ('TO', 'INTJ'), 0.00133511348465),\n",
       " ('PP', ('TO', 'NP'), 0.324432576769),\n",
       " ('PP', ('VIA', 'NP'), 0.00267022696929),\n",
       " ('PP', ('WITH', 'NP'), 0.00934579439252),\n",
       " ('PP', ('WITHIN', 'NP'), 0.00267022696929),\n",
       " ('PP', ('WITHOUT', 'NP'), 0.00133511348465),\n",
       " ('PP', ('from',), 0.00133511348465)]"
      ]
     },
     "execution_count": 4,
     "metadata": {},
     "output_type": "execute_result"
    }
   ],
   "source": [
    "grammar.lhs_to_rules['PP']"
   ]
  },
  {
   "cell_type": "code",
   "execution_count": 5,
   "id": "a0091363",
   "metadata": {},
   "outputs": [
    {
     "data": {
      "text/plain": [
       "[('PP', ('ABOUT', 'NP'), 0.00133511348465)]"
      ]
     },
     "execution_count": 5,
     "metadata": {},
     "output_type": "execute_result"
    }
   ],
   "source": [
    "grammar.rhs_to_rules[('ABOUT','NP')]"
   ]
  },
  {
   "cell_type": "code",
   "execution_count": 6,
   "id": "24d34574",
   "metadata": {},
   "outputs": [
    {
     "data": {
      "text/plain": [
       "[('NP', ('NP', 'VP'), 0.00602409638554),\n",
       " ('S', ('NP', 'VP'), 0.694915254237),\n",
       " ('SBAR', ('NP', 'VP'), 0.166666666667),\n",
       " ('SQBAR', ('NP', 'VP'), 0.289156626506)]"
      ]
     },
     "execution_count": 6,
     "metadata": {},
     "output_type": "execute_result"
    }
   ],
   "source": [
    "grammar.rhs_to_rules[('NP','VP')]"
   ]
  },
  {
   "cell_type": "code",
   "execution_count": 7,
   "id": "34ac28fb",
   "metadata": {},
   "outputs": [
    {
     "name": "stdout",
     "output_type": "stream",
     "text": [
      "Confirmation message: The grammar is a valid PCFG in CNF.\n"
     ]
    }
   ],
   "source": [
    "!python grammar.py atis3.pcfg"
   ]
  },
  {
   "cell_type": "markdown",
   "id": "27161214",
   "metadata": {},
   "source": [
    "# Part-2"
   ]
  },
  {
   "cell_type": "code",
   "execution_count": 8,
   "id": "a164baa5",
   "metadata": {},
   "outputs": [],
   "source": [
    "from cky import *"
   ]
  },
  {
   "cell_type": "code",
   "execution_count": 9,
   "id": "6fa1a756",
   "metadata": {},
   "outputs": [],
   "source": [
    " parser = CkyParser(grammar)"
   ]
  },
  {
   "cell_type": "code",
   "execution_count": 10,
   "id": "64cdd100",
   "metadata": {},
   "outputs": [],
   "source": [
    "toks =['flights', 'from', 'miami', 'to', 'cleveland', '.']"
   ]
  },
  {
   "cell_type": "code",
   "execution_count": 11,
   "id": "d9219716",
   "metadata": {},
   "outputs": [
    {
     "data": {
      "text/plain": [
       "True"
      ]
     },
     "execution_count": 11,
     "metadata": {},
     "output_type": "execute_result"
    }
   ],
   "source": [
    "parser.is_in_language(toks)"
   ]
  },
  {
   "cell_type": "code",
   "execution_count": 12,
   "id": "c23d12a8",
   "metadata": {},
   "outputs": [],
   "source": [
    " toks =['miami', 'flights','cleveland', 'from', 'to','.']"
   ]
  },
  {
   "cell_type": "code",
   "execution_count": 13,
   "id": "1d714173",
   "metadata": {},
   "outputs": [
    {
     "data": {
      "text/plain": [
       "False"
      ]
     },
     "execution_count": 13,
     "metadata": {},
     "output_type": "execute_result"
    }
   ],
   "source": [
    "parser.is_in_language(toks)"
   ]
  },
  {
   "cell_type": "markdown",
   "id": "ac9c4f55",
   "metadata": {},
   "source": [
    "# Part 3"
   ]
  },
  {
   "cell_type": "code",
   "execution_count": 14,
   "id": "358d07bb",
   "metadata": {},
   "outputs": [],
   "source": [
    "parser = CkyParser(grammar)"
   ]
  },
  {
   "cell_type": "code",
   "execution_count": 15,
   "id": "1460e388",
   "metadata": {},
   "outputs": [],
   "source": [
    "toks =['flights', 'from', 'miami', 'to', 'cleveland', '.']"
   ]
  },
  {
   "cell_type": "code",
   "execution_count": 16,
   "id": "b3467e75",
   "metadata": {},
   "outputs": [],
   "source": [
    "table, probs = parser.parse_with_backpointers(toks)"
   ]
  },
  {
   "cell_type": "code",
   "execution_count": 17,
   "id": "e82035c8",
   "metadata": {},
   "outputs": [
    {
     "data": {
      "text/plain": [
       "True"
      ]
     },
     "execution_count": 17,
     "metadata": {},
     "output_type": "execute_result"
    }
   ],
   "source": [
    "check_table_format(table)"
   ]
  },
  {
   "cell_type": "code",
   "execution_count": 18,
   "id": "bd503337",
   "metadata": {},
   "outputs": [
    {
     "data": {
      "text/plain": [
       "True"
      ]
     },
     "execution_count": 18,
     "metadata": {},
     "output_type": "execute_result"
    }
   ],
   "source": [
    "check_probs_format(probs)"
   ]
  },
  {
   "cell_type": "markdown",
   "id": "f88a0773",
   "metadata": {},
   "source": [
    "# Part 4"
   ]
  },
  {
   "cell_type": "code",
   "execution_count": 19,
   "id": "5bf5f0d4",
   "metadata": {},
   "outputs": [],
   "source": [
    " parser = CkyParser(grammar)"
   ]
  },
  {
   "cell_type": "code",
   "execution_count": 20,
   "id": "43736cf3",
   "metadata": {},
   "outputs": [],
   "source": [
    "toks =['flights', 'from', 'miami', 'to', 'cleveland', '.']"
   ]
  },
  {
   "cell_type": "code",
   "execution_count": 21,
   "id": "872be245",
   "metadata": {},
   "outputs": [],
   "source": [
    "table, probs = parser.parse_with_backpointers(toks)"
   ]
  },
  {
   "cell_type": "code",
   "execution_count": 22,
   "id": "d8adb241",
   "metadata": {},
   "outputs": [
    {
     "data": {
      "text/plain": [
       "('TOP',\n",
       " ('NP',\n",
       "  ('NP', 'flights'),\n",
       "  ('NPBAR',\n",
       "   ('PP', ('FROM', 'from'), ('NP', 'miami')),\n",
       "   ('PP', ('TO', 'to'), ('NP', 'cleveland')))),\n",
       " ('PUN', '.'))"
      ]
     },
     "execution_count": 22,
     "metadata": {},
     "output_type": "execute_result"
    }
   ],
   "source": [
    "get_tree(table, 0, len(toks), grammar.startsymbol)"
   ]
  },
  {
   "cell_type": "code",
   "execution_count": 23,
   "id": "741dc333",
   "metadata": {},
   "outputs": [
    {
     "name": "stdout",
     "output_type": "stream",
     "text": [
      "True\n"
     ]
    }
   ],
   "source": [
    "!python cky.py"
   ]
  },
  {
   "cell_type": "markdown",
   "id": "7597b5ca",
   "metadata": {},
   "source": [
    "# Part 5"
   ]
  },
  {
   "cell_type": "code",
   "execution_count": 24,
   "id": "c85e139e",
   "metadata": {},
   "outputs": [
    {
     "name": "stdout",
     "output_type": "stream",
     "text": [
      "input:  ['flights', 'from', 'los', 'angeles', 'to', 'pittsburgh', '.']\n",
      "target:     ('TOP', ('NP', ('NP', 'flights'), ('NPBAR', ('PP', ('FROM', 'from'), ('NP', ('LOS', 'los'), ('ANGELES', 'angeles'))), ('PP', ('TO', 'to'), ('NP', 'pittsburgh')))), ('PUN', '.'))\n",
      "predicted:  ('TOP', ('NP', ('NP', 'flights'), ('NPBAR', ('PP', ('FROM', 'from'), ('NP', ('LOS', 'los'), ('ANGELES', 'angeles'))), ('PP', ('TO', 'to'), ('NP', 'pittsburgh')))), ('PUN', '.'))\n",
      "P:1.0 R:1.0 F:1.0\n",
      "\n",
      "input:  ['with', 'the', 'least', 'expensive', 'fare', '.']\n",
      "target:     ('TOP', ('PP', ('WITH', 'with'), ('NP', ('THE', 'the'), ('NPBAR', ('ADJP', ('LEAST', 'least'), ('EXPENSIVE', 'expensive')), ('FARE', 'fare')))), ('PUN', '.'))\n",
      "predicted:  ()\n",
      "P:0.0 R:0.0 F:0.0\n",
      "\n",
      "input:  ['flights', 'between', 'tampa', 'and', 'saint', 'louis', '.']\n",
      "target:     ('TOP', ('NP', ('NP', 'flights'), ('PP', ('BETWEEN', 'between'), ('NP', ('NP', 'tampa'), ('NPBAR', ('AND', 'and'), ('NP', ('SAINT', 'saint'), ('LOUIS', 'louis')))))), ('PUN', '.'))\n",
      "predicted:  ('TOP', ('NP', ('NP', 'flights'), ('NPBAR', ('PP', ('BETWEEN', 'between'), ('NP', 'tampa')), ('NPBAR', ('AND', 'and'), ('NP', ('SAINT', 'saint'), ('LOUIS', 'louis'))))), ('PUN', '.'))\n",
      "P:0.8461538461538461 R:0.8461538461538461 F:0.8461538461538461\n",
      "\n",
      "input:  ['i', \"'d\", 'like', 'a', 'flight', 'tomorrow', 'from', 'columbus', 'to', 'houston', 'with', 'a', 'stopover', 'in', 'nashville', '.']\n",
      "target:     ('TOP', ('S', ('NP', 'i'), ('VP', (\"'D\", \"'d\"), ('VP', ('LIKE', 'like'), ('NP', ('NP', ('A', 'a'), ('FLIGHT', 'flight')), ('NPBAR', ('NP', 'tomorrow'), ('NPBAR', ('PP', ('FROM', 'from'), ('NP', 'columbus')), ('NPBAR', ('PP', ('TO', 'to'), ('NP', 'houston')), ('PP', ('WITH', 'with'), ('NP', ('NP', ('A', 'a'), ('STOPOVER', 'stopover')), ('PP', ('IN', 'in'), ('NP', 'nashville'))))))))))), ('PUN', '.'))\n",
      "predicted:  ()\n",
      "P:0.0 R:0.0 F:0.0\n",
      "\n",
      "input:  ['display', 'the', 'fare', 'codes', '.']\n",
      "target:     ('TOP', ('VP', ('DISPLAY', 'display'), ('NP', ('THE', 'the'), ('NPBAR', ('FARE', 'fare'), ('CODES', 'codes')))), ('PUN', '.'))\n",
      "predicted:  ()\n",
      "P:0.0 R:0.0 F:0.0\n",
      "\n",
      "input:  ['what', 'flights', 'from', 'kansas', 'city', 'to', 'denver', '.']\n",
      "target:     ('TOP', ('WHNP', ('WHNP', ('WHAT', 'what'), ('FLIGHTS', 'flights')), ('WHNPBAR', ('PP', ('FROM', 'from'), ('NP', ('KANSAS', 'kansas'), ('CITY', 'city'))), ('PP', ('TO', 'to'), ('NP', 'denver')))), ('PUN', '.'))\n",
      "predicted:  ('TOP', ('WHNP', ('WHNP', ('WHAT', 'what'), ('FLIGHTS', 'flights')), ('WHNPBAR', ('PP', ('FROM', 'from'), ('NP', ('KANSAS', 'kansas'), ('CITY', 'city'))), ('PP', ('TO', 'to'), ('NP', 'denver')))), ('PUN', '.'))\n",
      "P:1.0 R:1.0 F:1.0\n",
      "\n",
      "input:  ['what', 'flights', 'from', 'minneapolis', 'to', 'pittsburgh', '.']\n",
      "target:     ('TOP', ('WHNP', ('WHNP', ('WHAT', 'what'), ('FLIGHTS', 'flights')), ('WHNPBAR', ('PP', ('FROM', 'from'), ('NP', 'minneapolis')), ('PP', ('TO', 'to'), ('NP', 'pittsburgh')))), ('PUN', '.'))\n",
      "predicted:  ('TOP', ('WHNP', ('WHNP', ('WHAT', 'what'), ('FLIGHTS', 'flights')), ('WHNPBAR', ('PP', ('FROM', 'from'), ('NP', 'minneapolis')), ('PP', ('TO', 'to'), ('NP', 'pittsburgh')))), ('PUN', '.'))\n",
      "P:1.0 R:1.0 F:1.0\n",
      "\n",
      "input:  ['what', 'flights', 'from', 'tampa', 'to', 'cincinnati', '.']\n",
      "target:     ('TOP', ('WHNP', ('WHNP', ('WHAT', 'what'), ('FLIGHTS', 'flights')), ('WHNPBAR', ('PP', ('FROM', 'from'), ('NP', 'tampa')), ('PP', ('TO', 'to'), ('NP', 'cincinnati')))), ('PUN', '.'))\n",
      "predicted:  ('TOP', ('WHNP', ('WHNP', ('WHAT', 'what'), ('FLIGHTS', 'flights')), ('WHNPBAR', ('PP', ('FROM', 'from'), ('NP', 'tampa')), ('PP', ('TO', 'to'), ('NP', 'cincinnati')))), ('PUN', '.'))\n",
      "P:1.0 R:1.0 F:1.0\n",
      "\n",
      "input:  ['which', 'of', 'these', 'leave', 'after', 'noon', 'and', 'stop', 'in', 'phoenix', '.']\n",
      "target:     ('TOP', ('SBARQ', ('WHNP', ('WHNP', 'which'), ('PP', ('OF', 'of'), ('NP', 'these'))), ('VP', ('VP', ('LEAVE', 'leave'), ('PP', ('AFTER', 'after'), ('NP', 'noon'))), ('VPBAR', ('AND', 'and'), ('VP', ('STOP', 'stop'), ('PP', ('IN', 'in'), ('NP', 'phoenix')))))), ('PUN', '.'))\n",
      "predicted:  ('TOP', ('SBARQ', ('WHNP', ('WHNP', 'which'), ('PP', ('OF', 'of'), ('NP', 'these'))), ('VP', ('LEAVE', 'leave'), ('VPBAR', ('PP', ('AFTER', 'after'), ('NP', 'noon')), ('VPBAR', ('AND', 'and'), ('VP', ('STOP', 'stop'), ('PP', ('IN', 'in'), ('NP', 'phoenix'))))))), ('PUN', '.'))\n",
      "P:0.9523809523809523 R:0.9523809523809523 F:0.9523809523809523\n",
      "\n",
      "input:  ['flights', 'from', 'boston', 'to', 'pittsburgh', '.']\n",
      "target:     ('TOP', ('NP', ('NP', 'flights'), ('NPBAR', ('PP', ('FROM', 'from'), ('NP', 'boston')), ('PP', ('TO', 'to'), ('NP', 'pittsburgh')))), ('PUN', '.'))\n",
      "predicted:  ('TOP', ('NP', ('NP', 'flights'), ('NPBAR', ('PP', ('FROM', 'from'), ('NP', 'boston')), ('PP', ('TO', 'to'), ('NP', 'pittsburgh')))), ('PUN', '.'))\n",
      "P:1.0 R:1.0 F:1.0\n",
      "\n",
      "input:  ['i', 'prefer', 'a', 'morning', 'flight', '.']\n",
      "target:     ('TOP', ('S', ('NP', 'i'), ('VP', ('PREFER', 'prefer'), ('NP', ('A', 'a'), ('NPBAR', ('MORNING', 'morning'), ('FLIGHT', 'flight'))))), ('PUN', '.'))\n",
      "predicted:  ()\n",
      "P:0.0 R:0.0 F:0.0\n",
      "\n",
      "input:  ['show', 'me', 'the', 'first', 'flight', 'that', 'arrives', 'in', 'toronto', 'from', 'cincinnati', '.']\n",
      "target:     ('TOP', ('VP', ('SHOW', 'show'), ('VPBAR', ('NP', 'me'), ('NP', ('NP', ('THE', 'the'), ('NPBAR', ('FIRST', 'first'), ('FLIGHT', 'flight'))), ('NPBAR', ('SBAR', ('WHNP', 'that'), ('VP', ('ARRIVES', 'arrives'), ('PP', ('IN', 'in'), ('NP', 'toronto')))), ('PP', ('FROM', 'from'), ('NP', 'cincinnati')))))), ('PUN', '.'))\n",
      "predicted:  ('TOP', ('VP', ('SHOW', 'show'), ('VPBAR', ('NP', 'me'), ('NP', ('THE', 'the'), ('NPBAR', ('ADVP', 'first'), ('NP', ('NP', 'flight'), ('SBAR', ('WHNP', 'that'), ('VP', ('ARRIVES', 'arrives'), ('VPBAR', ('PP', ('IN', 'in'), ('NP', 'toronto')), ('PP', ('FROM', 'from'), ('NP', 'cincinnati')))))))))), ('PUN', '.'))\n",
      "P:0.6956521739130435 R:0.6956521739130435 F:0.6956521739130435\n",
      "\n",
      "input:  ['which', 'of', 'these', 'is', 'last', '.']\n",
      "target:     ('TOP', ('SBARQ', ('WHNP', ('WHNP', 'which'), ('PP', ('OF', 'of'), ('NP', 'these'))), ('VP', ('IS', 'is'), ('ADJP', 'last'))), ('PUN', '.'))\n",
      "predicted:  ('TOP', ('SBARQ', ('WHNP', ('WHNP', 'which'), ('PP', ('OF', 'of'), ('NP', 'these'))), ('VP', ('IS', 'is'), ('ADJP', 'last'))), ('PUN', '.'))\n",
      "P:1.0 R:1.0 F:1.0\n",
      "\n",
      "input:  ['i', \"'d\", 'like', 'a', 'flight', 'tomorrow', 'from', 'san', 'diego', 'to', 'toronto', '.']\n",
      "target:     ('TOP', ('S', ('NP', 'i'), ('VP', (\"'D\", \"'d\"), ('VP', ('LIKE', 'like'), ('NP', ('NP', ('A', 'a'), ('FLIGHT', 'flight')), ('NPBAR', ('NP', 'tomorrow'), ('NPBAR', ('PP', ('FROM', 'from'), ('NP', ('SAN', 'san'), ('DIEGO', 'diego'))), ('PP', ('TO', 'to'), ('NP', 'toronto')))))))), ('PUN', '.'))\n",
      "predicted:  ('TOP', ('S', ('NP', 'i'), ('VP', (\"'D\", \"'d\"), ('VP', ('LIKE', 'like'), ('NP', ('NP', ('NP', ('A', 'a'), ('FLIGHT', 'flight')), ('NP', 'tomorrow')), ('NPBAR', ('PP', ('FROM', 'from'), ('NP', ('SAN', 'san'), ('DIEGO', 'diego'))), ('PP', ('TO', 'to'), ('NP', 'toronto'))))))), ('PUN', '.'))\n",
      "P:0.9565217391304348 R:0.9565217391304348 F:0.9565217391304348\n",
      "\n",
      "input:  ['which', 'of', 'those', 'leave', 'before', 'eight', 'a.m', '.']\n",
      "target:     ('TOP', ('SBARQ', ('WHNP', ('WHNP', 'which'), ('PP', ('OF', 'of'), ('NP', 'those'))), ('VP', ('LEAVE', 'leave'), ('PP', ('BEFORE', 'before'), ('NP', ('EIGHT', 'eight'), ('A.M', 'a.m'))))), ('PUN', '.'))\n",
      "predicted:  ()\n",
      "P:0.0 R:0.0 F:0.0\n",
      "\n",
      "input:  ['what', 'airlines', 'from', 'washington', 'd', 'c', 'to', 'columbus', '.']\n",
      "target:     ('TOP', ('FRAG', ('WHNP', ('WHAT', 'what'), ('AIRLINES', 'airlines')), ('FRAGBAR', ('PP', ('FROM', 'from'), ('NP', ('NP', 'washington'), ('NP', ('D', 'd'), ('C', 'c')))), ('PP', ('TO', 'to'), ('NP', 'columbus')))), ('PUN', '.'))\n",
      "predicted:  ('TOP', ('WHNP', ('WHNP', ('WHAT', 'what'), ('AIRLINES', 'airlines')), ('WHNPBAR', ('PP', ('FROM', 'from'), ('NP', ('NP', 'washington'), ('NP', ('D', 'd'), ('C', 'c')))), ('PP', ('TO', 'to'), ('NP', 'columbus')))), ('PUN', '.'))\n",
      "P:0.8823529411764706 R:0.8823529411764706 F:0.8823529411764706\n",
      "\n",
      "input:  ['what', 'flights', 'from', 'chicago', 'to', 'kansas', 'city', 'in', 'the', 'morning', '.']\n",
      "target:     ('TOP', ('WHNP', ('NP', ('WHAT', 'what'), ('FLIGHTS', 'flights')), ('WHNPBAR', ('PP', ('FROM', 'from'), ('NP', 'chicago')), ('WHNPBAR', ('PP', ('TO', 'to'), ('NP', ('KANSAS', 'kansas'), ('CITY', 'city'))), ('PP', ('IN', 'in'), ('NP', ('THE', 'the'), ('MORNING', 'morning')))))), ('PUN', '.'))\n",
      "predicted:  ('TOP', ('WHNP', ('WHNP', ('WHAT', 'what'), ('FLIGHTS', 'flights')), ('WHNPBAR', ('PP', ('FROM', 'from'), ('NP', 'chicago')), ('WHNPBAR', ('PP', ('TO', 'to'), ('NP', ('KANSAS', 'kansas'), ('CITY', 'city'))), ('PP', ('IN', 'in'), ('NP', ('THE', 'the'), ('MORNING', 'morning')))))), ('PUN', '.'))\n",
      "P:0.9523809523809523 R:0.9523809523809523 F:0.9523809523809523\n",
      "\n",
      "input:  ['what', 'type', 'of', 'aircraft', 'is', 'used', 'on', 'those', 'flights', '.']\n",
      "target:     ('TOP', ('SBARQ', ('WHNP', ('WHNP', ('WHAT', 'what'), ('TYPE', 'type')), ('PP', ('OF', 'of'), ('NP', 'aircraft'))), ('VP', ('IS', 'is'), ('VP', ('USED', 'used'), ('PP', ('ON', 'on'), ('NP', ('THOSE', 'those'), ('FLIGHTS', 'flights')))))), ('PUN', '.'))\n",
      "predicted:  ()\n",
      "P:0.0 R:0.0 F:0.0\n",
      "\n",
      "input:  ['price', 'of', 'flight', 'a', 'a', 'one', 'thousand', 'three', 'hundred', 'nineteen', '.']\n",
      "target:     ('TOP', ('NP', ('NP', 'price'), ('PP', ('OF', 'of'), ('NP', ('FLIGHT', 'flight'), ('NPBAR', ('A', 'a'), ('NPBAR', ('A', 'a'), ('NPBAR', ('ONE', 'one'), ('NPBAR', ('THOUSAND', 'thousand'), ('NPBAR', ('THREE', 'three'), ('NPBAR', ('HUNDRED', 'hundred'), ('NINETEEN', 'nineteen')))))))))), ('PUN', '.'))\n",
      "predicted:  ()\n",
      "P:0.0 R:0.0 F:0.0\n",
      "\n",
      "input:  ['show', 'me', 'the', 'ground', 'transportation', 'available', '.']\n",
      "target:     ('TOP', ('VP', ('SHOW', 'show'), ('VPBAR', ('NP', 'me'), ('NP', ('NP', ('THE', 'the'), ('NPBAR', ('GROUND', 'ground'), ('TRANSPORTATION', 'transportation'))), ('ADJP', 'available')))), ('PUN', '.'))\n",
      "predicted:  ()\n",
      "P:0.0 R:0.0 F:0.0\n",
      "\n",
      "input:  ['which', 'is', 'the', 'latest', '.']\n",
      "target:     ('TOP', ('SBARQ', ('WHNP', 'which'), ('VP', ('IS', 'is'), ('NP', ('THE', 'the'), ('LATEST', 'latest')))), ('PUN', '.'))\n",
      "predicted:  ()\n",
      "P:0.0 R:0.0 F:0.0\n",
      "\n",
      "input:  ['what', 'about', 'after', 'seven', 'p.m', '.']\n",
      "target:     ('TOP', ('FRAG', ('X', ('WHAT', 'what'), ('ABOUT', 'about')), ('PP', ('AFTER', 'after'), ('NP', ('SEVEN', 'seven'), ('P.M', 'p.m')))), ('PUN', '.'))\n",
      "predicted:  ('TOP', ('FRAG', ('X', ('WHAT', 'what'), ('ABOUT', 'about')), ('PP', ('AFTER', 'after'), ('NP', ('SEVEN', 'seven'), ('P.M', 'p.m')))), ('PUN', '.'))\n",
      "P:1.0 R:1.0 F:1.0\n",
      "\n",
      "input:  ['what', 'flights', 'from', 'salt', 'lake', 'city', 'to', 'las', 'vegas', '.']\n",
      "target:     ('TOP', ('FRAG', ('WHNP', ('WHNP', ('WHAT', 'what'), ('FLIGHTS', 'flights')), ('PP', ('FROM', 'from'), ('NP', ('SALT', 'salt'), ('NPBAR', ('LAKE', 'lake'), ('CITY', 'city'))))), ('PP', ('TO', 'to'), ('NP', ('LAS', 'las'), ('VEGAS', 'vegas')))), ('PUN', '.'))\n",
      "predicted:  ('TOP', ('WHNP', ('WHNP', ('WHAT', 'what'), ('FLIGHTS', 'flights')), ('WHNPBAR', ('PP', ('FROM', 'from'), ('NP', ('SALT', 'salt'), ('NPBAR', ('LAKE', 'lake'), ('CITY', 'city')))), ('PP', ('TO', 'to'), ('NP', ('LAS', 'las'), ('VEGAS', 'vegas'))))), ('PUN', '.'))\n",
      "P:0.8947368421052632 R:0.8947368421052632 F:0.8947368421052632\n",
      "\n",
      "input:  ['flights', 'after', 'twelve', 'hundred', 'hours', '.']\n",
      "target:     ('TOP', ('NP', ('NP', 'flights'), ('PP', ('AFTER', 'after'), ('NP', ('TWELVE', 'twelve'), ('NPBAR', ('HUNDRED', 'hundred'), ('HOURS', 'hours'))))), ('PUN', '.'))\n",
      "predicted:  ('TOP', ('FRAG', ('NP', 'flights'), ('PP', ('AFTER', 'after'), ('NP', ('TWELVE', 'twelve'), ('NPBAR', ('HUNDRED', 'hundred'), ('HOURS', 'hours'))))), ('PUN', '.'))\n",
      "P:0.9090909090909091 R:0.9090909090909091 F:0.9090909090909091\n",
      "\n",
      "input:  ['what', 'is', 'the', 'price', 'of', 'united', 'airlines', 'flight', 'nine', 'seven', '.']\n",
      "target:     ('TOP', ('SBARQ', ('WHNP', 'what'), ('SQ', ('IS', 'is'), ('NP', ('NP', ('THE', 'the'), ('PRICE', 'price')), ('PP', ('OF', 'of'), ('NP', ('UNITED', 'united'), ('NPBAR', ('AIRLINES', 'airlines'), ('NPBAR', ('FLIGHT', 'flight'), ('NPBAR', ('NINE', 'nine'), ('SEVEN', 'seven'))))))))), ('PUN', '.'))\n",
      "predicted:  ('TOP', ('SBARQ', ('WHNP', 'what'), ('SQ', ('IS', 'is'), ('NP', ('NP', ('THE', 'the'), ('PRICE', 'price')), ('NPBAR', ('PP', ('OF', 'of'), ('NP', ('UNITED', 'united'), ('AIRLINES', 'airlines'))), ('NPBAR', ('FLIGHT', 'flight'), ('NPBAR', ('NINE', 'nine'), ('SEVEN', 'seven'))))))), ('PUN', '.'))\n",
      "P:0.8571428571428571 R:0.8571428571428571 F:0.8571428571428571\n",
      "\n",
      "input:  ['cheapest', 'airfare', 'from', 'orlando', 'to', 'tacoma', '.']\n",
      "target:     ('TOP', ('NP', ('NP', ('CHEAPEST', 'cheapest'), ('AIRFARE', 'airfare')), ('NPBAR', ('PP', ('FROM', 'from'), ('NP', 'orlando')), ('PP', ('TO', 'to'), ('NP', 'tacoma')))), ('PUN', '.'))\n",
      "predicted:  ('TOP', ('NP', ('NP', ('CHEAPEST', 'cheapest'), ('AIRFARE', 'airfare')), ('NPBAR', ('PP', ('FROM', 'from'), ('NP', 'orlando')), ('PP', ('TO', 'to'), ('NP', 'tacoma')))), ('PUN', '.'))\n",
      "P:1.0 R:1.0 F:1.0\n",
      "\n",
      "input:  ['price', 'of', 'flight', 'from', 'cleveland', 'to', 'nashville', '.']\n",
      "target:     ('TOP', ('NP', ('NP', 'price'), ('PP', ('OF', 'of'), ('NP', ('NP', 'flight'), ('NPBAR', ('PP', ('FROM', 'from'), ('NP', 'cleveland')), ('PP', ('TO', 'to'), ('NP', 'nashville')))))), ('PUN', '.'))\n",
      "predicted:  ('TOP', ('FRAG', ('NP', 'price'), ('PP', ('OF', 'of'), ('NP', ('FLIGHT', 'flight'), ('NPBAR', ('PP', ('FROM', 'from'), ('NP', 'cleveland')), ('PP', ('TO', 'to'), ('NP', 'nashville')))))), ('PUN', '.'))\n",
      "P:0.8666666666666667 R:0.8666666666666667 F:0.8666666666666667\n",
      "\n",
      "input:  ['what', 'is', 'the', 'price', '.']\n",
      "target:     ('TOP', ('SBARQ', ('WHNP', 'what'), ('SQ', ('IS', 'is'), ('NP', ('THE', 'the'), ('PRICE', 'price')))), ('PUN', '.'))\n",
      "predicted:  ('TOP', ('SBARQ', ('WHNP', 'what'), ('SQ', ('IS', 'is'), ('NP', ('THE', 'the'), ('PRICE', 'price')))), ('PUN', '.'))\n",
      "P:1.0 R:1.0 F:1.0\n",
      "\n",
      "input:  ['what', 'is', 'the', 'price', 'of', 'flights', 'from', 'indianapolis', 'to', 'memphis', '.']\n",
      "target:     ('TOP', ('SBARQ', ('WHNP', 'what'), ('SQ', ('IS', 'is'), ('NP', ('NP', ('THE', 'the'), ('PRICE', 'price')), ('PP', ('OF', 'of'), ('NP', ('NP', 'flights'), ('NPBAR', ('PP', ('FROM', 'from'), ('NP', 'indianapolis')), ('PP', ('TO', 'to'), ('NP', 'memphis')))))))), ('PUN', '.'))\n",
      "predicted:  ('TOP', ('SBARQ', ('WHNP', 'what'), ('SQ', ('IS', 'is'), ('NP', ('NP', ('THE', 'the'), ('PRICE', 'price')), ('NPBAR', ('PP', ('OF', 'of'), ('NP', 'flights')), ('NPBAR', ('PP', ('FROM', 'from'), ('NP', 'indianapolis')), ('PP', ('TO', 'to'), ('NP', 'memphis'))))))), ('PUN', '.'))\n",
      "P:0.9047619047619048 R:0.9047619047619048 F:0.9047619047619048\n",
      "\n",
      "input:  ['show', 'me', 'the', 'flights', 'from', 'newark', 'new', 'jersey', 'to', 'ontario', 'international', 'next', 'saturday', '.']\n",
      "target:     ('TOP', ('VP', ('SHOW', 'show'), ('VPBAR', ('NP', 'me'), ('NP', ('NP', ('THE', 'the'), ('FLIGHTS', 'flights')), ('NPBAR', ('PP', ('FROM', 'from'), ('NP', ('NP', 'newark'), ('NP', ('NEW', 'new'), ('JERSEY', 'jersey')))), ('NPBAR', ('PP', ('TO', 'to'), ('NP', ('ONTARIO', 'ontario'), ('INTERNATIONAL', 'international'))), ('NP', ('NEXT', 'next'), ('SATURDAY', 'saturday'))))))), ('PUN', '.'))\n",
      "predicted:  ()\n",
      "P:0.0 R:0.0 F:0.0\n",
      "\n",
      "input:  ['what', 'flights', 'leave', 'phoenix', 'on', 'wednesday', '.']\n",
      "target:     ('TOP', ('SBARQ', ('WHNP', ('WHAT', 'what'), ('FLIGHTS', 'flights')), ('VP', ('LEAVE', 'leave'), ('VPBAR', ('NP', 'phoenix'), ('PP', ('ON', 'on'), ('NP', 'wednesday'))))), ('PUN', '.'))\n",
      "predicted:  ('TOP', ('SBARQ', ('WHNP', ('WHAT', 'what'), ('FLIGHTS', 'flights')), ('VP', ('LEAVE', 'leave'), ('VPBAR', ('NP', 'phoenix'), ('PP', ('ON', 'on'), ('NP', 'wednesday'))))), ('PUN', '.'))\n",
      "P:1.0 R:1.0 F:1.0\n",
      "\n",
      "input:  ['show', 'me', 'the', 'meal', '.']\n",
      "target:     ('TOP', ('VP', ('SHOW', 'show'), ('VPBAR', ('NP', 'me'), ('NP', ('THE', 'the'), ('MEAL', 'meal')))), ('PUN', '.'))\n",
      "predicted:  ()\n",
      "P:0.0 R:0.0 F:0.0\n",
      "\n",
      "input:  ['show', 'business', 'class', 'fares', '.']\n",
      "target:     ('TOP', ('VP', ('SHOW', 'show'), ('NP', ('BUSINESS', 'business'), ('NPBAR', ('CLASS', 'class'), ('FARES', 'fares')))), ('PUN', '.'))\n",
      "predicted:  ('TOP', ('VP', ('SHOW', 'show'), ('NP', ('BUSINESS', 'business'), ('NPBAR', ('CLASS', 'class'), ('FARES', 'fares')))), ('PUN', '.'))\n",
      "P:1.0 R:1.0 F:1.0\n",
      "\n",
      "input:  ['i', 'have', 'a', 'friend', 'living', 'in', 'denver', 'that', 'would', 'like', 'to', 'visit', 'me', 'here', 'in', 'washington', 'd', 'c', '.']\n",
      "target:     ('TOP', ('S', ('NP', 'i'), ('VP', ('HAVE', 'have'), ('NP', ('NP', ('A', 'a'), ('FRIEND', 'friend')), ('NPBAR', ('VP', ('LIVING', 'living'), ('PP', ('IN', 'in'), ('NP', 'denver'))), ('SBAR', ('WHNP', 'that'), ('VP', ('WOULD', 'would'), ('VP', ('LIKE', 'like'), ('VP', ('TO', 'to'), ('VP', ('VISIT', 'visit'), ('VPBAR', ('NP', 'me'), ('ADVP', ('ADVP', 'here'), ('PP', ('IN', 'in'), ('NP', ('NP', 'washington'), ('NP', ('D', 'd'), ('C', 'c'))))))))))))))), ('PUN', '.'))\n",
      "predicted:  ()\n",
      "P:0.0 R:0.0 F:0.0\n",
      "\n",
      "input:  ['cheapest', '.']\n",
      "target:     ('TOP', ('ADJP', 'cheapest'), ('PUN', '.'))\n",
      "predicted:  ()\n",
      "P:0.0 R:0.0 F:0.0\n",
      "\n",
      "input:  ['list', 'nonstop', 'flights', 'from', 'burbank', 'to', 'denver', 'arriving', 'by', 'six', 'p.m', '.']\n",
      "target:     ('TOP', ('VP', ('LIST', 'list'), ('NP', ('NP', ('NONSTOP', 'nonstop'), ('FLIGHTS', 'flights')), ('NPBAR', ('PP', ('FROM', 'from'), ('NP', 'burbank')), ('NPBAR', ('PP', ('TO', 'to'), ('NP', 'denver')), ('VP', ('ARRIVING', 'arriving'), ('PP', ('BY', 'by'), ('NP', ('SIX', 'six'), ('P.M', 'p.m')))))))), ('PUN', '.'))\n",
      "predicted:  ('TOP', ('VP', ('LIST', 'list'), ('NP', ('NP', ('NONSTOP', 'nonstop'), ('FLIGHTS', 'flights')), ('NPBAR', ('PP', ('FROM', 'from'), ('NP', 'burbank')), ('NPBAR', ('PP', ('TO', 'to'), ('NP', 'denver')), ('VP', ('ARRIVING', 'arriving'), ('PP', ('BY', 'by'), ('NP', ('SIX', 'six'), ('P.M', 'p.m')))))))), ('PUN', '.'))\n",
      "P:1.0 R:1.0 F:1.0\n",
      "\n",
      "input:  ['shortest', 'morning', 'flights', 'from', 'cincinnati', 'to', 'tampa', '.']\n",
      "target:     ('TOP', ('NP', ('NP', ('SHORTEST', 'shortest'), ('NPBAR', ('MORNING', 'morning'), ('FLIGHTS', 'flights'))), ('NPBAR', ('PP', ('FROM', 'from'), ('NP', 'cincinnati')), ('PP', ('TO', 'to'), ('NP', 'tampa')))), ('PUN', '.'))\n",
      "predicted:  ('TOP', ('NP', ('NP', ('SHORTEST', 'shortest'), ('NPBAR', ('MORNING', 'morning'), ('FLIGHTS', 'flights'))), ('NPBAR', ('PP', ('FROM', 'from'), ('NP', 'cincinnati')), ('PP', ('TO', 'to'), ('NP', 'tampa')))), ('PUN', '.'))\n",
      "P:1.0 R:1.0 F:1.0\n",
      "\n",
      "input:  ['flights', 'from', 'kansas', 'city', 'to', 'cleveland', '.']\n",
      "target:     ('TOP', ('NP', ('NP', 'flights'), ('NPBAR', ('PP', ('FROM', 'from'), ('NP', ('KANSAS', 'kansas'), ('CITY', 'city'))), ('PP', ('TO', 'to'), ('NP', 'cleveland')))), ('PUN', '.'))\n",
      "predicted:  ('TOP', ('NP', ('NP', 'flights'), ('NPBAR', ('PP', ('FROM', 'from'), ('NP', ('KANSAS', 'kansas'), ('CITY', 'city'))), ('PP', ('TO', 'to'), ('NP', 'cleveland')))), ('PUN', '.'))\n",
      "P:1.0 R:1.0 F:1.0\n",
      "\n",
      "input:  ['from', 'toronto', 'to', 'atlanta', 'in', 'the', 'afternoon', '.']\n",
      "target:     ('TOP', ('FRAG', ('PP', ('FROM', 'from'), ('NP', 'toronto')), ('FRAGBAR', ('PP', ('TO', 'to'), ('NP', 'atlanta')), ('PP', ('IN', 'in'), ('NP', ('THE', 'the'), ('AFTERNOON', 'afternoon'))))), ('PUN', '.'))\n",
      "predicted:  ('TOP', ('FRAG', ('PP', ('FROM', 'from'), ('NP', 'toronto')), ('FRAGBAR', ('PP', ('TO', 'to'), ('NP', 'atlanta')), ('PP', ('IN', 'in'), ('NP', ('THE', 'the'), ('AFTERNOON', 'afternoon'))))), ('PUN', '.'))\n",
      "P:1.0 R:1.0 F:1.0\n",
      "\n",
      "input:  ['now', 'i', 'need', 'a', 'flight', 'on', 'tuesday', 'from', 'phoenix', 'to', 'detroit', '.']\n",
      "target:     ('TOP', ('S', ('ADVP', 'now'), ('SBAR', ('NP', 'i'), ('VP', ('NEED', 'need'), ('NP', ('NP', ('A', 'a'), ('FLIGHT', 'flight')), ('NPBAR', ('PP', ('ON', 'on'), ('NP', 'tuesday')), ('NPBAR', ('PP', ('FROM', 'from'), ('NP', 'phoenix')), ('PP', ('TO', 'to'), ('NP', 'detroit')))))))), ('PUN', '.'))\n",
      "predicted:  ('TOP', ('S', ('ADVP', 'now'), ('SBAR', ('NP', 'i'), ('VP', ('NEED', 'need'), ('NP', ('NP', ('A', 'a'), ('FLIGHT', 'flight')), ('NPBAR', ('PP', ('ON', 'on'), ('NP', 'tuesday')), ('NPBAR', ('PP', ('FROM', 'from'), ('NP', 'phoenix')), ('PP', ('TO', 'to'), ('NP', 'detroit')))))))), ('PUN', '.'))\n",
      "P:1.0 R:1.0 F:1.0\n",
      "\n",
      "input:  ['i', 'need', 'a', 'flight', 'the', 'next', 'day', 'from', 'newark', 'to', 'orlando', '.']\n",
      "target:     ('TOP', ('S', ('NP', 'i'), ('VP', ('NEED', 'need'), ('NP', ('NP', ('A', 'a'), ('FLIGHT', 'flight')), ('NPBAR', ('NP', ('THE', 'the'), ('NPBAR', ('NEXT', 'next'), ('DAY', 'day'))), ('NPBAR', ('PP', ('FROM', 'from'), ('NP', 'newark')), ('PP', ('TO', 'to'), ('NP', 'orlando'))))))), ('PUN', '.'))\n",
      "predicted:  ('TOP', ('S', ('NP', 'i'), ('VP', ('NEED', 'need'), ('NP', ('NP', ('NP', ('A', 'a'), ('FLIGHT', 'flight')), ('NP', ('THE', 'the'), ('NPBAR', ('NEXT', 'next'), ('DAY', 'day')))), ('NPBAR', ('PP', ('FROM', 'from'), ('NP', 'newark')), ('PP', ('TO', 'to'), ('NP', 'orlando')))))), ('PUN', '.'))\n",
      "P:0.9565217391304348 R:0.9565217391304348 F:0.9565217391304348\n",
      "\n",
      "input:  ['flights', 'from', 'pittsburgh', 'to', 'newark', '.']\n",
      "target:     ('TOP', ('NP', ('NP', 'flights'), ('NPBAR', ('PP', ('FROM', 'from'), ('NP', 'pittsburgh')), ('PP', ('TO', 'to'), ('NP', 'newark')))), ('PUN', '.'))\n",
      "predicted:  ('TOP', ('NP', ('NP', 'flights'), ('NPBAR', ('PP', ('FROM', 'from'), ('NP', 'pittsburgh')), ('PP', ('TO', 'to'), ('NP', 'newark')))), ('PUN', '.'))\n",
      "P:1.0 R:1.0 F:1.0\n",
      "\n",
      "input:  ['what', 'is', 'airline', 'f', 'f', '.']\n",
      "target:     ('TOP', ('SBARQ', ('WHNP', 'what'), ('SQ', ('IS', 'is'), ('NP', ('AIRLINE', 'airline'), ('NPBAR', ('F', 'f'), ('F', 'f'))))), ('PUN', '.'))\n",
      "predicted:  ()\n",
      "P:0.0 R:0.0 F:0.0\n",
      "\n",
      "input:  ['julysixteenth', 'please', '.']\n",
      "target:     ('TOP', ('FRAG', ('NP', 'julysixteenth'), ('INTJ', 'please')), ('PUN', '.'))\n",
      "predicted:  ()\n",
      "P:0.0 R:0.0 F:0.0\n",
      "\n",
      "input:  ['airports', 'in', 'new', 'york', '.']\n",
      "target:     ('TOP', ('NP', ('NP', 'airports'), ('PP', ('IN', 'in'), ('NP', ('NEW', 'new'), ('YORK', 'york')))), ('PUN', '.'))\n",
      "predicted:  ('TOP', ('FRAG', ('NP', 'airports'), ('PP', ('IN', 'in'), ('NP', ('NEW', 'new'), ('YORK', 'york')))), ('PUN', '.'))\n",
      "P:0.8888888888888888 R:0.8888888888888888 F:0.8888888888888888\n",
      "\n",
      "input:  ['show', 'me', 'the', 'flights', 'from', 'baltimore', 'to', 'seattle', '.']\n",
      "target:     ('TOP', ('VP', ('SHOW', 'show'), ('VPBAR', ('NP', 'me'), ('NP', ('NP', ('THE', 'the'), ('FLIGHTS', 'flights')), ('NPBAR', ('PP', ('FROM', 'from'), ('NP', 'baltimore')), ('PP', ('TO', 'to'), ('NP', 'seattle')))))), ('PUN', '.'))\n",
      "predicted:  ('TOP', ('VP', ('SHOW', 'show'), ('VPBAR', ('NP', 'me'), ('NP', ('NP', ('THE', 'the'), ('FLIGHTS', 'flights')), ('NPBAR', ('PP', ('FROM', 'from'), ('NP', 'baltimore')), ('PP', ('TO', 'to'), ('NP', 'seattle')))))), ('PUN', '.'))\n",
      "P:1.0 R:1.0 F:1.0\n",
      "\n",
      "input:  ['friday', 'afternoon', '.']\n",
      "target:     ('TOP', ('NP', ('FRIDAY', 'friday'), ('AFTERNOON', 'afternoon')), ('PUN', '.'))\n",
      "predicted:  ('TOP', ('NP', ('FRIDAY', 'friday'), ('AFTERNOON', 'afternoon')), ('PUN', '.'))\n",
      "P:1.0 R:1.0 F:1.0\n",
      "\n",
      "input:  ['how', 'many', 'stops', 'are', 'there', '.']\n",
      "target:     ('TOP', ('SBAR', ('WHNP', ('WHADJP', ('HOW', 'how'), ('MANY', 'many')), ('STOPS', 'stops')), ('SQ', ('ARE', 'are'), ('NP', 'there'))), ('PUN', '.'))\n",
      "predicted:  ()\n",
      "P:0.0 R:0.0 F:0.0\n",
      "\n",
      "input:  ['flights', 'from', 'pittsburgh', 'to', 'los', 'angeles', 'thursday', 'evening', '.']\n",
      "target:     ('TOP', ('NP', ('NP', 'flights'), ('NPBAR', ('PP', ('FROM', 'from'), ('NP', 'pittsburgh')), ('NPBAR', ('PP', ('TO', 'to'), ('NP', ('LOS', 'los'), ('ANGELES', 'angeles'))), ('NP', ('THURSDAY', 'thursday'), ('EVENING', 'evening'))))), ('PUN', '.'))\n",
      "predicted:  ('TOP', ('FRAG', ('NP', 'flights'), ('FRAGBAR', ('PP', ('FROM', 'from'), ('NP', 'pittsburgh')), ('FRAGBAR', ('PP', ('TO', 'to'), ('NP', ('LOS', 'los'), ('ANGELES', 'angeles'))), ('NP', ('THURSDAY', 'thursday'), ('EVENING', 'evening'))))), ('PUN', '.'))\n",
      "P:0.8235294117647058 R:0.8235294117647058 F:0.8235294117647058\n",
      "\n",
      "input:  ['show', 'me', 'thelatestflight', 'from', 'salt', 'lake', 'city', 'to', 'phoenix', '.']\n",
      "target:     ('TOP', ('VP', ('SHOW', 'show'), ('VPBAR', ('NP', 'me'), ('NP', ('NP', 'thelatestflight'), ('NPBAR', ('PP', ('FROM', 'from'), ('NP', ('SALT', 'salt'), ('NPBAR', ('LAKE', 'lake'), ('CITY', 'city')))), ('PP', ('TO', 'to'), ('NP', 'phoenix')))))), ('PUN', '.'))\n",
      "predicted:  ('TOP', ('VP', ('SHOW', 'show'), ('VPBAR', ('NP', 'me'), ('NP', ('NP', 'thelatestflight'), ('NPBAR', ('PP', ('FROM', 'from'), ('NP', ('SALT', 'salt'), ('NPBAR', ('LAKE', 'lake'), ('CITY', 'city')))), ('PP', ('TO', 'to'), ('NP', 'phoenix')))))), ('PUN', '.'))\n",
      "P:1.0 R:1.0 F:1.0\n",
      "\n",
      "input:  ['of', 'those', 'flights', 'which', 'ones', 'stop', 'in', 'minneapolis', '.']\n",
      "target:     ('TOP', ('SBARQ', ('PP', ('OF', 'of'), ('NP', ('THOSE', 'those'), ('FLIGHTS', 'flights'))), ('SBARQBAR', ('WHNP', ('WHICH', 'which'), ('ONES', 'ones')), ('VP', ('STOP', 'stop'), ('PP', ('IN', 'in'), ('NP', 'minneapolis'))))), ('PUN', '.'))\n",
      "predicted:  ('TOP', ('S', ('PP', ('OF', 'of'), ('NP', ('NP', 'those'), ('FLIGHTS', 'flights'))), ('SBAR', ('WHNP', ('WHICH', 'which'), ('ONES', 'ones')), ('VP', ('STOP', 'stop'), ('PP', ('IN', 'in'), ('NP', 'minneapolis'))))), ('PUN', '.'))\n",
      "P:0.8235294117647058 R:0.8235294117647058 F:0.8235294117647058\n",
      "\n",
      "input:  ['tuesday', '.']\n",
      "target:     ('TOP', ('NP', 'tuesday'), ('PUN', '.'))\n",
      "predicted:  ('TOP', ('NP', 'tuesday'), ('PUN', '.'))\n",
      "P:1.0 R:1.0 F:1.0\n",
      "\n",
      "input:  ['flights', 'from', 'miami', 'to', 'cleveland', '.']\n",
      "target:     ('TOP', ('NP', ('NP', 'flights'), ('NPBAR', ('PP', ('FROM', 'from'), ('NP', 'miami')), ('PP', ('TO', 'to'), ('NP', 'cleveland')))), ('PUN', '.'))\n",
      "predicted:  ('TOP', ('NP', ('NP', 'flights'), ('NPBAR', ('PP', ('FROM', 'from'), ('NP', 'miami')), ('PP', ('TO', 'to'), ('NP', 'cleveland')))), ('PUN', '.'))\n",
      "P:1.0 R:1.0 F:1.0\n",
      "\n",
      "input:  ['what', 'is', 'b', 'n', 'a', '.']\n",
      "target:     ('TOP', ('SBARQ', ('WHNP', 'what'), ('SQ', ('IS', 'is'), ('NP', ('B', 'b'), ('NPBAR', ('N', 'n'), ('A', 'a'))))), ('PUN', '.'))\n",
      "predicted:  ()\n",
      "P:0.0 R:0.0 F:0.0\n",
      "\n",
      "input:  ['show', 'me', 'the', 'flights', 'that', 'accept', 'frequent', 'flyer', 'tickets', '.']\n",
      "target:     ('TOP', ('VP', ('SHOW', 'show'), ('VPBAR', ('NP', 'me'), ('NP', ('NP', ('THE', 'the'), ('FLIGHTS', 'flights')), ('SBAR', ('WHNP', 'that'), ('VP', ('ACCEPT', 'accept'), ('NP', ('FREQUENT', 'frequent'), ('NPBAR', ('FLYER', 'flyer'), ('TICKETS', 'tickets')))))))), ('PUN', '.'))\n",
      "predicted:  ()\n",
      "P:0.0 R:0.0 F:0.0\n",
      "\n",
      "input:  ['which', 'flights', 'depart', 'burbank', 'between', 'twelve', 'noon', 'and', 'six', 'p.m', '.']\n",
      "target:     ('TOP', ('SBARQ', ('WHNP', ('WHICH', 'which'), ('FLIGHTS', 'flights')), ('VP', ('DEPART', 'depart'), ('VPBAR', ('NP', 'burbank'), ('PP', ('BETWEEN', 'between'), ('NP', ('NP', ('TWELVE', 'twelve'), ('NOON', 'noon')), ('NPBAR', ('AND', 'and'), ('NP', ('SIX', 'six'), ('P.M', 'p.m')))))))), ('PUN', '.'))\n",
      "predicted:  ('TOP', ('SBARQ', ('WHNP', ('WHICH', 'which'), ('FLIGHTS', 'flights')), ('VP', ('DEPART', 'depart'), ('NP', ('NP', 'burbank'), ('NPBAR', ('PP', ('BETWEEN', 'between'), ('NP', ('TWELVE', 'twelve'), ('NOON', 'noon'))), ('NPBAR', ('AND', 'and'), ('NP', ('SIX', 'six'), ('P.M', 'p.m'))))))), ('PUN', '.'))\n",
      "P:0.8571428571428571 R:0.8571428571428571 F:0.8571428571428571\n",
      "\n",
      "input:  ['i', 'need', 'a', 'flight', 'from', 'kansas', 'city', 'to', 'newark', 'on', 'the', 'first', 'of', 'july', '.']\n",
      "target:     ('TOP', ('S', ('NP', 'i'), ('VP', ('NEED', 'need'), ('NP', ('NP', ('A', 'a'), ('FLIGHT', 'flight')), ('NPBAR', ('PP', ('FROM', 'from'), ('NP', ('KANSAS', 'kansas'), ('CITY', 'city'))), ('NPBAR', ('PP', ('TO', 'to'), ('NP', 'newark')), ('PP', ('ON', 'on'), ('NP', ('NP', ('THE', 'the'), ('FIRST', 'first')), ('PP', ('OF', 'of'), ('NP', 'july'))))))))), ('PUN', '.'))\n",
      "predicted:  ()\n",
      "P:0.0 R:0.0 F:0.0\n",
      "\n",
      "input:  ['what', 'flights', 'are', 'there', 'from', 'new', 'york', 'to', 'las', 'vegas', '.']\n",
      "target:     ('TOP', ('SBARQ', ('WHNP', ('WHAT', 'what'), ('FLIGHTS', 'flights')), ('SQ', ('ARE', 'are'), ('SQBAR', ('NP', 'there'), ('SQBAR', ('PP', ('FROM', 'from'), ('NP', ('NEW', 'new'), ('YORK', 'york'))), ('PP', ('TO', 'to'), ('NP', ('LAS', 'las'), ('VEGAS', 'vegas'))))))), ('PUN', '.'))\n",
      "predicted:  ('TOP', ('SBARQ', ('WHNP', ('WHAT', 'what'), ('FLIGHTS', 'flights')), ('SQ', ('ARE', 'are'), ('SQBAR', ('NP', 'there'), ('SQBAR', ('PP', ('FROM', 'from'), ('NP', ('NEW', 'new'), ('YORK', 'york'))), ('PP', ('TO', 'to'), ('NP', ('LAS', 'las'), ('VEGAS', 'vegas'))))))), ('PUN', '.'))\n",
      "P:1.0 R:1.0 F:1.0\n",
      "\n",
      "Coverage: 67.24%, Average F-score (parsed sentences): 0.9504475408614075, Average F-score (all sentences): 0.6390940360964636\n"
     ]
    }
   ],
   "source": [
    "!python evaluate_parser.py atis3.pcfg atis3_test.ptb"
   ]
  },
  {
   "cell_type": "code",
   "execution_count": null,
   "id": "296bc3fe",
   "metadata": {},
   "outputs": [],
   "source": []
  }
 ],
 "metadata": {
  "kernelspec": {
   "display_name": "Python 3 (ipykernel)",
   "language": "python",
   "name": "python3"
  },
  "language_info": {
   "codemirror_mode": {
    "name": "ipython",
    "version": 3
   },
   "file_extension": ".py",
   "mimetype": "text/x-python",
   "name": "python",
   "nbconvert_exporter": "python",
   "pygments_lexer": "ipython3",
   "version": "3.9.15"
  }
 },
 "nbformat": 4,
 "nbformat_minor": 5
}
