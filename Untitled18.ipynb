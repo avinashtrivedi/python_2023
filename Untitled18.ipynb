{
 "cells": [
  {
   "cell_type": "code",
   "execution_count": 5,
   "id": "0e835556",
   "metadata": {},
   "outputs": [],
   "source": [
    "from nltk import ngrams\n",
    "\n",
    "sentence = 'this is a foo bar sentences and I want to ngramize it'\n",
    "\n",
    "n = 2\n",
    "sixgrams = ngrams(sentence.split(), n)\n",
    "\n",
    "# for grams in sixgrams:\n",
    "#     print(grams)"
   ]
  },
  {
   "cell_type": "code",
   "execution_count": 6,
   "id": "00ff97fd",
   "metadata": {},
   "outputs": [
    {
     "data": {
      "text/plain": [
       "[('this', 'is'),\n",
       " ('is', 'a'),\n",
       " ('a', 'foo'),\n",
       " ('foo', 'bar'),\n",
       " ('bar', 'sentences'),\n",
       " ('sentences', 'and'),\n",
       " ('and', 'I'),\n",
       " ('I', 'want'),\n",
       " ('want', 'to'),\n",
       " ('to', 'ngramize'),\n",
       " ('ngramize', 'it')]"
      ]
     },
     "execution_count": 6,
     "metadata": {},
     "output_type": "execute_result"
    }
   ],
   "source": [
    "list(sixgrams)"
   ]
  },
  {
   "cell_type": "code",
   "execution_count": 7,
   "id": "7a00c7ba",
   "metadata": {},
   "outputs": [],
   "source": [
    "from collections import defaultdict"
   ]
  },
  {
   "cell_type": "code",
   "execution_count": 9,
   "id": "6abcf2c5",
   "metadata": {},
   "outputs": [],
   "source": [
    "x = defaultdict(int)"
   ]
  },
  {
   "cell_type": "code",
   "execution_count": 14,
   "id": "9d2bdb81",
   "metadata": {},
   "outputs": [],
   "source": [
    "x[10] = 1"
   ]
  },
  {
   "cell_type": "code",
   "execution_count": 15,
   "id": "97b40463",
   "metadata": {},
   "outputs": [
    {
     "data": {
      "text/plain": [
       "defaultdict(int, {1: 0, 1000: 1, 10: 1})"
      ]
     },
     "execution_count": 15,
     "metadata": {},
     "output_type": "execute_result"
    }
   ],
   "source": [
    "x"
   ]
  },
  {
   "cell_type": "code",
   "execution_count": 18,
   "id": "c598748e",
   "metadata": {},
   "outputs": [],
   "source": [
    "a = set([(1,2),(3,4),(1,2)])"
   ]
  },
  {
   "cell_type": "code",
   "execution_count": 19,
   "id": "2a28f546",
   "metadata": {},
   "outputs": [],
   "source": [
    "a.add(1)"
   ]
  },
  {
   "cell_type": "code",
   "execution_count": 20,
   "id": "c058f926",
   "metadata": {},
   "outputs": [
    {
     "data": {
      "text/plain": [
       "{(1, 2), (3, 4), 1}"
      ]
     },
     "execution_count": 20,
     "metadata": {},
     "output_type": "execute_result"
    }
   ],
   "source": [
    "a"
   ]
  },
  {
   "cell_type": "code",
   "execution_count": 21,
   "id": "e8597a81",
   "metadata": {},
   "outputs": [],
   "source": [
    "a = {}"
   ]
  },
  {
   "cell_type": "code",
   "execution_count": 22,
   "id": "521ec4a2",
   "metadata": {},
   "outputs": [
    {
     "data": {
      "text/plain": [
       "dict"
      ]
     },
     "execution_count": 22,
     "metadata": {},
     "output_type": "execute_result"
    }
   ],
   "source": [
    "type(a)"
   ]
  },
  {
   "cell_type": "code",
   "execution_count": null,
   "id": "faf16fcc",
   "metadata": {},
   "outputs": [],
   "source": []
  }
 ],
 "metadata": {
  "kernelspec": {
   "display_name": "Python 3 (ipykernel)",
   "language": "python",
   "name": "python3"
  },
  "language_info": {
   "codemirror_mode": {
    "name": "ipython",
    "version": 3
   },
   "file_extension": ".py",
   "mimetype": "text/x-python",
   "name": "python",
   "nbconvert_exporter": "python",
   "pygments_lexer": "ipython3",
   "version": "3.9.15"
  }
 },
 "nbformat": 4,
 "nbformat_minor": 5
}
