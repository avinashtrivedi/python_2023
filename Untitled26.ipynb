{
 "cells": [
  {
   "cell_type": "code",
   "execution_count": 7,
   "id": "e7fb732d",
   "metadata": {},
   "outputs": [
    {
     "name": "stdout",
     "output_type": "stream",
     "text": [
      "1\n",
      "2\n",
      "3\n",
      "0\n",
      "6\n"
     ]
    }
   ],
   "source": [
    "# Sum of sequence of positive (>0)\n",
    "num = int(input())\n",
    "total = num\n",
    "while num!=0:\n",
    "    num = int(input())\n",
    "    total = total + num\n",
    "print(total)"
   ]
  },
  {
   "cell_type": "code",
   "execution_count": 1,
   "id": "d93de200",
   "metadata": {},
   "outputs": [
    {
     "name": "stdout",
     "output_type": "stream",
     "text": [
      "4\n",
      "7\n",
      "2\n",
      "0\n",
      "7\n"
     ]
    }
   ],
   "source": [
    "# Maximum of Sequence\n",
    "\n",
    "num = int(input())\n",
    "total = num\n",
    "while num!=0:\n",
    "    \n",
    "    if num>total:\n",
    "        total = num\n",
    "        \n",
    "    num = int(input())\n",
    "print(total)"
   ]
  },
  {
   "cell_type": "code",
   "execution_count": 6,
   "id": "3f00e9a7",
   "metadata": {},
   "outputs": [
    {
     "name": "stdout",
     "output_type": "stream",
     "text": [
      "4\n",
      "3\n"
     ]
    }
   ],
   "source": [
    "# fibonacci number\n",
    "n = int(input())\n",
    "fib = [0, 1]\n",
    "for i in range(2, n + 1):\n",
    "    fib.append(fib[i - 1] + fib[i - 2])\n",
    "\n",
    "print(fib[-1])"
   ]
  },
  {
   "cell_type": "code",
   "execution_count": 11,
   "id": "049f8e6b",
   "metadata": {},
   "outputs": [
    {
     "name": "stdout",
     "output_type": "stream",
     "text": [
      "3\n",
      "6\n"
     ]
    }
   ],
   "source": [
    "# factorial\n",
    "N = int(input())\n",
    "\n",
    "if N == 0:\n",
    "    print(1)\n",
    "else:\n",
    "    result = 1\n",
    "    for i in range(1, N + 1):\n",
    "        result *= i\n",
    "    print(result)\n"
   ]
  },
  {
   "cell_type": "code",
   "execution_count": 15,
   "id": "1f56ba50",
   "metadata": {},
   "outputs": [
    {
     "name": "stdout",
     "output_type": "stream",
     "text": [
      "2\n",
      "3\n",
      "4\n",
      "0\n",
      "3\n"
     ]
    }
   ],
   "source": [
    "# average of sequence\n",
    "num = int(input())\n",
    "n = 0\n",
    "total = num\n",
    "while num!=0:\n",
    "    num = int(input())\n",
    "    n = n + 1\n",
    "    total = total + num\n",
    "print(int(total/n))"
   ]
  },
  {
   "cell_type": "code",
   "execution_count": 13,
   "id": "7ec3f7b4",
   "metadata": {},
   "outputs": [
    {
     "data": {
      "text/plain": [
       "4"
      ]
     },
     "execution_count": 13,
     "metadata": {},
     "output_type": "execute_result"
    }
   ],
   "source": [
    "n"
   ]
  },
  {
   "cell_type": "code",
   "execution_count": 18,
   "id": "efd17cd9",
   "metadata": {},
   "outputs": [],
   "source": [
    "def max3(a, b, c):\n",
    "    if a >= b and a >= c:\n",
    "        return a\n",
    "    elif b >= a and b >= c:\n",
    "        return b\n",
    "    else:\n",
    "        return c"
   ]
  },
  {
   "cell_type": "code",
   "execution_count": 19,
   "id": "61c3cda9",
   "metadata": {},
   "outputs": [
    {
     "name": "stdout",
     "output_type": "stream",
     "text": [
      "5\n"
     ]
    }
   ],
   "source": [
    "maximum = max3(4,2,5)\n",
    "print(maximum)"
   ]
  },
  {
   "cell_type": "code",
   "execution_count": null,
   "id": "472f8f6d",
   "metadata": {},
   "outputs": [],
   "source": [
    "# Sum of sequence of positive (>0)\n",
    "# Maximum of Sequence\n",
    "# fibonacci number\n",
    "# average of sequence\n",
    "# factorial\n",
    "# max of 3 number\n",
    "# length of segment function\n",
    "# no. of elements greater than previous"
   ]
  },
  {
   "cell_type": "code",
   "execution_count": null,
   "id": "d4658c00",
   "metadata": {},
   "outputs": [],
   "source": []
  },
  {
   "cell_type": "code",
   "execution_count": 20,
   "id": "275ff301",
   "metadata": {},
   "outputs": [],
   "source": [
    "# length of segment function\n",
    "from math import sqrt\n",
    "def length(x1,y1,x2,y2):\n",
    "    return sqrt((x1-x2)**2 + (y1-y2)**2)"
   ]
  },
  {
   "cell_type": "code",
   "execution_count": 21,
   "id": "eba4ed80",
   "metadata": {},
   "outputs": [
    {
     "data": {
      "text/plain": [
       "7.810249675906654"
      ]
     },
     "execution_count": 21,
     "metadata": {},
     "output_type": "execute_result"
    }
   ],
   "source": [
    "length(1,2,6,8)"
   ]
  },
  {
   "cell_type": "code",
   "execution_count": 22,
   "id": "01b551ce",
   "metadata": {},
   "outputs": [
    {
     "name": "stdout",
     "output_type": "stream",
     "text": [
      "3\n",
      "2\n",
      "3\n",
      "1\n",
      "4\n",
      "4\n",
      "3\n",
      "0\n",
      "2\n"
     ]
    }
   ],
   "source": [
    "# no. of elements greater than previous\n",
    "\n",
    "num1 = int(input())\n",
    "num2 = int(input())\n",
    "total = 0\n",
    "while num2!=0:\n",
    "    if num2>num1:\n",
    "        total = total + 1\n",
    "    num1 = num2\n",
    "    num2 = int(input())\n",
    "        \n",
    "print(total)"
   ]
  },
  {
   "cell_type": "code",
   "execution_count": 23,
   "id": "df1dea77",
   "metadata": {},
   "outputs": [],
   "source": [
    "from math import sqrt\n",
    "def length(x1,y1,x2,y2):\n",
    "    return sqrt((x1-x2)**2 + (y1-y2)**2)\n",
    "\n",
    "def is_segment_long(x1,y1,x2,y2):\n",
    "    val = length(x1,y1,x2,y2)\n",
    "    if val>=10:\n",
    "        return True\n",
    "    else:\n",
    "        return False"
   ]
  },
  {
   "cell_type": "code",
   "execution_count": 24,
   "id": "2b66ba20",
   "metadata": {},
   "outputs": [
    {
     "data": {
      "text/plain": [
       "False"
      ]
     },
     "execution_count": 24,
     "metadata": {},
     "output_type": "execute_result"
    }
   ],
   "source": [
    "is_segment_long(1,5,5,2)"
   ]
  },
  {
   "cell_type": "code",
   "execution_count": null,
   "id": "78410285",
   "metadata": {},
   "outputs": [],
   "source": []
  }
 ],
 "metadata": {
  "kernelspec": {
   "display_name": "Python (myNEWenv)",
   "language": "python",
   "name": "mynewenv"
  },
  "language_info": {
   "codemirror_mode": {
    "name": "ipython",
    "version": 3
   },
   "file_extension": ".py",
   "mimetype": "text/x-python",
   "name": "python",
   "nbconvert_exporter": "python",
   "pygments_lexer": "ipython3",
   "version": "3.10.12"
  }
 },
 "nbformat": 4,
 "nbformat_minor": 5
}
