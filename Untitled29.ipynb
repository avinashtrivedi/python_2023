{
 "cells": [
  {
   "cell_type": "code",
   "execution_count": 8,
   "id": "392c55d6",
   "metadata": {},
   "outputs": [
    {
     "name": "stdout",
     "output_type": "stream",
     "text": [
      "testing 10001 files\n",
      "training 10001 files\n"
     ]
    }
   ],
   "source": [
    "# Q1\n",
    "\n",
    "import os\n",
    "\n",
    "path = r'D:\\OneDrive - NITT\\Custom_Download\\cifer-mini'\n",
    "for file in os.listdir(path):\n",
    "    newpath = os.path.join(path,file)\n",
    "    print(file,len(os.listdir(newpath)),'files')"
   ]
  },
  {
   "cell_type": "code",
   "execution_count": 4,
   "id": "d10f355c",
   "metadata": {},
   "outputs": [
    {
     "data": {
      "application/vnd.jupyter.widget-view+json": {
       "model_id": "5083c69a0e844727b54b1ce86129d0aa",
       "version_major": 2,
       "version_minor": 0
      },
      "text/plain": [
       "0it [00:00, ?it/s]"
      ]
     },
     "metadata": {},
     "output_type": "display_data"
    },
    {
     "name": "stdout",
     "output_type": "stream",
     "text": [
      "Shape of training_images array: (10000, 32, 32, 3)\n"
     ]
    }
   ],
   "source": [
    "# Q2\n",
    "\n",
    "try:\n",
    "    from PIL import Image\n",
    "except:\n",
    "    !pip install Pillow\n",
    "    from PIL import Image\n",
    "\n",
    "import os\n",
    "import numpy as np\n",
    "from tqdm.notebook import tqdm\n",
    "\n",
    "def read_images(folder_path):\n",
    "    image_files = [f for f in os.listdir(folder_path) if f.endswith(('.png', '.jpg', '.jpeg'))]\n",
    "    image_count = len(image_files)\n",
    "\n",
    "    # Assuming all images have the same size\n",
    "    first_image_path = os.path.join(folder_path, image_files[0])\n",
    "    with Image.open(first_image_path) as img:\n",
    "        image_rows, image_cols = img.size\n",
    "        image_channels = len(img.getbands())\n",
    "\n",
    "    images = np.zeros((image_count, image_rows, image_cols, image_channels), dtype=np.uint8)\n",
    "\n",
    "    for i, file_name in tqdm(enumerate(image_files)):\n",
    "        file_path = os.path.join(folder_path, file_name)\n",
    "        with Image.open(file_path) as img:\n",
    "            images[i] = np.array(img)\n",
    "\n",
    "    return images\n",
    "\n",
    "# Example usage for 'training' folder\n",
    "training_images = read_images(r'D:\\OneDrive - NITT\\Custom_Download\\cifer-mini\\training')\n",
    "print(\"Shape of training_images array:\", training_images.shape)\n"
   ]
  },
  {
   "cell_type": "code",
   "execution_count": 20,
   "id": "0bd5fd7f",
   "metadata": {},
   "outputs": [
    {
     "name": "stdout",
     "output_type": "stream",
     "text": [
      "Shape of training_labels array:\n",
      " 0    1000\n",
      "1    1000\n",
      "2    1000\n",
      "3    1000\n",
      "4    1000\n",
      "5    1000\n",
      "6    1000\n",
      "7    1000\n",
      "8    1000\n",
      "9    1000\n",
      "Name: Label, dtype: int64\n",
      "Shape of training_labels array:\n",
      " 3    1000\n",
      "8    1000\n",
      "0    1000\n",
      "6    1000\n",
      "1    1000\n",
      "9    1000\n",
      "5    1000\n",
      "7    1000\n",
      "4    1000\n",
      "2    1000\n",
      "Name: Label, dtype: int64\n"
     ]
    }
   ],
   "source": [
    "# Q3\n",
    "\n",
    "import os\n",
    "import numpy as np\n",
    "import pandas as pd\n",
    "\n",
    "def read_labels(folder_path):\n",
    "    csv_files = [f for f in os.listdir(folder_path) if f.endswith('.csv')]\n",
    "    if not csv_files:\n",
    "        raise FileNotFoundError(\"No CSV file found in the folder.\")\n",
    "\n",
    "    # Assuming there is only one CSV file in the folder\n",
    "    csv_path = os.path.join(folder_path, csv_files[0])\n",
    "\n",
    "    # Read the CSV file using pandas\n",
    "    labels_df = pd.read_csv(csv_path, header=None, names=['Label'])\n",
    "    labels = labels_df['Label']\n",
    "\n",
    "    return labels.value_counts()\n",
    "\n",
    "# Example usage for 'training' folder\n",
    "training_labels = read_labels(r'D:\\OneDrive - NITT\\Custom_Download\\cifer-mini\\training')\n",
    "print(\"Shape of training_labels array:\\n\", training_labels)\n",
    "\n",
    "\n",
    "# Example usage for 'testing' folder\n",
    "testing_labels = read_labels(r'D:\\OneDrive - NITT\\Custom_Download\\cifer-mini\\testing')\n",
    "print(\"Shape of training_labels array:\\n\", testing_labels)"
   ]
  },
  {
   "cell_type": "code",
   "execution_count": null,
   "id": "ed1fca31",
   "metadata": {},
   "outputs": [],
   "source": [
    "# Q4\n",
    "\n"
   ]
  }
 ],
 "metadata": {
  "kernelspec": {
   "display_name": "Python (myNEWenv)",
   "language": "python",
   "name": "mynewenv"
  },
  "language_info": {
   "codemirror_mode": {
    "name": "ipython",
    "version": 3
   },
   "file_extension": ".py",
   "mimetype": "text/x-python",
   "name": "python",
   "nbconvert_exporter": "python",
   "pygments_lexer": "ipython3",
   "version": "3.10.12"
  }
 },
 "nbformat": 4,
 "nbformat_minor": 5
}
