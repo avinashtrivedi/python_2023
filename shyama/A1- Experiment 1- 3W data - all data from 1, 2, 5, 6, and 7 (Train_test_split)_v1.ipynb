{
 "cells": [
  {
   "cell_type": "code",
   "execution_count": 5,
   "id": "72c13c1c",
   "metadata": {},
   "outputs": [],
   "source": [
    "import os\n",
    "import pandas as pd\n",
    "import numpy as np\n",
    "import seaborn as sns\n",
    "from datetime import datetime\n",
    "import matplotlib.pyplot as plt\n",
    "from sklearn.ensemble import RandomForestClassifier\n",
    "from sklearn import svm\n",
    "from sklearn.svm import SVC\n",
    "from sklearn.neural_network import MLPClassifier\n",
    "from sklearn import metrics\n",
    "from sklearn.metrics import confusion_matrix, classification_report, ConfusionMatrixDisplay, silhouette_score\n",
    "from sklearn.preprocessing import MinMaxScaler\n",
    "from sklearn import model_selection\n",
    "from sklearn.model_selection import train_test_split, cross_val_predict, cross_val_score\n",
    "from sklearn import preprocessing\n",
    "from sklearn.cluster import KMeans, OPTICS, MeanShift, Birch, DBSCAN\n",
    "from sklearn.neighbors import KNeighborsClassifier\n",
    "from numpy import set_printoptions\n",
    "from sklearn.feature_selection import SelectKBest, chi2\n",
    "from sklearn.mixture import GaussianMixture\n",
    "from sklearn.exceptions import UndefinedMetricWarning\n",
    "from sklearn.metrics import homogeneity_completeness_v_measure, accuracy_score\n",
    "from sklearn.metrics.cluster import normalized_mutual_info_score, adjusted_rand_score, completeness_score\n",
    "from sklearn.linear_model import LogisticRegression\n",
    "from sklearn.tree import DecisionTreeClassifier\n",
    "import time\n",
    "import psutil\n",
    "np.set_printoptions(precision=3, linewidth=100)\n",
    "import warnings\n",
    "warnings.filterwarnings(\"ignore\")\n",
    "\n",
    "%matplotlib inline"
   ]
  },
  {
   "cell_type": "code",
   "execution_count": 2,
   "id": "735c34ba",
   "metadata": {},
   "outputs": [],
   "source": [
    "#git.Repo.clone_from(\"https://github.com/petrobras/3W.git\", \"datasets\")"
   ]
  },
  {
   "cell_type": "code",
   "execution_count": 3,
   "id": "fba60ab3",
   "metadata": {},
   "outputs": [],
   "source": [
    "from pathlib import Path\n",
    "\n",
    "def read_csv_files(folder_path):\n",
    "    dfs = []  # List to store the DataFrames from each file\n",
    "    path = Path(folder_path)  # Convert the folder path to a Path object\n",
    "    for file in path.glob(\"WELL*.csv\"):\n",
    "        df = pd.read_csv(file)\n",
    "        dfs.append(df)\n",
    "    return dfs\n",
    "\n",
    "def read_datasets(folder_paths):\n",
    "    all_dfs = []  # List to store DataFrames from all folders\n",
    "    for folder_path in folder_paths:\n",
    "        dfs = read_csv_files(folder_path)\n",
    "        all_dfs.extend(dfs)\n",
    "    return all_dfs"
   ]
  },
  {
   "cell_type": "code",
   "execution_count": null,
   "id": "1a38aba6",
   "metadata": {},
   "outputs": [],
   "source": []
  },
  {
   "cell_type": "code",
   "execution_count": 7,
   "id": "66fcb888",
   "metadata": {},
   "outputs": [
    {
     "data": {
      "text/plain": [
       "['0',\n",
       " '1',\n",
       " '2',\n",
       " '3',\n",
       " '4',\n",
       " '5',\n",
       " '6',\n",
       " '7',\n",
       " '8',\n",
       " 'dataset.ini',\n",
       " 'folds',\n",
       " 'LICENSE-CC-BY',\n",
       " 'README.md']"
      ]
     },
     "execution_count": 7,
     "metadata": {},
     "output_type": "execute_result"
    }
   ],
   "source": [
    "os.listdir('dataset')"
   ]
  },
  {
   "cell_type": "code",
   "execution_count": 8,
   "id": "96e7be1a",
   "metadata": {},
   "outputs": [
    {
     "name": "stdout",
     "output_type": "stream",
     "text": [
      "Number of datasets: 49\n"
     ]
    }
   ],
   "source": [
    "# Specify the folder paths for the datasets you want to read\n",
    "folder_paths = [\n",
    "    \"dataset/1\",\n",
    "    \"dataset/2\",\n",
    "    \"dataset/5\",\n",
    "    \"dataset/6\",\n",
    "    \"dataset/7\"\n",
    "]\n",
    "\n",
    "# Call the read_datasets function to read the datasets\n",
    "datasets = read_datasets(folder_paths)\n",
    "print(\"Number of datasets:\", len(datasets))"
   ]
  },
  {
   "cell_type": "code",
   "execution_count": 9,
   "id": "f25b1d44",
   "metadata": {},
   "outputs": [
    {
     "name": "stdout",
     "output_type": "stream",
     "text": [
      "Shape of the dataset: (3163628, 10)\n"
     ]
    }
   ],
   "source": [
    "import random\n",
    "\n",
    "for folder_path in folder_paths:\n",
    "    dfs = read_csv_files(folder_path)\n",
    "    if folder_path in folder_paths:\n",
    "        datasets.extend(dfs)\n",
    "        \n",
    "\n",
    "random.shuffle(datasets)\n",
    "data = pd.concat(datasets, ignore_index=True)\n",
    "\n",
    "# Print the shape of the shuffled dataset\n",
    "print(\"Shape of the dataset:\", data.shape)"
   ]
  },
  {
   "cell_type": "code",
   "execution_count": null,
   "id": "19ab7c66",
   "metadata": {},
   "outputs": [],
   "source": [
    "#data=data.drop('timestamp', axis=1)"
   ]
  },
  {
   "cell_type": "code",
   "execution_count": 10,
   "id": "5ae346e9",
   "metadata": {},
   "outputs": [
    {
     "data": {
      "text/html": [
       "<div>\n",
       "<style scoped>\n",
       "    .dataframe tbody tr th:only-of-type {\n",
       "        vertical-align: middle;\n",
       "    }\n",
       "\n",
       "    .dataframe tbody tr th {\n",
       "        vertical-align: top;\n",
       "    }\n",
       "\n",
       "    .dataframe thead th {\n",
       "        text-align: right;\n",
       "    }\n",
       "</style>\n",
       "<table border=\"1\" class=\"dataframe\">\n",
       "  <thead>\n",
       "    <tr style=\"text-align: right;\">\n",
       "      <th></th>\n",
       "      <th>timestamp</th>\n",
       "      <th>P-PDG</th>\n",
       "      <th>P-TPT</th>\n",
       "      <th>T-TPT</th>\n",
       "      <th>P-MON-CKP</th>\n",
       "      <th>T-JUS-CKP</th>\n",
       "      <th>P-JUS-CKGL</th>\n",
       "      <th>T-JUS-CKGL</th>\n",
       "      <th>QGL</th>\n",
       "      <th>class</th>\n",
       "    </tr>\n",
       "  </thead>\n",
       "  <tbody>\n",
       "    <tr>\n",
       "      <th>0</th>\n",
       "      <td>2014-02-12 17:03:33.000000</td>\n",
       "      <td>0.0</td>\n",
       "      <td>12804630.0</td>\n",
       "      <td>118.7102</td>\n",
       "      <td>2514857.0</td>\n",
       "      <td>83.49664</td>\n",
       "      <td>4802594.0</td>\n",
       "      <td>NaN</td>\n",
       "      <td>0.0</td>\n",
       "      <td>0.0</td>\n",
       "    </tr>\n",
       "    <tr>\n",
       "      <th>1</th>\n",
       "      <td>2014-02-12 17:03:34.000000</td>\n",
       "      <td>0.0</td>\n",
       "      <td>12804800.0</td>\n",
       "      <td>118.7104</td>\n",
       "      <td>2514857.0</td>\n",
       "      <td>83.49661</td>\n",
       "      <td>4802581.0</td>\n",
       "      <td>NaN</td>\n",
       "      <td>0.0</td>\n",
       "      <td>0.0</td>\n",
       "    </tr>\n",
       "    <tr>\n",
       "      <th>2</th>\n",
       "      <td>2014-02-12 17:03:35.000000</td>\n",
       "      <td>0.0</td>\n",
       "      <td>12804970.0</td>\n",
       "      <td>118.7106</td>\n",
       "      <td>2514857.0</td>\n",
       "      <td>83.49659</td>\n",
       "      <td>4802568.0</td>\n",
       "      <td>NaN</td>\n",
       "      <td>0.0</td>\n",
       "      <td>0.0</td>\n",
       "    </tr>\n",
       "    <tr>\n",
       "      <th>3</th>\n",
       "      <td>2014-02-12 17:03:36.000000</td>\n",
       "      <td>0.0</td>\n",
       "      <td>12805130.0</td>\n",
       "      <td>118.7108</td>\n",
       "      <td>2514856.0</td>\n",
       "      <td>83.49656</td>\n",
       "      <td>4802555.0</td>\n",
       "      <td>NaN</td>\n",
       "      <td>0.0</td>\n",
       "      <td>0.0</td>\n",
       "    </tr>\n",
       "    <tr>\n",
       "      <th>4</th>\n",
       "      <td>2014-02-12 17:03:37.000000</td>\n",
       "      <td>0.0</td>\n",
       "      <td>12805300.0</td>\n",
       "      <td>118.7110</td>\n",
       "      <td>2514856.0</td>\n",
       "      <td>83.49654</td>\n",
       "      <td>4802542.0</td>\n",
       "      <td>NaN</td>\n",
       "      <td>0.0</td>\n",
       "      <td>0.0</td>\n",
       "    </tr>\n",
       "  </tbody>\n",
       "</table>\n",
       "</div>"
      ],
      "text/plain": [
       "                    timestamp  P-PDG       P-TPT     T-TPT  P-MON-CKP  \\\n",
       "0  2014-02-12 17:03:33.000000    0.0  12804630.0  118.7102  2514857.0   \n",
       "1  2014-02-12 17:03:34.000000    0.0  12804800.0  118.7104  2514857.0   \n",
       "2  2014-02-12 17:03:35.000000    0.0  12804970.0  118.7106  2514857.0   \n",
       "3  2014-02-12 17:03:36.000000    0.0  12805130.0  118.7108  2514856.0   \n",
       "4  2014-02-12 17:03:37.000000    0.0  12805300.0  118.7110  2514856.0   \n",
       "\n",
       "   T-JUS-CKP  P-JUS-CKGL  T-JUS-CKGL  QGL  class  \n",
       "0   83.49664   4802594.0         NaN  0.0    0.0  \n",
       "1   83.49661   4802581.0         NaN  0.0    0.0  \n",
       "2   83.49659   4802568.0         NaN  0.0    0.0  \n",
       "3   83.49656   4802555.0         NaN  0.0    0.0  \n",
       "4   83.49654   4802542.0         NaN  0.0    0.0  "
      ]
     },
     "execution_count": 10,
     "metadata": {},
     "output_type": "execute_result"
    }
   ],
   "source": [
    "data.head()"
   ]
  },
  {
   "cell_type": "code",
   "execution_count": 13,
   "id": "63f3676a",
   "metadata": {},
   "outputs": [
    {
     "data": {
      "text/plain": [
       "0.0      39.979729\n",
       "105.0    22.523666\n",
       "107.0    20.090686\n",
       "101.0     6.784655\n",
       "102.0     4.619421\n",
       "7.0       1.834860\n",
       "2.0       1.141911\n",
       "5.0       0.924239\n",
       "6.0       0.918565\n",
       "1.0       0.738838\n",
       "106.0     0.443430\n",
       "Name: class, dtype: float64"
      ]
     },
     "execution_count": 13,
     "metadata": {},
     "output_type": "execute_result"
    }
   ],
   "source": [
    "data['class'].value_counts(normalize=True)*100"
   ]
  },
  {
   "cell_type": "markdown",
   "id": "06d746b6",
   "metadata": {},
   "source": [
    "## Data preperation"
   ]
  },
  {
   "cell_type": "markdown",
   "id": "010b4d0b",
   "metadata": {},
   "source": [
    "### Clean Data: Remove Column with empty values"
   ]
  },
  {
   "cell_type": "code",
   "execution_count": 14,
   "id": "5452051e",
   "metadata": {
    "scrolled": true
   },
   "outputs": [
    {
     "data": {
      "text/plain": [
       "timestamp     0\n",
       "P-PDG         0\n",
       "P-TPT         0\n",
       "T-TPT         0\n",
       "P-MON-CKP     0\n",
       "T-JUS-CKP     0\n",
       "P-JUS-CKGL    0\n",
       "QGL           0\n",
       "class         0\n",
       "dtype: int64"
      ]
     },
     "execution_count": 14,
     "metadata": {},
     "output_type": "execute_result"
    }
   ],
   "source": [
    "cleaned_data = data.dropna(axis='columns', how='all')  # Remove columns with missing values\n",
    "cleaned_data = cleaned_data.dropna(axis=0)  # Remove rows with missing values\n",
    "cleaned_data.isnull().sum()"
   ]
  },
  {
   "cell_type": "code",
   "execution_count": 17,
   "id": "6645bcdf",
   "metadata": {},
   "outputs": [
    {
     "data": {
      "text/plain": [
       "0          0.0\n",
       "1          0.0\n",
       "2          0.0\n",
       "3          0.0\n",
       "4          0.0\n",
       "          ... \n",
       "3163623    0.0\n",
       "3163624    0.0\n",
       "3163625    0.0\n",
       "3163626    0.0\n",
       "3163627    0.0\n",
       "Name: QGL, Length: 2585476, dtype: float64"
      ]
     },
     "execution_count": 17,
     "metadata": {},
     "output_type": "execute_result"
    }
   ],
   "source": [
    "cleaned_data['QGL']"
   ]
  },
  {
   "cell_type": "code",
   "execution_count": null,
   "id": "897f184d",
   "metadata": {},
   "outputs": [],
   "source": [
    "# Preprocess the data\n",
    "# Assuming the timestamp column is named 'timestamp'\n",
    "# cleaned_data['timestamp'] = pd.to_datetime(cleaned_data['timestamp'])\n",
    "# cleaned_data['year'] = cleaned_data['timestamp'].dt.year\n",
    "# cleaned_data['month'] = cleaned_data['timestamp'].dt.month\n",
    "# cleaned_data['day'] = cleaned_data['timestamp'].dt.day\n",
    "# cleaned_data['hour'] = cleaned_data['timestamp'].dt.hour"
   ]
  },
  {
   "cell_type": "code",
   "execution_count": 19,
   "id": "6e5030ab",
   "metadata": {},
   "outputs": [
    {
     "data": {
      "text/html": [
       "<div>\n",
       "<style scoped>\n",
       "    .dataframe tbody tr th:only-of-type {\n",
       "        vertical-align: middle;\n",
       "    }\n",
       "\n",
       "    .dataframe tbody tr th {\n",
       "        vertical-align: top;\n",
       "    }\n",
       "\n",
       "    .dataframe thead th {\n",
       "        text-align: right;\n",
       "    }\n",
       "</style>\n",
       "<table border=\"1\" class=\"dataframe\">\n",
       "  <thead>\n",
       "    <tr style=\"text-align: right;\">\n",
       "      <th></th>\n",
       "      <th>timestamp</th>\n",
       "      <th>P-PDG</th>\n",
       "      <th>P-TPT</th>\n",
       "      <th>T-TPT</th>\n",
       "      <th>P-MON-CKP</th>\n",
       "      <th>T-JUS-CKP</th>\n",
       "      <th>P-JUS-CKGL</th>\n",
       "      <th>QGL</th>\n",
       "      <th>class</th>\n",
       "    </tr>\n",
       "  </thead>\n",
       "  <tbody>\n",
       "    <tr>\n",
       "      <th>0</th>\n",
       "      <td>2014-02-12 17:03:33.000000</td>\n",
       "      <td>0.0</td>\n",
       "      <td>12804630.0</td>\n",
       "      <td>118.7102</td>\n",
       "      <td>2514857.0</td>\n",
       "      <td>83.49664</td>\n",
       "      <td>4802594.0</td>\n",
       "      <td>0.0</td>\n",
       "      <td>0.0</td>\n",
       "    </tr>\n",
       "    <tr>\n",
       "      <th>1</th>\n",
       "      <td>2014-02-12 17:03:34.000000</td>\n",
       "      <td>0.0</td>\n",
       "      <td>12804800.0</td>\n",
       "      <td>118.7104</td>\n",
       "      <td>2514857.0</td>\n",
       "      <td>83.49661</td>\n",
       "      <td>4802581.0</td>\n",
       "      <td>0.0</td>\n",
       "      <td>0.0</td>\n",
       "    </tr>\n",
       "    <tr>\n",
       "      <th>2</th>\n",
       "      <td>2014-02-12 17:03:35.000000</td>\n",
       "      <td>0.0</td>\n",
       "      <td>12804970.0</td>\n",
       "      <td>118.7106</td>\n",
       "      <td>2514857.0</td>\n",
       "      <td>83.49659</td>\n",
       "      <td>4802568.0</td>\n",
       "      <td>0.0</td>\n",
       "      <td>0.0</td>\n",
       "    </tr>\n",
       "    <tr>\n",
       "      <th>3</th>\n",
       "      <td>2014-02-12 17:03:36.000000</td>\n",
       "      <td>0.0</td>\n",
       "      <td>12805130.0</td>\n",
       "      <td>118.7108</td>\n",
       "      <td>2514856.0</td>\n",
       "      <td>83.49656</td>\n",
       "      <td>4802555.0</td>\n",
       "      <td>0.0</td>\n",
       "      <td>0.0</td>\n",
       "    </tr>\n",
       "    <tr>\n",
       "      <th>4</th>\n",
       "      <td>2014-02-12 17:03:37.000000</td>\n",
       "      <td>0.0</td>\n",
       "      <td>12805300.0</td>\n",
       "      <td>118.7110</td>\n",
       "      <td>2514856.0</td>\n",
       "      <td>83.49654</td>\n",
       "      <td>4802542.0</td>\n",
       "      <td>0.0</td>\n",
       "      <td>0.0</td>\n",
       "    </tr>\n",
       "    <tr>\n",
       "      <th>...</th>\n",
       "      <td>...</td>\n",
       "      <td>...</td>\n",
       "      <td>...</td>\n",
       "      <td>...</td>\n",
       "      <td>...</td>\n",
       "      <td>...</td>\n",
       "      <td>...</td>\n",
       "      <td>...</td>\n",
       "      <td>...</td>\n",
       "    </tr>\n",
       "    <tr>\n",
       "      <th>3163623</th>\n",
       "      <td>2019-04-03 14:59:56.000000</td>\n",
       "      <td>0.0</td>\n",
       "      <td>8489354.0</td>\n",
       "      <td>109.7213</td>\n",
       "      <td>1496222.0</td>\n",
       "      <td>73.38219</td>\n",
       "      <td>9706965.0</td>\n",
       "      <td>0.0</td>\n",
       "      <td>107.0</td>\n",
       "    </tr>\n",
       "    <tr>\n",
       "      <th>3163624</th>\n",
       "      <td>2019-04-03 14:59:57.000000</td>\n",
       "      <td>0.0</td>\n",
       "      <td>8489349.0</td>\n",
       "      <td>109.7212</td>\n",
       "      <td>1495828.0</td>\n",
       "      <td>73.38310</td>\n",
       "      <td>9706899.0</td>\n",
       "      <td>0.0</td>\n",
       "      <td>107.0</td>\n",
       "    </tr>\n",
       "    <tr>\n",
       "      <th>3163625</th>\n",
       "      <td>2019-04-03 14:59:58.000000</td>\n",
       "      <td>0.0</td>\n",
       "      <td>8489344.0</td>\n",
       "      <td>109.7210</td>\n",
       "      <td>1495433.0</td>\n",
       "      <td>73.38401</td>\n",
       "      <td>9706834.0</td>\n",
       "      <td>0.0</td>\n",
       "      <td>107.0</td>\n",
       "    </tr>\n",
       "    <tr>\n",
       "      <th>3163626</th>\n",
       "      <td>2019-04-03 14:59:59.000000</td>\n",
       "      <td>0.0</td>\n",
       "      <td>8489338.0</td>\n",
       "      <td>109.7209</td>\n",
       "      <td>1495039.0</td>\n",
       "      <td>73.38493</td>\n",
       "      <td>9706768.0</td>\n",
       "      <td>0.0</td>\n",
       "      <td>107.0</td>\n",
       "    </tr>\n",
       "    <tr>\n",
       "      <th>3163627</th>\n",
       "      <td>2019-04-03 15:00:00.000000</td>\n",
       "      <td>0.0</td>\n",
       "      <td>8489333.0</td>\n",
       "      <td>109.7207</td>\n",
       "      <td>1494645.0</td>\n",
       "      <td>73.38583</td>\n",
       "      <td>9706702.0</td>\n",
       "      <td>0.0</td>\n",
       "      <td>107.0</td>\n",
       "    </tr>\n",
       "  </tbody>\n",
       "</table>\n",
       "<p>2585476 rows × 9 columns</p>\n",
       "</div>"
      ],
      "text/plain": [
       "                          timestamp  P-PDG       P-TPT     T-TPT  P-MON-CKP  \\\n",
       "0        2014-02-12 17:03:33.000000    0.0  12804630.0  118.7102  2514857.0   \n",
       "1        2014-02-12 17:03:34.000000    0.0  12804800.0  118.7104  2514857.0   \n",
       "2        2014-02-12 17:03:35.000000    0.0  12804970.0  118.7106  2514857.0   \n",
       "3        2014-02-12 17:03:36.000000    0.0  12805130.0  118.7108  2514856.0   \n",
       "4        2014-02-12 17:03:37.000000    0.0  12805300.0  118.7110  2514856.0   \n",
       "...                             ...    ...         ...       ...        ...   \n",
       "3163623  2019-04-03 14:59:56.000000    0.0   8489354.0  109.7213  1496222.0   \n",
       "3163624  2019-04-03 14:59:57.000000    0.0   8489349.0  109.7212  1495828.0   \n",
       "3163625  2019-04-03 14:59:58.000000    0.0   8489344.0  109.7210  1495433.0   \n",
       "3163626  2019-04-03 14:59:59.000000    0.0   8489338.0  109.7209  1495039.0   \n",
       "3163627  2019-04-03 15:00:00.000000    0.0   8489333.0  109.7207  1494645.0   \n",
       "\n",
       "         T-JUS-CKP  P-JUS-CKGL  QGL  class  \n",
       "0         83.49664   4802594.0  0.0    0.0  \n",
       "1         83.49661   4802581.0  0.0    0.0  \n",
       "2         83.49659   4802568.0  0.0    0.0  \n",
       "3         83.49656   4802555.0  0.0    0.0  \n",
       "4         83.49654   4802542.0  0.0    0.0  \n",
       "...            ...         ...  ...    ...  \n",
       "3163623   73.38219   9706965.0  0.0  107.0  \n",
       "3163624   73.38310   9706899.0  0.0  107.0  \n",
       "3163625   73.38401   9706834.0  0.0  107.0  \n",
       "3163626   73.38493   9706768.0  0.0  107.0  \n",
       "3163627   73.38583   9706702.0  0.0  107.0  \n",
       "\n",
       "[2585476 rows x 9 columns]"
      ]
     },
     "execution_count": 19,
     "metadata": {},
     "output_type": "execute_result"
    }
   ],
   "source": [
    "cleaned_data"
   ]
  },
  {
   "cell_type": "code",
   "execution_count": 20,
   "id": "2dd8b982",
   "metadata": {},
   "outputs": [],
   "source": [
    "cleaned_data.drop('timestamp',axis=1,inplace=True)"
   ]
  },
  {
   "cell_type": "markdown",
   "id": "e202ac08",
   "metadata": {},
   "source": [
    "## Split the data"
   ]
  },
  {
   "cell_type": "code",
   "execution_count": 26,
   "id": "ff08bf93",
   "metadata": {},
   "outputs": [],
   "source": [
    "X = cleaned_data.drop('class', axis =1)\n",
    "y = cleaned_data['class'].astype('int')\n",
    "\n",
    "X_train, X_test, y_train, y_test = train_test_split(X, y, test_size =0.3, stratify=y, random_state=2)"
   ]
  },
  {
   "cell_type": "code",
   "execution_count": 28,
   "id": "70ad8278",
   "metadata": {},
   "outputs": [],
   "source": [
    "# Smote"
   ]
  },
  {
   "cell_type": "code",
   "execution_count": 29,
   "id": "72770872",
   "metadata": {},
   "outputs": [],
   "source": [
    "from imblearn.over_sampling import SMOTE"
   ]
  },
  {
   "cell_type": "code",
   "execution_count": 31,
   "id": "df2c2f6c",
   "metadata": {},
   "outputs": [],
   "source": [
    "sm = SMOTE(random_state=2)\n",
    "X_train_res, y_train_res = sm.fit_resample(X_train, y_train.ravel())"
   ]
  },
  {
   "cell_type": "code",
   "execution_count": 32,
   "id": "1cac7ba2",
   "metadata": {},
   "outputs": [
    {
     "data": {
      "text/plain": [
       "0      726638\n",
       "105    444591\n",
       "107    396060\n",
       "101    133921\n",
       "7       36218\n",
       "6       17398\n",
       "5       16896\n",
       "1       14584\n",
       "102     13030\n",
       "106      6245\n",
       "2        4252\n",
       "Name: class, dtype: int64"
      ]
     },
     "execution_count": 32,
     "metadata": {},
     "output_type": "execute_result"
    }
   ],
   "source": [
    "y_train.value_counts()"
   ]
  },
  {
   "cell_type": "code",
   "execution_count": 37,
   "id": "33ee1e09",
   "metadata": {},
   "outputs": [
    {
     "data": {
      "text/plain": [
       "105    726638\n",
       "107    726638\n",
       "0      726638\n",
       "101    726638\n",
       "1      726638\n",
       "7      726638\n",
       "6      726638\n",
       "102    726638\n",
       "5      726638\n",
       "106    726638\n",
       "2      726638\n",
       "dtype: int64"
      ]
     },
     "execution_count": 37,
     "metadata": {},
     "output_type": "execute_result"
    }
   ],
   "source": [
    "pd.Series(y_train_res).value_counts()"
   ]
  },
  {
   "cell_type": "code",
   "execution_count": null,
   "id": "2c68dfd1",
   "metadata": {},
   "outputs": [],
   "source": []
  },
  {
   "cell_type": "markdown",
   "id": "8b3d1516",
   "metadata": {},
   "source": [
    "## Scaling each feature to a given range: using MinMaxScaler"
   ]
  },
  {
   "cell_type": "code",
   "execution_count": 43,
   "id": "8c45428a",
   "metadata": {},
   "outputs": [
    {
     "name": "stdout",
     "output_type": "stream",
     "text": [
      "Scaled Training Data:\n",
      "   P-PDG     P-TPT     T-TPT  P-MON-CKP  T-JUS-CKP  P-JUS-CKGL  QGL\n",
      "0    1.0  0.002779  0.699886   0.401618   0.086048    0.009932  0.0\n",
      "1    1.0  0.003009  0.988379   0.383627   0.363920    0.002163  0.0\n",
      "2    1.0  0.004727  0.992239   0.148482   0.398549    0.000941  0.0\n",
      "3    1.0  0.002852  0.994855   0.145522   0.425464    0.002818  0.0\n",
      "4    0.0  0.005793  0.978809   0.993155   0.289398    0.001957  0.0\n",
      "\n",
      "Scaled Test Data:\n",
      "   P-PDG     P-TPT     T-TPT  P-MON-CKP  T-JUS-CKP  P-JUS-CKGL  QGL\n",
      "0    1.0  0.004754  0.978183   0.714802   0.371799    0.000000  0.0\n",
      "1    1.0  0.004714  0.993799   0.146641   0.399634    0.000932  0.0\n",
      "2    1.0  0.000843  0.814758   0.195232   0.176125    0.009903  0.0\n",
      "3    0.0  0.005535  0.989616   0.836518   0.340737    0.000394  0.0\n",
      "4    1.0  0.001219  0.808937   0.237327   0.174767    0.009901  0.0\n"
     ]
    }
   ],
   "source": [
    "#minmax\n",
    "\n",
    "from sklearn.preprocessing import MinMaxScaler\n",
    "\n",
    "# Create the scaler\n",
    "min_max_scaler = MinMaxScaler()\n",
    "\n",
    "# Fit the scaler on the training data and transform it\n",
    "# columns = [col for col in X_train.columns if col not in ['timestamp', 'class']]\n",
    "\n",
    "X_train_scaled = min_max_scaler.fit_transform(X_train_res)\n",
    "X_train_scaled = pd.DataFrame(X_train_scaled,columns=list(X_train_res))\n",
    "\n",
    "# Transform the test data using the trained scaler\n",
    "X_test_scaled = min_max_scaler.transform(X_test)\n",
    "X_test_scaled = pd.DataFrame(X_test_scaled,columns=list(X_train_res))\n",
    "\n",
    "# Print the head of the scaled training and test data\n",
    "print(\"Scaled Training Data:\")\n",
    "print(X_train_scaled.head())\n",
    "print(\"\\nScaled Test Data:\")\n",
    "print(X_test_scaled.head())"
   ]
  },
  {
   "cell_type": "code",
   "execution_count": 42,
   "id": "151f70d5",
   "metadata": {},
   "outputs": [],
   "source": [
    "# X_train = X_train.drop('timestamp', axis =1)\n",
    "# X_test = X_test.drop('timestamp', axis=1)"
   ]
  },
  {
   "cell_type": "code",
   "execution_count": null,
   "id": "5b6b090c",
   "metadata": {},
   "outputs": [],
   "source": []
  },
  {
   "cell_type": "code",
   "execution_count": 48,
   "id": "55b18f04",
   "metadata": {},
   "outputs": [],
   "source": [
    "X_train = X_train_scaled.copy()\n",
    "y_train = y_train_res.copy()\n",
    "X_test = X_test_scaled.copy()"
   ]
  },
  {
   "cell_type": "code",
   "execution_count": 49,
   "id": "a1ed766e",
   "metadata": {},
   "outputs": [
    {
     "data": {
      "text/plain": [
       "(7993018, 7)"
      ]
     },
     "execution_count": 49,
     "metadata": {},
     "output_type": "execute_result"
    }
   ],
   "source": [
    "X_train.shape"
   ]
  },
  {
   "cell_type": "code",
   "execution_count": 50,
   "id": "26a71ca8",
   "metadata": {},
   "outputs": [
    {
     "data": {
      "text/plain": [
       "(7993018,)"
      ]
     },
     "execution_count": 50,
     "metadata": {},
     "output_type": "execute_result"
    }
   ],
   "source": [
    "y_train.shape"
   ]
  },
  {
   "cell_type": "markdown",
   "id": "5043631a",
   "metadata": {},
   "source": [
    "## Features selection"
   ]
  },
  {
   "cell_type": "code",
   "execution_count": 51,
   "id": "7587fde8",
   "metadata": {},
   "outputs": [],
   "source": [
    "selector = SelectKBest(score_func=chi2, k=5)\n",
    "X_train_selected = selector.fit_transform(X_train, y_train)\n",
    "\n",
    "# Get the selected feature indices\n",
    "selected_feature_indices = selector.get_support(indices=True)\n",
    "\n",
    "# Get the selected feature names\n",
    "selected_feature_names = X_train.columns[selected_feature_indices]\n",
    "\n",
    "# Transform the scaled testing set using the selected features\n",
    "X_test_selected = X_test.iloc[:, selected_feature_indices]\n",
    "\n",
    "X_train = X_train[selected_feature_names]\n",
    "X_test = X_test_selected"
   ]
  },
  {
   "cell_type": "code",
   "execution_count": 52,
   "id": "080e1d77",
   "metadata": {},
   "outputs": [
    {
     "name": "stdout",
     "output_type": "stream",
     "text": [
      "Selected feature names:\n",
      "P-PDG\n",
      "T-TPT\n",
      "P-MON-CKP\n",
      "T-JUS-CKP\n",
      "P-JUS-CKGL\n"
     ]
    }
   ],
   "source": [
    "print(\"Selected feature names:\")\n",
    "for feature in selected_feature_names:\n",
    "    print(feature)"
   ]
  },
  {
   "cell_type": "code",
   "execution_count": 53,
   "id": "5ad5ba7c",
   "metadata": {},
   "outputs": [
    {
     "data": {
      "text/html": [
       "<div>\n",
       "<style scoped>\n",
       "    .dataframe tbody tr th:only-of-type {\n",
       "        vertical-align: middle;\n",
       "    }\n",
       "\n",
       "    .dataframe tbody tr th {\n",
       "        vertical-align: top;\n",
       "    }\n",
       "\n",
       "    .dataframe thead th {\n",
       "        text-align: right;\n",
       "    }\n",
       "</style>\n",
       "<table border=\"1\" class=\"dataframe\">\n",
       "  <thead>\n",
       "    <tr style=\"text-align: right;\">\n",
       "      <th></th>\n",
       "      <th>P-PDG</th>\n",
       "      <th>T-TPT</th>\n",
       "      <th>P-MON-CKP</th>\n",
       "      <th>T-JUS-CKP</th>\n",
       "      <th>P-JUS-CKGL</th>\n",
       "    </tr>\n",
       "  </thead>\n",
       "  <tbody>\n",
       "    <tr>\n",
       "      <th>0</th>\n",
       "      <td>1.0</td>\n",
       "      <td>0.699886</td>\n",
       "      <td>0.401618</td>\n",
       "      <td>0.086048</td>\n",
       "      <td>0.009932</td>\n",
       "    </tr>\n",
       "    <tr>\n",
       "      <th>1</th>\n",
       "      <td>1.0</td>\n",
       "      <td>0.988379</td>\n",
       "      <td>0.383627</td>\n",
       "      <td>0.363920</td>\n",
       "      <td>0.002163</td>\n",
       "    </tr>\n",
       "    <tr>\n",
       "      <th>2</th>\n",
       "      <td>1.0</td>\n",
       "      <td>0.992239</td>\n",
       "      <td>0.148482</td>\n",
       "      <td>0.398549</td>\n",
       "      <td>0.000941</td>\n",
       "    </tr>\n",
       "    <tr>\n",
       "      <th>3</th>\n",
       "      <td>1.0</td>\n",
       "      <td>0.994855</td>\n",
       "      <td>0.145522</td>\n",
       "      <td>0.425464</td>\n",
       "      <td>0.002818</td>\n",
       "    </tr>\n",
       "    <tr>\n",
       "      <th>4</th>\n",
       "      <td>0.0</td>\n",
       "      <td>0.978809</td>\n",
       "      <td>0.993155</td>\n",
       "      <td>0.289398</td>\n",
       "      <td>0.001957</td>\n",
       "    </tr>\n",
       "  </tbody>\n",
       "</table>\n",
       "</div>"
      ],
      "text/plain": [
       "   P-PDG     T-TPT  P-MON-CKP  T-JUS-CKP  P-JUS-CKGL\n",
       "0    1.0  0.699886   0.401618   0.086048    0.009932\n",
       "1    1.0  0.988379   0.383627   0.363920    0.002163\n",
       "2    1.0  0.992239   0.148482   0.398549    0.000941\n",
       "3    1.0  0.994855   0.145522   0.425464    0.002818\n",
       "4    0.0  0.978809   0.993155   0.289398    0.001957"
      ]
     },
     "execution_count": 53,
     "metadata": {},
     "output_type": "execute_result"
    }
   ],
   "source": [
    "X_train.head()"
   ]
  },
  {
   "cell_type": "code",
   "execution_count": 54,
   "id": "52efda09",
   "metadata": {},
   "outputs": [
    {
     "data": {
      "text/html": [
       "<div>\n",
       "<style scoped>\n",
       "    .dataframe tbody tr th:only-of-type {\n",
       "        vertical-align: middle;\n",
       "    }\n",
       "\n",
       "    .dataframe tbody tr th {\n",
       "        vertical-align: top;\n",
       "    }\n",
       "\n",
       "    .dataframe thead th {\n",
       "        text-align: right;\n",
       "    }\n",
       "</style>\n",
       "<table border=\"1\" class=\"dataframe\">\n",
       "  <thead>\n",
       "    <tr style=\"text-align: right;\">\n",
       "      <th></th>\n",
       "      <th>P-PDG</th>\n",
       "      <th>T-TPT</th>\n",
       "      <th>P-MON-CKP</th>\n",
       "      <th>T-JUS-CKP</th>\n",
       "      <th>P-JUS-CKGL</th>\n",
       "    </tr>\n",
       "  </thead>\n",
       "  <tbody>\n",
       "    <tr>\n",
       "      <th>0</th>\n",
       "      <td>1.0</td>\n",
       "      <td>0.978183</td>\n",
       "      <td>0.714802</td>\n",
       "      <td>0.371799</td>\n",
       "      <td>0.000000</td>\n",
       "    </tr>\n",
       "    <tr>\n",
       "      <th>1</th>\n",
       "      <td>1.0</td>\n",
       "      <td>0.993799</td>\n",
       "      <td>0.146641</td>\n",
       "      <td>0.399634</td>\n",
       "      <td>0.000932</td>\n",
       "    </tr>\n",
       "    <tr>\n",
       "      <th>2</th>\n",
       "      <td>1.0</td>\n",
       "      <td>0.814758</td>\n",
       "      <td>0.195232</td>\n",
       "      <td>0.176125</td>\n",
       "      <td>0.009903</td>\n",
       "    </tr>\n",
       "    <tr>\n",
       "      <th>3</th>\n",
       "      <td>0.0</td>\n",
       "      <td>0.989616</td>\n",
       "      <td>0.836518</td>\n",
       "      <td>0.340737</td>\n",
       "      <td>0.000394</td>\n",
       "    </tr>\n",
       "    <tr>\n",
       "      <th>4</th>\n",
       "      <td>1.0</td>\n",
       "      <td>0.808937</td>\n",
       "      <td>0.237327</td>\n",
       "      <td>0.174767</td>\n",
       "      <td>0.009901</td>\n",
       "    </tr>\n",
       "  </tbody>\n",
       "</table>\n",
       "</div>"
      ],
      "text/plain": [
       "   P-PDG     T-TPT  P-MON-CKP  T-JUS-CKP  P-JUS-CKGL\n",
       "0    1.0  0.978183   0.714802   0.371799    0.000000\n",
       "1    1.0  0.993799   0.146641   0.399634    0.000932\n",
       "2    1.0  0.814758   0.195232   0.176125    0.009903\n",
       "3    0.0  0.989616   0.836518   0.340737    0.000394\n",
       "4    1.0  0.808937   0.237327   0.174767    0.009901"
      ]
     },
     "execution_count": 54,
     "metadata": {},
     "output_type": "execute_result"
    }
   ],
   "source": [
    "X_test.head()"
   ]
  },
  {
   "cell_type": "code",
   "execution_count": 55,
   "id": "7f4c98b4",
   "metadata": {},
   "outputs": [],
   "source": [
    "def get_memory_usage():\n",
    "    process = psutil.Process()\n",
    "    return process.memory_info().rss"
   ]
  },
  {
   "cell_type": "markdown",
   "id": "a4bb4370",
   "metadata": {},
   "source": [
    "# Supervised machine learning"
   ]
  },
  {
   "cell_type": "markdown",
   "id": "e62e0abf",
   "metadata": {},
   "source": [
    "### Random Forest Classifier"
   ]
  },
  {
   "cell_type": "code",
   "execution_count": 57,
   "id": "97001752",
   "metadata": {},
   "outputs": [],
   "source": [
    "rfc = RandomForestClassifier(n_jobs=-1,random_state=42)\n",
    "\n",
    "mem_usage_before_rfc = get_memory_usage()\n",
    "\n",
    "# Measure time taken\n",
    "start_time = time.time()\n",
    "rfc.fit(X_train, y_train)\n",
    "end_time = time.time()\n",
    "execution_time_rfc = end_time - start_time\n",
    "\n",
    "# Measure memory consumption after fitting\n",
    "mem_usage_after_rfc = get_memory_usage()\n",
    "mem_usage_rfc = mem_usage_after_rfc - mem_usage_before_rfc"
   ]
  },
  {
   "cell_type": "code",
   "execution_count": null,
   "id": "bddf29af",
   "metadata": {},
   "outputs": [],
   "source": [
    "rfc_scores = cross_val_score(rfc, X_train, y_train, cv=5,n_jobs=-1) #evaluation scores for each fold of the cross-validation process.\n",
    "print(rfc_scores)\n",
    "print(\"avrage =\", np.mean(rfc_scores))"
   ]
  },
  {
   "cell_type": "code",
   "execution_count": null,
   "id": "3369d33e",
   "metadata": {},
   "outputs": [],
   "source": [
    "pred_rfc = rfc.predict(X_test)\n",
    "\n",
    "print(classification_report(y_test, pred_rfc))"
   ]
  },
  {
   "cell_type": "code",
   "execution_count": null,
   "id": "fefd97ce",
   "metadata": {},
   "outputs": [],
   "source": [
    "print(accuracy_score(y_test, pred_rfc))"
   ]
  },
  {
   "cell_type": "code",
   "execution_count": null,
   "id": "dda414e9",
   "metadata": {},
   "outputs": [],
   "source": [
    "#rfc_disp = ConfusionMatrixDisplay(confusion_matrix(y_test, pred_rfc, labels=rfc.classes_), display_labels=rfc.classes_)\n",
    "#rfc_disp.plot()\n",
    "#plt.show()"
   ]
  },
  {
   "cell_type": "code",
   "execution_count": null,
   "id": "664ad79d",
   "metadata": {},
   "outputs": [],
   "source": [
    "print(\"Random Forest Classifier Memory Consumption:\", mem_usage_rfc)\n",
    "print(\"Random Forest Classifier Execution Time:\", execution_time_rfc)"
   ]
  },
  {
   "cell_type": "code",
   "execution_count": null,
   "id": "8d45335c",
   "metadata": {},
   "outputs": [],
   "source": [
    "print(\"No. of Classes in Test data:\")\n",
    "print(y_test.value_counts())\n",
    "print(\"----------------------------\")\n",
    "print(\"No. of Classes in prediction:\")\n",
    "pd.crosstab(y_test, pred_rfc, margins=True)"
   ]
  },
  {
   "cell_type": "markdown",
   "id": "840e7f69",
   "metadata": {},
   "source": [
    "### KNN :"
   ]
  },
  {
   "cell_type": "code",
   "execution_count": null,
   "id": "ae90f5e4",
   "metadata": {},
   "outputs": [],
   "source": [
    "# Elbow\n",
    "from tqdm.notebook import tqdm\n",
    "wcss = []\n",
    "for k in tqdm(range(2,11)):\n",
    "    classifier_knn = KNeighborsClassifier(n_neighbors = k)\n",
    "    classifier_knn.fit(X_train,y_train)\n",
    "    wcss.append(classifier_knn.inertia_)"
   ]
  },
  {
   "cell_type": "code",
   "execution_count": null,
   "id": "39b8c5a3",
   "metadata": {},
   "outputs": [],
   "source": [
    "plt.plot(range(2,11),wcss)\n",
    "plt.xlabel('K')\n",
    "plt.ylabel('Error')"
   ]
  },
  {
   "cell_type": "code",
   "execution_count": null,
   "id": "296507fa",
   "metadata": {},
   "outputs": [],
   "source": [
    "indx = np.array(wcss).argmin()"
   ]
  },
  {
   "cell_type": "code",
   "execution_count": null,
   "id": "ce20cb3c",
   "metadata": {},
   "outputs": [],
   "source": [
    "best_k = list(range(2,11))[indx] + 2"
   ]
  },
  {
   "cell_type": "code",
   "execution_count": null,
   "id": "2364d054",
   "metadata": {},
   "outputs": [],
   "source": [
    "classifier_knn = KNeighborsClassifier(n_neighbors = best_k)\n",
    "\n",
    "mem_usage_before_knn = get_memory_usage()\n",
    "\n",
    "# Measure time taken\n",
    "start_time = time.time()\n",
    "classifier_knn.fit(X_train, y_train)\n",
    "end_time = time.time()\n",
    "execution_time_knn = end_time - start_time\n",
    "\n",
    "# Measure memory consumption after fitting\n",
    "mem_usage_after_knn = get_memory_usage()\n",
    "mem_usage_knn = mem_usage_after_knn - mem_usage_before_knn\n",
    "\n",
    "pred_knn = classifier_knn.predict(X_test)"
   ]
  },
  {
   "cell_type": "code",
   "execution_count": null,
   "id": "d0d597a5",
   "metadata": {},
   "outputs": [],
   "source": [
    "knn_scores = cross_val_score(classifier_knn, X_train, y_train, cv=5)\n",
    "print(knn_scores)\n",
    "print(\"avrage =\", np.mean(knn_scores))"
   ]
  },
  {
   "cell_type": "code",
   "execution_count": null,
   "id": "b0be528b",
   "metadata": {},
   "outputs": [],
   "source": [
    "print(classification_report(y_test, pred_knn))"
   ]
  },
  {
   "cell_type": "code",
   "execution_count": null,
   "id": "4d8e96ae",
   "metadata": {},
   "outputs": [],
   "source": [
    "#knn_disp = ConfusionMatrixDisplay(confusion_matrix(y_test, pred_knn, labels=classifier_knn.classes_), display_labels=classifier_knn.classes_)\n",
    "#knn_disp.plot()\n",
    "#plt.show()"
   ]
  },
  {
   "cell_type": "code",
   "execution_count": null,
   "id": "e43c304f",
   "metadata": {},
   "outputs": [],
   "source": [
    "print(\"KNN Memory Consumption:\", mem_usage_knn)\n",
    "print(\"KNN Execution Time:\", execution_time_knn)"
   ]
  },
  {
   "cell_type": "code",
   "execution_count": null,
   "id": "0933555b",
   "metadata": {},
   "outputs": [],
   "source": [
    "print(\"No. of Classes in Test data:\")\n",
    "print(y_test.value_counts())\n",
    "print(\"----------------------------\")\n",
    "print(\"No. of Classes in prediction:\")\n",
    "pd.crosstab(y_test, pred_knn, margins=True)"
   ]
  },
  {
   "cell_type": "markdown",
   "id": "5ffed632",
   "metadata": {},
   "source": [
    "### Decision Trees"
   ]
  },
  {
   "cell_type": "code",
   "execution_count": null,
   "id": "51c295d7",
   "metadata": {},
   "outputs": [],
   "source": [
    "dt = DecisionTreeClassifier(n_jobs=-1,random_state=42)\n",
    "\n",
    "mem_usage_before_dt = get_memory_usage()\n",
    "\n",
    "# Measure time taken\n",
    "start_time = time.time()\n",
    "dt.fit(X_train, y_train)\n",
    "end_time = time.time()\n",
    "execution_time_dt = end_time - start_time\n",
    "\n",
    "# Measure memory consumption after fitting\n",
    "mem_usage_after_dt = get_memory_usage()\n",
    "mem_usage_dt = mem_usage_after_dt - mem_usage_before_dt\n",
    "\n",
    "pred_dt = dt.predict(X_test)"
   ]
  },
  {
   "cell_type": "code",
   "execution_count": null,
   "id": "1871b072",
   "metadata": {},
   "outputs": [],
   "source": [
    "dt_scores = cross_val_score(dt, X_train, y_train, cv=5)\n",
    "print(dt_scores)\n",
    "print(\"avrage =\", np.mean(dt_scores))"
   ]
  },
  {
   "cell_type": "code",
   "execution_count": null,
   "id": "8d54fe44",
   "metadata": {},
   "outputs": [],
   "source": [
    "print(classification_report(y_test, pred_dt, zero_division=0))"
   ]
  },
  {
   "cell_type": "code",
   "execution_count": null,
   "id": "c7d0f589",
   "metadata": {},
   "outputs": [],
   "source": [
    "print(accuracy_score(y_test, pred_dt))"
   ]
  },
  {
   "cell_type": "code",
   "execution_count": null,
   "id": "849b2793",
   "metadata": {},
   "outputs": [],
   "source": [
    "print(\"Decision Trees Memory Consumption:\", mem_usage_dt)\n",
    "print(\"Decision Trees Execution Time:\", execution_time_dt)"
   ]
  },
  {
   "cell_type": "markdown",
   "id": "3fe1211c",
   "metadata": {},
   "source": [
    "### Naive Bayes"
   ]
  },
  {
   "cell_type": "code",
   "execution_count": null,
   "id": "c22205ef",
   "metadata": {},
   "outputs": [],
   "source": [
    "from sklearn.naive_bayes import GaussianNB\n",
    "\n",
    "nb = GaussianNB()\n",
    "\n",
    "mem_usage_before_nb = get_memory_usage()\n",
    "\n",
    "# Measure time taken\n",
    "start_time = time.time()\n",
    "nb.fit(X_train, y_train)\n",
    "end_time = time.time()\n",
    "execution_time_nb = end_time - start_time\n",
    "\n",
    "# Measure memory consumption after fitting\n",
    "mem_usage_after_nb = get_memory_usage()\n",
    "mem_usage_nb = mem_usage_after_nb - mem_usage_before_nb\n",
    "\n",
    "\n",
    "pred_nb = nb.predict(X_test)"
   ]
  },
  {
   "cell_type": "code",
   "execution_count": null,
   "id": "b767087c",
   "metadata": {},
   "outputs": [],
   "source": [
    "nb_scores = cross_val_score(nb, X_train, y_train, cv=5)\n",
    "print(nb_scores)\n",
    "print(\"avrage =\", np.mean(nb_scores))"
   ]
  },
  {
   "cell_type": "code",
   "execution_count": null,
   "id": "e2d4b993",
   "metadata": {},
   "outputs": [],
   "source": [
    "print(classification_report(y_test, pred_nb, zero_division=0))"
   ]
  },
  {
   "cell_type": "code",
   "execution_count": null,
   "id": "a8e8db64",
   "metadata": {},
   "outputs": [],
   "source": [
    "print(accuracy_score(y_test, pred_nb))"
   ]
  },
  {
   "cell_type": "code",
   "execution_count": null,
   "id": "328a62df",
   "metadata": {},
   "outputs": [],
   "source": [
    "print(\"Naive Bayes Memory Consumption:\", mem_usage_nb)\n",
    "print(\"Naive Bayes Execution Time:\", execution_time_nb)"
   ]
  },
  {
   "cell_type": "markdown",
   "id": "c92616f4",
   "metadata": {},
   "source": [
    "### Logistic Regression"
   ]
  },
  {
   "cell_type": "code",
   "execution_count": null,
   "id": "8eac9335",
   "metadata": {},
   "outputs": [],
   "source": [
    "from sklearn.linear_model import LogisticRegression\n",
    "\n",
    "# Logistic Regression\n",
    "logreg = LogisticRegression()\n",
    "\n",
    "mem_usage_before_logreg = get_memory_usage()\n",
    "\n",
    "# Measure time taken\n",
    "start_time = time.time()\n",
    "logreg.fit(X_train, y_train)\n",
    "end_time = time.time()\n",
    "execution_time_logreg = end_time - start_time\n",
    "\n",
    "# Measure memory consumption after fitting\n",
    "mem_usage_after_logreg = get_memory_usage()\n",
    "mem_usage_logreg = mem_usage_after_logreg - mem_usage_before_logreg\n",
    "\n",
    "pred_logreg = logreg.predict(X_test)"
   ]
  },
  {
   "cell_type": "code",
   "execution_count": null,
   "id": "2ca9f38d",
   "metadata": {},
   "outputs": [],
   "source": [
    "logreg_scores = cross_val_score(logreg, X_train, y_train, cv=5)\n",
    "print(logreg_scores)\n",
    "print(\"avrage =\", np.mean(logreg_scores))"
   ]
  },
  {
   "cell_type": "code",
   "execution_count": null,
   "id": "0ed6c57c",
   "metadata": {},
   "outputs": [],
   "source": [
    "print(classification_report(y_test, pred_logreg, zero_division=0))"
   ]
  },
  {
   "cell_type": "code",
   "execution_count": null,
   "id": "d0419b5d",
   "metadata": {},
   "outputs": [],
   "source": [
    "print(accuracy_score(y_test, pred_logreg))"
   ]
  },
  {
   "cell_type": "code",
   "execution_count": null,
   "id": "d405fe88",
   "metadata": {},
   "outputs": [],
   "source": [
    "print(\"Logistic Regression  Memory Consumption:\", mem_usage_logreg)\n",
    "print(\"Logistic Regression  Execution Time:\", execution_time_logreg)"
   ]
  },
  {
   "cell_type": "code",
   "execution_count": null,
   "id": "4ed919bc",
   "metadata": {},
   "outputs": [],
   "source": [
    "import matplotlib.pyplot as plt\n",
    "import seaborn as sns\n",
    "import numpy as np\n",
    "\n",
    "# Create subplots with 1 row and 5 columns\n",
    "fig, axs = plt.subplots(1, 3, figsize=(10, 4))\n",
    "\n",
    "# Plot for rf_predictions\n",
    "sns.distplot((y_test - pred_rfc), ax=axs[0])\n",
    "axs[0].set_title('RF Residuals')\n",
    "\n",
    "# Plot for knn_predictions\n",
    "sns.distplot((y_test - pred_knn), ax=axs[1])\n",
    "axs[1].set_title('KNN Residuals')\n",
    "\n",
    "# Plot for dt_predictions\n",
    "sns.distplot((y_test - pred_dt), ax=axs[2])\n",
    "axs[2].set_title('DT Residuals')\n",
    "\n",
    "plt.tight_layout()\n",
    "plt.show()\n",
    "\n",
    "fig, axs = plt.subplots(1, 3, figsize=(10, 4))\n",
    "# Plot for nb_predictions\n",
    "sns.distplot((y_test - pred_nb), ax=axs[0])\n",
    "axs[0].set_title('NB Residuals')\n",
    "\n",
    "# Plot for logreg_predictions\n",
    "sns.distplot((y_test - pred_logreg), ax=axs[1])\n",
    "axs[1].set_title('Logistic Regression Residuals')\n",
    "\n",
    "# Adjust layout and display the plots\n",
    "plt.tight_layout()\n",
    "plt.show()\n"
   ]
  },
  {
   "cell_type": "markdown",
   "id": "35d86aba",
   "metadata": {},
   "source": [
    "### MLPC"
   ]
  },
  {
   "cell_type": "code",
   "execution_count": null,
   "id": "64892b39",
   "metadata": {},
   "outputs": [],
   "source": [
    "mlpc = MLPClassifier()\n",
    "mem_usage_before_mlpc = get_memory_usage()\n",
    "\n",
    "# Measure time taken\n",
    "start_time = time.time()\n",
    "mlpc.fit(X_train, y_train)\n",
    "end_time = time.time()\n",
    "execution_time_mlpc = end_time - start_time\n",
    "\n",
    "# Measure memory consumption after fitting\n",
    "mem_usage_after_mlpc = get_memory_usage()\n",
    "mem_usage_mlpc = mem_usage_after_mlpc - mem_usage_before_mlpc\n",
    "pred_mlpc = mlpc.predict(X_test)"
   ]
  },
  {
   "cell_type": "code",
   "execution_count": null,
   "id": "0953a256",
   "metadata": {},
   "outputs": [],
   "source": [
    "print(classification_report(y_test, pred_mlpc, zero_division=0))"
   ]
  },
  {
   "cell_type": "code",
   "execution_count": null,
   "id": "bbc53b68",
   "metadata": {},
   "outputs": [],
   "source": [
    "print(\"MLPC Memory Consumption:\", mem_usage_mlpc)\n",
    "print(\"MLPC Execution Time:\", execution_time_mlpc)"
   ]
  },
  {
   "cell_type": "code",
   "execution_count": null,
   "id": "4f54ca06",
   "metadata": {},
   "outputs": [],
   "source": [
    "print(\"No. of Classes in Test data:\")\n",
    "print(cleaned_data['class'].value_counts())\n",
    "print(\"----------------------------\")\n",
    "print(\"No. of Classes in prediction:\")\n",
    "pd.crosstab(y_test, pred_mlpc, margins=True)"
   ]
  },
  {
   "cell_type": "markdown",
   "id": "d6e0d934",
   "metadata": {},
   "source": [
    "### SVM"
   ]
  },
  {
   "cell_type": "code",
   "execution_count": null,
   "id": "b5653a7c",
   "metadata": {},
   "outputs": [],
   "source": [
    "svm = svm.SVC()\n",
    "\n",
    "mem_usage_before_svm = get_memory_usage()\n",
    "\n",
    "# Measure time taken\n",
    "start_time = time.time()\n",
    "svm.fit(X_train, y_train)\n",
    "end_time = time.time()\n",
    "execution_time_svm = end_time - start_time\n",
    "\n",
    "# Measure memory consumption after fitting\n",
    "mem_usage_after_svm = get_memory_usage()\n",
    "mem_usage_svm = mem_usage_after_svm - mem_usage_before_svm\n",
    "\n",
    "pred_svm = svm.predict(X_test)\n"
   ]
  },
  {
   "cell_type": "code",
   "execution_count": null,
   "id": "734ca97a",
   "metadata": {},
   "outputs": [],
   "source": [
    "print(classification_report(y_test, pred_svc, zero_division=0))"
   ]
  },
  {
   "cell_type": "code",
   "execution_count": null,
   "id": "68bba1a1",
   "metadata": {},
   "outputs": [],
   "source": [
    "print(accuracy_score(y_test, pred_svc))"
   ]
  },
  {
   "cell_type": "code",
   "execution_count": null,
   "id": "4c749edb",
   "metadata": {},
   "outputs": [],
   "source": [
    "print(\"SVM Memory Consumption:\", mem_usage_svm)\n",
    "print(\"SVM Execution Time:\", execution_time_svm)"
   ]
  }
 ],
 "metadata": {
  "kernelspec": {
   "display_name": "Python 3 (ipykernel)",
   "language": "python",
   "name": "python3"
  },
  "language_info": {
   "codemirror_mode": {
    "name": "ipython",
    "version": 3
   },
   "file_extension": ".py",
   "mimetype": "text/x-python",
   "name": "python",
   "nbconvert_exporter": "python",
   "pygments_lexer": "ipython3",
   "version": "3.9.15"
  }
 },
 "nbformat": 4,
 "nbformat_minor": 5
}
