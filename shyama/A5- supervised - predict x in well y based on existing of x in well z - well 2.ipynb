{
 "cells": [
  {
   "cell_type": "code",
   "execution_count": 59,
   "id": "72c13c1c",
   "metadata": {},
   "outputs": [],
   "source": [
    "import pandas as pd\n",
    "import numpy as np\n",
    "from datetime import datetime\n",
    "import matplotlib.pyplot as plt\n",
    "from sklearn.ensemble import RandomForestClassifier\n",
    "from sklearn import svm\n",
    "from sklearn.svm import SVC\n",
    "from sklearn.neural_network import MLPClassifier\n",
    "from sklearn import metrics\n",
    "from sklearn.metrics import confusion_matrix, classification_report, ConfusionMatrixDisplay, silhouette_score,plot_confusion_matrix\n",
    "from sklearn.preprocessing import MinMaxScaler\n",
    "from sklearn import preprocessing\n",
    "from sklearn.cluster import KMeans, OPTICS, MeanShift, Birch, DBSCAN\n",
    "from sklearn.neighbors import KNeighborsClassifier\n",
    "from numpy import set_printoptions\n",
    "from sklearn.feature_selection import SelectKBest, chi2\n",
    "from sklearn.mixture import GaussianMixture\n",
    "from sklearn.exceptions import UndefinedMetricWarning\n",
    "from sklearn.metrics import homogeneity_completeness_v_measure, accuracy_score\n",
    "from sklearn.metrics.cluster import normalized_mutual_info_score, adjusted_rand_score, completeness_score\n",
    "from sklearn.model_selection import train_test_split, cross_val_predict, cross_val_score\n",
    "from sklearn.linear_model import LogisticRegression\n",
    "from sklearn.tree import DecisionTreeClassifier\n",
    "from sklearn.model_selection import GridSearchCV\n",
    "from sklearn.pipeline import Pipeline\n",
    "from sklearn import linear_model\n",
    "from sklearn.metrics import roc_curve\n",
    "import matplotlib.pyplot as plt\n",
    "import time\n",
    "import psutil\n",
    "np.set_printoptions(precision=3, linewidth=100)\n",
    "import warnings\n",
    "warnings.filterwarnings(\"ignore\")\n",
    "\n",
    "%matplotlib inline"
   ]
  },
  {
   "cell_type": "code",
   "execution_count": 60,
   "id": "24bea8bf",
   "metadata": {},
   "outputs": [
    {
     "name": "stdout",
     "output_type": "stream",
     "text": [
      "Number of datasets for training: 41\n",
      "Number of datasets for testing: 2\n"
     ]
    }
   ],
   "source": [
    "from pathlib import Path\n",
    "import pandas as pd\n",
    "import os\n",
    "\n",
    "# Specify the folder paths for the datasets you want to read\n",
    "folder_paths = [\n",
    "    \"dataset/1\",\n",
    "    \"dataset/2\",\n",
    "    \"dataset/5\",\n",
    "    \"dataset/7\"\n",
    "]\n",
    "\n",
    "# Lists to store the DataFrames\n",
    "train_dataframes = []\n",
    "test_dataframes = []\n",
    "\n",
    "# Iterate over the folder paths and files\n",
    "for folder_path in folder_paths:\n",
    "    files = os.listdir(folder_path)\n",
    "    for file in files:\n",
    "        if file.startswith(\"WELL-00002\"):\n",
    "            file_path = os.path.join(folder_path, file)\n",
    "            df = pd.read_csv(file_path)\n",
    "            test_dataframes.append(df)\n",
    "#            test_datasets.append(file)  # Store the file name in test_datasets\n",
    "        elif file.startswith(\"WELL-\"):\n",
    "            file_path = os.path.join(folder_path, file)\n",
    "            df = pd.read_csv(file_path)\n",
    "            train_dataframes.append(df)\n",
    "#            train_datasets.append(file)  # Store the file name in train_datasets\n",
    "\n",
    "# Print the lists\n",
    "#print(\"Test Datasets:\")\n",
    "#for dataset, filename in zip(test_dataframes, test_datasets):\n",
    "#    print(\"File:\", filename)\n",
    "\n",
    "#print(\"Train Datasets:\")\n",
    "#for dataset, filename in zip(train_dataframes, train_datasets):\n",
    "#    print(\"File:\", filename)\n",
    "\n",
    "# Print the number of datasets in each set\n",
    "print(\"Number of datasets for training:\", len(train_dataframes))\n",
    "print(\"Number of datasets for testing:\", len(test_dataframes))\n"
   ]
  },
  {
   "cell_type": "code",
   "execution_count": 61,
   "id": "2fd3c744",
   "metadata": {},
   "outputs": [],
   "source": [
    "#git.Repo.clone_from(\"https://github.com/petrobras/3W.git\", \"datasets\")"
   ]
  },
  {
   "cell_type": "code",
   "execution_count": 62,
   "id": "5778539a",
   "metadata": {},
   "outputs": [
    {
     "name": "stdout",
     "output_type": "stream",
     "text": [
      "Shape of the training dataset: (1492098, 10)\n",
      "Shape of the testing dataset: (33138, 10)\n"
     ]
    }
   ],
   "source": [
    "# Combine all training datasets into one big training dataset\n",
    "train_data = pd.concat(train_dataframes, ignore_index=True)\n",
    "\n",
    "# Combine all testing datasets into one big testing dataset\n",
    "test_data = pd.concat(test_dataframes, ignore_index=True)\n",
    "\n",
    "# Print the shape of the combined training and testing datasets\n",
    "print(\"Shape of the training dataset:\", train_data.shape)\n",
    "print(\"Shape of the testing dataset:\", test_data.shape)"
   ]
  },
  {
   "cell_type": "markdown",
   "id": "06d746b6",
   "metadata": {},
   "source": [
    "## Data preperation"
   ]
  },
  {
   "cell_type": "markdown",
   "id": "010b4d0b",
   "metadata": {},
   "source": [
    "### Clean Data: Remove Column with empty values"
   ]
  },
  {
   "cell_type": "code",
   "execution_count": 63,
   "id": "5452051e",
   "metadata": {},
   "outputs": [
    {
     "data": {
      "text/plain": [
       "timestamp     0\n",
       "P-PDG         0\n",
       "P-TPT         0\n",
       "T-TPT         0\n",
       "P-MON-CKP     0\n",
       "T-JUS-CKP     0\n",
       "P-JUS-CKGL    0\n",
       "QGL           0\n",
       "class         0\n",
       "dtype: int64"
      ]
     },
     "execution_count": 63,
     "metadata": {},
     "output_type": "execute_result"
    }
   ],
   "source": [
    "# Perform cleaning to remove columns with missing values\n",
    "\n",
    "cleaned_training = train_data.dropna(axis='columns', how='all')  # Remove columns with missing values\n",
    "cleaned_training = cleaned_training.dropna(axis=0)  # Remove rows with missing values\n",
    "cleaned_training.isnull().sum()"
   ]
  },
  {
   "cell_type": "code",
   "execution_count": 64,
   "id": "99bbcac7",
   "metadata": {},
   "outputs": [],
   "source": [
    "#cleaned_training.head()"
   ]
  },
  {
   "cell_type": "code",
   "execution_count": 65,
   "id": "c3a25e40",
   "metadata": {},
   "outputs": [
    {
     "data": {
      "text/plain": [
       "timestamp     0\n",
       "P-PDG         0\n",
       "P-TPT         0\n",
       "T-TPT         0\n",
       "P-MON-CKP     0\n",
       "T-JUS-CKP     0\n",
       "P-JUS-CKGL    0\n",
       "QGL           0\n",
       "class         0\n",
       "dtype: int64"
      ]
     },
     "execution_count": 65,
     "metadata": {},
     "output_type": "execute_result"
    }
   ],
   "source": [
    "cleaned_test = test_data.dropna(axis='columns', how='all')  # Remove columns with missing values\n",
    "cleaned_test = cleaned_test.dropna(axis=0)  # Remove rows with missing values\n",
    "cleaned_test.isnull().sum()"
   ]
  },
  {
   "cell_type": "code",
   "execution_count": 66,
   "id": "7b7064d7",
   "metadata": {},
   "outputs": [
    {
     "name": "stdout",
     "output_type": "stream",
     "text": [
      "Shape of the training dataset: (1222036, 9)\n",
      "Shape of the testing dataset: (23316, 9)\n"
     ]
    }
   ],
   "source": [
    "print(\"Shape of the training dataset:\", cleaned_training.shape)\n",
    "print(\"Shape of the testing dataset:\", cleaned_test.shape)"
   ]
  },
  {
   "cell_type": "code",
   "execution_count": 67,
   "id": "468b5a95",
   "metadata": {},
   "outputs": [
    {
     "data": {
      "text/plain": [
       "0.0      480018\n",
       "105.0    317565\n",
       "107.0    282900\n",
       "101.0     89088\n",
       "7.0       25870\n",
       "5.0       12069\n",
       "1.0        7488\n",
       "102.0      4211\n",
       "2.0        2827\n",
       "Name: class, dtype: int64"
      ]
     },
     "execution_count": 67,
     "metadata": {},
     "output_type": "execute_result"
    }
   ],
   "source": [
    "cleaned_training['class'].value_counts()"
   ]
  },
  {
   "cell_type": "code",
   "execution_count": 68,
   "id": "be463798",
   "metadata": {},
   "outputs": [
    {
     "data": {
      "text/plain": [
       "0.0      8511\n",
       "101.0    6570\n",
       "102.0    5096\n",
       "1.0      2929\n",
       "2.0       210\n",
       "Name: class, dtype: int64"
      ]
     },
     "execution_count": 68,
     "metadata": {},
     "output_type": "execute_result"
    }
   ],
   "source": [
    "cleaned_test['class'].value_counts()"
   ]
  },
  {
   "cell_type": "code",
   "execution_count": 69,
   "id": "c83d3452",
   "metadata": {},
   "outputs": [],
   "source": [
    "# Preprocess the data\n",
    "# # Assuming the timestamp column is named 'timestamp'\n",
    "# cleaned_training['timestamp'] = pd.to_datetime(cleaned_training['timestamp'])\n",
    "# cleaned_training['year'] = cleaned_training['timestamp'].dt.year\n",
    "# cleaned_training['month'] = cleaned_training['timestamp'].dt.month\n",
    "# cleaned_training['day'] = cleaned_training['timestamp'].dt.day\n",
    "# cleaned_training['hour'] = cleaned_training['timestamp'].dt.hour\n",
    "# # Preprocess the data\n",
    "# # Assuming the timestamp column is named 'timestamp'\n",
    "# cleaned_test['timestamp'] = pd.to_datetime(cleaned_test['timestamp'])\n",
    "# cleaned_test['year'] = cleaned_test['timestamp'].dt.year\n",
    "# cleaned_test['month'] = cleaned_test['timestamp'].dt.month\n",
    "# cleaned_test['day'] = cleaned_test['timestamp'].dt.day\n",
    "# cleaned_test['hour'] = cleaned_test['timestamp'].dt.hour\n"
   ]
  },
  {
   "cell_type": "markdown",
   "id": "e202ac08",
   "metadata": {},
   "source": [
    "## Split the data"
   ]
  },
  {
   "cell_type": "code",
   "execution_count": 70,
   "id": "ff08bf93",
   "metadata": {},
   "outputs": [],
   "source": [
    "X_train = cleaned_training.drop(['timestamp', 'class'], axis=1)\n",
    "y_train = cleaned_training['class'].astype('int')\n",
    "\n",
    "X_test = cleaned_test.drop(['timestamp', 'class'], axis=1)\n",
    "y_test = cleaned_test['class'].astype('int')"
   ]
  },
  {
   "cell_type": "code",
   "execution_count": 71,
   "id": "880f5b49",
   "metadata": {},
   "outputs": [],
   "source": [
    "from imblearn.over_sampling import SMOTE"
   ]
  },
  {
   "cell_type": "code",
   "execution_count": 72,
   "id": "5b18eeec",
   "metadata": {},
   "outputs": [],
   "source": [
    "from imblearn.under_sampling import RandomUnderSampler "
   ]
  },
  {
   "cell_type": "code",
   "execution_count": 73,
   "id": "6b713499",
   "metadata": {},
   "outputs": [],
   "source": [
    "# over_sampling + grid search -> more time\n",
    "# under_sampling + grid search -> less time"
   ]
  },
  {
   "cell_type": "code",
   "execution_count": 74,
   "id": "90a840f9",
   "metadata": {},
   "outputs": [],
   "source": [
    "rus = RandomUnderSampler(random_state=42)\n",
    "X_train_res, y_train_res = rus.fit_resample(X_train, y_train.ravel())"
   ]
  },
  {
   "cell_type": "code",
   "execution_count": 75,
   "id": "2d6760f6",
   "metadata": {},
   "outputs": [],
   "source": [
    "# sm = SMOTE(random_state=2)\n",
    "# X_train_res, y_train_res = sm.fit_resample(X_train, y_train.ravel())"
   ]
  },
  {
   "cell_type": "code",
   "execution_count": 76,
   "id": "5e879c51",
   "metadata": {},
   "outputs": [
    {
     "data": {
      "text/plain": [
       "0      2827\n",
       "1      2827\n",
       "2      2827\n",
       "5      2827\n",
       "7      2827\n",
       "101    2827\n",
       "102    2827\n",
       "105    2827\n",
       "107    2827\n",
       "dtype: int64"
      ]
     },
     "execution_count": 76,
     "metadata": {},
     "output_type": "execute_result"
    }
   ],
   "source": [
    "pd.Series(y_train_res).value_counts()"
   ]
  },
  {
   "cell_type": "markdown",
   "id": "8b3d1516",
   "metadata": {},
   "source": [
    "## Scaling each feature to a given range: using MinMaxScaler\n",
    "## Feature selection"
   ]
  },
  {
   "cell_type": "code",
   "execution_count": 77,
   "id": "ec1206b2",
   "metadata": {},
   "outputs": [
    {
     "name": "stdout",
     "output_type": "stream",
     "text": [
      "Scaled Training Data:\n",
      "   P-PDG     P-TPT     T-TPT  P-MON-CKP  T-JUS-CKP  P-JUS-CKGL  QGL\n",
      "0    1.0  0.000547  0.828649   0.129097   0.476079    0.009900  0.0\n",
      "1    1.0  0.000638  0.820101   0.148118   0.443672    0.009902  0.0\n",
      "2    1.0  0.000614  0.843333   0.164657   0.519052    0.009899  0.0\n",
      "3    1.0  0.000616  0.843407   0.165557   0.538614    0.009899  0.0\n",
      "4    1.0  0.004727  0.992228   0.146075   0.959757    0.000929  0.0\n",
      "\n",
      "Scaled Test Data:\n",
      "   P-PDG     P-TPT     T-TPT  P-MON-CKP  T-JUS-CKP  P-JUS-CKGL  QGL\n",
      "0    1.0  0.004204  0.984258   0.604568   2.434609    0.002939  0.0\n",
      "1    1.0  0.004204  0.984257   0.604530   2.434609    0.002939  0.0\n",
      "2    1.0  0.004204  0.984256   0.604492   2.434609    0.002939  0.0\n",
      "3    1.0  0.004204  0.984255   0.604454   2.434609    0.002939  0.0\n",
      "4    1.0  0.004204  0.984255   0.604416   2.434609    0.002939  0.0\n"
     ]
    }
   ],
   "source": [
    "#minmax\n",
    "\n",
    "from sklearn.preprocessing import MinMaxScaler\n",
    "\n",
    "# Create the scaler\n",
    "min_max_scaler = MinMaxScaler()\n",
    "\n",
    "# Fit the scaler on the training data and transform it\n",
    "# columns = [col for col in X_train.columns if col not in ['timestamp', 'class']]\n",
    "X_train_scaled = min_max_scaler.fit_transform(X_train_res)\n",
    "X_train = pd.DataFrame(X_train_scaled,columns=list(X_train_res))\n",
    "\n",
    "# Transform the test data using the trained scaler\n",
    "X_test_scaled = min_max_scaler.transform(X_test)\n",
    "X_test = pd.DataFrame(X_test_scaled,columns=list(X_train_res))\n",
    "\n",
    "# Print the head of the scaled training and test data\n",
    "print(\"Scaled Training Data:\")\n",
    "print(X_train.head())\n",
    "print(\"\\nScaled Test Data:\")\n",
    "print(X_test.head())\n"
   ]
  },
  {
   "cell_type": "code",
   "execution_count": 79,
   "id": "90d0c599",
   "metadata": {},
   "outputs": [],
   "source": [
    "y_train = y_train_res"
   ]
  },
  {
   "cell_type": "code",
   "execution_count": 80,
   "id": "807ff8e9",
   "metadata": {},
   "outputs": [],
   "source": [
    "selector = SelectKBest(score_func=chi2, k=7)\n",
    "X_train_selected = selector.fit_transform(X_train, y_train)\n",
    "\n",
    "# Get the selected feature indices\n",
    "selected_feature_indices = selector.get_support(indices=True)\n",
    "\n",
    "# Get the selected feature names\n",
    "selected_feature_names = X_train.columns[selected_feature_indices]\n",
    "\n",
    "# Transform the scaled testing set using the selected features\n",
    "X_test_selected = X_test.iloc[:, selected_feature_indices]\n",
    "\n",
    "X_train = X_train[selected_feature_names]\n",
    "X_test = X_test_selected"
   ]
  },
  {
   "cell_type": "code",
   "execution_count": 91,
   "id": "eb7ca45d",
   "metadata": {},
   "outputs": [
    {
     "data": {
      "text/plain": [
       "(25443, 7)"
      ]
     },
     "execution_count": 91,
     "metadata": {},
     "output_type": "execute_result"
    }
   ],
   "source": [
    "X_train.shape"
   ]
  },
  {
   "cell_type": "code",
   "execution_count": null,
   "id": "b2168e7a",
   "metadata": {},
   "outputs": [],
   "source": []
  },
  {
   "cell_type": "markdown",
   "id": "a4bb4370",
   "metadata": {},
   "source": [
    "# Supervised machine learning"
   ]
  },
  {
   "cell_type": "code",
   "execution_count": 84,
   "id": "20997112",
   "metadata": {},
   "outputs": [],
   "source": [
    "# !pip install sktime"
   ]
  },
  {
   "cell_type": "code",
   "execution_count": 95,
   "id": "556c8fac",
   "metadata": {},
   "outputs": [],
   "source": [
    "from sktime.classification.deep_learning import LSTMFCNClassifier"
   ]
  },
  {
   "cell_type": "code",
   "execution_count": 97,
   "id": "918d6d50",
   "metadata": {},
   "outputs": [
    {
     "ename": "KeyboardInterrupt",
     "evalue": "",
     "output_type": "error",
     "traceback": [
      "\u001b[1;31m---------------------------------------------------------------------------\u001b[0m",
      "\u001b[1;31mKeyboardInterrupt\u001b[0m                         Traceback (most recent call last)",
      "Cell \u001b[1;32mIn[97], line 2\u001b[0m\n\u001b[0;32m      1\u001b[0m classifier \u001b[38;5;241m=\u001b[39m LSTMFCNClassifier()\n\u001b[1;32m----> 2\u001b[0m \u001b[43mclassifier\u001b[49m\u001b[38;5;241;43m.\u001b[39;49m\u001b[43mfit\u001b[49m\u001b[43m(\u001b[49m\u001b[43mX_train\u001b[49m\u001b[38;5;241;43m.\u001b[39;49m\u001b[43mvalues\u001b[49m\u001b[43m,\u001b[49m\u001b[43m \u001b[49m\u001b[43my_train\u001b[49m\u001b[43m)\u001b[49m\n",
      "File \u001b[1;32m~\\anaconda3\\lib\\site-packages\\sktime\\classification\\base.py:202\u001b[0m, in \u001b[0;36mBaseClassifier.fit\u001b[1;34m(self, X, y)\u001b[0m\n\u001b[0;32m    197\u001b[0m         \u001b[38;5;28;01mraise\u001b[39;00m \u001b[38;5;167;01mAttributeError\u001b[39;00m(\n\u001b[0;32m    198\u001b[0m             \u001b[38;5;124m\"\u001b[39m\u001b[38;5;124mself.n_jobs must be set if capability:multithreading is True\u001b[39m\u001b[38;5;124m\"\u001b[39m\n\u001b[0;32m    199\u001b[0m         )\n\u001b[0;32m    201\u001b[0m \u001b[38;5;66;03m# pass coerced and checked data to inner _fit\u001b[39;00m\n\u001b[1;32m--> 202\u001b[0m \u001b[38;5;28;43mself\u001b[39;49m\u001b[38;5;241;43m.\u001b[39;49m\u001b[43m_fit\u001b[49m\u001b[43m(\u001b[49m\u001b[43mX\u001b[49m\u001b[43m,\u001b[49m\u001b[43m \u001b[49m\u001b[43my\u001b[49m\u001b[43m)\u001b[49m\n\u001b[0;32m    203\u001b[0m \u001b[38;5;28mself\u001b[39m\u001b[38;5;241m.\u001b[39mfit_time_ \u001b[38;5;241m=\u001b[39m \u001b[38;5;28mint\u001b[39m(\u001b[38;5;28mround\u001b[39m(time\u001b[38;5;241m.\u001b[39mtime() \u001b[38;5;241m*\u001b[39m \u001b[38;5;241m1000\u001b[39m)) \u001b[38;5;241m-\u001b[39m start\n\u001b[0;32m    205\u001b[0m \u001b[38;5;66;03m# this should happen last\u001b[39;00m\n",
      "File \u001b[1;32m~\\anaconda3\\lib\\site-packages\\sktime\\classification\\deep_learning\\lstmfcn.py:191\u001b[0m, in \u001b[0;36mLSTMFCNClassifier._fit\u001b[1;34m(self, X, y)\u001b[0m\n\u001b[0;32m    188\u001b[0m \u001b[38;5;28;01mif\u001b[39;00m \u001b[38;5;28mself\u001b[39m\u001b[38;5;241m.\u001b[39mverbose:\n\u001b[0;32m    189\u001b[0m     \u001b[38;5;28mself\u001b[39m\u001b[38;5;241m.\u001b[39mmodel_\u001b[38;5;241m.\u001b[39msummary()\n\u001b[1;32m--> 191\u001b[0m \u001b[38;5;28mself\u001b[39m\u001b[38;5;241m.\u001b[39mhistory \u001b[38;5;241m=\u001b[39m \u001b[38;5;28;43mself\u001b[39;49m\u001b[38;5;241;43m.\u001b[39;49m\u001b[43mmodel_\u001b[49m\u001b[38;5;241;43m.\u001b[39;49m\u001b[43mfit\u001b[49m\u001b[43m(\u001b[49m\n\u001b[0;32m    192\u001b[0m \u001b[43m    \u001b[49m\u001b[43mX\u001b[49m\u001b[43m,\u001b[49m\n\u001b[0;32m    193\u001b[0m \u001b[43m    \u001b[49m\u001b[43my_onehot\u001b[49m\u001b[43m,\u001b[49m\n\u001b[0;32m    194\u001b[0m \u001b[43m    \u001b[49m\u001b[43mbatch_size\u001b[49m\u001b[38;5;241;43m=\u001b[39;49m\u001b[38;5;28;43mself\u001b[39;49m\u001b[38;5;241;43m.\u001b[39;49m\u001b[43mbatch_size\u001b[49m\u001b[43m,\u001b[49m\n\u001b[0;32m    195\u001b[0m \u001b[43m    \u001b[49m\u001b[43mepochs\u001b[49m\u001b[38;5;241;43m=\u001b[39;49m\u001b[38;5;28;43mself\u001b[39;49m\u001b[38;5;241;43m.\u001b[39;49m\u001b[43mn_epochs\u001b[49m\u001b[43m,\u001b[49m\n\u001b[0;32m    196\u001b[0m \u001b[43m    \u001b[49m\u001b[43mverbose\u001b[49m\u001b[38;5;241;43m=\u001b[39;49m\u001b[38;5;28;43mself\u001b[39;49m\u001b[38;5;241;43m.\u001b[39;49m\u001b[43mverbose\u001b[49m\u001b[43m,\u001b[49m\n\u001b[0;32m    197\u001b[0m \u001b[43m    \u001b[49m\u001b[43mcallbacks\u001b[49m\u001b[38;5;241;43m=\u001b[39;49m\u001b[43mdeepcopy\u001b[49m\u001b[43m(\u001b[49m\u001b[38;5;28;43mself\u001b[39;49m\u001b[38;5;241;43m.\u001b[39;49m\u001b[43mcallbacks\u001b[49m\u001b[43m)\u001b[49m\u001b[43m \u001b[49m\u001b[38;5;28;43;01mif\u001b[39;49;00m\u001b[43m \u001b[49m\u001b[38;5;28;43mself\u001b[39;49m\u001b[38;5;241;43m.\u001b[39;49m\u001b[43mcallbacks\u001b[49m\u001b[43m \u001b[49m\u001b[38;5;28;43;01melse\u001b[39;49;00m\u001b[43m \u001b[49m\u001b[43m[\u001b[49m\u001b[43m]\u001b[49m\u001b[43m,\u001b[49m\n\u001b[0;32m    198\u001b[0m \u001b[43m\u001b[49m\u001b[43m)\u001b[49m\n\u001b[0;32m    200\u001b[0m \u001b[38;5;28mself\u001b[39m\u001b[38;5;241m.\u001b[39m_is_fitted \u001b[38;5;241m=\u001b[39m \u001b[38;5;28;01mTrue\u001b[39;00m\n\u001b[0;32m    202\u001b[0m \u001b[38;5;28;01mreturn\u001b[39;00m \u001b[38;5;28mself\u001b[39m\n",
      "File \u001b[1;32m~\\anaconda3\\lib\\site-packages\\keras\\utils\\traceback_utils.py:64\u001b[0m, in \u001b[0;36mfilter_traceback.<locals>.error_handler\u001b[1;34m(*args, **kwargs)\u001b[0m\n\u001b[0;32m     62\u001b[0m filtered_tb \u001b[38;5;241m=\u001b[39m \u001b[38;5;28;01mNone\u001b[39;00m\n\u001b[0;32m     63\u001b[0m \u001b[38;5;28;01mtry\u001b[39;00m:\n\u001b[1;32m---> 64\u001b[0m   \u001b[38;5;28;01mreturn\u001b[39;00m fn(\u001b[38;5;241m*\u001b[39margs, \u001b[38;5;241m*\u001b[39m\u001b[38;5;241m*\u001b[39mkwargs)\n\u001b[0;32m     65\u001b[0m \u001b[38;5;28;01mexcept\u001b[39;00m \u001b[38;5;167;01mException\u001b[39;00m \u001b[38;5;28;01mas\u001b[39;00m e:  \u001b[38;5;66;03m# pylint: disable=broad-except\u001b[39;00m\n\u001b[0;32m     66\u001b[0m   filtered_tb \u001b[38;5;241m=\u001b[39m _process_traceback_frames(e\u001b[38;5;241m.\u001b[39m__traceback__)\n",
      "File \u001b[1;32m~\\anaconda3\\lib\\site-packages\\keras\\engine\\training.py:1409\u001b[0m, in \u001b[0;36mModel.fit\u001b[1;34m(self, x, y, batch_size, epochs, verbose, callbacks, validation_split, validation_data, shuffle, class_weight, sample_weight, initial_epoch, steps_per_epoch, validation_steps, validation_batch_size, validation_freq, max_queue_size, workers, use_multiprocessing)\u001b[0m\n\u001b[0;32m   1402\u001b[0m \u001b[38;5;28;01mwith\u001b[39;00m tf\u001b[38;5;241m.\u001b[39mprofiler\u001b[38;5;241m.\u001b[39mexperimental\u001b[38;5;241m.\u001b[39mTrace(\n\u001b[0;32m   1403\u001b[0m     \u001b[38;5;124m'\u001b[39m\u001b[38;5;124mtrain\u001b[39m\u001b[38;5;124m'\u001b[39m,\n\u001b[0;32m   1404\u001b[0m     epoch_num\u001b[38;5;241m=\u001b[39mepoch,\n\u001b[0;32m   1405\u001b[0m     step_num\u001b[38;5;241m=\u001b[39mstep,\n\u001b[0;32m   1406\u001b[0m     batch_size\u001b[38;5;241m=\u001b[39mbatch_size,\n\u001b[0;32m   1407\u001b[0m     _r\u001b[38;5;241m=\u001b[39m\u001b[38;5;241m1\u001b[39m):\n\u001b[0;32m   1408\u001b[0m   callbacks\u001b[38;5;241m.\u001b[39mon_train_batch_begin(step)\n\u001b[1;32m-> 1409\u001b[0m   tmp_logs \u001b[38;5;241m=\u001b[39m \u001b[38;5;28;43mself\u001b[39;49m\u001b[38;5;241;43m.\u001b[39;49m\u001b[43mtrain_function\u001b[49m\u001b[43m(\u001b[49m\u001b[43miterator\u001b[49m\u001b[43m)\u001b[49m\n\u001b[0;32m   1410\u001b[0m   \u001b[38;5;28;01mif\u001b[39;00m data_handler\u001b[38;5;241m.\u001b[39mshould_sync:\n\u001b[0;32m   1411\u001b[0m     context\u001b[38;5;241m.\u001b[39masync_wait()\n",
      "File \u001b[1;32m~\\anaconda3\\lib\\site-packages\\tensorflow\\python\\util\\traceback_utils.py:150\u001b[0m, in \u001b[0;36mfilter_traceback.<locals>.error_handler\u001b[1;34m(*args, **kwargs)\u001b[0m\n\u001b[0;32m    148\u001b[0m filtered_tb \u001b[38;5;241m=\u001b[39m \u001b[38;5;28;01mNone\u001b[39;00m\n\u001b[0;32m    149\u001b[0m \u001b[38;5;28;01mtry\u001b[39;00m:\n\u001b[1;32m--> 150\u001b[0m   \u001b[38;5;28;01mreturn\u001b[39;00m fn(\u001b[38;5;241m*\u001b[39margs, \u001b[38;5;241m*\u001b[39m\u001b[38;5;241m*\u001b[39mkwargs)\n\u001b[0;32m    151\u001b[0m \u001b[38;5;28;01mexcept\u001b[39;00m \u001b[38;5;167;01mException\u001b[39;00m \u001b[38;5;28;01mas\u001b[39;00m e:\n\u001b[0;32m    152\u001b[0m   filtered_tb \u001b[38;5;241m=\u001b[39m _process_traceback_frames(e\u001b[38;5;241m.\u001b[39m__traceback__)\n",
      "File \u001b[1;32m~\\anaconda3\\lib\\site-packages\\tensorflow\\python\\eager\\def_function.py:915\u001b[0m, in \u001b[0;36mFunction.__call__\u001b[1;34m(self, *args, **kwds)\u001b[0m\n\u001b[0;32m    912\u001b[0m compiler \u001b[38;5;241m=\u001b[39m \u001b[38;5;124m\"\u001b[39m\u001b[38;5;124mxla\u001b[39m\u001b[38;5;124m\"\u001b[39m \u001b[38;5;28;01mif\u001b[39;00m \u001b[38;5;28mself\u001b[39m\u001b[38;5;241m.\u001b[39m_jit_compile \u001b[38;5;28;01melse\u001b[39;00m \u001b[38;5;124m\"\u001b[39m\u001b[38;5;124mnonXla\u001b[39m\u001b[38;5;124m\"\u001b[39m\n\u001b[0;32m    914\u001b[0m \u001b[38;5;28;01mwith\u001b[39;00m OptionalXlaContext(\u001b[38;5;28mself\u001b[39m\u001b[38;5;241m.\u001b[39m_jit_compile):\n\u001b[1;32m--> 915\u001b[0m   result \u001b[38;5;241m=\u001b[39m \u001b[38;5;28mself\u001b[39m\u001b[38;5;241m.\u001b[39m_call(\u001b[38;5;241m*\u001b[39margs, \u001b[38;5;241m*\u001b[39m\u001b[38;5;241m*\u001b[39mkwds)\n\u001b[0;32m    917\u001b[0m new_tracing_count \u001b[38;5;241m=\u001b[39m \u001b[38;5;28mself\u001b[39m\u001b[38;5;241m.\u001b[39mexperimental_get_tracing_count()\n\u001b[0;32m    918\u001b[0m without_tracing \u001b[38;5;241m=\u001b[39m (tracing_count \u001b[38;5;241m==\u001b[39m new_tracing_count)\n",
      "File \u001b[1;32m~\\anaconda3\\lib\\site-packages\\tensorflow\\python\\eager\\def_function.py:947\u001b[0m, in \u001b[0;36mFunction._call\u001b[1;34m(self, *args, **kwds)\u001b[0m\n\u001b[0;32m    944\u001b[0m   \u001b[38;5;28mself\u001b[39m\u001b[38;5;241m.\u001b[39m_lock\u001b[38;5;241m.\u001b[39mrelease()\n\u001b[0;32m    945\u001b[0m   \u001b[38;5;66;03m# In this case we have created variables on the first call, so we run the\u001b[39;00m\n\u001b[0;32m    946\u001b[0m   \u001b[38;5;66;03m# defunned version which is guaranteed to never create variables.\u001b[39;00m\n\u001b[1;32m--> 947\u001b[0m   \u001b[38;5;28;01mreturn\u001b[39;00m \u001b[38;5;28mself\u001b[39m\u001b[38;5;241m.\u001b[39m_stateless_fn(\u001b[38;5;241m*\u001b[39margs, \u001b[38;5;241m*\u001b[39m\u001b[38;5;241m*\u001b[39mkwds)  \u001b[38;5;66;03m# pylint: disable=not-callable\u001b[39;00m\n\u001b[0;32m    948\u001b[0m \u001b[38;5;28;01melif\u001b[39;00m \u001b[38;5;28mself\u001b[39m\u001b[38;5;241m.\u001b[39m_stateful_fn \u001b[38;5;129;01mis\u001b[39;00m \u001b[38;5;129;01mnot\u001b[39;00m \u001b[38;5;28;01mNone\u001b[39;00m:\n\u001b[0;32m    949\u001b[0m   \u001b[38;5;66;03m# Release the lock early so that multiple threads can perform the call\u001b[39;00m\n\u001b[0;32m    950\u001b[0m   \u001b[38;5;66;03m# in parallel.\u001b[39;00m\n\u001b[0;32m    951\u001b[0m   \u001b[38;5;28mself\u001b[39m\u001b[38;5;241m.\u001b[39m_lock\u001b[38;5;241m.\u001b[39mrelease()\n",
      "File \u001b[1;32m~\\anaconda3\\lib\\site-packages\\tensorflow\\python\\eager\\function.py:2453\u001b[0m, in \u001b[0;36mFunction.__call__\u001b[1;34m(self, *args, **kwargs)\u001b[0m\n\u001b[0;32m   2450\u001b[0m \u001b[38;5;28;01mwith\u001b[39;00m \u001b[38;5;28mself\u001b[39m\u001b[38;5;241m.\u001b[39m_lock:\n\u001b[0;32m   2451\u001b[0m   (graph_function,\n\u001b[0;32m   2452\u001b[0m    filtered_flat_args) \u001b[38;5;241m=\u001b[39m \u001b[38;5;28mself\u001b[39m\u001b[38;5;241m.\u001b[39m_maybe_define_function(args, kwargs)\n\u001b[1;32m-> 2453\u001b[0m \u001b[38;5;28;01mreturn\u001b[39;00m \u001b[43mgraph_function\u001b[49m\u001b[38;5;241;43m.\u001b[39;49m\u001b[43m_call_flat\u001b[49m\u001b[43m(\u001b[49m\n\u001b[0;32m   2454\u001b[0m \u001b[43m    \u001b[49m\u001b[43mfiltered_flat_args\u001b[49m\u001b[43m,\u001b[49m\u001b[43m \u001b[49m\u001b[43mcaptured_inputs\u001b[49m\u001b[38;5;241;43m=\u001b[39;49m\u001b[43mgraph_function\u001b[49m\u001b[38;5;241;43m.\u001b[39;49m\u001b[43mcaptured_inputs\u001b[49m\u001b[43m)\u001b[49m\n",
      "File \u001b[1;32m~\\anaconda3\\lib\\site-packages\\tensorflow\\python\\eager\\function.py:1860\u001b[0m, in \u001b[0;36mConcreteFunction._call_flat\u001b[1;34m(self, args, captured_inputs, cancellation_manager)\u001b[0m\n\u001b[0;32m   1856\u001b[0m possible_gradient_type \u001b[38;5;241m=\u001b[39m gradients_util\u001b[38;5;241m.\u001b[39mPossibleTapeGradientTypes(args)\n\u001b[0;32m   1857\u001b[0m \u001b[38;5;28;01mif\u001b[39;00m (possible_gradient_type \u001b[38;5;241m==\u001b[39m gradients_util\u001b[38;5;241m.\u001b[39mPOSSIBLE_GRADIENT_TYPES_NONE\n\u001b[0;32m   1858\u001b[0m     \u001b[38;5;129;01mand\u001b[39;00m executing_eagerly):\n\u001b[0;32m   1859\u001b[0m   \u001b[38;5;66;03m# No tape is watching; skip to running the function.\u001b[39;00m\n\u001b[1;32m-> 1860\u001b[0m   \u001b[38;5;28;01mreturn\u001b[39;00m \u001b[38;5;28mself\u001b[39m\u001b[38;5;241m.\u001b[39m_build_call_outputs(\u001b[38;5;28;43mself\u001b[39;49m\u001b[38;5;241;43m.\u001b[39;49m\u001b[43m_inference_function\u001b[49m\u001b[38;5;241;43m.\u001b[39;49m\u001b[43mcall\u001b[49m\u001b[43m(\u001b[49m\n\u001b[0;32m   1861\u001b[0m \u001b[43m      \u001b[49m\u001b[43mctx\u001b[49m\u001b[43m,\u001b[49m\u001b[43m \u001b[49m\u001b[43margs\u001b[49m\u001b[43m,\u001b[49m\u001b[43m \u001b[49m\u001b[43mcancellation_manager\u001b[49m\u001b[38;5;241;43m=\u001b[39;49m\u001b[43mcancellation_manager\u001b[49m\u001b[43m)\u001b[49m)\n\u001b[0;32m   1862\u001b[0m forward_backward \u001b[38;5;241m=\u001b[39m \u001b[38;5;28mself\u001b[39m\u001b[38;5;241m.\u001b[39m_select_forward_and_backward_functions(\n\u001b[0;32m   1863\u001b[0m     args,\n\u001b[0;32m   1864\u001b[0m     possible_gradient_type,\n\u001b[0;32m   1865\u001b[0m     executing_eagerly)\n\u001b[0;32m   1866\u001b[0m forward_function, args_with_tangents \u001b[38;5;241m=\u001b[39m forward_backward\u001b[38;5;241m.\u001b[39mforward()\n",
      "File \u001b[1;32m~\\anaconda3\\lib\\site-packages\\tensorflow\\python\\eager\\function.py:497\u001b[0m, in \u001b[0;36m_EagerDefinedFunction.call\u001b[1;34m(self, ctx, args, cancellation_manager)\u001b[0m\n\u001b[0;32m    495\u001b[0m \u001b[38;5;28;01mwith\u001b[39;00m _InterpolateFunctionError(\u001b[38;5;28mself\u001b[39m):\n\u001b[0;32m    496\u001b[0m   \u001b[38;5;28;01mif\u001b[39;00m cancellation_manager \u001b[38;5;129;01mis\u001b[39;00m \u001b[38;5;28;01mNone\u001b[39;00m:\n\u001b[1;32m--> 497\u001b[0m     outputs \u001b[38;5;241m=\u001b[39m \u001b[43mexecute\u001b[49m\u001b[38;5;241;43m.\u001b[39;49m\u001b[43mexecute\u001b[49m\u001b[43m(\u001b[49m\n\u001b[0;32m    498\u001b[0m \u001b[43m        \u001b[49m\u001b[38;5;28;43mstr\u001b[39;49m\u001b[43m(\u001b[49m\u001b[38;5;28;43mself\u001b[39;49m\u001b[38;5;241;43m.\u001b[39;49m\u001b[43msignature\u001b[49m\u001b[38;5;241;43m.\u001b[39;49m\u001b[43mname\u001b[49m\u001b[43m)\u001b[49m\u001b[43m,\u001b[49m\n\u001b[0;32m    499\u001b[0m \u001b[43m        \u001b[49m\u001b[43mnum_outputs\u001b[49m\u001b[38;5;241;43m=\u001b[39;49m\u001b[38;5;28;43mself\u001b[39;49m\u001b[38;5;241;43m.\u001b[39;49m\u001b[43m_num_outputs\u001b[49m\u001b[43m,\u001b[49m\n\u001b[0;32m    500\u001b[0m \u001b[43m        \u001b[49m\u001b[43minputs\u001b[49m\u001b[38;5;241;43m=\u001b[39;49m\u001b[43margs\u001b[49m\u001b[43m,\u001b[49m\n\u001b[0;32m    501\u001b[0m \u001b[43m        \u001b[49m\u001b[43mattrs\u001b[49m\u001b[38;5;241;43m=\u001b[39;49m\u001b[43mattrs\u001b[49m\u001b[43m,\u001b[49m\n\u001b[0;32m    502\u001b[0m \u001b[43m        \u001b[49m\u001b[43mctx\u001b[49m\u001b[38;5;241;43m=\u001b[39;49m\u001b[43mctx\u001b[49m\u001b[43m)\u001b[49m\n\u001b[0;32m    503\u001b[0m   \u001b[38;5;28;01melse\u001b[39;00m:\n\u001b[0;32m    504\u001b[0m     outputs \u001b[38;5;241m=\u001b[39m execute\u001b[38;5;241m.\u001b[39mexecute_with_cancellation(\n\u001b[0;32m    505\u001b[0m         \u001b[38;5;28mstr\u001b[39m(\u001b[38;5;28mself\u001b[39m\u001b[38;5;241m.\u001b[39msignature\u001b[38;5;241m.\u001b[39mname),\n\u001b[0;32m    506\u001b[0m         num_outputs\u001b[38;5;241m=\u001b[39m\u001b[38;5;28mself\u001b[39m\u001b[38;5;241m.\u001b[39m_num_outputs,\n\u001b[1;32m   (...)\u001b[0m\n\u001b[0;32m    509\u001b[0m         ctx\u001b[38;5;241m=\u001b[39mctx,\n\u001b[0;32m    510\u001b[0m         cancellation_manager\u001b[38;5;241m=\u001b[39mcancellation_manager)\n",
      "File \u001b[1;32m~\\anaconda3\\lib\\site-packages\\tensorflow\\python\\eager\\execute.py:54\u001b[0m, in \u001b[0;36mquick_execute\u001b[1;34m(op_name, num_outputs, inputs, attrs, ctx, name)\u001b[0m\n\u001b[0;32m     52\u001b[0m \u001b[38;5;28;01mtry\u001b[39;00m:\n\u001b[0;32m     53\u001b[0m   ctx\u001b[38;5;241m.\u001b[39mensure_initialized()\n\u001b[1;32m---> 54\u001b[0m   tensors \u001b[38;5;241m=\u001b[39m \u001b[43mpywrap_tfe\u001b[49m\u001b[38;5;241;43m.\u001b[39;49m\u001b[43mTFE_Py_Execute\u001b[49m\u001b[43m(\u001b[49m\u001b[43mctx\u001b[49m\u001b[38;5;241;43m.\u001b[39;49m\u001b[43m_handle\u001b[49m\u001b[43m,\u001b[49m\u001b[43m \u001b[49m\u001b[43mdevice_name\u001b[49m\u001b[43m,\u001b[49m\u001b[43m \u001b[49m\u001b[43mop_name\u001b[49m\u001b[43m,\u001b[49m\n\u001b[0;32m     55\u001b[0m \u001b[43m                                      \u001b[49m\u001b[43minputs\u001b[49m\u001b[43m,\u001b[49m\u001b[43m \u001b[49m\u001b[43mattrs\u001b[49m\u001b[43m,\u001b[49m\u001b[43m \u001b[49m\u001b[43mnum_outputs\u001b[49m\u001b[43m)\u001b[49m\n\u001b[0;32m     56\u001b[0m \u001b[38;5;28;01mexcept\u001b[39;00m core\u001b[38;5;241m.\u001b[39m_NotOkStatusException \u001b[38;5;28;01mas\u001b[39;00m e:\n\u001b[0;32m     57\u001b[0m   \u001b[38;5;28;01mif\u001b[39;00m name \u001b[38;5;129;01mis\u001b[39;00m \u001b[38;5;129;01mnot\u001b[39;00m \u001b[38;5;28;01mNone\u001b[39;00m:\n",
      "\u001b[1;31mKeyboardInterrupt\u001b[0m: "
     ]
    }
   ],
   "source": [
    "classifier = LSTMFCNClassifier()\n",
    "classifier.fit(X_train.values, y_train)"
   ]
  },
  {
   "cell_type": "code",
   "execution_count": null,
   "id": "35e923aa",
   "metadata": {},
   "outputs": [],
   "source": [
    "pred_rfc = classifier.predict(X_test.values)"
   ]
  },
  {
   "cell_type": "code",
   "execution_count": null,
   "id": "bda31f1e",
   "metadata": {},
   "outputs": [],
   "source": [
    "print(classification_report(y_test, pred_rfc))"
   ]
  },
  {
   "cell_type": "markdown",
   "id": "e62e0abf",
   "metadata": {},
   "source": [
    "### Random Forest Classifier"
   ]
  },
  {
   "cell_type": "code",
   "execution_count": 48,
   "id": "97001752",
   "metadata": {},
   "outputs": [],
   "source": [
    "rfc = RandomForestClassifier(min_samples_leaf=500,n_jobs=-1)\n",
    "rfc.fit(X_train, y_train)\n",
    "pred_rfc = rfc.predict(X_test)"
   ]
  },
  {
   "cell_type": "code",
   "execution_count": 49,
   "id": "3369d33e",
   "metadata": {},
   "outputs": [
    {
     "name": "stdout",
     "output_type": "stream",
     "text": [
      "              precision    recall  f1-score   support\n",
      "\n",
      "           0       0.00      0.00      0.00      8511\n",
      "           1       0.00      0.00      0.00      2929\n",
      "           2       0.00      0.00      0.00       210\n",
      "         101       0.45      0.36      0.40      6570\n",
      "         102       0.96      0.97      0.96      5096\n",
      "         105       0.00      0.00      0.00         0\n",
      "\n",
      "    accuracy                           0.31     23316\n",
      "   macro avg       0.23      0.22      0.23     23316\n",
      "weighted avg       0.34      0.31      0.32     23316\n",
      "\n"
     ]
    }
   ],
   "source": [
    "print(classification_report(y_test, pred_rfc))"
   ]
  },
  {
   "cell_type": "code",
   "execution_count": 40,
   "id": "ad02d67d",
   "metadata": {},
   "outputs": [
    {
     "data": {
      "image/png": "[encoded data removed]",
      "text/plain": [
       "<Figure size 640x480 with 2 Axes>"
      ]
     },
     "metadata": {},
     "output_type": "display_data"
    }
   ],
   "source": [
    "plot_confusion_matrix(rfc, X_test, y_test) \n",
    "plt.show()"
   ]
  },
  {
   "cell_type": "code",
   "execution_count": 41,
   "id": "61943c7f",
   "metadata": {},
   "outputs": [],
   "source": [
    "pred_rfc_train = rfc.predict(X_train)"
   ]
  },
  {
   "cell_type": "code",
   "execution_count": 42,
   "id": "9f94d456",
   "metadata": {},
   "outputs": [
    {
     "data": {
      "image/png": "[encoded data removed]",
      "text/plain": [
       "<Figure size 640x480 with 2 Axes>"
      ]
     },
     "metadata": {},
     "output_type": "display_data"
    }
   ],
   "source": [
    "plot_confusion_matrix(rfc, X_train, y_train) \n",
    "plt.show()"
   ]
  },
  {
   "cell_type": "code",
   "execution_count": 24,
   "id": "765193da",
   "metadata": {},
   "outputs": [
    {
     "name": "stdout",
     "output_type": "stream",
     "text": [
      "              precision    recall  f1-score   support\n",
      "\n",
      "           0       0.99      0.94      0.96    480018\n",
      "           1       0.99      1.00      0.99    480018\n",
      "           2       1.00      1.00      1.00    480018\n",
      "           5       1.00      1.00      1.00    480018\n",
      "           7       1.00      1.00      1.00    480018\n",
      "         101       0.97      0.99      0.98    480018\n",
      "         102       1.00      1.00      1.00    480018\n",
      "         105       0.97      0.99      0.98    480018\n",
      "         107       1.00      1.00      1.00    480018\n",
      "\n",
      "    accuracy                           0.99   4320162\n",
      "   macro avg       0.99      0.99      0.99   4320162\n",
      "weighted avg       0.99      0.99      0.99   4320162\n",
      "\n"
     ]
    }
   ],
   "source": [
    "print(classification_report(y_train, pred_rfc_train))"
   ]
  },
  {
   "cell_type": "code",
   "execution_count": 55,
   "id": "f05752b5",
   "metadata": {},
   "outputs": [],
   "source": [
    "param_grid = { \n",
    "    'n_estimators': [200, 500,700],\n",
    "    'max_features': ['auto', 'sqrt', 'log2'],\n",
    "    'max_depth' : [4,5,6],\n",
    "    'criterion' :['gini', 'entropy'],\n",
    "    'min_samples_leaf':[1,2,3]\n",
    "}"
   ]
  },
  {
   "cell_type": "code",
   "execution_count": null,
   "id": "6987988f",
   "metadata": {},
   "outputs": [],
   "source": [
    "# https://stackoverflow.com/questions/20463281/how-do-i-solve-overfitting-in-random-forest-of-python-sklearn"
   ]
  },
  {
   "cell_type": "code",
   "execution_count": 58,
   "id": "8b736040",
   "metadata": {
    "scrolled": true
   },
   "outputs": [
    {
     "name": "stdout",
     "output_type": "stream",
     "text": [
      "Fitting 2 folds for each of 162 candidates, totalling 324 fits\n"
     ]
    },
    {
     "ename": "KeyboardInterrupt",
     "evalue": "",
     "output_type": "error",
     "traceback": [
      "\u001b[1;31m---------------------------------------------------------------------------\u001b[0m",
      "\u001b[1;31mKeyboardInterrupt\u001b[0m                         Traceback (most recent call last)",
      "Cell \u001b[1;32mIn[58], line 2\u001b[0m\n\u001b[0;32m      1\u001b[0m CV_rfc \u001b[38;5;241m=\u001b[39m GridSearchCV(estimator\u001b[38;5;241m=\u001b[39mrfc, param_grid\u001b[38;5;241m=\u001b[39mparam_grid, cv\u001b[38;5;241m=\u001b[39m \u001b[38;5;241m2\u001b[39m,n_jobs\u001b[38;5;241m=\u001b[39m\u001b[38;5;241m-\u001b[39m\u001b[38;5;241m1\u001b[39m,verbose\u001b[38;5;241m=\u001b[39m\u001b[38;5;241m2\u001b[39m)\n\u001b[1;32m----> 2\u001b[0m \u001b[43mCV_rfc\u001b[49m\u001b[38;5;241;43m.\u001b[39;49m\u001b[43mfit\u001b[49m\u001b[43m(\u001b[49m\u001b[43mX_train\u001b[49m\u001b[43m,\u001b[49m\u001b[43m \u001b[49m\u001b[43my_train\u001b[49m\u001b[43m)\u001b[49m\n",
      "File \u001b[1;32m~\\anaconda3\\lib\\site-packages\\sklearn\\model_selection\\_search.py:875\u001b[0m, in \u001b[0;36mBaseSearchCV.fit\u001b[1;34m(self, X, y, groups, **fit_params)\u001b[0m\n\u001b[0;32m    869\u001b[0m     results \u001b[38;5;241m=\u001b[39m \u001b[38;5;28mself\u001b[39m\u001b[38;5;241m.\u001b[39m_format_results(\n\u001b[0;32m    870\u001b[0m         all_candidate_params, n_splits, all_out, all_more_results\n\u001b[0;32m    871\u001b[0m     )\n\u001b[0;32m    873\u001b[0m     \u001b[38;5;28;01mreturn\u001b[39;00m results\n\u001b[1;32m--> 875\u001b[0m \u001b[38;5;28;43mself\u001b[39;49m\u001b[38;5;241;43m.\u001b[39;49m\u001b[43m_run_search\u001b[49m\u001b[43m(\u001b[49m\u001b[43mevaluate_candidates\u001b[49m\u001b[43m)\u001b[49m\n\u001b[0;32m    877\u001b[0m \u001b[38;5;66;03m# multimetric is determined here because in the case of a callable\u001b[39;00m\n\u001b[0;32m    878\u001b[0m \u001b[38;5;66;03m# self.scoring the return type is only known after calling\u001b[39;00m\n\u001b[0;32m    879\u001b[0m first_test_score \u001b[38;5;241m=\u001b[39m all_out[\u001b[38;5;241m0\u001b[39m][\u001b[38;5;124m\"\u001b[39m\u001b[38;5;124mtest_scores\u001b[39m\u001b[38;5;124m\"\u001b[39m]\n",
      "File \u001b[1;32m~\\anaconda3\\lib\\site-packages\\sklearn\\model_selection\\_search.py:1379\u001b[0m, in \u001b[0;36mGridSearchCV._run_search\u001b[1;34m(self, evaluate_candidates)\u001b[0m\n\u001b[0;32m   1377\u001b[0m \u001b[38;5;28;01mdef\u001b[39;00m \u001b[38;5;21m_run_search\u001b[39m(\u001b[38;5;28mself\u001b[39m, evaluate_candidates):\n\u001b[0;32m   1378\u001b[0m \u001b[38;5;250m    \u001b[39m\u001b[38;5;124;03m\"\"\"Search all candidates in param_grid\"\"\"\u001b[39;00m\n\u001b[1;32m-> 1379\u001b[0m     \u001b[43mevaluate_candidates\u001b[49m\u001b[43m(\u001b[49m\u001b[43mParameterGrid\u001b[49m\u001b[43m(\u001b[49m\u001b[38;5;28;43mself\u001b[39;49m\u001b[38;5;241;43m.\u001b[39;49m\u001b[43mparam_grid\u001b[49m\u001b[43m)\u001b[49m\u001b[43m)\u001b[49m\n",
      "File \u001b[1;32m~\\anaconda3\\lib\\site-packages\\sklearn\\model_selection\\_search.py:822\u001b[0m, in \u001b[0;36mBaseSearchCV.fit.<locals>.evaluate_candidates\u001b[1;34m(candidate_params, cv, more_results)\u001b[0m\n\u001b[0;32m    814\u001b[0m \u001b[38;5;28;01mif\u001b[39;00m \u001b[38;5;28mself\u001b[39m\u001b[38;5;241m.\u001b[39mverbose \u001b[38;5;241m>\u001b[39m \u001b[38;5;241m0\u001b[39m:\n\u001b[0;32m    815\u001b[0m     \u001b[38;5;28mprint\u001b[39m(\n\u001b[0;32m    816\u001b[0m         \u001b[38;5;124m\"\u001b[39m\u001b[38;5;124mFitting \u001b[39m\u001b[38;5;132;01m{0}\u001b[39;00m\u001b[38;5;124m folds for each of \u001b[39m\u001b[38;5;132;01m{1}\u001b[39;00m\u001b[38;5;124m candidates,\u001b[39m\u001b[38;5;124m\"\u001b[39m\n\u001b[0;32m    817\u001b[0m         \u001b[38;5;124m\"\u001b[39m\u001b[38;5;124m totalling \u001b[39m\u001b[38;5;132;01m{2}\u001b[39;00m\u001b[38;5;124m fits\u001b[39m\u001b[38;5;124m\"\u001b[39m\u001b[38;5;241m.\u001b[39mformat(\n\u001b[0;32m    818\u001b[0m             n_splits, n_candidates, n_candidates \u001b[38;5;241m*\u001b[39m n_splits\n\u001b[0;32m    819\u001b[0m         )\n\u001b[0;32m    820\u001b[0m     )\n\u001b[1;32m--> 822\u001b[0m out \u001b[38;5;241m=\u001b[39m \u001b[43mparallel\u001b[49m\u001b[43m(\u001b[49m\n\u001b[0;32m    823\u001b[0m \u001b[43m    \u001b[49m\u001b[43mdelayed\u001b[49m\u001b[43m(\u001b[49m\u001b[43m_fit_and_score\u001b[49m\u001b[43m)\u001b[49m\u001b[43m(\u001b[49m\n\u001b[0;32m    824\u001b[0m \u001b[43m        \u001b[49m\u001b[43mclone\u001b[49m\u001b[43m(\u001b[49m\u001b[43mbase_estimator\u001b[49m\u001b[43m)\u001b[49m\u001b[43m,\u001b[49m\n\u001b[0;32m    825\u001b[0m \u001b[43m        \u001b[49m\u001b[43mX\u001b[49m\u001b[43m,\u001b[49m\n\u001b[0;32m    826\u001b[0m \u001b[43m        \u001b[49m\u001b[43my\u001b[49m\u001b[43m,\u001b[49m\n\u001b[0;32m    827\u001b[0m \u001b[43m        \u001b[49m\u001b[43mtrain\u001b[49m\u001b[38;5;241;43m=\u001b[39;49m\u001b[43mtrain\u001b[49m\u001b[43m,\u001b[49m\n\u001b[0;32m    828\u001b[0m \u001b[43m        \u001b[49m\u001b[43mtest\u001b[49m\u001b[38;5;241;43m=\u001b[39;49m\u001b[43mtest\u001b[49m\u001b[43m,\u001b[49m\n\u001b[0;32m    829\u001b[0m \u001b[43m        \u001b[49m\u001b[43mparameters\u001b[49m\u001b[38;5;241;43m=\u001b[39;49m\u001b[43mparameters\u001b[49m\u001b[43m,\u001b[49m\n\u001b[0;32m    830\u001b[0m \u001b[43m        \u001b[49m\u001b[43msplit_progress\u001b[49m\u001b[38;5;241;43m=\u001b[39;49m\u001b[43m(\u001b[49m\u001b[43msplit_idx\u001b[49m\u001b[43m,\u001b[49m\u001b[43m \u001b[49m\u001b[43mn_splits\u001b[49m\u001b[43m)\u001b[49m\u001b[43m,\u001b[49m\n\u001b[0;32m    831\u001b[0m \u001b[43m        \u001b[49m\u001b[43mcandidate_progress\u001b[49m\u001b[38;5;241;43m=\u001b[39;49m\u001b[43m(\u001b[49m\u001b[43mcand_idx\u001b[49m\u001b[43m,\u001b[49m\u001b[43m \u001b[49m\u001b[43mn_candidates\u001b[49m\u001b[43m)\u001b[49m\u001b[43m,\u001b[49m\n\u001b[0;32m    832\u001b[0m \u001b[43m        \u001b[49m\u001b[38;5;241;43m*\u001b[39;49m\u001b[38;5;241;43m*\u001b[39;49m\u001b[43mfit_and_score_kwargs\u001b[49m\u001b[43m,\u001b[49m\n\u001b[0;32m    833\u001b[0m \u001b[43m    \u001b[49m\u001b[43m)\u001b[49m\n\u001b[0;32m    834\u001b[0m \u001b[43m    \u001b[49m\u001b[38;5;28;43;01mfor\u001b[39;49;00m\u001b[43m \u001b[49m\u001b[43m(\u001b[49m\u001b[43mcand_idx\u001b[49m\u001b[43m,\u001b[49m\u001b[43m \u001b[49m\u001b[43mparameters\u001b[49m\u001b[43m)\u001b[49m\u001b[43m,\u001b[49m\u001b[43m \u001b[49m\u001b[43m(\u001b[49m\u001b[43msplit_idx\u001b[49m\u001b[43m,\u001b[49m\u001b[43m \u001b[49m\u001b[43m(\u001b[49m\u001b[43mtrain\u001b[49m\u001b[43m,\u001b[49m\u001b[43m \u001b[49m\u001b[43mtest\u001b[49m\u001b[43m)\u001b[49m\u001b[43m)\u001b[49m\u001b[43m \u001b[49m\u001b[38;5;129;43;01min\u001b[39;49;00m\u001b[43m \u001b[49m\u001b[43mproduct\u001b[49m\u001b[43m(\u001b[49m\n\u001b[0;32m    835\u001b[0m \u001b[43m        \u001b[49m\u001b[38;5;28;43menumerate\u001b[39;49m\u001b[43m(\u001b[49m\u001b[43mcandidate_params\u001b[49m\u001b[43m)\u001b[49m\u001b[43m,\u001b[49m\u001b[43m \u001b[49m\u001b[38;5;28;43menumerate\u001b[39;49m\u001b[43m(\u001b[49m\u001b[43mcv\u001b[49m\u001b[38;5;241;43m.\u001b[39;49m\u001b[43msplit\u001b[49m\u001b[43m(\u001b[49m\u001b[43mX\u001b[49m\u001b[43m,\u001b[49m\u001b[43m \u001b[49m\u001b[43my\u001b[49m\u001b[43m,\u001b[49m\u001b[43m \u001b[49m\u001b[43mgroups\u001b[49m\u001b[43m)\u001b[49m\u001b[43m)\u001b[49m\n\u001b[0;32m    836\u001b[0m \u001b[43m    \u001b[49m\u001b[43m)\u001b[49m\n\u001b[0;32m    837\u001b[0m \u001b[43m\u001b[49m\u001b[43m)\u001b[49m\n\u001b[0;32m    839\u001b[0m \u001b[38;5;28;01mif\u001b[39;00m \u001b[38;5;28mlen\u001b[39m(out) \u001b[38;5;241m<\u001b[39m \u001b[38;5;241m1\u001b[39m:\n\u001b[0;32m    840\u001b[0m     \u001b[38;5;28;01mraise\u001b[39;00m \u001b[38;5;167;01mValueError\u001b[39;00m(\n\u001b[0;32m    841\u001b[0m         \u001b[38;5;124m\"\u001b[39m\u001b[38;5;124mNo fits were performed. \u001b[39m\u001b[38;5;124m\"\u001b[39m\n\u001b[0;32m    842\u001b[0m         \u001b[38;5;124m\"\u001b[39m\u001b[38;5;124mWas the CV iterator empty? \u001b[39m\u001b[38;5;124m\"\u001b[39m\n\u001b[0;32m    843\u001b[0m         \u001b[38;5;124m\"\u001b[39m\u001b[38;5;124mWere there no candidates?\u001b[39m\u001b[38;5;124m\"\u001b[39m\n\u001b[0;32m    844\u001b[0m     )\n",
      "File \u001b[1;32m~\\anaconda3\\lib\\site-packages\\joblib\\parallel.py:1098\u001b[0m, in \u001b[0;36mParallel.__call__\u001b[1;34m(self, iterable)\u001b[0m\n\u001b[0;32m   1095\u001b[0m     \u001b[38;5;28mself\u001b[39m\u001b[38;5;241m.\u001b[39m_iterating \u001b[38;5;241m=\u001b[39m \u001b[38;5;28;01mFalse\u001b[39;00m\n\u001b[0;32m   1097\u001b[0m \u001b[38;5;28;01mwith\u001b[39;00m \u001b[38;5;28mself\u001b[39m\u001b[38;5;241m.\u001b[39m_backend\u001b[38;5;241m.\u001b[39mretrieval_context():\n\u001b[1;32m-> 1098\u001b[0m     \u001b[38;5;28;43mself\u001b[39;49m\u001b[38;5;241;43m.\u001b[39;49m\u001b[43mretrieve\u001b[49m\u001b[43m(\u001b[49m\u001b[43m)\u001b[49m\n\u001b[0;32m   1099\u001b[0m \u001b[38;5;66;03m# Make sure that we get a last message telling us we are done\u001b[39;00m\n\u001b[0;32m   1100\u001b[0m elapsed_time \u001b[38;5;241m=\u001b[39m time\u001b[38;5;241m.\u001b[39mtime() \u001b[38;5;241m-\u001b[39m \u001b[38;5;28mself\u001b[39m\u001b[38;5;241m.\u001b[39m_start_time\n",
      "File \u001b[1;32m~\\anaconda3\\lib\\site-packages\\joblib\\parallel.py:975\u001b[0m, in \u001b[0;36mParallel.retrieve\u001b[1;34m(self)\u001b[0m\n\u001b[0;32m    973\u001b[0m \u001b[38;5;28;01mtry\u001b[39;00m:\n\u001b[0;32m    974\u001b[0m     \u001b[38;5;28;01mif\u001b[39;00m \u001b[38;5;28mgetattr\u001b[39m(\u001b[38;5;28mself\u001b[39m\u001b[38;5;241m.\u001b[39m_backend, \u001b[38;5;124m'\u001b[39m\u001b[38;5;124msupports_timeout\u001b[39m\u001b[38;5;124m'\u001b[39m, \u001b[38;5;28;01mFalse\u001b[39;00m):\n\u001b[1;32m--> 975\u001b[0m         \u001b[38;5;28mself\u001b[39m\u001b[38;5;241m.\u001b[39m_output\u001b[38;5;241m.\u001b[39mextend(\u001b[43mjob\u001b[49m\u001b[38;5;241;43m.\u001b[39;49m\u001b[43mget\u001b[49m\u001b[43m(\u001b[49m\u001b[43mtimeout\u001b[49m\u001b[38;5;241;43m=\u001b[39;49m\u001b[38;5;28;43mself\u001b[39;49m\u001b[38;5;241;43m.\u001b[39;49m\u001b[43mtimeout\u001b[49m\u001b[43m)\u001b[49m)\n\u001b[0;32m    976\u001b[0m     \u001b[38;5;28;01melse\u001b[39;00m:\n\u001b[0;32m    977\u001b[0m         \u001b[38;5;28mself\u001b[39m\u001b[38;5;241m.\u001b[39m_output\u001b[38;5;241m.\u001b[39mextend(job\u001b[38;5;241m.\u001b[39mget())\n",
      "File \u001b[1;32m~\\anaconda3\\lib\\site-packages\\joblib\\_parallel_backends.py:567\u001b[0m, in \u001b[0;36mLokyBackend.wrap_future_result\u001b[1;34m(future, timeout)\u001b[0m\n\u001b[0;32m    564\u001b[0m \u001b[38;5;250m\u001b[39m\u001b[38;5;124;03m\"\"\"Wrapper for Future.result to implement the same behaviour as\u001b[39;00m\n\u001b[0;32m    565\u001b[0m \u001b[38;5;124;03mAsyncResults.get from multiprocessing.\"\"\"\u001b[39;00m\n\u001b[0;32m    566\u001b[0m \u001b[38;5;28;01mtry\u001b[39;00m:\n\u001b[1;32m--> 567\u001b[0m     \u001b[38;5;28;01mreturn\u001b[39;00m \u001b[43mfuture\u001b[49m\u001b[38;5;241;43m.\u001b[39;49m\u001b[43mresult\u001b[49m\u001b[43m(\u001b[49m\u001b[43mtimeout\u001b[49m\u001b[38;5;241;43m=\u001b[39;49m\u001b[43mtimeout\u001b[49m\u001b[43m)\u001b[49m\n\u001b[0;32m    568\u001b[0m \u001b[38;5;28;01mexcept\u001b[39;00m CfTimeoutError \u001b[38;5;28;01mas\u001b[39;00m e:\n\u001b[0;32m    569\u001b[0m     \u001b[38;5;28;01mraise\u001b[39;00m \u001b[38;5;167;01mTimeoutError\u001b[39;00m \u001b[38;5;28;01mfrom\u001b[39;00m \u001b[38;5;21;01me\u001b[39;00m\n",
      "File \u001b[1;32m~\\anaconda3\\lib\\concurrent\\futures\\_base.py:441\u001b[0m, in \u001b[0;36mFuture.result\u001b[1;34m(self, timeout)\u001b[0m\n\u001b[0;32m    438\u001b[0m \u001b[38;5;28;01melif\u001b[39;00m \u001b[38;5;28mself\u001b[39m\u001b[38;5;241m.\u001b[39m_state \u001b[38;5;241m==\u001b[39m FINISHED:\n\u001b[0;32m    439\u001b[0m     \u001b[38;5;28;01mreturn\u001b[39;00m \u001b[38;5;28mself\u001b[39m\u001b[38;5;241m.\u001b[39m__get_result()\n\u001b[1;32m--> 441\u001b[0m \u001b[38;5;28;43mself\u001b[39;49m\u001b[38;5;241;43m.\u001b[39;49m\u001b[43m_condition\u001b[49m\u001b[38;5;241;43m.\u001b[39;49m\u001b[43mwait\u001b[49m\u001b[43m(\u001b[49m\u001b[43mtimeout\u001b[49m\u001b[43m)\u001b[49m\n\u001b[0;32m    443\u001b[0m \u001b[38;5;28;01mif\u001b[39;00m \u001b[38;5;28mself\u001b[39m\u001b[38;5;241m.\u001b[39m_state \u001b[38;5;129;01min\u001b[39;00m [CANCELLED, CANCELLED_AND_NOTIFIED]:\n\u001b[0;32m    444\u001b[0m     \u001b[38;5;28;01mraise\u001b[39;00m CancelledError()\n",
      "File \u001b[1;32m~\\anaconda3\\lib\\threading.py:312\u001b[0m, in \u001b[0;36mCondition.wait\u001b[1;34m(self, timeout)\u001b[0m\n\u001b[0;32m    310\u001b[0m \u001b[38;5;28;01mtry\u001b[39;00m:    \u001b[38;5;66;03m# restore state no matter what (e.g., KeyboardInterrupt)\u001b[39;00m\n\u001b[0;32m    311\u001b[0m     \u001b[38;5;28;01mif\u001b[39;00m timeout \u001b[38;5;129;01mis\u001b[39;00m \u001b[38;5;28;01mNone\u001b[39;00m:\n\u001b[1;32m--> 312\u001b[0m         \u001b[43mwaiter\u001b[49m\u001b[38;5;241;43m.\u001b[39;49m\u001b[43macquire\u001b[49m\u001b[43m(\u001b[49m\u001b[43m)\u001b[49m\n\u001b[0;32m    313\u001b[0m         gotit \u001b[38;5;241m=\u001b[39m \u001b[38;5;28;01mTrue\u001b[39;00m\n\u001b[0;32m    314\u001b[0m     \u001b[38;5;28;01melse\u001b[39;00m:\n",
      "\u001b[1;31mKeyboardInterrupt\u001b[0m: "
     ]
    }
   ],
   "source": [
    "CV_rfc = GridSearchCV(estimator=rfc, param_grid=param_grid, cv= 2,n_jobs=-1,verbose=2)\n",
    "CV_rfc.fit(X_train, y_train)"
   ]
  },
  {
   "cell_type": "code",
   "execution_count": null,
   "id": "6854b9f5",
   "metadata": {},
   "outputs": [],
   "source": [
    "CV_rfc = best_estimator_"
   ]
  },
  {
   "cell_type": "code",
   "execution_count": null,
   "id": "2638a9bb",
   "metadata": {},
   "outputs": [],
   "source": [
    "CV_rfc.fit(X_train, y_train)"
   ]
  },
  {
   "cell_type": "code",
   "execution_count": null,
   "id": "e114ba8e",
   "metadata": {},
   "outputs": [],
   "source": [
    "# do the prediction"
   ]
  },
  {
   "cell_type": "code",
   "execution_count": null,
   "id": "96faecbb",
   "metadata": {},
   "outputs": [],
   "source": [
    "# rfc1=RandomForestClassifier(random_state=42, max_features='auto', n_estimators= 200, max_depth=8, criterion='gini')"
   ]
  },
  {
   "cell_type": "code",
   "execution_count": null,
   "id": "fefd97ce",
   "metadata": {},
   "outputs": [],
   "source": [
    "print(accuracy_score(y_test, pred_rfc))"
   ]
  },
  {
   "cell_type": "code",
   "execution_count": null,
   "id": "84ca85f0",
   "metadata": {},
   "outputs": [],
   "source": [
    "rfc_scores = cross_val_score(rfc, X_train, y_train, cv=5,n_jobs=-1) #evaluation scores for each fold of the cross-validation process.\n",
    "print(rfc_scores)\n",
    "print(\"avrage =\", np.mean(rfc_scores))"
   ]
  },
  {
   "cell_type": "code",
   "execution_count": null,
   "id": "cb03d6cf",
   "metadata": {},
   "outputs": [],
   "source": [
    "#print(\"Random Forest Classifier Memory Consumption:\", mem_usage_rfc)\n",
    "#print(\"Random Forest Classifier Execution Time:\", execution_time_rfc)"
   ]
  },
  {
   "cell_type": "code",
   "execution_count": null,
   "id": "8d45335c",
   "metadata": {},
   "outputs": [],
   "source": [
    "print(\"No. of Classes in Test data:\")\n",
    "print(y_test.value_counts())\n",
    "print(\"----------------------------\")\n",
    "print(\"No. of Classes in prediction:\")\n",
    "pd.crosstab(y_test, pred_rfc, margins=True)"
   ]
  },
  {
   "cell_type": "code",
   "execution_count": null,
   "id": "dda414e9",
   "metadata": {},
   "outputs": [],
   "source": [
    "#rfc_disp = ConfusionMatrixDisplay(confusion_matrix(y_test, pred_rfc, labels=rfc.classes_), display_labels=rfc.classes_)\n",
    "#rfc_disp.plot()\n",
    "#plt.show()"
   ]
  },
  {
   "cell_type": "markdown",
   "id": "840e7f69",
   "metadata": {},
   "source": [
    "### KNN :"
   ]
  },
  {
   "cell_type": "code",
   "execution_count": null,
   "id": "2364d054",
   "metadata": {},
   "outputs": [],
   "source": [
    "classifier_knn = KNeighborsClassifier(n_neighbors = 5,n_jobs=-1)\n",
    "classifier_knn.fit(X_train, y_train)\n",
    "pred_knn = classifier_knn.predict(X_test)"
   ]
  },
  {
   "cell_type": "code",
   "execution_count": null,
   "id": "b0be528b",
   "metadata": {},
   "outputs": [],
   "source": [
    "print(classification_report(y_test, pred_knn))"
   ]
  },
  {
   "cell_type": "code",
   "execution_count": null,
   "id": "48d08f59",
   "metadata": {},
   "outputs": [],
   "source": [
    "print(accuracy_score(y_test, pred_knn))"
   ]
  },
  {
   "cell_type": "code",
   "execution_count": null,
   "id": "c5872f6b",
   "metadata": {},
   "outputs": [],
   "source": [
    "knn_scores = cross_val_score(classifier_knn, X_train, y_train, cv=5,n_jobs=-1)\n",
    "print(knn_scores)\n",
    "print(\"avrage =\", np.mean(knn_scores))"
   ]
  },
  {
   "cell_type": "code",
   "execution_count": null,
   "id": "87358f87",
   "metadata": {},
   "outputs": [],
   "source": [
    "#print(\"KNN Memory Consumption:\", mem_usage_knn)\n",
    "#print(\"KNN Execution Time:\", execution_time_knn)"
   ]
  },
  {
   "cell_type": "code",
   "execution_count": null,
   "id": "0933555b",
   "metadata": {},
   "outputs": [],
   "source": [
    "print(\"No. of Classes in Test data:\")\n",
    "print(y_test.value_counts())\n",
    "print(\"----------------------------\")\n",
    "print(\"No. of Classes in prediction:\")\n",
    "pd.crosstab(y_test, pred_knn, margins=True)"
   ]
  },
  {
   "cell_type": "code",
   "execution_count": null,
   "id": "4d8e96ae",
   "metadata": {},
   "outputs": [],
   "source": [
    "#knn_disp = ConfusionMatrixDisplay(confusion_matrix(y_test, pred_knn, labels=classifier_knn.classes_), display_labels=classifier_knn.classes_)\n",
    "#knn_disp.plot()\n",
    "#plt.show()"
   ]
  },
  {
   "cell_type": "code",
   "execution_count": null,
   "id": "342f621e",
   "metadata": {},
   "outputs": [],
   "source": [
    "from sklearn.neighbors import KNeighborsClassifier\n",
    "from sklearn.model_selection import GridSearchCV\n",
    "\n",
    "# Define the parameter grid\n",
    "# param_grid = {'n_neighbors': [3, 4, 5, 6, 7]}\n",
    "\n",
    "# Create the KNN classifier\n",
    "classifier_knn = KNeighborsClassifier()\n",
    "\n",
    "# Perform grid search to find the best value for n_neighbors\n",
    "# grid_search = GridSearchCV(classifier_knn, param_grid, scoring='accuracy', cv=5)\n",
    "# grid_search.fit(X_train, y_train)\n",
    "\n",
    "# Retrieve the best parameter value\n",
    "best_n_neighbors = grid_search.best_params_['n_neighbors']\n",
    "\n",
    "# Train the KNN classifier with the best value of n_neighbors\n",
    "classifier_knn_best = KNeighborsClassifier(n_neighbors=best_n_neighbors)\n",
    "classifier_knn_best.fit(X_train, y_train)\n",
    "\n",
    "# Make predictions on the test set using the best classifier\n",
    "pred_knn_best = classifier_knn_best.predict(X_test)\n",
    "\n",
    "# Print the classification report\n",
    "from sklearn.metrics import classification_report\n",
    "print(classification_report(y_test, pred_knn_best))\n"
   ]
  },
  {
   "cell_type": "markdown",
   "id": "6ac33cdb",
   "metadata": {},
   "source": [
    "### Decision Trees"
   ]
  },
  {
   "cell_type": "code",
   "execution_count": 44,
   "id": "b34fbc81",
   "metadata": {},
   "outputs": [],
   "source": [
    "dt = DecisionTreeClassifier()\n",
    "\n",
    "#mem_usage_before_dt = get_memory_usage()\n",
    "\n",
    "# Measure time taken\n",
    "#start_time = time.time()\n",
    "dt.fit(X_train, y_train)\n",
    "#end_time = time.time()\n",
    "#execution_time_dt = end_time - start_time\n",
    "\n",
    "# Measure memory consumption after fitting\n",
    "#mem_usage_after_dt = get_memory_usage()\n",
    "#mem_usage_dt = mem_usage_after_dt - mem_usage_before_dt\n",
    "\n",
    "pred_dt = dt.predict(X_test)"
   ]
  },
  {
   "cell_type": "code",
   "execution_count": 45,
   "id": "796e9fd5",
   "metadata": {},
   "outputs": [
    {
     "name": "stdout",
     "output_type": "stream",
     "text": [
      "              precision    recall  f1-score   support\n",
      "\n",
      "           0       0.00      0.00      0.00      8511\n",
      "           1       0.00      0.00      0.00      2929\n",
      "           2       0.00      0.00      0.00       210\n",
      "         101       0.57      0.59      0.58      6570\n",
      "         102       0.96      0.97      0.96      5096\n",
      "         105       0.00      0.00      0.00         0\n",
      "\n",
      "    accuracy                           0.38     23316\n",
      "   macro avg       0.26      0.26      0.26     23316\n",
      "weighted avg       0.37      0.38      0.38     23316\n",
      "\n"
     ]
    }
   ],
   "source": [
    "print(classification_report(y_test, pred_dt, zero_division=0))"
   ]
  },
  {
   "cell_type": "code",
   "execution_count": null,
   "id": "d384f567",
   "metadata": {},
   "outputs": [],
   "source": [
    "print(accuracy_score(y_test, pred_dt))"
   ]
  },
  {
   "cell_type": "code",
   "execution_count": null,
   "id": "ea976a0f",
   "metadata": {},
   "outputs": [],
   "source": [
    "dt_scores = cross_val_score(dt, X_train, y_train, cv=5)\n",
    "print(dt_scores)\n",
    "print(\"avrage =\", np.mean(dt_scores))"
   ]
  },
  {
   "cell_type": "code",
   "execution_count": null,
   "id": "b66adb9b",
   "metadata": {},
   "outputs": [],
   "source": [
    "#print(\"Decision Trees Memory Consumption:\", mem_usage_dt)\n",
    "#print(\"Decision Trees Execution Time:\", execution_time_dt)"
   ]
  },
  {
   "cell_type": "markdown",
   "id": "7714b6e3",
   "metadata": {},
   "source": [
    "### Naive Bayes"
   ]
  },
  {
   "cell_type": "code",
   "execution_count": null,
   "id": "b065e5aa",
   "metadata": {},
   "outputs": [],
   "source": [
    "from sklearn.naive_bayes import GaussianNB\n",
    "\n",
    "nb = GaussianNB()\n",
    "\n",
    "#mem_usage_before_nb = get_memory_usage()\n",
    "\n",
    "# Measure time taken\n",
    "#start_time = time.time()\n",
    "nb.fit(X_train, y_train)\n",
    "#end_time = time.time()\n",
    "#execution_time_nb = end_time - start_time\n",
    "\n",
    "# Measure memory consumption after fitting\n",
    "#mem_usage_after_nb = get_memory_usage()\n",
    "#mem_usage_nb = mem_usage_after_nb - mem_usage_before_nb\n",
    "\n",
    "\n",
    "pred_nb = nb.predict(X_test)"
   ]
  },
  {
   "cell_type": "code",
   "execution_count": null,
   "id": "b3b453b7",
   "metadata": {},
   "outputs": [],
   "source": [
    "print(classification_report(y_test, pred_nb, zero_division=0))"
   ]
  },
  {
   "cell_type": "code",
   "execution_count": null,
   "id": "2a2eaa4e",
   "metadata": {},
   "outputs": [],
   "source": [
    "print(accuracy_score(y_test, pred_nb))"
   ]
  },
  {
   "cell_type": "code",
   "execution_count": null,
   "id": "9b7ecbeb",
   "metadata": {},
   "outputs": [],
   "source": [
    "nb_scores = cross_val_score(nb, X_train, y_train, cv=5)\n",
    "print(nb_scores)\n",
    "print(\"avrage =\", np.mean(nb_scores))"
   ]
  },
  {
   "cell_type": "code",
   "execution_count": null,
   "id": "9ad4721a",
   "metadata": {},
   "outputs": [],
   "source": [
    "#print(\"Naive Bayes Memory Consumption:\", mem_usage_nb)\n",
    "#print(\"Naive Bayes Execution Time:\", execution_time_nb)"
   ]
  },
  {
   "cell_type": "markdown",
   "id": "997a3822",
   "metadata": {},
   "source": [
    "### Logistic Regression"
   ]
  },
  {
   "cell_type": "code",
   "execution_count": 46,
   "id": "bfb19a34",
   "metadata": {},
   "outputs": [],
   "source": [
    "from sklearn.linear_model import LogisticRegression\n",
    "\n",
    "# Logistic Regression\n",
    "logreg = LogisticRegression(multi_class='auto')\n",
    "\n",
    "#mem_usage_before_logreg = get_memory_usage()\n",
    "\n",
    "# Measure time taken\n",
    "#start_time = time.time()\n",
    "logreg.fit(X_train, y_train)\n",
    "#end_time = time.time()\n",
    "#execution_time_logreg = end_time - start_time\n",
    "\n",
    "# Measure memory consumption after fitting\n",
    "#mem_usage_after_logreg = get_memory_usage()\n",
    "#mem_usage_logreg = mem_usage_after_logreg - mem_usage_before_logreg\n",
    "\n",
    "pred_logreg = logreg.predict(X_test)"
   ]
  },
  {
   "cell_type": "code",
   "execution_count": 47,
   "id": "5ac6f49e",
   "metadata": {},
   "outputs": [
    {
     "name": "stdout",
     "output_type": "stream",
     "text": [
      "              precision    recall  f1-score   support\n",
      "\n",
      "           0       0.00      0.00      0.00      8511\n",
      "           1       0.13      1.00      0.22      2929\n",
      "           2       0.00      0.00      0.00       210\n",
      "         101       0.00      0.00      0.00      6570\n",
      "         102       0.00      0.00      0.00      5096\n",
      "\n",
      "    accuracy                           0.13     23316\n",
      "   macro avg       0.03      0.20      0.04     23316\n",
      "weighted avg       0.02      0.13      0.03     23316\n",
      "\n"
     ]
    }
   ],
   "source": [
    "print(classification_report(y_test, pred_logreg, zero_division=0))"
   ]
  },
  {
   "cell_type": "code",
   "execution_count": null,
   "id": "a3bbca4c",
   "metadata": {},
   "outputs": [],
   "source": [
    "print(accuracy_score(y_test, pred_logreg))"
   ]
  },
  {
   "cell_type": "code",
   "execution_count": null,
   "id": "a81cc2bd",
   "metadata": {},
   "outputs": [],
   "source": [
    "logreg_scores = cross_val_score(logreg, X_train, y_train, cv=5)\n",
    "print(logreg_scores)\n",
    "print(\"avrage =\", np.mean(logreg_scores))"
   ]
  },
  {
   "cell_type": "code",
   "execution_count": null,
   "id": "296a05b9",
   "metadata": {},
   "outputs": [],
   "source": [
    "#print(\"Logistic Regression  Memory Consumption:\", mem_usage_logreg)\n",
    "#print(\"Logistic Regression  Execution Time:\", execution_time_logreg)"
   ]
  },
  {
   "cell_type": "code",
   "execution_count": null,
   "id": "165f16b8",
   "metadata": {},
   "outputs": [],
   "source": [
    "import matplotlib.pyplot as plt\n",
    "import seaborn as sns\n",
    "import numpy as np\n",
    "\n",
    "# Create subplots with 1 row and 5 columns\n",
    "fig, axs = plt.subplots(1, 3, figsize=(10, 4))\n",
    "\n",
    "# Plot for rf_predictions\n",
    "sns.distplot((y_test - pred_rfc), ax=axs[0])\n",
    "axs[0].set_title('RF Residuals')\n",
    "\n",
    "# Plot for knn_predictions\n",
    "sns.distplot((y_test - pred_knn), ax=axs[1])\n",
    "axs[1].set_title('KNN Residuals')\n",
    "\n",
    "# Plot for dt_predictions\n",
    "sns.distplot((y_test - pred_dt), ax=axs[2])\n",
    "axs[2].set_title('DT Residuals')\n",
    "\n",
    "plt.tight_layout()\n",
    "plt.show()\n",
    "\n",
    "fig, axs = plt.subplots(1, 3, figsize=(10, 4))\n",
    "# Plot for nb_predictions\n",
    "sns.distplot((y_test - pred_nb), ax=axs[0])\n",
    "axs[0].set_title('NB Residuals')\n",
    "\n",
    "# Plot for logreg_predictions\n",
    "sns.distplot((y_test - pred_logreg), ax=axs[1])\n",
    "axs[1].set_title('Logistic Regression Residuals')\n",
    "\n",
    "# Adjust layout and display the plots\n",
    "plt.tight_layout()\n",
    "plt.show()\n"
   ]
  },
  {
   "cell_type": "markdown",
   "id": "0121a0cc",
   "metadata": {},
   "source": [
    "### MLP (Multi-layer Perceptron - Neural network):"
   ]
  },
  {
   "cell_type": "code",
   "execution_count": null,
   "id": "15658c20",
   "metadata": {},
   "outputs": [],
   "source": [
    "mlpc = MLPClassifier()\n",
    "\n",
    "mem_usage_before_mlpc = get_memory_usage()\n",
    "\n",
    "# Measure time taken\n",
    "start_time = time.time()\n",
    "mlpc.fit(X_train_selected, y_train)\n",
    "end_time = time.time()\n",
    "execution_time_mlpc = end_time - start_time\n",
    "\n",
    "# Measure memory consumption after fitting\n",
    "mem_usage_after_mlpc = get_memory_usage()\n",
    "mem_usage_mlpc = mem_usage_after_mlpc - mem_usage_before_mlpc\n",
    "\n",
    "pred_mlpc = mlpc.predict(X_test_selected)"
   ]
  },
  {
   "cell_type": "code",
   "execution_count": null,
   "id": "df7ba223",
   "metadata": {},
   "outputs": [],
   "source": [
    "print(classification_report(y_test, pred_mlpc, zero_division=0))"
   ]
  },
  {
   "cell_type": "code",
   "execution_count": null,
   "id": "0096b486",
   "metadata": {},
   "outputs": [],
   "source": [
    "print(accuracy_score(y_test, pred_mlpc))"
   ]
  },
  {
   "cell_type": "code",
   "execution_count": null,
   "id": "9f552fb1",
   "metadata": {},
   "outputs": [],
   "source": [
    "print(\"MLPC Memory Consumption:\", mem_usage_mlpc)\n",
    "print(\"MLPC Execution Time:\", execution_time_mlpc)"
   ]
  },
  {
   "cell_type": "markdown",
   "id": "15daa8ea",
   "metadata": {},
   "source": [
    "## parameter grid"
   ]
  },
  {
   "cell_type": "markdown",
   "id": "a6d3bc3f",
   "metadata": {},
   "source": [
    "### RandomForestClassifier"
   ]
  },
  {
   "cell_type": "code",
   "execution_count": null,
   "id": "155b168d",
   "metadata": {},
   "outputs": [],
   "source": [
    "from sklearn.ensemble import RandomForestClassifier\n",
    "from sklearn.model_selection import GridSearchCV\n",
    "from sklearn.metrics import classification_report, accuracy_score\n",
    "\n",
    "# Define the parameter grid for RandomForestClassifier\n",
    "rfc_param_grid = {\n",
    "    'n_estimators': [100, 25, 50, 250],\n",
    "    'max_depth': [None, 5, 10],\n",
    "    'min_samples_split': [2, 5, 10]\n",
    "}\n",
    "\n",
    "# Perform Grid Search for RandomForestClassifier\n",
    "grid_search_rfc = GridSearchCV(RandomForestClassifier(), param_grid=rfc_param_grid, scoring='accuracy', cv=5)\n",
    "grid_search_rfc.fit(X_train_selected, y_train)\n",
    "\n",
    "# Access the best parameters and results\n",
    "best_params_rfc = grid_search_rfc.best_params_\n",
    "best_score_rfc = grid_search_rfc.best_score_\n",
    "\n",
    "# Fit the best model on the training data\n",
    "best_rfc = grid_search_rfc.best_estimator_\n",
    "best_rfc.fit(X_train_selected, y_train)\n",
    "\n",
    "# Make predictions on the test data\n",
    "pred_best_rfc = best_rfc.predict(X_test_selected)\n",
    "\n",
    "# Print classification report and accuracy score for RandomForestClassifier\n",
    "print(\"RandomForestClassifier:\")\n",
    "print(classification_report(y_test, pred_best_rfc, zero_division=0))\n",
    "print(\"Accuracy:\", accuracy_score(y_test, pred_best_rfc))\n",
    "print(\"Best parameters:\")\n",
    "print(best_params_rfc)\n"
   ]
  },
  {
   "cell_type": "markdown",
   "id": "28159405",
   "metadata": {},
   "source": [
    "### KNN"
   ]
  },
  {
   "cell_type": "code",
   "execution_count": null,
   "id": "ad5eec41",
   "metadata": {},
   "outputs": [],
   "source": [
    "# Initializing a grid with possible number of neighbors from 1 to 10\n",
    "grid = {'n_neighbors': np.arange(1, 10)}\n",
    "\n",
    "# Initializing a k-NN classifier\n",
    "knn_classifier = KNeighborsClassifier()\n",
    "\n",
    "# Using cross validation to find the optimal number of neighbors\n",
    "knn = GridSearchCV(knn_classifier, grid, cv=5)\n",
    "knn.fit(X_train, y_train)\n",
    "\n",
    "# Getting the best number of neighbors from GridSearchCV\n",
    "best_k = knn.best_params_['n_neighbors']\n",
    "\n",
    "# Initializing the k-NN classifier with the best number of neighbors\n",
    "classifier_knn = KNeighborsClassifier(n_neighbors=best_k)\n",
    "\n",
    "mem_usage_before_knn = get_memory_usage()\n",
    "\n",
    "# Measure time taken\n",
    "start_time = time.time()\n",
    "classifier_knn.fit(X_train_selected, y_train)\n",
    "end_time = time.time()\n",
    "execution_time_knn = end_time - start_time\n",
    "\n",
    "# Measure memory consumption after fitting\n",
    "mem_usage_after_knn = get_memory_usage()\n",
    "mem_usage_knn = mem_usage_after_knn - mem_usage_before_knn\n",
    "\n",
    "pred_knn = classifier_knn.predict(X_test_selected)\n"
   ]
  },
  {
   "cell_type": "code",
   "execution_count": null,
   "id": "50271cb3",
   "metadata": {},
   "outputs": [],
   "source": [
    "#Extracting the optimal number of neighbors \n",
    "\n",
    "knn.best_params_"
   ]
  },
  {
   "cell_type": "code",
   "execution_count": null,
   "id": "55e613b3",
   "metadata": {},
   "outputs": [],
   "source": [
    "#Extracting the accuracy score for optimal number of neighbors\n",
    "\n",
    "knn.best_score_"
   ]
  },
  {
   "cell_type": "code",
   "execution_count": null,
   "id": "520f441b",
   "metadata": {},
   "outputs": [],
   "source": [
    "from sklearn.neighbors import KNeighborsClassifier\n",
    "from sklearn.metrics import classification_report, accuracy_score\n",
    "from sklearn.model_selection import GridSearchCV\n",
    "\n",
    "# Define the parameter grid for KNeighborsClassifier\n",
    "knn_param_grid = {\n",
    "    'n_neighbors': [3, 5, 7],\n",
    "    'weights': ['uniform', 'distance'],\n",
    "    'algorithm': ['auto', 'ball_tree', 'kd_tree', 'brute']\n",
    "}\n",
    "\n",
    "# Perform Grid Search for KNeighborsClassifier\n",
    "grid_search_knn = GridSearchCV(estimator=KNeighborsClassifier(), param_grid=knn_param_grid, scoring='accuracy', cv=5)\n",
    "grid_search_knn.fit(X_train_selected, y_train)\n",
    "\n",
    "# Access the best parameters and results\n",
    "best_params_knn = grid_search_knn.best_params_\n",
    "best_score_knn = grid_search_knn.best_score_\n",
    "\n",
    "# Fit the best KNeighborsClassifier model on the training data\n",
    "best_knn = KNeighborsClassifier(**best_params_knn)\n",
    "best_knn.fit(X_train_selected, y_train)\n",
    "\n",
    "# Make predictions on the test data\n",
    "pred_best_knn = best_knn.predict(X_test_selected)\n",
    "\n",
    "# Print classification report and accuracy score for KNeighborsClassifier\n",
    "print(\"KNeighborsClassifier:\")\n",
    "print(classification_report(y_test, pred_best_knn, zero_division=0))\n",
    "print(\"Accuracy:\", accuracy_score(y_test, pred_best_knn))\n",
    "print(\"Best parameter:\")\n",
    "print(best_params_knn)\n"
   ]
  },
  {
   "cell_type": "markdown",
   "id": "be9eaaad",
   "metadata": {},
   "source": [
    "### DecisionTreeClassifier"
   ]
  },
  {
   "cell_type": "code",
   "execution_count": null,
   "id": "963a31f3",
   "metadata": {},
   "outputs": [],
   "source": [
    "from sklearn.tree import DecisionTreeClassifier\n",
    "from sklearn.metrics import classification_report, accuracy_score\n",
    "from sklearn.model_selection import GridSearchCV\n",
    "\n",
    "# Define the parameter grid for DecisionTreeClassifier\n",
    "dt_param_grid = {\n",
    "    'max_depth': [None, 5, 10],\n",
    "    'min_samples_split': [2, 5, 10],\n",
    "    'min_samples_leaf': [1, 2, 4]\n",
    "}\n",
    "\n",
    "# Perform Grid Search for DecisionTreeClassifier\n",
    "grid_search_dt = GridSearchCV(estimator=DecisionTreeClassifier(), param_grid=dt_param_grid, scoring='accuracy', cv=5)\n",
    "grid_search_dt.fit(X_train_selected, y_train)\n",
    "\n",
    "# Access the best parameters and results\n",
    "best_params_dt = grid_search_dt.best_params_\n",
    "best_score_dt = grid_search_dt.best_score_\n",
    "\n",
    "# Create and fit the best DecisionTreeClassifier model\n",
    "best_dt = DecisionTreeClassifier(**best_params_dt)\n",
    "best_dt.fit(X_train_selected, y_train)\n",
    "\n",
    "# Make predictions on the test data\n",
    "pred_best_dt = best_dt.predict(X_test_selected)\n",
    "\n",
    "# Print classification report and accuracy score for DecisionTreeClassifier\n",
    "print(\"DecisionTreeClassifier:\")\n",
    "print(classification_report(y_test, pred_best_dt, zero_division=0))\n",
    "print(\"Accuracy:\", accuracy_score(y_test, pred_best_dt))\n",
    "print(\"Best parameter:\")\n",
    "print(best_params_dt)\n"
   ]
  },
  {
   "cell_type": "markdown",
   "id": "5343df09",
   "metadata": {},
   "source": [
    "### LogisticRegression"
   ]
  },
  {
   "cell_type": "code",
   "execution_count": null,
   "id": "eee09370",
   "metadata": {},
   "outputs": [],
   "source": [
    "from sklearn.linear_model import LogisticRegression\n",
    "from sklearn.metrics import classification_report, accuracy_score\n",
    "from sklearn.model_selection import GridSearchCV\n",
    "\n",
    "# Define the parameter grid for LogisticRegression\n",
    "logreg_param_grid = {\n",
    "    'C': [0.1, 1.0, 10.0],\n",
    "    'penalty': ['l1', 'l2'],\n",
    "    'solver': ['liblinear', 'saga']\n",
    "}\n",
    "\n",
    "# Perform Grid Search for LogisticRegression\n",
    "grid_search_logreg = GridSearchCV(estimator=LogisticRegression(), param_grid=logreg_param_grid, scoring='accuracy', cv=5)\n",
    "grid_search_logreg.fit(X_train_selected, y_train)\n",
    "\n",
    "# Access the best parameters and results\n",
    "best_params_logreg = grid_search_logreg.best_params_\n",
    "best_score_logreg = grid_search_logreg.best_score_\n",
    "\n",
    "# Create and fit the best LogisticRegression model\n",
    "best_logreg = LogisticRegression(**best_params_logreg)\n",
    "best_logreg.fit(X_train_selected, y_train)\n",
    "\n",
    "# Make predictions on the test data\n",
    "pred_best_logreg = best_logreg.predict(X_test_selected)\n",
    "\n",
    "# Print classification report and accuracy score for LogisticRegression\n",
    "print(\"LogisticRegression:\")\n",
    "print(classification_report(y_test, pred_best_logreg, zero_division=0))\n",
    "print(\"Accuracy:\", accuracy_score(y_test, pred_best_logreg))\n",
    "print(\"Best parameter:\")\n",
    "print(best_params_logreg)\n"
   ]
  },
  {
   "cell_type": "code",
   "execution_count": null,
   "id": "efa867a1",
   "metadata": {},
   "outputs": [],
   "source": []
  }
 ],
 "metadata": {
  "kernelspec": {
   "display_name": "Python 3 (ipykernel)",
   "language": "python",
   "name": "python3"
  },
  "language_info": {
   "codemirror_mode": {
    "name": "ipython",
    "version": 3
   },
   "file_extension": ".py",
   "mimetype": "text/x-python",
   "name": "python",
   "nbconvert_exporter": "python",
   "pygments_lexer": "ipython3",
   "version": "3.9.15"
  }
 },
 "nbformat": 4,
 "nbformat_minor": 5
}
