{
 "cells": [
  {
   "cell_type": "code",
   "execution_count": 3,
   "id": "f0bad835",
   "metadata": {},
   "outputs": [],
   "source": [
    "import numpy as np\n",
    "import pandas as pd"
   ]
  },
  {
   "cell_type": "code",
   "execution_count": 4,
   "id": "1e16ef4c",
   "metadata": {},
   "outputs": [],
   "source": [
    "X = np.load('function_5/initial_inputs.npy')\n",
    "y = np.load('function_5/initial_outputs.npy')"
   ]
  },
  {
   "cell_type": "code",
   "execution_count": 6,
   "id": "7d64ca92",
   "metadata": {},
   "outputs": [
    {
     "data": {
      "text/plain": [
       "array([6.44434399e+01, 1.83013796e+01, 1.12939795e-01, 4.21089813e+00,\n",
       "       2.58370525e+02, 7.84343889e+01, 5.75715369e+01, 1.09571876e+02,\n",
       "       8.84799176e+00, 2.33223610e+02, 2.44230883e+01, 6.44201468e+01,\n",
       "       6.34767158e+01, 7.97291299e+01, 3.55806818e+02, 1.08885962e+03,\n",
       "       2.88667516e+01, 4.51815703e+01, 4.31612757e+02, 9.97233189e+00])"
      ]
     },
     "execution_count": 6,
     "metadata": {},
     "output_type": "execute_result"
    }
   ],
   "source": [
    "y"
   ]
  },
  {
   "cell_type": "code",
   "execution_count": 20,
   "id": "ce7921d2",
   "metadata": {},
   "outputs": [
    {
     "ename": "ModuleNotFoundError",
     "evalue": "No module named 'GPyOpt'",
     "output_type": "error",
     "traceback": [
      "\u001b[1;31m---------------------------------------------------------------------------\u001b[0m",
      "\u001b[1;31mModuleNotFoundError\u001b[0m                       Traceback (most recent call last)",
      "Cell \u001b[1;32mIn[20], line 2\u001b[0m\n\u001b[0;32m      1\u001b[0m \u001b[38;5;28;01mimport\u001b[39;00m \u001b[38;5;21;01mnumpy\u001b[39;00m \u001b[38;5;28;01mas\u001b[39;00m \u001b[38;5;21;01mnp\u001b[39;00m\n\u001b[1;32m----> 2\u001b[0m \u001b[38;5;28;01mimport\u001b[39;00m \u001b[38;5;21;01mGPyOpt\u001b[39;00m\n\u001b[0;32m      3\u001b[0m \u001b[38;5;28;01mfrom\u001b[39;00m \u001b[38;5;21;01msklearn\u001b[39;00m\u001b[38;5;21;01m.\u001b[39;00m\u001b[38;5;21;01mlinear_model\u001b[39;00m \u001b[38;5;28;01mimport\u001b[39;00m LinearRegression\n\u001b[0;32m      4\u001b[0m \u001b[38;5;28;01mfrom\u001b[39;00m \u001b[38;5;21;01msklearn\u001b[39;00m\u001b[38;5;21;01m.\u001b[39;00m\u001b[38;5;21;01mmetrics\u001b[39;00m \u001b[38;5;28;01mimport\u001b[39;00m mean_squared_error\n",
      "\u001b[1;31mModuleNotFoundError\u001b[0m: No module named 'GPyOpt'"
     ]
    }
   ],
   "source": [
    "import numpy as np\n",
    "import GPyOpt\n",
    "from sklearn.linear_model import LinearRegression\n",
    "from sklearn.metrics import mean_squared_error\n",
    "\n",
    "# Define the objective function for Function 4\n",
    "def function4(x):\n",
    "    \"\"\"\n",
    "    This function models the difference between the expensive calculation and the model for Function 4.\n",
    "    Function 4 corresponds to an optimization problem with four hyperparameters.\n",
    "\n",
    "    Args:\n",
    "      x: A 4-dimensional input vector representing hyperparameters.\n",
    "\n",
    "    Returns:\n",
    "      The negative of the difference between the expensive calculation and the model.\n",
    "    \"\"\"\n",
    "    \n",
    "    # Replace this with the actual calculation for Function 4\n",
    "    # Calculate the expensive calculation (replace with your actual calculation)\n",
    "    expensive_calculation = compute_expensive_calculation(x)\n",
    "\n",
    "    # Train and evaluate a machine learning model\n",
    "    model_output = train_and_evaluate_model(x)\n",
    "\n",
    "    # Return the negative of the difference between the expensive calculation and the model\n",
    "    return model_output - expensive_calculation\n",
    "\n",
    "# Define the bounds for the input hyperparameters (adjust as needed)\n",
    "bounds = [\n",
    "    {'name': 'param1', 'type': 'continuous', 'domain': (0, 1)},\n",
    "    {'name': 'param2', 'type': 'continuous', 'domain': (0, 1)},\n",
    "    {'name': 'param3', 'type': 'continuous', 'domain': (0, 1)},\n",
    "    {'name': 'param4', 'type': 'continuous', 'domain': (0, 1)}\n",
    "]\n",
    "\n",
    "# Function to simulate the expensive calculation (replace with your actual calculation)\n",
    "def compute_expensive_calculation(x):\n",
    "    # Simulate the expensive calculation (replace this with your actual computation)\n",
    "    return np.sin(x[0]) + np.cos(x[1]) - x[2]**2 + x[3]**3\n",
    "\n",
    "# Function to train and evaluate a machine learning model (you can replace this with your model)\n",
    "def train_and_evaluate_model(x):\n",
    "    # Simulate training a machine learning model (replace this with your actual model)\n",
    "    # For example, we'll use a simple linear regression model here\n",
    "    model = LinearRegression()\n",
    "    X_train = X #np.random.rand(100, 4)  # Sample training data\n",
    "    y_train = compute_expensive_calculation(X_train)  # Simulated expensive calculation results\n",
    "    model.fit(X_train, y_train)  # Train the model\n",
    "\n",
    "    # Simulate using the model for prediction\n",
    "    X_test = X #np.array(x).reshape(1, -1)  # Convert input to the right shape\n",
    "    model_output = model.predict(X_test)  # Model prediction\n",
    "\n",
    "    return model_output[0]  # Return the model's prediction\n",
    "\n",
    "# Initialize the Bayesian Optimization object\n",
    "bopt = GPyOpt.methods.BayesianOptimization(f=function4, domain=bounds)\n",
    "\n",
    "# Run the optimization\n",
    "bopt.run_optimization(max_iter=10)  # Adjust max_iter as needed\n",
    "\n",
    "# Get the best found hyperparameters and the corresponding objective value\n",
    "best_hyperparameters = bopt.x_opt\n",
    "best_objective_value = -bopt.fx_opt  # Take the negative since we want to maximize\n",
    "\n",
    "print(\"Best Hyperparameters:\", best_hyperparameters)\n",
    "print(\"Best Objective Value:\", best_objective_value)\n"
   ]
  },
  {
   "cell_type": "code",
   "execution_count": 19,
   "id": "38182247",
   "metadata": {},
   "outputs": [
    {
     "name": "stdout",
     "output_type": "stream",
     "text": [
      "Collecting GPyOpt\n",
      "  Using cached GPyOpt-1.2.6-py3-none-any.whl\n",
      "Requirement already satisfied: numpy>=1.7 in c:\\users\\avitr\\anaconda3\\lib\\site-packages (from GPyOpt) (1.24.3)\n",
      "Requirement already satisfied: scipy>=0.16 in c:\\users\\avitr\\anaconda3\\lib\\site-packages (from GPyOpt) (1.11.1)\n",
      "Collecting GPy>=1.8 (from GPyOpt)\n",
      "  Using cached GPy-1.12.0-cp39-cp39-win_amd64.whl (1.5 MB)\n",
      "Requirement already satisfied: six in c:\\users\\avitr\\anaconda3\\lib\\site-packages (from GPy>=1.8->GPyOpt) (1.12.0)\n",
      "Collecting paramz>=0.9.0 (from GPy>=1.8->GPyOpt)\n",
      "  Using cached paramz-0.9.5-py3-none-any.whl\n",
      "Requirement already satisfied: cython>=0.29 in c:\\users\\avitr\\anaconda3\\lib\\site-packages (from GPy>=1.8->GPyOpt) (0.29.23)\n",
      "Requirement already satisfied: decorator>=4.0.10 in c:\\users\\avitr\\anaconda3\\lib\\site-packages (from paramz>=0.9.0->GPy>=1.8->GPyOpt) (5.1.1)\n",
      "Installing collected packages: paramz, GPy, GPyOpt\n",
      "Successfully installed GPy-1.12.0 GPyOpt-1.2.6 paramz-0.9.5\n"
     ]
    },
    {
     "name": "stderr",
     "output_type": "stream",
     "text": [
      "WARNING: Ignoring invalid distribution -atplotlib (c:\\users\\avitr\\anaconda3\\lib\\site-packages)\n",
      "WARNING: Ignoring invalid distribution -rotobuf (c:\\users\\avitr\\anaconda3\\lib\\site-packages)\n",
      "WARNING: Error parsing requirements for pyyaml: [Errno 2] No such file or directory: 'c:\\\\users\\\\avitr\\\\anaconda3\\\\lib\\\\site-packages\\\\PyYAML-5.4.1.dist-info\\\\METADATA'\n",
      "WARNING: Ignoring invalid distribution -atplotlib (c:\\users\\avitr\\anaconda3\\lib\\site-packages)\n",
      "WARNING: Ignoring invalid distribution -rotobuf (c:\\users\\avitr\\anaconda3\\lib\\site-packages)\n"
     ]
    }
   ],
   "source": [
    "!pip install GPyOpt --user"
   ]
  },
  {
   "cell_type": "code",
   "execution_count": 1,
   "id": "39d2a5cf",
   "metadata": {},
   "outputs": [],
   "source": [
    "from scipy.optimize import minimize"
   ]
  },
  {
   "cell_type": "code",
   "execution_count": null,
   "id": "cf4fa2d4",
   "metadata": {},
   "outputs": [],
   "source": [
    "import numpy as np\n",
    "from sklearn.gaussian_process import GaussianProcessRegressor\n",
    "from sklearn.gaussian_process.kernels import RBF, WhiteKernel\n",
    "from scipy.optimize import minimize\n",
    "\n",
    "import numpy as np\n",
    "import pandas as pd\n",
    "X = np.load('initial_inputs.npy')\n",
    "y_expensive = np.load('initial_outputs.npy')\n",
    "\n",
    "# Simulated expensive calculation function\n",
    "def f(x):\n",
    "    # Simulate the expensive calculation (replace this with your actual computation)\n",
    "    return np.sin(x[0]) + np.cos(x[1]) - x[2]**2 + x[3]**3\n",
    "\n",
    "# Define the Gaussian Process Regressor with RBF kernel\n",
    "kernel = RBF(length_scale=1.0) + WhiteKernel(noise_level=1e-3)\n",
    "model = GaussianProcessRegressor(kernel=kernel, n_restarts_optimizer=10)\n",
    "\n",
    "# Fit the model to the expensive calculation outputs\n",
    "model.fit(X, y_expensive)\n",
    "\n",
    "# Define the objective function for optimization\n",
    "def function4(x):\n",
    "    # Predict the output of the expensive calculation using the machine learning model\n",
    "    y_pred, _ = model.predict(np.array(x).reshape(1, -1), return_std=True)\n",
    "    \n",
    "    # Return the negative predicted value since we want to maximize\n",
    "    return -y_pred[0]\n",
    "\n",
    "# Initial guess for the optimal placement configuration (you can change this)\n",
    "initial_guess = [0.5, 0.5, 0.5, 0.5]\n",
    "\n",
    "# Perform optimization to find the optimal placement\n",
    "result = minimize(function4, initial_guess, bounds=[(0, 1)] * 4)\n",
    "\n",
    "# Get the optimal placement configuration\n",
    "optimal_placement = result.x\n",
    "\n",
    "# Print the optimal placement\n",
    "print(\"Optimal Placement Configuration:\", optimal_placement)\n"
   ]
  }
 ],
 "metadata": {
  "kernelspec": {
   "display_name": "Python (myNEWenv)",
   "language": "python",
   "name": "mynewenv"
  },
  "language_info": {
   "codemirror_mode": {
    "name": "ipython",
    "version": 3
   },
   "file_extension": ".py",
   "mimetype": "text/x-python",
   "name": "python",
   "nbconvert_exporter": "python",
   "pygments_lexer": "ipython3",
   "version": "3.10.12"
  }
 },
 "nbformat": 4,
 "nbformat_minor": 5
}
