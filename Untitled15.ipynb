{
 "cells": [
  {
   "cell_type": "code",
   "execution_count": 8,
   "id": "40d5ec61",
   "metadata": {},
   "outputs": [],
   "source": [
    "from application.app.folder import file"
   ]
  },
  {
   "cell_type": "code",
   "execution_count": 9,
   "id": "c3d03c52",
   "metadata": {},
   "outputs": [
    {
     "name": "stdout",
     "output_type": "stream",
     "text": [
      "in folder app\n"
     ]
    }
   ],
   "source": [
    "file.fun1()"
   ]
  },
  {
   "cell_type": "code",
   "execution_count": 10,
   "id": "c2fd4731",
   "metadata": {},
   "outputs": [],
   "source": [
    "from application.app2.some_folder import some_file"
   ]
  },
  {
   "cell_type": "code",
   "execution_count": 12,
   "id": "3790257c",
   "metadata": {},
   "outputs": [
    {
     "name": "stdout",
     "output_type": "stream",
     "text": [
      "in folder app\n",
      "in some folder some app\n"
     ]
    }
   ],
   "source": [
    "some_file.fun2()"
   ]
  },
  {
   "cell_type": "code",
   "execution_count": null,
   "id": "ad45b7d8",
   "metadata": {},
   "outputs": [],
   "source": []
  }
 ],
 "metadata": {
  "kernelspec": {
   "display_name": "Python 3 (ipykernel)",
   "language": "python",
   "name": "python3"
  },
  "language_info": {
   "codemirror_mode": {
    "name": "ipython",
    "version": 3
   },
   "file_extension": ".py",
   "mimetype": "text/x-python",
   "name": "python",
   "nbconvert_exporter": "python",
   "pygments_lexer": "ipython3",
   "version": "3.9.15"
  }
 },
 "nbformat": 4,
 "nbformat_minor": 5
}
