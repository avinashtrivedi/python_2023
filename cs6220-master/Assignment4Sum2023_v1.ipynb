{
 "cells": [
  {
   "cell_type": "code",
   "execution_count": 35,
   "id": "6dba4ccc",
   "metadata": {},
   "outputs": [],
   "source": [
    "import pandas as pd"
   ]
  },
  {
   "cell_type": "code",
   "execution_count": 36,
   "id": "e325edf7",
   "metadata": {},
   "outputs": [],
   "source": [
    "import csv\n",
    "import numpy as np\n",
    "\n",
    "def load_dataset(filename):\n",
    "    '''Loads an example of market basket transactions from a provided csv file.\n",
    "\n",
    "    Returns: A list (database) of lists (transactions). Each element of a transaction is \n",
    "    an item.\n",
    "    '''\n",
    "\n",
    "    with open(filename,'r') as dest_f:\n",
    "        data_iter = csv.reader(dest_f, delimiter = ',', quotechar = '\"')\n",
    "        data = [data for data in data_iter]\n",
    "        data_array = np.asarray(data)\n",
    "        \n",
    "    return data_array"
   ]
  },
  {
   "cell_type": "code",
   "execution_count": 37,
   "id": "bf95d6d2",
   "metadata": {},
   "outputs": [
    {
     "name": "stderr",
     "output_type": "stream",
     "text": [
      "C:\\Users\\avitr\\AppData\\Local\\Temp\\ipykernel_21980\\3719348012.py:14: VisibleDeprecationWarning: Creating an ndarray from ragged nested sequences (which is a list-or-tuple of lists-or-tuples-or ndarrays with different lengths or shapes) is deprecated. If you meant to do this, you must specify 'dtype=object' when creating the ndarray.\n",
      "  data_array = np.asarray(data)\n"
     ]
    }
   ],
   "source": [
    "data = load_dataset(r'D:\\OneDrive - NITT\\Custom_Download\\grocery.csv')"
   ]
  },
  {
   "cell_type": "code",
   "execution_count": 38,
   "id": "18b96283",
   "metadata": {},
   "outputs": [
    {
     "data": {
      "text/plain": [
       "array([list(['citrus fruit', 'semi-finished bread', 'margarine', 'ready soups']),\n",
       "       list(['tropical fruit', 'yogurt', 'coffee']), list(['whole milk']),\n",
       "       ...,\n",
       "       list(['chicken', 'citrus fruit', 'other vegetables', 'butter', 'yogurt', 'frozen dessert', 'domestic eggs', 'rolls/buns', 'rum', 'cling film/bags']),\n",
       "       list(['semi-finished bread', 'bottled water', 'soda', 'bottled beer']),\n",
       "       list(['chicken', 'tropical fruit', 'other vegetables', 'vinegar', 'shopping bags'])],\n",
       "      dtype=object)"
      ]
     },
     "execution_count": 38,
     "metadata": {},
     "output_type": "execute_result"
    }
   ],
   "source": [
    "data"
   ]
  },
  {
   "cell_type": "code",
   "execution_count": 34,
   "id": "b288105d",
   "metadata": {},
   "outputs": [
    {
     "data": {
      "text/plain": [
       "['rolls/buns']"
      ]
     },
     "execution_count": 34,
     "metadata": {},
     "output_type": "execute_result"
    }
   ],
   "source": [
    "data[6]"
   ]
  },
  {
   "cell_type": "code",
   "execution_count": null,
   "id": "84ce84d2",
   "metadata": {},
   "outputs": [],
   "source": []
  }
 ],
 "metadata": {
  "kernelspec": {
   "display_name": "Python 3 (ipykernel)",
   "language": "python",
   "name": "python3"
  },
  "language_info": {
   "codemirror_mode": {
    "name": "ipython",
    "version": 3
   },
   "file_extension": ".py",
   "mimetype": "text/x-python",
   "name": "python",
   "nbconvert_exporter": "python",
   "pygments_lexer": "ipython3",
   "version": "3.9.15"
  }
 },
 "nbformat": 4,
 "nbformat_minor": 5
}
