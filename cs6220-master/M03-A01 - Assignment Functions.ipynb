{
 "cells": [
  {
   "cell_type": "code",
   "execution_count": 1,
   "metadata": {
    "collapsed": false
   },
   "outputs": [
    {
     "name": "stdout",
     "output_type": "stream",
     "text": [
      "Populating the interactive namespace from numpy and matplotlib\n"
     ]
    }
   ],
   "source": [
    "%pylab inline"
   ]
  },
  {
   "cell_type": "markdown",
   "metadata": {},
   "source": [
    "# Helper functions"
   ]
  },
  {
   "cell_type": "code",
   "execution_count": 2,
   "metadata": {
    "collapsed": true
   },
   "outputs": [],
   "source": [
    "from PIL import Image\n",
    "import os\n",
    "import pandas as pd\n",
    "import pylab as pl"
   ]
  },
  {
   "cell_type": "code",
   "execution_count": 3,
   "metadata": {
    "collapsed": true
   },
   "outputs": [],
   "source": [
    "def load_images(img_dir, grayscale=False):\n",
    "    \"\"\"Loads images from within a specified directory.\n",
    "\n",
    "    Args:\n",
    "      img_dir (str): The directory from which to load (.jpg) images.\n",
    "      grayscale (bool): Whether to convert the image into grayscale. Defaults to False.\n",
    "\n",
    "    Returns:\n",
    "      images: An array of image objects loaded from the specified directory\n",
    "\n",
    "    \"\"\"\n",
    "    images = []\n",
    "\n",
    "    for file in os.listdir(img_dir):\n",
    "        if file.endswith(\".jpg\"):\n",
    "            im = Image.open(os.path.join(img_dir, file))\n",
    "\n",
    "            im = im.resize((100, 100))\n",
    "\n",
    "            if grayscale:\n",
    "                im = np.array(im, dtype=np.float64) / 255\n",
    "\n",
    "                # Convert image to grayscale\n",
    "                r, g, b = im[:,:,0], im[:,:,1], im[:,:,2]\n",
    "                gray = 0.2989*r + 0.5870*g + 0.1140*b\n",
    "                im = gray.reshape((1, -1))[0]\n",
    "\n",
    "            images.append(im)\n",
    "\n",
    "    return images\n",
    "\n",
    "def plot_image_space(images, X, title=\"Projection of the Images into 2 Dimensions\"):\n",
    "    \"\"\"Generates and shows a plot of images in a feature space.\n",
    "\n",
    "    A figure with one plot is generated. The plot displays the location of each image in \n",
    "    relation to the image's feature values in the input feature space (X).\n",
    "\n",
    "    Args:\n",
    "      images (Image): An image.\n",
    "      images (SciPy array): An array of SSQs, one computed for each k.\n",
    "\n",
    "    \"\"\"\n",
    "    # min-max normalization    \n",
    "    x_min, x_max = np.min(X, axis=0), np.max(X, axis=0)\n",
    "    X = (X - x_min) / (x_max - x_min)\n",
    "\n",
    "    # Create a figure\n",
    "    pl.figure(figsize=(16, 5))\n",
    "    ax = pl.subplot(111)\n",
    "    #ax.axis('off')\n",
    "\n",
    "    # Generate picture thumbnails in the plot\n",
    "    if hasattr(matplotlib.offsetbox, 'AnnotationBbox'):\n",
    "        # only print thumbnails with matplotlib > 1.0\n",
    "        for i in range(len(images)):\n",
    "            imagebox = matplotlib.offsetbox.OffsetImage(images[i], zoom=.65)\n",
    "            ab = matplotlib.offsetbox.AnnotationBbox(imagebox, X[i][0:2])                                  \n",
    "            ax.add_artist(ab)\n",
    "\n",
    "    # Add figure labels and ticks\n",
    "    pl.title(title, fontsize=16)\n",
    "    pl.xticks([]), pl.yticks([])\n",
    "\n",
    "    # Add figure bounds\n",
    "    pl.ylim((np.min(X, axis=0)[1])-0.25,(np.max(X, axis=0)[1])+0.25)\n",
    "    pl.xlim((np.min(X, axis=0)[0])-0.1,(np.max(X, axis=0)[0])+0.1)"
   ]
  },
  {
   "cell_type": "markdown",
   "metadata": {},
   "source": [
    "## Load data"
   ]
  },
  {
   "cell_type": "code",
   "execution_count": 4,
   "metadata": {
    "collapsed": false
   },
   "outputs": [],
   "source": [
    "img_dir = os.path.join(os.getcwd(), \"images\") # directory path\n",
    "images = load_images(img_dir) # load images in the specified directory"
   ]
  },
  {
   "cell_type": "code",
   "execution_count": 5,
   "metadata": {
    "collapsed": true
   },
   "outputs": [],
   "source": [
    "X = pd.DataFrame([im.histogram() for im in images])"
   ]
  },
  {
   "cell_type": "markdown",
   "metadata": {},
   "source": [
    "## Start your assignment here..."
   ]
  },
  {
   "cell_type": "code",
   "execution_count": null,
   "metadata": {
    "collapsed": true
   },
   "outputs": [],
   "source": []
  }
 ],
 "metadata": {
  "kernelspec": {
   "display_name": "Python 2",
   "language": "python",
   "name": "python2"
  },
  "language_info": {
   "codemirror_mode": {
    "name": "ipython",
    "version": 2
   },
   "file_extension": ".py",
   "mimetype": "text/x-python",
   "name": "python",
   "nbconvert_exporter": "python",
   "pygments_lexer": "ipython2",
   "version": "2.7.12"
  }
 },
 "nbformat": 4,
 "nbformat_minor": 0
}
