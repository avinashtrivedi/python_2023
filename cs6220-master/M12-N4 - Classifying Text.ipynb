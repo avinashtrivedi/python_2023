{
 "cells": [
  {
   "cell_type": "markdown",
   "metadata": {},
   "source": [
    "# Sources\n",
    "\n",
    "1. http://radimrehurek.com/data_science_python/\n",
    "2. http://zacstewart.com/2015/04/28/document-classification-with-scikit-learn.html\n",
    "3. http://scikit-learn.org/stable/tutorial/text_analytics/working_with_text_data.html\n",
    "4. http://gabrielelanaro.github.io/blog/2015/07/11/natural-language-processing-python.html\n",
    "5. https://archive.ics.uci.edu/ml/datasets/SMS+Spam+Collection#"
   ]
  },
  {
   "cell_type": "code",
   "execution_count": 1,
   "metadata": {},
   "outputs": [
    {
     "name": "stdout",
     "output_type": "stream",
     "text": [
      "Populating the interactive namespace from numpy and matplotlib\n"
     ]
    }
   ],
   "source": [
    "%pylab inline"
   ]
  },
  {
   "cell_type": "markdown",
   "metadata": {},
   "source": [
    "# Import methods"
   ]
  },
  {
   "cell_type": "code",
   "execution_count": 2,
   "metadata": {
    "collapsed": true
   },
   "outputs": [],
   "source": [
    "import pandas as pd\n",
    "from sklearn.feature_extraction.text import CountVectorizer, TfidfVectorizer\n",
    "from sklearn.naive_bayes import MultinomialNB\n",
    "from sklearn.model_selection import KFold, learning_curve, ShuffleSplit\n",
    "from sklearn.metrics import *\n",
    "from sklearn.pipeline import Pipeline\n",
    "from sklearn.feature_selection import SelectKBest, f_regression\n",
    "from sklearn.linear_model import LogisticRegression\n",
    "import matplotlib.pyplot as plt\n",
    "matplotlib.style.use('ggplot')"
   ]
  },
  {
   "cell_type": "markdown",
   "metadata": {},
   "source": [
    "# Load SPAM Dataset"
   ]
  },
  {
   "cell_type": "code",
   "execution_count": 3,
   "metadata": {
    "collapsed": true
   },
   "outputs": [],
   "source": [
    "df = pd.read_csv('./SMSSpamCollection', sep='\\t', names=['class', 'text'])"
   ]
  },
  {
   "cell_type": "markdown",
   "metadata": {},
   "source": [
    "# What is in this data?"
   ]
  },
  {
   "cell_type": "code",
   "execution_count": 4,
   "metadata": {},
   "outputs": [
    {
     "data": {
      "text/html": [
       "<div>\n",
       "<table border=\"1\" class=\"dataframe\">\n",
       "  <thead>\n",
       "    <tr style=\"text-align: right;\">\n",
       "      <th></th>\n",
       "      <th>class</th>\n",
       "      <th>text</th>\n",
       "    </tr>\n",
       "  </thead>\n",
       "  <tbody>\n",
       "    <tr>\n",
       "      <th>0</th>\n",
       "      <td>ham</td>\n",
       "      <td>Go until jurong point, crazy.. Available only ...</td>\n",
       "    </tr>\n",
       "    <tr>\n",
       "      <th>1</th>\n",
       "      <td>ham</td>\n",
       "      <td>Ok lar... Joking wif u oni...</td>\n",
       "    </tr>\n",
       "    <tr>\n",
       "      <th>2</th>\n",
       "      <td>spam</td>\n",
       "      <td>Free entry in 2 a wkly comp to win FA Cup fina...</td>\n",
       "    </tr>\n",
       "    <tr>\n",
       "      <th>3</th>\n",
       "      <td>ham</td>\n",
       "      <td>U dun say so early hor... U c already then say...</td>\n",
       "    </tr>\n",
       "    <tr>\n",
       "      <th>4</th>\n",
       "      <td>ham</td>\n",
       "      <td>Nah I don't think he goes to usf, he lives aro...</td>\n",
       "    </tr>\n",
       "  </tbody>\n",
       "</table>\n",
       "</div>"
      ],
      "text/plain": [
       "  class                                               text\n",
       "0   ham  Go until jurong point, crazy.. Available only ...\n",
       "1   ham                      Ok lar... Joking wif u oni...\n",
       "2  spam  Free entry in 2 a wkly comp to win FA Cup fina...\n",
       "3   ham  U dun say so early hor... U c already then say...\n",
       "4   ham  Nah I don't think he goes to usf, he lives aro..."
      ]
     },
     "execution_count": 4,
     "metadata": {},
     "output_type": "execute_result"
    }
   ],
   "source": [
    "df.head()"
   ]
  },
  {
   "cell_type": "code",
   "execution_count": 5,
   "metadata": {},
   "outputs": [
    {
     "data": {
      "text/plain": [
       "(5572, 2)"
      ]
     },
     "execution_count": 5,
     "metadata": {},
     "output_type": "execute_result"
    }
   ],
   "source": [
    "df.shape"
   ]
  },
  {
   "cell_type": "code",
   "execution_count": 6,
   "metadata": {},
   "outputs": [
    {
     "data": {
      "text/html": [
       "<div>\n",
       "<table border=\"1\" class=\"dataframe\">\n",
       "  <thead>\n",
       "    <tr style=\"text-align: right;\">\n",
       "      <th></th>\n",
       "      <th></th>\n",
       "      <th>text</th>\n",
       "    </tr>\n",
       "    <tr>\n",
       "      <th>class</th>\n",
       "      <th></th>\n",
       "      <th></th>\n",
       "    </tr>\n",
       "  </thead>\n",
       "  <tbody>\n",
       "    <tr>\n",
       "      <th rowspan=\"4\" valign=\"top\">ham</th>\n",
       "      <th>count</th>\n",
       "      <td>4825</td>\n",
       "    </tr>\n",
       "    <tr>\n",
       "      <th>unique</th>\n",
       "      <td>4516</td>\n",
       "    </tr>\n",
       "    <tr>\n",
       "      <th>top</th>\n",
       "      <td>Sorry, I'll call later</td>\n",
       "    </tr>\n",
       "    <tr>\n",
       "      <th>freq</th>\n",
       "      <td>30</td>\n",
       "    </tr>\n",
       "    <tr>\n",
       "      <th rowspan=\"4\" valign=\"top\">spam</th>\n",
       "      <th>count</th>\n",
       "      <td>747</td>\n",
       "    </tr>\n",
       "    <tr>\n",
       "      <th>unique</th>\n",
       "      <td>653</td>\n",
       "    </tr>\n",
       "    <tr>\n",
       "      <th>top</th>\n",
       "      <td>Please call our customer service representativ...</td>\n",
       "    </tr>\n",
       "    <tr>\n",
       "      <th>freq</th>\n",
       "      <td>4</td>\n",
       "    </tr>\n",
       "  </tbody>\n",
       "</table>\n",
       "</div>"
      ],
      "text/plain": [
       "                                                           text\n",
       "class                                                          \n",
       "ham   count                                                4825\n",
       "      unique                                               4516\n",
       "      top                                Sorry, I'll call later\n",
       "      freq                                                   30\n",
       "spam  count                                                 747\n",
       "      unique                                                653\n",
       "      top     Please call our customer service representativ...\n",
       "      freq                                                    4"
      ]
     },
     "execution_count": 6,
     "metadata": {},
     "output_type": "execute_result"
    }
   ],
   "source": [
    "df.groupby('class').describe()"
   ]
  },
  {
   "cell_type": "code",
   "execution_count": 7,
   "metadata": {
    "collapsed": true
   },
   "outputs": [],
   "source": [
    "df['text_length'] = df['text'].map(lambda text: len(text))"
   ]
  },
  {
   "cell_type": "code",
   "execution_count": 8,
   "metadata": {},
   "outputs": [
    {
     "data": {
      "text/html": [
       "<div>\n",
       "<table border=\"1\" class=\"dataframe\">\n",
       "  <thead>\n",
       "    <tr style=\"text-align: right;\">\n",
       "      <th></th>\n",
       "      <th>class</th>\n",
       "      <th>text</th>\n",
       "      <th>text_length</th>\n",
       "    </tr>\n",
       "  </thead>\n",
       "  <tbody>\n",
       "    <tr>\n",
       "      <th>0</th>\n",
       "      <td>ham</td>\n",
       "      <td>Go until jurong point, crazy.. Available only ...</td>\n",
       "      <td>111</td>\n",
       "    </tr>\n",
       "    <tr>\n",
       "      <th>1</th>\n",
       "      <td>ham</td>\n",
       "      <td>Ok lar... Joking wif u oni...</td>\n",
       "      <td>29</td>\n",
       "    </tr>\n",
       "    <tr>\n",
       "      <th>2</th>\n",
       "      <td>spam</td>\n",
       "      <td>Free entry in 2 a wkly comp to win FA Cup fina...</td>\n",
       "      <td>155</td>\n",
       "    </tr>\n",
       "    <tr>\n",
       "      <th>3</th>\n",
       "      <td>ham</td>\n",
       "      <td>U dun say so early hor... U c already then say...</td>\n",
       "      <td>49</td>\n",
       "    </tr>\n",
       "    <tr>\n",
       "      <th>4</th>\n",
       "      <td>ham</td>\n",
       "      <td>Nah I don't think he goes to usf, he lives aro...</td>\n",
       "      <td>61</td>\n",
       "    </tr>\n",
       "  </tbody>\n",
       "</table>\n",
       "</div>"
      ],
      "text/plain": [
       "  class                                               text  text_length\n",
       "0   ham  Go until jurong point, crazy.. Available only ...          111\n",
       "1   ham                      Ok lar... Joking wif u oni...           29\n",
       "2  spam  Free entry in 2 a wkly comp to win FA Cup fina...          155\n",
       "3   ham  U dun say so early hor... U c already then say...           49\n",
       "4   ham  Nah I don't think he goes to usf, he lives aro...           61"
      ]
     },
     "execution_count": 8,
     "metadata": {},
     "output_type": "execute_result"
    }
   ],
   "source": [
    "df.head()"
   ]
  },
  {
   "cell_type": "code",
   "execution_count": 10,
   "metadata": {},
   "outputs": [
    {
     "data": {
      "image/png": "[encoded data removed]",
      "text/plain": [
       "<matplotlib.figure.Figure at 0x10d280748>"
      ]
     },
     "metadata": {},
     "output_type": "display_data"
    }
   ],
   "source": [
    "# Adding a semi-column avoids that annoying <matplotlib.axes._subplots.AxesSubplot at 0x26358472da0> output\n",
    "df.hist(column='text_length', by='class');"
   ]
  },
  {
   "cell_type": "code",
   "execution_count": 11,
   "metadata": {},
   "outputs": [
    {
     "data": {
      "image/png": "[encoded data removed]",
      "text/plain": [
       "<matplotlib.figure.Figure at 0x115b916d8>"
      ]
     },
     "metadata": {},
     "output_type": "display_data"
    }
   ],
   "source": [
    "df.boxplot(column='text_length', by='class', grid=False, figsize=(6,5));"
   ]
  },
  {
   "cell_type": "code",
   "execution_count": 14,
   "metadata": {},
   "outputs": [
    {
     "data": {
      "text/plain": [
       "count    5572.000000\n",
       "mean       80.489950\n",
       "std        59.942907\n",
       "min         2.000000\n",
       "25%        36.000000\n",
       "50%        62.000000\n",
       "75%       122.000000\n",
       "max       910.000000\n",
       "Name: text_length, dtype: float64"
      ]
     },
     "execution_count": 14,
     "metadata": {},
     "output_type": "execute_result"
    }
   ],
   "source": [
    "df.text_length.describe()"
   ]
  },
  {
   "cell_type": "code",
   "execution_count": 15,
   "metadata": {},
   "outputs": [
    {
     "data": {
      "text/plain": [
       "array([ \"For me the love should start with attraction.i should feel that I need her every time around me.she should be the first thing which comes in my thoughts.I would start the day and end it with her.she should be there every time I dream.love will be then when my every breath has her name.my life should happen around her.my life will be named to her.I would cry for her.will give all my happiness and take all her sorrows.I will be ready to fight with anyone for her.I will be in love when I will be doing the craziest things for her.love will be when I don't have to proove anyone that my girl is the most beautiful lady on the whole planet.I will always be singing praises for her.love will be when I start up making chicken curry and end up makiing sambar.life will be the most beautiful then.will get every morning and thank god for the day because she is with me.I would like to say a lot..will tell later..\"], dtype=object)"
      ]
     },
     "execution_count": 15,
     "metadata": {},
     "output_type": "execute_result"
    }
   ],
   "source": [
    "# Largest document\n",
    "df[df.text_length==910]['text'].values"
   ]
  },
  {
   "cell_type": "code",
   "execution_count": 16,
   "metadata": {},
   "outputs": [
    {
     "data": {
      "text/html": [
       "<div>\n",
       "<table border=\"1\" class=\"dataframe\">\n",
       "  <thead>\n",
       "    <tr style=\"text-align: right;\">\n",
       "      <th></th>\n",
       "      <th>class</th>\n",
       "      <th>text</th>\n",
       "      <th>text_length</th>\n",
       "    </tr>\n",
       "  </thead>\n",
       "  <tbody>\n",
       "    <tr>\n",
       "      <th>1925</th>\n",
       "      <td>ham</td>\n",
       "      <td>Ok</td>\n",
       "      <td>2</td>\n",
       "    </tr>\n",
       "    <tr>\n",
       "      <th>3051</th>\n",
       "      <td>ham</td>\n",
       "      <td>Ok</td>\n",
       "      <td>2</td>\n",
       "    </tr>\n",
       "    <tr>\n",
       "      <th>4498</th>\n",
       "      <td>ham</td>\n",
       "      <td>Ok</td>\n",
       "      <td>2</td>\n",
       "    </tr>\n",
       "    <tr>\n",
       "      <th>5357</th>\n",
       "      <td>ham</td>\n",
       "      <td>Ok</td>\n",
       "      <td>2</td>\n",
       "    </tr>\n",
       "  </tbody>\n",
       "</table>\n",
       "</div>"
      ],
      "text/plain": [
       "     class text  text_length\n",
       "1925   ham   Ok            2\n",
       "3051   ham   Ok            2\n",
       "4498   ham   Ok            2\n",
       "5357   ham   Ok            2"
      ]
     },
     "execution_count": 16,
     "metadata": {},
     "output_type": "execute_result"
    }
   ],
   "source": [
    "# Smallest documents\n",
    "df[df.text_length==2]"
   ]
  },
  {
   "cell_type": "markdown",
   "metadata": {},
   "source": [
    "# Data Pre-processing"
   ]
  },
  {
   "cell_type": "markdown",
   "metadata": {},
   "source": [
    "[Count Vectorizer](http://scikit-learn.org/stable/modules/generated/sklearn.feature_extraction.text.CountVectorizer.html)"
   ]
  },
  {
   "cell_type": "code",
   "execution_count": 17,
   "metadata": {
    "collapsed": true
   },
   "outputs": [],
   "source": [
    "# Define a count vectorizer\n",
    "count_vectorizer = CountVectorizer()\n",
    "counts = count_vectorizer.fit_transform(df['text'].values)\n",
    "\n",
    "# Define a tfidf vectorizer\n",
    "tfidf_vectorizer = TfidfVectorizer()\n",
    "tfidfs = tfidf_vectorizer.fit_transform(df['text'].values)"
   ]
  },
  {
   "cell_type": "code",
   "execution_count": 18,
   "metadata": {},
   "outputs": [
    {
     "data": {
      "text/plain": [
       "<5572x8713 sparse matrix of type '<class 'numpy.int64'>'\n",
       "\twith 74169 stored elements in Compressed Sparse Row format>"
      ]
     },
     "execution_count": 18,
     "metadata": {},
     "output_type": "execute_result"
    }
   ],
   "source": [
    "counts"
   ]
  },
  {
   "cell_type": "code",
   "execution_count": 19,
   "metadata": {
    "scrolled": true
   },
   "outputs": [
    {
     "data": {
      "text/plain": [
       "(1, 8713)"
      ]
     },
     "execution_count": 19,
     "metadata": {},
     "output_type": "execute_result"
    }
   ],
   "source": [
    "counts[0].todense().shape"
   ]
  },
  {
   "cell_type": "code",
   "execution_count": 20,
   "metadata": {},
   "outputs": [
    {
     "name": "stdout",
     "output_type": "stream",
     "text": [
      "[0, 0, 0, 0, 0, 0, 0, 0, 0, 0, 0, 0, 0, 0, 0, 0, 0, 0, 0, 0, 0, 0, 0, 0, 0, 0, 0, 0, 0, 0, 0, 0, 0, 0, 0, 0, 0, 0, 0, 0, 0, 0, 0, 0, 0, 0, 0, 0, 0, 0, 0, 0, 0, 0, 0, 0, 0, 0, 0, 0, 0, 0, 0, 0, 0, 0, 0, 0, 0, 0, 0, 0, 0, 0, 0, 0, 0, 0, 0, 0, 0, 0, 0, 0, 0, 0, 0, 0, 0, 0, 0, 0, 0, 0, 0, 0, 0, 0, 0, 0, 0, 0, 0, 0, 0, 0, 0, 0, 0, 0, 0, 0, 0, 0, 0, 0, 0, 0, 0, 0, 0, 0, 0, 0, 0, 0, 0, 0, 0, 0, 0, 0, 0, 0, 0, 0, 0, 0, 0, 0, 0, 0, 0, 0, 0, 0, 0, 0, 0, 0, 0, 0, 0, 0, 0, 0, 0, 0, 0, 0, 0, 0, 0, 0, 0, 0, 0, 0, 0, 0, 0, 0, 0, 0, 0, 0, 0, 0, 0, 0, 0, 0, 0, 0, 0, 0, 0, 0, 0, 0, 0, 0, 0, 0, 0, 0, 0, 0, 0, 0, 0, 0, 0, 0, 0, 0, 0, 0, 0, 0, 0, 0, 0, 0, 0, 0, 0, 0, 0, 0, 0, 0, 0, 0, 0, 0, 0, 0, 0, 0, 0, 0, 0, 0, 0, 0, 0, 0, 0, 0, 0, 0, 0, 0, 0, 0, 0, 0, 0, 0, 0, 0, 0, 0, 0, 0, 0, 0, 0, 0, 0, 0, 0, 0, 0, 0, 0, 0, 0, 0, 0, 0, 0, 0, 0, 0, 0, 0, 0, 0, 0, 0, 0, 0, 0, 0, 0, 0, 0, 0, 0, 0, 0, 0, 0, 0, 0, 0, 0, 0, 0, 0, 0, 0, 0, 0, 0, 0, 0, 0, 0, 0, 0, 0, 0, 0, 0, 0, 0, 0, 0, 0, 0, 0, 0, 0, 0, 0, 0, 0, 0, 0, 0, 0, 0, 0, 0, 0, 0, 0, 0, 0, 0, 0, 0, 0, 0, 0, 0, 0, 0, 0, 0, 0, 0, 0, 0, 0, 0, 0, 0, 0, 0, 0, 0, 0, 0, 0, 0, 0, 0, 0, 0, 0, 0, 0, 0, 0, 0, 0, 0, 0, 0, 0, 0, 0, 0, 0, 0, 0, 0, 0, 0, 0, 0, 0, 0, 0, 0, 0, 0, 0, 0, 0, 0, 0, 0, 0, 0, 0, 0, 0, 0, 0, 0, 0, 0, 0, 0, 0, 0, 0, 0, 0, 0, 0, 0, 0, 0, 0, 0, 0, 0, 0, 0, 0, 0, 0, 0, 0, 0, 0, 0, 0, 0, 0, 0, 0, 0, 0, 0, 0, 0, 0, 0, 0, 0, 0, 0, 0, 0, 0, 0, 0, 0, 0, 0, 0, 0, 0, 0, 0, 0, 0, 0, 0, 0, 0, 0, 0, 0, 0, 0, 0, 0, 0, 0, 0, 0, 0, 0, 0, 0, 0, 0, 0, 0, 0, 0, 0, 0, 0, 0, 0, 0, 0, 0, 0, 0, 0, 0, 0, 0, 0, 0, 0, 0, 0, 0, 0, 0, 0, 0, 0, 0, 0, 0, 0, 0, 0, 0, 0, 0, 0, 0, 0, 0, 0, 0, 0, 0, 0, 0, 0, 0, 0, 0, 0, 0, 0, 0, 0, 0, 0, 0, 0, 0, 0, 0, 0, 0, 0, 0, 0, 0, 0, 0, 0, 0, 0, 0, 0, 0, 0, 0, 0, 0, 0, 0, 0, 0, 0, 0, 0, 0, 0, 0, 0, 0, 0, 0, 0, 0, 0, 0, 0, 0, 0, 0, 0, 0, 0, 0, 0, 0, 0, 0, 0, 0, 0, 0, 0, 0, 0, 0, 0, 0, 0, 0, 0, 0, 0, 0, 0, 0, 0, 0, 0, 0, 0, 0, 0, 0, 0, 0, 0, 0, 0, 0, 0, 0, 0, 0, 0, 0, 0, 0, 0, 0, 0, 0, 0, 0, 0, 0, 0, 0, 0, 0, 0, 0, 0, 0, 0, 0, 0, 0, 0, 0, 0, 0, 0, 0, 0, 0, 0, 0, 0, 0, 0, 0, 0, 0, 0, 0, 0, 0, 0, 0, 0, 0, 0, 0, 0, 0, 0, 0, 0, 0, 0, 0, 0, 0, 0, 0, 0, 0, 0, 0, 0, 0, 0, 0, 0, 0, 0, 0, 0, 0, 0, 0, 0, 0, 0, 0, 0, 0, 0, 0, 0, 0, 0, 0, 0, 0, 0, 0, 0, 0, 0, 0, 0, 0, 0, 0, 0, 0, 0, 0, 0, 0, 0, 0, 0, 0, 0, 0, 0, 0, 0, 0, 0, 0, 0, 0, 0, 0, 0, 0, 0, 0, 0, 0, 0, 0, 0, 0, 0, 0, 0, 0, 0, 0, 0, 0, 0, 0, 0, 0, 0, 0, 0, 0, 0, 0, 0, 0, 0, 0, 0, 0, 0, 0, 0, 0, 0, 0, 0, 0, 0, 0, 0, 0, 0, 0, 0, 0, 0, 0, 0, 0, 0, 0, 0, 0, 0, 0, 0, 0, 0, 0, 0, 0, 0, 0, 0, 0, 0, 0, 0, 0, 0, 0, 0, 0, 0, 0, 0, 0, 0, 0, 0, 0, 0, 0, 0, 0, 0, 0, 0, 0, 0, 0, 0, 0, 0, 0, 0, 0, 0, 0, 0, 0, 0, 0, 0, 0, 0, 0, 0, 0, 0, 0, 0, 0, 0, 0, 0, 0, 0, 0, 0, 0, 0, 0, 0, 0, 0, 0, 0, 0, 0, 0, 0, 0, 0, 0, 0, 0, 0, 0, 0, 0, 0, 0, 0, 0, 0, 0, 0, 0, 0, 0, 0, 0, 0, 0, 0, 0, 0, 0, 0, 0, 0, 0, 0, 0, 0, 0, 0, 0, 0, 0, 0, 0, 0, 0, 0, 0, 0, 0, 0, 0, 0, 0, 0, 0, 0, 0, 0, 0, 0, 0, 0, 0, 0, 0, 0, 0, 0, 0, 0, 0, 0, 0, 0, 0, 0, 0, 0, 0, 0, 0, 0, 0, 0, 0, 0, 0, 0, 0, 0, 0, 0, 0, 0, 0, 0, 0, 0, 0, 0, 0, 0, 0, 0, 0, 0, 0, 0, 0, 0, 0, 0, 0, 0, 0, 0, 0, 0, 0, 0, 0, 0, 0, 0, 0, 0, 0, 0, 0, 0, 0, 0, 0, 0, 0, 0, 0, 0, 0, 0, 0, 0, 0, 0, 0, 0, 0, 0, 0, 0, 0, 0, 0, 0, 0, 0, 0, 0, 0, 0, 0, 0, 0, 0, 0, 0, 0, 0, 0, 0, 0, 0, 0, 0, 0, 0, 0, 0, 0, 0, 1, 0, 0, 0, 0, 0, 0, 0, 0, 0, 0, 0, 0, 0, 0, 0, 0, 0, 0, 0, 0, 0, 0, 0, 0, 0, 0, 0, 0, 0, 0, 0, 0, 0, 0, 0, 0, 0, 0, 0, 0, 0, 0, 0, 0, 0, 0, 0, 0, 0, 0, 0, 0, 0, 0, 0, 0, 0, 0, 0, 0, 0, 0, 0, 0, 0, 0, 0, 0, 0, 0, 0, 0, 0, 0, 0, 0, 0, 0, 0, 0, 0, 0, 0, 0, 0, 0, 0, 0, 0, 0, 0, 0, 0, 0, 0, 0, 0, 0, 0, 0, 0, 0, 0, 0, 0, 0, 0, 0, 0, 0, 0, 0, 0, 0, 0, 0, 0, 0, 0, 0, 0, 0, 0, 0, 0, 0, 0, 0, 0, 0, 0, 0, 0, 0, 0, 0, 0, 0, 0, 0, 0, 0, 0, 0, 0, 0, 0, 0, 0, 0, 0, 0, 0, 0, 0, 0, 0, 0, 0, 0, 0, 0, 0, 0, 0, 0, 0, 0, 0, 0, 0, 0, 0, 0, 0, 0, 0, 0, 0, 0, 0, 0, 0, 0, 0, 0, 0, 0, 0, 0, 0, 0, 0, 0, 0, 0, 0, 0, 0, 0, 0, 0, 0, 0, 0, 0, 0, 0, 0, 0, 0, 0, 0, 0, 0, 0, 0, 0, 0, 0, 0, 0, 0, 0, 0, 0, 0, 0, 0, 0, 0, 0, 0, 1, 0, 0, 0, 0, 0, 0, 0, 0, 0, 0, 0, 0, 0, 0, 0, 0, 0, 0, 0, 0, 0, 0, 0, 0, 0, 0, 0, 0, 0, 0, 0, 0, 0, 0, 0, 0, 0, 0, 0, 0, 0, 0, 0, 0, 0, 0, 0, 0, 0, 0, 0, 0, 0, 0, 0, 0, 0, 0, 0, 0, 0, 0, 0, 0, 0, 0, 0, 0, 0, 0, 0, 0, 0, 0, 0, 0, 0, 0, 0, 0, 0, 0, 0, 0, 0, 0, 0, 0, 0, 0, 0, 0, 0, 0, 0, 0, 0, 0, 0, 0, 0, 0, 0, 0, 0, 0, 0, 0, 0, 0, 0, 0, 0, 0, 0, 0, 0, 0, 0, 0, 0, 0, 0, 0, 0, 0, 0, 0, 0, 0, 0, 0, 0, 0, 0, 0, 0, 0, 0, 0, 0, 0, 0, 0, 0, 0, 0, 0, 0, 0, 0, 0, 0, 0, 0, 0, 0, 0, 0, 0, 0, 0, 0, 0, 0, 0, 0, 0, 0, 0, 0, 0, 0, 0, 0, 0, 0, 0, 0, 0, 0, 0, 0, 0, 0, 0, 0, 0, 0, 0, 0, 0, 0, 0, 0, 0, 0, 0, 0, 0, 0, 0, 0, 0, 0, 0, 0, 0, 0, 0, 0, 0, 0, 0, 0, 0, 0, 0, 0, 0, 0, 0, 0, 0, 0, 0, 0, 0, 0, 0, 0, 0, 0, 0, 0, 0, 0, 0, 0, 0, 0, 0, 0, 0, 0, 0, 0, 0, 0, 0, 0, 0, 0, 0, 0, 0, 0, 0, 0, 0, 0, 0, 0, 0, 0, 0, 0, 0, 0, 0, 0, 0, 0, 0, 0, 0, 0, 0, 0, 0, 0, 0, 0, 0, 0, 0, 0, 0, 0, 0, 0, 0, 0, 0, 0, 0, 0, 0, 0, 0, 0, 0, 0, 0, 0, 0, 0, 0, 0, 0, 0, 0, 0, 0, 0, 0, 0, 0, 0, 0, 0, 0, 0, 0, 0, 0, 0, 0, 0, 0, 0, 0, 0, 0, 0, 0, 0, 0, 0, 0, 0, 0, 0, 0, 0, 0, 0, 0, 0, 0, 0, 0, 0, 0, 0, 0, 0, 0, 0, 0, 0, 0, 0, 0, 0, 0, 0, 0, 0, 0, 0, 0, 0, 0, 0, 0, 0, 0, 0, 0, 0, 0, 0, 0, 0, 0, 0, 0, 0, 0, 0, 0, 0, 0, 0, 0, 0, 0, 0, 0, 0, 0, 0, 0, 0, 0, 0, 0, 0, 0, 0, 0, 0, 0, 0, 0, 0, 0, 0, 0, 0, 0, 0, 0, 0, 0, 0, 0, 0, 0, 0, 0, 0, 0, 0, 0, 0, 0, 0, 0, 0, 0, 0, 0, 0, 0, 0, 0, 1, 0, 1, 0, 0, 0, 0, 0, 0, 0, 0, 0, 0, 0, 0, 0, 0, 0, 0, 0, 0, 0, 0, 0, 0, 0, 0, 0, 0, 0, 0, 0, 0, 0, 0, 0, 0, 0, 0, 0, 0, 0, 0, 0, 0, 0, 0, 0, 0, 0, 0, 0, 0, 0, 0, 0, 0, 0, 0, 0, 0, 0, 0, 0, 0, 0, 0, 0, 0, 0, 0, 0, 0, 0, 0, 0, 0, 0, 0, 0, 0, 0, 0, 0, 0, 0, 0, 0, 0, 0, 0, 0, 0, 0, 0, 0, 0, 0, 0, 0, 0, 0, 0, 0, 0, 0, 0, 0, 0, 0, 0, 0, 0, 0, 0, 0, 0, 0, 0, 0, 0, 0, 0, 0, 0, 0, 0, 0, 0, 0, 0, 0, 0, 0, 0, 0, 0, 0, 0, 0, 0, 0, 0, 0, 0, 0, 0, 0, 0, 0, 0, 0, 0, 0, 0, 0, 0, 0, 0, 0, 0, 0, 0, 0, 0, 0, 0, 0, 0, 0, 0, 0, 0, 0, 0, 0, 0, 0, 0, 0, 0, 0, 0, 0, 0, 0, 0, 0, 0, 0, 0, 0, 0, 0, 0, 0, 0, 0, 0, 0, 0, 0, 0, 0, 0, 0, 0, 0, 0, 0, 0, 0, 0, 0, 0, 0, 0, 0, 0, 0, 0, 0, 0, 0, 0, 0, 0, 0, 0, 0, 0, 0, 0, 0, 0, 0, 0, 0, 0, 0, 0, 0, 0, 0, 0, 0, 0, 0, 0, 0, 0, 0, 0, 0, 0, 0, 0, 0, 0, 0, 0, 0, 0, 0, 0, 0, 0, 0, 0, 0, 0, 0, 0, 0, 0, 0, 0, 0, 0, 0, 0, 0, 0, 0, 0, 0, 0, 0, 0, 0, 0, 0, 0, 0, 0, 0, 1, 0, 0, 0, 0, 0, 0, 0, 0, 0, 0, 0, 0, 0, 0, 0, 0, 0, 0, 0, 0, 0, 0, 0, 0, 0, 0, 0, 0, 0, 0, 0, 0, 0, 0, 0, 0, 0, 0, 0, 0, 0, 0, 0, 0, 0, 0, 0, 0, 0, 0, 0, 0, 0, 0, 0, 0, 0, 0, 0, 0, 0, 0, 0, 0, 0, 0, 0, 0, 0, 0, 0, 0, 0, 0, 0, 0, 0, 0, 0, 0, 0, 0, 0, 0, 0, 0, 0, 0, 0, 0, 0, 0, 0, 0, 0, 0, 0, 0, 0, 0, 0, 0, 0, 0, 0, 0, 0, 0, 0, 0, 0, 0, 0, 0, 0, 0, 0, 0, 0, 0, 0, 0, 0, 0, 0, 0, 0, 0, 0, 0, 0, 0, 0, 0, 0, 0, 0, 0, 0, 0, 0, 0, 0, 0, 0, 0, 0, 0, 0, 0, 0, 0, 0, 0, 0, 0, 0, 0, 0, 0, 0, 0, 0, 0, 0, 0, 0, 0, 0, 0, 0, 0, 0, 0, 0, 0, 0, 0, 0, 0, 0, 0, 0, 0, 0, 0, 0, 0, 0, 0, 0, 0, 0, 0, 0, 0, 0, 0, 0, 0, 0, 0, 0, 0, 0, 0, 0, 0, 0, 0, 0, 0, 0, 0, 0, 0, 0, 0, 0, 0, 0, 0, 0, 0, 0, 0, 0, 0, 0, 0, 0, 0, 0, 0, 0, 0, 0, 0, 0, 0, 0, 0, 0, 0, 0, 0, 0, 0, 0, 0, 0, 0, 0, 0, 0, 0, 0, 0, 0, 0, 0, 0, 0, 0, 0, 0, 0, 0, 0, 0, 0, 0, 0, 0, 0, 0, 1, 0, 0, 0, 0, 0, 0, 0, 0, 0, 0, 0, 0, 0, 0, 0, 0, 0, 0, 0, 0, 0, 0, 0, 0, 0, 0, 0, 0, 0, 0, 0, 0, 0, 0, 0, 0, 0, 0, 0, 0, 0, 0, 0, 0, 0, 0, 0, 0, 0, 0, 0, 0, 0, 0, 0, 0, 0, 0, 0, 0, 0, 0, 0, 0, 0, 0, 0, 0, 0, 0, 0, 0, 0, 0, 0, 0, 0, 0, 0, 0, 0, 0, 0, 0, 0, 0, 0, 0, 0, 0, 0, 0, 0, 0, 0, 0, 0, 0, 0, 0, 0, 0, 0, 0, 0, 0, 0, 0, 0, 0, 0, 0, 0, 0, 0, 0, 0, 0, 0, 0, 0, 0, 0, 0, 0, 0, 0, 0, 0, 0, 0, 0, 0, 0, 0, 0, 0, 0, 0, 0, 0, 0, 0, 0, 0, 0, 0, 0, 0, 0, 0, 0, 0, 0, 0, 0, 0, 0, 0, 0, 0, 0, 0, 0, 0, 0, 0, 0, 0, 0, 0, 0, 0, 0, 0, 0, 0, 0, 0, 0, 0, 0, 0, 0, 0, 0, 0, 0, 0, 0, 0, 0, 0, 0, 0, 0, 0, 0, 0, 0, 0, 0, 0, 0, 0, 0, 0, 0, 0, 0, 0, 0, 0, 0, 0, 0, 0, 0, 0, 0, 0, 0, 0, 0, 0, 0, 0, 0, 0, 0, 0, 0, 0, 0, 0, 0, 0, 0, 0, 0, 0, 0, 0, 0, 0, 0, 0, 0, 0, 0, 0, 0, 0, 0, 0, 0, 0, 0, 0, 0, 0, 0, 0, 0, 0, 0, 0, 0, 0, 0, 0, 0, 0, 0, 0, 0, 0, 0, 0, 0, 0, 0, 0, 0, 0, 0, 0, 0, 0, 0, 0, 0, 0, 0, 0, 0, 0, 0, 0, 0, 0, 0, 0, 0, 0, 0, 0, 0, 0, 0, 0, 0, 0, 0, 0, 0, 0, 0, 0, 0, 0, 0, 0, 0, 0, 0, 0, 0, 0, 0, 0, 0, 0, 0, 0, 0, 0, 0, 0, 0, 0, 0, 0, 0, 0, 0, 0, 0, 0, 0, 0, 0, 0, 0, 0, 0, 0, 0, 0, 0, 0, 0, 0, 0, 0, 0, 0, 0, 0, 0, 0, 0, 0, 0, 0, 0, 0, 0, 0, 0, 0, 0, 0, 0, 0, 0, 0, 0, 0, 0, 0, 0, 0, 0, 0, 0, 0, 0, 0, 0, 0, 0, 0, 0, 0, 0, 0, 0, 0, 0, 0, 0, 0, 0, 0, 0, 0, 0, 0, 0, 0, 0, 0, 0, 0, 0, 0, 0, 0, 0, 0, 0, 0, 0, 0, 0, 0, 0, 0, 0, 0, 0, 0, 0, 0, 0, 0, 0, 0, 0, 0, 0, 0, 0, 0, 0, 0, 0, 0, 0, 0, 0, 0, 0, 0, 0, 0, 0, 0, 0, 0, 0, 0, 0, 0, 0, 0, 0, 0, 0, 0, 0, 0, 0, 0, 0, 0, 0, 0, 0, 0, 0, 0, 0, 0, 0, 0, 0, 0, 0, 0, 0, 0, 0, 0, 0, 0, 0, 0, 0, 0, 0, 0, 0, 0, 0, 0, 0, 0, 0, 0, 0, 0, 0, 0, 0, 0, 0, 0, 0, 0, 0, 0, 0, 0, 0, 0, 0, 0, 0, 0, 0, 0, 0, 0, 0, 0, 0, 0, 0, 0, 0, 0, 0, 0, 0, 0, 0, 0, 0, 0, 0, 0, 0, 0, 0, 0, 0, 0, 0, 0, 0, 0, 0, 0, 0, 0, 0, 0, 0, 0, 0, 0, 0, 0, 0, 0, 0, 0, 0, 0, 0, 0, 0, 0, 0, 0, 0, 0, 0, 0, 0, 0, 0, 0, 0, 0, 0, 0, 0, 0, 0, 0, 0, 0, 0, 0, 0, 0, 0, 0, 0, 0, 0, 0, 0, 0, 0, 0, 0, 0, 0, 0, 0, 0, 0, 0, 0, 0, 0, 0, 0, 0, 0, 0, 0, 0, 0, 0, 0, 0, 0, 0, 0, 0, 0, 0, 0, 0, 0, 0, 0, 0, 0, 0, 0, 0, 0, 0, 0, 0, 0, 0, 0, 0, 0, 0, 0, 0, 0, 0, 0, 0, 0, 0, 0, 0, 0, 0, 0, 0, 0, 0, 0, 0, 0, 0, 0, 0, 0, 0, 0, 0, 0, 0, 0, 0, 0, 0, 0, 0, 0, 0, 0, 0, 0, 0, 0, 0, 0, 0, 0, 0, 0, 0, 0, 0, 0, 0, 0, 0, 0, 0, 0, 0, 0, 0, 0, 0, 0, 0, 0, 0, 0, 0, 0, 0, 0, 0, 0, 0, 0, 0, 0, 0, 0, 0, 0, 0, 0, 0, 0, 0, 0, 0, 0, 0, 0, 0, 0, 0, 0, 0, 0, 0, 0, 0, 0, 0, 0, 0, 0, 0, 0, 0, 0, 0, 0, 0, 0, 0, 0, 0, 0, 0, 0, 0, 0, 0, 0, 0, 0, 0, 0, 0, 0, 0, 0, 0, 0, 0, 0, 0, 0, 0, 0, 0, 0, 0, 0, 0, 0, 0, 0, 0, 0, 0, 0, 0, 0, 0, 0, 0, 0, 0, 0, 0, 0, 0, 0, 0, 0, 0, 0, 0, 0, 0, 0, 0, 0, 0, 0, 0, 0, 0, 0, 0, 0, 0, 0, 0, 0, 0, 0, 0, 0, 0, 0, 0, 0, 0, 0, 0, 0, 0, 0, 0, 0, 0, 0, 0, 0, 0, 0, 0, 0, 0, 0, 0, 0, 0, 0, 0, 0, 0, 0, 0, 0, 0, 0, 0, 0, 0, 0, 0, 0, 0, 0, 0, 0, 0, 0, 0, 0, 0, 0, 0, 0, 0, 0, 0, 0, 0, 0, 0, 0, 0, 0, 0, 0, 0, 0, 0, 0, 0, 0, 0, 0, 0, 0, 0, 0, 0, 0, 0, 0, 0, 0, 0, 0, 0, 0, 0, 0, 0, 0, 0, 0, 0, 0, 0, 0, 0, 0, 0, 0, 0, 0, 0, 0, 0, 0, 0, 0, 0, 0, 0, 0, 0, 0, 0, 0, 0, 0, 0, 0, 0, 0, 0, 0, 0, 0, 0, 0, 0, 0, 0, 0, 0, 0, 0, 0, 0, 0, 0, 0, 0, 0, 0, 0, 0, 0, 0, 0, 0, 0, 0, 0, 0, 0, 0, 0, 0, 0, 0, 0, 0, 0, 0, 0, 0, 0, 0, 0, 0, 0, 0, 0, 0, 0, 0, 0, 0, 0, 0, 0, 0, 0, 0, 0, 0, 0, 0, 0, 0, 0, 0, 0, 0, 0, 0, 0, 0, 0, 0, 0, 0, 0, 0, 0, 0, 0, 0, 0, 0, 0, 0, 0, 0, 0, 0, 0, 0, 0, 0, 0, 0, 0, 0, 0, 0, 0, 0, 0, 0, 0, 0, 0, 0, 0, 0, 0, 0, 0, 0, 0, 0, 0, 0, 0, 0, 0, 0, 0, 0, 0, 0, 0, 0, 0, 0, 0, 0, 0, 0, 0, 0, 0, 0, 0, 0, 0, 0, 0, 0, 0, 0, 0, 0, 0, 0, 0, 0, 0, 0, 0, 0, 0, 0, 0, 0, 0, 0, 0, 0, 0, 0, 0, 0, 0, 0, 0, 0, 0, 0, 0, 0, 0, 0, 0, 0, 0, 0, 0, 0, 0, 0, 0, 0, 0, 0, 0, 0, 0, 0, 0, 0, 0, 0, 0, 0, 0, 0, 0, 0, 0, 0, 0, 0, 0, 0, 0, 0, 0, 0, 0, 0, 0, 0, 0, 0, 0, 0, 0, 0, 0, 0, 0, 0, 0, 0, 0, 0, 0, 0, 0, 0, 0, 0, 0, 0, 0, 1, 0, 0, 0, 0, 0, 0, 0, 0, 0, 0, 0, 0, 0, 0, 0, 0, 0, 0, 0, 0, 0, 0, 0, 0, 0, 0, 0, 0, 0, 0, 0, 0, 0, 0, 0, 0, 0, 0, 0, 0, 0, 0, 0, 1, 0, 0, 0, 0, 0, 0, 0, 0, 0, 0, 0, 0, 0, 0, 0, 0, 0, 0, 0, 0, 0, 0, 0, 0, 0, 0, 0, 0, 0, 0, 0, 0, 0, 0, 0, 0, 0, 0, 0, 1, 0, 0, 0, 0, 0, 0, 0, 0, 0, 0, 0, 0, 0, 0, 0, 0, 0, 0, 0, 0, 0, 0, 0, 0, 0, 0, 0, 0, 0, 0, 0, 0, 0, 0, 0, 0, 0, 0, 0, 0, 0, 0, 0, 0, 0, 0, 0, 0, 0, 0, 0, 0, 0, 0, 0, 0, 0, 0, 0, 0, 0, 0, 0, 0, 0, 0, 0, 0, 0, 0, 0, 0, 0, 0, 0, 0, 0, 0, 0, 0, 0, 0, 0, 0, 0, 0, 0, 0, 0, 0, 0, 0, 0, 0, 0, 0, 0, 0, 0, 0, 0, 0, 0, 0, 0, 0, 0, 0, 0, 0, 0, 0, 0, 0, 0, 0, 0, 0, 0, 0, 0, 0, 0, 0, 0, 0, 0, 0, 0, 0, 0, 0, 0, 0, 0, 0, 0, 0, 0, 0, 0, 0, 0, 0, 0, 0, 0, 0, 0, 0, 0, 0, 0, 0, 0, 0, 0, 0, 0, 0, 0, 0, 0, 0, 0, 0, 0, 0, 0, 0, 0, 0, 0, 0, 0, 0, 0, 0, 0, 0, 0, 0, 0, 0, 0, 0, 0, 0, 0, 0, 0, 0, 0, 0, 0, 0, 0, 0, 0, 0, 0, 0, 0, 0, 0, 0, 0, 0, 0, 0, 0, 0, 0, 0, 0, 0, 0, 0, 0, 0, 0, 0, 0, 0, 0, 0, 0, 0, 0, 0, 0, 0, 0, 0, 0, 0, 0, 0, 0, 0, 0, 0, 0, 0, 0, 0, 0, 0, 0, 0, 0, 0, 0, 0, 0, 0, 0, 0, 0, 0, 0, 0, 0, 0, 0, 0, 0, 0, 0, 0, 0, 0, 0, 0, 0, 0, 0, 0, 0, 0, 0, 0, 0, 0, 0, 0, 0, 0, 0, 0, 0, 0, 0, 0, 0, 0, 0, 0, 0, 0, 0, 0, 0, 0, 0, 0, 0, 0, 0, 0, 0, 0, 0, 0, 0, 0, 0, 0, 0, 0, 0, 0, 0, 0, 0, 0, 0, 0, 0, 0, 0, 0, 0, 0, 0, 0, 0, 0, 0, 0, 0, 0, 0, 0, 0, 0, 0, 0, 0, 0, 0, 0, 0, 0, 0, 0, 0, 0, 0, 0, 0, 0, 0, 0, 0, 0, 0, 0, 0, 0, 0, 0, 0, 0, 0, 0, 0, 0, 0, 0, 0, 0, 0, 0, 0, 0, 0, 0, 0, 0, 0, 0, 0, 0, 0, 0, 0, 0, 0, 0, 0, 0, 0, 0, 0, 0, 0, 0, 0, 0, 0, 0, 0, 0, 0, 0, 0, 0, 0, 0, 0, 0, 0, 0, 0, 0, 0, 0, 0, 0, 0, 0, 0, 0, 0, 0, 0, 0, 0, 0, 0, 0, 0, 0, 0, 0, 0, 0, 0, 0, 0, 0, 0, 0, 0, 0, 0, 0, 1, 0, 0, 0, 0, 0, 0, 0, 0, 0, 0, 0, 0, 0, 0, 0, 0, 0, 0, 0, 0, 0, 0, 0, 0, 0, 0, 0, 0, 0, 0, 0, 0, 0, 0, 0, 0, 0, 0, 0, 0, 0, 0, 0, 0, 0, 0, 0, 0, 0, 0, 0, 0, 0, 0, 0, 0, 0, 0, 0, 0, 0, 0, 0, 0, 0, 0, 0, 0, 0, 0, 0, 0, 0, 0, 0, 0, 0, 0, 0, 0, 0, 0, 0, 0, 0, 0, 0, 0, 0, 0, 0, 0, 0, 0, 0, 0, 0, 0, 0, 0, 0, 0, 0, 0, 0, 0, 0, 0, 0, 0, 0, 0, 0, 0, 0, 0, 0, 0, 0, 0, 0, 0, 0, 0, 0, 0, 0, 0, 0, 0, 0, 0, 0, 0, 0, 0, 0, 0, 0, 0, 0, 0, 0, 0, 0, 0, 0, 0, 0, 0, 0, 0, 0, 0, 0, 0, 0, 0, 0, 0, 0, 0, 0, 0, 0, 0, 0, 0, 0, 0, 0, 0, 0, 0, 0, 0, 0, 0, 0, 0, 0, 0, 0, 0, 0, 0, 0, 0, 0, 0, 0, 0, 0, 0, 0, 0, 0, 0, 0, 0, 0, 0, 0, 0, 0, 0, 0, 0, 0, 0, 0, 0, 0, 0, 0, 0, 0, 0, 0, 0, 0, 0, 0, 0, 0, 0, 0, 0, 0, 0, 0, 0, 0, 0, 0, 0, 0, 0, 0, 0, 0, 0, 0, 0, 0, 0, 0, 0, 0, 0, 0, 0, 0, 0, 0, 0, 0, 0, 0, 1, 0, 0, 0, 0, 0, 0, 0, 0, 0, 0, 0, 0, 0, 0, 0, 0, 0, 0, 0, 0, 0, 0, 0, 0, 0, 0, 0, 0, 0, 0, 0, 0, 0, 0, 0, 0, 0, 0, 0, 0, 0, 0, 0, 0, 0, 0, 0, 0, 0, 0, 0, 0, 0, 0, 0, 0, 0, 0, 0, 0, 0, 0, 0, 0, 0, 0, 0, 0, 0, 0, 0, 0, 0, 0, 0, 0, 0, 0, 0, 0, 0, 0, 0, 0, 0, 0, 0, 0, 0, 0, 0, 0, 0, 0, 0, 0, 0, 0, 0, 0, 0, 0, 0, 0, 0, 0, 0, 0, 0, 0, 0, 0, 0, 0, 0, 0, 0, 0, 0, 0, 0, 0, 0, 0, 0, 0, 1, 0, 0, 0, 0, 0, 0, 0, 0, 0, 0, 0, 0, 0, 0, 0, 0, 0, 0, 0, 0, 0, 0, 0, 0, 0, 0, 0, 0, 0, 0, 0, 0, 0, 0, 0, 0, 0, 0, 0, 0, 0, 0, 0, 0, 0, 0, 0, 0, 0, 0, 0, 0, 0, 0, 0, 0, 0, 0, 0, 0, 0, 0, 0, 0, 0, 0, 0, 0, 0, 0, 0, 0, 0, 0, 0, 0, 0, 0, 0, 0, 0, 0, 0, 0, 0, 0, 0, 0, 0, 0, 0, 0, 0, 0, 0, 0, 0, 0, 0, 0, 0, 0, 0, 0, 0, 0, 0, 0, 0, 0, 0, 0, 0, 0, 0, 0, 0, 0, 0, 0, 0, 0, 0, 0, 0, 0, 0, 0, 0, 0, 0, 0, 0, 0, 0, 0, 0, 0, 0, 0, 0, 0, 0, 0, 0, 0, 0, 0, 0, 0, 0, 0, 0, 0, 0, 0, 0, 0, 0, 0, 0, 0, 0, 0, 0, 0, 0, 0, 0, 0, 0, 0, 0, 0, 0, 0, 0, 0, 0, 0, 0, 0, 0, 0, 0, 0, 0, 0, 0, 0, 0, 0, 0, 0, 0, 0, 0, 0, 0, 0, 0, 0, 0, 0, 0, 0, 0, 0, 0, 0, 0, 0, 0, 0, 0, 0, 0, 0, 0, 0, 0, 0, 0, 0, 0, 0, 0, 0, 0, 0, 0, 0, 0, 0, 0, 0, 0, 0, 0, 0, 0, 0, 0, 0, 0, 0, 0, 0, 0, 0, 0, 0, 0, 0, 0, 0, 0, 0, 0, 0, 0, 0, 0, 0, 0, 0, 0, 0, 0, 0, 0, 0, 0, 0, 0, 0, 0, 0, 0, 0, 0, 0, 0, 0, 0, 0, 0, 0, 0, 0, 0, 0, 0, 0, 0, 0, 0, 0, 0, 0, 0, 0, 0, 0, 0, 0, 0, 0, 0, 0, 0, 0, 0, 0, 0, 0, 0, 0, 0, 0, 0, 0, 0, 0, 0, 0, 0, 0, 0, 0, 0, 0, 0, 0, 0, 0, 0, 0, 0, 0, 0, 0, 0, 0, 0, 0, 0, 0, 0, 0, 0, 0, 0, 0, 0, 0, 0, 0, 0, 0, 0, 0, 0, 0, 0, 0, 0, 0, 0, 0, 0, 0, 0, 0, 0, 0, 0, 0, 0, 0, 0, 0, 0, 0, 0, 0, 0, 0, 0, 0, 0, 0, 0, 0, 0, 0, 0, 0, 0, 0, 0, 0, 0, 0, 0, 0, 0, 0, 0, 0, 0, 0, 0, 0, 0, 0, 0, 0, 0, 0, 0, 0, 0, 0, 0, 0, 0, 0, 0, 0, 0, 0, 0, 0, 0, 0, 0, 0, 0, 0, 0, 0, 0, 0, 0, 0, 0, 0, 0, 0, 0, 0, 0, 0, 0, 0, 0, 0, 0, 0, 0, 0, 0, 0, 0, 0, 0, 0, 0, 0, 0, 0, 0, 0, 0, 0, 0, 0, 0, 0, 0, 0, 0, 0, 0, 0, 0, 0, 0, 0, 0, 0, 0, 0, 0, 0, 0, 0, 0, 0, 0, 0, 0, 0, 0, 0, 0, 0, 0, 0, 0, 0, 0, 0, 0, 0, 0, 0, 0, 0, 0, 0, 0, 0, 0, 0, 0, 0, 0, 0, 0, 0, 0, 0, 0, 0, 0, 0, 0, 0, 0, 0, 0, 0, 0, 0, 0, 0, 0, 0, 0, 0, 0, 0, 0, 0, 0, 0, 0, 0, 0, 0, 0, 0, 0, 0, 0, 0, 0, 0, 0, 0, 0, 0, 0, 0, 0, 0, 0, 0, 0, 0, 0, 0, 0, 0, 0, 0, 0, 0, 0, 0, 0, 0, 0, 0, 0, 0, 0, 0, 0, 0, 0, 0, 0, 0, 0, 0, 0, 0, 0, 0, 0, 0, 0, 0, 0, 0, 0, 0, 0, 0, 0, 0, 0, 0, 0, 0, 0, 0, 0, 0, 0, 0, 0, 0, 0, 0, 0, 0, 0, 0, 0, 0, 0, 0, 0, 0, 0, 0, 0, 0, 0, 0, 0, 0, 0, 0, 0, 0, 0, 0, 0, 0, 0, 0, 0, 0, 0, 0, 0, 0, 0, 0, 0, 0, 0, 0, 0, 0, 0, 0, 0, 0, 0, 0, 0, 0, 0, 0, 0, 0, 0, 0, 0, 0, 0, 0, 0, 0, 0, 0, 0, 0, 0, 0, 0, 0, 0, 0, 0, 0, 0, 0, 0, 0, 0, 0, 0, 0, 0, 0, 0, 0, 0, 0, 0, 0, 0, 0, 0, 0, 0, 0, 0, 0, 0, 0, 0, 0, 0, 0, 0, 0, 0, 0, 0, 0, 0, 0, 0, 0, 0, 0, 0, 0, 0, 0, 0, 0, 0, 0, 0, 0, 0, 0, 0, 0, 0, 0, 0, 0, 0, 0, 0, 0, 0, 0, 0, 0, 0, 0, 0, 0, 0, 0, 0, 0, 0, 0, 0, 0, 0, 0, 0, 0, 0, 0, 0, 0, 0, 0, 0, 0, 0, 0, 0, 0, 0, 0, 0, 0, 0, 0, 0, 0, 0, 0, 0, 0, 0, 0, 0, 0, 0, 0, 0, 0, 0, 0, 0, 0, 0, 0, 0, 0, 0, 0, 0, 0, 0, 0, 0, 0, 0, 0, 0, 0, 0, 0, 0, 0, 0, 0, 0, 0, 0, 0, 0, 0, 0, 0, 0, 0, 0, 0, 0, 0, 0, 0, 0, 0, 0, 0, 0, 0, 0, 0, 0, 0, 0, 0, 0, 0, 0, 0, 0, 0, 0, 0, 0, 0, 0, 0, 0, 0, 0, 0, 0, 0, 0, 0, 0, 0, 0, 0, 0, 0, 0, 0, 0, 0, 0, 0, 0, 0, 0, 0, 0, 0, 0, 0, 0, 0, 0, 0, 0, 0, 0, 0, 0, 0, 0, 0, 0, 0, 0, 0, 0, 0, 0, 0, 0, 0, 0, 0, 0, 0, 0, 0, 0, 0, 0, 0, 0, 0, 0, 0, 0, 0, 0, 0, 0, 0, 0, 0, 0, 0, 0, 0, 0, 0, 0, 0, 0, 0, 0, 0, 0, 0, 0, 0, 0, 0, 0, 0, 0, 0, 0, 0, 0, 0, 0, 0, 0, 0, 0, 0, 0, 0, 0, 0, 0, 0, 0, 0, 0, 0, 0, 0, 0, 0, 0, 0, 0, 0, 0, 0, 0, 0, 0, 0, 0, 0, 0, 0, 0, 0, 0, 0, 0, 0, 0, 0, 0, 0, 0, 0, 0, 0, 0, 0, 0, 0, 0, 0, 0, 0, 0, 0, 0, 0, 0, 0, 0, 0, 0, 0, 0, 0, 0, 0, 0, 0, 0, 0, 0, 0, 0, 1, 0, 0, 0, 0, 0, 0, 0, 0, 0, 0, 0, 0, 0, 0, 0, 0, 0, 0, 0, 0, 0, 0, 0, 0, 0, 0, 0, 0, 0, 0, 0, 0, 0, 0, 0, 0, 0, 0, 0, 0, 0, 0, 0, 0, 0, 0, 0, 0, 0, 0, 0, 0, 0, 0, 0, 0, 0, 0, 0, 0, 0, 0, 0, 0, 0, 0, 0, 0, 0, 0, 0, 0, 0, 0, 0, 0, 0, 0, 0, 0, 0, 0, 0, 0, 0, 0, 0, 0, 0, 0, 0, 0, 0, 0, 0, 0, 0, 0, 0, 0, 0, 0, 0, 0, 0, 0, 0, 0, 0, 0, 0, 0, 0, 0, 0, 0, 0, 0, 0, 0, 0, 0, 0, 0, 0, 0, 0, 0, 0, 0, 0, 0, 0, 0, 0, 0, 0, 0, 0, 0, 0, 0, 0, 0, 0, 0, 0, 0, 0, 0, 0, 0, 0, 0, 0, 0, 0, 0, 0, 0, 0, 0, 0, 0, 0, 0, 0, 0, 0, 0, 0, 0, 0, 0, 0, 0, 0, 0, 0, 0, 0, 0, 0, 0, 0, 0, 0, 0, 0, 0, 0, 0, 0, 0, 0, 0, 0, 0, 0, 0, 0, 0, 0, 0, 0, 0, 0, 0, 0, 0, 0, 0, 0, 0, 0, 0, 0, 0, 0, 0, 0, 0, 0, 0, 0, 0, 0, 0, 0, 0, 0, 0, 0, 0, 0, 0, 0, 0, 0, 0, 0, 0, 0, 0, 0, 0, 0, 0, 0, 0, 0, 0, 0, 0, 0, 0, 0, 0, 0, 0, 0, 0, 0, 0, 0, 0, 0, 0, 0, 0, 0, 0, 0, 0, 0, 0, 0, 0, 0, 0, 0, 0, 0, 0, 0, 0, 0, 0, 0, 0, 0, 0, 0, 0, 0, 0, 0, 0, 0, 0, 0, 0, 0, 0, 0, 0, 0, 0, 0, 0, 0, 0, 0, 0, 0, 0, 0, 0, 0, 0, 0, 0, 0, 0, 0, 0, 0, 0, 0, 0, 0, 0, 0, 0, 0, 0, 0, 0, 0, 0, 0, 0, 0, 0, 0, 0, 0, 0, 0, 0, 0, 0, 0, 0, 0, 0, 0, 0, 0, 0, 0, 0, 0, 0, 0, 0, 0, 0, 0, 0, 0, 0, 0, 0, 0, 0, 0, 0, 0, 0, 0, 0, 0, 0, 0, 0, 1, 0, 0, 0, 0, 0, 0, 0, 0, 0, 0, 0, 0, 0, 0, 0, 0, 0, 0, 0, 0, 0, 0, 0, 0, 0, 0, 0, 0, 0, 0, 0, 0, 0, 0, 0, 0, 0, 0, 0, 0, 0, 0, 0, 0, 0, 0, 0, 0, 0, 0, 0, 0, 0, 0, 0, 0, 0, 0, 0, 0, 0, 0, 0, 0, 0, 0, 0, 0, 0, 0, 0, 0, 0, 0, 0, 0, 0, 0, 0, 0, 0, 0, 0, 0, 0, 0, 0, 0, 0, 0, 0, 0, 0, 0, 0, 0, 0, 0, 0, 0, 0, 0, 0, 0, 0, 0, 0, 0, 0, 0, 0, 0, 0, 0, 0, 0, 0, 0, 0, 0, 0, 0, 0, 0, 0, 0, 0, 0, 0, 0, 0, 0, 0, 0, 0, 0, 0, 0, 0, 0, 0, 0, 0, 0, 0, 0, 0, 0, 0, 0, 0, 0, 0, 0, 0, 0, 0, 0, 0, 0, 0, 0, 0, 0, 0, 0, 0, 0, 0, 0, 0, 0, 0, 0, 0, 0, 0, 0, 0, 0, 0, 0, 0, 0, 0, 0, 0, 0, 0, 0, 0, 0, 0, 0, 0, 0, 0, 0, 0, 0, 0, 0, 0, 0, 0, 0, 0, 0, 0, 0, 0, 0, 0, 0, 0, 0, 0, 0, 0, 0, 0, 0, 0, 0, 0, 0, 0, 0, 0, 0, 0, 0, 0, 0, 0, 0, 0, 0, 0, 0, 0, 0, 0, 0, 0, 0, 0, 0, 0, 0, 0, 0, 0, 0, 0, 0, 0, 0, 0, 0, 0, 0, 0, 0, 0, 0, 0, 0, 0, 0, 0, 0, 0, 0, 0, 0, 0, 0, 0, 0, 0, 0, 0, 0, 0, 0, 0, 0, 0, 0, 0, 0, 0, 0, 0, 0, 0, 0, 0, 0, 0, 0, 0, 0, 0, 0, 0, 0, 0, 0, 0, 0, 0, 0, 0, 0, 0, 0, 0, 0, 0, 0, 0, 0, 0, 0, 0, 0, 0, 0, 0, 0, 0, 0, 0, 0, 0, 0, 0, 0, 0, 0, 0, 0, 0, 0, 0, 0, 0, 0, 0, 0, 0, 0, 0, 0, 0, 0, 0, 0, 0, 0, 0, 0, 0, 0, 0, 0, 0, 0, 0, 0, 0, 0, 0, 0, 0, 0, 0, 0, 0, 0, 0, 0, 0, 0, 0, 0, 0, 0, 0, 0, 0, 0, 0, 0, 0, 0, 0, 0, 0, 0, 0, 0, 0, 0, 0, 0, 0, 0, 0, 0, 0, 0, 0, 0, 0, 0, 0, 0, 0, 0, 0, 0, 0, 0, 0, 0, 0, 0, 0, 0, 0, 0, 0, 0, 0, 0, 0, 0, 0, 0, 0, 0, 0, 0, 0, 0, 0, 0, 0, 0, 0, 0, 0, 0, 0, 0, 0, 0, 0, 0, 0, 0, 0, 0, 0, 0, 0, 0, 0, 0, 0, 0, 0, 0, 0, 0, 0, 0, 0, 0, 0, 0, 0, 0, 0, 0, 0, 0, 0, 0, 0, 0, 0, 0, 0, 0, 0, 0, 0, 0, 0, 0, 0, 0, 0, 0, 0, 0, 0, 0, 0, 0, 0, 0, 0, 0, 0, 0, 0, 0, 0, 0, 0, 0, 0, 0, 0, 0, 0, 0, 0, 0, 0, 0, 0, 0, 0, 0, 0, 0, 0, 0, 0, 0, 0, 0, 0, 0, 0, 0, 0, 0, 0, 0, 0, 0, 0, 0, 0, 0, 0, 0, 0, 0, 0, 0, 0, 0, 0, 0, 0, 0, 0, 0, 0, 0, 0, 0, 0, 0, 0, 0, 0, 0, 0, 0, 0, 0, 0, 0, 0, 0, 0, 0, 0, 0, 0, 0, 0, 0, 0, 0, 0, 0, 0, 0, 0, 0, 0, 0, 0, 0, 0, 0, 0, 0, 0, 0, 0, 0, 0, 0, 0, 0, 0, 0, 0, 0, 0, 0, 0, 0, 0, 0, 0, 0, 0, 0, 0, 0, 0, 0, 0, 0, 0, 0, 0, 0, 0, 0, 0, 0, 0, 0, 0, 0, 0, 0, 0, 0, 0, 0, 0, 0, 0, 0, 0, 0, 0, 0, 0, 0, 0, 0, 0, 0, 0, 0, 0, 0, 0, 0, 0, 0, 0, 0, 0, 0, 0, 0, 0, 0, 0, 0, 0, 0, 0, 0, 0, 0, 0, 0, 0, 0, 0, 0, 0, 0, 0, 0, 0, 0, 0, 0, 0, 0, 0, 0, 0, 0, 0, 0, 0, 0, 0, 0, 0, 0, 0, 0, 0, 0, 0, 0, 0, 0, 0, 0, 0, 0, 0, 0, 0, 0, 0, 0, 0, 0, 0, 0, 0, 0, 0, 0, 0, 0, 0, 0, 0, 0, 0, 0, 0, 0, 0, 0, 0, 0, 0, 0, 0, 0, 0, 0, 0, 0, 0, 0, 0, 0, 0, 0, 0, 0, 0, 0, 0, 0, 0, 0, 0, 0, 0, 0, 0, 0, 0, 0, 0, 0, 0, 0, 0, 0, 0, 0, 0, 0, 0, 0, 0, 0, 0, 0, 0, 0, 0, 0, 0, 0, 0, 0, 0, 0, 0, 0, 0, 0, 0, 0, 0, 0, 0, 0, 0, 0, 0, 0, 0, 0, 0, 0, 0, 0, 0, 0, 0, 0, 0, 0, 0, 0, 0, 0, 0, 0, 0, 0, 0, 0, 0, 0, 0, 0, 0, 0, 0, 0, 0, 0, 0, 0, 0, 0, 0, 0, 0, 0, 0, 0, 0, 0, 0, 0, 0, 0, 0, 0, 0, 0, 0, 0, 0, 0, 0, 0, 0, 0, 0, 0, 0, 0, 0, 0, 0, 0, 0, 0, 0, 0, 0, 0, 0, 0, 0, 0, 0, 0, 0, 0, 0, 0, 0, 0, 0, 0, 0, 0, 0, 0, 0, 0, 0, 0, 0, 0, 0, 0, 0, 0, 0, 0, 0, 0, 0, 0, 0, 0, 0, 0, 0, 0, 0, 0, 0, 0, 0, 0, 0, 0, 0, 0, 0, 0, 0, 0, 0, 0, 0, 0, 0, 0, 0, 0, 0, 0, 0, 0, 0, 0, 0, 0, 0, 0, 0, 0, 0, 0, 0, 0, 0, 0, 0, 0, 0, 0, 0, 0, 0, 0, 0, 0, 0, 0, 0, 0, 0, 0, 0, 0, 0, 0, 0, 0, 0, 0, 0, 0, 0, 0, 0, 0, 0, 0, 0, 0, 0, 0, 0, 0, 0, 0, 0, 0, 0, 0, 0, 0, 0, 0, 0, 0, 0, 0, 0, 0, 0, 0, 0, 0, 0, 0, 0, 0, 0, 0, 0, 0, 0, 0, 0, 0, 0, 0, 0, 0, 0, 0, 0, 0, 0, 0, 0, 0, 0, 0, 0, 0, 0, 0, 0, 0, 0, 0, 0, 0, 0, 0, 0, 0, 0, 0, 0, 0, 0, 0, 0, 0, 0, 0, 0, 0, 0, 0, 0, 0, 0, 0, 0, 0, 0, 0, 0, 0, 0, 0, 0, 0, 0, 0, 0, 0, 0, 0, 0, 0, 0, 0, 0, 0, 0, 0, 0, 0, 0, 0, 0, 0, 0, 0, 0, 0, 0, 0, 0, 0, 0, 0, 0, 0, 0, 0, 0, 0, 0, 0, 0, 0, 0, 0, 0, 0, 0, 0, 0, 0, 0, 0, 0, 0, 0, 0, 0, 0, 0, 0, 0, 0, 0, 0, 0, 0, 0, 0, 0, 0, 0, 0, 0, 0, 0, 0, 0, 0, 0, 0, 0, 0, 0, 0, 0, 0, 0, 0, 0, 0, 0, 0, 0, 0, 0, 0, 0, 0, 0, 0, 0, 0, 0, 0, 0, 0, 0, 0, 0, 0, 0, 0, 0, 0, 0, 0, 0, 0, 0, 0, 0, 0, 0, 0, 0, 0, 0, 0, 0, 0, 0, 0, 0, 0, 0, 0, 0, 0, 0, 0, 0, 0, 0, 0, 0, 0, 0, 0, 0, 0, 0, 0, 0, 0, 0, 0, 0, 0, 0, 0, 0, 0, 0, 0, 0, 0, 0, 0, 0, 0, 0, 0, 0, 0, 0, 0, 0, 0, 0, 0, 0, 0, 0, 0, 0, 0, 0, 0, 0, 0, 0, 0, 0, 0, 0, 0, 0, 0, 0, 0, 0, 0, 0, 0, 0, 0, 0, 0, 0, 0, 0, 0, 0, 0, 0, 0, 0, 0, 0, 0, 0, 0, 0, 0, 0, 0, 0, 0, 0, 0, 0, 0, 0, 0, 0, 0, 0, 0, 0, 0, 0, 0, 0, 0, 0, 0, 0, 0, 0, 0, 0, 0, 0, 0, 0, 0, 0, 0, 0, 0, 0, 0, 0, 0, 0, 0, 0, 0, 0, 0, 0, 0, 0, 0, 0, 0, 0, 0, 0, 0, 0, 0, 0, 0, 0, 0, 0, 0, 0, 0, 0, 0, 0, 0, 0, 0, 0, 0, 0, 0, 0, 0, 0, 0, 0, 0, 0, 0, 0, 0, 0, 0, 0, 0, 0, 0, 0, 0, 0, 0, 0, 0, 0, 0, 0, 0, 0, 0, 0, 0, 0, 0, 0, 0, 0, 0, 0, 0, 0, 0, 0, 0, 0, 0, 0, 0, 0, 0, 0, 0, 0, 0, 0, 0, 0, 0, 0, 0, 0, 0, 0, 0, 0, 0, 0, 0, 0, 0, 0, 0, 0, 0, 0, 0, 0, 0, 0, 0, 0, 0, 0, 0, 0, 0, 0, 0, 0, 0, 0, 0, 0, 0, 0, 0, 0, 0, 0, 0, 0, 0, 0, 0, 0, 0, 0, 0, 0, 0, 0, 0, 0, 0, 0, 0, 0, 0, 0, 0, 0, 0, 0, 0, 0, 0, 0, 0, 0, 0, 0, 0, 0, 0, 0, 0, 0, 0, 0, 0, 0, 0, 0, 0, 0, 0, 0, 0, 0, 0, 0, 0, 0, 0, 0, 0, 0, 0, 0, 0, 0, 0, 0, 0, 0, 0, 0, 0, 0, 0, 0, 0, 0, 0, 0, 0, 0, 0, 0, 0, 0, 0, 0, 0, 0, 0, 0, 0, 0, 0, 0, 0, 0, 0, 0, 0, 0, 0, 0, 0, 0, 0, 0, 0, 0, 0, 0, 0, 0, 0, 0, 0, 0, 0, 0, 0, 0, 0, 0, 0, 0, 0, 0, 0, 0, 0, 0, 0, 0, 0, 0, 0, 0, 0, 0, 0, 0, 0, 0, 0, 0, 0, 0, 0, 0, 0, 0, 0, 0, 0, 0, 0, 0, 0, 0, 0, 0, 0, 0, 0, 0, 0, 0, 0, 0, 0, 0, 0, 0, 0, 0, 0, 0, 0, 0, 0, 0, 0, 0, 0, 0, 0, 0, 0, 0, 0, 0, 0, 0, 0, 0, 0, 0, 0, 0, 0, 0, 0, 0, 0, 0, 0, 0, 0, 0, 0, 0, 0, 0, 0, 0, 0, 0, 0, 0, 0, 0, 0, 0, 1, 0, 0, 0, 0, 0, 0, 0, 0, 0, 0, 0, 0, 0, 0, 0, 0, 0, 0, 0, 0, 0, 0, 0, 0, 0, 0, 0, 0, 0, 0, 0, 0, 0, 0, 0, 0, 0, 0, 0, 0, 0, 0, 0, 0, 0, 0, 0, 0, 0, 0, 0, 0, 0, 0, 0, 0, 0, 0, 0, 0, 0, 0, 0, 0, 0, 0, 0, 0, 0, 0, 0, 0, 0, 0, 0, 0, 0, 0, 0, 0, 0, 0, 0, 0, 0, 0, 0, 0, 0, 0, 0, 0, 0, 0, 0, 0, 0, 0, 0, 0, 0, 0, 0, 0, 0, 0, 0, 0, 0, 0, 0, 0, 0, 0, 0, 0, 0, 0, 0, 0, 0, 0, 0, 0, 0, 0, 0, 0, 0, 0, 0, 0, 0, 0, 0, 0, 0, 0, 0, 0, 0, 0, 0, 0, 0, 0, 0, 0, 0, 0, 0, 0, 0, 0, 0, 0, 0, 0, 0, 0, 0, 0, 0, 0, 0, 0, 0, 0, 0, 0, 0, 0, 0, 0, 0, 0, 0, 0, 0, 0, 0, 0, 0, 0, 0, 0, 0, 0, 0, 0, 0, 0, 0, 0, 0, 0, 0, 0, 0, 0, 0, 0, 0, 0, 0, 0, 0, 0, 0, 0, 0, 0, 0, 0, 0, 0, 0, 0, 0, 0, 0, 0, 0, 0, 0, 0, 0, 0, 0, 0, 0, 0, 0, 0, 0, 0, 0, 0, 0, 0, 0, 0, 0, 0, 0, 0, 0, 0, 0, 0, 0, 0, 0, 0, 0, 0, 0, 0, 0, 0, 0, 0, 0, 0, 0, 0, 0, 0, 0, 0, 0, 0, 0, 0, 0, 0, 0, 0, 0, 0, 0, 0, 0, 0, 0, 0, 0, 0, 0, 0, 0, 0, 0, 0, 0, 0, 0, 0, 0, 0, 0, 0, 0, 0, 0, 0, 0, 0, 0, 0, 0, 0, 0, 0, 0, 0, 0, 0, 0, 0, 0, 0, 0, 0, 0, 0, 0, 0, 0, 0, 0, 0, 0, 0, 0, 0, 0, 0, 0, 0, 0, 0, 0, 0, 0, 0, 0, 0, 0, 0, 0, 0, 0, 0, 0, 0, 0, 0, 0, 0, 0, 0, 0, 0, 0, 0, 0, 0, 0, 0, 0, 0, 0, 0, 0, 0, 0, 0, 0, 0, 0, 0, 0, 0, 0, 0, 0, 0, 0, 1, 0, 0, 0, 0, 0, 0, 0, 0, 0, 0, 0, 0, 0, 0, 0, 0, 0, 0, 0, 0, 0, 0, 0, 0, 0, 0, 0, 0, 0, 0, 0, 0, 0, 0, 0, 0, 0, 0, 0, 0, 0, 0, 0, 0, 0, 0, 0, 0, 0, 0, 0, 0, 0, 0, 0, 0, 0, 0, 0, 0, 0, 0, 0, 0, 0, 0, 0, 0, 0, 0, 0, 0, 0, 0, 0, 0, 0, 0, 0, 0, 0, 0, 0, 0, 0, 0, 0, 0, 0, 0, 0, 0, 0, 0, 0, 0, 0, 0, 0, 0, 0, 0, 0, 0, 0, 0, 0, 0, 0, 0, 0, 0, 0, 0, 0, 0, 0, 0, 0, 0, 0, 0, 0, 0, 0, 0, 0, 0, 0, 0, 0, 0, 0, 0, 0, 0, 0, 0, 0, 0, 0, 0, 0, 0, 0, 0, 0, 0, 0, 0, 0, 0, 0, 0, 0, 0, 0, 0, 0, 0, 0, 0, 0, 0, 0, 0, 0, 0, 0, 0, 0, 0, 0, 0, 0, 0, 0, 0, 0, 0, 0, 0, 0, 0, 0, 0, 0, 0, 0, 0, 0, 0, 0, 0, 0, 0, 0, 0, 0, 0, 0, 0, 0, 0, 0, 0, 0, 0, 0, 0, 0, 0, 0, 0, 0, 0, 0, 0, 0, 0, 0, 0, 0, 0, 0, 0, 0, 0, 0, 0, 0, 0, 0, 0, 0, 0, 0, 0, 0, 1, 0, 0, 0, 0, 0, 0, 0, 0, 0, 0, 0, 0, 0, 0, 0, 0, 0, 0, 0, 0, 0, 0, 0, 0, 0, 0, 0, 0, 0, 0, 0, 0, 0, 0, 0, 0, 0, 0, 0, 0, 0, 0, 0, 0, 0, 0, 0, 0, 0, 0, 0, 0, 0, 0, 0, 0, 0, 0, 0, 0, 0, 0, 0, 0, 0, 0, 0, 0, 0, 0, 0, 0, 0, 0, 0, 0, 0, 0, 0, 0, 0, 0, 0, 0, 0, 0, 0, 0, 0, 0, 0, 0, 0, 0, 0, 0, 0, 0, 0, 0, 0, 0, 0, 0, 0, 0, 0, 0, 0, 0, 0, 0, 0, 0, 0, 0, 0, 0, 0, 0, 0, 0, 0, 0, 0, 0, 0, 0, 0, 0, 0, 0, 0, 0, 0, 0, 0, 0, 0, 0, 0, 0, 0, 0, 0, 0, 0, 0, 0, 0, 0, 0, 0, 0, 0, 0, 0, 0, 0, 0, 0, 0, 0, 0, 0, 0, 0, 0, 0, 0, 0, 0, 0, 0, 0, 0, 0, 0, 0, 0, 0, 0, 0, 0, 0, 0, 0, 0, 0, 0, 0, 0, 0, 0, 0, 0, 0, 0, 0, 0, 0, 0, 0, 0, 0, 0, 0, 0, 0, 0, 0, 0, 0, 0, 0, 0, 0, 0, 0, 0, 0, 0, 0, 1, 0, 0, 0, 0, 0, 0, 0, 0, 0, 0, 0, 0, 0, 0, 0, 0, 0, 0, 0, 0, 0, 0, 0, 0, 0, 0, 0, 0, 0, 0, 0, 0, 0, 0, 0, 0, 0, 0, 0, 0, 0, 0, 0, 0, 0, 0, 0, 0, 0, 0, 0, 0, 0, 0, 0, 0, 0, 0, 0, 0, 0, 0, 0, 0, 0, 0, 0, 0, 0, 0, 0, 0, 0, 0, 0, 0, 0, 0, 0, 0, 0, 0, 0, 0, 0, 0, 0, 0, 0, 0, 0, 0, 0, 0, 0, 0, 0, 0, 0, 0, 0, 0, 0, 0, 0, 0, 0, 0, 0, 0, 0, 0, 0, 0, 0, 0, 0, 0, 0, 0, 0, 0, 0, 0, 0, 0, 0, 0, 0, 0, 0, 0, 0, 0, 0, 0, 0, 0, 0, 0, 0, 0, 0, 0, 0, 0, 0, 0, 0, 0, 0, 0, 0, 0, 0, 0, 0, 0, 0, 0, 0, 0, 0, 0]\n"
     ]
    }
   ],
   "source": [
    "for x in counts[0].toarray().tolist():\n",
    "    print(x)"
   ]
  },
  {
   "cell_type": "code",
   "execution_count": 21,
   "metadata": {},
   "outputs": [
    {
     "data": {
      "text/plain": [
       "{'relieved': 6401,\n",
       " 'walkabout': 8286,\n",
       " 'sleepy': 7007,\n",
       " 'bedroom': 1472,\n",
       " 'filth': 3218,\n",
       " 'polys': 5973,\n",
       " 'under': 8041,\n",
       " 'dis': 2649,\n",
       " 'fighting': 3204,\n",
       " 'ger': 3521,\n",
       " 'duo': 2818,\n",
       " 'ansr': 1121,\n",
       " 'burial': 1781,\n",
       " 'worse': 8555,\n",
       " '2wt': 483,\n",
       " 'den': 2539,\n",
       " '08712466669': 126,\n",
       " 'semiobscure': 6769,\n",
       " 'gurl': 3707,\n",
       " 'connected': 2232,\n",
       " 'buffet': 1765,\n",
       " 'listen': 4677,\n",
       " 'chgs': 2015,\n",
       " 'remind': 6414,\n",
       " 'rodds1': 6546,\n",
       " 'egg': 2880,\n",
       " 'something': 7099,\n",
       " 'dosomething': 2741,\n",
       " 'indian': 4139,\n",
       " 'recd': 6337,\n",
       " 'slippers': 7015,\n",
       " 'favorite': 3159,\n",
       " 'trade': 7888,\n",
       " 'deciding': 2496,\n",
       " 'community': 2176,\n",
       " 'ali': 1037,\n",
       " 'w1a': 8257,\n",
       " 'greatest': 3656,\n",
       " 'filthy': 3219,\n",
       " 'ing': 4155,\n",
       " 'pshew': 6176,\n",
       " 'blocked': 1587,\n",
       " 'minmobsmorelkpobox177hp51fl': 5063,\n",
       " 'plus': 5930,\n",
       " 'food': 3313,\n",
       " 'cedar': 1929,\n",
       " 'leh': 4599,\n",
       " 'gave': 3489,\n",
       " 'jurong': 4374,\n",
       " '2yrs': 487,\n",
       " 'hype': 4034,\n",
       " 'shanghai': 6832,\n",
       " 'sit': 6969,\n",
       " 'xam': 8602,\n",
       " 'pause': 5767,\n",
       " '3gbp': 528,\n",
       " 'cost': 2291,\n",
       " 'nuther': 5476,\n",
       " 'ashwini': 1243,\n",
       " 'vale': 8150,\n",
       " 'library': 4624,\n",
       " 'soc': 7075,\n",
       " 'invited': 4208,\n",
       " 'smashed': 7034,\n",
       " '0870': 78,\n",
       " 'rhythm': 6510,\n",
       " 'redeemed': 6365,\n",
       " 'jsut': 4360,\n",
       " 'sophas': 7122,\n",
       " 'difference': 2618,\n",
       " 'mahfuuz': 4868,\n",
       " 'star': 7255,\n",
       " 'santacalling': 6650,\n",
       " 'figuring': 3209,\n",
       " 'classic': 2078,\n",
       " '087018728737': 89,\n",
       " 'lor': 4747,\n",
       " 'cam': 1846,\n",
       " 'astne': 1267,\n",
       " 'charges': 1969,\n",
       " 'restaurant': 6479,\n",
       " 'shall': 6828,\n",
       " 'spare': 7156,\n",
       " 'frnt': 3411,\n",
       " 'stopcost': 7319,\n",
       " 'sao': 6651,\n",
       " 'swtheart': 7509,\n",
       " 'die': 2611,\n",
       " 'shortcode': 6889,\n",
       " 'arr': 1222,\n",
       " 'genius': 3511,\n",
       " 'uses': 8129,\n",
       " 'sk38xh': 6982,\n",
       " 'fletcher': 3268,\n",
       " 'absence': 874,\n",
       " 'misundrstud': 5094,\n",
       " 'needing': 5326,\n",
       " 'deals': 2483,\n",
       " 'mf': 5031,\n",
       " '69911': 687,\n",
       " 'result': 6486,\n",
       " '0quit': 296,\n",
       " 'cut': 2415,\n",
       " 'grumble': 3680,\n",
       " 'aiya': 1013,\n",
       " 'gobi': 3576,\n",
       " 'fainting': 3117,\n",
       " 'ponnungale': 5975,\n",
       " 'bslvyl': 1749,\n",
       " 'cardin': 1877,\n",
       " '8wp': 825,\n",
       " 'parade': 5721,\n",
       " 'accomodations': 897,\n",
       " '09064019788': 249,\n",
       " 'when': 8419,\n",
       " 'sk3': 6981,\n",
       " 'faith': 3119,\n",
       " 'piggy': 5877,\n",
       " '08715203652': 139,\n",
       " 'recovery': 6359,\n",
       " 'bedbut': 1469,\n",
       " 'pei': 5792,\n",
       " 'mnth': 5113,\n",
       " 'pharmacy': 5839,\n",
       " 'gauge': 3486,\n",
       " 'gm': 3565,\n",
       " 'norm': 5428,\n",
       " '7876150ppm': 720,\n",
       " 'forgets': 3332,\n",
       " 'paid': 5695,\n",
       " 'four': 3354,\n",
       " 'servs': 6797,\n",
       " 'dentists': 2546,\n",
       " 'lubly': 4797,\n",
       " 'form': 3339,\n",
       " 'urfeeling': 8108,\n",
       " '800': 732,\n",
       " 'armand': 1214,\n",
       " 'prestige': 6084,\n",
       " 'meh': 4994,\n",
       " 'wotz': 8561,\n",
       " '12hours': 333,\n",
       " 'part': 5736,\n",
       " 'sacrifice': 6617,\n",
       " 'dontmatter': 2731,\n",
       " 'stopsms': 7323,\n",
       " 'andros': 1102,\n",
       " 'aren': 1198,\n",
       " 'lrg': 4788,\n",
       " 'audiitions': 1298,\n",
       " 'henry': 3853,\n",
       " 'rocks': 6545,\n",
       " 'network': 5349,\n",
       " 'exam': 3047,\n",
       " 'waited': 8278,\n",
       " 'thinkthis': 7714,\n",
       " 'nokia': 5410,\n",
       " 'ibm': 4042,\n",
       " '09071517866': 278,\n",
       " 'iscoming': 4235,\n",
       " 'club4': 2108,\n",
       " 'forevr': 3329,\n",
       " 'ron': 6556,\n",
       " 'missin': 5084,\n",
       " 'heat': 3824,\n",
       " 'lesser': 4611,\n",
       " 'overheating': 5668,\n",
       " '08718725756': 159,\n",
       " 'holla': 3921,\n",
       " 'kudi': 4492,\n",
       " 'aletter': 1031,\n",
       " 'xmas': 8607,\n",
       " 'id': 4054,\n",
       " 'laden': 4510,\n",
       " 'ikea': 4076,\n",
       " 'netvision': 5348,\n",
       " 'swell': 7499,\n",
       " 'supreme': 7460,\n",
       " 'colour': 2154,\n",
       " 'came': 1848,\n",
       " 'esplanade': 2995,\n",
       " 'knew': 4468,\n",
       " 'formal': 3340,\n",
       " 'its': 4253,\n",
       " 'november': 5452,\n",
       " 'supplies': 7454,\n",
       " 'gamb': 3467,\n",
       " 'sun0819': 7436,\n",
       " 'subpoly': 7386,\n",
       " 'subscribe6gbp': 7390,\n",
       " 'champneys': 1954,\n",
       " 'haha': 3724,\n",
       " 'textcomp': 7649,\n",
       " 'pen': 5793,\n",
       " 'wiv': 8500,\n",
       " 'environment': 2968,\n",
       " 'hm': 3900,\n",
       " '5000': 618,\n",
       " 'kaitlyn': 4390,\n",
       " 'antha': 1129,\n",
       " 'bbd': 1435,\n",
       " 'nag': 5268,\n",
       " 'confidence': 2220,\n",
       " 'dubsack': 2804,\n",
       " 'youwanna': 8681,\n",
       " 'upto': 8103,\n",
       " 'somewhere': 7104,\n",
       " 'head': 3806,\n",
       " 'cs': 2371,\n",
       " 'associate': 1261,\n",
       " 'mentor': 5014,\n",
       " 'from': 3414,\n",
       " 'awarded': 1333,\n",
       " 'eerie': 2872,\n",
       " 'renewed': 6425,\n",
       " 'fees': 3177,\n",
       " 'spoons': 7210,\n",
       " 'shaping': 6835,\n",
       " 'mj': 5100,\n",
       " 'chatting': 1983,\n",
       " '95': 836,\n",
       " 'dolls': 2721,\n",
       " 'employee': 2921,\n",
       " 'rpl': 6575,\n",
       " 'blimey': 1584,\n",
       " 'relocate': 6403,\n",
       " 'w111wx': 8255,\n",
       " 'liked': 4643,\n",
       " 'realise': 6315,\n",
       " 'treat': 7916,\n",
       " 'piah': 5862,\n",
       " 'attack': 1284,\n",
       " '6669': 673,\n",
       " 'which': 8429,\n",
       " 'this': 7718,\n",
       " 'blankets': 1576,\n",
       " 'snowman': 7072,\n",
       " '2hrs': 453,\n",
       " 'comingdown': 2170,\n",
       " 'put': 6212,\n",
       " 'prizeswith': 6116,\n",
       " 'spl': 7194,\n",
       " 'bani': 1391,\n",
       " '2morrow': 461,\n",
       " 'nydc': 5485,\n",
       " 'lift': 4635,\n",
       " 'bcum': 1447,\n",
       " 'speechless': 7171,\n",
       " 'ain': 1007,\n",
       " 'midnight': 5039,\n",
       " 'vpod': 8249,\n",
       " 'shijutta': 6857,\n",
       " 'designation': 2565,\n",
       " 'exorcism': 3066,\n",
       " 'devils': 2586,\n",
       " 'tactful': 7528,\n",
       " 'friends': 3397,\n",
       " 'birthdate': 1556,\n",
       " 'moments': 5142,\n",
       " 'title': 7786,\n",
       " 'nbme': 5308,\n",
       " 'flat': 3264,\n",
       " 'if': 4067,\n",
       " 'india': 4138,\n",
       " '69988': 689,\n",
       " 'studies': 7364,\n",
       " 'saw': 6678,\n",
       " '0871277810910p': 129,\n",
       " 'weaseling': 8353,\n",
       " 'masters': 4934,\n",
       " 'asssssholeeee': 1262,\n",
       " 'movietrivia': 5190,\n",
       " 'at': 1273,\n",
       " 'rt': 6580,\n",
       " 'begins': 1487,\n",
       " 'customers': 2413,\n",
       " 'deficient': 2515,\n",
       " 'sleeps': 7005,\n",
       " 'list': 4675,\n",
       " '20m12aq': 408,\n",
       " 'drum': 2793,\n",
       " 'having': 3800,\n",
       " 'atlanta': 1277,\n",
       " 'cheery': 2000,\n",
       " 'erm': 2978,\n",
       " 'wind': 8465,\n",
       " 'lifting': 4637,\n",
       " 'reckon': 6351,\n",
       " 'collages': 2144,\n",
       " 'follow': 3302,\n",
       " 'crave': 2335,\n",
       " 'iraq': 4223,\n",
       " 'tddnewsletter': 7583,\n",
       " 'tour': 7880,\n",
       " 'traveling': 7910,\n",
       " 'morphine': 5169,\n",
       " '09061790126': 236,\n",
       " 'ctla': 2380,\n",
       " 'cappuccino': 1870,\n",
       " 'receipt': 6338,\n",
       " 'know': 4472,\n",
       " 'ic': 4046,\n",
       " 'closeby': 2098,\n",
       " 'gym': 3713,\n",
       " 'docs': 2694,\n",
       " 'base': 1412,\n",
       " 'visitors': 8227,\n",
       " 'westshore': 8407,\n",
       " 'offer': 5518,\n",
       " 'ramaduth': 6272,\n",
       " 'yun': 8691,\n",
       " 'best1': 1514,\n",
       " 'requires': 6454,\n",
       " 'beers': 1479,\n",
       " 'rates': 6285,\n",
       " 'bold': 1616,\n",
       " 'action': 917,\n",
       " 'abta': 879,\n",
       " 'configure': 2221,\n",
       " 'goodmate': 3601,\n",
       " '150': 350,\n",
       " 'sachin': 6614,\n",
       " 'prior': 6106,\n",
       " 'tomorro': 7834,\n",
       " 'ere': 2975,\n",
       " 'darling': 2455,\n",
       " 'history': 3889,\n",
       " 'fedex': 3169,\n",
       " 'stranger': 7335,\n",
       " 'tai': 7533,\n",
       " 'parachute': 5720,\n",
       " 'what': 8412,\n",
       " 'ba128nnfwfly150ppm': 1351,\n",
       " '50ea': 621,\n",
       " 'pm': 5933,\n",
       " 'social': 7077,\n",
       " 'novelty': 5451,\n",
       " 'funeral': 3443,\n",
       " 'finance': 3224,\n",
       " '2find': 447,\n",
       " 'large': 4540,\n",
       " '09058091870': 202,\n",
       " '08000938767': 58,\n",
       " 'hand': 3742,\n",
       " 'stayed': 7275,\n",
       " 'april': 1185,\n",
       " 'academic': 884,\n",
       " '9ae': 843,\n",
       " 'd3wv': 2427,\n",
       " 'derek': 2559,\n",
       " 'film': 3216,\n",
       " 'syrup': 7517,\n",
       " 'speaking': 7162,\n",
       " 'beendropping': 1476,\n",
       " 'vill': 8209,\n",
       " 'fun': 3438,\n",
       " 'jade': 4274,\n",
       " 'river': 6536,\n",
       " 'released': 6399,\n",
       " 'update_now': 8092,\n",
       " 'realising': 6317,\n",
       " 'txtno': 7993,\n",
       " 'mistakes': 5093,\n",
       " 'glo': 3560,\n",
       " 'command': 2171,\n",
       " 'tats': 7567,\n",
       " 'pride': 6096,\n",
       " 'bro': 1728,\n",
       " 'lotr': 4756,\n",
       " 'panasonic': 5705,\n",
       " 'labor': 4506,\n",
       " 'chip': 2039,\n",
       " 'thx': 7754,\n",
       " 'xxx': 8614,\n",
       " 'raiden': 6256,\n",
       " 'seems': 6750,\n",
       " 'director': 2644,\n",
       " 'baller': 1381,\n",
       " 'farm': 3142,\n",
       " 'loves': 4777,\n",
       " 'surrender': 7472,\n",
       " 'secrets': 6736,\n",
       " 'textbuddy': 7648,\n",
       " 'ros': 6562,\n",
       " 'owns': 5679,\n",
       " 'secured': 6741,\n",
       " 'reacting': 6306,\n",
       " 'world': 8548,\n",
       " 'now1': 5454,\n",
       " 'wkg': 8505,\n",
       " 'frank': 3363,\n",
       " 'half8th': 3734,\n",
       " '40411': 550,\n",
       " 'nearer': 5314,\n",
       " 'hurting': 4023,\n",
       " 'south': 7143,\n",
       " 'atm': 1280,\n",
       " 'woo': 8531,\n",
       " 'fights': 3206,\n",
       " 'review': 6502,\n",
       " 'fullonsms': 3436,\n",
       " '9996': 842,\n",
       " 'cud': 2388,\n",
       " 'ami': 1072,\n",
       " 'bb': 1433,\n",
       " 'mel': 4997,\n",
       " 'slovely': 7020,\n",
       " 'musical': 5243,\n",
       " 'colleagues': 2146,\n",
       " 'cereals': 1942,\n",
       " 'pouts': 6024,\n",
       " 'nan': 5283,\n",
       " 'horniest': 3953,\n",
       " 'burrito': 1786,\n",
       " 'babysitting': 1361,\n",
       " 'belovd': 1502,\n",
       " '28th': 435,\n",
       " 'disasters': 2654,\n",
       " 'being': 1493,\n",
       " '61': 660,\n",
       " '09064018838': 247,\n",
       " '08702490080': 91,\n",
       " 'geoenvironmental': 3518,\n",
       " 'fold': 3299,\n",
       " 'forgiveness': 3335,\n",
       " 'wotu': 8560,\n",
       " 'everything': 3028,\n",
       " 'kalainar': 4392,\n",
       " '8p': 822,\n",
       " 'sim': 6945,\n",
       " 'official': 5524,\n",
       " 'nervous': 5341,\n",
       " 'sib': 6925,\n",
       " 'cute': 2416,\n",
       " 'ternal': 7630,\n",
       " 'games': 3469,\n",
       " 'insects': 4168,\n",
       " 'courtroom': 2315,\n",
       " 'reality': 6318,\n",
       " '09064012160': 243,\n",
       " 'practicing': 6038,\n",
       " 'hairdressers': 3730,\n",
       " 'videophones': 8200,\n",
       " 'cared': 1881,\n",
       " 'fones': 3311,\n",
       " '08708034412': 102,\n",
       " 'nat27081980': 5293,\n",
       " 'smidgin': 7039,\n",
       " 'instantly': 4178,\n",
       " 'changing': 1960,\n",
       " 'port': 5990,\n",
       " 'hassling': 3783,\n",
       " 'house': 3973,\n",
       " 'da': 2428,\n",
       " 'fetching': 3186,\n",
       " 'cruisin': 2367,\n",
       " 'kintu': 4454,\n",
       " 'bedreal': 1470,\n",
       " 'bakra': 1377,\n",
       " 'deeraj': 2511,\n",
       " 'vomiting': 8243,\n",
       " 'absolutely': 875,\n",
       " 'everythin': 3027,\n",
       " 'honeymoon': 3933,\n",
       " 'premier': 6064,\n",
       " 'cell': 1936,\n",
       " 'annoncement': 1112,\n",
       " '08700621170150p': 81,\n",
       " 'zed': 8701,\n",
       " 'inconsiderate': 4126,\n",
       " 'via': 8190,\n",
       " 'protect': 6165,\n",
       " 'calm': 1845,\n",
       " 'during': 2821,\n",
       " 'nasdaq': 5289,\n",
       " 'nuerologist': 5467,\n",
       " 'length': 4603,\n",
       " 'lily': 4649,\n",
       " 'away': 1334,\n",
       " '0870141701216': 86,\n",
       " 'tohar': 7818,\n",
       " 'sindu': 6954,\n",
       " 'myself': 5260,\n",
       " 'notified': 5446,\n",
       " 'responce': 6471,\n",
       " 'tscs': 7951,\n",
       " 'comfey': 2166,\n",
       " 'ordered': 5613,\n",
       " 'capital': 1869,\n",
       " 'pussy': 6211,\n",
       " 'dub': 2803,\n",
       " 'youi': 8670,\n",
       " 'orno': 5625,\n",
       " 'plz': 5932,\n",
       " '08006344447': 64,\n",
       " 'cloud': 2105,\n",
       " 'responsible': 6477,\n",
       " 'whenevr': 8421,\n",
       " 'caring': 1888,\n",
       " 'chiong': 2038,\n",
       " 'investigate': 4205,\n",
       " 'closed': 2099,\n",
       " '18yrs': 373,\n",
       " 'abeg': 861,\n",
       " 'testing': 7639,\n",
       " 'chickened': 2019,\n",
       " '07753741225': 33,\n",
       " 'relationship': 6395,\n",
       " 'hont': 3935,\n",
       " 'hip': 3885,\n",
       " 'raji': 6264,\n",
       " 'whens': 8422,\n",
       " 'weaknesses': 8349,\n",
       " 'names': 5280,\n",
       " 'progress': 6140,\n",
       " 'lobby': 4706,\n",
       " 'textpod': 7654,\n",
       " 'banned': 1394,\n",
       " 'eckankar': 2855,\n",
       " 'scraped': 6708,\n",
       " '2nite': 469,\n",
       " 'albi': 1024,\n",
       " '000': 1,\n",
       " 'dark': 2450,\n",
       " 'tok': 7820,\n",
       " 'obviously': 5500,\n",
       " 'mon': 5144,\n",
       " 'here': 3856,\n",
       " 'pobox36504w45wq': 5944,\n",
       " 'lesson': 4612,\n",
       " '0871': 106,\n",
       " 'colin': 2143,\n",
       " 'starving': 7266,\n",
       " 'tea': 7584,\n",
       " 'may': 4959,\n",
       " 'symbol': 7512,\n",
       " 'grahmbell': 3635,\n",
       " 'splleing': 7200,\n",
       " 'happen': 3758,\n",
       " 'influx': 4148,\n",
       " 'towards': 7881,\n",
       " 'machan': 4842,\n",
       " '50gbp': 622,\n",
       " 'inside': 4171,\n",
       " 'calld': 1834,\n",
       " 'aaooooright': 856,\n",
       " 'presleys': 6079,\n",
       " 'wihtuot': 8454,\n",
       " 'rcb': 6294,\n",
       " 'kallis': 4394,\n",
       " '09058091854': 201,\n",
       " 'ahmad': 1001,\n",
       " 'beer': 1477,\n",
       " 'module': 5133,\n",
       " 'box177': 1660,\n",
       " 'gorgeous': 3611,\n",
       " 'tsunami': 7954,\n",
       " 'appear': 1163,\n",
       " 'nookii': 5419,\n",
       " 'cliffs': 2092,\n",
       " 'club4mobiles': 2109,\n",
       " 'failed': 3113,\n",
       " 'countin': 2305,\n",
       " 'iriver': 4225,\n",
       " 'fucks': 3429,\n",
       " 'slowly': 7024,\n",
       " 'retired': 6491,\n",
       " 'hypotheticalhuagauahahuagahyuhagga': 4036,\n",
       " 'murderer': 5238,\n",
       " 'beware': 1525,\n",
       " 'corporation': 2282,\n",
       " '08452810075over18': 77,\n",
       " 'empty': 2923,\n",
       " 'fake': 3120,\n",
       " 'ahhh': 999,\n",
       " '92h': 831,\n",
       " 'hits': 3893,\n",
       " 'goto': 3620,\n",
       " '07781482378': 35,\n",
       " 'performance': 5807,\n",
       " 'asked': 1249,\n",
       " '2wu': 484,\n",
       " 'successfully': 7402,\n",
       " 'holy': 3924,\n",
       " 'ignorant': 4071,\n",
       " '9061100010': 827,\n",
       " 'points': 5959,\n",
       " 'plans': 5905,\n",
       " 'mei': 4995,\n",
       " 'firefox': 3241,\n",
       " 'agidhane': 992,\n",
       " 'helen': 3835,\n",
       " 'kilos': 4448,\n",
       " 'dload': 2685,\n",
       " 'repairs': 6433,\n",
       " 'barely': 1402,\n",
       " 'interesting': 4189,\n",
       " 'factory': 3107,\n",
       " 'helps': 3849,\n",
       " 'participate': 5737,\n",
       " 'mee': 4986,\n",
       " 'flyng': 3294,\n",
       " 'pints': 5884,\n",
       " 'pansy': 5710,\n",
       " 'lands': 4528,\n",
       " 'stamped': 7248,\n",
       " 'cartoon': 1900,\n",
       " 'too': 7849,\n",
       " 'privacy': 6109,\n",
       " 'alex': 1032,\n",
       " 'misss': 5088,\n",
       " 'increase': 4130,\n",
       " 'activate': 919,\n",
       " 'key': 4426,\n",
       " 'hf8': 3867,\n",
       " 'edison': 2861,\n",
       " '400thousad': 547,\n",
       " 'nikiyu4': 5386,\n",
       " 'offline': 5526,\n",
       " 'both': 1646,\n",
       " 'guilty': 3703,\n",
       " 'widelive': 8449,\n",
       " 'dwn': 2827,\n",
       " 'noon': 5420,\n",
       " 'toss': 7871,\n",
       " '07090298926': 26,\n",
       " 'crashing': 2334,\n",
       " 'phews': 5843,\n",
       " 'drama': 2761,\n",
       " 'wins': 8477,\n",
       " 'sis': 6966,\n",
       " 'hanger': 3751,\n",
       " 'm100': 4824,\n",
       " 'fathima': 3152,\n",
       " '4wrd': 613,\n",
       " 'epsilon': 2972,\n",
       " 'telephonic': 7606,\n",
       " 'toa': 7807,\n",
       " 'callcost': 1832,\n",
       " 'psp': 6177,\n",
       " 'twiggs': 7979,\n",
       " 'conversations': 2260,\n",
       " 'kaypoh': 4410,\n",
       " 'deer': 2510,\n",
       " 'biatch': 1534,\n",
       " 'lindsay': 4656,\n",
       " 'zyada': 8709,\n",
       " 'thousands': 7732,\n",
       " 'quick': 6235,\n",
       " 'shirt': 6865,\n",
       " 'owned': 5678,\n",
       " 'slacking': 6998,\n",
       " 'occupied': 5502,\n",
       " 'instead': 4179,\n",
       " 'thet': 7700,\n",
       " 'angels': 1103,\n",
       " 'day': 2471,\n",
       " 'alternative': 1059,\n",
       " 'awkward': 1336,\n",
       " 'operator': 5590,\n",
       " 'screen': 6715,\n",
       " 'eng': 2936,\n",
       " 'popped': 5986,\n",
       " 'spending': 7180,\n",
       " 'lttrs': 4796,\n",
       " 'cafe': 1818,\n",
       " 'reminding': 6417,\n",
       " 'slaaaaave': 6997,\n",
       " 'among': 1080,\n",
       " 'umma': 8023,\n",
       " 'blonde': 1593,\n",
       " 'index': 4137,\n",
       " 'bloody': 1596,\n",
       " 'mrt': 5197,\n",
       " 'actin': 915,\n",
       " 'talkin': 7548,\n",
       " 'tree': 7921,\n",
       " 'posh': 5996,\n",
       " 'wasted': 8322,\n",
       " '2go': 450,\n",
       " 'area': 1197,\n",
       " '50rcvd': 629,\n",
       " 'helping': 3847,\n",
       " 'goin2bed': 3583,\n",
       " 'peace': 5784,\n",
       " 'ldn': 4572,\n",
       " 'ma': 4835,\n",
       " 'justify': 4379,\n",
       " 'tear': 7592,\n",
       " 'sender': 6772,\n",
       " 'je': 4298,\n",
       " 'earning': 2838,\n",
       " 'board': 1609,\n",
       " 'del': 2524,\n",
       " 'hamper': 3740,\n",
       " 'christ': 2053,\n",
       " 'pain': 5696,\n",
       " '11': 312,\n",
       " 'availa': 1315,\n",
       " 'terry': 7635,\n",
       " '12': 323,\n",
       " 'hui': 4005,\n",
       " 'weigh': 8377,\n",
       " 'speeding': 7174,\n",
       " 'uh': 8012,\n",
       " 'thanku': 7665,\n",
       " 'inner': 4161,\n",
       " 'catches': 1913,\n",
       " 'boytoy': 1679,\n",
       " 'valid12hrs': 8154,\n",
       " 'technical': 7597,\n",
       " 'mad': 4849,\n",
       " '08714712412': 135,\n",
       " 'delivered': 2532,\n",
       " 'brilliant': 1717,\n",
       " '7am': 722,\n",
       " 'brown': 1740,\n",
       " '2getha': 448,\n",
       " 'blank': 1573,\n",
       " 'merememberin': 5018,\n",
       " 'collected': 2148,\n",
       " 'gbp1': 3496,\n",
       " 'wine': 8470,\n",
       " 'dizzee': 2681,\n",
       " 'urgran': 8114,\n",
       " 'hasbro': 3780,\n",
       " 'season': 6727,\n",
       " 'original': 5624,\n",
       " 'discreet': 2661,\n",
       " 'pobox84': 5948,\n",
       " 'xx': 8611,\n",
       " 'squid': 7232,\n",
       " 'csh11': 2374,\n",
       " 'dizzamn': 2680,\n",
       " 'en': 2924,\n",
       " 'clever': 2089,\n",
       " 'frens': 3386,\n",
       " 'persons': 5826,\n",
       " '150ppermesssubscription': 355,\n",
       " 'mom': 5140,\n",
       " 'spotty': 7217,\n",
       " 'centre': 1939,\n",
       " 'gynae': 3715,\n",
       " 'noi': 5405,\n",
       " 'merely': 5017,\n",
       " 'in2': 4115,\n",
       " 'device': 2585,\n",
       " 'teach': 7585,\n",
       " 'wasnt': 8320,\n",
       " 'dresser': 2773,\n",
       " 'indians': 4140,\n",
       " 'feels': 3176,\n",
       " 'melnite': 4999,\n",
       " 'control': 2258,\n",
       " 'yen': 8647,\n",
       " 'muchxxlove': 5219,\n",
       " 'malaria': 4883,\n",
       " 'make': 4878,\n",
       " '750': 710,\n",
       " 'jerry': 4311,\n",
       " 'reasons': 6329,\n",
       " 'england': 2941,\n",
       " 'loyalty': 4787,\n",
       " 'meeting': 4989,\n",
       " 'dance': 2441,\n",
       " 'tirunelvai': 7781,\n",
       " 'everyboy': 3022,\n",
       " 'sn': 7058,\n",
       " 'subscribe': 7389,\n",
       " '7oz': 726,\n",
       " 'nasty': 5291,\n",
       " 'problms': 6123,\n",
       " 'permissions': 5816,\n",
       " 'rumour': 6597,\n",
       " 'urself': 8119,\n",
       " 'gettin': 3530,\n",
       " 'massive': 4932,\n",
       " 'application': 1168,\n",
       " 'norm150p': 5429,\n",
       " '54': 638,\n",
       " '08002986906': 62,\n",
       " 'woohoo': 8534,\n",
       " 'emigrated': 2918,\n",
       " 'cook': 2268,\n",
       " 'permanent': 5814,\n",
       " 'beerage': 1478,\n",
       " '09099725823': 287,\n",
       " '4my': 602,\n",
       " 'prasanth': 6047,\n",
       " 'dlf': 2684,\n",
       " 'hole': 3919,\n",
       " 'fear': 3163,\n",
       " 'multis': 5226,\n",
       " 'lazy': 4568,\n",
       " 'shoulders': 6896,\n",
       " 'carlie': 1889,\n",
       " 'grams': 3637,\n",
       " 'decisions': 2499,\n",
       " 'haircut': 3729,\n",
       " 'opened': 5584,\n",
       " 'pix': 5890,\n",
       " 'musta': 5246,\n",
       " 'loxahatchee': 4785,\n",
       " 'mack': 4846,\n",
       " 'mns': 5112,\n",
       " 'avenue': 1323,\n",
       " 'dd': 2477,\n",
       " 'olympics': 5556,\n",
       " 'babysit': 1360,\n",
       " 'outage': 5645,\n",
       " 'ed': 2858,\n",
       " '1205': 324,\n",
       " 'brighten': 1716,\n",
       " 'stuffed': 7371,\n",
       " 'apart': 1149,\n",
       " 'mofo': 5135,\n",
       " 'belive': 1495,\n",
       " '4th': 605,\n",
       " 'payed2day': 5774,\n",
       " 'urmom': 8117,\n",
       " 'chef': 2004,\n",
       " '2stoptx': 476,\n",
       " 'a30': 852,\n",
       " 'embarassing': 2912,\n",
       " 'plum': 5926,\n",
       " 'asap': 1239,\n",
       " 'picsfree1': 5869,\n",
       " 'stink': 7303,\n",
       " 'pretsorginta': 6086,\n",
       " 'performed': 5808,\n",
       " 'elephant': 2901,\n",
       " 'deepak': 2508,\n",
       " '09050001808': 192,\n",
       " 'units': 8063,\n",
       " 'invitation': 4206,\n",
       " 'vodka': 8236,\n",
       " 'voice': 8237,\n",
       " 'mutai': 5249,\n",
       " 'wrench': 8570,\n",
       " '2years': 485,\n",
       " 'beneath': 1507,\n",
       " 'shu': 6916,\n",
       " 'train': 7891,\n",
       " 'spoilt': 7203,\n",
       " 'haiz': 3732,\n",
       " 'otbox': 5632,\n",
       " 'wavering': 8339,\n",
       " 'cake': 1820,\n",
       " 'alertfrom': 1029,\n",
       " 'uks': 8018,\n",
       " '80155': 739,\n",
       " 'ambitious': 1069,\n",
       " 'excuses': 3056,\n",
       " 'rp176781': 6574,\n",
       " 'treated': 7917,\n",
       " 'shracomorsglsuplt': 6911,\n",
       " 'slo': 7017,\n",
       " '89080': 812,\n",
       " '2b': 438,\n",
       " 'avent': 1322,\n",
       " 'wheat': 8416,\n",
       " 'beyond': 1526,\n",
       " 'cl': 2066,\n",
       " 'hold': 3916,\n",
       " 'veggie': 8175,\n",
       " 'deep': 2507,\n",
       " 'weakness': 8348,\n",
       " 'spjanuary': 7192,\n",
       " 'sitting': 6974,\n",
       " 'gandhipuram': 3471,\n",
       " 'checking': 1993,\n",
       " 'listening': 4680,\n",
       " 'jos': 4350,\n",
       " 'kz': 4495,\n",
       " 'winds': 8468,\n",
       " 'showr': 6908,\n",
       " 'tellmiss': 7610,\n",
       " 'evo': 3036,\n",
       " '02': 9,\n",
       " 'thankyou': 7666,\n",
       " 'shade': 6818,\n",
       " 'babes': 1355,\n",
       " 'moan': 5116,\n",
       " 'repent': 6436,\n",
       " 'responding': 6473,\n",
       " '84128': 774,\n",
       " 'hurried': 4020,\n",
       " 'pleasant': 5916,\n",
       " 'sariyag': 6659,\n",
       " 'sq825': 7228,\n",
       " 'given': 3553,\n",
       " 'tap': 7558,\n",
       " 'character': 1965,\n",
       " 'anot': 1118,\n",
       " 'gr8fun': 3630,\n",
       " 'fancy': 3136,\n",
       " 'prof': 6132,\n",
       " 'crushes': 2368,\n",
       " 'box326': 1662,\n",
       " 'meetin': 4988,\n",
       " 'brdget': 1694,\n",
       " 'man': 4888,\n",
       " '2rcv': 474,\n",
       " 'trial': 7924,\n",
       " 'kay': 4409,\n",
       " '5free': 642,\n",
       " 'kissing': 4460,\n",
       " 'sms': 7052,\n",
       " 'lnly': 4700,\n",
       " 'tease': 7594,\n",
       " 'qatar': 6219,\n",
       " 'present': 6076,\n",
       " 'na': 5265,\n",
       " 'cry': 2369,\n",
       " 'settings': 6800,\n",
       " '050703': 19,\n",
       " 'needa': 5324,\n",
       " 'two': 7984,\n",
       " 'saves': 6676,\n",
       " 'cancelled': 1859,\n",
       " 'toothpaste': 7856,\n",
       " 'vijaykanth': 8206,\n",
       " 'hava': 3792,\n",
       " 'keralacircle': 4423,\n",
       " 'waht': 8276,\n",
       " 'rent': 6427,\n",
       " 'oveable': 5662,\n",
       " 'athletic': 1275,\n",
       " 'fuelled': 3431,\n",
       " 'aid': 1003,\n",
       " 'box95qu': 1672,\n",
       " 'win': 8463,\n",
       " 'scammers': 6687,\n",
       " 'typical': 8002,\n",
       " '150p16': 353,\n",
       " 'b4u': 1348,\n",
       " 'semester': 6767,\n",
       " 'prometazine': 6144,\n",
       " 'or2stoptxt': 5606,\n",
       " 'skip': 6990,\n",
       " 'known': 4474,\n",
       " 'web2mobile': 8357,\n",
       " 'txt43': 7988,\n",
       " 'ago': 994,\n",
       " 'x29': 8599,\n",
       " 'rights': 6519,\n",
       " 'fifth': 3201,\n",
       " 'lekdog': 4601,\n",
       " 'unsecured': 8077,\n",
       " 'sall': 6634,\n",
       " '09061743806': 229,\n",
       " 'cupboard': 2399,\n",
       " '6months': 695,\n",
       " 'saved': 6675,\n",
       " 'cbe': 1922,\n",
       " 'kg': 4431,\n",
       " 'planned': 5903,\n",
       " 'nike': 5385,\n",
       " 'hates': 3786,\n",
       " 'forum': 3347,\n",
       " 'recent': 6344,\n",
       " 'a21': 851,\n",
       " 'polyc': 5969,\n",
       " 'swear': 7491,\n",
       " 'info': 4149,\n",
       " 'footprints': 3321,\n",
       " 'gotbabes': 3618,\n",
       " 'timing': 7774,\n",
       " 'nagar': 5269,\n",
       " 'fit': 3250,\n",
       " 'rebtel': 6335,\n",
       " 'toplay': 7860,\n",
       " 'huh': 4004,\n",
       " 'replies': 6441,\n",
       " 'content': 2249,\n",
       " 'thy': 7755,\n",
       " 'polyphonic': 5972,\n",
       " 'ave': 1320,\n",
       " 'tobed': 7810,\n",
       " 'phrase': 5859,\n",
       " 'requirements': 6453,\n",
       " 'gbp5': 3498,\n",
       " 'sway': 7489,\n",
       " 'msn': 5206,\n",
       " 'picked': 5865,\n",
       " 'salmon': 6635,\n",
       " 'gong': 3594,\n",
       " 'passed': 5749,\n",
       " 'inpersonation': 4166,\n",
       " '0121': 5,\n",
       " '09066350750': 258,\n",
       " 'clip': 2093,\n",
       " 'data': 2462,\n",
       " 'nigh': 5378,\n",
       " 'racal': 6248,\n",
       " 'landline': 4524,\n",
       " 'vava': 8169,\n",
       " 'jap': 4286,\n",
       " 'strange': 7334,\n",
       " 'training': 7893,\n",
       " ...}"
      ]
     },
     "execution_count": 21,
     "metadata": {},
     "output_type": "execute_result"
    }
   ],
   "source": [
    "count_vectorizer.vocabulary_ "
   ]
  },
  {
   "cell_type": "markdown",
   "metadata": {},
   "source": [
    "# Classifying documents"
   ]
  },
  {
   "cell_type": "code",
   "execution_count": 42,
   "metadata": {},
   "outputs": [
    {
     "data": {
      "text/plain": [
       "MultinomialNB(alpha=1.0, class_prior=None, fit_prior=True)"
      ]
     },
     "execution_count": 42,
     "metadata": {},
     "output_type": "execute_result"
    }
   ],
   "source": [
    "X = tfidfs\n",
    "y = df['class'].values\n",
    "\n",
    "classifier = MultinomialNB()\n",
    "classifier.fit(X, y)"
   ]
  },
  {
   "cell_type": "code",
   "execution_count": 43,
   "metadata": {},
   "outputs": [],
   "source": [
    "examples = [\"PRIVATE! Your 2003 Account Statement for shows 800 un-redeemed S.I.M. points\",\n",
    "            \"You have been hacked. Call 08718738001 to reset your password Identifier Code: 49557\",\n",
    "            \"You have been hacked.give call 08718738001 me money. i'll kidnap you tomorrow. nigerian prince needs your credit card immediately.\",\n",
    "            \"I'm going to attend the Linux users group tomorrow.\",\n",
    "           ]"
   ]
  },
  {
   "cell_type": "code",
   "execution_count": 44,
   "metadata": {},
   "outputs": [
    {
     "name": "stdout",
     "output_type": "stream",
     "text": [
      "spam\n",
      "spam\n",
      "ham\n",
      "ham\n"
     ]
    }
   ],
   "source": [
    "example_counts = tfidf_vectorizer.transform(examples)\n",
    "predictions = classifier.predict(example_counts)\n",
    "for prediction in predictions:\n",
    "    print(prediction)"
   ]
  },
  {
   "cell_type": "markdown",
   "metadata": {},
   "source": [
    "# Pipelining (is awesome)"
   ]
  },
  {
   "cell_type": "code",
   "execution_count": 45,
   "metadata": {},
   "outputs": [
    {
     "data": {
      "text/plain": [
       "Pipeline(steps=[('vectorizer', CountVectorizer(analyzer='word', binary=False, decode_error='strict',\n",
       "        dtype=<class 'numpy.int64'>, encoding='utf-8', input='content',\n",
       "        lowercase=True, max_df=1.0, max_features=None, min_df=1,\n",
       "        ngram_range=(1, 1), preprocessor=None, stop_words=None,\n",
       "        strip_accents=None, token_pattern='(?u)\\\\b\\\\w\\\\w+\\\\b',\n",
       "        tokenizer=None, vocabulary=None)), ('classifier', MultinomialNB(alpha=1.0, class_prior=None, fit_prior=True))])"
      ]
     },
     "execution_count": 45,
     "metadata": {},
     "output_type": "execute_result"
    }
   ],
   "source": [
    "pipeline = Pipeline([\n",
    "    ('vectorizer',  CountVectorizer()),\n",
    "    ('classifier',  MultinomialNB()) ])\n",
    "\n",
    "pipeline.fit(df['text'].values, df['class'].values)"
   ]
  },
  {
   "cell_type": "code",
   "execution_count": 46,
   "metadata": {},
   "outputs": [
    {
     "data": {
      "text/plain": [
       "array(['spam', 'spam', 'ham', 'ham'], \n",
       "      dtype='<U4')"
      ]
     },
     "execution_count": 46,
     "metadata": {},
     "output_type": "execute_result"
    }
   ],
   "source": [
    "pipeline.predict(examples)"
   ]
  },
  {
   "cell_type": "markdown",
   "metadata": {},
   "source": [
    "# Cross Validation"
   ]
  },
  {
   "cell_type": "code",
   "execution_count": 50,
   "metadata": {},
   "outputs": [],
   "source": [
    "k_fold = KFold(n_splits=5)\n",
    "scores = []\n",
    "y_true = []\n",
    "y_pred = []\n",
    "probas = []\n",
    "confusion = numpy.array([[0, 0], [0, 0]])"
   ]
  },
  {
   "cell_type": "code",
   "execution_count": 51,
   "metadata": {},
   "outputs": [],
   "source": [
    "for train_indices, test_indices in k_fold.split(counts):\n",
    "    train_text = df.iloc[train_indices]['text'].values\n",
    "    train_y = df.iloc[train_indices]['class'].values\n",
    "\n",
    "    test_text = df.iloc[test_indices]['text'].values\n",
    "    test_y = df.iloc[test_indices]['class'].values\n",
    "\n",
    "    pipeline.fit(train_text, train_y)\n",
    "    predictions = pipeline.predict(test_text)\n",
    "    prediction_probas = pipeline.predict_proba(test_text)\n",
    "\n",
    "    confusion += confusion_matrix(test_y, predictions)\n",
    "    score = accuracy_score(test_y, predictions)\n",
    "    scores.append(score)\n",
    "    \n",
    "    y_true.extend(test_y)\n",
    "    y_pred.extend(predictions.tolist())\n",
    "    probas.extend(prediction_probas[:, 1].tolist())"
   ]
  },
  {
   "cell_type": "code",
   "execution_count": 52,
   "metadata": {},
   "outputs": [
    {
     "name": "stdout",
     "output_type": "stream",
     "text": [
      "Total emails classified: 5572\n",
      "Accuracy: 0.984744668347\n",
      "Confusion matrix:\n",
      "[[4804   21]\n",
      " [  64  683]]\n"
     ]
    }
   ],
   "source": [
    "print('Total emails classified:', len(df))\n",
    "print('Accuracy:', sum(scores)/len(scores))\n",
    "print('Confusion matrix:')\n",
    "print(confusion)"
   ]
  },
  {
   "cell_type": "code",
   "execution_count": 53,
   "metadata": {},
   "outputs": [
    {
     "name": "stdout",
     "output_type": "stream",
     "text": [
      "             precision    recall  f1-score   support\n",
      "\n",
      "        ham       0.99      1.00      0.99      4825\n",
      "       spam       0.97      0.91      0.94       747\n",
      "\n",
      "avg / total       0.98      0.98      0.98      5572\n",
      "\n"
     ]
    }
   ],
   "source": [
    "print(classification_report(y_true, y_pred))"
   ]
  },
  {
   "cell_type": "markdown",
   "metadata": {},
   "source": [
    "### ROC Curve"
   ]
  },
  {
   "cell_type": "code",
   "execution_count": 57,
   "metadata": {},
   "outputs": [
    {
     "data": {
      "image/png": "[encoded data removed]",
      "text/plain": [
       "<matplotlib.figure.Figure at 0x115b01320>"
      ]
     },
     "metadata": {},
     "output_type": "display_data"
    }
   ],
   "source": [
    "# Compute ROC curve and ROC area for each class\n",
    "fpr, tpr, _ = roc_curve(y_true, probas, pos_label='spam')\n",
    "roc_auc = auc(fpr, tpr)\n",
    "\n",
    "plt.figure()\n",
    "lw = 2\n",
    "plt.plot(fpr, tpr, color='darkorange',\n",
    "         lw=lw, label='ROC curve (area = %0.2f)' % roc_auc)\n",
    "plt.plot([0, 1], [0, 1], color='navy', lw=lw, linestyle='--')\n",
    "plt.xlim([0.0, 1.0])\n",
    "plt.ylim([0.0, 1.05])\n",
    "plt.xlabel('False Positive Rate')\n",
    "plt.ylabel('True Positive Rate')\n",
    "plt.title('ROC Curve')\n",
    "plt.legend(loc=\"lower right\")\n",
    "plt.show()"
   ]
  },
  {
   "cell_type": "markdown",
   "metadata": {},
   "source": [
    "### PR curve"
   ]
  },
  {
   "cell_type": "code",
   "execution_count": 59,
   "metadata": {},
   "outputs": [],
   "source": [
    "precision, recall, _ = precision_recall_curve(y_true, probas, pos_label='spam')"
   ]
  },
  {
   "cell_type": "code",
   "execution_count": 60,
   "metadata": {},
   "outputs": [
    {
     "data": {
      "image/png": "[encoded data removed]",
      "text/plain": [
       "<matplotlib.figure.Figure at 0x116a148d0>"
      ]
     },
     "metadata": {},
     "output_type": "display_data"
    }
   ],
   "source": [
    "plt.clf()\n",
    "plt.plot(recall, precision, lw=lw, color='navy',\n",
    "         label='Precision-Recall curve')\n",
    "plt.xlabel('Recall')\n",
    "plt.ylabel('Precision')\n",
    "plt.ylim([0.0, 1.05])\n",
    "plt.xlim([0.0, 1.0])\n",
    "plt.title('Precision-Recall Curve')\n",
    "plt.legend(loc=\"lower left\")\n",
    "plt.show()"
   ]
  },
  {
   "cell_type": "markdown",
   "metadata": {},
   "source": [
    "### Learning Curve"
   ]
  },
  {
   "cell_type": "code",
   "execution_count": 61,
   "metadata": {},
   "outputs": [],
   "source": [
    "def plot_learning_curve(estimator, title, X, y, ylim=None, cv=None,\n",
    "                        n_jobs=1, train_sizes=np.linspace(.1, 1.0, 5)):\n",
    "    \"\"\"\n",
    "    Generate a simple plot of the test and training learning curve.\n",
    "\n",
    "    Parameters\n",
    "    ----------\n",
    "    estimator : object type that implements the \"fit\" and \"predict\" methods\n",
    "        An object of that type which is cloned for each validation.\n",
    "\n",
    "    title : string\n",
    "        Title for the chart.\n",
    "\n",
    "    X : array-like, shape (n_samples, n_features)\n",
    "        Training vector, where n_samples is the number of samples and\n",
    "        n_features is the number of features.\n",
    "\n",
    "    y : array-like, shape (n_samples) or (n_samples, n_features), optional\n",
    "        Target relative to X for classification or regression;\n",
    "        None for unsupervised learning.\n",
    "\n",
    "    ylim : tuple, shape (ymin, ymax), optional\n",
    "        Defines minimum and maximum yvalues plotted.\n",
    "\n",
    "    cv : int, cross-validation generator or an iterable, optional\n",
    "        Determines the cross-validation splitting strategy.\n",
    "        Possible inputs for cv are:\n",
    "          - None, to use the default 3-fold cross-validation,\n",
    "          - integer, to specify the number of folds.\n",
    "          - An object to be used as a cross-validation generator.\n",
    "          - An iterable yielding train/test splits.\n",
    "\n",
    "        For integer/None inputs, if ``y`` is binary or multiclass,\n",
    "        :class:`StratifiedKFold` used. If the estimator is not a classifier\n",
    "        or if ``y`` is neither binary nor multiclass, :class:`KFold` is used.\n",
    "\n",
    "        Refer :ref:`User Guide <cross_validation>` for the various\n",
    "        cross-validators that can be used here.\n",
    "\n",
    "    n_jobs : integer, optional\n",
    "        Number of jobs to run in parallel (default 1).\n",
    "    \"\"\"\n",
    "    plt.figure()\n",
    "    plt.title(title)\n",
    "    if ylim is not None:\n",
    "        plt.ylim(*ylim)\n",
    "    plt.xlabel(\"Training examples\")\n",
    "    plt.ylabel(\"Score\")\n",
    "    train_sizes, train_scores, test_scores = learning_curve(\n",
    "        estimator, X, y, cv=cv, n_jobs=n_jobs, train_sizes=train_sizes)\n",
    "    train_scores_mean = np.mean(train_scores, axis=1)\n",
    "    train_scores_std = np.std(train_scores, axis=1)\n",
    "    test_scores_mean = np.mean(test_scores, axis=1)\n",
    "    test_scores_std = np.std(test_scores, axis=1)\n",
    "    plt.grid()\n",
    "\n",
    "    plt.fill_between(train_sizes, train_scores_mean - train_scores_std,\n",
    "                     train_scores_mean + train_scores_std, alpha=0.1,\n",
    "                     color=\"r\")\n",
    "    plt.fill_between(train_sizes, test_scores_mean - test_scores_std,\n",
    "                     test_scores_mean + test_scores_std, alpha=0.1, color=\"g\")\n",
    "    plt.plot(train_sizes, train_scores_mean, 'o-', color=\"r\",\n",
    "             label=\"Training score\")\n",
    "    plt.plot(train_sizes, test_scores_mean, 'o-', color=\"g\",\n",
    "             label=\"Cross-validation score\")\n",
    "\n",
    "    plt.legend(loc=\"best\")\n",
    "    return plt"
   ]
  },
  {
   "cell_type": "code",
   "execution_count": 62,
   "metadata": {},
   "outputs": [
    {
     "name": "stdout",
     "output_type": "stream",
     "text": [
      "CPU times: user 472 ms, sys: 127 ms, total: 599 ms\n",
      "Wall time: 1.54 s\n"
     ]
    },
    {
     "data": {
      "text/plain": [
       "<module 'matplotlib.pyplot' from '/Users/everaldoa/anaconda/lib/python3.5/site-packages/matplotlib/pyplot.py'>"
      ]
     },
     "execution_count": 62,
     "metadata": {},
     "output_type": "execute_result"
    },
    {
     "data": {
      "image/png": "[encoded data removed]",
      "text/plain": [
       "<matplotlib.figure.Figure at 0x116a83278>"
      ]
     },
     "metadata": {},
     "output_type": "display_data"
    }
   ],
   "source": [
    "y = df['class'].values\n",
    "X = tfidf_vectorizer.fit_transform(df['text'].values)\n",
    "\n",
    "cv = ShuffleSplit(n_splits=100, test_size=0.2, random_state=0)\n",
    "%time plot_learning_curve(MultinomialNB(), \"Accuracy vs. Training set size\", counts, y, ylim=(0.7, 1.01), cv=cv, n_jobs=4);"
   ]
  },
  {
   "cell_type": "markdown",
   "metadata": {},
   "source": [
    "# Feature selection"
   ]
  },
  {
   "cell_type": "code",
   "execution_count": 66,
   "metadata": {
    "collapsed": true
   },
   "outputs": [],
   "source": [
    "count_vectorizer = CountVectorizer(stop_words='english')\n",
    "\n",
    "X = count_vectorizer.fit_transform(df['text'].values)\n",
    "y = df['class'].values"
   ]
  },
  {
   "cell_type": "code",
   "execution_count": 68,
   "metadata": {},
   "outputs": [
    {
     "data": {
      "text/plain": [
       "(5572, 8444)"
      ]
     },
     "execution_count": 68,
     "metadata": {},
     "output_type": "execute_result"
    }
   ],
   "source": [
    "X.shape"
   ]
  },
  {
   "cell_type": "code",
   "execution_count": 69,
   "metadata": {
    "collapsed": true
   },
   "outputs": [],
   "source": [
    "kbest = SelectKBest(k=50)\n",
    "kbest.fit(X, y)\n",
    "important = kbest.get_support(True)"
   ]
  },
  {
   "cell_type": "code",
   "execution_count": 70,
   "metadata": {},
   "outputs": [
    {
     "data": {
      "text/plain": [
       "array([   1,  298,  299,  352,  356,  364,  369,  616,  617,  618, 1141,\n",
       "       1301, 1609, 1798, 1848, 1925, 2013, 2078, 2095, 2102, 2190, 2314,\n",
       "       2354, 2702, 3280, 3588, 4397, 4423, 4527, 4979, 4981, 5209, 5258,\n",
       "       5756, 5934, 6104, 6260, 6343, 6606, 6718, 7112, 7437, 7611, 7754,\n",
       "       7784, 7872, 7958, 8203, 8260, 8332])"
      ]
     },
     "execution_count": 70,
     "metadata": {},
     "output_type": "execute_result"
    }
   ],
   "source": [
    "important"
   ]
  },
  {
   "cell_type": "code",
   "execution_count": 71,
   "metadata": {},
   "outputs": [
    {
     "data": {
      "text/plain": [
       "LogisticRegression(C=1.0, class_weight=None, dual=False, fit_intercept=True,\n",
       "          intercept_scaling=1, max_iter=100, multi_class='ovr', n_jobs=1,\n",
       "          penalty='l2', random_state=None, solver='liblinear', tol=0.0001,\n",
       "          verbose=0, warm_start=False)"
      ]
     },
     "execution_count": 71,
     "metadata": {},
     "output_type": "execute_result"
    }
   ],
   "source": [
    "clf = LogisticRegression()\n",
    "clf.fit(X[:, important], y)"
   ]
  },
  {
   "cell_type": "code",
   "execution_count": 72,
   "metadata": {},
   "outputs": [
    {
     "name": "stdout",
     "output_type": "stream",
     "text": [
      "                  uk  | coef: 3.59\n",
      "               claim  | coef: 3.36\n",
      "            ringtone  | coef: 2.90\n",
      "             service  | coef: 2.76\n",
      "                150p  | coef: 2.72\n",
      "                code  | coef: 2.71\n",
      "                rate  | coef: 2.69\n",
      "              urgent  | coef: 2.64\n",
      "                 www  | coef: 2.54\n",
      "                 txt  | coef: 2.50\n",
      "                  50  | coef: 2.44\n",
      "              mobile  | coef: 2.35\n",
      "                chat  | coef: 2.30\n",
      "               apply  | coef: 2.26\n",
      "               shows  | coef: 2.15\n",
      "            customer  | coef: 2.15\n",
      "                 100  | coef: 2.06\n",
      "             contact  | coef: 2.01\n",
      "                  18  | coef: 1.91\n",
      "                 new  | coef: 1.82\n",
      "            landline  | coef: 1.79\n",
      "                 mob  | coef: 1.78\n",
      "                stop  | coef: 1.78\n",
      "               video  | coef: 1.78\n",
      "                 win  | coef: 1.70\n",
      "                 com  | coef: 1.70\n",
      "               reply  | coef: 1.70\n",
      "                  po  | coef: 1.68\n",
      "                free  | coef: 1.68\n",
      "                 500  | coef: 1.64\n",
      "                1000  | coef: 1.64\n",
      "                text  | coef: 1.63\n",
      "                 won  | coef: 1.62\n",
      "                tone  | coef: 1.61\n",
      "              latest  | coef: 1.60\n",
      "                line  | coef: 1.54\n",
      "          collection  | coef: 1.53\n",
      "             awarded  | coef: 1.46\n",
      "                 box  | coef: 1.43\n",
      "                cash  | coef: 1.42\n",
      "                  cs  | coef: 1.34\n",
      "               nokia  | coef: 1.32\n",
      "              camera  | coef: 1.13\n",
      "                5000  | coef: 1.12\n",
      "                  16  | coef: 1.11\n",
      "                draw  | coef: 1.03\n",
      "               prize  | coef: 0.85\n",
      "              150ppm  | coef: 0.75\n",
      "                 000  | coef: 0.66\n",
      "          guaranteed  | coef: 0.53\n"
     ]
    }
   ],
   "source": [
    "for c, i in sorted(zip(clf.coef_[0], important.tolist()), reverse=True):\n",
    "     print (\"% 20s  | coef: %.2f\" % (count_vectorizer.get_feature_names()[i], c))"
   ]
  },
  {
   "cell_type": "code",
   "execution_count": null,
   "metadata": {
    "collapsed": true
   },
   "outputs": [],
   "source": []
  }
 ],
 "metadata": {
  "anaconda-cloud": {},
  "kernelspec": {
   "display_name": "Python [conda root]",
   "language": "python",
   "name": "conda-root-py"
  },
  "language_info": {
   "codemirror_mode": {
    "name": "ipython",
    "version": 3
   },
   "file_extension": ".py",
   "mimetype": "text/x-python",
   "name": "python",
   "nbconvert_exporter": "python",
   "pygments_lexer": "ipython3",
   "version": "3.5.3"
  }
 },
 "nbformat": 4,
 "nbformat_minor": 1
}
