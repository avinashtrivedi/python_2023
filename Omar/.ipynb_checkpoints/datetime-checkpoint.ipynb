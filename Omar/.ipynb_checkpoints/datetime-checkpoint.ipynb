{
 "cells": [
  {
   "cell_type": "code",
   "execution_count": 32,
   "id": "4c416fec",
   "metadata": {},
   "outputs": [],
   "source": [
    "from datetime import datetime, timedelta, timezone"
   ]
  },
  {
   "cell_type": "code",
   "execution_count": 35,
   "id": "b9b0b8dd",
   "metadata": {},
   "outputs": [],
   "source": [
    "## Dont convert back to a datetime object and just truncate seconds from the timestamp.\n",
    "def before(_time):\n",
    "    new_time = datetime.utcfromtimestamp(_time).replace(second=0)\n",
    "    new_time = int(new_time.timestamp())\n",
    "    return new_time\n",
    "\n",
    "def timestamp_sanitise(_time):\n",
    "    return _time - _time % 60\n",
    "\n",
    "def get_from_and_until_times(delta, five_min_offset=False):\n",
    "    if five_min_offset:\n",
    "        until_time = datetime.now(timezone.utc) - timedelta(minutes=5)\n",
    "    else:\n",
    "        until_time = datetime.now(timezone.utc)\n",
    "    from_time = until_time - timedelta(seconds=delta)\n",
    "\n",
    "    if five_min_offset:\n",
    "        until_time = until_time.replace(second=0)\n",
    "        from_time = from_time.replace(second=0)\n",
    "\n",
    "    until_time = int(until_time.timestamp())\n",
    "    from_time = int(from_time.timestamp())\n",
    "\n",
    "    return timestamp_sanitise(until_time), timestamp_sanitise(from_time)"
   ]
  },
  {
   "cell_type": "code",
   "execution_count": 36,
   "id": "6566a25b",
   "metadata": {},
   "outputs": [
    {
     "data": {
      "text/plain": [
       "(1696430280, 1696429980)"
      ]
     },
     "execution_count": 36,
     "metadata": {},
     "output_type": "execute_result"
    }
   ],
   "source": [
    "get_from_and_until_times(300)"
   ]
  },
  {
   "cell_type": "code",
   "execution_count": null,
   "id": "d52e3ce9",
   "metadata": {},
   "outputs": [],
   "source": []
  },
  {
   "cell_type": "code",
   "execution_count": 72,
   "id": "82bf17d8",
   "metadata": {},
   "outputs": [],
   "source": [
    "from datetime import datetime, timedelta, timezone\n",
    "def get_from_and_until_times(delta):\n",
    "    actual_time =  datetime.now(timezone.utc)\n",
    "    t = actual_time - timedelta(minutes=delta//60)\n",
    "    prev_time = t.replace(second=0)\n",
    "    return int(actual_time.timestamp()),int(prev_time.timestamp())"
   ]
  },
  {
   "cell_type": "code",
   "execution_count": 73,
   "id": "c634f699",
   "metadata": {},
   "outputs": [
    {
     "data": {
      "text/plain": [
       "(1696431042, 1696430700)"
      ]
     },
     "execution_count": 73,
     "metadata": {},
     "output_type": "execute_result"
    }
   ],
   "source": [
    "get_from_and_until_times(300)"
   ]
  },
  {
   "cell_type": "code",
   "execution_count": 79,
   "id": "847c1885",
   "metadata": {},
   "outputs": [
    {
     "data": {
      "text/plain": [
       "1696430917"
      ]
     },
     "execution_count": 79,
     "metadata": {},
     "output_type": "execute_result"
    }
   ],
   "source": [
    "int(datetime.now(timezone.utc).timestamp()) - 300"
   ]
  },
  {
   "cell_type": "code",
   "execution_count": 84,
   "id": "feb8abb2",
   "metadata": {},
   "outputs": [],
   "source": [
    "def get_from_and_until_times(delta):\n",
    "    actual_time = datetime.now(timezone.utc)\n",
    "    actual_time = actual_time.replace(second=0)\n",
    "    actual_timestamp = actual_time.timestamp()\n",
    "    prev_timestamp = actual_timestamp - delta\n",
    "    return int(actual_timestamp),int(prev_timestamp)"
   ]
  },
  {
   "cell_type": "code",
   "execution_count": 85,
   "id": "1005b047",
   "metadata": {},
   "outputs": [
    {
     "data": {
      "text/plain": [
       "(1696431900, 1696431800)"
      ]
     },
     "execution_count": 85,
     "metadata": {},
     "output_type": "execute_result"
    }
   ],
   "source": [
    "get_from_and_until_times(100)"
   ]
  },
  {
   "cell_type": "code",
   "execution_count": null,
   "id": "4e6297e5",
   "metadata": {},
   "outputs": [],
   "source": []
  },
  {
   "cell_type": "code",
   "execution_count": null,
   "id": "aa2fa731",
   "metadata": {},
   "outputs": [],
   "source": []
  },
  {
   "cell_type": "code",
   "execution_count": null,
   "id": "e1a951e1",
   "metadata": {},
   "outputs": [],
   "source": []
  },
  {
   "cell_type": "code",
   "execution_count": null,
   "id": "d1c9f97b",
   "metadata": {},
   "outputs": [],
   "source": []
  },
  {
   "cell_type": "code",
   "execution_count": 6,
   "id": "7c7312bf",
   "metadata": {},
   "outputs": [
    {
     "data": {
      "text/plain": [
       "datetime.datetime(2023, 10, 4, 20, 0, 19, 57166)"
      ]
     },
     "execution_count": 6,
     "metadata": {},
     "output_type": "execute_result"
    }
   ],
   "source": [
    "datetime.datetime.now()"
   ]
  },
  {
   "cell_type": "code",
   "execution_count": 11,
   "id": "4c7a55f3",
   "metadata": {},
   "outputs": [
    {
     "data": {
      "text/plain": [
       "datetime.datetime(2023, 10, 4, 14, 32, 27, 393352)"
      ]
     },
     "execution_count": 11,
     "metadata": {},
     "output_type": "execute_result"
    }
   ],
   "source": [
    "datetime.datetime.utcnow()"
   ]
  },
  {
   "cell_type": "code",
   "execution_count": 10,
   "id": "6baf11e2",
   "metadata": {},
   "outputs": [
    {
     "data": {
      "text/plain": [
       "datetime.datetime(2023, 10, 4, 14, 27, 19, 604974)"
      ]
     },
     "execution_count": 10,
     "metadata": {},
     "output_type": "execute_result"
    }
   ],
   "source": [
    "datetime.datetime.utcnow() - datetime.timedelta(minutes=5)"
   ]
  },
  {
   "cell_type": "code",
   "execution_count": 39,
   "id": "5e412c2d",
   "metadata": {},
   "outputs": [],
   "source": [
    "t = datetime.now(timezone.utc) - timedelta(minutes=5)"
   ]
  },
  {
   "cell_type": "code",
   "execution_count": 50,
   "id": "2170be20",
   "metadata": {},
   "outputs": [
    {
     "data": {
      "text/plain": [
       "datetime.datetime"
      ]
     },
     "execution_count": 50,
     "metadata": {},
     "output_type": "execute_result"
    }
   ],
   "source": [
    "type(t)"
   ]
  },
  {
   "cell_type": "code",
   "execution_count": null,
   "id": "2ddb0bf4",
   "metadata": {},
   "outputs": [],
   "source": [
    "datetime.strptime('Jun 1 2005  1:33PM', '%b %d %Y %I:%M%p')"
   ]
  },
  {
   "cell_type": "code",
   "execution_count": 54,
   "id": "f8412e5f",
   "metadata": {},
   "outputs": [],
   "source": [
    "x = t.replace(second=0)"
   ]
  },
  {
   "cell_type": "code",
   "execution_count": 56,
   "id": "529f2f08",
   "metadata": {},
   "outputs": [
    {
     "data": {
      "text/plain": [
       "1696430040.776731"
      ]
     },
     "execution_count": 56,
     "metadata": {},
     "output_type": "execute_result"
    }
   ],
   "source": [
    "x.timestamp()"
   ]
  },
  {
   "cell_type": "code",
   "execution_count": 41,
   "id": "fe123795",
   "metadata": {},
   "outputs": [
    {
     "data": {
      "text/plain": [
       "55"
      ]
     },
     "execution_count": 41,
     "metadata": {},
     "output_type": "execute_result"
    }
   ],
   "source": [
    "datetime."
   ]
  },
  {
   "cell_type": "code",
   "execution_count": 47,
   "id": "83076336",
   "metadata": {},
   "outputs": [
    {
     "data": {
      "text/plain": [
       "1696430095"
      ]
     },
     "execution_count": 47,
     "metadata": {},
     "output_type": "execute_result"
    }
   ],
   "source": [
    "int(t.timestamp())"
   ]
  },
  {
   "cell_type": "code",
   "execution_count": 49,
   "id": "dfeebd23",
   "metadata": {},
   "outputs": [
    {
     "ename": "AttributeError",
     "evalue": "attribute 'second' of 'datetime.datetime' objects is not writable",
     "output_type": "error",
     "traceback": [
      "\u001b[1;31m---------------------------------------------------------------------------\u001b[0m",
      "\u001b[1;31mAttributeError\u001b[0m                            Traceback (most recent call last)",
      "Cell \u001b[1;32mIn[49], line 1\u001b[0m\n\u001b[1;32m----> 1\u001b[0m t\u001b[38;5;241m.\u001b[39msecond \u001b[38;5;241m=\u001b[39m \u001b[38;5;241m0\u001b[39m\n",
      "\u001b[1;31mAttributeError\u001b[0m: attribute 'second' of 'datetime.datetime' objects is not writable"
     ]
    }
   ],
   "source": [
    "t.second = 0"
   ]
  },
  {
   "cell_type": "code",
   "execution_count": null,
   "id": "e8c0fd3d",
   "metadata": {},
   "outputs": [],
   "source": []
  },
  {
   "cell_type": "code",
   "execution_count": 42,
   "id": "a9e22bfa",
   "metadata": {},
   "outputs": [
    {
     "data": {
      "text/plain": [
       "776731"
      ]
     },
     "execution_count": 42,
     "metadata": {},
     "output_type": "execute_result"
    }
   ],
   "source": [
    "t.microsecond"
   ]
  },
  {
   "cell_type": "code",
   "execution_count": 44,
   "id": "116462f5",
   "metadata": {},
   "outputs": [
    {
     "data": {
      "text/plain": [
       "34"
      ]
     },
     "execution_count": 44,
     "metadata": {},
     "output_type": "execute_result"
    }
   ],
   "source": [
    "t.minute"
   ]
  },
  {
   "cell_type": "code",
   "execution_count": null,
   "id": "8b1df408",
   "metadata": {},
   "outputs": [],
   "source": []
  },
  {
   "cell_type": "code",
   "execution_count": null,
   "id": "4b8ddb30",
   "metadata": {},
   "outputs": [],
   "source": []
  },
  {
   "cell_type": "code",
   "execution_count": 26,
   "id": "6e5ed130",
   "metadata": {},
   "outputs": [
    {
     "data": {
      "text/plain": [
       "datetime.time(14, 29, 53, 375322)"
      ]
     },
     "execution_count": 26,
     "metadata": {},
     "output_type": "execute_result"
    }
   ],
   "source": [
    "t.time()"
   ]
  },
  {
   "cell_type": "code",
   "execution_count": 19,
   "id": "e1017878",
   "metadata": {},
   "outputs": [
    {
     "data": {
      "text/plain": [
       "datetime.datetime(2023, 10, 4, 14, 34, 22, 968438)"
      ]
     },
     "execution_count": 19,
     "metadata": {},
     "output_type": "execute_result"
    }
   ],
   "source": [
    "datetime.datetime.utcnow()"
   ]
  },
  {
   "cell_type": "code",
   "execution_count": null,
   "id": "61959315",
   "metadata": {},
   "outputs": [],
   "source": []
  },
  {
   "cell_type": "code",
   "execution_count": 13,
   "id": "39123857",
   "metadata": {},
   "outputs": [
    {
     "data": {
      "text/plain": [
       "datetime.datetime(2023, 10, 4, 14, 33, 2, 273549)"
      ]
     },
     "execution_count": 13,
     "metadata": {},
     "output_type": "execute_result"
    }
   ],
   "source": [
    "datetime.datetime.utcnow()"
   ]
  },
  {
   "cell_type": "code",
   "execution_count": null,
   "id": "aa7ee4b6",
   "metadata": {},
   "outputs": [],
   "source": []
  },
  {
   "cell_type": "code",
   "execution_count": null,
   "id": "e6eb8159",
   "metadata": {},
   "outputs": [],
   "source": []
  },
  {
   "cell_type": "code",
   "execution_count": null,
   "id": "5a16dcb8",
   "metadata": {},
   "outputs": [],
   "source": []
  },
  {
   "cell_type": "code",
   "execution_count": null,
   "id": "c7a06277",
   "metadata": {},
   "outputs": [],
   "source": []
  }
 ],
 "metadata": {
  "kernelspec": {
   "display_name": "Python (myNEWenv)",
   "language": "python",
   "name": "mynewenv"
  },
  "language_info": {
   "codemirror_mode": {
    "name": "ipython",
    "version": 3
   },
   "file_extension": ".py",
   "mimetype": "text/x-python",
   "name": "python",
   "nbconvert_exporter": "python",
   "pygments_lexer": "ipython3",
   "version": "3.10.12"
  }
 },
 "nbformat": 4,
 "nbformat_minor": 5
}
