{
 "cells": [
  {
   "cell_type": "markdown",
   "metadata": {
    "id": "B_ih-R1fJ6VG"
   },
   "source": [
    "# Homework 4: Linear Binary Classification Methods\n",
    "\n",
    "**Due date**: October 12, Wednesday by 11:59pm\n",
    "\n"
   ]
  },
  {
   "cell_type": "markdown",
   "metadata": {
    "id": "iTtN4g49nWrB"
   },
   "source": [
    "**Important:** unless otherwise specified, you should **NOT** use loops. This is not to say loops are always bad, but avoiding them should help you:\n",
    "1.   get more familiar with common language features and libraries\n",
    "2.   write more efficient code\n",
    "3.   \"think in higher dimensions\" (get more comfortable with vectors, matrices, etc.)"
   ]
  },
  {
   "cell_type": "markdown",
   "metadata": {
    "id": "Vf7z43OcK2ax"
   },
   "source": [
    "## **Question 1:** Linear Discriminant Analysis by Hand (20 points)\n",
    "\n",
    "\n",
    "Suppose we have 4 training points, each in 2-dimensions: two points in class 1 at $\\boldsymbol{x}_1 = \\left[\n",
    "\\begin{array}{c}\n",
    "1 \\\\\n",
    "1\n",
    "\\end{array} \\right]\n",
    "\\mbox{ and }\n",
    "\\boldsymbol{x}_2 = \\left[\n",
    "\\begin{array}{c}\n",
    "2 \\\\\n",
    "2\n",
    "\\end{array} \\right]$\n",
    ", and two points in class 2 at\n",
    "$\\boldsymbol{x}_3 = \\left[\n",
    "\\begin{array}{c}\n",
    "-1 \\\\\n",
    "2\n",
    "\\end{array} \\right]\n",
    "\\mbox{ and }\n",
    "\\boldsymbol{x}_4 = \\left[\n",
    "\\begin{array}{c}\n",
    "-3 \\\\\n",
    "6\n",
    "\\end{array} \\right]$.\n",
    "In the following, show all of your work."
   ]
  },
  {
   "cell_type": "markdown",
   "metadata": {
    "id": "cxZX2J8wLVix"
   },
   "source": [
    "### Problem a. (4 points)\n",
    "\n",
    "Compute the mean vectors $\\boldsymbol{\\mu}_1$ and $\\boldsymbol{\\mu}_2$ for the two classes."
   ]
  },
  {
   "cell_type": "markdown",
   "metadata": {
    "id": "eEFD30vtfu3T"
   },
   "source": [
    "### Problem b. (10 points)\n",
    "Compute the average within-class covariance matrix $\\sum_{x}$."
   ]
  },
  {
   "cell_type": "markdown",
   "metadata": {
    "id": "YhgVuFW9w773"
   },
   "source": [
    "### Problem c. (6 points)\n",
    "\n",
    "Compute the weight vector $\\boldsymbol{w}_{LDA}$ and bias vector $\\boldsymbol{c}_{LDA}$ for Linear Discriminant Analysis. Recall that the inverse of a $2 \\times 2$ matrix is given by\n",
    "\n",
    "$\\left[\n",
    "\\begin{array}{cc}\n",
    "a & b\\\\\n",
    "c & d\n",
    "\\end{array} \\right]^{-1}\n",
    "= \\frac{1}{ad - bc} \\left[\n",
    "\\begin{array}{cc}\n",
    "d & -b\\\\\n",
    "-c & a\n",
    "\\end{array} \\right]$\n",
    "\n",
    "\n",
    "Which point is closest to the decision boundary?\n",
    "\n",
    "**Note:** The distance between a point $(x_0, y_0)$ and a line $ax + by + c = 0$ is equal to $\\frac{|ax_0 + by_0 + c|}{\\sqrt{a^2 + b^2}}$."
   ]
  },
  {
   "cell_type": "markdown",
   "metadata": {
    "id": "_32VwlhsN9ny"
   },
   "source": [
    "## **Question 2:** Creating a Dataset (10 points)\n",
    "\n",
    "For this assignment, we will create a simple linearly-separable dataset for binary classification. We have provided you with the code to generate the feature vectors. Notice that one class has significantly more samples than the other.\n",
    "\n",
    "**Important:** Although this dataset has only 1 feature, **ALL** the code you write in this assignment should be able to run as intended with more features. The only exception is where you are producing plots. Many functions you need to write will be tested for compatibility with more features in question 5."
   ]
  },
  {
   "cell_type": "code",
   "execution_count": 1,
   "metadata": {
    "id": "LS0rlO3eOCZK"
   },
   "outputs": [],
   "source": [
    "import numpy as np\n",
    "import pandas as pd\n",
    "import matplotlib.pyplot as plt\n",
    "from sklearn.model_selection import train_test_split\n",
    "from numpy.random import default_rng"
   ]
  },
  {
   "cell_type": "code",
   "execution_count": 2,
   "metadata": {
    "id": "lw5AUAsV5MQr"
   },
   "outputs": [],
   "source": [
    "# Do NOT change\n",
    "rng = default_rng(42)\n",
    "x1 = rng.normal(-1, 1, 80)\n",
    "x2 = rng.normal(4, np.sqrt(3), 20)"
   ]
  },
  {
   "cell_type": "markdown",
   "metadata": {
    "id": "S7rbmFam-xWg"
   },
   "source": [
    "### Problem a. (4 points)\n",
    "We need to create appropriate labels for the two classes. x1 is the feature vectors of the negative class and x2 the positive class. Also produce a colored feature-label scatter plot (the negative class should be blue and the positive class should be red)."
   ]
  },
  {
   "cell_type": "code",
   "execution_count": 3,
   "metadata": {},
   "outputs": [
    {
     "data": {
      "image/png": "[encoded data removed]",
      "text/plain": [
       "<Figure size 640x480 with 1 Axes>"
      ]
     },
     "metadata": {},
     "output_type": "display_data"
    }
   ],
   "source": [
    "import matplotlib.pyplot as plt\n",
    "import numpy as np\n",
    "np.random.seed(0)\n",
    "plt.scatter(x1, np.zeros_like(x1), color='blue', label='Negative Class')\n",
    "plt.scatter(x2, np.zeros_like(x2), color='red', label='Positive Class')\n",
    "plt.xlabel('X')\n",
    "plt.ylabel('Y')\n",
    "plt.legend()\n",
    "plt.show()"
   ]
  },
  {
   "cell_type": "markdown",
   "metadata": {
    "id": "YRLTGhczArfW"
   },
   "source": [
    "### Problem b. (3 points)\n",
    "Combine the data into X and y, and then perform a 75-25 train-test split. Use 42 as the random_state.\n",
    "\n",
    "Hint: X has to be a 2D array, so you need to use reshape at some point."
   ]
  },
  {
   "cell_type": "code",
   "execution_count": 4,
   "metadata": {
    "id": "ofFs0MR9Dp7z"
   },
   "outputs": [],
   "source": [
    "# WRITE CODE HERE:\n",
    "\n",
    "random_state=42\n",
    "test_size=0.25\n",
    "\n",
    "X = np.concatenate([x1,x2])\n",
    "y = np.array([0]*len(x1) + [1]*len(x2))\n",
    "\n",
    "from sklearn.model_selection import train_test_split\n",
    "X_train, X_test, y_train, y_test = train_test_split(X, y, test_size=test_size, random_state=random_state)"
   ]
  },
  {
   "cell_type": "markdown",
   "metadata": {
    "id": "fTlkYTs619A_"
   },
   "source": [
    "### Problem c. (3 points)\n",
    "To conveniently account for the bias term in later parts, we will also extend all feature vectors by appending a 1. Apply this to both X_train and X_test."
   ]
  },
  {
   "cell_type": "code",
   "execution_count": 5,
   "metadata": {
    "id": "4LFCgyVU3EKY"
   },
   "outputs": [],
   "source": [
    "#WRITE CODE HERE:\n",
    "\n",
    "# Create a column of 1's\n",
    "train_one = np.ones((X_train.shape[0], 1))\n",
    "test_one = np.ones((X_test.shape[0], 1))\n",
    "\n",
    "Xtr_ext = np.column_stack((X_train, train_one))\n",
    "Xte_ext = np.column_stack((X_test, test_one))"
   ]
  },
  {
   "cell_type": "markdown",
   "metadata": {
    "id": "OF7u7IoGC96w"
   },
   "source": [
    "## **Question 3:** Fisher's Linear Discriminant (22 points)\n",
    "Fisher's Linear Discriminant is a method that takes d dimensional feature vectors and projects them into 1 dimension, and it tries to do so in a fashion where the resulting 1D values are well-separated by class. Here our d happens to be 1, but as mentioned above, the code you write needs to be able to accomodate higher dimensions for full credit."
   ]
  },
  {
   "cell_type": "markdown",
   "metadata": {
    "id": "VaVLlwwJWrpX"
   },
   "source": [
    "### a. Separate the training set by class (4 points)\n",
    "\n",
    "Write a function seperate that takes the inputs X, y and separates X based on y.\n",
    "\n",
    "For full credit, create a vectorized implementation (no for loops)."
   ]
  },
  {
   "cell_type": "code",
   "execution_count": 6,
   "metadata": {
    "id": "991ZOOYCY02l"
   },
   "outputs": [],
   "source": [
    "def seperate(X, y):\n",
    "    # WRITE CODE HERE:\n",
    "\n",
    "     # Get unique labels in y\n",
    "    unique_labels = np.unique(y)\n",
    "\n",
    "    # Create an empty dictionary to store separated data\n",
    "    separated_data = {label: X[y == label] for label in unique_labels}\n",
    "    \n",
    "    X1 = separated_data[unique_labels[0]]\n",
    "    X2 = separated_data[unique_labels[1]]\n",
    "    return X1,X2\n",
    "\n",
    "X1,X2 = seperate(X_train, y_train)"
   ]
  },
  {
   "cell_type": "markdown",
   "metadata": {
    "id": "bMMqIr0xB9BP"
   },
   "source": [
    "### b. Calculate mean vectors (4 points)\n",
    "Write a function get_means that takes the inputs X1, X2 and calculates the mean vectors of the two classes.\n",
    "\n",
    "For full credit, create a vectorized implementation (no for loops)."
   ]
  },
  {
   "cell_type": "code",
   "execution_count": 7,
   "metadata": {
    "id": "GxuPgvLQKTPF"
   },
   "outputs": [
    {
     "name": "stdout",
     "output_type": "stream",
     "text": [
      "m1, m2: -0.9816871675794315 3.1008681575601402\n"
     ]
    }
   ],
   "source": [
    "def get_means(X1, X2):\n",
    "    # WRITE CODE HERE:\n",
    "    m1 = np.mean(X1, axis=0)\n",
    "    m2 = np.mean(X2, axis=0)\n",
    "    return m1, m2\n",
    "\n",
    "m1, m2 = get_means(X1, X2)\n",
    "print('m1, m2:', m1, m2)"
   ]
  },
  {
   "cell_type": "markdown",
   "metadata": {
    "id": "X3xQqSq_Ogmd"
   },
   "source": [
    "### c. Calculate within-class covariance (4 points)\n",
    "$S_w$, the total within-class covariance matrix, is a d by d matrix given by $S_1 + S_2$ where $S_1 = \\sum_{x_i \\in X_1}(x_i-m_1)^T(x_i-m_1) = (X_1-m_1)^T(X_1-m_1)$.\n",
    "\n",
    "Write a function get_Sw that takes the inputs X1, X2, m1, m2 and calculates Sw.\n",
    "\n",
    "For full credit, create a vectorized implementation.\n",
    "\n",
    "**Note:** depending on the schema of the dataset (row-major vs column-major), the formula to use might differ slightly from those on the lecture slides. We assume row-major (each sample is a row) here, as many public datasets are organized this way."
   ]
  },
  {
   "cell_type": "code",
   "execution_count": 8,
   "metadata": {
    "id": "C5NaX0uwUXll"
   },
   "outputs": [
    {
     "name": "stdout",
     "output_type": "stream",
     "text": [
      "Sw: 52.82609458984267\n"
     ]
    }
   ],
   "source": [
    "def get_Sw(X1, X2, m1, m2):\n",
    "    # Calculate the centered data matrices.\n",
    "    X1_centered = X1 - m1\n",
    "    X2_centered = X2 - m2\n",
    "\n",
    "    # Calculate the within-class scatter matrix.\n",
    "    Sw = np.dot(X1_centered.T, X1_centered) + np.dot(X2_centered.T, X2_centered)\n",
    "    return Sw\n",
    "\n",
    "Sw = get_Sw(X1, X2, m1, m2)\n",
    "print('Sw:', Sw)"
   ]
  },
  {
   "cell_type": "markdown",
   "metadata": {
    "id": "NnV8WWDBdZAG"
   },
   "source": [
    "### d. Calculate $w_{FLD}$ and $b_{FLD}$ (4 points)\n",
    "Write a function get_wFLD_ext that takes the inputs Sw, m1, m2 and calculates the extended $w_{FLD}$.\n",
    "\n",
    "Recall that in class we mentioned the average of the averages of the two classes after the linear transformation can serve as the bias term. However, since we want the outputs of $Xw + b$ on the two classes to be roughly separated by 0, we actually want the effect of adding b to be the same as subtracting that average. Thus, use $b = -(m_1w + m_2w)/2$.\n",
    "\n",
    "For full credit, create a vectorized implementation, and do not use the inverse function.\n"
   ]
  },
  {
   "cell_type": "code",
   "execution_count": 9,
   "metadata": {},
   "outputs": [],
   "source": [
    "Sw, m1, m2 = np.array([[Sw]]),np.array([[m1]]),np.array([[m2]])"
   ]
  },
  {
   "cell_type": "code",
   "execution_count": 10,
   "metadata": {
    "id": "F1BuMyNvdXm9"
   },
   "outputs": [
    {
     "name": "stdout",
     "output_type": "stream",
     "text": [
      "wFLD_ext: [-0.07728293  0.08188826]\n"
     ]
    }
   ],
   "source": [
    "# def get_wFLD_ext(Sw, m1, m2):\n",
    "\n",
    "#     # Calculate the pooled scatter matrix.\n",
    "#     Sw_p = (Sw + Sw.T) / 2\n",
    "    \n",
    "#     # Calculate the mean difference vector.\n",
    "#     m_diff = m1 - m2\n",
    "\n",
    "#     # Calculate the extended WFLD vector.\n",
    "#     w_FLD_ext = np.linalg.inv(Sw_p).dot(m_diff)\n",
    "\n",
    "#     # Normalize the extended WFLD vector.\n",
    "#     w_FLD_ext /= np.linalg.norm(w_FLD_ext)\n",
    "\n",
    "#     return w_FLD_ext\n",
    "\n",
    "\n",
    "def get_wFLD_ext(Sw, m1, m2):\n",
    "    # Calculate the weights wFLD_ext without using the inverse\n",
    "    wFLD_ext = np.linalg.lstsq(Sw, (m1 - m2), rcond=None)[0]\n",
    "\n",
    "    # Calculate the bias term b as per the given formula\n",
    "    b = -0.5 * np.dot(wFLD_ext, (m1 + m2))\n",
    "\n",
    "    # Append the bias term to wFLD_ext\n",
    "    wFLD_ext = np.append(wFLD_ext, b)\n",
    "\n",
    "    return wFLD_ext\n",
    "\n",
    "wFLD_ext = get_wFLD_ext(Sw, m1, m2)\n",
    "print('wFLD_ext:', wFLD_ext)"
   ]
  },
  {
   "cell_type": "markdown",
   "metadata": {
    "id": "R5FyLF32e9t0"
   },
   "source": [
    "### Problem e. (2 points)\n",
    "\n",
    "Create a scatter plot of the training data overlayed by the FLD solution."
   ]
  },
  {
   "cell_type": "code",
   "execution_count": 11,
   "metadata": {
    "id": "6E8A6SAwhTzy"
   },
   "outputs": [
    {
     "name": "stdout",
     "output_type": "stream",
     "text": [
      "The test CCR using FLD is [[-0.25803306  0.27340938]\n",
      " [ 0.10198806 -0.10806558]\n",
      " [ 0.1758717  -0.18635199]\n",
      " [ 0.06038203 -0.06398023]\n",
      " [ 0.06826511 -0.07233306]\n",
      " [ 0.02700321 -0.02861235]\n",
      " [-0.01719865  0.01822352]\n",
      " [-0.37027472  0.39233957]\n",
      " [ 0.00932048 -0.00987589]\n",
      " [ 0.0537335  -0.05693551]\n",
      " [ 0.00939372 -0.00995349]\n",
      " [-0.08822987  0.09348753]\n",
      " [ 0.03886089 -0.04117663]\n",
      " [ 0.14017367 -0.14852669]\n",
      " [-0.39819881  0.42192767]\n",
      " [ 0.22806464 -0.24165513]\n",
      " [ 0.11030227 -0.11687523]\n",
      " [ 0.06503052 -0.06890572]\n",
      " [ 0.07217988 -0.07648112]\n",
      " [ 0.10869187 -0.11516887]\n",
      " [ 0.12665728 -0.13420485]\n",
      " [-0.37348348  0.39573955]\n",
      " [ 0.03614452 -0.03829839]\n",
      " [ 0.12871547 -0.13638569]\n",
      " [ 0.09206749 -0.09755383]]\n"
     ]
    },
    {
     "data": {
      "image/png": "[encoded data removed]",
      "text/plain": [
       "<Figure size 640x480 with 1 Axes>"
      ]
     },
     "metadata": {},
     "output_type": "display_data"
    }
   ],
   "source": [
    "# WRITE CODE HERE:\n",
    "\n",
    "CCR = np.dot(X_test.reshape(-1,1), wFLD_ext.reshape(1,-1))\n",
    "print(\"The test CCR using FLD is\", CCR)\n",
    "\n",
    "# Plot the scatter plot\n",
    "X_train_projected = np.dot(Xtr_ext.reshape(-1,1), wFLD_ext.reshape(1,-1))\n",
    "plt.scatter(X_train_projected, np.zeros_like(X_train_projected), marker=\"o\")\n",
    "\n",
    "# Set the title and labels\n",
    "plt.title(\"Scatter Plot of Training Data with FLD Solution\")\n",
    "plt.xlabel(\"Projected Feature\")\n",
    "plt.ylabel(\"Class\")\n",
    "\n",
    "# Show the plot\n",
    "plt.show()"
   ]
  },
  {
   "cell_type": "markdown",
   "metadata": {
    "id": "vIh9J5aEoZDO"
   },
   "source": [
    "### f. Evaluation (4 points)\n",
    "\n",
    "Complete the linear_binary_predict function to predict the labels of the test set. Also complete compute_CCR and report the correct classification rate (CCR).\n",
    "\n",
    "linear_binary_predict takes Xext, a matrix of extended feature vectors, and wext, an extended weight vector; it performs linear binary classification and returns a vector of predicted binary labels.\n",
    "\n",
    "compute_CCR takes Xext, wext, along with y, the expected binary labels to compute CCR. It should make use of linear_binary_predict.\n",
    "\n",
    "Note:\n",
    "*   We assume Xext to be row-major, meaning each row is a sample.\n",
    "*   Do not change the function prototype of linear_binary_predict. This also applies to all other functions we ask you to complete\n"
   ]
  },
  {
   "cell_type": "code",
   "execution_count": 12,
   "metadata": {
    "id": "235G7Q4hUb2J"
   },
   "outputs": [
    {
     "name": "stdout",
     "output_type": "stream",
     "text": [
      "The test CCR using FLD is 0.04\n"
     ]
    }
   ],
   "source": [
    "def linear_binary_predict(Xext, wext):\n",
    "    # WRITE CODE HERE:\n",
    "    predictions = np.dot(Xext, wext) > 0\n",
    "    return predictions.astype(int)  # Convert True/False to 1/0\n",
    "\n",
    "def compute_CCR(Xext, wext, y):\n",
    "    # WRITE CODE HERE:\n",
    "    \n",
    "    # Predict labels using linear_binary_predict\n",
    "    predictions = linear_binary_predict(Xext, wext)\n",
    "\n",
    "    # Compute the Correct Classification Rate (CCR)\n",
    "    correct_classifications = (predictions == y).sum()\n",
    "    CCR = correct_classifications / len(y)\n",
    "    return CCR\n",
    "\n",
    "CCR = compute_CCR(Xte_ext, wFLD_ext, y_test)\n",
    "print(\"The test CCR using FLD is\", CCR)"
   ]
  },
  {
   "cell_type": "markdown",
   "metadata": {
    "id": "DD3OmuyQ5mXF"
   },
   "source": [
    "## **Question 4:** An algorithm using SGD (33 points)\n",
    "Let us consider a different linear classifier in this problem, one based on the idea of an $\\textit{error}$ function minimization problem, similar to what we studied with linear regression, but whose error function is more tailored to the classification problem.\n",
    "\n",
    "The form of our linear classifier is $h_{\\bf{w}}(\\bf{x}) = \\mbox{sgn}(\\bf{w}^T \\bf{x})$, where $sgn$ is the sign function (so $1$ if $\\bf{w}^T \\bf{x} \\geq 0$ and $-1$ otherwise).  We are assuming here that we have padded the inputs with an extra dimension of $1$ to account for the bias term in the linear function, as we did with linear regression.\n",
    "\n",
    "In the binary classification case, each target class $y_i$ is either $1$ or $-1$.  One possible error function to use would say that the error is 0 if our linear classifier agrees with the target label (i.e. $y_i = \\mbox{sgn}(\\bf{w}^T \\bf{x}_i$)), and if our linear classifier predicts the incorrect class ($y_i \\neq \\mbox{sgn}(\\bf{w}^T \\bf{x}_i$)), then the error will be given by $|\\bf{w}^T \\bf{x}_i|$---intuitively, we penalize more for predictions that are farther from being predicted correctly.\n",
    "\n",
    "**Note:** the analytical parts of this question assume column feature vectors. However, you should still assume row feature vectors in the coding parts for consistency with our datasets."
   ]
  },
  {
   "cell_type": "markdown",
   "metadata": {
    "id": "442rR7Lp6bRv"
   },
   "source": [
    "### Problem a. (5 points)\n",
    "Show that, for each training point, this error function may be concisely written as\n",
    "\n",
    "$L_i(\\bf{w}) = \\max(0, -y_i \\bf{w}^T \\bf{x}_i)^2$."
   ]
  },
  {
   "cell_type": "markdown",
   "metadata": {
    "id": "HRu8k3mE7Ryi"
   },
   "source": [
    "### Problem b. (5 points)\n",
    "We will compute the total loss over the training data as the sum of the $L_i$ losses, namely\n",
    "\n",
    "$L(\\bf{w}) = \\sum_{i=1}^n \\max(0, -y_i \\bf{w}^T \\bf{x}_i)^2$.\n",
    "\n",
    "Note that one reason we chose this particular loss function is that it is continuous (unlike the 0-1 loss).  Furthermore, it has a simple sub-gradient.  The sub-gradient of the loss at 0 is 0, and everywhere else it is equal to the gradient.  Show that the sub-gradient is equal to\n",
    "$\\nabla_{\\bf{w}} L_i =\n",
    "\\begin{cases}\n",
    "0 & h_{\\bf{w}} \\mbox{ classifies $\\bf{x}_i$ correctly}\\\\\n",
    "-2y_i \\bf{x}_i & h_{\\bf{w}} \\mbox{ classifies $\\bf{x}_i$ incorrectly.}\n",
    "\\end{cases}$"
   ]
  },
  {
   "cell_type": "markdown",
   "metadata": {
    "id": "lF24kNfQuSKB"
   },
   "source": [
    "### Problem c. (5 points)\n",
    "Using a batch size of 1 and a step size of 1, write down the update rule for stochastic (sub)-gradient descent to minimize $L(\\boldsymbol{w})$."
   ]
  },
  {
   "cell_type": "markdown",
   "metadata": {
    "id": "IpOT7Z6BrV6T"
   },
   "source": [
    "### Problem d. (10 points)\n",
    "Now it's time to implement the actual algorithm using the update rule we derived from part c.\n",
    "\n",
    "1.   Complete the one_pass function, which iterates over the entire Xext and y once, updating w in the process. (6 points)\n",
    "2.   Go over the training set twice (2 epochs) to get your final w, which you can do by calling one_pass twice in the get_wSGD function. Then report the CCR on the test set. (6 points)\n",
    "\n",
    "Note:\n",
    "* You should always shuffle the training set before each pass\n",
    "* The first shuffle has already been performed by train_test_split, so a shuffle before the first pass is not required here.\n",
    "* If you run just this cell multiple times, you will likely get different CCRs because of shuflling. You should do a \"Run all\" before submitting."
   ]
  },
  {
   "cell_type": "code",
   "execution_count": 13,
   "metadata": {
    "id": "e14KZEtjvOuO"
   },
   "outputs": [
    {
     "name": "stdout",
     "output_type": "stream",
     "text": [
      "The test CCR using SGD is 0.84\n",
      "wSGD: [0. 0.]\n"
     ]
    }
   ],
   "source": [
    "from sklearn.utils import shuffle\n",
    "\n",
    "def one_pass(Xext, y, w):\n",
    "    n = Xext.shape[0]\n",
    "    for i in range(n):\n",
    "        xi = Xext[i]\n",
    "        yi = y[i]\n",
    "        gradient = 0  # Initialize the gradient\n",
    "        if -yi * np.dot(w, xi) < 0:  # Check if this is a misclassified point\n",
    "            gradient = -2 * yi * xi\n",
    "        w = w - gradient  # Update w\n",
    "    return w\n",
    "\n",
    "def get_wSGD(Xext, y):\n",
    "    # use 42 as the random state for shuffling\n",
    "    random_state=42\n",
    "    w = np.zeros(Xext.shape[1])  # Initialize w with zeros\n",
    "    for epoch in range(2):  # Two passes (epochs) over the dataset\n",
    "        Xext, y = shuffle(Xext, y, random_state=random_state)  # Shuffle the data\n",
    "        w = one_pass(Xext, y, w)  # Perform one pass and update w\n",
    "    return w\n",
    "\n",
    "wSGD = get_wSGD(Xtr_ext, y_train)\n",
    "\n",
    "# Calculate the Correct Classification Rate (CCR)\n",
    "CCR = compute_CCR(Xte_ext, wSGD, y_test)\n",
    "print(\"The test CCR using SGD is\", CCR)\n",
    "print('wSGD:', wSGD)"
   ]
  },
  {
   "cell_type": "markdown",
   "metadata": {
    "id": "KAyX-08Z1f5h"
   },
   "source": [
    "### Problem e. (10 points)\n",
    "\n",
    "In previus parts we are using a fixed step size of 1, which can be too large for SGD to converge to a local minimum consistently.\n",
    "\n",
    "In practice, a technique called learning rate decay is commonly used with SGD. Essentially, the step size gets smaller after each iteration. This allows you to \"learn fast\" in the beginning and also be able to converge to a local minimum later when you are close to one.\n",
    "\n",
    "Another hyperparameter that can be changed is the batch size. Althouh a larger batch size makes each step slower, it allows for more accurate estimates of the gradient at each step.\n",
    "\n",
    "We will use a batch size of 4, and an initial learning rate (step size) of 1 with the inverse square root decay, which means the step size at iteration $t$ is $\\frac1{\\sqrt t}$.\n",
    "\n",
    "Note:\n",
    "* Average the gradient over the batch. If the last batch of an epoch contains less than 4 data points, simply skip it and proceed to the next epoch.\n",
    "* $t$ starts at 1, not 0; otherwise, you will get a division by 0\n",
    "* You can get rid of the one_pass2 function if you think it's better to incorporate it into get_wSGD2."
   ]
  },
  {
   "cell_type": "code",
   "execution_count": 14,
   "metadata": {
    "id": "qlM2SdxOvGvi"
   },
   "outputs": [
    {
     "name": "stdout",
     "output_type": "stream",
     "text": [
      "The test CCR using SGD with decay is 0.84\n",
      "wSGD2: [0. 0.]\n"
     ]
    }
   ],
   "source": [
    "def one_pass2(Xext, y, w, t, batch_size):\n",
    "    n = Xext.shape[0]\n",
    "    for i in range(0, n, batch_size):\n",
    "        if i + batch_size > n:\n",
    "            continue  # Skip the last batch if it contains less than 4 data points\n",
    "        Xi = Xext[i:i + batch_size]\n",
    "        yi = y[i:i + batch_size]\n",
    "        gradient = np.zeros(Xext.shape[1])  # Initialize the gradient\n",
    "        for j in range(batch_size):\n",
    "            xi = Xi[j]\n",
    "            yi_j = yi[j]\n",
    "            if -yi_j * np.dot(w, xi) < 0:  # Check if this is a misclassified point\n",
    "                gradient += -2 * yi_j * xi\n",
    "        step_size = 1 / np.sqrt(t)  # Learning rate decay\n",
    "        w = w - step_size * gradient  # Update w\n",
    "        t += 1\n",
    "    return w, t\n",
    "\n",
    "\n",
    "def get_wSGD2(Xext, y, batch_size=4):\n",
    "    # use 42 as the random state for shuffling\n",
    "    random_state=42\n",
    "    w = np.zeros(Xext.shape[1])  # Initialize w with zeros\n",
    "    t = 1  # Starting iteration\n",
    "    for epoch in range(2):  # Two passes (epochs) over the dataset\n",
    "        Xext, y = shuffle(Xext, y, random_state=random_state)  # Shuffle the data\n",
    "        w, t = one_pass2(Xext, y, w, t, batch_size)  # Perform one pass with decay and update w\n",
    "    return w\n",
    "\n",
    "wSGD2 = get_wSGD2(Xtr_ext, y_train)\n",
    "CCR = compute_CCR(Xte_ext, wSGD2, y_test)\n",
    "print(\"The test CCR using SGD with decay is\", CCR)\n",
    "print('wSGD2:', wSGD2)"
   ]
  },
  {
   "cell_type": "markdown",
   "metadata": {
    "id": "tcnj3HYJHTqa"
   },
   "source": [
    "## **Question 5:** Testing the above methods on a real-world dataset (6 points)\n",
    "No code is required for this part. Getting part a to run correctly is not required for part b.\n",
    "\n",
    "The purpose of this question is to compare the three (four if you count SGD with decay as a separate one) methods on a real-world dataset. We will use the famous Iris dataset created by Sir Ronald Fisher (the same Fisher as in Fisher's Linear Discriminant). It contains feature measurements of 150 samples from three *Iris* flower species. We will combine two of the classes into a single negative class and the remaining class is the positive class."
   ]
  },
  {
   "cell_type": "markdown",
   "metadata": {
    "id": "ekpBYEcfB8-3"
   },
   "source": [
    "Run the cells below. The code for this part is provided to you, but it requires several earlier functions to be properly implemented to run. They need to be able to handle data with multiple features.\n",
    "\n",
    "You will be graded on how well the behavior of this part matches our expectation. Do NOT modify the code provided here; if you have issues running it, check the code you wrote in previous parts."
   ]
  },
  {
   "cell_type": "code",
   "execution_count": 15,
   "metadata": {
    "id": "usHZVolZXXen"
   },
   "outputs": [],
   "source": [
    "import pandas as pd\n",
    "from sklearn.datasets import load_iris\n",
    "from sklearn.preprocessing import normalize\n",
    "\n",
    "iris = load_iris()\n",
    "\n",
    "# Split data into feature vectors and labels\n",
    "X = iris.data\n",
    "y = iris.target\n",
    "# change the label values for binary classification\n",
    "y[:100] = -1\n",
    "y[100:] = 1"
   ]
  },
  {
   "cell_type": "code",
   "execution_count": 16,
   "metadata": {
    "id": "8yfPgky0OvO-"
   },
   "outputs": [],
   "source": [
    "X_train, X_test, y_train, y_test = train_test_split(X, y, random_state=1234, test_size=0.25)\n",
    "Xtr_ext = np.c_[X_train, np.ones(X_train.shape[0])]\n",
    "Xte_ext = np.c_[X_test, np.ones(X_test.shape[0])]"
   ]
  },
  {
   "cell_type": "code",
   "execution_count": 17,
   "metadata": {},
   "outputs": [
    {
     "name": "stdout",
     "output_type": "stream",
     "text": [
      "wFLD_ext: [-0.07728293  0.08188826]\n"
     ]
    }
   ],
   "source": [
    "import numpy as np\n",
    "\n",
    "def get_wFLD_ext(Sw, m1, m2):\n",
    "    # Calculate the weights wFLD_ext without using the inverse\n",
    "    wFLD_ext = np.linalg.lstsq(Sw, (m1 - m2), rcond=None)[0]\n",
    "\n",
    "    # Calculate the bias term b as per the given formula\n",
    "    b = -0.5 * np.dot(wFLD_ext, (m1 + m2))\n",
    "\n",
    "    # Append the bias term to wFLD_ext\n",
    "    wFLD_ext = np.append(wFLD_ext, b)\n",
    "\n",
    "    return wFLD_ext\n",
    "\n",
    "# Example usage\n",
    "# Assuming you have already computed Sw, m1, and m2\n",
    "wFLD_ext = get_wFLD_ext(Sw, m1, m2)\n",
    "print('wFLD_ext:', wFLD_ext)"
   ]
  },
  {
   "cell_type": "code",
   "execution_count": 18,
   "metadata": {
    "id": "9coGwIiKQZPh"
   },
   "outputs": [
    {
     "name": "stdout",
     "output_type": "stream",
     "text": [
      "The test CCR using FLD is 0.02631578947368421\n",
      "The test CCR using SGD is 0.0\n",
      "The test CCR using SGD with decay is 0.0\n"
     ]
    }
   ],
   "source": [
    "X1, X2 = seperate(X_train, y_train)\n",
    "m1, m2 = get_means(X1, X2)\n",
    "Sw = get_Sw(X1, X2, m1, m2)\n",
    "wFLD_ext = get_wFLD_ext(Sw, m1, m2)\n",
    "CCR = compute_CCR(Xte_ext, wFLD_ext, y_test)\n",
    "print(\"The test CCR using FLD is\", CCR)\n",
    "\n",
    "wSGD = get_wSGD(Xtr_ext, y_train)\n",
    "CCR = compute_CCR(Xte_ext, wSGD, y_test)\n",
    "print(\"The test CCR using SGD is\", CCR)\n",
    "\n",
    "wSGD2 = get_wSGD2(Xtr_ext, y_train)\n",
    "CCR = compute_CCR(Xte_ext, wSGD2, y_test)\n",
    "print(\"The test CCR using SGD with decay is\", CCR)"
   ]
  },
  {
   "cell_type": "code",
   "execution_count": null,
   "metadata": {},
   "outputs": [],
   "source": []
  }
 ],
 "metadata": {
  "colab": {
   "provenance": []
  },
  "kernelspec": {
   "display_name": "Python 3 (ipykernel)",
   "language": "python",
   "name": "python3"
  },
  "language_info": {
   "codemirror_mode": {
    "name": "ipython",
    "version": 3
   },
   "file_extension": ".py",
   "mimetype": "text/x-python",
   "name": "python",
   "nbconvert_exporter": "python",
   "pygments_lexer": "ipython3",
   "version": "3.9.15"
  }
 },
 "nbformat": 4,
 "nbformat_minor": 1
}
