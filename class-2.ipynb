{
 "cells": [
  {
   "cell_type": "code",
   "execution_count": 4,
   "id": "1e4dae1b",
   "metadata": {},
   "outputs": [],
   "source": [
    "d1 = {}\n",
    "d2 = dict()"
   ]
  },
  {
   "cell_type": "code",
   "execution_count": 2,
   "id": "943c03a8",
   "metadata": {},
   "outputs": [
    {
     "data": {
      "text/plain": [
       "dict"
      ]
     },
     "execution_count": 2,
     "metadata": {},
     "output_type": "execute_result"
    }
   ],
   "source": [
    "type(s)"
   ]
  },
  {
   "cell_type": "code",
   "execution_count": 3,
   "id": "c78b5826",
   "metadata": {},
   "outputs": [
    {
     "data": {
      "text/plain": [
       "dict"
      ]
     },
     "execution_count": 3,
     "metadata": {},
     "output_type": "execute_result"
    }
   ],
   "source": [
    "type(ss)"
   ]
  },
  {
   "cell_type": "code",
   "execution_count": 5,
   "id": "fcc8ac91",
   "metadata": {},
   "outputs": [],
   "source": [
    "s = set()"
   ]
  },
  {
   "cell_type": "markdown",
   "id": "14b8697e",
   "metadata": {},
   "source": [
    "# SET"
   ]
  },
  {
   "cell_type": "code",
   "execution_count": 6,
   "id": "d7fd8cc9",
   "metadata": {},
   "outputs": [],
   "source": [
    "s = set()"
   ]
  },
  {
   "cell_type": "code",
   "execution_count": 7,
   "id": "3d4934fe",
   "metadata": {},
   "outputs": [
    {
     "data": {
      "text/plain": [
       "set"
      ]
     },
     "execution_count": 7,
     "metadata": {},
     "output_type": "execute_result"
    }
   ],
   "source": [
    "type(s)"
   ]
  },
  {
   "cell_type": "code",
   "execution_count": 14,
   "id": "aadf8d9f",
   "metadata": {},
   "outputs": [],
   "source": [
    "s = {1,2}"
   ]
  },
  {
   "cell_type": "code",
   "execution_count": 15,
   "id": "e4360194",
   "metadata": {},
   "outputs": [
    {
     "data": {
      "text/plain": [
       "{1, 2}"
      ]
     },
     "execution_count": 15,
     "metadata": {},
     "output_type": "execute_result"
    }
   ],
   "source": [
    "s"
   ]
  },
  {
   "cell_type": "code",
   "execution_count": 16,
   "id": "bc944af0",
   "metadata": {},
   "outputs": [
    {
     "data": {
      "text/plain": [
       "set"
      ]
     },
     "execution_count": 16,
     "metadata": {},
     "output_type": "execute_result"
    }
   ],
   "source": [
    "type(s)"
   ]
  },
  {
   "cell_type": "code",
   "execution_count": 17,
   "id": "93b3ae72",
   "metadata": {},
   "outputs": [],
   "source": [
    "s.add(41)"
   ]
  },
  {
   "cell_type": "code",
   "execution_count": 18,
   "id": "f6771d9f",
   "metadata": {},
   "outputs": [
    {
     "data": {
      "text/plain": [
       "{1, 2, 41}"
      ]
     },
     "execution_count": 18,
     "metadata": {},
     "output_type": "execute_result"
    }
   ],
   "source": [
    "s"
   ]
  },
  {
   "cell_type": "code",
   "execution_count": 20,
   "id": "fa79800f",
   "metadata": {},
   "outputs": [
    {
     "data": {
      "text/plain": [
       "2"
      ]
     },
     "execution_count": 20,
     "metadata": {},
     "output_type": "execute_result"
    }
   ],
   "source": [
    "s.pop()"
   ]
  },
  {
   "cell_type": "code",
   "execution_count": 21,
   "id": "776bddc7",
   "metadata": {},
   "outputs": [
    {
     "data": {
      "text/plain": [
       "{41}"
      ]
     },
     "execution_count": 21,
     "metadata": {},
     "output_type": "execute_result"
    }
   ],
   "source": [
    "s"
   ]
  },
  {
   "cell_type": "code",
   "execution_count": 22,
   "id": "84971c55",
   "metadata": {},
   "outputs": [
    {
     "data": {
      "text/plain": [
       "{1, 2, 3}"
      ]
     },
     "execution_count": 22,
     "metadata": {},
     "output_type": "execute_result"
    }
   ],
   "source": [
    "set([1,2,3,3,3])"
   ]
  },
  {
   "cell_type": "code",
   "execution_count": 24,
   "id": "ec0e950e",
   "metadata": {},
   "outputs": [],
   "source": [
    "s1 = {1,2,3,4}\n",
    "s2 = {1,2}\n",
    "s3 = {1,4}"
   ]
  },
  {
   "cell_type": "code",
   "execution_count": 26,
   "id": "a75364ca",
   "metadata": {},
   "outputs": [
    {
     "data": {
      "text/plain": [
       "{1}"
      ]
     },
     "execution_count": 26,
     "metadata": {},
     "output_type": "execute_result"
    }
   ],
   "source": [
    "s1.intersection(s2).intersection(s3)"
   ]
  },
  {
   "cell_type": "markdown",
   "id": "550629cb",
   "metadata": {},
   "source": [
    "# Dictionary"
   ]
  },
  {
   "cell_type": "code",
   "execution_count": 27,
   "id": "cd9cf55f",
   "metadata": {},
   "outputs": [],
   "source": [
    "d1=  {}"
   ]
  },
  {
   "cell_type": "code",
   "execution_count": 29,
   "id": "f319ddf9",
   "metadata": {},
   "outputs": [],
   "source": [
    "d1['key1'] = 10"
   ]
  },
  {
   "cell_type": "code",
   "execution_count": 30,
   "id": "2d5c4439",
   "metadata": {},
   "outputs": [
    {
     "data": {
      "text/plain": [
       "{'key1': 10}"
      ]
     },
     "execution_count": 30,
     "metadata": {},
     "output_type": "execute_result"
    }
   ],
   "source": [
    "d1"
   ]
  },
  {
   "cell_type": "code",
   "execution_count": 31,
   "id": "9e70bd85",
   "metadata": {},
   "outputs": [],
   "source": [
    "d1['key2'] = 20"
   ]
  },
  {
   "cell_type": "code",
   "execution_count": 33,
   "id": "fecbaaab",
   "metadata": {},
   "outputs": [
    {
     "data": {
      "text/plain": [
       "{'key1': 10, 'key2': 20}"
      ]
     },
     "execution_count": 33,
     "metadata": {},
     "output_type": "execute_result"
    }
   ],
   "source": [
    "d1"
   ]
  },
  {
   "cell_type": "code",
   "execution_count": 35,
   "id": "5ea3e69b",
   "metadata": {},
   "outputs": [
    {
     "data": {
      "text/plain": [
       "20"
      ]
     },
     "execution_count": 35,
     "metadata": {},
     "output_type": "execute_result"
    }
   ],
   "source": [
    "d1['key2']"
   ]
  },
  {
   "cell_type": "code",
   "execution_count": 36,
   "id": "ce415a94",
   "metadata": {},
   "outputs": [
    {
     "data": {
      "text/plain": [
       "dict_keys(['key1', 'key2'])"
      ]
     },
     "execution_count": 36,
     "metadata": {},
     "output_type": "execute_result"
    }
   ],
   "source": [
    "d1.keys()"
   ]
  },
  {
   "cell_type": "code",
   "execution_count": 37,
   "id": "f4b5d96f",
   "metadata": {},
   "outputs": [
    {
     "data": {
      "text/plain": [
       "['key1', 'key2']"
      ]
     },
     "execution_count": 37,
     "metadata": {},
     "output_type": "execute_result"
    }
   ],
   "source": [
    "list(d1)"
   ]
  },
  {
   "cell_type": "code",
   "execution_count": 39,
   "id": "ef9c9c09",
   "metadata": {},
   "outputs": [],
   "source": [
    "x = d1.values()"
   ]
  },
  {
   "cell_type": "code",
   "execution_count": 45,
   "id": "67b2689e",
   "metadata": {},
   "outputs": [
    {
     "data": {
      "text/plain": [
       "20"
      ]
     },
     "execution_count": 45,
     "metadata": {},
     "output_type": "execute_result"
    }
   ],
   "source": [
    "list(x)[1]"
   ]
  },
  {
   "cell_type": "code",
   "execution_count": 48,
   "id": "28ce6698",
   "metadata": {},
   "outputs": [
    {
     "data": {
      "text/plain": [
       "dict_values([10, 20])"
      ]
     },
     "execution_count": 48,
     "metadata": {},
     "output_type": "execute_result"
    }
   ],
   "source": [
    "x"
   ]
  },
  {
   "cell_type": "code",
   "execution_count": 49,
   "id": "85c1dfe4",
   "metadata": {},
   "outputs": [
    {
     "data": {
      "text/plain": [
       "{'key1': 10, 'key2': 20}"
      ]
     },
     "execution_count": 49,
     "metadata": {},
     "output_type": "execute_result"
    }
   ],
   "source": [
    "d1"
   ]
  },
  {
   "cell_type": "code",
   "execution_count": 55,
   "id": "5a19e0f1",
   "metadata": {},
   "outputs": [
    {
     "data": {
      "text/plain": [
       "10"
      ]
     },
     "execution_count": 55,
     "metadata": {},
     "output_type": "execute_result"
    }
   ],
   "source": [
    "d1.get('key1',500)"
   ]
  },
  {
   "cell_type": "code",
   "execution_count": 56,
   "id": "39632cf6",
   "metadata": {},
   "outputs": [
    {
     "ename": "KeyError",
     "evalue": "'key22'",
     "output_type": "error",
     "traceback": [
      "\u001b[1;31m---------------------------------------------------------------------------\u001b[0m",
      "\u001b[1;31mKeyError\u001b[0m                                  Traceback (most recent call last)",
      "Cell \u001b[1;32mIn[56], line 1\u001b[0m\n\u001b[1;32m----> 1\u001b[0m \u001b[43md1\u001b[49m\u001b[43m[\u001b[49m\u001b[38;5;124;43m'\u001b[39;49m\u001b[38;5;124;43mkey22\u001b[39;49m\u001b[38;5;124;43m'\u001b[39;49m\u001b[43m]\u001b[49m\n",
      "\u001b[1;31mKeyError\u001b[0m: 'key22'"
     ]
    }
   ],
   "source": [
    "d1['key22']"
   ]
  },
  {
   "cell_type": "code",
   "execution_count": 58,
   "id": "9c5d521f",
   "metadata": {},
   "outputs": [
    {
     "data": {
      "text/plain": [
       "{'key1': 10, 'key2': 20}"
      ]
     },
     "execution_count": 58,
     "metadata": {},
     "output_type": "execute_result"
    }
   ],
   "source": [
    "d1"
   ]
  },
  {
   "cell_type": "code",
   "execution_count": 59,
   "id": "763e57fd",
   "metadata": {},
   "outputs": [],
   "source": [
    "d1['key3'] = 100"
   ]
  },
  {
   "cell_type": "code",
   "execution_count": 60,
   "id": "e919105b",
   "metadata": {},
   "outputs": [
    {
     "data": {
      "text/plain": [
       "{'key1': 10, 'key2': 20, 'key3': 100}"
      ]
     },
     "execution_count": 60,
     "metadata": {},
     "output_type": "execute_result"
    }
   ],
   "source": [
    "d1"
   ]
  },
  {
   "cell_type": "code",
   "execution_count": 63,
   "id": "fa4ffaf7",
   "metadata": {},
   "outputs": [],
   "source": [
    "d1['key4'] = d1.get('key4',50)"
   ]
  },
  {
   "cell_type": "code",
   "execution_count": 65,
   "id": "f8049e7e",
   "metadata": {},
   "outputs": [
    {
     "data": {
      "text/plain": [
       "{'key1': 10, 'key2': 20, 'key3': 100, 'key4': 50}"
      ]
     },
     "execution_count": 65,
     "metadata": {},
     "output_type": "execute_result"
    }
   ],
   "source": [
    "d1"
   ]
  },
  {
   "cell_type": "code",
   "execution_count": 67,
   "id": "fc3d5639",
   "metadata": {},
   "outputs": [
    {
     "data": {
      "text/plain": [
       "{'key2': 20, 'key4': 50}"
      ]
     },
     "execution_count": 67,
     "metadata": {},
     "output_type": "execute_result"
    }
   ],
   "source": [
    "{'key2': 20, 'key4': 50}\n"
   ]
  },
  {
   "cell_type": "code",
   "execution_count": 95,
   "id": "e6a9eeb2",
   "metadata": {},
   "outputs": [
    {
     "data": {
      "text/plain": [
       "{'key2': 20, 'key4': 50}"
      ]
     },
     "execution_count": 95,
     "metadata": {},
     "output_type": "execute_result"
    }
   ],
   "source": [
    "{k:d1[k] for k in d1 if k in ['key2','key4']}"
   ]
  },
  {
   "cell_type": "code",
   "execution_count": 96,
   "id": "afab2ae0",
   "metadata": {},
   "outputs": [
    {
     "data": {
      "text/plain": [
       "{'key1': 1000, 'key2': 20, 'key3': 1000, 'key4': 50}"
      ]
     },
     "execution_count": 96,
     "metadata": {},
     "output_type": "execute_result"
    }
   ],
   "source": [
    "{k:d1[k] if k in ['key2','key4'] else 1000 for k in d1 }"
   ]
  },
  {
   "cell_type": "code",
   "execution_count": 90,
   "id": "2830b40c",
   "metadata": {},
   "outputs": [
    {
     "ename": "SyntaxError",
     "evalue": "invalid syntax (1385529173.py, line 1)",
     "output_type": "error",
     "traceback": [
      "\u001b[1;36m  Cell \u001b[1;32mIn[90], line 1\u001b[1;36m\u001b[0m\n\u001b[1;33m    { if k in ['key2','key4'] else 1000 k:d1[k] for k in d1 }\u001b[0m\n\u001b[1;37m      ^\u001b[0m\n\u001b[1;31mSyntaxError\u001b[0m\u001b[1;31m:\u001b[0m invalid syntax\n"
     ]
    }
   ],
   "source": [
    "{ if k in ['key2','key4'] else 1000 k:d1[k] for k in d1 }"
   ]
  },
  {
   "cell_type": "code",
   "execution_count": 70,
   "id": "ee7dcb62",
   "metadata": {},
   "outputs": [
    {
     "data": {
      "text/plain": [
       "{'key1': 10, 'key2': 20, 'key3': 100, 'key4': 50}"
      ]
     },
     "execution_count": 70,
     "metadata": {},
     "output_type": "execute_result"
    }
   ],
   "source": [
    "1000"
   ]
  },
  {
   "cell_type": "code",
   "execution_count": 73,
   "id": "6b172a35",
   "metadata": {},
   "outputs": [
    {
     "name": "stdout",
     "output_type": "stream",
     "text": [
      "key1 10\n",
      "key2 20\n",
      "key3 100\n",
      "key4 50\n"
     ]
    }
   ],
   "source": [
    "for k in d1:\n",
    "    print(k,d1[k])"
   ]
  },
  {
   "cell_type": "code",
   "execution_count": 74,
   "id": "bd85871d",
   "metadata": {},
   "outputs": [
    {
     "name": "stdout",
     "output_type": "stream",
     "text": [
      "key1 10\n",
      "key2 20\n",
      "key3 100\n",
      "key4 50\n"
     ]
    }
   ],
   "source": [
    "for k,v in d1.items():\n",
    "    print(k,v)"
   ]
  },
  {
   "cell_type": "code",
   "execution_count": 75,
   "id": "7f0135e4",
   "metadata": {},
   "outputs": [
    {
     "data": {
      "text/plain": [
       "dict_items([('key1', 10), ('key2', 20), ('key3', 100), ('key4', 50)])"
      ]
     },
     "execution_count": 75,
     "metadata": {},
     "output_type": "execute_result"
    }
   ],
   "source": [
    "d1.items()"
   ]
  },
  {
   "cell_type": "code",
   "execution_count": 76,
   "id": "fa1d233d",
   "metadata": {},
   "outputs": [
    {
     "name": "stdout",
     "output_type": "stream",
     "text": [
      "1\n",
      "2\n",
      "3\n"
     ]
    }
   ],
   "source": [
    "for a in [1,2,3]:\n",
    "    print(a)"
   ]
  },
  {
   "cell_type": "code",
   "execution_count": 78,
   "id": "abca5284",
   "metadata": {},
   "outputs": [
    {
     "name": "stdout",
     "output_type": "stream",
     "text": [
      "1\n",
      "2\n"
     ]
    }
   ],
   "source": [
    "for a,b,c in [('A',1),('B',2)]:\n",
    "    print(b)"
   ]
  },
  {
   "cell_type": "code",
   "execution_count": 83,
   "id": "c409f596",
   "metadata": {},
   "outputs": [],
   "source": [
    "x = [1,2,3,4,5,6,7,8,9]"
   ]
  },
  {
   "cell_type": "code",
   "execution_count": 93,
   "id": "4cf3728c",
   "metadata": {},
   "outputs": [
    {
     "data": {
      "text/plain": [
       "['odd', 2, 'odd', 4, 'odd', 6, 'odd', 8, 'odd']"
      ]
     },
     "execution_count": 93,
     "metadata": {},
     "output_type": "execute_result"
    }
   ],
   "source": [
    "[i if i%2==0 else 'odd' for i in x ]"
   ]
  },
  {
   "cell_type": "code",
   "execution_count": 87,
   "id": "4044c34d",
   "metadata": {},
   "outputs": [
    {
     "data": {
      "text/plain": [
       "['odd', 2, 'odd', 4, 'odd', 6, 'odd', 8, 'odd']"
      ]
     },
     "execution_count": 87,
     "metadata": {},
     "output_type": "execute_result"
    }
   ],
   "source": []
  },
  {
   "cell_type": "code",
   "execution_count": null,
   "id": "03340a2a",
   "metadata": {},
   "outputs": [],
   "source": [
    "if k in ['key2','key4']"
   ]
  },
  {
   "cell_type": "code",
   "execution_count": null,
   "id": "a30f2e5f",
   "metadata": {},
   "outputs": [],
   "source": []
  },
  {
   "cell_type": "code",
   "execution_count": 97,
   "id": "675d243f",
   "metadata": {},
   "outputs": [],
   "source": [
    "\n",
    "s= '''If your titles don't make sense when you take out those articles or prepositions, then it's best to leave them be. After all, you want your audience to actually click and read your content. If the most prominent parts — including the title — don't make sense, the website could come off as unprofessional or even spammy.\n",
    "\n",
    "It usually makes the most sense to leave stop words in titles and headings, as these are wayfinding elements for users navigating your content. Just keep in mind that the optimal character count for titles is 50-60 characters, as search engines cut off longer titles, which could omit important information for the visitor. If you have lengthy stop words in your title, consider rewriting them to balance brevity and clarity.'''\n",
    "\n"
   ]
  },
  {
   "cell_type": "code",
   "execution_count": 98,
   "id": "238db104",
   "metadata": {},
   "outputs": [
    {
     "data": {
      "text/plain": [
       "\"If your titles don't make sense when you take out those articles or prepositions, then it's best to leave them be. After all, you want your audience to actually click and read your content. If the most prominent parts — including the title — don't make sense, the website could come off as unprofessional or even spammy.\\n\\nIt usually makes the most sense to leave stop words in titles and headings, as these are wayfinding elements for users navigating your content. Just keep in mind that the optimal character count for titles is 50-60 characters, as search engines cut off longer titles, which could omit important information for the visitor. If you have lengthy stop words in your title, consider rewriting them to balance brevity and clarity.\""
      ]
     },
     "execution_count": 98,
     "metadata": {},
     "output_type": "execute_result"
    }
   ],
   "source": [
    "s"
   ]
  },
  {
   "cell_type": "code",
   "execution_count": 107,
   "id": "2d4c45ae",
   "metadata": {},
   "outputs": [],
   "source": [
    "d1['t'] = 1 # TODO, create a dictionary with frequency of each char"
   ]
  },
  {
   "cell_type": "code",
   "execution_count": 103,
   "id": "8adced73",
   "metadata": {},
   "outputs": [
    {
     "data": {
      "text/plain": [
       "{'key1': 10, 'key2': 20, 'key3': 100, 'key4': 50, 't': 2}"
      ]
     },
     "execution_count": 103,
     "metadata": {},
     "output_type": "execute_result"
    }
   ],
   "source": [
    "d1"
   ]
  },
  {
   "cell_type": "code",
   "execution_count": 106,
   "id": "5c1dc48c",
   "metadata": {},
   "outputs": [],
   "source": [
    "# dict.fromkeys(['a','b','c'],0)"
   ]
  },
  {
   "cell_type": "code",
   "execution_count": null,
   "id": "62eb088f",
   "metadata": {},
   "outputs": [],
   "source": []
  },
  {
   "cell_type": "code",
   "execution_count": null,
   "id": "1ea3492a",
   "metadata": {},
   "outputs": [],
   "source": []
  },
  {
   "cell_type": "code",
   "execution_count": null,
   "id": "5db1484a",
   "metadata": {},
   "outputs": [],
   "source": []
  },
  {
   "cell_type": "code",
   "execution_count": null,
   "id": "c8a82f22",
   "metadata": {},
   "outputs": [],
   "source": []
  },
  {
   "cell_type": "code",
   "execution_count": 102,
   "id": "caab39e4",
   "metadata": {},
   "outputs": [],
   "source": [
    "if 't' in d1:\n",
    "    d1['t'] = d1['t'] + 1"
   ]
  },
  {
   "cell_type": "code",
   "execution_count": null,
   "id": "2d744ac2",
   "metadata": {},
   "outputs": [],
   "source": [
    "# list comp\n",
    "# string slicing adv\n",
    "# function"
   ]
  },
  {
   "cell_type": "code",
   "execution_count": null,
   "id": "fc714db0",
   "metadata": {},
   "outputs": [],
   "source": []
  },
  {
   "cell_type": "code",
   "execution_count": 108,
   "id": "264509d9",
   "metadata": {},
   "outputs": [],
   "source": [
    "x = 'hello'"
   ]
  },
  {
   "cell_type": "code",
   "execution_count": 109,
   "id": "e99ec67a",
   "metadata": {},
   "outputs": [
    {
     "data": {
      "text/plain": [
       "'hello'"
      ]
     },
     "execution_count": 109,
     "metadata": {},
     "output_type": "execute_result"
    }
   ],
   "source": [
    "x"
   ]
  },
  {
   "cell_type": "code",
   "execution_count": 110,
   "id": "f1752851",
   "metadata": {},
   "outputs": [
    {
     "data": {
      "text/plain": [
       "'olleh'"
      ]
     },
     "execution_count": 110,
     "metadata": {},
     "output_type": "execute_result"
    }
   ],
   "source": [
    "x[::-1]"
   ]
  },
  {
   "cell_type": "code",
   "execution_count": 111,
   "id": "12c76d21",
   "metadata": {},
   "outputs": [
    {
     "data": {
      "text/plain": [
       "'olh'"
      ]
     },
     "execution_count": 111,
     "metadata": {},
     "output_type": "execute_result"
    }
   ],
   "source": [
    "x[::-2]"
   ]
  },
  {
   "cell_type": "code",
   "execution_count": 113,
   "id": "4cf3e790",
   "metadata": {},
   "outputs": [
    {
     "data": {
      "text/plain": [
       "{'key1': 10, 'key2': 20, 'key3': 100, 'key4': 50, 't': 1}"
      ]
     },
     "execution_count": 113,
     "metadata": {},
     "output_type": "execute_result"
    }
   ],
   "source": [
    "d2[k] = v"
   ]
  },
  {
   "cell_type": "code",
   "execution_count": 116,
   "id": "80d94241",
   "metadata": {},
   "outputs": [
    {
     "name": "stdout",
     "output_type": "stream",
     "text": [
      "{'key3': 100, 'key4': 50}\n"
     ]
    }
   ],
   "source": [
    "d2={}\n",
    "for k,v in d1.items():\n",
    "    if v % 50 == 0:\n",
    "        d2[k]=v\n",
    "print(d2)"
   ]
  },
  {
   "cell_type": "code",
   "execution_count": 119,
   "id": "f70731fc",
   "metadata": {},
   "outputs": [],
   "source": [
    "def get_dict(d):\n",
    "    d2={}\n",
    "    for k,v in d.items():\n",
    "        if v % 50 == 0:\n",
    "            d2[k]=v\n",
    "    return d2"
   ]
  },
  {
   "cell_type": "code",
   "execution_count": 120,
   "id": "6236be9c",
   "metadata": {},
   "outputs": [
    {
     "data": {
      "text/plain": [
       "{'key3': 100, 'key4': 50}"
      ]
     },
     "execution_count": 120,
     "metadata": {},
     "output_type": "execute_result"
    }
   ],
   "source": [
    "get_dict(d1)"
   ]
  },
  {
   "cell_type": "code",
   "execution_count": 131,
   "id": "1b29ed7c",
   "metadata": {},
   "outputs": [],
   "source": [
    "for i in range(50):\n",
    "    if i%2==0:\n",
    "        break\n",
    "        \n",
    "    print(i)"
   ]
  },
  {
   "cell_type": "code",
   "execution_count": null,
   "id": "1b13f44c",
   "metadata": {},
   "outputs": [],
   "source": []
  }
 ],
 "metadata": {
  "kernelspec": {
   "display_name": "Python 3 (ipykernel)",
   "language": "python",
   "name": "python3"
  },
  "language_info": {
   "codemirror_mode": {
    "name": "ipython",
    "version": 3
   },
   "file_extension": ".py",
   "mimetype": "text/x-python",
   "name": "python",
   "nbconvert_exporter": "python",
   "pygments_lexer": "ipython3",
   "version": "3.9.15"
  }
 },
 "nbformat": 4,
 "nbformat_minor": 5
}
