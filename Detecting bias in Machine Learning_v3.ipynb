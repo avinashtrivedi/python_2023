{
 "cells": [
  {
   "cell_type": "markdown",
   "id": "8f4eafc0",
   "metadata": {},
   "source": [
    "<center><h2>Machine Learning for Salary Prediction</h2></center>\n",
    "<img width=\"30%\" height=\"40%\" src=\"https://miro.medium.com/v2/resize:fit:1400/1*yLvf2jr_TNkEe9PKYOBDkA.png\">"
   ]
  },
  {
   "cell_type": "markdown",
   "id": "5db6a0a5",
   "metadata": {},
   "source": [
    "### Required Libraries"
   ]
  },
  {
   "cell_type": "code",
   "execution_count": 1,
   "id": "d08254ea",
   "metadata": {},
   "outputs": [],
   "source": [
    "import pandas as pd\n",
    "import numpy as np\n",
    "from sklearn.model_selection import train_test_split\n",
    "from sklearn.linear_model import LinearRegression\n",
    "from sklearn.tree import DecisionTreeRegressor\n",
    "from sklearn.ensemble import RandomForestRegressor\n",
    "from sklearn.feature_extraction.text import CountVectorizer, TfidfVectorizer\n",
    "from sklearn.preprocessing import OneHotEncoder\n",
    "from sklearn.compose import ColumnTransformer\n",
    "from sklearn.metrics import mean_squared_error, r2_score\n",
    "import matplotlib.pyplot as plt\n",
    "import seaborn as sns\n",
    "from sklearn.preprocessing import StandardScaler\n",
    "from sklearn.metrics import r2_score, mean_absolute_error, mean_squared_error"
   ]
  },
  {
   "cell_type": "markdown",
   "id": "576600a3",
   "metadata": {},
   "source": [
    "### Read data and explore it"
   ]
  },
  {
   "cell_type": "code",
   "execution_count": 2,
   "id": "7e3be2de",
   "metadata": {},
   "outputs": [],
   "source": [
    "# Load data from CSV file\n",
    "data = pd.read_csv('train.csv')"
   ]
  },
  {
   "cell_type": "code",
   "execution_count": 3,
   "id": "434a0885",
   "metadata": {},
   "outputs": [
    {
     "data": {
      "text/html": [
       "<div>\n",
       "<style scoped>\n",
       "    .dataframe tbody tr th:only-of-type {\n",
       "        vertical-align: middle;\n",
       "    }\n",
       "\n",
       "    .dataframe tbody tr th {\n",
       "        vertical-align: top;\n",
       "    }\n",
       "\n",
       "    .dataframe thead th {\n",
       "        text-align: right;\n",
       "    }\n",
       "</style>\n",
       "<table border=\"1\" class=\"dataframe\">\n",
       "  <thead>\n",
       "    <tr style=\"text-align: right;\">\n",
       "      <th></th>\n",
       "      <th>job_id</th>\n",
       "      <th>requirements_and_role</th>\n",
       "      <th>salary_bin</th>\n",
       "      <th>mean_salary</th>\n",
       "      <th>gender_code</th>\n",
       "    </tr>\n",
       "  </thead>\n",
       "  <tbody>\n",
       "    <tr>\n",
       "      <th>0</th>\n",
       "      <td>JOB-2019-0015706</td>\n",
       "      <td>role purpose role lead finance team asia offic...</td>\n",
       "      <td>9.0</td>\n",
       "      <td>20833.333333</td>\n",
       "      <td>2.0</td>\n",
       "    </tr>\n",
       "    <tr>\n",
       "      <th>1</th>\n",
       "      <td>JOB-2019-0013345</td>\n",
       "      <td>lead cim team source procure implement maintai...</td>\n",
       "      <td>9.0</td>\n",
       "      <td>10000.000000</td>\n",
       "      <td>2.0</td>\n",
       "    </tr>\n",
       "    <tr>\n",
       "      <th>2</th>\n",
       "      <td>JOB-2019-0011784</td>\n",
       "      <td>responsibilities lecturer contributions go bey...</td>\n",
       "      <td>4.0</td>\n",
       "      <td>4500.000000</td>\n",
       "      <td>2.0</td>\n",
       "    </tr>\n",
       "    <tr>\n",
       "      <th>3</th>\n",
       "      <td>JOB-2019-0013898</td>\n",
       "      <td>preparation welcome kits current savings accou...</td>\n",
       "      <td>6.0</td>\n",
       "      <td>6000.000000</td>\n",
       "      <td>2.0</td>\n",
       "    </tr>\n",
       "    <tr>\n",
       "      <th>4</th>\n",
       "      <td>JOB-2019-0000435</td>\n",
       "      <td>full time rto 18 months</td>\n",
       "      <td>3.0</td>\n",
       "      <td>3750.000000</td>\n",
       "      <td>2.0</td>\n",
       "    </tr>\n",
       "  </tbody>\n",
       "</table>\n",
       "</div>"
      ],
      "text/plain": [
       "             job_id                              requirements_and_role  \\\n",
       "0  JOB-2019-0015706  role purpose role lead finance team asia offic...   \n",
       "1  JOB-2019-0013345  lead cim team source procure implement maintai...   \n",
       "2  JOB-2019-0011784  responsibilities lecturer contributions go bey...   \n",
       "3  JOB-2019-0013898  preparation welcome kits current savings accou...   \n",
       "4  JOB-2019-0000435                            full time rto 18 months   \n",
       "\n",
       "   salary_bin   mean_salary  gender_code  \n",
       "0         9.0  20833.333333          2.0  \n",
       "1         9.0  10000.000000          2.0  \n",
       "2         4.0   4500.000000          2.0  \n",
       "3         6.0   6000.000000          2.0  \n",
       "4         3.0   3750.000000          2.0  "
      ]
     },
     "execution_count": 3,
     "metadata": {},
     "output_type": "execute_result"
    }
   ],
   "source": [
    "data.head()"
   ]
  },
  {
   "cell_type": "code",
   "execution_count": 4,
   "id": "8f5f7a21",
   "metadata": {},
   "outputs": [
    {
     "data": {
      "text/html": [
       "<div>\n",
       "<style scoped>\n",
       "    .dataframe tbody tr th:only-of-type {\n",
       "        vertical-align: middle;\n",
       "    }\n",
       "\n",
       "    .dataframe tbody tr th {\n",
       "        vertical-align: top;\n",
       "    }\n",
       "\n",
       "    .dataframe thead th {\n",
       "        text-align: right;\n",
       "    }\n",
       "</style>\n",
       "<table border=\"1\" class=\"dataframe\">\n",
       "  <thead>\n",
       "    <tr style=\"text-align: right;\">\n",
       "      <th></th>\n",
       "      <th>salary_bin</th>\n",
       "      <th>mean_salary</th>\n",
       "      <th>gender_code</th>\n",
       "    </tr>\n",
       "  </thead>\n",
       "  <tbody>\n",
       "    <tr>\n",
       "      <th>count</th>\n",
       "      <td>8000.000000</td>\n",
       "      <td>8000.000000</td>\n",
       "      <td>8000.000000</td>\n",
       "    </tr>\n",
       "    <tr>\n",
       "      <th>mean</th>\n",
       "      <td>4.514750</td>\n",
       "      <td>5374.340922</td>\n",
       "      <td>1.381750</td>\n",
       "    </tr>\n",
       "    <tr>\n",
       "      <th>std</th>\n",
       "      <td>2.897384</td>\n",
       "      <td>3420.668603</td>\n",
       "      <td>0.835526</td>\n",
       "    </tr>\n",
       "    <tr>\n",
       "      <th>min</th>\n",
       "      <td>0.000000</td>\n",
       "      <td>500.000000</td>\n",
       "      <td>0.000000</td>\n",
       "    </tr>\n",
       "    <tr>\n",
       "      <th>25%</th>\n",
       "      <td>2.000000</td>\n",
       "      <td>3000.000000</td>\n",
       "      <td>1.000000</td>\n",
       "    </tr>\n",
       "    <tr>\n",
       "      <th>50%</th>\n",
       "      <td>4.000000</td>\n",
       "      <td>4500.000000</td>\n",
       "      <td>2.000000</td>\n",
       "    </tr>\n",
       "    <tr>\n",
       "      <th>75%</th>\n",
       "      <td>7.000000</td>\n",
       "      <td>6875.000000</td>\n",
       "      <td>2.000000</td>\n",
       "    </tr>\n",
       "    <tr>\n",
       "      <th>max</th>\n",
       "      <td>9.000000</td>\n",
       "      <td>65000.000000</td>\n",
       "      <td>2.000000</td>\n",
       "    </tr>\n",
       "  </tbody>\n",
       "</table>\n",
       "</div>"
      ],
      "text/plain": [
       "        salary_bin   mean_salary  gender_code\n",
       "count  8000.000000   8000.000000  8000.000000\n",
       "mean      4.514750   5374.340922     1.381750\n",
       "std       2.897384   3420.668603     0.835526\n",
       "min       0.000000    500.000000     0.000000\n",
       "25%       2.000000   3000.000000     1.000000\n",
       "50%       4.000000   4500.000000     2.000000\n",
       "75%       7.000000   6875.000000     2.000000\n",
       "max       9.000000  65000.000000     2.000000"
      ]
     },
     "execution_count": 4,
     "metadata": {},
     "output_type": "execute_result"
    }
   ],
   "source": [
    "data.describe()"
   ]
  },
  {
   "cell_type": "code",
   "execution_count": 5,
   "id": "7f9f4bf4",
   "metadata": {},
   "outputs": [
    {
     "data": {
      "text/plain": [
       "Index(['job_id', 'requirements_and_role', 'salary_bin', 'mean_salary',\n",
       "       'gender_code'],\n",
       "      dtype='object')"
      ]
     },
     "execution_count": 5,
     "metadata": {},
     "output_type": "execute_result"
    }
   ],
   "source": [
    "data.columns"
   ]
  },
  {
   "cell_type": "code",
   "execution_count": 6,
   "id": "04a14e8e",
   "metadata": {},
   "outputs": [
    {
     "data": {
      "text/plain": [
       "(13902, 5)"
      ]
     },
     "execution_count": 6,
     "metadata": {},
     "output_type": "execute_result"
    }
   ],
   "source": [
    "data.shape"
   ]
  },
  {
   "cell_type": "code",
   "execution_count": 7,
   "id": "696a7538",
   "metadata": {},
   "outputs": [
    {
     "data": {
      "text/plain": [
       "<bound method DataFrame.info of                  job_id                              requirements_and_role  \\\n",
       "0      JOB-2019-0015706  role purpose role lead finance team asia offic...   \n",
       "1      JOB-2019-0013345  lead cim team source procure implement maintai...   \n",
       "2      JOB-2019-0011784  responsibilities lecturer contributions go bey...   \n",
       "3      JOB-2019-0013898  preparation welcome kits current savings accou...   \n",
       "4      JOB-2019-0000435                            full time rto 18 months   \n",
       "...                 ...                                                ...   \n",
       "13897  JOB-2019-0018540  general sales marketing f b setting promote he...   \n",
       "13898  JOB-2019-0015618  responsible development ehs system chemical sa...   \n",
       "13899  JOB-2019-0009256  benefits welfare provide fashion advice tips c...   \n",
       "13900  JOB-2019-0020155  client services consultant responsibilities en...   \n",
       "13901  JOB-2019-0004961  1 planning scheduling staff daily basis 2 full...   \n",
       "\n",
       "       salary_bin   mean_salary  gender_code  \n",
       "0             9.0  20833.333333          2.0  \n",
       "1             9.0  10000.000000          2.0  \n",
       "2             4.0   4500.000000          2.0  \n",
       "3             6.0   6000.000000          2.0  \n",
       "4             3.0   3750.000000          2.0  \n",
       "...           ...           ...          ...  \n",
       "13897         NaN           NaN          NaN  \n",
       "13898         NaN           NaN          NaN  \n",
       "13899         NaN           NaN          NaN  \n",
       "13900         NaN           NaN          NaN  \n",
       "13901         NaN           NaN          NaN  \n",
       "\n",
       "[13902 rows x 5 columns]>"
      ]
     },
     "execution_count": 7,
     "metadata": {},
     "output_type": "execute_result"
    }
   ],
   "source": [
    "data.info"
   ]
  },
  {
   "cell_type": "code",
   "execution_count": 8,
   "id": "217db4a6",
   "metadata": {},
   "outputs": [
    {
     "data": {
      "text/plain": [
       "array([ 0.,  1.,  2., nan])"
      ]
     },
     "execution_count": 8,
     "metadata": {},
     "output_type": "execute_result"
    }
   ],
   "source": [
    "np.unique(data['gender_code'].values)"
   ]
  },
  {
   "cell_type": "code",
   "execution_count": 9,
   "id": "0a1a0ce0",
   "metadata": {},
   "outputs": [
    {
     "data": {
      "text/plain": [
       "(nan, nan)"
      ]
     },
     "execution_count": 9,
     "metadata": {},
     "output_type": "execute_result"
    }
   ],
   "source": [
    "np.max(data['mean_salary'].values), np.min(data['mean_salary'].values)"
   ]
  },
  {
   "cell_type": "markdown",
   "id": "8aab66d5",
   "metadata": {},
   "source": [
    "### Check for NULL values"
   ]
  },
  {
   "cell_type": "code",
   "execution_count": 10,
   "id": "1c423e3d",
   "metadata": {},
   "outputs": [
    {
     "data": {
      "text/plain": [
       "job_id                      0\n",
       "requirements_and_role       1\n",
       "salary_bin               5902\n",
       "mean_salary              5902\n",
       "gender_code              5902\n",
       "dtype: int64"
      ]
     },
     "execution_count": 10,
     "metadata": {},
     "output_type": "execute_result"
    }
   ],
   "source": [
    "data.isnull().sum()"
   ]
  },
  {
   "cell_type": "code",
   "execution_count": 11,
   "id": "b234d882",
   "metadata": {},
   "outputs": [],
   "source": [
    "data =data.dropna(subset=['gender_code'])"
   ]
  },
  {
   "cell_type": "code",
   "execution_count": 12,
   "id": "87176323",
   "metadata": {},
   "outputs": [
    {
     "data": {
      "text/plain": [
       "job_id                   0\n",
       "requirements_and_role    1\n",
       "salary_bin               0\n",
       "mean_salary              0\n",
       "gender_code              0\n",
       "dtype: int64"
      ]
     },
     "execution_count": 12,
     "metadata": {},
     "output_type": "execute_result"
    }
   ],
   "source": [
    "data.isnull().sum()"
   ]
  },
  {
   "cell_type": "markdown",
   "id": "0c756bd5",
   "metadata": {},
   "source": [
    "<p> As the null values are found in the same rows for the three last columns there is no need for interpolation e.g. to set as value the median or the average based on certain criteria </p"
   ]
  },
  {
   "cell_type": "code",
   "execution_count": 13,
   "id": "008bed4e",
   "metadata": {},
   "outputs": [
    {
     "name": "stderr",
     "output_type": "stream",
     "text": [
      "C:\\Users\\avitr\\AppData\\Local\\Temp\\ipykernel_19972\\2768182236.py:1: SettingWithCopyWarning: \n",
      "A value is trying to be set on a copy of a slice from a DataFrame\n",
      "\n",
      "See the caveats in the documentation: https://pandas.pydata.org/pandas-docs/stable/user_guide/indexing.html#returning-a-view-versus-a-copy\n",
      "  data['requirements_and_role'].fillna('', inplace=True)\n"
     ]
    }
   ],
   "source": [
    "data['requirements_and_role'].fillna('', inplace=True)"
   ]
  },
  {
   "cell_type": "code",
   "execution_count": 14,
   "id": "630cace9",
   "metadata": {},
   "outputs": [
    {
     "data": {
      "image/png": "[encoded data removed]",
      "text/plain": [
       "<Figure size 640x480 with 1 Axes>"
      ]
     },
     "metadata": {},
     "output_type": "display_data"
    }
   ],
   "source": [
    "# Check the distribution of salary_bin\n",
    "sns.countplot(x='salary_bin', data=data)\n",
    "plt.show()"
   ]
  },
  {
   "cell_type": "code",
   "execution_count": 15,
   "id": "3bce87e5",
   "metadata": {},
   "outputs": [
    {
     "data": {
      "image/png": "[encoded data removed]",
      "text/plain": [
       "<Figure size 640x480 with 1 Axes>"
      ]
     },
     "metadata": {},
     "output_type": "display_data"
    }
   ],
   "source": [
    "# Check the distribution of mean_salary\n",
    "sns.histplot(x='mean_salary', data=data)\n",
    "plt.show()"
   ]
  },
  {
   "cell_type": "code",
   "execution_count": 16,
   "id": "13100499",
   "metadata": {},
   "outputs": [
    {
     "data": {
      "image/png": "[encoded data removed]",
      "text/plain": [
       "<Figure size 640x480 with 1 Axes>"
      ]
     },
     "metadata": {},
     "output_type": "display_data"
    }
   ],
   "source": [
    "# Check the relationship between salary_bin and mean_salary\n",
    "sns.boxplot(x='salary_bin', y='mean_salary', data=data)\n",
    "plt.show()"
   ]
  },
  {
   "cell_type": "code",
   "execution_count": 17,
   "id": "5e7b02f1",
   "metadata": {},
   "outputs": [
    {
     "data": {
      "text/plain": [
       "array([[<AxesSubplot:title={'center':'0.0'}>,\n",
       "        <AxesSubplot:title={'center':'1.0'}>],\n",
       "       [<AxesSubplot:title={'center':'2.0'}>, <AxesSubplot:>]],\n",
       "      dtype=object)"
      ]
     },
     "execution_count": 17,
     "metadata": {},
     "output_type": "execute_result"
    },
    {
     "data": {
      "image/png": "[encoded data removed]",
      "text/plain": [
       "<Figure size 640x480 with 4 Axes>"
      ]
     },
     "metadata": {},
     "output_type": "display_data"
    }
   ],
   "source": [
    "data['salary_bin'].hist(by=data['gender_code'])"
   ]
  },
  {
   "cell_type": "markdown",
   "id": "acd4e620",
   "metadata": {},
   "source": [
    "#### Transform string ids to numeric values"
   ]
  },
  {
   "cell_type": "code",
   "execution_count": 18,
   "id": "37901da5",
   "metadata": {},
   "outputs": [],
   "source": [
    "ids = [int(item.split('JOB-2019')[1].replace(\"-\",\"\")) for item in data['job_id'].values]"
   ]
  },
  {
   "cell_type": "code",
   "execution_count": 19,
   "id": "72929473",
   "metadata": {},
   "outputs": [
    {
     "name": "stderr",
     "output_type": "stream",
     "text": [
      "C:\\Users\\avitr\\AppData\\Local\\Temp\\ipykernel_19972\\6638842.py:1: SettingWithCopyWarning: \n",
      "A value is trying to be set on a copy of a slice from a DataFrame.\n",
      "Try using .loc[row_indexer,col_indexer] = value instead\n",
      "\n",
      "See the caveats in the documentation: https://pandas.pydata.org/pandas-docs/stable/user_guide/indexing.html#returning-a-view-versus-a-copy\n",
      "  data['id'] = ids\n"
     ]
    },
    {
     "data": {
      "text/plain": [
       "0    15706\n",
       "1    13345\n",
       "2    11784\n",
       "3    13898\n",
       "4      435\n",
       "Name: id, dtype: int64"
      ]
     },
     "execution_count": 19,
     "metadata": {},
     "output_type": "execute_result"
    }
   ],
   "source": [
    "data['id'] = ids\n",
    "data['id'].head()"
   ]
  },
  {
   "cell_type": "code",
   "execution_count": 20,
   "id": "5551fd65",
   "metadata": {},
   "outputs": [],
   "source": [
    "data = data.drop('job_id',axis=1)"
   ]
  },
  {
   "cell_type": "markdown",
   "id": "a534540c",
   "metadata": {},
   "source": [
    "### Modeling for Classification of Salaries"
   ]
  },
  {
   "cell_type": "markdown",
   "id": "ebb7ab84",
   "metadata": {},
   "source": [
    "#### Preparation of data\n",
    "\n",
    "The following code prepares the data for a machine learning model that uses both numerical and textual data as input. The code first splits the data into training and test sets using the train_test_split function. Next, the text data is vectorized using the CountVectorizer function, which converts the text into a numerical representation that can be used in machine learning algorithms. The vectorized text data is then converted into arrays and combined with the numerical data using np.concatenate. Finally, the combined data is assigned to X_train and X_test, which are the input variables for the machine learning model. This code ensures that both numerical and textual data are appropriately prepared for use in a machine learning model."
   ]
  },
  {
   "cell_type": "code",
   "execution_count": 21,
   "id": "4a9627dc",
   "metadata": {
    "scrolled": true
   },
   "outputs": [],
   "source": [
    "# Split data into training and test sets\n",
    "X_train, X_test, y_train, y_test = train_test_split(data.drop('salary_bin', axis=1), data['salary_bin'], test_size=0.2, random_state=42)\n",
    "\n",
    "# Vectorize the text data\n",
    "vectorizer = CountVectorizer(stop_words='english')\n",
    "X_train_text = vectorizer.fit_transform(X_train['requirements_and_role'])\n",
    "X_test_text = vectorizer.transform(X_test['requirements_and_role'])\n",
    "\n",
    "# Convert the vectorized text data to arrays\n",
    "X_train_text_array = X_train_text.toarray()\n",
    "X_test_text_array = X_test_text.toarray()\n",
    "\n",
    "# Combine the text data with the numerical data\n",
    "X_train_combined = np.concatenate((X_train.drop('requirements_and_role', axis=1), X_train_text_array), axis=1)\n",
    "X_test_combined = np.concatenate((X_test.drop('requirements_and_role', axis=1), X_test_text_array), axis=1)\n",
    "\n",
    "X_train = X_train_combined\n",
    "X_test = X_test_combined"
   ]
  },
  {
   "cell_type": "markdown",
   "id": "1a34eea9",
   "metadata": {},
   "source": [
    "#### Supervised Machine Learning Algorithms"
   ]
  },
  {
   "cell_type": "markdown",
   "id": "bdf7bd4f",
   "metadata": {},
   "source": [
    "Linear regression, decision trees, and random forest are commonly used algorithms in the field of machine learning for both regression and classification tasks: \n",
    "1. <b>Linear regression</b> is a simple yet powerful algorithm that models the relationship between a dependent variable and one or more independent variables using a linear function. It is widely used in the field of economics, social sciences, and engineering. \n",
    "2. <b>Decision trees</b>, on the other hand, are a non-parametric supervised learning method used for classification and regression tasks. They split the data into subgroups based on the features, creating a tree-like structure that can be used to make predictions. \n",
    "3. <b>Random forest</b> is an ensemble learning method that builds multiple decision trees and combines them to make a more accurate and robust prediction. \n",
    "\n",
    "Finanly, the <b>fit</b> function is a method used in the training phase of machine learning algorithms to estimate the model parameters from the training data. It is used to optimize the model's coefficients, such that it can make accurate predictions on unseen data.\n",
    "\n",
    "\n",
    "\n",
    "\n"
   ]
  },
  {
   "cell_type": "code",
   "execution_count": 22,
   "id": "d2ffe721",
   "metadata": {},
   "outputs": [],
   "source": [
    "# Create lists to store the model results\n",
    "models = []\n",
    "r2_scores = []\n",
    "mae_scores = []\n",
    "mse_scores = []\n",
    "rmse_scores = []\n",
    "\n",
    "# Train and evaluate a linear regression model\n",
    "lr = LinearRegression()\n",
    "lr.fit(X_train, y_train)\n",
    "lr_pred = lr.predict(X_test)\n",
    "models.append('Linear Regression')\n",
    "r2_scores.append(r2_score(y_test, lr_pred))\n",
    "mae_scores.append(mean_absolute_error(y_test, lr_pred))\n",
    "mse_scores.append(mean_squared_error(y_test, lr_pred))\n",
    "rmse_scores.append(mean_squared_error(y_test, lr_pred,squared=False))\n",
    "\n",
    "# Train and evaluate a decision tree regressor model\n",
    "dt = DecisionTreeRegressor()\n",
    "dt.fit(X_train, y_train)\n",
    "dt_pred = dt.predict(X_test)\n",
    "models.append('Decision Tree')\n",
    "r2_scores.append(r2_score(y_test, dt_pred))\n",
    "mae_scores.append(mean_absolute_error(y_test, dt_pred))\n",
    "mse_scores.append(mean_squared_error(y_test, dt_pred))\n",
    "rmse_scores.append(mean_squared_error(y_test, dt_pred,squared=False))\n",
    "\n",
    "# Train and evaluate a random forest regressor model\n",
    "rf = RandomForestRegressor()\n",
    "rf.fit(X_train, y_train)\n",
    "rf_pred = rf.predict(X_test)\n",
    "models.append('Random Forest')\n",
    "r2_scores.append(r2_score(y_test, rf_pred))\n",
    "mae_scores.append(mean_absolute_error(y_test, rf_pred))\n",
    "mse_scores.append(mean_squared_error(y_test, rf_pred))\n",
    "rmse_scores.append(mean_squared_error(y_test, rf_pred,squared=False))"
   ]
  },
  {
   "cell_type": "markdown",
   "id": "44b80695",
   "metadata": {},
   "source": [
    "#### Overall performance metrics for each model"
   ]
  },
  {
   "cell_type": "code",
   "execution_count": 23,
   "id": "4cd0133f",
   "metadata": {},
   "outputs": [
    {
     "name": "stdout",
     "output_type": "stream",
     "text": [
      "Linear Regression performance metrics:\n",
      "R-squared: -282.00597368938924\n",
      "Mean Absolute Error: 32.56044559340071\n",
      "Mean Squared Error: 2382.666095263142\n",
      "Root Mean Squared Error: 48.81256083492385\n",
      "\n",
      "Decision Tree performance metrics:\n",
      "R-squared: 0.9997030574549954\n",
      "Mean Absolute Error: 0.0025\n",
      "Mean Squared Error: 0.0025\n",
      "Root Mean Squared Error: 0.05\n",
      "\n",
      "Random Forest performance metrics:\n",
      "R-squared: 0.9997029906429228\n",
      "Mean Absolute Error: 0.0025562499999999986\n",
      "Mean Squared Error: 0.0025005624999999997\n",
      "Root Mean Squared Error: 0.05000562468362934\n",
      "\n"
     ]
    }
   ],
   "source": [
    "# Calculate the overall performance metrics for each model\n",
    "for i, model in enumerate(models):\n",
    "    print(f'{model} performance metrics:')\n",
    "    print(f'R-squared: {r2_scores[i]}')\n",
    "    print(f'Mean Absolute Error: {mae_scores[i]}')\n",
    "    print(f'Mean Squared Error: {mse_scores[i]}')\n",
    "    print(f'Root Mean Squared Error: {rmse_scores[i]}')\n",
    "    print('')"
   ]
  },
  {
   "cell_type": "code",
   "execution_count": 24,
   "id": "77f65232",
   "metadata": {},
   "outputs": [],
   "source": [
    "result = pd.DataFrame({'Models':models,'r2_scores':r2_scores,\n",
    "             'mae_scores':mae_scores,'mse_scores':mse_scores,\n",
    "              'rmse_scores':rmse_scores\n",
    "             })"
   ]
  },
  {
   "cell_type": "code",
   "execution_count": 25,
   "id": "e1053e3e",
   "metadata": {},
   "outputs": [
    {
     "data": {
      "text/html": [
       "<div>\n",
       "<style scoped>\n",
       "    .dataframe tbody tr th:only-of-type {\n",
       "        vertical-align: middle;\n",
       "    }\n",
       "\n",
       "    .dataframe tbody tr th {\n",
       "        vertical-align: top;\n",
       "    }\n",
       "\n",
       "    .dataframe thead th {\n",
       "        text-align: right;\n",
       "    }\n",
       "</style>\n",
       "<table border=\"1\" class=\"dataframe\">\n",
       "  <thead>\n",
       "    <tr style=\"text-align: right;\">\n",
       "      <th></th>\n",
       "      <th>Models</th>\n",
       "      <th>r2_scores</th>\n",
       "      <th>mae_scores</th>\n",
       "      <th>mse_scores</th>\n",
       "      <th>rmse_scores</th>\n",
       "    </tr>\n",
       "  </thead>\n",
       "  <tbody>\n",
       "    <tr>\n",
       "      <th>0</th>\n",
       "      <td>Linear Regression</td>\n",
       "      <td>-282.005974</td>\n",
       "      <td>32.560446</td>\n",
       "      <td>2382.666095</td>\n",
       "      <td>48.812561</td>\n",
       "    </tr>\n",
       "    <tr>\n",
       "      <th>1</th>\n",
       "      <td>Decision Tree</td>\n",
       "      <td>0.999703</td>\n",
       "      <td>0.002500</td>\n",
       "      <td>0.002500</td>\n",
       "      <td>0.050000</td>\n",
       "    </tr>\n",
       "    <tr>\n",
       "      <th>2</th>\n",
       "      <td>Random Forest</td>\n",
       "      <td>0.999703</td>\n",
       "      <td>0.002556</td>\n",
       "      <td>0.002501</td>\n",
       "      <td>0.050006</td>\n",
       "    </tr>\n",
       "  </tbody>\n",
       "</table>\n",
       "</div>"
      ],
      "text/plain": [
       "              Models   r2_scores  mae_scores   mse_scores  rmse_scores\n",
       "0  Linear Regression -282.005974   32.560446  2382.666095    48.812561\n",
       "1      Decision Tree    0.999703    0.002500     0.002500     0.050000\n",
       "2      Random Forest    0.999703    0.002556     0.002501     0.050006"
      ]
     },
     "execution_count": 25,
     "metadata": {},
     "output_type": "execute_result"
    }
   ],
   "source": [
    "result"
   ]
  },
  {
   "cell_type": "markdown",
   "id": "9bc04b6d",
   "metadata": {},
   "source": [
    "Looking at the performance metrics for the three models, it is clear that the decision tree and random forest models perform significantly better than the linear regression model. The negative R-squared value for the linear regression model indicates that this model is performing poorly and its predictions are worse than just taking the mean value of the target variable. On the other hand, both the decision tree and random forest models have a very high R-squared value, indicating that they are both performing extremely well in predicting the target variable. Additionally, the mean absolute error and mean squared error values for both the decision tree and random forest models are significantly lower than those for the linear regression model. This suggests that the decision tree and random forest models are much more accurate in their predictions compared to the linear regression model. Overall, it seems that the decision tree and random forest models are more suitable for this particular prediction task than the linear regression model.\n",
    "\n",
    "\n",
    "\n",
    "\n"
   ]
  },
  {
   "cell_type": "code",
   "execution_count": 26,
   "id": "3c9b8070",
   "metadata": {},
   "outputs": [],
   "source": [
    "# Define the groups\n",
    "gender_groups = [1.0,2.0]\n",
    "balanced_group = [0]\n",
    "group_labels = gender_groups + balanced_group\n",
    "\n",
    "# Create dictionaries to store the results for each group\n",
    "r2_group_results = {}\n",
    "mae_group_results = {}\n",
    "mse_group_results = {}\n",
    "rmse_group_results = {}"
   ]
  },
  {
   "cell_type": "markdown",
   "id": "781bb885",
   "metadata": {},
   "source": [
    "#### Evaluate each model on the different groups\n"
   ]
  },
  {
   "cell_type": "code",
   "execution_count": 27,
   "id": "c9141649",
   "metadata": {},
   "outputs": [],
   "source": [
    "from tqdm.notebook import tqdm\n",
    "tqdm.pandas()"
   ]
  },
  {
   "cell_type": "code",
   "execution_count": 28,
   "id": "3dadcbd4",
   "metadata": {},
   "outputs": [
    {
     "data": {
      "application/vnd.jupyter.widget-view+json": {
       "model_id": "745f67205def4bdca01fbd296a99c9a2",
       "version_major": 2,
       "version_minor": 0
      },
      "text/plain": [
       "  0%|          | 0/3 [00:00<?, ?it/s]"
      ]
     },
     "metadata": {},
     "output_type": "display_data"
    },
    {
     "name": "stdout",
     "output_type": "stream",
     "text": [
      "(1250, 4) (1250,)\n",
      "Linear Regression performance metrics for 1.0 group:\n",
      "R-squared: 0.5632421750462742\n",
      "Mean Absolute Error: 1.3761593074450327\n",
      "Mean Squared Error: 3.6150200587037906\n",
      "Root Mean Squared Error: 3.6150200587037906\n",
      "\n",
      "Decision Tree performance metrics for 1.0 group:\n",
      "R-squared: 0.9995167298461848\n",
      "Mean Absolute Error: 0.004\n",
      "Mean Squared Error: 0.004\n",
      "Root Mean Squared Error: 0.004\n",
      "\n",
      "Random Forest performance metrics for 1.0 group:\n",
      "R-squared: 0.9995162949030464\n",
      "Mean Absolute Error: 0.0041199999999999995\n",
      "Mean Squared Error: 0.0040035999999999995\n",
      "Root Mean Squared Error: 0.0040035999999999995\n",
      "\n",
      "(4902, 4) (4902,)\n",
      "Linear Regression performance metrics for 2.0 group:\n",
      "R-squared: -30660.128233601492\n",
      "Mean Absolute Error: 310.79999496151714\n",
      "Mean Squared Error: 229542.25447773506\n",
      "Root Mean Squared Error: 229542.25447773506\n",
      "\n",
      "Decision Tree performance metrics for 2.0 group:\n",
      "R-squared: 0.9998638378246031\n",
      "Mean Absolute Error: 0.0010193679918450561\n",
      "Mean Squared Error: 0.0010193679918450561\n",
      "Root Mean Squared Error: 0.0010193679918450561\n",
      "\n",
      "Random Forest performance metrics for 2.0 group:\n",
      "R-squared: 0.9998637697435154\n",
      "Mean Absolute Error: 0.001049949031600407\n",
      "Mean Squared Error: 0.0010198776758409784\n",
      "Root Mean Squared Error: 0.0010198776758409784\n",
      "\n",
      "(1848, 4) (1848,)\n",
      "Linear Regression performance metrics for 0 group:\n",
      "R-squared: -0.7430888263866595\n",
      "Mean Absolute Error: 3.0338271835068835\n",
      "Mean Squared Error: 16.151214053441723\n",
      "Root Mean Squared Error: 16.151214053441723\n",
      "\n",
      "Decision Tree performance metrics for 0 group:\n",
      "R-squared: 0.9997083159899598\n",
      "Mean Absolute Error: 0.002702702702702703\n",
      "Mean Squared Error: 0.002702702702702703\n",
      "Root Mean Squared Error: 0.002702702702702703\n",
      "\n",
      "Random Forest performance metrics for 0 group:\n",
      "R-squared: 0.9996125269610625\n",
      "Mean Absolute Error: 0.0054054054054054074\n",
      "Mean Squared Error: 0.003590270270270271\n",
      "Root Mean Squared Error: 0.003590270270270271\n",
      "\n"
     ]
    }
   ],
   "source": [
    "results = pd.DataFrame([],columns=['Group_label','Models','R2_scores','Mae_scores','Mse_scores','Rmse_scores'])\n",
    "for group_label in tqdm(group_labels):\n",
    "    \n",
    "    # Create a mask to filter the data for the current group\n",
    "    if group_label == 0:\n",
    "        mask = data['gender_code'] == 0\n",
    "    else:\n",
    "        mask = data['gender_code'] == group_label\n",
    "        \n",
    "      \n",
    "    # Filter the data for the current group\n",
    "    X_group = data[mask].drop('salary_bin', axis=1)\n",
    "    y_group = data[mask]['salary_bin']\n",
    "    \n",
    "    print(X_group.shape,y_group.shape)\n",
    "\n",
    "    # Split data into training and test sets\n",
    "    X_train, X_test, y_train, y_test = train_test_split(X_group,y_group, test_size=0.2, random_state=42)\n",
    "    \n",
    "    # Vectorize the text data\n",
    "    vectorizer = CountVectorizer(stop_words='english')\n",
    "    X_train_text = vectorizer.fit_transform(X_train['requirements_and_role'])\n",
    "    X_test_text = vectorizer.transform(X_test['requirements_and_role'])\n",
    "\n",
    "    # Convert the vectorized text data to arrays\n",
    "    X_train_text_array = X_train_text.toarray()\n",
    "    X_test_text_array = X_test_text.toarray()\n",
    "\n",
    "    # Combine the text data with the numerical data\n",
    "    X_train_combined = np.concatenate((X_train.drop('requirements_and_role', axis=1), X_train_text_array), axis=1)\n",
    "    X_test_combined = np.concatenate((X_test.drop('requirements_and_role', axis=1), X_test_text_array), axis=1)\n",
    "\n",
    "    X_train_group = X_train_combined\n",
    "    X_test_group = X_test_combined\n",
    "\n",
    "    # Evaluate the models on the current group\n",
    "    for i, model in enumerate(models):\n",
    "        if model == 'Linear Regression':\n",
    "            lr = LinearRegression()\n",
    "            lr.fit(X_train_group, y_train)\n",
    "            lr_pred = lr.predict(X_test_group)\n",
    "            r2_score_group = r2_score(y_test, lr_pred)\n",
    "            mae_score_group = mean_absolute_error(y_test, lr_pred)\n",
    "            mse_score_group = mean_squared_error(y_test, lr_pred)\n",
    "            rmse_score_group = mean_squared_error(y_test, lr_pred)\n",
    "            \n",
    "            results.loc[len(results)] = [group_label,model,r2_score_group,mae_score_group,mse_score_group,rmse_score_group]\n",
    "        elif model == 'Decision Tree':\n",
    "            dt = DecisionTreeRegressor()\n",
    "            dt.fit(X_train_group, y_train)\n",
    "            dt_pred = dt.predict(X_test_group)\n",
    "            r2_score_group = r2_score(y_test, dt_pred)\n",
    "            mae_score_group = mean_absolute_error(y_test, dt_pred)\n",
    "            mse_score_group = mean_squared_error(y_test, dt_pred)\n",
    "            rmse_score_group = mean_squared_error(y_test, dt_pred)\n",
    "            results.loc[len(results)] = [group_label,model,r2_score_group,mae_score_group,mse_score_group,rmse_score_group]\n",
    "        else:\n",
    "            rf = RandomForestRegressor()\n",
    "            rf.fit(X_train_group, y_train)\n",
    "            rf_pred = rf.predict(X_test_group)\n",
    "            r2_score_group = r2_score(y_test, rf_pred)\n",
    "            mae_score_group = mean_absolute_error(y_test, rf_pred)\n",
    "            mse_score_group = mean_squared_error(y_test, rf_pred)\n",
    "            rmse_score_group = mean_squared_error(y_test, rf_pred)\n",
    "            results.loc[len(results)] = [group_label,model,r2_score_group,mae_score_group,mse_score_group,rmse_score_group]\n",
    "\n",
    "        # Store the results in the dictionaries\n",
    "        if group_label in r2_group_results:\n",
    "            r2_group_results[group_label].append(r2_score_group)\n",
    "            mae_group_results[group_label].append(mae_score_group)\n",
    "            mse_group_results[group_label].append(mse_score_group)\n",
    "            rmse_group_results[group_label].append(rmse_score_group)\n",
    "        else:\n",
    "            r2_group_results[group_label] = [r2_score_group]\n",
    "            mae_group_results[group_label] = [mae_score_group]\n",
    "            mse_group_results[group_label] = [mse_score_group]\n",
    "            rmse_group_results[group_label] = [rmse_score_group]\n",
    "\n",
    "        # Print the results for the current group and model\n",
    "        print(f'{model} performance metrics for {group_label} group:')\n",
    "        print(f'R-squared: {r2_score_group}')\n",
    "        print(f'Mean Absolute Error: {mae_score_group}')\n",
    "        print(f'Mean Squared Error: {mse_score_group}')\n",
    "        print(f'Root Mean Squared Error: {rmse_score_group}')\n",
    "        print('')\n"
   ]
  },
  {
   "cell_type": "code",
   "execution_count": 29,
   "id": "7c83a54f",
   "metadata": {},
   "outputs": [
    {
     "data": {
      "text/html": [
       "<div>\n",
       "<style scoped>\n",
       "    .dataframe tbody tr th:only-of-type {\n",
       "        vertical-align: middle;\n",
       "    }\n",
       "\n",
       "    .dataframe tbody tr th {\n",
       "        vertical-align: top;\n",
       "    }\n",
       "\n",
       "    .dataframe thead th {\n",
       "        text-align: right;\n",
       "    }\n",
       "</style>\n",
       "<table border=\"1\" class=\"dataframe\">\n",
       "  <thead>\n",
       "    <tr style=\"text-align: right;\">\n",
       "      <th></th>\n",
       "      <th>Group_label</th>\n",
       "      <th>Models</th>\n",
       "      <th>R2_scores</th>\n",
       "      <th>Mae_scores</th>\n",
       "      <th>Mse_scores</th>\n",
       "      <th>Rmse_scores</th>\n",
       "    </tr>\n",
       "  </thead>\n",
       "  <tbody>\n",
       "    <tr>\n",
       "      <th>0</th>\n",
       "      <td>1.0</td>\n",
       "      <td>Linear Regression</td>\n",
       "      <td>0.563242</td>\n",
       "      <td>1.376159</td>\n",
       "      <td>3.615020</td>\n",
       "      <td>3.615020</td>\n",
       "    </tr>\n",
       "    <tr>\n",
       "      <th>1</th>\n",
       "      <td>1.0</td>\n",
       "      <td>Decision Tree</td>\n",
       "      <td>0.999517</td>\n",
       "      <td>0.004000</td>\n",
       "      <td>0.004000</td>\n",
       "      <td>0.004000</td>\n",
       "    </tr>\n",
       "    <tr>\n",
       "      <th>2</th>\n",
       "      <td>1.0</td>\n",
       "      <td>Random Forest</td>\n",
       "      <td>0.999516</td>\n",
       "      <td>0.004120</td>\n",
       "      <td>0.004004</td>\n",
       "      <td>0.004004</td>\n",
       "    </tr>\n",
       "    <tr>\n",
       "      <th>3</th>\n",
       "      <td>2.0</td>\n",
       "      <td>Linear Regression</td>\n",
       "      <td>-30660.128234</td>\n",
       "      <td>310.799995</td>\n",
       "      <td>229542.254478</td>\n",
       "      <td>229542.254478</td>\n",
       "    </tr>\n",
       "    <tr>\n",
       "      <th>4</th>\n",
       "      <td>2.0</td>\n",
       "      <td>Decision Tree</td>\n",
       "      <td>0.999864</td>\n",
       "      <td>0.001019</td>\n",
       "      <td>0.001019</td>\n",
       "      <td>0.001019</td>\n",
       "    </tr>\n",
       "    <tr>\n",
       "      <th>5</th>\n",
       "      <td>2.0</td>\n",
       "      <td>Random Forest</td>\n",
       "      <td>0.999864</td>\n",
       "      <td>0.001050</td>\n",
       "      <td>0.001020</td>\n",
       "      <td>0.001020</td>\n",
       "    </tr>\n",
       "    <tr>\n",
       "      <th>6</th>\n",
       "      <td>0.0</td>\n",
       "      <td>Linear Regression</td>\n",
       "      <td>-0.743089</td>\n",
       "      <td>3.033827</td>\n",
       "      <td>16.151214</td>\n",
       "      <td>16.151214</td>\n",
       "    </tr>\n",
       "    <tr>\n",
       "      <th>7</th>\n",
       "      <td>0.0</td>\n",
       "      <td>Decision Tree</td>\n",
       "      <td>0.999708</td>\n",
       "      <td>0.002703</td>\n",
       "      <td>0.002703</td>\n",
       "      <td>0.002703</td>\n",
       "    </tr>\n",
       "    <tr>\n",
       "      <th>8</th>\n",
       "      <td>0.0</td>\n",
       "      <td>Random Forest</td>\n",
       "      <td>0.999613</td>\n",
       "      <td>0.005405</td>\n",
       "      <td>0.003590</td>\n",
       "      <td>0.003590</td>\n",
       "    </tr>\n",
       "  </tbody>\n",
       "</table>\n",
       "</div>"
      ],
      "text/plain": [
       "   Group_label             Models     R2_scores  Mae_scores     Mse_scores  \\\n",
       "0          1.0  Linear Regression      0.563242    1.376159       3.615020   \n",
       "1          1.0      Decision Tree      0.999517    0.004000       0.004000   \n",
       "2          1.0      Random Forest      0.999516    0.004120       0.004004   \n",
       "3          2.0  Linear Regression -30660.128234  310.799995  229542.254478   \n",
       "4          2.0      Decision Tree      0.999864    0.001019       0.001019   \n",
       "5          2.0      Random Forest      0.999864    0.001050       0.001020   \n",
       "6          0.0  Linear Regression     -0.743089    3.033827      16.151214   \n",
       "7          0.0      Decision Tree      0.999708    0.002703       0.002703   \n",
       "8          0.0      Random Forest      0.999613    0.005405       0.003590   \n",
       "\n",
       "     Rmse_scores  \n",
       "0       3.615020  \n",
       "1       0.004000  \n",
       "2       0.004004  \n",
       "3  229542.254478  \n",
       "4       0.001019  \n",
       "5       0.001020  \n",
       "6      16.151214  \n",
       "7       0.002703  \n",
       "8       0.003590  "
      ]
     },
     "execution_count": 29,
     "metadata": {},
     "output_type": "execute_result"
    }
   ],
   "source": [
    "results"
   ]
  },
  {
   "cell_type": "code",
   "execution_count": 30,
   "id": "e0d3e1ad",
   "metadata": {},
   "outputs": [
    {
     "data": {
      "text/html": [
       "<div>\n",
       "<style scoped>\n",
       "    .dataframe tbody tr th:only-of-type {\n",
       "        vertical-align: middle;\n",
       "    }\n",
       "\n",
       "    .dataframe tbody tr th {\n",
       "        vertical-align: top;\n",
       "    }\n",
       "\n",
       "    .dataframe thead th {\n",
       "        text-align: right;\n",
       "    }\n",
       "</style>\n",
       "<table border=\"1\" class=\"dataframe\">\n",
       "  <thead>\n",
       "    <tr style=\"text-align: right;\">\n",
       "      <th></th>\n",
       "      <th>Models</th>\n",
       "      <th>r2_scores</th>\n",
       "      <th>mae_scores</th>\n",
       "      <th>mse_scores</th>\n",
       "      <th>rmse_scores</th>\n",
       "    </tr>\n",
       "  </thead>\n",
       "  <tbody>\n",
       "    <tr>\n",
       "      <th>0</th>\n",
       "      <td>Linear Regression</td>\n",
       "      <td>-282.005974</td>\n",
       "      <td>32.560446</td>\n",
       "      <td>2382.666095</td>\n",
       "      <td>48.812561</td>\n",
       "    </tr>\n",
       "    <tr>\n",
       "      <th>1</th>\n",
       "      <td>Decision Tree</td>\n",
       "      <td>0.999703</td>\n",
       "      <td>0.002500</td>\n",
       "      <td>0.002500</td>\n",
       "      <td>0.050000</td>\n",
       "    </tr>\n",
       "    <tr>\n",
       "      <th>2</th>\n",
       "      <td>Random Forest</td>\n",
       "      <td>0.999703</td>\n",
       "      <td>0.002556</td>\n",
       "      <td>0.002501</td>\n",
       "      <td>0.050006</td>\n",
       "    </tr>\n",
       "  </tbody>\n",
       "</table>\n",
       "</div>"
      ],
      "text/plain": [
       "              Models   r2_scores  mae_scores   mse_scores  rmse_scores\n",
       "0  Linear Regression -282.005974   32.560446  2382.666095    48.812561\n",
       "1      Decision Tree    0.999703    0.002500     0.002500     0.050000\n",
       "2      Random Forest    0.999703    0.002556     0.002501     0.050006"
      ]
     },
     "execution_count": 30,
     "metadata": {},
     "output_type": "execute_result"
    }
   ],
   "source": [
    "result"
   ]
  },
  {
   "cell_type": "code",
   "execution_count": 31,
   "id": "124ebd4e",
   "metadata": {},
   "outputs": [
    {
     "name": "stderr",
     "output_type": "stream",
     "text": [
      "C:\\Users\\avitr\\AppData\\Local\\Temp\\ipykernel_19972\\1091372585.py:1: FutureWarning: The default value of numeric_only in DataFrame.mean is deprecated. In a future version, it will default to False. In addition, specifying 'numeric_only=None' is deprecated. Select only valid columns or specify the value of numeric_only to silence this warning.\n",
      "  normalized_df=(result-result.mean())/result.std()\n",
      "C:\\Users\\avitr\\AppData\\Local\\Temp\\ipykernel_19972\\1091372585.py:1: FutureWarning: The default value of numeric_only in DataFrame.std is deprecated. In a future version, it will default to False. In addition, specifying 'numeric_only=None' is deprecated. Select only valid columns or specify the value of numeric_only to silence this warning.\n",
      "  normalized_df=(result-result.mean())/result.std()\n"
     ]
    }
   ],
   "source": [
    "normalized_df=(result-result.mean())/result.std()"
   ]
  },
  {
   "cell_type": "code",
   "execution_count": 32,
   "id": "466d9186",
   "metadata": {},
   "outputs": [],
   "source": [
    "normalized_df['Models'] = result['Models']"
   ]
  },
  {
   "cell_type": "code",
   "execution_count": 33,
   "id": "45a7f98e",
   "metadata": {},
   "outputs": [
    {
     "data": {
      "text/html": [
       "<div>\n",
       "<style scoped>\n",
       "    .dataframe tbody tr th:only-of-type {\n",
       "        vertical-align: middle;\n",
       "    }\n",
       "\n",
       "    .dataframe tbody tr th {\n",
       "        vertical-align: top;\n",
       "    }\n",
       "\n",
       "    .dataframe thead th {\n",
       "        text-align: right;\n",
       "    }\n",
       "</style>\n",
       "<table border=\"1\" class=\"dataframe\">\n",
       "  <thead>\n",
       "    <tr style=\"text-align: right;\">\n",
       "      <th></th>\n",
       "      <th>Models</th>\n",
       "      <th>mae_scores</th>\n",
       "      <th>mse_scores</th>\n",
       "      <th>r2_scores</th>\n",
       "      <th>rmse_scores</th>\n",
       "    </tr>\n",
       "  </thead>\n",
       "  <tbody>\n",
       "    <tr>\n",
       "      <th>0</th>\n",
       "      <td>Linear Regression</td>\n",
       "      <td>1.154701</td>\n",
       "      <td>1.154701</td>\n",
       "      <td>-1.154701</td>\n",
       "      <td>1.154701</td>\n",
       "    </tr>\n",
       "    <tr>\n",
       "      <th>1</th>\n",
       "      <td>Decision Tree</td>\n",
       "      <td>-0.577352</td>\n",
       "      <td>-0.577350</td>\n",
       "      <td>0.577350</td>\n",
       "      <td>-0.577350</td>\n",
       "    </tr>\n",
       "    <tr>\n",
       "      <th>2</th>\n",
       "      <td>Random Forest</td>\n",
       "      <td>-0.577349</td>\n",
       "      <td>-0.577350</td>\n",
       "      <td>0.577350</td>\n",
       "      <td>-0.577350</td>\n",
       "    </tr>\n",
       "  </tbody>\n",
       "</table>\n",
       "</div>"
      ],
      "text/plain": [
       "              Models  mae_scores  mse_scores  r2_scores  rmse_scores\n",
       "0  Linear Regression    1.154701    1.154701  -1.154701     1.154701\n",
       "1      Decision Tree   -0.577352   -0.577350   0.577350    -0.577350\n",
       "2      Random Forest   -0.577349   -0.577350   0.577350    -0.577350"
      ]
     },
     "execution_count": 33,
     "metadata": {},
     "output_type": "execute_result"
    }
   ],
   "source": [
    "normalized_df"
   ]
  },
  {
   "cell_type": "code",
   "execution_count": 34,
   "id": "100278e7",
   "metadata": {},
   "outputs": [
    {
     "data": {
      "image/png": "[encoded data removed]",
      "text/plain": [
       "<Figure size 640x480 with 1 Axes>"
      ]
     },
     "metadata": {},
     "output_type": "display_data"
    }
   ],
   "source": [
    "import numpy as np\n",
    "import matplotlib.pyplot as plt\n",
    "\n",
    "N = 3\n",
    "ind = np.arange(N)\n",
    "width = 0.1\n",
    "\n",
    "xvals = normalized_df['r2_scores']\n",
    "bar1 = plt.bar(ind, xvals, width, color = 'r')\n",
    "\n",
    "yvals = normalized_df['mae_scores']\n",
    "bar2 = plt.bar(ind+width, yvals, width, color='g')\n",
    "\n",
    "zvals = normalized_df['mse_scores']\n",
    "bar3 = plt.bar(ind+width*2, zvals, width, color = 'b')\n",
    "\n",
    "pvals = normalized_df['rmse_scores']\n",
    "bar4 = plt.bar(ind+width*3, pvals, width, color = 'y')\n",
    "\n",
    "\n",
    "plt.xlabel(\"Models\")\n",
    "plt.ylabel('Normalized value')\n",
    "\n",
    "plt.xticks(ind+width,['Linear Regression', 'Decision Tree', 'Random Forest'])\n",
    "plt.legend( (bar1, bar2, bar3,bar4), ('R2_scores','Mae_scores','Mse_scores','Rmse_scores') )\n",
    "plt.savefig('a.png')\n",
    "plt.show()\n"
   ]
  },
  {
   "cell_type": "code",
   "execution_count": null,
   "id": "a0af635d",
   "metadata": {},
   "outputs": [],
   "source": []
  }
 ],
 "metadata": {
  "kernelspec": {
   "display_name": "Python 3 (ipykernel)",
   "language": "python",
   "name": "python3"
  },
  "language_info": {
   "codemirror_mode": {
    "name": "ipython",
    "version": 3
   },
   "file_extension": ".py",
   "mimetype": "text/x-python",
   "name": "python",
   "nbconvert_exporter": "python",
   "pygments_lexer": "ipython3",
   "version": "3.9.15"
  }
 },
 "nbformat": 4,
 "nbformat_minor": 5
}
