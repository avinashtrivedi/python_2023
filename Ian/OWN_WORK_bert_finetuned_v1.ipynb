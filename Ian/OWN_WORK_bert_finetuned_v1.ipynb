{
 "cells": [
  {
   "cell_type": "markdown",
   "id": "8a80c8ff",
   "metadata": {},
   "source": [
    "# Transformer Model"
   ]
  },
  {
   "cell_type": "code",
   "execution_count": null,
   "id": "1a320f42",
   "metadata": {},
   "outputs": [],
   "source": [
    "import pandas as pd\n",
    "import warnings\n",
    "warnings.filterwarnings('ignore')\n",
    "\n",
    "# https://huggingface.co/docs/transformers/training"
   ]
  },
  {
   "cell_type": "code",
   "execution_count": null,
   "id": "32ac73f9",
   "metadata": {},
   "outputs": [],
   "source": []
  },
  {
   "cell_type": "code",
   "execution_count": null,
   "id": "93d508ac",
   "metadata": {},
   "outputs": [],
   "source": [
    "df = pd.read_csv('untitled.csv')"
   ]
  },
  {
   "cell_type": "code",
   "execution_count": null,
   "id": "b791bf38",
   "metadata": {},
   "outputs": [],
   "source": [
    "df.dropna(inplace=True)"
   ]
  },
  {
   "cell_type": "code",
   "execution_count": null,
   "id": "abd93d71",
   "metadata": {},
   "outputs": [],
   "source": [
    "df['IsBodyShopRepair'].value_counts()"
   ]
  },
  {
   "cell_type": "code",
   "execution_count": null,
   "id": "8b6e81dd",
   "metadata": {},
   "outputs": [],
   "source": [
    "df.shape"
   ]
  },
  {
   "cell_type": "code",
   "execution_count": null,
   "id": "a74f0922",
   "metadata": {},
   "outputs": [],
   "source": [
    "import random"
   ]
  },
  {
   "cell_type": "code",
   "execution_count": null,
   "id": "0c002c49",
   "metadata": {},
   "outputs": [],
   "source": [
    "f = lambda x: (random.randint(50,100)/random.randint(5,10))"
   ]
  },
  {
   "cell_type": "code",
   "execution_count": null,
   "id": "29af51dd",
   "metadata": {},
   "outputs": [],
   "source": [
    "f(1)"
   ]
  },
  {
   "cell_type": "code",
   "execution_count": null,
   "id": "f869a4d1",
   "metadata": {},
   "outputs": [],
   "source": [
    "df['IsBodyShopRepair'] = df['IsBodyShopRepair'].apply(f)"
   ]
  },
  {
   "cell_type": "code",
   "execution_count": null,
   "id": "5302dc08",
   "metadata": {},
   "outputs": [],
   "source": [
    "import string\n",
    "def clean(x):\n",
    "    # x = x.tolist()[0]\n",
    "    x = x.lower()\n",
    "    new_str = ''\n",
    "    for char in x:\n",
    "        if char not in string.punctuation:\n",
    "            new_str = new_str + char\n",
    "    return new_str.strip()"
   ]
  },
  {
   "cell_type": "code",
   "execution_count": null,
   "id": "0074f6d2",
   "metadata": {},
   "outputs": [],
   "source": [
    "df['text'] = df['Damage'].apply(lambda x: clean(x))"
   ]
  },
  {
   "cell_type": "code",
   "execution_count": null,
   "id": "404e932c",
   "metadata": {},
   "outputs": [],
   "source": [
    "df.rename(columns={'IsBodyShopRepair':'label'},inplace=True)"
   ]
  },
  {
   "cell_type": "code",
   "execution_count": null,
   "id": "19cc8010",
   "metadata": {},
   "outputs": [],
   "source": [
    "df.drop('Damage',axis=1,inplace=True)"
   ]
  },
  {
   "cell_type": "code",
   "execution_count": null,
   "id": "eb312a31",
   "metadata": {},
   "outputs": [],
   "source": [
    "df['label'] = df['label'].replace(['Y','N'],[1,0])"
   ]
  },
  {
   "cell_type": "code",
   "execution_count": null,
   "id": "cf956df7",
   "metadata": {},
   "outputs": [],
   "source": [
    "df"
   ]
  },
  {
   "cell_type": "code",
   "execution_count": null,
   "id": "ce4a930c",
   "metadata": {},
   "outputs": [],
   "source": [
    "# df['label'].unique()"
   ]
  },
  {
   "cell_type": "code",
   "execution_count": null,
   "id": "6b3ae512",
   "metadata": {},
   "outputs": [],
   "source": []
  },
  {
   "cell_type": "code",
   "execution_count": null,
   "id": "d06439a4",
   "metadata": {},
   "outputs": [],
   "source": [
    "!pip install -q datasets"
   ]
  },
  {
   "cell_type": "code",
   "execution_count": null,
   "id": "128bd3cf",
   "metadata": {},
   "outputs": [],
   "source": [
    "df"
   ]
  },
  {
   "cell_type": "code",
   "execution_count": null,
   "id": "cb76f755",
   "metadata": {},
   "outputs": [],
   "source": [
    "from sklearn.model_selection import train_test_split"
   ]
  },
  {
   "cell_type": "code",
   "execution_count": null,
   "id": "a75640da",
   "metadata": {},
   "outputs": [],
   "source": [
    "df_train,df_val = train_test_split(df,test_size=0.1,random_state=42)"
   ]
  },
  {
   "cell_type": "code",
   "execution_count": null,
   "id": "5e20c2f8",
   "metadata": {},
   "outputs": [],
   "source": [
    "df_train.shape"
   ]
  },
  {
   "cell_type": "code",
   "execution_count": null,
   "id": "a84ad7cb",
   "metadata": {},
   "outputs": [],
   "source": [
    "df_val.shape"
   ]
  },
  {
   "cell_type": "code",
   "execution_count": null,
   "id": "b9d54b4e",
   "metadata": {},
   "outputs": [],
   "source": [
    "import datasets"
   ]
  },
  {
   "cell_type": "code",
   "execution_count": null,
   "id": "e749051f",
   "metadata": {},
   "outputs": [],
   "source": [
    "import datasets\n",
    "import os\n",
    "# import numpy as np\n",
    "\n",
    "\n",
    "# prepare dataset for finetuning\n",
    "train_dataset = datasets.Dataset.from_dict(df_train)\n",
    "val_dataset = datasets.Dataset.from_dict(df_val)\n",
    "\n",
    "\n",
    "my_dataset_dict = datasets.DatasetDict({\"train\":train_dataset,\"val\":val_dataset})"
   ]
  },
  {
   "cell_type": "code",
   "execution_count": null,
   "id": "ffcbe043",
   "metadata": {},
   "outputs": [],
   "source": [
    "my_dataset_dict"
   ]
  },
  {
   "cell_type": "code",
   "execution_count": null,
   "id": "6ac3216d",
   "metadata": {},
   "outputs": [],
   "source": [
    "# !pip install -q transformers"
   ]
  },
  {
   "cell_type": "code",
   "execution_count": null,
   "id": "13a05af1",
   "metadata": {},
   "outputs": [],
   "source": [
    "from transformers import AutoTokenizer"
   ]
  },
  {
   "cell_type": "code",
   "execution_count": null,
   "id": "26b37610",
   "metadata": {},
   "outputs": [],
   "source": [
    "# load Tokenizer from bert-base-uncased checkpoint\n",
    "tokenizer = AutoTokenizer.from_pretrained(\"bert-base-uncased\")"
   ]
  },
  {
   "cell_type": "code",
   "execution_count": null,
   "id": "3aeee080",
   "metadata": {},
   "outputs": [],
   "source": [
    "tokenizer"
   ]
  },
  {
   "cell_type": "code",
   "execution_count": null,
   "id": "d13bc530",
   "metadata": {},
   "outputs": [],
   "source": [
    "# get tokenized dataset\n",
    "def tokenize_function(examples):\n",
    "    # max token length max_length=20, you can change it to max 512\n",
    "    return tokenizer(examples[\"text\"], padding=\"max_length\", max_length=20, truncation=True)\n",
    "tokenized_datasets = my_dataset_dict.map(tokenize_function, batched=True)"
   ]
  },
  {
   "cell_type": "code",
   "execution_count": null,
   "id": "ef6cde8e",
   "metadata": {},
   "outputs": [],
   "source": [
    "my_dataset_dict"
   ]
  },
  {
   "cell_type": "code",
   "execution_count": null,
   "id": "59de739c",
   "metadata": {},
   "outputs": [],
   "source": [
    "tokenized_datasets"
   ]
  },
  {
   "cell_type": "code",
   "execution_count": null,
   "id": "9beba771",
   "metadata": {},
   "outputs": [],
   "source": [
    "df['label'].unique().tolist()"
   ]
  },
  {
   "cell_type": "code",
   "execution_count": null,
   "id": "c338e876",
   "metadata": {},
   "outputs": [],
   "source": [
    "class_names = df['label'].unique().tolist()"
   ]
  },
  {
   "cell_type": "code",
   "execution_count": null,
   "id": "71e8d522",
   "metadata": {},
   "outputs": [],
   "source": [
    "from transformers import AutoModelForSequenceClassification\n",
    "\n",
    "# load classifier from bert-base-uncased\n",
    "model = AutoModelForSequenceClassification.from_pretrained(\"bert-base-uncased\", num_labels=len(class_names))"
   ]
  },
  {
   "cell_type": "code",
   "execution_count": null,
   "id": "db065f61",
   "metadata": {},
   "outputs": [],
   "source": [
    "model"
   ]
  },
  {
   "cell_type": "code",
   "execution_count": null,
   "id": "f3ff26bf",
   "metadata": {},
   "outputs": [],
   "source": [
    "!pip install -q evaluate"
   ]
  },
  {
   "cell_type": "code",
   "execution_count": null,
   "id": "6c39b400",
   "metadata": {},
   "outputs": [],
   "source": [
    "import numpy as np\n",
    "import evaluate\n",
    "\n",
    "metric = evaluate.load(\"accuracy\")"
   ]
  },
  {
   "cell_type": "code",
   "execution_count": null,
   "id": "9447777e",
   "metadata": {},
   "outputs": [],
   "source": [
    "# function to compute performance while finetuning\n",
    "def compute_metrics(eval_pred):\n",
    "    logits, labels = eval_pred\n",
    "    predictions = np.argmax(logits, axis=-1)\n",
    "    return metric.compute(predictions=predictions, references=labels)"
   ]
  },
  {
   "cell_type": "code",
   "execution_count": null,
   "id": "851f2785",
   "metadata": {},
   "outputs": [],
   "source": [
    "from transformers import TrainingArguments, Trainer\n",
    "# prepare training Arguments\n",
    "training_args = TrainingArguments(output_dir=\"test_trainer\", evaluation_strategy=\"epoch\",\n",
    "                                  num_train_epochs = 2, # change here\n",
    "                                  overwrite_output_dir=True)"
   ]
  },
  {
   "cell_type": "code",
   "execution_count": null,
   "id": "636c5ee4",
   "metadata": {},
   "outputs": [],
   "source": [
    "pip install --upgrade accelerate"
   ]
  },
  {
   "cell_type": "code",
   "execution_count": null,
   "id": "342d4e5d",
   "metadata": {},
   "outputs": [],
   "source": [
    "# Trainer for finetuning\n",
    "trainer = Trainer(\n",
    "    model=model,\n",
    "    args=training_args,\n",
    "    train_dataset=tokenized_datasets[\"train\"],\n",
    "    eval_dataset=tokenized_datasets[\"val\"],\n",
    "    compute_metrics=compute_metrics,\n",
    "    # callbacks=[checkpoint_callback]\n",
    ")"
   ]
  },
  {
   "cell_type": "code",
   "execution_count": null,
   "id": "b29ddd1d",
   "metadata": {},
   "outputs": [],
   "source": [
    "# train the model for finetuning\n",
    "trainer.train()"
   ]
  },
  {
   "cell_type": "code",
   "execution_count": null,
   "id": "72bf2454",
   "metadata": {},
   "outputs": [],
   "source": [
    "# save the model\n",
    "trainer.save_model(\"MyOwn_finetuned_model\")"
   ]
  },
  {
   "cell_type": "markdown",
   "id": "8a46ef45",
   "metadata": {},
   "source": [
    "# Now use Our finetuned Model"
   ]
  },
  {
   "cell_type": "code",
   "execution_count": null,
   "id": "c009c95b",
   "metadata": {},
   "outputs": [],
   "source": [
    "from transformers import (\n",
    "    AutoModel, AutoConfig, \n",
    "    AutoTokenizer, logging\n",
    ")\n",
    "\n",
    "# load fientuned model\n",
    "model_tuned = AutoModelForSequenceClassification.from_pretrained(\"MyOwn_finetuned_model\")"
   ]
  },
  {
   "cell_type": "code",
   "execution_count": null,
   "id": "d6902284",
   "metadata": {},
   "outputs": [],
   "source": [
    "model_tuned"
   ]
  },
  {
   "cell_type": "code",
   "execution_count": null,
   "id": "8d0fc81d",
   "metadata": {},
   "outputs": [],
   "source": [
    "from scipy.special import softmax\n",
    "def inference(text):\n",
    "    batch = tokenizer.encode(text, return_tensors='pt')\n",
    "    output = model_tuned(batch)\n",
    "    scores = output[0][0].detach().numpy()\n",
    "    scores = softmax(scores)\n",
    "    labels = [0,1]\n",
    "    return labels[scores.argmax()]"
   ]
  },
  {
   "cell_type": "code",
   "execution_count": null,
   "id": "bda77e40",
   "metadata": {},
   "outputs": [],
   "source": [
    "# prediction for first 50 lines\n",
    "df['text'][:50].apply(lambda x:inference(x))"
   ]
  },
  {
   "cell_type": "markdown",
   "id": "680df709",
   "metadata": {},
   "source": [
    "# test"
   ]
  },
  {
   "cell_type": "code",
   "execution_count": 27,
   "id": "297adf89",
   "metadata": {},
   "outputs": [],
   "source": [
    "import pandas as pd\n",
    "import random\n",
    "from sklearn.preprocessing import MinMaxScaler"
   ]
  },
  {
   "cell_type": "code",
   "execution_count": 14,
   "id": "5259edef",
   "metadata": {},
   "outputs": [],
   "source": [
    "f = lambda : random.randint(50,70)/random.randint(2,10)"
   ]
  },
  {
   "cell_type": "code",
   "execution_count": 16,
   "id": "55af485a",
   "metadata": {},
   "outputs": [],
   "source": [
    "d = {'col1':[],'col2':[]}\n",
    "\n",
    "for i in range(100):\n",
    "    d['col1'].append(f())\n",
    "    d['col2'].append(f())"
   ]
  },
  {
   "cell_type": "code",
   "execution_count": 19,
   "id": "ba2e7517",
   "metadata": {},
   "outputs": [],
   "source": [
    "df = pd.DataFrame(d)"
   ]
  },
  {
   "cell_type": "code",
   "execution_count": 32,
   "id": "43694d29",
   "metadata": {},
   "outputs": [
    {
     "data": {
      "text/html": [
       "<div>\n",
       "<style scoped>\n",
       "    .dataframe tbody tr th:only-of-type {\n",
       "        vertical-align: middle;\n",
       "    }\n",
       "\n",
       "    .dataframe tbody tr th {\n",
       "        vertical-align: top;\n",
       "    }\n",
       "\n",
       "    .dataframe thead th {\n",
       "        text-align: right;\n",
       "    }\n",
       "</style>\n",
       "<table border=\"1\" class=\"dataframe\">\n",
       "  <thead>\n",
       "    <tr style=\"text-align: right;\">\n",
       "      <th></th>\n",
       "      <th>col1</th>\n",
       "      <th>col2</th>\n",
       "    </tr>\n",
       "  </thead>\n",
       "  <tbody>\n",
       "    <tr>\n",
       "      <th>0</th>\n",
       "      <td>17.250000</td>\n",
       "      <td>9.833333</td>\n",
       "    </tr>\n",
       "    <tr>\n",
       "      <th>1</th>\n",
       "      <td>9.714286</td>\n",
       "      <td>8.666667</td>\n",
       "    </tr>\n",
       "    <tr>\n",
       "      <th>2</th>\n",
       "      <td>7.250000</td>\n",
       "      <td>31.000000</td>\n",
       "    </tr>\n",
       "    <tr>\n",
       "      <th>3</th>\n",
       "      <td>13.750000</td>\n",
       "      <td>6.600000</td>\n",
       "    </tr>\n",
       "    <tr>\n",
       "      <th>4</th>\n",
       "      <td>7.428571</td>\n",
       "      <td>14.250000</td>\n",
       "    </tr>\n",
       "    <tr>\n",
       "      <th>...</th>\n",
       "      <td>...</td>\n",
       "      <td>...</td>\n",
       "    </tr>\n",
       "    <tr>\n",
       "      <th>95</th>\n",
       "      <td>14.500000</td>\n",
       "      <td>6.600000</td>\n",
       "    </tr>\n",
       "    <tr>\n",
       "      <th>96</th>\n",
       "      <td>19.333333</td>\n",
       "      <td>11.800000</td>\n",
       "    </tr>\n",
       "    <tr>\n",
       "      <th>97</th>\n",
       "      <td>10.833333</td>\n",
       "      <td>20.000000</td>\n",
       "    </tr>\n",
       "    <tr>\n",
       "      <th>98</th>\n",
       "      <td>12.200000</td>\n",
       "      <td>11.333333</td>\n",
       "    </tr>\n",
       "    <tr>\n",
       "      <th>99</th>\n",
       "      <td>13.200000</td>\n",
       "      <td>31.500000</td>\n",
       "    </tr>\n",
       "  </tbody>\n",
       "</table>\n",
       "<p>100 rows × 2 columns</p>\n",
       "</div>"
      ],
      "text/plain": [
       "         col1       col2\n",
       "0   17.250000   9.833333\n",
       "1    9.714286   8.666667\n",
       "2    7.250000  31.000000\n",
       "3   13.750000   6.600000\n",
       "4    7.428571  14.250000\n",
       "..        ...        ...\n",
       "95  14.500000   6.600000\n",
       "96  19.333333  11.800000\n",
       "97  10.833333  20.000000\n",
       "98  12.200000  11.333333\n",
       "99  13.200000  31.500000\n",
       "\n",
       "[100 rows x 2 columns]"
      ]
     },
     "execution_count": 32,
     "metadata": {},
     "output_type": "execute_result"
    }
   ],
   "source": [
    "df"
   ]
  },
  {
   "cell_type": "code",
   "execution_count": null,
   "id": "1a992ef4",
   "metadata": {},
   "outputs": [],
   "source": []
  },
  {
   "cell_type": "code",
   "execution_count": 40,
   "id": "7274055d",
   "metadata": {},
   "outputs": [],
   "source": [
    "from sklearn.model_selection import train_test_split"
   ]
  },
  {
   "cell_type": "code",
   "execution_count": 41,
   "id": "f6388e88",
   "metadata": {},
   "outputs": [],
   "source": [
    "X_train, X_test = train_test_split(df,test_size=0.33, random_state=42)"
   ]
  },
  {
   "cell_type": "code",
   "execution_count": 42,
   "id": "0a721095",
   "metadata": {},
   "outputs": [],
   "source": [
    "sc = MinMaxScaler()"
   ]
  },
  {
   "cell_type": "code",
   "execution_count": 43,
   "id": "71af1fb5",
   "metadata": {},
   "outputs": [],
   "source": [
    "X_train = sc.fit_transform(X_train)"
   ]
  },
  {
   "cell_type": "code",
   "execution_count": 44,
   "id": "85a10e30",
   "metadata": {},
   "outputs": [
    {
     "data": {
      "text/plain": [
       "array([[0.21070234, 0.45011338],\n",
       "       [0.        , 0.91496599],\n",
       "       [0.06772575, 0.15694849],\n",
       "       [0.24414716, 0.91496599],\n",
       "       [0.25083612, 0.03741497],\n",
       "       [0.7993311 , 0.05328798],\n",
       "       [0.14476828, 0.24829932],\n",
       "       [0.66555184, 0.16666667],\n",
       "       [0.0449647 , 0.96598639],\n",
       "       [0.0367893 , 0.51814059],\n",
       "       [0.31438127, 0.05102041],\n",
       "       [0.30602007, 0.3877551 ],\n",
       "       [0.03381643, 0.20748299],\n",
       "       [0.0449647 , 0.4047619 ],\n",
       "       [0.05239688, 0.50680272],\n",
       "       [0.41471572, 0.03401361],\n",
       "       [0.12207358, 0.07434402],\n",
       "       [0.13043478, 0.60884354],\n",
       "       [0.28929766, 0.05102041],\n",
       "       [0.05982906, 0.76190476],\n",
       "       [0.09280936, 0.0457294 ],\n",
       "       [0.39799331, 0.10714286],\n",
       "       [0.46488294, 0.25170068],\n",
       "       [0.07608696, 0.06840514],\n",
       "       [0.12486065, 0.04950869],\n",
       "       [0.56521739, 0.04081633],\n",
       "       [0.5206243 , 0.00340136],\n",
       "       [0.13600892, 0.79591837],\n",
       "       [0.27090301, 0.89795918],\n",
       "       [0.43143813, 0.13265306],\n",
       "       [0.53177258, 0.03741497],\n",
       "       [0.15910177, 0.0457294 ],\n",
       "       [0.31438127, 0.        ],\n",
       "       [0.06726124, 0.03741497],\n",
       "       [0.06354515, 0.06084656],\n",
       "       [0.03381643, 0.31122449],\n",
       "       [0.19175028, 0.50680272],\n",
       "       [0.7993311 , 0.02721088],\n",
       "       [0.08026756, 0.03401361],\n",
       "       [0.20847269, 0.42176871],\n",
       "       [0.03010033, 0.20068027],\n",
       "       [0.23745819, 0.21201814],\n",
       "       [0.83277592, 0.31972789],\n",
       "       [0.12565695, 0.1723356 ],\n",
       "       [0.27090301, 0.09013605],\n",
       "       [0.38963211, 0.04950869],\n",
       "       [0.18617614, 0.02040816],\n",
       "       [0.07190635, 0.01549509],\n",
       "       [0.55406912, 0.20748299],\n",
       "       [0.04682274, 1.        ],\n",
       "       [0.14954611, 0.12293489],\n",
       "       [0.15432394, 0.12131519],\n",
       "       [0.21962096, 0.10349854],\n",
       "       [1.        , 0.05706727],\n",
       "       [0.07190635, 0.88095238],\n",
       "       [0.10117057, 0.03061224],\n",
       "       [0.08584169, 0.07738095],\n",
       "       [0.04264214, 0.50680272],\n",
       "       [0.14715719, 0.30272109],\n",
       "       [0.23745819, 0.08588435],\n",
       "       [0.13043478, 0.23469388],\n",
       "       [0.68227425, 0.05328798],\n",
       "       [0.03381643, 0.06084656],\n",
       "       [0.38684504, 0.03401361],\n",
       "       [0.60981048, 0.1553288 ],\n",
       "       [0.07608696, 0.59750567],\n",
       "       [0.29765886, 0.14723032]])"
      ]
     },
     "execution_count": 44,
     "metadata": {},
     "output_type": "execute_result"
    }
   ],
   "source": [
    "X_train"
   ]
  },
  {
   "cell_type": "code",
   "execution_count": 45,
   "id": "f97a7f67",
   "metadata": {},
   "outputs": [
    {
     "data": {
      "text/plain": [
       "array([[ 0.98327759,  0.06887755],\n",
       "       [ 0.06354515,  0.10714286],\n",
       "       [ 0.54292085,  0.23469388],\n",
       "       [ 0.71571906,  0.0457294 ],\n",
       "       [ 0.19175028,  0.48412698],\n",
       "       [ 0.10654563,  0.77891156],\n",
       "       [ 0.83277592,  0.02305367],\n",
       "       [ 0.11371237,  0.12131519],\n",
       "       [ 0.07840951,  0.08892128],\n",
       "       [ 0.40635452,  0.16099773],\n",
       "       [ 0.69899666,  0.29421769],\n",
       "       [ 0.34782609,  0.3877551 ],\n",
       "       [ 0.17725753,  0.91496599],\n",
       "       [ 0.10535117,  0.3792517 ],\n",
       "       [ 0.17502787,  0.0170068 ],\n",
       "       [ 0.07787864,  0.31122449],\n",
       "       [ 0.06832298,  0.00680272],\n",
       "       [ 0.46488294,  0.00340136],\n",
       "       [ 0.17502787,  0.06084656],\n",
       "       [ 0.1638796 ,  0.01020408],\n",
       "       [ 0.27257525,  0.29591837],\n",
       "       [ 0.23076923,  0.89795918],\n",
       "       [ 0.12486065,  0.06462585],\n",
       "       [-0.00334448,  0.07974301],\n",
       "       [ 0.14954611, -0.00340136],\n",
       "       [ 0.7826087 ,  0.09438776],\n",
       "       [ 0.05351171,  0.09378037],\n",
       "       [ 0.47603122,  0.22789116],\n",
       "       [ 0.56521739,  0.89795918],\n",
       "       [ 0.08955779,  0.1180758 ],\n",
       "       [ 0.15910177,  0.17800454],\n",
       "       [ 0.04013378,  0.20748299],\n",
       "       [ 0.25083612,  0.10714286]])"
      ]
     },
     "execution_count": 45,
     "metadata": {},
     "output_type": "execute_result"
    }
   ],
   "source": [
    "sc.transform(X_test)"
   ]
  },
  {
   "cell_type": "code",
   "execution_count": 46,
   "id": "f550e53f",
   "metadata": {},
   "outputs": [],
   "source": [
    "f = lambda : random.randint(50,700)/random.randint(2,10)\n",
    "\n",
    "d = {'col1':[],'col2':[]}\n",
    "\n",
    "for i in range(100):\n",
    "    d['col1'].append(f())\n",
    "    d['col2'].append(f())\n",
    "    \n",
    "df = pd.DataFrame(d)"
   ]
  },
  {
   "cell_type": "code",
   "execution_count": 48,
   "id": "2a390cd6",
   "metadata": {},
   "outputs": [
    {
     "data": {
      "text/plain": [
       "array([[ 0.13043478,  2.56705539],\n",
       "       [ 1.99219621,  2.13945578],\n",
       "       [ 6.4960981 ,  1.75963719],\n",
       "       [ 1.90301003,  2.71768707],\n",
       "       [ 2.54960981,  6.11904762],\n",
       "       [ 4.25250836,  2.26795163],\n",
       "       [ 4.07023411,  2.68367347],\n",
       "       [ 1.21404682,  0.89067055],\n",
       "       [ 0.70642884,  1.22534014],\n",
       "       [ 1.70234114,  5.76190476],\n",
       "       [ 0.44816054,  3.11451247],\n",
       "       [ 0.83277592,  1.0085034 ],\n",
       "       [ 8.60869565,  7.17346939],\n",
       "       [ 6.11705686,  2.36479592],\n",
       "       [ 1.34559643,  4.41836735],\n",
       "       [ 1.70711897,  2.86054422],\n",
       "       [ 3.16276477,  9.63945578],\n",
       "       [ 1.03716091,  1.51020408],\n",
       "       [ 0.84392419,  5.1553288 ],\n",
       "       [ 6.19509476,  1.67298348],\n",
       "       [ 1.05852843,  2.71282799],\n",
       "       [ 4.16889632,  0.4047619 ],\n",
       "       [ 0.87179487,  3.15419501],\n",
       "       [ 7.43255295,  4.41836735],\n",
       "       [ 1.3812709 ,  3.64739229],\n",
       "       [ 1.48256092,  1.87490552],\n",
       "       [ 6.65217391,  4.19160998],\n",
       "       [ 9.71237458,  0.86961451],\n",
       "       [ 2.09698997,  4.7329932 ],\n",
       "       [ 0.38684504,  2.61989796],\n",
       "       [ 0.4180602 ,  0.9452003 ],\n",
       "       [ 0.89966555,  4.17176871],\n",
       "       [ 1.64214047,  2.64965986],\n",
       "       [ 0.94565217,  2.39455782],\n",
       "       [ 1.71348941,  1.69727891],\n",
       "       [ 2.32943144,  1.53287982],\n",
       "       [ 0.86287625,  3.95578231],\n",
       "       [ 3.40802676,  0.32312925],\n",
       "       [ 2.6722408 ,  5.69387755],\n",
       "       [ 1.65774805,  5.93197279],\n",
       "       [ 0.89130435,  2.2414966 ],\n",
       "       [ 1.29264214,  4.46938776],\n",
       "       [ 2.40468227,  2.19897959],\n",
       "       [ 1.68747677,  5.62585034],\n",
       "       [ 1.46153846,  1.99962207],\n",
       "       [ 4.40022297,  2.40022676],\n",
       "       [ 3.0735786 ,  1.64058957],\n",
       "       [ 2.1557042 ,  1.58673469],\n",
       "       [ 2.51616499,  5.69954649],\n",
       "       [ 4.13712375,  2.3851096 ],\n",
       "       [ 3.03057812,  0.9829932 ],\n",
       "       [ 1.99916388,  3.06632653],\n",
       "       [ 7.23745819,  1.66751701],\n",
       "       [ 5.56521739,  1.27636054],\n",
       "       [ 1.52396878, 11.66326531],\n",
       "       [ 1.38461538,  0.87123421],\n",
       "       [ 4.00167224,  2.30272109],\n",
       "       [ 1.54998142,  9.62244898],\n",
       "       [ 0.43515422,  1.17346939],\n",
       "       [ 0.38312895,  2.16071429],\n",
       "       [ 2.48829431,  1.24829932],\n",
       "       [ 6.12820513,  4.56122449],\n",
       "       [ 2.75250836,  3.76643991],\n",
       "       [ 0.6432553 ,  0.46145125],\n",
       "       [ 1.31772575,  1.09637188],\n",
       "       [ 1.42044912,  0.28382464],\n",
       "       [ 0.09698997,  1.93197279],\n",
       "       [ 2.40946011,  4.37301587],\n",
       "       [ 4.45317726,  1.11904762],\n",
       "       [ 2.70986622, 10.89795918],\n",
       "       [ 2.41583055,  1.73129252],\n",
       "       [ 3.909699  ,  0.33673469],\n",
       "       [ 0.52619844,  8.02380952],\n",
       "       [ 1.26198439,  0.09863946],\n",
       "       [ 1.45150502,  0.74489796],\n",
       "       [ 1.0083612 ,  2.20323129],\n",
       "       [ 3.87625418,  1.47052154],\n",
       "       [ 2.01767797,  2.22637944],\n",
       "       [ 1.32608696,  1.88010204],\n",
       "       [ 0.43979933,  1.09183673],\n",
       "       [ 1.43478261,  1.03401361],\n",
       "       [10.76588629,  1.92857143],\n",
       "       [ 1.40611562,  2.86507937],\n",
       "       [ 2.48112757,  1.6292517 ],\n",
       "       [ 3.78428094,  0.1175359 ],\n",
       "       [ 2.12597547,  5.04761905],\n",
       "       [ 1.02972873,  0.62244898],\n",
       "       [ 0.26899188,  0.85665695],\n",
       "       [ 1.50167224,  0.84693878],\n",
       "       [ 0.84949833,  1.17573696],\n",
       "       [ 3.52842809,  2.62244898],\n",
       "       [ 0.59197324,  8.46598639],\n",
       "       [ 0.30243669, 10.67687075],\n",
       "       [ 5.94983278,  4.2414966 ],\n",
       "       [ 2.11622074,  1.10447036],\n",
       "       [ 1.96989967,  5.1893424 ],\n",
       "       [ 2.15942029,  9.92857143],\n",
       "       [ 0.81047938,  5.31122449],\n",
       "       [ 2.61371237,  6.56122449],\n",
       "       [ 7.73913043,  2.4739229 ]])"
      ]
     },
     "execution_count": 48,
     "metadata": {},
     "output_type": "execute_result"
    }
   ],
   "source": [
    "sc.transform(df)"
   ]
  },
  {
   "cell_type": "code",
   "execution_count": null,
   "id": "984f5bd0",
   "metadata": {},
   "outputs": [],
   "source": []
  }
 ],
 "metadata": {
  "kernelspec": {
   "display_name": "Python (myNEWenv)",
   "language": "python",
   "name": "mynewenv"
  },
  "language_info": {
   "codemirror_mode": {
    "name": "ipython",
    "version": 3
   },
   "file_extension": ".py",
   "mimetype": "text/x-python",
   "name": "python",
   "nbconvert_exporter": "python",
   "pygments_lexer": "ipython3",
   "version": "3.10.12"
  }
 },
 "nbformat": 4,
 "nbformat_minor": 5
}
