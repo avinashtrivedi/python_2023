{
 "cells": [
  {
   "cell_type": "code",
   "execution_count": 17,
   "id": "f098d85b",
   "metadata": {},
   "outputs": [],
   "source": [
    "import pandas as pd\n",
    "from tqdm.notebook import tqdm\n",
    "tqdm.pandas()\n",
    "df = pd.read_csv(r\"D:\\OneDrive - NITT\\Desktop\\1stparty_bodyshop.csv\")"
   ]
  },
  {
   "cell_type": "code",
   "execution_count": 18,
   "id": "d1a84269",
   "metadata": {},
   "outputs": [
    {
     "data": {
      "text/plain": [
       "(907682, 2)"
      ]
     },
     "execution_count": 18,
     "metadata": {},
     "output_type": "execute_result"
    }
   ],
   "source": [
    "df.shape"
   ]
  },
  {
   "cell_type": "markdown",
   "id": "0fb860f6",
   "metadata": {},
   "source": [
    "# Remove NaN i.e Missing entry"
   ]
  },
  {
   "cell_type": "code",
   "execution_count": 19,
   "id": "ff88f941",
   "metadata": {},
   "outputs": [
    {
     "data": {
      "text/plain": [
       "Damage              67430\n",
       "IsBodyShopRepair        0\n",
       "dtype: int64"
      ]
     },
     "execution_count": 19,
     "metadata": {},
     "output_type": "execute_result"
    }
   ],
   "source": [
    "# check for NaN\n",
    "df.isna().sum()"
   ]
  },
  {
   "cell_type": "code",
   "execution_count": 20,
   "id": "cd41cc89",
   "metadata": {},
   "outputs": [
    {
     "data": {
      "text/plain": [
       "N    65269\n",
       "Y     2161\n",
       "Name: IsBodyShopRepair, dtype: int64"
      ]
     },
     "execution_count": 20,
     "metadata": {},
     "output_type": "execute_result"
    }
   ],
   "source": [
    "df[df['Damage'].isna()]['IsBodyShopRepair'].value_counts()"
   ]
  },
  {
   "cell_type": "code",
   "execution_count": 21,
   "id": "4d303085",
   "metadata": {},
   "outputs": [],
   "source": [
    "# drop NaN entry\n",
    "df.dropna(inplace=True)\n",
    "df.reset_index(drop=True,inplace=True)"
   ]
  },
  {
   "cell_type": "code",
   "execution_count": 5,
   "id": "6a00b630",
   "metadata": {},
   "outputs": [
    {
     "data": {
      "text/plain": [
       "(840252, 2)"
      ]
     },
     "execution_count": 5,
     "metadata": {},
     "output_type": "execute_result"
    }
   ],
   "source": [
    "df.shape"
   ]
  },
  {
   "cell_type": "markdown",
   "id": "29e01e99",
   "metadata": {},
   "source": [
    "# remove extra spaces, beginning and end of review"
   ]
  },
  {
   "cell_type": "code",
   "execution_count": 6,
   "id": "4d514cdd",
   "metadata": {},
   "outputs": [
    {
     "data": {
      "text/plain": [
       "Index(['Damage', 'IsBodyShopRepair'], dtype='object')"
      ]
     },
     "execution_count": 6,
     "metadata": {},
     "output_type": "execute_result"
    }
   ],
   "source": [
    "df.columns"
   ]
  },
  {
   "cell_type": "code",
   "execution_count": 22,
   "id": "5f459ec4",
   "metadata": {},
   "outputs": [
    {
     "data": {
      "application/vnd.jupyter.widget-view+json": {
       "model_id": "74cd2890ddf544138badf3ab6ea7dbde",
       "version_major": 2,
       "version_minor": 0
      },
      "text/plain": [
       "  0%|          | 0/840252 [00:00<?, ?it/s]"
      ]
     },
     "metadata": {},
     "output_type": "display_data"
    }
   ],
   "source": [
    "df['Damage'] = df['Damage'].progress_apply(lambda x:x.strip().lower())"
   ]
  },
  {
   "cell_type": "code",
   "execution_count": 23,
   "id": "49a9e628",
   "metadata": {},
   "outputs": [
    {
     "data": {
      "text/html": [
       "<div>\n",
       "<style scoped>\n",
       "    .dataframe tbody tr th:only-of-type {\n",
       "        vertical-align: middle;\n",
       "    }\n",
       "\n",
       "    .dataframe tbody tr th {\n",
       "        vertical-align: top;\n",
       "    }\n",
       "\n",
       "    .dataframe thead th {\n",
       "        text-align: right;\n",
       "    }\n",
       "</style>\n",
       "<table border=\"1\" class=\"dataframe\">\n",
       "  <thead>\n",
       "    <tr style=\"text-align: right;\">\n",
       "      <th></th>\n",
       "      <th>IsBodyShopRepair</th>\n",
       "    </tr>\n",
       "    <tr>\n",
       "      <th>Damage</th>\n",
       "      <th></th>\n",
       "    </tr>\n",
       "  </thead>\n",
       "  <tbody>\n",
       "    <tr>\n",
       "      <th></th>\n",
       "      <td>4610</td>\n",
       "    </tr>\n",
       "    <tr>\n",
       "      <th>\u0002\\r\\nstuck in the mud. not within 10 ft of a paved surface. still drivable</th>\n",
       "      <td>1</td>\n",
       "    </tr>\n",
       "    <tr>\n",
       "      <th>\u0002\\r\\nundercarriage is all tore up from the tire that was in the street , and front bumper is cracked and is missing some pieces other details are unknown.</th>\n",
       "      <td>1</td>\n",
       "    </tr>\n",
       "    <tr>\n",
       "      <th>\u0002: two front tires went flat. when it was taken to pep boys they adv of suspension/undercarriage damage</th>\n",
       "      <td>1</td>\n",
       "    </tr>\n",
       "    <tr>\n",
       "      <th>\u0002a scratch on the rear bumper passage side. yes, on dec 28 on the passage side the wheel side panel.</th>\n",
       "      <td>1</td>\n",
       "    </tr>\n",
       "    <tr>\n",
       "      <th>...</th>\n",
       "      <td>...</td>\n",
       "    </tr>\n",
       "    <tr>\n",
       "      <th>~~14 - 18 inch crack in drivers side front fender\\r\\n~~small cover that fits over bottom of the mirror broken off (mirror in tact)\\r\\n~~bracket in the back of the trailer broke</th>\n",
       "      <td>1</td>\n",
       "    </tr>\n",
       "    <tr>\n",
       "      <th>~~all windows are broken out (only windows in tact are the windshield and the two passenger side door windows)\\r\\nneeds to have the following replaced: \\r\\ndrivers side front window\\r\\npassenger side front window\\r\\nrear bay door windows (2)</th>\n",
       "      <td>1</td>\n",
       "    </tr>\n",
       "    <tr>\n",
       "      <th>~~vehicle damage: passenger side mirror (broken off) \\r\\n~~trailer damage: (was flipped over) frame broke, rims broke (totaled per manager)</th>\n",
       "      <td>1</td>\n",
       "    </tr>\n",
       "    <tr>\n",
       "      <th>~~~totaled~~~ entire front end pushed in frame is twisted</th>\n",
       "      <td>1</td>\n",
       "    </tr>\n",
       "    <tr>\n",
       "      <th>~~~~drivable to shop only\\r\\npassenger headlight is broken and not working. passnger fender is dented. passenger side of hood is dented. passenger door is pushed in and does not open.</th>\n",
       "      <td>1</td>\n",
       "    </tr>\n",
       "  </tbody>\n",
       "</table>\n",
       "<p>570148 rows × 1 columns</p>\n",
       "</div>"
      ],
      "text/plain": [
       "                                                    IsBodyShopRepair\n",
       "Damage                                                              \n",
       "                                                                4610\n",
       "\u0002\\r\\nstuck in the mud. not within 10 ft of a pa...                 1\n",
       "\u0002\\r\\nundercarriage is all tore up from the tire...                 1\n",
       "\u0002: two front tires went flat. when it was taken...                 1\n",
       "\u0002a scratch on the rear bumper passage side. yes...                 1\n",
       "...                                                              ...\n",
       "~~14 - 18 inch crack in drivers side front fend...                 1\n",
       "~~all windows are broken out (only windows in t...                 1\n",
       "~~vehicle damage: passenger side mirror (broken...                 1\n",
       "~~~totaled~~~ entire front end pushed in frame ...                 1\n",
       "~~~~drivable to shop only\\r\\npassenger headligh...                 1\n",
       "\n",
       "[570148 rows x 1 columns]"
      ]
     },
     "execution_count": 23,
     "metadata": {},
     "output_type": "execute_result"
    }
   ],
   "source": [
    "df.groupby('Damage').count()"
   ]
  },
  {
   "cell_type": "markdown",
   "id": "e08e3a5d",
   "metadata": {},
   "source": [
    "# Remove unwanted"
   ]
  },
  {
   "cell_type": "code",
   "execution_count": 29,
   "id": "9f5d3344",
   "metadata": {},
   "outputs": [
    {
     "data": {
      "text/plain": [
       "N    74340\n",
       "Y      394\n",
       "Name: IsBodyShopRepair, dtype: int64"
      ]
     },
     "execution_count": 29,
     "metadata": {},
     "output_type": "execute_result"
    }
   ],
   "source": [
    "unwanted = ['none']\n",
    "df[df['Damage'].isin(unwanted)]['IsBodyShopRepair'].value_counts()"
   ]
  },
  {
   "cell_type": "code",
   "execution_count": null,
   "id": "9a2b3aa5",
   "metadata": {},
   "outputs": [],
   "source": []
  },
  {
   "cell_type": "code",
   "execution_count": null,
   "id": "11d33357",
   "metadata": {},
   "outputs": [],
   "source": []
  },
  {
   "cell_type": "code",
   "execution_count": 30,
   "id": "e93dd285",
   "metadata": {},
   "outputs": [
    {
     "data": {
      "text/plain": [
       "N    4602\n",
       "Y       8\n",
       "Name: IsBodyShopRepair, dtype: int64"
      ]
     },
     "execution_count": 30,
     "metadata": {},
     "output_type": "execute_result"
    }
   ],
   "source": [
    "unwanted = ['']\n",
    "df[df['Damage'].isin(unwanted)]['IsBodyShopRepair'].value_counts()"
   ]
  },
  {
   "cell_type": "code",
   "execution_count": null,
   "id": "d5009167",
   "metadata": {},
   "outputs": [],
   "source": []
  },
  {
   "cell_type": "code",
   "execution_count": 31,
   "id": "be708018",
   "metadata": {},
   "outputs": [
    {
     "data": {
      "text/plain": [
       "N    78942\n",
       "Y      402\n",
       "Name: IsBodyShopRepair, dtype: int64"
      ]
     },
     "execution_count": 31,
     "metadata": {},
     "output_type": "execute_result"
    }
   ],
   "source": [
    "unwanted = ['none','']\n",
    "x = df[df['Damage'].isin(unwanted)]\n",
    "x['IsBodyShopRepair'].value_counts()"
   ]
  },
  {
   "cell_type": "code",
   "execution_count": 32,
   "id": "723975de",
   "metadata": {},
   "outputs": [],
   "source": [
    "df = df[~df['Damage'].isin(unwanted)]"
   ]
  },
  {
   "cell_type": "code",
   "execution_count": 33,
   "id": "940c6dbc",
   "metadata": {},
   "outputs": [
    {
     "data": {
      "text/plain": [
       "(760908, 2)"
      ]
     },
     "execution_count": 33,
     "metadata": {},
     "output_type": "execute_result"
    }
   ],
   "source": [
    "df.shape"
   ]
  },
  {
   "cell_type": "code",
   "execution_count": null,
   "id": "5ebabc6c",
   "metadata": {},
   "outputs": [],
   "source": []
  },
  {
   "cell_type": "code",
   "execution_count": 39,
   "id": "4b5e4074",
   "metadata": {},
   "outputs": [
    {
     "data": {
      "text/html": [
       "<div>\n",
       "<style scoped>\n",
       "    .dataframe tbody tr th:only-of-type {\n",
       "        vertical-align: middle;\n",
       "    }\n",
       "\n",
       "    .dataframe tbody tr th {\n",
       "        vertical-align: top;\n",
       "    }\n",
       "\n",
       "    .dataframe thead th {\n",
       "        text-align: right;\n",
       "    }\n",
       "</style>\n",
       "<table border=\"1\" class=\"dataframe\">\n",
       "  <thead>\n",
       "    <tr style=\"text-align: right;\">\n",
       "      <th></th>\n",
       "      <th>IsBodyShopRepair</th>\n",
       "    </tr>\n",
       "    <tr>\n",
       "      <th>Damage</th>\n",
       "      <th></th>\n",
       "    </tr>\n",
       "  </thead>\n",
       "  <tbody>\n",
       "    <tr>\n",
       "      <th>windshield</th>\n",
       "      <td>12680</td>\n",
       "    </tr>\n",
       "    <tr>\n",
       "      <th>no damage</th>\n",
       "      <td>8296</td>\n",
       "    </tr>\n",
       "    <tr>\n",
       "      <th>rear bumper</th>\n",
       "      <td>3376</td>\n",
       "    </tr>\n",
       "    <tr>\n",
       "      <th>front bumper</th>\n",
       "      <td>2390</td>\n",
       "    </tr>\n",
       "    <tr>\n",
       "      <th>unknown</th>\n",
       "      <td>2039</td>\n",
       "    </tr>\n",
       "    <tr>\n",
       "      <th>front end</th>\n",
       "      <td>1942</td>\n",
       "    </tr>\n",
       "    <tr>\n",
       "      <th>total loss</th>\n",
       "      <td>1873</td>\n",
       "    </tr>\n",
       "    <tr>\n",
       "      <th>no damage.</th>\n",
       "      <td>1412</td>\n",
       "    </tr>\n",
       "    <tr>\n",
       "      <th>front end damage</th>\n",
       "      <td>1104</td>\n",
       "    </tr>\n",
       "    <tr>\n",
       "      <th>rear bumper is dented</th>\n",
       "      <td>1078</td>\n",
       "    </tr>\n",
       "    <tr>\n",
       "      <th>will not start</th>\n",
       "      <td>1058</td>\n",
       "    </tr>\n",
       "    <tr>\n",
       "      <th>catalytic converter stolen</th>\n",
       "      <td>999</td>\n",
       "    </tr>\n",
       "    <tr>\n",
       "      <th>cracked windshield</th>\n",
       "      <td>949</td>\n",
       "    </tr>\n",
       "    <tr>\n",
       "      <th>rear end</th>\n",
       "      <td>935</td>\n",
       "    </tr>\n",
       "    <tr>\n",
       "      <th>windshield cracked</th>\n",
       "      <td>921</td>\n",
       "    </tr>\n",
       "    <tr>\n",
       "      <th>stolen catalytic converter</th>\n",
       "      <td>904</td>\n",
       "    </tr>\n",
       "    <tr>\n",
       "      <th>rear bumper dented</th>\n",
       "      <td>870</td>\n",
       "    </tr>\n",
       "    <tr>\n",
       "      <th>vehicle will not start</th>\n",
       "      <td>840</td>\n",
       "    </tr>\n",
       "    <tr>\n",
       "      <th>rear end damage</th>\n",
       "      <td>751</td>\n",
       "    </tr>\n",
       "    <tr>\n",
       "      <th>front bumper is dented</th>\n",
       "      <td>716</td>\n",
       "    </tr>\n",
       "    <tr>\n",
       "      <th>flat tire</th>\n",
       "      <td>658</td>\n",
       "    </tr>\n",
       "    <tr>\n",
       "      <th>cat converter stolen</th>\n",
       "      <td>630</td>\n",
       "    </tr>\n",
       "    <tr>\n",
       "      <th>front bumper dented</th>\n",
       "      <td>599</td>\n",
       "    </tr>\n",
       "    <tr>\n",
       "      <th>tractor-none\\r\\ntrailer-none</th>\n",
       "      <td>595</td>\n",
       "    </tr>\n",
       "    <tr>\n",
       "      <th>no damages</th>\n",
       "      <td>594</td>\n",
       "    </tr>\n",
       "    <tr>\n",
       "      <th>hail damage</th>\n",
       "      <td>588</td>\n",
       "    </tr>\n",
       "    <tr>\n",
       "      <th>wont start</th>\n",
       "      <td>570</td>\n",
       "    </tr>\n",
       "    <tr>\n",
       "      <th>lock out</th>\n",
       "      <td>554</td>\n",
       "    </tr>\n",
       "    <tr>\n",
       "      <th>rear bumper is dented.</th>\n",
       "      <td>541</td>\n",
       "    </tr>\n",
       "    <tr>\n",
       "      <th>tractor: none\\r\\ntrailer: none</th>\n",
       "      <td>533</td>\n",
       "    </tr>\n",
       "    <tr>\n",
       "      <th>dead battery</th>\n",
       "      <td>528</td>\n",
       "    </tr>\n",
       "    <tr>\n",
       "      <th>stolen</th>\n",
       "      <td>527</td>\n",
       "    </tr>\n",
       "    <tr>\n",
       "      <th>winch out</th>\n",
       "      <td>499</td>\n",
       "    </tr>\n",
       "    <tr>\n",
       "      <th>rear bumper damage</th>\n",
       "      <td>480</td>\n",
       "    </tr>\n",
       "    <tr>\n",
       "      <th>rear bumper is scratched</th>\n",
       "      <td>465</td>\n",
       "    </tr>\n",
       "    <tr>\n",
       "      <th>unk</th>\n",
       "      <td>428</td>\n",
       "    </tr>\n",
       "    <tr>\n",
       "      <th>total</th>\n",
       "      <td>403</td>\n",
       "    </tr>\n",
       "    <tr>\n",
       "      <th>no visible damage</th>\n",
       "      <td>402</td>\n",
       "    </tr>\n",
       "    <tr>\n",
       "      <th>jump start</th>\n",
       "      <td>378</td>\n",
       "    </tr>\n",
       "    <tr>\n",
       "      <th>front bumper damage</th>\n",
       "      <td>366</td>\n",
       "    </tr>\n",
       "    <tr>\n",
       "      <th>rebrand</th>\n",
       "      <td>366</td>\n",
       "    </tr>\n",
       "    <tr>\n",
       "      <th>property damage only</th>\n",
       "      <td>358</td>\n",
       "    </tr>\n",
       "    <tr>\n",
       "      <th>front windshield</th>\n",
       "      <td>342</td>\n",
       "    </tr>\n",
       "    <tr>\n",
       "      <th>front</th>\n",
       "      <td>336</td>\n",
       "    </tr>\n",
       "    <tr>\n",
       "      <th>front end damages</th>\n",
       "      <td>326</td>\n",
       "    </tr>\n",
       "    <tr>\n",
       "      <th>front bumper is dented.</th>\n",
       "      <td>320</td>\n",
       "    </tr>\n",
       "    <tr>\n",
       "      <th>rear end damages</th>\n",
       "      <td>320</td>\n",
       "    </tr>\n",
       "    <tr>\n",
       "      <th>rear bumper scratched</th>\n",
       "      <td>316</td>\n",
       "    </tr>\n",
       "    <tr>\n",
       "      <th>veh will not start</th>\n",
       "      <td>310</td>\n",
       "    </tr>\n",
       "    <tr>\n",
       "      <th>no start</th>\n",
       "      <td>304</td>\n",
       "    </tr>\n",
       "  </tbody>\n",
       "</table>\n",
       "</div>"
      ],
      "text/plain": [
       "                                IsBodyShopRepair\n",
       "Damage                                          \n",
       "windshield                                 12680\n",
       "no damage                                   8296\n",
       "rear bumper                                 3376\n",
       "front bumper                                2390\n",
       "unknown                                     2039\n",
       "front end                                   1942\n",
       "total loss                                  1873\n",
       "no damage.                                  1412\n",
       "front end damage                            1104\n",
       "rear bumper is dented                       1078\n",
       "will not start                              1058\n",
       "catalytic converter stolen                   999\n",
       "cracked windshield                           949\n",
       "rear end                                     935\n",
       "windshield cracked                           921\n",
       "stolen catalytic converter                   904\n",
       "rear bumper dented                           870\n",
       "vehicle will not start                       840\n",
       "rear end damage                              751\n",
       "front bumper is dented                       716\n",
       "flat tire                                    658\n",
       "cat converter stolen                         630\n",
       "front bumper dented                          599\n",
       "tractor-none\\r\\ntrailer-none                 595\n",
       "no damages                                   594\n",
       "hail damage                                  588\n",
       "wont start                                   570\n",
       "lock out                                     554\n",
       "rear bumper is dented.                       541\n",
       "tractor: none\\r\\ntrailer: none               533\n",
       "dead battery                                 528\n",
       "stolen                                       527\n",
       "winch out                                    499\n",
       "rear bumper damage                           480\n",
       "rear bumper is scratched                     465\n",
       "unk                                          428\n",
       "total                                        403\n",
       "no visible damage                            402\n",
       "jump start                                   378\n",
       "front bumper damage                          366\n",
       "rebrand                                      366\n",
       "property damage only                         358\n",
       "front windshield                             342\n",
       "front                                        336\n",
       "front end damages                            326\n",
       "front bumper is dented.                      320\n",
       "rear end damages                             320\n",
       "rear bumper scratched                        316\n",
       "veh will not start                           310\n",
       "no start                                     304"
      ]
     },
     "execution_count": 39,
     "metadata": {},
     "output_type": "execute_result"
    }
   ],
   "source": [
    "df.groupby('Damage').count().sort_values('IsBodyShopRepair',ascending=False).head(50)"
   ]
  },
  {
   "cell_type": "code",
   "execution_count": 40,
   "id": "99b31b68",
   "metadata": {},
   "outputs": [],
   "source": [
    "df.drop_duplicates(inplace=True)"
   ]
  },
  {
   "cell_type": "code",
   "execution_count": 41,
   "id": "62e0d10c",
   "metadata": {},
   "outputs": [
    {
     "data": {
      "text/plain": [
       "(582537, 2)"
      ]
     },
     "execution_count": 41,
     "metadata": {},
     "output_type": "execute_result"
    }
   ],
   "source": [
    "df.shape"
   ]
  },
  {
   "cell_type": "code",
   "execution_count": 42,
   "id": "c5aad1ec",
   "metadata": {},
   "outputs": [],
   "source": [
    "def custom_agg(x):\n",
    "    return pd.Series({\n",
    "    'values': x.IsBodyShopRepair.unique(),\n",
    "    'count': x.IsBodyShopRepair.nunique()\n",
    "    })"
   ]
  },
  {
   "cell_type": "code",
   "execution_count": 43,
   "id": "0b497d5f",
   "metadata": {},
   "outputs": [
    {
     "data": {
      "application/vnd.jupyter.widget-view+json": {
       "model_id": "a82f3e28db0548ddb817ad21a12bffb9",
       "version_major": 2,
       "version_minor": 0
      },
      "text/plain": [
       "  0%|          | 0/570146 [00:00<?, ?it/s]"
      ]
     },
     "metadata": {},
     "output_type": "display_data"
    }
   ],
   "source": [
    "y = df.groupby('Damage').progress_apply(custom_agg)"
   ]
  },
  {
   "cell_type": "code",
   "execution_count": 45,
   "id": "2fd32e8b",
   "metadata": {},
   "outputs": [
    {
     "data": {
      "text/html": [
       "<div>\n",
       "<style scoped>\n",
       "    .dataframe tbody tr th:only-of-type {\n",
       "        vertical-align: middle;\n",
       "    }\n",
       "\n",
       "    .dataframe tbody tr th {\n",
       "        vertical-align: top;\n",
       "    }\n",
       "\n",
       "    .dataframe thead th {\n",
       "        text-align: right;\n",
       "    }\n",
       "</style>\n",
       "<table border=\"1\" class=\"dataframe\">\n",
       "  <thead>\n",
       "    <tr style=\"text-align: right;\">\n",
       "      <th></th>\n",
       "      <th>values</th>\n",
       "      <th>count</th>\n",
       "    </tr>\n",
       "    <tr>\n",
       "      <th>Damage</th>\n",
       "      <th></th>\n",
       "      <th></th>\n",
       "    </tr>\n",
       "  </thead>\n",
       "  <tbody>\n",
       "    <tr>\n",
       "      <th>\u0002\\r\\nstuck in the mud. not within 10 ft of a paved surface. still drivable</th>\n",
       "      <td>[N]</td>\n",
       "      <td>1</td>\n",
       "    </tr>\n",
       "    <tr>\n",
       "      <th>\u0002\\r\\nundercarriage is all tore up from the tire that was in the street , and front bumper is cracked and is missing some pieces other details are unknown.</th>\n",
       "      <td>[Y]</td>\n",
       "      <td>1</td>\n",
       "    </tr>\n",
       "    <tr>\n",
       "      <th>\u0002: two front tires went flat. when it was taken to pep boys they adv of suspension/undercarriage damage</th>\n",
       "      <td>[N]</td>\n",
       "      <td>1</td>\n",
       "    </tr>\n",
       "    <tr>\n",
       "      <th>\u0002a scratch on the rear bumper passage side. yes, on dec 28 on the passage side the wheel side panel.</th>\n",
       "      <td>[Y]</td>\n",
       "      <td>1</td>\n",
       "    </tr>\n",
       "    <tr>\n",
       "      <th>\u0002abs light turned on and breaks started to fail.</th>\n",
       "      <td>[N]</td>\n",
       "      <td>1</td>\n",
       "    </tr>\n",
       "    <tr>\n",
       "      <th>...</th>\n",
       "      <td>...</td>\n",
       "      <td>...</td>\n",
       "    </tr>\n",
       "    <tr>\n",
       "      <th>~~14 - 18 inch crack in drivers side front fender\\r\\n~~small cover that fits over bottom of the mirror broken off (mirror in tact)\\r\\n~~bracket in the back of the trailer broke</th>\n",
       "      <td>[N]</td>\n",
       "      <td>1</td>\n",
       "    </tr>\n",
       "    <tr>\n",
       "      <th>~~all windows are broken out (only windows in tact are the windshield and the two passenger side door windows)\\r\\nneeds to have the following replaced: \\r\\ndrivers side front window\\r\\npassenger side front window\\r\\nrear bay door windows (2)</th>\n",
       "      <td>[N]</td>\n",
       "      <td>1</td>\n",
       "    </tr>\n",
       "    <tr>\n",
       "      <th>~~vehicle damage: passenger side mirror (broken off) \\r\\n~~trailer damage: (was flipped over) frame broke, rims broke (totaled per manager)</th>\n",
       "      <td>[N]</td>\n",
       "      <td>1</td>\n",
       "    </tr>\n",
       "    <tr>\n",
       "      <th>~~~totaled~~~ entire front end pushed in frame is twisted</th>\n",
       "      <td>[N]</td>\n",
       "      <td>1</td>\n",
       "    </tr>\n",
       "    <tr>\n",
       "      <th>~~~~drivable to shop only\\r\\npassenger headlight is broken and not working. passnger fender is dented. passenger side of hood is dented. passenger door is pushed in and does not open.</th>\n",
       "      <td>[N]</td>\n",
       "      <td>1</td>\n",
       "    </tr>\n",
       "  </tbody>\n",
       "</table>\n",
       "<p>570146 rows × 2 columns</p>\n",
       "</div>"
      ],
      "text/plain": [
       "                                                   values  count\n",
       "Damage                                                          \n",
       "\u0002\\r\\nstuck in the mud. not within 10 ft of a pa...    [N]      1\n",
       "\u0002\\r\\nundercarriage is all tore up from the tire...    [Y]      1\n",
       "\u0002: two front tires went flat. when it was taken...    [N]      1\n",
       "\u0002a scratch on the rear bumper passage side. yes...    [Y]      1\n",
       "\u0002abs light turned on and breaks started to fail.      [N]      1\n",
       "...                                                   ...    ...\n",
       "~~14 - 18 inch crack in drivers side front fend...    [N]      1\n",
       "~~all windows are broken out (only windows in t...    [N]      1\n",
       "~~vehicle damage: passenger side mirror (broken...    [N]      1\n",
       "~~~totaled~~~ entire front end pushed in frame ...    [N]      1\n",
       "~~~~drivable to shop only\\r\\npassenger headligh...    [N]      1\n",
       "\n",
       "[570146 rows x 2 columns]"
      ]
     },
     "execution_count": 45,
     "metadata": {},
     "output_type": "execute_result"
    }
   ],
   "source": [
    "y"
   ]
  },
  {
   "cell_type": "code",
   "execution_count": 46,
   "id": "82767048",
   "metadata": {},
   "outputs": [],
   "source": [
    "y = y.reset_index().sort_values('count',ascending=False)"
   ]
  },
  {
   "cell_type": "code",
   "execution_count": 48,
   "id": "bf1a197e",
   "metadata": {},
   "outputs": [
    {
     "data": {
      "text/html": [
       "<div>\n",
       "<style scoped>\n",
       "    .dataframe tbody tr th:only-of-type {\n",
       "        vertical-align: middle;\n",
       "    }\n",
       "\n",
       "    .dataframe tbody tr th {\n",
       "        vertical-align: top;\n",
       "    }\n",
       "\n",
       "    .dataframe thead th {\n",
       "        text-align: right;\n",
       "    }\n",
       "</style>\n",
       "<table border=\"1\" class=\"dataframe\">\n",
       "  <thead>\n",
       "    <tr style=\"text-align: right;\">\n",
       "      <th></th>\n",
       "      <th>Damage</th>\n",
       "      <th>values</th>\n",
       "      <th>count</th>\n",
       "    </tr>\n",
       "  </thead>\n",
       "  <tbody>\n",
       "    <tr>\n",
       "      <th>390552</th>\n",
       "      <td>rear bumper and passenger bedside damaged.</td>\n",
       "      <td>[N, Y]</td>\n",
       "      <td>2</td>\n",
       "    </tr>\n",
       "    <tr>\n",
       "      <th>275283</th>\n",
       "      <td>lost vehicle key fob</td>\n",
       "      <td>[Y, N]</td>\n",
       "      <td>2</td>\n",
       "    </tr>\n",
       "    <tr>\n",
       "      <th>204448</th>\n",
       "      <td>front driver side smashed in.</td>\n",
       "      <td>[Y, N]</td>\n",
       "      <td>2</td>\n",
       "    </tr>\n",
       "    <tr>\n",
       "      <th>158779</th>\n",
       "      <td>drivers side mirror is hanging</td>\n",
       "      <td>[N, Y]</td>\n",
       "      <td>2</td>\n",
       "    </tr>\n",
       "    <tr>\n",
       "      <th>158781</th>\n",
       "      <td>drivers side mirror is hanging by wires</td>\n",
       "      <td>[Y, N]</td>\n",
       "      <td>2</td>\n",
       "    </tr>\n",
       "    <tr>\n",
       "      <th>538075</th>\n",
       "      <td>veh will not start</td>\n",
       "      <td>[N, Y]</td>\n",
       "      <td>2</td>\n",
       "    </tr>\n",
       "    <tr>\n",
       "      <th>101384</th>\n",
       "      <td>driver rear door is dented and scratched</td>\n",
       "      <td>[Y, N]</td>\n",
       "      <td>2</td>\n",
       "    </tr>\n",
       "    <tr>\n",
       "      <th>438603</th>\n",
       "      <td>right front wheel fell off</td>\n",
       "      <td>[Y, N]</td>\n",
       "      <td>2</td>\n",
       "    </tr>\n",
       "    <tr>\n",
       "      <th>158788</th>\n",
       "      <td>drivers side mirror is hanging.</td>\n",
       "      <td>[N, Y]</td>\n",
       "      <td>2</td>\n",
       "    </tr>\n",
       "    <tr>\n",
       "      <th>275292</th>\n",
       "      <td>lost wheel lock key</td>\n",
       "      <td>[N, Y]</td>\n",
       "      <td>2</td>\n",
       "    </tr>\n",
       "    <tr>\n",
       "      <th>455991</th>\n",
       "      <td>scratch down the passenger side</td>\n",
       "      <td>[Y, N]</td>\n",
       "      <td>2</td>\n",
       "    </tr>\n",
       "    <tr>\n",
       "      <th>101379</th>\n",
       "      <td>driver rear door is dented</td>\n",
       "      <td>[Y, N]</td>\n",
       "      <td>2</td>\n",
       "    </tr>\n",
       "    <tr>\n",
       "      <th>224975</th>\n",
       "      <td>front passenger side - unknown extent of damage</td>\n",
       "      <td>[N, Y]</td>\n",
       "      <td>2</td>\n",
       "    </tr>\n",
       "    <tr>\n",
       "      <th>397940</th>\n",
       "      <td>rear bumper is cracked, trunk door is dented</td>\n",
       "      <td>[N, Y]</td>\n",
       "      <td>2</td>\n",
       "    </tr>\n",
       "    <tr>\n",
       "      <th>86235</th>\n",
       "      <td>dent to the roof</td>\n",
       "      <td>[N, Y]</td>\n",
       "      <td>2</td>\n",
       "    </tr>\n",
       "    <tr>\n",
       "      <th>86238</th>\n",
       "      <td>dent to the roof of the vehicle.</td>\n",
       "      <td>[Y, N]</td>\n",
       "      <td>2</td>\n",
       "    </tr>\n",
       "    <tr>\n",
       "      <th>85979</th>\n",
       "      <td>dent to the front drivers side of the bumper.</td>\n",
       "      <td>[Y, N]</td>\n",
       "      <td>2</td>\n",
       "    </tr>\n",
       "    <tr>\n",
       "      <th>134196</th>\n",
       "      <td>driver side rear fender</td>\n",
       "      <td>[N, Y]</td>\n",
       "      <td>2</td>\n",
       "    </tr>\n",
       "    <tr>\n",
       "      <th>485388</th>\n",
       "      <td>suspension</td>\n",
       "      <td>[N, Y]</td>\n",
       "      <td>2</td>\n",
       "    </tr>\n",
       "    <tr>\n",
       "      <th>189797</th>\n",
       "      <td>front bumper is pushed in, air bags deployed</td>\n",
       "      <td>[Y, N]</td>\n",
       "      <td>2</td>\n",
       "    </tr>\n",
       "  </tbody>\n",
       "</table>\n",
       "</div>"
      ],
      "text/plain": [
       "                                                 Damage  values  count\n",
       "390552       rear bumper and passenger bedside damaged.  [N, Y]      2\n",
       "275283                             lost vehicle key fob  [Y, N]      2\n",
       "204448                    front driver side smashed in.  [Y, N]      2\n",
       "158779                   drivers side mirror is hanging  [N, Y]      2\n",
       "158781          drivers side mirror is hanging by wires  [Y, N]      2\n",
       "538075                               veh will not start  [N, Y]      2\n",
       "101384         driver rear door is dented and scratched  [Y, N]      2\n",
       "438603                       right front wheel fell off  [Y, N]      2\n",
       "158788                  drivers side mirror is hanging.  [N, Y]      2\n",
       "275292                              lost wheel lock key  [N, Y]      2\n",
       "455991                  scratch down the passenger side  [Y, N]      2\n",
       "101379                       driver rear door is dented  [Y, N]      2\n",
       "224975  front passenger side - unknown extent of damage  [N, Y]      2\n",
       "397940     rear bumper is cracked, trunk door is dented  [N, Y]      2\n",
       "86235                                  dent to the roof  [N, Y]      2\n",
       "86238                  dent to the roof of the vehicle.  [Y, N]      2\n",
       "85979     dent to the front drivers side of the bumper.  [Y, N]      2\n",
       "134196                          driver side rear fender  [N, Y]      2\n",
       "485388                                       suspension  [N, Y]      2\n",
       "189797     front bumper is pushed in, air bags deployed  [Y, N]      2"
      ]
     },
     "execution_count": 48,
     "metadata": {},
     "output_type": "execute_result"
    }
   ],
   "source": [
    "y.head(20)"
   ]
  },
  {
   "cell_type": "code",
   "execution_count": null,
   "id": "fa8746ec",
   "metadata": {},
   "outputs": [],
   "source": []
  },
  {
   "cell_type": "code",
   "execution_count": 49,
   "id": "ea7b4f16",
   "metadata": {},
   "outputs": [],
   "source": [
    "y = y[y['count']!=2]"
   ]
  },
  {
   "cell_type": "code",
   "execution_count": 50,
   "id": "a002e070",
   "metadata": {},
   "outputs": [
    {
     "name": "stderr",
     "output_type": "stream",
     "text": [
      "C:\\Users\\avitr\\AppData\\Local\\Temp\\ipykernel_3484\\1173219004.py:1: SettingWithCopyWarning: \n",
      "A value is trying to be set on a copy of a slice from a DataFrame.\n",
      "Try using .loc[row_indexer,col_indexer] = value instead\n",
      "\n",
      "See the caveats in the documentation: https://pandas.pydata.org/pandas-docs/stable/user_guide/indexing.html#returning-a-view-versus-a-copy\n",
      "  y['$_symbol'] = y['Damage'].apply(lambda x: True if '$' in x else False)\n"
     ]
    }
   ],
   "source": [
    "y['$_symbol'] = y['Damage'].apply(lambda x: True if '$' in x else False)"
   ]
  },
  {
   "cell_type": "code",
   "execution_count": 51,
   "id": "3f605e4c",
   "metadata": {},
   "outputs": [
    {
     "data": {
      "text/plain": [
       "381197    41\n",
       "390264    10\n",
       "379245     5\n",
       "379299    23\n",
       "390118     5\n",
       "          ..\n",
       "191263    43\n",
       "189761    10\n",
       "191627    11\n",
       "191810    15\n",
       "192378    17\n",
       "Name: Damage, Length: 6207, dtype: int64"
      ]
     },
     "execution_count": 51,
     "metadata": {},
     "output_type": "execute_result"
    }
   ],
   "source": [
    "y[y['$_symbol']]['Damage'].apply(lambda x:len(x.split()))"
   ]
  },
  {
   "cell_type": "code",
   "execution_count": 52,
   "id": "197b2c54",
   "metadata": {},
   "outputs": [],
   "source": [
    "y.reset_index(drop=True,inplace=True)"
   ]
  },
  {
   "cell_type": "code",
   "execution_count": 53,
   "id": "d96077e2",
   "metadata": {},
   "outputs": [],
   "source": [
    "def f(x):\n",
    "    if x['$_symbol']==True:\n",
    "        if len(x['Damage'].split())==1:\n",
    "            return True\n",
    "        else:\n",
    "            return False\n",
    "    else:\n",
    "        return False"
   ]
  },
  {
   "cell_type": "code",
   "execution_count": 54,
   "id": "ff94c526",
   "metadata": {},
   "outputs": [
    {
     "data": {
      "application/vnd.jupyter.widget-view+json": {
       "model_id": "71aab4474378434d9df5dcce511bad08",
       "version_major": 2,
       "version_minor": 0
      },
      "text/plain": [
       "  0%|          | 0/557755 [00:00<?, ?it/s]"
      ]
     },
     "metadata": {},
     "output_type": "display_data"
    },
    {
     "name": "stderr",
     "output_type": "stream",
     "text": [
      "C:\\Users\\avitr\\AppData\\Local\\Temp\\ipykernel_3484\\4201361428.py:1: SettingWithCopyWarning: \n",
      "A value is trying to be set on a copy of a slice from a DataFrame.\n",
      "Try using .loc[row_indexer,col_indexer] = value instead\n",
      "\n",
      "See the caveats in the documentation: https://pandas.pydata.org/pandas-docs/stable/user_guide/indexing.html#returning-a-view-versus-a-copy\n",
      "  y['only$'] = y.progress_apply(lambda x:f(x),axis=1)\n"
     ]
    }
   ],
   "source": [
    "y['only$'] = y.progress_apply(lambda x:f(x),axis=1)"
   ]
  },
  {
   "cell_type": "code",
   "execution_count": 60,
   "id": "2d8ab287",
   "metadata": {},
   "outputs": [
    {
     "data": {
      "text/html": [
       "<div>\n",
       "<style scoped>\n",
       "    .dataframe tbody tr th:only-of-type {\n",
       "        vertical-align: middle;\n",
       "    }\n",
       "\n",
       "    .dataframe tbody tr th {\n",
       "        vertical-align: top;\n",
       "    }\n",
       "\n",
       "    .dataframe thead th {\n",
       "        text-align: right;\n",
       "    }\n",
       "</style>\n",
       "<table border=\"1\" class=\"dataframe\">\n",
       "  <thead>\n",
       "    <tr style=\"text-align: right;\">\n",
       "      <th></th>\n",
       "      <th>Damage</th>\n",
       "      <th>values</th>\n",
       "      <th>count</th>\n",
       "      <th>$_symbol</th>\n",
       "      <th>only$</th>\n",
       "    </tr>\n",
       "  </thead>\n",
       "  <tbody>\n",
       "    <tr>\n",
       "      <th>94568</th>\n",
       "      <td>no-$0</td>\n",
       "      <td>[N]</td>\n",
       "      <td>1</td>\n",
       "      <td>True</td>\n",
       "      <td>True</td>\n",
       "    </tr>\n",
       "    <tr>\n",
       "      <th>364197</th>\n",
       "      <td>1,923.04$</td>\n",
       "      <td>[N]</td>\n",
       "      <td>1</td>\n",
       "      <td>True</td>\n",
       "      <td>True</td>\n",
       "    </tr>\n",
       "    <tr>\n",
       "      <th>365870</th>\n",
       "      <td>0-$2,499</td>\n",
       "      <td>[N]</td>\n",
       "      <td>1</td>\n",
       "      <td>True</td>\n",
       "      <td>True</td>\n",
       "    </tr>\n",
       "    <tr>\n",
       "      <th>365871</th>\n",
       "      <td>0$</td>\n",
       "      <td>[N]</td>\n",
       "      <td>1</td>\n",
       "      <td>True</td>\n",
       "      <td>True</td>\n",
       "    </tr>\n",
       "    <tr>\n",
       "      <th>368363</th>\n",
       "      <td>$2,223.00</td>\n",
       "      <td>[N]</td>\n",
       "      <td>1</td>\n",
       "      <td>True</td>\n",
       "      <td>True</td>\n",
       "    </tr>\n",
       "    <tr>\n",
       "      <th>368364</th>\n",
       "      <td>$2,217.36</td>\n",
       "      <td>[N]</td>\n",
       "      <td>1</td>\n",
       "      <td>True</td>\n",
       "      <td>True</td>\n",
       "    </tr>\n",
       "    <tr>\n",
       "      <th>368365</th>\n",
       "      <td>$2,218.83</td>\n",
       "      <td>[N]</td>\n",
       "      <td>1</td>\n",
       "      <td>True</td>\n",
       "      <td>True</td>\n",
       "    </tr>\n",
       "    <tr>\n",
       "      <th>368366</th>\n",
       "      <td>$2,219.10</td>\n",
       "      <td>[N]</td>\n",
       "      <td>1</td>\n",
       "      <td>True</td>\n",
       "      <td>True</td>\n",
       "    </tr>\n",
       "    <tr>\n",
       "      <th>368368</th>\n",
       "      <td>$2,219.95</td>\n",
       "      <td>[N]</td>\n",
       "      <td>1</td>\n",
       "      <td>True</td>\n",
       "      <td>True</td>\n",
       "    </tr>\n",
       "    <tr>\n",
       "      <th>368369</th>\n",
       "      <td>$2,221.97</td>\n",
       "      <td>[N]</td>\n",
       "      <td>1</td>\n",
       "      <td>True</td>\n",
       "      <td>True</td>\n",
       "    </tr>\n",
       "    <tr>\n",
       "      <th>368370</th>\n",
       "      <td>$2,230.26</td>\n",
       "      <td>[N]</td>\n",
       "      <td>1</td>\n",
       "      <td>True</td>\n",
       "      <td>True</td>\n",
       "    </tr>\n",
       "    <tr>\n",
       "      <th>368371</th>\n",
       "      <td>$2,186.26</td>\n",
       "      <td>[N]</td>\n",
       "      <td>1</td>\n",
       "      <td>True</td>\n",
       "      <td>True</td>\n",
       "    </tr>\n",
       "    <tr>\n",
       "      <th>368372</th>\n",
       "      <td>$2,231.90</td>\n",
       "      <td>[N]</td>\n",
       "      <td>1</td>\n",
       "      <td>True</td>\n",
       "      <td>True</td>\n",
       "    </tr>\n",
       "    <tr>\n",
       "      <th>368373</th>\n",
       "      <td>$2,237.86</td>\n",
       "      <td>[N]</td>\n",
       "      <td>1</td>\n",
       "      <td>True</td>\n",
       "      <td>True</td>\n",
       "    </tr>\n",
       "    <tr>\n",
       "      <th>368374</th>\n",
       "      <td>$2,242.56</td>\n",
       "      <td>[N]</td>\n",
       "      <td>1</td>\n",
       "      <td>True</td>\n",
       "      <td>True</td>\n",
       "    </tr>\n",
       "    <tr>\n",
       "      <th>368375</th>\n",
       "      <td>$2,243.96</td>\n",
       "      <td>[N]</td>\n",
       "      <td>1</td>\n",
       "      <td>True</td>\n",
       "      <td>True</td>\n",
       "    </tr>\n",
       "    <tr>\n",
       "      <th>368376</th>\n",
       "      <td>$2,248.25</td>\n",
       "      <td>[N]</td>\n",
       "      <td>1</td>\n",
       "      <td>True</td>\n",
       "      <td>True</td>\n",
       "    </tr>\n",
       "    <tr>\n",
       "      <th>368377</th>\n",
       "      <td>$2,252.02</td>\n",
       "      <td>[N]</td>\n",
       "      <td>1</td>\n",
       "      <td>True</td>\n",
       "      <td>True</td>\n",
       "    </tr>\n",
       "    <tr>\n",
       "      <th>368378</th>\n",
       "      <td>$2,217.20</td>\n",
       "      <td>[N]</td>\n",
       "      <td>1</td>\n",
       "      <td>True</td>\n",
       "      <td>True</td>\n",
       "    </tr>\n",
       "    <tr>\n",
       "      <th>368379</th>\n",
       "      <td>$2,216.52</td>\n",
       "      <td>[N]</td>\n",
       "      <td>1</td>\n",
       "      <td>True</td>\n",
       "      <td>True</td>\n",
       "    </tr>\n",
       "  </tbody>\n",
       "</table>\n",
       "</div>"
      ],
      "text/plain": [
       "           Damage values  count  $_symbol  only$\n",
       "94568       no-$0    [N]      1      True   True\n",
       "364197  1,923.04$    [N]      1      True   True\n",
       "365870   0-$2,499    [N]      1      True   True\n",
       "365871         0$    [N]      1      True   True\n",
       "368363  $2,223.00    [N]      1      True   True\n",
       "368364  $2,217.36    [N]      1      True   True\n",
       "368365  $2,218.83    [N]      1      True   True\n",
       "368366  $2,219.10    [N]      1      True   True\n",
       "368368  $2,219.95    [N]      1      True   True\n",
       "368369  $2,221.97    [N]      1      True   True\n",
       "368370  $2,230.26    [N]      1      True   True\n",
       "368371  $2,186.26    [N]      1      True   True\n",
       "368372  $2,231.90    [N]      1      True   True\n",
       "368373  $2,237.86    [N]      1      True   True\n",
       "368374  $2,242.56    [N]      1      True   True\n",
       "368375  $2,243.96    [N]      1      True   True\n",
       "368376  $2,248.25    [N]      1      True   True\n",
       "368377  $2,252.02    [N]      1      True   True\n",
       "368378  $2,217.20    [N]      1      True   True\n",
       "368379  $2,216.52    [N]      1      True   True"
      ]
     },
     "execution_count": 60,
     "metadata": {},
     "output_type": "execute_result"
    }
   ],
   "source": [
    "y[y['only$']].head(20)"
   ]
  },
  {
   "cell_type": "code",
   "execution_count": null,
   "id": "76abb154",
   "metadata": {},
   "outputs": [],
   "source": []
  },
  {
   "cell_type": "code",
   "execution_count": 24,
   "id": "c523e23c",
   "metadata": {},
   "outputs": [],
   "source": [
    "y = y[~y['only$']]"
   ]
  },
  {
   "cell_type": "code",
   "execution_count": 25,
   "id": "bad052d8",
   "metadata": {},
   "outputs": [
    {
     "data": {
      "text/html": [
       "<div>\n",
       "<style scoped>\n",
       "    .dataframe tbody tr th:only-of-type {\n",
       "        vertical-align: middle;\n",
       "    }\n",
       "\n",
       "    .dataframe tbody tr th {\n",
       "        vertical-align: top;\n",
       "    }\n",
       "\n",
       "    .dataframe thead th {\n",
       "        text-align: right;\n",
       "    }\n",
       "</style>\n",
       "<table border=\"1\" class=\"dataframe\">\n",
       "  <thead>\n",
       "    <tr style=\"text-align: right;\">\n",
       "      <th></th>\n",
       "      <th>Damage</th>\n",
       "      <th>values</th>\n",
       "      <th>count</th>\n",
       "      <th>$_symbol</th>\n",
       "      <th>only$</th>\n",
       "    </tr>\n",
       "  </thead>\n",
       "  <tbody>\n",
       "    <tr>\n",
       "      <th>0</th>\n",
       "      <td>plastic grill in front was damaged.</td>\n",
       "      <td>[N]</td>\n",
       "      <td>1</td>\n",
       "      <td>False</td>\n",
       "      <td>False</td>\n",
       "    </tr>\n",
       "    <tr>\n",
       "      <th>1</th>\n",
       "      <td>plastic front grill scuffed and metal front bu...</td>\n",
       "      <td>[N]</td>\n",
       "      <td>1</td>\n",
       "      <td>False</td>\n",
       "      <td>False</td>\n",
       "    </tr>\n",
       "    <tr>\n",
       "      <th>2</th>\n",
       "      <td>radiator is damaged. cooler in front of the ra...</td>\n",
       "      <td>[Y]</td>\n",
       "      <td>1</td>\n",
       "      <td>False</td>\n",
       "      <td>False</td>\n",
       "    </tr>\n",
       "    <tr>\n",
       "      <th>3</th>\n",
       "      <td>radiator is damage due to past damage that was...</td>\n",
       "      <td>[N]</td>\n",
       "      <td>1</td>\n",
       "      <td>False</td>\n",
       "      <td>False</td>\n",
       "    </tr>\n",
       "    <tr>\n",
       "      <th>4</th>\n",
       "      <td>plastic grill area (unknown extent of damage)</td>\n",
       "      <td>[Y]</td>\n",
       "      <td>1</td>\n",
       "      <td>False</td>\n",
       "      <td>False</td>\n",
       "    </tr>\n",
       "    <tr>\n",
       "      <th>...</th>\n",
       "      <td>...</td>\n",
       "      <td>...</td>\n",
       "      <td>...</td>\n",
       "      <td>...</td>\n",
       "      <td>...</td>\n",
       "    </tr>\n",
       "    <tr>\n",
       "      <th>557750</th>\n",
       "      <td>front bumper on passenger side is cracked and ...</td>\n",
       "      <td>[Y]</td>\n",
       "      <td>1</td>\n",
       "      <td>False</td>\n",
       "      <td>False</td>\n",
       "    </tr>\n",
       "    <tr>\n",
       "      <th>557751</th>\n",
       "      <td>front bumper on passenger side is cracked and ...</td>\n",
       "      <td>[N]</td>\n",
       "      <td>1</td>\n",
       "      <td>False</td>\n",
       "      <td>False</td>\n",
       "    </tr>\n",
       "    <tr>\n",
       "      <th>557752</th>\n",
       "      <td>front bumper on passenger side is cracked a li...</td>\n",
       "      <td>[Y]</td>\n",
       "      <td>1</td>\n",
       "      <td>False</td>\n",
       "      <td>False</td>\n",
       "    </tr>\n",
       "    <tr>\n",
       "      <th>557753</th>\n",
       "      <td>front bumper on passenger side is cracked , he...</td>\n",
       "      <td>[Y]</td>\n",
       "      <td>1</td>\n",
       "      <td>False</td>\n",
       "      <td>False</td>\n",
       "    </tr>\n",
       "    <tr>\n",
       "      <th>557754</th>\n",
       "      <td>~~~~drivable to shop only\\r\\npassenger headlig...</td>\n",
       "      <td>[N]</td>\n",
       "      <td>1</td>\n",
       "      <td>False</td>\n",
       "      <td>False</td>\n",
       "    </tr>\n",
       "  </tbody>\n",
       "</table>\n",
       "<p>554343 rows × 5 columns</p>\n",
       "</div>"
      ],
      "text/plain": [
       "                                                   Damage values  count  \\\n",
       "0                     plastic grill in front was damaged.    [N]      1   \n",
       "1       plastic front grill scuffed and metal front bu...    [N]      1   \n",
       "2       radiator is damaged. cooler in front of the ra...    [Y]      1   \n",
       "3       radiator is damage due to past damage that was...    [N]      1   \n",
       "4           plastic grill area (unknown extent of damage)    [Y]      1   \n",
       "...                                                   ...    ...    ...   \n",
       "557750  front bumper on passenger side is cracked and ...    [Y]      1   \n",
       "557751  front bumper on passenger side is cracked and ...    [N]      1   \n",
       "557752  front bumper on passenger side is cracked a li...    [Y]      1   \n",
       "557753  front bumper on passenger side is cracked , he...    [Y]      1   \n",
       "557754  ~~~~drivable to shop only\\r\\npassenger headlig...    [N]      1   \n",
       "\n",
       "        $_symbol  only$  \n",
       "0          False  False  \n",
       "1          False  False  \n",
       "2          False  False  \n",
       "3          False  False  \n",
       "4          False  False  \n",
       "...          ...    ...  \n",
       "557750     False  False  \n",
       "557751     False  False  \n",
       "557752     False  False  \n",
       "557753     False  False  \n",
       "557754     False  False  \n",
       "\n",
       "[554343 rows x 5 columns]"
      ]
     },
     "execution_count": 25,
     "metadata": {},
     "output_type": "execute_result"
    }
   ],
   "source": [
    "y"
   ]
  },
  {
   "cell_type": "code",
   "execution_count": 26,
   "id": "c02e79c7",
   "metadata": {},
   "outputs": [],
   "source": [
    "import re\n",
    "pattern = r'[0-9,$,.]'\n",
    "def clean(text):\n",
    "    return re.sub(pattern, '', text)"
   ]
  },
  {
   "cell_type": "code",
   "execution_count": 27,
   "id": "4461dd94",
   "metadata": {},
   "outputs": [
    {
     "data": {
      "application/vnd.jupyter.widget-view+json": {
       "model_id": "efd9e0a9a29e4cdb99f0ab57f8035d90",
       "version_major": 2,
       "version_minor": 0
      },
      "text/plain": [
       "  0%|          | 0/554343 [00:00<?, ?it/s]"
      ]
     },
     "metadata": {},
     "output_type": "display_data"
    }
   ],
   "source": [
    "y['Clean_Damage'] = y['Damage'].progress_apply(clean)"
   ]
  },
  {
   "cell_type": "code",
   "execution_count": 28,
   "id": "9f62e5f6",
   "metadata": {},
   "outputs": [
    {
     "data": {
      "application/vnd.jupyter.widget-view+json": {
       "model_id": "dff1e6ca80e0425f94baa525b2cb9ea7",
       "version_major": 2,
       "version_minor": 0
      },
      "text/plain": [
       "  0%|          | 0/554343 [00:00<?, ?it/s]"
      ]
     },
     "metadata": {},
     "output_type": "display_data"
    }
   ],
   "source": [
    "y['values'] = y['values'].progress_apply(lambda x:x[0])"
   ]
  },
  {
   "cell_type": "code",
   "execution_count": 29,
   "id": "c71cd155",
   "metadata": {},
   "outputs": [],
   "source": [
    "y = y[['Clean_Damage','values']]"
   ]
  },
  {
   "cell_type": "code",
   "execution_count": 30,
   "id": "44885adc",
   "metadata": {},
   "outputs": [],
   "source": [
    "y.reset_index(drop=True,inplace=True)"
   ]
  },
  {
   "cell_type": "code",
   "execution_count": 32,
   "id": "e1f81bc1",
   "metadata": {},
   "outputs": [],
   "source": [
    "y.to_csv('cleaned_data.csv',index=False)"
   ]
  },
  {
   "cell_type": "code",
   "execution_count": 33,
   "id": "9ae17ce5",
   "metadata": {},
   "outputs": [
    {
     "data": {
      "text/html": [
       "<div>\n",
       "<style scoped>\n",
       "    .dataframe tbody tr th:only-of-type {\n",
       "        vertical-align: middle;\n",
       "    }\n",
       "\n",
       "    .dataframe tbody tr th {\n",
       "        vertical-align: top;\n",
       "    }\n",
       "\n",
       "    .dataframe thead th {\n",
       "        text-align: right;\n",
       "    }\n",
       "</style>\n",
       "<table border=\"1\" class=\"dataframe\">\n",
       "  <thead>\n",
       "    <tr style=\"text-align: right;\">\n",
       "      <th></th>\n",
       "      <th>Clean_Damage</th>\n",
       "      <th>values</th>\n",
       "    </tr>\n",
       "  </thead>\n",
       "  <tbody>\n",
       "    <tr>\n",
       "      <th>0</th>\n",
       "      <td>plastic grill in front was damaged</td>\n",
       "      <td>N</td>\n",
       "    </tr>\n",
       "    <tr>\n",
       "      <th>1</th>\n",
       "      <td>plastic front grill scuffed and metal front bu...</td>\n",
       "      <td>N</td>\n",
       "    </tr>\n",
       "    <tr>\n",
       "      <th>2</th>\n",
       "      <td>radiator is damaged cooler in front of the rad...</td>\n",
       "      <td>Y</td>\n",
       "    </tr>\n",
       "    <tr>\n",
       "      <th>3</th>\n",
       "      <td>radiator is damage due to past damage that was...</td>\n",
       "      <td>N</td>\n",
       "    </tr>\n",
       "    <tr>\n",
       "      <th>4</th>\n",
       "      <td>plastic grill area (unknown extent of damage)</td>\n",
       "      <td>Y</td>\n",
       "    </tr>\n",
       "    <tr>\n",
       "      <th>...</th>\n",
       "      <td>...</td>\n",
       "      <td>...</td>\n",
       "    </tr>\n",
       "    <tr>\n",
       "      <th>554338</th>\n",
       "      <td>front bumper on passenger side is cracked and ...</td>\n",
       "      <td>Y</td>\n",
       "    </tr>\n",
       "    <tr>\n",
       "      <th>554339</th>\n",
       "      <td>front bumper on passenger side is cracked and ...</td>\n",
       "      <td>N</td>\n",
       "    </tr>\n",
       "    <tr>\n",
       "      <th>554340</th>\n",
       "      <td>front bumper on passenger side is cracked a li...</td>\n",
       "      <td>Y</td>\n",
       "    </tr>\n",
       "    <tr>\n",
       "      <th>554341</th>\n",
       "      <td>front bumper on passenger side is cracked  hea...</td>\n",
       "      <td>Y</td>\n",
       "    </tr>\n",
       "    <tr>\n",
       "      <th>554342</th>\n",
       "      <td>~~~~drivable to shop only\\r\\npassenger headlig...</td>\n",
       "      <td>N</td>\n",
       "    </tr>\n",
       "  </tbody>\n",
       "</table>\n",
       "<p>554343 rows × 2 columns</p>\n",
       "</div>"
      ],
      "text/plain": [
       "                                             Clean_Damage values\n",
       "0                      plastic grill in front was damaged      N\n",
       "1       plastic front grill scuffed and metal front bu...      N\n",
       "2       radiator is damaged cooler in front of the rad...      Y\n",
       "3       radiator is damage due to past damage that was...      N\n",
       "4           plastic grill area (unknown extent of damage)      Y\n",
       "...                                                   ...    ...\n",
       "554338  front bumper on passenger side is cracked and ...      Y\n",
       "554339  front bumper on passenger side is cracked and ...      N\n",
       "554340  front bumper on passenger side is cracked a li...      Y\n",
       "554341  front bumper on passenger side is cracked  hea...      Y\n",
       "554342  ~~~~drivable to shop only\\r\\npassenger headlig...      N\n",
       "\n",
       "[554343 rows x 2 columns]"
      ]
     },
     "execution_count": 33,
     "metadata": {},
     "output_type": "execute_result"
    }
   ],
   "source": [
    "y"
   ]
  }
 ],
 "metadata": {
  "kernelspec": {
   "display_name": "Python 3 (ipykernel)",
   "language": "python",
   "name": "python3"
  },
  "language_info": {
   "codemirror_mode": {
    "name": "ipython",
    "version": 3
   },
   "file_extension": ".py",
   "mimetype": "text/x-python",
   "name": "python",
   "nbconvert_exporter": "python",
   "pygments_lexer": "ipython3",
   "version": "3.9.15"
  }
 },
 "nbformat": 4,
 "nbformat_minor": 5
}
