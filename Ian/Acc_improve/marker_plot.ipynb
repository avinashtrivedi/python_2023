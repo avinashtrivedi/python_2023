{
 "cells": [
  {
   "cell_type": "code",
   "execution_count": null,
   "id": "734b5609",
   "metadata": {},
   "outputs": [],
   "source": [
    "import matplotlib\n",
    "import matplotlib.pyplot as plt\n",
    "x = [1,2,4,5,5]\n",
    "y = [1,2,2,2,5]\n",
    "z = [-45,-90,-180,-270,-360]\n",
    "\n",
    "plt.plot(x, y, marker=(11, 0, 0), markersize=15, linestyle='None', color='black')\n",
    "\n",
    "m = matplotlib.markers.MarkerStyle(2)\n",
    "m._transform.rotate_deg(-40)\n",
    "plt.plot(x, y, marker=m, markersize=40, fillstyle='right', linestyle='None', color='black')\n",
    "\n",
    "plt.grid(linestyle = '--',linewidth=0.5)\n",
    "plt.xlim([0,6])\n",
    "plt.ylim([0,6])\n",
    "plt.show()"
   ]
  },
  {
   "cell_type": "code",
   "execution_count": null,
   "id": "0b65a2ae",
   "metadata": {},
   "outputs": [],
   "source": [
    "import matplotlib.pyplot as plt\n",
    "import numpy as np\n",
    "\n",
    "# Define the data\n",
    "x = [1, 2, 4, 5, 5]\n",
    "y = [1, 2, 2, 2, 5]\n",
    "z = [-45, -90, -180, -270, -360]\n",
    "\n",
    "# Convert degrees to radians\n",
    "theta = np.radians(z)\n",
    "\n",
    "# Define the line lengths\n",
    "length = 0.5\n",
    "\n",
    "# Define the line endpoints\n",
    "x_end = x + length * np.cos(theta)\n",
    "y_end = y + length * np.sin(theta)\n",
    "\n",
    "# Plot the graph\n",
    "fig, ax = plt.subplots()\n",
    "for i in range(len(x)):\n",
    "    ax.plot([x[i], x_end[i]], [y[i], y_end[i]], 'k-')\n",
    "ax.scatter(x,y,marker=(11, 0, 0),s=200, linestyle='None', color='black')\n",
    "# Set the axis limits\n",
    "plt.grid(linestyle = '--',linewidth=0.5)\n",
    "ax.set_xlim([0, 6])\n",
    "ax.set_ylim([0, 6])\n",
    "\n",
    "# Show the plot\n",
    "plt.show()\n"
   ]
  },
  {
   "cell_type": "code",
   "execution_count": null,
   "id": "da2bd0e0",
   "metadata": {},
   "outputs": [],
   "source": [
    "number = int(input())\n",
    "for i in range(2,number+1):\n",
    "    if number%i==0:\n",
    "        print(i)\n",
    "        break"
   ]
  },
  {
   "cell_type": "code",
   "execution_count": null,
   "id": "ab5e19e6",
   "metadata": {},
   "outputs": [],
   "source": []
  },
  {
   "cell_type": "code",
   "execution_count": 1,
   "id": "3f7da5e0",
   "metadata": {},
   "outputs": [
    {
     "name": "stdout",
     "output_type": "stream",
     "text": [
      "58\n",
      "5 32\n"
     ]
    }
   ],
   "source": [
    "N = int(input()) \n",
    "\n",
    "x = 0\n",
    "power_of_2 = 1\n",
    "\n",
    "while power_of_2 * 2 <= N:\n",
    "    power_of_2 *= 2\n",
    "    x += 1\n",
    "\n",
    "print(x, power_of_2)\n"
   ]
  },
  {
   "cell_type": "code",
   "execution_count": null,
   "id": "580808f1",
   "metadata": {},
   "outputs": [],
   "source": []
  }
 ],
 "metadata": {
  "kernelspec": {
   "display_name": "Python 3 (ipykernel)",
   "language": "python",
   "name": "python3"
  },
  "language_info": {
   "codemirror_mode": {
    "name": "ipython",
    "version": 3
   },
   "file_extension": ".py",
   "mimetype": "text/x-python",
   "name": "python",
   "nbconvert_exporter": "python",
   "pygments_lexer": "ipython3",
   "version": "3.9.15"
  }
 },
 "nbformat": 4,
 "nbformat_minor": 5
}
