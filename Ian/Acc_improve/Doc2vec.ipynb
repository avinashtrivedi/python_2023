{
 "cells": [
  {
   "cell_type": "code",
   "execution_count": 1,
   "metadata": {
    "colab": {
     "base_uri": "https://localhost:8080/"
    },
    "id": "B_qZ-q8svFzB",
    "outputId": "beb604ee-6f6a-4ea3-a8fc-4fb9ca832e19"
   },
   "outputs": [],
   "source": [
    "# from google.colab import drive\n",
    "# drive.mount('/gdrive',force_remount=True)\n",
    "# %cd /gdrive\n",
    "# %cd MyDrive\n",
    "# # %cd Colab Notebooks\n",
    "# %cd 'bodyshop repair'\n",
    "# path = \"bodyshop_repair_tensorflow/working_notebook/data.json\""
   ]
  },
  {
   "cell_type": "code",
   "execution_count": 1,
   "metadata": {
    "id": "dElN913Ivdl0"
   },
   "outputs": [],
   "source": [
    "import pandas as pd"
   ]
  },
  {
   "cell_type": "code",
   "execution_count": 2,
   "metadata": {
    "id": "qzP9S8lMvK_H"
   },
   "outputs": [],
   "source": [
    "df = pd.read_json('D:\\OneDrive - NITT\\Custom_Download\\spell_corrected_final.json')"
   ]
  },
  {
   "cell_type": "code",
   "execution_count": 3,
   "metadata": {
    "id": "rJgdQibFwEKF"
   },
   "outputs": [],
   "source": [
    "# Splitting dataset into train, test and dev\n",
    "from sklearn.model_selection import train_test_split\n",
    "train_df, test_df = train_test_split(df, test_size=0.4, random_state=42)\n",
    "test_df, val_df = train_test_split(test_df, test_size=0.5, random_state=42)"
   ]
  },
  {
   "cell_type": "code",
   "execution_count": 4,
   "metadata": {
    "id": "FZ2LNES8wXic"
   },
   "outputs": [],
   "source": [
    "from tqdm.notebook import tqdm"
   ]
  },
  {
   "cell_type": "code",
   "execution_count": 5,
   "metadata": {
    "colab": {
     "base_uri": "https://localhost:8080/",
     "height": 81,
     "referenced_widgets": [
      "d5ccba30fdf241d4926cfaccc0a1dc92",
      "c701f7873c27441ea4738b939f2cc8b3",
      "23ad4174122a4225acd6e6c5d69c75b7",
      "f81589704c824768858f7aaba58a9594",
      "40d145cc79084635bd13e76d2ccf5cfb",
      "71cb32087be74619ad51471e9e3fd277",
      "dc3af632a0a4495a9b96e468eb500317",
      "6e82086258ee4e4b9455bb8e1f9e3d85",
      "df1065bf8f1a4c7482fbdf770e7ed840",
      "f0ce535c1cf84055b21c302fcbe54672",
      "384d56a70b444af78924c06b6c3a9bf1",
      "2ce4c12f410c495e88e04bf0339ee915",
      "1f22c0ab26fe44fa9b19645adaf09856",
      "fa6fad93a1534149978ef626fce4ff88",
      "9b0f3f31302b4825b79c9bf2091220ab",
      "dfd1a5b84e9446cc927ba17b290c1020",
      "1978b5eba4d34f499b64b9e4343b67e9",
      "a11d6be617234dcdb59c98c7f7b929fb",
      "5a850105ab41488fb00beb0c19a103b1",
      "282fb4f2d73f4f6fa787b668f646c0ba",
      "a155269c0111401cb68f5f4ae6ab4bdb",
      "ab86e9ec3efe437885a267c8562ad25b"
     ]
    },
    "id": "bPE08GyDv6vj",
    "outputId": "0077c897-4ccc-4341-cf36-85b951b6a2ef"
   },
   "outputs": [
    {
     "data": {
      "application/vnd.jupyter.widget-view+json": {
       "model_id": "7c7027a64ead41e0993270de2a7d88c8",
       "version_major": 2,
       "version_minor": 0
      },
      "text/plain": [
       "  0%|          | 0/255349 [00:00<?, ?it/s]"
      ]
     },
     "metadata": {},
     "output_type": "display_data"
    },
    {
     "data": {
      "application/vnd.jupyter.widget-view+json": {
       "model_id": "3036caeea54d48fc97e5e9fe9f59f3e5",
       "version_major": 2,
       "version_minor": 0
      },
      "text/plain": [
       "  0%|          | 0/85116 [00:00<?, ?it/s]"
      ]
     },
     "metadata": {},
     "output_type": "display_data"
    }
   ],
   "source": [
    "train_corpus = []\n",
    "for text in tqdm(train_df['Clean_Damage']):\n",
    "  train_corpus.append(text)\n",
    "\n",
    "test_corpus = []\n",
    "for text in tqdm(test_df['Clean_Damage']):\n",
    "  test_corpus.append(text)"
   ]
  },
  {
   "cell_type": "code",
   "execution_count": 6,
   "metadata": {
    "id": "IGAGttQtvMme"
   },
   "outputs": [],
   "source": [
    "# import the library\n",
    "import gensim\n",
    "\n",
    "# read the corpus and convert it to tagged document.\n",
    "def read_corpus(corpus):\n",
    "    i = 0\n",
    "    for doc_fname in corpus:\n",
    "        tokens = doc_fname.split()\n",
    "        yield gensim.models.doc2vec.TaggedDocument(tokens, [i])\n",
    "        i = i + 1"
   ]
  },
  {
   "cell_type": "code",
   "execution_count": 7,
   "metadata": {
    "id": "KelzXXUlv42q"
   },
   "outputs": [],
   "source": [
    "# get the tagged corpus\n",
    "train_corpus = list(read_corpus(train_corpus))\n",
    "\n",
    "test_corpus = list(read_corpus(test_corpus))"
   ]
  },
  {
   "cell_type": "code",
   "execution_count": 8,
   "metadata": {
    "colab": {
     "base_uri": "https://localhost:8080/"
    },
    "id": "tc5r4krWwmOv",
    "outputId": "03ceae4e-1ffa-447e-a7b2-8088fa8eae69"
   },
   "outputs": [
    {
     "data": {
      "text/plain": [
       "TaggedDocument(words=['entire', 'front', 'end', 'down', 'the', 'drivers', 'side'], tags=[0])"
      ]
     },
     "execution_count": 8,
     "metadata": {},
     "output_type": "execute_result"
    }
   ],
   "source": [
    "# first tagged document\n",
    "train_corpus[0]"
   ]
  },
  {
   "cell_type": "code",
   "execution_count": 9,
   "metadata": {
    "id": "i5fC18J8wnNl"
   },
   "outputs": [],
   "source": [
    "# setup doc2vec\n",
    "model = gensim.models.doc2vec.Doc2Vec(vector_size=100)"
   ]
  },
  {
   "cell_type": "code",
   "execution_count": 10,
   "metadata": {
    "id": "a9ZrXsdWwoWz"
   },
   "outputs": [],
   "source": [
    "# build the vocabulary\n",
    "model.build_vocab(train_corpus)"
   ]
  },
  {
   "cell_type": "code",
   "execution_count": 11,
   "metadata": {
    "id": "6UZXVSrBwrI_"
   },
   "outputs": [],
   "source": [
    "# train the doc2vec on the given corpus\n",
    "model.train(train_corpus, total_examples=model.corpus_count, epochs=model.epochs)"
   ]
  },
  {
   "cell_type": "code",
   "execution_count": 12,
   "metadata": {
    "id": "tP4PlJorwsZ5"
   },
   "outputs": [
    {
     "data": {
      "text/plain": [
       "array([-0.03418214, -0.04329872, -0.04091361, -0.0268693 , -0.0666113 ,\n",
       "        0.09817664, -0.04009007, -0.0674959 ,  0.00294965, -0.02260552,\n",
       "        0.02754609,  0.039796  ,  0.08810495,  0.01184182, -0.01478468,\n",
       "        0.09585541, -0.02739911,  0.08738523,  0.01726268,  0.09892351,\n",
       "       -0.09619522, -0.05445495, -0.04984544,  0.00690356,  0.09945501,\n",
       "        0.01588379,  0.05130263,  0.03701887, -0.00760381, -0.02255135,\n",
       "       -0.03359864,  0.04904255, -0.02870908,  0.07469813,  0.095943  ,\n",
       "       -0.12951012,  0.02155304,  0.04695604, -0.03179697,  0.04059188,\n",
       "        0.02558925,  0.08457031, -0.1444151 ,  0.03344148,  0.00905937,\n",
       "        0.06960191,  0.00882101, -0.03214044,  0.0105387 ,  0.01212643,\n",
       "       -0.04520219,  0.05860241, -0.00079776,  0.03779958,  0.11117833,\n",
       "        0.06053504,  0.05512707, -0.00586903,  0.07915846, -0.00263769,\n",
       "        0.0197233 , -0.07170385, -0.05800329,  0.05786436,  0.10416971,\n",
       "       -0.13044043, -0.07983699,  0.037913  ,  0.09051442, -0.13346548,\n",
       "       -0.01380028, -0.00265201,  0.00170187, -0.01616053, -0.09521143,\n",
       "       -0.03476349, -0.01897203, -0.04667428,  0.04896284, -0.07217905,\n",
       "        0.15242039,  0.05821076,  0.14637506, -0.00210948,  0.03076906,\n",
       "       -0.09661505,  0.00492487, -0.03477271, -0.1351542 ,  0.04143521,\n",
       "       -0.08422471, -0.0457804 ,  0.04293387,  0.04775266, -0.10515371,\n",
       "       -0.11691653,  0.01920805, -0.00417184,  0.08209939, -0.01104198],\n",
       "      dtype=float32)"
      ]
     },
     "execution_count": 12,
     "metadata": {},
     "output_type": "execute_result"
    }
   ],
   "source": [
    "# get the doc2vec embedding of the first document.\n",
    "model.infer_vector(train_corpus[0][0])"
   ]
  },
  {
   "cell_type": "code",
   "execution_count": 13,
   "metadata": {
    "id": "KjvI7iDYygiN"
   },
   "outputs": [
    {
     "data": {
      "application/vnd.jupyter.widget-view+json": {
       "model_id": "4f988e084753483386eeb16f3d79fd57",
       "version_major": 2,
       "version_minor": 0
      },
      "text/plain": [
       "  0%|          | 0/255349 [00:00<?, ?it/s]"
      ]
     },
     "metadata": {},
     "output_type": "display_data"
    },
    {
     "data": {
      "application/vnd.jupyter.widget-view+json": {
       "model_id": "8ba8e1be31a14fefbd721a84877dd6fe",
       "version_major": 2,
       "version_minor": 0
      },
      "text/plain": [
       "  0%|          | 0/85116 [00:00<?, ?it/s]"
      ]
     },
     "metadata": {},
     "output_type": "display_data"
    }
   ],
   "source": [
    "import pandas as pd\n",
    "df_train = pd.DataFrame([],columns=range(100))\n",
    "df_test = pd.DataFrame([],columns=range(100))\n",
    "for i in tqdm(range(len(train_corpus))):\n",
    "    df_train.loc[len(df_train)] = model.infer_vector(train_corpus[i][0])\n",
    "\n",
    "for i in tqdm(range(len(test_corpus))):\n",
    "    df_test.loc[len(df_test)] = model.infer_vector(test_corpus[i][0])"
   ]
  },
  {
   "cell_type": "code",
   "execution_count": 21,
   "metadata": {},
   "outputs": [],
   "source": [
    "df_train.to_csv('ian_train.csv',index=False)\n",
    "df_test.to_csv('ian_test.csv',index=False)"
   ]
  },
  {
   "cell_type": "code",
   "execution_count": 22,
   "metadata": {},
   "outputs": [],
   "source": [
    "train_df.to_csv('train_df.csv',index=False)\n",
    "test_df.to_csv('test_df.csv',index=False)"
   ]
  },
  {
   "cell_type": "code",
   "execution_count": 14,
   "metadata": {
    "id": "LFX5g9u50RvN"
   },
   "outputs": [],
   "source": [
    "train_df['values'] = train_df['values'].replace(['Y','N'],[1,0])\n",
    "test_df['values'] = test_df['values'].replace(['Y','N'],[1,0])"
   ]
  },
  {
   "cell_type": "code",
   "execution_count": 15,
   "metadata": {
    "id": "TZUIofEozDPe"
   },
   "outputs": [],
   "source": [
    "X_train = df_train\n",
    "y_train = train_df['values']\n",
    "\n",
    "X_test = df_test\n",
    "y_test = test_df['values']"
   ]
  },
  {
   "cell_type": "code",
   "execution_count": 16,
   "metadata": {
    "id": "ucCQIEDuyu6i"
   },
   "outputs": [],
   "source": [
    "from xgboost import XGBClassifier\n",
    "from sklearn.metrics import classification_report"
   ]
  },
  {
   "cell_type": "code",
   "execution_count": 17,
   "metadata": {},
   "outputs": [
    {
     "data": {
      "text/html": [
       "<div>\n",
       "<style scoped>\n",
       "    .dataframe tbody tr th:only-of-type {\n",
       "        vertical-align: middle;\n",
       "    }\n",
       "\n",
       "    .dataframe tbody tr th {\n",
       "        vertical-align: top;\n",
       "    }\n",
       "\n",
       "    .dataframe thead th {\n",
       "        text-align: right;\n",
       "    }\n",
       "</style>\n",
       "<table border=\"1\" class=\"dataframe\">\n",
       "  <thead>\n",
       "    <tr style=\"text-align: right;\">\n",
       "      <th></th>\n",
       "      <th>0</th>\n",
       "      <th>1</th>\n",
       "      <th>2</th>\n",
       "      <th>3</th>\n",
       "      <th>4</th>\n",
       "      <th>5</th>\n",
       "      <th>6</th>\n",
       "      <th>7</th>\n",
       "      <th>8</th>\n",
       "      <th>9</th>\n",
       "      <th>...</th>\n",
       "      <th>90</th>\n",
       "      <th>91</th>\n",
       "      <th>92</th>\n",
       "      <th>93</th>\n",
       "      <th>94</th>\n",
       "      <th>95</th>\n",
       "      <th>96</th>\n",
       "      <th>97</th>\n",
       "      <th>98</th>\n",
       "      <th>99</th>\n",
       "    </tr>\n",
       "  </thead>\n",
       "  <tbody>\n",
       "    <tr>\n",
       "      <th>0</th>\n",
       "      <td>0.004529</td>\n",
       "      <td>-0.043733</td>\n",
       "      <td>0.001802</td>\n",
       "      <td>-0.043283</td>\n",
       "      <td>-0.032517</td>\n",
       "      <td>0.059814</td>\n",
       "      <td>-0.057465</td>\n",
       "      <td>-0.002586</td>\n",
       "      <td>-0.013485</td>\n",
       "      <td>-0.030134</td>\n",
       "      <td>...</td>\n",
       "      <td>-0.054937</td>\n",
       "      <td>-0.033316</td>\n",
       "      <td>0.021547</td>\n",
       "      <td>-0.021499</td>\n",
       "      <td>-0.071905</td>\n",
       "      <td>-0.105131</td>\n",
       "      <td>0.011763</td>\n",
       "      <td>-0.005557</td>\n",
       "      <td>0.068240</td>\n",
       "      <td>-0.013557</td>\n",
       "    </tr>\n",
       "    <tr>\n",
       "      <th>1</th>\n",
       "      <td>-0.056286</td>\n",
       "      <td>-0.098391</td>\n",
       "      <td>0.034283</td>\n",
       "      <td>-0.085443</td>\n",
       "      <td>0.022977</td>\n",
       "      <td>0.108745</td>\n",
       "      <td>0.072307</td>\n",
       "      <td>-0.072824</td>\n",
       "      <td>0.006076</td>\n",
       "      <td>-0.034458</td>\n",
       "      <td>...</td>\n",
       "      <td>-0.083145</td>\n",
       "      <td>-0.224773</td>\n",
       "      <td>0.213786</td>\n",
       "      <td>-0.084664</td>\n",
       "      <td>0.037299</td>\n",
       "      <td>0.014934</td>\n",
       "      <td>0.158486</td>\n",
       "      <td>0.004323</td>\n",
       "      <td>0.074261</td>\n",
       "      <td>0.116642</td>\n",
       "    </tr>\n",
       "    <tr>\n",
       "      <th>2</th>\n",
       "      <td>-0.079125</td>\n",
       "      <td>0.065749</td>\n",
       "      <td>0.037107</td>\n",
       "      <td>-0.034102</td>\n",
       "      <td>-0.025761</td>\n",
       "      <td>0.057848</td>\n",
       "      <td>0.012055</td>\n",
       "      <td>-0.033102</td>\n",
       "      <td>0.038911</td>\n",
       "      <td>0.018438</td>\n",
       "      <td>...</td>\n",
       "      <td>-0.044616</td>\n",
       "      <td>-0.016839</td>\n",
       "      <td>-0.003345</td>\n",
       "      <td>0.006169</td>\n",
       "      <td>0.013835</td>\n",
       "      <td>0.029950</td>\n",
       "      <td>-0.012547</td>\n",
       "      <td>0.004000</td>\n",
       "      <td>0.026409</td>\n",
       "      <td>-0.060217</td>\n",
       "    </tr>\n",
       "    <tr>\n",
       "      <th>3</th>\n",
       "      <td>-0.006304</td>\n",
       "      <td>-0.064680</td>\n",
       "      <td>-0.066481</td>\n",
       "      <td>-0.018212</td>\n",
       "      <td>-0.041912</td>\n",
       "      <td>0.039371</td>\n",
       "      <td>0.000956</td>\n",
       "      <td>-0.057000</td>\n",
       "      <td>-0.036842</td>\n",
       "      <td>-0.015193</td>\n",
       "      <td>...</td>\n",
       "      <td>-0.084852</td>\n",
       "      <td>-0.010686</td>\n",
       "      <td>0.038794</td>\n",
       "      <td>0.052108</td>\n",
       "      <td>-0.061928</td>\n",
       "      <td>-0.080209</td>\n",
       "      <td>-0.002736</td>\n",
       "      <td>-0.000235</td>\n",
       "      <td>-0.001798</td>\n",
       "      <td>-0.019634</td>\n",
       "    </tr>\n",
       "    <tr>\n",
       "      <th>4</th>\n",
       "      <td>-0.209072</td>\n",
       "      <td>-0.137871</td>\n",
       "      <td>-0.031193</td>\n",
       "      <td>0.070123</td>\n",
       "      <td>-0.082381</td>\n",
       "      <td>0.076852</td>\n",
       "      <td>0.141392</td>\n",
       "      <td>-0.201880</td>\n",
       "      <td>0.092850</td>\n",
       "      <td>-0.007655</td>\n",
       "      <td>...</td>\n",
       "      <td>0.001133</td>\n",
       "      <td>0.064268</td>\n",
       "      <td>0.003482</td>\n",
       "      <td>0.084424</td>\n",
       "      <td>-0.179873</td>\n",
       "      <td>-0.059580</td>\n",
       "      <td>0.089670</td>\n",
       "      <td>0.019427</td>\n",
       "      <td>0.121253</td>\n",
       "      <td>0.007030</td>\n",
       "    </tr>\n",
       "    <tr>\n",
       "      <th>...</th>\n",
       "      <td>...</td>\n",
       "      <td>...</td>\n",
       "      <td>...</td>\n",
       "      <td>...</td>\n",
       "      <td>...</td>\n",
       "      <td>...</td>\n",
       "      <td>...</td>\n",
       "      <td>...</td>\n",
       "      <td>...</td>\n",
       "      <td>...</td>\n",
       "      <td>...</td>\n",
       "      <td>...</td>\n",
       "      <td>...</td>\n",
       "      <td>...</td>\n",
       "      <td>...</td>\n",
       "      <td>...</td>\n",
       "      <td>...</td>\n",
       "      <td>...</td>\n",
       "      <td>...</td>\n",
       "      <td>...</td>\n",
       "      <td>...</td>\n",
       "    </tr>\n",
       "    <tr>\n",
       "      <th>255344</th>\n",
       "      <td>0.006350</td>\n",
       "      <td>-0.077087</td>\n",
       "      <td>-0.021659</td>\n",
       "      <td>-0.000186</td>\n",
       "      <td>-0.020764</td>\n",
       "      <td>0.123143</td>\n",
       "      <td>-0.025926</td>\n",
       "      <td>-0.127578</td>\n",
       "      <td>0.058931</td>\n",
       "      <td>-0.025776</td>\n",
       "      <td>...</td>\n",
       "      <td>-0.144684</td>\n",
       "      <td>-0.054785</td>\n",
       "      <td>0.044029</td>\n",
       "      <td>0.114270</td>\n",
       "      <td>-0.066599</td>\n",
       "      <td>-0.107931</td>\n",
       "      <td>-0.020047</td>\n",
       "      <td>0.015422</td>\n",
       "      <td>0.043184</td>\n",
       "      <td>-0.028693</td>\n",
       "    </tr>\n",
       "    <tr>\n",
       "      <th>255345</th>\n",
       "      <td>0.015196</td>\n",
       "      <td>0.009674</td>\n",
       "      <td>0.023484</td>\n",
       "      <td>0.011249</td>\n",
       "      <td>-0.000086</td>\n",
       "      <td>0.097884</td>\n",
       "      <td>0.013709</td>\n",
       "      <td>-0.051839</td>\n",
       "      <td>-0.017263</td>\n",
       "      <td>-0.000186</td>\n",
       "      <td>...</td>\n",
       "      <td>-0.035112</td>\n",
       "      <td>-0.011215</td>\n",
       "      <td>0.012756</td>\n",
       "      <td>0.080323</td>\n",
       "      <td>-0.029640</td>\n",
       "      <td>-0.002866</td>\n",
       "      <td>0.007797</td>\n",
       "      <td>0.009470</td>\n",
       "      <td>0.042444</td>\n",
       "      <td>-0.014956</td>\n",
       "    </tr>\n",
       "    <tr>\n",
       "      <th>255346</th>\n",
       "      <td>-0.033471</td>\n",
       "      <td>-0.000674</td>\n",
       "      <td>0.017947</td>\n",
       "      <td>0.028989</td>\n",
       "      <td>-0.024082</td>\n",
       "      <td>0.117704</td>\n",
       "      <td>-0.000930</td>\n",
       "      <td>-0.057137</td>\n",
       "      <td>0.069201</td>\n",
       "      <td>0.020728</td>\n",
       "      <td>...</td>\n",
       "      <td>-0.080715</td>\n",
       "      <td>-0.041141</td>\n",
       "      <td>0.105147</td>\n",
       "      <td>0.089262</td>\n",
       "      <td>-0.003091</td>\n",
       "      <td>-0.051274</td>\n",
       "      <td>0.013239</td>\n",
       "      <td>-0.020272</td>\n",
       "      <td>0.108662</td>\n",
       "      <td>-0.017606</td>\n",
       "    </tr>\n",
       "    <tr>\n",
       "      <th>255347</th>\n",
       "      <td>-0.074642</td>\n",
       "      <td>-0.087102</td>\n",
       "      <td>0.002657</td>\n",
       "      <td>0.015928</td>\n",
       "      <td>-0.034007</td>\n",
       "      <td>-0.071022</td>\n",
       "      <td>0.019911</td>\n",
       "      <td>-0.069370</td>\n",
       "      <td>-0.017913</td>\n",
       "      <td>-0.014220</td>\n",
       "      <td>...</td>\n",
       "      <td>-0.002577</td>\n",
       "      <td>0.014856</td>\n",
       "      <td>-0.003547</td>\n",
       "      <td>0.086672</td>\n",
       "      <td>-0.048006</td>\n",
       "      <td>-0.019311</td>\n",
       "      <td>-0.030845</td>\n",
       "      <td>-0.043173</td>\n",
       "      <td>0.020691</td>\n",
       "      <td>0.057927</td>\n",
       "    </tr>\n",
       "    <tr>\n",
       "      <th>255348</th>\n",
       "      <td>-0.013085</td>\n",
       "      <td>0.010609</td>\n",
       "      <td>-0.027326</td>\n",
       "      <td>-0.126874</td>\n",
       "      <td>0.031620</td>\n",
       "      <td>0.047560</td>\n",
       "      <td>0.159186</td>\n",
       "      <td>0.079048</td>\n",
       "      <td>-0.015229</td>\n",
       "      <td>-0.011027</td>\n",
       "      <td>...</td>\n",
       "      <td>0.023029</td>\n",
       "      <td>-0.047647</td>\n",
       "      <td>-0.041252</td>\n",
       "      <td>0.052887</td>\n",
       "      <td>-0.003953</td>\n",
       "      <td>-0.030869</td>\n",
       "      <td>-0.065181</td>\n",
       "      <td>-0.015894</td>\n",
       "      <td>0.050853</td>\n",
       "      <td>-0.041639</td>\n",
       "    </tr>\n",
       "  </tbody>\n",
       "</table>\n",
       "<p>255349 rows × 100 columns</p>\n",
       "</div>"
      ],
      "text/plain": [
       "              0         1         2         3         4         5         6   \\\n",
       "0       0.004529 -0.043733  0.001802 -0.043283 -0.032517  0.059814 -0.057465   \n",
       "1      -0.056286 -0.098391  0.034283 -0.085443  0.022977  0.108745  0.072307   \n",
       "2      -0.079125  0.065749  0.037107 -0.034102 -0.025761  0.057848  0.012055   \n",
       "3      -0.006304 -0.064680 -0.066481 -0.018212 -0.041912  0.039371  0.000956   \n",
       "4      -0.209072 -0.137871 -0.031193  0.070123 -0.082381  0.076852  0.141392   \n",
       "...          ...       ...       ...       ...       ...       ...       ...   \n",
       "255344  0.006350 -0.077087 -0.021659 -0.000186 -0.020764  0.123143 -0.025926   \n",
       "255345  0.015196  0.009674  0.023484  0.011249 -0.000086  0.097884  0.013709   \n",
       "255346 -0.033471 -0.000674  0.017947  0.028989 -0.024082  0.117704 -0.000930   \n",
       "255347 -0.074642 -0.087102  0.002657  0.015928 -0.034007 -0.071022  0.019911   \n",
       "255348 -0.013085  0.010609 -0.027326 -0.126874  0.031620  0.047560  0.159186   \n",
       "\n",
       "              7         8         9   ...        90        91        92  \\\n",
       "0      -0.002586 -0.013485 -0.030134  ... -0.054937 -0.033316  0.021547   \n",
       "1      -0.072824  0.006076 -0.034458  ... -0.083145 -0.224773  0.213786   \n",
       "2      -0.033102  0.038911  0.018438  ... -0.044616 -0.016839 -0.003345   \n",
       "3      -0.057000 -0.036842 -0.015193  ... -0.084852 -0.010686  0.038794   \n",
       "4      -0.201880  0.092850 -0.007655  ...  0.001133  0.064268  0.003482   \n",
       "...          ...       ...       ...  ...       ...       ...       ...   \n",
       "255344 -0.127578  0.058931 -0.025776  ... -0.144684 -0.054785  0.044029   \n",
       "255345 -0.051839 -0.017263 -0.000186  ... -0.035112 -0.011215  0.012756   \n",
       "255346 -0.057137  0.069201  0.020728  ... -0.080715 -0.041141  0.105147   \n",
       "255347 -0.069370 -0.017913 -0.014220  ... -0.002577  0.014856 -0.003547   \n",
       "255348  0.079048 -0.015229 -0.011027  ...  0.023029 -0.047647 -0.041252   \n",
       "\n",
       "              93        94        95        96        97        98        99  \n",
       "0      -0.021499 -0.071905 -0.105131  0.011763 -0.005557  0.068240 -0.013557  \n",
       "1      -0.084664  0.037299  0.014934  0.158486  0.004323  0.074261  0.116642  \n",
       "2       0.006169  0.013835  0.029950 -0.012547  0.004000  0.026409 -0.060217  \n",
       "3       0.052108 -0.061928 -0.080209 -0.002736 -0.000235 -0.001798 -0.019634  \n",
       "4       0.084424 -0.179873 -0.059580  0.089670  0.019427  0.121253  0.007030  \n",
       "...          ...       ...       ...       ...       ...       ...       ...  \n",
       "255344  0.114270 -0.066599 -0.107931 -0.020047  0.015422  0.043184 -0.028693  \n",
       "255345  0.080323 -0.029640 -0.002866  0.007797  0.009470  0.042444 -0.014956  \n",
       "255346  0.089262 -0.003091 -0.051274  0.013239 -0.020272  0.108662 -0.017606  \n",
       "255347  0.086672 -0.048006 -0.019311 -0.030845 -0.043173  0.020691  0.057927  \n",
       "255348  0.052887 -0.003953 -0.030869 -0.065181 -0.015894  0.050853 -0.041639  \n",
       "\n",
       "[255349 rows x 100 columns]"
      ]
     },
     "execution_count": 17,
     "metadata": {},
     "output_type": "execute_result"
    }
   ],
   "source": [
    "df_train"
   ]
  },
  {
   "cell_type": "code",
   "execution_count": 18,
   "metadata": {
    "id": "_m9uI2a5y-Du"
   },
   "outputs": [],
   "source": [
    "xgb = XGBClassifier(n_jobs=-1,verbose=1)"
   ]
  },
  {
   "cell_type": "code",
   "execution_count": 19,
   "metadata": {
    "id": "537qx_vjy-JN"
   },
   "outputs": [
    {
     "name": "stderr",
     "output_type": "stream",
     "text": [
      "C:\\Users\\avitr\\anaconda3\\lib\\site-packages\\xgboost\\sklearn.py:1224: UserWarning: The use of label encoder in XGBClassifier is deprecated and will be removed in a future release. To remove this warning, do the following: 1) Pass option use_label_encoder=False when constructing XGBClassifier object; and 2) Encode your labels (y) as integers starting with 0, i.e. 0, 1, 2, ..., [num_class - 1].\n",
      "  warnings.warn(label_encoder_deprecation_msg, UserWarning)\n"
     ]
    },
    {
     "ename": "AttributeError",
     "evalue": "module 'pandas' has no attribute 'Int64Index'",
     "output_type": "error",
     "traceback": [
      "\u001b[1;31m---------------------------------------------------------------------------\u001b[0m",
      "\u001b[1;31mAttributeError\u001b[0m                            Traceback (most recent call last)",
      "Cell \u001b[1;32mIn[19], line 1\u001b[0m\n\u001b[1;32m----> 1\u001b[0m \u001b[43mxgb\u001b[49m\u001b[38;5;241;43m.\u001b[39;49m\u001b[43mfit\u001b[49m\u001b[43m(\u001b[49m\u001b[43mX_train\u001b[49m\u001b[43m,\u001b[49m\u001b[43my_train\u001b[49m\u001b[43m)\u001b[49m\n",
      "File \u001b[1;32m~\\anaconda3\\lib\\site-packages\\xgboost\\core.py:506\u001b[0m, in \u001b[0;36m_deprecate_positional_args.<locals>.inner_f\u001b[1;34m(*args, **kwargs)\u001b[0m\n\u001b[0;32m    504\u001b[0m \u001b[38;5;28;01mfor\u001b[39;00m k, arg \u001b[38;5;129;01min\u001b[39;00m \u001b[38;5;28mzip\u001b[39m(sig\u001b[38;5;241m.\u001b[39mparameters, args):\n\u001b[0;32m    505\u001b[0m     kwargs[k] \u001b[38;5;241m=\u001b[39m arg\n\u001b[1;32m--> 506\u001b[0m \u001b[38;5;28;01mreturn\u001b[39;00m f(\u001b[38;5;241m*\u001b[39m\u001b[38;5;241m*\u001b[39mkwargs)\n",
      "File \u001b[1;32m~\\anaconda3\\lib\\site-packages\\xgboost\\sklearn.py:1231\u001b[0m, in \u001b[0;36mXGBClassifier.fit\u001b[1;34m(self, X, y, sample_weight, base_margin, eval_set, eval_metric, early_stopping_rounds, verbose, xgb_model, sample_weight_eval_set, base_margin_eval_set, feature_weights, callbacks)\u001b[0m\n\u001b[0;32m   1228\u001b[0m     label_transform \u001b[38;5;241m=\u001b[39m \u001b[38;5;28;01mlambda\u001b[39;00m x: x\n\u001b[0;32m   1230\u001b[0m model, feval, params \u001b[38;5;241m=\u001b[39m \u001b[38;5;28mself\u001b[39m\u001b[38;5;241m.\u001b[39m_configure_fit(xgb_model, eval_metric, params)\n\u001b[1;32m-> 1231\u001b[0m train_dmatrix, evals \u001b[38;5;241m=\u001b[39m \u001b[43m_wrap_evaluation_matrices\u001b[49m\u001b[43m(\u001b[49m\n\u001b[0;32m   1232\u001b[0m \u001b[43m    \u001b[49m\u001b[43mmissing\u001b[49m\u001b[38;5;241;43m=\u001b[39;49m\u001b[38;5;28;43mself\u001b[39;49m\u001b[38;5;241;43m.\u001b[39;49m\u001b[43mmissing\u001b[49m\u001b[43m,\u001b[49m\n\u001b[0;32m   1233\u001b[0m \u001b[43m    \u001b[49m\u001b[43mX\u001b[49m\u001b[38;5;241;43m=\u001b[39;49m\u001b[43mX\u001b[49m\u001b[43m,\u001b[49m\n\u001b[0;32m   1234\u001b[0m \u001b[43m    \u001b[49m\u001b[43my\u001b[49m\u001b[38;5;241;43m=\u001b[39;49m\u001b[43my\u001b[49m\u001b[43m,\u001b[49m\n\u001b[0;32m   1235\u001b[0m \u001b[43m    \u001b[49m\u001b[43mgroup\u001b[49m\u001b[38;5;241;43m=\u001b[39;49m\u001b[38;5;28;43;01mNone\u001b[39;49;00m\u001b[43m,\u001b[49m\n\u001b[0;32m   1236\u001b[0m \u001b[43m    \u001b[49m\u001b[43mqid\u001b[49m\u001b[38;5;241;43m=\u001b[39;49m\u001b[38;5;28;43;01mNone\u001b[39;49;00m\u001b[43m,\u001b[49m\n\u001b[0;32m   1237\u001b[0m \u001b[43m    \u001b[49m\u001b[43msample_weight\u001b[49m\u001b[38;5;241;43m=\u001b[39;49m\u001b[43msample_weight\u001b[49m\u001b[43m,\u001b[49m\n\u001b[0;32m   1238\u001b[0m \u001b[43m    \u001b[49m\u001b[43mbase_margin\u001b[49m\u001b[38;5;241;43m=\u001b[39;49m\u001b[43mbase_margin\u001b[49m\u001b[43m,\u001b[49m\n\u001b[0;32m   1239\u001b[0m \u001b[43m    \u001b[49m\u001b[43mfeature_weights\u001b[49m\u001b[38;5;241;43m=\u001b[39;49m\u001b[43mfeature_weights\u001b[49m\u001b[43m,\u001b[49m\n\u001b[0;32m   1240\u001b[0m \u001b[43m    \u001b[49m\u001b[43meval_set\u001b[49m\u001b[38;5;241;43m=\u001b[39;49m\u001b[43meval_set\u001b[49m\u001b[43m,\u001b[49m\n\u001b[0;32m   1241\u001b[0m \u001b[43m    \u001b[49m\u001b[43msample_weight_eval_set\u001b[49m\u001b[38;5;241;43m=\u001b[39;49m\u001b[43msample_weight_eval_set\u001b[49m\u001b[43m,\u001b[49m\n\u001b[0;32m   1242\u001b[0m \u001b[43m    \u001b[49m\u001b[43mbase_margin_eval_set\u001b[49m\u001b[38;5;241;43m=\u001b[39;49m\u001b[43mbase_margin_eval_set\u001b[49m\u001b[43m,\u001b[49m\n\u001b[0;32m   1243\u001b[0m \u001b[43m    \u001b[49m\u001b[43meval_group\u001b[49m\u001b[38;5;241;43m=\u001b[39;49m\u001b[38;5;28;43;01mNone\u001b[39;49;00m\u001b[43m,\u001b[49m\n\u001b[0;32m   1244\u001b[0m \u001b[43m    \u001b[49m\u001b[43meval_qid\u001b[49m\u001b[38;5;241;43m=\u001b[39;49m\u001b[38;5;28;43;01mNone\u001b[39;49;00m\u001b[43m,\u001b[49m\n\u001b[0;32m   1245\u001b[0m \u001b[43m    \u001b[49m\u001b[43mcreate_dmatrix\u001b[49m\u001b[38;5;241;43m=\u001b[39;49m\u001b[38;5;28;43;01mlambda\u001b[39;49;00m\u001b[43m \u001b[49m\u001b[38;5;241;43m*\u001b[39;49m\u001b[38;5;241;43m*\u001b[39;49m\u001b[43mkwargs\u001b[49m\u001b[43m:\u001b[49m\u001b[43m \u001b[49m\u001b[43mDMatrix\u001b[49m\u001b[43m(\u001b[49m\u001b[43mnthread\u001b[49m\u001b[38;5;241;43m=\u001b[39;49m\u001b[38;5;28;43mself\u001b[39;49m\u001b[38;5;241;43m.\u001b[39;49m\u001b[43mn_jobs\u001b[49m\u001b[43m,\u001b[49m\u001b[43m \u001b[49m\u001b[38;5;241;43m*\u001b[39;49m\u001b[38;5;241;43m*\u001b[39;49m\u001b[43mkwargs\u001b[49m\u001b[43m)\u001b[49m\u001b[43m,\u001b[49m\n\u001b[0;32m   1246\u001b[0m \u001b[43m    \u001b[49m\u001b[43menable_categorical\u001b[49m\u001b[38;5;241;43m=\u001b[39;49m\u001b[38;5;28;43mself\u001b[39;49m\u001b[38;5;241;43m.\u001b[39;49m\u001b[43menable_categorical\u001b[49m\u001b[43m,\u001b[49m\n\u001b[0;32m   1247\u001b[0m \u001b[43m    \u001b[49m\u001b[43mlabel_transform\u001b[49m\u001b[38;5;241;43m=\u001b[39;49m\u001b[43mlabel_transform\u001b[49m\u001b[43m,\u001b[49m\n\u001b[0;32m   1248\u001b[0m \u001b[43m\u001b[49m\u001b[43m)\u001b[49m\n\u001b[0;32m   1250\u001b[0m \u001b[38;5;28mself\u001b[39m\u001b[38;5;241m.\u001b[39m_Booster \u001b[38;5;241m=\u001b[39m train(\n\u001b[0;32m   1251\u001b[0m     params,\n\u001b[0;32m   1252\u001b[0m     train_dmatrix,\n\u001b[1;32m   (...)\u001b[0m\n\u001b[0;32m   1261\u001b[0m     callbacks\u001b[38;5;241m=\u001b[39mcallbacks,\n\u001b[0;32m   1262\u001b[0m )\n\u001b[0;32m   1264\u001b[0m \u001b[38;5;28;01mif\u001b[39;00m \u001b[38;5;129;01mnot\u001b[39;00m \u001b[38;5;28mcallable\u001b[39m(\u001b[38;5;28mself\u001b[39m\u001b[38;5;241m.\u001b[39mobjective):\n",
      "File \u001b[1;32m~\\anaconda3\\lib\\site-packages\\xgboost\\sklearn.py:286\u001b[0m, in \u001b[0;36m_wrap_evaluation_matrices\u001b[1;34m(missing, X, y, group, qid, sample_weight, base_margin, feature_weights, eval_set, sample_weight_eval_set, base_margin_eval_set, eval_group, eval_qid, create_dmatrix, enable_categorical, label_transform)\u001b[0m\n\u001b[0;32m    265\u001b[0m \u001b[38;5;28;01mdef\u001b[39;00m \u001b[38;5;21m_wrap_evaluation_matrices\u001b[39m(\n\u001b[0;32m    266\u001b[0m     missing: \u001b[38;5;28mfloat\u001b[39m,\n\u001b[0;32m    267\u001b[0m     X: Any,\n\u001b[1;32m   (...)\u001b[0m\n\u001b[0;32m    281\u001b[0m     label_transform: Callable \u001b[38;5;241m=\u001b[39m \u001b[38;5;28;01mlambda\u001b[39;00m x: x,\n\u001b[0;32m    282\u001b[0m ) \u001b[38;5;241m-\u001b[39m\u001b[38;5;241m>\u001b[39m Tuple[Any, Optional[List[Tuple[Any, \u001b[38;5;28mstr\u001b[39m]]]]:\n\u001b[0;32m    283\u001b[0m \u001b[38;5;250m    \u001b[39m\u001b[38;5;124;03m\"\"\"Convert array_like evaluation matrices into DMatrix.  Perform validation on the way.\u001b[39;00m\n\u001b[0;32m    284\u001b[0m \n\u001b[0;32m    285\u001b[0m \u001b[38;5;124;03m    \"\"\"\u001b[39;00m\n\u001b[1;32m--> 286\u001b[0m     train_dmatrix \u001b[38;5;241m=\u001b[39m \u001b[43mcreate_dmatrix\u001b[49m\u001b[43m(\u001b[49m\n\u001b[0;32m    287\u001b[0m \u001b[43m        \u001b[49m\u001b[43mdata\u001b[49m\u001b[38;5;241;43m=\u001b[39;49m\u001b[43mX\u001b[49m\u001b[43m,\u001b[49m\n\u001b[0;32m    288\u001b[0m \u001b[43m        \u001b[49m\u001b[43mlabel\u001b[49m\u001b[38;5;241;43m=\u001b[39;49m\u001b[43mlabel_transform\u001b[49m\u001b[43m(\u001b[49m\u001b[43my\u001b[49m\u001b[43m)\u001b[49m\u001b[43m,\u001b[49m\n\u001b[0;32m    289\u001b[0m \u001b[43m        \u001b[49m\u001b[43mgroup\u001b[49m\u001b[38;5;241;43m=\u001b[39;49m\u001b[43mgroup\u001b[49m\u001b[43m,\u001b[49m\n\u001b[0;32m    290\u001b[0m \u001b[43m        \u001b[49m\u001b[43mqid\u001b[49m\u001b[38;5;241;43m=\u001b[39;49m\u001b[43mqid\u001b[49m\u001b[43m,\u001b[49m\n\u001b[0;32m    291\u001b[0m \u001b[43m        \u001b[49m\u001b[43mweight\u001b[49m\u001b[38;5;241;43m=\u001b[39;49m\u001b[43msample_weight\u001b[49m\u001b[43m,\u001b[49m\n\u001b[0;32m    292\u001b[0m \u001b[43m        \u001b[49m\u001b[43mbase_margin\u001b[49m\u001b[38;5;241;43m=\u001b[39;49m\u001b[43mbase_margin\u001b[49m\u001b[43m,\u001b[49m\n\u001b[0;32m    293\u001b[0m \u001b[43m        \u001b[49m\u001b[43mfeature_weights\u001b[49m\u001b[38;5;241;43m=\u001b[39;49m\u001b[43mfeature_weights\u001b[49m\u001b[43m,\u001b[49m\n\u001b[0;32m    294\u001b[0m \u001b[43m        \u001b[49m\u001b[43mmissing\u001b[49m\u001b[38;5;241;43m=\u001b[39;49m\u001b[43mmissing\u001b[49m\u001b[43m,\u001b[49m\n\u001b[0;32m    295\u001b[0m \u001b[43m        \u001b[49m\u001b[43menable_categorical\u001b[49m\u001b[38;5;241;43m=\u001b[39;49m\u001b[43menable_categorical\u001b[49m\u001b[43m,\u001b[49m\n\u001b[0;32m    296\u001b[0m \u001b[43m    \u001b[49m\u001b[43m)\u001b[49m\n\u001b[0;32m    298\u001b[0m     n_validation \u001b[38;5;241m=\u001b[39m \u001b[38;5;241m0\u001b[39m \u001b[38;5;28;01mif\u001b[39;00m eval_set \u001b[38;5;129;01mis\u001b[39;00m \u001b[38;5;28;01mNone\u001b[39;00m \u001b[38;5;28;01melse\u001b[39;00m \u001b[38;5;28mlen\u001b[39m(eval_set)\n\u001b[0;32m    300\u001b[0m     \u001b[38;5;28;01mdef\u001b[39;00m \u001b[38;5;21mvalidate_or_none\u001b[39m(meta: Optional[List], name: \u001b[38;5;28mstr\u001b[39m) \u001b[38;5;241m-\u001b[39m\u001b[38;5;241m>\u001b[39m List:\n",
      "File \u001b[1;32m~\\anaconda3\\lib\\site-packages\\xgboost\\sklearn.py:1245\u001b[0m, in \u001b[0;36mXGBClassifier.fit.<locals>.<lambda>\u001b[1;34m(**kwargs)\u001b[0m\n\u001b[0;32m   1228\u001b[0m     label_transform \u001b[38;5;241m=\u001b[39m \u001b[38;5;28;01mlambda\u001b[39;00m x: x\n\u001b[0;32m   1230\u001b[0m model, feval, params \u001b[38;5;241m=\u001b[39m \u001b[38;5;28mself\u001b[39m\u001b[38;5;241m.\u001b[39m_configure_fit(xgb_model, eval_metric, params)\n\u001b[0;32m   1231\u001b[0m train_dmatrix, evals \u001b[38;5;241m=\u001b[39m _wrap_evaluation_matrices(\n\u001b[0;32m   1232\u001b[0m     missing\u001b[38;5;241m=\u001b[39m\u001b[38;5;28mself\u001b[39m\u001b[38;5;241m.\u001b[39mmissing,\n\u001b[0;32m   1233\u001b[0m     X\u001b[38;5;241m=\u001b[39mX,\n\u001b[0;32m   1234\u001b[0m     y\u001b[38;5;241m=\u001b[39my,\n\u001b[0;32m   1235\u001b[0m     group\u001b[38;5;241m=\u001b[39m\u001b[38;5;28;01mNone\u001b[39;00m,\n\u001b[0;32m   1236\u001b[0m     qid\u001b[38;5;241m=\u001b[39m\u001b[38;5;28;01mNone\u001b[39;00m,\n\u001b[0;32m   1237\u001b[0m     sample_weight\u001b[38;5;241m=\u001b[39msample_weight,\n\u001b[0;32m   1238\u001b[0m     base_margin\u001b[38;5;241m=\u001b[39mbase_margin,\n\u001b[0;32m   1239\u001b[0m     feature_weights\u001b[38;5;241m=\u001b[39mfeature_weights,\n\u001b[0;32m   1240\u001b[0m     eval_set\u001b[38;5;241m=\u001b[39meval_set,\n\u001b[0;32m   1241\u001b[0m     sample_weight_eval_set\u001b[38;5;241m=\u001b[39msample_weight_eval_set,\n\u001b[0;32m   1242\u001b[0m     base_margin_eval_set\u001b[38;5;241m=\u001b[39mbase_margin_eval_set,\n\u001b[0;32m   1243\u001b[0m     eval_group\u001b[38;5;241m=\u001b[39m\u001b[38;5;28;01mNone\u001b[39;00m,\n\u001b[0;32m   1244\u001b[0m     eval_qid\u001b[38;5;241m=\u001b[39m\u001b[38;5;28;01mNone\u001b[39;00m,\n\u001b[1;32m-> 1245\u001b[0m     create_dmatrix\u001b[38;5;241m=\u001b[39m\u001b[38;5;28;01mlambda\u001b[39;00m \u001b[38;5;241m*\u001b[39m\u001b[38;5;241m*\u001b[39mkwargs: DMatrix(nthread\u001b[38;5;241m=\u001b[39m\u001b[38;5;28mself\u001b[39m\u001b[38;5;241m.\u001b[39mn_jobs, \u001b[38;5;241m*\u001b[39m\u001b[38;5;241m*\u001b[39mkwargs),\n\u001b[0;32m   1246\u001b[0m     enable_categorical\u001b[38;5;241m=\u001b[39m\u001b[38;5;28mself\u001b[39m\u001b[38;5;241m.\u001b[39menable_categorical,\n\u001b[0;32m   1247\u001b[0m     label_transform\u001b[38;5;241m=\u001b[39mlabel_transform,\n\u001b[0;32m   1248\u001b[0m )\n\u001b[0;32m   1250\u001b[0m \u001b[38;5;28mself\u001b[39m\u001b[38;5;241m.\u001b[39m_Booster \u001b[38;5;241m=\u001b[39m train(\n\u001b[0;32m   1251\u001b[0m     params,\n\u001b[0;32m   1252\u001b[0m     train_dmatrix,\n\u001b[1;32m   (...)\u001b[0m\n\u001b[0;32m   1261\u001b[0m     callbacks\u001b[38;5;241m=\u001b[39mcallbacks,\n\u001b[0;32m   1262\u001b[0m )\n\u001b[0;32m   1264\u001b[0m \u001b[38;5;28;01mif\u001b[39;00m \u001b[38;5;129;01mnot\u001b[39;00m \u001b[38;5;28mcallable\u001b[39m(\u001b[38;5;28mself\u001b[39m\u001b[38;5;241m.\u001b[39mobjective):\n",
      "File \u001b[1;32m~\\anaconda3\\lib\\site-packages\\xgboost\\core.py:506\u001b[0m, in \u001b[0;36m_deprecate_positional_args.<locals>.inner_f\u001b[1;34m(*args, **kwargs)\u001b[0m\n\u001b[0;32m    504\u001b[0m \u001b[38;5;28;01mfor\u001b[39;00m k, arg \u001b[38;5;129;01min\u001b[39;00m \u001b[38;5;28mzip\u001b[39m(sig\u001b[38;5;241m.\u001b[39mparameters, args):\n\u001b[0;32m    505\u001b[0m     kwargs[k] \u001b[38;5;241m=\u001b[39m arg\n\u001b[1;32m--> 506\u001b[0m \u001b[38;5;28;01mreturn\u001b[39;00m f(\u001b[38;5;241m*\u001b[39m\u001b[38;5;241m*\u001b[39mkwargs)\n",
      "File \u001b[1;32m~\\anaconda3\\lib\\site-packages\\xgboost\\core.py:616\u001b[0m, in \u001b[0;36mDMatrix.__init__\u001b[1;34m(self, data, label, weight, base_margin, missing, silent, feature_names, feature_types, nthread, group, qid, label_lower_bound, label_upper_bound, feature_weights, enable_categorical)\u001b[0m\n\u001b[0;32m    613\u001b[0m     \u001b[38;5;28;01massert\u001b[39;00m \u001b[38;5;28mself\u001b[39m\u001b[38;5;241m.\u001b[39mhandle \u001b[38;5;129;01mis\u001b[39;00m \u001b[38;5;129;01mnot\u001b[39;00m \u001b[38;5;28;01mNone\u001b[39;00m\n\u001b[0;32m    614\u001b[0m     \u001b[38;5;28;01mreturn\u001b[39;00m\n\u001b[1;32m--> 616\u001b[0m handle, feature_names, feature_types \u001b[38;5;241m=\u001b[39m \u001b[43mdispatch_data_backend\u001b[49m\u001b[43m(\u001b[49m\n\u001b[0;32m    617\u001b[0m \u001b[43m    \u001b[49m\u001b[43mdata\u001b[49m\u001b[43m,\u001b[49m\n\u001b[0;32m    618\u001b[0m \u001b[43m    \u001b[49m\u001b[43mmissing\u001b[49m\u001b[38;5;241;43m=\u001b[39;49m\u001b[38;5;28;43mself\u001b[39;49m\u001b[38;5;241;43m.\u001b[39;49m\u001b[43mmissing\u001b[49m\u001b[43m,\u001b[49m\n\u001b[0;32m    619\u001b[0m \u001b[43m    \u001b[49m\u001b[43mthreads\u001b[49m\u001b[38;5;241;43m=\u001b[39;49m\u001b[38;5;28;43mself\u001b[39;49m\u001b[38;5;241;43m.\u001b[39;49m\u001b[43mnthread\u001b[49m\u001b[43m,\u001b[49m\n\u001b[0;32m    620\u001b[0m \u001b[43m    \u001b[49m\u001b[43mfeature_names\u001b[49m\u001b[38;5;241;43m=\u001b[39;49m\u001b[43mfeature_names\u001b[49m\u001b[43m,\u001b[49m\n\u001b[0;32m    621\u001b[0m \u001b[43m    \u001b[49m\u001b[43mfeature_types\u001b[49m\u001b[38;5;241;43m=\u001b[39;49m\u001b[43mfeature_types\u001b[49m\u001b[43m,\u001b[49m\n\u001b[0;32m    622\u001b[0m \u001b[43m    \u001b[49m\u001b[43menable_categorical\u001b[49m\u001b[38;5;241;43m=\u001b[39;49m\u001b[43menable_categorical\u001b[49m\u001b[43m,\u001b[49m\n\u001b[0;32m    623\u001b[0m \u001b[43m\u001b[49m\u001b[43m)\u001b[49m\n\u001b[0;32m    624\u001b[0m \u001b[38;5;28;01massert\u001b[39;00m handle \u001b[38;5;129;01mis\u001b[39;00m \u001b[38;5;129;01mnot\u001b[39;00m \u001b[38;5;28;01mNone\u001b[39;00m\n\u001b[0;32m    625\u001b[0m \u001b[38;5;28mself\u001b[39m\u001b[38;5;241m.\u001b[39mhandle \u001b[38;5;241m=\u001b[39m handle\n",
      "File \u001b[1;32m~\\anaconda3\\lib\\site-packages\\xgboost\\data.py:772\u001b[0m, in \u001b[0;36mdispatch_data_backend\u001b[1;34m(data, missing, threads, feature_names, feature_types, enable_categorical)\u001b[0m\n\u001b[0;32m    770\u001b[0m     \u001b[38;5;28;01mreturn\u001b[39;00m _from_tuple(data, missing, threads, feature_names, feature_types)\n\u001b[0;32m    771\u001b[0m \u001b[38;5;28;01mif\u001b[39;00m _is_pandas_df(data):\n\u001b[1;32m--> 772\u001b[0m     \u001b[38;5;28;01mreturn\u001b[39;00m \u001b[43m_from_pandas_df\u001b[49m\u001b[43m(\u001b[49m\u001b[43mdata\u001b[49m\u001b[43m,\u001b[49m\u001b[43m \u001b[49m\u001b[43menable_categorical\u001b[49m\u001b[43m,\u001b[49m\u001b[43m \u001b[49m\u001b[43mmissing\u001b[49m\u001b[43m,\u001b[49m\u001b[43m \u001b[49m\u001b[43mthreads\u001b[49m\u001b[43m,\u001b[49m\n\u001b[0;32m    773\u001b[0m \u001b[43m                           \u001b[49m\u001b[43mfeature_names\u001b[49m\u001b[43m,\u001b[49m\u001b[43m \u001b[49m\u001b[43mfeature_types\u001b[49m\u001b[43m)\u001b[49m\n\u001b[0;32m    774\u001b[0m \u001b[38;5;28;01mif\u001b[39;00m _is_pandas_series(data):\n\u001b[0;32m    775\u001b[0m     \u001b[38;5;28;01mreturn\u001b[39;00m _from_pandas_series(\n\u001b[0;32m    776\u001b[0m         data, missing, threads, enable_categorical, feature_names, feature_types\n\u001b[0;32m    777\u001b[0m     )\n",
      "File \u001b[1;32m~\\anaconda3\\lib\\site-packages\\xgboost\\data.py:312\u001b[0m, in \u001b[0;36m_from_pandas_df\u001b[1;34m(data, enable_categorical, missing, nthread, feature_names, feature_types)\u001b[0m\n\u001b[0;32m    304\u001b[0m \u001b[38;5;28;01mdef\u001b[39;00m \u001b[38;5;21m_from_pandas_df\u001b[39m(\n\u001b[0;32m    305\u001b[0m     data: DataFrame,\n\u001b[0;32m    306\u001b[0m     enable_categorical: \u001b[38;5;28mbool\u001b[39m,\n\u001b[1;32m   (...)\u001b[0m\n\u001b[0;32m    310\u001b[0m     feature_types: Optional[List[\u001b[38;5;28mstr\u001b[39m]],\n\u001b[0;32m    311\u001b[0m ):\n\u001b[1;32m--> 312\u001b[0m     data, feature_names, feature_types \u001b[38;5;241m=\u001b[39m \u001b[43m_transform_pandas_df\u001b[49m\u001b[43m(\u001b[49m\n\u001b[0;32m    313\u001b[0m \u001b[43m        \u001b[49m\u001b[43mdata\u001b[49m\u001b[43m,\u001b[49m\u001b[43m \u001b[49m\u001b[43menable_categorical\u001b[49m\u001b[43m,\u001b[49m\u001b[43m \u001b[49m\u001b[43mfeature_names\u001b[49m\u001b[43m,\u001b[49m\u001b[43m \u001b[49m\u001b[43mfeature_types\u001b[49m\u001b[43m)\u001b[49m\n\u001b[0;32m    314\u001b[0m     \u001b[38;5;28;01mreturn\u001b[39;00m _from_numpy_array(data, missing, nthread, feature_names,\n\u001b[0;32m    315\u001b[0m                              feature_types)\n",
      "File \u001b[1;32m~\\anaconda3\\lib\\site-packages\\xgboost\\data.py:262\u001b[0m, in \u001b[0;36m_transform_pandas_df\u001b[1;34m(data, enable_categorical, feature_names, feature_types, meta, meta_type)\u001b[0m\n\u001b[0;32m    260\u001b[0m \u001b[38;5;28;01mif\u001b[39;00m \u001b[38;5;28misinstance\u001b[39m(data\u001b[38;5;241m.\u001b[39mcolumns, pd\u001b[38;5;241m.\u001b[39mMultiIndex):\n\u001b[0;32m    261\u001b[0m     feature_names \u001b[38;5;241m=\u001b[39m [\u001b[38;5;124m\"\u001b[39m\u001b[38;5;124m \u001b[39m\u001b[38;5;124m\"\u001b[39m\u001b[38;5;241m.\u001b[39mjoin([\u001b[38;5;28mstr\u001b[39m(x) \u001b[38;5;28;01mfor\u001b[39;00m x \u001b[38;5;129;01min\u001b[39;00m i]) \u001b[38;5;28;01mfor\u001b[39;00m i \u001b[38;5;129;01min\u001b[39;00m data\u001b[38;5;241m.\u001b[39mcolumns]\n\u001b[1;32m--> 262\u001b[0m \u001b[38;5;28;01melif\u001b[39;00m \u001b[38;5;28misinstance\u001b[39m(data\u001b[38;5;241m.\u001b[39mcolumns, (\u001b[43mpd\u001b[49m\u001b[38;5;241;43m.\u001b[39;49m\u001b[43mInt64Index\u001b[49m, pd\u001b[38;5;241m.\u001b[39mRangeIndex)):\n\u001b[0;32m    263\u001b[0m     feature_names \u001b[38;5;241m=\u001b[39m \u001b[38;5;28mlist\u001b[39m(\u001b[38;5;28mmap\u001b[39m(\u001b[38;5;28mstr\u001b[39m, data\u001b[38;5;241m.\u001b[39mcolumns))\n\u001b[0;32m    264\u001b[0m \u001b[38;5;28;01melse\u001b[39;00m:\n",
      "\u001b[1;31mAttributeError\u001b[0m: module 'pandas' has no attribute 'Int64Index'"
     ]
    }
   ],
   "source": [
    "xgb.fit(X_train,y_train)"
   ]
  },
  {
   "cell_type": "code",
   "execution_count": null,
   "metadata": {
    "id": "GbEPEhja0N1b"
   },
   "outputs": [],
   "source": [
    "pred = xgb.predict(X_test)"
   ]
  },
  {
   "cell_type": "code",
   "execution_count": null,
   "metadata": {
    "id": "fjkZh0EO0rzy"
   },
   "outputs": [],
   "source": [
    "print(classification_report(y_test,pred))"
   ]
  },
  {
   "cell_type": "code",
   "execution_count": null,
   "metadata": {
    "id": "hsAjkX8t0vEd"
   },
   "outputs": [],
   "source": []
  }
 ],
 "metadata": {
  "colab": {
   "provenance": []
  },
  "kernelspec": {
   "display_name": "Python 3 (ipykernel)",
   "language": "python",
   "name": "python3"
  },
  "language_info": {
   "codemirror_mode": {
    "name": "ipython",
    "version": 3
   },
   "file_extension": ".py",
   "mimetype": "text/x-python",
   "name": "python",
   "nbconvert_exporter": "python",
   "pygments_lexer": "ipython3",
   "version": "3.9.15"
  },
  "widgets": {
   "application/vnd.jupyter.widget-state+json": {
    "1978b5eba4d34f499b64b9e4343b67e9": {
     "model_module": "@jupyter-widgets/base",
     "model_module_version": "1.2.0",
     "model_name": "LayoutModel",
     "state": {
      "_model_module": "@jupyter-widgets/base",
      "_model_module_version": "1.2.0",
      "_model_name": "LayoutModel",
      "_view_count": null,
      "_view_module": "@jupyter-widgets/base",
      "_view_module_version": "1.2.0",
      "_view_name": "LayoutView",
      "align_content": null,
      "align_items": null,
      "align_self": null,
      "border": null,
      "bottom": null,
      "display": null,
      "flex": null,
      "flex_flow": null,
      "grid_area": null,
      "grid_auto_columns": null,
      "grid_auto_flow": null,
      "grid_auto_rows": null,
      "grid_column": null,
      "grid_gap": null,
      "grid_row": null,
      "grid_template_areas": null,
      "grid_template_columns": null,
      "grid_template_rows": null,
      "height": null,
      "justify_content": null,
      "justify_items": null,
      "left": null,
      "margin": null,
      "max_height": null,
      "max_width": null,
      "min_height": null,
      "min_width": null,
      "object_fit": null,
      "object_position": null,
      "order": null,
      "overflow": null,
      "overflow_x": null,
      "overflow_y": null,
      "padding": null,
      "right": null,
      "top": null,
      "visibility": null,
      "width": null
     }
    },
    "1f22c0ab26fe44fa9b19645adaf09856": {
     "model_module": "@jupyter-widgets/controls",
     "model_module_version": "1.5.0",
     "model_name": "HTMLModel",
     "state": {
      "_dom_classes": [],
      "_model_module": "@jupyter-widgets/controls",
      "_model_module_version": "1.5.0",
      "_model_name": "HTMLModel",
      "_view_count": null,
      "_view_module": "@jupyter-widgets/controls",
      "_view_module_version": "1.5.0",
      "_view_name": "HTMLView",
      "description": "",
      "description_tooltip": null,
      "layout": "IPY_MODEL_1978b5eba4d34f499b64b9e4343b67e9",
      "placeholder": "​",
      "style": "IPY_MODEL_a11d6be617234dcdb59c98c7f7b929fb",
      "value": "100%"
     }
    },
    "23ad4174122a4225acd6e6c5d69c75b7": {
     "model_module": "@jupyter-widgets/controls",
     "model_module_version": "1.5.0",
     "model_name": "FloatProgressModel",
     "state": {
      "_dom_classes": [],
      "_model_module": "@jupyter-widgets/controls",
      "_model_module_version": "1.5.0",
      "_model_name": "FloatProgressModel",
      "_view_count": null,
      "_view_module": "@jupyter-widgets/controls",
      "_view_module_version": "1.5.0",
      "_view_name": "ProgressView",
      "bar_style": "success",
      "description": "",
      "description_tooltip": null,
      "layout": "IPY_MODEL_6e82086258ee4e4b9455bb8e1f9e3d85",
      "max": 255271,
      "min": 0,
      "orientation": "horizontal",
      "style": "IPY_MODEL_df1065bf8f1a4c7482fbdf770e7ed840",
      "value": 255271
     }
    },
    "282fb4f2d73f4f6fa787b668f646c0ba": {
     "model_module": "@jupyter-widgets/controls",
     "model_module_version": "1.5.0",
     "model_name": "ProgressStyleModel",
     "state": {
      "_model_module": "@jupyter-widgets/controls",
      "_model_module_version": "1.5.0",
      "_model_name": "ProgressStyleModel",
      "_view_count": null,
      "_view_module": "@jupyter-widgets/base",
      "_view_module_version": "1.2.0",
      "_view_name": "StyleView",
      "bar_color": null,
      "description_width": ""
     }
    },
    "2ce4c12f410c495e88e04bf0339ee915": {
     "model_module": "@jupyter-widgets/controls",
     "model_module_version": "1.5.0",
     "model_name": "HBoxModel",
     "state": {
      "_dom_classes": [],
      "_model_module": "@jupyter-widgets/controls",
      "_model_module_version": "1.5.0",
      "_model_name": "HBoxModel",
      "_view_count": null,
      "_view_module": "@jupyter-widgets/controls",
      "_view_module_version": "1.5.0",
      "_view_name": "HBoxView",
      "box_style": "",
      "children": [
       "IPY_MODEL_1f22c0ab26fe44fa9b19645adaf09856",
       "IPY_MODEL_fa6fad93a1534149978ef626fce4ff88",
       "IPY_MODEL_9b0f3f31302b4825b79c9bf2091220ab"
      ],
      "layout": "IPY_MODEL_dfd1a5b84e9446cc927ba17b290c1020"
     }
    },
    "384d56a70b444af78924c06b6c3a9bf1": {
     "model_module": "@jupyter-widgets/controls",
     "model_module_version": "1.5.0",
     "model_name": "DescriptionStyleModel",
     "state": {
      "_model_module": "@jupyter-widgets/controls",
      "_model_module_version": "1.5.0",
      "_model_name": "DescriptionStyleModel",
      "_view_count": null,
      "_view_module": "@jupyter-widgets/base",
      "_view_module_version": "1.2.0",
      "_view_name": "StyleView",
      "description_width": ""
     }
    },
    "40d145cc79084635bd13e76d2ccf5cfb": {
     "model_module": "@jupyter-widgets/base",
     "model_module_version": "1.2.0",
     "model_name": "LayoutModel",
     "state": {
      "_model_module": "@jupyter-widgets/base",
      "_model_module_version": "1.2.0",
      "_model_name": "LayoutModel",
      "_view_count": null,
      "_view_module": "@jupyter-widgets/base",
      "_view_module_version": "1.2.0",
      "_view_name": "LayoutView",
      "align_content": null,
      "align_items": null,
      "align_self": null,
      "border": null,
      "bottom": null,
      "display": null,
      "flex": null,
      "flex_flow": null,
      "grid_area": null,
      "grid_auto_columns": null,
      "grid_auto_flow": null,
      "grid_auto_rows": null,
      "grid_column": null,
      "grid_gap": null,
      "grid_row": null,
      "grid_template_areas": null,
      "grid_template_columns": null,
      "grid_template_rows": null,
      "height": null,
      "justify_content": null,
      "justify_items": null,
      "left": null,
      "margin": null,
      "max_height": null,
      "max_width": null,
      "min_height": null,
      "min_width": null,
      "object_fit": null,
      "object_position": null,
      "order": null,
      "overflow": null,
      "overflow_x": null,
      "overflow_y": null,
      "padding": null,
      "right": null,
      "top": null,
      "visibility": null,
      "width": null
     }
    },
    "5a850105ab41488fb00beb0c19a103b1": {
     "model_module": "@jupyter-widgets/base",
     "model_module_version": "1.2.0",
     "model_name": "LayoutModel",
     "state": {
      "_model_module": "@jupyter-widgets/base",
      "_model_module_version": "1.2.0",
      "_model_name": "LayoutModel",
      "_view_count": null,
      "_view_module": "@jupyter-widgets/base",
      "_view_module_version": "1.2.0",
      "_view_name": "LayoutView",
      "align_content": null,
      "align_items": null,
      "align_self": null,
      "border": null,
      "bottom": null,
      "display": null,
      "flex": null,
      "flex_flow": null,
      "grid_area": null,
      "grid_auto_columns": null,
      "grid_auto_flow": null,
      "grid_auto_rows": null,
      "grid_column": null,
      "grid_gap": null,
      "grid_row": null,
      "grid_template_areas": null,
      "grid_template_columns": null,
      "grid_template_rows": null,
      "height": null,
      "justify_content": null,
      "justify_items": null,
      "left": null,
      "margin": null,
      "max_height": null,
      "max_width": null,
      "min_height": null,
      "min_width": null,
      "object_fit": null,
      "object_position": null,
      "order": null,
      "overflow": null,
      "overflow_x": null,
      "overflow_y": null,
      "padding": null,
      "right": null,
      "top": null,
      "visibility": null,
      "width": null
     }
    },
    "6e82086258ee4e4b9455bb8e1f9e3d85": {
     "model_module": "@jupyter-widgets/base",
     "model_module_version": "1.2.0",
     "model_name": "LayoutModel",
     "state": {
      "_model_module": "@jupyter-widgets/base",
      "_model_module_version": "1.2.0",
      "_model_name": "LayoutModel",
      "_view_count": null,
      "_view_module": "@jupyter-widgets/base",
      "_view_module_version": "1.2.0",
      "_view_name": "LayoutView",
      "align_content": null,
      "align_items": null,
      "align_self": null,
      "border": null,
      "bottom": null,
      "display": null,
      "flex": null,
      "flex_flow": null,
      "grid_area": null,
      "grid_auto_columns": null,
      "grid_auto_flow": null,
      "grid_auto_rows": null,
      "grid_column": null,
      "grid_gap": null,
      "grid_row": null,
      "grid_template_areas": null,
      "grid_template_columns": null,
      "grid_template_rows": null,
      "height": null,
      "justify_content": null,
      "justify_items": null,
      "left": null,
      "margin": null,
      "max_height": null,
      "max_width": null,
      "min_height": null,
      "min_width": null,
      "object_fit": null,
      "object_position": null,
      "order": null,
      "overflow": null,
      "overflow_x": null,
      "overflow_y": null,
      "padding": null,
      "right": null,
      "top": null,
      "visibility": null,
      "width": null
     }
    },
    "71cb32087be74619ad51471e9e3fd277": {
     "model_module": "@jupyter-widgets/base",
     "model_module_version": "1.2.0",
     "model_name": "LayoutModel",
     "state": {
      "_model_module": "@jupyter-widgets/base",
      "_model_module_version": "1.2.0",
      "_model_name": "LayoutModel",
      "_view_count": null,
      "_view_module": "@jupyter-widgets/base",
      "_view_module_version": "1.2.0",
      "_view_name": "LayoutView",
      "align_content": null,
      "align_items": null,
      "align_self": null,
      "border": null,
      "bottom": null,
      "display": null,
      "flex": null,
      "flex_flow": null,
      "grid_area": null,
      "grid_auto_columns": null,
      "grid_auto_flow": null,
      "grid_auto_rows": null,
      "grid_column": null,
      "grid_gap": null,
      "grid_row": null,
      "grid_template_areas": null,
      "grid_template_columns": null,
      "grid_template_rows": null,
      "height": null,
      "justify_content": null,
      "justify_items": null,
      "left": null,
      "margin": null,
      "max_height": null,
      "max_width": null,
      "min_height": null,
      "min_width": null,
      "object_fit": null,
      "object_position": null,
      "order": null,
      "overflow": null,
      "overflow_x": null,
      "overflow_y": null,
      "padding": null,
      "right": null,
      "top": null,
      "visibility": null,
      "width": null
     }
    },
    "9b0f3f31302b4825b79c9bf2091220ab": {
     "model_module": "@jupyter-widgets/controls",
     "model_module_version": "1.5.0",
     "model_name": "HTMLModel",
     "state": {
      "_dom_classes": [],
      "_model_module": "@jupyter-widgets/controls",
      "_model_module_version": "1.5.0",
      "_model_name": "HTMLModel",
      "_view_count": null,
      "_view_module": "@jupyter-widgets/controls",
      "_view_module_version": "1.5.0",
      "_view_name": "HTMLView",
      "description": "",
      "description_tooltip": null,
      "layout": "IPY_MODEL_a155269c0111401cb68f5f4ae6ab4bdb",
      "placeholder": "​",
      "style": "IPY_MODEL_ab86e9ec3efe437885a267c8562ad25b",
      "value": " 85091/85091 [00:00&lt;00:00, 569504.14it/s]"
     }
    },
    "a11d6be617234dcdb59c98c7f7b929fb": {
     "model_module": "@jupyter-widgets/controls",
     "model_module_version": "1.5.0",
     "model_name": "DescriptionStyleModel",
     "state": {
      "_model_module": "@jupyter-widgets/controls",
      "_model_module_version": "1.5.0",
      "_model_name": "DescriptionStyleModel",
      "_view_count": null,
      "_view_module": "@jupyter-widgets/base",
      "_view_module_version": "1.2.0",
      "_view_name": "StyleView",
      "description_width": ""
     }
    },
    "a155269c0111401cb68f5f4ae6ab4bdb": {
     "model_module": "@jupyter-widgets/base",
     "model_module_version": "1.2.0",
     "model_name": "LayoutModel",
     "state": {
      "_model_module": "@jupyter-widgets/base",
      "_model_module_version": "1.2.0",
      "_model_name": "LayoutModel",
      "_view_count": null,
      "_view_module": "@jupyter-widgets/base",
      "_view_module_version": "1.2.0",
      "_view_name": "LayoutView",
      "align_content": null,
      "align_items": null,
      "align_self": null,
      "border": null,
      "bottom": null,
      "display": null,
      "flex": null,
      "flex_flow": null,
      "grid_area": null,
      "grid_auto_columns": null,
      "grid_auto_flow": null,
      "grid_auto_rows": null,
      "grid_column": null,
      "grid_gap": null,
      "grid_row": null,
      "grid_template_areas": null,
      "grid_template_columns": null,
      "grid_template_rows": null,
      "height": null,
      "justify_content": null,
      "justify_items": null,
      "left": null,
      "margin": null,
      "max_height": null,
      "max_width": null,
      "min_height": null,
      "min_width": null,
      "object_fit": null,
      "object_position": null,
      "order": null,
      "overflow": null,
      "overflow_x": null,
      "overflow_y": null,
      "padding": null,
      "right": null,
      "top": null,
      "visibility": null,
      "width": null
     }
    },
    "ab86e9ec3efe437885a267c8562ad25b": {
     "model_module": "@jupyter-widgets/controls",
     "model_module_version": "1.5.0",
     "model_name": "DescriptionStyleModel",
     "state": {
      "_model_module": "@jupyter-widgets/controls",
      "_model_module_version": "1.5.0",
      "_model_name": "DescriptionStyleModel",
      "_view_count": null,
      "_view_module": "@jupyter-widgets/base",
      "_view_module_version": "1.2.0",
      "_view_name": "StyleView",
      "description_width": ""
     }
    },
    "c701f7873c27441ea4738b939f2cc8b3": {
     "model_module": "@jupyter-widgets/controls",
     "model_module_version": "1.5.0",
     "model_name": "HTMLModel",
     "state": {
      "_dom_classes": [],
      "_model_module": "@jupyter-widgets/controls",
      "_model_module_version": "1.5.0",
      "_model_name": "HTMLModel",
      "_view_count": null,
      "_view_module": "@jupyter-widgets/controls",
      "_view_module_version": "1.5.0",
      "_view_name": "HTMLView",
      "description": "",
      "description_tooltip": null,
      "layout": "IPY_MODEL_71cb32087be74619ad51471e9e3fd277",
      "placeholder": "​",
      "style": "IPY_MODEL_dc3af632a0a4495a9b96e468eb500317",
      "value": "100%"
     }
    },
    "d5ccba30fdf241d4926cfaccc0a1dc92": {
     "model_module": "@jupyter-widgets/controls",
     "model_module_version": "1.5.0",
     "model_name": "HBoxModel",
     "state": {
      "_dom_classes": [],
      "_model_module": "@jupyter-widgets/controls",
      "_model_module_version": "1.5.0",
      "_model_name": "HBoxModel",
      "_view_count": null,
      "_view_module": "@jupyter-widgets/controls",
      "_view_module_version": "1.5.0",
      "_view_name": "HBoxView",
      "box_style": "",
      "children": [
       "IPY_MODEL_c701f7873c27441ea4738b939f2cc8b3",
       "IPY_MODEL_23ad4174122a4225acd6e6c5d69c75b7",
       "IPY_MODEL_f81589704c824768858f7aaba58a9594"
      ],
      "layout": "IPY_MODEL_40d145cc79084635bd13e76d2ccf5cfb"
     }
    },
    "dc3af632a0a4495a9b96e468eb500317": {
     "model_module": "@jupyter-widgets/controls",
     "model_module_version": "1.5.0",
     "model_name": "DescriptionStyleModel",
     "state": {
      "_model_module": "@jupyter-widgets/controls",
      "_model_module_version": "1.5.0",
      "_model_name": "DescriptionStyleModel",
      "_view_count": null,
      "_view_module": "@jupyter-widgets/base",
      "_view_module_version": "1.2.0",
      "_view_name": "StyleView",
      "description_width": ""
     }
    },
    "df1065bf8f1a4c7482fbdf770e7ed840": {
     "model_module": "@jupyter-widgets/controls",
     "model_module_version": "1.5.0",
     "model_name": "ProgressStyleModel",
     "state": {
      "_model_module": "@jupyter-widgets/controls",
      "_model_module_version": "1.5.0",
      "_model_name": "ProgressStyleModel",
      "_view_count": null,
      "_view_module": "@jupyter-widgets/base",
      "_view_module_version": "1.2.0",
      "_view_name": "StyleView",
      "bar_color": null,
      "description_width": ""
     }
    },
    "dfd1a5b84e9446cc927ba17b290c1020": {
     "model_module": "@jupyter-widgets/base",
     "model_module_version": "1.2.0",
     "model_name": "LayoutModel",
     "state": {
      "_model_module": "@jupyter-widgets/base",
      "_model_module_version": "1.2.0",
      "_model_name": "LayoutModel",
      "_view_count": null,
      "_view_module": "@jupyter-widgets/base",
      "_view_module_version": "1.2.0",
      "_view_name": "LayoutView",
      "align_content": null,
      "align_items": null,
      "align_self": null,
      "border": null,
      "bottom": null,
      "display": null,
      "flex": null,
      "flex_flow": null,
      "grid_area": null,
      "grid_auto_columns": null,
      "grid_auto_flow": null,
      "grid_auto_rows": null,
      "grid_column": null,
      "grid_gap": null,
      "grid_row": null,
      "grid_template_areas": null,
      "grid_template_columns": null,
      "grid_template_rows": null,
      "height": null,
      "justify_content": null,
      "justify_items": null,
      "left": null,
      "margin": null,
      "max_height": null,
      "max_width": null,
      "min_height": null,
      "min_width": null,
      "object_fit": null,
      "object_position": null,
      "order": null,
      "overflow": null,
      "overflow_x": null,
      "overflow_y": null,
      "padding": null,
      "right": null,
      "top": null,
      "visibility": null,
      "width": null
     }
    },
    "f0ce535c1cf84055b21c302fcbe54672": {
     "model_module": "@jupyter-widgets/base",
     "model_module_version": "1.2.0",
     "model_name": "LayoutModel",
     "state": {
      "_model_module": "@jupyter-widgets/base",
      "_model_module_version": "1.2.0",
      "_model_name": "LayoutModel",
      "_view_count": null,
      "_view_module": "@jupyter-widgets/base",
      "_view_module_version": "1.2.0",
      "_view_name": "LayoutView",
      "align_content": null,
      "align_items": null,
      "align_self": null,
      "border": null,
      "bottom": null,
      "display": null,
      "flex": null,
      "flex_flow": null,
      "grid_area": null,
      "grid_auto_columns": null,
      "grid_auto_flow": null,
      "grid_auto_rows": null,
      "grid_column": null,
      "grid_gap": null,
      "grid_row": null,
      "grid_template_areas": null,
      "grid_template_columns": null,
      "grid_template_rows": null,
      "height": null,
      "justify_content": null,
      "justify_items": null,
      "left": null,
      "margin": null,
      "max_height": null,
      "max_width": null,
      "min_height": null,
      "min_width": null,
      "object_fit": null,
      "object_position": null,
      "order": null,
      "overflow": null,
      "overflow_x": null,
      "overflow_y": null,
      "padding": null,
      "right": null,
      "top": null,
      "visibility": null,
      "width": null
     }
    },
    "f81589704c824768858f7aaba58a9594": {
     "model_module": "@jupyter-widgets/controls",
     "model_module_version": "1.5.0",
     "model_name": "HTMLModel",
     "state": {
      "_dom_classes": [],
      "_model_module": "@jupyter-widgets/controls",
      "_model_module_version": "1.5.0",
      "_model_name": "HTMLModel",
      "_view_count": null,
      "_view_module": "@jupyter-widgets/controls",
      "_view_module_version": "1.5.0",
      "_view_name": "HTMLView",
      "description": "",
      "description_tooltip": null,
      "layout": "IPY_MODEL_f0ce535c1cf84055b21c302fcbe54672",
      "placeholder": "​",
      "style": "IPY_MODEL_384d56a70b444af78924c06b6c3a9bf1",
      "value": " 255271/255271 [00:00&lt;00:00, 1075606.51it/s]"
     }
    },
    "fa6fad93a1534149978ef626fce4ff88": {
     "model_module": "@jupyter-widgets/controls",
     "model_module_version": "1.5.0",
     "model_name": "FloatProgressModel",
     "state": {
      "_dom_classes": [],
      "_model_module": "@jupyter-widgets/controls",
      "_model_module_version": "1.5.0",
      "_model_name": "FloatProgressModel",
      "_view_count": null,
      "_view_module": "@jupyter-widgets/controls",
      "_view_module_version": "1.5.0",
      "_view_name": "ProgressView",
      "bar_style": "success",
      "description": "",
      "description_tooltip": null,
      "layout": "IPY_MODEL_5a850105ab41488fb00beb0c19a103b1",
      "max": 85091,
      "min": 0,
      "orientation": "horizontal",
      "style": "IPY_MODEL_282fb4f2d73f4f6fa787b668f646c0ba",
      "value": 85091
     }
    }
   }
  }
 },
 "nbformat": 4,
 "nbformat_minor": 1
}
