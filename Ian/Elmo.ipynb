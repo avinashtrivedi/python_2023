{
 "cells": [
  {
   "cell_type": "code",
   "execution_count": 18,
   "id": "e57a7681",
   "metadata": {},
   "outputs": [
    {
     "name": "stdout",
     "output_type": "stream",
     "text": [
      "INFO:tensorflow:Saver not created because there are no variables in the graph to restore\n"
     ]
    },
    {
     "name": "stderr",
     "output_type": "stream",
     "text": [
      "INFO:tensorflow:Saver not created because there are no variables in the graph to restore\n"
     ]
    },
    {
     "name": "stdout",
     "output_type": "stream",
     "text": [
      "Word embeddings for word WATCH in first sentence\n",
      "[ 0.14079624 -0.15788522 -0.00950468 ...  0.43006006 -0.5288708\n",
      "  0.06327872]\n",
      "Word embeddings for word WATCH in second sentence\n",
      "[-0.08213362  0.01050329 -0.01454149 ...  0.48705408 -0.54457945\n",
      "  0.5262398 ]\n"
     ]
    }
   ],
   "source": [
    "# import necessary libraries\n",
    "import tensorflow_hub as hub\n",
    "import tensorflow.compat.v1 as tf\n",
    "tf.disable_eager_execution()\n",
    "\n",
    "# Load pre trained ELMo model\n",
    "elmo = hub.Module(\"https://tfhub.dev/google/elmo/3\", trainable=True)\n",
    "\n",
    "# create an instance of ELMo\n",
    "embeddings = elmo(\n",
    "\t[\n",
    "\t\t\"I love to watch TV\",\n",
    "\t\t\"I am wearing a wrist watch\",\n",
    "        \"I am wearing a wrist watch and enjoying with my future wife\"\n",
    "\t],\n",
    "\tsignature=\"default\",\n",
    "\tas_dict=True)[\"elmo\"]\n",
    "init = tf.initialize_all_variables()\n",
    "sess = tf.Session()\n",
    "sess.run(init)\n",
    "\n",
    "# Print word embeddings for word WATCH in given two sentences\n",
    "print('Word embeddings for word WATCH in first sentence')\n",
    "print(sess.run(embeddings[0][3]))\n",
    "print('Word embeddings for word WATCH in second sentence')\n",
    "print(sess.run(embeddings[1][5]))\n"
   ]
  },
  {
   "cell_type": "code",
   "execution_count": 19,
   "id": "6346f0a5",
   "metadata": {},
   "outputs": [],
   "source": [
    "embed = sess.run(embeddings)"
   ]
  },
  {
   "cell_type": "code",
   "execution_count": 20,
   "id": "3efc031f",
   "metadata": {},
   "outputs": [
    {
     "data": {
      "text/plain": [
       "(12, 1024)"
      ]
     },
     "execution_count": 20,
     "metadata": {},
     "output_type": "execute_result"
    }
   ],
   "source": [
    "embed[0].shape"
   ]
  },
  {
   "cell_type": "code",
   "execution_count": 21,
   "id": "46d768c5",
   "metadata": {},
   "outputs": [
    {
     "data": {
      "text/plain": [
       "(12, 1024)"
      ]
     },
     "execution_count": 21,
     "metadata": {},
     "output_type": "execute_result"
    }
   ],
   "source": [
    "embed[1].shape"
   ]
  },
  {
   "cell_type": "code",
   "execution_count": 22,
   "id": "ea13f47a",
   "metadata": {},
   "outputs": [
    {
     "data": {
      "text/plain": [
       "(3, 12, 1024)"
      ]
     },
     "execution_count": 22,
     "metadata": {},
     "output_type": "execute_result"
    }
   ],
   "source": [
    "embed.shape"
   ]
  },
  {
   "cell_type": "code",
   "execution_count": null,
   "id": "79bc90a5",
   "metadata": {},
   "outputs": [],
   "source": []
  },
  {
   "cell_type": "code",
   "execution_count": 25,
   "id": "a35d8b8e",
   "metadata": {},
   "outputs": [
    {
     "data": {
      "text/plain": [
       "(1024,)"
      ]
     },
     "execution_count": 25,
     "metadata": {},
     "output_type": "execute_result"
    }
   ],
   "source": [
    "embed[1][0].shape"
   ]
  },
  {
   "cell_type": "code",
   "execution_count": null,
   "id": "2e2ca0e9",
   "metadata": {},
   "outputs": [],
   "source": []
  }
 ],
 "metadata": {
  "kernelspec": {
   "display_name": "Python 3 (ipykernel)",
   "language": "python",
   "name": "python3"
  },
  "language_info": {
   "codemirror_mode": {
    "name": "ipython",
    "version": 3
   },
   "file_extension": ".py",
   "mimetype": "text/x-python",
   "name": "python",
   "nbconvert_exporter": "python",
   "pygments_lexer": "ipython3",
   "version": "3.9.15"
  }
 },
 "nbformat": 4,
 "nbformat_minor": 5
}
