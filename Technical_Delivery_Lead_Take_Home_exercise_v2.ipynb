{
 "cells": [
  {
   "cell_type": "markdown",
   "metadata": {
    "id": "HHvXPvBj2pWv"
   },
   "source": [
    "# Overstory Technical Delivery Lead Take-Home Exercise\n",
    "\n",
    "As a Technical Delivery Lead you will be working with customer data a lot. Customer data frequently has problems and discrepancies in it. To make sure that we ingest only correct data, we have written a set of functions to validate the data before importing it into our system.\n",
    "\n",
    "In this exercise we have provided you with two such functions: `validate_client_lines()` and `validate_client_poles()`. We also provide you with a lines file and a poles file, such as you might have received from a customer. These represent electrical infrastructure pylons/poles (\"poles\") and the \"lines\" or spans/cables between them. Currently both validation functions are failing.\n",
    "\n",
    "We would like you to:\n",
    "\n",
    "1) Write code to fix the data so that the validation functions pass\n",
    "\n",
    "2) Compute some statistics on the validated data, namely:\n",
    "\n",
    "*   Total length (in feet) of all single-phase and total length (in feet) of all three-phase spans\n",
    "*   Total number of spans grouped by `phasingType`\n",
    "\n",
    "3) Visualise the data so that you could discuss the customer's infrastructure network with a colleague outside the tech team.\n",
    "\n",
    "Please explain your working as you would in a notebook that a colleague might need to use in the future.\n",
    "\n",
    "Please save a copy of this notebook or download it as ipynb before starting.  Add all your code under **The exercise** section. When you're done, zip your final notebook and any other relevant files and upload it using the link provided to you in an email.\n"
   ]
  },
  {
   "cell_type": "markdown",
   "metadata": {
    "id": "nUCUUa_vqVwf"
   },
   "source": [
    "# Setup dependencies"
   ]
  },
  {
   "cell_type": "code",
   "execution_count": 2,
   "metadata": {
    "colab": {
     "base_uri": "https://localhost:8080/"
    },
    "id": "AjbCK3wyp_qf",
    "outputId": "55b2b811-87b8-4967-f11e-5d3fa1675ca1"
   },
   "outputs": [
    {
     "name": "stderr",
     "output_type": "stream",
     "text": [
      "WARNING: Ignoring invalid distribution -atplotlib (c:\\users\\avitr\\anaconda3\\lib\\site-packages)\n",
      "WARNING: Ignoring invalid distribution -rotobuf (c:\\users\\avitr\\anaconda3\\lib\\site-packages)\n",
      "WARNING: Error parsing requirements for pyyaml: [Errno 2] No such file or directory: 'c:\\\\users\\\\avitr\\\\anaconda3\\\\lib\\\\site-packages\\\\PyYAML-5.4.1.dist-info\\\\METADATA'\n",
      "WARNING: Ignoring invalid distribution -atplotlib (c:\\users\\avitr\\anaconda3\\lib\\site-packages)\n",
      "WARNING: Ignoring invalid distribution -rotobuf (c:\\users\\avitr\\anaconda3\\lib\\site-packages)\n"
     ]
    }
   ],
   "source": [
    "# Install dependencies\n",
    "!pip install -q pandera geopandas"
   ]
  },
  {
   "cell_type": "code",
   "execution_count": 3,
   "metadata": {
    "id": "b_maqbzjrUK9"
   },
   "outputs": [],
   "source": [
    "import logging\n",
    "from typing import Union, Optional\n",
    "\n",
    "import geopandas as gpd\n",
    "import pandas as pd\n",
    "import pandera as pa\n",
    "from pandera import Field, SchemaModel, check, dataframe_check\n",
    "from pandera.typing import Series\n"
   ]
  },
  {
   "cell_type": "code",
   "execution_count": 4,
   "metadata": {
    "id": "39RVfIbCr2Kp"
   },
   "outputs": [],
   "source": [
    "logger = logging.getLogger(__name__)"
   ]
  },
  {
   "cell_type": "markdown",
   "metadata": {
    "id": "i1QFHDJrqpza"
   },
   "source": [
    "# Dataset schemas"
   ]
  },
  {
   "cell_type": "code",
   "execution_count": 5,
   "metadata": {
    "id": "0cJNWfgTqtbD"
   },
   "outputs": [],
   "source": [
    "class ClientLines(SchemaModel):\n",
    "    \"\"\"\n",
    "    Client Lines dataset\n",
    "    \"\"\"\n",
    "\n",
    "    geometry: Series[gpd.array.GeometryDtype]\n",
    "    level3: Series[str] = Field(unique=True, description=\"Unique line ID\")\n",
    "    level1: Optional[Series[str]] = Field(nullable=True)\n",
    "    level2: Optional[Series[str]] = Field(nullable=True)\n",
    "    phasingType: Optional[Series[str]] = Field(\n",
    "        isin=[\"single-phase\", \"two-phase\", \"three-phase\"], nullable=True\n",
    "    )\n",
    "\n",
    "    class Config:\n",
    "        name = \"Client lines\"\n",
    "        description = \"Cleaned client lines dataset\"\n",
    "        unique_column_names = True\n",
    "\n",
    "    @check(\"geometry\", name=\"geometry_is_valid\")\n",
    "    def geometry_is_valid(cls, geom: Series[gpd.array.GeometryDtype]) -> Series[bool]:\n",
    "        return geom.is_valid\n",
    "\n",
    "    @check(\"geometry\", name=\"geometry_is_linestring\")\n",
    "    def geometry_is_linestring(\n",
    "        cls, geom: Series[gpd.array.GeometryDtype]\n",
    "    ) -> Series[bool]:\n",
    "        return geom.geom_type == \"LineString\"\n",
    "\n",
    "    @dataframe_check\n",
    "    def dataframe_in_utm(cls, gdf: gpd.GeoDataFrame) -> Series[bool]:\n",
    "        \"\"\"Ensure dataframe CRS is in UTM\"\"\"\n",
    "        return gdf.estimate_utm_crs() == gdf.crs\n"
   ]
  },
  {
   "cell_type": "code",
   "execution_count": 6,
   "metadata": {
    "id": "V8gWyDr2q3wU"
   },
   "outputs": [],
   "source": [
    "class ClientPoles(SchemaModel):\n",
    "    \"\"\"\n",
    "    Client Poles dataset\n",
    "    \"\"\"\n",
    "\n",
    "    geometry: Series[gpd.array.GeometryDtype]\n",
    "    poleID: Series[str] = Field(unique=True, nullable=True)\n",
    "    level1: Optional[Series[str]]\n",
    "    level2: Optional[Series[str]] = Field(nullable=True)\n",
    "    heightInFt: Optional[Series[float]] = Field(\n",
    "        ge=0,\n",
    "        le=500,\n",
    "        description=\"Height of pole in feet\",\n",
    "        nullable=True,\n",
    "    )\n",
    "\n",
    "    class Config:\n",
    "        name = \"Client poles\"\n",
    "        description = \"Cleaned client poles dataset\"\n",
    "        unique_column_names = True\n",
    "\n",
    "    @check(\"geometry\", name=\"geometry_is_point\")\n",
    "    def geometry_is_point(cls, geom: Series[gpd.array.GeometryDtype]) -> Series[bool]:\n",
    "        return geom.geom_type == \"Point\"\n",
    "\n",
    "    @dataframe_check\n",
    "    def dataframe_in_utm(cls, df: pd.DataFrame):\n",
    "        \"\"\"Ensure dataframe CRS is in UTM\"\"\"\n",
    "        if isinstance(df, gpd.GeoDataFrame):\n",
    "            return df.estimate_utm_crs() == df.crs\n",
    "        return True\n"
   ]
  },
  {
   "cell_type": "markdown",
   "metadata": {
    "id": "RrESD6F8rCTE"
   },
   "source": [
    "# Validation functions"
   ]
  },
  {
   "cell_type": "code",
   "execution_count": 7,
   "metadata": {
    "id": "9XF87N_TrGIU"
   },
   "outputs": [],
   "source": [
    "MIN_LINE_LENGTH_IN_M = 2  # Default minimum span length\n",
    "\n",
    "def validate(gdf: gpd.GeoDataFrame, schema):\n",
    "    try:\n",
    "        return schema.validate(gdf, lazy=True)\n",
    "    except pa.errors.SchemaErrors as err:\n",
    "        logger.error(err.failure_cases)\n",
    "\n",
    "def validate_client_poles(gdf: gpd.GeoDataFrame):\n",
    "    try:\n",
    "        gdf['heightInFt'] = gdf['heightInFt'].astype('float64')\n",
    "        return ClientPoles.validate(gdf, lazy=True)\n",
    "    except pa.errors.SchemaErrors as err:\n",
    "        logger.error(err.failure_cases)\n",
    "        assert False, \"Validation failed.\"\n",
    "\n",
    "\n",
    "def validate_client_lines(\n",
    "    gdf: gpd.GeoDataFrame, min_line_length_in_m: float = MIN_LINE_LENGTH_IN_M\n",
    "):\n",
    "\n",
    "    for col in gdf:\n",
    "        gdf = gdf[gdf[col]!= 'N/A']\n",
    "\n",
    "    try:\n",
    "      geometry_column = pa.Column(\n",
    "          gpd.array.GeometryDtype,\n",
    "          name=\"geometry\",\n",
    "          checks=pa.Check(\n",
    "              lambda x: x.length > min_line_length_in_m,\n",
    "              error=\"Line should meet minimum line length.\",\n",
    "              name=\"geometry_min_length\",\n",
    "          ),\n",
    "      )\n",
    "      geometry_column.validate(gdf, lazy=True)\n",
    "      return ClientLines.validate(gdf, lazy=True)\n",
    "    except pa.errors.SchemaErrors as err:\n",
    "      logger.error(err.failure_cases)\n",
    "      assert False, \"Validation failed.\""
   ]
  },
  {
   "cell_type": "markdown",
   "metadata": {
    "id": "lZgNCLmRsUSY"
   },
   "source": [
    "# The exercise\n",
    "(Note the file URLs were updated March 7th 2023, but the file content and exercise remains the same)"
   ]
  },
  {
   "cell_type": "code",
   "execution_count": 8,
   "metadata": {
    "colab": {
     "base_uri": "https://localhost:8080/",
     "height": 649
    },
    "id": "7kLAFSdDr0Tl",
    "outputId": "3c9e9d67-0e6a-46fa-f9df-ed3d9563a058"
   },
   "outputs": [
    {
     "name": "stdout",
     "output_type": "stream",
     "text": [
      "  level1    level2 level3  phasingType  pointA  pointB  lineHeightInFt  \\\n",
      "0   AOI2  East12th  EA100          N/A     206   402.0              35   \n",
      "1   AOI2  East12th  EA101  three-phase     206   207.0              35   \n",
      "2   AOI2  East12th  EA102  three-phase     207   209.0              35   \n",
      "3   AOI2  East12th  EA103  three-phase     209   211.0              35   \n",
      "4   AOI2  East12th  EA104  three-phase     211   213.0              35   \n",
      "\n",
      "                                            geometry  \n",
      "0  LINESTRING (505131.847 4398320.697, 505188.789...  \n",
      "1  LINESTRING (505188.789 4398319.902, 505229.010...  \n",
      "2  LINESTRING (505229.010 4398319.412, 505229.638...  \n",
      "3  LINESTRING (505229.638 4398265.080, 505229.506...  \n",
      "4  LINESTRING (505229.506 4398235.136, 505229.746...  \n"
     ]
    },
    {
     "data": {
      "text/html": [
       "<div>\n",
       "<style scoped>\n",
       "    .dataframe tbody tr th:only-of-type {\n",
       "        vertical-align: middle;\n",
       "    }\n",
       "\n",
       "    .dataframe tbody tr th {\n",
       "        vertical-align: top;\n",
       "    }\n",
       "\n",
       "    .dataframe thead th {\n",
       "        text-align: right;\n",
       "    }\n",
       "</style>\n",
       "<table border=\"1\" class=\"dataframe\">\n",
       "  <thead>\n",
       "    <tr style=\"text-align: right;\">\n",
       "      <th></th>\n",
       "      <th>level1</th>\n",
       "      <th>level2</th>\n",
       "      <th>level3</th>\n",
       "      <th>phasingType</th>\n",
       "      <th>pointA</th>\n",
       "      <th>pointB</th>\n",
       "      <th>lineHeightInFt</th>\n",
       "      <th>geometry</th>\n",
       "    </tr>\n",
       "  </thead>\n",
       "  <tbody>\n",
       "    <tr>\n",
       "      <th>1</th>\n",
       "      <td>AOI2</td>\n",
       "      <td>East12th</td>\n",
       "      <td>EA101</td>\n",
       "      <td>three-phase</td>\n",
       "      <td>206</td>\n",
       "      <td>207.0</td>\n",
       "      <td>35</td>\n",
       "      <td>LINESTRING (505188.789 4398319.902, 505229.010...</td>\n",
       "    </tr>\n",
       "    <tr>\n",
       "      <th>2</th>\n",
       "      <td>AOI2</td>\n",
       "      <td>East12th</td>\n",
       "      <td>EA102</td>\n",
       "      <td>three-phase</td>\n",
       "      <td>207</td>\n",
       "      <td>209.0</td>\n",
       "      <td>35</td>\n",
       "      <td>LINESTRING (505229.010 4398319.412, 505229.638...</td>\n",
       "    </tr>\n",
       "    <tr>\n",
       "      <th>3</th>\n",
       "      <td>AOI2</td>\n",
       "      <td>East12th</td>\n",
       "      <td>EA103</td>\n",
       "      <td>three-phase</td>\n",
       "      <td>209</td>\n",
       "      <td>211.0</td>\n",
       "      <td>35</td>\n",
       "      <td>LINESTRING (505229.638 4398265.080, 505229.506...</td>\n",
       "    </tr>\n",
       "    <tr>\n",
       "      <th>4</th>\n",
       "      <td>AOI2</td>\n",
       "      <td>East12th</td>\n",
       "      <td>EA104</td>\n",
       "      <td>three-phase</td>\n",
       "      <td>211</td>\n",
       "      <td>213.0</td>\n",
       "      <td>35</td>\n",
       "      <td>LINESTRING (505229.506 4398235.136, 505229.746...</td>\n",
       "    </tr>\n",
       "    <tr>\n",
       "      <th>5</th>\n",
       "      <td>AOI2</td>\n",
       "      <td>East12th</td>\n",
       "      <td>EA105</td>\n",
       "      <td>three-phase</td>\n",
       "      <td>213</td>\n",
       "      <td>406.0</td>\n",
       "      <td>35</td>\n",
       "      <td>LINESTRING (505229.746 4398199.608, 505229.932...</td>\n",
       "    </tr>\n",
       "    <tr>\n",
       "      <th>...</th>\n",
       "      <td>...</td>\n",
       "      <td>...</td>\n",
       "      <td>...</td>\n",
       "      <td>...</td>\n",
       "      <td>...</td>\n",
       "      <td>...</td>\n",
       "      <td>...</td>\n",
       "      <td>...</td>\n",
       "    </tr>\n",
       "    <tr>\n",
       "      <th>266</th>\n",
       "      <td>AOI2</td>\n",
       "      <td>Elm</td>\n",
       "      <td>E63</td>\n",
       "      <td>single-phase</td>\n",
       "      <td>64</td>\n",
       "      <td>65.0</td>\n",
       "      <td>35</td>\n",
       "      <td>LINESTRING (506204.459 4400170.652, 506206.135...</td>\n",
       "    </tr>\n",
       "    <tr>\n",
       "      <th>267</th>\n",
       "      <td>AOI2</td>\n",
       "      <td>Elm</td>\n",
       "      <td>E64</td>\n",
       "      <td>single-phase</td>\n",
       "      <td>65</td>\n",
       "      <td>66.0</td>\n",
       "      <td>35</td>\n",
       "      <td>LINESTRING (506206.135 4400139.905, 506205.529...</td>\n",
       "    </tr>\n",
       "    <tr>\n",
       "      <th>268</th>\n",
       "      <td>AOI2</td>\n",
       "      <td>Elm</td>\n",
       "      <td>E65</td>\n",
       "      <td>single-phase</td>\n",
       "      <td>66</td>\n",
       "      <td>67.0</td>\n",
       "      <td>35</td>\n",
       "      <td>LINESTRING (506205.529 4400103.968, 506205.298...</td>\n",
       "    </tr>\n",
       "    <tr>\n",
       "      <th>269</th>\n",
       "      <td>AOI2</td>\n",
       "      <td>Elm</td>\n",
       "      <td>E66</td>\n",
       "      <td>single-phase</td>\n",
       "      <td>67</td>\n",
       "      <td>68.0</td>\n",
       "      <td>35</td>\n",
       "      <td>LINESTRING (506205.298 4400075.244, 506204.820...</td>\n",
       "    </tr>\n",
       "    <tr>\n",
       "      <th>270</th>\n",
       "      <td>AOI2</td>\n",
       "      <td>Congress</td>\n",
       "      <td>C100</td>\n",
       "      <td>three-phase</td>\n",
       "      <td>391</td>\n",
       "      <td>105.0</td>\n",
       "      <td>35</td>\n",
       "      <td>LINESTRING (503192.560 4397686.919, 503220.441...</td>\n",
       "    </tr>\n",
       "  </tbody>\n",
       "</table>\n",
       "<p>270 rows × 8 columns</p>\n",
       "</div>"
      ],
      "text/plain": [
       "    level1    level2 level3   phasingType  pointA  pointB  lineHeightInFt  \\\n",
       "1     AOI2  East12th  EA101   three-phase     206   207.0              35   \n",
       "2     AOI2  East12th  EA102   three-phase     207   209.0              35   \n",
       "3     AOI2  East12th  EA103   three-phase     209   211.0              35   \n",
       "4     AOI2  East12th  EA104   three-phase     211   213.0              35   \n",
       "5     AOI2  East12th  EA105   three-phase     213   406.0              35   \n",
       "..     ...       ...    ...           ...     ...     ...             ...   \n",
       "266   AOI2       Elm    E63  single-phase      64    65.0              35   \n",
       "267   AOI2       Elm    E64  single-phase      65    66.0              35   \n",
       "268   AOI2       Elm    E65  single-phase      66    67.0              35   \n",
       "269   AOI2       Elm    E66  single-phase      67    68.0              35   \n",
       "270   AOI2  Congress   C100   three-phase     391   105.0              35   \n",
       "\n",
       "                                              geometry  \n",
       "1    LINESTRING (505188.789 4398319.902, 505229.010...  \n",
       "2    LINESTRING (505229.010 4398319.412, 505229.638...  \n",
       "3    LINESTRING (505229.638 4398265.080, 505229.506...  \n",
       "4    LINESTRING (505229.506 4398235.136, 505229.746...  \n",
       "5    LINESTRING (505229.746 4398199.608, 505229.932...  \n",
       "..                                                 ...  \n",
       "266  LINESTRING (506204.459 4400170.652, 506206.135...  \n",
       "267  LINESTRING (506206.135 4400139.905, 506205.529...  \n",
       "268  LINESTRING (506205.529 4400103.968, 506205.298...  \n",
       "269  LINESTRING (506205.298 4400075.244, 506204.820...  \n",
       "270  LINESTRING (503192.560 4397686.919, 503220.441...  \n",
       "\n",
       "[270 rows x 8 columns]"
      ]
     },
     "execution_count": 8,
     "metadata": {},
     "output_type": "execute_result"
    }
   ],
   "source": [
    "lines = gpd.read_file('https://storage.googleapis.com/overstory-customer-test/take_home_exercise/demo_lines.geojson',\n",
    "\n",
    "                      )\n",
    "print(lines.head())\n",
    "\n",
    "validate_client_lines(lines)"
   ]
  },
  {
   "cell_type": "code",
   "execution_count": 10,
   "metadata": {
    "colab": {
     "base_uri": "https://localhost:8080/",
     "height": 423
    },
    "id": "J4aCnXOdsurH",
    "outputId": "3bfc0ce8-7762-4920-c56d-dc03232234ba"
   },
   "outputs": [
    {
     "data": {
      "text/html": [
       "<div>\n",
       "<style scoped>\n",
       "    .dataframe tbody tr th:only-of-type {\n",
       "        vertical-align: middle;\n",
       "    }\n",
       "\n",
       "    .dataframe tbody tr th {\n",
       "        vertical-align: top;\n",
       "    }\n",
       "\n",
       "    .dataframe thead th {\n",
       "        text-align: right;\n",
       "    }\n",
       "</style>\n",
       "<table border=\"1\" class=\"dataframe\">\n",
       "  <thead>\n",
       "    <tr style=\"text-align: right;\">\n",
       "      <th></th>\n",
       "      <th>level1</th>\n",
       "      <th>heightInFt</th>\n",
       "      <th>poleID</th>\n",
       "      <th>geometry</th>\n",
       "    </tr>\n",
       "  </thead>\n",
       "  <tbody>\n",
       "    <tr>\n",
       "      <th>0</th>\n",
       "      <td>AOI2</td>\n",
       "      <td>35.0</td>\n",
       "      <td>00001</td>\n",
       "      <td>POINT (506059.544 4400335.804)</td>\n",
       "    </tr>\n",
       "    <tr>\n",
       "      <th>1</th>\n",
       "      <td>AOI2</td>\n",
       "      <td>35.0</td>\n",
       "      <td>00002</td>\n",
       "      <td>POINT (506106.465 4400335.842)</td>\n",
       "    </tr>\n",
       "    <tr>\n",
       "      <th>2</th>\n",
       "      <td>AOI2</td>\n",
       "      <td>35.0</td>\n",
       "      <td>00003</td>\n",
       "      <td>POINT (506160.698 4400335.642)</td>\n",
       "    </tr>\n",
       "    <tr>\n",
       "      <th>3</th>\n",
       "      <td>AOI2</td>\n",
       "      <td>35.0</td>\n",
       "      <td>00004</td>\n",
       "      <td>POINT (506205.816 4400337.059)</td>\n",
       "    </tr>\n",
       "    <tr>\n",
       "      <th>4</th>\n",
       "      <td>AOI2</td>\n",
       "      <td>35.0</td>\n",
       "      <td>00005</td>\n",
       "      <td>POINT (506261.851 4400336.553)</td>\n",
       "    </tr>\n",
       "    <tr>\n",
       "      <th>...</th>\n",
       "      <td>...</td>\n",
       "      <td>...</td>\n",
       "      <td>...</td>\n",
       "      <td>...</td>\n",
       "    </tr>\n",
       "    <tr>\n",
       "      <th>271</th>\n",
       "      <td>AOI2</td>\n",
       "      <td>35.0</td>\n",
       "      <td>00409</td>\n",
       "      <td>POINT (505718.950 4398905.436)</td>\n",
       "    </tr>\n",
       "    <tr>\n",
       "      <th>272</th>\n",
       "      <td>AOI2</td>\n",
       "      <td>35.0</td>\n",
       "      <td>00410</td>\n",
       "      <td>POINT (506113.903 4398890.557)</td>\n",
       "    </tr>\n",
       "    <tr>\n",
       "      <th>273</th>\n",
       "      <td>AOI2</td>\n",
       "      <td>35.0</td>\n",
       "      <td>00411</td>\n",
       "      <td>POINT (506212.631 4398889.235)</td>\n",
       "    </tr>\n",
       "    <tr>\n",
       "      <th>274</th>\n",
       "      <td>AOI2</td>\n",
       "      <td>35.0</td>\n",
       "      <td>00412</td>\n",
       "      <td>POINT (506611.235 4398691.823)</td>\n",
       "    </tr>\n",
       "    <tr>\n",
       "      <th>275</th>\n",
       "      <td>AOI2</td>\n",
       "      <td>35.0</td>\n",
       "      <td>00413</td>\n",
       "      <td>POINT (507056.282 4398552.535)</td>\n",
       "    </tr>\n",
       "  </tbody>\n",
       "</table>\n",
       "<p>276 rows × 4 columns</p>\n",
       "</div>"
      ],
      "text/plain": [
       "    level1  heightInFt poleID                        geometry\n",
       "0     AOI2        35.0  00001  POINT (506059.544 4400335.804)\n",
       "1     AOI2        35.0  00002  POINT (506106.465 4400335.842)\n",
       "2     AOI2        35.0  00003  POINT (506160.698 4400335.642)\n",
       "3     AOI2        35.0  00004  POINT (506205.816 4400337.059)\n",
       "4     AOI2        35.0  00005  POINT (506261.851 4400336.553)\n",
       "..     ...         ...    ...                             ...\n",
       "271   AOI2        35.0  00409  POINT (505718.950 4398905.436)\n",
       "272   AOI2        35.0  00410  POINT (506113.903 4398890.557)\n",
       "273   AOI2        35.0  00411  POINT (506212.631 4398889.235)\n",
       "274   AOI2        35.0  00412  POINT (506611.235 4398691.823)\n",
       "275   AOI2        35.0  00413  POINT (507056.282 4398552.535)\n",
       "\n",
       "[276 rows x 4 columns]"
      ]
     },
     "execution_count": 10,
     "metadata": {},
     "output_type": "execute_result"
    }
   ],
   "source": [
    "poles = gpd.read_file('https://storage.googleapis.com/overstory-customer-test/take_home_exercise/demo_poles.geojson')\n",
    "\n",
    "# Your code goes here\n",
    "\n",
    "validate_client_poles(poles)"
   ]
  },
  {
   "cell_type": "code",
   "execution_count": 11,
   "metadata": {
    "id": "t3a5qpdxCkt1"
   },
   "outputs": [],
   "source": [
    "# Statistics and visualisation go here"
   ]
  },
  {
   "cell_type": "code",
   "execution_count": 57,
   "metadata": {},
   "outputs": [],
   "source": [
    "def get_phase(gdf: gpd.GeoDataFrame):\n",
    "    phase_1_3 = gdf[gdf['phasingType'].isin(['single-phase','three-phase'])]\n",
    "    grouped = phase_1_3.groupby('phasingType')['lineHeightInFt'].agg([sum])\n",
    "    grouped.reset_index(inplace=True)\n",
    "    return grouped"
   ]
  },
  {
   "cell_type": "code",
   "execution_count": 58,
   "metadata": {},
   "outputs": [],
   "source": [
    "def get_span(gdf: gpd.GeoDataFrame):\n",
    "    phase_1_3 = gdf[gdf['phasingType'].isin(['single-phase','three-phase'])]\n",
    "    grouped = phase_1_3.groupby('phasingType')[['lineHeightInFt']].count()\n",
    "    grouped.reset_index(inplace=True)\n",
    "    grouped.rename(columns={'lineHeightInFt':'count'},inplace=True)\n",
    "    return grouped"
   ]
  },
  {
   "cell_type": "code",
   "execution_count": 59,
   "metadata": {},
   "outputs": [
    {
     "data": {
      "text/html": [
       "<div>\n",
       "<style scoped>\n",
       "    .dataframe tbody tr th:only-of-type {\n",
       "        vertical-align: middle;\n",
       "    }\n",
       "\n",
       "    .dataframe tbody tr th {\n",
       "        vertical-align: top;\n",
       "    }\n",
       "\n",
       "    .dataframe thead th {\n",
       "        text-align: right;\n",
       "    }\n",
       "</style>\n",
       "<table border=\"1\" class=\"dataframe\">\n",
       "  <thead>\n",
       "    <tr style=\"text-align: right;\">\n",
       "      <th></th>\n",
       "      <th>phasingType</th>\n",
       "      <th>sum</th>\n",
       "    </tr>\n",
       "  </thead>\n",
       "  <tbody>\n",
       "    <tr>\n",
       "      <th>0</th>\n",
       "      <td>single-phase</td>\n",
       "      <td>2555</td>\n",
       "    </tr>\n",
       "    <tr>\n",
       "      <th>1</th>\n",
       "      <td>three-phase</td>\n",
       "      <td>6580</td>\n",
       "    </tr>\n",
       "  </tbody>\n",
       "</table>\n",
       "</div>"
      ],
      "text/plain": [
       "    phasingType   sum\n",
       "0  single-phase  2555\n",
       "1   three-phase  6580"
      ]
     },
     "execution_count": 59,
     "metadata": {},
     "output_type": "execute_result"
    }
   ],
   "source": [
    "get_phase(lines)"
   ]
  },
  {
   "cell_type": "code",
   "execution_count": 60,
   "metadata": {},
   "outputs": [
    {
     "data": {
      "text/html": [
       "<div>\n",
       "<style scoped>\n",
       "    .dataframe tbody tr th:only-of-type {\n",
       "        vertical-align: middle;\n",
       "    }\n",
       "\n",
       "    .dataframe tbody tr th {\n",
       "        vertical-align: top;\n",
       "    }\n",
       "\n",
       "    .dataframe thead th {\n",
       "        text-align: right;\n",
       "    }\n",
       "</style>\n",
       "<table border=\"1\" class=\"dataframe\">\n",
       "  <thead>\n",
       "    <tr style=\"text-align: right;\">\n",
       "      <th></th>\n",
       "      <th>phasingType</th>\n",
       "      <th>count</th>\n",
       "    </tr>\n",
       "  </thead>\n",
       "  <tbody>\n",
       "    <tr>\n",
       "      <th>0</th>\n",
       "      <td>single-phase</td>\n",
       "      <td>73</td>\n",
       "    </tr>\n",
       "    <tr>\n",
       "      <th>1</th>\n",
       "      <td>three-phase</td>\n",
       "      <td>188</td>\n",
       "    </tr>\n",
       "  </tbody>\n",
       "</table>\n",
       "</div>"
      ],
      "text/plain": [
       "    phasingType  count\n",
       "0  single-phase     73\n",
       "1   three-phase    188"
      ]
     },
     "execution_count": 60,
     "metadata": {},
     "output_type": "execute_result"
    }
   ],
   "source": [
    "get_span(lines)"
   ]
  },
  {
   "cell_type": "code",
   "execution_count": 82,
   "metadata": {},
   "outputs": [],
   "source": [
    "import pandas as pd"
   ]
  },
  {
   "cell_type": "code",
   "execution_count": 83,
   "metadata": {},
   "outputs": [],
   "source": [
    "df = pd.DataFrame({'A':[1,2,3,7,8,9],'B':[2,4,7,8,9,11]})"
   ]
  },
  {
   "cell_type": "code",
   "execution_count": 84,
   "metadata": {},
   "outputs": [],
   "source": [
    "df2 = df.copy()"
   ]
  },
  {
   "cell_type": "code",
   "execution_count": 85,
   "metadata": {},
   "outputs": [],
   "source": [
    "x = df['A']\n",
    "y = df2['B']"
   ]
  },
  {
   "cell_type": "code",
   "execution_count": 86,
   "metadata": {},
   "outputs": [
    {
     "data": {
      "text/plain": [
       "0    1\n",
       "1    2\n",
       "2    3\n",
       "3    7\n",
       "4    8\n",
       "5    9\n",
       "Name: A, dtype: int64"
      ]
     },
     "execution_count": 86,
     "metadata": {},
     "output_type": "execute_result"
    }
   ],
   "source": [
    "x"
   ]
  },
  {
   "cell_type": "code",
   "execution_count": 87,
   "metadata": {},
   "outputs": [
    {
     "data": {
      "text/plain": [
       "0     2\n",
       "1     4\n",
       "2     7\n",
       "3     8\n",
       "4     9\n",
       "5    11\n",
       "Name: B, dtype: int64"
      ]
     },
     "execution_count": 87,
     "metadata": {},
     "output_type": "execute_result"
    }
   ],
   "source": [
    "y"
   ]
  },
  {
   "cell_type": "code",
   "execution_count": 88,
   "metadata": {},
   "outputs": [],
   "source": [
    "x = set(x)"
   ]
  },
  {
   "cell_type": "code",
   "execution_count": 89,
   "metadata": {},
   "outputs": [],
   "source": [
    "y = set(y)"
   ]
  },
  {
   "cell_type": "code",
   "execution_count": 90,
   "metadata": {},
   "outputs": [
    {
     "data": {
      "text/plain": [
       "{1, 2, 3, 7, 8, 9}"
      ]
     },
     "execution_count": 90,
     "metadata": {},
     "output_type": "execute_result"
    }
   ],
   "source": [
    "x"
   ]
  },
  {
   "cell_type": "code",
   "execution_count": 91,
   "metadata": {},
   "outputs": [
    {
     "data": {
      "text/plain": [
       "{2, 4, 7, 8, 9, 11}"
      ]
     },
     "execution_count": 91,
     "metadata": {},
     "output_type": "execute_result"
    }
   ],
   "source": [
    "y"
   ]
  },
  {
   "cell_type": "code",
   "execution_count": 93,
   "metadata": {},
   "outputs": [],
   "source": [
    "p = x - y"
   ]
  },
  {
   "cell_type": "code",
   "execution_count": 94,
   "metadata": {},
   "outputs": [],
   "source": [
    "q = y - x"
   ]
  },
  {
   "cell_type": "code",
   "execution_count": 95,
   "metadata": {},
   "outputs": [
    {
     "data": {
      "text/plain": [
       "[1, 3, 11, 4]"
      ]
     },
     "execution_count": 95,
     "metadata": {},
     "output_type": "execute_result"
    }
   ],
   "source": [
    "list(p) + list(q)"
   ]
  },
  {
   "cell_type": "code",
   "execution_count": null,
   "metadata": {},
   "outputs": [],
   "source": []
  },
  {
   "cell_type": "code",
   "execution_count": null,
   "metadata": {},
   "outputs": [],
   "source": []
  }
 ],
 "metadata": {
  "colab": {
   "provenance": []
  },
  "kernelspec": {
   "display_name": "Python 3 (ipykernel)",
   "language": "python",
   "name": "python3"
  },
  "language_info": {
   "codemirror_mode": {
    "name": "ipython",
    "version": 3
   },
   "file_extension": ".py",
   "mimetype": "text/x-python",
   "name": "python",
   "nbconvert_exporter": "python",
   "pygments_lexer": "ipython3",
   "version": "3.9.15"
  }
 },
 "nbformat": 4,
 "nbformat_minor": 1
}
