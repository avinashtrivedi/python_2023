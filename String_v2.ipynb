{
 "cells": [
  {
   "cell_type": "code",
   "execution_count": 3,
   "metadata": {},
   "outputs": [],
   "source": [
    "# 1\n",
    "\n",
    "# run and check the type\n",
    "a = 2.0\n",
    "b = 2.\n",
    "\n",
    "print(type(a))\n",
    "print(type(b))"
   ]
  },
  {
   "cell_type": "code",
   "execution_count": 5,
   "metadata": {},
   "outputs": [],
   "source": [
    "# 2\n",
    "\n",
    "a = 2.0\n",
    "b = 2.\n",
    "\n",
    "print(a==b)"
   ]
  },
  {
   "cell_type": "code",
   "execution_count": 14,
   "metadata": {},
   "outputs": [],
   "source": [
    "# 3\n",
    "\n",
    "a = 2\n",
    "b = 5\n",
    "# print:  Sum of 2 and 5 is  7\n"
   ]
  },
  {
   "cell_type": "code",
   "execution_count": null,
   "metadata": {},
   "outputs": [],
   "source": [
    "# 4\n",
    "\n",
    "x = int(input())\n",
    "y = int(input())\n",
    "\n",
    "# print: -> Sum of X and Y is ..."
   ]
  },
  {
   "cell_type": "code",
   "execution_count": null,
   "metadata": {},
   "outputs": [],
   "source": [
    "# 5\n",
    "x = int(input())\n",
    "y = x**3 + x**2 + x + 1\n",
    "\n",
    "# print:->  value of equation x**3 + x**2 + x + 1 is ...."
   ]
  },
  {
   "cell_type": "code",
   "execution_count": null,
   "metadata": {},
   "outputs": [],
   "source": [
    "# 6\n",
    "s = 'Python'\n",
    "\n",
    "# print 2nd element\n",
    "# print 3rd element\n",
    "# print 2nd last element\n",
    "# print 4th last element\n",
    "# print last element"
   ]
  },
  {
   "cell_type": "code",
   "execution_count": null,
   "metadata": {},
   "outputs": [],
   "source": [
    "# 7\n",
    "\n",
    "s = 'Python'\n",
    "\n",
    "# reverse a string"
   ]
  },
  {
   "cell_type": "code",
   "execution_count": null,
   "metadata": {},
   "outputs": [],
   "source": [
    "# 8\n",
    "\n",
    "s = 'taxable income'\n",
    "\n",
    "# print all characters between index position 3rd to 7th"
   ]
  },
  {
   "cell_type": "code",
   "execution_count": null,
   "metadata": {},
   "outputs": [],
   "source": [
    "# 9\n",
    "\n",
    "s = 'taxable income'\n",
    "\n",
    "# print all characters between index position 7th to last"
   ]
  },
  {
   "cell_type": "code",
   "execution_count": null,
   "metadata": {},
   "outputs": [],
   "source": [
    "# 10\n",
    "\n",
    "s = 'taxable income'\n",
    "\n",
    "# print all characters between from beginning to last\n",
    "\n",
    "# enter the appropriate value for x and y\n",
    "x = \n",
    "y = \n",
    "s[x:y]"
   ]
  },
  {
   "cell_type": "code",
   "execution_count": 9,
   "metadata": {},
   "outputs": [],
   "source": [
    "# 11\n",
    "\n",
    "s = 'madam'\n",
    "\n",
    "# enter the value of t , so that print statement return True\n",
    "t = \n",
    "print(s == s[::t])"
   ]
  },
  {
   "cell_type": "code",
   "execution_count": null,
   "metadata": {},
   "outputs": [],
   "source": [
    "# 12\n",
    "\n",
    "s = 'hello'\n",
    "\n",
    "# guess the output\n",
    "\n",
    "s[::2]"
   ]
  },
  {
   "cell_type": "code",
   "execution_count": null,
   "metadata": {},
   "outputs": [],
   "source": [
    "# 13\n",
    "\n",
    "s = 'hello'\n",
    "\n",
    "# guess the output\n",
    "\n",
    "s[::-2]"
   ]
  },
  {
   "cell_type": "code",
   "execution_count": null,
   "metadata": {},
   "outputs": [],
   "source": [
    "# 14\n",
    "\n",
    "s = 'hello'\n",
    "\n",
    "# guess the output\n",
    "\n",
    "s[::-1]"
   ]
  },
  {
   "cell_type": "code",
   "execution_count": 10,
   "metadata": {},
   "outputs": [],
   "source": [
    "# 15\n",
    "\n",
    "s = 'Hello World'\n",
    "\n",
    "# make all the characters in upper case\n"
   ]
  },
  {
   "cell_type": "code",
   "execution_count": null,
   "metadata": {},
   "outputs": [],
   "source": [
    "# 15\n",
    "\n",
    "s = 'Hello World'\n",
    "\n",
    "# make all the characters in lower case"
   ]
  },
  {
   "cell_type": "code",
   "execution_count": null,
   "metadata": {},
   "outputs": [],
   "source": [
    "# 16\n",
    "\n",
    "s = 'hello world'\n",
    "\n",
    "# make all the characters in title case"
   ]
  },
  {
   "cell_type": "code",
   "execution_count": null,
   "metadata": {},
   "outputs": [],
   "source": [
    "# 17\n",
    "\n",
    "s = 'hello world'\n",
    "\n",
    "# print index of the space character between hello and world"
   ]
  },
  {
   "cell_type": "code",
   "execution_count": null,
   "metadata": {},
   "outputs": [],
   "source": [
    "# 18\n",
    "\n",
    "s = 'hello world'\n",
    "\n",
    "# print index of the w"
   ]
  },
  {
   "cell_type": "code",
   "execution_count": null,
   "metadata": {},
   "outputs": [],
   "source": [
    "# 19\n",
    "\n",
    "s = 'hello world'\n",
    "\n",
    "# print index of last l"
   ]
  },
  {
   "cell_type": "code",
   "execution_count": 13,
   "metadata": {},
   "outputs": [],
   "source": [
    "# 20\n",
    "\n",
    "s = 'hello world'\n",
    "\n",
    "# print index of 2nd l"
   ]
  },
  {
   "cell_type": "code",
   "execution_count": null,
   "metadata": {},
   "outputs": [],
   "source": []
  }
 ],
 "metadata": {
  "kernelspec": {
   "display_name": "Python 3",
   "language": "python",
   "name": "python3"
  },
  "language_info": {
   "codemirror_mode": {
    "name": "ipython",
    "version": 3
   },
   "file_extension": ".py",
   "mimetype": "text/x-python",
   "name": "python",
   "nbconvert_exporter": "python",
   "pygments_lexer": "ipython3",
   "version": "3.8.5"
  }
 },
 "nbformat": 4,
 "nbformat_minor": 4
}
