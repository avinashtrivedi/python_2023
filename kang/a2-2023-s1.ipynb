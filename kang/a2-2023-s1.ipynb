{
 "cells": [
  {
   "cell_type": "markdown",
   "id": "a66d47f4",
   "metadata": {},
   "source": [
    "## Overview:\n",
    "For this assignment, you will work with a provided dataset to train and utilize multiple classifiers to analyze different versions of the dataset. In addition to implementing these classifiers, you will also explore various evaluation paradigms and analyze the impact of multiple parameters on the performance of the classifiers. Finally, you will be expected to answer some conceptual questions based on your observations and analysis.\n",
    "\n",
    "## Data Set:\n",
    "In this assignment, you will work with multiple versions of one dataset called \"Amphibians.\" It is adopted from a famous public dataset, and you can find more details about it <a href= \"https://archive.ics.uci.edu/ml/datasets/Amphibians#\"> here </a>.  The dataset includes information about five groups of amphibians in Poland: \"Green frogs,\" \"Brown frogs,\" \"Common toad,\" \"Tree frog,\" and \"Fire-bellied toad.\" The dataset comprises 14 attributes and one class. Some of these attributes are numeric, some are categorical, and some are ordinal.\n",
    "\n",
    "You can find details about all the features in the dataset in the file \"README.txt\"."
   ]
  },
  {
   "cell_type": "code",
   "execution_count": 1,
   "id": "d2b26164",
   "metadata": {},
   "outputs": [],
   "source": [
    "import pandas as pd\n",
    "import numpy as np\n",
    "import matplotlib.pyplot as plt"
   ]
  },
  {
   "cell_type": "code",
   "execution_count": 2,
   "id": "afa339cc",
   "metadata": {},
   "outputs": [],
   "source": [
    "from sklearn.model_selection import train_test_split\n",
    "from sklearn.dummy import DummyClassifier\n",
    "from sklearn.tree import DecisionTreeClassifier\n",
    "from sklearn.naive_bayes import GaussianNB, MultinomialNB, BernoulliNB\n",
    "from sklearn.neighbors import KNeighborsClassifier\n",
    "from sklearn.metrics import accuracy_score\n",
    "from sklearn.metrics import classification_report"
   ]
  },
  {
   "cell_type": "code",
   "execution_count": 3,
   "id": "4d90b111-3c9f-4b4c-a0a6-413000636fc6",
   "metadata": {},
   "outputs": [],
   "source": [
    "import warnings\n",
    "\n",
    "# ignore future warnings \n",
    "warnings.simplefilter(action='ignore', category=FutureWarning)"
   ]
  },
  {
   "cell_type": "markdown",
   "id": "89a1c496",
   "metadata": {},
   "source": [
    "## Question 1 [5 marks]\n",
    "**Q1.1 A.** Read the dataset \"amphibians1.csv\" dataset into a pandas DataFrame called `data1`. Create a function called `encode` that takes in the features of the dataset as a pandas DataFrame and uses one-hot encoding to convert all nominal (and ordinal) attributes to numeric. You can achieve this by either using `get_dummies()` from the pandas library or `OneHotEncoder()` from the scikit-learn library. **[1 mark]**\n",
    "\n",
    "**B.** For 10 rounds, use `train_test_split` to divide the encoded `data1` into 70% train, 30% test . Set the `random_state` equal to the loop counter. For example in the loop\n",
    "``` python \n",
    "for i in range(10):\n",
    "```\n",
    "make `random_state` equal to `i`. \n",
    "Use the splitted datasets to train and test the following models (use the default hyperparameters): **[1 mark]**\n",
    "- Zero-R\n",
    "- Gaussian Naive Bayes\n",
    "- Multinomial Naive Bayes\n",
    "- Bernoulli Naive Bayes model\n",
    "\n",
    "Report the average accuracy over the 10 runs."
   ]
  },
  {
   "cell_type": "code",
   "execution_count": 4,
   "id": "9c33a9d2",
   "metadata": {},
   "outputs": [],
   "source": [
    "data1 = pd.read_csv(\"amphibians1.csv\")\n",
    "\n",
    "y1 = data1.iloc[:, -1]\n",
    "X1 = data1.iloc[:, :-1]"
   ]
  },
  {
   "cell_type": "code",
   "execution_count": 5,
   "id": "588459ef-a861-4793-8c92-2f57bab4bb10",
   "metadata": {},
   "outputs": [],
   "source": [
    "# preprocessing \n",
    "def encode(X):\n",
    "    # your code here\n",
    "    X  = pd.get_dummies(X)\n",
    "    return X"
   ]
  },
  {
   "cell_type": "code",
   "execution_count": 6,
   "id": "07e3d435-af7a-4bd4-b481-f22b1c7550a2",
   "metadata": {},
   "outputs": [
    {
     "name": "stdout",
     "output_type": "stream",
     "text": [
      "Accuracy of ZeroR: 0.59\n",
      "Accuracy of GNB: 0.42\n",
      "Accuracy of MNB: 0.33\n",
      "Accuracy of BNB: 0.57\n"
     ]
    }
   ],
   "source": [
    "ZeroR_Acc_1 = []\n",
    "GNB_Acc_1 = []\n",
    "MNB_Acc_1 = []\n",
    "BNB_Acc_1 = []\n",
    "\n",
    "# your code here\n",
    "\n",
    "X = encode(X1)\n",
    "\n",
    "for i in range(10):\n",
    "    X_train, X_test, y_train, y_test = train_test_split(X,y1,test_size=0.3,random_state=i)\n",
    "    \n",
    "    ZeroR_clf = DummyClassifier(strategy=\"most_frequent\")\n",
    "    ZeroR_clf.fit(X_train, y_train)\n",
    "    y_pred = ZeroR_clf.predict(X_test)\n",
    "    acc = accuracy_score(y_test, y_pred)\n",
    "    ZeroR_cr = classification_report(y_test, y_pred,zero_division=1)\n",
    "    ZeroR_Acc_1.append(acc)\n",
    "    \n",
    "    GNB_clf = GaussianNB()\n",
    "    GNB_clf.fit(X_train, y_train)\n",
    "    y_pred = GNB_clf.predict(X_test)\n",
    "    acc = accuracy_score(y_test, y_pred)\n",
    "    GNB_cr = classification_report(y_test, y_pred,zero_division=1)\n",
    "    GNB_Acc_1.append(acc)\n",
    "    \n",
    "    MNB_clf = MultinomialNB()\n",
    "    MNB_clf.fit(X_train, y_train)\n",
    "    y_pred = MNB_clf.predict(X_test)\n",
    "    acc = accuracy_score(y_test, y_pred)\n",
    "    MNB_cr = classification_report(y_test, y_pred,zero_division=1)\n",
    "    MNB_Acc_1.append(acc)\n",
    "     \n",
    "    BNB_clf = BernoulliNB()\n",
    "    BNB_clf.fit(X_train, y_train)\n",
    "    y_pred = BNB_clf.predict(X_test)\n",
    "    acc = accuracy_score(y_test, y_pred)\n",
    "    BNB_cr = classification_report(y_test, y_pred,zero_division=1)\n",
    "    BNB_Acc_1.append(acc)\n",
    "    \n",
    "print(\"Accuracy of ZeroR:\", np.mean(ZeroR_Acc_1).round(2))\n",
    "print(\"Accuracy of GNB:\", np.mean(GNB_Acc_1).round(2))\n",
    "print(\"Accuracy of MNB:\", np.mean(MNB_Acc_1).round(2))\n",
    "print(\"Accuracy of BNB:\", np.mean(BNB_Acc_1).round(2))\n"
   ]
  },
  {
   "cell_type": "markdown",
   "id": "b8c394c5",
   "metadata": {},
   "source": [
    "**Q1.2** After comparing the performance of the different models on the classification task, please comment on any differences or lack of differences you observe between the models. **[3 marks]**</br>\n",
    "*NOTE: You may need to compare other performance metrics of these models, such as precision and recall of each class label, to gain a better understanding of their performance. You can use the `classification_report` from `sklearn.metrics` for this matter and check the performance of the classifiers for one round.*"
   ]
  },
  {
   "cell_type": "code",
   "execution_count": 7,
   "id": "c0a2004f",
   "metadata": {},
   "outputs": [
    {
     "name": "stdout",
     "output_type": "stream",
     "text": [
      "ZeroR_cr\n",
      "                    precision    recall  f1-score   support\n",
      "\n",
      "       Brown frog       1.00      0.00      0.00        18\n",
      "      Common toad       1.00      0.00      0.00         2\n",
      "Fire-bellied toad       1.00      0.00      0.00         1\n",
      "       Green frog       0.59      1.00      0.74        32\n",
      "        Tree frog       1.00      0.00      0.00         1\n",
      "\n",
      "         accuracy                           0.59        54\n",
      "        macro avg       0.92      0.20      0.15        54\n",
      "     weighted avg       0.76      0.59      0.44        54\n",
      "\n",
      "GNB_cr\n",
      "                    precision    recall  f1-score   support\n",
      "\n",
      "       Brown frog       0.32      0.33      0.32        18\n",
      "      Common toad       0.12      0.50      0.20         2\n",
      "Fire-bellied toad       0.00      0.00      0.00         1\n",
      "       Green frog       0.75      0.38      0.50        32\n",
      "        Tree frog       0.00      0.00      0.00         1\n",
      "\n",
      "         accuracy                           0.35        54\n",
      "        macro avg       0.24      0.24      0.20        54\n",
      "     weighted avg       0.55      0.35      0.41        54\n",
      "\n",
      "MNB_cr\n",
      "                    precision    recall  f1-score   support\n",
      "\n",
      "       Brown frog       0.67      0.11      0.19        18\n",
      "      Common toad       0.07      1.00      0.13         2\n",
      "Fire-bellied toad       0.00      0.00      0.00         1\n",
      "       Green frog       0.71      0.38      0.49        32\n",
      "        Tree frog       0.00      0.00      0.00         1\n",
      "\n",
      "         accuracy                           0.30        54\n",
      "        macro avg       0.29      0.30      0.16        54\n",
      "     weighted avg       0.64      0.30      0.36        54\n",
      "\n",
      "BNB_cr\n",
      "                    precision    recall  f1-score   support\n",
      "\n",
      "       Brown frog       0.42      0.78      0.55        18\n",
      "      Common toad       1.00      0.00      0.00         2\n",
      "Fire-bellied toad       1.00      0.00      0.00         1\n",
      "       Green frog       0.76      0.50      0.60        32\n",
      "        Tree frog       1.00      0.00      0.00         1\n",
      "\n",
      "         accuracy                           0.56        54\n",
      "        macro avg       0.84      0.26      0.23        54\n",
      "     weighted avg       0.67      0.56      0.54        54\n",
      "\n"
     ]
    }
   ],
   "source": [
    "print('ZeroR_cr\\n',ZeroR_cr)\n",
    "print('GNB_cr\\n',GNB_cr)\n",
    "print('MNB_cr\\n',MNB_cr)\n",
    "print('BNB_cr\\n',BNB_cr)"
   ]
  },
  {
   "cell_type": "markdown",
   "id": "5f3936c2-b548-4825-8028-c5b3f3800b63",
   "metadata": {},
   "source": [
    "*Answer Here*\n",
    "- ZeroR and BernoulliNB is not predicting anything for 3 frog classes, although other two model is not working for just 2 classes\n",
    "- Also, no model is working for Tree and Fire-bellied toad frog classes\n"
   ]
  },
  {
   "cell_type": "markdown",
   "id": "21ec6a7b",
   "metadata": {},
   "source": [
    "## Question 2 [5 marks]\n",
    "\n",
    "**Q2.1.** Divide the `data1` into 70% train and 30% test splits for 10 rounds, set the `random_state` equal to the loop counter. Then, train and test **K-Nearest Neighbor algorithms (with K values of 1, 5, and 20)**, using Euclidean distance as the distance metric and maximum vote (no weighting) to determine the label. Finally, report the average accuracy of the KNN models over the 10 runs. **[1 mark]**"
   ]
  },
  {
   "cell_type": "code",
   "execution_count": 8,
   "id": "1ef637cf",
   "metadata": {},
   "outputs": [
    {
     "name": "stdout",
     "output_type": "stream",
     "text": [
      "Accuracy of KNN(1): 0.59\n",
      "Accuracy of KNN(5): 0.61\n",
      "Accuracy of KNN(20): 0.63\n"
     ]
    }
   ],
   "source": [
    "KNN1_Acc_1 = []\n",
    "KNN5_Acc_1 = []\n",
    "KNN20_Acc_1 = []\n",
    "\n",
    "# your code here\n",
    "\n",
    "for i in range(10):\n",
    "    X_train, X_test, y_train, y_test = train_test_split(X,y1,test_size=0.3,random_state=i)\n",
    "    \n",
    "    knn_clf = KNeighborsClassifier(n_neighbors=1)\n",
    "    knn_clf.fit(X_train, y_train)\n",
    "    y_pred = knn_clf.predict(X_test)\n",
    "    acc = accuracy_score(y_test, y_pred)\n",
    "    KNN1_Acc_1.append(acc)\n",
    "    \n",
    "    knn_clf = KNeighborsClassifier(n_neighbors=5)\n",
    "    knn_clf.fit(X_train, y_train)\n",
    "    y_pred = knn_clf.predict(X_test)\n",
    "    acc = accuracy_score(y_test, y_pred)\n",
    "    KNN5_Acc_1.append(acc)\n",
    "    \n",
    "    knn_clf = KNeighborsClassifier(n_neighbors=20)\n",
    "    knn_clf.fit(X_train, y_train)\n",
    "    y_pred = knn_clf.predict(X_test)\n",
    "    acc = accuracy_score(y_test, y_pred)\n",
    "    KNN20_Acc_1.append(acc)\n",
    "            \n",
    "print(\"Accuracy of KNN(1):\", np.mean(KNN1_Acc_1).round(2))\n",
    "print(\"Accuracy of KNN(5):\", np.mean(KNN5_Acc_1).round(2))\n",
    "print(\"Accuracy of KNN(20):\", np.mean(KNN20_Acc_1).round(2))\n"
   ]
  },
  {
   "cell_type": "markdown",
   "id": "7de4822d",
   "metadata": {},
   "source": [
    "**Q2.2.A.** Create a function called `normalise` that takes the features of the dataset as a pandas DataFrame and scales all numeric attributes to the range of 0-1. You can either use `MinMaxScaler` from the `sklearn.preprocessing` library or implement the normalization step yourself.\n",
    "**B.** For 10 rounds divide the normalised \"data1\" into 70% train and 30% test splits using set the `random_state` equal to the loop counter, and run the KNN models (k=1,5 and 20). Report the average accuracy of your KNN models over these 10 runs. **[1 mark]**"
   ]
  },
  {
   "cell_type": "code",
   "execution_count": 9,
   "id": "ed8e87f9-76bf-44e2-a7bc-305bdcd1616d",
   "metadata": {},
   "outputs": [],
   "source": [
    "from sklearn.preprocessing import MinMaxScaler\n",
    "# preprocessing \n",
    "def normalise(X):\n",
    "    # your code here\n",
    "    sc = MinMaxScaler()\n",
    "    X = sc.fit_transform(X)\n",
    "    return X"
   ]
  },
  {
   "cell_type": "code",
   "execution_count": 10,
   "id": "0859a139",
   "metadata": {},
   "outputs": [
    {
     "name": "stdout",
     "output_type": "stream",
     "text": [
      "Accuracy of KNN(1): 0.56\n",
      "Accuracy of KNN(5): 0.62\n",
      "Accuracy of KNN(20): 0.62\n"
     ]
    }
   ],
   "source": [
    "######################################## POSSIBLE SOLUTION #############################################\n",
    "\n",
    "KNN1_Acc_2 = []\n",
    "KNN5_Acc_2 = []\n",
    "KNN20_Acc_2 = []\n",
    "\n",
    "# your code here\n",
    "\n",
    "X = normalise(X)\n",
    "\n",
    "for i in range(10):\n",
    "    X_train, X_test, y_train, y_test = train_test_split(X,y1,test_size=0.3,random_state=i)\n",
    "    \n",
    "    knn_clf = KNeighborsClassifier(n_neighbors=1)\n",
    "    knn_clf.fit(X_train, y_train)\n",
    "    y_pred = knn_clf.predict(X_test)\n",
    "    acc = accuracy_score(y_test, y_pred)\n",
    "    KNN1_Acc_2.append(acc)\n",
    "    \n",
    "    knn_clf = KNeighborsClassifier(n_neighbors=5)\n",
    "    knn_clf.fit(X_train, y_train)\n",
    "    y_pred = knn_clf.predict(X_test)\n",
    "    acc = accuracy_score(y_test, y_pred)\n",
    "    KNN5_Acc_2.append(acc)\n",
    "    \n",
    "    knn_clf = KNeighborsClassifier(n_neighbors=20)\n",
    "    knn_clf.fit(X_train, y_train)\n",
    "    y_pred = knn_clf.predict(X_test)\n",
    "    acc = accuracy_score(y_test, y_pred)\n",
    "    KNN20_Acc_2.append(acc)\n",
    "\n",
    "\n",
    "print(\"Accuracy of KNN(1):\", np.mean(KNN1_Acc_2).round(2))\n",
    "print(\"Accuracy of KNN(5):\", np.mean(KNN5_Acc_2).round(2))\n",
    "print(\"Accuracy of KNN(20):\", np.mean(KNN20_Acc_2).round(2))\n"
   ]
  },
  {
   "cell_type": "markdown",
   "id": "8357cd59",
   "metadata": {},
   "source": [
    "**Q2.3** Compare the results of the KNN models (for each value of K) in Q2.1 and Q2.2, and discuss any differences you observe. Did the preprocessing step in Q2.2 improve the performance of the KNN models? Why or why not? **[3 marks]**"
   ]
  },
  {
   "cell_type": "markdown",
   "id": "d6dc7597",
   "metadata": {},
   "source": [
    "*Answer Here*\n",
    "\n",
    "- for K=1 and 20, value is getting decreased because those K is not the optimal one, but K=5 is near optimal number of Neighbors (i.e 7 here, as shown using below Elbow method) , therefore its getting increased to 62%\n",
    "- Code for how to get optimal K has been written below using Elbow Method"
   ]
  },
  {
   "cell_type": "code",
   "execution_count": 11,
   "id": "3abeffd0",
   "metadata": {},
   "outputs": [
    {
     "data": {
      "application/vnd.jupyter.widget-view+json": {
       "model_id": "f16a05dc09fa4bec80ea711bec0a87ff",
       "version_major": 2,
       "version_minor": 0
      },
      "text/plain": [
       "  0%|          | 0/18 [00:00<?, ?it/s]"
      ]
     },
     "metadata": {},
     "output_type": "display_data"
    },
    {
     "name": "stdout",
     "output_type": "stream",
     "text": [
      "Minimum error:- 0.35185185185185186 at k= 7\n"
     ]
    },
    {
     "data": {
      "image/png": "[encoded data removed]",
      "text/plain": [
       "<Figure size 700x400 with 1 Axes>"
      ]
     },
     "metadata": {},
     "output_type": "display_data"
    }
   ],
   "source": [
    "error_rate = []\n",
    "\n",
    "from tqdm.notebook import tqdm\n",
    "# perform elbow method to get optimal K\n",
    "# run knn with k=2 to 19\n",
    "for i in tqdm(range(2,20)):\n",
    "    \n",
    "    # build knn\n",
    "    clf = KNeighborsClassifier(n_neighbors=i)\n",
    "    \n",
    "    # fit and predict\n",
    "    clf.fit(X_train,y_train)\n",
    "    y_pred = clf.predict(X_test)\n",
    "    \n",
    "    # compute how many times (in percentage) y_pred is not equal to y_test\n",
    "    error_rate.append(np.mean(y_pred != y_test))\n",
    "\n",
    "# plot the graph\n",
    "plt.figure(figsize=(7,4))\n",
    "plt.plot(range(2,20),error_rate)\n",
    "plt.title('Error Rate vs. K Value')\n",
    "plt.xlabel('K')\n",
    "plt.ylabel('Error Rate')\n",
    "\n",
    "# at what value of k, the error was less\n",
    "# 2 is added since array index starts with 0\n",
    "k_best = np.array(error_rate).argmin()+2\n",
    "\n",
    "print(\"Minimum error:-\",min(error_rate),'at k=',k_best)"
   ]
  },
  {
   "cell_type": "markdown",
   "id": "6533050f",
   "metadata": {},
   "source": [
    "## Question 3 [5 marks]\n",
    "\n",
    "**Q3.1.** Read the \"amphibians2.csv\" into `data2` and  \"amphibians1.csv\" into `data1_2`. Observe any differences in the values of the feature \"SR\" between these two datasets, and explain why you think these changes were made (provide your hypothesis). Use diagrams such a histograms or boxplots to check the distribution of the feature 'SR' before and after the change. **[2 marks]**"
   ]
  },
  {
   "cell_type": "code",
   "execution_count": 12,
   "id": "cf383bfa",
   "metadata": {},
   "outputs": [],
   "source": [
    "data2 = pd.read_csv(\"amphibians2.csv\")\n",
    "data1_2 = pd.read_csv(\"amphibians1.csv\")"
   ]
  },
  {
   "cell_type": "code",
   "execution_count": 13,
   "id": "93740fd5-3ec4-4b50-8d0c-def8367fa0ed",
   "metadata": {},
   "outputs": [
    {
     "data": {
      "image/png": "[encoded data removed]",
      "text/plain": [
       "<Figure size 640x480 with 1 Axes>"
      ]
     },
     "metadata": {},
     "output_type": "display_data"
    }
   ],
   "source": [
    "# your code here\n",
    "plt.boxplot(data1_2['SR'])\n",
    "plt.show()"
   ]
  },
  {
   "cell_type": "code",
   "execution_count": 14,
   "id": "11defcff",
   "metadata": {},
   "outputs": [
    {
     "data": {
      "image/png": "[encoded data removed]",
      "text/plain": [
       "<Figure size 640x480 with 1 Axes>"
      ]
     },
     "metadata": {},
     "output_type": "display_data"
    }
   ],
   "source": [
    "# your code here\n",
    "plt.boxplot(data2['SR'])\n",
    "plt.show()"
   ]
  },
  {
   "cell_type": "markdown",
   "id": "76bfddfd-cc6b-47d7-9d26-a3d699ac5d10",
   "metadata": {},
   "source": [
    "*Answer Here*\n",
    "\n",
    "- In previous data SR data was localized within a certain range i.e more data was within a certain range , though in the data2 it was made like F-distribution so as to get more from this feature to get robust model."
   ]
  },
  {
   "cell_type": "markdown",
   "id": "ec583024",
   "metadata": {},
   "source": [
    "**Q3.2** \n",
    "For 10 rounds plit the `data2` and `data1_2` dataset into 70% training and 30% testing sets use the `random_state` equal to the loop counter. Train and test two **decision tree** classifier with all default hyper-parameters: one with `data1_2` and one with `data2`. Calculate and report the average accuracy of both models for 10 runs. **[1 mark]**"
   ]
  },
  {
   "cell_type": "code",
   "execution_count": 15,
   "id": "fca15dcd",
   "metadata": {},
   "outputs": [],
   "source": [
    "y1_2 = data1_2.iloc[:, -1]\n",
    "X1_2 =  data1_2.iloc[:, :-1]\n",
    "\n",
    "y2 = data2.iloc[:, -1]\n",
    "X2 = data2.iloc[:, :-1]"
   ]
  },
  {
   "cell_type": "code",
   "execution_count": 16,
   "id": "18064b7e-be1e-40ba-9197-100b8c236ce9",
   "metadata": {},
   "outputs": [
    {
     "name": "stdout",
     "output_type": "stream",
     "text": [
      "Accuracy of Decision Tree \tdata1_2: 0.55 \tdata2: 0.53\n"
     ]
    }
   ],
   "source": [
    "DT_Acc_1_2 = []\n",
    "DT_Acc_2 = []\n",
    "\n",
    "# your code here\n",
    "X1_2 = encode(X1_2)\n",
    "X2 = encode(X2)\n",
    "\n",
    "X1_2 = normalise(X1_2)\n",
    "X2 = normalise(X2)\n",
    "\n",
    "for i in range(10):\n",
    "    X_train, X_test, y_train, y_test = train_test_split(X1_2,y1_2,test_size=0.3,random_state=i)\n",
    "    \n",
    "    dt_clf = DecisionTreeClassifier()\n",
    "    dt_clf.fit(X_train, y_train)\n",
    "    y_pred = dt_clf.predict(X_test)\n",
    "    acc = accuracy_score(y_test, y_pred)\n",
    "    dt_cr1 = classification_report(y_test, y_pred,zero_division=1)\n",
    "    DT_Acc_1_2.append(acc)\n",
    "    \n",
    "    X_train, X_test, y_train, y_test = train_test_split(X2,y2,test_size=0.3,random_state=i)\n",
    "    \n",
    "    dt_clf = DecisionTreeClassifier()\n",
    "    dt_clf.fit(X_train, y_train)\n",
    "    y_pred = dt_clf.predict(X_test)\n",
    "    acc = accuracy_score(y_test, y_pred)\n",
    "    dt_cr2 = classification_report(y_test, y_pred,zero_division=1)\n",
    "    DT_Acc_2.append(acc)\n",
    "    \n",
    "\n",
    "print(\"Accuracy of Decision Tree \\tdata1_2:\", np.mean(DT_Acc_1_2).round(2),\"\\tdata2:\", np.mean(DT_Acc_2).round(2))"
   ]
  },
  {
   "cell_type": "markdown",
   "id": "f82dd7fb",
   "metadata": {},
   "source": [
    "**Q3.3** Compare and analyze the performance of the **decision tree** classifier on `data1_2` and `data2`. Discuss any differences or similarities that you observe in the performance of these models. Does the change made to the dataset improve the performance of the model? Explain why or why not and elaborate on your hypothesis from Q3.1. **[2 marks]** </br>*NOTE:  You may need to compare other performance metrics of these models, such as precision and recall of each class label, to gain a better understanding of their performance. You can use the `classification_report` from `sklearn.metrics` for this matter and check the performance of the classifiers for one round.*"
   ]
  },
  {
   "cell_type": "code",
   "execution_count": 17,
   "id": "5cb97964",
   "metadata": {},
   "outputs": [
    {
     "name": "stdout",
     "output_type": "stream",
     "text": [
      "data1\n",
      "                    precision    recall  f1-score   support\n",
      "\n",
      "       Brown frog       0.40      0.44      0.42        18\n",
      "      Common toad       0.20      0.50      0.29         2\n",
      "Fire-bellied toad       0.00      0.00      0.00         1\n",
      "       Green frog       0.59      0.50      0.54        32\n",
      "        Tree frog       0.00      0.00      0.00         1\n",
      "\n",
      "         accuracy                           0.46        54\n",
      "        macro avg       0.24      0.29      0.25        54\n",
      "     weighted avg       0.49      0.46      0.47        54\n",
      "\n",
      "data2\n",
      "                    precision    recall  f1-score   support\n",
      "\n",
      "       Brown frog       0.62      0.42      0.50        19\n",
      "      Common toad       1.00      0.20      0.33         5\n",
      "Fire-bellied toad       0.00      0.00      0.00         1\n",
      "       Green frog       0.59      0.74      0.66        27\n",
      "        Tree frog       0.00      0.00      0.00         1\n",
      "\n",
      "         accuracy                           0.55        53\n",
      "        macro avg       0.44      0.27      0.30        53\n",
      "     weighted avg       0.61      0.55      0.54        53\n",
      "\n"
     ]
    }
   ],
   "source": [
    "print('data1\\n',dt_cr1)\n",
    "print('data2\\n',dt_cr2)"
   ]
  },
  {
   "cell_type": "markdown",
   "id": "8b0e6985",
   "metadata": {},
   "source": [
    "*Answer Here*\n",
    "\n",
    "- i am checking here single classification_report and found that its improving the models performance because of data distribution done in SR for data2, i.e model is not able to fetch more forecasting ability from this SR feature"
   ]
  },
  {
   "cell_type": "markdown",
   "id": "dc2419db",
   "metadata": {},
   "source": [
    "## Question 4\n",
    "\n",
    "**Q4.1** Read the \"amphibians3.csv\" into data3. Use histogram diagrams to compare the distribution of class labels between `data1` and `data3`. Observe the changes on the distribution of the class labels and explain in your own words why you think these changes have been made.**[2 marks]**"
   ]
  },
  {
   "cell_type": "markdown",
   "id": "5132cb78",
   "metadata": {},
   "source": [
    "- Answer:\n",
    "    - The classes were not balanced earlier , which is not balanced, these changes have been made so that model can get trained on equal proportion of data for all those classes"
   ]
  },
  {
   "cell_type": "code",
   "execution_count": 18,
   "id": "8ad0ce1b",
   "metadata": {},
   "outputs": [
    {
     "data": {
      "image/png": "[encoded data removed]",
      "text/plain": [
       "<Figure size 640x480 with 1 Axes>"
      ]
     },
     "metadata": {},
     "output_type": "display_data"
    },
    {
     "data": {
      "image/png": "[encoded data removed]",
      "text/plain": [
       "<Figure size 640x480 with 1 Axes>"
      ]
     },
     "metadata": {},
     "output_type": "display_data"
    }
   ],
   "source": [
    "data3 = pd.read_csv(\"amphibians3.csv\")\n",
    "\n",
    "# your code here\n",
    "\n",
    "plt.hist(data1['frog class'])\n",
    "plt.show()\n",
    "\n",
    "\n",
    "plt.hist(data3['frog class'])\n",
    "plt.show()"
   ]
  },
  {
   "cell_type": "markdown",
   "id": "1f81f752",
   "metadata": {},
   "source": [
    "**Q4.2** Use the same encoding technique as used in Q1.1 to encode the `data3` dataset and apply the same normalization technique as used in Q2.1 to normalise the data. For 10 rounds, split the encoded and normalized data3 into 70% training and 30% testing sets,  set the `random_state` equal to the loop counter. Train and test the following models using `data3`: **[1 mark]**\n",
    "- Zero-R\n",
    "- K-Nearest Neighbour (K = 1, 5 and 20) \n",
    "\n",
    "Calculate the average accuracy of the models for 10 runs and report the results.\n"
   ]
  },
  {
   "cell_type": "code",
   "execution_count": 19,
   "id": "b9e5ba46",
   "metadata": {},
   "outputs": [],
   "source": [
    "y3 = data3.iloc[:, -1]\n",
    "X3 = data3.iloc[:, :-1]"
   ]
  },
  {
   "cell_type": "code",
   "execution_count": 20,
   "id": "5b9fad1b-d2fc-4adc-818b-9cee1c204bc7",
   "metadata": {},
   "outputs": [
    {
     "name": "stdout",
     "output_type": "stream",
     "text": [
      "Accuracy of ZeroR: \tdata1: 0.59 \tdata3: 0.14\n",
      "Accuracy of KNN(1): \tdata1: 0.56 \tdata3: 0.75\n",
      "Accuracy of KNN(5): \tdata1: 0.62 \tdata3: 0.68\n",
      "Accuracy of KNN(20): \tdata1: 0.62 \tdata3: 0.48\n"
     ]
    }
   ],
   "source": [
    "ZeroR_Acc_3 = []\n",
    "KNN1_Acc_3 = []\n",
    "KNN5_Acc_3 = []\n",
    "KNN20_Acc_3 = []\n",
    "\n",
    "# your code here\n",
    "X3 = normalise(X3)\n",
    "X3 = normalise(X3)\n",
    "\n",
    "for i in range(10):\n",
    "    X_train, X_test, y_train, y_test = train_test_split(X3,y3,test_size=0.3,random_state=i)\n",
    "    \n",
    "    ZeroR_clf = DummyClassifier(strategy=\"most_frequent\")\n",
    "    ZeroR_clf.fit(X_train, y_train)\n",
    "    y_pred = ZeroR_clf.predict(X_test)\n",
    "    acc = accuracy_score(y_test, y_pred)\n",
    "    ZeroR_cr = classification_report(y_test, y_pred,zero_division=1)\n",
    "    ZeroR_Acc_3.append(acc)\n",
    "    \n",
    "    knn_clf = KNeighborsClassifier(n_neighbors=1)\n",
    "    knn_clf.fit(X_train, y_train)\n",
    "    y_pred = knn_clf.predict(X_test)\n",
    "    acc = accuracy_score(y_test, y_pred)\n",
    "    KNN1_Acc_3.append(acc)\n",
    "    \n",
    "    knn_clf = KNeighborsClassifier(n_neighbors=5)\n",
    "    knn_clf.fit(X_train, y_train)\n",
    "    y_pred = knn_clf.predict(X_test)\n",
    "    acc = accuracy_score(y_test, y_pred)\n",
    "    KNN5_Acc_3.append(acc)\n",
    "    \n",
    "    knn_clf = KNeighborsClassifier(n_neighbors=20)\n",
    "    knn_clf.fit(X_train, y_train)\n",
    "    y_pred = knn_clf.predict(X_test)\n",
    "    acc = accuracy_score(y_test, y_pred)\n",
    "    KNN20_Acc_3.append(acc)\n",
    "\n",
    "\n",
    "\n",
    "print(\"Accuracy of ZeroR: \\tdata1:\", np.mean(ZeroR_Acc_1).round(2),\"\\tdata3:\",np.mean(ZeroR_Acc_3).round(2))\n",
    "print(\"Accuracy of KNN(1): \\tdata1:\", np.mean(KNN1_Acc_2).round(2),\"\\tdata3:\", np.mean(KNN1_Acc_3).round(2))\n",
    "print(\"Accuracy of KNN(5): \\tdata1:\", np.mean(KNN5_Acc_2).round(2),\"\\tdata3:\", np.mean(KNN5_Acc_3).round(2))\n",
    "print(\"Accuracy of KNN(20): \\tdata1:\", np.mean(KNN20_Acc_2).round(2),\"\\tdata3:\", np.mean(KNN20_Acc_3).round(2))"
   ]
  },
  {
   "cell_type": "markdown",
   "id": "c4249859",
   "metadata": {},
   "source": [
    "**Q4.3** Discuss any differences you observe between the results of these KNN classifiers on data1 (Q2.2) and data3. **[2 marks]** </br>*NOTE:  You may need to compare other performance metrics of these models, such as precision and recall of each class label, to gain a better understanding of their performance. You can use the `classification_report` from `sklearn.metrics` for this matter and check the performance of the classifiers for one round.* "
   ]
  },
  {
   "cell_type": "code",
   "execution_count": 21,
   "id": "247268f1",
   "metadata": {},
   "outputs": [
    {
     "data": {
      "application/vnd.jupyter.widget-view+json": {
       "model_id": "f3842a633ce64c8485a3c7ec1b8e5cb2",
       "version_major": 2,
       "version_minor": 0
      },
      "text/plain": [
       "  0%|          | 0/18 [00:00<?, ?it/s]"
      ]
     },
     "metadata": {},
     "output_type": "display_data"
    },
    {
     "name": "stdout",
     "output_type": "stream",
     "text": [
      "Minimum error:- 0.3333333333333333 at k= 2\n"
     ]
    },
    {
     "data": {
      "image/png": "[encoded data removed]",
      "text/plain": [
       "<Figure size 700x400 with 1 Axes>"
      ]
     },
     "metadata": {},
     "output_type": "display_data"
    }
   ],
   "source": [
    "error_rate = []\n",
    "\n",
    "from tqdm.notebook import tqdm\n",
    "# perform elbow method to get optimal K\n",
    "# run knn with k=2 to 19\n",
    "for i in tqdm(range(2,20)):\n",
    "    \n",
    "    # build knn\n",
    "    clf = KNeighborsClassifier(n_neighbors=i)\n",
    "    \n",
    "    # fit and predict\n",
    "    clf.fit(X_train,y_train)\n",
    "    y_pred = clf.predict(X_test)\n",
    "    \n",
    "    # compute how many times (in percentage) y_pred is not equal to y_test\n",
    "    error_rate.append(np.mean(y_pred != y_test))\n",
    "\n",
    "# plot the graph\n",
    "plt.figure(figsize=(7,4))\n",
    "plt.plot(range(2,20),error_rate)\n",
    "plt.title('Error Rate vs. K Value')\n",
    "plt.xlabel('K')\n",
    "plt.ylabel('Error Rate')\n",
    "\n",
    "# at what value of k, the error was less\n",
    "# 2 is added since array index starts with 0\n",
    "k_best = np.array(error_rate).argmin()+2\n",
    "\n",
    "print(\"Minimum error:-\",min(error_rate),'at k=',k_best)"
   ]
  },
  {
   "cell_type": "markdown",
   "id": "7067969a",
   "metadata": {},
   "source": [
    "*Answer Here*\n",
    "- Using Elbow method we can see K=2 is the best, and we found that at K=1 is the highest jump in accuracy. Its is beacuse 1 is close to 2 compared to 5 and 20\n",
    "- Also data3 was balanced now therefore comparing the model based on their accuracy is more appropriate here."
   ]
  }
 ],
 "metadata": {
  "kernelspec": {
   "display_name": "Python 3 (ipykernel)",
   "language": "python",
   "name": "python3"
  },
  "language_info": {
   "codemirror_mode": {
    "name": "ipython",
    "version": 3
   },
   "file_extension": ".py",
   "mimetype": "text/x-python",
   "name": "python",
   "nbconvert_exporter": "python",
   "pygments_lexer": "ipython3",
   "version": "3.9.15"
  }
 },
 "nbformat": 4,
 "nbformat_minor": 5
}
