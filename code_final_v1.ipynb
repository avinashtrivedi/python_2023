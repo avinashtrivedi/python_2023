{
 "cells": [
  {
   "cell_type": "code",
   "execution_count": 20,
   "id": "a40ea9c0",
   "metadata": {},
   "outputs": [],
   "source": [
    "import new_code_correct_v1 as correct\n",
    "import os\n",
    "path = r\"hw1_data\""
   ]
  },
  {
   "cell_type": "markdown",
   "id": "3b6c22f6",
   "metadata": {},
   "source": [
    "# Part-1"
   ]
  },
  {
   "cell_type": "code",
   "execution_count": 2,
   "id": "d575324c",
   "metadata": {},
   "outputs": [
    {
     "data": {
      "text/plain": [
       "[('START',), ('natural',), ('language',), ('processing',), ('STOP',)]"
      ]
     },
     "execution_count": 2,
     "metadata": {},
     "output_type": "execute_result"
    }
   ],
   "source": [
    "correct.get_ngrams([\"natural\",\"language\",\"processing\"],1)"
   ]
  },
  {
   "cell_type": "code",
   "execution_count": 3,
   "id": "341d00a6",
   "metadata": {},
   "outputs": [
    {
     "data": {
      "text/plain": [
       "[('START', 'natural'),\n",
       " ('natural', 'language'),\n",
       " ('language', 'processing'),\n",
       " ('processing', 'STOP')]"
      ]
     },
     "execution_count": 3,
     "metadata": {},
     "output_type": "execute_result"
    }
   ],
   "source": [
    "correct.get_ngrams([\"natural\",\"language\",\"processing\"],2)"
   ]
  },
  {
   "cell_type": "code",
   "execution_count": 4,
   "id": "74c965d8",
   "metadata": {},
   "outputs": [
    {
     "data": {
      "text/plain": [
       "[('START', 'START', 'natural'),\n",
       " ('START', 'natural', 'language'),\n",
       " ('natural', 'language', 'processing'),\n",
       " ('language', 'processing', 'STOP')]"
      ]
     },
     "execution_count": 4,
     "metadata": {},
     "output_type": "execute_result"
    }
   ],
   "source": [
    "correct.get_ngrams([\"natural\",\"language\",\"processing\"],3)"
   ]
  },
  {
   "cell_type": "markdown",
   "id": "36708c7f",
   "metadata": {},
   "source": [
    "# part-2"
   ]
  },
  {
   "cell_type": "code",
   "execution_count": 5,
   "id": "ad47514c",
   "metadata": {},
   "outputs": [
    {
     "name": "stdout",
     "output_type": "stream",
     "text": [
      "['the', 'fulton', 'county', 'grand', 'jury', 'said', 'friday', 'an', 'investigation', 'of', 'atlanta', \"'s\", 'recent', 'primary', 'election', 'produced', '``', 'no', 'evidence', \"''\", 'that', 'any', 'irregularities', 'took', 'place', '.']\n",
      "['the', 'jury', 'further', 'said', 'in', 'term-end', 'presentments', 'that', 'the', 'city', 'executive', 'committee', ',', 'which', 'had', 'over-all', 'charge', 'of', 'the', 'election', ',', '``', 'deserves', 'the', 'praise', 'and', 'thanks', 'of', 'the', 'city', 'of', 'atlanta', \"''\", 'for', 'the', 'manner', 'in', 'which', 'the', 'election', 'was', 'conducted', '.']\n",
      "['the', 'september-october', 'term', 'jury', 'had', 'been', 'charged', 'by', 'fulton', 'superior', 'court', 'judge', 'durwood', 'pye', 'to', 'investigate', 'reports', 'of', 'possible', '``', 'irregularities', \"''\", 'in', 'the', 'hard-fought', 'primary', 'which', 'was', 'won', 'by', 'mayor-nominate', 'ivan', 'allen', 'jr', '&', '.']\n"
     ]
    }
   ],
   "source": [
    "generator = correct.corpus_reader(os.path.join(path,'brown_train.txt'))\n",
    "i = 0\n",
    "\n",
    "# printing only 3 lines, else jupyter will not display the entire corpus because of its heavy size\n",
    "for sentence in generator:\n",
    "    print(sentence)\n",
    "    i = i + 1\n",
    "    if i == 3:\n",
    "        break"
   ]
  },
  {
   "cell_type": "code",
   "execution_count": 6,
   "id": "cdbd2eae",
   "metadata": {},
   "outputs": [],
   "source": [
    "model = correct.TrigramModel(os.path.join(path,'brown_train.txt'))"
   ]
  },
  {
   "cell_type": "code",
   "execution_count": 7,
   "id": "643da64f",
   "metadata": {},
   "outputs": [
    {
     "data": {
      "text/plain": [
       "5478"
      ]
     },
     "execution_count": 7,
     "metadata": {},
     "output_type": "execute_result"
    }
   ],
   "source": [
    "model.trigramcounts[('START','START','the')]"
   ]
  },
  {
   "cell_type": "code",
   "execution_count": 8,
   "id": "1982e8c2",
   "metadata": {},
   "outputs": [
    {
     "data": {
      "text/plain": [
       "5478"
      ]
     },
     "execution_count": 8,
     "metadata": {},
     "output_type": "execute_result"
    }
   ],
   "source": [
    "model.bigramcounts[('START','the')]"
   ]
  },
  {
   "cell_type": "code",
   "execution_count": 9,
   "id": "8fbf0adf",
   "metadata": {},
   "outputs": [
    {
     "data": {
      "text/plain": [
       "61428"
      ]
     },
     "execution_count": 9,
     "metadata": {},
     "output_type": "execute_result"
    }
   ],
   "source": [
    "model.unigramcounts[('the',)]"
   ]
  },
  {
   "cell_type": "markdown",
   "id": "4c9c6f02",
   "metadata": {},
   "source": [
    "# part-3"
   ]
  },
  {
   "cell_type": "code",
   "execution_count": 10,
   "id": "f58ac8c1",
   "metadata": {},
   "outputs": [
    {
     "data": {
      "text/plain": [
       "0.08643617021276596"
      ]
     },
     "execution_count": 10,
     "metadata": {},
     "output_type": "execute_result"
    }
   ],
   "source": [
    "model.raw_trigram_probability(('with', 'a', 'UNK'))"
   ]
  },
  {
   "cell_type": "code",
   "execution_count": 11,
   "id": "20247870",
   "metadata": {},
   "outputs": [
    {
     "data": {
      "text/plain": [
       "0.12130988869172447"
      ]
     },
     "execution_count": 11,
     "metadata": {},
     "output_type": "execute_result"
    }
   ],
   "source": [
    "model.raw_bigram_probability(('with', 'a'))"
   ]
  },
  {
   "cell_type": "code",
   "execution_count": 12,
   "id": "bef96c7a",
   "metadata": {},
   "outputs": [
    {
     "data": {
      "text/plain": [
       "0.0004141382557677284"
      ]
     },
     "execution_count": 12,
     "metadata": {},
     "output_type": "execute_result"
    }
   ],
   "source": [
    "model.raw_unigram_probability(('came',))"
   ]
  },
  {
   "cell_type": "markdown",
   "id": "a63333ee",
   "metadata": {},
   "source": [
    "# part-4"
   ]
  },
  {
   "cell_type": "code",
   "execution_count": 13,
   "id": "0d964a7d",
   "metadata": {},
   "outputs": [
    {
     "data": {
      "text/plain": [
       "6.637652192107158e-05"
      ]
     },
     "execution_count": 13,
     "metadata": {},
     "output_type": "execute_result"
    }
   ],
   "source": [
    "model.smoothed_trigram_probability(('START', 'START', 'natural'))"
   ]
  },
  {
   "cell_type": "code",
   "execution_count": 14,
   "id": "ef055676",
   "metadata": {},
   "outputs": [
    {
     "data": {
      "text/plain": [
       "0.029116858677752218"
      ]
     },
     "execution_count": 14,
     "metadata": {},
     "output_type": "execute_result"
    }
   ],
   "source": [
    "model.smoothed_trigram_probability(('no', 'evidence', \"''\"))"
   ]
  },
  {
   "cell_type": "code",
   "execution_count": 15,
   "id": "3f03c245",
   "metadata": {},
   "outputs": [
    {
     "data": {
      "text/plain": [
       "0.08999918071777117"
      ]
     },
     "execution_count": 15,
     "metadata": {},
     "output_type": "execute_result"
    }
   ],
   "source": [
    "model.smoothed_trigram_probability(('said', 'friday', 'an'))"
   ]
  },
  {
   "cell_type": "markdown",
   "id": "b8335348",
   "metadata": {},
   "source": [
    "# part-5"
   ]
  },
  {
   "cell_type": "code",
   "execution_count": 16,
   "id": "fdbcfefd",
   "metadata": {},
   "outputs": [
    {
     "data": {
      "text/plain": [
       "-85.99925284461527"
      ]
     },
     "execution_count": 16,
     "metadata": {},
     "output_type": "execute_result"
    }
   ],
   "source": [
    "model.sentence_logprob(['i', 'UNK', 'it', 'when', 'i', 'see', 'my', 'grandparents', '.'])"
   ]
  },
  {
   "cell_type": "code",
   "execution_count": 17,
   "id": "dc8003d6",
   "metadata": {},
   "outputs": [
    {
     "data": {
      "text/plain": [
       "-126.73784509292159"
      ]
     },
     "execution_count": 17,
     "metadata": {},
     "output_type": "execute_result"
    }
   ],
   "source": [
    "model.sentence_logprob(['they', 'do', \"n't\", 'move', 'from', 'their', 'apartment', 'because', 'they', 'do', \"n't\", 'have', 'the', 'courage', 'to', 'do', 'so', '.'])"
   ]
  },
  {
   "cell_type": "markdown",
   "id": "c42ec7b8",
   "metadata": {},
   "source": [
    "# part-6"
   ]
  },
  {
   "cell_type": "code",
   "execution_count": 18,
   "id": "787450f7",
   "metadata": {},
   "outputs": [
    {
     "name": "stdout",
     "output_type": "stream",
     "text": [
      "brown_train perplexity 18.447915125581183\n",
      "brown_test perplexity 304.5447911102221\n"
     ]
    }
   ],
   "source": [
    "# brown_train perplexity: \n",
    "model = correct.TrigramModel(os.path.join(path,'brown_train.txt'))\n",
    "dev_corpus = correct.corpus_reader(os.path.join(path,'brown_train.txt'),model.lexicon)\n",
    "pp = model.perplexity(dev_corpus)\n",
    "print('brown_train perplexity',pp)\n",
    "\n",
    "# brown_test perplexity:\n",
    "\n",
    "# model = correct.TrigramModel(os.path.join(path,'brown_test.txt'))\n",
    "dev_corpus = correct.corpus_reader(os.path.join(path,'brown_test.txt'), model.lexicon)\n",
    "pp = model.perplexity(dev_corpus)\n",
    "print('brown_test perplexity',pp)"
   ]
  },
  {
   "cell_type": "markdown",
   "id": "12097ad3",
   "metadata": {},
   "source": [
    "# run entire code"
   ]
  },
  {
   "cell_type": "code",
   "execution_count": 19,
   "id": "b8d9689e",
   "metadata": {},
   "outputs": [
    {
     "name": "stdout",
     "output_type": "stream",
     "text": [
      "Testing perplexity 119.7278603608817\n",
      "0.8466135458167331\n"
     ]
    }
   ],
   "source": [
    "# change the path here\n",
    "!python new_code_correct.py hw1_data\\ets_toefl_data\\train_high.txt hw1_data\\ets_toefl_data\\train_low.txt"
   ]
  },
  {
   "cell_type": "code",
   "execution_count": null,
   "id": "9f3fb6fb",
   "metadata": {},
   "outputs": [],
   "source": []
  }
 ],
 "metadata": {
  "kernelspec": {
   "display_name": "Python 3 (ipykernel)",
   "language": "python",
   "name": "python3"
  },
  "language_info": {
   "codemirror_mode": {
    "name": "ipython",
    "version": 3
   },
   "file_extension": ".py",
   "mimetype": "text/x-python",
   "name": "python",
   "nbconvert_exporter": "python",
   "pygments_lexer": "ipython3",
   "version": "3.9.15"
  }
 },
 "nbformat": 4,
 "nbformat_minor": 5
}
