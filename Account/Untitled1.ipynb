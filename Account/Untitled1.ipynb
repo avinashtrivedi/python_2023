{
 "cells": [
  {
   "cell_type": "code",
   "execution_count": null,
   "id": "a78d1c11",
   "metadata": {},
   "outputs": [],
   "source": [
    "\n",
    "class Account:\n",
    "    canadian_accounts = [\"A\", \"C\", \"E\", \"G\", \"L\", \"Q\", \"S\", \"T\", \"X\", \"Y\"]\n",
    "    us_accounts = [\"B\", \"D\", \"F\", \"H\", \"M\", \"6\", \"R\", \"U\"]\n",
    "\n",
    "    managed_prefixes = [\"067\", \"087\", \"077\", \"057\", \"047\"]\n",
    "    fee_based_prefixes = [\"069\", \"089\", \"079\", \"029\", \"039\", \"059\", \"049\"]\n",
    "\n",
    "    registered_suffixes = [\"I\", \"J\", \"K\", \"O\", \"P\", \"Q\", \"6\", \"R\", \"S\", \"T\", \"U\", \"V\", \"W\", \"X\", \"Y\", \"Z\"]\n",
    "    registered_sub_types = [\"I\", \"J\", \"L\", \"C\", \"P\", \"T\", \"N\", \"X\", \"R\", \"S\", \"G\", \"D\", \"V-IND\", \"E-FAM\", \"U\"]\n",
    "    \n",
    "    empty = [None, \"\", \" \"]\n",
    "    \n",
    "    # Columns that cannot be empty\n",
    "    mandatory_columns = [funds, monitor_code, uci, uci_percentage, recipient_code]\n",
    "\n",
    "    @staticmethod\n",
    "    # Gets the column index using the exact name of the column\n",
    "    def get_column_number_from_name(sheet, column_name: str) -> int or None:\n",
    "        for i, column in enumerate(sheet.iter_cols()):\n",
    "            if column[0].value == column_name:\n",
    "                print(column_name, \" \", i)\n",
    "                return i\n",
    "        print(column_name, \" NONE\")\n",
    "        return None\n",
    "\n",
    "    def __init__(self, sheet, row):\n",
    "        self.sheet = sheet\n",
    "        self.row = row\n",
    "        # Variables to hold column indexes\n",
    "        self.acct_number = self.row[Account.get_column_number_from_name(self.sheet, \"Account Number\")].value\n",
    "        self.funds = self.row[Account.get_column_number_from_name(self.sheet, \"Funds (Account)\")].value\n",
    "        self.port_type = self.row[Account.get_column_number_from_name(self.sheet, \"Portfolio Type\")].value\n",
    "        self.min_commission = self.row[Account.get_column_number_from_name(self.sheet, \"Minimum Commission?\")].value\n",
    "        self.type_com = self.row[Account.get_column_number_from_name(self.sheet, \"Type of Commission\")].value\n",
    "        self.discretionary = self.row[Account.get_column_number_from_name(self.sheet, \"Discretionary\")].value\n",
    "        self.credit_int = self.row[Account.get_column_number_from_name(self.sheet, \"Credit Int\")].value\n",
    "        self.debit_int = self.row[Account.get_column_number_from_name(self.sheet, \"Debit Int\")].value\n",
    "        self.acct_sub_type = self.row[Account.get_column_number_from_name(self.sheet, \"Account Sub Type\")].value\n",
    "        self.acct_type = self.row[Account.get_column_number_from_name(self.sheet, \"Account Type\")].value\n",
    "        self.open_date = self.row[Account.get_column_number_from_name(self.sheet, \"Open Date (Account)\")].value\n",
    "        self.confirm_copies = self.row[Account.get_column_number_from_name(self.sheet, \"Confirm Copies\")].value\n",
    "        self.e_conf = self.row[Account.get_column_number_from_name(self.sheet, \"E-Confirm\")].value\n",
    "        self.last_user = self.row[Account.get_column_number_from_name(self.sheet, \"Last User\")].value\n",
    "        self.monitor_code = self.row[Account.get_column_number_from_name(self.sheet, \"Monitor Code\")].value\n",
    "        self.kyc_obj = self.row[Account.get_column_number_from_name(self.sheet, \"KYC Objective Code\")].value\n",
    "        self.time_horizon = self.row[Account.get_column_number_from_name(self.sheet, \"Time Horizon!Code\")].value\n",
    "        self.nrt_code = self.row[Account.get_column_number_from_name(self.sheet, \"NRT Code\")].value\n",
    "        self.residence = self.row[Account.get_column_number_from_name(self.sheet, \"Residence (Account)\")].value\n",
    "        self.recipient_code = self.row[Account.get_column_number_from_name(self.sheet, \"1042 Recipient Code\")].value\n",
    "        self.crm2_flag = self.row[Account.get_column_number_from_name(self.sheet, \"CRM2 Eligibility Flag\")].value\n",
    "        self.class_acct = self.row[Account.get_column_number_from_name(self.sheet, \"Class (Account)\")].value\n",
    "        self.statement_copies = self.row[Account.get_column_number_from_name(self.sheet, \"Statement Copies\")].value\n",
    "        self.send_statement = self.row[Account.get_column_number_from_name(self.sheet, \"Send Statement \")].value\n",
    "        self.np54 = self.row[Account.get_column_number_from_name(self.sheet, \"NP54-101 \")].value\n",
    "        self.ni54 = self.row[Account.get_column_number_from_name(self.sheet, \"NI54-b \")].value\n",
    "        self.lei = self.row[Account.get_column_number_from_name(self.sheet, \"LEI/CICI\")].value\n",
    "        self.invest_knowledge = self.row[Account.get_column_number_from_name(self.sheet, \"Invest Knowledge\")].value\n",
    "        self.uci = self.row[Account.get_column_number_from_name(self.sheet, \"CDIC Unique Client Identifier\")].value\n",
    "        self.uci_percentage = self.row[Account.get_column_number_from_name(self.sheet, \"UCI Percentage\")].value\n",
    "        self.recip_type = self.row[Account.get_column_number_from_name(self.sheet, \"Recipient Type\")].value\n",
    "        self.title = self.row[Account.get_column_number_from_name(self.sheet, \"Title\")].value\n",
    "        self.structured_addr = self.row[Account.get_column_number_from_name(self.sheet, \"Structured Address?\")].value\n",
    "        self.addr_line = self.row[Account.get_column_number_from_name(self.sheet, \"Addr Line 1\")].value\n",
    "\n",
    "        self.number_prefix = self.acct_number[:3]\n",
    "        self.number_suffix = self.acct_number[-1]\n",
    "\n",
    "        self.is_canadian = (self.number_suffix in Account.canadian_accounts)\n",
    "        self.is_us = (self.number_suffix in Account.us_accounts)\n",
    "        self.is_managed = (self.number_prefix in Account.managed_prefixes)\n",
    "        self.is_fee_based = (self.number_prefix in Account.fee_based_prefixes)\n",
    "        self.is_commission = not(self.is_managed or self.is_fee_based)\n",
    "\n",
    "        self.is_registered = (self.number_suffix in Account.registered_suffixes)\n",
    "\n",
    "\n"
   ]
  },
  {
   "cell_type": "code",
   "execution_count": 14,
   "id": "f1e95319",
   "metadata": {},
   "outputs": [],
   "source": [
    "d = {'ac':\"Account Number\",'res_ac':'Residence (Account)'}"
   ]
  },
  {
   "cell_type": "code",
   "execution_count": 16,
   "id": "140358cc",
   "metadata": {},
   "outputs": [
    {
     "data": {
      "text/plain": [
       "'Account Number'"
      ]
     },
     "execution_count": 16,
     "metadata": {},
     "output_type": "execute_result"
    }
   ],
   "source": [
    "d['ac']"
   ]
  },
  {
   "cell_type": "code",
   "execution_count": 17,
   "id": "4a22def0",
   "metadata": {},
   "outputs": [
    {
     "data": {
      "text/plain": [
       "'Residence (Account)'"
      ]
     },
     "execution_count": 17,
     "metadata": {},
     "output_type": "execute_result"
    }
   ],
   "source": [
    "d['res_ac']"
   ]
  },
  {
   "cell_type": "code",
   "execution_count": null,
   "id": "c4641e04",
   "metadata": {},
   "outputs": [],
   "source": []
  },
  {
   "cell_type": "code",
   "execution_count": null,
   "id": "2b5286d3",
   "metadata": {},
   "outputs": [],
   "source": []
  },
  {
   "cell_type": "code",
   "execution_count": null,
   "id": "271edb52",
   "metadata": {},
   "outputs": [],
   "source": []
  },
  {
   "cell_type": "markdown",
   "id": "19866249",
   "metadata": {},
   "source": [
    "# CODE"
   ]
  },
  {
   "cell_type": "code",
   "execution_count": 30,
   "id": "1e14f49b",
   "metadata": {},
   "outputs": [],
   "source": [
    "import openpyxl\n",
    "from openpyxl import load_workbook"
   ]
  },
  {
   "cell_type": "code",
   "execution_count": 44,
   "id": "63ada320",
   "metadata": {},
   "outputs": [],
   "source": [
    "# Load the spreadsheets\n",
    "workbook = load_workbook(filename=\"Mistakes.xlsx\")\n",
    "new_workbook = openpyxl.Workbook()"
   ]
  },
  {
   "cell_type": "code",
   "execution_count": 45,
   "id": "8a325d8c",
   "metadata": {},
   "outputs": [],
   "source": [
    "raw = workbook.active\n",
    "edited = new_workbook.active\n",
    "edited.title = \"Data\""
   ]
  },
  {
   "cell_type": "code",
   "execution_count": null,
   "id": "94d27725",
   "metadata": {},
   "outputs": [],
   "source": [
    "cell.index"
   ]
  },
  {
   "cell_type": "code",
   "execution_count": 72,
   "id": "aea74ea8",
   "metadata": {},
   "outputs": [],
   "source": [
    "col_dict1 = {'ac': 'Account Number',\n",
    "'f_ac' :'Funds (Account)',\n",
    "'p_t' :'Portfolio Type'}"
   ]
  },
  {
   "cell_type": "code",
   "execution_count": 73,
   "id": "60891e5d",
   "metadata": {},
   "outputs": [],
   "source": [
    "col_dict2 = {col_dict[k]:k for k in col_dict}"
   ]
  },
  {
   "cell_type": "code",
   "execution_count": 74,
   "id": "47dd3a3d",
   "metadata": {},
   "outputs": [
    {
     "data": {
      "text/plain": [
       "{'Account Number': 'ac', 'Funds (Account)': 'f_ac', 'Portfolio Type': 'p_t'}"
      ]
     },
     "execution_count": 74,
     "metadata": {},
     "output_type": "execute_result"
    }
   ],
   "source": [
    "col_dict2"
   ]
  },
  {
   "cell_type": "code",
   "execution_count": 54,
   "id": "49451cbf",
   "metadata": {},
   "outputs": [
    {
     "data": {
      "text/plain": [
       "['ac', 'f_ac', 'p_t']"
      ]
     },
     "execution_count": 54,
     "metadata": {},
     "output_type": "execute_result"
    }
   ],
   "source": [
    "list(col_dict)"
   ]
  },
  {
   "cell_type": "code",
   "execution_count": 53,
   "id": "d04b6019",
   "metadata": {},
   "outputs": [
    {
     "data": {
      "text/plain": [
       "'Account Number'"
      ]
     },
     "execution_count": 53,
     "metadata": {},
     "output_type": "execute_result"
    }
   ],
   "source": [
    "col_dict['ac']"
   ]
  },
  {
   "cell_type": "code",
   "execution_count": 80,
   "id": "a3948326",
   "metadata": {},
   "outputs": [],
   "source": [
    "col_dict3 = {} \n",
    "for i,cell in enumerate(raw.iter_cols()):\n",
    "        col_dict3[cell[0].value] = i"
   ]
  },
  {
   "cell_type": "code",
   "execution_count": 87,
   "id": "71e21788",
   "metadata": {},
   "outputs": [
    {
     "data": {
      "text/plain": [
       "{'ac': 'Account Number', 'f_ac': 'Funds (Account)', 'p_t': 'Portfolio Type'}"
      ]
     },
     "execution_count": 87,
     "metadata": {},
     "output_type": "execute_result"
    }
   ],
   "source": [
    "col_dict1"
   ]
  },
  {
   "cell_type": "code",
   "execution_count": 85,
   "id": "8d94d26b",
   "metadata": {},
   "outputs": [
    {
     "data": {
      "text/plain": [
       "0"
      ]
     },
     "execution_count": 85,
     "metadata": {},
     "output_type": "execute_result"
    }
   ],
   "source": [
    "col_dict3[col_dict1['ac']]"
   ]
  },
  {
   "cell_type": "code",
   "execution_count": 81,
   "id": "f5b58979",
   "metadata": {},
   "outputs": [
    {
     "data": {
      "text/plain": [
       "{'Account Number': 0,\n",
       " 'Funds (Account)': 1,\n",
       " 'Portfolio Type': 2,\n",
       " 'Minimum Commission?': 3,\n",
       " 'Type of Commission': 4,\n",
       " 'Discretionary': 5,\n",
       " 'Credit Int': 6,\n",
       " 'Debit Int': 7,\n",
       " 'Account Sub Type': 8,\n",
       " 'Account Type': 9,\n",
       " 'Open Date (Account)': 10,\n",
       " 'Confirm Copies': 11,\n",
       " 'E-Confirm': 12,\n",
       " 'Last User': 13,\n",
       " 'Monitor Code': 14,\n",
       " 'KYC Objective Code': 15,\n",
       " 'Time Horizon!Code': 16,\n",
       " 'NRT Code': 17,\n",
       " 'Residence (Account)': 18,\n",
       " '1042 Recipient Code': 19,\n",
       " 'CRM2 Eligibility Flag': 20,\n",
       " 'Class (Account)': 21,\n",
       " 'Statement Copies': 22,\n",
       " 'Send Statement': 23,\n",
       " 'NP54-101\\xa0': 24,\n",
       " 'NI54-b\\xa0': 25,\n",
       " 'LEI/CICI': 26,\n",
       " 'Invest Knowledge': 27,\n",
       " 'CDIC Unique Client Identifier': 28,\n",
       " 'UCI Percentage': 29,\n",
       " 'Recipient Type': 30,\n",
       " 'Title': 31,\n",
       " 'Structured Address?': 32,\n",
       " 'Addr Line 1': 33}"
      ]
     },
     "execution_count": 81,
     "metadata": {},
     "output_type": "execute_result"
    }
   ],
   "source": [
    "col_dict3"
   ]
  },
  {
   "cell_type": "code",
   "execution_count": null,
   "id": "d78b37e4",
   "metadata": {},
   "outputs": [],
   "source": [
    "col_dict2['Account Number'']"
   ]
  },
  {
   "cell_type": "code",
   "execution_count": 79,
   "id": "e2d68774",
   "metadata": {},
   "outputs": [
    {
     "data": {
      "text/plain": [
       "0"
      ]
     },
     "execution_count": 79,
     "metadata": {},
     "output_type": "execute_result"
    }
   ],
   "source": [
    "col_dict3['ac']"
   ]
  },
  {
   "cell_type": "code",
   "execution_count": null,
   "id": "51c1c811",
   "metadata": {},
   "outputs": [],
   "source": []
  },
  {
   "cell_type": "code",
   "execution_count": null,
   "id": "960edaf2",
   "metadata": {},
   "outputs": [],
   "source": []
  },
  {
   "cell_type": "code",
   "execution_count": 29,
   "id": "cfa69aec",
   "metadata": {},
   "outputs": [],
   "source": [
    "from openpyxl.utils import get_column_letter\n",
    "\n",
    "def get_columns_from_worksheet(ws):\n",
    "    return {\n",
    "      cell.value: {\n",
    "          'letter': get_column_letter(cell.column),\n",
    "          'number': cell.column - 1\n",
    "      } for cell in ws[1] if cell.value\n",
    "  }"
   ]
  },
  {
   "cell_type": "code",
   "execution_count": 32,
   "id": "eb87d8ac",
   "metadata": {},
   "outputs": [
    {
     "ename": "KeyError",
     "evalue": "'Worksheet 1 does not exist.'",
     "output_type": "error",
     "traceback": [
      "\u001b[1;31m---------------------------------------------------------------------------\u001b[0m",
      "\u001b[1;31mKeyError\u001b[0m                                  Traceback (most recent call last)",
      "Cell \u001b[1;32mIn[32], line 1\u001b[0m\n\u001b[1;32m----> 1\u001b[0m \u001b[43mget_columns_from_worksheet\u001b[49m\u001b[43m(\u001b[49m\u001b[43mnew_workbook\u001b[49m\u001b[43m)\u001b[49m\n",
      "Cell \u001b[1;32mIn[29], line 8\u001b[0m, in \u001b[0;36mget_columns_from_worksheet\u001b[1;34m(ws)\u001b[0m\n\u001b[0;32m      3\u001b[0m \u001b[38;5;28;01mdef\u001b[39;00m \u001b[38;5;21mget_columns_from_worksheet\u001b[39m(ws):\n\u001b[0;32m      4\u001b[0m     \u001b[38;5;28;01mreturn\u001b[39;00m {\n\u001b[0;32m      5\u001b[0m       cell\u001b[38;5;241m.\u001b[39mvalue: {\n\u001b[0;32m      6\u001b[0m           \u001b[38;5;124m'\u001b[39m\u001b[38;5;124mletter\u001b[39m\u001b[38;5;124m'\u001b[39m: get_column_letter(cell\u001b[38;5;241m.\u001b[39mcolumn),\n\u001b[0;32m      7\u001b[0m           \u001b[38;5;124m'\u001b[39m\u001b[38;5;124mnumber\u001b[39m\u001b[38;5;124m'\u001b[39m: cell\u001b[38;5;241m.\u001b[39mcolumn \u001b[38;5;241m-\u001b[39m \u001b[38;5;241m1\u001b[39m\n\u001b[1;32m----> 8\u001b[0m       } \u001b[38;5;28;01mfor\u001b[39;00m cell \u001b[38;5;129;01min\u001b[39;00m \u001b[43mws\u001b[49m\u001b[43m[\u001b[49m\u001b[38;5;241;43m1\u001b[39;49m\u001b[43m]\u001b[49m \u001b[38;5;28;01mif\u001b[39;00m cell\u001b[38;5;241m.\u001b[39mvalue\n\u001b[0;32m      9\u001b[0m   }\n",
      "File \u001b[1;32m~\\anaconda3\\lib\\site-packages\\openpyxl\\workbook\\workbook.py:288\u001b[0m, in \u001b[0;36mWorkbook.__getitem__\u001b[1;34m(self, key)\u001b[0m\n\u001b[0;32m    286\u001b[0m     \u001b[38;5;28;01mif\u001b[39;00m sheet\u001b[38;5;241m.\u001b[39mtitle \u001b[38;5;241m==\u001b[39m key:\n\u001b[0;32m    287\u001b[0m         \u001b[38;5;28;01mreturn\u001b[39;00m sheet\n\u001b[1;32m--> 288\u001b[0m \u001b[38;5;28;01mraise\u001b[39;00m \u001b[38;5;167;01mKeyError\u001b[39;00m(\u001b[38;5;124m\"\u001b[39m\u001b[38;5;124mWorksheet \u001b[39m\u001b[38;5;132;01m{0}\u001b[39;00m\u001b[38;5;124m does not exist.\u001b[39m\u001b[38;5;124m\"\u001b[39m\u001b[38;5;241m.\u001b[39mformat(key))\n",
      "\u001b[1;31mKeyError\u001b[0m: 'Worksheet 1 does not exist.'"
     ]
    }
   ],
   "source": [
    "get_columns_from_worksheet(new_workbook)"
   ]
  },
  {
   "cell_type": "code",
   "execution_count": null,
   "id": "3481f672",
   "metadata": {},
   "outputs": [],
   "source": []
  },
  {
   "cell_type": "code",
   "execution_count": null,
   "id": "8defd640",
   "metadata": {},
   "outputs": [],
   "source": []
  },
  {
   "cell_type": "code",
   "execution_count": null,
   "id": "d081fa31",
   "metadata": {},
   "outputs": [],
   "source": [
    "data_{}.format(col) = "
   ]
  },
  {
   "cell_type": "code",
   "execution_count": null,
   "id": "a3ba823e",
   "metadata": {},
   "outputs": [],
   "source": [
    "data_Account Number = "
   ]
  },
  {
   "cell_type": "code",
   "execution_count": null,
   "id": "12a1083e",
   "metadata": {},
   "outputs": [],
   "source": [
    "data_"
   ]
  },
  {
   "cell_type": "code",
   "execution_count": null,
   "id": "5776eb76",
   "metadata": {},
   "outputs": [],
   "source": [
    "cols = []\n",
    "for c in col:\n",
    "     data_{} = self.row[Account.get_column_number_from_name(self.sheet,c)].value\n",
    "    "
   ]
  },
  {
   "cell_type": "code",
   "execution_count": null,
   "id": "f83f6887",
   "metadata": {},
   "outputs": [],
   "source": [
    "self.acct_number = self.row[Account.get_column_number_from_name(self.sheet, \"Account Number\")].value\n",
    "self.funds = self.row[Account.get_column_number_from_name(self.sheet, \"Funds (Account)\")].value\n",
    "self.port_type = self.row[Account.get_column_number_from_name(self.sheet, \"Portfolio Type\")].value\n",
    "self.min_commission = self.row[Account.get_column_number_from_name(self.sheet, \"Minimum Commission?\")].value\n",
    "self.type_com = self.row[Account.get_column_number_from_name(self.sheet, \"Type of Commission\")].value\n",
    "self.discretionary = self.row[Account.get_column_number_from_name(self.sheet, \"Discretionary\")].value\n",
    "self.credit_int = self.row[Account.get_column_number_from_name(self.sheet, \"Credit Int\")].value\n",
    "self.debit_int = self.row[Account.get_column_number_from_name(self.sheet, \"Debit Int\")].value\n",
    "self.acct_sub_type = self.row[Account.get_column_number_from_name(self.sheet, \"Account Sub Type\")].value\n",
    "self.acct_type = self.row[Account.get_column_number_from_name(self.sheet, \"Account Type\")].value\n",
    "self.open_date = self.row[Account.get_column_number_from_name(self.sheet, \"Open Date (Account)\")].value\n",
    "self.confirm_copies = self.row[Account.get_column_number_from_name(self.sheet, \"Confirm Copies\")].value\n",
    "self.e_conf = self.row[Account.get_column_number_from_name(self.sheet, \"E-Confirm\")].value\n",
    "self.last_user = self.row[Account.get_column_number_from_name(self.sheet, \"Last User\")].value\n",
    "self.monitor_code = self.row[Account.get_column_number_from_name(self.sheet, \"Monitor Code\")].value\n",
    "self.kyc_obj = self.row[Account.get_column_number_from_name(self.sheet, \"KYC Objective Code\")].value\n",
    "self.time_horizon = self.row[Account.get_column_number_from_name(self.sheet, \"Time Horizon!Code\")].value\n",
    "self.nrt_code = self.row[Account.get_column_number_from_name(self.sheet, \"NRT Code\")].value\n",
    "self.residence = self.row[Account.get_column_number_from_name(self.sheet, \"Residence (Account)\")].value\n",
    "self.recipient_code = self.row[Account.get_column_number_from_name(self.sheet, \"1042 Recipient Code\")].value\n",
    "self.crm2_flag = self.row[Account.get_column_number_from_name(self.sheet, \"CRM2 Eligibility Flag\")].value\n",
    "self.class_acct = self.row[Account.get_column_number_from_name(self.sheet, \"Class (Account)\")].value\n",
    "self.statement_copies = self.row[Account.get_column_number_from_name(self.sheet, \"Statement Copies\")].value\n",
    "self.send_statement = self.row[Account.get_column_number_from_name(self.sheet, \"Send Statement \")].value\n",
    "self.np54 = self.row[Account.get_column_number_from_name(self.sheet, \"NP54-101 \")].value\n",
    "self.ni54 = self.row[Account.get_column_number_from_name(self.sheet, \"NI54-b \")].value\n",
    "self.lei = self.row[Account.get_column_number_from_name(self.sheet, \"LEI/CICI\")].value\n",
    "self.invest_knowledge = self.row[Account.get_column_number_from_name(self.sheet, \"Invest Knowledge\")].value\n",
    "self.uci = self.row[Account.get_column_number_from_name(self.sheet, \"CDIC Unique Client Identifier\")].value\n",
    "self.uci_percentage = self.row[Account.get_column_number_from_name(self.sheet, \"UCI Percentage\")].value\n",
    "self.recip_type = self.row[Account.get_column_number_from_name(self.sheet, \"Recipient Type\")].value\n",
    "self.title = self.row[Account.get_column_number_from_name(self.sheet, \"Title\")].value\n",
    "self.structured_addr = self.row[Account.get_column_number_from_name(self.sheet, \"Structured Address?\")].value\n",
    "self.addr_line = self.row[Account.get_column_number_from_name(self.sheet, \"Addr Line 1\")].value"
   ]
  }
 ],
 "metadata": {
  "kernelspec": {
   "display_name": "Python 3 (ipykernel)",
   "language": "python",
   "name": "python3"
  },
  "language_info": {
   "codemirror_mode": {
    "name": "ipython",
    "version": 3
   },
   "file_extension": ".py",
   "mimetype": "text/x-python",
   "name": "python",
   "nbconvert_exporter": "python",
   "pygments_lexer": "ipython3",
   "version": "3.9.15"
  }
 },
 "nbformat": 4,
 "nbformat_minor": 5
}
