{
 "cells": [
  {
   "cell_type": "code",
   "execution_count": 1,
   "id": "a40ea9c0",
   "metadata": {},
   "outputs": [],
   "source": [
    "import nawa as correct\n",
    "import os\n",
    "path = r\"hw1_data\""
   ]
  },
  {
   "cell_type": "code",
   "execution_count": 2,
   "id": "d575324c",
   "metadata": {},
   "outputs": [
    {
     "data": {
      "text/plain": [
       "[('START',), ('natural',), ('language',), ('processing',), ('STOP',)]"
      ]
     },
     "execution_count": 2,
     "metadata": {},
     "output_type": "execute_result"
    }
   ],
   "source": [
    "correct.get_ngrams([\"natural\",\"language\",\"processing\"],1)"
   ]
  },
  {
   "cell_type": "code",
   "execution_count": 3,
   "id": "341d00a6",
   "metadata": {},
   "outputs": [
    {
     "data": {
      "text/plain": [
       "[('START', 'natural'),\n",
       " ('natural', 'language'),\n",
       " ('language', 'processing'),\n",
       " ('processing', 'STOP')]"
      ]
     },
     "execution_count": 3,
     "metadata": {},
     "output_type": "execute_result"
    }
   ],
   "source": [
    "correct.get_ngrams([\"natural\",\"language\",\"processing\"],2)"
   ]
  },
  {
   "cell_type": "code",
   "execution_count": 4,
   "id": "74c965d8",
   "metadata": {},
   "outputs": [
    {
     "data": {
      "text/plain": [
       "[('START', 'START', 'natural'),\n",
       " ('START', 'natural', 'language'),\n",
       " ('natural', 'language', 'processing'),\n",
       " ('language', 'processing', 'STOP')]"
      ]
     },
     "execution_count": 4,
     "metadata": {},
     "output_type": "execute_result"
    }
   ],
   "source": [
    "correct.get_ngrams([\"natural\",\"language\",\"processing\"],3)"
   ]
  },
  {
   "cell_type": "code",
   "execution_count": 5,
   "id": "ad47514c",
   "metadata": {},
   "outputs": [
    {
     "name": "stdout",
     "output_type": "stream",
     "text": [
      "['the', 'fulton', 'county', 'grand', 'jury', 'said', 'friday', 'an', 'investigation', 'of', 'atlanta', \"'s\", 'recent', 'primary', 'election', 'produced', '``', 'no', 'evidence', \"''\", 'that', 'any', 'irregularities', 'took', 'place', '.']\n",
      "['the', 'jury', 'further', 'said', 'in', 'term-end', 'presentments', 'that', 'the', 'city', 'executive', 'committee', ',', 'which', 'had', 'over-all', 'charge', 'of', 'the', 'election', ',', '``', 'deserves', 'the', 'praise', 'and', 'thanks', 'of', 'the', 'city', 'of', 'atlanta', \"''\", 'for', 'the', 'manner', 'in', 'which', 'the', 'election', 'was', 'conducted', '.']\n",
      "['the', 'september-october', 'term', 'jury', 'had', 'been', 'charged', 'by', 'fulton', 'superior', 'court', 'judge', 'durwood', 'pye', 'to', 'investigate', 'reports', 'of', 'possible', '``', 'irregularities', \"''\", 'in', 'the', 'hard-fought', 'primary', 'which', 'was', 'won', 'by', 'mayor-nominate', 'ivan', 'allen', 'jr', '&', '.']\n"
     ]
    }
   ],
   "source": [
    "generator = correct.corpus_reader(os.path.join(path,'brown_train.txt'))\n",
    "i = 0\n",
    "\n",
    "# printing only 3 lines, else jupyter will not display the entire corpus because of its heavy size\n",
    "for sentence in generator:\n",
    "    print(sentence)\n",
    "    i = i + 1\n",
    "    if i == 3:\n",
    "        break"
   ]
  },
  {
   "cell_type": "code",
   "execution_count": 6,
   "id": "cdbd2eae",
   "metadata": {},
   "outputs": [],
   "source": [
    "model = correct.TrigramModel(os.path.join(path,'brown_train.txt'))"
   ]
  },
  {
   "cell_type": "code",
   "execution_count": 7,
   "id": "643da64f",
   "metadata": {},
   "outputs": [
    {
     "data": {
      "text/plain": [
       "5478"
      ]
     },
     "execution_count": 7,
     "metadata": {},
     "output_type": "execute_result"
    }
   ],
   "source": [
    "model.trigramcounts[('START','START','the')]"
   ]
  },
  {
   "cell_type": "code",
   "execution_count": 8,
   "id": "1982e8c2",
   "metadata": {},
   "outputs": [
    {
     "data": {
      "text/plain": [
       "5478"
      ]
     },
     "execution_count": 8,
     "metadata": {},
     "output_type": "execute_result"
    }
   ],
   "source": [
    "model.bigramcounts[('START','the')]"
   ]
  },
  {
   "cell_type": "code",
   "execution_count": 9,
   "id": "8fbf0adf",
   "metadata": {},
   "outputs": [
    {
     "data": {
      "text/plain": [
       "61428"
      ]
     },
     "execution_count": 9,
     "metadata": {},
     "output_type": "execute_result"
    }
   ],
   "source": [
    "model.unigramcounts[('the',)]"
   ]
  },
  {
   "cell_type": "code",
   "execution_count": 10,
   "id": "0d964a7d",
   "metadata": {},
   "outputs": [
    {
     "data": {
      "text/plain": [
       "4.615712149324494e-05"
      ]
     },
     "execution_count": 10,
     "metadata": {},
     "output_type": "execute_result"
    }
   ],
   "source": [
    "model.smoothed_trigram_probability(('START', 'START', 'natural'))"
   ]
  },
  {
   "cell_type": "code",
   "execution_count": 11,
   "id": "fdbcfefd",
   "metadata": {},
   "outputs": [
    {
     "data": {
      "text/plain": [
       "-0.3219280948873623"
      ]
     },
     "execution_count": 11,
     "metadata": {},
     "output_type": "execute_result"
    }
   ],
   "source": [
    "import math\n",
    "math.log2(0.8)"
   ]
  },
  {
   "cell_type": "code",
   "execution_count": 12,
   "id": "787450f7",
   "metadata": {},
   "outputs": [
    {
     "name": "stdout",
     "output_type": "stream",
     "text": [
      "11.890244011991783\n",
      "7.621760477522342\n"
     ]
    }
   ],
   "source": [
    "# brown_train perplexity: \n",
    "model = correct.TrigramModel(os.path.join(path,'brown_train.txt'))\n",
    "dev_corpus = correct.corpus_reader(os.path.join(path,'brown_train.txt'),model.lexicon)\n",
    "pp = model.perplexity(dev_corpus)\n",
    "print(pp)\n",
    "\n",
    "# brown_test perplexity:\n",
    "\n",
    "model = correct.TrigramModel(os.path.join(path,'brown_test.txt'))\n",
    "dev_corpus = correct.corpus_reader(os.path.join(path,'brown_test.txt'), model.lexicon)\n",
    "pp = model.perplexity(dev_corpus)\n",
    "print(pp)"
   ]
  },
  {
   "cell_type": "code",
   "execution_count": 20,
   "id": "b8d9689e",
   "metadata": {},
   "outputs": [
    {
     "name": "stdout",
     "output_type": "stream",
     "text": [
      "129.59019864786123\n",
      "16.08720552643473\n",
      "0.850597609561753\n"
     ]
    }
   ],
   "source": [
    "# change the path here\n",
    "!python nawa.py hw1_data\\ets_toefl_data\\train_high.txt hw1_data\\ets_toefl_data\\train_low.txt"
   ]
  },
  {
   "cell_type": "code",
   "execution_count": null,
   "id": "08a10a5c",
   "metadata": {},
   "outputs": [],
   "source": []
  }
 ],
 "metadata": {
  "kernelspec": {
   "display_name": "Python 3 (ipykernel)",
   "language": "python",
   "name": "python3"
  },
  "language_info": {
   "codemirror_mode": {
    "name": "ipython",
    "version": 3
   },
   "file_extension": ".py",
   "mimetype": "text/x-python",
   "name": "python",
   "nbconvert_exporter": "python",
   "pygments_lexer": "ipython3",
   "version": "3.9.15"
  }
 },
 "nbformat": 4,
 "nbformat_minor": 5
}
