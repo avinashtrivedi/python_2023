{
 "cells": [
  {
   "cell_type": "code",
   "execution_count": 1,
   "id": "6dace7a9",
   "metadata": {},
   "outputs": [],
   "source": [
    "# import libraries\n",
    "import pandas as pd\n",
    "import numpy as np\n",
    "from tqdm import tqdm\n",
    "import matplotlib.pyplot as plt\n",
    "import warnings\n",
    "warnings.filterwarnings('ignore')\n",
    "\n",
    "from sklearn.model_selection import GridSearchCV\n",
    "from sklearn.tree import DecisionTreeClassifier\n",
    "from sklearn.ensemble import RandomForestClassifier\n",
    "from sklearn.ensemble import AdaBoostClassifier\n",
    "from sklearn.ensemble import BaggingClassifier\n",
    "from tqdm.notebook import tqdm\n",
    "from sklearn.metrics import recall_score, precision_score, f1_score\n",
    "from sklearn.metrics import confusion_matrix, roc_auc_score,ConfusionMatrixDisplay,accuracy_score"
   ]
  },
  {
   "cell_type": "code",
   "execution_count": 2,
   "id": "b7da60a6",
   "metadata": {},
   "outputs": [],
   "source": [
    "# read the dataset\n",
    "df = pd.read_csv(\"Assignment 3_Q1 diabetes_health_indicators_data.csv\")"
   ]
  },
  {
   "cell_type": "code",
   "execution_count": 3,
   "id": "a909c3da",
   "metadata": {},
   "outputs": [],
   "source": [
    "# get 20000 sample \n",
    "df = df.sample(20000,random_state=42)"
   ]
  },
  {
   "cell_type": "code",
   "execution_count": 4,
   "id": "dc3c1bb5",
   "metadata": {},
   "outputs": [
    {
     "data": {
      "text/html": [
       "<div>\n",
       "<style scoped>\n",
       "    .dataframe tbody tr th:only-of-type {\n",
       "        vertical-align: middle;\n",
       "    }\n",
       "\n",
       "    .dataframe tbody tr th {\n",
       "        vertical-align: top;\n",
       "    }\n",
       "\n",
       "    .dataframe thead th {\n",
       "        text-align: right;\n",
       "    }\n",
       "</style>\n",
       "<table border=\"1\" class=\"dataframe\">\n",
       "  <thead>\n",
       "    <tr style=\"text-align: right;\">\n",
       "      <th></th>\n",
       "      <th>Diabetes</th>\n",
       "      <th>HighBP</th>\n",
       "      <th>HighChol</th>\n",
       "      <th>CholCheck</th>\n",
       "      <th>BMI</th>\n",
       "      <th>Smoker</th>\n",
       "      <th>Stroke</th>\n",
       "      <th>HeartDiseaseorAttack</th>\n",
       "      <th>PhysActivity</th>\n",
       "      <th>Fruits</th>\n",
       "      <th>...</th>\n",
       "      <th>AnyHealthcare</th>\n",
       "      <th>NoDocbcCost</th>\n",
       "      <th>GenHlth</th>\n",
       "      <th>MentHlth</th>\n",
       "      <th>PhysHlth</th>\n",
       "      <th>DiffWalk</th>\n",
       "      <th>Sex</th>\n",
       "      <th>Age</th>\n",
       "      <th>Education</th>\n",
       "      <th>Income</th>\n",
       "    </tr>\n",
       "  </thead>\n",
       "  <tbody>\n",
       "    <tr>\n",
       "      <th>186913</th>\n",
       "      <td>0</td>\n",
       "      <td>1</td>\n",
       "      <td>1</td>\n",
       "      <td>1</td>\n",
       "      <td>23</td>\n",
       "      <td>0</td>\n",
       "      <td>0</td>\n",
       "      <td>1</td>\n",
       "      <td>1</td>\n",
       "      <td>1</td>\n",
       "      <td>...</td>\n",
       "      <td>1</td>\n",
       "      <td>0</td>\n",
       "      <td>3</td>\n",
       "      <td>0</td>\n",
       "      <td>0</td>\n",
       "      <td>0</td>\n",
       "      <td>1</td>\n",
       "      <td>13</td>\n",
       "      <td>6</td>\n",
       "      <td>5</td>\n",
       "    </tr>\n",
       "    <tr>\n",
       "      <th>239126</th>\n",
       "      <td>0</td>\n",
       "      <td>1</td>\n",
       "      <td>1</td>\n",
       "      <td>1</td>\n",
       "      <td>34</td>\n",
       "      <td>1</td>\n",
       "      <td>0</td>\n",
       "      <td>0</td>\n",
       "      <td>1</td>\n",
       "      <td>1</td>\n",
       "      <td>...</td>\n",
       "      <td>1</td>\n",
       "      <td>0</td>\n",
       "      <td>3</td>\n",
       "      <td>0</td>\n",
       "      <td>0</td>\n",
       "      <td>0</td>\n",
       "      <td>0</td>\n",
       "      <td>10</td>\n",
       "      <td>4</td>\n",
       "      <td>7</td>\n",
       "    </tr>\n",
       "    <tr>\n",
       "      <th>184226</th>\n",
       "      <td>0</td>\n",
       "      <td>0</td>\n",
       "      <td>1</td>\n",
       "      <td>0</td>\n",
       "      <td>27</td>\n",
       "      <td>0</td>\n",
       "      <td>0</td>\n",
       "      <td>0</td>\n",
       "      <td>1</td>\n",
       "      <td>1</td>\n",
       "      <td>...</td>\n",
       "      <td>1</td>\n",
       "      <td>0</td>\n",
       "      <td>2</td>\n",
       "      <td>3</td>\n",
       "      <td>0</td>\n",
       "      <td>0</td>\n",
       "      <td>0</td>\n",
       "      <td>3</td>\n",
       "      <td>6</td>\n",
       "      <td>8</td>\n",
       "    </tr>\n",
       "    <tr>\n",
       "      <th>232560</th>\n",
       "      <td>0</td>\n",
       "      <td>1</td>\n",
       "      <td>0</td>\n",
       "      <td>1</td>\n",
       "      <td>23</td>\n",
       "      <td>0</td>\n",
       "      <td>0</td>\n",
       "      <td>0</td>\n",
       "      <td>1</td>\n",
       "      <td>1</td>\n",
       "      <td>...</td>\n",
       "      <td>1</td>\n",
       "      <td>0</td>\n",
       "      <td>1</td>\n",
       "      <td>1</td>\n",
       "      <td>0</td>\n",
       "      <td>0</td>\n",
       "      <td>0</td>\n",
       "      <td>9</td>\n",
       "      <td>5</td>\n",
       "      <td>8</td>\n",
       "    </tr>\n",
       "    <tr>\n",
       "      <th>224748</th>\n",
       "      <td>0</td>\n",
       "      <td>0</td>\n",
       "      <td>0</td>\n",
       "      <td>1</td>\n",
       "      <td>22</td>\n",
       "      <td>1</td>\n",
       "      <td>0</td>\n",
       "      <td>0</td>\n",
       "      <td>1</td>\n",
       "      <td>1</td>\n",
       "      <td>...</td>\n",
       "      <td>1</td>\n",
       "      <td>0</td>\n",
       "      <td>1</td>\n",
       "      <td>0</td>\n",
       "      <td>0</td>\n",
       "      <td>0</td>\n",
       "      <td>0</td>\n",
       "      <td>4</td>\n",
       "      <td>6</td>\n",
       "      <td>8</td>\n",
       "    </tr>\n",
       "  </tbody>\n",
       "</table>\n",
       "<p>5 rows × 22 columns</p>\n",
       "</div>"
      ],
      "text/plain": [
       "        Diabetes  HighBP  HighChol  CholCheck  BMI  Smoker  Stroke  \\\n",
       "186913         0       1         1          1   23       0       0   \n",
       "239126         0       1         1          1   34       1       0   \n",
       "184226         0       0         1          0   27       0       0   \n",
       "232560         0       1         0          1   23       0       0   \n",
       "224748         0       0         0          1   22       1       0   \n",
       "\n",
       "        HeartDiseaseorAttack  PhysActivity  Fruits  ...  AnyHealthcare  \\\n",
       "186913                     1             1       1  ...              1   \n",
       "239126                     0             1       1  ...              1   \n",
       "184226                     0             1       1  ...              1   \n",
       "232560                     0             1       1  ...              1   \n",
       "224748                     0             1       1  ...              1   \n",
       "\n",
       "        NoDocbcCost  GenHlth  MentHlth  PhysHlth  DiffWalk  Sex  Age  \\\n",
       "186913            0        3         0         0         0    1   13   \n",
       "239126            0        3         0         0         0    0   10   \n",
       "184226            0        2         3         0         0    0    3   \n",
       "232560            0        1         1         0         0    0    9   \n",
       "224748            0        1         0         0         0    0    4   \n",
       "\n",
       "        Education  Income  \n",
       "186913          6       5  \n",
       "239126          4       7  \n",
       "184226          6       8  \n",
       "232560          5       8  \n",
       "224748          6       8  \n",
       "\n",
       "[5 rows x 22 columns]"
      ]
     },
     "execution_count": 4,
     "metadata": {},
     "output_type": "execute_result"
    }
   ],
   "source": [
    "# display top 5 rows\n",
    "df.head()"
   ]
  },
  {
   "cell_type": "code",
   "execution_count": 5,
   "id": "d5e19ca5",
   "metadata": {},
   "outputs": [
    {
     "data": {
      "text/plain": [
       "Diabetes                0\n",
       "HighBP                  0\n",
       "HighChol                0\n",
       "CholCheck               0\n",
       "BMI                     0\n",
       "Smoker                  0\n",
       "Stroke                  0\n",
       "HeartDiseaseorAttack    0\n",
       "PhysActivity            0\n",
       "Fruits                  0\n",
       "Veggies                 0\n",
       "HvyAlcoholConsump       0\n",
       "AnyHealthcare           0\n",
       "NoDocbcCost             0\n",
       "GenHlth                 0\n",
       "MentHlth                0\n",
       "PhysHlth                0\n",
       "DiffWalk                0\n",
       "Sex                     0\n",
       "Age                     0\n",
       "Education               0\n",
       "Income                  0\n",
       "dtype: int64"
      ]
     },
     "execution_count": 5,
     "metadata": {},
     "output_type": "execute_result"
    }
   ],
   "source": [
    "# check for missing Values\n",
    "df.isna().sum()"
   ]
  },
  {
   "cell_type": "code",
   "execution_count": 6,
   "id": "685978a8",
   "metadata": {},
   "outputs": [],
   "source": [
    "# get X and y\n",
    "X = df.drop('Diabetes',axis=1).values\n",
    "y = df['Diabetes'].values"
   ]
  },
  {
   "cell_type": "code",
   "execution_count": 7,
   "id": "c0aae86a",
   "metadata": {},
   "outputs": [],
   "source": [
    "# split the data into train and test i.e 80:20\n",
    "\n",
    "from sklearn.model_selection import train_test_split\n",
    "X_train, X_test, y_train, y_test = train_test_split(X, y, test_size = 0.20, random_state = 42)"
   ]
  },
  {
   "cell_type": "code",
   "execution_count": 8,
   "id": "e53d309f",
   "metadata": {},
   "outputs": [],
   "source": [
    "# Feature Scaling\n",
    "from sklearn.preprocessing import StandardScaler\n",
    "sc = StandardScaler()\n",
    "X_train = sc.fit_transform(X_train)\n",
    "X_test = sc.transform(X_test)"
   ]
  },
  {
   "cell_type": "code",
   "execution_count": 9,
   "id": "2be05c6a",
   "metadata": {},
   "outputs": [],
   "source": [
    "# store all the model classificers\n",
    "models = {\n",
    "    \"RandomForest\": RandomForestClassifier (random_state = 42),\n",
    "    \"DecisionTree\": DecisionTreeClassifier(random_state = 42),\n",
    "    \"Bagging\": BaggingClassifier(DecisionTreeClassifier(random_state=42), n_estimators=100, random_state=1),\n",
    "    \"AdaBoost\": AdaBoostClassifier(DecisionTreeClassifier(random_state=42), n_estimators=100, random_state=1), \n",
    "}"
   ]
  },
  {
   "cell_type": "code",
   "execution_count": 10,
   "id": "2df22fc5",
   "metadata": {},
   "outputs": [],
   "source": [
    "# function to return various performance measure\n",
    "def perf_measure (y_true, y_pred):\n",
    "    \n",
    "    all_per_list  = []\n",
    "    \n",
    "    # compute accuracy,recall, precision,f1-score and AUC\n",
    "    all_per_list.append (accuracy_score (y_true, y_pred))\n",
    "    all_per_list.append (recall_score (y_true, y_pred))\n",
    "    all_per_list.append (precision_score (y_true, y_pred))\n",
    "    all_per_list.append (f1_score (y_true, y_pred))\n",
    "    all_per_list.append (roc_auc_score (y_true, y_pred))\n",
    "    \n",
    "    return all_per_list"
   ]
  },
  {
   "cell_type": "code",
   "execution_count": 11,
   "id": "e6be2271",
   "metadata": {},
   "outputs": [
    {
     "data": {
      "application/vnd.jupyter.widget-view+json": {
       "model_id": "4bee79f40c9c43daaaa991acdcf92999",
       "version_major": 2,
       "version_minor": 0
      },
      "text/plain": [
       "  0%|          | 0/4 [00:00<?, ?it/s]"
      ]
     },
     "metadata": {},
     "output_type": "display_data"
    }
   ],
   "source": [
    "y_pred = {} # store y_predicted \n",
    "cm = {}  # store confusion  matrix \n",
    "Perf_per_algorithm = {} # store performance measure\n",
    "\n",
    "# iterate through all the models\n",
    "for model_name, clf in tqdm(models.items ()):\n",
    "    \n",
    "    # train the model\n",
    "    clf.fit (X_train, y_train)\n",
    "    \n",
    "    # perform prediction on test set\n",
    "    y_pred [model_name] = clf.predict (X_test)\n",
    "    \n",
    "    # store performance measure in Perf_per_algorithm dictionary where model_name is key\n",
    "    Perf_per_algorithm [model_name] = perf_measure (y_test,  y_pred [model_name])\n",
    "    \n",
    "    # store confusion matrix\n",
    "    cm [model_name] = confusion_matrix (y_test,y_pred [model_name], normalize =\"true\")"
   ]
  },
  {
   "cell_type": "code",
   "execution_count": 12,
   "id": "a927ab06",
   "metadata": {},
   "outputs": [
    {
     "data": {
      "text/html": [
       "<div>\n",
       "<style scoped>\n",
       "    .dataframe tbody tr th:only-of-type {\n",
       "        vertical-align: middle;\n",
       "    }\n",
       "\n",
       "    .dataframe tbody tr th {\n",
       "        vertical-align: top;\n",
       "    }\n",
       "\n",
       "    .dataframe thead th {\n",
       "        text-align: right;\n",
       "    }\n",
       "</style>\n",
       "<table border=\"1\" class=\"dataframe\">\n",
       "  <thead>\n",
       "    <tr style=\"text-align: right;\">\n",
       "      <th></th>\n",
       "      <th>Accuracy</th>\n",
       "      <th>Recall</th>\n",
       "      <th>Precision</th>\n",
       "      <th>F1</th>\n",
       "      <th>AUC</th>\n",
       "    </tr>\n",
       "  </thead>\n",
       "  <tbody>\n",
       "    <tr>\n",
       "      <th>RandomForest</th>\n",
       "      <td>0.86375</td>\n",
       "      <td>0.175043</td>\n",
       "      <td>0.594118</td>\n",
       "      <td>0.270415</td>\n",
       "      <td>0.577443</td>\n",
       "    </tr>\n",
       "    <tr>\n",
       "      <th>DecisionTree</th>\n",
       "      <td>0.79225</td>\n",
       "      <td>0.331023</td>\n",
       "      <td>0.300314</td>\n",
       "      <td>0.314922</td>\n",
       "      <td>0.600510</td>\n",
       "    </tr>\n",
       "    <tr>\n",
       "      <th>Bagging</th>\n",
       "      <td>0.85625</td>\n",
       "      <td>0.199307</td>\n",
       "      <td>0.504386</td>\n",
       "      <td>0.285714</td>\n",
       "      <td>0.583147</td>\n",
       "    </tr>\n",
       "    <tr>\n",
       "      <th>AdaBoost</th>\n",
       "      <td>0.85175</td>\n",
       "      <td>0.233969</td>\n",
       "      <td>0.472028</td>\n",
       "      <td>0.312862</td>\n",
       "      <td>0.594928</td>\n",
       "    </tr>\n",
       "  </tbody>\n",
       "</table>\n",
       "</div>"
      ],
      "text/plain": [
       "              Accuracy    Recall  Precision        F1       AUC\n",
       "RandomForest   0.86375  0.175043   0.594118  0.270415  0.577443\n",
       "DecisionTree   0.79225  0.331023   0.300314  0.314922  0.600510\n",
       "Bagging        0.85625  0.199307   0.504386  0.285714  0.583147\n",
       "AdaBoost       0.85175  0.233969   0.472028  0.312862  0.594928"
      ]
     },
     "execution_count": 12,
     "metadata": {},
     "output_type": "execute_result"
    }
   ],
   "source": [
    "# create a result dataframe from Perf_per_algorithm\n",
    "result = pd.DataFrame.from_dict(Perf_per_algorithm, orient='index', \n",
    "                       columns=['Accuracy', 'Recall', 'Precision', 'F1', 'AUC'])\n",
    "\n",
    "result"
   ]
  },
  {
   "cell_type": "code",
   "execution_count": 13,
   "id": "0552688c",
   "metadata": {},
   "outputs": [
    {
     "name": "stdout",
     "output_type": "stream",
     "text": [
      "------------RandomForest-----------\n"
     ]
    },
    {
     "data": {
      "image/png": "[encoded data removed]",
      "text/plain": [
       "<Figure size 640x480 with 2 Axes>"
      ]
     },
     "metadata": {},
     "output_type": "display_data"
    },
    {
     "name": "stdout",
     "output_type": "stream",
     "text": [
      "------------DecisionTree-----------\n"
     ]
    },
    {
     "data": {
      "image/png": "[encoded data removed]",
      "text/plain": [
       "<Figure size 640x480 with 2 Axes>"
      ]
     },
     "metadata": {},
     "output_type": "display_data"
    },
    {
     "name": "stdout",
     "output_type": "stream",
     "text": [
      "------------Bagging-----------\n"
     ]
    },
    {
     "data": {
      "image/png": "[encoded data removed]",
      "text/plain": [
       "<Figure size 640x480 with 2 Axes>"
      ]
     },
     "metadata": {},
     "output_type": "display_data"
    },
    {
     "name": "stdout",
     "output_type": "stream",
     "text": [
      "------------AdaBoost-----------\n"
     ]
    },
    {
     "data": {
      "image/png": "[encoded data removed]",
      "text/plain": [
       "<Figure size 640x480 with 2 Axes>"
      ]
     },
     "metadata": {},
     "output_type": "display_data"
    }
   ],
   "source": [
    "# display confusion matrix\n",
    "for name,confusion in cm.items():\n",
    "    print(f\"------------{name}-----------\")\n",
    "    disp = ConfusionMatrixDisplay(confusion_matrix=confusion,\n",
    "                                  display_labels=[0,1])\n",
    "    disp.plot()\n",
    "    plt.show()"
   ]
  },
  {
   "cell_type": "markdown",
   "id": "499e3ce0",
   "metadata": {},
   "source": [
    "# Grid Search"
   ]
  },
  {
   "cell_type": "code",
   "execution_count": 14,
   "id": "f2e7452a",
   "metadata": {},
   "outputs": [],
   "source": [
    "#define DecisionTree parameters \n",
    "parm_DT = {'max_leaf_nodes': list(range(2, 10)), 'min_samples_split': [2, 3]}\n",
    "\n",
    "# create GridSearchCV model\n",
    "grid_model_DT = GridSearchCV(DecisionTreeClassifier(random_state=42), \n",
    "                             parm_DT, verbose=2, cv=3, scoring= 'roc_auc',n_jobs=-1)"
   ]
  },
  {
   "cell_type": "code",
   "execution_count": 15,
   "id": "562f5591",
   "metadata": {},
   "outputs": [
    {
     "name": "stdout",
     "output_type": "stream",
     "text": [
      "Fitting 3 folds for each of 16 candidates, totalling 48 fits\n"
     ]
    },
    {
     "data": {
      "text/html": [
       "<div>\n",
       "<style scoped>\n",
       "    .dataframe tbody tr th:only-of-type {\n",
       "        vertical-align: middle;\n",
       "    }\n",
       "\n",
       "    .dataframe tbody tr th {\n",
       "        vertical-align: top;\n",
       "    }\n",
       "\n",
       "    .dataframe thead th {\n",
       "        text-align: right;\n",
       "    }\n",
       "</style>\n",
       "<table border=\"1\" class=\"dataframe\">\n",
       "  <thead>\n",
       "    <tr style=\"text-align: right;\">\n",
       "      <th></th>\n",
       "      <th>Accuracy</th>\n",
       "      <th>Recall</th>\n",
       "      <th>Precision</th>\n",
       "      <th>F1</th>\n",
       "      <th>AUC</th>\n",
       "    </tr>\n",
       "  </thead>\n",
       "  <tbody>\n",
       "    <tr>\n",
       "      <th>RandomForest</th>\n",
       "      <td>0.86375</td>\n",
       "      <td>0.175043</td>\n",
       "      <td>0.594118</td>\n",
       "      <td>0.270415</td>\n",
       "      <td>0.577443</td>\n",
       "    </tr>\n",
       "    <tr>\n",
       "      <th>DecisionTree</th>\n",
       "      <td>0.79225</td>\n",
       "      <td>0.331023</td>\n",
       "      <td>0.300314</td>\n",
       "      <td>0.314922</td>\n",
       "      <td>0.600510</td>\n",
       "    </tr>\n",
       "    <tr>\n",
       "      <th>Bagging</th>\n",
       "      <td>0.85625</td>\n",
       "      <td>0.199307</td>\n",
       "      <td>0.504386</td>\n",
       "      <td>0.285714</td>\n",
       "      <td>0.583147</td>\n",
       "    </tr>\n",
       "    <tr>\n",
       "      <th>AdaBoost</th>\n",
       "      <td>0.85575</td>\n",
       "      <td>0.000000</td>\n",
       "      <td>0.000000</td>\n",
       "      <td>0.000000</td>\n",
       "      <td>0.500000</td>\n",
       "    </tr>\n",
       "  </tbody>\n",
       "</table>\n",
       "</div>"
      ],
      "text/plain": [
       "              Accuracy    Recall  Precision        F1       AUC\n",
       "RandomForest   0.86375  0.175043   0.594118  0.270415  0.577443\n",
       "DecisionTree   0.79225  0.331023   0.300314  0.314922  0.600510\n",
       "Bagging        0.85625  0.199307   0.504386  0.285714  0.583147\n",
       "AdaBoost       0.85575  0.000000   0.000000  0.000000  0.500000"
      ]
     },
     "execution_count": 15,
     "metadata": {},
     "output_type": "execute_result"
    }
   ],
   "source": [
    "# train the model\n",
    "grid_model_DT.fit(X_train, y_train)\n",
    "\n",
    "# get best estimator\n",
    "best_estimator = grid_model_DT.best_estimator_\n",
    "\n",
    "# train the DecisionTreeClassifier on best estimator\n",
    "best_estimator.fit (X_train, y_train)\n",
    "\n",
    "# perform the prediction \n",
    "y_pred = best_estimator.predict (X_test)\n",
    "\n",
    "# store performance measure in Perf_per_algorithm dictionary where model_name is key\n",
    "Perf_per_algorithm [model_name] = perf_measure (y_test,  y_pred)\n",
    "\n",
    "# create a result dataframe from Perf_per_algorithm\n",
    "result = pd.DataFrame.from_dict(Perf_per_algorithm, orient='index', \n",
    "                       columns=['Accuracy', 'Recall', 'Precision', 'F1', 'AUC'])\n",
    "\n",
    "result"
   ]
  },
  {
   "cell_type": "markdown",
   "id": "0dafaabd",
   "metadata": {},
   "source": [
    "- based on the result , its safe to say that DecisionTree is the best performing model with AUC score of 0.600"
   ]
  }
 ],
 "metadata": {
  "kernelspec": {
   "display_name": "Python 3 (ipykernel)",
   "language": "python",
   "name": "python3"
  },
  "language_info": {
   "codemirror_mode": {
    "name": "ipython",
    "version": 3
   },
   "file_extension": ".py",
   "mimetype": "text/x-python",
   "name": "python",
   "nbconvert_exporter": "python",
   "pygments_lexer": "ipython3",
   "version": "3.9.15"
  }
 },
 "nbformat": 4,
 "nbformat_minor": 5
}
