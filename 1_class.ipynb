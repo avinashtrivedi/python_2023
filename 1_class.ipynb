{
 "cells": [
  {
   "cell_type": "code",
   "execution_count": 1,
   "id": "83a0e320",
   "metadata": {},
   "outputs": [],
   "source": [
    "# list "
   ]
  },
  {
   "cell_type": "code",
   "execution_count": 38,
   "id": "f961e109",
   "metadata": {},
   "outputs": [],
   "source": [
    "a = [2,3,5,8,9]\n",
    "b = [3,5,9,11]\n",
    "c = [3,9,11]"
   ]
  },
  {
   "cell_type": "code",
   "execution_count": 39,
   "id": "bb6f4e18",
   "metadata": {},
   "outputs": [],
   "source": [
    "nums = []"
   ]
  },
  {
   "cell_type": "code",
   "execution_count": 40,
   "id": "9fa007cf",
   "metadata": {},
   "outputs": [
    {
     "name": "stdout",
     "output_type": "stream",
     "text": [
      "3 9 "
     ]
    }
   ],
   "source": [
    "for num in a:\n",
    "    for num_1  in b:\n",
    "        for num_2 in c:\n",
    "#             print(num,num_2,num_3)         \n",
    "                if num == num_1 and num_1 == num_2: \n",
    "                    nums.append(num)\n",
    "                   # print(num, end = ' ')\n",
    "                else:\n",
    "                    if num == num_1:\n",
    "                        # print(num)\n",
    "                        nums.append(num)\n",
    "                    elif num==num_2:\n",
    "                        # print(num)\n",
    "                        nums.append(num)\n",
    "                    elif num_1 == num_2:\n",
    "                        # print(num_1)\n",
    "                        nums.append(num_1)\n",
    "                    "
   ]
  },
  {
   "cell_type": "code",
   "execution_count": 53,
   "id": "09f07655",
   "metadata": {},
   "outputs": [],
   "source": [
    "uniq = []"
   ]
  },
  {
   "cell_type": "code",
   "execution_count": 54,
   "id": "5c9140ac",
   "metadata": {},
   "outputs": [],
   "source": [
    "for num in nums:\n",
    "    if num not in uniq:\n",
    "        uniq.append(num)  "
   ]
  },
  {
   "cell_type": "code",
   "execution_count": 59,
   "id": "868cfa38",
   "metadata": {},
   "outputs": [
    {
     "data": {
      "text/plain": [
       "[3, 9, 11, 5]"
      ]
     },
     "execution_count": 59,
     "metadata": {},
     "output_type": "execute_result"
    }
   ],
   "source": [
    "list(dict.fromkeys(nums).keys())"
   ]
  },
  {
   "cell_type": "code",
   "execution_count": null,
   "id": "974a6905",
   "metadata": {},
   "outputs": [],
   "source": [
    "# use for loop\n",
    "# create empty dict and find uniq num\n",
    "#\n",
    "\n",
    "# any other approach"
   ]
  },
  {
   "cell_type": "code",
   "execution_count": null,
   "id": "a2544e14",
   "metadata": {},
   "outputs": [],
   "source": []
  },
  {
   "cell_type": "code",
   "execution_count": null,
   "id": "45c319b3",
   "metadata": {},
   "outputs": [],
   "source": []
  },
  {
   "cell_type": "code",
   "execution_count": null,
   "id": "4e2cc81b",
   "metadata": {},
   "outputs": [],
   "source": []
  },
  {
   "cell_type": "code",
   "execution_count": 55,
   "id": "782fe923",
   "metadata": {},
   "outputs": [
    {
     "data": {
      "text/plain": [
       "[3, 9, 11, 5]"
      ]
     },
     "execution_count": 55,
     "metadata": {},
     "output_type": "execute_result"
    }
   ],
   "source": [
    "uniq"
   ]
  },
  {
   "cell_type": "code",
   "execution_count": null,
   "id": "07114e2b",
   "metadata": {},
   "outputs": [],
   "source": []
  },
  {
   "cell_type": "code",
   "execution_count": null,
   "id": "4eeff73e",
   "metadata": {},
   "outputs": [],
   "source": [
    "[3,9,11]"
   ]
  },
  {
   "cell_type": "code",
   "execution_count": null,
   "id": "fb7c4c22",
   "metadata": {},
   "outputs": [],
   "source": [
    "- for loop\n",
    "- in\n",
    "- nested\n",
    "\n",
    "\n",
    "\n",
    "- set"
   ]
  },
  {
   "cell_type": "code",
   "execution_count": 22,
   "id": "25bfafe2",
   "metadata": {},
   "outputs": [
    {
     "name": "stdout",
     "output_type": "stream",
     "text": [
      "a*b*c*a*b*c*a*b*c*a*b*c*a*b*c*"
     ]
    }
   ],
   "source": [
    "for i in range(5):\n",
    "    for j in ['a','b','c']:\n",
    "        print(j,end='*')"
   ]
  }
 ],
 "metadata": {
  "kernelspec": {
   "display_name": "Python 3 (ipykernel)",
   "language": "python",
   "name": "python3"
  },
  "language_info": {
   "codemirror_mode": {
    "name": "ipython",
    "version": 3
   },
   "file_extension": ".py",
   "mimetype": "text/x-python",
   "name": "python",
   "nbconvert_exporter": "python",
   "pygments_lexer": "ipython3",
   "version": "3.9.15"
  }
 },
 "nbformat": 4,
 "nbformat_minor": 5
}
