{
 "cells": [
  {
   "cell_type": "code",
   "execution_count": 1,
   "id": "e8c21582",
   "metadata": {},
   "outputs": [],
   "source": [
    "import pandas as pd\n",
    "import numpy as np\n",
    "from datetime import datetime, timedelta\n",
    "import re\n",
    "import matplotlib.pyplot as plt\n",
    "from tqdm.notebook import tqdm\n",
    "import warnings\n",
    "warnings.filterwarnings('ignore')\n",
    "\n",
    "pd.set_option('display.max_columns', None)\n",
    "pd.set_option('display.max_rows', None)"
   ]
  },
  {
   "cell_type": "code",
   "execution_count": 2,
   "id": "9bd972d2",
   "metadata": {},
   "outputs": [],
   "source": [
    "df_sessions_con = pd.read_csv('D:\\OneDrive - NITT\\Custom_Download\\df_sessions_consolidated.csv')"
   ]
  },
  {
   "cell_type": "code",
   "execution_count": 3,
   "id": "a0a6a255",
   "metadata": {},
   "outputs": [
    {
     "data": {
      "text/plain": [
       "['AccountAge',\n",
       " 'ActiveProduct',\n",
       " 'ActivePurchase',\n",
       " 'AllowsContact',\n",
       " 'Army',\n",
       " 'AvailableSince',\n",
       " 'AvailableUntil',\n",
       " 'Description',\n",
       " 'Device1',\n",
       " 'Device1LastConnection',\n",
       " 'Device2',\n",
       " 'Device2LastConnection',\n",
       " 'DeviceID',\n",
       " 'Domain',\n",
       " 'DomainEnding',\n",
       " 'Duration',\n",
       " 'DurationInterval',\n",
       " 'EndGame',\n",
       " 'EngagementMonths',\n",
       " 'ExitSource',\n",
       " 'FirstPurchaseDate',\n",
       " 'Game',\n",
       " 'GameClosure',\n",
       " 'GameDuration',\n",
       " 'IdProduct',\n",
       " 'LastConnection',\n",
       " 'LastPurchaseDate',\n",
       " 'MapType',\n",
       " 'NumDevices',\n",
       " 'PaidMap',\n",
       " 'Platform',\n",
       " 'PlayedGameId',\n",
       " 'PlayedGameIdGame',\n",
       " 'Player1ArmyNamed',\n",
       " 'Player2ArmyNamed',\n",
       " 'ProStatus',\n",
       " 'ProductCost',\n",
       " 'ProductID',\n",
       " 'ProductIdVendor',\n",
       " 'ProductName',\n",
       " 'ProductType',\n",
       " 'ProductsBoughtUntilSession',\n",
       " 'RoomEnters',\n",
       " 'SessionDuration',\n",
       " 'SessionDurationHours',\n",
       " 'SessionEnd',\n",
       " 'SessionId',\n",
       " 'SessionLengthInterval',\n",
       " 'SessionStart',\n",
       " 'SessionUserId',\n",
       " 'StartGame',\n",
       " 'SummonCopyPaste',\n",
       " 'SummonCreate',\n",
       " 'SummonImport',\n",
       " 'SummonLoad',\n",
       " 'TermsVersion',\n",
       " 'TimeLobby',\n",
       " 'TimePlaying',\n",
       " 'TimeSinceLastConnection',\n",
       " 'TimeSinceLastConnection_Device1',\n",
       " 'TimeSinceLastConnection_Device2',\n",
       " 'TimeSinceLastPurchase',\n",
       " 'TimeSolo',\n",
       " 'TimeUntilExpiration',\n",
       " 'TimeWatching',\n",
       " 'TotalProductsBought',\n",
       " 'TotalSpendingOverall',\n",
       " 'TotalSpendingUntilSession',\n",
       " 'TurnsPlayed',\n",
       " 'Tutorial',\n",
       " 'Tutorial_Flag',\n",
       " 'Tutorial_StepsCompleted',\n",
       " 'UserCreated',\n",
       " 'UserEmail',\n",
       " 'UserID',\n",
       " 'UserId',\n",
       " 'UserName',\n",
       " 'UserNameEngagementScore',\n",
       " 'monthly_cost',\n",
       " 'player_churn',\n",
       " 'successful_game_conversion',\n",
       " 'successful_game_engagement',\n",
       " 'successful_lead_trial_conversion']"
      ]
     },
     "execution_count": 3,
     "metadata": {},
     "output_type": "execute_result"
    }
   ],
   "source": [
    "sorted(list(df_sessions_con))"
   ]
  },
  {
   "cell_type": "code",
   "execution_count": 4,
   "id": "130e182e",
   "metadata": {},
   "outputs": [
    {
     "data": {
      "text/plain": [
       "1    51894\n",
       "0    15102\n",
       "Name: ProStatus, dtype: int64"
      ]
     },
     "execution_count": 4,
     "metadata": {},
     "output_type": "execute_result"
    }
   ],
   "source": [
    "df_sessions_con['ProStatus'].value_counts()"
   ]
  },
  {
   "cell_type": "code",
   "execution_count": 5,
   "id": "1bca606a",
   "metadata": {},
   "outputs": [],
   "source": [
    "# Find the index position of the \"ProStatus\" column\n",
    "pro_status_index = df_sessions_con.columns.get_loc('ProStatus')\n",
    "# Create a new column \"Conversion_Session\" initialized with 0\n",
    "df_sessions_con.insert(pro_status_index + 1, 'Conversion_Session', 0)"
   ]
  },
  {
   "cell_type": "code",
   "execution_count": 6,
   "id": "8158ac3d",
   "metadata": {},
   "outputs": [],
   "source": [
    "# Sort the DataFrame by UserID and SessionStart in ascending order\n",
    "df_sessions_con = df_sessions_con.sort_values(['UserID', 'SessionStart'], ascending=True)"
   ]
  },
  {
   "cell_type": "code",
   "execution_count": 7,
   "id": "63df6f2f",
   "metadata": {
    "collapsed": true
   },
   "outputs": [
    {
     "data": {
      "application/vnd.jupyter.widget-view+json": {
       "model_id": "d2ca974b310d4010adfcf8a4f2143fe1",
       "version_major": 2,
       "version_minor": 0
      },
      "text/plain": [
       "  0%|          | 0/2812 [00:00<?, ?it/s]"
      ]
     },
     "metadata": {},
     "output_type": "display_data"
    },
    {
     "ename": "KeyboardInterrupt",
     "evalue": "",
     "output_type": "error",
     "traceback": [
      "\u001b[1;31m---------------------------------------------------------------------------\u001b[0m",
      "\u001b[1;31mKeyboardInterrupt\u001b[0m                         Traceback (most recent call last)",
      "Cell \u001b[1;32mIn[7], line 5\u001b[0m\n\u001b[0;32m      1\u001b[0m \u001b[38;5;66;03m# Iterate over each unique UserID\u001b[39;00m\n\u001b[0;32m      2\u001b[0m \u001b[38;5;28;01mfor\u001b[39;00m user_id \u001b[38;5;129;01min\u001b[39;00m tqdm(df_sessions_con[\u001b[38;5;124m'\u001b[39m\u001b[38;5;124mUserID\u001b[39m\u001b[38;5;124m'\u001b[39m]\u001b[38;5;241m.\u001b[39munique()):\n\u001b[0;32m      3\u001b[0m \n\u001b[0;32m      4\u001b[0m     \u001b[38;5;66;03m# Filter the DataFrame for the current user and sort by SessionStart in ascending order\u001b[39;00m\n\u001b[1;32m----> 5\u001b[0m     user_df \u001b[38;5;241m=\u001b[39m \u001b[43mdf_sessions_con\u001b[49m\u001b[43m[\u001b[49m\u001b[43mdf_sessions_con\u001b[49m\u001b[43m[\u001b[49m\u001b[38;5;124;43m'\u001b[39;49m\u001b[38;5;124;43mUserID\u001b[39;49m\u001b[38;5;124;43m'\u001b[39;49m\u001b[43m]\u001b[49m\u001b[43m \u001b[49m\u001b[38;5;241;43m==\u001b[39;49m\u001b[43m \u001b[49m\u001b[43muser_id\u001b[49m\u001b[43m]\u001b[49m\u001b[38;5;241m.\u001b[39msort_values(\u001b[38;5;124m'\u001b[39m\u001b[38;5;124mSessionStart\u001b[39m\u001b[38;5;124m'\u001b[39m)\n\u001b[0;32m      7\u001b[0m     \u001b[38;5;28;01mif\u001b[39;00m \u001b[38;5;28mlen\u001b[39m(user_df) \u001b[38;5;241m>\u001b[39m \u001b[38;5;241m1\u001b[39m:\n\u001b[0;32m      8\u001b[0m \n\u001b[0;32m      9\u001b[0m         \u001b[38;5;66;03m# Iterate over each session in the sorted user_df DataFrame\u001b[39;00m\n\u001b[0;32m     10\u001b[0m         \u001b[38;5;28;01mfor\u001b[39;00m idx \u001b[38;5;129;01min\u001b[39;00m \u001b[38;5;28mrange\u001b[39m(\u001b[38;5;28mlen\u001b[39m(user_df) \u001b[38;5;241m-\u001b[39m \u001b[38;5;241m1\u001b[39m):\n",
      "File \u001b[1;32m~\\anaconda3\\lib\\site-packages\\pandas\\core\\frame.py:3798\u001b[0m, in \u001b[0;36mDataFrame.__getitem__\u001b[1;34m(self, key)\u001b[0m\n\u001b[0;32m   3796\u001b[0m \u001b[38;5;66;03m# Do we have a (boolean) 1d indexer?\u001b[39;00m\n\u001b[0;32m   3797\u001b[0m \u001b[38;5;28;01mif\u001b[39;00m com\u001b[38;5;241m.\u001b[39mis_bool_indexer(key):\n\u001b[1;32m-> 3798\u001b[0m     \u001b[38;5;28;01mreturn\u001b[39;00m \u001b[38;5;28;43mself\u001b[39;49m\u001b[38;5;241;43m.\u001b[39;49m\u001b[43m_getitem_bool_array\u001b[49m\u001b[43m(\u001b[49m\u001b[43mkey\u001b[49m\u001b[43m)\u001b[49m\n\u001b[0;32m   3800\u001b[0m \u001b[38;5;66;03m# We are left with two options: a single key, and a collection of keys,\u001b[39;00m\n\u001b[0;32m   3801\u001b[0m \u001b[38;5;66;03m# We interpret tuples as collections only for non-MultiIndex\u001b[39;00m\n\u001b[0;32m   3802\u001b[0m is_single_key \u001b[38;5;241m=\u001b[39m \u001b[38;5;28misinstance\u001b[39m(key, \u001b[38;5;28mtuple\u001b[39m) \u001b[38;5;129;01mor\u001b[39;00m \u001b[38;5;129;01mnot\u001b[39;00m is_list_like(key)\n",
      "File \u001b[1;32m~\\anaconda3\\lib\\site-packages\\pandas\\core\\frame.py:3852\u001b[0m, in \u001b[0;36mDataFrame._getitem_bool_array\u001b[1;34m(self, key)\u001b[0m\n\u001b[0;32m   3849\u001b[0m \u001b[38;5;66;03m# check_bool_indexer will throw exception if Series key cannot\u001b[39;00m\n\u001b[0;32m   3850\u001b[0m \u001b[38;5;66;03m# be reindexed to match DataFrame rows\u001b[39;00m\n\u001b[0;32m   3851\u001b[0m key \u001b[38;5;241m=\u001b[39m check_bool_indexer(\u001b[38;5;28mself\u001b[39m\u001b[38;5;241m.\u001b[39mindex, key)\n\u001b[1;32m-> 3852\u001b[0m indexer \u001b[38;5;241m=\u001b[39m \u001b[43mkey\u001b[49m\u001b[38;5;241;43m.\u001b[39;49m\u001b[43mnonzero\u001b[49m\u001b[43m(\u001b[49m\u001b[43m)\u001b[49m[\u001b[38;5;241m0\u001b[39m]\n\u001b[0;32m   3853\u001b[0m \u001b[38;5;28;01mreturn\u001b[39;00m \u001b[38;5;28mself\u001b[39m\u001b[38;5;241m.\u001b[39m_take_with_is_copy(indexer, axis\u001b[38;5;241m=\u001b[39m\u001b[38;5;241m0\u001b[39m)\n",
      "\u001b[1;31mKeyboardInterrupt\u001b[0m: "
     ]
    }
   ],
   "source": [
    "# Iterate over each unique UserID\n",
    "for user_id in tqdm(df_sessions_con['UserID'].unique()):\n",
    "\n",
    "    # Filter the DataFrame for the current user and sort by SessionStart in ascending order\n",
    "    user_df = df_sessions_con[df_sessions_con['UserID'] == user_id].sort_values('SessionStart')\n",
    "\n",
    "    if len(user_df) > 1:\n",
    "\n",
    "        # Iterate over each session in the sorted user_df DataFrame\n",
    "        for idx in range(len(user_df) - 1):\n",
    "            session = user_df.iloc[idx]\n",
    "            next_session = user_df.iloc[idx + 1]\n",
    "\n",
    "            if session['ProStatus'] == 0 and next_session['ProStatus'] == 1:\n",
    "                # Assign 1 to Conversion_Session of the current session\n",
    "#                 print(session.name)\n",
    "                df_sessions_con.loc[session.name, 'Conversion_Session'] = 1\n",
    "#                 a.append(user_id)\n",
    "\n",
    "            elif session['ProStatus'] == 1 and next_session['ProStatus'] == 0:\n",
    "                # Assign -1 to Conversion_Session of the current session\n",
    "                df_sessions_con.loc[session.name, 'Conversion_Session'] = -1\n",
    "#                 b.append(user_id)"
   ]
  },
  {
   "cell_type": "code",
   "execution_count": null,
   "id": "87333edf",
   "metadata": {},
   "outputs": [],
   "source": [
    "df_sessions_con['SessionStart'] = pd.DatetimeIndex(df_sessions_con['SessionStart'])\n",
    "df_sessions_con['SessionEnd'] = pd.DatetimeIndex(df_sessions_con['SessionEnd'])\n",
    "\n",
    "df_sessions_con['StartGame'] = pd.DatetimeIndex(df_sessions_con['StartGame'])\n",
    "df_sessions_con['EndGame'] = pd.DatetimeIndex(df_sessions_con['EndGame'])"
   ]
  },
  {
   "cell_type": "code",
   "execution_count": null,
   "id": "d252da27",
   "metadata": {},
   "outputs": [],
   "source": [
    "df_sessions_con['Session_duration'] = df_sessions_con.apply(lambda x:(x['SessionEnd']-x['SessionStart']).total_seconds(),axis=1)"
   ]
  },
  {
   "cell_type": "code",
   "execution_count": null,
   "id": "03464e07",
   "metadata": {},
   "outputs": [],
   "source": [
    "df_sessions_con[df_sessions_con['SessionEnd'].isna()].head()"
   ]
  },
  {
   "cell_type": "code",
   "execution_count": null,
   "id": "de916372",
   "metadata": {},
   "outputs": [],
   "source": [
    "df_sessions_con['UserId'].nunique()"
   ]
  },
  {
   "cell_type": "code",
   "execution_count": null,
   "id": "ed9efe61",
   "metadata": {},
   "outputs": [],
   "source": [
    "df_sessions_con['game_duration'] = df_sessions_con.apply(lambda x:(x['StartGame']-x['EndGame']).total_seconds(),axis=1)"
   ]
  },
  {
   "cell_type": "code",
   "execution_count": null,
   "id": "13e06920",
   "metadata": {},
   "outputs": [],
   "source": [
    "cols = ['UserCreated',\n",
    "'DeviceID',\n",
    "'PlayedGameId',\n",
    "'UserId',\n",
    "# 'UserID',\n",
    "'SessionId',\n",
    "'SessionStart',\n",
    "'SessionEnd',\n",
    "'DurationInterval',\n",
    "'Player1ArmyNamed',\n",
    "'Player2ArmyNamed',\n",
    "'GameDuration',\n",
    "'Army',\n",
    "'SessionUserId',\n",
    "'StartGame',\n",
    "'EndGame',\n",
    "'SessionDuration',\n",
    "'LastPurchaseDate',\n",
    "'FirstPurchaseDate',\n",
    "'AvailableSince',\n",
    "'AvailableUntil',\n",
    "'Description',\n",
    "'ProductName',\n",
    "'DomainEnding',\n",
    "'Domain',\n",
    "'Device2LastConnection',\n",
    "'Device1LastConnection',\n",
    "'Device2',\n",
    "'Device1',\n",
    "'UserName',\n",
    "'UserEmail',\n",
    "'LastConnection']"
   ]
  },
  {
   "cell_type": "code",
   "execution_count": null,
   "id": "ccf5f716",
   "metadata": {},
   "outputs": [],
   "source": [
    "df_sessions_con.drop(cols,axis=1,inplace=True)"
   ]
  },
  {
   "cell_type": "code",
   "execution_count": null,
   "id": "64a6eb49",
   "metadata": {},
   "outputs": [],
   "source": [
    "df_sessions_con.head()"
   ]
  },
  {
   "cell_type": "code",
   "execution_count": null,
   "id": "16df8699",
   "metadata": {},
   "outputs": [],
   "source": [
    "df_sessions_con.nunique()"
   ]
  },
  {
   "cell_type": "code",
   "execution_count": null,
   "id": "57fe9fbc",
   "metadata": {},
   "outputs": [],
   "source": [
    "df_sessions_con['SessionDurationHours'] = df_sessions_con['SessionDurationHours'].replace(['Error','Ongoing_Session'],[0,0])"
   ]
  },
  {
   "cell_type": "code",
   "execution_count": null,
   "id": "019aaef3",
   "metadata": {},
   "outputs": [],
   "source": [
    "df_sessions_con['SessionDurationHours'] = df_sessions_con['SessionDurationHours'].astype('float')"
   ]
  },
  {
   "cell_type": "code",
   "execution_count": null,
   "id": "526bee38",
   "metadata": {},
   "outputs": [],
   "source": [
    "col_str = ['ProStatus'\n",
    ",'UserID'\n",
    ",'Conversion_Session'                     \n",
    ",'ProductID'                              \n",
    ",'Platform'                               \n",
    ",'ExitSource'\n",
    ",'MapType'                                \n",
    ",'GameClosure'                            \n",
    ",'PlayedGameIdGame'                       \n",
    ",'PaidMap'                                \n",
    ",'Game'                                   \n",
    ",'TermsVersion'                           \n",
    ",'AllowsContact'\n",
    ",'Tutorial'\n",
    ",'NumDevices'\n",
    ",'Tutorial_StepsCompleted' \n",
    ",'ActivePurchase'\n",
    ",'successful_lead_trial_conversion'        \n",
    ",'successful_game_conversion'              \n",
    ",'successful_game_engagement'              \n",
    ",'player_churn','ActiveProduct','ProductIdVendor']"
   ]
  },
  {
   "cell_type": "code",
   "execution_count": null,
   "id": "1c1a15e6",
   "metadata": {},
   "outputs": [],
   "source": [
    "df_sessions_con.head()"
   ]
  },
  {
   "cell_type": "code",
   "execution_count": null,
   "id": "fab75112",
   "metadata": {},
   "outputs": [],
   "source": [
    "for col in col_str:\n",
    "    df_sessions_con[col] = df_sessions_con[col].astype('string')"
   ]
  },
  {
   "cell_type": "code",
   "execution_count": null,
   "id": "12cbea76",
   "metadata": {},
   "outputs": [],
   "source": [
    "df_sessions_con.head()"
   ]
  },
  {
   "cell_type": "code",
   "execution_count": null,
   "id": "ea4f9f1f",
   "metadata": {},
   "outputs": [],
   "source": [
    "df_sessions_con_cluster = df_sessions_con.drop(['ProStatus','Conversion_Session'],axis=1)"
   ]
  },
  {
   "cell_type": "code",
   "execution_count": null,
   "id": "cd638fc7",
   "metadata": {},
   "outputs": [],
   "source": [
    "df_sessions_con_cluster = pd.get_dummies(df_sessions_con_cluster)"
   ]
  },
  {
   "cell_type": "code",
   "execution_count": null,
   "id": "df64eeea",
   "metadata": {},
   "outputs": [],
   "source": [
    "df_sessions_con_cluster.isna().sum()"
   ]
  },
  {
   "cell_type": "code",
   "execution_count": null,
   "id": "9694a056",
   "metadata": {},
   "outputs": [],
   "source": [
    "df_sessions_con_cluster = df_sessions_con_cluster.fillna(0)                                  "
   ]
  },
  {
   "cell_type": "code",
   "execution_count": null,
   "id": "11732b30",
   "metadata": {},
   "outputs": [],
   "source": [
    "sum(df_sessions_con_cluster.isna().sum())"
   ]
  },
  {
   "cell_type": "code",
   "execution_count": null,
   "id": "955ec856",
   "metadata": {},
   "outputs": [],
   "source": [
    "bool_col = set(df_sessions_con_cluster.select_dtypes('uint8'))"
   ]
  },
  {
   "cell_type": "code",
   "execution_count": null,
   "id": "1947b085",
   "metadata": {},
   "outputs": [],
   "source": [
    "col_scale = list(set(df_sessions_con_cluster) - bool_col)"
   ]
  },
  {
   "cell_type": "code",
   "execution_count": null,
   "id": "65141f38",
   "metadata": {},
   "outputs": [],
   "source": [
    "X_scale = df_sessions_con_cluster[col_scale]"
   ]
  },
  {
   "cell_type": "code",
   "execution_count": null,
   "id": "d614dd08",
   "metadata": {},
   "outputs": [],
   "source": [
    "from sklearn.preprocessing import StandardScaler\n",
    "sc_X = StandardScaler()\n",
    "X_scale = sc_X.fit_transform(X_scale)"
   ]
  },
  {
   "cell_type": "code",
   "execution_count": null,
   "id": "078dbfa7",
   "metadata": {},
   "outputs": [],
   "source": [
    "X = pd.concat([pd.DataFrame(X_scale,columns=col_scale),df_sessions_con_cluster[bool_col]],axis=1)"
   ]
  },
  {
   "cell_type": "code",
   "execution_count": null,
   "id": "41a17c6b",
   "metadata": {},
   "outputs": [],
   "source": [
    "X.shape"
   ]
  },
  {
   "cell_type": "code",
   "execution_count": null,
   "id": "5a3eaee6",
   "metadata": {},
   "outputs": [],
   "source": [
    "# Using the elbow method to find the optimal number of clusters\n",
    "from sklearn.cluster import KMeans\n",
    "import numpy as np\n",
    "from tqdm.notebook import tqdm\n",
    "import matplotlib.pyplot as plt\n",
    "import pandas as pd\n",
    "\n",
    "n = 20\n",
    "wcss = []\n",
    "for i in tqdm(range(2, n)):\n",
    "    kmeans = KMeans(n_clusters = i, init = 'k-means++', random_state = 42)\n",
    "    kmeans.fit(X)\n",
    "    wcss.append(kmeans.inertia_)\n",
    "plt.plot(range(2, n), wcss)\n",
    "plt.title('The Elbow Method')\n",
    "plt.xlabel('Number of clusters')\n",
    "plt.ylabel('WCSS')\n",
    "plt.show()"
   ]
  },
  {
   "cell_type": "code",
   "execution_count": null,
   "id": "fcecb956",
   "metadata": {},
   "outputs": [],
   "source": [
    "k = 2 + np.array(wcss).argmin()\n",
    "k"
   ]
  },
  {
   "cell_type": "code",
   "execution_count": null,
   "id": "f656c652",
   "metadata": {},
   "outputs": [],
   "source": [
    "df1 = X.copy()"
   ]
  },
  {
   "cell_type": "code",
   "execution_count": null,
   "id": "f5d5aea2",
   "metadata": {},
   "outputs": [],
   "source": [
    "df2 = df_sessions_con[['ProStatus','Conversion_Session']]"
   ]
  },
  {
   "cell_type": "code",
   "execution_count": null,
   "id": "7ff954a7",
   "metadata": {},
   "outputs": [],
   "source": [
    "data = pd.concat([df1,df2],axis=1)"
   ]
  },
  {
   "cell_type": "code",
   "execution_count": null,
   "id": "2f5966ad",
   "metadata": {},
   "outputs": [],
   "source": [
    "data.head()"
   ]
  },
  {
   "cell_type": "code",
   "execution_count": null,
   "id": "98938cd5",
   "metadata": {},
   "outputs": [],
   "source": [
    "df1.shape"
   ]
  },
  {
   "cell_type": "code",
   "execution_count": null,
   "id": "343cf780",
   "metadata": {},
   "outputs": [],
   "source": [
    "data['Conversion_Session'].value_counts()"
   ]
  },
  {
   "cell_type": "code",
   "execution_count": null,
   "id": "a1aa2733",
   "metadata": {},
   "outputs": [],
   "source": [
    "data.shape"
   ]
  },
  {
   "cell_type": "code",
   "execution_count": null,
   "id": "582c60ae",
   "metadata": {},
   "outputs": [],
   "source": [
    "df_sessions_con.shape"
   ]
  },
  {
   "cell_type": "code",
   "execution_count": null,
   "id": "24bd8ad6",
   "metadata": {},
   "outputs": [],
   "source": [
    "data.head()"
   ]
  },
  {
   "cell_type": "code",
   "execution_count": null,
   "id": "a995e333",
   "metadata": {},
   "outputs": [],
   "source": [
    "data = data.sample(frac=1)"
   ]
  },
  {
   "cell_type": "code",
   "execution_count": null,
   "id": "6d807fbb",
   "metadata": {},
   "outputs": [],
   "source": [
    "df3 = data[data['Conversion_Session'].isin(['1','-1'])]"
   ]
  },
  {
   "cell_type": "code",
   "execution_count": null,
   "id": "99901f99",
   "metadata": {},
   "outputs": [],
   "source": [
    "df4 = data[data['Conversion_Session'].isin(['0'])][:1197]"
   ]
  },
  {
   "cell_type": "code",
   "execution_count": null,
   "id": "c43844d2",
   "metadata": {},
   "outputs": [],
   "source": [
    "df = pd.concat([df3,df4])"
   ]
  },
  {
   "cell_type": "code",
   "execution_count": null,
   "id": "e4adde60",
   "metadata": {},
   "outputs": [],
   "source": [
    "df['Conversion_Session'].value_counts()"
   ]
  },
  {
   "cell_type": "code",
   "execution_count": null,
   "id": "fd248326",
   "metadata": {},
   "outputs": [],
   "source": [
    "df['Conversion_Session'] = df['Conversion_Session'].astype('int')"
   ]
  },
  {
   "cell_type": "code",
   "execution_count": null,
   "id": "a0b2eeca",
   "metadata": {},
   "outputs": [],
   "source": [
    "df.reset_index(drop=True,inplace=True)"
   ]
  },
  {
   "cell_type": "code",
   "execution_count": null,
   "id": "3bfde5b5",
   "metadata": {},
   "outputs": [],
   "source": [
    "df = pd.get_dummies(df)"
   ]
  },
  {
   "cell_type": "code",
   "execution_count": null,
   "id": "9c912fb3",
   "metadata": {},
   "outputs": [],
   "source": [
    "X = df.drop('Conversion_Session',axis=1)\n",
    "y = df['Conversion_Session']"
   ]
  },
  {
   "cell_type": "code",
   "execution_count": null,
   "id": "126a5606",
   "metadata": {},
   "outputs": [],
   "source": [
    "from sklearn.model_selection import train_test_split\n",
    "\n",
    "X_train, X_test, y_train, y_test = train_test_split(X, y, test_size=0.2, random_state=42)"
   ]
  },
  {
   "cell_type": "code",
   "execution_count": null,
   "id": "1e17ee6f",
   "metadata": {},
   "outputs": [],
   "source": [
    "from sklearn.linear_model import LogisticRegression\n",
    "from sklearn.svm import SVC\n",
    "from sklearn.neighbors import KNeighborsClassifier\n",
    "from sklearn.tree import DecisionTreeClassifier\n",
    "from sklearn.ensemble import RandomForestClassifier\n",
    "from xgboost import XGBClassifier"
   ]
  },
  {
   "cell_type": "code",
   "execution_count": null,
   "id": "9952618b",
   "metadata": {},
   "outputs": [],
   "source": [
    "classifiers = {\n",
    "    \"LogisiticRegression\": LogisticRegression(random_state=42),\n",
    "    \"KNearest\": KNeighborsClassifier(),\n",
    "    \"Support Vector Classifier\": SVC(random_state=42),\n",
    "    \"DecisionTreeClassifier\": DecisionTreeClassifier(random_state=42)\n",
    "}"
   ]
  },
  {
   "cell_type": "code",
   "execution_count": null,
   "id": "fc621b9e",
   "metadata": {},
   "outputs": [],
   "source": [
    "from sklearn.model_selection import cross_val_score\n",
    "from sklearn.metrics import accuracy_score, confusion_matrix,ConfusionMatrixDisplay\n",
    "\n",
    "y_preds = []\n",
    "for key, classifier in classifiers.items():\n",
    "    classifier.fit(X_train, y_train)\n",
    "    y_pred = classifier.predict(X_test)\n",
    "    y_preds.append(y_pred)\n",
    "    acc = accuracy_score(y_test,y_pred)\n",
    "    print('Test accuracy for',str(classifier)[:-2],'-->',acc)"
   ]
  },
  {
   "cell_type": "code",
   "execution_count": null,
   "id": "01019245",
   "metadata": {},
   "outputs": [],
   "source": [
    "for y_pred,clf_name in zip(y_preds,list(classifiers)):\n",
    "    cm = confusion_matrix(y_test,y_pred)\n",
    "    clf = classifiers[clf_name]\n",
    "    disp = ConfusionMatrixDisplay(confusion_matrix=cm,\n",
    "                          display_labels=clf.classes_)\n",
    "    \n",
    "    disp.plot()\n",
    "    disp.ax_.set(title=clf_name)"
   ]
  },
  {
   "cell_type": "markdown",
   "id": "cbd74d42",
   "metadata": {},
   "source": [
    "# Correlation"
   ]
  },
  {
   "cell_type": "code",
   "execution_count": null,
   "id": "33175783",
   "metadata": {},
   "outputs": [],
   "source": [
    "import seaborn as sns"
   ]
  },
  {
   "cell_type": "code",
   "execution_count": null,
   "id": "27ea77d3",
   "metadata": {},
   "outputs": [],
   "source": [
    "corr_matrix  = df.corr().abs()"
   ]
  },
  {
   "cell_type": "code",
   "execution_count": null,
   "id": "d4daad03",
   "metadata": {},
   "outputs": [],
   "source": [
    "upper = corr_matrix.where(np.triu(np.ones(corr_matrix.shape), k=1).astype(np.bool))"
   ]
  },
  {
   "cell_type": "code",
   "execution_count": null,
   "id": "99d57720",
   "metadata": {},
   "outputs": [],
   "source": [
    "# correlation of Conversion_Session against other features\n",
    "upper['Conversion_Session'].sort_values(ascending=False)"
   ]
  }
 ],
 "metadata": {
  "kernelspec": {
   "display_name": "Python 3 (ipykernel)",
   "language": "python",
   "name": "python3"
  },
  "language_info": {
   "codemirror_mode": {
    "name": "ipython",
    "version": 3
   },
   "file_extension": ".py",
   "mimetype": "text/x-python",
   "name": "python",
   "nbconvert_exporter": "python",
   "pygments_lexer": "ipython3",
   "version": "3.9.15"
  }
 },
 "nbformat": 4,
 "nbformat_minor": 5
}
