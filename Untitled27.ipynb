{
 "cells": [
  {
   "cell_type": "code",
   "execution_count": 13,
   "id": "50e4b0d2",
   "metadata": {},
   "outputs": [
    {
     "ename": "AttributeError",
     "evalue": "'str' object has no attribute 'embedding'",
     "output_type": "error",
     "traceback": [
      "\u001b[1;31m---------------------------------------------------------------------------\u001b[0m",
      "\u001b[1;31mAttributeError\u001b[0m                            Traceback (most recent call last)",
      "Cell \u001b[1;32mIn[13], line 13\u001b[0m\n\u001b[0;32m     11\u001b[0m pos_tag_embeddings \u001b[38;5;241m=\u001b[39m {}\n\u001b[0;32m     12\u001b[0m \u001b[38;5;28;01mfor\u001b[39;00m word, tag \u001b[38;5;129;01min\u001b[39;00m tagged_words:\n\u001b[1;32m---> 13\u001b[0m     pos_tag_embeddings[tag] \u001b[38;5;241m=\u001b[39m \u001b[43mword\u001b[49m\u001b[38;5;241;43m.\u001b[39;49m\u001b[43membedding\u001b[49m\n\u001b[0;32m     15\u001b[0m \u001b[38;5;66;03m# Add the POS tag embeddings to the word embedding model\u001b[39;00m\n\u001b[0;32m     16\u001b[0m word_embedding_model\u001b[38;5;241m.\u001b[39madd_embeddings(pos_tag_embeddings)\n",
      "\u001b[1;31mAttributeError\u001b[0m: 'str' object has no attribute 'embedding'"
     ]
    }
   ],
   "source": [
    "import nltk\n",
    "\n",
    "# Load the POS tagger\n",
    "pos_tagger = nltk.tag.PerceptronTagger()\n",
    "\n",
    "training_data = ['hi']\n",
    "# Tag the words in the training data\n",
    "tagged_words = pos_tagger.tag(training_data)\n",
    "\n",
    "# Create a dictionary mapping POS tags to embedding vectors\n",
    "pos_tag_embeddings = {}\n",
    "for word, tag in tagged_words:\n",
    "    pos_tag_embeddings[tag] = word.embedding\n",
    "\n",
    "# Add the POS tag embeddings to the word embedding model\n",
    "word_embedding_model.add_embeddings(pos_tag_embeddings)\n",
    "\n",
    "# Train the word embedding model\n",
    "word_embedding_model.train()\n"
   ]
  },
  {
   "cell_type": "code",
   "execution_count": null,
   "id": "97b3a3b7",
   "metadata": {},
   "outputs": [],
   "source": []
  }
 ],
 "metadata": {
  "kernelspec": {
   "display_name": "Python (myNEWenv)",
   "language": "python",
   "name": "mynewenv"
  },
  "language_info": {
   "codemirror_mode": {
    "name": "ipython",
    "version": 3
   },
   "file_extension": ".py",
   "mimetype": "text/x-python",
   "name": "python",
   "nbconvert_exporter": "python",
   "pygments_lexer": "ipython3",
   "version": "3.10.12"
  }
 },
 "nbformat": 4,
 "nbformat_minor": 5
}
