{
 "cells": [
  {
   "cell_type": "code",
   "execution_count": 1,
   "id": "1b328b9b",
   "metadata": {},
   "outputs": [
    {
     "ename": "SyntaxError",
     "evalue": "non-default argument follows default argument (3881613038.py, line 3)",
     "output_type": "error",
     "traceback": [
      "\u001b[1;36m  Cell \u001b[1;32mIn[1], line 3\u001b[1;36m\u001b[0m\n\u001b[1;33m    def f(a=1,b):\u001b[0m\n\u001b[1;37m               ^\u001b[0m\n\u001b[1;31mSyntaxError\u001b[0m\u001b[1;31m:\u001b[0m non-default argument follows default argument\n"
     ]
    }
   ],
   "source": [
    "#1 fix the bug\n",
    "\n",
    "def f(a=1,b):\n",
    "    return 'hello' + str(a) + str(b)"
   ]
  },
  {
   "cell_type": "code",
   "execution_count": 2,
   "id": "c62274d2",
   "metadata": {},
   "outputs": [],
   "source": [
    "#2 find the bug\n",
    "\n",
    "def f(a,b=1):\n",
    "    return a,b\n",
    "    return b,a"
   ]
  },
  {
   "cell_type": "code",
   "execution_count": null,
   "id": "ee08c66b",
   "metadata": {},
   "outputs": [],
   "source": [
    "# write for loops to print all possible combinations of 4 digits"
   ]
  },
  {
   "cell_type": "code",
   "execution_count": 4,
   "id": "e585ad48",
   "metadata": {},
   "outputs": [
    {
     "ename": "ValueError",
     "evalue": "too many values to unpack (expected 2)",
     "output_type": "error",
     "traceback": [
      "\u001b[1;31m---------------------------------------------------------------------------\u001b[0m",
      "\u001b[1;31mValueError\u001b[0m                                Traceback (most recent call last)",
      "Cell \u001b[1;32mIn[4], line 3\u001b[0m\n\u001b[0;32m      1\u001b[0m \u001b[38;5;66;03m# \u001b[39;00m\n\u001b[1;32m----> 3\u001b[0m \u001b[38;5;28;01mfor\u001b[39;00m a,b \u001b[38;5;129;01min\u001b[39;00m ([\u001b[38;5;241m1\u001b[39m,\u001b[38;5;241m2\u001b[39m,\u001b[38;5;241m3\u001b[39m,\u001b[38;5;241m4\u001b[39m],[\u001b[38;5;124m'\u001b[39m\u001b[38;5;124mA\u001b[39m\u001b[38;5;124m'\u001b[39m,\u001b[38;5;124m'\u001b[39m\u001b[38;5;124mB\u001b[39m\u001b[38;5;124m'\u001b[39m,\u001b[38;5;124m'\u001b[39m\u001b[38;5;124mC\u001b[39m\u001b[38;5;124m'\u001b[39m,\u001b[38;5;124m'\u001b[39m\u001b[38;5;124mD\u001b[39m\u001b[38;5;124m'\u001b[39m]):\n\u001b[0;32m      4\u001b[0m     \u001b[38;5;28mprint\u001b[39m(a,b)\n",
      "\u001b[1;31mValueError\u001b[0m: too many values to unpack (expected 2)"
     ]
    }
   ],
   "source": [
    "# fix the bug\n",
    "\n",
    "for a,b in ([1,2,3,4],['A','B','C','D']):\n",
    "    print(a,b)"
   ]
  },
  {
   "cell_type": "code",
   "execution_count": null,
   "id": "f4dadf52",
   "metadata": {},
   "outputs": [],
   "source": [
    "# find frequency of all characters\n",
    "1) using dictionary\n",
    "2) using collection module\n",
    "\n",
    "\"\"\"Text data augmentation is an effective strategy for overcoming the challenge of limited sample sizes in many natural language\n",
    "processing (NLP) tasks. This challenge is especially prominent in the few-shot learning scenario, where the data in the target domain\n",
    "is generally much scarcer and of lowered quality. A natural and widely-used strategy to mitigate such challenges is to perform data\n",
    "augmentation to better capture the data invariance and increase the sample size. However, current text data augmentation methods\n",
    "either can’t ensure the correct labeling of the generated data (lacking faithfulness) or can’t ensure sufficient diversity in the generated\n",
    "data (lacking compactness),\"\"\""
   ]
  }
 ],
 "metadata": {
  "kernelspec": {
   "display_name": "Python 3 (ipykernel)",
   "language": "python",
   "name": "python3"
  },
  "language_info": {
   "codemirror_mode": {
    "name": "ipython",
    "version": 3
   },
   "file_extension": ".py",
   "mimetype": "text/x-python",
   "name": "python",
   "nbconvert_exporter": "python",
   "pygments_lexer": "ipython3",
   "version": "3.9.15"
  }
 },
 "nbformat": 4,
 "nbformat_minor": 5
}
