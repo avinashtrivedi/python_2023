{
 "cells": [
  {
   "cell_type": "code",
   "execution_count": 1,
   "id": "d4ba4fe6",
   "metadata": {},
   "outputs": [
    {
     "data": {
      "text/plain": [
       "AlexNet(\n",
       "  (features): Sequential(\n",
       "    (0): Conv2d(3, 64, kernel_size=(11, 11), stride=(4, 4), padding=(2, 2))\n",
       "    (1): ReLU(inplace=True)\n",
       "    (2): MaxPool2d(kernel_size=3, stride=2, padding=0, dilation=1, ceil_mode=False)\n",
       "    (3): Conv2d(64, 192, kernel_size=(5, 5), stride=(1, 1), padding=(2, 2))\n",
       "    (4): ReLU(inplace=True)\n",
       "    (5): MaxPool2d(kernel_size=3, stride=2, padding=0, dilation=1, ceil_mode=False)\n",
       "    (6): Conv2d(192, 384, kernel_size=(3, 3), stride=(1, 1), padding=(1, 1))\n",
       "    (7): ReLU(inplace=True)\n",
       "    (8): Conv2d(384, 256, kernel_size=(3, 3), stride=(1, 1), padding=(1, 1))\n",
       "    (9): ReLU(inplace=True)\n",
       "    (10): Conv2d(256, 256, kernel_size=(3, 3), stride=(1, 1), padding=(1, 1))\n",
       "    (11): ReLU(inplace=True)\n",
       "    (12): MaxPool2d(kernel_size=3, stride=2, padding=0, dilation=1, ceil_mode=False)\n",
       "  )\n",
       "  (avgpool): AdaptiveAvgPool2d(output_size=(6, 6))\n",
       "  (classifier): Sequential(\n",
       "    (0): Dropout(p=0.5, inplace=False)\n",
       "    (1): Linear(in_features=9216, out_features=4096, bias=True)\n",
       "    (2): ReLU(inplace=True)\n",
       "    (3): Dropout(p=0.5, inplace=False)\n",
       "    (4): Linear(in_features=4096, out_features=4096, bias=True)\n",
       "    (5): ReLU(inplace=True)\n",
       "    (6): Linear(in_features=4096, out_features=1000, bias=True)\n",
       "  )\n",
       ")"
      ]
     },
     "execution_count": 1,
     "metadata": {},
     "output_type": "execute_result"
    }
   ],
   "source": [
    "import torch\n",
    "from torch import nn\n",
    "from PIL import Image\n",
    "import matplotlib.pyplot as plt\n",
    "import seaborn as sns\n",
    "from torchvision import transforms\n",
    "\n",
    "try:\n",
    "    from torchmetrics.functional import pairwise_euclidean_distance\n",
    "except:\n",
    "    !pip install torchmetrics\n",
    "\n",
    "import os\n",
    "import pandas as pd\n",
    "import warnings\n",
    "warnings.filterwarnings('ignore')\n",
    "path = \"D:\\OneDrive - NITT\\CODE\\Python Scripts\\Code_2023\\Pics\"\n",
    "import torchvision.models as models\n",
    "alexnet = models.alexnet(weights=True)\n",
    "alexnet.eval()"
   ]
  },
  {
   "cell_type": "code",
   "execution_count": 2,
   "id": "f0bdca8b",
   "metadata": {},
   "outputs": [],
   "source": [
    "preprocess = transforms.Compose([\n",
    "    transforms.Resize(256),\n",
    "#     transforms.CenterCrop(224),\n",
    "    transforms.ToTensor(),\n",
    "    transforms.Normalize(mean=[0.485, 0.456, 0.406], std=[0.229, 0.224, 0.225]),\n",
    "])"
   ]
  },
  {
   "cell_type": "code",
   "execution_count": 3,
   "id": "754d2944",
   "metadata": {},
   "outputs": [],
   "source": [
    "def euc_dist(tensor1,tensor2):\n",
    "    return (tensor1 - tensor2).pow(2).sum().sqrt().tolist()"
   ]
  },
  {
   "cell_type": "code",
   "execution_count": 4,
   "id": "1e81d334",
   "metadata": {},
   "outputs": [],
   "source": [
    "def get_activations(model,image_path):\n",
    "    input_image = Image.open(image_path)\n",
    "\n",
    "    input_tensor = preprocess(input_image)\n",
    "    batch_img = torch.unsqueeze(input_tensor, 0)\n",
    "\n",
    "    output = model(batch_img)\n",
    "    conv_relu_activations = []\n",
    "    for indx,layer in enumerate(model.features):\n",
    "        if type(layer) == nn.ReLU:\n",
    "            print(f'Conv Activation for: {layer} at {indx} Loaded.')\n",
    "            activ = torch.flatten(layer(batch_img)[0])\n",
    "            conv_relu_activations.append(activ[:10].tolist())\n",
    "            \n",
    "    fc_relu_activations = []\n",
    "    for indx,layer in enumerate(model.classifier):\n",
    "        if type(layer) == nn.ReLU:\n",
    "            print(f'Fully Connected Activation for: {layer} at {indx} Loaded.')\n",
    "            activ = torch.flatten(layer(batch_img)[0])\n",
    "            fc_relu_activations.append(activ[:10].tolist())\n",
    "            \n",
    "    return conv_relu_activations,fc_relu_activations"
   ]
  },
  {
   "cell_type": "code",
   "execution_count": 5,
   "id": "c13caca5",
   "metadata": {},
   "outputs": [
    {
     "name": "stdout",
     "output_type": "stream",
     "text": [
      "Conv Activation for: ReLU(inplace=True) at 1 Loaded.\n",
      "Conv Activation for: ReLU(inplace=True) at 4 Loaded.\n",
      "Conv Activation for: ReLU(inplace=True) at 7 Loaded.\n",
      "Conv Activation for: ReLU(inplace=True) at 9 Loaded.\n",
      "Conv Activation for: ReLU(inplace=True) at 11 Loaded.\n",
      "Fully Connected Activation for: ReLU(inplace=True) at 2 Loaded.\n",
      "Fully Connected Activation for: ReLU(inplace=True) at 5 Loaded.\n",
      "001.jpg processed.\n",
      "-------------------------\n",
      "Conv Activation for: ReLU(inplace=True) at 1 Loaded.\n",
      "Conv Activation for: ReLU(inplace=True) at 4 Loaded.\n",
      "Conv Activation for: ReLU(inplace=True) at 7 Loaded.\n",
      "Conv Activation for: ReLU(inplace=True) at 9 Loaded.\n",
      "Conv Activation for: ReLU(inplace=True) at 11 Loaded.\n",
      "Fully Connected Activation for: ReLU(inplace=True) at 2 Loaded.\n",
      "Fully Connected Activation for: ReLU(inplace=True) at 5 Loaded.\n",
      "002.jpg processed.\n",
      "-------------------------\n",
      "Conv Activation for: ReLU(inplace=True) at 1 Loaded.\n",
      "Conv Activation for: ReLU(inplace=True) at 4 Loaded.\n",
      "Conv Activation for: ReLU(inplace=True) at 7 Loaded.\n",
      "Conv Activation for: ReLU(inplace=True) at 9 Loaded.\n",
      "Conv Activation for: ReLU(inplace=True) at 11 Loaded.\n",
      "Fully Connected Activation for: ReLU(inplace=True) at 2 Loaded.\n",
      "Fully Connected Activation for: ReLU(inplace=True) at 5 Loaded.\n",
      "058.jpg processed.\n",
      "-------------------------\n",
      "Conv Activation for: ReLU(inplace=True) at 1 Loaded.\n",
      "Conv Activation for: ReLU(inplace=True) at 4 Loaded.\n",
      "Conv Activation for: ReLU(inplace=True) at 7 Loaded.\n",
      "Conv Activation for: ReLU(inplace=True) at 9 Loaded.\n",
      "Conv Activation for: ReLU(inplace=True) at 11 Loaded.\n",
      "Fully Connected Activation for: ReLU(inplace=True) at 2 Loaded.\n",
      "Fully Connected Activation for: ReLU(inplace=True) at 5 Loaded.\n",
      "064.jpg processed.\n",
      "-------------------------\n"
     ]
    }
   ],
   "source": [
    "df = pd.DataFrame([])\n",
    "for image in os.listdir(path):\n",
    "    image_path = os.path.join(path,image)\n",
    "    conv,fc = get_activations(alexnet,image_path)\n",
    "    df[image] = conv + fc\n",
    "    print(f'{image} processed.')\n",
    "    print(\"-\"*25)"
   ]
  },
  {
   "cell_type": "code",
   "execution_count": null,
   "id": "0faaebc8",
   "metadata": {},
   "outputs": [],
   "source": [
    "for i in range(len(df)):\n",
    "    matrix = pairwise_euclidean_distance(torch.tensor(df.iloc[i]))\n",
    "#     sns.heatmap(matrix)\n",
    "    plt.matshow(matrix)\n",
    "    plt.show()"
   ]
  },
  {
   "cell_type": "code",
   "execution_count": 6,
   "id": "04cdc236",
   "metadata": {},
   "outputs": [],
   "source": [
    "matrix = pairwise_euclidean_distance(torch.tensor(df.iloc[0]))"
   ]
  },
  {
   "cell_type": "code",
   "execution_count": null,
   "id": "aabb3730",
   "metadata": {},
   "outputs": [],
   "source": [
    "plt.matshow(matrix)"
   ]
  },
  {
   "cell_type": "code",
   "execution_count": 11,
   "id": "f06d7269",
   "metadata": {},
   "outputs": [],
   "source": [
    "d = pd.DataFrame(matrix,columns=os.listdir(path))"
   ]
  },
  {
   "cell_type": "code",
   "execution_count": 8,
   "id": "52a76587",
   "metadata": {},
   "outputs": [
    {
     "data": {
      "text/plain": [
       "001.jpg    [1.1186745166778564, 1.1700488328933716, 0.724...\n",
       "002.jpg    [0.0, 0.0, 0.0, 0.0, 0.0, 0.0, 0.0, 0.0, 0.0, ...\n",
       "058.jpg    [0.3994349241256714, 0.0, 0.0, 0.0, 0.0, 0.0, ...\n",
       "064.jpg    [0.0, 0.0, 0.0, 0.0, 0.0, 0.0, 0.0, 0.0, 0.0, ...\n",
       "Name: 0, dtype: object"
      ]
     },
     "execution_count": 8,
     "metadata": {},
     "output_type": "execute_result"
    }
   ],
   "source": [
    "df.iloc[0]"
   ]
  },
  {
   "cell_type": "code",
   "execution_count": 12,
   "id": "34e7d809",
   "metadata": {},
   "outputs": [
    {
     "data": {
      "text/plain": [
       "001.jpg    float32\n",
       "002.jpg    float32\n",
       "058.jpg    float32\n",
       "064.jpg    float32\n",
       "dtype: object"
      ]
     },
     "execution_count": 12,
     "metadata": {},
     "output_type": "execute_result"
    }
   ],
   "source": [
    "d.dtypes"
   ]
  },
  {
   "cell_type": "code",
   "execution_count": null,
   "id": "18374c3e",
   "metadata": {},
   "outputs": [],
   "source": []
  }
 ],
 "metadata": {
  "kernelspec": {
   "display_name": "Python 3 (ipykernel)",
   "language": "python",
   "name": "python3"
  },
  "language_info": {
   "codemirror_mode": {
    "name": "ipython",
    "version": 3
   },
   "file_extension": ".py",
   "mimetype": "text/x-python",
   "name": "python",
   "nbconvert_exporter": "python",
   "pygments_lexer": "ipython3",
   "version": "3.9.15"
  }
 },
 "nbformat": 4,
 "nbformat_minor": 5
}
