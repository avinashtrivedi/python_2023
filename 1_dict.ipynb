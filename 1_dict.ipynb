{
 "cells": [
  {
   "cell_type": "code",
   "execution_count": 12,
   "id": "2ff0d747",
   "metadata": {},
   "outputs": [],
   "source": [
    "import json"
   ]
  },
  {
   "cell_type": "code",
   "execution_count": 13,
   "id": "60be377d",
   "metadata": {},
   "outputs": [],
   "source": [
    "with open(r\"D:\\OneDrive - NITT\\Custom_Download\\traverse_intermediate.json\") as fp:\n",
    "    data = json.load(fp)"
   ]
  },
  {
   "cell_type": "code",
   "execution_count": null,
   "id": "ff30ff0c",
   "metadata": {},
   "outputs": [],
   "source": [
    "author, ebook,title, identigfier,pub,page"
   ]
  },
  {
   "cell_type": "code",
   "execution_count": 21,
   "id": "be5c742d",
   "metadata": {},
   "outputs": [
    {
     "data": {
      "text/plain": [
       "dict_keys(['records', 'items'])"
      ]
     },
     "execution_count": 21,
     "metadata": {},
     "output_type": "execute_result"
    }
   ],
   "source": [
    "data.keys()"
   ]
  },
  {
   "cell_type": "code",
   "execution_count": 27,
   "id": "fbca262a",
   "metadata": {},
   "outputs": [
    {
     "data": {
      "text/plain": [
       "dict_keys(['isbns', 'issns', 'lccns', 'oclcs', 'olids', 'publishDates', 'recordURL', 'data', 'details'])"
      ]
     },
     "execution_count": 27,
     "metadata": {},
     "output_type": "execute_result"
    }
   ],
   "source": [
    "data['records']['/books/OL2842220M'].keys()"
   ]
  },
  {
   "cell_type": "code",
   "execution_count": 32,
   "id": "79748c94",
   "metadata": {},
   "outputs": [
    {
     "data": {
      "text/plain": [
       "['1984']"
      ]
     },
     "execution_count": 32,
     "metadata": {},
     "output_type": "execute_result"
    }
   ],
   "source": [
    "data['records']['/books/OL2842220M']['publishDates']"
   ]
  },
  {
   "cell_type": "code",
   "execution_count": 31,
   "id": "08f2d16c",
   "metadata": {},
   "outputs": [
    {
     "data": {
      "text/plain": [
       "'http://openlibrary.org/books/OL2842220M/Interstellar_pig'"
      ]
     },
     "execution_count": 31,
     "metadata": {},
     "output_type": "execute_result"
    }
   ],
   "source": [
    "data['records']['/books/OL2842220M']['recordURL']"
   ]
  },
  {
   "cell_type": "code",
   "execution_count": 37,
   "id": "d17bc13e",
   "metadata": {},
   "outputs": [
    {
     "data": {
      "text/plain": [
       "'Interstellar pig'"
      ]
     },
     "execution_count": 37,
     "metadata": {},
     "output_type": "execute_result"
    }
   ],
   "source": [
    "data['records']['/books/OL2842220M']['data']['title']"
   ]
  },
  {
   "cell_type": "code",
   "execution_count": 40,
   "id": "86a99a99",
   "metadata": {},
   "outputs": [
    {
     "data": {
      "text/plain": [
       "[{'url': 'http://openlibrary.org/authors/OL19688A/William_Sleator',\n",
       "  'name': 'William Sleator'}]"
      ]
     },
     "execution_count": 40,
     "metadata": {},
     "output_type": "execute_result"
    }
   ],
   "source": [
    "data['records']['/books/OL2842220M']['data']['authors']"
   ]
  },
  {
   "cell_type": "code",
   "execution_count": 45,
   "id": "d8afb293",
   "metadata": {},
   "outputs": [
    {
     "data": {
      "text/plain": [
       "['William Sleator']"
      ]
     },
     "execution_count": 45,
     "metadata": {},
     "output_type": "execute_result"
    }
   ],
   "source": [
    "[i['name'] for i in data['records']['/books/OL2842220M']['data']['authors']]"
   ]
  },
  {
   "cell_type": "code",
   "execution_count": 46,
   "id": "cbe72be8",
   "metadata": {},
   "outputs": [
    {
     "data": {
      "text/plain": [
       "197"
      ]
     },
     "execution_count": 46,
     "metadata": {},
     "output_type": "execute_result"
    }
   ],
   "source": [
    "data['records']['/books/OL2842220M']['data']['number_of_pages']"
   ]
  },
  {
   "cell_type": "code",
   "execution_count": 49,
   "id": "f7cc3484",
   "metadata": {},
   "outputs": [
    {
     "data": {
      "text/plain": [
       "{'librarything': ['52348'],\n",
       " 'goodreads': ['3891166'],\n",
       " 'isbn_10': ['0525440984'],\n",
       " 'isbn_13': ['9780525440987'],\n",
       " 'lccn': ['84004132'],\n",
       " 'oclc': ['10557711'],\n",
       " 'openlibrary': ['OL2842220M']}"
      ]
     },
     "execution_count": 49,
     "metadata": {},
     "output_type": "execute_result"
    }
   ],
   "source": [
    "data['records']['/books/OL2842220M']['data']['identifiers']"
   ]
  },
  {
   "cell_type": "code",
   "execution_count": 55,
   "id": "206b9153",
   "metadata": {},
   "outputs": [
    {
     "data": {
      "text/plain": [
       "{'librarything': ['52348'],\n",
       " 'goodreads': ['3891166'],\n",
       " 'isbn_10': ['0525440984'],\n",
       " 'isbn_13': ['9780525440987'],\n",
       " 'lccn': ['84004132'],\n",
       " 'oclc': ['10557711'],\n",
       " 'openlibrary': ['OL2842220M']}"
      ]
     },
     "execution_count": 55,
     "metadata": {},
     "output_type": "execute_result"
    }
   ],
   "source": [
    "ident = data['records']['/books/OL2842220M']['data']['identifiers']\n",
    "ident"
   ]
  },
  {
   "cell_type": "code",
   "execution_count": 56,
   "id": "9e7e2b21",
   "metadata": {},
   "outputs": [
    {
     "data": {
      "text/plain": [
       "{'librarything': '52348',\n",
       " 'goodreads': '3891166',\n",
       " 'isbn_10': '0525440984',\n",
       " 'isbn_13': '9780525440987',\n",
       " 'lccn': '84004132',\n",
       " 'oclc': '10557711',\n",
       " 'openlibrary': 'OL2842220M'}"
      ]
     },
     "execution_count": 56,
     "metadata": {},
     "output_type": "execute_result"
    }
   ],
   "source": [
    "{i:ident[i][0] for i in ident}"
   ]
  },
  {
   "cell_type": "code",
   "execution_count": 60,
   "id": "2e214b17",
   "metadata": {},
   "outputs": [
    {
     "data": {
      "text/plain": [
       "'E.P. Dutton'"
      ]
     },
     "execution_count": 60,
     "metadata": {},
     "output_type": "execute_result"
    }
   ],
   "source": [
    "data['records']['/books/OL2842220M']['data']['publishers'][0]['name']"
   ]
  },
  {
   "cell_type": "code",
   "execution_count": null,
   "id": "893ff254",
   "metadata": {},
   "outputs": [],
   "source": [
    "publish_places"
   ]
  },
  {
   "cell_type": "code",
   "execution_count": 63,
   "id": "d416347d",
   "metadata": {},
   "outputs": [
    {
     "data": {
      "text/plain": [
       "'New York, N.Y'"
      ]
     },
     "execution_count": 63,
     "metadata": {},
     "output_type": "execute_result"
    }
   ],
   "source": [
    "data['records']['/books/OL2842220M']['data']['publish_places'][0]['name']"
   ]
  },
  {
   "cell_type": "markdown",
   "id": "a0d361aa",
   "metadata": {},
   "source": [
    "# combine"
   ]
  },
  {
   "cell_type": "code",
   "execution_count": 89,
   "id": "f5f553e7",
   "metadata": {},
   "outputs": [],
   "source": [
    "d = data['records']['/books/OL2842220M']['data']"
   ]
  },
  {
   "cell_type": "code",
   "execution_count": 101,
   "id": "c952a14a",
   "metadata": {},
   "outputs": [],
   "source": [
    "t = {key:d[key] if key not in ['publish_places','publishers'] else [i['name'] for i in d[key]] for key in keys}"
   ]
  },
  {
   "cell_type": "code",
   "execution_count": 102,
   "id": "5583471c",
   "metadata": {},
   "outputs": [
    {
     "data": {
      "text/plain": [
       "{'title': 'Interstellar pig',\n",
       " 'number_of_pages': 197,\n",
       " 'publish_date': '1984',\n",
       " 'publish_places': ['New York, N.Y'],\n",
       " 'publishers': ['E.P. Dutton']}"
      ]
     },
     "execution_count": 102,
     "metadata": {},
     "output_type": "execute_result"
    }
   ],
   "source": [
    "t"
   ]
  },
  {
   "cell_type": "code",
   "execution_count": null,
   "id": "d1ca2a3c",
   "metadata": {},
   "outputs": [],
   "source": []
  },
  {
   "cell_type": "code",
   "execution_count": null,
   "id": "df1481b2",
   "metadata": {},
   "outputs": [],
   "source": []
  },
  {
   "cell_type": "code",
   "execution_count": null,
   "id": "43272ece",
   "metadata": {},
   "outputs": [],
   "source": []
  },
  {
   "cell_type": "code",
   "execution_count": null,
   "id": "546a9915",
   "metadata": {},
   "outputs": [],
   "source": []
  },
  {
   "cell_type": "code",
   "execution_count": null,
   "id": "c2ccbf3e",
   "metadata": {},
   "outputs": [],
   "source": []
  },
  {
   "cell_type": "code",
   "execution_count": null,
   "id": "58979a71",
   "metadata": {},
   "outputs": [],
   "source": []
  },
  {
   "cell_type": "code",
   "execution_count": null,
   "id": "794fd814",
   "metadata": {},
   "outputs": [],
   "source": []
  },
  {
   "cell_type": "code",
   "execution_count": 93,
   "id": "3d0d9742",
   "metadata": {},
   "outputs": [],
   "source": [
    "import pandas as pd"
   ]
  },
  {
   "cell_type": "code",
   "execution_count": 100,
   "id": "fa1801ed",
   "metadata": {},
   "outputs": [
    {
     "data": {
      "text/html": [
       "<div>\n",
       "<style scoped>\n",
       "    .dataframe tbody tr th:only-of-type {\n",
       "        vertical-align: middle;\n",
       "    }\n",
       "\n",
       "    .dataframe tbody tr th {\n",
       "        vertical-align: top;\n",
       "    }\n",
       "\n",
       "    .dataframe thead th {\n",
       "        text-align: right;\n",
       "    }\n",
       "</style>\n",
       "<table border=\"1\" class=\"dataframe\">\n",
       "  <thead>\n",
       "    <tr style=\"text-align: right;\">\n",
       "      <th></th>\n",
       "      <th>title</th>\n",
       "      <th>number_of_pages</th>\n",
       "      <th>publish_date</th>\n",
       "      <th>publish_places</th>\n",
       "      <th>publishers</th>\n",
       "    </tr>\n",
       "  </thead>\n",
       "  <tbody>\n",
       "    <tr>\n",
       "      <th>0</th>\n",
       "      <td>Interstellar pig</td>\n",
       "      <td>197</td>\n",
       "      <td>1984</td>\n",
       "      <td>New York, N.Y</td>\n",
       "      <td>E.P. Dutton</td>\n",
       "    </tr>\n",
       "  </tbody>\n",
       "</table>\n",
       "</div>"
      ],
      "text/plain": [
       "              title number_of_pages publish_date publish_places   publishers\n",
       "0  Interstellar pig             197         1984  New York, N.Y  E.P. Dutton"
      ]
     },
     "execution_count": 100,
     "metadata": {},
     "output_type": "execute_result"
    }
   ],
   "source": [
    "pd.DataFrame.from_dict(t, orient='index').T"
   ]
  },
  {
   "cell_type": "code",
   "execution_count": null,
   "id": "27bf8e4c",
   "metadata": {},
   "outputs": [],
   "source": []
  },
  {
   "cell_type": "code",
   "execution_count": null,
   "id": "8ed3cbd0",
   "metadata": {},
   "outputs": [],
   "source": []
  },
  {
   "cell_type": "code",
   "execution_count": null,
   "id": "0f098471",
   "metadata": {},
   "outputs": [],
   "source": []
  },
  {
   "cell_type": "code",
   "execution_count": null,
   "id": "43501cce",
   "metadata": {},
   "outputs": [],
   "source": []
  },
  {
   "cell_type": "code",
   "execution_count": null,
   "id": "052bf64b",
   "metadata": {},
   "outputs": [],
   "source": []
  },
  {
   "cell_type": "code",
   "execution_count": 70,
   "id": "741f2cd6",
   "metadata": {},
   "outputs": [],
   "source": [
    "keys = ['title','number_of_pages','publish_date','publish_places','publishers']"
   ]
  },
  {
   "cell_type": "code",
   "execution_count": 69,
   "id": "57339360",
   "metadata": {},
   "outputs": [
    {
     "data": {
      "text/plain": [
       "'Interstellar pig'"
      ]
     },
     "execution_count": 69,
     "metadata": {},
     "output_type": "execute_result"
    }
   ],
   "source": [
    "d['title']"
   ]
  },
  {
   "cell_type": "code",
   "execution_count": 65,
   "id": "87a79d40",
   "metadata": {},
   "outputs": [
    {
     "data": {
      "text/plain": [
       "dict_keys(['url', 'key', 'title', 'authors', 'number_of_pages', 'pagination', 'by_statement', 'identifiers', 'classifications', 'publishers', 'publish_places', 'publish_date', 'subjects', 'notes', 'ebooks', 'cover'])"
      ]
     },
     "execution_count": 65,
     "metadata": {},
     "output_type": "execute_result"
    }
   ],
   "source": [
    "data['records']['/books/OL2842220M']['data'].keys()"
   ]
  },
  {
   "cell_type": "code",
   "execution_count": null,
   "id": "17de35f7",
   "metadata": {},
   "outputs": [],
   "source": []
  }
 ],
 "metadata": {
  "kernelspec": {
   "display_name": "Python 3 (ipykernel)",
   "language": "python",
   "name": "python3"
  },
  "language_info": {
   "codemirror_mode": {
    "name": "ipython",
    "version": 3
   },
   "file_extension": ".py",
   "mimetype": "text/x-python",
   "name": "python",
   "nbconvert_exporter": "python",
   "pygments_lexer": "ipython3",
   "version": "3.9.15"
  }
 },
 "nbformat": 4,
 "nbformat_minor": 5
}
