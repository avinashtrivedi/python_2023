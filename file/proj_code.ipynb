{
 "cells": [
  {
   "cell_type": "code",
   "execution_count": 5,
   "id": "74956722",
   "metadata": {},
   "outputs": [],
   "source": [
    "import pandas as pd"
   ]
  },
  {
   "cell_type": "code",
   "execution_count": 6,
   "id": "b057b753",
   "metadata": {},
   "outputs": [],
   "source": [
    "df_Sanitization = pd.read_csv('safelySanitization.csv')\n",
    "df_HandWashing = pd.read_csv('basicHandWashing.csv')\n",
    "df_Drinking = pd.read_csv('basicDrinkingWaterServices.csv')\n",
    "df_BasicSanitization = pd.read_csv('atLeastBasicSanitizationServices.csv')"
   ]
  },
  {
   "cell_type": "code",
   "execution_count": 7,
   "id": "fa40a6bf",
   "metadata": {},
   "outputs": [
    {
     "data": {
      "text/html": [
       "<div>\n",
       "<style scoped>\n",
       "    .dataframe tbody tr th:only-of-type {\n",
       "        vertical-align: middle;\n",
       "    }\n",
       "\n",
       "    .dataframe tbody tr th {\n",
       "        vertical-align: top;\n",
       "    }\n",
       "\n",
       "    .dataframe thead th {\n",
       "        text-align: right;\n",
       "    }\n",
       "</style>\n",
       "<table border=\"1\" class=\"dataframe\">\n",
       "  <thead>\n",
       "    <tr style=\"text-align: right;\">\n",
       "      <th></th>\n",
       "      <th>Location</th>\n",
       "      <th>Indicator</th>\n",
       "      <th>Period</th>\n",
       "      <th>Dim1</th>\n",
       "      <th>First Tooltip</th>\n",
       "    </tr>\n",
       "  </thead>\n",
       "  <tbody>\n",
       "    <tr>\n",
       "      <th>0</th>\n",
       "      <td>Albania</td>\n",
       "      <td>Population using safely managed sanitation ser...</td>\n",
       "      <td>2017</td>\n",
       "      <td>Total</td>\n",
       "      <td>39.86</td>\n",
       "    </tr>\n",
       "    <tr>\n",
       "      <th>1</th>\n",
       "      <td>Albania</td>\n",
       "      <td>Population using safely managed sanitation ser...</td>\n",
       "      <td>2017</td>\n",
       "      <td>Urban</td>\n",
       "      <td>40.17</td>\n",
       "    </tr>\n",
       "    <tr>\n",
       "      <th>2</th>\n",
       "      <td>Albania</td>\n",
       "      <td>Population using safely managed sanitation ser...</td>\n",
       "      <td>2017</td>\n",
       "      <td>Rural</td>\n",
       "      <td>39.39</td>\n",
       "    </tr>\n",
       "    <tr>\n",
       "      <th>3</th>\n",
       "      <td>Albania</td>\n",
       "      <td>Population using safely managed sanitation ser...</td>\n",
       "      <td>2016</td>\n",
       "      <td>Total</td>\n",
       "      <td>39.85</td>\n",
       "    </tr>\n",
       "    <tr>\n",
       "      <th>4</th>\n",
       "      <td>Albania</td>\n",
       "      <td>Population using safely managed sanitation ser...</td>\n",
       "      <td>2016</td>\n",
       "      <td>Urban</td>\n",
       "      <td>40.17</td>\n",
       "    </tr>\n",
       "  </tbody>\n",
       "</table>\n",
       "</div>"
      ],
      "text/plain": [
       "  Location                                          Indicator  Period   Dim1  \\\n",
       "0  Albania  Population using safely managed sanitation ser...    2017  Total   \n",
       "1  Albania  Population using safely managed sanitation ser...    2017  Urban   \n",
       "2  Albania  Population using safely managed sanitation ser...    2017  Rural   \n",
       "3  Albania  Population using safely managed sanitation ser...    2016  Total   \n",
       "4  Albania  Population using safely managed sanitation ser...    2016  Urban   \n",
       "\n",
       "   First Tooltip  \n",
       "0          39.86  \n",
       "1          40.17  \n",
       "2          39.39  \n",
       "3          39.85  \n",
       "4          40.17  "
      ]
     },
     "execution_count": 7,
     "metadata": {},
     "output_type": "execute_result"
    }
   ],
   "source": [
    "df_Sanitization.head()"
   ]
  },
  {
   "cell_type": "code",
   "execution_count": 9,
   "id": "0d4b04c1",
   "metadata": {},
   "outputs": [
    {
     "data": {
      "text/html": [
       "<div>\n",
       "<style scoped>\n",
       "    .dataframe tbody tr th:only-of-type {\n",
       "        vertical-align: middle;\n",
       "    }\n",
       "\n",
       "    .dataframe tbody tr th {\n",
       "        vertical-align: top;\n",
       "    }\n",
       "\n",
       "    .dataframe thead th {\n",
       "        text-align: right;\n",
       "    }\n",
       "</style>\n",
       "<table border=\"1\" class=\"dataframe\">\n",
       "  <thead>\n",
       "    <tr style=\"text-align: right;\">\n",
       "      <th></th>\n",
       "      <th>Location</th>\n",
       "      <th>Indicator</th>\n",
       "      <th>Period</th>\n",
       "      <th>Dim1</th>\n",
       "      <th>First Tooltip</th>\n",
       "    </tr>\n",
       "  </thead>\n",
       "  <tbody>\n",
       "    <tr>\n",
       "      <th>0</th>\n",
       "      <td>Afghanistan</td>\n",
       "      <td>Population with basic handwashing facilities a...</td>\n",
       "      <td>2017</td>\n",
       "      <td>Total</td>\n",
       "      <td>37.75</td>\n",
       "    </tr>\n",
       "    <tr>\n",
       "      <th>1</th>\n",
       "      <td>Afghanistan</td>\n",
       "      <td>Population with basic handwashing facilities a...</td>\n",
       "      <td>2017</td>\n",
       "      <td>Urban</td>\n",
       "      <td>63.58</td>\n",
       "    </tr>\n",
       "    <tr>\n",
       "      <th>2</th>\n",
       "      <td>Afghanistan</td>\n",
       "      <td>Population with basic handwashing facilities a...</td>\n",
       "      <td>2017</td>\n",
       "      <td>Rural</td>\n",
       "      <td>29.02</td>\n",
       "    </tr>\n",
       "    <tr>\n",
       "      <th>3</th>\n",
       "      <td>Afghanistan</td>\n",
       "      <td>Population with basic handwashing facilities a...</td>\n",
       "      <td>2016</td>\n",
       "      <td>Total</td>\n",
       "      <td>37.67</td>\n",
       "    </tr>\n",
       "    <tr>\n",
       "      <th>4</th>\n",
       "      <td>Afghanistan</td>\n",
       "      <td>Population with basic handwashing facilities a...</td>\n",
       "      <td>2016</td>\n",
       "      <td>Urban</td>\n",
       "      <td>63.58</td>\n",
       "    </tr>\n",
       "  </tbody>\n",
       "</table>\n",
       "</div>"
      ],
      "text/plain": [
       "      Location                                          Indicator  Period  \\\n",
       "0  Afghanistan  Population with basic handwashing facilities a...    2017   \n",
       "1  Afghanistan  Population with basic handwashing facilities a...    2017   \n",
       "2  Afghanistan  Population with basic handwashing facilities a...    2017   \n",
       "3  Afghanistan  Population with basic handwashing facilities a...    2016   \n",
       "4  Afghanistan  Population with basic handwashing facilities a...    2016   \n",
       "\n",
       "    Dim1  First Tooltip  \n",
       "0  Total          37.75  \n",
       "1  Urban          63.58  \n",
       "2  Rural          29.02  \n",
       "3  Total          37.67  \n",
       "4  Urban          63.58  "
      ]
     },
     "execution_count": 9,
     "metadata": {},
     "output_type": "execute_result"
    }
   ],
   "source": [
    "df_HandWashing.head()"
   ]
  },
  {
   "cell_type": "code",
   "execution_count": 10,
   "id": "f21e464b",
   "metadata": {},
   "outputs": [
    {
     "data": {
      "text/html": [
       "<div>\n",
       "<style scoped>\n",
       "    .dataframe tbody tr th:only-of-type {\n",
       "        vertical-align: middle;\n",
       "    }\n",
       "\n",
       "    .dataframe tbody tr th {\n",
       "        vertical-align: top;\n",
       "    }\n",
       "\n",
       "    .dataframe thead th {\n",
       "        text-align: right;\n",
       "    }\n",
       "</style>\n",
       "<table border=\"1\" class=\"dataframe\">\n",
       "  <thead>\n",
       "    <tr style=\"text-align: right;\">\n",
       "      <th></th>\n",
       "      <th>Location</th>\n",
       "      <th>Period</th>\n",
       "      <th>Indicator</th>\n",
       "      <th>First Tooltip</th>\n",
       "    </tr>\n",
       "  </thead>\n",
       "  <tbody>\n",
       "    <tr>\n",
       "      <th>0</th>\n",
       "      <td>Afghanistan</td>\n",
       "      <td>2017</td>\n",
       "      <td>Population using at least basic drinking-water...</td>\n",
       "      <td>57.32</td>\n",
       "    </tr>\n",
       "    <tr>\n",
       "      <th>1</th>\n",
       "      <td>Afghanistan</td>\n",
       "      <td>2016</td>\n",
       "      <td>Population using at least basic drinking-water...</td>\n",
       "      <td>54.84</td>\n",
       "    </tr>\n",
       "    <tr>\n",
       "      <th>2</th>\n",
       "      <td>Afghanistan</td>\n",
       "      <td>2015</td>\n",
       "      <td>Population using at least basic drinking-water...</td>\n",
       "      <td>52.39</td>\n",
       "    </tr>\n",
       "    <tr>\n",
       "      <th>3</th>\n",
       "      <td>Afghanistan</td>\n",
       "      <td>2014</td>\n",
       "      <td>Population using at least basic drinking-water...</td>\n",
       "      <td>49.96</td>\n",
       "    </tr>\n",
       "    <tr>\n",
       "      <th>4</th>\n",
       "      <td>Afghanistan</td>\n",
       "      <td>2013</td>\n",
       "      <td>Population using at least basic drinking-water...</td>\n",
       "      <td>47.56</td>\n",
       "    </tr>\n",
       "  </tbody>\n",
       "</table>\n",
       "</div>"
      ],
      "text/plain": [
       "      Location  Period                                          Indicator  \\\n",
       "0  Afghanistan    2017  Population using at least basic drinking-water...   \n",
       "1  Afghanistan    2016  Population using at least basic drinking-water...   \n",
       "2  Afghanistan    2015  Population using at least basic drinking-water...   \n",
       "3  Afghanistan    2014  Population using at least basic drinking-water...   \n",
       "4  Afghanistan    2013  Population using at least basic drinking-water...   \n",
       "\n",
       "   First Tooltip  \n",
       "0          57.32  \n",
       "1          54.84  \n",
       "2          52.39  \n",
       "3          49.96  \n",
       "4          47.56  "
      ]
     },
     "execution_count": 10,
     "metadata": {},
     "output_type": "execute_result"
    }
   ],
   "source": [
    "df_Drinking.head()"
   ]
  },
  {
   "cell_type": "code",
   "execution_count": 11,
   "id": "1551153d",
   "metadata": {},
   "outputs": [
    {
     "data": {
      "text/html": [
       "<div>\n",
       "<style scoped>\n",
       "    .dataframe tbody tr th:only-of-type {\n",
       "        vertical-align: middle;\n",
       "    }\n",
       "\n",
       "    .dataframe tbody tr th {\n",
       "        vertical-align: top;\n",
       "    }\n",
       "\n",
       "    .dataframe thead th {\n",
       "        text-align: right;\n",
       "    }\n",
       "</style>\n",
       "<table border=\"1\" class=\"dataframe\">\n",
       "  <thead>\n",
       "    <tr style=\"text-align: right;\">\n",
       "      <th></th>\n",
       "      <th>Location</th>\n",
       "      <th>Indicator</th>\n",
       "      <th>Period</th>\n",
       "      <th>Dim1</th>\n",
       "      <th>First Tooltip</th>\n",
       "    </tr>\n",
       "  </thead>\n",
       "  <tbody>\n",
       "    <tr>\n",
       "      <th>0</th>\n",
       "      <td>Afghanistan</td>\n",
       "      <td>Population using at least basic sanitation ser...</td>\n",
       "      <td>2017</td>\n",
       "      <td>Total</td>\n",
       "      <td>43.42</td>\n",
       "    </tr>\n",
       "    <tr>\n",
       "      <th>1</th>\n",
       "      <td>Afghanistan</td>\n",
       "      <td>Population using at least basic sanitation ser...</td>\n",
       "      <td>2017</td>\n",
       "      <td>Urban</td>\n",
       "      <td>62.26</td>\n",
       "    </tr>\n",
       "    <tr>\n",
       "      <th>2</th>\n",
       "      <td>Afghanistan</td>\n",
       "      <td>Population using at least basic sanitation ser...</td>\n",
       "      <td>2017</td>\n",
       "      <td>Rural</td>\n",
       "      <td>37.05</td>\n",
       "    </tr>\n",
       "    <tr>\n",
       "      <th>3</th>\n",
       "      <td>Afghanistan</td>\n",
       "      <td>Population using at least basic sanitation ser...</td>\n",
       "      <td>2016</td>\n",
       "      <td>Total</td>\n",
       "      <td>42.05</td>\n",
       "    </tr>\n",
       "    <tr>\n",
       "      <th>4</th>\n",
       "      <td>Afghanistan</td>\n",
       "      <td>Population using at least basic sanitation ser...</td>\n",
       "      <td>2016</td>\n",
       "      <td>Urban</td>\n",
       "      <td>59.92</td>\n",
       "    </tr>\n",
       "  </tbody>\n",
       "</table>\n",
       "</div>"
      ],
      "text/plain": [
       "      Location                                          Indicator  Period  \\\n",
       "0  Afghanistan  Population using at least basic sanitation ser...    2017   \n",
       "1  Afghanistan  Population using at least basic sanitation ser...    2017   \n",
       "2  Afghanistan  Population using at least basic sanitation ser...    2017   \n",
       "3  Afghanistan  Population using at least basic sanitation ser...    2016   \n",
       "4  Afghanistan  Population using at least basic sanitation ser...    2016   \n",
       "\n",
       "    Dim1  First Tooltip  \n",
       "0  Total          43.42  \n",
       "1  Urban          62.26  \n",
       "2  Rural          37.05  \n",
       "3  Total          42.05  \n",
       "4  Urban          59.92  "
      ]
     },
     "execution_count": 11,
     "metadata": {},
     "output_type": "execute_result"
    }
   ],
   "source": [
    "df_BasicSanitization.head()"
   ]
  },
  {
   "cell_type": "markdown",
   "id": "5bae157d",
   "metadata": {},
   "source": [
    "# Q1"
   ]
  },
  {
   "cell_type": "code",
   "execution_count": 42,
   "id": "02c0113d",
   "metadata": {},
   "outputs": [],
   "source": [
    "country_1 = set(df_Sanitization['Location'])\n",
    "country_2 = set(df_HandWashing['Location'])\n",
    "\n",
    "country_3 = set(df_Drinking['Location'])\n",
    "country_4 = set(df_BasicSanitization['Location'])"
   ]
  },
  {
   "cell_type": "code",
   "execution_count": 43,
   "id": "af227d96",
   "metadata": {},
   "outputs": [],
   "source": [
    "country_1 = {c.title() for c in country_1}\n",
    "country_2 = {c.title() for c in country_2}\n",
    "country_3 = {c.title() for c in country_3}\n",
    "country_4 = {c.title() for c in country_4}"
   ]
  },
  {
   "cell_type": "code",
   "execution_count": 44,
   "id": "75f196fc",
   "metadata": {},
   "outputs": [
    {
     "data": {
      "text/plain": [
       "100"
      ]
     },
     "execution_count": 44,
     "metadata": {},
     "output_type": "execute_result"
    }
   ],
   "source": [
    "len(country_1)"
   ]
  },
  {
   "cell_type": "code",
   "execution_count": 45,
   "id": "6751b28f",
   "metadata": {},
   "outputs": [
    {
     "data": {
      "text/plain": [
       "97"
      ]
     },
     "execution_count": 45,
     "metadata": {},
     "output_type": "execute_result"
    }
   ],
   "source": [
    "len(country_2)"
   ]
  },
  {
   "cell_type": "code",
   "execution_count": 46,
   "id": "e62acdfb",
   "metadata": {},
   "outputs": [
    {
     "data": {
      "text/plain": [
       "195"
      ]
     },
     "execution_count": 46,
     "metadata": {},
     "output_type": "execute_result"
    }
   ],
   "source": [
    "len(country_3)"
   ]
  },
  {
   "cell_type": "code",
   "execution_count": 47,
   "id": "9b738f89",
   "metadata": {},
   "outputs": [
    {
     "data": {
      "text/plain": [
       "195"
      ]
     },
     "execution_count": 47,
     "metadata": {},
     "output_type": "execute_result"
    }
   ],
   "source": [
    "len(country_4)"
   ]
  },
  {
   "cell_type": "code",
   "execution_count": 48,
   "id": "8745defb",
   "metadata": {},
   "outputs": [],
   "source": [
    "overlapping_country = country_1.intersection(country_2).intersection(country_3).intersection(country_4)"
   ]
  },
  {
   "cell_type": "code",
   "execution_count": 49,
   "id": "5fee542d",
   "metadata": {},
   "outputs": [
    {
     "data": {
      "text/plain": [
       "32"
      ]
     },
     "execution_count": 49,
     "metadata": {},
     "output_type": "execute_result"
    }
   ],
   "source": [
    "len(overlapping_country)"
   ]
  },
  {
   "cell_type": "code",
   "execution_count": 50,
   "id": "d3c816fe",
   "metadata": {},
   "outputs": [
    {
     "data": {
      "text/plain": [
       "{'Algeria',\n",
       " 'Armenia',\n",
       " 'Azerbaijan',\n",
       " 'Bangladesh',\n",
       " 'Bolivia (Plurinational State Of)',\n",
       " 'Bosnia And Herzegovina',\n",
       " 'Colombia',\n",
       " 'Cuba',\n",
       " 'Ecuador',\n",
       " 'Egypt',\n",
       " 'Ethiopia',\n",
       " 'Honduras',\n",
       " 'India',\n",
       " 'Iraq',\n",
       " 'Kazakhstan',\n",
       " \"Lao People'S Democratic Republic\",\n",
       " 'Mali',\n",
       " 'Mexico',\n",
       " 'Mozambique',\n",
       " 'Niger',\n",
       " 'Nigeria',\n",
       " 'Paraguay',\n",
       " 'Peru',\n",
       " 'Philippines',\n",
       " 'Republic Of Moldova',\n",
       " 'Senegal',\n",
       " 'Serbia',\n",
       " 'Sierra Leone',\n",
       " 'Tunisia',\n",
       " 'United Republic Of Tanzania',\n",
       " 'Yemen',\n",
       " 'Zimbabwe'}"
      ]
     },
     "execution_count": 50,
     "metadata": {},
     "output_type": "execute_result"
    }
   ],
   "source": [
    "overlapping_country"
   ]
  },
  {
   "cell_type": "code",
   "execution_count": 52,
   "id": "7876bbef",
   "metadata": {},
   "outputs": [],
   "source": [
    "df_overlap = pd.DataFrame({'Overlapping_country':list(overlapping_country)})"
   ]
  },
  {
   "cell_type": "code",
   "execution_count": 54,
   "id": "f0722354",
   "metadata": {},
   "outputs": [],
   "source": [
    "df_overlap.to_csv('overlap.csv',index=False)"
   ]
  },
  {
   "cell_type": "markdown",
   "id": "bce8db10",
   "metadata": {},
   "source": [
    "# Q2"
   ]
  },
  {
   "cell_type": "code",
   "execution_count": 59,
   "id": "adc1b871",
   "metadata": {},
   "outputs": [],
   "source": [
    "df_Sanitization = df_Sanitization[df_Sanitization['Dim1']=='Total']\n",
    "df_HandWashing = df_HandWashing[df_HandWashing['Dim1']=='Total']\n",
    "df_BasicSanitization = df_BasicSanitization[df_BasicSanitization['Dim1']=='Total']"
   ]
  },
  {
   "cell_type": "code",
   "execution_count": 60,
   "id": "63ba6d7e",
   "metadata": {},
   "outputs": [
    {
     "data": {
      "text/html": [
       "<div>\n",
       "<style scoped>\n",
       "    .dataframe tbody tr th:only-of-type {\n",
       "        vertical-align: middle;\n",
       "    }\n",
       "\n",
       "    .dataframe tbody tr th {\n",
       "        vertical-align: top;\n",
       "    }\n",
       "\n",
       "    .dataframe thead th {\n",
       "        text-align: right;\n",
       "    }\n",
       "</style>\n",
       "<table border=\"1\" class=\"dataframe\">\n",
       "  <thead>\n",
       "    <tr style=\"text-align: right;\">\n",
       "      <th></th>\n",
       "      <th>Location</th>\n",
       "      <th>Indicator</th>\n",
       "      <th>Period</th>\n",
       "      <th>Dim1</th>\n",
       "      <th>First Tooltip</th>\n",
       "    </tr>\n",
       "  </thead>\n",
       "  <tbody>\n",
       "    <tr>\n",
       "      <th>0</th>\n",
       "      <td>Albania</td>\n",
       "      <td>Population using safely managed sanitation ser...</td>\n",
       "      <td>2017</td>\n",
       "      <td>Total</td>\n",
       "      <td>39.86</td>\n",
       "    </tr>\n",
       "    <tr>\n",
       "      <th>3</th>\n",
       "      <td>Albania</td>\n",
       "      <td>Population using safely managed sanitation ser...</td>\n",
       "      <td>2016</td>\n",
       "      <td>Total</td>\n",
       "      <td>39.85</td>\n",
       "    </tr>\n",
       "    <tr>\n",
       "      <th>6</th>\n",
       "      <td>Albania</td>\n",
       "      <td>Population using safely managed sanitation ser...</td>\n",
       "      <td>2015</td>\n",
       "      <td>Total</td>\n",
       "      <td>39.84</td>\n",
       "    </tr>\n",
       "    <tr>\n",
       "      <th>9</th>\n",
       "      <td>Albania</td>\n",
       "      <td>Population using safely managed sanitation ser...</td>\n",
       "      <td>2014</td>\n",
       "      <td>Total</td>\n",
       "      <td>39.83</td>\n",
       "    </tr>\n",
       "    <tr>\n",
       "      <th>12</th>\n",
       "      <td>Albania</td>\n",
       "      <td>Population using safely managed sanitation ser...</td>\n",
       "      <td>2013</td>\n",
       "      <td>Total</td>\n",
       "      <td>39.60</td>\n",
       "    </tr>\n",
       "  </tbody>\n",
       "</table>\n",
       "</div>"
      ],
      "text/plain": [
       "   Location                                          Indicator  Period   Dim1  \\\n",
       "0   Albania  Population using safely managed sanitation ser...    2017  Total   \n",
       "3   Albania  Population using safely managed sanitation ser...    2016  Total   \n",
       "6   Albania  Population using safely managed sanitation ser...    2015  Total   \n",
       "9   Albania  Population using safely managed sanitation ser...    2014  Total   \n",
       "12  Albania  Population using safely managed sanitation ser...    2013  Total   \n",
       "\n",
       "    First Tooltip  \n",
       "0           39.86  \n",
       "3           39.85  \n",
       "6           39.84  \n",
       "9           39.83  \n",
       "12          39.60  "
      ]
     },
     "execution_count": 60,
     "metadata": {},
     "output_type": "execute_result"
    }
   ],
   "source": [
    "df_Sanitization.head()"
   ]
  },
  {
   "cell_type": "code",
   "execution_count": 61,
   "id": "156332f0",
   "metadata": {},
   "outputs": [
    {
     "data": {
      "text/html": [
       "<div>\n",
       "<style scoped>\n",
       "    .dataframe tbody tr th:only-of-type {\n",
       "        vertical-align: middle;\n",
       "    }\n",
       "\n",
       "    .dataframe tbody tr th {\n",
       "        vertical-align: top;\n",
       "    }\n",
       "\n",
       "    .dataframe thead th {\n",
       "        text-align: right;\n",
       "    }\n",
       "</style>\n",
       "<table border=\"1\" class=\"dataframe\">\n",
       "  <thead>\n",
       "    <tr style=\"text-align: right;\">\n",
       "      <th></th>\n",
       "      <th>Location</th>\n",
       "      <th>Indicator</th>\n",
       "      <th>Period</th>\n",
       "      <th>Dim1</th>\n",
       "      <th>First Tooltip</th>\n",
       "    </tr>\n",
       "  </thead>\n",
       "  <tbody>\n",
       "    <tr>\n",
       "      <th>0</th>\n",
       "      <td>Afghanistan</td>\n",
       "      <td>Population with basic handwashing facilities a...</td>\n",
       "      <td>2017</td>\n",
       "      <td>Total</td>\n",
       "      <td>37.75</td>\n",
       "    </tr>\n",
       "    <tr>\n",
       "      <th>3</th>\n",
       "      <td>Afghanistan</td>\n",
       "      <td>Population with basic handwashing facilities a...</td>\n",
       "      <td>2016</td>\n",
       "      <td>Total</td>\n",
       "      <td>37.67</td>\n",
       "    </tr>\n",
       "    <tr>\n",
       "      <th>6</th>\n",
       "      <td>Afghanistan</td>\n",
       "      <td>Population with basic handwashing facilities a...</td>\n",
       "      <td>2015</td>\n",
       "      <td>Total</td>\n",
       "      <td>37.59</td>\n",
       "    </tr>\n",
       "    <tr>\n",
       "      <th>9</th>\n",
       "      <td>Afghanistan</td>\n",
       "      <td>Population with basic handwashing facilities a...</td>\n",
       "      <td>2014</td>\n",
       "      <td>Total</td>\n",
       "      <td>37.52</td>\n",
       "    </tr>\n",
       "    <tr>\n",
       "      <th>12</th>\n",
       "      <td>Afghanistan</td>\n",
       "      <td>Population with basic handwashing facilities a...</td>\n",
       "      <td>2013</td>\n",
       "      <td>Total</td>\n",
       "      <td>37.44</td>\n",
       "    </tr>\n",
       "  </tbody>\n",
       "</table>\n",
       "</div>"
      ],
      "text/plain": [
       "       Location                                          Indicator  Period  \\\n",
       "0   Afghanistan  Population with basic handwashing facilities a...    2017   \n",
       "3   Afghanistan  Population with basic handwashing facilities a...    2016   \n",
       "6   Afghanistan  Population with basic handwashing facilities a...    2015   \n",
       "9   Afghanistan  Population with basic handwashing facilities a...    2014   \n",
       "12  Afghanistan  Population with basic handwashing facilities a...    2013   \n",
       "\n",
       "     Dim1  First Tooltip  \n",
       "0   Total          37.75  \n",
       "3   Total          37.67  \n",
       "6   Total          37.59  \n",
       "9   Total          37.52  \n",
       "12  Total          37.44  "
      ]
     },
     "execution_count": 61,
     "metadata": {},
     "output_type": "execute_result"
    }
   ],
   "source": [
    "df_HandWashing.head()"
   ]
  },
  {
   "cell_type": "code",
   "execution_count": 62,
   "id": "2737574e",
   "metadata": {},
   "outputs": [
    {
     "data": {
      "text/html": [
       "<div>\n",
       "<style scoped>\n",
       "    .dataframe tbody tr th:only-of-type {\n",
       "        vertical-align: middle;\n",
       "    }\n",
       "\n",
       "    .dataframe tbody tr th {\n",
       "        vertical-align: top;\n",
       "    }\n",
       "\n",
       "    .dataframe thead th {\n",
       "        text-align: right;\n",
       "    }\n",
       "</style>\n",
       "<table border=\"1\" class=\"dataframe\">\n",
       "  <thead>\n",
       "    <tr style=\"text-align: right;\">\n",
       "      <th></th>\n",
       "      <th>Location</th>\n",
       "      <th>Indicator</th>\n",
       "      <th>Period</th>\n",
       "      <th>Dim1</th>\n",
       "      <th>First Tooltip</th>\n",
       "    </tr>\n",
       "  </thead>\n",
       "  <tbody>\n",
       "    <tr>\n",
       "      <th>0</th>\n",
       "      <td>Afghanistan</td>\n",
       "      <td>Population using at least basic sanitation ser...</td>\n",
       "      <td>2017</td>\n",
       "      <td>Total</td>\n",
       "      <td>43.42</td>\n",
       "    </tr>\n",
       "    <tr>\n",
       "      <th>3</th>\n",
       "      <td>Afghanistan</td>\n",
       "      <td>Population using at least basic sanitation ser...</td>\n",
       "      <td>2016</td>\n",
       "      <td>Total</td>\n",
       "      <td>42.05</td>\n",
       "    </tr>\n",
       "    <tr>\n",
       "      <th>6</th>\n",
       "      <td>Afghanistan</td>\n",
       "      <td>Population using at least basic sanitation ser...</td>\n",
       "      <td>2015</td>\n",
       "      <td>Total</td>\n",
       "      <td>40.71</td>\n",
       "    </tr>\n",
       "    <tr>\n",
       "      <th>9</th>\n",
       "      <td>Afghanistan</td>\n",
       "      <td>Population using at least basic sanitation ser...</td>\n",
       "      <td>2014</td>\n",
       "      <td>Total</td>\n",
       "      <td>39.37</td>\n",
       "    </tr>\n",
       "    <tr>\n",
       "      <th>12</th>\n",
       "      <td>Afghanistan</td>\n",
       "      <td>Population using at least basic sanitation ser...</td>\n",
       "      <td>2013</td>\n",
       "      <td>Total</td>\n",
       "      <td>38.06</td>\n",
       "    </tr>\n",
       "  </tbody>\n",
       "</table>\n",
       "</div>"
      ],
      "text/plain": [
       "       Location                                          Indicator  Period  \\\n",
       "0   Afghanistan  Population using at least basic sanitation ser...    2017   \n",
       "3   Afghanistan  Population using at least basic sanitation ser...    2016   \n",
       "6   Afghanistan  Population using at least basic sanitation ser...    2015   \n",
       "9   Afghanistan  Population using at least basic sanitation ser...    2014   \n",
       "12  Afghanistan  Population using at least basic sanitation ser...    2013   \n",
       "\n",
       "     Dim1  First Tooltip  \n",
       "0   Total          43.42  \n",
       "3   Total          42.05  \n",
       "6   Total          40.71  \n",
       "9   Total          39.37  \n",
       "12  Total          38.06  "
      ]
     },
     "execution_count": 62,
     "metadata": {},
     "output_type": "execute_result"
    }
   ],
   "source": [
    "df_BasicSanitization.head()"
   ]
  },
  {
   "cell_type": "code",
   "execution_count": 71,
   "id": "f3f0a584",
   "metadata": {},
   "outputs": [],
   "source": [
    "from tqdm.notebook import tqdm"
   ]
  },
  {
   "cell_type": "code",
   "execution_count": 72,
   "id": "67f9bcae",
   "metadata": {},
   "outputs": [
    {
     "data": {
      "application/vnd.jupyter.widget-view+json": {
       "model_id": "879b6475b3674102a0ea6d01b40f786f",
       "version_major": 2,
       "version_minor": 0
      },
      "text/plain": [
       "0it [00:00, ?it/s]"
      ]
     },
     "metadata": {},
     "output_type": "display_data"
    }
   ],
   "source": [
    "df_overlap_cnt_yr = pd.DataFrame([],columns=['Country','Year','Tooltip1','Tooltip2','Tooltip3','Tooltip4'])\n",
    "for indx1,row1 in tqdm(df_Sanitization.iterrows()):\n",
    "        for indx2,row2 in df_HandWashing.iterrows(): \n",
    "            if (row1['Location'] == row2['Location']) and (row1['Period'] == row2['Period']):\n",
    "                for indx3,row3 in df_Drinking.iterrows():\n",
    "                    if (row1['Location'] == row3['Location']) and (row1['Period'] == row3['Period']):\n",
    "                        for indx4,row4 in df_BasicSanitization.iterrows():\n",
    "                            if (row1['Location'] == row4['Location']) and (row1['Period'] == row4['Period']):\n",
    "                                df_overlap_cnt_yr.loc[len(df_overlap_cnt_yr)] = [row1['Location'],\n",
    "                                                                                 row1['Period'],\n",
    "                                                                                 row1['First Tooltip'],\n",
    "                                                                                 row2['First Tooltip'],\n",
    "                                                                                 row3['First Tooltip'],\n",
    "                                                                                 row4['First Tooltip']]"
   ]
  },
  {
   "cell_type": "code",
   "execution_count": 74,
   "id": "0a101597",
   "metadata": {},
   "outputs": [],
   "source": [
    "df_overlap_cnt_yr.to_csv('overlap_country_year.csv',index=False)"
   ]
  },
  {
   "cell_type": "code",
   "execution_count": 75,
   "id": "801fa3f6",
   "metadata": {},
   "outputs": [
    {
     "data": {
      "text/html": [
       "<div>\n",
       "<style scoped>\n",
       "    .dataframe tbody tr th:only-of-type {\n",
       "        vertical-align: middle;\n",
       "    }\n",
       "\n",
       "    .dataframe tbody tr th {\n",
       "        vertical-align: top;\n",
       "    }\n",
       "\n",
       "    .dataframe thead th {\n",
       "        text-align: right;\n",
       "    }\n",
       "</style>\n",
       "<table border=\"1\" class=\"dataframe\">\n",
       "  <thead>\n",
       "    <tr style=\"text-align: right;\">\n",
       "      <th></th>\n",
       "      <th>Country</th>\n",
       "      <th>Year</th>\n",
       "      <th>Tooltip1</th>\n",
       "      <th>Tooltip2</th>\n",
       "      <th>Tooltip3</th>\n",
       "      <th>Tooltip4</th>\n",
       "    </tr>\n",
       "  </thead>\n",
       "  <tbody>\n",
       "    <tr>\n",
       "      <th>0</th>\n",
       "      <td>Algeria</td>\n",
       "      <td>2017</td>\n",
       "      <td>17.69</td>\n",
       "      <td>83.74</td>\n",
       "      <td>88.69</td>\n",
       "      <td>87.59</td>\n",
       "    </tr>\n",
       "    <tr>\n",
       "      <th>1</th>\n",
       "      <td>Algeria</td>\n",
       "      <td>2016</td>\n",
       "      <td>17.71</td>\n",
       "      <td>83.65</td>\n",
       "      <td>88.69</td>\n",
       "      <td>87.54</td>\n",
       "    </tr>\n",
       "    <tr>\n",
       "      <th>2</th>\n",
       "      <td>Algeria</td>\n",
       "      <td>2015</td>\n",
       "      <td>17.74</td>\n",
       "      <td>83.56</td>\n",
       "      <td>88.69</td>\n",
       "      <td>87.50</td>\n",
       "    </tr>\n",
       "    <tr>\n",
       "      <th>3</th>\n",
       "      <td>Algeria</td>\n",
       "      <td>2014</td>\n",
       "      <td>17.81</td>\n",
       "      <td>83.47</td>\n",
       "      <td>88.33</td>\n",
       "      <td>87.33</td>\n",
       "    </tr>\n",
       "    <tr>\n",
       "      <th>4</th>\n",
       "      <td>Algeria</td>\n",
       "      <td>2013</td>\n",
       "      <td>17.88</td>\n",
       "      <td>83.37</td>\n",
       "      <td>87.98</td>\n",
       "      <td>87.16</td>\n",
       "    </tr>\n",
       "    <tr>\n",
       "      <th>...</th>\n",
       "      <td>...</td>\n",
       "      <td>...</td>\n",
       "      <td>...</td>\n",
       "      <td>...</td>\n",
       "      <td>...</td>\n",
       "      <td>...</td>\n",
       "    </tr>\n",
       "    <tr>\n",
       "      <th>185</th>\n",
       "      <td>United Republic of Tanzania</td>\n",
       "      <td>2016</td>\n",
       "      <td>24.28</td>\n",
       "      <td>47.79</td>\n",
       "      <td>40.81</td>\n",
       "      <td>28.39</td>\n",
       "    </tr>\n",
       "    <tr>\n",
       "      <th>186</th>\n",
       "      <td>United Republic of Tanzania</td>\n",
       "      <td>2015</td>\n",
       "      <td>23.18</td>\n",
       "      <td>47.63</td>\n",
       "      <td>39.14</td>\n",
       "      <td>26.87</td>\n",
       "    </tr>\n",
       "    <tr>\n",
       "      <th>187</th>\n",
       "      <td>United Republic of Tanzania</td>\n",
       "      <td>2014</td>\n",
       "      <td>22.07</td>\n",
       "      <td>47.47</td>\n",
       "      <td>37.48</td>\n",
       "      <td>25.35</td>\n",
       "    </tr>\n",
       "    <tr>\n",
       "      <th>188</th>\n",
       "      <td>United Republic of Tanzania</td>\n",
       "      <td>2013</td>\n",
       "      <td>20.96</td>\n",
       "      <td>47.31</td>\n",
       "      <td>35.84</td>\n",
       "      <td>23.83</td>\n",
       "    </tr>\n",
       "    <tr>\n",
       "      <th>189</th>\n",
       "      <td>United Republic of Tanzania</td>\n",
       "      <td>2012</td>\n",
       "      <td>19.84</td>\n",
       "      <td>47.15</td>\n",
       "      <td>34.22</td>\n",
       "      <td>22.32</td>\n",
       "    </tr>\n",
       "  </tbody>\n",
       "</table>\n",
       "<p>190 rows × 6 columns</p>\n",
       "</div>"
      ],
      "text/plain": [
       "                         Country  Year  Tooltip1  Tooltip2  Tooltip3  Tooltip4\n",
       "0                        Algeria  2017     17.69     83.74     88.69     87.59\n",
       "1                        Algeria  2016     17.71     83.65     88.69     87.54\n",
       "2                        Algeria  2015     17.74     83.56     88.69     87.50\n",
       "3                        Algeria  2014     17.81     83.47     88.33     87.33\n",
       "4                        Algeria  2013     17.88     83.37     87.98     87.16\n",
       "..                           ...   ...       ...       ...       ...       ...\n",
       "185  United Republic of Tanzania  2016     24.28     47.79     40.81     28.39\n",
       "186  United Republic of Tanzania  2015     23.18     47.63     39.14     26.87\n",
       "187  United Republic of Tanzania  2014     22.07     47.47     37.48     25.35\n",
       "188  United Republic of Tanzania  2013     20.96     47.31     35.84     23.83\n",
       "189  United Republic of Tanzania  2012     19.84     47.15     34.22     22.32\n",
       "\n",
       "[190 rows x 6 columns]"
      ]
     },
     "execution_count": 75,
     "metadata": {},
     "output_type": "execute_result"
    }
   ],
   "source": [
    "df_overlap_cnt_yr"
   ]
  },
  {
   "cell_type": "code",
   "execution_count": null,
   "id": "7f7e9bda",
   "metadata": {},
   "outputs": [],
   "source": []
  }
 ],
 "metadata": {
  "kernelspec": {
   "display_name": "Python 3 (ipykernel)",
   "language": "python",
   "name": "python3"
  },
  "language_info": {
   "codemirror_mode": {
    "name": "ipython",
    "version": 3
   },
   "file_extension": ".py",
   "mimetype": "text/x-python",
   "name": "python",
   "nbconvert_exporter": "python",
   "pygments_lexer": "ipython3",
   "version": "3.9.15"
  }
 },
 "nbformat": 4,
 "nbformat_minor": 5
}
