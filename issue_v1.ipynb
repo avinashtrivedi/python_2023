{
 "cells": [
  {
   "cell_type": "code",
   "execution_count": 1,
   "id": "c31b1a82",
   "metadata": {},
   "outputs": [],
   "source": [
    "import pandas as pd"
   ]
  },
  {
   "cell_type": "code",
   "execution_count": 2,
   "id": "8659bb19",
   "metadata": {},
   "outputs": [],
   "source": [
    "df = pd.read_excel(\"D:\\OneDrive - NITT\\Custom_Download\\DATAFRAME_1.xlsx\")\n",
    "df['flag'] = ''"
   ]
  },
  {
   "cell_type": "code",
   "execution_count": 3,
   "id": "78496db6",
   "metadata": {},
   "outputs": [],
   "source": [
    "new_df = df.groupby('value_date')['count'].count()\n",
    "new_df = pd.DataFrame(new_df).reset_index()"
   ]
  },
  {
   "cell_type": "code",
   "execution_count": 4,
   "id": "0f5ae42f",
   "metadata": {},
   "outputs": [],
   "source": [
    "for indx,line in new_df.iterrows():\n",
    "    v_date = line['value_date']\n",
    "    if line['count']>1:\n",
    "        df.loc[df.value_date==v_date, 'flag'] = 'ISSUE'\n",
    "    else:\n",
    "        count = df[df.value_date==v_date]['count'].tolist()[0]\n",
    "        if count>1:\n",
    "            df.loc[df.value_date==v_date, 'flag'] = 'ISSUE'\n",
    "        else:\n",
    "            df.loc[df.value_date==v_date, 'flag'] = 'NON ISSUE'"
   ]
  },
  {
   "cell_type": "code",
   "execution_count": 5,
   "id": "6992e41c",
   "metadata": {},
   "outputs": [
    {
     "data": {
      "text/html": [
       "<div>\n",
       "<style scoped>\n",
       "    .dataframe tbody tr th:only-of-type {\n",
       "        vertical-align: middle;\n",
       "    }\n",
       "\n",
       "    .dataframe tbody tr th {\n",
       "        vertical-align: top;\n",
       "    }\n",
       "\n",
       "    .dataframe thead th {\n",
       "        text-align: right;\n",
       "    }\n",
       "</style>\n",
       "<table border=\"1\" class=\"dataframe\">\n",
       "  <thead>\n",
       "    <tr style=\"text-align: right;\">\n",
       "      <th></th>\n",
       "      <th>value_date</th>\n",
       "      <th>sell_ccy_id</th>\n",
       "      <th>count</th>\n",
       "      <th>flag</th>\n",
       "    </tr>\n",
       "  </thead>\n",
       "  <tbody>\n",
       "    <tr>\n",
       "      <th>0</th>\n",
       "      <td>2023-02-24</td>\n",
       "      <td>THB</td>\n",
       "      <td>3</td>\n",
       "      <td>ISSUE</td>\n",
       "    </tr>\n",
       "    <tr>\n",
       "      <th>1</th>\n",
       "      <td>2023-03-22</td>\n",
       "      <td>USD</td>\n",
       "      <td>5</td>\n",
       "      <td>ISSUE</td>\n",
       "    </tr>\n",
       "    <tr>\n",
       "      <th>2</th>\n",
       "      <td>2023-03-22</td>\n",
       "      <td>EUR</td>\n",
       "      <td>4</td>\n",
       "      <td>ISSUE</td>\n",
       "    </tr>\n",
       "    <tr>\n",
       "      <th>3</th>\n",
       "      <td>2023-03-22</td>\n",
       "      <td>CHF</td>\n",
       "      <td>2</td>\n",
       "      <td>ISSUE</td>\n",
       "    </tr>\n",
       "    <tr>\n",
       "      <th>4</th>\n",
       "      <td>2023-03-22</td>\n",
       "      <td>SEK</td>\n",
       "      <td>1</td>\n",
       "      <td>ISSUE</td>\n",
       "    </tr>\n",
       "    <tr>\n",
       "      <th>5</th>\n",
       "      <td>2023-03-22</td>\n",
       "      <td>THB</td>\n",
       "      <td>1</td>\n",
       "      <td>ISSUE</td>\n",
       "    </tr>\n",
       "    <tr>\n",
       "      <th>6</th>\n",
       "      <td>2023-05-25</td>\n",
       "      <td>THB</td>\n",
       "      <td>2</td>\n",
       "      <td>ISSUE</td>\n",
       "    </tr>\n",
       "  </tbody>\n",
       "</table>\n",
       "</div>"
      ],
      "text/plain": [
       "  value_date sell_ccy_id  count   flag\n",
       "0 2023-02-24         THB      3  ISSUE\n",
       "1 2023-03-22         USD      5  ISSUE\n",
       "2 2023-03-22         EUR      4  ISSUE\n",
       "3 2023-03-22         CHF      2  ISSUE\n",
       "4 2023-03-22         SEK      1  ISSUE\n",
       "5 2023-03-22         THB      1  ISSUE\n",
       "6 2023-05-25         THB      2  ISSUE"
      ]
     },
     "execution_count": 5,
     "metadata": {},
     "output_type": "execute_result"
    }
   ],
   "source": [
    "df"
   ]
  }
 ],
 "metadata": {
  "kernelspec": {
   "display_name": "Python 3 (ipykernel)",
   "language": "python",
   "name": "python3"
  },
  "language_info": {
   "codemirror_mode": {
    "name": "ipython",
    "version": 3
   },
   "file_extension": ".py",
   "mimetype": "text/x-python",
   "name": "python",
   "nbconvert_exporter": "python",
   "pygments_lexer": "ipython3",
   "version": "3.9.15"
  }
 },
 "nbformat": 4,
 "nbformat_minor": 5
}
