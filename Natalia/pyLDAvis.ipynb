{
 "cells": [
  {
   "cell_type": "code",
   "execution_count": 1,
   "id": "c34ca679",
   "metadata": {},
   "outputs": [
    {
     "name": "stderr",
     "output_type": "stream",
     "text": [
      "[nltk_data] Downloading package stopwords to\n",
      "[nltk_data]     C:\\Users\\avitr\\AppData\\Roaming\\nltk_data...\n",
      "[nltk_data]   Package stopwords is already up-to-date!\n",
      "WARNING: Ignoring invalid distribution -rotobuf (c:\\users\\avitr\\anaconda3\\lib\\site-packages)\n",
      "WARNING: Ignoring invalid distribution -atplotlib (c:\\users\\avitr\\anaconda3\\lib\\site-packages)\n",
      "WARNING: Ignoring invalid distribution -rotobuf (c:\\users\\avitr\\anaconda3\\lib\\site-packages)\n",
      "WARNING: Ignoring invalid distribution -atplotlib (c:\\users\\avitr\\anaconda3\\lib\\site-packages)\n",
      "WARNING: Ignoring invalid distribution -rotobuf (c:\\users\\avitr\\anaconda3\\lib\\site-packages)\n",
      "WARNING: Ignoring invalid distribution -atplotlib (c:\\users\\avitr\\anaconda3\\lib\\site-packages)\n",
      "WARNING: Ignoring invalid distribution -rotobuf (c:\\users\\avitr\\anaconda3\\lib\\site-packages)\n",
      "WARNING: Ignoring invalid distribution -atplotlib (c:\\users\\avitr\\anaconda3\\lib\\site-packages)\n",
      "WARNING: Ignoring invalid distribution -rotobuf (c:\\users\\avitr\\anaconda3\\lib\\site-packages)\n",
      "WARNING: Ignoring invalid distribution -atplotlib (c:\\users\\avitr\\anaconda3\\lib\\site-packages)\n",
      "WARNING: Ignoring invalid distribution -rotobuf (c:\\users\\avitr\\anaconda3\\lib\\site-packages)\n",
      "WARNING: Ignoring invalid distribution -atplotlib (c:\\users\\avitr\\anaconda3\\lib\\site-packages)\n"
     ]
    }
   ],
   "source": [
    "# Import Sklearn libraries to build models \n",
    "from sklearn.feature_extraction.text import TfidfVectorizer #  TF-IDF to vectorize words \n",
    "from sklearn.metrics import classification_report, confusion_matrix \n",
    "from sklearn.model_selection import train_test_split\n",
    "from sklearn.metrics import accuracy_score\n",
    "from sklearn.ensemble import RandomForestClassifier\n",
    "from sklearn.svm import LinearSVC\n",
    "# from sklearn.metrics import plot_confusion_matrix\n",
    "from sklearn.naive_bayes import GaussianNB\n",
    "from sklearn.metrics import ConfusionMatrixDisplay\n",
    "from sklearn.model_selection import GridSearchCV\n",
    "# Import Libraries to perform computation and do visualization. \n",
    "import pandas as pd\n",
    "import numpy as np\n",
    "np.random.seed(0)\n",
    "import seaborn as sns\n",
    "import matplotlib.pyplot as plt\n",
    "import string\n",
    "import time\n",
    "# Import nltk to check english lexicon.\n",
    "import nltk\n",
    "from nltk.tokenize import word_tokenize\n",
    "nltk.download('stopwords')\n",
    "from nltk.corpus import wordnet, stopwords\n",
    "from nltk import word_tokenize, FreqDist\n",
    "from nltk import pos_tag # for Parts of Speech tagging\n",
    "from nltk.tokenize import RegexpTokenizer\n",
    "from nltk.stem import WordNetLemmatizer\n",
    "from nltk.stem import PorterStemmer\n",
    "from sklearn.feature_extraction.text import TfidfVectorizer\n",
    "from sklearn.feature_extraction.text import CountVectorizer\n",
    "from nltk.corpus import stopwords\n",
    "from nltk.stem import WordNetLemmatizer\n",
    "# Generate wordcloud for word distribution visualization.\n",
    "from wordcloud import WordCloud \n",
    "\n",
    "# Generating random numbers.\n",
    "import random \n",
    "\n",
    "from xgboost import XGBClassifier\n",
    "\n",
    "# Transforms text to a fixed-length vector of integers.\n",
    "import warnings\n",
    "warnings.filterwarnings(action='ignore', category=UserWarning, \n",
    "                        module='gensim')\n",
    "import gensim\n",
    "import os\n",
    "\n",
    "!pip install -q textdistance\n",
    "import textdistance\n",
    "#Efficient functions to search in strings.\n",
    "import re as re \n",
    "\n",
    "# Import images for world cloud.\n",
    "from PIL import Image, ImageDraw, ImageFont \n",
    "\n",
    "\n",
    " \n",
    "from yellowbrick.text import FreqDistVisualizer\n",
    "from yellowbrick.datasets import load_hobbies\n",
    "\n",
    "from tqdm.notebook import tqdm\n",
    "\n",
    "from os import path\n",
    "from os import environ"
   ]
  },
  {
   "cell_type": "code",
   "execution_count": 2,
   "id": "fc4740cd",
   "metadata": {},
   "outputs": [],
   "source": [
    "import pandas as pd\n",
    "import os\n",
    "from tqdm.notebook import tqdm\n",
    "tqdm.pandas()\n",
    "import re\n",
    "import spacy\n",
    "import numpy as np\n",
    "import seaborn as sns\n",
    "from spacy.language import Language\n",
    "from spacy import displacy\n",
    "from gensim.models.ldamodel import LdaModel\n",
    "from gensim.corpora.dictionary import Dictionary\n",
    "from gensim.models.coherencemodel import CoherenceModel\n",
    "from sklearn.feature_extraction.text import TfidfVectorizer\n",
    "from sklearn.decomposition import LatentDirichletAllocation\n",
    "\n",
    "import warnings\n",
    "warnings.filterwarnings('ignore')"
   ]
  },
  {
   "cell_type": "code",
   "execution_count": 19,
   "id": "f71d1bb2",
   "metadata": {},
   "outputs": [
    {
     "data": {
      "text/plain": [
       "'1.1.3'"
      ]
     },
     "execution_count": 19,
     "metadata": {},
     "output_type": "execute_result"
    }
   ],
   "source": [
    "import sklearn\n",
    "sklearn.__version__"
   ]
  },
  {
   "cell_type": "code",
   "execution_count": null,
   "id": "a740a362",
   "metadata": {},
   "outputs": [],
   "source": []
  },
  {
   "cell_type": "code",
   "execution_count": 3,
   "id": "b5c7b112",
   "metadata": {},
   "outputs": [],
   "source": [
    "data = pd.read_csv(r'D:\\OneDrive - NITT\\Custom_Download\\topic.csv')"
   ]
  },
  {
   "cell_type": "code",
   "execution_count": 4,
   "id": "095f4cda",
   "metadata": {},
   "outputs": [],
   "source": [
    "data = data['clean_tweet_wt_stem']"
   ]
  },
  {
   "cell_type": "code",
   "execution_count": 5,
   "id": "6c303291",
   "metadata": {},
   "outputs": [],
   "source": [
    "data.dropna(inplace=True)"
   ]
  },
  {
   "cell_type": "code",
   "execution_count": 6,
   "id": "f386ff7c",
   "metadata": {},
   "outputs": [
    {
     "data": {
      "text/plain": [
       "0         increase legroom airlines compare via cnnmoney\n",
       "1      third straight time flight delayed flying guys...\n",
       "2       sure happened usairways status merger took place\n",
       "3      probably least satisfactory airline ever never...\n",
       "4      wait 2 hrs cs call back flt cxld protection am...\n",
       "                             ...                        \n",
       "571    son passenger flight 3710 chicago toronto plan...\n",
       "572                                  inadequate accident\n",
       "573    brothers baggage lost route 2015 panamerican c...\n",
       "574      different airport way getting different airport\n",
       "575    cancelled flightled none passengers notified c...\n",
       "Name: clean_tweet_wt_stem, Length: 576, dtype: object"
      ]
     },
     "execution_count": 6,
     "metadata": {},
     "output_type": "execute_result"
    }
   ],
   "source": [
    "data"
   ]
  },
  {
   "cell_type": "code",
   "execution_count": null,
   "id": "0ce6a772",
   "metadata": {},
   "outputs": [],
   "source": []
  },
  {
   "cell_type": "code",
   "execution_count": 7,
   "id": "7761f56b",
   "metadata": {},
   "outputs": [
    {
     "data": {
      "application/vnd.jupyter.widget-view+json": {
       "model_id": "591f38f7f2024dbea3c177503441261c",
       "version_major": 2,
       "version_minor": 0
      },
      "text/plain": [
       "  0%|          | 0/576 [00:00<?, ?it/s]"
      ]
     },
     "metadata": {},
     "output_type": "display_data"
    },
    {
     "data": {
      "application/vnd.jupyter.widget-view+json": {
       "model_id": "939db2bb8ff8420f83ac50f7af6705d6",
       "version_major": 2,
       "version_minor": 0
      },
      "text/plain": [
       "  0%|          | 0/25 [00:00<?, ?it/s]"
      ]
     },
     "metadata": {},
     "output_type": "display_data"
    },
    {
     "data": {
      "image/png": "[encoded data removed]",
      "text/plain": [
       "<Figure size 800x550 with 1 Axes>"
      ]
     },
     "metadata": {},
     "output_type": "display_data"
    },
    {
     "name": "stdout",
     "output_type": "stream",
     "text": [
      "No of Topic Selected by Coherence Score: 6\n"
     ]
    }
   ],
   "source": [
    "docs = [] # Initializing list\n",
    "for tweet in tqdm(data): # loop through tweets \n",
    "    docs.append(tweet)  # add to the list\n",
    "\n",
    "# Merge the words into a single string \n",
    "vocab_size = len(set(\" \".join(docs).split(\" \")))\n",
    "\n",
    "# Converting into tokens\n",
    "tokens = [text.split() for text in docs]\n",
    "\n",
    "# Storing using class to map words to integers ids\n",
    "id2word = Dictionary(tokens)\n",
    "\n",
    "# Storing into corpus using method to generate \n",
    "# no. of times word appears\n",
    "corpus = [id2word.doc2bow(text) for text in tokens]\n",
    "\n",
    "#Setting up LDA model\n",
    "\n",
    "coh = []\n",
    "for i in tqdm(range(5,30)):\n",
    "    model = LdaModel(corpus, i, id2word,random_state=42)\n",
    "    cm = CoherenceModel(model=model, corpus=corpus, \n",
    "                        coherence='u_mass')\n",
    "    coherence = cm.get_coherence()  # get coherence value\n",
    "    coh.append(coherence)\n",
    "\n",
    "# Setting up ploting details \n",
    "plt.plot(range(5,30),coh)\n",
    "plt.title('Coherence Score Vs Number of Topics (k)')\n",
    "plt.xlabel('Number of Topics (k)')\n",
    "plt.ylabel('Coherence Score')\n",
    "plt.show()\n",
    "\n",
    "# calculating for different numbers of topics\n",
    "# 'np.array(coh).argmax()' finds the index of the maximum coherence score\n",
    "# '+ 5' is added to the index, assuming the number of topics started from 5\n",
    "\n",
    "\n",
    "k_topic = np.array(coh).argmax() + 5\n",
    "\n",
    "print('No of Topic Selected by Coherence Score:',k_topic)"
   ]
  },
  {
   "cell_type": "code",
   "execution_count": 8,
   "id": "e4e571c0",
   "metadata": {},
   "outputs": [],
   "source": [
    "tfidf_featurizer = TfidfVectorizer(max_features=vocab_size, \n",
    "                                       max_df=0.95, stop_words='english')\n",
    "\n",
    "docs_tfidf = tfidf_featurizer.fit_transform(docs) # Transform to TF-IDF"
   ]
  },
  {
   "cell_type": "code",
   "execution_count": 9,
   "id": "a92709ac",
   "metadata": {},
   "outputs": [],
   "source": [
    "# !pip install pyLDAvis==2.1.2"
   ]
  },
  {
   "cell_type": "code",
   "execution_count": null,
   "id": "eb590638",
   "metadata": {},
   "outputs": [],
   "source": [
    "'1.1.3'"
   ]
  },
  {
   "cell_type": "code",
   "execution_count": null,
   "id": "c6f20897",
   "metadata": {},
   "outputs": [],
   "source": [
    "!pip install sklearn==1.1.3"
   ]
  },
  {
   "cell_type": "code",
   "execution_count": 10,
   "id": "b07143af",
   "metadata": {},
   "outputs": [],
   "source": [
    "import pyLDAvis.sklearn"
   ]
  },
  {
   "cell_type": "code",
   "execution_count": 11,
   "id": "2026c919",
   "metadata": {},
   "outputs": [
    {
     "data": {
      "text/plain": [
       "'2.1.2'"
      ]
     },
     "execution_count": 11,
     "metadata": {},
     "output_type": "execute_result"
    }
   ],
   "source": [
    "pyLDAvis.__version__"
   ]
  },
  {
   "cell_type": "code",
   "execution_count": 12,
   "id": "4d410cbe",
   "metadata": {},
   "outputs": [
    {
     "data": {
      "text/plain": [
       "'4.3.0'"
      ]
     },
     "execution_count": 12,
     "metadata": {},
     "output_type": "execute_result"
    }
   ],
   "source": [
    "gensim.__version__"
   ]
  },
  {
   "cell_type": "code",
   "execution_count": 20,
   "id": "3d138131",
   "metadata": {},
   "outputs": [
    {
     "data": {
      "text/plain": [
       "'1.1.3'"
      ]
     },
     "execution_count": 20,
     "metadata": {},
     "output_type": "execute_result"
    }
   ],
   "source": [
    "import sklearn\n",
    "sklearn.__version__"
   ]
  },
  {
   "cell_type": "code",
   "execution_count": 13,
   "id": "7608e410",
   "metadata": {},
   "outputs": [],
   "source": [
    "pyLDAvis.enable_notebook() # To enable the visualization on the notebook"
   ]
  },
  {
   "cell_type": "code",
   "execution_count": 14,
   "id": "c9152039",
   "metadata": {},
   "outputs": [
    {
     "data": {
      "text/html": [
       "<style>#sk-container-id-1 {color: black;background-color: white;}#sk-container-id-1 pre{padding: 0;}#sk-container-id-1 div.sk-toggleable {background-color: white;}#sk-container-id-1 label.sk-toggleable__label {cursor: pointer;display: block;width: 100%;margin-bottom: 0;padding: 0.3em;box-sizing: border-box;text-align: center;}#sk-container-id-1 label.sk-toggleable__label-arrow:before {content: \"▸\";float: left;margin-right: 0.25em;color: #696969;}#sk-container-id-1 label.sk-toggleable__label-arrow:hover:before {color: black;}#sk-container-id-1 div.sk-estimator:hover label.sk-toggleable__label-arrow:before {color: black;}#sk-container-id-1 div.sk-toggleable__content {max-height: 0;max-width: 0;overflow: hidden;text-align: left;background-color: #f0f8ff;}#sk-container-id-1 div.sk-toggleable__content pre {margin: 0.2em;color: black;border-radius: 0.25em;background-color: #f0f8ff;}#sk-container-id-1 input.sk-toggleable__control:checked~div.sk-toggleable__content {max-height: 200px;max-width: 100%;overflow: auto;}#sk-container-id-1 input.sk-toggleable__control:checked~label.sk-toggleable__label-arrow:before {content: \"▾\";}#sk-container-id-1 div.sk-estimator input.sk-toggleable__control:checked~label.sk-toggleable__label {background-color: #d4ebff;}#sk-container-id-1 div.sk-label input.sk-toggleable__control:checked~label.sk-toggleable__label {background-color: #d4ebff;}#sk-container-id-1 input.sk-hidden--visually {border: 0;clip: rect(1px 1px 1px 1px);clip: rect(1px, 1px, 1px, 1px);height: 1px;margin: -1px;overflow: hidden;padding: 0;position: absolute;width: 1px;}#sk-container-id-1 div.sk-estimator {font-family: monospace;background-color: #f0f8ff;border: 1px dotted black;border-radius: 0.25em;box-sizing: border-box;margin-bottom: 0.5em;}#sk-container-id-1 div.sk-estimator:hover {background-color: #d4ebff;}#sk-container-id-1 div.sk-parallel-item::after {content: \"\";width: 100%;border-bottom: 1px solid gray;flex-grow: 1;}#sk-container-id-1 div.sk-label:hover label.sk-toggleable__label {background-color: #d4ebff;}#sk-container-id-1 div.sk-serial::before {content: \"\";position: absolute;border-left: 1px solid gray;box-sizing: border-box;top: 0;bottom: 0;left: 50%;z-index: 0;}#sk-container-id-1 div.sk-serial {display: flex;flex-direction: column;align-items: center;background-color: white;padding-right: 0.2em;padding-left: 0.2em;position: relative;}#sk-container-id-1 div.sk-item {position: relative;z-index: 1;}#sk-container-id-1 div.sk-parallel {display: flex;align-items: stretch;justify-content: center;background-color: white;position: relative;}#sk-container-id-1 div.sk-item::before, #sk-container-id-1 div.sk-parallel-item::before {content: \"\";position: absolute;border-left: 1px solid gray;box-sizing: border-box;top: 0;bottom: 0;left: 50%;z-index: -1;}#sk-container-id-1 div.sk-parallel-item {display: flex;flex-direction: column;z-index: 1;position: relative;background-color: white;}#sk-container-id-1 div.sk-parallel-item:first-child::after {align-self: flex-end;width: 50%;}#sk-container-id-1 div.sk-parallel-item:last-child::after {align-self: flex-start;width: 50%;}#sk-container-id-1 div.sk-parallel-item:only-child::after {width: 0;}#sk-container-id-1 div.sk-dashed-wrapped {border: 1px dashed gray;margin: 0 0.4em 0.5em 0.4em;box-sizing: border-box;padding-bottom: 0.4em;background-color: white;}#sk-container-id-1 div.sk-label label {font-family: monospace;font-weight: bold;display: inline-block;line-height: 1.2em;}#sk-container-id-1 div.sk-label-container {text-align: center;}#sk-container-id-1 div.sk-container {/* jupyter's `normalize.less` sets `[hidden] { display: none; }` but bootstrap.min.css set `[hidden] { display: none !important; }` so we also need the `!important` here to be able to override the default hidden behavior on the sphinx rendered scikit-learn.org. See: https://github.com/scikit-learn/scikit-learn/issues/21755 */display: inline-block !important;position: relative;}#sk-container-id-1 div.sk-text-repr-fallback {display: none;}</style><div id=\"sk-container-id-1\" class=\"sk-top-container\"><div class=\"sk-text-repr-fallback\"><pre>LatentDirichletAllocation(n_components=6, random_state=42)</pre><b>In a Jupyter environment, please rerun this cell to show the HTML representation or trust the notebook. <br />On GitHub, the HTML representation is unable to render, please try loading this page with nbviewer.org.</b></div><div class=\"sk-container\" hidden><div class=\"sk-item\"><div class=\"sk-estimator sk-toggleable\"><input class=\"sk-toggleable__control sk-hidden--visually\" id=\"sk-estimator-id-1\" type=\"checkbox\" checked><label for=\"sk-estimator-id-1\" class=\"sk-toggleable__label sk-toggleable__label-arrow\">LatentDirichletAllocation</label><div class=\"sk-toggleable__content\"><pre>LatentDirichletAllocation(n_components=6, random_state=42)</pre></div></div></div></div></div>"
      ],
      "text/plain": [
       "LatentDirichletAllocation(n_components=6, random_state=42)"
      ]
     },
     "execution_count": 14,
     "metadata": {},
     "output_type": "execute_result"
    }
   ],
   "source": [
    "LDA_model = LatentDirichletAllocation(n_components=k_topic, \n",
    "                                          random_state=42)\n",
    "LDA_model.fit(docs_tfidf)"
   ]
  },
  {
   "cell_type": "code",
   "execution_count": 15,
   "id": "b2c6cfc1",
   "metadata": {},
   "outputs": [
    {
     "data": {
      "text/html": [
       "\n",
       "<link rel=\"stylesheet\" type=\"text/css\" href=\"https://cdn.rawgit.com/bmabey/pyLDAvis/files/ldavis.v1.0.0.css\">\n",
       "\n",
       "\n",
       "<div id=\"ldavis_el2340024487244722087847552187\"></div>\n",
       "<script type=\"text/javascript\">\n",
       "\n",
       "var ldavis_el2340024487244722087847552187_data = {\"mdsDat\": {\"x\": [-0.05346425053325228, 0.04790403891192571, 0.005686216706113048, -0.00940615205510236, 0.01670557308538712, -0.007425426115071258], \"y\": [-0.03120993283785048, -0.0440643162689458, 0.03254245379533869, 0.020249229743762566, 0.025469710837096985, -0.0029871452694019258], \"topics\": [1, 2, 3, 4, 5, 6], \"cluster\": [1, 1, 1, 1, 1, 1], \"Freq\": [18.09691702049291, 17.596902798322635, 16.947529673428765, 16.040339185086374, 15.953287950027233, 15.365023372642087]}, \"tinfo\": {\"Term\": [\"hung\", \"flighted\", \"bad\", \"called\", \"money\", \"dfw\", \"need\", \"customer\", \"cancelled\", \"amp\", \"waiting\", \"person\", \"told\", \"change\", \"book\", \"experience\", \"know\", \"come\", \"fail\", \"airline\", \"got\", \"hold\", \"lost\", \"seat\", \"feeling\", \"terrible\", \"luggage\", \"min\", \"really\", \"business\", \"abysmal\", \"unbelievable\", \"noope\", \"fuck\", \"person\", \"trust\", \"likingyoulessandless\", \"tv\", \"screw\", \"tickets\", \"parked\", \"unitedairlines\", \"ua\", \"come\", \"03\", \"addressed\", \"chicago\", \"bank\", \"bumped\", \"finally\", \"accident\", \"inadequate\", \"jetblue\", \"bullshit\", \"updates\", \"film\", \"cancun\", \"airbus321seat14fproblems\", \"sabre\", \"held\", \"stuck\", \"tell\", \"reservation\", \"got\", \"problem\", \"like\", \"work\", \"trying\", \"change\", \"sitting\", \"dfw\", \"able\", \"issues\", \"waiting\", \"flight\", \"tried\", \"seat\", \"bad\", \"service\", \"hour\", \"help\", \"gate\", \"flights\", \"wait\", \"hours\", \"cancelled\", \"flightled\", \"want\", \"going\", \"hung\", \"book\", \"charlotte\", \"start\", \"called\", \"counting\", \"arrived\", \"apparently\", \"loved\", \"support\", \"allow\", \"switched\", \"finish\", \"happy\", \"claim\", \"captain\", \"available\", \"ground\", \"bad\", \"american\", \"charged\", \"gist\", \"says\", \"business\", \"virginamerica\", \"grumpy\", \"number\", \"consistent\", \"delivered\", \"cust\", \"experience\", \"terrible\", \"phl\", \"told\", \"1st\", \"hold\", \"twice\", \"missing\", \"checked\", \"airline\", \"voucher\", \"think\", \"united\", \"online\", \"service\", \"flight\", \"guys\", \"going\", \"wait\", \"time\", \"way\", \"hours\", \"flightled\", \"hour\", \"seats\", \"cancelled\", \"spiritairlines\", \"absolutely\", \"iad\", \"desks\", \"denied\", \"0016\", \"toronto\", \"changes\", \"faithful\", \"tells\", \"happen\", \"talk\", \"mad\", \"lack\", \"helped\", \"20min\", \"nasty\", \"explanation\", \"need\", \"exactly\", \"hook\", \"pick\", \"poor\", \"lax\", \"philly\", \"anymore\", \"sign\", \"julgood1\", \"miscommunicated\", \"300s\", \"week\", \"customer\", \"min\", \"amp\", \"lost\", \"paid\", \"know\", \"different\", \"worst\", \"service\", \"yesterday\", \"flight\", \"help\", \"fly\", \"rep\", \"cancelled\", \"flighted\", \"way\", \"said\", \"delayed\", \"got\", \"bags\", \"hold\", \"rude\", \"waiting\", \"hours\", \"united\", \"time\", \"gate\", \"feeling\", \"chance\", \"birthday\", \"loaded\", \"jacksonville\", \"stay\", \"incentive\", \"located\", \"prices\", \"simply\", \"26\", \"incur\", \"cc\", \"lol\", \"charge\", \"boarded\", \"581\", \"horriblecustomerservice\", \"17\", \"flighted\", \"ruiningmy\", \"reschedule\", \"awesome\", \"mileageplus\", \"signup\", \"drive\", \"everyones\", \"deserve\", \"fast\", \"accepting\", \"early\", \"cancelled\", \"dfw\", \"airport\", \"luggage\", \"flt\", \"home\", \"answer\", \"flight\", \"flightled\", \"plane\", \"fail\", \"disappointed\", \"pay\", \"refund\", \"getting\", \"help\", \"today\", \"passengers\", \"hold\", \"minutes\", \"said\", \"waiting\", \"guys\", \"delayed\", \"service\", \"involved\", \"life\", \"folks\", \"middle\", \"land\", \"stop\", \"crashed\", \"diff\", \"major\", \"unexpected\", \"ny\", \"galley\", \"point\", \"non\", \"unhelpful\", \"severely\", \"avoid\", \"plague\", \"used\", \"reply\", \"toes\", \"straight\", \"money\", \"kay\", \"okaay\", \"landed\", \"mold\", \"us3825\", \"hopeidonotgetsick\", \"filthyplane\", \"needed\", \"iah\", \"flying\", \"times\", \"flightr\", \"conf\", \"reason\", \"check\", \"late\", \"waiting\", \"flight\", \"crew\", \"make\", \"weather\", \"united\", \"trip\", \"right\", \"airlines\", \"thanks\", \"time\", \"agents\", \"night\", \"amp\", \"plane\", \"bag\", \"baggage\", \"like\", \"hours\", \"fly\", \"people\", \"tonight\", \"help\", \"cancelled\", \"airline\", \"bags\", \"desk\", \"clothes\", \"fucking\", \"gj\", \"explain\", \"incompetent\", \"process\", \"flown\", \"kid\", \"reservations\", \"absurd\", \"soon\", \"refunded\", \"fuel\", \"door\", \"important\", \"3hr30min\", \"area\", \"hey\", \"possession\", \"300\", \"deep\", \"ridiculous\", \"month\", \"batting\", \"water\", \"offering\", \"32\", \"appropriate\", \"incredibly\", \"24\", \"weeks\", \"jet\", \"ur\", \"long\", \"phone\", \"really\", \"seat\", \"change\", \"hours\", \"response\", \"help\", \"flight\", \"delayed\", \"luggage\", \"flights\", \"aa\", \"agent\", \"time\", \"told\", \"want\", \"airline\", \"tried\", \"flightled\", \"bag\", \"got\", \"cancelled\", \"trying\", \"customer\", \"waiting\", \"service\", \"weather\", \"hold\"], \"Freq\": [3.0, 2.0, 2.0, 1.0, 2.0, 1.0, 2.0, 4.0, 5.0, 3.0, 4.0, 1.0, 2.0, 2.0, 1.0, 1.0, 1.0, 1.0, 1.0, 2.0, 3.0, 4.0, 2.0, 2.0, 1.0, 1.0, 2.0, 2.0, 2.0, 1.0, 0.6349521905118107, 0.5474126717552785, 0.541598605688567, 0.5415986056885498, 0.8719158184977248, 0.4907094660827827, 0.45975331190793145, 0.634211042962853, 0.43956996572574464, 0.4265662016373996, 0.4252412738551828, 0.5785760899250456, 0.4223183452918187, 0.8907085042822616, 0.4178440474524492, 0.4157622477248101, 0.6872547360848157, 0.41042956673068004, 0.41042463270801993, 0.40575838779470935, 0.40562983429490174, 0.40562983429490174, 0.5468243914150325, 0.39834525301420043, 0.39765350498845664, 0.3943197541427864, 0.3871859731866599, 0.3850752939749433, 0.3718977563746259, 0.36852514431610056, 0.8923923917197482, 0.6972351820605183, 0.8545589993015544, 1.180656018111338, 0.8124083140514139, 1.2141952097328483, 0.7756411548512829, 1.028399951646341, 1.0052718940160932, 0.7541462625486023, 0.6802852976825295, 0.540374557295775, 0.6475543782079334, 1.1385963977832487, 2.089027540115195, 0.7979327750668891, 0.7630912464710927, 0.6963255621572613, 1.0827152100479325, 0.8799788938368981, 1.0870445982356058, 0.7860893134707285, 0.8037996074515175, 0.6999107176436108, 0.7736529780875795, 0.8101160922355806, 0.7322903592536292, 0.6818478081279173, 0.6705036496330938, 2.4017789253802193, 0.7945465906956318, 0.6752704694319345, 0.6377989346174827, 1.110339788226874, 0.5186490453745036, 0.6738291331487264, 0.4563728910566712, 0.43816247425988897, 0.4343855312837697, 0.41445871086154445, 0.5278919454117761, 0.40500808885178907, 0.4024529804358029, 0.4016274626564799, 0.3975999576627624, 0.5439716612369974, 0.5318310185988765, 1.0326851600031537, 0.5382014912190312, 0.3737786961614031, 0.37229098614171585, 0.7220087733320449, 0.7452053539349708, 0.3578849499986757, 0.35715364247493175, 0.619233849392643, 0.35137294019165455, 0.5897326845365841, 0.6298788684706242, 0.8442585572532479, 0.6530417313050508, 0.5805038868335924, 1.161246394430308, 0.48479822987544247, 1.6848992774108216, 0.6768903059786276, 0.7011092538083099, 0.6365568047267188, 0.9970725278142575, 0.5949732058704382, 0.7254488936782917, 1.0506024582206834, 0.679767179112379, 1.1008616923678998, 1.6100483463629782, 0.7349456988875918, 0.7863147986957004, 0.716123284183899, 0.8161553025958385, 0.6716865770696985, 0.804829512533084, 0.7665011084017692, 0.7344992803347683, 0.6435197155872941, 0.6483446827602493, 0.5210900589611723, 0.48798178846590107, 0.4804817742414696, 0.4792852268772461, 0.4390909354055695, 0.43093748854392266, 0.4234782896319392, 0.4211077894990028, 0.41452416272616727, 0.4006519656793734, 0.39751362743675056, 0.5302761468517635, 0.37285463155809145, 0.3713989274728228, 0.370535535261251, 0.36750926904771253, 0.3660427629532187, 0.49817265142489586, 1.1210721345305932, 0.3511061152030221, 0.3511061152030221, 0.7070612352885967, 0.435724056241944, 0.6001966893768704, 0.4650839039776384, 0.5319004339393812, 0.3278776689370288, 0.3268227936996406, 0.3268227936996406, 0.3251916252225506, 0.5508821320516141, 1.7754793559951445, 0.9354735877688152, 1.2580320105903278, 0.9688322565126131, 0.7027469258907435, 0.7121351308208391, 0.6503702806818842, 0.7075584690010098, 1.3577984085105956, 0.5886628183136885, 2.1027701640828673, 1.2880613693210095, 0.8288715474043051, 0.6362243257101825, 1.1105413484476885, 0.6960132301279864, 0.6627470635396684, 0.6711624419964125, 0.8048647169740124, 0.7474367362189648, 0.725147151694237, 0.7802178390720997, 0.5771235088178013, 0.6636019213923346, 0.6647422653108037, 0.6433217533169302, 0.6391120391534658, 0.5791176097030698, 0.6229375173731707, 0.5868428269741591, 0.5957765750406242, 0.4302275673388361, 0.4265480471317756, 0.566052916313869, 0.399083564543408, 0.3990835391267898, 0.38104178362826957, 0.3765935537826289, 0.3739993001516922, 0.3736558675078171, 0.370633048881841, 0.35898298152079894, 0.35872742226469556, 0.35012713219880265, 0.34976518998131434, 0.3400957131828762, 0.4294148970392354, 1.0543851922728125, 0.32597121526089273, 0.4742540401310745, 0.4248500588340223, 0.31486951318302536, 0.31486951318302536, 0.3110433903327205, 0.31027198302072523, 0.31027198302072523, 0.31021050966047564, 0.3090461083658253, 0.508094630655946, 1.9899665221582066, 0.66599620307004, 0.9179668958228875, 0.8490167537839867, 0.6723561153548077, 0.6596195313893367, 0.6499132555724701, 2.3698785109782183, 1.1008335002015421, 0.9761770294970442, 0.6002026445333333, 0.6306302632178364, 0.5537920824347452, 0.5179672742459102, 0.6195337035484294, 0.9643058920715784, 0.5228848575052258, 0.5802215342772212, 0.8126190300972713, 0.5989540318327576, 0.553631211445726, 0.6434356348753993, 0.5481135945865384, 0.6079772313356233, 0.5504915583621277, 0.44845548472407365, 0.4318524773254584, 0.41946061961502873, 0.40192853911828547, 0.40065258352897687, 0.39254280413479775, 0.3887629251315212, 0.37903575712162757, 0.3653001764800184, 0.3617132113170139, 0.355934421307504, 0.3468004607026614, 0.4760653131200159, 0.34650276377076944, 0.34549691296381746, 0.34537330041500713, 0.33207934609608264, 0.33207934609608264, 0.4546974181298684, 0.5644891398749364, 0.3158164275208194, 0.30953076752394076, 0.9900986147782487, 0.29683883576823816, 0.2966520650309462, 0.6260410307912291, 0.2932058938232912, 0.2932058938232912, 0.2932058938232912, 0.2932058938232912, 0.38956298429346126, 0.43300670151877796, 0.624156581460015, 0.7829828557115509, 0.5730822252495912, 0.3704816479181682, 0.46677265616851976, 0.6650714478239905, 0.7910505853393025, 1.1402985348615013, 2.300945271392169, 0.5617819757641591, 0.7134289257042653, 0.8300577823394684, 0.9736735313320645, 0.5802472509257275, 0.6436335820414927, 0.5973276114710616, 0.7291515418786589, 0.9106317452316314, 0.5604333672953866, 0.5477326349684961, 0.7217644932029083, 0.755713413085681, 0.698678483953143, 0.6126320931234908, 0.6911725089130872, 0.7641150708120292, 0.6345290489796447, 0.5876392195917809, 0.5337109856328763, 0.6517937980272602, 0.6241407003971643, 0.5682437407615548, 0.5689842549202825, 0.4853342127554894, 0.483411547554457, 0.4585386455792636, 0.41882177107974156, 0.41836380979737103, 0.4010935842190287, 0.38693722645340367, 0.385373604940301, 0.37390574332453713, 0.5236296416828096, 0.3698880627197298, 0.3641993255670929, 0.35376800019755783, 0.3372581152957054, 0.3231179010860467, 0.32246173195707856, 0.32106496824514835, 0.42625855972935406, 0.49949372371525713, 0.3057572755429022, 0.3054761006212339, 0.3054761006212339, 0.5061989813767918, 0.3028227357976425, 0.3028227357976425, 0.4230974500161182, 0.2952176706220658, 0.2952176706220658, 0.2946870988442332, 0.2923921818141419, 0.49043046119639744, 0.5167519231544522, 0.3790946532748375, 0.4481434043624528, 0.652577911114684, 0.8302415541069503, 0.7622255926097782, 0.7484852319554341, 0.8209927713802322, 1.0041610614844316, 0.5890095743455095, 1.079926110599657, 1.6933499874564464, 0.7974190628784136, 0.6166300963472932, 0.6988563115219047, 0.4962129793920915, 0.5721848764307297, 0.6736922484892468, 0.5838007167654408, 0.5730355898617188, 0.5718418942574721, 0.5423891675055472, 0.6093150806959609, 0.568259891677816, 0.5651048642328536, 0.6034966381388438, 0.5345974032545284, 0.5625816424405993, 0.5565233006489588, 0.5377804108687672, 0.5136267618892069, 0.514785141945654], \"Total\": [3.0, 2.0, 2.0, 1.0, 2.0, 1.0, 2.0, 4.0, 5.0, 3.0, 4.0, 1.0, 2.0, 2.0, 1.0, 1.0, 1.0, 1.0, 1.0, 2.0, 3.0, 4.0, 2.0, 2.0, 1.0, 1.0, 2.0, 2.0, 2.0, 1.0, 1.0089788654757361, 0.9214406560139241, 0.9156351239979763, 0.9156351239979755, 1.5277656821027181, 0.8647369203976152, 0.8337846446615463, 1.157095448221564, 0.8135962419555103, 0.8005928805208963, 0.7992677492531077, 1.090507867234228, 0.7963447266739122, 1.680918436985315, 0.7918715789626489, 0.7897946951586932, 1.3116079192704486, 0.7844576065051592, 0.7844509769991125, 0.7797847050916656, 0.7796623802308295, 0.7796623802308295, 1.0563779151728112, 0.7723717184908205, 0.7716843863499009, 0.768350437538235, 0.7612166950775624, 0.7591059910414686, 0.7459245350656247, 0.7425513297676646, 1.9896866728585558, 1.5864112630834055, 2.034395339932359, 3.1416312401962667, 1.9494472413516533, 3.292114461138508, 1.8798335322308255, 2.7574705727415783, 2.804628020644489, 1.9000662857917128, 1.6460400316492103, 1.1859876586891853, 1.5694100463297054, 4.21939644934864, 12.166019820387875, 2.354242679775072, 2.367770240930696, 2.026187471927425, 5.180367003744907, 3.4291017525891725, 5.5975393408072165, 2.9395606129505127, 3.4187199207386882, 2.1785908699827226, 4.430941109369936, 5.786605984137733, 3.9525549732763468, 2.826560491766089, 2.696505572906853, 3.009758390039952, 1.1690930018289625, 1.0498163006383137, 1.0132081893534735, 1.8737266315237167, 0.8931963177091929, 1.1743646949893025, 0.8309200404672875, 0.8127089652440193, 0.8089323088302829, 0.7890096465303176, 1.0145991698529877, 0.7795547491088517, 0.7769997379870127, 0.7783319629277016, 0.7728003556545626, 1.0579415147326419, 1.0386880360570219, 2.026187471927425, 1.0654750489917928, 0.7483252332366382, 0.7468410570305681, 1.4508876699629198, 1.5157917445198814, 0.7324347053701746, 0.7317043356277825, 1.2702551325335305, 0.7259192336566447, 1.2307328294233693, 1.3148387487797057, 1.7657268910221562, 1.365439586779526, 1.2439273025266413, 2.8333700855839252, 1.0213457030939086, 4.638465328939157, 1.5337537006469777, 1.6976898484605631, 1.4844101150198852, 2.8227843224366933, 1.3598695589564684, 1.8902059483313776, 3.8146284248731352, 1.8911203544476145, 5.180367003744907, 12.166019820387875, 2.241035153744553, 2.696505572906853, 2.1785908699827226, 4.033335810030825, 2.1388133478064626, 4.430941109369936, 3.9525549732763468, 3.4291017525891725, 1.885153947538165, 5.786605984137733, 0.8965268084169179, 0.863418470059829, 0.8559166334053949, 0.8547267060417425, 0.8145322240835812, 0.8063741098603329, 0.7989147325477878, 0.79654361440543, 0.7899636825579337, 0.7760876404156509, 0.7729492801582594, 1.0604085436445447, 0.7482945268687421, 0.746834445372677, 0.745974544424433, 0.7429448701436455, 0.7414780818347118, 1.0132545916466744, 2.2926498610504558, 0.7265462147491547, 0.7265462147491547, 1.474259321225971, 0.9090538897185448, 1.2631763342423312, 0.9812251222102031, 1.123116624166531, 0.7033159152891545, 0.7022619181790662, 0.7022619181790662, 0.7006306850893519, 1.21006949825128, 4.265675880375604, 2.213048557256976, 3.110176525016058, 2.4575858603130407, 1.6711474616646822, 1.8045633685425821, 1.669699716281332, 1.8919242937470988, 5.180367003744907, 1.514554560453524, 12.166019820387875, 5.5975393408072165, 2.715200358678574, 1.822543119595968, 5.786605984137733, 2.266043486062294, 2.1388133478064626, 2.242364892308717, 3.7687496897926462, 3.1416312401962667, 3.1589953583699826, 4.638465328939157, 1.8585166220671105, 4.21939644934864, 4.430941109369936, 3.8146284248731352, 4.033335810030825, 2.9395606129505127, 1.0000743258861395, 0.963975366063347, 1.1076255217634436, 0.8073573306704968, 0.8036785033061701, 1.07927727299597, 0.7762191785795964, 0.7762191793922703, 0.7581729701030615, 0.753724985039336, 0.7511323255602692, 0.7507869021175885, 0.747762760407668, 0.7361129522753959, 0.7358579361086677, 0.7272571176544269, 0.7268981970205532, 0.7172276677607347, 0.9217601586275416, 2.266043486062294, 0.7031049271480139, 1.0292614694961335, 0.9255871663298697, 0.6920029561500791, 0.6920029561500791, 0.6881751529982588, 0.6874041252064538, 0.6874041252064538, 0.6873439550979373, 0.6861782264515316, 1.1832356198893788, 5.786605984137733, 1.6460400316492103, 2.4515593951576506, 2.3458696071918563, 1.7778864148955984, 1.7400916231462014, 1.7647929404755875, 12.166019820387875, 3.9525549732763468, 3.5282255615808373, 1.6709404062215505, 2.022614835603971, 1.649465567576442, 1.4530199664709977, 2.1244193302179695, 5.5975393408072165, 1.5355926961107471, 1.9460071039662938, 4.638465328939157, 2.585061544468569, 2.242364892308717, 4.21939644934864, 2.241035153744553, 3.7687496897926462, 5.180367003744907, 0.8257723654608804, 0.809163601924349, 0.7967722741307087, 0.7792400910315886, 0.7779644323885865, 0.7698543164913801, 0.7660786954647749, 0.7563471508717693, 0.7426119129437481, 0.7390254765936132, 0.73324567303796, 0.7241153154988288, 0.9943693134308527, 0.7238140026022957, 0.7228115842277651, 0.7226888734507562, 0.7093942463417993, 0.7093942463417993, 0.972207296152605, 1.234362431128267, 0.6931300097775616, 0.6868438971042891, 2.2020184666847142, 0.67415237828565, 0.6739665772437148, 1.4309849141882145, 0.6705203754776663, 0.6705203754776663, 0.6705203754776663, 0.6705203754776663, 0.8933739703053177, 1.0046135219312222, 1.5055778652421654, 1.9212687520653664, 1.446502221025854, 0.8744000698033801, 1.1548835628898342, 1.8270940698396738, 2.4920462768151563, 4.21939644934864, 12.166019820387875, 1.5446320117051855, 2.2517490338889394, 2.8868061135425402, 3.8146284248731352, 1.6836472001910887, 2.007880476590508, 1.7924032799544647, 2.6205489903151444, 4.033335810030825, 1.6559697586234143, 1.6544606905780694, 3.110176525016058, 3.5282255615808373, 3.1507694598193066, 2.2725984307297775, 3.292114461138508, 4.430941109369936, 2.715200358678574, 2.5154056204705664, 1.6874029197947824, 5.5975393408072165, 5.786605984137733, 2.8227843224366933, 3.1589953583699826, 0.8638863417650848, 0.8619651336507004, 0.8408283230475474, 0.7973775398636764, 0.796915586636909, 0.7796450922388322, 0.765489235236661, 0.763925313596487, 0.7524577227383382, 1.0588556859625733, 0.7484427409705812, 0.7427511000195268, 0.73232206804355, 0.7158094831332018, 0.7016697138409647, 0.7010152423496202, 0.6996198716732394, 0.949256241082618, 1.1125665911267975, 0.6843136962133558, 0.684030356707114, 0.684030356707114, 1.1337800183877835, 0.6813769300539632, 0.6813769300539632, 0.9612996881543411, 0.6737718833759698, 0.6737718833759698, 0.673241559559731, 0.6709463855807886, 1.1457165643076106, 1.2549219422037028, 0.8943717309359854, 1.105311089508876, 1.8296847269977587, 2.573145257702258, 2.3166118077416784, 2.367770240930696, 2.804628020644489, 4.430941109369936, 1.8629425453632706, 5.5975393408072165, 12.166019820387875, 3.7687496897926462, 2.3458696071918563, 3.4187199207386882, 1.559317324386081, 2.4401579420127426, 4.033335810030825, 2.8333700855839252, 2.826560491766089, 2.8227843224366933, 2.354242679775072, 3.9525549732763468, 3.1507694598193066, 3.1416312401962667, 5.786605984137733, 2.7574705727415783, 4.265675880375604, 4.21939644934864, 5.180367003744907, 2.8868061135425402, 4.638465328939157], \"Category\": [\"Default\", \"Default\", \"Default\", \"Default\", \"Default\", \"Default\", \"Default\", \"Default\", \"Default\", \"Default\", \"Default\", \"Default\", \"Default\", \"Default\", \"Default\", \"Default\", \"Default\", \"Default\", \"Default\", \"Default\", \"Default\", \"Default\", \"Default\", \"Default\", \"Default\", \"Default\", \"Default\", \"Default\", \"Default\", \"Default\", \"Topic1\", \"Topic1\", \"Topic1\", \"Topic1\", \"Topic1\", \"Topic1\", \"Topic1\", \"Topic1\", \"Topic1\", \"Topic1\", \"Topic1\", \"Topic1\", \"Topic1\", \"Topic1\", \"Topic1\", \"Topic1\", \"Topic1\", \"Topic1\", \"Topic1\", \"Topic1\", \"Topic1\", \"Topic1\", \"Topic1\", \"Topic1\", \"Topic1\", \"Topic1\", \"Topic1\", \"Topic1\", \"Topic1\", \"Topic1\", \"Topic1\", \"Topic1\", \"Topic1\", \"Topic1\", \"Topic1\", \"Topic1\", \"Topic1\", \"Topic1\", \"Topic1\", \"Topic1\", \"Topic1\", \"Topic1\", \"Topic1\", \"Topic1\", \"Topic1\", \"Topic1\", \"Topic1\", \"Topic1\", \"Topic1\", \"Topic1\", \"Topic1\", \"Topic1\", \"Topic1\", \"Topic1\", \"Topic1\", \"Topic1\", \"Topic1\", \"Topic1\", \"Topic1\", \"Topic2\", \"Topic2\", \"Topic2\", \"Topic2\", \"Topic2\", \"Topic2\", \"Topic2\", \"Topic2\", \"Topic2\", \"Topic2\", \"Topic2\", \"Topic2\", \"Topic2\", \"Topic2\", \"Topic2\", \"Topic2\", \"Topic2\", \"Topic2\", \"Topic2\", \"Topic2\", \"Topic2\", \"Topic2\", \"Topic2\", \"Topic2\", \"Topic2\", \"Topic2\", \"Topic2\", \"Topic2\", \"Topic2\", \"Topic2\", \"Topic2\", \"Topic2\", \"Topic2\", \"Topic2\", \"Topic2\", \"Topic2\", \"Topic2\", \"Topic2\", \"Topic2\", \"Topic2\", \"Topic2\", \"Topic2\", \"Topic2\", \"Topic2\", \"Topic2\", \"Topic2\", \"Topic2\", \"Topic2\", \"Topic2\", \"Topic2\", \"Topic2\", \"Topic2\", \"Topic2\", \"Topic2\", \"Topic2\", \"Topic2\", \"Topic3\", \"Topic3\", \"Topic3\", \"Topic3\", \"Topic3\", \"Topic3\", \"Topic3\", \"Topic3\", \"Topic3\", \"Topic3\", \"Topic3\", \"Topic3\", \"Topic3\", \"Topic3\", \"Topic3\", \"Topic3\", \"Topic3\", \"Topic3\", \"Topic3\", \"Topic3\", \"Topic3\", \"Topic3\", \"Topic3\", \"Topic3\", \"Topic3\", \"Topic3\", \"Topic3\", \"Topic3\", \"Topic3\", \"Topic3\", \"Topic3\", \"Topic3\", \"Topic3\", \"Topic3\", \"Topic3\", \"Topic3\", \"Topic3\", \"Topic3\", \"Topic3\", \"Topic3\", \"Topic3\", \"Topic3\", \"Topic3\", \"Topic3\", \"Topic3\", \"Topic3\", \"Topic3\", \"Topic3\", \"Topic3\", \"Topic3\", \"Topic3\", \"Topic3\", \"Topic3\", \"Topic3\", \"Topic3\", \"Topic3\", \"Topic3\", \"Topic3\", \"Topic3\", \"Topic4\", \"Topic4\", \"Topic4\", \"Topic4\", \"Topic4\", \"Topic4\", \"Topic4\", \"Topic4\", \"Topic4\", \"Topic4\", \"Topic4\", \"Topic4\", \"Topic4\", \"Topic4\", \"Topic4\", \"Topic4\", \"Topic4\", \"Topic4\", \"Topic4\", \"Topic4\", \"Topic4\", \"Topic4\", \"Topic4\", \"Topic4\", \"Topic4\", \"Topic4\", \"Topic4\", \"Topic4\", \"Topic4\", \"Topic4\", \"Topic4\", \"Topic4\", \"Topic4\", \"Topic4\", \"Topic4\", \"Topic4\", \"Topic4\", \"Topic4\", \"Topic4\", \"Topic4\", \"Topic4\", \"Topic4\", \"Topic4\", \"Topic4\", \"Topic4\", \"Topic4\", \"Topic4\", \"Topic4\", \"Topic4\", \"Topic4\", \"Topic4\", \"Topic4\", \"Topic4\", \"Topic4\", \"Topic4\", \"Topic4\", \"Topic5\", \"Topic5\", \"Topic5\", \"Topic5\", \"Topic5\", \"Topic5\", \"Topic5\", \"Topic5\", \"Topic5\", \"Topic5\", \"Topic5\", \"Topic5\", \"Topic5\", \"Topic5\", \"Topic5\", \"Topic5\", \"Topic5\", \"Topic5\", \"Topic5\", \"Topic5\", \"Topic5\", \"Topic5\", \"Topic5\", \"Topic5\", \"Topic5\", \"Topic5\", \"Topic5\", \"Topic5\", \"Topic5\", \"Topic5\", \"Topic5\", \"Topic5\", \"Topic5\", \"Topic5\", \"Topic5\", \"Topic5\", \"Topic5\", \"Topic5\", \"Topic5\", \"Topic5\", \"Topic5\", \"Topic5\", \"Topic5\", \"Topic5\", \"Topic5\", \"Topic5\", \"Topic5\", \"Topic5\", \"Topic5\", \"Topic5\", \"Topic5\", \"Topic5\", \"Topic5\", \"Topic5\", \"Topic5\", \"Topic5\", \"Topic5\", \"Topic5\", \"Topic5\", \"Topic5\", \"Topic5\", \"Topic5\", \"Topic5\", \"Topic5\", \"Topic5\", \"Topic6\", \"Topic6\", \"Topic6\", \"Topic6\", \"Topic6\", \"Topic6\", \"Topic6\", \"Topic6\", \"Topic6\", \"Topic6\", \"Topic6\", \"Topic6\", \"Topic6\", \"Topic6\", \"Topic6\", \"Topic6\", \"Topic6\", \"Topic6\", \"Topic6\", \"Topic6\", \"Topic6\", \"Topic6\", \"Topic6\", \"Topic6\", \"Topic6\", \"Topic6\", \"Topic6\", \"Topic6\", \"Topic6\", \"Topic6\", \"Topic6\", \"Topic6\", \"Topic6\", \"Topic6\", \"Topic6\", \"Topic6\", \"Topic6\", \"Topic6\", \"Topic6\", \"Topic6\", \"Topic6\", \"Topic6\", \"Topic6\", \"Topic6\", \"Topic6\", \"Topic6\", \"Topic6\", \"Topic6\", \"Topic6\", \"Topic6\", \"Topic6\", \"Topic6\", \"Topic6\", \"Topic6\", \"Topic6\", \"Topic6\", \"Topic6\", \"Topic6\", \"Topic6\", \"Topic6\", \"Topic6\", \"Topic6\", \"Topic6\"], \"logprob\": [30.0, 29.0, 28.0, 27.0, 26.0, 25.0, 24.0, 23.0, 22.0, 21.0, 20.0, 19.0, 18.0, 17.0, 16.0, 15.0, 14.0, 13.0, 12.0, 11.0, 10.0, 9.0, 8.0, 7.0, 6.0, 5.0, 4.0, 3.0, 2.0, 1.0, -6.1252, -6.2735, -6.2842, -6.2842, -5.8081, -6.3829, -6.4481, -6.1264, -6.493, -6.523, -6.5261, -6.2182, -6.533, -5.7867, -6.5436, -6.5486, -6.046, -6.5615, -6.5616, -6.573, -6.5733, -6.5733, -6.2746, -6.5914, -6.5932, -6.6016, -6.6198, -6.6253, -6.6601, -6.6692, -5.7848, -6.0316, -5.8282, -5.5049, -5.8787, -5.4769, -5.9251, -5.643, -5.6657, -5.9532, -6.0562, -6.2865, -6.1055, -5.5412, -4.9343, -5.8967, -5.9414, -6.0329, -5.5915, -5.7989, -5.5875, -5.9117, -5.8894, -6.0278, -5.9276, -5.8816, -5.9826, -6.0539, -6.0707, -4.7668, -5.873, -6.0356, -6.0927, -5.5383, -6.2995, -6.0378, -6.4274, -6.4681, -6.4768, -6.5238, -6.2818, -6.5468, -6.5532, -6.5552, -6.5653, -6.2518, -6.2744, -5.6108, -6.2625, -6.6271, -6.6311, -5.9687, -5.9371, -6.6705, -6.6726, -6.1222, -6.6889, -6.1711, -6.1052, -5.8123, -6.0691, -6.1868, -5.4935, -6.367, -5.1213, -6.0332, -5.9981, -6.0947, -5.6459, -6.1622, -5.9639, -5.5936, -6.029, -5.5469, -5.1667, -5.9509, -5.8834, -5.9769, -5.8461, -6.0409, -5.8601, -5.9089, -5.9515, -6.0838, -6.0763, -6.2572, -6.3229, -6.3383, -6.3408, -6.4284, -6.4472, -6.4646, -6.4702, -6.486, -6.52, -6.5279, -6.2397, -6.5919, -6.5959, -6.5982, -6.6064, -6.6104, -6.3022, -5.4911, -6.652, -6.652, -5.952, -6.4361, -6.1159, -6.3709, -6.2367, -6.7205, -6.7237, -6.7237, -6.7287, -6.2016, -5.0313, -5.6721, -5.3758, -5.637, -5.9581, -5.9449, -6.0356, -5.9513, -5.2995, -6.1353, -4.8621, -5.3522, -5.7931, -6.0576, -5.5005, -5.9678, -6.0167, -6.0041, -5.8225, -5.8965, -5.9268, -5.8536, -6.1551, -6.0154, -6.0137, -6.0465, -6.053, -6.1516, -6.0237, -6.0834, -6.0682, -6.3938, -6.4024, -6.1194, -6.4689, -6.4689, -6.5152, -6.5269, -6.5339, -6.5348, -6.5429, -6.5748, -6.5756, -6.5998, -6.6009, -6.6289, -6.3957, -5.4974, -6.6713, -6.2964, -6.4064, -6.706, -6.706, -6.7182, -6.7207, -6.7207, -6.7209, -6.7246, -6.2274, -4.8622, -5.9568, -5.636, -5.714, -5.9473, -5.9665, -5.9813, -4.6875, -5.4543, -5.5745, -6.0608, -6.0114, -6.1413, -6.2082, -6.0291, -5.5867, -6.1988, -6.0947, -5.7579, -6.0629, -6.1416, -5.9913, -6.1516, -6.048, -6.1473, -6.3469, -6.3846, -6.4137, -6.4564, -6.4596, -6.48, -6.4897, -6.515, -6.552, -6.5618, -6.5779, -6.6039, -6.2871, -6.6048, -6.6077, -6.608, -6.6473, -6.6473, -6.333, -6.1168, -6.6975, -6.7176, -5.5549, -6.7595, -6.7601, -6.0133, -6.7718, -6.7718, -6.7718, -6.7718, -6.4876, -6.3819, -6.0163, -5.7896, -6.1016, -6.5379, -6.3068, -5.9528, -5.7793, -5.4136, -4.7116, -6.1216, -5.8826, -5.7312, -5.5716, -6.0892, -5.9855, -6.0602, -5.8608, -5.6385, -6.124, -6.1469, -5.871, -5.825, -5.9035, -6.0349, -5.9143, -5.814, -5.9998, -6.0766, -6.1728, -5.9729, -6.0163, -6.1101, -6.1088, -6.2303, -6.2342, -6.2871, -6.3777, -6.3787, -6.4209, -6.4568, -6.4609, -6.4911, -6.1543, -6.5019, -6.5174, -6.5465, -6.5943, -6.6371, -6.6391, -6.6435, -6.3601, -6.2015, -6.6923, -6.6932, -6.6932, -6.1882, -6.702, -6.702, -6.3675, -6.7274, -6.7274, -6.7292, -6.737, -6.2198, -6.1675, -6.4773, -6.31, -5.9342, -5.6934, -5.7789, -5.797, -5.7046, -5.5032, -6.0367, -5.4305, -4.9806, -5.7337, -5.9908, -5.8657, -6.2081, -6.0656, -5.9023, -6.0455, -6.0642, -6.0662, -6.1191, -6.0028, -6.0725, -6.0781, -6.0124, -6.1336, -6.0826, -6.0934, -6.1277, -6.1736, -6.1714], \"loglift\": [30.0, 29.0, 28.0, 27.0, 26.0, 25.0, 24.0, 23.0, 22.0, 21.0, 20.0, 19.0, 18.0, 17.0, 16.0, 15.0, 14.0, 13.0, 12.0, 11.0, 10.0, 9.0, 8.0, 7.0, 6.0, 5.0, 4.0, 3.0, 2.0, 1.0, 1.2463, 1.1887, 1.1843, 1.1843, 1.1486, 1.1429, 1.1141, 1.1081, 1.0938, 1.0798, 1.0784, 1.0756, 1.0752, 1.0744, 1.0701, 1.0678, 1.0631, 1.0616, 1.0616, 1.0562, 1.056, 1.056, 1.051, 1.0473, 1.0464, 1.0423, 1.0334, 1.0307, 1.0134, 1.0088, 0.9076, 0.8873, 0.8421, 0.7308, 0.8341, 0.712, 0.8242, 0.7231, 0.6834, 0.7854, 0.8258, 0.9234, 0.8242, 0.3995, -0.0525, 0.6275, 0.5771, 0.6413, 0.144, 0.3493, 0.0706, 0.3905, 0.2618, 0.5739, -0.0358, -0.2567, 0.0235, 0.2874, 0.3177, 1.5118, 1.3512, 1.2962, 1.2746, 1.2142, 1.1939, 1.1819, 1.1382, 1.1197, 1.1157, 1.0936, 1.0841, 1.0826, 1.0796, 1.0758, 1.0729, 1.0723, 1.0681, 1.0635, 1.0545, 1.0433, 1.0413, 1.0396, 1.0274, 1.0213, 1.0202, 1.019, 1.0119, 1.0018, 1.0015, 0.9996, 0.9999, 0.9753, 0.8455, 0.9923, 0.7248, 0.9195, 0.8531, 0.8907, 0.6968, 0.9108, 0.7798, 0.448, 0.7143, 0.1887, -0.2849, 0.6226, 0.5051, 0.6249, 0.1397, 0.5792, 0.0317, 0.0972, 0.1966, 0.6626, -0.4514, 1.2324, 1.2044, 1.1977, 1.1966, 1.1571, 1.1485, 1.1403, 1.1377, 1.1302, 1.1139, 1.1101, 1.082, 1.0784, 1.0765, 1.0753, 1.0712, 1.0692, 1.0651, 1.0596, 1.0478, 1.0478, 1.0403, 1.0397, 1.0309, 1.0285, 1.0276, 1.0119, 1.0102, 1.0102, 1.0075, 0.9881, 0.8985, 0.914, 0.8699, 0.8442, 0.9088, 0.8452, 0.8322, 0.7915, 0.436, 0.83, 0.0197, 0.3059, 0.5885, 0.7226, 0.1243, 0.5946, 0.6034, 0.5688, 0.2312, 0.3392, 0.3034, -0.0075, 0.6056, -0.0747, -0.1219, -0.0049, -0.0672, 0.1505, 1.3567, 1.3338, 1.21, 1.2006, 1.1966, 1.1847, 1.1648, 1.1648, 1.1421, 1.1362, 1.1327, 1.1323, 1.1282, 1.112, 1.1116, 1.0991, 1.0985, 1.0839, 1.0662, 1.065, 1.0614, 1.0552, 1.0514, 1.0426, 1.0426, 1.036, 1.0346, 1.0346, 1.0345, 1.0324, 0.9847, 0.7626, 0.9252, 0.8477, 0.8137, 0.8577, 0.86, 0.8311, 0.1943, 0.5518, 0.5452, 0.8062, 0.6646, 0.7386, 0.7986, 0.5978, 0.0714, 0.7528, 0.6199, 0.0882, 0.3677, 0.4313, -0.0506, 0.4219, 0.0057, -0.4118, 1.225, 1.2076, 1.1939, 1.1735, 1.1719, 1.1619, 1.1572, 1.1446, 1.1261, 1.121, 1.1128, 1.0993, 1.099, 1.0989, 1.0973, 1.0972, 1.0765, 1.0765, 1.0756, 1.0531, 1.0494, 1.0385, 1.0362, 1.0152, 1.0149, 1.0088, 1.0083, 1.0083, 1.0083, 1.0083, 1.0055, 0.9939, 0.955, 0.9379, 0.9096, 0.9768, 0.9296, 0.8249, 0.688, 0.5271, 0.1702, 0.8241, 0.6861, 0.5891, 0.47, 0.7702, 0.6978, 0.7367, 0.5562, 0.3473, 0.7521, 0.7301, 0.3748, 0.2946, 0.3293, 0.5246, 0.2746, 0.0779, 0.3818, 0.3814, 0.6844, -0.3148, -0.3914, 0.2326, 0.1213, 1.2965, 1.2947, 1.2667, 1.2292, 1.2287, 1.2084, 1.1908, 1.1888, 1.1737, 1.1689, 1.1683, 1.1604, 1.1455, 1.1205, 1.0976, 1.0965, 1.0942, 1.0724, 1.0722, 1.0675, 1.0669, 1.0669, 1.0667, 1.0621, 1.0621, 1.0524, 1.0479, 1.0479, 1.0469, 1.0425, 1.0246, 0.9858, 1.0147, 0.9703, 0.8421, 0.7419, 0.7615, 0.7214, 0.6446, 0.3886, 0.7216, 0.2276, -0.0989, 0.32, 0.5369, 0.2855, 0.7281, 0.4227, 0.0835, 0.2934, 0.2772, 0.2765, 0.4051, 0.0033, 0.1603, 0.1576, -0.3875, 0.2325, -0.1527, -0.1527, -0.3921, 0.1467, -0.3253]}, \"token.table\": {\"Topic\": [1, 1, 3, 6, 5, 2, 5, 6, 5, 4, 2, 3, 5, 4, 3, 2, 2, 1, 2, 1, 2, 5, 6, 2, 5, 1, 3, 5, 4, 2, 2, 2, 1, 2, 3, 4, 5, 6, 4, 1, 6, 2, 5, 2, 1, 1, 2, 5, 2, 2, 3, 6, 2, 3, 4, 5, 6, 2, 1, 4, 3, 2, 4, 4, 2, 4, 4, 1, 2, 3, 4, 5, 6, 3, 4, 1, 2, 4, 6, 5, 1, 2, 4, 5, 6, 4, 3, 5, 5, 1, 1, 2, 3, 4, 5, 1, 2, 1, 3, 6, 2, 2, 4, 1, 2, 3, 4, 5, 6, 1, 2, 3, 4, 6, 4, 1, 2, 3, 1, 2, 3, 5, 6, 2, 1, 1, 3, 5, 5, 3, 1, 2, 5, 6, 2, 3, 4, 6, 5, 3, 2, 4, 2, 5, 3, 5, 1, 2, 2, 3, 3, 4, 4, 1, 5, 1, 2, 2, 6, 3, 1, 4, 5, 1, 5, 6, 2, 4, 3, 5, 1, 6, 6, 6, 5, 3, 3, 4, 2, 1, 6, 2, 1, 2, 3, 4, 5, 6, 1, 3, 2, 4, 1, 2, 3, 1, 2, 1, 5, 2, 1, 2, 3, 5, 6, 5, 4, 1, 2, 6, 5, 1, 6, 1, 5, 1, 6, 1, 2, 1, 1, 2, 3, 5, 1, 2, 1, 2, 1, 3, 4, 5, 6, 1, 3, 6, 2, 3, 2, 5, 6, 3, 6, 1, 2, 3, 3], \"Freq\": [0.8431790943805026, 0.991101037114883, 0.4098095384658416, 0.4098095384658416, 0.603875762098027, 0.35426015089129326, 0.35426015089129326, 0.35426015089129326, 0.5579101596072757, 0.40790363960800297, 0.9385484915355374, 0.3215251584457371, 0.3215251584457371, 0.5666387127152229, 0.8903794837353635, 0.8515242362672604, 0.945231835667887, 0.49353774705197595, 0.49353774705197595, 0.31738278942736387, 0.31738278942736387, 0.31738278942736387, 0.31738278942736387, 0.44002494522487184, 0.44002494522487184, 0.3165563372388088, 0.3165563372388088, 0.3165563372388088, 0.9028322121071265, 0.8553639431897817, 0.6597212338801491, 0.5336957820719017, 0.17281287212939744, 0.17281287212939744, 0.17281287212939744, 0.3456257442587949, 0.17281287212939744, 0.17281287212939744, 1.0373709071879806, 0.3565535224775388, 0.3565535224775388, 0.9525476022728698, 0.5473171942853218, 0.673668273936953, 0.7624229659700642, 0.5949128631092148, 1.1195747006265426, 0.64740338955947, 0.760549535772424, 0.23442943815786288, 0.46885887631572576, 0.23442943815786288, 0.2653399886727471, 0.2653399886727471, 0.2653399886727471, 0.2653399886727471, 0.2653399886727471, 0.8125240312867305, 0.6075186391415244, 0.6075186391415244, 0.5989100855973958, 0.49440950515988435, 0.49440950515988435, 0.8451402097694545, 0.5663389990176301, 0.5984653888771959, 0.9999256796377872, 0.16439230163412938, 0.16439230163412938, 0.16439230163412938, 0.16439230163412938, 0.16439230163412938, 0.16439230163412938, 0.44129779774778327, 0.44129779774778327, 0.2530009087188182, 0.2530009087188182, 0.2530009087188182, 0.2530009087188182, 0.6913228237498341, 0.29250714395577876, 0.29250714395577876, 0.29250714395577876, 0.29250714395577876, 0.29250714395577876, 0.5624656286373179, 0.36829694604440805, 0.36829694604440805, 0.664196799837486, 1.092138094958239, 0.34018689582191475, 0.34018689582191475, 0.34018689582191475, 0.4707168616741018, 0.4707168616741018, 0.3708503368387229, 0.3708503368387229, 0.3183059765911696, 0.3183059765911696, 0.3183059765911696, 0.9627529780704069, 0.44622236216558075, 0.44622236216558075, 0.17864992796205892, 0.17864992796205892, 0.17864992796205892, 0.17864992796205892, 0.17864992796205892, 0.17864992796205892, 0.21558854687584905, 0.4311770937516981, 0.21558854687584905, 0.21558854687584905, 0.21558854687584905, 0.5746823826391012, 0.2916215592742156, 0.2916215592742156, 0.2916215592742156, 0.225685689634949, 0.225685689634949, 0.225685689634949, 0.225685689634949, 0.225685689634949, 0.6645051664673495, 0.637182106957099, 0.9466309221699429, 0.5541506701466677, 0.6988193866231577, 0.4012766573813402, 0.7916551101314072, 0.30375614572470583, 0.30375614572470583, 0.30375614572470583, 0.5465422459096828, 0.4069033827662984, 0.4069033827662984, 0.42628115259869825, 0.42628115259869825, 0.4440992246249241, 0.4518653676715877, 0.3868379854010701, 0.3868379854010701, 0.5890357422510262, 0.4541287982500741, 0.4361765034377364, 0.6044265697546428, 1.0921380949582382, 0.7872434240871712, 0.5287870746291524, 0.5983912389178803, 0.5138727386769708, 0.5138727386769708, 0.6062569717470968, 0.39755019701869243, 0.39755019701869243, 0.6545506367335496, 0.8039054999185395, 0.38862943979034054, 0.38862943979034054, 0.6783067168728604, 0.283428591099472, 0.283428591099472, 0.283428591099472, 0.5129659212047452, 0.43166489813191367, 0.43166489813191367, 0.6882217884649832, 0.6882217884649832, 0.5486838633599439, 0.8101348313768361, 0.4915465447503673, 0.944415762466186, 0.5367852070848496, 0.8820053130077062, 0.49803761312429073, 0.5380635223416852, 0.44595774908445424, 0.44595774908445424, 0.6892332333526253, 0.4223382753585633, 0.4223382753585633, 0.5304606561739462, 0.19303651638524766, 0.19303651638524766, 0.19303651638524766, 0.19303651638524766, 0.19303651638524766, 0.19303651638524766, 0.5262974283990959, 1.1154156134670357, 0.9869639926993665, 0.9265459627664502, 0.5025916962912124, 0.9856108990754417, 0.943032764110967, 0.6303535679999929, 0.7323648806451863, 0.3815994296217073, 0.3815994296217073, 0.5290428806886217, 0.2479337320520201, 0.2479337320520201, 0.2479337320520201, 0.2479337320520201, 0.2479337320520201, 0.5204893895895609, 0.6512143503500227, 0.3529365983949504, 0.3529365983949504, 0.3529365983949504, 0.5926266858194232, 0.4247650459278657, 0.4247650459278657, 0.5939486609109694, 0.5939486609109694, 0.3626511955867451, 0.3626511955867451, 0.8642329390691, 0.6519951668759942, 1.0852570846243286, 0.2621487307858189, 0.2621487307858189, 0.2621487307858189, 0.2621487307858189, 0.9170039300461204, 0.73536464833243, 0.4590122972506217, 0.4590122972506217, 0.2370007208387287, 0.2370007208387287, 0.2370007208387287, 0.2370007208387287, 0.2370007208387287, 0.35378687380406315, 0.35378687380406315, 0.35378687380406315, 0.46754898038465403, 0.46754898038465403, 0.34640358952713013, 0.34640358952713013, 0.34640358952713013, 0.8263988154772434, 0.7968623118055871, 0.5319619970887984, 0.528562376044881, 0.528562376044881, 0.660260135957437], \"Term\": [\"able\", \"abysmal\", \"agent\", \"agent\", \"agents\", \"airline\", \"airline\", \"airline\", \"airlines\", \"airport\", \"american\", \"amp\", \"amp\", \"answer\", \"anymore\", \"arrived\", \"available\", \"bad\", \"bad\", \"bag\", \"bag\", \"bag\", \"bag\", \"baggage\", \"baggage\", \"bags\", \"bags\", \"bags\", \"birthday\", \"book\", \"business\", \"called\", \"cancelled\", \"cancelled\", \"cancelled\", \"cancelled\", \"cancelled\", \"cancelled\", \"chance\", \"change\", \"change\", \"charlotte\", \"check\", \"checked\", \"chicago\", \"come\", \"counting\", \"crew\", \"cust\", \"customer\", \"customer\", \"customer\", \"delayed\", \"delayed\", \"delayed\", \"delayed\", \"delayed\", \"delivered\", \"dfw\", \"dfw\", \"different\", \"disappointed\", \"disappointed\", \"early\", \"experience\", \"fail\", \"feeling\", \"flight\", \"flight\", \"flight\", \"flight\", \"flight\", \"flight\", \"flighted\", \"flighted\", \"flightled\", \"flightled\", \"flightled\", \"flightled\", \"flightr\", \"flights\", \"flights\", \"flights\", \"flights\", \"flights\", \"flt\", \"fly\", \"fly\", \"flying\", \"fuck\", \"gate\", \"gate\", \"gate\", \"getting\", \"getting\", \"going\", \"going\", \"got\", \"got\", \"got\", \"ground\", \"guys\", \"guys\", \"help\", \"help\", \"help\", \"help\", \"help\", \"help\", \"hold\", \"hold\", \"hold\", \"hold\", \"hold\", \"home\", \"hour\", \"hour\", \"hour\", \"hours\", \"hours\", \"hours\", \"hours\", \"hours\", \"hung\", \"issues\", \"jetblue\", \"know\", \"landed\", \"late\", \"lax\", \"like\", \"like\", \"like\", \"long\", \"lost\", \"lost\", \"luggage\", \"luggage\", \"make\", \"min\", \"minutes\", \"minutes\", \"missing\", \"money\", \"need\", \"night\", \"noope\", \"number\", \"online\", \"paid\", \"passengers\", \"passengers\", \"pay\", \"people\", \"people\", \"person\", \"phl\", \"phone\", \"phone\", \"pick\", \"plane\", \"plane\", \"plane\", \"problem\", \"really\", \"really\", \"refund\", \"refund\", \"rep\", \"reply\", \"reservation\", \"reservations\", \"response\", \"ridiculous\", \"right\", \"rude\", \"said\", \"said\", \"says\", \"seat\", \"seat\", \"seats\", \"service\", \"service\", \"service\", \"service\", \"service\", \"service\", \"sitting\", \"spiritairlines\", \"start\", \"stay\", \"stuck\", \"switched\", \"talk\", \"tell\", \"terrible\", \"thanks\", \"thanks\", \"think\", \"time\", \"time\", \"time\", \"time\", \"time\", \"times\", \"today\", \"told\", \"told\", \"told\", \"tonight\", \"tried\", \"tried\", \"trip\", \"trip\", \"trying\", \"trying\", \"tv\", \"twice\", \"unbelievable\", \"united\", \"united\", \"united\", \"united\", \"unitedairlines\", \"voucher\", \"wait\", \"wait\", \"waiting\", \"waiting\", \"waiting\", \"waiting\", \"waiting\", \"want\", \"want\", \"want\", \"way\", \"way\", \"weather\", \"weather\", \"weather\", \"week\", \"weeks\", \"work\", \"worst\", \"worst\", \"yesterday\"]}, \"R\": 30, \"lambda.step\": 0.01, \"plot.opts\": {\"xlab\": \"PC1\", \"ylab\": \"PC2\"}, \"topic.order\": [4, 1, 2, 5, 3, 6]};\n",
       "\n",
       "function LDAvis_load_lib(url, callback){\n",
       "  var s = document.createElement('script');\n",
       "  s.src = url;\n",
       "  s.async = true;\n",
       "  s.onreadystatechange = s.onload = callback;\n",
       "  s.onerror = function(){console.warn(\"failed to load library \" + url);};\n",
       "  document.getElementsByTagName(\"head\")[0].appendChild(s);\n",
       "}\n",
       "\n",
       "if(typeof(LDAvis) !== \"undefined\"){\n",
       "   // already loaded: just create the visualization\n",
       "   !function(LDAvis){\n",
       "       new LDAvis(\"#\" + \"ldavis_el2340024487244722087847552187\", ldavis_el2340024487244722087847552187_data);\n",
       "   }(LDAvis);\n",
       "}else if(typeof define === \"function\" && define.amd){\n",
       "   // require.js is available: use it to load d3/LDAvis\n",
       "   require.config({paths: {d3: \"https://cdnjs.cloudflare.com/ajax/libs/d3/3.5.5/d3.min\"}});\n",
       "   require([\"d3\"], function(d3){\n",
       "      window.d3 = d3;\n",
       "      LDAvis_load_lib(\"https://cdn.rawgit.com/bmabey/pyLDAvis/files/ldavis.v1.0.0.js\", function(){\n",
       "        new LDAvis(\"#\" + \"ldavis_el2340024487244722087847552187\", ldavis_el2340024487244722087847552187_data);\n",
       "      });\n",
       "    });\n",
       "}else{\n",
       "    // require.js not available: dynamically load d3 & LDAvis\n",
       "    LDAvis_load_lib(\"https://cdnjs.cloudflare.com/ajax/libs/d3/3.5.5/d3.min.js\", function(){\n",
       "         LDAvis_load_lib(\"https://cdn.rawgit.com/bmabey/pyLDAvis/files/ldavis.v1.0.0.js\", function(){\n",
       "                 new LDAvis(\"#\" + \"ldavis_el2340024487244722087847552187\", ldavis_el2340024487244722087847552187_data);\n",
       "            })\n",
       "         });\n",
       "}\n",
       "</script>"
      ],
      "text/plain": [
       "PreparedData(topic_coordinates=              x         y  topics  cluster       Freq\n",
       "topic                                                \n",
       "3     -0.053464 -0.031210       1        1  18.096917\n",
       "0      0.047904 -0.044064       2        1  17.596903\n",
       "1      0.005686  0.032542       3        1  16.947530\n",
       "4     -0.009406  0.020249       4        1  16.040339\n",
       "2      0.016706  0.025470       5        1  15.953288\n",
       "5     -0.007425 -0.002987       6        1  15.365023, topic_info=          Term      Freq     Total Category  logprob  loglift\n",
       "915       hung  3.000000  3.000000  Default  30.0000  30.0000\n",
       "753   flighted  2.000000  2.000000  Default  29.0000  29.0000\n",
       "289        bad  2.000000  2.000000  Default  28.0000  28.0000\n",
       "367     called  1.000000  1.000000  Default  27.0000  27.0000\n",
       "1181     money  2.000000  2.000000  Default  26.0000  26.0000\n",
       "...        ...       ...       ...      ...      ...      ...\n",
       "528   customer  0.562582  4.265676   Topic6  -6.0826  -0.1527\n",
       "1869   waiting  0.556523  4.219396   Topic6  -6.0934  -0.1527\n",
       "1547   service  0.537780  5.180367   Topic6  -6.1277  -0.3921\n",
       "1882   weather  0.513627  2.886806   Topic6  -6.1736   0.1467\n",
       "887       hold  0.514785  4.638465   Topic6  -6.1714  -0.3253\n",
       "\n",
       "[388 rows x 6 columns], token_table=      Topic      Freq       Term\n",
       "term                            \n",
       "156       1  0.843179       able\n",
       "163       1  0.991101    abysmal\n",
       "189       3  0.409810      agent\n",
       "189       6  0.409810      agent\n",
       "190       5  0.603876     agents\n",
       "...     ...       ...        ...\n",
       "1889      6  0.796862      weeks\n",
       "1912      1  0.531962       work\n",
       "1918      2  0.528562      worst\n",
       "1918      3  0.528562      worst\n",
       "1938      3  0.660260  yesterday\n",
       "\n",
       "[247 rows x 3 columns], R=30, lambda_step=0.01, plot_opts={'xlab': 'PC1', 'ylab': 'PC2'}, topic_order=[4, 1, 2, 5, 3, 6])"
      ]
     },
     "execution_count": 15,
     "metadata": {},
     "output_type": "execute_result"
    }
   ],
   "source": [
    "panel = pyLDAvis.sklearn.prepare(LDA_model, docs_tfidf, tfidf_featurizer) # Create the panel for the visualization\n",
    "panel"
   ]
  },
  {
   "cell_type": "code",
   "execution_count": 16,
   "id": "7b8aafd5",
   "metadata": {},
   "outputs": [],
   "source": [
    "pyLDAvis.save_html(panel, 'lda.html')"
   ]
  },
  {
   "cell_type": "code",
   "execution_count": null,
   "id": "c23a1acc",
   "metadata": {},
   "outputs": [],
   "source": []
  },
  {
   "cell_type": "code",
   "execution_count": null,
   "id": "92c75f3c",
   "metadata": {},
   "outputs": [],
   "source": []
  }
 ],
 "metadata": {
  "kernelspec": {
   "display_name": "Python 3 (ipykernel)",
   "language": "python",
   "name": "python3"
  },
  "language_info": {
   "codemirror_mode": {
    "name": "ipython",
    "version": 3
   },
   "file_extension": ".py",
   "mimetype": "text/x-python",
   "name": "python",
   "nbconvert_exporter": "python",
   "pygments_lexer": "ipython3",
   "version": "3.9.15"
  }
 },
 "nbformat": 4,
 "nbformat_minor": 5
}
