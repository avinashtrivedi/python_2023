{
 "cells": [
  {
   "cell_type": "code",
   "execution_count": 31,
   "id": "767a297f",
   "metadata": {},
   "outputs": [],
   "source": [
    "import gradio as gr\n",
    "from joblib import Parallel, delayed\n",
    "import torch\n",
    "import joblib\n",
    "from sklearn.preprocessing import OneHotEncoder\n",
    "from sklearn.pipeline import Pipeline\n",
    "\n",
    "from sklearn.base import BaseEstimator, TransformerMixin\n",
    "from sklearn.compose import ColumnTransformer\n",
    "import pandas as pd\n",
    "from sklearn.metrics.pairwise import cosine_similarity\n",
    "import numpy as np\n",
    "\n",
    "import numpy as np\n",
    "import pandas as pd\n",
    "import matplotlib.pyplot as plt\n",
    "import plotly.express as px\n",
    "import plotly.graph_objects as go\n",
    "\n",
    "# Sklearn\n",
    "import seaborn as sns\n",
    "import sklearn\n",
    "from tqdm.notebook import tqdm\n",
    "from sklearn.ensemble import RandomForestRegressor\n",
    "import statsmodels.api as sm\n",
    "from sklearn.feature_selection import SelectKBest, f_regression\n",
    "from sklearn.metrics import mean_squared_error\n",
    "from sklearn.ensemble import AdaBoostRegressor\n",
    "from xgboost import XGBRegressor\n",
    "from sklearn.model_selection import GridSearchCV\n",
    "from sklearn.neural_network import MLPRegressor\n",
    "from sklearn.model_selection import GridSearchCV\n",
    "from sklearn.model_selection import train_test_split\n",
    "from sklearn.preprocessing import StandardScaler\n",
    "# Deep learning \n",
    "from sklearn.model_selection import train_test_split\n",
    "from sklearn.preprocessing import StandardScaler\n",
    "from tensorflow.keras.models import Sequential\n",
    "from tensorflow.keras.layers import Dense\n",
    "from tensorflow.keras.utils import to_categorical\n",
    "from keras.callbacks import ReduceLROnPlateau, EarlyStopping\n",
    "\n",
    "import warnings\n",
    "\n",
    "# Suppress all warnings\n",
    "warnings.filterwarnings(\"ignore\")\n"
   ]
  },
  {
   "cell_type": "code",
   "execution_count": 32,
   "id": "b42ff9a7",
   "metadata": {},
   "outputs": [],
   "source": [
    "class PassthroughTransformer(BaseEstimator):\n",
    "    def fit(self, X, y = None):\n",
    "        self.cols = X.columns\n",
    "        return self\n",
    "        \n",
    "    def transform(self, X, y = None):\n",
    "        \n",
    "        X_ = X.copy()\n",
    "        all_genre = {'Action',\n",
    "                     'Adventure',\n",
    "                     'Animation',\n",
    "                     'Comedy',\n",
    "                     'Crime',\n",
    "                     'Documentary',\n",
    "                     'Drama',\n",
    "                     'Family',\n",
    "                     'Fantasy',\n",
    "                     'Foreign',\n",
    "                     'History',\n",
    "                     'Horror',\n",
    "                     'Music',\n",
    "                     'Mystery',\n",
    "                     'Romance',\n",
    "                     'Science Fiction',\n",
    "                     'TV Movie',\n",
    "                     'Thriller',\n",
    "                     'War',\n",
    "                     'Western'}\n",
    "        for gen in tqdm(all_genre):\n",
    "            X_[gen] = X_['genres'].apply(lambda x: 1 if gen in x else 0)\n",
    "            \n",
    "        X_.drop('genres',axis=1,inplace=True)\n",
    "        return X_\n",
    "\n",
    "    def get_feature_names(self):\n",
    "        return self.cols"
   ]
  },
  {
   "cell_type": "code",
   "execution_count": 33,
   "id": "291ec75f",
   "metadata": {},
   "outputs": [],
   "source": [
    "Genres = [\"Action\", \"Comedy\", \"Crime\",'Thriller']\n",
    "language = ['en','fr','es','zh']\n",
    "rf_from_joblib = joblib.load('reg_rf.pkl')\n",
    "cleaner_from_joblib = joblib.load('preprocessing.pkl')"
   ]
  },
  {
   "cell_type": "code",
   "execution_count": 34,
   "id": "77b4612e",
   "metadata": {},
   "outputs": [
    {
     "name": "stdout",
     "output_type": "stream",
     "text": [
      "IMPORTANT: You are using gradio version 3.5, however version 3.14.0 is available, please upgrade.\n",
      "--------\n",
      "Running on local URL:  http://127.0.0.1:7868\n",
      "\n",
      "To create a public link, set `share=True` in `launch()`.\n"
     ]
    },
    {
     "data": {
      "text/html": [
       "<div><iframe src=\"http://127.0.0.1:7868/\" width=\"900\" height=\"500\" allow=\"autoplay; camera; microphone; clipboard-read; clipboard-write;\" frameborder=\"0\" allowfullscreen></iframe></div>"
      ],
      "text/plain": [
       "<IPython.core.display.HTML object>"
      ]
     },
     "metadata": {},
     "output_type": "display_data"
    },
    {
     "data": {
      "text/plain": [
       "(<gradio.routes.App at 0x216f0cf4160>, 'http://127.0.0.1:7868/', None)"
      ]
     },
     "execution_count": 34,
     "metadata": {},
     "output_type": "execute_result"
    },
    {
     "data": {
      "application/vnd.jupyter.widget-view+json": {
       "model_id": "c06f4bed3385419eb7a086765a452dc5",
       "version_major": 2,
       "version_minor": 0
      },
      "text/plain": [
       "  0%|          | 0/20 [00:00<?, ?it/s]"
      ]
     },
     "metadata": {},
     "output_type": "display_data"
    }
   ],
   "source": [
    "def translate(budget,genre,language,runtime,vote_average,vote_count,release_month):\n",
    "    \"\"\"\n",
    "    Translate the text from source lang to target lang\n",
    "    \"\"\"\n",
    "    \n",
    "    X_test = [budget,genre,language,runtime,vote_average,vote_count,release_month]\n",
    "    df_new = pd.DataFrame(X_test).T\n",
    "    df_new.columns = ['budget',\n",
    "     'genres',\n",
    "     'original_language',\n",
    "     'runtime',\n",
    "     'vote_average',\n",
    "     'vote_count',\n",
    "     'release_date_month']\n",
    "        # Load the model from the file\n",
    "    \n",
    "    df_new = cleaner_from_joblib.transform(df_new)\n",
    "    y_pred_rf = rf_from_joblib.predict(df_new)\n",
    "    y_pred_rf\n",
    "    return y_pred_rf[0]\n",
    "\n",
    "demo = gr.Interface(\n",
    "    fn=translate,\n",
    "    inputs=[\n",
    "\n",
    "        gr.components.Textbox(label=\"budget\"),\n",
    "        gr.components.Dropdown(label=\"genres\", choices=Genres),\n",
    "        gr.components.Dropdown(label=\"Language\", choices=language),\n",
    "        \n",
    "        gr.components.Textbox(label=\"runtime\"),\n",
    "        gr.components.Textbox(label=\"vote_average\"),\n",
    "        gr.components.Textbox(label=\"vote_count\"),\n",
    "        gr.components.Textbox(label=\"release_date\"),\n",
    "        \n",
    "    ],\n",
    "    outputs=[\"text\"],\n",
    "#     examples=[[\"Building a translation demo with Gradio is so easy!\", \"eng_Latn\", \"spa_Latn\"]],\n",
    "    cache_examples=False,\n",
    "    title=\"Popularity Prediction\",\n",
    "#     description=\"This demo is a simplified version of the original [NLLB-Translator](https://huggingface.co/spaces/Narrativaai/NLLB-Translator) space\"\n",
    ")\n",
    "\n",
    "demo.launch()\n"
   ]
  },
  {
   "cell_type": "code",
   "execution_count": null,
   "id": "8ddecba5",
   "metadata": {},
   "outputs": [],
   "source": []
  },
  {
   "cell_type": "code",
   "execution_count": null,
   "id": "0d471af4",
   "metadata": {},
   "outputs": [],
   "source": []
  },
  {
   "cell_type": "code",
   "execution_count": null,
   "id": "225e9046",
   "metadata": {},
   "outputs": [],
   "source": []
  },
  {
   "cell_type": "code",
   "execution_count": 7,
   "id": "a3e08dd6",
   "metadata": {},
   "outputs": [
    {
     "name": "stdout",
     "output_type": "stream",
     "text": [
      "IMPORTANT: You are using gradio version 3.5, however version 3.14.0 is available, please upgrade.\n",
      "--------\n",
      "Caching examples at: 'D:\\OneDrive - NITT\\CODE\\Python Scripts\\Code_2023\\Natalia\\Last_proj\\gradio_cached_examples\\38\\log.csv'\n"
     ]
    },
    {
     "name": "stderr",
     "output_type": "stream",
     "text": [
      "C:\\Users\\avitr\\AppData\\Roaming\\Python\\Python39\\site-packages\\altair\\utils\\core.py:317: FutureWarning: iteritems is deprecated and will be removed in a future version. Use .items instead.\n",
      "  for col_name, dtype in df.dtypes.iteritems():\n"
     ]
    },
    {
     "name": "stdout",
     "output_type": "stream",
     "text": [
      "Running on local URL:  http://127.0.0.1:7861\n",
      "\n",
      "To create a public link, set `share=True` in `launch()`.\n"
     ]
    },
    {
     "data": {
      "text/html": [
       "<div><iframe src=\"http://127.0.0.1:7861/\" width=\"900\" height=\"500\" allow=\"autoplay; camera; microphone; clipboard-read; clipboard-write;\" frameborder=\"0\" allowfullscreen></iframe></div>"
      ],
      "text/plain": [
       "<IPython.core.display.HTML object>"
      ]
     },
     "metadata": {},
     "output_type": "display_data"
    },
    {
     "data": {
      "image/png": "[encoded data removed]",
      "text/plain": [
       "<Figure size 640x480 with 1 Axes>"
      ]
     },
     "metadata": {},
     "output_type": "display_data"
    }
   ],
   "source": [
    "import altair\n",
    "\n",
    "import gradio as gr\n",
    "from math import sqrt\n",
    "import matplotlib.pyplot as plt\n",
    "import numpy as np\n",
    "import plotly.express as px\n",
    "import pandas as pd\n",
    "\n",
    "\n",
    "def outbreak(plot_type, r, month, countries, social_distancing):\n",
    "    months = [\"January\", \"February\", \"March\", \"April\", \"May\"]\n",
    "    m = months.index(month)\n",
    "    start_day = 30 * m\n",
    "    final_day = 30 * (m + 1)\n",
    "    x = np.arange(start_day, final_day + 1)\n",
    "    pop_count = {\"USA\": 350, \"Canada\": 40, \"Mexico\": 300, \"UK\": 120}\n",
    "    if social_distancing:\n",
    "        r = sqrt(r)\n",
    "    df = pd.DataFrame({\"day\": x})\n",
    "    for country in countries:\n",
    "        df[country] = x ** (r) * (pop_count[country] + 1)\n",
    "\n",
    "    if plot_type == \"Matplotlib\":\n",
    "        fig = plt.figure()\n",
    "        plt.plot(df[\"day\"], df[countries].to_numpy())\n",
    "        plt.title(\"Outbreak in \" + month)\n",
    "        plt.ylabel(\"Cases\")\n",
    "        plt.xlabel(\"Days since Day 0\")\n",
    "        plt.legend(countries)\n",
    "        return fig\n",
    "    elif plot_type == \"Plotly\":\n",
    "        fig = px.line(df, x=\"day\", y=countries)\n",
    "        fig.update_layout(\n",
    "            title=\"Outbreak in \" + month,\n",
    "            xaxis_title=\"Cases\",\n",
    "            yaxis_title=\"Days Since Day 0\",\n",
    "        )\n",
    "        return fig\n",
    "    elif plot_type == \"Altair\":\n",
    "        df = df.melt(id_vars=\"day\").rename(columns={\"variable\": \"country\"})\n",
    "        fig = altair.Chart(df).mark_line().encode(x=\"day\", y='value', color='country')\n",
    "        return fig\n",
    "    else:\n",
    "        raise ValueError(\"A plot type must be selected\")\n",
    "\n",
    "\n",
    "inputs = [\n",
    "    gr.Dropdown([\"Matplotlib\", \"Plotly\", \"Altair\"], label=\"Plot Type\"),\n",
    "    gr.Slider(1, 4, 3.2, label=\"R\"),\n",
    "    gr.Dropdown([\"January\", \"February\", \"March\", \"April\", \"May\"], label=\"Month\"),\n",
    "    gr.CheckboxGroup(\n",
    "        [\"USA\", \"Canada\", \"Mexico\", \"UK\"], label=\"Countries\", value=[\"USA\", \"Canada\"]\n",
    "    ),\n",
    "    gr.Checkbox(label=\"Social Distancing?\"),\n",
    "]\n",
    "outputs = gr.Plot()\n",
    "\n",
    "demo = gr.Interface(\n",
    "    fn=outbreak,\n",
    "    inputs=inputs,\n",
    "    outputs=outputs,\n",
    "    examples=[\n",
    "        [\"Matplotlib\", 2, \"March\", [\"Mexico\", \"UK\"], True],\n",
    "        [\"Altair\", 2, \"March\", [\"Mexico\", \"Canada\"], True],\n",
    "        [\"Plotly\", 3.6, \"February\", [\"Canada\", \"Mexico\", \"UK\"], False],\n",
    "    ],\n",
    "    cache_examples=True,\n",
    ")\n",
    "\n",
    "if __name__ == \"__main__\":\n",
    "    demo.launch()"
   ]
  },
  {
   "cell_type": "code",
   "execution_count": null,
   "id": "8b19e244",
   "metadata": {},
   "outputs": [],
   "source": [
    "gr.D"
   ]
  }
 ],
 "metadata": {
  "kernelspec": {
   "display_name": "Python 3 (ipykernel)",
   "language": "python",
   "name": "python3"
  },
  "language_info": {
   "codemirror_mode": {
    "name": "ipython",
    "version": 3
   },
   "file_extension": ".py",
   "mimetype": "text/x-python",
   "name": "python",
   "nbconvert_exporter": "python",
   "pygments_lexer": "ipython3",
   "version": "3.9.15"
  }
 },
 "nbformat": 4,
 "nbformat_minor": 5
}
