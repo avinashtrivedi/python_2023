{
 "cells": [
  {
   "cell_type": "markdown",
   "id": "dc514d9f",
   "metadata": {},
   "source": [
    "# Question: todo"
   ]
  },
  {
   "cell_type": "code",
   "execution_count": 59,
   "id": "ab3b4ec0",
   "metadata": {},
   "outputs": [],
   "source": [
    "#Q1\n",
    "\n",
    "# stopwords = [a, an, the, and, it, for, or, but, in, my, your, our, and their]\n",
    "#  \n",
    "\n",
    "s= '''If your titles don't make sense when you take out those articles or prepositions, then it's best to leave them be. After all, you want your audience to actually click and read your content. If the most prominent parts — including the title — don't make sense, the website could come off as unprofessional or even spammy.\n",
    "\n",
    "It usually makes the most sense to leave stop words in titles and headings, as these are wayfinding elements for users navigating your content. Just keep in mind that the optimal character count for titles is 50-60 characters, as search engines cut off longer titles, which could omit important information for the visitor. If you have lengthy stop words in your title, consider rewriting them to balance brevity and clarity.'''\n",
    "\n",
    "\n",
    "# remove stopwords from this sentence"
   ]
  },
  {
   "cell_type": "code",
   "execution_count": null,
   "id": "2cb2756f",
   "metadata": {},
   "outputs": [],
   "source": [
    "\n",
    "#Q2\n",
    "# ABBAABCCABABABABCABAC\n",
    "\n",
    "#replace ABC with *\n",
    "#replace C of ABC with D"
   ]
  },
  {
   "cell_type": "code",
   "execution_count": null,
   "id": "1553ccfc",
   "metadata": {},
   "outputs": [],
   "source": [
    "# Q3\n",
    "# remove all non alphabet character from below string and return updated string\n",
    "\n",
    "# http://localhost:8888/notebooks/OneDrive%20-%20NITT/CODE/Python%20Scripts/Code_2023/Natalia/logic_session.ipynb"
   ]
  },
  {
   "cell_type": "code",
   "execution_count": 61,
   "id": "11140ab3",
   "metadata": {},
   "outputs": [],
   "source": [
    "#Q4\n",
    "a = [1,1,1,2,2,3,3,4,4]\n",
    "b = [4,4,5,3,2,1,1]\n",
    "c = [1,1,2,5,5,4]\n",
    "# find common duplicate element"
   ]
  },
  {
   "cell_type": "code",
   "execution_count": 60,
   "id": "e0dc82ba",
   "metadata": {},
   "outputs": [
    {
     "data": {
      "text/plain": [
       "\"If your titles don't make sense when you take out those articles or prepositions, then it's best to leave them be. After all, you want your audience to actually click and read your content. If the most prominent parts — including the title — don't make sense, the website could come off as unprofessional or even spammy.\\n\\nIt usually makes the most sense to leave stop words in titles and headings, as these are wayfinding elements for users navigating your content. Just keep in mind that the optimal character count for titles is 50-60 characters, as search engines cut off longer titles, which could omit important information for the visitor. If you have lengthy stop words in your title, consider rewriting them to balance brevity and clarity.\""
      ]
     },
     "execution_count": 60,
     "metadata": {},
     "output_type": "execute_result"
    }
   ],
   "source": [
    "s"
   ]
  },
  {
   "cell_type": "code",
   "execution_count": 64,
   "id": "dc502a21",
   "metadata": {},
   "outputs": [],
   "source": [
    "#Q5\n",
    "# Use same previous S, and split the paragraph into small sentence each of 50 character long\n",
    "# also ignore any partial word if selected as part of sentence\n",
    "# split in 50 and 70 characters of sentence alternatively"
   ]
  },
  {
   "cell_type": "code",
   "execution_count": 65,
   "id": "3b54f216",
   "metadata": {},
   "outputs": [
    {
     "data": {
      "text/plain": [
       "NoneType"
      ]
     },
     "execution_count": 65,
     "metadata": {},
     "output_type": "execute_result"
    }
   ],
   "source": [
    "type(None)"
   ]
  },
  {
   "cell_type": "code",
   "execution_count": null,
   "id": "9002ea2a",
   "metadata": {},
   "outputs": [],
   "source": []
  }
 ],
 "metadata": {
  "kernelspec": {
   "display_name": "Python 3 (ipykernel)",
   "language": "python",
   "name": "python3"
  },
  "language_info": {
   "codemirror_mode": {
    "name": "ipython",
    "version": 3
   },
   "file_extension": ".py",
   "mimetype": "text/x-python",
   "name": "python",
   "nbconvert_exporter": "python",
   "pygments_lexer": "ipython3",
   "version": "3.9.15"
  }
 },
 "nbformat": 4,
 "nbformat_minor": 5
}
