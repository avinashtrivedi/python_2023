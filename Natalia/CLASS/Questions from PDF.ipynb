{
 "cells": [
  {
   "cell_type": "markdown",
   "id": "a222103d",
   "metadata": {
    "toc": true
   },
   "source": [
    "<h1>Table of Contents<span class=\"tocSkip\"></span></h1>\n",
    "<div class=\"toc\"><ul class=\"toc-item\"><li><span><a href=\"#Question-1,\" data-toc-modified-id=\"Question-1,-1\">Question 1,</a></span></li><li><span><a href=\"#Question-2,\" data-toc-modified-id=\"Question-2,-2\">Question 2,</a></span></li></ul></div>"
   ]
  },
  {
   "cell_type": "markdown",
   "id": "5cda4283",
   "metadata": {},
   "source": [
    "## Question 1,"
   ]
  },
  {
   "cell_type": "markdown",
   "id": "ae338849",
   "metadata": {},
   "source": [
    "Q1) Write a function collect_words which will accept a single argument collection. collection\n",
    "will be of type str, int, float, list, or tuple. The function should return a list of all of the strings\n",
    "contained within the collection. This means that: If collection is an int or float, an empty list\n",
    "should be returned. If collection is a string, a list with a single element should be returned. If\n",
    "collection is a tuple or a list, a list should be returned with all of the strings contained within\n",
    "any level of collection regardless of nesting depth.\n",
    "Constraints: You must use recursion in collect_words You may not use a loop of any kind to\n",
    "solve this problem\n",
    ">>> collect_words(5) #[]\n",
    ">>> collect_words(5.5) #[]\n",
    ">>> collect_words(\"Hello\") #['Hello']\n",
    ">>> collect_words([\"Hello\", \"Zoe\", \"how\", \"are\", \"you\"]) # ['Hello', 'Zoe', 'how', 'are', 'you']\n",
    ">>> collect_words([\"Hello\", (\"Alice\", [\"how\"]), [([\"are\"])], \"you\"]) #['Hello', 'Alice', 'how', 'are',\n",
    "'you']"
   ]
  },
  {
   "cell_type": "code",
   "execution_count": 1,
   "id": "e234260b",
   "metadata": {},
   "outputs": [],
   "source": [
    "def collect_words(item):\n",
    "    if isinstance(item, (int, float)):\n",
    "        return []\n",
    "    elif isinstance(item, str):\n",
    "        return [item]\n",
    "    elif isinstance(item, (tuple, list)):\n",
    "        words = []\n",
    "        if item:# why this doesnt work with 0:?\n",
    "            words.extend(collect_words(item[0]))\n",
    "            words.extend(collect_words(item[1:]))\n",
    "        return words\n",
    "    else:\n",
    "        return []"
   ]
  },
  {
   "cell_type": "code",
   "execution_count": 2,
   "id": "e2e89742",
   "metadata": {},
   "outputs": [
    {
     "data": {
      "text/plain": [
       "[]"
      ]
     },
     "execution_count": 2,
     "metadata": {},
     "output_type": "execute_result"
    }
   ],
   "source": [
    "collect_words(3)"
   ]
  },
  {
   "cell_type": "code",
   "execution_count": 3,
   "id": "9f5fc041",
   "metadata": {},
   "outputs": [
    {
     "data": {
      "text/plain": [
       "['hello']"
      ]
     },
     "execution_count": 3,
     "metadata": {},
     "output_type": "execute_result"
    }
   ],
   "source": [
    "collect_words(\"hello\")"
   ]
  },
  {
   "cell_type": "code",
   "execution_count": 4,
   "id": "4207b86f",
   "metadata": {},
   "outputs": [
    {
     "data": {
      "text/plain": [
       "['Hello', 'Zoe', 'how', 'are', 'you']"
      ]
     },
     "execution_count": 4,
     "metadata": {},
     "output_type": "execute_result"
    }
   ],
   "source": [
    "collect_words([\"Hello\", \"Zoe\", \"how\", \"are\", \"you\"]) "
   ]
  },
  {
   "cell_type": "code",
   "execution_count": null,
   "id": "37134eb3",
   "metadata": {},
   "outputs": [],
   "source": []
  },
  {
   "cell_type": "markdown",
   "id": "445409fe",
   "metadata": {},
   "source": [
    "## Question 2,"
   ]
  },
  {
   "cell_type": "markdown",
   "id": "56e40ff6",
   "metadata": {},
   "source": [
    "Q2) Take any positive integer n. If n is even, divide it by 2 to get n / 2 (use integer division so\n",
    "that you don’t end up with floating point numbers). If n is odd, multiply it by 3 and add 1 to\n",
    "obtain 3n + 1. Repeat the process indefinitely, and eventually you will reach 1. Write a\n",
    "recursive function called collatz that takes in a single positive integer argument n and returns\n",
    "the list of numbers in the collatz sequence from n to 1, inclusive. For example, suppose your\n",
    "initial number was 5. Then the collatz sequence would be the following:\n",
    "The initial number is 5.\n",
    "5 is odd, so the next number is 5*3 + 1 = 16 ,16 is even, so the next number is 16//2 = 8\n",
    "8 is even, so the next number is 8//2 = 4 , 4 is even, so the next number is 4//2 = 2\n",
    "2 is even, so the next number is 2//2 = 1 We have reached 1, so the sequence is complete,\n",
    "and the function would return the list [5,16,8,4,2,1]\n",
    ">>> collatz(5) [5, 16, 8, 4, 2, 1]\n",
    ">>> collatz(1) [1]\n",
    ">>> collatz(123) [123, 370, 185, 556, 278, 139, 418, 209, 628, 314, 157, 472, 236, 118, 59, 178,\n",
    "89, 268, 134, 67, 202, 101, 304, 152, 76, 38, 19, 58, 29, 88, 44, 22, 11, 34, 17, 52, 26, 13, 40, 20,\n",
    "10, 5, 16, 8, 4, 2, 1]"
   ]
  }
 ],
 "metadata": {
  "kernelspec": {
   "display_name": "Python 3 (ipykernel)",
   "language": "python",
   "name": "python3"
  },
  "language_info": {
   "codemirror_mode": {
    "name": "ipython",
    "version": 3
   },
   "file_extension": ".py",
   "mimetype": "text/x-python",
   "name": "python",
   "nbconvert_exporter": "python",
   "pygments_lexer": "ipython3",
   "version": "3.9.15"
  },
  "toc": {
   "base_numbering": 1,
   "nav_menu": {},
   "number_sections": false,
   "sideBar": true,
   "skip_h1_title": true,
   "title_cell": "Table of Contents",
   "title_sidebar": "Contents",
   "toc_cell": true,
   "toc_position": {},
   "toc_section_display": true,
   "toc_window_display": false
  }
 },
 "nbformat": 4,
 "nbformat_minor": 5
}
