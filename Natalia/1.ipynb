{
 "cells": [
  {
   "cell_type": "code",
   "execution_count": null,
   "id": "b2bc67bc",
   "metadata": {},
   "outputs": [],
   "source": [
    "# list , string slicing\n",
    "# for\n",
    "# list comprehension\n",
    "# function\n",
    "# dictionary, tuple\n",
    "\n",
    "# pandas\n",
    "# numpy"
   ]
  },
  {
   "cell_type": "markdown",
   "id": "5743ed5a",
   "metadata": {},
   "source": [
    "# 1"
   ]
  },
  {
   "cell_type": "code",
   "execution_count": 2,
   "id": "a4e7a6b6",
   "metadata": {},
   "outputs": [],
   "source": [
    "x = [1,1,2,3,34,4,4,6,5,4,5]"
   ]
  },
  {
   "cell_type": "code",
   "execution_count": 14,
   "id": "a52d213e",
   "metadata": {},
   "outputs": [
    {
     "name": "stdout",
     "output_type": "stream",
     "text": [
      "{1, 4, 5}\n"
     ]
    }
   ],
   "source": [
    "a = []\n",
    "b = []\n",
    "for num in x:\n",
    "    if num not in a:\n",
    "        a.append(num)\n",
    "    else:\n",
    "        b.append(num)\n",
    "c=set(b)\n",
    "print(c)"
   ]
  },
  {
   "cell_type": "code",
   "execution_count": 15,
   "id": "5294889a",
   "metadata": {},
   "outputs": [
    {
     "data": {
      "text/plain": [
       "{1, 4, 5}"
      ]
     },
     "execution_count": 15,
     "metadata": {},
     "output_type": "execute_result"
    }
   ],
   "source": [
    "c"
   ]
  },
  {
   "cell_type": "code",
   "execution_count": 16,
   "id": "30b1f585",
   "metadata": {},
   "outputs": [
    {
     "name": "stdout",
     "output_type": "stream",
     "text": [
      "1 4 5\n"
     ]
    }
   ],
   "source": [
    "print(*c)"
   ]
  },
  {
   "cell_type": "code",
   "execution_count": 17,
   "id": "b5b9475a",
   "metadata": {},
   "outputs": [
    {
     "data": {
      "text/plain": [
       "{1, 4, 5}"
      ]
     },
     "execution_count": 17,
     "metadata": {},
     "output_type": "execute_result"
    }
   ],
   "source": [
    "c"
   ]
  },
  {
   "cell_type": "code",
   "execution_count": 18,
   "id": "9288b759",
   "metadata": {},
   "outputs": [
    {
     "data": {
      "text/plain": [
       "[1, 1, 2, 3, 34, 4, 4, 6, 5, 4, 5]"
      ]
     },
     "execution_count": 18,
     "metadata": {},
     "output_type": "execute_result"
    }
   ],
   "source": [
    "x"
   ]
  },
  {
   "cell_type": "code",
   "execution_count": 19,
   "id": "ea4ce944",
   "metadata": {},
   "outputs": [],
   "source": [
    "# 1,1,2,3,..."
   ]
  },
  {
   "cell_type": "code",
   "execution_count": 23,
   "id": "3784dfac",
   "metadata": {},
   "outputs": [
    {
     "name": "stdout",
     "output_type": "stream",
     "text": [
      "1 1 2 3 34 4 4 6 5 4 5 "
     ]
    }
   ],
   "source": [
    "for i in x:\n",
    "    print(i,end=' ')"
   ]
  },
  {
   "cell_type": "code",
   "execution_count": 29,
   "id": "973ef354",
   "metadata": {},
   "outputs": [
    {
     "name": "stdout",
     "output_type": "stream",
     "text": [
      "1,1,2,3,34,4,4,6,5,4,5\n"
     ]
    }
   ],
   "source": [
    "print(*x,sep=',')"
   ]
  },
  {
   "cell_type": "code",
   "execution_count": 30,
   "id": "fc74b11b",
   "metadata": {},
   "outputs": [
    {
     "data": {
      "text/plain": [
       "{1, 4, 5}"
      ]
     },
     "execution_count": 30,
     "metadata": {},
     "output_type": "execute_result"
    }
   ],
   "source": [
    "c"
   ]
  },
  {
   "cell_type": "code",
   "execution_count": null,
   "id": "b3e1100c",
   "metadata": {},
   "outputs": [],
   "source": [
    "# [1,4,5]"
   ]
  },
  {
   "cell_type": "code",
   "execution_count": 31,
   "id": "a4c0b5cb",
   "metadata": {},
   "outputs": [
    {
     "data": {
      "text/plain": [
       "[1, 4, 5]"
      ]
     },
     "execution_count": 31,
     "metadata": {},
     "output_type": "execute_result"
    }
   ],
   "source": [
    "list(c)"
   ]
  },
  {
   "cell_type": "code",
   "execution_count": 33,
   "id": "43c84421",
   "metadata": {},
   "outputs": [],
   "source": [
    "stopwords = [\"a, an, the, and, it, for, or, but, in, my, your, our, and their\"]\n",
    "  \n",
    "\n",
    "s= '''If your a titles don't make sense when an you take out those articles or prepositions, then it's best to leave them be. After all, you want your audience to actually click and read your content. If the most prominent parts — including the title — don't make sense, the website could come off as unprofessional or even spammy.\n",
    "\n",
    "It usually makes the most sense to leave in but stop the words in titles and headings, as these are wayfinding elements for users navigating your content. Just keep in mind that the optimal character count for titles is 50-60 characters, as search engines cut off longer titles, which could omit important information for the visitor. If you have lengthy stop words in your title, consider rewriting them to balance brevity and clarity.'''\n",
    "\n"
   ]
  },
  {
   "cell_type": "code",
   "execution_count": 34,
   "id": "e046595c",
   "metadata": {},
   "outputs": [
    {
     "data": {
      "text/plain": [
       "\"If your a titles don't make sense when an you take out those articles or prepositions, then it's best to leave them be. After all, you want your audience to actually click and read your content. If the most prominent parts — including the title — don't make sense, the website could come off as unprofessional or even spammy.\\n\\nIt usually makes the most sense to leave in but stop the words in titles and headings, as these are wayfinding elements for users navigating your content. Just keep in mind that the optimal character count for titles is 50-60 characters, as search engines cut off longer titles, which could omit important information for the visitor. If you have lengthy stop words in your title, consider rewriting them to balance brevity and clarity.\""
      ]
     },
     "execution_count": 34,
     "metadata": {},
     "output_type": "execute_result"
    }
   ],
   "source": [
    "s"
   ]
  },
  {
   "cell_type": "code",
   "execution_count": 110,
   "id": "5d0aa89a",
   "metadata": {},
   "outputs": [],
   "source": [
    "t = []\n",
    "words = s.split()\n",
    "for i in words:\n",
    "    if i not in a1:\n",
    "        t.append(i)"
   ]
  },
  {
   "cell_type": "code",
   "execution_count": 113,
   "id": "5363e075",
   "metadata": {},
   "outputs": [
    {
     "name": "stdout",
     "output_type": "stream",
     "text": [
      " If titles don't make sense when you take out those articles prepositions, then it's best to leave them be. After all, you want audience to actually click read content. If most prominent parts — including title — don't make sense, website could come off as unprofessional even spammy. It usually makes most sense to leave stop words titles headings, as these are wayfinding elements users navigating content. Just keep mind that optimal character count titles is 50-60 characters, as search engines cut off longer titles, which could omit important information visitor. If you have lengthy stop words title, consider rewriting them to balance brevity clarity.\n"
     ]
    }
   ],
   "source": [
    "s = ''\n",
    "for i in t:\n",
    "    s= s+ ' ' + i\n",
    "print(s)\n",
    "        "
   ]
  },
  {
   "cell_type": "code",
   "execution_count": 117,
   "id": "d935c7d7",
   "metadata": {},
   "outputs": [
    {
     "data": {
      "text/plain": [
       "\"If titles don't make sense when you take out those articles prepositions, then it's best to leave them be. After all, you want audience to actually click read content. If most prominent parts — including title — don't make sense, website could come off as unprofessional even spammy. It usually makes most sense to leave stop words titles headings, as these are wayfinding elements users navigating content. Just keep mind that optimal character count titles is 50-60 characters, as search engines cut off longer titles, which could omit important information visitor. If you have lengthy stop words title, consider rewriting them to balance brevity clarity.\""
      ]
     },
     "execution_count": 117,
     "metadata": {},
     "output_type": "execute_result"
    }
   ],
   "source": [
    "' '.join(t)"
   ]
  },
  {
   "cell_type": "code",
   "execution_count": 114,
   "id": "33033f28",
   "metadata": {},
   "outputs": [
    {
     "data": {
      "text/plain": [
       "['If',\n",
       " 'titles',\n",
       " \"don't\",\n",
       " 'make',\n",
       " 'sense',\n",
       " 'when',\n",
       " 'you',\n",
       " 'take',\n",
       " 'out',\n",
       " 'those',\n",
       " 'articles',\n",
       " 'prepositions,',\n",
       " 'then',\n",
       " \"it's\",\n",
       " 'best',\n",
       " 'to',\n",
       " 'leave',\n",
       " 'them',\n",
       " 'be.',\n",
       " 'After',\n",
       " 'all,',\n",
       " 'you',\n",
       " 'want',\n",
       " 'audience',\n",
       " 'to',\n",
       " 'actually',\n",
       " 'click',\n",
       " 'read',\n",
       " 'content.',\n",
       " 'If',\n",
       " 'most',\n",
       " 'prominent',\n",
       " 'parts',\n",
       " '—',\n",
       " 'including',\n",
       " 'title',\n",
       " '—',\n",
       " \"don't\",\n",
       " 'make',\n",
       " 'sense,',\n",
       " 'website',\n",
       " 'could',\n",
       " 'come',\n",
       " 'off',\n",
       " 'as',\n",
       " 'unprofessional',\n",
       " 'even',\n",
       " 'spammy.',\n",
       " 'It',\n",
       " 'usually',\n",
       " 'makes',\n",
       " 'most',\n",
       " 'sense',\n",
       " 'to',\n",
       " 'leave',\n",
       " 'stop',\n",
       " 'words',\n",
       " 'titles',\n",
       " 'headings,',\n",
       " 'as',\n",
       " 'these',\n",
       " 'are',\n",
       " 'wayfinding',\n",
       " 'elements',\n",
       " 'users',\n",
       " 'navigating',\n",
       " 'content.',\n",
       " 'Just',\n",
       " 'keep',\n",
       " 'mind',\n",
       " 'that',\n",
       " 'optimal',\n",
       " 'character',\n",
       " 'count',\n",
       " 'titles',\n",
       " 'is',\n",
       " '50-60',\n",
       " 'characters,',\n",
       " 'as',\n",
       " 'search',\n",
       " 'engines',\n",
       " 'cut',\n",
       " 'off',\n",
       " 'longer',\n",
       " 'titles,',\n",
       " 'which',\n",
       " 'could',\n",
       " 'omit',\n",
       " 'important',\n",
       " 'information',\n",
       " 'visitor.',\n",
       " 'If',\n",
       " 'you',\n",
       " 'have',\n",
       " 'lengthy',\n",
       " 'stop',\n",
       " 'words',\n",
       " 'title,',\n",
       " 'consider',\n",
       " 'rewriting',\n",
       " 'them',\n",
       " 'to',\n",
       " 'balance',\n",
       " 'brevity',\n",
       " 'clarity.']"
      ]
     },
     "execution_count": 114,
     "metadata": {},
     "output_type": "execute_result"
    }
   ],
   "source": [
    "t"
   ]
  },
  {
   "cell_type": "code",
   "execution_count": 96,
   "id": "4cce8d13",
   "metadata": {},
   "outputs": [],
   "source": [
    "p.append(11)"
   ]
  },
  {
   "cell_type": "code",
   "execution_count": 92,
   "id": "dbc29c22",
   "metadata": {},
   "outputs": [],
   "source": [
    "p"
   ]
  },
  {
   "cell_type": "code",
   "execution_count": 94,
   "id": "b2a5fbf1",
   "metadata": {},
   "outputs": [
    {
     "data": {
      "text/plain": [
       "NoneType"
      ]
     },
     "execution_count": 94,
     "metadata": {},
     "output_type": "execute_result"
    }
   ],
   "source": [
    "type(p)"
   ]
  },
  {
   "cell_type": "code",
   "execution_count": 99,
   "id": "a1a29eaa",
   "metadata": {},
   "outputs": [],
   "source": [
    "s1 = [3,1,2,6,8,934,56]\n",
    "s2 = [3,1,2,6,8,934,56]"
   ]
  },
  {
   "cell_type": "code",
   "execution_count": 100,
   "id": "173c0ef2",
   "metadata": {},
   "outputs": [],
   "source": [
    "b1 = sorted(s1)\n",
    "b2 = s2.sort()"
   ]
  },
  {
   "cell_type": "code",
   "execution_count": 102,
   "id": "9849e334",
   "metadata": {},
   "outputs": [
    {
     "data": {
      "text/plain": [
       "[1, 2, 3, 6, 8, 56, 934]"
      ]
     },
     "execution_count": 102,
     "metadata": {},
     "output_type": "execute_result"
    }
   ],
   "source": [
    "b1"
   ]
  },
  {
   "cell_type": "code",
   "execution_count": 103,
   "id": "0bc16703",
   "metadata": {},
   "outputs": [
    {
     "data": {
      "text/plain": [
       "[3, 1, 2, 6, 8, 934, 56]"
      ]
     },
     "execution_count": 103,
     "metadata": {},
     "output_type": "execute_result"
    }
   ],
   "source": [
    "s1"
   ]
  },
  {
   "cell_type": "code",
   "execution_count": 104,
   "id": "bc4ac7e2",
   "metadata": {},
   "outputs": [
    {
     "data": {
      "text/plain": [
       "[1, 2, 3, 6, 8, 56, 934]"
      ]
     },
     "execution_count": 104,
     "metadata": {},
     "output_type": "execute_result"
    }
   ],
   "source": [
    "s2"
   ]
  },
  {
   "cell_type": "code",
   "execution_count": 105,
   "id": "7527e83b",
   "metadata": {},
   "outputs": [
    {
     "data": {
      "text/plain": [
       "[1, 2, 3, 6, 8, 56, 934]"
      ]
     },
     "execution_count": 105,
     "metadata": {},
     "output_type": "execute_result"
    }
   ],
   "source": [
    "b1"
   ]
  },
  {
   "cell_type": "code",
   "execution_count": 107,
   "id": "a9f2fae9",
   "metadata": {},
   "outputs": [
    {
     "data": {
      "text/plain": [
       "NoneType"
      ]
     },
     "execution_count": 107,
     "metadata": {},
     "output_type": "execute_result"
    }
   ],
   "source": [
    "type(b2)"
   ]
  },
  {
   "cell_type": "code",
   "execution_count": null,
   "id": "e8b8fc0a",
   "metadata": {},
   "outputs": [],
   "source": []
  },
  {
   "cell_type": "code",
   "execution_count": 52,
   "id": "bdeb5daf",
   "metadata": {},
   "outputs": [],
   "source": [
    "a2 = []\n",
    "for stw in a1:\n",
    "    a2.append(stw.strip())"
   ]
  },
  {
   "cell_type": "code",
   "execution_count": 56,
   "id": "0d0849a2",
   "metadata": {},
   "outputs": [],
   "source": [
    "a1 = [stw.strip() for stw in a1]"
   ]
  },
  {
   "cell_type": "code",
   "execution_count": null,
   "id": "9c38f81b",
   "metadata": {},
   "outputs": [],
   "source": []
  },
  {
   "cell_type": "code",
   "execution_count": null,
   "id": "f8e17693",
   "metadata": {},
   "outputs": [],
   "source": []
  },
  {
   "cell_type": "code",
   "execution_count": null,
   "id": "db41dc54",
   "metadata": {},
   "outputs": [],
   "source": []
  },
  {
   "cell_type": "code",
   "execution_count": null,
   "id": "25420a53",
   "metadata": {},
   "outputs": [],
   "source": []
  },
  {
   "cell_type": "code",
   "execution_count": 50,
   "id": "749ea9c1",
   "metadata": {},
   "outputs": [],
   "source": [
    "a1 = [stw.strip() for stw in a1]"
   ]
  },
  {
   "cell_type": "code",
   "execution_count": 51,
   "id": "6aec26f5",
   "metadata": {},
   "outputs": [
    {
     "data": {
      "text/plain": [
       "['a',\n",
       " 'an',\n",
       " 'the',\n",
       " 'and',\n",
       " 'it',\n",
       " 'for',\n",
       " 'or',\n",
       " 'but',\n",
       " 'in',\n",
       " 'my',\n",
       " 'your',\n",
       " 'our',\n",
       " 'and their']"
      ]
     },
     "execution_count": 51,
     "metadata": {},
     "output_type": "execute_result"
    }
   ],
   "source": [
    "a1"
   ]
  },
  {
   "cell_type": "code",
   "execution_count": null,
   "id": "6d49d885",
   "metadata": {},
   "outputs": [],
   "source": []
  },
  {
   "cell_type": "code",
   "execution_count": 37,
   "id": "f44d29e0",
   "metadata": {},
   "outputs": [
    {
     "ename": "AttributeError",
     "evalue": "'list' object has no attribute 'split'",
     "output_type": "error",
     "traceback": [
      "\u001b[1;31m---------------------------------------------------------------------------\u001b[0m",
      "\u001b[1;31mAttributeError\u001b[0m                            Traceback (most recent call last)",
      "Cell \u001b[1;32mIn[37], line 1\u001b[0m\n\u001b[1;32m----> 1\u001b[0m \u001b[43mstopwords\u001b[49m\u001b[38;5;241;43m.\u001b[39;49m\u001b[43msplit\u001b[49m(\u001b[38;5;124m\"\u001b[39m\u001b[38;5;124m,\u001b[39m\u001b[38;5;124m\"\u001b[39m)\n",
      "\u001b[1;31mAttributeError\u001b[0m: 'list' object has no attribute 'split'"
     ]
    }
   ],
   "source": [
    "stopwords.split(\",\")"
   ]
  },
  {
   "cell_type": "code",
   "execution_count": 40,
   "id": "88eff916",
   "metadata": {},
   "outputs": [
    {
     "data": {
      "text/plain": [
       "['a, an, the, and, it, for, or, but, in, my, your, our, and their']"
      ]
     },
     "execution_count": 40,
     "metadata": {},
     "output_type": "execute_result"
    }
   ],
   "source": [
    "stopwords"
   ]
  },
  {
   "cell_type": "code",
   "execution_count": 41,
   "id": "41a94ae8",
   "metadata": {},
   "outputs": [
    {
     "data": {
      "text/plain": [
       "['a',\n",
       " ' an',\n",
       " ' the',\n",
       " ' and',\n",
       " ' it',\n",
       " ' for',\n",
       " ' or',\n",
       " ' but',\n",
       " ' in',\n",
       " ' my',\n",
       " ' your',\n",
       " ' our',\n",
       " ' and their']"
      ]
     },
     "execution_count": 41,
     "metadata": {},
     "output_type": "execute_result"
    }
   ],
   "source": [
    "stopwords[0].split(',')"
   ]
  },
  {
   "cell_type": "code",
   "execution_count": 46,
   "id": "475ac7e5",
   "metadata": {},
   "outputs": [],
   "source": [
    "t = 'hello'"
   ]
  },
  {
   "cell_type": "code",
   "execution_count": null,
   "id": "077feda9",
   "metadata": {},
   "outputs": [],
   "source": [
    "t.strip"
   ]
  },
  {
   "cell_type": "code",
   "execution_count": null,
   "id": "dd6c1944",
   "metadata": {},
   "outputs": [],
   "source": []
  },
  {
   "cell_type": "code",
   "execution_count": 42,
   "id": "a666f317",
   "metadata": {},
   "outputs": [],
   "source": [
    "a1 = stopwords[0].split(',')"
   ]
  },
  {
   "cell_type": "code",
   "execution_count": 45,
   "id": "2a57fea5",
   "metadata": {},
   "outputs": [
    {
     "data": {
      "text/plain": [
       "['If',\n",
       " 'your',\n",
       " 'titles',\n",
       " \"don't\",\n",
       " 'make',\n",
       " 'sense',\n",
       " 'when',\n",
       " 'an',\n",
       " 'you',\n",
       " 'take',\n",
       " 'out',\n",
       " 'those',\n",
       " 'articles',\n",
       " 'or',\n",
       " 'prepositions,',\n",
       " 'then',\n",
       " \"it's\",\n",
       " 'best',\n",
       " 'to',\n",
       " 'leave',\n",
       " 'them',\n",
       " 'be.',\n",
       " 'After',\n",
       " 'all,',\n",
       " 'you',\n",
       " 'want',\n",
       " 'your',\n",
       " 'audience',\n",
       " 'to',\n",
       " 'actually',\n",
       " 'click',\n",
       " 'and',\n",
       " 'read',\n",
       " 'your',\n",
       " 'content.',\n",
       " 'If',\n",
       " 'the',\n",
       " 'most',\n",
       " 'prominent',\n",
       " 'parts',\n",
       " '—',\n",
       " 'including',\n",
       " 'the',\n",
       " 'title',\n",
       " '—',\n",
       " \"don't\",\n",
       " 'make',\n",
       " 'sense,',\n",
       " 'the',\n",
       " 'website',\n",
       " 'could',\n",
       " 'come',\n",
       " 'off',\n",
       " 'as',\n",
       " 'unprofessional',\n",
       " 'or',\n",
       " 'even',\n",
       " 'spammy.',\n",
       " 'It',\n",
       " 'usually',\n",
       " 'makes',\n",
       " 'the',\n",
       " 'most',\n",
       " 'sense',\n",
       " 'to',\n",
       " 'leave',\n",
       " 'in',\n",
       " 'but',\n",
       " 'stop',\n",
       " 'the',\n",
       " 'words',\n",
       " 'in',\n",
       " 'titles',\n",
       " 'and',\n",
       " 'headings,',\n",
       " 'as',\n",
       " 'these',\n",
       " 'are',\n",
       " 'wayfinding',\n",
       " 'elements',\n",
       " 'for',\n",
       " 'users',\n",
       " 'navigating',\n",
       " 'your',\n",
       " 'content.',\n",
       " 'Just',\n",
       " 'keep',\n",
       " 'in',\n",
       " 'mind',\n",
       " 'that',\n",
       " 'the',\n",
       " 'optimal',\n",
       " 'character',\n",
       " 'count',\n",
       " 'for',\n",
       " 'titles',\n",
       " 'is',\n",
       " '50-60',\n",
       " 'characters,',\n",
       " 'as',\n",
       " 'search',\n",
       " 'engines',\n",
       " 'cut',\n",
       " 'off',\n",
       " 'longer',\n",
       " 'titles,',\n",
       " 'which',\n",
       " 'could',\n",
       " 'omit',\n",
       " 'important',\n",
       " 'information',\n",
       " 'for',\n",
       " 'the',\n",
       " 'visitor.',\n",
       " 'If',\n",
       " 'you',\n",
       " 'have',\n",
       " 'lengthy',\n",
       " 'stop',\n",
       " 'words',\n",
       " 'in',\n",
       " 'your',\n",
       " 'title,',\n",
       " 'consider',\n",
       " 'rewriting',\n",
       " 'them',\n",
       " 'to',\n",
       " 'balance',\n",
       " 'brevity',\n",
       " 'and',\n",
       " 'clarity.']"
      ]
     },
     "execution_count": 45,
     "metadata": {},
     "output_type": "execute_result"
    }
   ],
   "source": [
    "words"
   ]
  },
  {
   "cell_type": "code",
   "execution_count": 118,
   "id": "dea62bc0",
   "metadata": {},
   "outputs": [
    {
     "data": {
      "text/plain": [
       "\" If titles don't make sense when you take out those articles prepositions, then it's best to leave them be. After all, you want audience to actually click read content. If most prominent parts — including title — don't make sense, website could come off as unprofessional even spammy. It usually makes most sense to leave stop words titles headings, as these are wayfinding elements users navigating content. Just keep mind that optimal character count titles is 50-60 characters, as search engines cut off longer titles, which could omit important information visitor. If you have lengthy stop words title, consider rewriting them to balance brevity clarity.\""
      ]
     },
     "execution_count": 118,
     "metadata": {},
     "output_type": "execute_result"
    }
   ],
   "source": [
    "s"
   ]
  },
  {
   "cell_type": "code",
   "execution_count": null,
   "id": "d3a6f85d",
   "metadata": {},
   "outputs": [],
   "source": []
  },
  {
   "cell_type": "code",
   "execution_count": null,
   "id": "96d77128",
   "metadata": {},
   "outputs": [],
   "source": [
    "50 char\n",
    "70 char\n",
    "\n",
    "50\n",
    "70"
   ]
  },
  {
   "cell_type": "code",
   "execution_count": null,
   "id": "eebe3a0d",
   "metadata": {},
   "outputs": [],
   "source": []
  },
  {
   "cell_type": "code",
   "execution_count": 119,
   "id": "d0c49871",
   "metadata": {},
   "outputs": [],
   "source": [
    "s = 'hello world' # 3 4"
   ]
  },
  {
   "cell_type": "code",
   "execution_count": 145,
   "id": "47b12923",
   "metadata": {},
   "outputs": [
    {
     "name": "stdout",
     "output_type": "stream",
     "text": [
      "hel\n",
      "lo w\n",
      "orl\n"
     ]
    }
   ],
   "source": [
    "counter1 = 0\n",
    "counter2 = 0\n",
    "t1 = ''\n",
    "t2 = '' \n",
    "flag = True\n",
    "for c in s:\n",
    "    if flag:\n",
    "        t1 = t1 + c\n",
    "        counter1 = counter1 + 1\n",
    "        \n",
    "        if counter1==3:\n",
    "            flag=False\n",
    "            print(t1)\n",
    "            t1 = ''\n",
    "            counter1 = 0\n",
    "            continue\n",
    "        \n",
    "    if flag==False:\n",
    "        t2 = t2 + c\n",
    "        counter2 = counter2 + 1\n",
    "        if counter2==4:\n",
    "            flag=True\n",
    "            print(t2)\n",
    "            t2 = ''\n",
    "            counter2 = 0"
   ]
  },
  {
   "cell_type": "code",
   "execution_count": 136,
   "id": "6448b142",
   "metadata": {},
   "outputs": [
    {
     "name": "stdout",
     "output_type": "stream",
     "text": [
      "h\n",
      "e\n",
      "l\n",
      "l\n",
      "o\n",
      " \n",
      "w\n",
      "o\n",
      "r\n",
      "l\n",
      "d\n"
     ]
    }
   ],
   "source": [
    "for c in s:\n",
    "    print(c)"
   ]
  },
  {
   "cell_type": "code",
   "execution_count": 129,
   "id": "e74b8acb",
   "metadata": {},
   "outputs": [
    {
     "ename": "SyntaxError",
     "evalue": "invalid syntax (1277751513.py, line 1)",
     "output_type": "error",
     "traceback": [
      "\u001b[1;36m  Cell \u001b[1;32mIn[129], line 1\u001b[1;36m\u001b[0m\n\u001b[1;33m    a++\u001b[0m\n\u001b[1;37m       ^\u001b[0m\n\u001b[1;31mSyntaxError\u001b[0m\u001b[1;31m:\u001b[0m invalid syntax\n"
     ]
    }
   ],
   "source": [
    "a++"
   ]
  },
  {
   "cell_type": "code",
   "execution_count": 130,
   "id": "8e581d9d",
   "metadata": {},
   "outputs": [],
   "source": [
    "a+=1"
   ]
  },
  {
   "cell_type": "code",
   "execution_count": 131,
   "id": "f5f04393",
   "metadata": {},
   "outputs": [
    {
     "data": {
      "text/plain": [
       "2"
      ]
     },
     "execution_count": 131,
     "metadata": {},
     "output_type": "execute_result"
    }
   ],
   "source": [
    "a"
   ]
  },
  {
   "cell_type": "code",
   "execution_count": null,
   "id": "4932725f",
   "metadata": {},
   "outputs": [],
   "source": []
  }
 ],
 "metadata": {
  "kernelspec": {
   "display_name": "Python 3 (ipykernel)",
   "language": "python",
   "name": "python3"
  },
  "language_info": {
   "codemirror_mode": {
    "name": "ipython",
    "version": 3
   },
   "file_extension": ".py",
   "mimetype": "text/x-python",
   "name": "python",
   "nbconvert_exporter": "python",
   "pygments_lexer": "ipython3",
   "version": "3.9.15"
  }
 },
 "nbformat": 4,
 "nbformat_minor": 5
}
