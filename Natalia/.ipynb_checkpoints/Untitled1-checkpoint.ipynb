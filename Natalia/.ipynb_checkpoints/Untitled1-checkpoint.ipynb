{
 "cells": [
  {
   "cell_type": "code",
   "execution_count": 2,
   "id": "6deab275",
   "metadata": {},
   "outputs": [],
   "source": [
    "import pandas as pd"
   ]
  },
  {
   "cell_type": "code",
   "execution_count": 6,
   "id": "36a96837",
   "metadata": {},
   "outputs": [],
   "source": [
    "df = pd.read_csv(\"D:\\OneDrive - NITT\\Custom_Download\\output.txt\",sep='\\t',header=None)"
   ]
  },
  {
   "cell_type": "code",
   "execution_count": 11,
   "id": "fa2109ee",
   "metadata": {},
   "outputs": [],
   "source": [
    "df = df[[1,2]]"
   ]
  },
  {
   "cell_type": "code",
   "execution_count": 13,
   "id": "2ea4472f",
   "metadata": {},
   "outputs": [],
   "source": [
    "df.columns = ['label','text']"
   ]
  },
  {
   "cell_type": "code",
   "execution_count": 14,
   "id": "37d0b36a",
   "metadata": {},
   "outputs": [
    {
     "data": {
      "text/html": [
       "<div>\n",
       "<style scoped>\n",
       "    .dataframe tbody tr th:only-of-type {\n",
       "        vertical-align: middle;\n",
       "    }\n",
       "\n",
       "    .dataframe tbody tr th {\n",
       "        vertical-align: top;\n",
       "    }\n",
       "\n",
       "    .dataframe thead th {\n",
       "        text-align: right;\n",
       "    }\n",
       "</style>\n",
       "<table border=\"1\" class=\"dataframe\">\n",
       "  <thead>\n",
       "    <tr style=\"text-align: right;\">\n",
       "      <th></th>\n",
       "      <th>label</th>\n",
       "      <th>text</th>\n",
       "    </tr>\n",
       "  </thead>\n",
       "  <tbody>\n",
       "    <tr>\n",
       "      <th>0</th>\n",
       "      <td>0</td>\n",
       "      <td>Le infrastrutture come fattore di competitivit...</td>\n",
       "    </tr>\n",
       "    <tr>\n",
       "      <th>1</th>\n",
       "      <td>0</td>\n",
       "      <td>Negli ultimi anni la dinamica dei polo di attr...</td>\n",
       "    </tr>\n",
       "    <tr>\n",
       "      <th>2</th>\n",
       "      <td>0</td>\n",
       "      <td>Il raggiungimento e il mantenimento di posizio...</td>\n",
       "    </tr>\n",
       "    <tr>\n",
       "      <th>3</th>\n",
       "      <td>0</td>\n",
       "      <td>Quest'ultimo è funzione di variabili struttura...</td>\n",
       "    </tr>\n",
       "    <tr>\n",
       "      <th>4</th>\n",
       "      <td>1</td>\n",
       "      <td>Il contesto milanese, se da un lato è stato te...</td>\n",
       "    </tr>\n",
       "    <tr>\n",
       "      <th>...</th>\n",
       "      <td>...</td>\n",
       "      <td>...</td>\n",
       "    </tr>\n",
       "    <tr>\n",
       "      <th>9753</th>\n",
       "      <td>0</td>\n",
       "      <td>Scrooge era il suo unico esecutore testamentar...</td>\n",
       "    </tr>\n",
       "    <tr>\n",
       "      <th>9754</th>\n",
       "      <td>1</td>\n",
       "      <td>Anzi il nostro Scrooge, che per verità il tris...</td>\n",
       "    </tr>\n",
       "    <tr>\n",
       "      <th>9755</th>\n",
       "      <td>0</td>\n",
       "      <td>Il ricordo dei funerali mi fa tornare al punto...</td>\n",
       "    </tr>\n",
       "    <tr>\n",
       "      <th>9756</th>\n",
       "      <td>0</td>\n",
       "      <td>Non c'è dunque dubbio che Marley era morto.</td>\n",
       "    </tr>\n",
       "    <tr>\n",
       "      <th>9757</th>\n",
       "      <td>0</td>\n",
       "      <td>Questo mettiamolo bene in sodo, se no niente d...</td>\n",
       "    </tr>\n",
       "  </tbody>\n",
       "</table>\n",
       "<p>9758 rows × 2 columns</p>\n",
       "</div>"
      ],
      "text/plain": [
       "      label                                               text\n",
       "0         0  Le infrastrutture come fattore di competitivit...\n",
       "1         0  Negli ultimi anni la dinamica dei polo di attr...\n",
       "2         0  Il raggiungimento e il mantenimento di posizio...\n",
       "3         0  Quest'ultimo è funzione di variabili struttura...\n",
       "4         1  Il contesto milanese, se da un lato è stato te...\n",
       "...     ...                                                ...\n",
       "9753      0  Scrooge era il suo unico esecutore testamentar...\n",
       "9754      1  Anzi il nostro Scrooge, che per verità il tris...\n",
       "9755      0  Il ricordo dei funerali mi fa tornare al punto...\n",
       "9756      0        Non c'è dunque dubbio che Marley era morto.\n",
       "9757      0  Questo mettiamolo bene in sodo, se no niente d...\n",
       "\n",
       "[9758 rows x 2 columns]"
      ]
     },
     "execution_count": 14,
     "metadata": {},
     "output_type": "execute_result"
    }
   ],
   "source": [
    "df"
   ]
  },
  {
   "cell_type": "code",
   "execution_count": null,
   "id": "6e508b42",
   "metadata": {},
   "outputs": [],
   "source": []
  }
 ],
 "metadata": {
  "kernelspec": {
   "display_name": "Python 3 (ipykernel)",
   "language": "python",
   "name": "python3"
  },
  "language_info": {
   "codemirror_mode": {
    "name": "ipython",
    "version": 3
   },
   "file_extension": ".py",
   "mimetype": "text/x-python",
   "name": "python",
   "nbconvert_exporter": "python",
   "pygments_lexer": "ipython3",
   "version": "3.9.15"
  }
 },
 "nbformat": 4,
 "nbformat_minor": 5
}
