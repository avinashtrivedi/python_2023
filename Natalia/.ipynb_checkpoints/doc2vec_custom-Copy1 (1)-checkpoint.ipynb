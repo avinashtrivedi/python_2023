{
 "cells": [
  {
   "cell_type": "markdown",
   "metadata": {},
   "source": [
    "# Doc2vec"
   ]
  },
  {
   "cell_type": "code",
   "execution_count": 1,
   "metadata": {},
   "outputs": [],
   "source": [
    "# court judgement sentences.\n",
    "corpus = [\" and the rest of the estate then in dispute was given to B. The operative part of the award stated inter alia that B, first party, and M, the second party, were held entitled to speci- fied shares in the properties in dispute and each had become permanent owner (Malik Mustaqil) of his or her share\", \n",
    "        \"A division was effected and ever sinThe dispute was referred to arbitration and an award was delivered. Under it the suit properties were given to Mce the date of the award in 1884 each branch continued in possession of the proper- ties allotted to it and each had been dealing with them as absolute owner. The defendants claimed that the plaintiffs were bound by the award and were in any event estopped from challenging it\",\n",
    "        \"Held, that the award gave an absolute estate to M as the words 'Malik Mustaqil' were strong. clear and unambiguous and were not qualified by. other words and circumstances appearing in the same document in the present case.\"]\n"
   ]
  },
  {
   "cell_type": "code",
   "execution_count": 2,
   "metadata": {},
   "outputs": [],
   "source": [
    "# import the library\n",
    "import gensim\n",
    "\n",
    "# read the corpus and convert it to tagged document.\n",
    "def read_corpus():\n",
    "    i = 0\n",
    "    for doc_fname in corpus:\n",
    "        tokens = doc_fname.split()\n",
    "        yield gensim.models.doc2vec.TaggedDocument(tokens, [i])\n",
    "        i = i + 1"
   ]
  },
  {
   "cell_type": "code",
   "execution_count": 3,
   "metadata": {},
   "outputs": [],
   "source": [
    "# get the tagged corpus\n",
    "train_corpus = list(read_corpus())"
   ]
  },
  {
   "cell_type": "code",
   "execution_count": 4,
   "metadata": {},
   "outputs": [
    {
     "data": {
      "text/plain": [
       "TaggedDocument(words=['The', 'dispute', 'was', 'referred', 'to', 'arbitration', 'and', 'an', 'award', 'was', 'delivered.', 'Under', 'it', 'the', 'suit', 'properties', 'were', 'given', 'to', 'M', 'and', 'the', 'rest', 'of', 'the', 'estate', 'then', 'in', 'dispute', 'was', 'given', 'to', 'B.', 'The', 'operative', 'part', 'of', 'the', 'award', 'stated', 'inter', 'alia', 'that', 'B,', 'first', 'party,', 'and', 'M,', 'the', 'second', 'party,', 'were', 'held', 'entitled', 'to', 'speci-', 'fied', 'shares', 'in', 'the', 'properties', 'in', 'dispute', 'and', 'each', 'had', 'become', 'permanent', 'owner', '(Malik', 'Mustaqil)', 'of', 'his', 'or', 'her', 'share'], tags=[0])"
      ]
     },
     "execution_count": 4,
     "metadata": {},
     "output_type": "execute_result"
    }
   ],
   "source": [
    "# first tagged document\n",
    "train_corpus[0]"
   ]
  },
  {
   "cell_type": "code",
   "execution_count": 5,
   "metadata": {},
   "outputs": [],
   "source": [
    "# setup doc2vec\n",
    "model = gensim.models.doc2vec.Doc2Vec(vector_size=100)"
   ]
  },
  {
   "cell_type": "code",
   "execution_count": 6,
   "metadata": {},
   "outputs": [],
   "source": [
    "# build the vocabulary\n",
    "model.build_vocab(train_corpus)"
   ]
  },
  {
   "cell_type": "code",
   "execution_count": 7,
   "metadata": {},
   "outputs": [],
   "source": [
    "# train the doc2vec on the given corpus\n",
    "model.train(train_corpus, total_examples=model.corpus_count, epochs=model.epochs)"
   ]
  },
  {
   "cell_type": "code",
   "execution_count": 10,
   "metadata": {},
   "outputs": [],
   "source": [
    "my_new_document = train_corpus[0][0]"
   ]
  },
  {
   "cell_type": "code",
   "execution_count": 11,
   "metadata": {},
   "outputs": [
    {
     "data": {
      "text/plain": [
       "['The',\n",
       " 'dispute',\n",
       " 'was',\n",
       " 'referred',\n",
       " 'to',\n",
       " 'arbitration',\n",
       " 'and',\n",
       " 'an',\n",
       " 'award',\n",
       " 'was',\n",
       " 'delivered.',\n",
       " 'Under',\n",
       " 'it',\n",
       " 'the',\n",
       " 'suit',\n",
       " 'properties',\n",
       " 'were',\n",
       " 'given',\n",
       " 'to',\n",
       " 'M',\n",
       " 'and',\n",
       " 'the',\n",
       " 'rest',\n",
       " 'of',\n",
       " 'the',\n",
       " 'estate',\n",
       " 'then',\n",
       " 'in',\n",
       " 'dispute',\n",
       " 'was',\n",
       " 'given',\n",
       " 'to',\n",
       " 'B.',\n",
       " 'The',\n",
       " 'operative',\n",
       " 'part',\n",
       " 'of',\n",
       " 'the',\n",
       " 'award',\n",
       " 'stated',\n",
       " 'inter',\n",
       " 'alia',\n",
       " 'that',\n",
       " 'B,',\n",
       " 'first',\n",
       " 'party,',\n",
       " 'and',\n",
       " 'M,',\n",
       " 'the',\n",
       " 'second',\n",
       " 'party,',\n",
       " 'were',\n",
       " 'held',\n",
       " 'entitled',\n",
       " 'to',\n",
       " 'speci-',\n",
       " 'fied',\n",
       " 'shares',\n",
       " 'in',\n",
       " 'the',\n",
       " 'properties',\n",
       " 'in',\n",
       " 'dispute',\n",
       " 'and',\n",
       " 'each',\n",
       " 'had',\n",
       " 'become',\n",
       " 'permanent',\n",
       " 'owner',\n",
       " '(Malik',\n",
       " 'Mustaqil)',\n",
       " 'of',\n",
       " 'his',\n",
       " 'or',\n",
       " 'her',\n",
       " 'share']"
      ]
     },
     "execution_count": 11,
     "metadata": {},
     "output_type": "execute_result"
    }
   ],
   "source": [
    "my_new_document"
   ]
  },
  {
   "cell_type": "code",
   "execution_count": 12,
   "metadata": {},
   "outputs": [
    {
     "data": {
      "text/plain": [
       "array([ 3.3247492e-03, -4.0207054e-03, -2.1467444e-03,  1.9124809e-03,\n",
       "        5.0939023e-03, -4.8542190e-03,  2.8592285e-03,  3.8582142e-03,\n",
       "       -4.6573943e-03,  1.5120165e-03,  1.2299906e-03, -4.4296167e-04,\n",
       "        1.0924609e-03, -2.2577890e-03, -4.5439731e-03, -3.8971163e-03,\n",
       "       -3.2916775e-03,  7.8172883e-04, -1.0083753e-03, -2.0875195e-03,\n",
       "        5.5897486e-04, -4.2514731e-03,  3.4082832e-03, -2.8479458e-03,\n",
       "       -4.1665016e-03,  3.1323400e-03, -5.7045894e-04,  1.3864173e-03,\n",
       "       -4.7230283e-03,  2.5023960e-03,  5.1227649e-04, -3.8079340e-03,\n",
       "        4.7655450e-03,  3.7911988e-03,  2.5075473e-04, -1.8405446e-03,\n",
       "        1.0217074e-03,  2.9051153e-03,  2.0782326e-03,  1.3887638e-03,\n",
       "        2.4244341e-03, -5.6080328e-04,  3.3532672e-03,  3.1555761e-03,\n",
       "        1.3592814e-03,  4.0950533e-03, -1.4228240e-03,  4.5004128e-03,\n",
       "        4.0246188e-03, -4.5079566e-03, -3.7081582e-03,  3.2071138e-03,\n",
       "        2.4512077e-03,  4.5169448e-03,  4.5031477e-03, -3.4413505e-03,\n",
       "       -1.2698954e-03, -2.1638786e-03, -2.4067885e-03, -1.6459239e-03,\n",
       "        6.3170923e-04,  2.1948544e-03,  2.6372937e-03, -2.3623016e-03,\n",
       "        2.0670192e-03, -1.4146748e-03, -6.5701075e-05,  2.5266884e-03,\n",
       "       -2.8242851e-03,  9.6011336e-04, -4.8487308e-03, -4.1355542e-03,\n",
       "       -2.6990799e-03, -2.2914051e-03, -2.8667594e-03, -2.9511065e-03,\n",
       "        8.6896942e-04,  1.0135901e-03, -7.9027464e-04,  9.1443560e-04,\n",
       "        3.1824415e-03, -6.5331807e-04, -2.8244089e-03, -6.5417599e-04,\n",
       "       -3.2804025e-04,  1.0806056e-03, -4.2249262e-03, -1.7141524e-03,\n",
       "       -2.8819083e-03,  4.8789452e-03, -4.2052181e-03, -7.3749770e-04,\n",
       "       -3.6750303e-03, -3.5426004e-03,  4.9576769e-03, -8.7299303e-04,\n",
       "       -5.3303083e-04,  2.2931993e-03, -3.3908568e-03, -3.1576392e-03],\n",
       "      dtype=float32)"
      ]
     },
     "execution_count": 12,
     "metadata": {},
     "output_type": "execute_result"
    }
   ],
   "source": [
    "# get the doc2vec embedding of the first document.\n",
    "model.infer_vector(my_new_document)"
   ]
  },
  {
   "cell_type": "code",
   "execution_count": null,
   "metadata": {},
   "outputs": [],
   "source": []
  },
  {
   "cell_type": "code",
   "execution_count": null,
   "metadata": {},
   "outputs": [],
   "source": []
  }
 ],
 "metadata": {
  "kernelspec": {
   "display_name": "Python 3 (ipykernel)",
   "language": "python",
   "name": "python3"
  },
  "language_info": {
   "codemirror_mode": {
    "name": "ipython",
    "version": 3
   },
   "file_extension": ".py",
   "mimetype": "text/x-python",
   "name": "python",
   "nbconvert_exporter": "python",
   "pygments_lexer": "ipython3",
   "version": "3.9.15"
  }
 },
 "nbformat": 4,
 "nbformat_minor": 4
}
