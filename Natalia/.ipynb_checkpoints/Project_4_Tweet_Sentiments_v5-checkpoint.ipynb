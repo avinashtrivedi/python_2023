{
 "cells": [
  {
   "cell_type": "markdown",
   "metadata": {
    "toc": true
   },
   "source": [
    "<h1>Table of Contents<span class=\"tocSkip\"></span></h1>\n",
    "<div class=\"toc\"><ul class=\"toc-item\"><li><ul class=\"toc-item\"><li><span><a href=\"#Importing-Libraries\" data-toc-modified-id=\"Importing-Libraries-0.1\">Importing Libraries</a></span></li><li><span><a href=\"#Importing-the-dataset\" data-toc-modified-id=\"Importing-the-dataset-0.2\">Importing the dataset</a></span></li><li><span><a href=\"#Cleaning-and-organizing-our-data\" data-toc-modified-id=\"Cleaning-and-organizing-our-data-0.3\">Cleaning and organizing our data</a></span><ul class=\"toc-item\"><li><span><a href=\"#Distribution-of-Data---Target\" data-toc-modified-id=\"Distribution-of-Data---Target-0.3.1\">Distribution of Data - Target</a></span></li><li><span><a href=\"#Steps-to-clean-the-data\" data-toc-modified-id=\"Steps-to-clean-the-data-0.3.2\">Steps to clean the data</a></span></li></ul></li><li><span><a href=\"#Sentiments\" data-toc-modified-id=\"Sentiments-0.4\">Sentiments</a></span></li><li><span><a href=\"#Pre-process-Text\" data-toc-modified-id=\"Pre-process-Text-0.5\">Pre-process Text</a></span></li><li><span><a href=\"#Word-Cloud\" data-toc-modified-id=\"Word-Cloud-0.6\">Word Cloud</a></span></li><li><span><a href=\"#Split-Data\" data-toc-modified-id=\"Split-Data-0.7\">Split Data</a></span></li><li><span><a href=\"#TF-IDF\" data-toc-modified-id=\"TF-IDF-0.8\">TF-IDF</a></span><ul class=\"toc-item\"><li><span><a href=\"#CountVectorizer\" data-toc-modified-id=\"CountVectorizer-0.8.1\">CountVectorizer</a></span></li></ul></li></ul></li><li><span><a href=\"#Word-Embedding-using-Word2Vec\" data-toc-modified-id=\"Word-Embedding-using-Word2Vec-1\">Word Embedding using Word2Vec</a></span><ul class=\"toc-item\"><li><ul class=\"toc-item\"><li><span><a href=\"#Stemming\" data-toc-modified-id=\"Stemming-1.0.1\">Stemming</a></span></li><li><span><a href=\"#Tokenize\" data-toc-modified-id=\"Tokenize-1.0.2\">Tokenize</a></span></li></ul></li></ul></li><li><span><a href=\"#Exploratory-Data-Analysis-(EDA)\" data-toc-modified-id=\"Exploratory-Data-Analysis-(EDA)-2\">Exploratory Data Analysis (EDA)</a></span><ul class=\"toc-item\"><li><ul class=\"toc-item\"><li><span><a href=\"#TF-IDF-Vector\" data-toc-modified-id=\"TF-IDF-Vector-2.0.1\">TF IDF Vector</a></span></li><li><span><a href=\"#Positive\" data-toc-modified-id=\"Positive-2.0.2\">Positive</a></span></li></ul></li><li><span><a href=\"#N-grams\" data-toc-modified-id=\"N-grams-2.1\">N-grams</a></span></li></ul></li></ul></div>"
   ]
  },
  {
   "cell_type": "markdown",
   "metadata": {},
   "source": [
    "### Importing Libraries"
   ]
  },
  {
   "cell_type": "code",
   "execution_count": 1,
   "metadata": {},
   "outputs": [],
   "source": [
    "# Import Sklearn libraries to build models \n",
    "from sklearn.feature_extraction.text import TfidfVectorizer #  TF-IDF to vectorize words \n",
    "from sklearn.metrics import classification_report \n",
    "from sklearn.model_selection import train_test_split\n",
    "from sklearn.metrics import accuracy_score\n",
    "from sklearn.ensemble import RandomForestClassifier\n",
    "from sklearn.svm import LinearSVC\n",
    "\n",
    "\n",
    "# Import Libraries to perform computation and do visualization. \n",
    "import pandas as pd\n",
    "import numpy as np\n",
    "np.random.seed(0)\n",
    "import seaborn as sns\n",
    "import matplotlib.pyplot as plt\n",
    "import string\n",
    "\n",
    "# Import nltk to check english lexicon.\n",
    "import nltk\n",
    "from nltk.tokenize import word_tokenize\n",
    "from nltk.corpus import wordnet, stopwords\n",
    "from nltk import word_tokenize, FreqDist\n",
    "from nltk import pos_tag # for Parts of Speech tagging\n",
    "from nltk.tokenize import RegexpTokenizer\n",
    "from nltk.stem import WordNetLemmatizer\n",
    "from nltk.stem import PorterStemmer\n",
    "from sklearn.feature_extraction.text import TfidfVectorizer,CountVectorizer\n",
    "from nltk.corpus import stopwords\n",
    "from nltk.stem import WordNetLemmatizer\n",
    "# Generate wordcloud for word distribution visualization.\n",
    "from wordcloud import WordCloud \n",
    "\n",
    "# Generating random numbers.\n",
    "import random \n",
    "\n",
    "from xgboost import XGBClassifier\n",
    "\n",
    "# Transforms text to a fixed-length vector of integers.\n",
    "from gensim.models import Word2Vec \n",
    "\n",
    "\n",
    "#Efficient functions to search in strings.\n",
    "import re as re \n",
    "\n",
    "# Import images for world cloud.\n",
    "from PIL import Image, ImageDraw, ImageFont \n",
    "\n",
    "\n",
    "# # Keras\n",
    "# from keras.preprocessing.text import Tokenizer\n",
    "# from keras.preprocessing.sequence import pad_sequences\n",
    "# from keras.models import Sequential\n",
    "# from keras.layers import Activation, Dense, Dropout, Embedding, Flatten, Conv1D, MaxPooling1D, LSTM\n",
    "# from keras import utils\n",
    "# from keras.callbacks import ReduceLROnPlateau, EarlyStopping\n",
    "\n",
    "# Import Yellowbrick and vector coupon for visualization of frequent words\n",
    " \n",
    "from yellowbrick.text import FreqDistVisualizer\n",
    "from yellowbrick.datasets import load_hobbies\n",
    "\n",
    "from tqdm.notebook import tqdm\n",
    "\n",
    "from os import path\n",
    "from os import environ"
   ]
  },
  {
   "cell_type": "code",
   "execution_count": 2,
   "metadata": {},
   "outputs": [],
   "source": [
    "# !pip install yellowbrick"
   ]
  },
  {
   "cell_type": "markdown",
   "metadata": {},
   "source": [
    "### Importing the dataset"
   ]
  },
  {
   "cell_type": "code",
   "execution_count": 3,
   "metadata": {},
   "outputs": [
    {
     "data": {
      "text/html": [
       "<div>\n",
       "<style scoped>\n",
       "    .dataframe tbody tr th:only-of-type {\n",
       "        vertical-align: middle;\n",
       "    }\n",
       "\n",
       "    .dataframe tbody tr th {\n",
       "        vertical-align: top;\n",
       "    }\n",
       "\n",
       "    .dataframe thead th {\n",
       "        text-align: right;\n",
       "    }\n",
       "</style>\n",
       "<table border=\"1\" class=\"dataframe\">\n",
       "  <thead>\n",
       "    <tr style=\"text-align: right;\">\n",
       "      <th></th>\n",
       "      <th>sentiment</th>\n",
       "      <th>ids</th>\n",
       "      <th>date</th>\n",
       "      <th>flag</th>\n",
       "      <th>user</th>\n",
       "      <th>tweet</th>\n",
       "    </tr>\n",
       "  </thead>\n",
       "  <tbody>\n",
       "    <tr>\n",
       "      <th>0</th>\n",
       "      <td>0</td>\n",
       "      <td>1467810369</td>\n",
       "      <td>Mon Apr 06 22:19:45 PDT 2009</td>\n",
       "      <td>NO_QUERY</td>\n",
       "      <td>_TheSpecialOne_</td>\n",
       "      <td>@switchfoot http://twitpic.com/2y1zl - Awww, t...</td>\n",
       "    </tr>\n",
       "    <tr>\n",
       "      <th>1</th>\n",
       "      <td>0</td>\n",
       "      <td>1467810672</td>\n",
       "      <td>Mon Apr 06 22:19:49 PDT 2009</td>\n",
       "      <td>NO_QUERY</td>\n",
       "      <td>scotthamilton</td>\n",
       "      <td>is upset that he can't update his Facebook by ...</td>\n",
       "    </tr>\n",
       "    <tr>\n",
       "      <th>2</th>\n",
       "      <td>0</td>\n",
       "      <td>1467810917</td>\n",
       "      <td>Mon Apr 06 22:19:53 PDT 2009</td>\n",
       "      <td>NO_QUERY</td>\n",
       "      <td>mattycus</td>\n",
       "      <td>@Kenichan I dived many times for the ball. Man...</td>\n",
       "    </tr>\n",
       "    <tr>\n",
       "      <th>3</th>\n",
       "      <td>0</td>\n",
       "      <td>1467811184</td>\n",
       "      <td>Mon Apr 06 22:19:57 PDT 2009</td>\n",
       "      <td>NO_QUERY</td>\n",
       "      <td>ElleCTF</td>\n",
       "      <td>my whole body feels itchy and like its on fire</td>\n",
       "    </tr>\n",
       "    <tr>\n",
       "      <th>4</th>\n",
       "      <td>0</td>\n",
       "      <td>1467811193</td>\n",
       "      <td>Mon Apr 06 22:19:57 PDT 2009</td>\n",
       "      <td>NO_QUERY</td>\n",
       "      <td>Karoli</td>\n",
       "      <td>@nationwideclass no, it's not behaving at all....</td>\n",
       "    </tr>\n",
       "  </tbody>\n",
       "</table>\n",
       "</div>"
      ],
      "text/plain": [
       "   sentiment         ids                          date      flag  \\\n",
       "0          0  1467810369  Mon Apr 06 22:19:45 PDT 2009  NO_QUERY   \n",
       "1          0  1467810672  Mon Apr 06 22:19:49 PDT 2009  NO_QUERY   \n",
       "2          0  1467810917  Mon Apr 06 22:19:53 PDT 2009  NO_QUERY   \n",
       "3          0  1467811184  Mon Apr 06 22:19:57 PDT 2009  NO_QUERY   \n",
       "4          0  1467811193  Mon Apr 06 22:19:57 PDT 2009  NO_QUERY   \n",
       "\n",
       "              user                                              tweet  \n",
       "0  _TheSpecialOne_  @switchfoot http://twitpic.com/2y1zl - Awww, t...  \n",
       "1    scotthamilton  is upset that he can't update his Facebook by ...  \n",
       "2         mattycus  @Kenichan I dived many times for the ball. Man...  \n",
       "3          ElleCTF    my whole body feels itchy and like its on fire   \n",
       "4           Karoli  @nationwideclass no, it's not behaving at all....  "
      ]
     },
     "execution_count": 3,
     "metadata": {},
     "output_type": "execute_result"
    }
   ],
   "source": [
    "DATASET_COLUMNS=[\"sentiment\", \"ids\", \"date\", \"flag\", \"user\", \"tweet\"]\n",
    "DATASET_ENCODING = \"ISO-8859-1\"\n",
    "df = pd.read_csv(r'D:\\OneDrive - NITT\\Custom_Download\\training.1600000.processed.noemoticon.csv', encoding=DATASET_ENCODING, names=DATASET_COLUMNS)\n",
    "\n",
    "df.head()"
   ]
  },
  {
   "cell_type": "code",
   "execution_count": 4,
   "metadata": {},
   "outputs": [],
   "source": [
    "ta_df = df.sample(200000,random_state=42)"
   ]
  },
  {
   "cell_type": "code",
   "execution_count": 5,
   "metadata": {},
   "outputs": [
    {
     "data": {
      "text/plain": [
       "(200000, 6)"
      ]
     },
     "execution_count": 5,
     "metadata": {},
     "output_type": "execute_result"
    }
   ],
   "source": [
    "ta_df.shape"
   ]
  },
  {
   "cell_type": "code",
   "execution_count": 6,
   "metadata": {},
   "outputs": [
    {
     "name": "stdout",
     "output_type": "stream",
     "text": [
      "<class 'pandas.core.frame.DataFrame'>\n",
      "Int64Index: 200000 entries, 541200 to 941392\n",
      "Data columns (total 6 columns):\n",
      " #   Column     Non-Null Count   Dtype \n",
      "---  ------     --------------   ----- \n",
      " 0   sentiment  200000 non-null  int64 \n",
      " 1   ids        200000 non-null  int64 \n",
      " 2   date       200000 non-null  object\n",
      " 3   flag       200000 non-null  object\n",
      " 4   user       200000 non-null  object\n",
      " 5   tweet      200000 non-null  object\n",
      "dtypes: int64(2), object(4)\n",
      "memory usage: 10.7+ MB\n"
     ]
    }
   ],
   "source": [
    "ta_df.info()"
   ]
  },
  {
   "cell_type": "code",
   "execution_count": 114,
   "metadata": {},
   "outputs": [
    {
     "data": {
      "text/plain": [
       "sentiment    0.0\n",
       "ids          0.0\n",
       "date         0.0\n",
       "flag         0.0\n",
       "user         0.0\n",
       "tweet        0.0\n",
       "dtype: float64"
      ]
     },
     "execution_count": 114,
     "metadata": {},
     "output_type": "execute_result"
    }
   ],
   "source": [
    "ta_df.isna().mean()*100"
   ]
  },
  {
   "cell_type": "code",
   "execution_count": 115,
   "metadata": {},
   "outputs": [
    {
     "data": {
      "text/plain": [
       "array(['NO_QUERY'], dtype=object)"
      ]
     },
     "execution_count": 115,
     "metadata": {},
     "output_type": "execute_result"
    }
   ],
   "source": [
    "ta_df['flag'].unique()"
   ]
  },
  {
   "cell_type": "code",
   "execution_count": 116,
   "metadata": {},
   "outputs": [],
   "source": [
    "ta_df.drop(['flag','ids'], axis=1, inplace = True)\n"
   ]
  },
  {
   "cell_type": "code",
   "execution_count": 117,
   "metadata": {},
   "outputs": [
    {
     "data": {
      "text/html": [
       "<div>\n",
       "<style scoped>\n",
       "    .dataframe tbody tr th:only-of-type {\n",
       "        vertical-align: middle;\n",
       "    }\n",
       "\n",
       "    .dataframe tbody tr th {\n",
       "        vertical-align: top;\n",
       "    }\n",
       "\n",
       "    .dataframe thead th {\n",
       "        text-align: right;\n",
       "    }\n",
       "</style>\n",
       "<table border=\"1\" class=\"dataframe\">\n",
       "  <thead>\n",
       "    <tr style=\"text-align: right;\">\n",
       "      <th></th>\n",
       "      <th>sentiment</th>\n",
       "      <th>date</th>\n",
       "      <th>user</th>\n",
       "      <th>tweet</th>\n",
       "    </tr>\n",
       "  </thead>\n",
       "  <tbody>\n",
       "    <tr>\n",
       "      <th>541200</th>\n",
       "      <td>0</td>\n",
       "      <td>Tue Jun 16 18:18:12 PDT 2009</td>\n",
       "      <td>LaLaLindsey0609</td>\n",
       "      <td>@chrishasboobs AHHH I HOPE YOUR OK!!!</td>\n",
       "    </tr>\n",
       "    <tr>\n",
       "      <th>750</th>\n",
       "      <td>0</td>\n",
       "      <td>Mon Apr 06 23:11:14 PDT 2009</td>\n",
       "      <td>sexygrneyes</td>\n",
       "      <td>@misstoriblack cool , i have no tweet apps  fo...</td>\n",
       "    </tr>\n",
       "    <tr>\n",
       "      <th>766711</th>\n",
       "      <td>0</td>\n",
       "      <td>Tue Jun 23 13:40:11 PDT 2009</td>\n",
       "      <td>sammydearr</td>\n",
       "      <td>@TiannaChaos i know  just family drama. its la...</td>\n",
       "    </tr>\n",
       "    <tr>\n",
       "      <th>285055</th>\n",
       "      <td>0</td>\n",
       "      <td>Mon Jun 01 10:26:07 PDT 2009</td>\n",
       "      <td>Lamb_Leanne</td>\n",
       "      <td>School email won't open  and I have geography ...</td>\n",
       "    </tr>\n",
       "    <tr>\n",
       "      <th>705995</th>\n",
       "      <td>0</td>\n",
       "      <td>Sat Jun 20 12:56:51 PDT 2009</td>\n",
       "      <td>yogicerdito</td>\n",
       "      <td>upper airways problem</td>\n",
       "    </tr>\n",
       "  </tbody>\n",
       "</table>\n",
       "</div>"
      ],
      "text/plain": [
       "        sentiment                          date             user  \\\n",
       "541200          0  Tue Jun 16 18:18:12 PDT 2009  LaLaLindsey0609   \n",
       "750             0  Mon Apr 06 23:11:14 PDT 2009      sexygrneyes   \n",
       "766711          0  Tue Jun 23 13:40:11 PDT 2009       sammydearr   \n",
       "285055          0  Mon Jun 01 10:26:07 PDT 2009      Lamb_Leanne   \n",
       "705995          0  Sat Jun 20 12:56:51 PDT 2009      yogicerdito   \n",
       "\n",
       "                                                    tweet  \n",
       "541200             @chrishasboobs AHHH I HOPE YOUR OK!!!   \n",
       "750     @misstoriblack cool , i have no tweet apps  fo...  \n",
       "766711  @TiannaChaos i know  just family drama. its la...  \n",
       "285055  School email won't open  and I have geography ...  \n",
       "705995                             upper airways problem   "
      ]
     },
     "execution_count": 117,
     "metadata": {},
     "output_type": "execute_result"
    }
   ],
   "source": [
    "ta_df.head()"
   ]
  },
  {
   "cell_type": "markdown",
   "metadata": {},
   "source": [
    "### Cleaning and organizing our data "
   ]
  },
  {
   "cell_type": "code",
   "execution_count": 118,
   "metadata": {},
   "outputs": [
    {
     "name": "stdout",
     "output_type": "stream",
     "text": [
      "length of data is 200000\n"
     ]
    }
   ],
   "source": [
    "# Checking length \n",
    "print('length of data is', len(ta_df))"
   ]
  },
  {
   "cell_type": "markdown",
   "metadata": {},
   "source": [
    "#### Distribution of Data - Target "
   ]
  },
  {
   "cell_type": "code",
   "execution_count": 119,
   "metadata": {},
   "outputs": [
    {
     "data": {
      "text/plain": [
       "array([0, 4])"
      ]
     },
     "execution_count": 119,
     "metadata": {},
     "output_type": "execute_result"
    }
   ],
   "source": [
    "ta_df['sentiment'].unique()"
   ]
  },
  {
   "cell_type": "code",
   "execution_count": 120,
   "metadata": {},
   "outputs": [
    {
     "data": {
      "text/plain": [
       "4    50.0715\n",
       "0    49.9285\n",
       "Name: sentiment, dtype: float64"
      ]
     },
     "execution_count": 120,
     "metadata": {},
     "output_type": "execute_result"
    }
   ],
   "source": [
    "ta_df['sentiment'].value_counts(normalize=True)*100"
   ]
  },
  {
   "cell_type": "code",
   "execution_count": 7,
   "metadata": {},
   "outputs": [
    {
     "data": {
      "text/html": [
       "<div>\n",
       "<style scoped>\n",
       "    .dataframe tbody tr th:only-of-type {\n",
       "        vertical-align: middle;\n",
       "    }\n",
       "\n",
       "    .dataframe tbody tr th {\n",
       "        vertical-align: top;\n",
       "    }\n",
       "\n",
       "    .dataframe thead th {\n",
       "        text-align: right;\n",
       "    }\n",
       "</style>\n",
       "<table border=\"1\" class=\"dataframe\">\n",
       "  <thead>\n",
       "    <tr style=\"text-align: right;\">\n",
       "      <th></th>\n",
       "      <th>sentiment</th>\n",
       "      <th>ids</th>\n",
       "      <th>date</th>\n",
       "      <th>flag</th>\n",
       "      <th>user</th>\n",
       "      <th>tweet</th>\n",
       "    </tr>\n",
       "  </thead>\n",
       "  <tbody>\n",
       "    <tr>\n",
       "      <th>541200</th>\n",
       "      <td>0</td>\n",
       "      <td>2200003196</td>\n",
       "      <td>Tue Jun 16 18:18:12 PDT 2009</td>\n",
       "      <td>NO_QUERY</td>\n",
       "      <td>LaLaLindsey0609</td>\n",
       "      <td>@chrishasboobs AHHH I HOPE YOUR OK!!!</td>\n",
       "    </tr>\n",
       "    <tr>\n",
       "      <th>750</th>\n",
       "      <td>0</td>\n",
       "      <td>1467998485</td>\n",
       "      <td>Mon Apr 06 23:11:14 PDT 2009</td>\n",
       "      <td>NO_QUERY</td>\n",
       "      <td>sexygrneyes</td>\n",
       "      <td>@misstoriblack cool , i have no tweet apps  fo...</td>\n",
       "    </tr>\n",
       "    <tr>\n",
       "      <th>766711</th>\n",
       "      <td>0</td>\n",
       "      <td>2300048954</td>\n",
       "      <td>Tue Jun 23 13:40:11 PDT 2009</td>\n",
       "      <td>NO_QUERY</td>\n",
       "      <td>sammydearr</td>\n",
       "      <td>@TiannaChaos i know  just family drama. its la...</td>\n",
       "    </tr>\n",
       "    <tr>\n",
       "      <th>285055</th>\n",
       "      <td>0</td>\n",
       "      <td>1993474027</td>\n",
       "      <td>Mon Jun 01 10:26:07 PDT 2009</td>\n",
       "      <td>NO_QUERY</td>\n",
       "      <td>Lamb_Leanne</td>\n",
       "      <td>School email won't open  and I have geography ...</td>\n",
       "    </tr>\n",
       "    <tr>\n",
       "      <th>705995</th>\n",
       "      <td>0</td>\n",
       "      <td>2256550904</td>\n",
       "      <td>Sat Jun 20 12:56:51 PDT 2009</td>\n",
       "      <td>NO_QUERY</td>\n",
       "      <td>yogicerdito</td>\n",
       "      <td>upper airways problem</td>\n",
       "    </tr>\n",
       "  </tbody>\n",
       "</table>\n",
       "</div>"
      ],
      "text/plain": [
       "        sentiment         ids                          date      flag  \\\n",
       "541200          0  2200003196  Tue Jun 16 18:18:12 PDT 2009  NO_QUERY   \n",
       "750             0  1467998485  Mon Apr 06 23:11:14 PDT 2009  NO_QUERY   \n",
       "766711          0  2300048954  Tue Jun 23 13:40:11 PDT 2009  NO_QUERY   \n",
       "285055          0  1993474027  Mon Jun 01 10:26:07 PDT 2009  NO_QUERY   \n",
       "705995          0  2256550904  Sat Jun 20 12:56:51 PDT 2009  NO_QUERY   \n",
       "\n",
       "                   user                                              tweet  \n",
       "541200  LaLaLindsey0609             @chrishasboobs AHHH I HOPE YOUR OK!!!   \n",
       "750         sexygrneyes  @misstoriblack cool , i have no tweet apps  fo...  \n",
       "766711       sammydearr  @TiannaChaos i know  just family drama. its la...  \n",
       "285055      Lamb_Leanne  School email won't open  and I have geography ...  \n",
       "705995      yogicerdito                             upper airways problem   "
      ]
     },
     "execution_count": 7,
     "metadata": {},
     "output_type": "execute_result"
    }
   ],
   "source": [
    "\n",
    "# Replacing the value 4 -->1 for ease of understanding.\n",
    "# 0 = negative, 1 = positive\n",
    "ta_df['sentiment'] = ta_df['sentiment'].replace(4,1)\n",
    "ta_df.head()"
   ]
  },
  {
   "cell_type": "code",
   "execution_count": 122,
   "metadata": {},
   "outputs": [
    {
     "data": {
      "text/plain": [
       "[Text(0.5, 1.0, 'Count of Tweets per Sentiment')]"
      ]
     },
     "execution_count": 122,
     "metadata": {},
     "output_type": "execute_result"
    },
    {
     "data": {
      "image/png": "[encoded data removed]",
      "text/plain": [
       "<Figure size 432x288 with 1 Axes>"
      ]
     },
     "metadata": {
      "needs_background": "light"
     },
     "output_type": "display_data"
    }
   ],
   "source": [
    "# Plot the count plot for the target labels.\n",
    "\n",
    "\n",
    "p = sns.countplot(data = ta_df, y = 'sentiment', palette=\"Set3\") #Setting p to plot of Emotion\n",
    "p.set(xlabel = 'count') #Labling X\n",
    "p.set(ylabel = 'sentiment') #Labling Y\n",
    "p.set(title = \"Count of Tweets per Sentiment\")"
   ]
  },
  {
   "cell_type": "code",
   "execution_count": 123,
   "metadata": {},
   "outputs": [
    {
     "name": "stdout",
     "output_type": "stream",
     "text": [
      "Count of columns in the data is:   4\n",
      "Count of rows in the data is:   200000\n"
     ]
    }
   ],
   "source": [
    "print('Count of columns in the data is:  ', len(ta_df.columns))\n",
    "print('Count of rows in the data is:  ', len(ta_df))"
   ]
  },
  {
   "cell_type": "markdown",
   "metadata": {},
   "source": [
    "#### Steps to clean the data\n",
    "\n",
    "* Checking and handling NaN values\n",
    "* Drop duplicate\n",
    "* Cleaning up product names in order to unify brand names\n"
   ]
  },
  {
   "cell_type": "code",
   "execution_count": 8,
   "metadata": {},
   "outputs": [],
   "source": [
    "ta_df.dropna(inplace=True)"
   ]
  },
  {
   "cell_type": "code",
   "execution_count": 125,
   "metadata": {},
   "outputs": [
    {
     "data": {
      "text/plain": [
       "200000"
      ]
     },
     "execution_count": 125,
     "metadata": {},
     "output_type": "execute_result"
    }
   ],
   "source": [
    "len(ta_df.duplicated(keep='last'))"
   ]
  },
  {
   "cell_type": "code",
   "execution_count": 126,
   "metadata": {},
   "outputs": [
    {
     "name": "stdout",
     "output_type": "stream",
     "text": [
      "<class 'pandas.core.frame.DataFrame'>\n",
      "Int64Index: 200000 entries, 541200 to 941392\n",
      "Data columns (total 4 columns):\n",
      " #   Column     Non-Null Count   Dtype \n",
      "---  ------     --------------   ----- \n",
      " 0   sentiment  200000 non-null  int64 \n",
      " 1   date       200000 non-null  object\n",
      " 2   user       200000 non-null  object\n",
      " 3   tweet      200000 non-null  object\n",
      "dtypes: int64(1), object(3)\n",
      "memory usage: 7.6+ MB\n"
     ]
    }
   ],
   "source": [
    "ta_df.drop_duplicates()\n",
    "ta_df.info()"
   ]
  },
  {
   "cell_type": "code",
   "execution_count": 127,
   "metadata": {
    "scrolled": true
   },
   "outputs": [
    {
     "data": {
      "image/png": "[encoded data removed]",
      "text/plain": [
       "<Figure size 432x288 with 1 Axes>"
      ]
     },
     "metadata": {
      "needs_background": "light"
     },
     "output_type": "display_data"
    }
   ],
   "source": [
    "# Checking for Null values.  We use the heatmap code which shows the contrast well.\n",
    "\n",
    "sns.heatmap(ta_df.isnull(), cbar=False)\n",
    "plt.title(\"NaNs\")\n",
    "plt.xlabel('Culomns')\n",
    "plt.ylabel('Row')\n",
    "plt.show()"
   ]
  },
  {
   "cell_type": "code",
   "execution_count": 9,
   "metadata": {},
   "outputs": [],
   "source": [
    "# Removing duplicate values\n",
    "ta_df.drop_duplicates(inplace = True) "
   ]
  },
  {
   "cell_type": "markdown",
   "metadata": {},
   "source": [
    "### Sentiments"
   ]
  },
  {
   "cell_type": "code",
   "execution_count": 129,
   "metadata": {},
   "outputs": [
    {
     "data": {
      "text/html": [
       "<div>\n",
       "<style scoped>\n",
       "    .dataframe tbody tr th:only-of-type {\n",
       "        vertical-align: middle;\n",
       "    }\n",
       "\n",
       "    .dataframe tbody tr th {\n",
       "        vertical-align: top;\n",
       "    }\n",
       "\n",
       "    .dataframe thead th {\n",
       "        text-align: right;\n",
       "    }\n",
       "</style>\n",
       "<table border=\"1\" class=\"dataframe\">\n",
       "  <thead>\n",
       "    <tr style=\"text-align: right;\">\n",
       "      <th></th>\n",
       "      <th>sentiment</th>\n",
       "      <th>date</th>\n",
       "      <th>user</th>\n",
       "      <th>tweet</th>\n",
       "    </tr>\n",
       "  </thead>\n",
       "  <tbody>\n",
       "    <tr>\n",
       "      <th>541200</th>\n",
       "      <td>0</td>\n",
       "      <td>Tue Jun 16 18:18:12 PDT 2009</td>\n",
       "      <td>LaLaLindsey0609</td>\n",
       "      <td>@chrishasboobs AHHH I HOPE YOUR OK!!!</td>\n",
       "    </tr>\n",
       "    <tr>\n",
       "      <th>750</th>\n",
       "      <td>0</td>\n",
       "      <td>Mon Apr 06 23:11:14 PDT 2009</td>\n",
       "      <td>sexygrneyes</td>\n",
       "      <td>@misstoriblack cool , i have no tweet apps  fo...</td>\n",
       "    </tr>\n",
       "    <tr>\n",
       "      <th>766711</th>\n",
       "      <td>0</td>\n",
       "      <td>Tue Jun 23 13:40:11 PDT 2009</td>\n",
       "      <td>sammydearr</td>\n",
       "      <td>@TiannaChaos i know  just family drama. its la...</td>\n",
       "    </tr>\n",
       "    <tr>\n",
       "      <th>285055</th>\n",
       "      <td>0</td>\n",
       "      <td>Mon Jun 01 10:26:07 PDT 2009</td>\n",
       "      <td>Lamb_Leanne</td>\n",
       "      <td>School email won't open  and I have geography ...</td>\n",
       "    </tr>\n",
       "    <tr>\n",
       "      <th>705995</th>\n",
       "      <td>0</td>\n",
       "      <td>Sat Jun 20 12:56:51 PDT 2009</td>\n",
       "      <td>yogicerdito</td>\n",
       "      <td>upper airways problem</td>\n",
       "    </tr>\n",
       "  </tbody>\n",
       "</table>\n",
       "</div>"
      ],
      "text/plain": [
       "        sentiment                          date             user  \\\n",
       "541200          0  Tue Jun 16 18:18:12 PDT 2009  LaLaLindsey0609   \n",
       "750             0  Mon Apr 06 23:11:14 PDT 2009      sexygrneyes   \n",
       "766711          0  Tue Jun 23 13:40:11 PDT 2009       sammydearr   \n",
       "285055          0  Mon Jun 01 10:26:07 PDT 2009      Lamb_Leanne   \n",
       "705995          0  Sat Jun 20 12:56:51 PDT 2009      yogicerdito   \n",
       "\n",
       "                                                    tweet  \n",
       "541200             @chrishasboobs AHHH I HOPE YOUR OK!!!   \n",
       "750     @misstoriblack cool , i have no tweet apps  fo...  \n",
       "766711  @TiannaChaos i know  just family drama. its la...  \n",
       "285055  School email won't open  and I have geography ...  \n",
       "705995                             upper airways problem   "
      ]
     },
     "execution_count": 129,
     "metadata": {},
     "output_type": "execute_result"
    }
   ],
   "source": [
    "ta_df.head(5)"
   ]
  },
  {
   "cell_type": "code",
   "execution_count": 130,
   "metadata": {},
   "outputs": [],
   "source": [
    "# Creating an independent copy  \n",
    "\n",
    "ta_df_copy = ta_df.copy()"
   ]
  },
  {
   "cell_type": "markdown",
   "metadata": {},
   "source": [
    "### Pre-process Text\n",
    "\n",
    "We will use text processing to allow the data to be more digestible for model use later in this project. This is an integral step in Natural Language Processing (NLP). \n",
    "\n",
    "\n",
    "The Preprocessing steps taken are:\n",
    "\n",
    "\n",
    "* Removing Stopwords: Stopwords are common words used in the English language and do not add meaning to the sentences. Therefore we can remove them without sacrificing the meaning of the sentence. \n",
    "\n",
    "* Removing Words  with 2 letters: Words with length less than 2 are removed.\n",
    "\n",
    "* Converting to lower case letters: Each text will be transferred to a lower case letter.\n",
    "\n",
    "* Replacing http with space: Links starting with \"http\" or \"https\" or \"www\" are replaced by \" \n",
    "\".\n",
    "\n",
    "* Lemmetizing "
   ]
  },
  {
   "cell_type": "code",
   "execution_count": 131,
   "metadata": {},
   "outputs": [],
   "source": [
    "def clean_tweet(tweet):\n",
    "    \n",
    "    tweet= tweet.lower()\n",
    "    \n",
    "    # Remove user_name @\n",
    "    tweet = re.sub('(@[a-z0-9]+)\\w+', '', tweet)\n",
    "    \n",
    "    tweet = re.sub('(#[a-z0-9]+)\\w+', '', tweet)\n",
    "    \n",
    "    # Remove all non alphabets\n",
    "    tweet = re.sub('([^0-9a-z \\t])', '', tweet)\n",
    "    \n",
    "    # Remove hyperlinks\n",
    "    tweet = re.sub(r'http\\S+', '', tweet)\n",
    "    \n",
    "    # Remove RT\n",
    "    tweet = re.sub(r'^rt[\\s]+', '', tweet)\n",
    "    \n",
    "    return tweet"
   ]
  },
  {
   "cell_type": "code",
   "execution_count": 132,
   "metadata": {},
   "outputs": [],
   "source": [
    "emojis = {':)': 'smile', ':-)': 'smile', ';d': 'wink', ':-E': 'vampire', ':(': 'sad', \n",
    "          ':-(': 'sad', ':-<': 'sad', ':P': 'raspberry', ':O': 'surprised',\n",
    "          ':-@': 'shocked', ':@': 'shocked',':-$': 'confused', ':\\\\': 'annoyed', \n",
    "          ':#': 'mute', ':X': 'mute', ':^)': 'smile', ':-&': 'confused', '$_$': 'greedy',\n",
    "          '@@': 'eyeroll', ':-!': 'confused', ':-D': 'smile', ':-0': 'yell', 'O.o': 'confused',\n",
    "          '<(-_-)>': 'robot', 'd[-_-]b': 'dj', \":'-)\": 'sadsmile', ';)': 'wink', \n",
    "          ';-)': 'wink', 'O:-)': 'angel','O*-)': 'angel','(:-D': 'gossip', '=^.^=': 'cat'}"
   ]
  },
  {
   "cell_type": "code",
   "execution_count": 136,
   "metadata": {},
   "outputs": [],
   "source": [
    "wordLemm = WordNetLemmatizer()"
   ]
  },
  {
   "cell_type": "code",
   "execution_count": 137,
   "metadata": {},
   "outputs": [
    {
     "data": {
      "text/plain": [
       "'abacus'"
      ]
     },
     "execution_count": 137,
     "metadata": {},
     "output_type": "execute_result"
    }
   ],
   "source": [
    "wordLemm.lemmatize('abaci')"
   ]
  },
  {
   "cell_type": "code",
   "execution_count": 138,
   "metadata": {},
   "outputs": [],
   "source": [
    "# Testing PorterStemmer"
   ]
  },
  {
   "cell_type": "code",
   "execution_count": 139,
   "metadata": {},
   "outputs": [],
   "source": []
  },
  {
   "cell_type": "code",
   "execution_count": 140,
   "metadata": {},
   "outputs": [
    {
     "data": {
      "text/plain": [
       "'play'"
      ]
     },
     "execution_count": 140,
     "metadata": {},
     "output_type": "execute_result"
    }
   ],
   "source": [
    "ps.stem('playing')"
   ]
  },
  {
   "cell_type": "code",
   "execution_count": 27,
   "metadata": {},
   "outputs": [],
   "source": [
    "tqdm.pandas()\n",
    "ps = PorterStemmer()\n",
    "\n",
    "TEXT_CLEANING_RE = \"@\\S+|https?:\\S+|http?:\\S|[^A-Za-z0-9]+\"\n",
    "\n",
    "# Replace 3 or more consecutive letters by 2 letter.\n",
    "sequencePattern   = r\"(.)\\1\\1+\"\n",
    "seqReplacePattern = r\"\\1\\1\"\n",
    "\n",
    "stop_words = set(stopwords.words(\"english\"))\n",
    "\n",
    "def preprocess(text,apply_stem=True):\n",
    "    # Remove link,user and special characters\n",
    "    text = re.sub(TEXT_CLEANING_RE, ' ', str(text).lower()).strip()\n",
    "    text = re.sub(sequencePattern, seqReplacePattern, text)\n",
    "    \n",
    "    tokens = []\n",
    "    for token in text.split():\n",
    "        if token not in stop_words:\n",
    "            \n",
    "            if apply_stem:\n",
    "                tokens.append(ps.stem(token))\n",
    "            else:\n",
    "                tokens.append(token)\n",
    "            \n",
    "    return \" \".join(tokens)"
   ]
  },
  {
   "cell_type": "code",
   "execution_count": 28,
   "metadata": {},
   "outputs": [
    {
     "data": {
      "application/vnd.jupyter.widget-view+json": {
       "model_id": "19961f25cf634791907a0435b81a3734",
       "version_major": 2,
       "version_minor": 0
      },
      "text/plain": [
       "  0%|          | 0/200000 [00:00<?, ?it/s]"
      ]
     },
     "metadata": {},
     "output_type": "display_data"
    }
   ],
   "source": [
    "ta_df['clean_tweet'] = ta_df['tweet'].progress_apply(lambda x:preprocess(x,True))"
   ]
  },
  {
   "cell_type": "code",
   "execution_count": 29,
   "metadata": {},
   "outputs": [
    {
     "data": {
      "application/vnd.jupyter.widget-view+json": {
       "model_id": "0d9078ae42c94d9c9b0d9028d371ab8a",
       "version_major": 2,
       "version_minor": 0
      },
      "text/plain": [
       "  0%|          | 0/200000 [00:00<?, ?it/s]"
      ]
     },
     "metadata": {},
     "output_type": "display_data"
    }
   ],
   "source": [
    "ta_df['clean_tweet_wt_stem'] = ta_df['tweet'].progress_apply(lambda x:preprocess(x,False))"
   ]
  },
  {
   "cell_type": "code",
   "execution_count": 144,
   "metadata": {},
   "outputs": [],
   "source": [
    "# ta_df.drop('clean_tweets',axis=1,inplace=True)"
   ]
  },
  {
   "cell_type": "code",
   "execution_count": 30,
   "metadata": {},
   "outputs": [
    {
     "data": {
      "text/html": [
       "<div>\n",
       "<style scoped>\n",
       "    .dataframe tbody tr th:only-of-type {\n",
       "        vertical-align: middle;\n",
       "    }\n",
       "\n",
       "    .dataframe tbody tr th {\n",
       "        vertical-align: top;\n",
       "    }\n",
       "\n",
       "    .dataframe thead th {\n",
       "        text-align: right;\n",
       "    }\n",
       "</style>\n",
       "<table border=\"1\" class=\"dataframe\">\n",
       "  <thead>\n",
       "    <tr style=\"text-align: right;\">\n",
       "      <th></th>\n",
       "      <th>sentiment</th>\n",
       "      <th>ids</th>\n",
       "      <th>date</th>\n",
       "      <th>flag</th>\n",
       "      <th>user</th>\n",
       "      <th>tweet</th>\n",
       "      <th>clean_tweet</th>\n",
       "      <th>clean_tweet_wt_stem</th>\n",
       "    </tr>\n",
       "  </thead>\n",
       "  <tbody>\n",
       "    <tr>\n",
       "      <th>541200</th>\n",
       "      <td>0</td>\n",
       "      <td>2200003196</td>\n",
       "      <td>Tue Jun 16 18:18:12 PDT 2009</td>\n",
       "      <td>NO_QUERY</td>\n",
       "      <td>LaLaLindsey0609</td>\n",
       "      <td>@chrishasboobs AHHH I HOPE YOUR OK!!!</td>\n",
       "      <td>ahh hope ok</td>\n",
       "      <td>ahh hope ok</td>\n",
       "    </tr>\n",
       "    <tr>\n",
       "      <th>750</th>\n",
       "      <td>0</td>\n",
       "      <td>1467998485</td>\n",
       "      <td>Mon Apr 06 23:11:14 PDT 2009</td>\n",
       "      <td>NO_QUERY</td>\n",
       "      <td>sexygrneyes</td>\n",
       "      <td>@misstoriblack cool , i have no tweet apps  fo...</td>\n",
       "      <td>cool tweet app razr 2</td>\n",
       "      <td>cool tweet apps razr 2</td>\n",
       "    </tr>\n",
       "    <tr>\n",
       "      <th>766711</th>\n",
       "      <td>0</td>\n",
       "      <td>2300048954</td>\n",
       "      <td>Tue Jun 23 13:40:11 PDT 2009</td>\n",
       "      <td>NO_QUERY</td>\n",
       "      <td>sammydearr</td>\n",
       "      <td>@TiannaChaos i know  just family drama. its la...</td>\n",
       "      <td>know famili drama lame hey next time u hang ki...</td>\n",
       "      <td>know family drama lame hey next time u hang ki...</td>\n",
       "    </tr>\n",
       "    <tr>\n",
       "      <th>285055</th>\n",
       "      <td>0</td>\n",
       "      <td>1993474027</td>\n",
       "      <td>Mon Jun 01 10:26:07 PDT 2009</td>\n",
       "      <td>NO_QUERY</td>\n",
       "      <td>Lamb_Leanne</td>\n",
       "      <td>School email won't open  and I have geography ...</td>\n",
       "      <td>school email open geographi stuff revis stupid...</td>\n",
       "      <td>school email open geography stuff revise stupi...</td>\n",
       "    </tr>\n",
       "    <tr>\n",
       "      <th>705995</th>\n",
       "      <td>0</td>\n",
       "      <td>2256550904</td>\n",
       "      <td>Sat Jun 20 12:56:51 PDT 2009</td>\n",
       "      <td>NO_QUERY</td>\n",
       "      <td>yogicerdito</td>\n",
       "      <td>upper airways problem</td>\n",
       "      <td>upper airway problem</td>\n",
       "      <td>upper airways problem</td>\n",
       "    </tr>\n",
       "  </tbody>\n",
       "</table>\n",
       "</div>"
      ],
      "text/plain": [
       "        sentiment         ids                          date      flag  \\\n",
       "541200          0  2200003196  Tue Jun 16 18:18:12 PDT 2009  NO_QUERY   \n",
       "750             0  1467998485  Mon Apr 06 23:11:14 PDT 2009  NO_QUERY   \n",
       "766711          0  2300048954  Tue Jun 23 13:40:11 PDT 2009  NO_QUERY   \n",
       "285055          0  1993474027  Mon Jun 01 10:26:07 PDT 2009  NO_QUERY   \n",
       "705995          0  2256550904  Sat Jun 20 12:56:51 PDT 2009  NO_QUERY   \n",
       "\n",
       "                   user                                              tweet  \\\n",
       "541200  LaLaLindsey0609             @chrishasboobs AHHH I HOPE YOUR OK!!!    \n",
       "750         sexygrneyes  @misstoriblack cool , i have no tweet apps  fo...   \n",
       "766711       sammydearr  @TiannaChaos i know  just family drama. its la...   \n",
       "285055      Lamb_Leanne  School email won't open  and I have geography ...   \n",
       "705995      yogicerdito                             upper airways problem    \n",
       "\n",
       "                                              clean_tweet  \\\n",
       "541200                                        ahh hope ok   \n",
       "750                                 cool tweet app razr 2   \n",
       "766711  know famili drama lame hey next time u hang ki...   \n",
       "285055  school email open geographi stuff revis stupid...   \n",
       "705995                               upper airway problem   \n",
       "\n",
       "                                      clean_tweet_wt_stem  \n",
       "541200                                        ahh hope ok  \n",
       "750                                cool tweet apps razr 2  \n",
       "766711  know family drama lame hey next time u hang ki...  \n",
       "285055  school email open geography stuff revise stupi...  \n",
       "705995                              upper airways problem  "
      ]
     },
     "execution_count": 30,
     "metadata": {},
     "output_type": "execute_result"
    }
   ],
   "source": [
    "ta_df.head()"
   ]
  },
  {
   "cell_type": "markdown",
   "metadata": {},
   "source": [
    "### Word Cloud"
   ]
  },
  {
   "cell_type": "code",
   "execution_count": 31,
   "metadata": {},
   "outputs": [],
   "source": [
    "def red_color_func(word, font_size, position, orientation, random_state=None,**kwargs):\n",
    "    return tuple(Reds_9.colors[random.randint(6,8)])  # Function to help us generate wordcloud"
   ]
  },
  {
   "cell_type": "code",
   "execution_count": 39,
   "metadata": {},
   "outputs": [],
   "source": [
    "# text = ta_df['clean_tweet_wt_stem']"
   ]
  },
  {
   "cell_type": "code",
   "execution_count": null,
   "metadata": {},
   "outputs": [],
   "source": []
  },
  {
   "cell_type": "code",
   "execution_count": 36,
   "metadata": {},
   "outputs": [],
   "source": [
    "mask = np.array(Image.open('tu.png'))"
   ]
  },
  {
   "cell_type": "code",
   "execution_count": 37,
   "metadata": {},
   "outputs": [],
   "source": [
    "def red_color_func(word, font_size, position, orientation, random_state=None,**kwargs):\n",
    "    return tuple(Reds_9.colors[random.randint(6,8)])  # Function to help us generate wordcloud"
   ]
  },
  {
   "cell_type": "code",
   "execution_count": 40,
   "metadata": {},
   "outputs": [
    {
     "data": {
      "image/png": "[encoded data removed]",
      "text/plain": [
       "<Figure size 1000x700 with 1 Axes>"
      ]
     },
     "metadata": {},
     "output_type": "display_data"
    }
   ],
   "source": [
    "all_words = ' '.join([text for text in ta_df['clean_tweet_wt_stem']])\n",
    "\n",
    "wordcloud = WordCloud(width=800, height=500, random_state=21, \n",
    "                      max_font_size=110).generate(all_words)\n",
    "\n",
    "plt.figure(figsize=(10, 7))\n",
    "plt.imshow(wordcloud, interpolation=\"bilinear\")\n",
    "plt.axis('off')\n",
    "plt.show()"
   ]
  },
  {
   "cell_type": "code",
   "execution_count": 41,
   "metadata": {},
   "outputs": [],
   "source": [
    "tweets = ta_df['clean_tweet_wt_stem']"
   ]
  },
  {
   "cell_type": "code",
   "execution_count": 42,
   "metadata": {},
   "outputs": [],
   "source": [
    "tweet_negative = ta_df[ta_df['sentiment']==0]\n",
    "tweet_positive = ta_df[ta_df['sentiment']==1]"
   ]
  },
  {
   "cell_type": "code",
   "execution_count": 43,
   "metadata": {},
   "outputs": [],
   "source": [
    "def create_wordcloud(text):\n",
    " mask = np.array(Image.open('tu.png'))\n",
    " #stopwords = set(STOPWORDS)\n",
    " wc_pos_text = ' '.join([text for text in tweet_positive])\n",
    "\n",
    " wc_pos = WordCloud(background_color='white',\n",
    " mask = mask, width=800, height=500, random_state=21, \n",
    "                      max_font_size=110).generate(wc_pos_text)\n",
    "\n",
    "    \n",
    " wc_pos.to_file('wc.png')\n",
    "\n",
    " print('Word Cloud Saved Successfully')\n",
    " path = 'wc.png'\n",
    " display(Image.open(path))"
   ]
  },
  {
   "cell_type": "code",
   "execution_count": 44,
   "metadata": {},
   "outputs": [
    {
     "name": "stdout",
     "output_type": "stream",
     "text": [
      "Word Cloud Saved Successfully\n"
     ]
    },
    {
     "data": {
      "image/png": "[encoded data removed]",
      "text/plain": [
       "<PIL.PngImagePlugin.PngImageFile image mode=RGB size=480x480>"
      ]
     },
     "metadata": {},
     "output_type": "display_data"
    }
   ],
   "source": [
    " create_wordcloud(tweets)"
   ]
  },
  {
   "cell_type": "code",
   "execution_count": null,
   "metadata": {},
   "outputs": [],
   "source": [
    "# Need to fix the above"
   ]
  },
  {
   "cell_type": "code",
   "execution_count": null,
   "metadata": {},
   "outputs": [],
   "source": []
  },
  {
   "cell_type": "code",
   "execution_count": null,
   "metadata": {},
   "outputs": [],
   "source": []
  },
  {
   "cell_type": "code",
   "execution_count": null,
   "metadata": {},
   "outputs": [],
   "source": []
  },
  {
   "cell_type": "code",
   "execution_count": null,
   "metadata": {},
   "outputs": [],
   "source": []
  },
  {
   "cell_type": "markdown",
   "metadata": {},
   "source": [
    "### Split Data "
   ]
  },
  {
   "cell_type": "code",
   "execution_count": 57,
   "metadata": {},
   "outputs": [],
   "source": [
    "X = ta_df['clean_tweet'][:50000]\n",
    "\n",
    "y = ta_df['sentiment'][:50000]"
   ]
  },
  {
   "cell_type": "code",
   "execution_count": 58,
   "metadata": {},
   "outputs": [
    {
     "data": {
      "text/plain": [
       "[0, 1]"
      ]
     },
     "execution_count": 58,
     "metadata": {},
     "output_type": "execute_result"
    }
   ],
   "source": [
    "list(set(ta_df['sentiment']))"
   ]
  },
  {
   "cell_type": "code",
   "execution_count": 59,
   "metadata": {},
   "outputs": [
    {
     "data": {
      "text/plain": [
       "541200    0\n",
       "750       0\n",
       "766711    0\n",
       "285055    0\n",
       "705995    0\n",
       "         ..\n",
       "199266    0\n",
       "210814    0\n",
       "180674    0\n",
       "364859    0\n",
       "172400    0\n",
       "Name: sentiment, Length: 50000, dtype: int64"
      ]
     },
     "execution_count": 59,
     "metadata": {},
     "output_type": "execute_result"
    }
   ],
   "source": [
    "y"
   ]
  },
  {
   "cell_type": "code",
   "execution_count": 60,
   "metadata": {},
   "outputs": [
    {
     "data": {
      "text/plain": [
       "1    100143\n",
       "0     99857\n",
       "Name: sentiment, dtype: int64"
      ]
     },
     "execution_count": 60,
     "metadata": {},
     "output_type": "execute_result"
    }
   ],
   "source": [
    "ta_df['sentiment'].value_counts()"
   ]
  },
  {
   "cell_type": "code",
   "execution_count": 61,
   "metadata": {},
   "outputs": [],
   "source": [
    "X_train, X_test, y_train, y_test = train_test_split(X, y, test_size = 0.25, random_state = 43)"
   ]
  },
  {
   "cell_type": "code",
   "execution_count": 62,
   "metadata": {},
   "outputs": [
    {
     "name": "stdout",
     "output_type": "stream",
     "text": [
      "(37500,) (37500,)\n",
      "(12500,) (12500,)\n"
     ]
    }
   ],
   "source": [
    "# Checking shape of train and test data\n",
    "\n",
    "print(X_train.shape, y_train.shape) \n",
    "\n",
    "print(X_test.shape , y_test.shape) \n"
   ]
  },
  {
   "cell_type": "code",
   "execution_count": 63,
   "metadata": {},
   "outputs": [],
   "source": [
    "### Visulization"
   ]
  },
  {
   "cell_type": "markdown",
   "metadata": {},
   "source": [
    "### TF-IDF"
   ]
  },
  {
   "cell_type": "code",
   "execution_count": 64,
   "metadata": {},
   "outputs": [],
   "source": [
    "vectoriser_tfidf = TfidfVectorizer()"
   ]
  },
  {
   "cell_type": "code",
   "execution_count": 65,
   "metadata": {},
   "outputs": [
    {
     "name": "stdout",
     "output_type": "stream",
     "text": [
      "Number of feature words: 24729\n"
     ]
    },
    {
     "name": "stderr",
     "output_type": "stream",
     "text": [
      "C:\\Users\\avitr\\anaconda3\\lib\\site-packages\\sklearn\\utils\\deprecation.py:87: FutureWarning: Function get_feature_names is deprecated; get_feature_names is deprecated in 1.0 and will be removed in 1.2. Please use get_feature_names_out instead.\n",
      "  warnings.warn(msg, category=FutureWarning)\n"
     ]
    }
   ],
   "source": [
    "vectoriser_tfidf.fit(X_train)\n",
    "\n",
    "print('Number of feature words:', len(vectoriser_tfidf.get_feature_names()))"
   ]
  },
  {
   "cell_type": "code",
   "execution_count": 66,
   "metadata": {},
   "outputs": [],
   "source": [
    "X_train_tfidf = vectoriser_tfidf.transform(X_train)\n",
    "X_test_tfidf  = vectoriser_tfidf.transform(X_test)"
   ]
  },
  {
   "cell_type": "markdown",
   "metadata": {},
   "source": []
  },
  {
   "cell_type": "code",
   "execution_count": 67,
   "metadata": {},
   "outputs": [],
   "source": [
    "# print(X_train_tfidf.toarray())"
   ]
  },
  {
   "cell_type": "code",
   "execution_count": 68,
   "metadata": {},
   "outputs": [
    {
     "data": {
      "text/plain": [
       "253560.97762012482"
      ]
     },
     "execution_count": 68,
     "metadata": {},
     "output_type": "execute_result"
    }
   ],
   "source": [
    "1199859*221591/1024/1024"
   ]
  },
  {
   "cell_type": "markdown",
   "metadata": {},
   "source": [
    "#### CountVectorizer"
   ]
  },
  {
   "cell_type": "code",
   "execution_count": 69,
   "metadata": {},
   "outputs": [
    {
     "data": {
      "text/html": [
       "<style>#sk-container-id-2 {color: black;background-color: white;}#sk-container-id-2 pre{padding: 0;}#sk-container-id-2 div.sk-toggleable {background-color: white;}#sk-container-id-2 label.sk-toggleable__label {cursor: pointer;display: block;width: 100%;margin-bottom: 0;padding: 0.3em;box-sizing: border-box;text-align: center;}#sk-container-id-2 label.sk-toggleable__label-arrow:before {content: \"▸\";float: left;margin-right: 0.25em;color: #696969;}#sk-container-id-2 label.sk-toggleable__label-arrow:hover:before {color: black;}#sk-container-id-2 div.sk-estimator:hover label.sk-toggleable__label-arrow:before {color: black;}#sk-container-id-2 div.sk-toggleable__content {max-height: 0;max-width: 0;overflow: hidden;text-align: left;background-color: #f0f8ff;}#sk-container-id-2 div.sk-toggleable__content pre {margin: 0.2em;color: black;border-radius: 0.25em;background-color: #f0f8ff;}#sk-container-id-2 input.sk-toggleable__control:checked~div.sk-toggleable__content {max-height: 200px;max-width: 100%;overflow: auto;}#sk-container-id-2 input.sk-toggleable__control:checked~label.sk-toggleable__label-arrow:before {content: \"▾\";}#sk-container-id-2 div.sk-estimator input.sk-toggleable__control:checked~label.sk-toggleable__label {background-color: #d4ebff;}#sk-container-id-2 div.sk-label input.sk-toggleable__control:checked~label.sk-toggleable__label {background-color: #d4ebff;}#sk-container-id-2 input.sk-hidden--visually {border: 0;clip: rect(1px 1px 1px 1px);clip: rect(1px, 1px, 1px, 1px);height: 1px;margin: -1px;overflow: hidden;padding: 0;position: absolute;width: 1px;}#sk-container-id-2 div.sk-estimator {font-family: monospace;background-color: #f0f8ff;border: 1px dotted black;border-radius: 0.25em;box-sizing: border-box;margin-bottom: 0.5em;}#sk-container-id-2 div.sk-estimator:hover {background-color: #d4ebff;}#sk-container-id-2 div.sk-parallel-item::after {content: \"\";width: 100%;border-bottom: 1px solid gray;flex-grow: 1;}#sk-container-id-2 div.sk-label:hover label.sk-toggleable__label {background-color: #d4ebff;}#sk-container-id-2 div.sk-serial::before {content: \"\";position: absolute;border-left: 1px solid gray;box-sizing: border-box;top: 0;bottom: 0;left: 50%;z-index: 0;}#sk-container-id-2 div.sk-serial {display: flex;flex-direction: column;align-items: center;background-color: white;padding-right: 0.2em;padding-left: 0.2em;position: relative;}#sk-container-id-2 div.sk-item {position: relative;z-index: 1;}#sk-container-id-2 div.sk-parallel {display: flex;align-items: stretch;justify-content: center;background-color: white;position: relative;}#sk-container-id-2 div.sk-item::before, #sk-container-id-2 div.sk-parallel-item::before {content: \"\";position: absolute;border-left: 1px solid gray;box-sizing: border-box;top: 0;bottom: 0;left: 50%;z-index: -1;}#sk-container-id-2 div.sk-parallel-item {display: flex;flex-direction: column;z-index: 1;position: relative;background-color: white;}#sk-container-id-2 div.sk-parallel-item:first-child::after {align-self: flex-end;width: 50%;}#sk-container-id-2 div.sk-parallel-item:last-child::after {align-self: flex-start;width: 50%;}#sk-container-id-2 div.sk-parallel-item:only-child::after {width: 0;}#sk-container-id-2 div.sk-dashed-wrapped {border: 1px dashed gray;margin: 0 0.4em 0.5em 0.4em;box-sizing: border-box;padding-bottom: 0.4em;background-color: white;}#sk-container-id-2 div.sk-label label {font-family: monospace;font-weight: bold;display: inline-block;line-height: 1.2em;}#sk-container-id-2 div.sk-label-container {text-align: center;}#sk-container-id-2 div.sk-container {/* jupyter's `normalize.less` sets `[hidden] { display: none; }` but bootstrap.min.css set `[hidden] { display: none !important; }` so we also need the `!important` here to be able to override the default hidden behavior on the sphinx rendered scikit-learn.org. See: https://github.com/scikit-learn/scikit-learn/issues/21755 */display: inline-block !important;position: relative;}#sk-container-id-2 div.sk-text-repr-fallback {display: none;}</style><div id=\"sk-container-id-2\" class=\"sk-top-container\"><div class=\"sk-text-repr-fallback\"><pre>CountVectorizer()</pre><b>In a Jupyter environment, please rerun this cell to show the HTML representation or trust the notebook. <br />On GitHub, the HTML representation is unable to render, please try loading this page with nbviewer.org.</b></div><div class=\"sk-container\" hidden><div class=\"sk-item\"><div class=\"sk-estimator sk-toggleable\"><input class=\"sk-toggleable__control sk-hidden--visually\" id=\"sk-estimator-id-2\" type=\"checkbox\" checked><label for=\"sk-estimator-id-2\" class=\"sk-toggleable__label sk-toggleable__label-arrow\">CountVectorizer</label><div class=\"sk-toggleable__content\"><pre>CountVectorizer()</pre></div></div></div></div></div>"
      ],
      "text/plain": [
       "CountVectorizer()"
      ]
     },
     "execution_count": 69,
     "metadata": {},
     "output_type": "execute_result"
    }
   ],
   "source": [
    "vectorizer_vc = CountVectorizer()\n",
    "vectorizer_vc.fit(X_train)"
   ]
  },
  {
   "cell_type": "code",
   "execution_count": 70,
   "metadata": {},
   "outputs": [],
   "source": [
    "X_train_vc = vectorizer_vc.transform(X_train)\n",
    "X_test_vc  = vectorizer_vc.transform(X_test)"
   ]
  },
  {
   "cell_type": "markdown",
   "metadata": {},
   "source": [
    "# Classification Model"
   ]
  },
  {
   "cell_type": "code",
   "execution_count": 71,
   "metadata": {},
   "outputs": [],
   "source": [
    "clf = RandomForestClassifier(random_state=42,n_jobs=-1)"
   ]
  },
  {
   "cell_type": "code",
   "execution_count": 72,
   "metadata": {},
   "outputs": [
    {
     "data": {
      "text/html": [
       "<style>#sk-container-id-3 {color: black;background-color: white;}#sk-container-id-3 pre{padding: 0;}#sk-container-id-3 div.sk-toggleable {background-color: white;}#sk-container-id-3 label.sk-toggleable__label {cursor: pointer;display: block;width: 100%;margin-bottom: 0;padding: 0.3em;box-sizing: border-box;text-align: center;}#sk-container-id-3 label.sk-toggleable__label-arrow:before {content: \"▸\";float: left;margin-right: 0.25em;color: #696969;}#sk-container-id-3 label.sk-toggleable__label-arrow:hover:before {color: black;}#sk-container-id-3 div.sk-estimator:hover label.sk-toggleable__label-arrow:before {color: black;}#sk-container-id-3 div.sk-toggleable__content {max-height: 0;max-width: 0;overflow: hidden;text-align: left;background-color: #f0f8ff;}#sk-container-id-3 div.sk-toggleable__content pre {margin: 0.2em;color: black;border-radius: 0.25em;background-color: #f0f8ff;}#sk-container-id-3 input.sk-toggleable__control:checked~div.sk-toggleable__content {max-height: 200px;max-width: 100%;overflow: auto;}#sk-container-id-3 input.sk-toggleable__control:checked~label.sk-toggleable__label-arrow:before {content: \"▾\";}#sk-container-id-3 div.sk-estimator input.sk-toggleable__control:checked~label.sk-toggleable__label {background-color: #d4ebff;}#sk-container-id-3 div.sk-label input.sk-toggleable__control:checked~label.sk-toggleable__label {background-color: #d4ebff;}#sk-container-id-3 input.sk-hidden--visually {border: 0;clip: rect(1px 1px 1px 1px);clip: rect(1px, 1px, 1px, 1px);height: 1px;margin: -1px;overflow: hidden;padding: 0;position: absolute;width: 1px;}#sk-container-id-3 div.sk-estimator {font-family: monospace;background-color: #f0f8ff;border: 1px dotted black;border-radius: 0.25em;box-sizing: border-box;margin-bottom: 0.5em;}#sk-container-id-3 div.sk-estimator:hover {background-color: #d4ebff;}#sk-container-id-3 div.sk-parallel-item::after {content: \"\";width: 100%;border-bottom: 1px solid gray;flex-grow: 1;}#sk-container-id-3 div.sk-label:hover label.sk-toggleable__label {background-color: #d4ebff;}#sk-container-id-3 div.sk-serial::before {content: \"\";position: absolute;border-left: 1px solid gray;box-sizing: border-box;top: 0;bottom: 0;left: 50%;z-index: 0;}#sk-container-id-3 div.sk-serial {display: flex;flex-direction: column;align-items: center;background-color: white;padding-right: 0.2em;padding-left: 0.2em;position: relative;}#sk-container-id-3 div.sk-item {position: relative;z-index: 1;}#sk-container-id-3 div.sk-parallel {display: flex;align-items: stretch;justify-content: center;background-color: white;position: relative;}#sk-container-id-3 div.sk-item::before, #sk-container-id-3 div.sk-parallel-item::before {content: \"\";position: absolute;border-left: 1px solid gray;box-sizing: border-box;top: 0;bottom: 0;left: 50%;z-index: -1;}#sk-container-id-3 div.sk-parallel-item {display: flex;flex-direction: column;z-index: 1;position: relative;background-color: white;}#sk-container-id-3 div.sk-parallel-item:first-child::after {align-self: flex-end;width: 50%;}#sk-container-id-3 div.sk-parallel-item:last-child::after {align-self: flex-start;width: 50%;}#sk-container-id-3 div.sk-parallel-item:only-child::after {width: 0;}#sk-container-id-3 div.sk-dashed-wrapped {border: 1px dashed gray;margin: 0 0.4em 0.5em 0.4em;box-sizing: border-box;padding-bottom: 0.4em;background-color: white;}#sk-container-id-3 div.sk-label label {font-family: monospace;font-weight: bold;display: inline-block;line-height: 1.2em;}#sk-container-id-3 div.sk-label-container {text-align: center;}#sk-container-id-3 div.sk-container {/* jupyter's `normalize.less` sets `[hidden] { display: none; }` but bootstrap.min.css set `[hidden] { display: none !important; }` so we also need the `!important` here to be able to override the default hidden behavior on the sphinx rendered scikit-learn.org. See: https://github.com/scikit-learn/scikit-learn/issues/21755 */display: inline-block !important;position: relative;}#sk-container-id-3 div.sk-text-repr-fallback {display: none;}</style><div id=\"sk-container-id-3\" class=\"sk-top-container\"><div class=\"sk-text-repr-fallback\"><pre>RandomForestClassifier(n_jobs=-1, random_state=42)</pre><b>In a Jupyter environment, please rerun this cell to show the HTML representation or trust the notebook. <br />On GitHub, the HTML representation is unable to render, please try loading this page with nbviewer.org.</b></div><div class=\"sk-container\" hidden><div class=\"sk-item\"><div class=\"sk-estimator sk-toggleable\"><input class=\"sk-toggleable__control sk-hidden--visually\" id=\"sk-estimator-id-3\" type=\"checkbox\" checked><label for=\"sk-estimator-id-3\" class=\"sk-toggleable__label sk-toggleable__label-arrow\">RandomForestClassifier</label><div class=\"sk-toggleable__content\"><pre>RandomForestClassifier(n_jobs=-1, random_state=42)</pre></div></div></div></div></div>"
      ],
      "text/plain": [
       "RandomForestClassifier(n_jobs=-1, random_state=42)"
      ]
     },
     "execution_count": 72,
     "metadata": {},
     "output_type": "execute_result"
    }
   ],
   "source": [
    "clf.fit(X_train_tfidf,y_train)"
   ]
  },
  {
   "cell_type": "code",
   "execution_count": 73,
   "metadata": {},
   "outputs": [],
   "source": [
    "y_pred = clf.predict(X_test_tfidf)"
   ]
  },
  {
   "cell_type": "code",
   "execution_count": 74,
   "metadata": {},
   "outputs": [
    {
     "name": "stdout",
     "output_type": "stream",
     "text": [
      "              precision    recall  f1-score   support\n",
      "\n",
      "           0       0.75      0.74      0.74      6320\n",
      "           1       0.74      0.75      0.74      6180\n",
      "\n",
      "    accuracy                           0.74     12500\n",
      "   macro avg       0.74      0.74      0.74     12500\n",
      "weighted avg       0.74      0.74      0.74     12500\n",
      "\n"
     ]
    }
   ],
   "source": [
    "print(classification_report(y_test,y_pred))"
   ]
  },
  {
   "cell_type": "code",
   "execution_count": null,
   "metadata": {},
   "outputs": [],
   "source": [
    "STOP"
   ]
  },
  {
   "cell_type": "markdown",
   "metadata": {},
   "source": [
    "## Word Embedding using Word2Vec"
   ]
  },
  {
   "cell_type": "code",
   "execution_count": 79,
   "metadata": {},
   "outputs": [],
   "source": [
    "# sent = [row.split(',') for row in X_train]\n",
    "# sent[:2]"
   ]
  },
  {
   "cell_type": "code",
   "execution_count": 80,
   "metadata": {},
   "outputs": [],
   "source": [
    "# model = Word2Vec(sent, min_count=1,workers=3, window =3, sg = 1)"
   ]
  },
  {
   "cell_type": "code",
   "execution_count": 81,
   "metadata": {},
   "outputs": [],
   "source": [
    "# import Word2Vec\n",
    "from gensim.models import Word2Vec"
   ]
  },
  {
   "cell_type": "code",
   "execution_count": 89,
   "metadata": {},
   "outputs": [
    {
     "data": {
      "application/vnd.jupyter.widget-view+json": {
       "model_id": "1e2c8c761f1f4b0ab17a21483a63565f",
       "version_major": 2,
       "version_minor": 0
      },
      "text/plain": [
       "  0%|          | 0/50000 [00:00<?, ?it/s]"
      ]
     },
     "metadata": {},
     "output_type": "display_data"
    }
   ],
   "source": [
    "corpus = X.progress_apply(lambda line:line.split())"
   ]
  },
  {
   "cell_type": "code",
   "execution_count": 90,
   "metadata": {},
   "outputs": [
    {
     "data": {
      "text/plain": [
       "541200                                      [ahh, hope, ok]\n",
       "750                             [cool, tweet, app, razr, 2]\n",
       "766711    [know, famili, drama, lame, hey, next, time, u...\n",
       "285055    [school, email, open, geographi, stuff, revis,...\n",
       "705995                             [upper, airway, problem]\n",
       "                                ...                        \n",
       "199266                    [way, home, tire, wanna, babysit]\n",
       "210814    [well, ten, sneez, row, allergi, make, day, ea...\n",
       "180674           [go, tonight, car, act, funni, wat, shall]\n",
       "364859                                           [headache]\n",
       "172400                             [guy, come, fuck, freez]\n",
       "Name: clean_tweet, Length: 50000, dtype: object"
      ]
     },
     "execution_count": 90,
     "metadata": {},
     "output_type": "execute_result"
    }
   ],
   "source": [
    "corpus"
   ]
  },
  {
   "cell_type": "code",
   "execution_count": 91,
   "metadata": {},
   "outputs": [],
   "source": [
    "# Train Word2Vec Model on corpus\n",
    "model = Word2Vec(corpus, \n",
    "                 min_count=1,          # word frequency\n",
    "                 vector_size=200,      # dimention of word embeddings\n",
    "                 workers=os.cpu_count(),            # Number of processors\n",
    "                 sg=1                  # 1 for skip-gram\n",
    "                ) "
   ]
  },
  {
   "cell_type": "code",
   "execution_count": 95,
   "metadata": {},
   "outputs": [],
   "source": [
    "# model.wv['hi']"
   ]
  },
  {
   "cell_type": "code",
   "execution_count": 99,
   "metadata": {},
   "outputs": [],
   "source": [
    "# model.wv.get_vector('2')"
   ]
  },
  {
   "cell_type": "code",
   "execution_count": 100,
   "metadata": {},
   "outputs": [
    {
     "data": {
      "application/vnd.jupyter.widget-view+json": {
       "model_id": "cc57b9e3df6c4d5b877c1c85ba28b9bc",
       "version_major": 2,
       "version_minor": 0
      },
      "text/plain": [
       "  0%|          | 0/200000 [00:00<?, ?it/s]"
      ]
     },
     "metadata": {},
     "output_type": "display_data"
    }
   ],
   "source": [
    "ta_df['tokens'] = ta_df['clean_tweet'].progress_apply(lambda line:line.split())"
   ]
  },
  {
   "cell_type": "code",
   "execution_count": 106,
   "metadata": {},
   "outputs": [
    {
     "data": {
      "text/html": [
       "<div>\n",
       "<style scoped>\n",
       "    .dataframe tbody tr th:only-of-type {\n",
       "        vertical-align: middle;\n",
       "    }\n",
       "\n",
       "    .dataframe tbody tr th {\n",
       "        vertical-align: top;\n",
       "    }\n",
       "\n",
       "    .dataframe thead th {\n",
       "        text-align: right;\n",
       "    }\n",
       "</style>\n",
       "<table border=\"1\" class=\"dataframe\">\n",
       "  <thead>\n",
       "    <tr style=\"text-align: right;\">\n",
       "      <th></th>\n",
       "      <th>sentiment</th>\n",
       "      <th>ids</th>\n",
       "      <th>date</th>\n",
       "      <th>flag</th>\n",
       "      <th>user</th>\n",
       "      <th>tweet</th>\n",
       "      <th>clean_tweet</th>\n",
       "      <th>clean_tweet_wt_stem</th>\n",
       "      <th>tokens</th>\n",
       "    </tr>\n",
       "  </thead>\n",
       "  <tbody>\n",
       "    <tr>\n",
       "      <th>541200</th>\n",
       "      <td>0</td>\n",
       "      <td>2200003196</td>\n",
       "      <td>Tue Jun 16 18:18:12 PDT 2009</td>\n",
       "      <td>NO_QUERY</td>\n",
       "      <td>LaLaLindsey0609</td>\n",
       "      <td>@chrishasboobs AHHH I HOPE YOUR OK!!!</td>\n",
       "      <td>ahh hope ok</td>\n",
       "      <td>ahh hope ok</td>\n",
       "      <td>[ahh, hope, ok]</td>\n",
       "    </tr>\n",
       "    <tr>\n",
       "      <th>750</th>\n",
       "      <td>0</td>\n",
       "      <td>1467998485</td>\n",
       "      <td>Mon Apr 06 23:11:14 PDT 2009</td>\n",
       "      <td>NO_QUERY</td>\n",
       "      <td>sexygrneyes</td>\n",
       "      <td>@misstoriblack cool , i have no tweet apps  fo...</td>\n",
       "      <td>cool tweet app razr 2</td>\n",
       "      <td>cool tweet apps razr 2</td>\n",
       "      <td>[cool, tweet, app, razr, 2]</td>\n",
       "    </tr>\n",
       "    <tr>\n",
       "      <th>766711</th>\n",
       "      <td>0</td>\n",
       "      <td>2300048954</td>\n",
       "      <td>Tue Jun 23 13:40:11 PDT 2009</td>\n",
       "      <td>NO_QUERY</td>\n",
       "      <td>sammydearr</td>\n",
       "      <td>@TiannaChaos i know  just family drama. its la...</td>\n",
       "      <td>know famili drama lame hey next time u hang ki...</td>\n",
       "      <td>know family drama lame hey next time u hang ki...</td>\n",
       "      <td>[know, famili, drama, lame, hey, next, time, u...</td>\n",
       "    </tr>\n",
       "    <tr>\n",
       "      <th>285055</th>\n",
       "      <td>0</td>\n",
       "      <td>1993474027</td>\n",
       "      <td>Mon Jun 01 10:26:07 PDT 2009</td>\n",
       "      <td>NO_QUERY</td>\n",
       "      <td>Lamb_Leanne</td>\n",
       "      <td>School email won't open  and I have geography ...</td>\n",
       "      <td>school email open geographi stuff revis stupid...</td>\n",
       "      <td>school email open geography stuff revise stupi...</td>\n",
       "      <td>[school, email, open, geographi, stuff, revis,...</td>\n",
       "    </tr>\n",
       "    <tr>\n",
       "      <th>705995</th>\n",
       "      <td>0</td>\n",
       "      <td>2256550904</td>\n",
       "      <td>Sat Jun 20 12:56:51 PDT 2009</td>\n",
       "      <td>NO_QUERY</td>\n",
       "      <td>yogicerdito</td>\n",
       "      <td>upper airways problem</td>\n",
       "      <td>upper airway problem</td>\n",
       "      <td>upper airways problem</td>\n",
       "      <td>[upper, airway, problem]</td>\n",
       "    </tr>\n",
       "    <tr>\n",
       "      <th>...</th>\n",
       "      <td>...</td>\n",
       "      <td>...</td>\n",
       "      <td>...</td>\n",
       "      <td>...</td>\n",
       "      <td>...</td>\n",
       "      <td>...</td>\n",
       "      <td>...</td>\n",
       "      <td>...</td>\n",
       "      <td>...</td>\n",
       "    </tr>\n",
       "    <tr>\n",
       "      <th>1369799</th>\n",
       "      <td>1</td>\n",
       "      <td>2050886849</td>\n",
       "      <td>Fri Jun 05 19:28:21 PDT 2009</td>\n",
       "      <td>NO_QUERY</td>\n",
       "      <td>jacobdesmit</td>\n",
       "      <td>@pauseven not that pool. but i will indeed hav...</td>\n",
       "      <td>pool inde go sometim hussl biker whatnot know ...</td>\n",
       "      <td>pool indeed go sometime hussle bikers whatnot ...</td>\n",
       "      <td>[pool, inde, go, sometim, hussl, biker, whatno...</td>\n",
       "    </tr>\n",
       "    <tr>\n",
       "      <th>43554</th>\n",
       "      <td>0</td>\n",
       "      <td>1676557139</td>\n",
       "      <td>Fri May 01 22:24:35 PDT 2009</td>\n",
       "      <td>NO_QUERY</td>\n",
       "      <td>_free_fall_</td>\n",
       "      <td>@gerardway</td>\n",
       "      <td></td>\n",
       "      <td></td>\n",
       "      <td>[]</td>\n",
       "    </tr>\n",
       "    <tr>\n",
       "      <th>559176</th>\n",
       "      <td>0</td>\n",
       "      <td>2204916250</td>\n",
       "      <td>Wed Jun 17 03:28:29 PDT 2009</td>\n",
       "      <td>NO_QUERY</td>\n",
       "      <td>FrancescaDVC</td>\n",
       "      <td>so ragin its rainin out  rain rain go away</td>\n",
       "      <td>ragin rainin rain rain go away</td>\n",
       "      <td>ragin rainin rain rain go away</td>\n",
       "      <td>[ragin, rainin, rain, rain, go, away]</td>\n",
       "    </tr>\n",
       "    <tr>\n",
       "      <th>1287524</th>\n",
       "      <td>1</td>\n",
       "      <td>2002375219</td>\n",
       "      <td>Tue Jun 02 04:01:39 PDT 2009</td>\n",
       "      <td>NO_QUERY</td>\n",
       "      <td>mathaba_forum</td>\n",
       "      <td>@dwaynekerr great one</td>\n",
       "      <td>great one</td>\n",
       "      <td>great one</td>\n",
       "      <td>[great, one]</td>\n",
       "    </tr>\n",
       "    <tr>\n",
       "      <th>941392</th>\n",
       "      <td>1</td>\n",
       "      <td>1794227008</td>\n",
       "      <td>Thu May 14 05:17:50 PDT 2009</td>\n",
       "      <td>NO_QUERY</td>\n",
       "      <td>Behindthecouch</td>\n",
       "      <td>@fromthesamesky very kind of you thanks - was ...</td>\n",
       "      <td>kind thank fine intens alway</td>\n",
       "      <td>kind thanks fine intense always</td>\n",
       "      <td>[kind, thank, fine, intens, alway]</td>\n",
       "    </tr>\n",
       "  </tbody>\n",
       "</table>\n",
       "<p>200000 rows × 9 columns</p>\n",
       "</div>"
      ],
      "text/plain": [
       "         sentiment         ids                          date      flag  \\\n",
       "541200           0  2200003196  Tue Jun 16 18:18:12 PDT 2009  NO_QUERY   \n",
       "750              0  1467998485  Mon Apr 06 23:11:14 PDT 2009  NO_QUERY   \n",
       "766711           0  2300048954  Tue Jun 23 13:40:11 PDT 2009  NO_QUERY   \n",
       "285055           0  1993474027  Mon Jun 01 10:26:07 PDT 2009  NO_QUERY   \n",
       "705995           0  2256550904  Sat Jun 20 12:56:51 PDT 2009  NO_QUERY   \n",
       "...            ...         ...                           ...       ...   \n",
       "1369799          1  2050886849  Fri Jun 05 19:28:21 PDT 2009  NO_QUERY   \n",
       "43554            0  1676557139  Fri May 01 22:24:35 PDT 2009  NO_QUERY   \n",
       "559176           0  2204916250  Wed Jun 17 03:28:29 PDT 2009  NO_QUERY   \n",
       "1287524          1  2002375219  Tue Jun 02 04:01:39 PDT 2009  NO_QUERY   \n",
       "941392           1  1794227008  Thu May 14 05:17:50 PDT 2009  NO_QUERY   \n",
       "\n",
       "                    user                                              tweet  \\\n",
       "541200   LaLaLindsey0609             @chrishasboobs AHHH I HOPE YOUR OK!!!    \n",
       "750          sexygrneyes  @misstoriblack cool , i have no tweet apps  fo...   \n",
       "766711        sammydearr  @TiannaChaos i know  just family drama. its la...   \n",
       "285055       Lamb_Leanne  School email won't open  and I have geography ...   \n",
       "705995       yogicerdito                             upper airways problem    \n",
       "...                  ...                                                ...   \n",
       "1369799      jacobdesmit  @pauseven not that pool. but i will indeed hav...   \n",
       "43554        _free_fall_                                        @gerardway    \n",
       "559176      FrancescaDVC         so ragin its rainin out  rain rain go away   \n",
       "1287524    mathaba_forum                             @dwaynekerr great one    \n",
       "941392    Behindthecouch  @fromthesamesky very kind of you thanks - was ...   \n",
       "\n",
       "                                               clean_tweet  \\\n",
       "541200                                         ahh hope ok   \n",
       "750                                  cool tweet app razr 2   \n",
       "766711   know famili drama lame hey next time u hang ki...   \n",
       "285055   school email open geographi stuff revis stupid...   \n",
       "705995                                upper airway problem   \n",
       "...                                                    ...   \n",
       "1369799  pool inde go sometim hussl biker whatnot know ...   \n",
       "43554                                                        \n",
       "559176                      ragin rainin rain rain go away   \n",
       "1287524                                          great one   \n",
       "941392                        kind thank fine intens alway   \n",
       "\n",
       "                                       clean_tweet_wt_stem  \\\n",
       "541200                                         ahh hope ok   \n",
       "750                                 cool tweet apps razr 2   \n",
       "766711   know family drama lame hey next time u hang ki...   \n",
       "285055   school email open geography stuff revise stupi...   \n",
       "705995                               upper airways problem   \n",
       "...                                                    ...   \n",
       "1369799  pool indeed go sometime hussle bikers whatnot ...   \n",
       "43554                                                        \n",
       "559176                      ragin rainin rain rain go away   \n",
       "1287524                                          great one   \n",
       "941392                     kind thanks fine intense always   \n",
       "\n",
       "                                                    tokens  \n",
       "541200                                     [ahh, hope, ok]  \n",
       "750                            [cool, tweet, app, razr, 2]  \n",
       "766711   [know, famili, drama, lame, hey, next, time, u...  \n",
       "285055   [school, email, open, geographi, stuff, revis,...  \n",
       "705995                            [upper, airway, problem]  \n",
       "...                                                    ...  \n",
       "1369799  [pool, inde, go, sometim, hussl, biker, whatno...  \n",
       "43554                                                   []  \n",
       "559176               [ragin, rainin, rain, rain, go, away]  \n",
       "1287524                                       [great, one]  \n",
       "941392                  [kind, thank, fine, intens, alway]  \n",
       "\n",
       "[200000 rows x 9 columns]"
      ]
     },
     "execution_count": 106,
     "metadata": {},
     "output_type": "execute_result"
    }
   ],
   "source": [
    "ta_df"
   ]
  },
  {
   "cell_type": "code",
   "execution_count": 108,
   "metadata": {},
   "outputs": [],
   "source": [
    "ta_df = ta_df[ta_df['tokens'].apply(lambda line: True if len(line) else False)]"
   ]
  },
  {
   "cell_type": "code",
   "execution_count": 116,
   "metadata": {},
   "outputs": [
    {
     "data": {
      "text/html": [
       "<div>\n",
       "<style scoped>\n",
       "    .dataframe tbody tr th:only-of-type {\n",
       "        vertical-align: middle;\n",
       "    }\n",
       "\n",
       "    .dataframe tbody tr th {\n",
       "        vertical-align: top;\n",
       "    }\n",
       "\n",
       "    .dataframe thead th {\n",
       "        text-align: right;\n",
       "    }\n",
       "</style>\n",
       "<table border=\"1\" class=\"dataframe\">\n",
       "  <thead>\n",
       "    <tr style=\"text-align: right;\">\n",
       "      <th></th>\n",
       "      <th>sentiment</th>\n",
       "      <th>ids</th>\n",
       "      <th>date</th>\n",
       "      <th>flag</th>\n",
       "      <th>user</th>\n",
       "      <th>tweet</th>\n",
       "      <th>clean_tweet</th>\n",
       "      <th>clean_tweet_wt_stem</th>\n",
       "      <th>tokens</th>\n",
       "    </tr>\n",
       "  </thead>\n",
       "  <tbody>\n",
       "    <tr>\n",
       "      <th>541200</th>\n",
       "      <td>0</td>\n",
       "      <td>2200003196</td>\n",
       "      <td>Tue Jun 16 18:18:12 PDT 2009</td>\n",
       "      <td>NO_QUERY</td>\n",
       "      <td>LaLaLindsey0609</td>\n",
       "      <td>@chrishasboobs AHHH I HOPE YOUR OK!!!</td>\n",
       "      <td>ahh hope ok</td>\n",
       "      <td>ahh hope ok</td>\n",
       "      <td>[ahh, hope, ok]</td>\n",
       "    </tr>\n",
       "    <tr>\n",
       "      <th>750</th>\n",
       "      <td>0</td>\n",
       "      <td>1467998485</td>\n",
       "      <td>Mon Apr 06 23:11:14 PDT 2009</td>\n",
       "      <td>NO_QUERY</td>\n",
       "      <td>sexygrneyes</td>\n",
       "      <td>@misstoriblack cool , i have no tweet apps  fo...</td>\n",
       "      <td>cool tweet app razr 2</td>\n",
       "      <td>cool tweet apps razr 2</td>\n",
       "      <td>[cool, tweet, app, razr, 2]</td>\n",
       "    </tr>\n",
       "    <tr>\n",
       "      <th>766711</th>\n",
       "      <td>0</td>\n",
       "      <td>2300048954</td>\n",
       "      <td>Tue Jun 23 13:40:11 PDT 2009</td>\n",
       "      <td>NO_QUERY</td>\n",
       "      <td>sammydearr</td>\n",
       "      <td>@TiannaChaos i know  just family drama. its la...</td>\n",
       "      <td>know famili drama lame hey next time u hang ki...</td>\n",
       "      <td>know family drama lame hey next time u hang ki...</td>\n",
       "      <td>[know, famili, drama, lame, hey, next, time, u...</td>\n",
       "    </tr>\n",
       "    <tr>\n",
       "      <th>285055</th>\n",
       "      <td>0</td>\n",
       "      <td>1993474027</td>\n",
       "      <td>Mon Jun 01 10:26:07 PDT 2009</td>\n",
       "      <td>NO_QUERY</td>\n",
       "      <td>Lamb_Leanne</td>\n",
       "      <td>School email won't open  and I have geography ...</td>\n",
       "      <td>school email open geographi stuff revis stupid...</td>\n",
       "      <td>school email open geography stuff revise stupi...</td>\n",
       "      <td>[school, email, open, geographi, stuff, revis,...</td>\n",
       "    </tr>\n",
       "    <tr>\n",
       "      <th>705995</th>\n",
       "      <td>0</td>\n",
       "      <td>2256550904</td>\n",
       "      <td>Sat Jun 20 12:56:51 PDT 2009</td>\n",
       "      <td>NO_QUERY</td>\n",
       "      <td>yogicerdito</td>\n",
       "      <td>upper airways problem</td>\n",
       "      <td>upper airway problem</td>\n",
       "      <td>upper airways problem</td>\n",
       "      <td>[upper, airway, problem]</td>\n",
       "    </tr>\n",
       "    <tr>\n",
       "      <th>...</th>\n",
       "      <td>...</td>\n",
       "      <td>...</td>\n",
       "      <td>...</td>\n",
       "      <td>...</td>\n",
       "      <td>...</td>\n",
       "      <td>...</td>\n",
       "      <td>...</td>\n",
       "      <td>...</td>\n",
       "      <td>...</td>\n",
       "    </tr>\n",
       "    <tr>\n",
       "      <th>831245</th>\n",
       "      <td>1</td>\n",
       "      <td>1557414923</td>\n",
       "      <td>Sun Apr 19 03:58:39 PDT 2009</td>\n",
       "      <td>NO_QUERY</td>\n",
       "      <td>Kamilleiscute</td>\n",
       "      <td>twitter is cool,</td>\n",
       "      <td>twitter cool</td>\n",
       "      <td>twitter cool</td>\n",
       "      <td>[twitter, cool]</td>\n",
       "    </tr>\n",
       "    <tr>\n",
       "      <th>1369799</th>\n",
       "      <td>1</td>\n",
       "      <td>2050886849</td>\n",
       "      <td>Fri Jun 05 19:28:21 PDT 2009</td>\n",
       "      <td>NO_QUERY</td>\n",
       "      <td>jacobdesmit</td>\n",
       "      <td>@pauseven not that pool. but i will indeed hav...</td>\n",
       "      <td>pool inde go sometim hussl biker whatnot know ...</td>\n",
       "      <td>pool indeed go sometime hussle bikers whatnot ...</td>\n",
       "      <td>[pool, inde, go, sometim, hussl, biker, whatno...</td>\n",
       "    </tr>\n",
       "    <tr>\n",
       "      <th>559176</th>\n",
       "      <td>0</td>\n",
       "      <td>2204916250</td>\n",
       "      <td>Wed Jun 17 03:28:29 PDT 2009</td>\n",
       "      <td>NO_QUERY</td>\n",
       "      <td>FrancescaDVC</td>\n",
       "      <td>so ragin its rainin out  rain rain go away</td>\n",
       "      <td>ragin rainin rain rain go away</td>\n",
       "      <td>ragin rainin rain rain go away</td>\n",
       "      <td>[ragin, rainin, rain, rain, go, away]</td>\n",
       "    </tr>\n",
       "    <tr>\n",
       "      <th>1287524</th>\n",
       "      <td>1</td>\n",
       "      <td>2002375219</td>\n",
       "      <td>Tue Jun 02 04:01:39 PDT 2009</td>\n",
       "      <td>NO_QUERY</td>\n",
       "      <td>mathaba_forum</td>\n",
       "      <td>@dwaynekerr great one</td>\n",
       "      <td>great one</td>\n",
       "      <td>great one</td>\n",
       "      <td>[great, one]</td>\n",
       "    </tr>\n",
       "    <tr>\n",
       "      <th>941392</th>\n",
       "      <td>1</td>\n",
       "      <td>1794227008</td>\n",
       "      <td>Thu May 14 05:17:50 PDT 2009</td>\n",
       "      <td>NO_QUERY</td>\n",
       "      <td>Behindthecouch</td>\n",
       "      <td>@fromthesamesky very kind of you thanks - was ...</td>\n",
       "      <td>kind thank fine intens alway</td>\n",
       "      <td>kind thanks fine intense always</td>\n",
       "      <td>[kind, thank, fine, intens, alway]</td>\n",
       "    </tr>\n",
       "  </tbody>\n",
       "</table>\n",
       "<p>199002 rows × 9 columns</p>\n",
       "</div>"
      ],
      "text/plain": [
       "         sentiment         ids                          date      flag  \\\n",
       "541200           0  2200003196  Tue Jun 16 18:18:12 PDT 2009  NO_QUERY   \n",
       "750              0  1467998485  Mon Apr 06 23:11:14 PDT 2009  NO_QUERY   \n",
       "766711           0  2300048954  Tue Jun 23 13:40:11 PDT 2009  NO_QUERY   \n",
       "285055           0  1993474027  Mon Jun 01 10:26:07 PDT 2009  NO_QUERY   \n",
       "705995           0  2256550904  Sat Jun 20 12:56:51 PDT 2009  NO_QUERY   \n",
       "...            ...         ...                           ...       ...   \n",
       "831245           1  1557414923  Sun Apr 19 03:58:39 PDT 2009  NO_QUERY   \n",
       "1369799          1  2050886849  Fri Jun 05 19:28:21 PDT 2009  NO_QUERY   \n",
       "559176           0  2204916250  Wed Jun 17 03:28:29 PDT 2009  NO_QUERY   \n",
       "1287524          1  2002375219  Tue Jun 02 04:01:39 PDT 2009  NO_QUERY   \n",
       "941392           1  1794227008  Thu May 14 05:17:50 PDT 2009  NO_QUERY   \n",
       "\n",
       "                    user                                              tweet  \\\n",
       "541200   LaLaLindsey0609             @chrishasboobs AHHH I HOPE YOUR OK!!!    \n",
       "750          sexygrneyes  @misstoriblack cool , i have no tweet apps  fo...   \n",
       "766711        sammydearr  @TiannaChaos i know  just family drama. its la...   \n",
       "285055       Lamb_Leanne  School email won't open  and I have geography ...   \n",
       "705995       yogicerdito                             upper airways problem    \n",
       "...                  ...                                                ...   \n",
       "831245     Kamilleiscute                                  twitter is cool,    \n",
       "1369799      jacobdesmit  @pauseven not that pool. but i will indeed hav...   \n",
       "559176      FrancescaDVC         so ragin its rainin out  rain rain go away   \n",
       "1287524    mathaba_forum                             @dwaynekerr great one    \n",
       "941392    Behindthecouch  @fromthesamesky very kind of you thanks - was ...   \n",
       "\n",
       "                                               clean_tweet  \\\n",
       "541200                                         ahh hope ok   \n",
       "750                                  cool tweet app razr 2   \n",
       "766711   know famili drama lame hey next time u hang ki...   \n",
       "285055   school email open geographi stuff revis stupid...   \n",
       "705995                                upper airway problem   \n",
       "...                                                    ...   \n",
       "831245                                        twitter cool   \n",
       "1369799  pool inde go sometim hussl biker whatnot know ...   \n",
       "559176                      ragin rainin rain rain go away   \n",
       "1287524                                          great one   \n",
       "941392                        kind thank fine intens alway   \n",
       "\n",
       "                                       clean_tweet_wt_stem  \\\n",
       "541200                                         ahh hope ok   \n",
       "750                                 cool tweet apps razr 2   \n",
       "766711   know family drama lame hey next time u hang ki...   \n",
       "285055   school email open geography stuff revise stupi...   \n",
       "705995                               upper airways problem   \n",
       "...                                                    ...   \n",
       "831245                                        twitter cool   \n",
       "1369799  pool indeed go sometime hussle bikers whatnot ...   \n",
       "559176                      ragin rainin rain rain go away   \n",
       "1287524                                          great one   \n",
       "941392                     kind thanks fine intense always   \n",
       "\n",
       "                                                    tokens  \n",
       "541200                                     [ahh, hope, ok]  \n",
       "750                            [cool, tweet, app, razr, 2]  \n",
       "766711   [know, famili, drama, lame, hey, next, time, u...  \n",
       "285055   [school, email, open, geographi, stuff, revis,...  \n",
       "705995                            [upper, airway, problem]  \n",
       "...                                                    ...  \n",
       "831245                                     [twitter, cool]  \n",
       "1369799  [pool, inde, go, sometim, hussl, biker, whatno...  \n",
       "559176               [ragin, rainin, rain, rain, go, away]  \n",
       "1287524                                       [great, one]  \n",
       "941392                  [kind, thank, fine, intens, alway]  \n",
       "\n",
       "[199002 rows x 9 columns]"
      ]
     },
     "execution_count": 116,
     "metadata": {},
     "output_type": "execute_result"
    }
   ],
   "source": [
    "ta_df"
   ]
  },
  {
   "cell_type": "code",
   "execution_count": 156,
   "metadata": {},
   "outputs": [],
   "source": [
    "X_w2v = ta_df['tokens'][:50000]\n",
    "y_w2v = ta_df['sentiment'][:50000]"
   ]
  },
  {
   "cell_type": "code",
   "execution_count": 157,
   "metadata": {},
   "outputs": [
    {
     "data": {
      "text/plain": [
       "50000"
      ]
     },
     "execution_count": 157,
     "metadata": {},
     "output_type": "execute_result"
    }
   ],
   "source": [
    "len(X_w2v)"
   ]
  },
  {
   "cell_type": "code",
   "execution_count": 148,
   "metadata": {},
   "outputs": [],
   "source": [
    "import textdistance\n",
    "#  pip install textdistance"
   ]
  },
  {
   "cell_type": "code",
   "execution_count": 128,
   "metadata": {},
   "outputs": [],
   "source": [
    "# model.wv.get_vector('there')"
   ]
  },
  {
   "cell_type": "code",
   "execution_count": 158,
   "metadata": {},
   "outputs": [],
   "source": [
    "all_word2vec_vocab = set(model.wv.key_to_index)"
   ]
  },
  {
   "cell_type": "code",
   "execution_count": 159,
   "metadata": {},
   "outputs": [],
   "source": [
    "def get_embed(token_list):\n",
    "    n = len(token_list)\n",
    "    embed = np.zeros((200))\n",
    "    for token in token_list:\n",
    "        if token in all_word2vec_vocab:\n",
    "            embed = embed + model.wv.get_vector(token)\n",
    "        else:\n",
    "            temp = sorted([(textdistance.levenshtein.normalized_distance(e,token), e) for e in all_word2vec_vocab],reverse=False)[0][1]\n",
    "            embed = embed + model.wv.get_vector(temp)\n",
    "    return embed/n"
   ]
  },
  {
   "cell_type": "code",
   "execution_count": 160,
   "metadata": {},
   "outputs": [
    {
     "data": {
      "application/vnd.jupyter.widget-view+json": {
       "model_id": "775039f95b7d426bb8b0abdfb6ca6b33",
       "version_major": 2,
       "version_minor": 0
      },
      "text/plain": [
       "  0%|          | 0/50000 [00:00<?, ?it/s]"
      ]
     },
     "metadata": {},
     "output_type": "display_data"
    }
   ],
   "source": [
    "X_w2v_embed = X_w2v.progress_apply(get_embed)"
   ]
  },
  {
   "cell_type": "code",
   "execution_count": 161,
   "metadata": {},
   "outputs": [
    {
     "data": {
      "text/plain": [
       "541200     [0.10278388361136119, -0.06501682537297408, -0...\n",
       "750        [0.04574216566979885, 0.04331988357007503, -0....\n",
       "766711     [0.12932236373154937, -0.01454897701593214, -0...\n",
       "285055     [-0.06447455345187336, -0.009009952656924725, ...\n",
       "705995     [0.016104882583022118, 0.019366672650600474, -...\n",
       "                                 ...                        \n",
       "390641     [-0.09104106016457081, 0.14799158399303755, -0...\n",
       "780063     [0.06753416359424591, -0.019114730414003134, -...\n",
       "1490265    [-0.04870127265652021, 0.0874166755626599, -0....\n",
       "313463     [-0.20001821964979172, 0.09280530114968617, -0...\n",
       "1530789    [0.1754414918832481, -0.010292365499481093, -0...\n",
       "Name: tokens, Length: 50000, dtype: object"
      ]
     },
     "execution_count": 161,
     "metadata": {},
     "output_type": "execute_result"
    }
   ],
   "source": [
    "X_w2v_embed"
   ]
  },
  {
   "cell_type": "code",
   "execution_count": 133,
   "metadata": {},
   "outputs": [],
   "source": [
    "# get_embed(['hi','there'])"
   ]
  },
  {
   "cell_type": "code",
   "execution_count": 168,
   "metadata": {},
   "outputs": [],
   "source": [
    "df_new = pd.DataFrame(X_w2v_embed)"
   ]
  },
  {
   "cell_type": "code",
   "execution_count": 170,
   "metadata": {},
   "outputs": [],
   "source": [
    "df_new.reset_index(drop=True,inplace=True)"
   ]
  },
  {
   "cell_type": "code",
   "execution_count": 171,
   "metadata": {},
   "outputs": [
    {
     "data": {
      "text/html": [
       "<div>\n",
       "<style scoped>\n",
       "    .dataframe tbody tr th:only-of-type {\n",
       "        vertical-align: middle;\n",
       "    }\n",
       "\n",
       "    .dataframe tbody tr th {\n",
       "        vertical-align: top;\n",
       "    }\n",
       "\n",
       "    .dataframe thead th {\n",
       "        text-align: right;\n",
       "    }\n",
       "</style>\n",
       "<table border=\"1\" class=\"dataframe\">\n",
       "  <thead>\n",
       "    <tr style=\"text-align: right;\">\n",
       "      <th></th>\n",
       "      <th>tokens</th>\n",
       "    </tr>\n",
       "  </thead>\n",
       "  <tbody>\n",
       "    <tr>\n",
       "      <th>0</th>\n",
       "      <td>[0.10278388361136119, -0.06501682537297408, -0...</td>\n",
       "    </tr>\n",
       "    <tr>\n",
       "      <th>1</th>\n",
       "      <td>[0.04574216566979885, 0.04331988357007503, -0....</td>\n",
       "    </tr>\n",
       "    <tr>\n",
       "      <th>2</th>\n",
       "      <td>[0.12932236373154937, -0.01454897701593214, -0...</td>\n",
       "    </tr>\n",
       "    <tr>\n",
       "      <th>3</th>\n",
       "      <td>[-0.06447455345187336, -0.009009952656924725, ...</td>\n",
       "    </tr>\n",
       "    <tr>\n",
       "      <th>4</th>\n",
       "      <td>[0.016104882583022118, 0.019366672650600474, -...</td>\n",
       "    </tr>\n",
       "    <tr>\n",
       "      <th>...</th>\n",
       "      <td>...</td>\n",
       "    </tr>\n",
       "    <tr>\n",
       "      <th>49995</th>\n",
       "      <td>[-0.09104106016457081, 0.14799158399303755, -0...</td>\n",
       "    </tr>\n",
       "    <tr>\n",
       "      <th>49996</th>\n",
       "      <td>[0.06753416359424591, -0.019114730414003134, -...</td>\n",
       "    </tr>\n",
       "    <tr>\n",
       "      <th>49997</th>\n",
       "      <td>[-0.04870127265652021, 0.0874166755626599, -0....</td>\n",
       "    </tr>\n",
       "    <tr>\n",
       "      <th>49998</th>\n",
       "      <td>[-0.20001821964979172, 0.09280530114968617, -0...</td>\n",
       "    </tr>\n",
       "    <tr>\n",
       "      <th>49999</th>\n",
       "      <td>[0.1754414918832481, -0.010292365499481093, -0...</td>\n",
       "    </tr>\n",
       "  </tbody>\n",
       "</table>\n",
       "<p>50000 rows × 1 columns</p>\n",
       "</div>"
      ],
      "text/plain": [
       "                                                  tokens\n",
       "0      [0.10278388361136119, -0.06501682537297408, -0...\n",
       "1      [0.04574216566979885, 0.04331988357007503, -0....\n",
       "2      [0.12932236373154937, -0.01454897701593214, -0...\n",
       "3      [-0.06447455345187336, -0.009009952656924725, ...\n",
       "4      [0.016104882583022118, 0.019366672650600474, -...\n",
       "...                                                  ...\n",
       "49995  [-0.09104106016457081, 0.14799158399303755, -0...\n",
       "49996  [0.06753416359424591, -0.019114730414003134, -...\n",
       "49997  [-0.04870127265652021, 0.0874166755626599, -0....\n",
       "49998  [-0.20001821964979172, 0.09280530114968617, -0...\n",
       "49999  [0.1754414918832481, -0.010292365499481093, -0...\n",
       "\n",
       "[50000 rows x 1 columns]"
      ]
     },
     "execution_count": 171,
     "metadata": {},
     "output_type": "execute_result"
    }
   ],
   "source": [
    "df_new"
   ]
  },
  {
   "cell_type": "code",
   "execution_count": 175,
   "metadata": {},
   "outputs": [
    {
     "name": "stderr",
     "output_type": "stream",
     "text": [
      "C:\\Users\\avitr\\AppData\\Local\\Temp\\ipykernel_35472\\3530036794.py:1: PerformanceWarning: DataFrame is highly fragmented.  This is usually the result of calling `frame.insert` many times, which has poor performance.  Consider joining all columns at once using pd.concat(axis=1) instead. To get a de-fragmented frame, use `newframe = frame.copy()`\n",
      "  df_new[list(range(200))] = pd.DataFrame(df_new.tokens.tolist(), index= df_new.index)\n",
      "C:\\Users\\avitr\\AppData\\Local\\Temp\\ipykernel_35472\\3530036794.py:1: PerformanceWarning: DataFrame is highly fragmented.  This is usually the result of calling `frame.insert` many times, which has poor performance.  Consider joining all columns at once using pd.concat(axis=1) instead. To get a de-fragmented frame, use `newframe = frame.copy()`\n",
      "  df_new[list(range(200))] = pd.DataFrame(df_new.tokens.tolist(), index= df_new.index)\n",
      "C:\\Users\\avitr\\AppData\\Local\\Temp\\ipykernel_35472\\3530036794.py:1: PerformanceWarning: DataFrame is highly fragmented.  This is usually the result of calling `frame.insert` many times, which has poor performance.  Consider joining all columns at once using pd.concat(axis=1) instead. To get a de-fragmented frame, use `newframe = frame.copy()`\n",
      "  df_new[list(range(200))] = pd.DataFrame(df_new.tokens.tolist(), index= df_new.index)\n",
      "C:\\Users\\avitr\\AppData\\Local\\Temp\\ipykernel_35472\\3530036794.py:1: PerformanceWarning: DataFrame is highly fragmented.  This is usually the result of calling `frame.insert` many times, which has poor performance.  Consider joining all columns at once using pd.concat(axis=1) instead. To get a de-fragmented frame, use `newframe = frame.copy()`\n",
      "  df_new[list(range(200))] = pd.DataFrame(df_new.tokens.tolist(), index= df_new.index)\n",
      "C:\\Users\\avitr\\AppData\\Local\\Temp\\ipykernel_35472\\3530036794.py:1: PerformanceWarning: DataFrame is highly fragmented.  This is usually the result of calling `frame.insert` many times, which has poor performance.  Consider joining all columns at once using pd.concat(axis=1) instead. To get a de-fragmented frame, use `newframe = frame.copy()`\n",
      "  df_new[list(range(200))] = pd.DataFrame(df_new.tokens.tolist(), index= df_new.index)\n",
      "C:\\Users\\avitr\\AppData\\Local\\Temp\\ipykernel_35472\\3530036794.py:1: PerformanceWarning: DataFrame is highly fragmented.  This is usually the result of calling `frame.insert` many times, which has poor performance.  Consider joining all columns at once using pd.concat(axis=1) instead. To get a de-fragmented frame, use `newframe = frame.copy()`\n",
      "  df_new[list(range(200))] = pd.DataFrame(df_new.tokens.tolist(), index= df_new.index)\n",
      "C:\\Users\\avitr\\AppData\\Local\\Temp\\ipykernel_35472\\3530036794.py:1: PerformanceWarning: DataFrame is highly fragmented.  This is usually the result of calling `frame.insert` many times, which has poor performance.  Consider joining all columns at once using pd.concat(axis=1) instead. To get a de-fragmented frame, use `newframe = frame.copy()`\n",
      "  df_new[list(range(200))] = pd.DataFrame(df_new.tokens.tolist(), index= df_new.index)\n",
      "C:\\Users\\avitr\\AppData\\Local\\Temp\\ipykernel_35472\\3530036794.py:1: PerformanceWarning: DataFrame is highly fragmented.  This is usually the result of calling `frame.insert` many times, which has poor performance.  Consider joining all columns at once using pd.concat(axis=1) instead. To get a de-fragmented frame, use `newframe = frame.copy()`\n",
      "  df_new[list(range(200))] = pd.DataFrame(df_new.tokens.tolist(), index= df_new.index)\n",
      "C:\\Users\\avitr\\AppData\\Local\\Temp\\ipykernel_35472\\3530036794.py:1: PerformanceWarning: DataFrame is highly fragmented.  This is usually the result of calling `frame.insert` many times, which has poor performance.  Consider joining all columns at once using pd.concat(axis=1) instead. To get a de-fragmented frame, use `newframe = frame.copy()`\n",
      "  df_new[list(range(200))] = pd.DataFrame(df_new.tokens.tolist(), index= df_new.index)\n",
      "C:\\Users\\avitr\\AppData\\Local\\Temp\\ipykernel_35472\\3530036794.py:1: PerformanceWarning: DataFrame is highly fragmented.  This is usually the result of calling `frame.insert` many times, which has poor performance.  Consider joining all columns at once using pd.concat(axis=1) instead. To get a de-fragmented frame, use `newframe = frame.copy()`\n",
      "  df_new[list(range(200))] = pd.DataFrame(df_new.tokens.tolist(), index= df_new.index)\n",
      "C:\\Users\\avitr\\AppData\\Local\\Temp\\ipykernel_35472\\3530036794.py:1: PerformanceWarning: DataFrame is highly fragmented.  This is usually the result of calling `frame.insert` many times, which has poor performance.  Consider joining all columns at once using pd.concat(axis=1) instead. To get a de-fragmented frame, use `newframe = frame.copy()`\n",
      "  df_new[list(range(200))] = pd.DataFrame(df_new.tokens.tolist(), index= df_new.index)\n",
      "C:\\Users\\avitr\\AppData\\Local\\Temp\\ipykernel_35472\\3530036794.py:1: PerformanceWarning: DataFrame is highly fragmented.  This is usually the result of calling `frame.insert` many times, which has poor performance.  Consider joining all columns at once using pd.concat(axis=1) instead. To get a de-fragmented frame, use `newframe = frame.copy()`\n",
      "  df_new[list(range(200))] = pd.DataFrame(df_new.tokens.tolist(), index= df_new.index)\n",
      "C:\\Users\\avitr\\AppData\\Local\\Temp\\ipykernel_35472\\3530036794.py:1: PerformanceWarning: DataFrame is highly fragmented.  This is usually the result of calling `frame.insert` many times, which has poor performance.  Consider joining all columns at once using pd.concat(axis=1) instead. To get a de-fragmented frame, use `newframe = frame.copy()`\n",
      "  df_new[list(range(200))] = pd.DataFrame(df_new.tokens.tolist(), index= df_new.index)\n",
      "C:\\Users\\avitr\\AppData\\Local\\Temp\\ipykernel_35472\\3530036794.py:1: PerformanceWarning: DataFrame is highly fragmented.  This is usually the result of calling `frame.insert` many times, which has poor performance.  Consider joining all columns at once using pd.concat(axis=1) instead. To get a de-fragmented frame, use `newframe = frame.copy()`\n",
      "  df_new[list(range(200))] = pd.DataFrame(df_new.tokens.tolist(), index= df_new.index)\n",
      "C:\\Users\\avitr\\AppData\\Local\\Temp\\ipykernel_35472\\3530036794.py:1: PerformanceWarning: DataFrame is highly fragmented.  This is usually the result of calling `frame.insert` many times, which has poor performance.  Consider joining all columns at once using pd.concat(axis=1) instead. To get a de-fragmented frame, use `newframe = frame.copy()`\n",
      "  df_new[list(range(200))] = pd.DataFrame(df_new.tokens.tolist(), index= df_new.index)\n",
      "C:\\Users\\avitr\\AppData\\Local\\Temp\\ipykernel_35472\\3530036794.py:1: PerformanceWarning: DataFrame is highly fragmented.  This is usually the result of calling `frame.insert` many times, which has poor performance.  Consider joining all columns at once using pd.concat(axis=1) instead. To get a de-fragmented frame, use `newframe = frame.copy()`\n",
      "  df_new[list(range(200))] = pd.DataFrame(df_new.tokens.tolist(), index= df_new.index)\n",
      "C:\\Users\\avitr\\AppData\\Local\\Temp\\ipykernel_35472\\3530036794.py:1: PerformanceWarning: DataFrame is highly fragmented.  This is usually the result of calling `frame.insert` many times, which has poor performance.  Consider joining all columns at once using pd.concat(axis=1) instead. To get a de-fragmented frame, use `newframe = frame.copy()`\n",
      "  df_new[list(range(200))] = pd.DataFrame(df_new.tokens.tolist(), index= df_new.index)\n",
      "C:\\Users\\avitr\\AppData\\Local\\Temp\\ipykernel_35472\\3530036794.py:1: PerformanceWarning: DataFrame is highly fragmented.  This is usually the result of calling `frame.insert` many times, which has poor performance.  Consider joining all columns at once using pd.concat(axis=1) instead. To get a de-fragmented frame, use `newframe = frame.copy()`\n",
      "  df_new[list(range(200))] = pd.DataFrame(df_new.tokens.tolist(), index= df_new.index)\n",
      "C:\\Users\\avitr\\AppData\\Local\\Temp\\ipykernel_35472\\3530036794.py:1: PerformanceWarning: DataFrame is highly fragmented.  This is usually the result of calling `frame.insert` many times, which has poor performance.  Consider joining all columns at once using pd.concat(axis=1) instead. To get a de-fragmented frame, use `newframe = frame.copy()`\n",
      "  df_new[list(range(200))] = pd.DataFrame(df_new.tokens.tolist(), index= df_new.index)\n",
      "C:\\Users\\avitr\\AppData\\Local\\Temp\\ipykernel_35472\\3530036794.py:1: PerformanceWarning: DataFrame is highly fragmented.  This is usually the result of calling `frame.insert` many times, which has poor performance.  Consider joining all columns at once using pd.concat(axis=1) instead. To get a de-fragmented frame, use `newframe = frame.copy()`\n",
      "  df_new[list(range(200))] = pd.DataFrame(df_new.tokens.tolist(), index= df_new.index)\n",
      "C:\\Users\\avitr\\AppData\\Local\\Temp\\ipykernel_35472\\3530036794.py:1: PerformanceWarning: DataFrame is highly fragmented.  This is usually the result of calling `frame.insert` many times, which has poor performance.  Consider joining all columns at once using pd.concat(axis=1) instead. To get a de-fragmented frame, use `newframe = frame.copy()`\n",
      "  df_new[list(range(200))] = pd.DataFrame(df_new.tokens.tolist(), index= df_new.index)\n",
      "C:\\Users\\avitr\\AppData\\Local\\Temp\\ipykernel_35472\\3530036794.py:1: PerformanceWarning: DataFrame is highly fragmented.  This is usually the result of calling `frame.insert` many times, which has poor performance.  Consider joining all columns at once using pd.concat(axis=1) instead. To get a de-fragmented frame, use `newframe = frame.copy()`\n",
      "  df_new[list(range(200))] = pd.DataFrame(df_new.tokens.tolist(), index= df_new.index)\n",
      "C:\\Users\\avitr\\AppData\\Local\\Temp\\ipykernel_35472\\3530036794.py:1: PerformanceWarning: DataFrame is highly fragmented.  This is usually the result of calling `frame.insert` many times, which has poor performance.  Consider joining all columns at once using pd.concat(axis=1) instead. To get a de-fragmented frame, use `newframe = frame.copy()`\n",
      "  df_new[list(range(200))] = pd.DataFrame(df_new.tokens.tolist(), index= df_new.index)\n",
      "C:\\Users\\avitr\\AppData\\Local\\Temp\\ipykernel_35472\\3530036794.py:1: PerformanceWarning: DataFrame is highly fragmented.  This is usually the result of calling `frame.insert` many times, which has poor performance.  Consider joining all columns at once using pd.concat(axis=1) instead. To get a de-fragmented frame, use `newframe = frame.copy()`\n",
      "  df_new[list(range(200))] = pd.DataFrame(df_new.tokens.tolist(), index= df_new.index)\n",
      "C:\\Users\\avitr\\AppData\\Local\\Temp\\ipykernel_35472\\3530036794.py:1: PerformanceWarning: DataFrame is highly fragmented.  This is usually the result of calling `frame.insert` many times, which has poor performance.  Consider joining all columns at once using pd.concat(axis=1) instead. To get a de-fragmented frame, use `newframe = frame.copy()`\n",
      "  df_new[list(range(200))] = pd.DataFrame(df_new.tokens.tolist(), index= df_new.index)\n",
      "C:\\Users\\avitr\\AppData\\Local\\Temp\\ipykernel_35472\\3530036794.py:1: PerformanceWarning: DataFrame is highly fragmented.  This is usually the result of calling `frame.insert` many times, which has poor performance.  Consider joining all columns at once using pd.concat(axis=1) instead. To get a de-fragmented frame, use `newframe = frame.copy()`\n",
      "  df_new[list(range(200))] = pd.DataFrame(df_new.tokens.tolist(), index= df_new.index)\n",
      "C:\\Users\\avitr\\AppData\\Local\\Temp\\ipykernel_35472\\3530036794.py:1: PerformanceWarning: DataFrame is highly fragmented.  This is usually the result of calling `frame.insert` many times, which has poor performance.  Consider joining all columns at once using pd.concat(axis=1) instead. To get a de-fragmented frame, use `newframe = frame.copy()`\n",
      "  df_new[list(range(200))] = pd.DataFrame(df_new.tokens.tolist(), index= df_new.index)\n",
      "C:\\Users\\avitr\\AppData\\Local\\Temp\\ipykernel_35472\\3530036794.py:1: PerformanceWarning: DataFrame is highly fragmented.  This is usually the result of calling `frame.insert` many times, which has poor performance.  Consider joining all columns at once using pd.concat(axis=1) instead. To get a de-fragmented frame, use `newframe = frame.copy()`\n",
      "  df_new[list(range(200))] = pd.DataFrame(df_new.tokens.tolist(), index= df_new.index)\n",
      "C:\\Users\\avitr\\AppData\\Local\\Temp\\ipykernel_35472\\3530036794.py:1: PerformanceWarning: DataFrame is highly fragmented.  This is usually the result of calling `frame.insert` many times, which has poor performance.  Consider joining all columns at once using pd.concat(axis=1) instead. To get a de-fragmented frame, use `newframe = frame.copy()`\n",
      "  df_new[list(range(200))] = pd.DataFrame(df_new.tokens.tolist(), index= df_new.index)\n",
      "C:\\Users\\avitr\\AppData\\Local\\Temp\\ipykernel_35472\\3530036794.py:1: PerformanceWarning: DataFrame is highly fragmented.  This is usually the result of calling `frame.insert` many times, which has poor performance.  Consider joining all columns at once using pd.concat(axis=1) instead. To get a de-fragmented frame, use `newframe = frame.copy()`\n",
      "  df_new[list(range(200))] = pd.DataFrame(df_new.tokens.tolist(), index= df_new.index)\n",
      "C:\\Users\\avitr\\AppData\\Local\\Temp\\ipykernel_35472\\3530036794.py:1: PerformanceWarning: DataFrame is highly fragmented.  This is usually the result of calling `frame.insert` many times, which has poor performance.  Consider joining all columns at once using pd.concat(axis=1) instead. To get a de-fragmented frame, use `newframe = frame.copy()`\n",
      "  df_new[list(range(200))] = pd.DataFrame(df_new.tokens.tolist(), index= df_new.index)\n",
      "C:\\Users\\avitr\\AppData\\Local\\Temp\\ipykernel_35472\\3530036794.py:1: PerformanceWarning: DataFrame is highly fragmented.  This is usually the result of calling `frame.insert` many times, which has poor performance.  Consider joining all columns at once using pd.concat(axis=1) instead. To get a de-fragmented frame, use `newframe = frame.copy()`\n",
      "  df_new[list(range(200))] = pd.DataFrame(df_new.tokens.tolist(), index= df_new.index)\n",
      "C:\\Users\\avitr\\AppData\\Local\\Temp\\ipykernel_35472\\3530036794.py:1: PerformanceWarning: DataFrame is highly fragmented.  This is usually the result of calling `frame.insert` many times, which has poor performance.  Consider joining all columns at once using pd.concat(axis=1) instead. To get a de-fragmented frame, use `newframe = frame.copy()`\n",
      "  df_new[list(range(200))] = pd.DataFrame(df_new.tokens.tolist(), index= df_new.index)\n",
      "C:\\Users\\avitr\\AppData\\Local\\Temp\\ipykernel_35472\\3530036794.py:1: PerformanceWarning: DataFrame is highly fragmented.  This is usually the result of calling `frame.insert` many times, which has poor performance.  Consider joining all columns at once using pd.concat(axis=1) instead. To get a de-fragmented frame, use `newframe = frame.copy()`\n",
      "  df_new[list(range(200))] = pd.DataFrame(df_new.tokens.tolist(), index= df_new.index)\n",
      "C:\\Users\\avitr\\AppData\\Local\\Temp\\ipykernel_35472\\3530036794.py:1: PerformanceWarning: DataFrame is highly fragmented.  This is usually the result of calling `frame.insert` many times, which has poor performance.  Consider joining all columns at once using pd.concat(axis=1) instead. To get a de-fragmented frame, use `newframe = frame.copy()`\n",
      "  df_new[list(range(200))] = pd.DataFrame(df_new.tokens.tolist(), index= df_new.index)\n",
      "C:\\Users\\avitr\\AppData\\Local\\Temp\\ipykernel_35472\\3530036794.py:1: PerformanceWarning: DataFrame is highly fragmented.  This is usually the result of calling `frame.insert` many times, which has poor performance.  Consider joining all columns at once using pd.concat(axis=1) instead. To get a de-fragmented frame, use `newframe = frame.copy()`\n",
      "  df_new[list(range(200))] = pd.DataFrame(df_new.tokens.tolist(), index= df_new.index)\n",
      "C:\\Users\\avitr\\AppData\\Local\\Temp\\ipykernel_35472\\3530036794.py:1: PerformanceWarning: DataFrame is highly fragmented.  This is usually the result of calling `frame.insert` many times, which has poor performance.  Consider joining all columns at once using pd.concat(axis=1) instead. To get a de-fragmented frame, use `newframe = frame.copy()`\n",
      "  df_new[list(range(200))] = pd.DataFrame(df_new.tokens.tolist(), index= df_new.index)\n",
      "C:\\Users\\avitr\\AppData\\Local\\Temp\\ipykernel_35472\\3530036794.py:1: PerformanceWarning: DataFrame is highly fragmented.  This is usually the result of calling `frame.insert` many times, which has poor performance.  Consider joining all columns at once using pd.concat(axis=1) instead. To get a de-fragmented frame, use `newframe = frame.copy()`\n",
      "  df_new[list(range(200))] = pd.DataFrame(df_new.tokens.tolist(), index= df_new.index)\n",
      "C:\\Users\\avitr\\AppData\\Local\\Temp\\ipykernel_35472\\3530036794.py:1: PerformanceWarning: DataFrame is highly fragmented.  This is usually the result of calling `frame.insert` many times, which has poor performance.  Consider joining all columns at once using pd.concat(axis=1) instead. To get a de-fragmented frame, use `newframe = frame.copy()`\n",
      "  df_new[list(range(200))] = pd.DataFrame(df_new.tokens.tolist(), index= df_new.index)\n",
      "C:\\Users\\avitr\\AppData\\Local\\Temp\\ipykernel_35472\\3530036794.py:1: PerformanceWarning: DataFrame is highly fragmented.  This is usually the result of calling `frame.insert` many times, which has poor performance.  Consider joining all columns at once using pd.concat(axis=1) instead. To get a de-fragmented frame, use `newframe = frame.copy()`\n",
      "  df_new[list(range(200))] = pd.DataFrame(df_new.tokens.tolist(), index= df_new.index)\n",
      "C:\\Users\\avitr\\AppData\\Local\\Temp\\ipykernel_35472\\3530036794.py:1: PerformanceWarning: DataFrame is highly fragmented.  This is usually the result of calling `frame.insert` many times, which has poor performance.  Consider joining all columns at once using pd.concat(axis=1) instead. To get a de-fragmented frame, use `newframe = frame.copy()`\n",
      "  df_new[list(range(200))] = pd.DataFrame(df_new.tokens.tolist(), index= df_new.index)\n",
      "C:\\Users\\avitr\\AppData\\Local\\Temp\\ipykernel_35472\\3530036794.py:1: PerformanceWarning: DataFrame is highly fragmented.  This is usually the result of calling `frame.insert` many times, which has poor performance.  Consider joining all columns at once using pd.concat(axis=1) instead. To get a de-fragmented frame, use `newframe = frame.copy()`\n",
      "  df_new[list(range(200))] = pd.DataFrame(df_new.tokens.tolist(), index= df_new.index)\n",
      "C:\\Users\\avitr\\AppData\\Local\\Temp\\ipykernel_35472\\3530036794.py:1: PerformanceWarning: DataFrame is highly fragmented.  This is usually the result of calling `frame.insert` many times, which has poor performance.  Consider joining all columns at once using pd.concat(axis=1) instead. To get a de-fragmented frame, use `newframe = frame.copy()`\n",
      "  df_new[list(range(200))] = pd.DataFrame(df_new.tokens.tolist(), index= df_new.index)\n",
      "C:\\Users\\avitr\\AppData\\Local\\Temp\\ipykernel_35472\\3530036794.py:1: PerformanceWarning: DataFrame is highly fragmented.  This is usually the result of calling `frame.insert` many times, which has poor performance.  Consider joining all columns at once using pd.concat(axis=1) instead. To get a de-fragmented frame, use `newframe = frame.copy()`\n",
      "  df_new[list(range(200))] = pd.DataFrame(df_new.tokens.tolist(), index= df_new.index)\n",
      "C:\\Users\\avitr\\AppData\\Local\\Temp\\ipykernel_35472\\3530036794.py:1: PerformanceWarning: DataFrame is highly fragmented.  This is usually the result of calling `frame.insert` many times, which has poor performance.  Consider joining all columns at once using pd.concat(axis=1) instead. To get a de-fragmented frame, use `newframe = frame.copy()`\n",
      "  df_new[list(range(200))] = pd.DataFrame(df_new.tokens.tolist(), index= df_new.index)\n",
      "C:\\Users\\avitr\\AppData\\Local\\Temp\\ipykernel_35472\\3530036794.py:1: PerformanceWarning: DataFrame is highly fragmented.  This is usually the result of calling `frame.insert` many times, which has poor performance.  Consider joining all columns at once using pd.concat(axis=1) instead. To get a de-fragmented frame, use `newframe = frame.copy()`\n",
      "  df_new[list(range(200))] = pd.DataFrame(df_new.tokens.tolist(), index= df_new.index)\n",
      "C:\\Users\\avitr\\AppData\\Local\\Temp\\ipykernel_35472\\3530036794.py:1: PerformanceWarning: DataFrame is highly fragmented.  This is usually the result of calling `frame.insert` many times, which has poor performance.  Consider joining all columns at once using pd.concat(axis=1) instead. To get a de-fragmented frame, use `newframe = frame.copy()`\n",
      "  df_new[list(range(200))] = pd.DataFrame(df_new.tokens.tolist(), index= df_new.index)\n",
      "C:\\Users\\avitr\\AppData\\Local\\Temp\\ipykernel_35472\\3530036794.py:1: PerformanceWarning: DataFrame is highly fragmented.  This is usually the result of calling `frame.insert` many times, which has poor performance.  Consider joining all columns at once using pd.concat(axis=1) instead. To get a de-fragmented frame, use `newframe = frame.copy()`\n",
      "  df_new[list(range(200))] = pd.DataFrame(df_new.tokens.tolist(), index= df_new.index)\n",
      "C:\\Users\\avitr\\AppData\\Local\\Temp\\ipykernel_35472\\3530036794.py:1: PerformanceWarning: DataFrame is highly fragmented.  This is usually the result of calling `frame.insert` many times, which has poor performance.  Consider joining all columns at once using pd.concat(axis=1) instead. To get a de-fragmented frame, use `newframe = frame.copy()`\n",
      "  df_new[list(range(200))] = pd.DataFrame(df_new.tokens.tolist(), index= df_new.index)\n",
      "C:\\Users\\avitr\\AppData\\Local\\Temp\\ipykernel_35472\\3530036794.py:1: PerformanceWarning: DataFrame is highly fragmented.  This is usually the result of calling `frame.insert` many times, which has poor performance.  Consider joining all columns at once using pd.concat(axis=1) instead. To get a de-fragmented frame, use `newframe = frame.copy()`\n",
      "  df_new[list(range(200))] = pd.DataFrame(df_new.tokens.tolist(), index= df_new.index)\n",
      "C:\\Users\\avitr\\AppData\\Local\\Temp\\ipykernel_35472\\3530036794.py:1: PerformanceWarning: DataFrame is highly fragmented.  This is usually the result of calling `frame.insert` many times, which has poor performance.  Consider joining all columns at once using pd.concat(axis=1) instead. To get a de-fragmented frame, use `newframe = frame.copy()`\n",
      "  df_new[list(range(200))] = pd.DataFrame(df_new.tokens.tolist(), index= df_new.index)\n",
      "C:\\Users\\avitr\\AppData\\Local\\Temp\\ipykernel_35472\\3530036794.py:1: PerformanceWarning: DataFrame is highly fragmented.  This is usually the result of calling `frame.insert` many times, which has poor performance.  Consider joining all columns at once using pd.concat(axis=1) instead. To get a de-fragmented frame, use `newframe = frame.copy()`\n",
      "  df_new[list(range(200))] = pd.DataFrame(df_new.tokens.tolist(), index= df_new.index)\n",
      "C:\\Users\\avitr\\AppData\\Local\\Temp\\ipykernel_35472\\3530036794.py:1: PerformanceWarning: DataFrame is highly fragmented.  This is usually the result of calling `frame.insert` many times, which has poor performance.  Consider joining all columns at once using pd.concat(axis=1) instead. To get a de-fragmented frame, use `newframe = frame.copy()`\n",
      "  df_new[list(range(200))] = pd.DataFrame(df_new.tokens.tolist(), index= df_new.index)\n",
      "C:\\Users\\avitr\\AppData\\Local\\Temp\\ipykernel_35472\\3530036794.py:1: PerformanceWarning: DataFrame is highly fragmented.  This is usually the result of calling `frame.insert` many times, which has poor performance.  Consider joining all columns at once using pd.concat(axis=1) instead. To get a de-fragmented frame, use `newframe = frame.copy()`\n",
      "  df_new[list(range(200))] = pd.DataFrame(df_new.tokens.tolist(), index= df_new.index)\n",
      "C:\\Users\\avitr\\AppData\\Local\\Temp\\ipykernel_35472\\3530036794.py:1: PerformanceWarning: DataFrame is highly fragmented.  This is usually the result of calling `frame.insert` many times, which has poor performance.  Consider joining all columns at once using pd.concat(axis=1) instead. To get a de-fragmented frame, use `newframe = frame.copy()`\n",
      "  df_new[list(range(200))] = pd.DataFrame(df_new.tokens.tolist(), index= df_new.index)\n",
      "C:\\Users\\avitr\\AppData\\Local\\Temp\\ipykernel_35472\\3530036794.py:1: PerformanceWarning: DataFrame is highly fragmented.  This is usually the result of calling `frame.insert` many times, which has poor performance.  Consider joining all columns at once using pd.concat(axis=1) instead. To get a de-fragmented frame, use `newframe = frame.copy()`\n",
      "  df_new[list(range(200))] = pd.DataFrame(df_new.tokens.tolist(), index= df_new.index)\n",
      "C:\\Users\\avitr\\AppData\\Local\\Temp\\ipykernel_35472\\3530036794.py:1: PerformanceWarning: DataFrame is highly fragmented.  This is usually the result of calling `frame.insert` many times, which has poor performance.  Consider joining all columns at once using pd.concat(axis=1) instead. To get a de-fragmented frame, use `newframe = frame.copy()`\n",
      "  df_new[list(range(200))] = pd.DataFrame(df_new.tokens.tolist(), index= df_new.index)\n",
      "C:\\Users\\avitr\\AppData\\Local\\Temp\\ipykernel_35472\\3530036794.py:1: PerformanceWarning: DataFrame is highly fragmented.  This is usually the result of calling `frame.insert` many times, which has poor performance.  Consider joining all columns at once using pd.concat(axis=1) instead. To get a de-fragmented frame, use `newframe = frame.copy()`\n",
      "  df_new[list(range(200))] = pd.DataFrame(df_new.tokens.tolist(), index= df_new.index)\n",
      "C:\\Users\\avitr\\AppData\\Local\\Temp\\ipykernel_35472\\3530036794.py:1: PerformanceWarning: DataFrame is highly fragmented.  This is usually the result of calling `frame.insert` many times, which has poor performance.  Consider joining all columns at once using pd.concat(axis=1) instead. To get a de-fragmented frame, use `newframe = frame.copy()`\n",
      "  df_new[list(range(200))] = pd.DataFrame(df_new.tokens.tolist(), index= df_new.index)\n",
      "C:\\Users\\avitr\\AppData\\Local\\Temp\\ipykernel_35472\\3530036794.py:1: PerformanceWarning: DataFrame is highly fragmented.  This is usually the result of calling `frame.insert` many times, which has poor performance.  Consider joining all columns at once using pd.concat(axis=1) instead. To get a de-fragmented frame, use `newframe = frame.copy()`\n",
      "  df_new[list(range(200))] = pd.DataFrame(df_new.tokens.tolist(), index= df_new.index)\n",
      "C:\\Users\\avitr\\AppData\\Local\\Temp\\ipykernel_35472\\3530036794.py:1: PerformanceWarning: DataFrame is highly fragmented.  This is usually the result of calling `frame.insert` many times, which has poor performance.  Consider joining all columns at once using pd.concat(axis=1) instead. To get a de-fragmented frame, use `newframe = frame.copy()`\n",
      "  df_new[list(range(200))] = pd.DataFrame(df_new.tokens.tolist(), index= df_new.index)\n",
      "C:\\Users\\avitr\\AppData\\Local\\Temp\\ipykernel_35472\\3530036794.py:1: PerformanceWarning: DataFrame is highly fragmented.  This is usually the result of calling `frame.insert` many times, which has poor performance.  Consider joining all columns at once using pd.concat(axis=1) instead. To get a de-fragmented frame, use `newframe = frame.copy()`\n",
      "  df_new[list(range(200))] = pd.DataFrame(df_new.tokens.tolist(), index= df_new.index)\n",
      "C:\\Users\\avitr\\AppData\\Local\\Temp\\ipykernel_35472\\3530036794.py:1: PerformanceWarning: DataFrame is highly fragmented.  This is usually the result of calling `frame.insert` many times, which has poor performance.  Consider joining all columns at once using pd.concat(axis=1) instead. To get a de-fragmented frame, use `newframe = frame.copy()`\n",
      "  df_new[list(range(200))] = pd.DataFrame(df_new.tokens.tolist(), index= df_new.index)\n",
      "C:\\Users\\avitr\\AppData\\Local\\Temp\\ipykernel_35472\\3530036794.py:1: PerformanceWarning: DataFrame is highly fragmented.  This is usually the result of calling `frame.insert` many times, which has poor performance.  Consider joining all columns at once using pd.concat(axis=1) instead. To get a de-fragmented frame, use `newframe = frame.copy()`\n",
      "  df_new[list(range(200))] = pd.DataFrame(df_new.tokens.tolist(), index= df_new.index)\n",
      "C:\\Users\\avitr\\AppData\\Local\\Temp\\ipykernel_35472\\3530036794.py:1: PerformanceWarning: DataFrame is highly fragmented.  This is usually the result of calling `frame.insert` many times, which has poor performance.  Consider joining all columns at once using pd.concat(axis=1) instead. To get a de-fragmented frame, use `newframe = frame.copy()`\n",
      "  df_new[list(range(200))] = pd.DataFrame(df_new.tokens.tolist(), index= df_new.index)\n",
      "C:\\Users\\avitr\\AppData\\Local\\Temp\\ipykernel_35472\\3530036794.py:1: PerformanceWarning: DataFrame is highly fragmented.  This is usually the result of calling `frame.insert` many times, which has poor performance.  Consider joining all columns at once using pd.concat(axis=1) instead. To get a de-fragmented frame, use `newframe = frame.copy()`\n",
      "  df_new[list(range(200))] = pd.DataFrame(df_new.tokens.tolist(), index= df_new.index)\n",
      "C:\\Users\\avitr\\AppData\\Local\\Temp\\ipykernel_35472\\3530036794.py:1: PerformanceWarning: DataFrame is highly fragmented.  This is usually the result of calling `frame.insert` many times, which has poor performance.  Consider joining all columns at once using pd.concat(axis=1) instead. To get a de-fragmented frame, use `newframe = frame.copy()`\n",
      "  df_new[list(range(200))] = pd.DataFrame(df_new.tokens.tolist(), index= df_new.index)\n",
      "C:\\Users\\avitr\\AppData\\Local\\Temp\\ipykernel_35472\\3530036794.py:1: PerformanceWarning: DataFrame is highly fragmented.  This is usually the result of calling `frame.insert` many times, which has poor performance.  Consider joining all columns at once using pd.concat(axis=1) instead. To get a de-fragmented frame, use `newframe = frame.copy()`\n",
      "  df_new[list(range(200))] = pd.DataFrame(df_new.tokens.tolist(), index= df_new.index)\n",
      "C:\\Users\\avitr\\AppData\\Local\\Temp\\ipykernel_35472\\3530036794.py:1: PerformanceWarning: DataFrame is highly fragmented.  This is usually the result of calling `frame.insert` many times, which has poor performance.  Consider joining all columns at once using pd.concat(axis=1) instead. To get a de-fragmented frame, use `newframe = frame.copy()`\n",
      "  df_new[list(range(200))] = pd.DataFrame(df_new.tokens.tolist(), index= df_new.index)\n",
      "C:\\Users\\avitr\\AppData\\Local\\Temp\\ipykernel_35472\\3530036794.py:1: PerformanceWarning: DataFrame is highly fragmented.  This is usually the result of calling `frame.insert` many times, which has poor performance.  Consider joining all columns at once using pd.concat(axis=1) instead. To get a de-fragmented frame, use `newframe = frame.copy()`\n",
      "  df_new[list(range(200))] = pd.DataFrame(df_new.tokens.tolist(), index= df_new.index)\n",
      "C:\\Users\\avitr\\AppData\\Local\\Temp\\ipykernel_35472\\3530036794.py:1: PerformanceWarning: DataFrame is highly fragmented.  This is usually the result of calling `frame.insert` many times, which has poor performance.  Consider joining all columns at once using pd.concat(axis=1) instead. To get a de-fragmented frame, use `newframe = frame.copy()`\n",
      "  df_new[list(range(200))] = pd.DataFrame(df_new.tokens.tolist(), index= df_new.index)\n",
      "C:\\Users\\avitr\\AppData\\Local\\Temp\\ipykernel_35472\\3530036794.py:1: PerformanceWarning: DataFrame is highly fragmented.  This is usually the result of calling `frame.insert` many times, which has poor performance.  Consider joining all columns at once using pd.concat(axis=1) instead. To get a de-fragmented frame, use `newframe = frame.copy()`\n",
      "  df_new[list(range(200))] = pd.DataFrame(df_new.tokens.tolist(), index= df_new.index)\n",
      "C:\\Users\\avitr\\AppData\\Local\\Temp\\ipykernel_35472\\3530036794.py:1: PerformanceWarning: DataFrame is highly fragmented.  This is usually the result of calling `frame.insert` many times, which has poor performance.  Consider joining all columns at once using pd.concat(axis=1) instead. To get a de-fragmented frame, use `newframe = frame.copy()`\n",
      "  df_new[list(range(200))] = pd.DataFrame(df_new.tokens.tolist(), index= df_new.index)\n",
      "C:\\Users\\avitr\\AppData\\Local\\Temp\\ipykernel_35472\\3530036794.py:1: PerformanceWarning: DataFrame is highly fragmented.  This is usually the result of calling `frame.insert` many times, which has poor performance.  Consider joining all columns at once using pd.concat(axis=1) instead. To get a de-fragmented frame, use `newframe = frame.copy()`\n",
      "  df_new[list(range(200))] = pd.DataFrame(df_new.tokens.tolist(), index= df_new.index)\n",
      "C:\\Users\\avitr\\AppData\\Local\\Temp\\ipykernel_35472\\3530036794.py:1: PerformanceWarning: DataFrame is highly fragmented.  This is usually the result of calling `frame.insert` many times, which has poor performance.  Consider joining all columns at once using pd.concat(axis=1) instead. To get a de-fragmented frame, use `newframe = frame.copy()`\n",
      "  df_new[list(range(200))] = pd.DataFrame(df_new.tokens.tolist(), index= df_new.index)\n",
      "C:\\Users\\avitr\\AppData\\Local\\Temp\\ipykernel_35472\\3530036794.py:1: PerformanceWarning: DataFrame is highly fragmented.  This is usually the result of calling `frame.insert` many times, which has poor performance.  Consider joining all columns at once using pd.concat(axis=1) instead. To get a de-fragmented frame, use `newframe = frame.copy()`\n",
      "  df_new[list(range(200))] = pd.DataFrame(df_new.tokens.tolist(), index= df_new.index)\n",
      "C:\\Users\\avitr\\AppData\\Local\\Temp\\ipykernel_35472\\3530036794.py:1: PerformanceWarning: DataFrame is highly fragmented.  This is usually the result of calling `frame.insert` many times, which has poor performance.  Consider joining all columns at once using pd.concat(axis=1) instead. To get a de-fragmented frame, use `newframe = frame.copy()`\n",
      "  df_new[list(range(200))] = pd.DataFrame(df_new.tokens.tolist(), index= df_new.index)\n",
      "C:\\Users\\avitr\\AppData\\Local\\Temp\\ipykernel_35472\\3530036794.py:1: PerformanceWarning: DataFrame is highly fragmented.  This is usually the result of calling `frame.insert` many times, which has poor performance.  Consider joining all columns at once using pd.concat(axis=1) instead. To get a de-fragmented frame, use `newframe = frame.copy()`\n",
      "  df_new[list(range(200))] = pd.DataFrame(df_new.tokens.tolist(), index= df_new.index)\n",
      "C:\\Users\\avitr\\AppData\\Local\\Temp\\ipykernel_35472\\3530036794.py:1: PerformanceWarning: DataFrame is highly fragmented.  This is usually the result of calling `frame.insert` many times, which has poor performance.  Consider joining all columns at once using pd.concat(axis=1) instead. To get a de-fragmented frame, use `newframe = frame.copy()`\n",
      "  df_new[list(range(200))] = pd.DataFrame(df_new.tokens.tolist(), index= df_new.index)\n",
      "C:\\Users\\avitr\\AppData\\Local\\Temp\\ipykernel_35472\\3530036794.py:1: PerformanceWarning: DataFrame is highly fragmented.  This is usually the result of calling `frame.insert` many times, which has poor performance.  Consider joining all columns at once using pd.concat(axis=1) instead. To get a de-fragmented frame, use `newframe = frame.copy()`\n",
      "  df_new[list(range(200))] = pd.DataFrame(df_new.tokens.tolist(), index= df_new.index)\n",
      "C:\\Users\\avitr\\AppData\\Local\\Temp\\ipykernel_35472\\3530036794.py:1: PerformanceWarning: DataFrame is highly fragmented.  This is usually the result of calling `frame.insert` many times, which has poor performance.  Consider joining all columns at once using pd.concat(axis=1) instead. To get a de-fragmented frame, use `newframe = frame.copy()`\n",
      "  df_new[list(range(200))] = pd.DataFrame(df_new.tokens.tolist(), index= df_new.index)\n",
      "C:\\Users\\avitr\\AppData\\Local\\Temp\\ipykernel_35472\\3530036794.py:1: PerformanceWarning: DataFrame is highly fragmented.  This is usually the result of calling `frame.insert` many times, which has poor performance.  Consider joining all columns at once using pd.concat(axis=1) instead. To get a de-fragmented frame, use `newframe = frame.copy()`\n",
      "  df_new[list(range(200))] = pd.DataFrame(df_new.tokens.tolist(), index= df_new.index)\n",
      "C:\\Users\\avitr\\AppData\\Local\\Temp\\ipykernel_35472\\3530036794.py:1: PerformanceWarning: DataFrame is highly fragmented.  This is usually the result of calling `frame.insert` many times, which has poor performance.  Consider joining all columns at once using pd.concat(axis=1) instead. To get a de-fragmented frame, use `newframe = frame.copy()`\n",
      "  df_new[list(range(200))] = pd.DataFrame(df_new.tokens.tolist(), index= df_new.index)\n",
      "C:\\Users\\avitr\\AppData\\Local\\Temp\\ipykernel_35472\\3530036794.py:1: PerformanceWarning: DataFrame is highly fragmented.  This is usually the result of calling `frame.insert` many times, which has poor performance.  Consider joining all columns at once using pd.concat(axis=1) instead. To get a de-fragmented frame, use `newframe = frame.copy()`\n",
      "  df_new[list(range(200))] = pd.DataFrame(df_new.tokens.tolist(), index= df_new.index)\n",
      "C:\\Users\\avitr\\AppData\\Local\\Temp\\ipykernel_35472\\3530036794.py:1: PerformanceWarning: DataFrame is highly fragmented.  This is usually the result of calling `frame.insert` many times, which has poor performance.  Consider joining all columns at once using pd.concat(axis=1) instead. To get a de-fragmented frame, use `newframe = frame.copy()`\n",
      "  df_new[list(range(200))] = pd.DataFrame(df_new.tokens.tolist(), index= df_new.index)\n",
      "C:\\Users\\avitr\\AppData\\Local\\Temp\\ipykernel_35472\\3530036794.py:1: PerformanceWarning: DataFrame is highly fragmented.  This is usually the result of calling `frame.insert` many times, which has poor performance.  Consider joining all columns at once using pd.concat(axis=1) instead. To get a de-fragmented frame, use `newframe = frame.copy()`\n",
      "  df_new[list(range(200))] = pd.DataFrame(df_new.tokens.tolist(), index= df_new.index)\n",
      "C:\\Users\\avitr\\AppData\\Local\\Temp\\ipykernel_35472\\3530036794.py:1: PerformanceWarning: DataFrame is highly fragmented.  This is usually the result of calling `frame.insert` many times, which has poor performance.  Consider joining all columns at once using pd.concat(axis=1) instead. To get a de-fragmented frame, use `newframe = frame.copy()`\n",
      "  df_new[list(range(200))] = pd.DataFrame(df_new.tokens.tolist(), index= df_new.index)\n",
      "C:\\Users\\avitr\\AppData\\Local\\Temp\\ipykernel_35472\\3530036794.py:1: PerformanceWarning: DataFrame is highly fragmented.  This is usually the result of calling `frame.insert` many times, which has poor performance.  Consider joining all columns at once using pd.concat(axis=1) instead. To get a de-fragmented frame, use `newframe = frame.copy()`\n",
      "  df_new[list(range(200))] = pd.DataFrame(df_new.tokens.tolist(), index= df_new.index)\n",
      "C:\\Users\\avitr\\AppData\\Local\\Temp\\ipykernel_35472\\3530036794.py:1: PerformanceWarning: DataFrame is highly fragmented.  This is usually the result of calling `frame.insert` many times, which has poor performance.  Consider joining all columns at once using pd.concat(axis=1) instead. To get a de-fragmented frame, use `newframe = frame.copy()`\n",
      "  df_new[list(range(200))] = pd.DataFrame(df_new.tokens.tolist(), index= df_new.index)\n",
      "C:\\Users\\avitr\\AppData\\Local\\Temp\\ipykernel_35472\\3530036794.py:1: PerformanceWarning: DataFrame is highly fragmented.  This is usually the result of calling `frame.insert` many times, which has poor performance.  Consider joining all columns at once using pd.concat(axis=1) instead. To get a de-fragmented frame, use `newframe = frame.copy()`\n",
      "  df_new[list(range(200))] = pd.DataFrame(df_new.tokens.tolist(), index= df_new.index)\n",
      "C:\\Users\\avitr\\AppData\\Local\\Temp\\ipykernel_35472\\3530036794.py:1: PerformanceWarning: DataFrame is highly fragmented.  This is usually the result of calling `frame.insert` many times, which has poor performance.  Consider joining all columns at once using pd.concat(axis=1) instead. To get a de-fragmented frame, use `newframe = frame.copy()`\n",
      "  df_new[list(range(200))] = pd.DataFrame(df_new.tokens.tolist(), index= df_new.index)\n",
      "C:\\Users\\avitr\\AppData\\Local\\Temp\\ipykernel_35472\\3530036794.py:1: PerformanceWarning: DataFrame is highly fragmented.  This is usually the result of calling `frame.insert` many times, which has poor performance.  Consider joining all columns at once using pd.concat(axis=1) instead. To get a de-fragmented frame, use `newframe = frame.copy()`\n",
      "  df_new[list(range(200))] = pd.DataFrame(df_new.tokens.tolist(), index= df_new.index)\n",
      "C:\\Users\\avitr\\AppData\\Local\\Temp\\ipykernel_35472\\3530036794.py:1: PerformanceWarning: DataFrame is highly fragmented.  This is usually the result of calling `frame.insert` many times, which has poor performance.  Consider joining all columns at once using pd.concat(axis=1) instead. To get a de-fragmented frame, use `newframe = frame.copy()`\n",
      "  df_new[list(range(200))] = pd.DataFrame(df_new.tokens.tolist(), index= df_new.index)\n",
      "C:\\Users\\avitr\\AppData\\Local\\Temp\\ipykernel_35472\\3530036794.py:1: PerformanceWarning: DataFrame is highly fragmented.  This is usually the result of calling `frame.insert` many times, which has poor performance.  Consider joining all columns at once using pd.concat(axis=1) instead. To get a de-fragmented frame, use `newframe = frame.copy()`\n",
      "  df_new[list(range(200))] = pd.DataFrame(df_new.tokens.tolist(), index= df_new.index)\n",
      "C:\\Users\\avitr\\AppData\\Local\\Temp\\ipykernel_35472\\3530036794.py:1: PerformanceWarning: DataFrame is highly fragmented.  This is usually the result of calling `frame.insert` many times, which has poor performance.  Consider joining all columns at once using pd.concat(axis=1) instead. To get a de-fragmented frame, use `newframe = frame.copy()`\n",
      "  df_new[list(range(200))] = pd.DataFrame(df_new.tokens.tolist(), index= df_new.index)\n",
      "C:\\Users\\avitr\\AppData\\Local\\Temp\\ipykernel_35472\\3530036794.py:1: PerformanceWarning: DataFrame is highly fragmented.  This is usually the result of calling `frame.insert` many times, which has poor performance.  Consider joining all columns at once using pd.concat(axis=1) instead. To get a de-fragmented frame, use `newframe = frame.copy()`\n",
      "  df_new[list(range(200))] = pd.DataFrame(df_new.tokens.tolist(), index= df_new.index)\n",
      "C:\\Users\\avitr\\AppData\\Local\\Temp\\ipykernel_35472\\3530036794.py:1: PerformanceWarning: DataFrame is highly fragmented.  This is usually the result of calling `frame.insert` many times, which has poor performance.  Consider joining all columns at once using pd.concat(axis=1) instead. To get a de-fragmented frame, use `newframe = frame.copy()`\n",
      "  df_new[list(range(200))] = pd.DataFrame(df_new.tokens.tolist(), index= df_new.index)\n",
      "C:\\Users\\avitr\\AppData\\Local\\Temp\\ipykernel_35472\\3530036794.py:1: PerformanceWarning: DataFrame is highly fragmented.  This is usually the result of calling `frame.insert` many times, which has poor performance.  Consider joining all columns at once using pd.concat(axis=1) instead. To get a de-fragmented frame, use `newframe = frame.copy()`\n",
      "  df_new[list(range(200))] = pd.DataFrame(df_new.tokens.tolist(), index= df_new.index)\n",
      "C:\\Users\\avitr\\AppData\\Local\\Temp\\ipykernel_35472\\3530036794.py:1: PerformanceWarning: DataFrame is highly fragmented.  This is usually the result of calling `frame.insert` many times, which has poor performance.  Consider joining all columns at once using pd.concat(axis=1) instead. To get a de-fragmented frame, use `newframe = frame.copy()`\n",
      "  df_new[list(range(200))] = pd.DataFrame(df_new.tokens.tolist(), index= df_new.index)\n",
      "C:\\Users\\avitr\\AppData\\Local\\Temp\\ipykernel_35472\\3530036794.py:1: PerformanceWarning: DataFrame is highly fragmented.  This is usually the result of calling `frame.insert` many times, which has poor performance.  Consider joining all columns at once using pd.concat(axis=1) instead. To get a de-fragmented frame, use `newframe = frame.copy()`\n",
      "  df_new[list(range(200))] = pd.DataFrame(df_new.tokens.tolist(), index= df_new.index)\n",
      "C:\\Users\\avitr\\AppData\\Local\\Temp\\ipykernel_35472\\3530036794.py:1: PerformanceWarning: DataFrame is highly fragmented.  This is usually the result of calling `frame.insert` many times, which has poor performance.  Consider joining all columns at once using pd.concat(axis=1) instead. To get a de-fragmented frame, use `newframe = frame.copy()`\n",
      "  df_new[list(range(200))] = pd.DataFrame(df_new.tokens.tolist(), index= df_new.index)\n"
     ]
    }
   ],
   "source": [
    "df_new[list(range(200))] = pd.DataFrame(df_new.tokens.tolist(), index= df_new.index)"
   ]
  },
  {
   "cell_type": "code",
   "execution_count": 177,
   "metadata": {},
   "outputs": [],
   "source": [
    "df_new.drop('tokens',axis=1,inplace=True)"
   ]
  },
  {
   "cell_type": "code",
   "execution_count": 179,
   "metadata": {},
   "outputs": [],
   "source": [
    "X_train, X_test, y_train, y_test = train_test_split(df_new, y_w2v, test_size = 0.25, random_state = 43)"
   ]
  },
  {
   "cell_type": "code",
   "execution_count": 180,
   "metadata": {},
   "outputs": [],
   "source": [
    "clf_xg = XGBClassifier(n_jobs=-1)"
   ]
  },
  {
   "cell_type": "code",
   "execution_count": 181,
   "metadata": {},
   "outputs": [
    {
     "data": {
      "text/html": [
       "<style>#sk-container-id-5 {color: black;background-color: white;}#sk-container-id-5 pre{padding: 0;}#sk-container-id-5 div.sk-toggleable {background-color: white;}#sk-container-id-5 label.sk-toggleable__label {cursor: pointer;display: block;width: 100%;margin-bottom: 0;padding: 0.3em;box-sizing: border-box;text-align: center;}#sk-container-id-5 label.sk-toggleable__label-arrow:before {content: \"▸\";float: left;margin-right: 0.25em;color: #696969;}#sk-container-id-5 label.sk-toggleable__label-arrow:hover:before {color: black;}#sk-container-id-5 div.sk-estimator:hover label.sk-toggleable__label-arrow:before {color: black;}#sk-container-id-5 div.sk-toggleable__content {max-height: 0;max-width: 0;overflow: hidden;text-align: left;background-color: #f0f8ff;}#sk-container-id-5 div.sk-toggleable__content pre {margin: 0.2em;color: black;border-radius: 0.25em;background-color: #f0f8ff;}#sk-container-id-5 input.sk-toggleable__control:checked~div.sk-toggleable__content {max-height: 200px;max-width: 100%;overflow: auto;}#sk-container-id-5 input.sk-toggleable__control:checked~label.sk-toggleable__label-arrow:before {content: \"▾\";}#sk-container-id-5 div.sk-estimator input.sk-toggleable__control:checked~label.sk-toggleable__label {background-color: #d4ebff;}#sk-container-id-5 div.sk-label input.sk-toggleable__control:checked~label.sk-toggleable__label {background-color: #d4ebff;}#sk-container-id-5 input.sk-hidden--visually {border: 0;clip: rect(1px 1px 1px 1px);clip: rect(1px, 1px, 1px, 1px);height: 1px;margin: -1px;overflow: hidden;padding: 0;position: absolute;width: 1px;}#sk-container-id-5 div.sk-estimator {font-family: monospace;background-color: #f0f8ff;border: 1px dotted black;border-radius: 0.25em;box-sizing: border-box;margin-bottom: 0.5em;}#sk-container-id-5 div.sk-estimator:hover {background-color: #d4ebff;}#sk-container-id-5 div.sk-parallel-item::after {content: \"\";width: 100%;border-bottom: 1px solid gray;flex-grow: 1;}#sk-container-id-5 div.sk-label:hover label.sk-toggleable__label {background-color: #d4ebff;}#sk-container-id-5 div.sk-serial::before {content: \"\";position: absolute;border-left: 1px solid gray;box-sizing: border-box;top: 0;bottom: 0;left: 50%;z-index: 0;}#sk-container-id-5 div.sk-serial {display: flex;flex-direction: column;align-items: center;background-color: white;padding-right: 0.2em;padding-left: 0.2em;position: relative;}#sk-container-id-5 div.sk-item {position: relative;z-index: 1;}#sk-container-id-5 div.sk-parallel {display: flex;align-items: stretch;justify-content: center;background-color: white;position: relative;}#sk-container-id-5 div.sk-item::before, #sk-container-id-5 div.sk-parallel-item::before {content: \"\";position: absolute;border-left: 1px solid gray;box-sizing: border-box;top: 0;bottom: 0;left: 50%;z-index: -1;}#sk-container-id-5 div.sk-parallel-item {display: flex;flex-direction: column;z-index: 1;position: relative;background-color: white;}#sk-container-id-5 div.sk-parallel-item:first-child::after {align-self: flex-end;width: 50%;}#sk-container-id-5 div.sk-parallel-item:last-child::after {align-self: flex-start;width: 50%;}#sk-container-id-5 div.sk-parallel-item:only-child::after {width: 0;}#sk-container-id-5 div.sk-dashed-wrapped {border: 1px dashed gray;margin: 0 0.4em 0.5em 0.4em;box-sizing: border-box;padding-bottom: 0.4em;background-color: white;}#sk-container-id-5 div.sk-label label {font-family: monospace;font-weight: bold;display: inline-block;line-height: 1.2em;}#sk-container-id-5 div.sk-label-container {text-align: center;}#sk-container-id-5 div.sk-container {/* jupyter's `normalize.less` sets `[hidden] { display: none; }` but bootstrap.min.css set `[hidden] { display: none !important; }` so we also need the `!important` here to be able to override the default hidden behavior on the sphinx rendered scikit-learn.org. See: https://github.com/scikit-learn/scikit-learn/issues/21755 */display: inline-block !important;position: relative;}#sk-container-id-5 div.sk-text-repr-fallback {display: none;}</style><div id=\"sk-container-id-5\" class=\"sk-top-container\"><div class=\"sk-text-repr-fallback\"><pre>XGBClassifier(base_score=0.5, booster=&#x27;gbtree&#x27;, callbacks=None,\n",
       "              colsample_bylevel=1, colsample_bynode=1, colsample_bytree=1,\n",
       "              early_stopping_rounds=None, enable_categorical=False,\n",
       "              eval_metric=None, gamma=0, gpu_id=-1, grow_policy=&#x27;depthwise&#x27;,\n",
       "              importance_type=None, interaction_constraints=&#x27;&#x27;,\n",
       "              learning_rate=0.300000012, max_bin=256, max_cat_to_onehot=4,\n",
       "              max_delta_step=0, max_depth=6, max_leaves=0, min_child_weight=1,\n",
       "              missing=nan, monotone_constraints=&#x27;()&#x27;, n_estimators=100,\n",
       "              n_jobs=-1, num_parallel_tree=1, predictor=&#x27;auto&#x27;, random_state=0,\n",
       "              reg_alpha=0, reg_lambda=1, ...)</pre><b>In a Jupyter environment, please rerun this cell to show the HTML representation or trust the notebook. <br />On GitHub, the HTML representation is unable to render, please try loading this page with nbviewer.org.</b></div><div class=\"sk-container\" hidden><div class=\"sk-item\"><div class=\"sk-estimator sk-toggleable\"><input class=\"sk-toggleable__control sk-hidden--visually\" id=\"sk-estimator-id-5\" type=\"checkbox\" checked><label for=\"sk-estimator-id-5\" class=\"sk-toggleable__label sk-toggleable__label-arrow\">XGBClassifier</label><div class=\"sk-toggleable__content\"><pre>XGBClassifier(base_score=0.5, booster=&#x27;gbtree&#x27;, callbacks=None,\n",
       "              colsample_bylevel=1, colsample_bynode=1, colsample_bytree=1,\n",
       "              early_stopping_rounds=None, enable_categorical=False,\n",
       "              eval_metric=None, gamma=0, gpu_id=-1, grow_policy=&#x27;depthwise&#x27;,\n",
       "              importance_type=None, interaction_constraints=&#x27;&#x27;,\n",
       "              learning_rate=0.300000012, max_bin=256, max_cat_to_onehot=4,\n",
       "              max_delta_step=0, max_depth=6, max_leaves=0, min_child_weight=1,\n",
       "              missing=nan, monotone_constraints=&#x27;()&#x27;, n_estimators=100,\n",
       "              n_jobs=-1, num_parallel_tree=1, predictor=&#x27;auto&#x27;, random_state=0,\n",
       "              reg_alpha=0, reg_lambda=1, ...)</pre></div></div></div></div></div>"
      ],
      "text/plain": [
       "XGBClassifier(base_score=0.5, booster='gbtree', callbacks=None,\n",
       "              colsample_bylevel=1, colsample_bynode=1, colsample_bytree=1,\n",
       "              early_stopping_rounds=None, enable_categorical=False,\n",
       "              eval_metric=None, gamma=0, gpu_id=-1, grow_policy='depthwise',\n",
       "              importance_type=None, interaction_constraints='',\n",
       "              learning_rate=0.300000012, max_bin=256, max_cat_to_onehot=4,\n",
       "              max_delta_step=0, max_depth=6, max_leaves=0, min_child_weight=1,\n",
       "              missing=nan, monotone_constraints='()', n_estimators=100,\n",
       "              n_jobs=-1, num_parallel_tree=1, predictor='auto', random_state=0,\n",
       "              reg_alpha=0, reg_lambda=1, ...)"
      ]
     },
     "execution_count": 181,
     "metadata": {},
     "output_type": "execute_result"
    }
   ],
   "source": [
    "clf_xg.fit(X_train,y_train)"
   ]
  },
  {
   "cell_type": "code",
   "execution_count": 183,
   "metadata": {},
   "outputs": [],
   "source": [
    "y_pred = clf_xg.predict(X_test)"
   ]
  },
  {
   "cell_type": "code",
   "execution_count": 184,
   "metadata": {},
   "outputs": [
    {
     "name": "stdout",
     "output_type": "stream",
     "text": [
      "              precision    recall  f1-score   support\n",
      "\n",
      "           0       0.72      0.71      0.72      6238\n",
      "           1       0.72      0.72      0.72      6262\n",
      "\n",
      "    accuracy                           0.72     12500\n",
      "   macro avg       0.72      0.72      0.72     12500\n",
      "weighted avg       0.72      0.72      0.72     12500\n",
      "\n"
     ]
    }
   ],
   "source": [
    "print(classification_report(y_test,y_pred))"
   ]
  },
  {
   "cell_type": "code",
   "execution_count": 185,
   "metadata": {},
   "outputs": [
    {
     "data": {
      "text/html": [
       "<div>\n",
       "<style scoped>\n",
       "    .dataframe tbody tr th:only-of-type {\n",
       "        vertical-align: middle;\n",
       "    }\n",
       "\n",
       "    .dataframe tbody tr th {\n",
       "        vertical-align: top;\n",
       "    }\n",
       "\n",
       "    .dataframe thead th {\n",
       "        text-align: right;\n",
       "    }\n",
       "</style>\n",
       "<table border=\"1\" class=\"dataframe\">\n",
       "  <thead>\n",
       "    <tr style=\"text-align: right;\">\n",
       "      <th></th>\n",
       "      <th>0</th>\n",
       "      <th>1</th>\n",
       "      <th>2</th>\n",
       "      <th>3</th>\n",
       "      <th>4</th>\n",
       "      <th>5</th>\n",
       "      <th>6</th>\n",
       "      <th>7</th>\n",
       "      <th>8</th>\n",
       "      <th>9</th>\n",
       "      <th>...</th>\n",
       "      <th>190</th>\n",
       "      <th>191</th>\n",
       "      <th>192</th>\n",
       "      <th>193</th>\n",
       "      <th>194</th>\n",
       "      <th>195</th>\n",
       "      <th>196</th>\n",
       "      <th>197</th>\n",
       "      <th>198</th>\n",
       "      <th>199</th>\n",
       "    </tr>\n",
       "  </thead>\n",
       "  <tbody>\n",
       "    <tr>\n",
       "      <th>0</th>\n",
       "      <td>0.102784</td>\n",
       "      <td>-0.065017</td>\n",
       "      <td>-0.156735</td>\n",
       "      <td>0.106677</td>\n",
       "      <td>0.137061</td>\n",
       "      <td>-0.168963</td>\n",
       "      <td>0.132244</td>\n",
       "      <td>0.441216</td>\n",
       "      <td>-0.154406</td>\n",
       "      <td>0.096561</td>\n",
       "      <td>...</td>\n",
       "      <td>0.434787</td>\n",
       "      <td>-0.012865</td>\n",
       "      <td>-0.489164</td>\n",
       "      <td>-0.269366</td>\n",
       "      <td>0.185338</td>\n",
       "      <td>-0.039401</td>\n",
       "      <td>0.254991</td>\n",
       "      <td>-0.356557</td>\n",
       "      <td>-0.010005</td>\n",
       "      <td>-0.248963</td>\n",
       "    </tr>\n",
       "    <tr>\n",
       "      <th>1</th>\n",
       "      <td>0.045742</td>\n",
       "      <td>0.043320</td>\n",
       "      <td>-0.074042</td>\n",
       "      <td>0.196569</td>\n",
       "      <td>0.271681</td>\n",
       "      <td>-0.012407</td>\n",
       "      <td>0.094466</td>\n",
       "      <td>0.333870</td>\n",
       "      <td>-0.094971</td>\n",
       "      <td>0.047601</td>\n",
       "      <td>...</td>\n",
       "      <td>0.198034</td>\n",
       "      <td>-0.028576</td>\n",
       "      <td>-0.184180</td>\n",
       "      <td>-0.226845</td>\n",
       "      <td>0.090813</td>\n",
       "      <td>0.043700</td>\n",
       "      <td>0.225526</td>\n",
       "      <td>-0.100690</td>\n",
       "      <td>0.004563</td>\n",
       "      <td>-0.129879</td>\n",
       "    </tr>\n",
       "    <tr>\n",
       "      <th>2</th>\n",
       "      <td>0.129322</td>\n",
       "      <td>-0.014549</td>\n",
       "      <td>-0.072443</td>\n",
       "      <td>0.113133</td>\n",
       "      <td>0.134239</td>\n",
       "      <td>-0.181880</td>\n",
       "      <td>0.057777</td>\n",
       "      <td>0.384174</td>\n",
       "      <td>-0.057419</td>\n",
       "      <td>0.167858</td>\n",
       "      <td>...</td>\n",
       "      <td>0.282473</td>\n",
       "      <td>-0.072657</td>\n",
       "      <td>-0.283842</td>\n",
       "      <td>-0.165612</td>\n",
       "      <td>0.136651</td>\n",
       "      <td>0.033463</td>\n",
       "      <td>0.248987</td>\n",
       "      <td>-0.266275</td>\n",
       "      <td>-0.037228</td>\n",
       "      <td>-0.168635</td>\n",
       "    </tr>\n",
       "    <tr>\n",
       "      <th>3</th>\n",
       "      <td>-0.064475</td>\n",
       "      <td>-0.009010</td>\n",
       "      <td>-0.104524</td>\n",
       "      <td>0.237195</td>\n",
       "      <td>0.224653</td>\n",
       "      <td>-0.260098</td>\n",
       "      <td>0.077707</td>\n",
       "      <td>0.285436</td>\n",
       "      <td>-0.157143</td>\n",
       "      <td>0.082289</td>\n",
       "      <td>...</td>\n",
       "      <td>0.226010</td>\n",
       "      <td>-0.068331</td>\n",
       "      <td>-0.228392</td>\n",
       "      <td>-0.219807</td>\n",
       "      <td>0.064274</td>\n",
       "      <td>0.006710</td>\n",
       "      <td>0.240656</td>\n",
       "      <td>-0.251915</td>\n",
       "      <td>0.122761</td>\n",
       "      <td>-0.120260</td>\n",
       "    </tr>\n",
       "    <tr>\n",
       "      <th>4</th>\n",
       "      <td>0.016105</td>\n",
       "      <td>0.019367</td>\n",
       "      <td>-0.021337</td>\n",
       "      <td>0.098836</td>\n",
       "      <td>0.161036</td>\n",
       "      <td>-0.082051</td>\n",
       "      <td>0.009915</td>\n",
       "      <td>0.195429</td>\n",
       "      <td>-0.086713</td>\n",
       "      <td>0.049700</td>\n",
       "      <td>...</td>\n",
       "      <td>0.099207</td>\n",
       "      <td>-0.104980</td>\n",
       "      <td>-0.076094</td>\n",
       "      <td>-0.095774</td>\n",
       "      <td>0.060528</td>\n",
       "      <td>0.000787</td>\n",
       "      <td>0.126916</td>\n",
       "      <td>-0.083137</td>\n",
       "      <td>-0.005838</td>\n",
       "      <td>-0.059009</td>\n",
       "    </tr>\n",
       "    <tr>\n",
       "      <th>...</th>\n",
       "      <td>...</td>\n",
       "      <td>...</td>\n",
       "      <td>...</td>\n",
       "      <td>...</td>\n",
       "      <td>...</td>\n",
       "      <td>...</td>\n",
       "      <td>...</td>\n",
       "      <td>...</td>\n",
       "      <td>...</td>\n",
       "      <td>...</td>\n",
       "      <td>...</td>\n",
       "      <td>...</td>\n",
       "      <td>...</td>\n",
       "      <td>...</td>\n",
       "      <td>...</td>\n",
       "      <td>...</td>\n",
       "      <td>...</td>\n",
       "      <td>...</td>\n",
       "      <td>...</td>\n",
       "      <td>...</td>\n",
       "      <td>...</td>\n",
       "    </tr>\n",
       "    <tr>\n",
       "      <th>49995</th>\n",
       "      <td>-0.091041</td>\n",
       "      <td>0.147992</td>\n",
       "      <td>-0.106623</td>\n",
       "      <td>0.145476</td>\n",
       "      <td>0.221421</td>\n",
       "      <td>-0.154975</td>\n",
       "      <td>0.017111</td>\n",
       "      <td>0.230261</td>\n",
       "      <td>-0.142949</td>\n",
       "      <td>0.036318</td>\n",
       "      <td>...</td>\n",
       "      <td>0.174437</td>\n",
       "      <td>-0.072484</td>\n",
       "      <td>-0.046870</td>\n",
       "      <td>-0.117220</td>\n",
       "      <td>0.087782</td>\n",
       "      <td>0.096660</td>\n",
       "      <td>0.171447</td>\n",
       "      <td>-0.106854</td>\n",
       "      <td>0.047198</td>\n",
       "      <td>-0.055558</td>\n",
       "    </tr>\n",
       "    <tr>\n",
       "      <th>49996</th>\n",
       "      <td>0.067534</td>\n",
       "      <td>-0.019115</td>\n",
       "      <td>-0.060963</td>\n",
       "      <td>0.134570</td>\n",
       "      <td>0.241880</td>\n",
       "      <td>-0.237574</td>\n",
       "      <td>0.037253</td>\n",
       "      <td>0.352444</td>\n",
       "      <td>-0.115125</td>\n",
       "      <td>0.110345</td>\n",
       "      <td>...</td>\n",
       "      <td>0.234790</td>\n",
       "      <td>-0.102437</td>\n",
       "      <td>-0.224097</td>\n",
       "      <td>-0.159293</td>\n",
       "      <td>0.048788</td>\n",
       "      <td>0.047804</td>\n",
       "      <td>0.238507</td>\n",
       "      <td>-0.206244</td>\n",
       "      <td>0.005983</td>\n",
       "      <td>-0.160518</td>\n",
       "    </tr>\n",
       "    <tr>\n",
       "      <th>49997</th>\n",
       "      <td>-0.048701</td>\n",
       "      <td>0.087417</td>\n",
       "      <td>-0.156166</td>\n",
       "      <td>0.171813</td>\n",
       "      <td>0.246584</td>\n",
       "      <td>-0.185652</td>\n",
       "      <td>0.050536</td>\n",
       "      <td>0.357943</td>\n",
       "      <td>-0.220197</td>\n",
       "      <td>0.093171</td>\n",
       "      <td>...</td>\n",
       "      <td>0.239675</td>\n",
       "      <td>-0.012386</td>\n",
       "      <td>-0.199529</td>\n",
       "      <td>-0.150670</td>\n",
       "      <td>0.125783</td>\n",
       "      <td>0.123881</td>\n",
       "      <td>0.188027</td>\n",
       "      <td>-0.193417</td>\n",
       "      <td>0.079164</td>\n",
       "      <td>-0.139060</td>\n",
       "    </tr>\n",
       "    <tr>\n",
       "      <th>49998</th>\n",
       "      <td>-0.200018</td>\n",
       "      <td>0.092805</td>\n",
       "      <td>-0.033348</td>\n",
       "      <td>0.394315</td>\n",
       "      <td>0.236044</td>\n",
       "      <td>-0.158789</td>\n",
       "      <td>0.133500</td>\n",
       "      <td>0.407210</td>\n",
       "      <td>-0.255449</td>\n",
       "      <td>0.201354</td>\n",
       "      <td>...</td>\n",
       "      <td>0.378589</td>\n",
       "      <td>-0.238329</td>\n",
       "      <td>-0.211655</td>\n",
       "      <td>-0.088235</td>\n",
       "      <td>0.146730</td>\n",
       "      <td>0.053572</td>\n",
       "      <td>0.373513</td>\n",
       "      <td>-0.229278</td>\n",
       "      <td>-0.132100</td>\n",
       "      <td>-0.274094</td>\n",
       "    </tr>\n",
       "    <tr>\n",
       "      <th>49999</th>\n",
       "      <td>0.175441</td>\n",
       "      <td>-0.010292</td>\n",
       "      <td>-0.090847</td>\n",
       "      <td>0.130497</td>\n",
       "      <td>0.089760</td>\n",
       "      <td>-0.128119</td>\n",
       "      <td>0.063551</td>\n",
       "      <td>0.388418</td>\n",
       "      <td>-0.088738</td>\n",
       "      <td>0.147769</td>\n",
       "      <td>...</td>\n",
       "      <td>0.257548</td>\n",
       "      <td>-0.082203</td>\n",
       "      <td>-0.317293</td>\n",
       "      <td>-0.119069</td>\n",
       "      <td>0.079433</td>\n",
       "      <td>0.062339</td>\n",
       "      <td>0.102128</td>\n",
       "      <td>-0.211562</td>\n",
       "      <td>0.036394</td>\n",
       "      <td>-0.186125</td>\n",
       "    </tr>\n",
       "  </tbody>\n",
       "</table>\n",
       "<p>50000 rows × 200 columns</p>\n",
       "</div>"
      ],
      "text/plain": [
       "            0         1         2         3         4         5         6    \\\n",
       "0      0.102784 -0.065017 -0.156735  0.106677  0.137061 -0.168963  0.132244   \n",
       "1      0.045742  0.043320 -0.074042  0.196569  0.271681 -0.012407  0.094466   \n",
       "2      0.129322 -0.014549 -0.072443  0.113133  0.134239 -0.181880  0.057777   \n",
       "3     -0.064475 -0.009010 -0.104524  0.237195  0.224653 -0.260098  0.077707   \n",
       "4      0.016105  0.019367 -0.021337  0.098836  0.161036 -0.082051  0.009915   \n",
       "...         ...       ...       ...       ...       ...       ...       ...   \n",
       "49995 -0.091041  0.147992 -0.106623  0.145476  0.221421 -0.154975  0.017111   \n",
       "49996  0.067534 -0.019115 -0.060963  0.134570  0.241880 -0.237574  0.037253   \n",
       "49997 -0.048701  0.087417 -0.156166  0.171813  0.246584 -0.185652  0.050536   \n",
       "49998 -0.200018  0.092805 -0.033348  0.394315  0.236044 -0.158789  0.133500   \n",
       "49999  0.175441 -0.010292 -0.090847  0.130497  0.089760 -0.128119  0.063551   \n",
       "\n",
       "            7         8         9    ...       190       191       192  \\\n",
       "0      0.441216 -0.154406  0.096561  ...  0.434787 -0.012865 -0.489164   \n",
       "1      0.333870 -0.094971  0.047601  ...  0.198034 -0.028576 -0.184180   \n",
       "2      0.384174 -0.057419  0.167858  ...  0.282473 -0.072657 -0.283842   \n",
       "3      0.285436 -0.157143  0.082289  ...  0.226010 -0.068331 -0.228392   \n",
       "4      0.195429 -0.086713  0.049700  ...  0.099207 -0.104980 -0.076094   \n",
       "...         ...       ...       ...  ...       ...       ...       ...   \n",
       "49995  0.230261 -0.142949  0.036318  ...  0.174437 -0.072484 -0.046870   \n",
       "49996  0.352444 -0.115125  0.110345  ...  0.234790 -0.102437 -0.224097   \n",
       "49997  0.357943 -0.220197  0.093171  ...  0.239675 -0.012386 -0.199529   \n",
       "49998  0.407210 -0.255449  0.201354  ...  0.378589 -0.238329 -0.211655   \n",
       "49999  0.388418 -0.088738  0.147769  ...  0.257548 -0.082203 -0.317293   \n",
       "\n",
       "            193       194       195       196       197       198       199  \n",
       "0     -0.269366  0.185338 -0.039401  0.254991 -0.356557 -0.010005 -0.248963  \n",
       "1     -0.226845  0.090813  0.043700  0.225526 -0.100690  0.004563 -0.129879  \n",
       "2     -0.165612  0.136651  0.033463  0.248987 -0.266275 -0.037228 -0.168635  \n",
       "3     -0.219807  0.064274  0.006710  0.240656 -0.251915  0.122761 -0.120260  \n",
       "4     -0.095774  0.060528  0.000787  0.126916 -0.083137 -0.005838 -0.059009  \n",
       "...         ...       ...       ...       ...       ...       ...       ...  \n",
       "49995 -0.117220  0.087782  0.096660  0.171447 -0.106854  0.047198 -0.055558  \n",
       "49996 -0.159293  0.048788  0.047804  0.238507 -0.206244  0.005983 -0.160518  \n",
       "49997 -0.150670  0.125783  0.123881  0.188027 -0.193417  0.079164 -0.139060  \n",
       "49998 -0.088235  0.146730  0.053572  0.373513 -0.229278 -0.132100 -0.274094  \n",
       "49999 -0.119069  0.079433  0.062339  0.102128 -0.211562  0.036394 -0.186125  \n",
       "\n",
       "[50000 rows x 200 columns]"
      ]
     },
     "execution_count": 185,
     "metadata": {},
     "output_type": "execute_result"
    }
   ],
   "source": [
    "df_new # correlation coeff "
   ]
  },
  {
   "cell_type": "code",
   "execution_count": null,
   "metadata": {},
   "outputs": [],
   "source": []
  },
  {
   "cell_type": "code",
   "execution_count": null,
   "metadata": {},
   "outputs": [],
   "source": [
    "# todo:\n",
    "0. how to get idf from gensim\n",
    "1. clean the notebook\n",
    "2. check correlation and eliminate anything>0.95\n",
    "2. create fn, pass clf and get the acc- report\n",
    "3. instead of taking avg, consider idf, multiply emnedding of word with idf\n",
    "4. explore doc2vec and build the model and check performance\n",
    "# https://radimrehurek.com/gensim/auto_examples/tutorials/run_doc2vec_lee.html#sphx-glr-auto-examples-tutorials-run-doc2vec-lee-py"
   ]
  },
  {
   "cell_type": "code",
   "execution_count": null,
   "metadata": {},
   "outputs": [],
   "source": []
  },
  {
   "cell_type": "code",
   "execution_count": 176,
   "metadata": {},
   "outputs": [],
   "source": [
    "fi = clf.feature_importances_"
   ]
  },
  {
   "cell_type": "code",
   "execution_count": 177,
   "metadata": {},
   "outputs": [],
   "source": [
    "fn = vectoriser_tfidf.get_feature_names()"
   ]
  },
  {
   "cell_type": "code",
   "execution_count": 178,
   "metadata": {},
   "outputs": [],
   "source": [
    "df = pd.DataFrame({'f_imp':fi,'f_name':fn})"
   ]
  },
  {
   "cell_type": "code",
   "execution_count": 179,
   "metadata": {},
   "outputs": [
    {
     "data": {
      "text/html": [
       "<div>\n",
       "<style scoped>\n",
       "    .dataframe tbody tr th:only-of-type {\n",
       "        vertical-align: middle;\n",
       "    }\n",
       "\n",
       "    .dataframe tbody tr th {\n",
       "        vertical-align: top;\n",
       "    }\n",
       "\n",
       "    .dataframe thead th {\n",
       "        text-align: right;\n",
       "    }\n",
       "</style>\n",
       "<table border=\"1\" class=\"dataframe\">\n",
       "  <thead>\n",
       "    <tr style=\"text-align: right;\">\n",
       "      <th></th>\n",
       "      <th>f_imp</th>\n",
       "      <th>f_name</th>\n",
       "    </tr>\n",
       "  </thead>\n",
       "  <tbody>\n",
       "    <tr>\n",
       "      <th>33568</th>\n",
       "      <td>0.014406</td>\n",
       "      <td>miss</td>\n",
       "    </tr>\n",
       "    <tr>\n",
       "      <th>50416</th>\n",
       "      <td>0.011830</td>\n",
       "      <td>thank</td>\n",
       "    </tr>\n",
       "    <tr>\n",
       "      <th>43790</th>\n",
       "      <td>0.010098</td>\n",
       "      <td>sad</td>\n",
       "    </tr>\n",
       "    <tr>\n",
       "      <th>30758</th>\n",
       "      <td>0.008759</td>\n",
       "      <td>love</td>\n",
       "    </tr>\n",
       "    <tr>\n",
       "      <th>21261</th>\n",
       "      <td>0.007722</td>\n",
       "      <td>good</td>\n",
       "    </tr>\n",
       "    <tr>\n",
       "      <th>...</th>\n",
       "      <td>...</td>\n",
       "      <td>...</td>\n",
       "    </tr>\n",
       "    <tr>\n",
       "      <th>12438</th>\n",
       "      <td>0.000000</td>\n",
       "      <td>cranfil</td>\n",
       "    </tr>\n",
       "    <tr>\n",
       "      <th>38435</th>\n",
       "      <td>0.000000</td>\n",
       "      <td>pathth</td>\n",
       "    </tr>\n",
       "    <tr>\n",
       "      <th>38248</th>\n",
       "      <td>0.000000</td>\n",
       "      <td>parameterizedtyp</td>\n",
       "    </tr>\n",
       "    <tr>\n",
       "      <th>38052</th>\n",
       "      <td>0.000000</td>\n",
       "      <td>paj</td>\n",
       "    </tr>\n",
       "    <tr>\n",
       "      <th>11233</th>\n",
       "      <td>0.000000</td>\n",
       "      <td>cloudnineandten</td>\n",
       "    </tr>\n",
       "  </tbody>\n",
       "</table>\n",
       "<p>57979 rows × 2 columns</p>\n",
       "</div>"
      ],
      "text/plain": [
       "          f_imp            f_name\n",
       "33568  0.014406              miss\n",
       "50416  0.011830             thank\n",
       "43790  0.010098               sad\n",
       "30758  0.008759              love\n",
       "21261  0.007722              good\n",
       "...         ...               ...\n",
       "12438  0.000000           cranfil\n",
       "38435  0.000000            pathth\n",
       "38248  0.000000  parameterizedtyp\n",
       "38052  0.000000               paj\n",
       "11233  0.000000   cloudnineandten\n",
       "\n",
       "[57979 rows x 2 columns]"
      ]
     },
     "execution_count": 179,
     "metadata": {},
     "output_type": "execute_result"
    }
   ],
   "source": [
    "df.sort_values('f_imp',ascending=False)"
   ]
  },
  {
   "cell_type": "code",
   "execution_count": 75,
   "metadata": {},
   "outputs": [],
   "source": [
    "clf_xg = XGBClassifier()"
   ]
  },
  {
   "cell_type": "code",
   "execution_count": 76,
   "metadata": {},
   "outputs": [
    {
     "data": {
      "text/html": [
       "<style>#sk-container-id-4 {color: black;background-color: white;}#sk-container-id-4 pre{padding: 0;}#sk-container-id-4 div.sk-toggleable {background-color: white;}#sk-container-id-4 label.sk-toggleable__label {cursor: pointer;display: block;width: 100%;margin-bottom: 0;padding: 0.3em;box-sizing: border-box;text-align: center;}#sk-container-id-4 label.sk-toggleable__label-arrow:before {content: \"▸\";float: left;margin-right: 0.25em;color: #696969;}#sk-container-id-4 label.sk-toggleable__label-arrow:hover:before {color: black;}#sk-container-id-4 div.sk-estimator:hover label.sk-toggleable__label-arrow:before {color: black;}#sk-container-id-4 div.sk-toggleable__content {max-height: 0;max-width: 0;overflow: hidden;text-align: left;background-color: #f0f8ff;}#sk-container-id-4 div.sk-toggleable__content pre {margin: 0.2em;color: black;border-radius: 0.25em;background-color: #f0f8ff;}#sk-container-id-4 input.sk-toggleable__control:checked~div.sk-toggleable__content {max-height: 200px;max-width: 100%;overflow: auto;}#sk-container-id-4 input.sk-toggleable__control:checked~label.sk-toggleable__label-arrow:before {content: \"▾\";}#sk-container-id-4 div.sk-estimator input.sk-toggleable__control:checked~label.sk-toggleable__label {background-color: #d4ebff;}#sk-container-id-4 div.sk-label input.sk-toggleable__control:checked~label.sk-toggleable__label {background-color: #d4ebff;}#sk-container-id-4 input.sk-hidden--visually {border: 0;clip: rect(1px 1px 1px 1px);clip: rect(1px, 1px, 1px, 1px);height: 1px;margin: -1px;overflow: hidden;padding: 0;position: absolute;width: 1px;}#sk-container-id-4 div.sk-estimator {font-family: monospace;background-color: #f0f8ff;border: 1px dotted black;border-radius: 0.25em;box-sizing: border-box;margin-bottom: 0.5em;}#sk-container-id-4 div.sk-estimator:hover {background-color: #d4ebff;}#sk-container-id-4 div.sk-parallel-item::after {content: \"\";width: 100%;border-bottom: 1px solid gray;flex-grow: 1;}#sk-container-id-4 div.sk-label:hover label.sk-toggleable__label {background-color: #d4ebff;}#sk-container-id-4 div.sk-serial::before {content: \"\";position: absolute;border-left: 1px solid gray;box-sizing: border-box;top: 0;bottom: 0;left: 50%;z-index: 0;}#sk-container-id-4 div.sk-serial {display: flex;flex-direction: column;align-items: center;background-color: white;padding-right: 0.2em;padding-left: 0.2em;position: relative;}#sk-container-id-4 div.sk-item {position: relative;z-index: 1;}#sk-container-id-4 div.sk-parallel {display: flex;align-items: stretch;justify-content: center;background-color: white;position: relative;}#sk-container-id-4 div.sk-item::before, #sk-container-id-4 div.sk-parallel-item::before {content: \"\";position: absolute;border-left: 1px solid gray;box-sizing: border-box;top: 0;bottom: 0;left: 50%;z-index: -1;}#sk-container-id-4 div.sk-parallel-item {display: flex;flex-direction: column;z-index: 1;position: relative;background-color: white;}#sk-container-id-4 div.sk-parallel-item:first-child::after {align-self: flex-end;width: 50%;}#sk-container-id-4 div.sk-parallel-item:last-child::after {align-self: flex-start;width: 50%;}#sk-container-id-4 div.sk-parallel-item:only-child::after {width: 0;}#sk-container-id-4 div.sk-dashed-wrapped {border: 1px dashed gray;margin: 0 0.4em 0.5em 0.4em;box-sizing: border-box;padding-bottom: 0.4em;background-color: white;}#sk-container-id-4 div.sk-label label {font-family: monospace;font-weight: bold;display: inline-block;line-height: 1.2em;}#sk-container-id-4 div.sk-label-container {text-align: center;}#sk-container-id-4 div.sk-container {/* jupyter's `normalize.less` sets `[hidden] { display: none; }` but bootstrap.min.css set `[hidden] { display: none !important; }` so we also need the `!important` here to be able to override the default hidden behavior on the sphinx rendered scikit-learn.org. See: https://github.com/scikit-learn/scikit-learn/issues/21755 */display: inline-block !important;position: relative;}#sk-container-id-4 div.sk-text-repr-fallback {display: none;}</style><div id=\"sk-container-id-4\" class=\"sk-top-container\"><div class=\"sk-text-repr-fallback\"><pre>XGBClassifier(base_score=0.5, booster=&#x27;gbtree&#x27;, callbacks=None,\n",
       "              colsample_bylevel=1, colsample_bynode=1, colsample_bytree=1,\n",
       "              early_stopping_rounds=None, enable_categorical=False,\n",
       "              eval_metric=None, gamma=0, gpu_id=-1, grow_policy=&#x27;depthwise&#x27;,\n",
       "              importance_type=None, interaction_constraints=&#x27;&#x27;,\n",
       "              learning_rate=0.300000012, max_bin=256, max_cat_to_onehot=4,\n",
       "              max_delta_step=0, max_depth=6, max_leaves=0, min_child_weight=1,\n",
       "              missing=nan, monotone_constraints=&#x27;()&#x27;, n_estimators=100,\n",
       "              n_jobs=0, num_parallel_tree=1, predictor=&#x27;auto&#x27;, random_state=0,\n",
       "              reg_alpha=0, reg_lambda=1, ...)</pre><b>In a Jupyter environment, please rerun this cell to show the HTML representation or trust the notebook. <br />On GitHub, the HTML representation is unable to render, please try loading this page with nbviewer.org.</b></div><div class=\"sk-container\" hidden><div class=\"sk-item\"><div class=\"sk-estimator sk-toggleable\"><input class=\"sk-toggleable__control sk-hidden--visually\" id=\"sk-estimator-id-4\" type=\"checkbox\" checked><label for=\"sk-estimator-id-4\" class=\"sk-toggleable__label sk-toggleable__label-arrow\">XGBClassifier</label><div class=\"sk-toggleable__content\"><pre>XGBClassifier(base_score=0.5, booster=&#x27;gbtree&#x27;, callbacks=None,\n",
       "              colsample_bylevel=1, colsample_bynode=1, colsample_bytree=1,\n",
       "              early_stopping_rounds=None, enable_categorical=False,\n",
       "              eval_metric=None, gamma=0, gpu_id=-1, grow_policy=&#x27;depthwise&#x27;,\n",
       "              importance_type=None, interaction_constraints=&#x27;&#x27;,\n",
       "              learning_rate=0.300000012, max_bin=256, max_cat_to_onehot=4,\n",
       "              max_delta_step=0, max_depth=6, max_leaves=0, min_child_weight=1,\n",
       "              missing=nan, monotone_constraints=&#x27;()&#x27;, n_estimators=100,\n",
       "              n_jobs=0, num_parallel_tree=1, predictor=&#x27;auto&#x27;, random_state=0,\n",
       "              reg_alpha=0, reg_lambda=1, ...)</pre></div></div></div></div></div>"
      ],
      "text/plain": [
       "XGBClassifier(base_score=0.5, booster='gbtree', callbacks=None,\n",
       "              colsample_bylevel=1, colsample_bynode=1, colsample_bytree=1,\n",
       "              early_stopping_rounds=None, enable_categorical=False,\n",
       "              eval_metric=None, gamma=0, gpu_id=-1, grow_policy='depthwise',\n",
       "              importance_type=None, interaction_constraints='',\n",
       "              learning_rate=0.300000012, max_bin=256, max_cat_to_onehot=4,\n",
       "              max_delta_step=0, max_depth=6, max_leaves=0, min_child_weight=1,\n",
       "              missing=nan, monotone_constraints='()', n_estimators=100,\n",
       "              n_jobs=0, num_parallel_tree=1, predictor='auto', random_state=0,\n",
       "              reg_alpha=0, reg_lambda=1, ...)"
      ]
     },
     "execution_count": 76,
     "metadata": {},
     "output_type": "execute_result"
    }
   ],
   "source": [
    "clf_xg.fit(X_train_tfidf,y_train)"
   ]
  },
  {
   "cell_type": "code",
   "execution_count": 77,
   "metadata": {},
   "outputs": [],
   "source": [
    "y_pred = clf_xg.predict(X_test_tfidf)"
   ]
  },
  {
   "cell_type": "code",
   "execution_count": 78,
   "metadata": {},
   "outputs": [
    {
     "name": "stdout",
     "output_type": "stream",
     "text": [
      "              precision    recall  f1-score   support\n",
      "\n",
      "           0       0.78      0.65      0.71      6320\n",
      "           1       0.69      0.82      0.75      6180\n",
      "\n",
      "    accuracy                           0.73     12500\n",
      "   macro avg       0.74      0.73      0.73     12500\n",
      "weighted avg       0.74      0.73      0.73     12500\n",
      "\n"
     ]
    }
   ],
   "source": [
    "print(classification_report(y_test,y_pred))"
   ]
  },
  {
   "cell_type": "code",
   "execution_count": null,
   "metadata": {},
   "outputs": [],
   "source": [
    "# # TODO:\n",
    "# DummyClassifier :https://scikit-learn.org/stable/modules/generated/sklearn.dummy.DummyClassifier.html\n",
    "# \n",
    "# 1- N (2,3)-Gram, try on samll data first\n",
    "# 2- try on complete dataset, only if u r getting better rsult in step-1\n",
    "# 3- Try word2vec, Glove (u need to download vector file called.. google-news-50d...)\n",
    "# 4 - then try DT, RF, XgBoost , Naive Bayes\n",
    "# 5 word cloud\n",
    "\n",
    "\n",
    "# # MLP using keras"
   ]
  },
  {
   "cell_type": "code",
   "execution_count": null,
   "metadata": {},
   "outputs": [],
   "source": [
    "pos_df = ta_df['clean_tweet'].loc[ta_df['sentiment'] == 1] \n",
    "#New dataframe of only positive rated tweet tokens\n",
    "\n",
    "neg_df = ta_df['clean_tweet'].loc[ta_df['sentiment'] == 0] \n",
    "#New dataframe of only negative rated tweet tokens"
   ]
  },
  {
   "cell_type": "code",
   "execution_count": null,
   "metadata": {},
   "outputs": [],
   "source": [
    "\n",
    "tokens = [] #Instantiating total token list\n",
    "tokens_pos = [] #Instantiating positive token list\n",
    "tokens_neg = [] #Instantiating negative token list\n",
    "\n",
    "\n",
    "for row in ta_df['clean_tweet']:\n",
    "    tokens.extend(row) #Populating token list from dataframe\n",
    "for row in pos_df:\n",
    "    tokens_pos.extend(row) #Populating token list from dataframe\n",
    "for row in neg_df:\n",
    "    tokens_neg.extend(row) #Populating token list from dataframe\n",
    "\n",
    "print(f'Total Corpus Tokens: {len(tokens)}') #Print total number of tokens\n",
    "print(f'Number of Positive Tokens: {len(tokens_pos)}') #Print number of positive tokens\n",
    "print(f'Number of Negative Tokens: {len(tokens_neg)}') #Print number of negative tokens\n"
   ]
  },
  {
   "cell_type": "code",
   "execution_count": null,
   "metadata": {},
   "outputs": [],
   "source": [
    "def make_ngram(i, tokens_pos = tokens_pos, tokens_neg = tokens_neg): #Defining function\n",
    "    \n",
    "    n_gram_pos = (pd.Series(nltk.ngrams(tokens_pos, i)).value_counts())[:10] #Setting up positive ngram\n",
    "    n_gram_neg = (pd.Series(nltk.ngrams(tokens_neg, i)).value_counts())[:10] #Setting up negative ngram\n",
    "    \n",
    "    n_gram_df_pos = pd.DataFrame(n_gram_pos) #Creating positive ngram dataframe\n",
    "    n_gram_df_neg = pd.DataFrame(n_gram_neg) #Creating negative ngram dataframe\n",
    "    \n",
    "    n_gram_df_pos = n_gram_df_pos.reset_index() #Resetting index\n",
    "    n_gram_df_neg = n_gram_df_neg.reset_index() #Resetting index\n",
    "    \n",
    "    n_gram_df_pos = n_gram_df_pos.rename(columns = {'index': 'Phrase', 0: 'Count'}) #Renaming positive plot\n",
    "    n_gram_df_neg = n_gram_df_neg.rename(columns = {'index': 'Phrase', 0: 'Count'}) #Renaming negative plot\n",
    "    \n",
    "    with sns.axes_style('darkgrid'): #Setting seaborn to darkgrid style\n",
    "        \n",
    "        fig = plt.figure(figsize = (10, 10)) #Setting figsize\n",
    "        ax1 = fig.add_subplot(311) #Stacking first figure\n",
    "        ax2 = fig.add_subplot(312) #Stacking second figure\n",
    "        \n",
    "        sns.barplot(ax = ax1, x = 'Count', y = 'Phrase', data = n_gram_df_pos, \n",
    "                    palette = 'Greens_r').set(title = 'Positive Ngrams') #Assigning barplot to positive ngrams\n",
    "        sns.barplot(ax = ax2, x = 'Count', y = 'Phrase', data = n_gram_df_neg, \n",
    "                   palette = 'Reds_r').set(title = 'Negative Ngrams') #Assigning barplot to negative ngrams\n",
    "        \n",
    "        \n",
    "    plt.tight_layout() #Make plot layouts tight\n",
    "\n",
    "make_ngram(1) #Plot 1 word ngrams"
   ]
  },
  {
   "cell_type": "code",
   "execution_count": null,
   "metadata": {},
   "outputs": [],
   "source": [
    "make_ngram(2) #Plot 2 word ngrams"
   ]
  },
  {
   "cell_type": "code",
   "execution_count": null,
   "metadata": {},
   "outputs": [],
   "source": [
    "make_ngram(3) #Plot 3 word ngrams"
   ]
  },
  {
   "cell_type": "code",
   "execution_count": null,
   "metadata": {},
   "outputs": [],
   "source": [
    "# from multiprocessing import Process"
   ]
  },
  {
   "cell_type": "code",
   "execution_count": null,
   "metadata": {},
   "outputs": [],
   "source": [
    "from multiprocessing import *"
   ]
  },
  {
   "cell_type": "code",
   "execution_count": null,
   "metadata": {},
   "outputs": [],
   "source": [
    "#cores = multiprocessing.cpu_count() # Count the number of cores in a computer"
   ]
  },
  {
   "cell_type": "code",
   "execution_count": null,
   "metadata": {},
   "outputs": [],
   "source": [
    "documents = [_text.split() for _text in X_train.text] "
   ]
  },
  {
   "cell_type": "code",
   "execution_count": null,
   "metadata": {},
   "outputs": [],
   "source": [
    "words = w2v_model.wv.vocab.keys()\n",
    "vocab_size = len(words)\n",
    "print(\"Vocab size\", vocab_size)"
   ]
  },
  {
   "cell_type": "code",
   "execution_count": null,
   "metadata": {},
   "outputs": [],
   "source": [
    "embedding_matrix = np.zeros((vocab_size, W2V_SIZE))\n",
    "for word, i in tokenizer.word_index.items():\n",
    "  if word in w2v_model.wv:\n",
    "    embedding_matrix[i] = w2v_model.wv[word]\n",
    "print(embedding_matrix.shape)"
   ]
  },
  {
   "cell_type": "code",
   "execution_count": null,
   "metadata": {},
   "outputs": [],
   "source": []
  },
  {
   "cell_type": "code",
   "execution_count": null,
   "metadata": {},
   "outputs": [],
   "source": []
  },
  {
   "cell_type": "code",
   "execution_count": null,
   "metadata": {},
   "outputs": [],
   "source": []
  },
  {
   "cell_type": "code",
   "execution_count": null,
   "metadata": {},
   "outputs": [],
   "source": []
  },
  {
   "cell_type": "code",
   "execution_count": null,
   "metadata": {},
   "outputs": [],
   "source": [
    "# corpus = [\n",
    "#     'This is the first document.',\n",
    "#     'This document is the second document.',\n",
    "#     'And this is the third one.',\n",
    "#     'Is this the first document?',\n",
    "# ]\n",
    "# vectorizer = CountVectorizer() # ,TfidfVectorizer()\n",
    "# X = vectorizer.fit_transform(corpus)"
   ]
  },
  {
   "cell_type": "code",
   "execution_count": null,
   "metadata": {},
   "outputs": [],
   "source": [
    "# tweet = tweet.apply(str)"
   ]
  },
  {
   "cell_type": "code",
   "execution_count": null,
   "metadata": {},
   "outputs": [],
   "source": [
    "# import time\n",
    "# t = time.time()\n",
    "# processed_text = text_process(clean_tweets)\n",
    "# print(f'Text Preprocessing complete.')\n",
    "# print(f'Time Taken: {round(time.time()-t)} seconds')"
   ]
  },
  {
   "cell_type": "code",
   "execution_count": null,
   "metadata": {},
   "outputs": [],
   "source": []
  },
  {
   "cell_type": "code",
   "execution_count": null,
   "metadata": {},
   "outputs": [],
   "source": []
  },
  {
   "cell_type": "code",
   "execution_count": null,
   "metadata": {},
   "outputs": [],
   "source": []
  },
  {
   "cell_type": "code",
   "execution_count": null,
   "metadata": {},
   "outputs": [],
   "source": []
  },
  {
   "cell_type": "code",
   "execution_count": null,
   "metadata": {},
   "outputs": [],
   "source": []
  },
  {
   "cell_type": "code",
   "execution_count": null,
   "metadata": {},
   "outputs": [],
   "source": []
  },
  {
   "cell_type": "code",
   "execution_count": null,
   "metadata": {},
   "outputs": [],
   "source": []
  },
  {
   "cell_type": "code",
   "execution_count": null,
   "metadata": {},
   "outputs": [],
   "source": []
  },
  {
   "cell_type": "code",
   "execution_count": null,
   "metadata": {},
   "outputs": [],
   "source": []
  },
  {
   "cell_type": "markdown",
   "metadata": {},
   "source": [
    "We create a new column for the clean Tweets but we will keep the old column as well in case we need it later on. "
   ]
  },
  {
   "cell_type": "markdown",
   "metadata": {},
   "source": []
  },
  {
   "cell_type": "markdown",
   "metadata": {},
   "source": [
    "We remove any short words that are less than 2 letters as they often happen to be meaningless and will not help our model. "
   ]
  },
  {
   "cell_type": "code",
   "execution_count": null,
   "metadata": {},
   "outputs": [],
   "source": [
    "# Remove short words\n",
    "#ta_df['Clean_Tweets'] = ta_df['Clean_Tweets'].apply(lambda x: ' '.join([w for w in x.split() if len(w)>2]))\n"
   ]
  },
  {
   "cell_type": "markdown",
   "metadata": {},
   "source": [
    "#### Stemming\n",
    "We stem the words to make our text more standardize.\n"
   ]
  },
  {
   "cell_type": "markdown",
   "metadata": {},
   "source": [
    "ps = nltk.PorterStemmer()\n",
    "\n",
    "def stemming(text):\n",
    "    text = [ps.stem(word) for word in text]\n",
    "    return text\n",
    "\n",
    "tokenized_tweets = ta_df['clean_tweets'].apply(lambda x: stemming(x))\n",
    "ta_df.head()"
   ]
  },
  {
   "cell_type": "markdown",
   "metadata": {},
   "source": [
    "#### Tokenize\n",
    "We tokenize the tweets so that we can make a use of our text. "
   ]
  },
  {
   "cell_type": "code",
   "execution_count": null,
   "metadata": {},
   "outputs": [],
   "source": [
    "#Create a function to tenize the tweets\n",
    "\n",
    "ta_df['tokenize_tweets'] = clean_tweets.apply(word_tokenize)\n",
    "#ta_df['tokenize_tweets'].head()"
   ]
  },
  {
   "cell_type": "code",
   "execution_count": null,
   "metadata": {},
   "outputs": [],
   "source": [
    "ta_df.head()"
   ]
  },
  {
   "cell_type": "markdown",
   "metadata": {},
   "source": [
    "##  Exploratory Data Analysis (EDA)"
   ]
  },
  {
   "cell_type": "markdown",
   "metadata": {},
   "source": [
    "#### TF IDF Vector\n",
    "\n",
    "TF-IDF is a way to measure statistically the relevant words in the document. It is effectively the product of frequency in which a word appears in a text and inverse document frequency (I.e. whether the word is rare or common in the text.)"
   ]
  },
  {
   "cell_type": "code",
   "execution_count": null,
   "metadata": {},
   "outputs": [],
   "source": [
    "tweets_concat = []\n",
    "for tweet in ta_df['tokenize_tweets']:\n",
    "   tweets_concat += tweet"
   ]
  },
  {
   "cell_type": "code",
   "execution_count": null,
   "metadata": {},
   "outputs": [],
   "source": [
    "tweets_freqdist = FreqDist(tweets_concat)\n",
    "tweets_freqdist.most_common(200)"
   ]
  },
  {
   "cell_type": "code",
   "execution_count": null,
   "metadata": {},
   "outputs": [],
   "source": [
    "vectorizer = CountVectorizer()\n",
    "docs       = vectorizer.fit_transform(tweets_concat)\n",
    "features   = vectorizer.get_feature_names()\n",
    "\n",
    "visualizer = FreqDistVisualizer(features=features, orient='v')\n",
    "visualizer.fit(docs)\n",
    "visualizer.show()"
   ]
  },
  {
   "cell_type": "markdown",
   "metadata": {},
   "source": [
    "The top 10 are The follwoing: \n",
    "    \n",
    "    1.sxsw\n",
    "    2.mention\n",
    "    3.link\n",
    "    4.ipad\n",
    "    4.apple\n",
    "    5.google\n",
    "    6.iphone\n",
    "    7.quot\n",
    "    8.store\n",
    "    9.app\n",
    "    10.new"
   ]
  },
  {
   "cell_type": "markdown",
   "metadata": {},
   "source": [
    "***QUESTION - How can it be helpful for me to know this *** "
   ]
  },
  {
   "cell_type": "code",
   "execution_count": null,
   "metadata": {},
   "outputs": [],
   "source": [
    "def red_color_func(word, font_size, position, orientation, random_state=None,**kwargs):\n",
    "    return tuple(Reds_9.colors[random.randint(6,8)])  # Function to help us generate wordcloud"
   ]
  },
  {
   "cell_type": "markdown",
   "metadata": {},
   "source": [
    "* What are the most common words used in our data?"
   ]
  },
  {
   "cell_type": "code",
   "execution_count": null,
   "metadata": {},
   "outputs": [],
   "source": [
    "# We visualize our data with a word cloud \n",
    "\n",
    "all_words = ' '.join([text for text in ta_df['clean_tweets']])\n",
    "\n",
    "wordcloud = WordCloud(width=800, height=500, random_state=21, max_font_size=110).generate(all_words)\n",
    "\n",
    "plt.figure(figsize=(10, 7))\n",
    "plt.imshow(wordcloud, interpolation=\"bilinear\")\n",
    "plt.axis('off')\n",
    "plt.show()"
   ]
  },
  {
   "cell_type": "markdown",
   "metadata": {},
   "source": [
    "* What are the most common words in our data for negative and positive tweets?"
   ]
  },
  {
   "cell_type": "markdown",
   "metadata": {},
   "source": [
    "####                                                                       Positive "
   ]
  },
  {
   "cell_type": "code",
   "execution_count": null,
   "metadata": {},
   "outputs": [],
   "source": [
    "ta_df['sentiment']"
   ]
  },
  {
   "cell_type": "code",
   "execution_count": null,
   "metadata": {},
   "outputs": [],
   "source": [
    "# Extract all tweets into one long string with each word separate with a \"space\"\n",
    "ta_df['clean_tweets'] = ta_df['clean_tweets'].apply(str)\n",
    "ta_df['sentiment'] = ta_df['sentiment'].apply(str)\n",
    "tweets_long_string = ta_df['sentiment'].tolist()\n",
    "tweets_long_string = \" \".join(tweets_long_string)\n"
   ]
  },
  {
   "cell_type": "code",
   "execution_count": null,
   "metadata": {},
   "outputs": [],
   "source": [
    "# Choosing sentiments that are positive and combining them\n",
    "\n",
    "# po_sentiments = ta_df[ta_df['sentiment']=='positive'] \n",
    "\n",
    "# pt= \" \".join([sentence for sentence in ta_df['clean_tweets'] =='positive'])\n",
    "\n",
    "# # Choosing sentiments that are negative and combining them\n",
    "\n",
    "# ne_sentiments = ta_df[ta_df['sentiment']=='negative']\n",
    "\n",
    "# nt = \" \".join([sentence for sentence in ta_df['clean_tweets'][ta_df['sentiment']=='negative']])"
   ]
  },
  {
   "cell_type": "markdown",
   "metadata": {},
   "source": [
    "    * QUESTION WHY DOESNT WORK\n",
    "    \n",
    "\n",
    "font_path = \"/Users/nataliaedelson/Desktop/OpenSans-CondBold.ttf\""
   ]
  },
  {
   "cell_type": "code",
   "execution_count": null,
   "metadata": {},
   "outputs": [],
   "source": [
    "# We build a function to generate word cloud\n",
    "def plot_wordcloud(wordcloud):\n",
    "    plt.figure(figsize=(30,30))\n",
    "    plt.imshow(wordcloud)\n",
    "    plt.axis(\"off\")"
   ]
  },
  {
   "cell_type": "code",
   "execution_count": null,
   "metadata": {},
   "outputs": [],
   "source": [
    "# Add thumbs up \n"
   ]
  },
  {
   "cell_type": "code",
   "execution_count": null,
   "metadata": {},
   "outputs": [],
   "source": [
    "# Import image to np.array\n",
    "mask = np.array(Image.open('td.png'))\n",
    "# Generate wordcloud\n",
    "wordcloud = WordCloud(width = 3000, height = 2000, random_state=1, background_color='white', colormap='Reds', collocations=False, contour_color = 'white',contour_width=1, mask=mask).generate(nt)\n",
    "# Plot\n",
    "plot_wordcloud(wordcloud)"
   ]
  },
  {
   "cell_type": "markdown",
   "metadata": {},
   "source": [
    "We would like to see if I can get more color on the word distribution and check what the output will be if we extract adjectives."
   ]
  },
  {
   "cell_type": "code",
   "execution_count": null,
   "metadata": {},
   "outputs": [],
   "source": [
    "# We build a function to obtain adjectives from tweets\n",
    "def getAdjectives(tweet):\n",
    "    tweet = word_tokenize(tweet)  # convert string to tokens\n",
    "    tweet = [word for (word, tag) in pos_tag(tweet)\n",
    "             if tag == \"JJ\"]  # pos_tag module in NLTK librarybb\n",
    "    return \" \".join(tweet)  # join words with a space in between them"
   ]
  },
  {
   "cell_type": "code",
   "execution_count": null,
   "metadata": {},
   "outputs": [],
   "source": [
    "# Convert teh column in to strings \n",
    "ta_df['clean_tweets'] = ta_df['clean_tweets'].apply(str)"
   ]
  },
  {
   "cell_type": "code",
   "execution_count": null,
   "metadata": {},
   "outputs": [],
   "source": [
    "# Apply getAdgectives to our tweets\n",
    "ta_df['tweets_adjectives'] = ta_df['clean_tweets'].apply(getAdjectives)"
   ]
  },
  {
   "cell_type": "code",
   "execution_count": null,
   "metadata": {},
   "outputs": [],
   "source": [
    "ta_df.head() # Check dataframe first 5 rows"
   ]
  },
  {
   "cell_type": "code",
   "execution_count": null,
   "metadata": {},
   "outputs": [],
   "source": [
    "# Extract all tweets into one long string with each word separate with a \"space\"\n",
    "tweets_long_string = ta_df['tweets_adjectives'].tolist()\n",
    "tweets_long_string = \" \".join(tweets_long_string)"
   ]
  },
  {
   "cell_type": "code",
   "execution_count": null,
   "metadata": {},
   "outputs": [],
   "source": [
    "#Frequency of words in our data\n",
    "#fdist = FreqDist(TA['Clean_Tweets'])\n",
    "#WordCloud\n",
    "wc = WordCloud(width=900, height=500, max_words=50).generate(tweets_long_string )\n",
    "plt.figure(figsize=(12,10))\n",
    "plt.imshow(wc, interpolation=\"bilinear\")\n",
    "plt.axis(\"off\")\n",
    "plt.show()"
   ]
  },
  {
   "cell_type": "code",
   "execution_count": null,
   "metadata": {},
   "outputs": [],
   "source": [
    "total_vocab = set()\n",
    "for comment in ta_df['clean_tweets']:\n",
    "    total_vocab.update(comment)\n",
    "len(total_vocab)"
   ]
  },
  {
   "cell_type": "markdown",
   "metadata": {},
   "source": [
    "*** DOUBLE CHECK # There are 7,921 unique words"
   ]
  },
  {
   "cell_type": "code",
   "execution_count": null,
   "metadata": {},
   "outputs": [],
   "source": [
    "# Distribution of data focusing on sentiments and sentiment’s brand "
   ]
  },
  {
   "cell_type": "code",
   "execution_count": null,
   "metadata": {},
   "outputs": [],
   "source": [
    "p = sns.countplot(data = ta_df, y = 'sentiment', palette=\"Set3\") #Setting p to plot of Emotion\n",
    "p.set(xlabel = 'count') #Labling X\n",
    "p.set(ylabel = 'sentiment') #Labling Y\n",
    "p.set(title = \"Count of Tweets per Sentiment\")"
   ]
  },
  {
   "cell_type": "markdown",
   "metadata": {},
   "source": [
    "There are four more times positive tweets than negatives. There are barely any neutral tweets.\n"
   ]
  },
  {
   "cell_type": "code",
   "execution_count": null,
   "metadata": {},
   "outputs": [],
   "source": [
    "p = sns.countplot(data = ta_df, y = 'product_brand', palette=\"Set3\") #Setting p to plot of Emotion\n",
    "p.set(xlabel = 'Count') #Labling X\n",
    "p.set(ylabel = 'Product_Brand') #Labling Y\n",
    "p.set(title = \"Count of Tweets per Sentiment\")\n",
    "\n"
   ]
  },
  {
   "cell_type": "markdown",
   "metadata": {},
   "source": [
    "Apple has a little more than double tweets "
   ]
  },
  {
   "cell_type": "code",
   "execution_count": null,
   "metadata": {},
   "outputs": [],
   "source": [
    "ta_df.head()"
   ]
  },
  {
   "cell_type": "code",
   "execution_count": null,
   "metadata": {},
   "outputs": [],
   "source": [
    "display(ta_df.groupby(['sentiment'])['product_brand'].value_counts()) #Checking tweets rated by brand\n",
    "\n",
    "display(ta_df.groupby(['product_brand'])['sentiment'].value_counts()) #Checking tweets rated by brand"
   ]
  },
  {
   "cell_type": "code",
   "execution_count": null,
   "metadata": {},
   "outputs": [],
   "source": [
    "plot = sns.countplot(data = ta_df, x = 'product_brand', hue = 'sentiment') #Setting p to plot of Brand and Emotion\n",
    "plot.legend(title = 'sentiment', bbox_to_anchor = (1, 1), loc = 'upper left') #Creating legend for plot\n",
    "plot.set(xlabel = 'Product_Brand') #Setting x label\n",
    "plot.set(ylabel = 'Count') #Setting y label\n",
    "plot.set(title = 'No. of Tweets per Brand by Sentiment'); #Setting title of plot"
   ]
  },
  {
   "cell_type": "code",
   "execution_count": null,
   "metadata": {},
   "outputs": [],
   "source": [
    "plot = sns.countplot(data = ta_df, x = 'sentiment', hue = 'product_brand',color='silver') #Setting p to plot of Emotion and Brand\n",
    "plot.legend(title = 'Product_Brand', bbox_to_anchor = (1, 1), loc = 'upper left') #Creating legend for plot\n",
    "plot.set(xlabel = 'Sentiment') #Setting x label\n",
    "plot.set(ylabel = 'Count') #Setting y label\n",
    "plot.set(title = 'No. of Tweets per sentiment by Brand'); #Setting title of plot"
   ]
  },
  {
   "cell_type": "markdown",
   "metadata": {},
   "source": [
    "#https://www.sharpsightlabs.com/blog/seaborn-countplot/"
   ]
  },
  {
   "cell_type": "markdown",
   "metadata": {},
   "source": [
    "### N-grams"
   ]
  },
  {
   "cell_type": "code",
   "execution_count": null,
   "metadata": {},
   "outputs": [],
   "source": [
    "stop "
   ]
  },
  {
   "cell_type": "code",
   "execution_count": null,
   "metadata": {},
   "outputs": [],
   "source": [
    "#Converting to dummy variables "
   ]
  },
  {
   "cell_type": "markdown",
   "metadata": {},
   "source": [
    "sentiments_dummies = pd.get_dummies(TA[\"Sentiment\"], prefix=\"Sentiment\")\n",
    "TA = pd.concat([TA, sentiments_dummies ], axis = 1)\n",
    "TA.head()"
   ]
  },
  {
   "cell_type": "code",
   "execution_count": null,
   "metadata": {},
   "outputs": [],
   "source": [
    "\n",
    "X = ta_df[\"tokenize_tweets\"]  \n",
    "y = ta_df[\"sentiment\"]\n",
    " "
   ]
  },
  {
   "cell_type": "code",
   "execution_count": null,
   "metadata": {},
   "outputs": [],
   "source": [
    "from sklearn.model_selection import train_test_split  \n",
    "X_train, X_test, y_train, y_test = train_test_split(X, y, test_size=0.2, random_state=0)\n",
    " "
   ]
  },
  {
   "cell_type": "code",
   "execution_count": null,
   "metadata": {},
   "outputs": [],
   "source": [
    "ta_df.head()\n"
   ]
  },
  {
   "cell_type": "code",
   "execution_count": null,
   "metadata": {},
   "outputs": [],
   "source": [
    "#Transforming data set"
   ]
  },
  {
   "cell_type": "code",
   "execution_count": null,
   "metadata": {},
   "outputs": [],
   "source": [
    "vectorizer =TfidfVectorizer(ngram_range=(1,2), max_features =40000)"
   ]
  },
  {
   "cell_type": "code",
   "execution_count": null,
   "metadata": {},
   "outputs": [],
   "source": [
    "#vectorizer.fit(X_train)"
   ]
  },
  {
   "cell_type": "code",
   "execution_count": null,
   "metadata": {},
   "outputs": [],
   "source": [
    "Print(\"Number of words:\", len(vectorizer.getfeature_names()))"
   ]
  },
  {
   "cell_type": "code",
   "execution_count": null,
   "metadata": {},
   "outputs": [],
   "source": [
    "'''\n",
    "    from sklearn.ensemble import RandomForestClassifier\n",
    "    text_classifier = RandomForestClassifier(n_estimators=100, random_state=0)  \n",
    "    text_classifier.fit(X_train, y_train)\n",
    "    '''"
   ]
  },
  {
   "cell_type": "code",
   "execution_count": null,
   "metadata": {},
   "outputs": [],
   "source": [
    "\n",
    " \n",
    "# Wordcloud with positive tweets\n",
    "positive_tweets = df['tweet'][df[\"sentiment\"] == 'Positive']\n",
    "stop_words = [\"https\", \"co\", \"RT\"] + list(STOPWORDS)\n",
    "positive_wordcloud = WordCloud(max_font_size=50, max_words=50, background_color=\"white\", stopwords = stop_words).generate(str(positive_tweets))\n",
    "plt.figure()\n",
    "plt.title(\"Positive Tweets - Wordcloud\")\n",
    "plt.imshow(positive_wordcloud, interpolation=\"bilinear\")\n",
    "plt.axis(\"off\")\n",
    "plt.show()\n",
    " \n",
    "# Wordcloud with negative tweets\n",
    "negative_tweets = df['tweet'][df[\"sentiment\"] == 'Negative']\n",
    "stop_words = [\"https\", \"co\", \"RT\"] + list(STOPWORDS)\n",
    "negative_wordcloud = WordCloud(max_font_size=50, max_words=50, background_color=\"white\", stopwords = stop_words).generate(str(negative_tweets))\n",
    "plt.figure()\n",
    "plt.title(\"Negative Tweets - Wordcloud\")\n",
    "plt.imshow(negative_wordcloud, interpolation=\"bilinear\")\n",
    "plt.axis(\"off\")\n",
    "plt.show()"
   ]
  },
  {
   "cell_type": "code",
   "execution_count": null,
   "metadata": {},
   "outputs": [],
   "source": []
  },
  {
   "cell_type": "code",
   "execution_count": null,
   "metadata": {},
   "outputs": [],
   "source": []
  },
  {
   "cell_type": "code",
   "execution_count": null,
   "metadata": {},
   "outputs": [],
   "source": []
  },
  {
   "cell_type": "code",
   "execution_count": null,
   "metadata": {},
   "outputs": [],
   "source": []
  },
  {
   "cell_type": "code",
   "execution_count": null,
   "metadata": {},
   "outputs": [],
   "source": []
  },
  {
   "cell_type": "code",
   "execution_count": null,
   "metadata": {},
   "outputs": [],
   "source": []
  },
  {
   "cell_type": "code",
   "execution_count": null,
   "metadata": {},
   "outputs": [],
   "source": []
  },
  {
   "cell_type": "code",
   "execution_count": null,
   "metadata": {},
   "outputs": [],
   "source": []
  }
 ],
 "metadata": {
  "kernelspec": {
   "display_name": "Python 3 (ipykernel)",
   "language": "python",
   "name": "python3"
  },
  "language_info": {
   "codemirror_mode": {
    "name": "ipython",
    "version": 3
   },
   "file_extension": ".py",
   "mimetype": "text/x-python",
   "name": "python",
   "nbconvert_exporter": "python",
   "pygments_lexer": "ipython3",
   "version": "3.9.15"
  },
  "toc": {
   "base_numbering": 1,
   "nav_menu": {},
   "number_sections": false,
   "sideBar": true,
   "skip_h1_title": true,
   "title_cell": "Table of Contents",
   "title_sidebar": "Contents",
   "toc_cell": true,
   "toc_position": {},
   "toc_section_display": true,
   "toc_window_display": false
  }
 },
 "nbformat": 4,
 "nbformat_minor": 4
}
