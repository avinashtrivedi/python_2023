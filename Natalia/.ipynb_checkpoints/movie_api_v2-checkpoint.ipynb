{
 "cells": [
  {
   "cell_type": "code",
   "execution_count": 1,
   "id": "8b5b569a",
   "metadata": {},
   "outputs": [],
   "source": [
    "import requests"
   ]
  },
  {
   "cell_type": "code",
   "execution_count": 2,
   "id": "44a234d9",
   "metadata": {},
   "outputs": [],
   "source": [
    "# sometimes websites stop you from extracting the data for some reason. It can be due to some authentication errors.\n",
    "\n",
    "def get_data(ex_id,flag=False):\n",
    "    needed_headers = {'User-Agent': \"Mozilla/5.0 (Windows NT 6.3; Win64; x64) AppleWebKit/537.36 (KHTML, like Gecko) Chrome/92.0.4515.131 Safari/537.36\"}\n",
    "\n",
    "#     url = \"https://api.themoviedb.org/3/movie/popular?api_key=81b49b634e27bb42bfe9fd2a462146c0&page=1\"\n",
    "    if flag:\n",
    "        url = f\"https://api.themoviedb.org/3/movie/{ex_id}?api_key=81b49b634e27bb42bfe9fd2a462146c0\"\n",
    "    else:\n",
    "        url = f\"https://api.themoviedb.org/3/find/{ex_id}?api_key=81b49b634e27bb42bfe9fd2a462146c0&language=en-US&external_source=imdb_id\"\n",
    "    response = requests.get(url, headers = needed_headers )\n",
    "    if response.status_code !=200:\n",
    "        print('Error',ex_id)\n",
    "    return response"
   ]
  },
  {
   "cell_type": "code",
   "execution_count": 3,
   "id": "1bed08be",
   "metadata": {},
   "outputs": [],
   "source": [
    "def get_json(imdb_id):\n",
    "    response = get_data(imdb_id)\n",
    "    try:\n",
    "        api_id = response.json()['movie_results'][0]['id']\n",
    "        response = get_data(api_id,True)\n",
    "        return response.json()\n",
    "    except:\n",
    "        return {}"
   ]
  },
  {
   "cell_type": "code",
   "execution_count": 4,
   "id": "4147bdbd",
   "metadata": {},
   "outputs": [],
   "source": [
    "import pandas as pd"
   ]
  },
  {
   "cell_type": "code",
   "execution_count": 5,
   "id": "055e2652",
   "metadata": {},
   "outputs": [],
   "source": [
    "df = pd.read_csv(r'D:\\OneDrive - NITT\\Custom_Download\\titles.csv.zip')"
   ]
  },
  {
   "cell_type": "code",
   "execution_count": 6,
   "id": "4846aa97",
   "metadata": {},
   "outputs": [
    {
     "data": {
      "text/plain": [
       "1        tt0075314\n",
       "2        tt0068473\n",
       "3        tt0071853\n",
       "4        tt0061578\n",
       "5        tt0063929\n",
       "           ...    \n",
       "5843    tt14216488\n",
       "5845    tt13857480\n",
       "5846    tt11803618\n",
       "5847    tt14585902\n",
       "5849    tt13711094\n",
       "Name: imdb_id, Length: 5447, dtype: object"
      ]
     },
     "execution_count": 6,
     "metadata": {},
     "output_type": "execute_result"
    }
   ],
   "source": [
    "df['imdb_id'].dropna()"
   ]
  },
  {
   "cell_type": "code",
   "execution_count": 7,
   "id": "48df157d",
   "metadata": {},
   "outputs": [],
   "source": [
    "df = df[~df['imdb_id'].isna()]"
   ]
  },
  {
   "cell_type": "code",
   "execution_count": 8,
   "id": "499abeaa",
   "metadata": {},
   "outputs": [],
   "source": [
    "from tqdm.notebook import tqdm"
   ]
  },
  {
   "cell_type": "code",
   "execution_count": 9,
   "id": "26bc7ec5",
   "metadata": {},
   "outputs": [],
   "source": [
    "tqdm.pandas()"
   ]
  },
  {
   "cell_type": "code",
   "execution_count": 10,
   "id": "cfaa350c",
   "metadata": {},
   "outputs": [
    {
     "data": {
      "text/plain": [
       "1        tt0075314\n",
       "2        tt0068473\n",
       "3        tt0071853\n",
       "4        tt0061578\n",
       "5        tt0063929\n",
       "           ...    \n",
       "5843    tt14216488\n",
       "5845    tt13857480\n",
       "5846    tt11803618\n",
       "5847    tt14585902\n",
       "5849    tt13711094\n",
       "Name: imdb_id, Length: 5447, dtype: object"
      ]
     },
     "execution_count": 10,
     "metadata": {},
     "output_type": "execute_result"
    }
   ],
   "source": [
    "df['imdb_id']"
   ]
  },
  {
   "cell_type": "code",
   "execution_count": 11,
   "id": "81a4249f",
   "metadata": {},
   "outputs": [
    {
     "data": {
      "application/vnd.jupyter.widget-view+json": {
       "model_id": "d98cff27204d416ab7a47a76a0c65caa",
       "version_major": 2,
       "version_minor": 0
      },
      "text/plain": [
       "  0%|          | 0/10 [00:00<?, ?it/s]"
      ]
     },
     "metadata": {},
     "output_type": "display_data"
    },
    {
     "data": {
      "text/plain": [
       "1     {'adult': False, 'backdrop_path': '/orjyEE9ZcM...\n",
       "2     {'adult': False, 'backdrop_path': '/jOaxen3pkK...\n",
       "3     {'adult': False, 'backdrop_path': '/nWkxOXpctN...\n",
       "4     {'adult': False, 'backdrop_path': '/ccegwWa7I2...\n",
       "5                                                    {}\n",
       "6     {'adult': False, 'backdrop_path': '/gbLeMznYBl...\n",
       "7     {'adult': False, 'backdrop_path': '/ezrb56Ydko...\n",
       "8     {'adult': False, 'backdrop_path': '/fyzSiE8IWe...\n",
       "9     {'adult': False, 'backdrop_path': '/kMvC3UMjhW...\n",
       "10    {'adult': False, 'backdrop_path': '/AsBJ7JjNR7...\n",
       "Name: imdb_id, dtype: object"
      ]
     },
     "execution_count": 11,
     "metadata": {},
     "output_type": "execute_result"
    }
   ],
   "source": [
    "df['imdb_id'][:10].progress_apply(lambda imdb_id:get_json(imdb_id))"
   ]
  },
  {
   "cell_type": "code",
   "execution_count": 12,
   "id": "62fc049a",
   "metadata": {},
   "outputs": [],
   "source": [
    "# save this final dataframe as csv\n",
    "# work on json column and gte the necessary data"
   ]
  }
 ],
 "metadata": {
  "kernelspec": {
   "display_name": "Python 3 (ipykernel)",
   "language": "python",
   "name": "python3"
  },
  "language_info": {
   "codemirror_mode": {
    "name": "ipython",
    "version": 3
   },
   "file_extension": ".py",
   "mimetype": "text/x-python",
   "name": "python",
   "nbconvert_exporter": "python",
   "pygments_lexer": "ipython3",
   "version": "3.9.15"
  }
 },
 "nbformat": 4,
 "nbformat_minor": 5
}
