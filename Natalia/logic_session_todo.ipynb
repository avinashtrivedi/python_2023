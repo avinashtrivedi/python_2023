{
 "cells": [
  {
   "cell_type": "code",
   "execution_count": 1,
   "id": "cd37a83a",
   "metadata": {},
   "outputs": [],
   "source": [
    "a = [1,3,3,3,4,4,4,5,6,7,8,8]"
   ]
  },
  {
   "cell_type": "code",
   "execution_count": 2,
   "id": "9c69abb8",
   "metadata": {},
   "outputs": [
    {
     "data": {
      "text/plain": [
       "[1, 3, 3, 3, 4, 4, 4, 5, 6, 7, 8, 8]"
      ]
     },
     "execution_count": 2,
     "metadata": {},
     "output_type": "execute_result"
    }
   ],
   "source": [
    "a"
   ]
  },
  {
   "cell_type": "code",
   "execution_count": 3,
   "id": "ecffa654",
   "metadata": {},
   "outputs": [],
   "source": [
    "from collections import Counter"
   ]
  },
  {
   "cell_type": "code",
   "execution_count": 5,
   "id": "ede8f73d",
   "metadata": {},
   "outputs": [],
   "source": [
    "d = Counter(a)"
   ]
  },
  {
   "cell_type": "code",
   "execution_count": 6,
   "id": "83d9c257",
   "metadata": {},
   "outputs": [
    {
     "data": {
      "text/plain": [
       "Counter({1: 1, 3: 3, 4: 3, 5: 1, 6: 1, 7: 1, 8: 2})"
      ]
     },
     "execution_count": 6,
     "metadata": {},
     "output_type": "execute_result"
    }
   ],
   "source": [
    "d"
   ]
  },
  {
   "cell_type": "code",
   "execution_count": 7,
   "id": "e64c92da",
   "metadata": {},
   "outputs": [
    {
     "data": {
      "text/plain": [
       "[1, 3, 3, 3, 4, 4, 4, 5, 6, 7, 8, 8]"
      ]
     },
     "execution_count": 7,
     "metadata": {},
     "output_type": "execute_result"
    }
   ],
   "source": [
    "a"
   ]
  },
  {
   "cell_type": "code",
   "execution_count": 8,
   "id": "f2616735",
   "metadata": {},
   "outputs": [],
   "source": [
    "d = Counter(a)"
   ]
  },
  {
   "cell_type": "code",
   "execution_count": 9,
   "id": "df42468a",
   "metadata": {},
   "outputs": [
    {
     "data": {
      "text/plain": [
       "Counter({1: 1, 3: 3, 4: 3, 5: 1, 6: 1, 7: 1, 8: 2})"
      ]
     },
     "execution_count": 9,
     "metadata": {},
     "output_type": "execute_result"
    }
   ],
   "source": [
    "d"
   ]
  },
  {
   "cell_type": "code",
   "execution_count": 17,
   "id": "3d5f3703",
   "metadata": {},
   "outputs": [
    {
     "name": "stdout",
     "output_type": "stream",
     "text": [
      "3\n",
      "4\n",
      "8\n"
     ]
    }
   ],
   "source": [
    "for i in d:\n",
    "    if d[i] > 1:\n",
    "        print(i)"
   ]
  },
  {
   "cell_type": "code",
   "execution_count": null,
   "id": "c263f04c",
   "metadata": {},
   "outputs": [],
   "source": []
  },
  {
   "cell_type": "code",
   "execution_count": null,
   "id": "8205661f",
   "metadata": {},
   "outputs": [],
   "source": []
  },
  {
   "cell_type": "code",
   "execution_count": 20,
   "id": "6c14f691",
   "metadata": {},
   "outputs": [],
   "source": [
    "from collections import Counter\n",
    "def dup(lst):\n",
    "    d = Counter(a)\n",
    "    for i in d:\n",
    "        if d[i] > 1:\n",
    "            print(i)"
   ]
  },
  {
   "cell_type": "code",
   "execution_count": 19,
   "id": "25902841",
   "metadata": {},
   "outputs": [
    {
     "name": "stdout",
     "output_type": "stream",
     "text": [
      "3\n",
      "4\n",
      "8\n"
     ]
    }
   ],
   "source": [
    "dup(a)"
   ]
  },
  {
   "cell_type": "code",
   "execution_count": 46,
   "id": "cdd50162",
   "metadata": {},
   "outputs": [],
   "source": [
    "def dup_lst(lst):\n",
    "    new_list= []\n",
    "    for i in a:\n",
    "        if a.count(i)>1: \n",
    "            new_list.append(i)\n",
    "    \n",
    "    new_list = list(set(new_list))\n",
    "    print(*new_list,sep=',')"
   ]
  },
  {
   "cell_type": "code",
   "execution_count": 47,
   "id": "ed1bbcfe",
   "metadata": {},
   "outputs": [
    {
     "name": "stdout",
     "output_type": "stream",
     "text": [
      "8,3,4\n"
     ]
    }
   ],
   "source": [
    "dup_lst(a)"
   ]
  },
  {
   "cell_type": "code",
   "execution_count": 50,
   "id": "4b376afa",
   "metadata": {},
   "outputs": [],
   "source": [
    "def chk_dup(lst):\n",
    "    store = []\n",
    "    for i in lst:\n",
    "        if i not in store:\n",
    "            store.append(i)\n",
    "        else:\n",
    "            print(i)"
   ]
  },
  {
   "cell_type": "code",
   "execution_count": 51,
   "id": "a1373b46",
   "metadata": {},
   "outputs": [
    {
     "name": "stdout",
     "output_type": "stream",
     "text": [
      "3\n",
      "3\n",
      "4\n",
      "4\n",
      "8\n"
     ]
    }
   ],
   "source": [
    "chk_dup(a)  #pending"
   ]
  },
  {
   "cell_type": "code",
   "execution_count": 52,
   "id": "e952b689",
   "metadata": {},
   "outputs": [
    {
     "name": "stdout",
     "output_type": "stream",
     "text": [
      "Stored variables and their in-db values:\n"
     ]
    }
   ],
   "source": [
    "store"
   ]
  },
  {
   "cell_type": "code",
   "execution_count": null,
   "id": "ac40d25b",
   "metadata": {},
   "outputs": [],
   "source": []
  },
  {
   "cell_type": "code",
   "execution_count": 35,
   "id": "f9dcbda5",
   "metadata": {},
   "outputs": [
    {
     "data": {
      "text/plain": [
       "{3, 4, 8}"
      ]
     },
     "execution_count": 35,
     "metadata": {},
     "output_type": "execute_result"
    }
   ],
   "source": [
    "set(new_list)"
   ]
  },
  {
   "cell_type": "code",
   "execution_count": null,
   "id": "4166b202",
   "metadata": {},
   "outputs": [],
   "source": []
  },
  {
   "cell_type": "code",
   "execution_count": 21,
   "id": "31f7b73a",
   "metadata": {},
   "outputs": [
    {
     "data": {
      "text/plain": [
       "[1, 3, 3, 3, 4, 4, 4, 5, 6, 7, 8, 8]"
      ]
     },
     "execution_count": 21,
     "metadata": {},
     "output_type": "execute_result"
    }
   ],
   "source": [
    "a"
   ]
  },
  {
   "cell_type": "code",
   "execution_count": 23,
   "id": "6c094c75",
   "metadata": {},
   "outputs": [
    {
     "data": {
      "text/plain": [
       "2"
      ]
     },
     "execution_count": 23,
     "metadata": {},
     "output_type": "execute_result"
    }
   ],
   "source": [
    "a.count(8)"
   ]
  },
  {
   "cell_type": "markdown",
   "id": "dc514d9f",
   "metadata": {},
   "source": [
    "# Question: todo"
   ]
  },
  {
   "cell_type": "code",
   "execution_count": 59,
   "id": "ab3b4ec0",
   "metadata": {},
   "outputs": [],
   "source": [
    "#Q1\n",
    "\n",
    "# stopwords = [a, an, the, and, it, for, or, but, in, my, your, our, and their]\n",
    "#  \n",
    "\n",
    "s= '''If your titles don't make sense when you take out those articles or prepositions, then it's best to leave them be. After all, you want your audience to actually click and read your content. If the most prominent parts — including the title — don't make sense, the website could come off as unprofessional or even spammy.\n",
    "\n",
    "It usually makes the most sense to leave stop words in titles and headings, as these are wayfinding elements for users navigating your content. Just keep in mind that the optimal character count for titles is 50-60 characters, as search engines cut off longer titles, which could omit important information for the visitor. If you have lengthy stop words in your title, consider rewriting them to balance brevity and clarity.'''\n",
    "\n",
    "\n",
    "# remove stopwords from this sentence"
   ]
  },
  {
   "cell_type": "code",
   "execution_count": null,
   "id": "2cb2756f",
   "metadata": {},
   "outputs": [],
   "source": [
    "\n",
    "#Q2\n",
    "# ABBAABCCABABABABCABAC\n",
    "\n",
    "#replace ABC with *\n",
    "#replace C of ABC with D"
   ]
  },
  {
   "cell_type": "code",
   "execution_count": null,
   "id": "1553ccfc",
   "metadata": {},
   "outputs": [],
   "source": [
    "# Q3\n",
    "# remove all non alphabet character from below string and return updated string\n",
    "\n",
    "# http://localhost:8888/notebooks/OneDrive%20-%20NITT/CODE/Python%20Scripts/Code_2023/Natalia/logic_session.ipynb"
   ]
  },
  {
   "cell_type": "code",
   "execution_count": 61,
   "id": "11140ab3",
   "metadata": {},
   "outputs": [],
   "source": [
    "#Q4\n",
    "a = [1,1,1,2,2,3,3,4,4]\n",
    "b = [4,4,5,3,2,1,1]\n",
    "c = [1,1,2,5,5,4]\n",
    "# find common duplicate element"
   ]
  },
  {
   "cell_type": "code",
   "execution_count": 60,
   "id": "e0dc82ba",
   "metadata": {},
   "outputs": [
    {
     "data": {
      "text/plain": [
       "\"If your titles don't make sense when you take out those articles or prepositions, then it's best to leave them be. After all, you want your audience to actually click and read your content. If the most prominent parts — including the title — don't make sense, the website could come off as unprofessional or even spammy.\\n\\nIt usually makes the most sense to leave stop words in titles and headings, as these are wayfinding elements for users navigating your content. Just keep in mind that the optimal character count for titles is 50-60 characters, as search engines cut off longer titles, which could omit important information for the visitor. If you have lengthy stop words in your title, consider rewriting them to balance brevity and clarity.\""
      ]
     },
     "execution_count": 60,
     "metadata": {},
     "output_type": "execute_result"
    }
   ],
   "source": [
    "s"
   ]
  },
  {
   "cell_type": "code",
   "execution_count": 64,
   "id": "dc502a21",
   "metadata": {},
   "outputs": [],
   "source": [
    "#Q5\n",
    "# Use same previous S, and split the paragraph into small sentence each of 50 character long\n",
    "# also ignore any partial word if selected as part of sentence\n",
    "# split in 50 and 70 characters of sentence alternatively"
   ]
  },
  {
   "cell_type": "code",
   "execution_count": 65,
   "id": "3b54f216",
   "metadata": {},
   "outputs": [
    {
     "data": {
      "text/plain": [
       "NoneType"
      ]
     },
     "execution_count": 65,
     "metadata": {},
     "output_type": "execute_result"
    }
   ],
   "source": [
    "type(None)"
   ]
  },
  {
   "cell_type": "code",
   "execution_count": null,
   "id": "9002ea2a",
   "metadata": {},
   "outputs": [],
   "source": []
  }
 ],
 "metadata": {
  "kernelspec": {
   "display_name": "Python 3 (ipykernel)",
   "language": "python",
   "name": "python3"
  },
  "language_info": {
   "codemirror_mode": {
    "name": "ipython",
    "version": 3
   },
   "file_extension": ".py",
   "mimetype": "text/x-python",
   "name": "python",
   "nbconvert_exporter": "python",
   "pygments_lexer": "ipython3",
   "version": "3.9.15"
  }
 },
 "nbformat": 4,
 "nbformat_minor": 5
}
