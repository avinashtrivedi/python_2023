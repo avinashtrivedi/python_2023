{
 "cells": [
  {
   "cell_type": "code",
   "execution_count": 1,
   "id": "109e90a6",
   "metadata": {},
   "outputs": [],
   "source": [
    "import requests"
   ]
  },
  {
   "cell_type": "code",
   "execution_count": 2,
   "id": "9431787a",
   "metadata": {},
   "outputs": [],
   "source": [
    "# sometimes websites stop you from extracting the data for some reason. It can be due to some authentication errors.\n",
    "\n",
    "def get_data(ex_id,flag=False):\n",
    "    needed_headers = {'User-Agent': \"Mozilla/5.0 (Windows NT 6.3; Win64; x64) AppleWebKit/537.36 (KHTML, like Gecko) Chrome/92.0.4515.131 Safari/537.36\"}\n",
    "\n",
    "#     url = \"https://api.themoviedb.org/3/movie/popular?api_key=81b49b634e27bb42bfe9fd2a462146c0&page=1\"\n",
    "    if flag:\n",
    "        url = f\"https://api.themoviedb.org/3/movie/{ex_id}?api_key=81b49b634e27bb42bfe9fd2a462146c0\"\n",
    "    else:\n",
    "        url = f\"https://api.themoviedb.org/3/find/{ex_id}?api_key=81b49b634e27bb42bfe9fd2a462146c0&language=en-US&external_source=imdb_id\"\n",
    "    response = requests.get(url, headers = needed_headers )\n",
    "    if response.status_code !=200:\n",
    "        print('Error',ex_id)\n",
    "    return response"
   ]
  },
  {
   "cell_type": "code",
   "execution_count": 3,
   "id": "621f2259",
   "metadata": {},
   "outputs": [],
   "source": [
    "def get_json(imdb_id):\n",
    "    response = get_data(imdb_id)\n",
    "    try:\n",
    "        api_id = response.json()['movie_results'][0]['id']\n",
    "        response = get_data(api_id,True)\n",
    "        return response.json()\n",
    "    except:\n",
    "        return {}"
   ]
  },
  {
   "cell_type": "code",
   "execution_count": 4,
   "id": "7f636726",
   "metadata": {},
   "outputs": [],
   "source": [
    "import pandas as pd"
   ]
  },
  {
   "cell_type": "code",
   "execution_count": 5,
   "id": "13b5272c",
   "metadata": {},
   "outputs": [],
   "source": [
    "df = pd.read_csv(r'D:\\OneDrive - NITT\\Custom_Download\\titles.csv.zip')"
   ]
  },
  {
   "cell_type": "code",
   "execution_count": 6,
   "id": "7f546e60",
   "metadata": {},
   "outputs": [
    {
     "data": {
      "text/plain": [
       "1        tt0075314\n",
       "2        tt0068473\n",
       "3        tt0071853\n",
       "4        tt0061578\n",
       "5        tt0063929\n",
       "           ...    \n",
       "5843    tt14216488\n",
       "5845    tt13857480\n",
       "5846    tt11803618\n",
       "5847    tt14585902\n",
       "5849    tt13711094\n",
       "Name: imdb_id, Length: 5447, dtype: object"
      ]
     },
     "execution_count": 6,
     "metadata": {},
     "output_type": "execute_result"
    }
   ],
   "source": [
    "df['imdb_id'].dropna()"
   ]
  },
  {
   "cell_type": "code",
   "execution_count": 7,
   "id": "f8603905",
   "metadata": {},
   "outputs": [],
   "source": [
    "df = df[~df['imdb_id'].isna()]"
   ]
  },
  {
   "cell_type": "code",
   "execution_count": 8,
   "id": "c819f6a0",
   "metadata": {},
   "outputs": [],
   "source": [
    "from tqdm.notebook import tqdm"
   ]
  },
  {
   "cell_type": "code",
   "execution_count": 9,
   "id": "7d5520fa",
   "metadata": {},
   "outputs": [],
   "source": [
    "tqdm.pandas()"
   ]
  },
  {
   "cell_type": "code",
   "execution_count": 10,
   "id": "4461ee85",
   "metadata": {},
   "outputs": [
    {
     "data": {
      "text/plain": [
       "1        tt0075314\n",
       "2        tt0068473\n",
       "3        tt0071853\n",
       "4        tt0061578\n",
       "5        tt0063929\n",
       "           ...    \n",
       "5843    tt14216488\n",
       "5845    tt13857480\n",
       "5846    tt11803618\n",
       "5847    tt14585902\n",
       "5849    tt13711094\n",
       "Name: imdb_id, Length: 5447, dtype: object"
      ]
     },
     "execution_count": 10,
     "metadata": {},
     "output_type": "execute_result"
    }
   ],
   "source": [
    "df['imdb_id']"
   ]
  },
  {
   "cell_type": "code",
   "execution_count": 15,
   "id": "2c482b84",
   "metadata": {},
   "outputs": [
    {
     "ename": "SyntaxError",
     "evalue": "invalid syntax (1678374028.py, line 1)",
     "output_type": "error",
     "traceback": [
      "\u001b[1;36m  Cell \u001b[1;32mIn[15], line 1\u001b[1;36m\u001b[0m\n\u001b[1;33m    df['imdb_id'][[:10]]#.progress_apply(lambda imdb_id:get_json(imdb_id))\u001b[0m\n\u001b[1;37m                   ^\u001b[0m\n\u001b[1;31mSyntaxError\u001b[0m\u001b[1;31m:\u001b[0m invalid syntax\n"
     ]
    }
   ],
   "source": [
    "df['imdb_id'][[:10]#.progress_apply(lambda imdb_id:get_json(imdb_id))"
   ]
  },
  {
   "cell_type": "code",
   "execution_count": 12,
   "id": "7cd71708",
   "metadata": {},
   "outputs": [],
   "source": [
    "# save this final dataframe as csv\n",
    "# work on json column and gte the necessary data"
   ]
  },
  {
   "cell_type": "code",
   "execution_count": 16,
   "id": "d2c0bf82",
   "metadata": {},
   "outputs": [
    {
     "data": {
      "text/plain": [
       "'1.5.3'"
      ]
     },
     "execution_count": 16,
     "metadata": {},
     "output_type": "execute_result"
    }
   ],
   "source": [
    "pd.__version__"
   ]
  },
  {
   "cell_type": "code",
   "execution_count": 19,
   "id": "6618ad81",
   "metadata": {},
   "outputs": [
    {
     "data": {
      "text/plain": [
       "tqdm.notebook.tqdm_notebook"
      ]
     },
     "execution_count": 19,
     "metadata": {},
     "output_type": "execute_result"
    }
   ],
   "source": [
    "tqdm"
   ]
  },
  {
   "cell_type": "code",
   "execution_count": 22,
   "id": "733a7fec",
   "metadata": {},
   "outputs": [
    {
     "data": {
      "text/plain": [
       "62.491105769230764"
      ]
     },
     "execution_count": 22,
     "metadata": {},
     "output_type": "execute_result"
    }
   ],
   "source": [
    "((7019001/1.3)/3600)/24"
   ]
  },
  {
   "cell_type": "code",
   "execution_count": 25,
   "id": "ea24af24",
   "metadata": {},
   "outputs": [
    {
     "data": {
      "text/plain": [
       "81.2384375"
      ]
     },
     "execution_count": 25,
     "metadata": {},
     "output_type": "execute_result"
    }
   ],
   "source": [
    "(7019001/3600)/24"
   ]
  },
  {
   "cell_type": "code",
   "execution_count": 26,
   "id": "315398f4",
   "metadata": {},
   "outputs": [
    {
     "data": {
      "text/plain": [
       "40000.0"
      ]
     },
     "execution_count": 26,
     "metadata": {},
     "output_type": "execute_result"
    }
   ],
   "source": [
    "50000/1.25"
   ]
  },
  {
   "cell_type": "code",
   "execution_count": 27,
   "id": "0e22c139",
   "metadata": {},
   "outputs": [
    {
     "data": {
      "text/plain": [
       "11.11111111111111"
      ]
     },
     "execution_count": 27,
     "metadata": {},
     "output_type": "execute_result"
    }
   ],
   "source": [
    "40000/3600"
   ]
  },
  {
   "cell_type": "code",
   "execution_count": null,
   "id": "a3e53f2a",
   "metadata": {},
   "outputs": [],
   "source": []
  }
 ],
 "metadata": {
  "kernelspec": {
   "display_name": "Python 3 (ipykernel)",
   "language": "python",
   "name": "python3"
  },
  "language_info": {
   "codemirror_mode": {
    "name": "ipython",
    "version": 3
   },
   "file_extension": ".py",
   "mimetype": "text/x-python",
   "name": "python",
   "nbconvert_exporter": "python",
   "pygments_lexer": "ipython3",
   "version": "3.9.15"
  }
 },
 "nbformat": 4,
 "nbformat_minor": 5
}
