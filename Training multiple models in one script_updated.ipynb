{
 "cells": [
  {
   "cell_type": "code",
   "execution_count": 34,
   "id": "framed-basketball",
   "metadata": {
    "ExecuteTime": {
     "end_time": "2021-05-04T00:00:51.499146Z",
     "start_time": "2021-05-04T00:00:48.915127Z"
    }
   },
   "outputs": [],
   "source": [
    "%matplotlib inline\n",
    "\n",
    "from pathlib import Path\n",
    "\n",
    "import numpy as np\n",
    "import pandas as pd\n",
    "from sklearn.linear_model import LogisticRegression, LogisticRegressionCV\n",
    "from sklearn.model_selection import train_test_split\n",
    "import statsmodels.api as sm\n",
    "# from mord import LogisticIT\n",
    "import matplotlib.pylab as plt\n",
    "import seaborn as sns\n",
    "from dmba import classificationSummary, gainsChart, liftChart\n",
    "from dmba.metric import AIC_score\n",
    "from sklearn.tree import DecisionTreeClassifier\n",
    "from sklearn.ensemble import AdaBoostClassifier\n",
    "from sklearn.ensemble import BaggingClassifier\n",
    "from sklearn.ensemble import RandomForestClassifier\n",
    "from sklearn.neighbors import NearestNeighbors, KNeighborsClassifier\n",
    "from sklearn.neural_network import MLPClassifier\n",
    "from sklearn.metrics import accuracy_score, roc_curve, auc, recall_score, precision_score, f1_score, roc_auc_score \n",
    "from sklearn.model_selection import  GridSearchCV\n",
    "from sklearn.preprocessing import Normalizer\n",
    "import seaborn as sns\n",
    "from sklearn.metrics import confusion_matrix"
   ]
  },
  {
   "cell_type": "markdown",
   "id": "stretch-space",
   "metadata": {},
   "source": [
    "# Prepare the data "
   ]
  },
  {
   "cell_type": "code",
   "execution_count": 100,
   "id": "baking-bridge",
   "metadata": {
    "ExecuteTime": {
     "end_time": "2021-05-04T00:00:52.961884Z",
     "start_time": "2021-05-04T00:00:52.902191Z"
    }
   },
   "outputs": [],
   "source": [
    "# import the dataset\n",
    "file = 'Autism-Child-Data.txt'\n",
    "# 'C:/users/brend/tutorial/autism-data.txt'\n",
    "names = ['A1_Score',  'A2_Score', 'A3_Score', 'A4_Score', 'A5_Score', \n",
    "         'A6_Score' ,'A7_Score' ,'A8_Score','A9_Score' ,'A10_Score' ,'age','gender' ,'ethnicity' ,\n",
    "         'jundice' ,'austim','contry_of_res' ,'used_app_before','result' ,'age_desc' ,'relation' ,\n",
    "         'Class'] \n",
    "data = pd.read_table(file, sep = ',', index_col = None, names= names)"
   ]
  },
  {
   "cell_type": "code",
   "execution_count": 101,
   "id": "de6f4989",
   "metadata": {},
   "outputs": [],
   "source": [
    "# drop unwanted columns\n",
    "data = data.drop(['result', 'age_desc'], axis=1)"
   ]
  },
  {
   "cell_type": "code",
   "execution_count": 102,
   "id": "4faeae8e",
   "metadata": {},
   "outputs": [
    {
     "name": "stdout",
     "output_type": "stream",
     "text": [
      "<class 'pandas.core.frame.DataFrame'>\n",
      "RangeIndex: 292 entries, 0 to 291\n",
      "Data columns (total 19 columns):\n",
      " #   Column           Non-Null Count  Dtype \n",
      "---  ------           --------------  ----- \n",
      " 0   A1_Score         292 non-null    int64 \n",
      " 1   A2_Score         292 non-null    int64 \n",
      " 2   A3_Score         292 non-null    int64 \n",
      " 3   A4_Score         292 non-null    int64 \n",
      " 4   A5_Score         292 non-null    int64 \n",
      " 5   A6_Score         292 non-null    int64 \n",
      " 6   A7_Score         292 non-null    int64 \n",
      " 7   A8_Score         292 non-null    int64 \n",
      " 8   A9_Score         292 non-null    int64 \n",
      " 9   A10_Score        292 non-null    int64 \n",
      " 10  age              292 non-null    object\n",
      " 11  gender           292 non-null    object\n",
      " 12  ethnicity        292 non-null    object\n",
      " 13  jundice          292 non-null    object\n",
      " 14  austim           292 non-null    object\n",
      " 15  contry_of_res    292 non-null    object\n",
      " 16  used_app_before  292 non-null    object\n",
      " 17  relation         292 non-null    object\n",
      " 18  Class            292 non-null    object\n",
      "dtypes: int64(10), object(9)\n",
      "memory usage: 43.5+ KB\n"
     ]
    }
   ],
   "source": [
    "data.info ()"
   ]
  },
  {
   "cell_type": "code",
   "execution_count": 103,
   "id": "8fd655e1",
   "metadata": {},
   "outputs": [
    {
     "name": "stderr",
     "output_type": "stream",
     "text": [
      "C:\\Users\\aahmed2\\AppData\\Local\\Temp\\ipykernel_17292\\4057099344.py:2: FutureWarning: In a future version of pandas all arguments of DataFrame.drop except for the argument 'labels' will be keyword-only.\n",
      "  X = data.drop(['Class'], 1)\n"
     ]
    }
   ],
   "source": [
    "# create X and Y datasets for training\n",
    "X = data.drop(['Class'], 1)\n",
    "y = data['Class']"
   ]
  },
  {
   "cell_type": "code",
   "execution_count": 105,
   "id": "91e3b489",
   "metadata": {},
   "outputs": [],
   "source": [
    "X = pd.get_dummies(X, drop_first= True)\n",
    "y = pd.get_dummies(y,  drop_first= True)"
   ]
  },
  {
   "cell_type": "code",
   "execution_count": null,
   "id": "53de781e",
   "metadata": {},
   "outputs": [],
   "source": []
  },
  {
   "cell_type": "code",
   "execution_count": 106,
   "id": "c503da40",
   "metadata": {},
   "outputs": [],
   "source": [
    "y = y.values"
   ]
  },
  {
   "cell_type": "code",
   "execution_count": 107,
   "id": "3f688f25",
   "metadata": {},
   "outputs": [],
   "source": [
    "y = np.reshape (y, (292, ))"
   ]
  },
  {
   "cell_type": "code",
   "execution_count": 108,
   "id": "39c9c4bb",
   "metadata": {},
   "outputs": [
    {
     "data": {
      "text/plain": [
       "(292,)"
      ]
     },
     "execution_count": 108,
     "metadata": {},
     "output_type": "execute_result"
    }
   ],
   "source": [
    "y.shape"
   ]
  },
  {
   "cell_type": "code",
   "execution_count": null,
   "id": "048a525c",
   "metadata": {},
   "outputs": [],
   "source": [
    "# y = y.iloc [:, 1]"
   ]
  },
  {
   "cell_type": "code",
   "execution_count": 61,
   "id": "painted-bacteria",
   "metadata": {
    "ExecuteTime": {
     "end_time": "2021-05-04T00:03:52.028315Z",
     "start_time": "2021-05-04T00:03:52.009227Z"
    }
   },
   "outputs": [],
   "source": [
    "# partition data\n",
    "train_X, valid_X, train_y, valid_y = train_test_split(X, y, test_size=0.4, random_state=1)"
   ]
  },
  {
   "cell_type": "markdown",
   "id": "considerable-output",
   "metadata": {},
   "source": [
    "# Fitting multiple models "
   ]
  },
  {
   "cell_type": "markdown",
   "id": "stopped-stream",
   "metadata": {},
   "source": [
    "## Defind models "
   ]
  },
  {
   "cell_type": "code",
   "execution_count": 111,
   "id": "sharing-netherlands",
   "metadata": {
    "ExecuteTime": {
     "end_time": "2021-05-04T00:00:57.540259Z",
     "start_time": "2021-05-04T00:00:57.534284Z"
    }
   },
   "outputs": [
    {
     "data": {
      "text/plain": [
       "5"
      ]
     },
     "execution_count": 111,
     "metadata": {},
     "output_type": "execute_result"
    }
   ],
   "source": [
    "dic_a = {\n",
    "    \"a\" : 5,\n",
    "    2: 10,\n",
    "    0: 20\n",
    "        }\n",
    "\n",
    "\n",
    "dic_a [\"a\"]"
   ]
  },
  {
   "cell_type": "code",
   "execution_count": 112,
   "id": "cf316f66",
   "metadata": {},
   "outputs": [
    {
     "data": {
      "text/plain": [
       "10"
      ]
     },
     "execution_count": 112,
     "metadata": {},
     "output_type": "execute_result"
    }
   ],
   "source": [
    "dic_a [2]"
   ]
  },
  {
   "cell_type": "code",
   "execution_count": null,
   "id": "convertible-washer",
   "metadata": {
    "ExecuteTime": {
     "end_time": "2021-05-04T00:03:57.082318Z",
     "start_time": "2021-05-04T00:03:57.065386Z"
    }
   },
   "outputs": [],
   "source": []
  },
  {
   "cell_type": "markdown",
   "id": "eligible-treat",
   "metadata": {},
   "source": [
    "## Performance measure "
   ]
  },
  {
   "cell_type": "code",
   "execution_count": 64,
   "id": "vocal-transition",
   "metadata": {
    "ExecuteTime": {
     "end_time": "2021-05-04T00:03:57.938259Z",
     "start_time": "2021-05-04T00:03:57.919224Z"
    }
   },
   "outputs": [],
   "source": [
    "def perf_measure (y_true, y_pred):\n",
    "    \n",
    "    all_per_list  = []\n",
    "    \n",
    "    all_per_list.append (accuracy_score (y_true, y_pred))\n",
    "    all_per_list.append (recall_score (y_true, y_pred))\n",
    "    all_per_list.append (precision_score (y_true, y_pred))\n",
    "    all_per_list.append (f1_score (y_true, y_pred))\n",
    "    all_per_list.append (roc_auc_score (y_true, y_pred))\n",
    "    \n",
    "    return all_per_list"
   ]
  },
  {
   "cell_type": "code",
   "execution_count": 65,
   "id": "0585a3f5",
   "metadata": {},
   "outputs": [],
   "source": [
    "def confusion_matrix_function (y_valid, y_pred):\n",
    "    #initialize graph \n",
    "    \n",
    "    #Get the confusion matrix\n",
    "    DT_matrix = confusion_matrix (y_valid, y_pred, normalize =\"true\")\n",
    "    return DT_matrix\n",
    "\n",
    "\n",
    "#     #add lable \n",
    "#     plt.ylabel('predicted')\n",
    "#     plt.xlabel('True')"
   ]
  },
  {
   "cell_type": "code",
   "execution_count": 66,
   "id": "native-norwegian",
   "metadata": {
    "ExecuteTime": {
     "end_time": "2021-05-04T00:01:01.926166Z",
     "start_time": "2021-05-04T00:01:01.910146Z"
    }
   },
   "outputs": [
    {
     "data": {
      "text/plain": [
       "7"
      ]
     },
     "execution_count": 66,
     "metadata": {},
     "output_type": "execute_result"
    }
   ],
   "source": [
    "def perf (b,c):\n",
    "    \n",
    "    a = b+c \n",
    "    return a\n",
    "\n",
    "\n",
    "perf (5,2)   "
   ]
  },
  {
   "cell_type": "code",
   "execution_count": 67,
   "id": "afraid-habitat",
   "metadata": {
    "ExecuteTime": {
     "end_time": "2021-05-04T00:01:02.377147Z",
     "start_time": "2021-05-04T00:01:02.361206Z"
    }
   },
   "outputs": [
    {
     "data": {
      "text/plain": [
       "[5, 6]"
      ]
     },
     "execution_count": 67,
     "metadata": {},
     "output_type": "execute_result"
    }
   ],
   "source": [
    "f = [] \n",
    "\n",
    "f.append (5)\n",
    "f.append (6)\n",
    "\n",
    "f"
   ]
  },
  {
   "cell_type": "code",
   "execution_count": 68,
   "id": "d6349743",
   "metadata": {},
   "outputs": [
    {
     "data": {
      "text/plain": [
       "(292,)"
      ]
     },
     "execution_count": 68,
     "metadata": {},
     "output_type": "execute_result"
    }
   ],
   "source": [
    "y.shape"
   ]
  },
  {
   "cell_type": "markdown",
   "id": "numeric-nicholas",
   "metadata": {},
   "source": [
    "## Training and testing  "
   ]
  },
  {
   "cell_type": "code",
   "execution_count": 115,
   "id": "cbb4fd7b",
   "metadata": {},
   "outputs": [],
   "source": [
    "# LR_clf  = \n",
    "\n",
    "models = {\n",
    "    \n",
    "    \"LR\": LogisticRegression(penalty=\"l2\", C=1e42, solver='liblinear'), \n",
    "    \n",
    "    \"DT\": DecisionTreeClassifier(),\n",
    "    \"bagging\": BaggingClassifier(DecisionTreeClassifier(random_state=1), n_estimators=100, random_state=1),\n",
    "    \"adab\": AdaBoostClassifier(DecisionTreeClassifier(random_state=1), n_estimators=100, random_state=1), \n",
    "    \"KNN\": KNeighborsClassifier(n_neighbors=2),\n",
    "    \"RF\": RandomForestClassifier (),\n",
    "    \"MLP\": MLPClassifier(hidden_layer_sizes=[(10)], activation='logistic', solver='lbfgs', random_state=1)\n",
    "    \n",
    "    \n",
    "    \n",
    "}"
   ]
  },
  {
   "cell_type": "code",
   "execution_count": 116,
   "id": "southwest-disease",
   "metadata": {
    "ExecuteTime": {
     "end_time": "2021-05-04T00:07:04.441250Z",
     "start_time": "2021-05-04T00:07:03.407333Z"
    }
   },
   "outputs": [],
   "source": [
    "Perf_per_algorithm = {} \n",
    "\n",
    "y_pred = {} # store y_predicted \n",
    "cm = {}  # store confusion  matrix \n",
    "\n",
    "for k, v in models.items ():\n",
    "    \n",
    "    clf = v\n",
    "    clf.fit (train_X, train_y)\n",
    "    y_pred [k] = clf.predict (valid_X)\n",
    "    Perf_per_algorithm [k] = perf_measure (valid_y,  y_pred [k])\n",
    "    cm [k] = confusion_matrix (valid_y,\n",
    "                           y_pred [k], normalize =\"true\")\n",
    "    \n"
   ]
  },
  {
   "cell_type": "code",
   "execution_count": 118,
   "id": "9169ba28",
   "metadata": {},
   "outputs": [
    {
     "data": {
      "text/plain": [
       "array([[0.94915254, 0.05084746],\n",
       "       [0.05172414, 0.94827586]])"
      ]
     },
     "execution_count": 118,
     "metadata": {},
     "output_type": "execute_result"
    }
   ],
   "source": [
    "cm ['LR']"
   ]
  },
  {
   "cell_type": "code",
   "execution_count": 119,
   "id": "538748b9",
   "metadata": {},
   "outputs": [
    {
     "data": {
      "text/plain": [
       "array([[0.88135593, 0.11864407],\n",
       "       [0.15517241, 0.84482759]])"
      ]
     },
     "execution_count": 119,
     "metadata": {},
     "output_type": "execute_result"
    }
   ],
   "source": [
    "cm ['DT']"
   ]
  },
  {
   "cell_type": "code",
   "execution_count": 117,
   "id": "f0dc2139",
   "metadata": {},
   "outputs": [
    {
     "data": {
      "text/plain": [
       "{'LR': array([[0.94915254, 0.05084746],\n",
       "        [0.05172414, 0.94827586]]),\n",
       " 'DT': array([[0.88135593, 0.11864407],\n",
       "        [0.15517241, 0.84482759]]),\n",
       " 'bagging': array([[0.93220339, 0.06779661],\n",
       "        [0.17241379, 0.82758621]]),\n",
       " 'adab': array([[0.89830508, 0.10169492],\n",
       "        [0.15517241, 0.84482759]]),\n",
       " 'KNN': array([[0.93220339, 0.06779661],\n",
       "        [0.25862069, 0.74137931]]),\n",
       " 'RF': array([[0.96610169, 0.03389831],\n",
       "        [0.17241379, 0.82758621]]),\n",
       " 'MLP': array([[0.94915254, 0.05084746],\n",
       "        [0.10344828, 0.89655172]])}"
      ]
     },
     "execution_count": 117,
     "metadata": {},
     "output_type": "execute_result"
    }
   ],
   "source": [
    "cm"
   ]
  },
  {
   "cell_type": "code",
   "execution_count": 120,
   "id": "d9afff94",
   "metadata": {},
   "outputs": [
    {
     "data": {
      "image/png": "[encoded data removed]",
      "text/plain": [
       "<Figure size 576x432 with 1 Axes>"
      ]
     },
     "metadata": {
      "needs_background": "light"
     },
     "output_type": "display_data"
    },
    {
     "data": {
      "image/png": "[encoded data removed]",
      "text/plain": [
       "<Figure size 576x432 with 1 Axes>"
      ]
     },
     "metadata": {
      "needs_background": "light"
     },
     "output_type": "display_data"
    },
    {
     "data": {
      "image/png": "[encoded data removed]",
      "text/plain": [
       "<Figure size 576x432 with 1 Axes>"
      ]
     },
     "metadata": {
      "needs_background": "light"
     },
     "output_type": "display_data"
    },
    {
     "data": {
      "image/png": "[encoded data removed]",
      "text/plain": [
       "<Figure size 576x432 with 1 Axes>"
      ]
     },
     "metadata": {
      "needs_background": "light"
     },
     "output_type": "display_data"
    },
    {
     "data": {
      "image/png": "[encoded data removed]",
      "text/plain": [
       "<Figure size 576x432 with 1 Axes>"
      ]
     },
     "metadata": {
      "needs_background": "light"
     },
     "output_type": "display_data"
    },
    {
     "data": {
      "image/png": "[encoded data removed]",
      "text/plain": [
       "<Figure size 576x432 with 1 Axes>"
      ]
     },
     "metadata": {
      "needs_background": "light"
     },
     "output_type": "display_data"
    },
    {
     "data": {
      "image/png": "[encoded data removed]",
      "text/plain": [
       "<Figure size 576x432 with 1 Axes>"
      ]
     },
     "metadata": {
      "needs_background": "light"
     },
     "output_type": "display_data"
    }
   ],
   "source": [
    "for model_name, matrix in cm.items():\n",
    "    plt.figure(figsize=(8, 6))\n",
    "    sns.heatmap(matrix, annot=True, \n",
    "                    fmt='.2%',\n",
    "                    cmap='Blues', cbar=False)\n",
    "    plt.title(f'Confusion Matrix for {model_name}')\n",
    "    plt.xlabel('Predicted')\n",
    "    plt.ylabel('Actual')\n",
    "    plt.show()"
   ]
  },
  {
   "cell_type": "code",
   "execution_count": null,
   "id": "dfd3cfb4",
   "metadata": {},
   "outputs": [],
   "source": [
    "y_pred"
   ]
  },
  {
   "cell_type": "code",
   "execution_count": 2,
   "id": "f68fb80e",
   "metadata": {},
   "outputs": [
    {
     "data": {
      "text/plain": [
       "83.5"
      ]
     },
     "execution_count": 2,
     "metadata": {},
     "output_type": "execute_result"
    }
   ],
   "source": [
    "(93+74)/2"
   ]
  },
  {
   "cell_type": "code",
   "execution_count": 121,
   "id": "882495fe",
   "metadata": {},
   "outputs": [
    {
     "data": {
      "text/plain": [
       "<AxesSubplot: >"
      ]
     },
     "execution_count": 121,
     "metadata": {},
     "output_type": "execute_result"
    },
    {
     "data": {
      "image/png": "[encoded data removed]",
      "text/plain": [
       "<Figure size 432x288 with 2 Axes>"
      ]
     },
     "metadata": {
      "needs_background": "light"
     },
     "output_type": "display_data"
    }
   ],
   "source": [
    "sns.heatmap(confusion_matrix (valid_y, y_pred ['LR'], normalize =\"true\"), annot=True, fmt='.2%', cmap='Blues')"
   ]
  },
  {
   "cell_type": "code",
   "execution_count": 122,
   "id": "12854253",
   "metadata": {},
   "outputs": [
    {
     "data": {
      "text/plain": [
       "{'LR': [0.9487179487179487,\n",
       "  0.9482758620689655,\n",
       "  0.9482758620689655,\n",
       "  0.9482758620689655,\n",
       "  0.9487142022209234],\n",
       " 'DT': [0.8632478632478633,\n",
       "  0.8448275862068966,\n",
       "  0.875,\n",
       "  0.8596491228070176,\n",
       "  0.8630917592051432],\n",
       " 'bagging': [0.8803418803418803,\n",
       "  0.8275862068965517,\n",
       "  0.9230769230769231,\n",
       "  0.8727272727272727,\n",
       "  0.87989479836353],\n",
       " 'adab': [0.8717948717948718,\n",
       "  0.8448275862068966,\n",
       "  0.8909090909090909,\n",
       "  0.8672566371681416,\n",
       "  0.8715663354763298],\n",
       " 'KNN': [0.8376068376068376,\n",
       "  0.7413793103448276,\n",
       "  0.9148936170212766,\n",
       "  0.819047619047619,\n",
       "  0.836791350087668],\n",
       " 'RF': [0.8974358974358975,\n",
       "  0.8275862068965517,\n",
       "  0.96,\n",
       "  0.888888888888889,\n",
       "  0.896843950905903],\n",
       " 'MLP': [0.9230769230769231,\n",
       "  0.896551724137931,\n",
       "  0.9454545454545454,\n",
       "  0.920353982300885,\n",
       "  0.9228521332554063]}"
      ]
     },
     "execution_count": 122,
     "metadata": {},
     "output_type": "execute_result"
    }
   ],
   "source": [
    "Perf_per_algorithm"
   ]
  },
  {
   "cell_type": "code",
   "execution_count": 134,
   "id": "presidential-decision",
   "metadata": {
    "ExecuteTime": {
     "end_time": "2021-05-04T00:07:06.098519Z",
     "start_time": "2021-05-04T00:07:06.075609Z"
    }
   },
   "outputs": [
    {
     "data": {
      "text/html": [
       "<div>\n",
       "<style scoped>\n",
       "    .dataframe tbody tr th:only-of-type {\n",
       "        vertical-align: middle;\n",
       "    }\n",
       "\n",
       "    .dataframe tbody tr th {\n",
       "        vertical-align: top;\n",
       "    }\n",
       "\n",
       "    .dataframe thead th {\n",
       "        text-align: right;\n",
       "    }\n",
       "</style>\n",
       "<table border=\"1\" class=\"dataframe\">\n",
       "  <thead>\n",
       "    <tr style=\"text-align: right;\">\n",
       "      <th></th>\n",
       "      <th>Accuracy</th>\n",
       "      <th>Recall</th>\n",
       "      <th>Precision</th>\n",
       "      <th>F1</th>\n",
       "      <th>AUC</th>\n",
       "    </tr>\n",
       "  </thead>\n",
       "  <tbody>\n",
       "    <tr>\n",
       "      <th>LR</th>\n",
       "      <td>0.948718</td>\n",
       "      <td>0.948276</td>\n",
       "      <td>0.948276</td>\n",
       "      <td>0.948276</td>\n",
       "      <td>0.948714</td>\n",
       "    </tr>\n",
       "    <tr>\n",
       "      <th>DT</th>\n",
       "      <td>0.863248</td>\n",
       "      <td>0.844828</td>\n",
       "      <td>0.875000</td>\n",
       "      <td>0.859649</td>\n",
       "      <td>0.863092</td>\n",
       "    </tr>\n",
       "    <tr>\n",
       "      <th>bagging</th>\n",
       "      <td>0.880342</td>\n",
       "      <td>0.827586</td>\n",
       "      <td>0.923077</td>\n",
       "      <td>0.872727</td>\n",
       "      <td>0.879895</td>\n",
       "    </tr>\n",
       "    <tr>\n",
       "      <th>adab</th>\n",
       "      <td>0.871795</td>\n",
       "      <td>0.844828</td>\n",
       "      <td>0.890909</td>\n",
       "      <td>0.867257</td>\n",
       "      <td>0.871566</td>\n",
       "    </tr>\n",
       "    <tr>\n",
       "      <th>KNN</th>\n",
       "      <td>0.837607</td>\n",
       "      <td>0.741379</td>\n",
       "      <td>0.914894</td>\n",
       "      <td>0.819048</td>\n",
       "      <td>0.836791</td>\n",
       "    </tr>\n",
       "    <tr>\n",
       "      <th>RF</th>\n",
       "      <td>0.897436</td>\n",
       "      <td>0.827586</td>\n",
       "      <td>0.960000</td>\n",
       "      <td>0.888889</td>\n",
       "      <td>0.896844</td>\n",
       "    </tr>\n",
       "    <tr>\n",
       "      <th>MLP</th>\n",
       "      <td>0.923077</td>\n",
       "      <td>0.896552</td>\n",
       "      <td>0.945455</td>\n",
       "      <td>0.920354</td>\n",
       "      <td>0.922852</td>\n",
       "    </tr>\n",
       "  </tbody>\n",
       "</table>\n",
       "</div>"
      ],
      "text/plain": [
       "         Accuracy    Recall  Precision        F1       AUC\n",
       "LR       0.948718  0.948276   0.948276  0.948276  0.948714\n",
       "DT       0.863248  0.844828   0.875000  0.859649  0.863092\n",
       "bagging  0.880342  0.827586   0.923077  0.872727  0.879895\n",
       "adab     0.871795  0.844828   0.890909  0.867257  0.871566\n",
       "KNN      0.837607  0.741379   0.914894  0.819048  0.836791\n",
       "RF       0.897436  0.827586   0.960000  0.888889  0.896844\n",
       "MLP      0.923077  0.896552   0.945455  0.920354  0.922852"
      ]
     },
     "execution_count": 134,
     "metadata": {},
     "output_type": "execute_result"
    }
   ],
   "source": [
    "pd.DataFrame.from_dict(Perf_per_algorithm, orient='index', \n",
    "                       columns=['Accuracy', 'Recall', 'Precision', 'F1', 'AUC'])\n",
    "# .to_csv ('performance.csv')"
   ]
  },
  {
   "cell_type": "markdown",
   "id": "living-vault",
   "metadata": {},
   "source": [
    "# Grid Search "
   ]
  },
  {
   "cell_type": "markdown",
   "id": "large-gazette",
   "metadata": {},
   "source": [
    "## Define Parameters for each model "
   ]
  },
  {
   "cell_type": "code",
   "execution_count": 135,
   "id": "hybrid-preservation",
   "metadata": {
    "ExecuteTime": {
     "end_time": "2021-05-03T23:42:37.260728Z",
     "start_time": "2021-05-03T23:42:37.239751Z"
    }
   },
   "outputs": [],
   "source": [
    "#define LR parameters \n",
    "parm_LR ={\"penalty\":[\"l1\",\"l2\"]} \n",
    "\n",
    "grid_model_LR = GridSearchCV(LogisticRegression(),parm_LR,cv=5)\n",
    "\n",
    "\n",
    "#define DT parameters \n",
    "parm_DT = {'max_leaf_nodes': list(range(2, 10)), 'min_samples_split': [2, 3]}\n",
    "grid_model_DT = GridSearchCV(DecisionTreeClassifier(random_state=42), \n",
    "                             parm_DT, verbose=1, cv=3, scoring= 'roc_auc')\n",
    "\n",
    "#define Bagging parameters \n",
    "parm_bag = {\n",
    "#     \"base_estimator_max_depth\": [3, 10,20, 50],\n",
    "        \n",
    "          'max_features': [0.5, 0.7, 0.8],\n",
    "          'max_samples': [0.5, 1.0],\n",
    "          'n_estimators': [20, 50, 100,200]\n",
    "           }\n",
    "\n",
    "grid_model_bag = GridSearchCV(BaggingClassifier(DecisionTreeClassifier()), \n",
    "                              parm_bag, cv=3, verbose=1, scoring= 'roc_auc')\n",
    "\n",
    "#define ADAB parameters \n",
    "parm_adab = {\n",
    "     'n_estimators': [10, 50, 100, 500],\n",
    "     'learning_rate': [0.0001, 0.001, 0.01, 0.1, 1.0] , \n",
    "    'base_estimator__max_depth': [10,20,30, 40, 50] }\n",
    "\n",
    "grid_model_adab = GridSearchCV(AdaBoostClassifier(base_estimator=DecisionTreeClassifier()), \n",
    "                               param_grid= parm_adab, cv=3, verbose=1, n_jobs=-1, scoring= 'roc_auc')\n",
    "\n",
    "\n",
    "#define MLP parameters \n",
    "parm_MLP = {\n",
    "    'hidden_layer_sizes': [(5), (10), (20), (30)], \n",
    "#     'learning_rate': [0.1,0.2,0.5,0.9,1]\n",
    "}\n",
    "grid_model_MLP = GridSearchCV(MLPClassifier(activation='logistic', solver='lbfgs'), \n",
    "                          parm_MLP, cv=3, n_jobs=-1, verbose=1, scoring= 'accuracy')\n"
   ]
  },
  {
   "cell_type": "code",
   "execution_count": 136,
   "id": "close-money",
   "metadata": {
    "ExecuteTime": {
     "end_time": "2021-05-03T23:42:54.698738Z",
     "start_time": "2021-05-03T23:42:54.680814Z"
    }
   },
   "outputs": [],
   "source": [
    "models_Grid_search = {\n",
    "    \n",
    "    \"LR\": grid_model_LR ,\n",
    "    \"DT\": grid_model_DT,\n",
    "    \"bagging\": grid_model_bag,\n",
    "    \"adab\": grid_model_adab, \n",
    "    \"MLP\": grid_model_MLP\n",
    "    \n",
    "}"
   ]
  },
  {
   "cell_type": "code",
   "execution_count": 91,
   "id": "bottom-terminal",
   "metadata": {
    "ExecuteTime": {
     "end_time": "2021-05-03T22:10:58.392090Z",
     "start_time": "2021-05-03T22:10:58.378150Z"
    }
   },
   "outputs": [],
   "source": [
    "# import warnings\n",
    "# warnings.filterwarnings(\"ignore\")"
   ]
  },
  {
   "cell_type": "markdown",
   "id": "proof-george",
   "metadata": {},
   "source": [
    "## Training and testing using all parameters "
   ]
  },
  {
   "cell_type": "code",
   "execution_count": 137,
   "id": "arabic-sterling",
   "metadata": {
    "ExecuteTime": {
     "end_time": "2021-05-03T23:43:28.620853Z",
     "start_time": "2021-05-03T23:43:07.476848Z"
    }
   },
   "outputs": [
    {
     "name": "stdout",
     "output_type": "stream",
     "text": [
      "GridSearchCV(cv=5, estimator=LogisticRegression(),\n",
      "             param_grid={'penalty': ['l1', 'l2']})\n",
      "GridSearchCV(cv=3, estimator=DecisionTreeClassifier(random_state=42),\n",
      "             param_grid={'max_leaf_nodes': [2, 3, 4, 5, 6, 7, 8, 9],\n",
      "                         'min_samples_split': [2, 3]},\n",
      "             scoring='roc_auc', verbose=1)\n",
      "Fitting 3 folds for each of 16 candidates, totalling 48 fits\n"
     ]
    },
    {
     "name": "stderr",
     "output_type": "stream",
     "text": [
      "C:\\Users\\aahmed2\\Anaconda3\\envs\\imb2\\lib\\site-packages\\sklearn\\model_selection\\_validation.py:378: FitFailedWarning: \n",
      "5 fits failed out of a total of 10.\n",
      "The score on these train-test partitions for these parameters will be set to nan.\n",
      "If these failures are not expected, you can try to debug them by setting error_score='raise'.\n",
      "\n",
      "Below are more details about the failures:\n",
      "--------------------------------------------------------------------------------\n",
      "5 fits failed with the following error:\n",
      "Traceback (most recent call last):\n",
      "  File \"C:\\Users\\aahmed2\\Anaconda3\\envs\\imb2\\lib\\site-packages\\sklearn\\model_selection\\_validation.py\", line 686, in _fit_and_score\n",
      "    estimator.fit(X_train, y_train, **fit_params)\n",
      "  File \"C:\\Users\\aahmed2\\Anaconda3\\envs\\imb2\\lib\\site-packages\\sklearn\\linear_model\\_logistic.py\", line 1162, in fit\n",
      "    solver = _check_solver(self.solver, self.penalty, self.dual)\n",
      "  File \"C:\\Users\\aahmed2\\Anaconda3\\envs\\imb2\\lib\\site-packages\\sklearn\\linear_model\\_logistic.py\", line 54, in _check_solver\n",
      "    raise ValueError(\n",
      "ValueError: Solver lbfgs supports only 'l2' or 'none' penalties, got l1 penalty.\n",
      "\n",
      "  warnings.warn(some_fits_failed_message, FitFailedWarning)\n",
      "C:\\Users\\aahmed2\\Anaconda3\\envs\\imb2\\lib\\site-packages\\sklearn\\model_selection\\_search.py:953: UserWarning: One or more of the test scores are non-finite: [       nan 0.94857143]\n",
      "  warnings.warn(\n"
     ]
    },
    {
     "name": "stdout",
     "output_type": "stream",
     "text": [
      "GridSearchCV(cv=3,\n",
      "             estimator=BaggingClassifier(estimator=DecisionTreeClassifier()),\n",
      "             param_grid={'max_features': [0.5, 0.7, 0.8],\n",
      "                         'max_samples': [0.5, 1.0],\n",
      "                         'n_estimators': [20, 50, 100, 200]},\n",
      "             scoring='roc_auc', verbose=1)\n",
      "Fitting 3 folds for each of 24 candidates, totalling 72 fits\n",
      "GridSearchCV(cv=3,\n",
      "             estimator=AdaBoostClassifier(base_estimator=DecisionTreeClassifier()),\n",
      "             n_jobs=-1,\n",
      "             param_grid={'base_estimator__max_depth': [10, 20, 30, 40, 50],\n",
      "                         'learning_rate': [0.0001, 0.001, 0.01, 0.1, 1.0],\n",
      "                         'n_estimators': [10, 50, 100, 500]},\n",
      "             scoring='roc_auc', verbose=1)\n",
      "Fitting 3 folds for each of 100 candidates, totalling 300 fits\n"
     ]
    },
    {
     "name": "stderr",
     "output_type": "stream",
     "text": [
      "C:\\Users\\aahmed2\\Anaconda3\\envs\\imb2\\lib\\site-packages\\sklearn\\ensemble\\_base.py:166: FutureWarning: `base_estimator` was renamed to `estimator` in version 1.2 and will be removed in 1.4.\n",
      "  warnings.warn(\n"
     ]
    },
    {
     "name": "stdout",
     "output_type": "stream",
     "text": [
      "GridSearchCV(cv=3,\n",
      "             estimator=MLPClassifier(activation='logistic', solver='lbfgs'),\n",
      "             n_jobs=-1, param_grid={'hidden_layer_sizes': [5, 10, 20, 30]},\n",
      "             scoring='accuracy', verbose=1)\n",
      "Fitting 3 folds for each of 4 candidates, totalling 12 fits\n"
     ]
    }
   ],
   "source": [
    "best_parm = {}\n",
    "best_score = {}\n",
    "best_estimator = {}\n",
    "for k, v in models_Grid_search.items ():\n",
    "    print (v)\n",
    "    v.fit(train_X, train_y)\n",
    "    best_parm [k] = v.best_params_\n",
    "    best_score [k]= v.best_score_\n",
    "    best_estimator [k] = v.best_estimator_\n",
    "    \n",
    "    \n",
    "    "
   ]
  },
  {
   "cell_type": "code",
   "execution_count": 138,
   "id": "demonstrated-cowboy",
   "metadata": {
    "ExecuteTime": {
     "end_time": "2021-05-03T23:43:28.636791Z",
     "start_time": "2021-05-03T23:43:28.622867Z"
    }
   },
   "outputs": [
    {
     "data": {
      "text/plain": [
       "{'LR': {'penalty': 'l2'},\n",
       " 'DT': {'max_leaf_nodes': 7, 'min_samples_split': 2},\n",
       " 'bagging': {'max_features': 0.5, 'max_samples': 1.0, 'n_estimators': 200},\n",
       " 'adab': {'base_estimator__max_depth': 10,\n",
       "  'learning_rate': 0.001,\n",
       "  'n_estimators': 10},\n",
       " 'MLP': {'hidden_layer_sizes': 10}}"
      ]
     },
     "execution_count": 138,
     "metadata": {},
     "output_type": "execute_result"
    }
   ],
   "source": [
    "best_parm"
   ]
  },
  {
   "cell_type": "code",
   "execution_count": 139,
   "id": "regulation-alberta",
   "metadata": {
    "ExecuteTime": {
     "end_time": "2021-05-03T22:11:16.031029Z",
     "start_time": "2021-05-03T22:11:16.017087Z"
    }
   },
   "outputs": [
    {
     "data": {
      "text/plain": [
       "{'LR': 0.9485714285714286,\n",
       " 'DT': 0.8854596916424873,\n",
       " 'bagging': 0.983836832223929,\n",
       " 'adab': 0.8620569494225409,\n",
       " 'MLP': 0.902980713033314}"
      ]
     },
     "execution_count": 139,
     "metadata": {},
     "output_type": "execute_result"
    }
   ],
   "source": [
    "best_score"
   ]
  },
  {
   "cell_type": "code",
   "execution_count": 140,
   "id": "drawn-means",
   "metadata": {
    "ExecuteTime": {
     "end_time": "2021-05-03T22:11:16.046961Z",
     "start_time": "2021-05-03T22:11:16.032025Z"
    }
   },
   "outputs": [
    {
     "data": {
      "text/plain": [
       "{'LR': LogisticRegression(),\n",
       " 'DT': DecisionTreeClassifier(max_leaf_nodes=7, random_state=42),\n",
       " 'bagging': BaggingClassifier(estimator=DecisionTreeClassifier(), max_features=0.5,\n",
       "                   n_estimators=200),\n",
       " 'adab': AdaBoostClassifier(base_estimator=DecisionTreeClassifier(max_depth=10),\n",
       "                    learning_rate=0.001, n_estimators=10),\n",
       " 'MLP': MLPClassifier(activation='logistic', hidden_layer_sizes=10, solver='lbfgs')}"
      ]
     },
     "execution_count": 140,
     "metadata": {},
     "output_type": "execute_result"
    }
   ],
   "source": [
    "best_estimator"
   ]
  },
  {
   "cell_type": "markdown",
   "id": "cardiovascular-newsletter",
   "metadata": {},
   "source": [
    "## Training and testing using the best parameters "
   ]
  },
  {
   "cell_type": "code",
   "execution_count": 141,
   "id": "focal-characterization",
   "metadata": {
    "ExecuteTime": {
     "start_time": "2021-05-03T23:46:12.833Z"
    }
   },
   "outputs": [
    {
     "name": "stderr",
     "output_type": "stream",
     "text": [
      "C:\\Users\\aahmed2\\Anaconda3\\envs\\imb2\\lib\\site-packages\\sklearn\\ensemble\\_base.py:166: FutureWarning: `base_estimator` was renamed to `estimator` in version 1.2 and will be removed in 1.4.\n",
      "  warnings.warn(\n"
     ]
    },
    {
     "data": {
      "text/plain": [
       "{'LR': [0.9487179487179487,\n",
       "  0.9137931034482759,\n",
       "  0.9814814814814815,\n",
       "  0.9464285714285714,\n",
       "  0.9484219754529515],\n",
       " 'DT': [0.8205128205128205,\n",
       "  0.6724137931034483,\n",
       "  0.9512195121951219,\n",
       "  0.7878787878787878,\n",
       "  0.8192577440093513],\n",
       " 'bagging': [0.8803418803418803,\n",
       "  0.8275862068965517,\n",
       "  0.9230769230769231,\n",
       "  0.8727272727272727,\n",
       "  0.87989479836353],\n",
       " 'adab': [0.8632478632478633,\n",
       "  0.8448275862068966,\n",
       "  0.875,\n",
       "  0.8596491228070176,\n",
       "  0.8630917592051432],\n",
       " 'MLP': [0.905982905982906,\n",
       "  0.8793103448275862,\n",
       "  0.9272727272727272,\n",
       "  0.902654867256637,\n",
       "  0.9057568673290474]}"
      ]
     },
     "execution_count": 141,
     "metadata": {},
     "output_type": "execute_result"
    }
   ],
   "source": [
    "Perf_per_algorithm_gird = {}\n",
    "\n",
    "for k, v in best_estimator.items ():\n",
    "    \n",
    "    clf = v\n",
    "    clf.fit (train_X, train_y)\n",
    "    y_pred = clf.predict (valid_X)\n",
    "    Perf_per_algorithm_gird [k] = perf_measure (valid_y, y_pred)\n",
    "    \n",
    "#     confusion_matrix (valid_y, y_pred)\n",
    "\n",
    "Perf_per_algorithm_gird"
   ]
  },
  {
   "cell_type": "code",
   "execution_count": 143,
   "id": "packed-mounting",
   "metadata": {
    "ExecuteTime": {
     "end_time": "2021-05-03T23:45:07.030809Z",
     "start_time": "2021-05-03T23:45:07.009799Z"
    }
   },
   "outputs": [
    {
     "data": {
      "text/html": [
       "<div>\n",
       "<style scoped>\n",
       "    .dataframe tbody tr th:only-of-type {\n",
       "        vertical-align: middle;\n",
       "    }\n",
       "\n",
       "    .dataframe tbody tr th {\n",
       "        vertical-align: top;\n",
       "    }\n",
       "\n",
       "    .dataframe thead th {\n",
       "        text-align: right;\n",
       "    }\n",
       "</style>\n",
       "<table border=\"1\" class=\"dataframe\">\n",
       "  <thead>\n",
       "    <tr style=\"text-align: right;\">\n",
       "      <th></th>\n",
       "      <th>Accuracy</th>\n",
       "      <th>Recall</th>\n",
       "      <th>Precision</th>\n",
       "      <th>F1</th>\n",
       "      <th>AUC</th>\n",
       "    </tr>\n",
       "  </thead>\n",
       "  <tbody>\n",
       "    <tr>\n",
       "      <th>LR</th>\n",
       "      <td>0.948718</td>\n",
       "      <td>0.913793</td>\n",
       "      <td>0.981481</td>\n",
       "      <td>0.946429</td>\n",
       "      <td>0.948422</td>\n",
       "    </tr>\n",
       "    <tr>\n",
       "      <th>DT</th>\n",
       "      <td>0.820513</td>\n",
       "      <td>0.672414</td>\n",
       "      <td>0.951220</td>\n",
       "      <td>0.787879</td>\n",
       "      <td>0.819258</td>\n",
       "    </tr>\n",
       "    <tr>\n",
       "      <th>bagging</th>\n",
       "      <td>0.880342</td>\n",
       "      <td>0.827586</td>\n",
       "      <td>0.923077</td>\n",
       "      <td>0.872727</td>\n",
       "      <td>0.879895</td>\n",
       "    </tr>\n",
       "    <tr>\n",
       "      <th>adab</th>\n",
       "      <td>0.863248</td>\n",
       "      <td>0.844828</td>\n",
       "      <td>0.875000</td>\n",
       "      <td>0.859649</td>\n",
       "      <td>0.863092</td>\n",
       "    </tr>\n",
       "    <tr>\n",
       "      <th>MLP</th>\n",
       "      <td>0.905983</td>\n",
       "      <td>0.879310</td>\n",
       "      <td>0.927273</td>\n",
       "      <td>0.902655</td>\n",
       "      <td>0.905757</td>\n",
       "    </tr>\n",
       "  </tbody>\n",
       "</table>\n",
       "</div>"
      ],
      "text/plain": [
       "         Accuracy    Recall  Precision        F1       AUC\n",
       "LR       0.948718  0.913793   0.981481  0.946429  0.948422\n",
       "DT       0.820513  0.672414   0.951220  0.787879  0.819258\n",
       "bagging  0.880342  0.827586   0.923077  0.872727  0.879895\n",
       "adab     0.863248  0.844828   0.875000  0.859649  0.863092\n",
       "MLP      0.905983  0.879310   0.927273  0.902655  0.905757"
      ]
     },
     "execution_count": 143,
     "metadata": {},
     "output_type": "execute_result"
    }
   ],
   "source": [
    "pd.DataFrame.from_dict(Perf_per_algorithm_gird, orient='index', columns=['Accuracy', 'Recall', 'Precision', 'F1', 'AUC'])"
   ]
  },
  {
   "cell_type": "code",
   "execution_count": null,
   "id": "willing-transport",
   "metadata": {},
   "outputs": [],
   "source": []
  },
  {
   "cell_type": "code",
   "execution_count": null,
   "id": "exceptional-latino",
   "metadata": {},
   "outputs": [],
   "source": []
  },
  {
   "cell_type": "code",
   "execution_count": 2,
   "id": "continent-jefferson",
   "metadata": {},
   "outputs": [],
   "source": [
    "import pandas as pd"
   ]
  },
  {
   "cell_type": "code",
   "execution_count": 10,
   "id": "romantic-phoenix",
   "metadata": {},
   "outputs": [
    {
     "data": {
      "text/html": [
       "<div>\n",
       "<style scoped>\n",
       "    .dataframe tbody tr th:only-of-type {\n",
       "        vertical-align: middle;\n",
       "    }\n",
       "\n",
       "    .dataframe tbody tr th {\n",
       "        vertical-align: top;\n",
       "    }\n",
       "\n",
       "    .dataframe thead th {\n",
       "        text-align: right;\n",
       "    }\n",
       "</style>\n",
       "<table border=\"1\" class=\"dataframe\">\n",
       "  <thead>\n",
       "    <tr style=\"text-align: right;\">\n",
       "      <th></th>\n",
       "      <th>x</th>\n",
       "      <th>y</th>\n",
       "      <th>z</th>\n",
       "    </tr>\n",
       "    <tr>\n",
       "      <th>id</th>\n",
       "      <th></th>\n",
       "      <th></th>\n",
       "      <th></th>\n",
       "    </tr>\n",
       "  </thead>\n",
       "  <tbody>\n",
       "    <tr>\n",
       "      <th>a</th>\n",
       "      <td>3</td>\n",
       "      <td>21</td>\n",
       "      <td>39</td>\n",
       "    </tr>\n",
       "    <tr>\n",
       "      <th>b</th>\n",
       "      <td>12</td>\n",
       "      <td>30</td>\n",
       "      <td>48</td>\n",
       "    </tr>\n",
       "  </tbody>\n",
       "</table>\n",
       "</div>"
      ],
      "text/plain": [
       "     x   y   z\n",
       "id            \n",
       "a    3  21  39\n",
       "b   12  30  48"
      ]
     },
     "execution_count": 10,
     "metadata": {},
     "output_type": "execute_result"
    }
   ],
   "source": [
    "x = range(0, 6)\n",
    "y = range(6, 12)\n",
    "z = range(12, 18)\n",
    "id = ['a', 'a', 'a', 'b', 'b', 'b']\n",
    "df = pd.DataFrame(zip(id, x,y,z), columns = ['id', 'x','y','z'])\n",
    "df.groupby('id').sum()"
   ]
  },
  {
   "cell_type": "code",
   "execution_count": 11,
   "id": "99988098",
   "metadata": {},
   "outputs": [
    {
     "data": {
      "text/html": [
       "<div>\n",
       "<style scoped>\n",
       "    .dataframe tbody tr th:only-of-type {\n",
       "        vertical-align: middle;\n",
       "    }\n",
       "\n",
       "    .dataframe tbody tr th {\n",
       "        vertical-align: top;\n",
       "    }\n",
       "\n",
       "    .dataframe thead th {\n",
       "        text-align: right;\n",
       "    }\n",
       "</style>\n",
       "<table border=\"1\" class=\"dataframe\">\n",
       "  <thead>\n",
       "    <tr style=\"text-align: right;\">\n",
       "      <th></th>\n",
       "      <th>id</th>\n",
       "      <th>x</th>\n",
       "      <th>y</th>\n",
       "      <th>z</th>\n",
       "    </tr>\n",
       "  </thead>\n",
       "  <tbody>\n",
       "    <tr>\n",
       "      <th>0</th>\n",
       "      <td>a</td>\n",
       "      <td>0</td>\n",
       "      <td>6</td>\n",
       "      <td>12</td>\n",
       "    </tr>\n",
       "    <tr>\n",
       "      <th>1</th>\n",
       "      <td>a</td>\n",
       "      <td>1</td>\n",
       "      <td>7</td>\n",
       "      <td>13</td>\n",
       "    </tr>\n",
       "    <tr>\n",
       "      <th>2</th>\n",
       "      <td>a</td>\n",
       "      <td>2</td>\n",
       "      <td>8</td>\n",
       "      <td>14</td>\n",
       "    </tr>\n",
       "    <tr>\n",
       "      <th>3</th>\n",
       "      <td>b</td>\n",
       "      <td>3</td>\n",
       "      <td>9</td>\n",
       "      <td>15</td>\n",
       "    </tr>\n",
       "    <tr>\n",
       "      <th>4</th>\n",
       "      <td>b</td>\n",
       "      <td>4</td>\n",
       "      <td>10</td>\n",
       "      <td>16</td>\n",
       "    </tr>\n",
       "    <tr>\n",
       "      <th>5</th>\n",
       "      <td>b</td>\n",
       "      <td>5</td>\n",
       "      <td>11</td>\n",
       "      <td>17</td>\n",
       "    </tr>\n",
       "  </tbody>\n",
       "</table>\n",
       "</div>"
      ],
      "text/plain": [
       "  id  x   y   z\n",
       "0  a  0   6  12\n",
       "1  a  1   7  13\n",
       "2  a  2   8  14\n",
       "3  b  3   9  15\n",
       "4  b  4  10  16\n",
       "5  b  5  11  17"
      ]
     },
     "execution_count": 11,
     "metadata": {},
     "output_type": "execute_result"
    }
   ],
   "source": [
    "df"
   ]
  },
  {
   "cell_type": "code",
   "execution_count": 25,
   "id": "f36dcb6e",
   "metadata": {},
   "outputs": [],
   "source": [
    "def func(x):\n",
    "    return x.sum()"
   ]
  },
  {
   "cell_type": "code",
   "execution_count": 26,
   "id": "b3816ad7",
   "metadata": {},
   "outputs": [
    {
     "data": {
      "text/html": [
       "<div>\n",
       "<style scoped>\n",
       "    .dataframe tbody tr th:only-of-type {\n",
       "        vertical-align: middle;\n",
       "    }\n",
       "\n",
       "    .dataframe tbody tr th {\n",
       "        vertical-align: top;\n",
       "    }\n",
       "\n",
       "    .dataframe thead th {\n",
       "        text-align: right;\n",
       "    }\n",
       "</style>\n",
       "<table border=\"1\" class=\"dataframe\">\n",
       "  <thead>\n",
       "    <tr style=\"text-align: right;\">\n",
       "      <th></th>\n",
       "      <th></th>\n",
       "      <th>func</th>\n",
       "    </tr>\n",
       "    <tr>\n",
       "      <th>id</th>\n",
       "      <th></th>\n",
       "      <th></th>\n",
       "    </tr>\n",
       "  </thead>\n",
       "  <tbody>\n",
       "    <tr>\n",
       "      <th rowspan=\"3\" valign=\"top\">a</th>\n",
       "      <th>0</th>\n",
       "      <td>NaN</td>\n",
       "    </tr>\n",
       "    <tr>\n",
       "      <th>1</th>\n",
       "      <td>13.0</td>\n",
       "    </tr>\n",
       "    <tr>\n",
       "      <th>2</th>\n",
       "      <td>15.0</td>\n",
       "    </tr>\n",
       "    <tr>\n",
       "      <th rowspan=\"3\" valign=\"top\">b</th>\n",
       "      <th>3</th>\n",
       "      <td>NaN</td>\n",
       "    </tr>\n",
       "    <tr>\n",
       "      <th>4</th>\n",
       "      <td>19.0</td>\n",
       "    </tr>\n",
       "    <tr>\n",
       "      <th>5</th>\n",
       "      <td>21.0</td>\n",
       "    </tr>\n",
       "  </tbody>\n",
       "</table>\n",
       "</div>"
      ],
      "text/plain": [
       "      func\n",
       "id        \n",
       "a  0   NaN\n",
       "   1  13.0\n",
       "   2  15.0\n",
       "b  3   NaN\n",
       "   4  19.0\n",
       "   5  21.0"
      ]
     },
     "execution_count": 26,
     "metadata": {},
     "output_type": "execute_result"
    }
   ],
   "source": [
    "df.groupby('id').rolling(2)['y'].agg([func])"
   ]
  },
  {
   "cell_type": "code",
   "execution_count": 38,
   "id": "c38ab927",
   "metadata": {},
   "outputs": [
    {
     "data": {
      "text/html": [
       "<div>\n",
       "<style scoped>\n",
       "    .dataframe tbody tr th:only-of-type {\n",
       "        vertical-align: middle;\n",
       "    }\n",
       "\n",
       "    .dataframe tbody tr th {\n",
       "        vertical-align: top;\n",
       "    }\n",
       "\n",
       "    .dataframe thead th {\n",
       "        text-align: right;\n",
       "    }\n",
       "</style>\n",
       "<table border=\"1\" class=\"dataframe\">\n",
       "  <thead>\n",
       "    <tr style=\"text-align: right;\">\n",
       "      <th></th>\n",
       "      <th>ID</th>\n",
       "      <th>Invoice_Date</th>\n",
       "      <th>Difference_Date</th>\n",
       "    </tr>\n",
       "  </thead>\n",
       "  <tbody>\n",
       "    <tr>\n",
       "      <th>0</th>\n",
       "      <td>27459</td>\n",
       "      <td>2020-06-26</td>\n",
       "      <td>email</td>\n",
       "    </tr>\n",
       "    <tr>\n",
       "      <th>1</th>\n",
       "      <td>27459</td>\n",
       "      <td>2020-06-29</td>\n",
       "      <td>email</td>\n",
       "    </tr>\n",
       "    <tr>\n",
       "      <th>2</th>\n",
       "      <td>27459</td>\n",
       "      <td>2020-06-30</td>\n",
       "      <td>abc</td>\n",
       "    </tr>\n",
       "    <tr>\n",
       "      <th>3</th>\n",
       "      <td>27459</td>\n",
       "      <td>2020-07-14</td>\n",
       "      <td>abc</td>\n",
       "    </tr>\n",
       "    <tr>\n",
       "      <th>4</th>\n",
       "      <td>27459</td>\n",
       "      <td>2020-07-25</td>\n",
       "      <td>email</td>\n",
       "    </tr>\n",
       "    <tr>\n",
       "      <th>5</th>\n",
       "      <td>27459</td>\n",
       "      <td>2020-07-30</td>\n",
       "      <td>email</td>\n",
       "    </tr>\n",
       "    <tr>\n",
       "      <th>6</th>\n",
       "      <td>27459</td>\n",
       "      <td>2020-08-02</td>\n",
       "      <td>abc</td>\n",
       "    </tr>\n",
       "    <tr>\n",
       "      <th>7</th>\n",
       "      <td>48002</td>\n",
       "      <td>2020-05-13</td>\n",
       "      <td>abc</td>\n",
       "    </tr>\n",
       "    <tr>\n",
       "      <th>8</th>\n",
       "      <td>48002</td>\n",
       "      <td>2020-06-20</td>\n",
       "      <td>email</td>\n",
       "    </tr>\n",
       "    <tr>\n",
       "      <th>9</th>\n",
       "      <td>48002</td>\n",
       "      <td>2020-06-28</td>\n",
       "      <td>email</td>\n",
       "    </tr>\n",
       "  </tbody>\n",
       "</table>\n",
       "</div>"
      ],
      "text/plain": [
       "      ID Invoice_Date Difference_Date\n",
       "0  27459   2020-06-26           email\n",
       "1  27459   2020-06-29           email\n",
       "2  27459   2020-06-30             abc\n",
       "3  27459   2020-07-14             abc\n",
       "4  27459   2020-07-25           email\n",
       "5  27459   2020-07-30           email\n",
       "6  27459   2020-08-02             abc\n",
       "7  48002   2020-05-13             abc\n",
       "8  48002   2020-06-20           email\n",
       "9  48002   2020-06-28           email"
      ]
     },
     "execution_count": 38,
     "metadata": {},
     "output_type": "execute_result"
    }
   ],
   "source": [
    "import pandas as pd \n",
    "\n",
    "df = pd.DataFrame({\n",
    "        'ID':  ['27459', '27459', '27459', '27459', '27459', '27459', '27459', '48002', '48002', '48002'],\n",
    "        'Invoice_Date': ['2020-06-26', '2020-06-29', '2020-06-30', '2020-07-14', '2020-07-25', \n",
    "                         '2020-07-30', '2020-08-02', '2020-05-13', '2020-06-20', '2020-06-28'],\n",
    "        'Difference_Date': ['email','email','abc','abc','email','email','abc','abc','email','email']\n",
    "        })\n",
    "df"
   ]
  },
  {
   "cell_type": "code",
   "execution_count": 51,
   "id": "bd73d401",
   "metadata": {},
   "outputs": [
    {
     "data": {
      "text/plain": [
       "ID                         object\n",
       "Invoice_Date       datetime64[ns]\n",
       "Difference_Date            object\n",
       "dtype: object"
      ]
     },
     "execution_count": 51,
     "metadata": {},
     "output_type": "execute_result"
    }
   ],
   "source": [
    "df.dtypes"
   ]
  },
  {
   "cell_type": "code",
   "execution_count": 43,
   "id": "43cf37e9",
   "metadata": {},
   "outputs": [],
   "source": [
    "df['Invoice_Date'] = pd.DatetimeIndex(df['Invoice_Date'])"
   ]
  },
  {
   "cell_type": "code",
   "execution_count": 44,
   "id": "37c87be4",
   "metadata": {},
   "outputs": [],
   "source": [
    "df.index = pd.DatetimeIndex(df['Invoice_Date'])"
   ]
  },
  {
   "cell_type": "code",
   "execution_count": 68,
   "id": "60367677",
   "metadata": {},
   "outputs": [
    {
     "ename": "DataError",
     "evalue": "No numeric types to aggregate",
     "output_type": "error",
     "traceback": [
      "\u001b[1;31m---------------------------------------------------------------------------\u001b[0m",
      "\u001b[1;31mValueError\u001b[0m                                Traceback (most recent call last)",
      "File \u001b[1;32m~\\anaconda3\\lib\\site-packages\\pandas\\core\\window\\rolling.py:404\u001b[0m, in \u001b[0;36mBaseWindow._prep_values\u001b[1;34m(self, values)\u001b[0m\n\u001b[0;32m    403\u001b[0m     \u001b[38;5;28;01melse\u001b[39;00m:\n\u001b[1;32m--> 404\u001b[0m         values \u001b[38;5;241m=\u001b[39m \u001b[43mensure_float64\u001b[49m\u001b[43m(\u001b[49m\u001b[43mvalues\u001b[49m\u001b[43m)\u001b[49m\n\u001b[0;32m    405\u001b[0m \u001b[38;5;28;01mexcept\u001b[39;00m (\u001b[38;5;167;01mValueError\u001b[39;00m, \u001b[38;5;167;01mTypeError\u001b[39;00m) \u001b[38;5;28;01mas\u001b[39;00m err:\n",
      "File \u001b[1;32mpandas\\_libs\\algos_common_helper.pxi:42\u001b[0m, in \u001b[0;36mpandas._libs.algos.ensure_float64\u001b[1;34m()\u001b[0m\n",
      "\u001b[1;31mValueError\u001b[0m: could not convert string to float: 'email'",
      "\nThe above exception was the direct cause of the following exception:\n",
      "\u001b[1;31mTypeError\u001b[0m                                 Traceback (most recent call last)",
      "File \u001b[1;32m~\\anaconda3\\lib\\site-packages\\pandas\\core\\window\\rolling.py:483\u001b[0m, in \u001b[0;36mBaseWindow._apply_series\u001b[1;34m(self, homogeneous_func, name)\u001b[0m\n\u001b[0;32m    482\u001b[0m \u001b[38;5;28;01mtry\u001b[39;00m:\n\u001b[1;32m--> 483\u001b[0m     values \u001b[38;5;241m=\u001b[39m \u001b[38;5;28;43mself\u001b[39;49m\u001b[38;5;241;43m.\u001b[39;49m\u001b[43m_prep_values\u001b[49m\u001b[43m(\u001b[49m\u001b[43mobj\u001b[49m\u001b[38;5;241;43m.\u001b[39;49m\u001b[43m_values\u001b[49m\u001b[43m)\u001b[49m\n\u001b[0;32m    484\u001b[0m \u001b[38;5;28;01mexcept\u001b[39;00m (\u001b[38;5;167;01mTypeError\u001b[39;00m, \u001b[38;5;167;01mNotImplementedError\u001b[39;00m) \u001b[38;5;28;01mas\u001b[39;00m err:\n",
      "File \u001b[1;32m~\\anaconda3\\lib\\site-packages\\pandas\\core\\window\\rolling.py:406\u001b[0m, in \u001b[0;36mBaseWindow._prep_values\u001b[1;34m(self, values)\u001b[0m\n\u001b[0;32m    405\u001b[0m     \u001b[38;5;28;01mexcept\u001b[39;00m (\u001b[38;5;167;01mValueError\u001b[39;00m, \u001b[38;5;167;01mTypeError\u001b[39;00m) \u001b[38;5;28;01mas\u001b[39;00m err:\n\u001b[1;32m--> 406\u001b[0m         \u001b[38;5;28;01mraise\u001b[39;00m \u001b[38;5;167;01mTypeError\u001b[39;00m(\u001b[38;5;124mf\u001b[39m\u001b[38;5;124m\"\u001b[39m\u001b[38;5;124mcannot handle this type -> \u001b[39m\u001b[38;5;132;01m{\u001b[39;00mvalues\u001b[38;5;241m.\u001b[39mdtype\u001b[38;5;132;01m}\u001b[39;00m\u001b[38;5;124m\"\u001b[39m) \u001b[38;5;28;01mfrom\u001b[39;00m \u001b[38;5;21;01merr\u001b[39;00m\n\u001b[0;32m    408\u001b[0m \u001b[38;5;66;03m# Convert inf to nan for C funcs\u001b[39;00m\n",
      "\u001b[1;31mTypeError\u001b[0m: cannot handle this type -> object",
      "\nThe above exception was the direct cause of the following exception:\n",
      "\u001b[1;31mDataError\u001b[0m                                 Traceback (most recent call last)",
      "Cell \u001b[1;32mIn[68], line 1\u001b[0m\n\u001b[1;32m----> 1\u001b[0m \u001b[43mdf\u001b[49m\u001b[38;5;241;43m.\u001b[39;49m\u001b[43mgroupby\u001b[49m\u001b[43m(\u001b[49m\u001b[38;5;124;43m'\u001b[39;49m\u001b[38;5;124;43mID\u001b[39;49m\u001b[38;5;124;43m'\u001b[39;49m\u001b[43m)\u001b[49m\u001b[38;5;241;43m.\u001b[39;49m\u001b[43mrolling\u001b[49m\u001b[43m(\u001b[49m\u001b[38;5;124;43m'\u001b[39;49m\u001b[38;5;124;43m10D\u001b[39;49m\u001b[38;5;124;43m'\u001b[39;49m\u001b[43m,\u001b[49m\u001b[43mon\u001b[49m\u001b[38;5;241;43m=\u001b[39;49m\u001b[38;5;124;43m'\u001b[39;49m\u001b[38;5;124;43mInvoice_Date\u001b[39;49m\u001b[38;5;124;43m'\u001b[39;49m\u001b[43m)\u001b[49m\u001b[43m[\u001b[49m\u001b[38;5;124;43m'\u001b[39;49m\u001b[38;5;124;43mDifference_Date\u001b[39;49m\u001b[38;5;124;43m'\u001b[39;49m\u001b[43m]\u001b[49m\u001b[38;5;241;43m.\u001b[39;49m\u001b[43mapply\u001b[49m\u001b[43m(\u001b[49m\u001b[43mweighted_average\u001b[49m\u001b[43m)\u001b[49m\n",
      "File \u001b[1;32m~\\anaconda3\\lib\\site-packages\\pandas\\core\\window\\rolling.py:2000\u001b[0m, in \u001b[0;36mRolling.apply\u001b[1;34m(self, func, raw, engine, engine_kwargs, args, kwargs)\u001b[0m\n\u001b[0;32m   1979\u001b[0m \u001b[38;5;129m@doc\u001b[39m(\n\u001b[0;32m   1980\u001b[0m     template_header,\n\u001b[0;32m   1981\u001b[0m     create_section_header(\u001b[38;5;124m\"\u001b[39m\u001b[38;5;124mParameters\u001b[39m\u001b[38;5;124m\"\u001b[39m),\n\u001b[1;32m   (...)\u001b[0m\n\u001b[0;32m   1998\u001b[0m     kwargs: \u001b[38;5;28mdict\u001b[39m[\u001b[38;5;28mstr\u001b[39m, Any] \u001b[38;5;241m|\u001b[39m \u001b[38;5;28;01mNone\u001b[39;00m \u001b[38;5;241m=\u001b[39m \u001b[38;5;28;01mNone\u001b[39;00m,\n\u001b[0;32m   1999\u001b[0m ):\n\u001b[1;32m-> 2000\u001b[0m     \u001b[38;5;28;01mreturn\u001b[39;00m \u001b[38;5;28;43msuper\u001b[39;49m\u001b[43m(\u001b[49m\u001b[43m)\u001b[49m\u001b[38;5;241;43m.\u001b[39;49m\u001b[43mapply\u001b[49m\u001b[43m(\u001b[49m\n\u001b[0;32m   2001\u001b[0m \u001b[43m        \u001b[49m\u001b[43mfunc\u001b[49m\u001b[43m,\u001b[49m\n\u001b[0;32m   2002\u001b[0m \u001b[43m        \u001b[49m\u001b[43mraw\u001b[49m\u001b[38;5;241;43m=\u001b[39;49m\u001b[43mraw\u001b[49m\u001b[43m,\u001b[49m\n\u001b[0;32m   2003\u001b[0m \u001b[43m        \u001b[49m\u001b[43mengine\u001b[49m\u001b[38;5;241;43m=\u001b[39;49m\u001b[43mengine\u001b[49m\u001b[43m,\u001b[49m\n\u001b[0;32m   2004\u001b[0m \u001b[43m        \u001b[49m\u001b[43mengine_kwargs\u001b[49m\u001b[38;5;241;43m=\u001b[39;49m\u001b[43mengine_kwargs\u001b[49m\u001b[43m,\u001b[49m\n\u001b[0;32m   2005\u001b[0m \u001b[43m        \u001b[49m\u001b[43margs\u001b[49m\u001b[38;5;241;43m=\u001b[39;49m\u001b[43margs\u001b[49m\u001b[43m,\u001b[49m\n\u001b[0;32m   2006\u001b[0m \u001b[43m        \u001b[49m\u001b[43mkwargs\u001b[49m\u001b[38;5;241;43m=\u001b[39;49m\u001b[43mkwargs\u001b[49m\u001b[43m,\u001b[49m\n\u001b[0;32m   2007\u001b[0m \u001b[43m    \u001b[49m\u001b[43m)\u001b[49m\n",
      "File \u001b[1;32m~\\anaconda3\\lib\\site-packages\\pandas\\core\\window\\rolling.py:1422\u001b[0m, in \u001b[0;36mRollingAndExpandingMixin.apply\u001b[1;34m(self, func, raw, engine, engine_kwargs, args, kwargs)\u001b[0m\n\u001b[0;32m   1419\u001b[0m \u001b[38;5;28;01melse\u001b[39;00m:\n\u001b[0;32m   1420\u001b[0m     \u001b[38;5;28;01mraise\u001b[39;00m \u001b[38;5;167;01mValueError\u001b[39;00m(\u001b[38;5;124m\"\u001b[39m\u001b[38;5;124mengine must be either \u001b[39m\u001b[38;5;124m'\u001b[39m\u001b[38;5;124mnumba\u001b[39m\u001b[38;5;124m'\u001b[39m\u001b[38;5;124m or \u001b[39m\u001b[38;5;124m'\u001b[39m\u001b[38;5;124mcython\u001b[39m\u001b[38;5;124m'\u001b[39m\u001b[38;5;124m\"\u001b[39m)\n\u001b[1;32m-> 1422\u001b[0m \u001b[38;5;28;01mreturn\u001b[39;00m \u001b[38;5;28;43mself\u001b[39;49m\u001b[38;5;241;43m.\u001b[39;49m\u001b[43m_apply\u001b[49m\u001b[43m(\u001b[49m\n\u001b[0;32m   1423\u001b[0m \u001b[43m    \u001b[49m\u001b[43mapply_func\u001b[49m\u001b[43m,\u001b[49m\n\u001b[0;32m   1424\u001b[0m \u001b[43m    \u001b[49m\u001b[43mname\u001b[49m\u001b[38;5;241;43m=\u001b[39;49m\u001b[38;5;124;43m\"\u001b[39;49m\u001b[38;5;124;43mapply\u001b[39;49m\u001b[38;5;124;43m\"\u001b[39;49m\u001b[43m,\u001b[49m\n\u001b[0;32m   1425\u001b[0m \u001b[43m    \u001b[49m\u001b[43mnumba_args\u001b[49m\u001b[38;5;241;43m=\u001b[39;49m\u001b[43mnumba_args\u001b[49m\u001b[43m,\u001b[49m\n\u001b[0;32m   1426\u001b[0m \u001b[43m\u001b[49m\u001b[43m)\u001b[49m\n",
      "File \u001b[1;32m~\\anaconda3\\lib\\site-packages\\pandas\\core\\window\\rolling.py:757\u001b[0m, in \u001b[0;36mBaseWindowGroupby._apply\u001b[1;34m(self, func, name, numeric_only, numba_args, **kwargs)\u001b[0m\n\u001b[0;32m    749\u001b[0m \u001b[38;5;28;01mdef\u001b[39;00m \u001b[38;5;21m_apply\u001b[39m(\n\u001b[0;32m    750\u001b[0m     \u001b[38;5;28mself\u001b[39m,\n\u001b[0;32m    751\u001b[0m     func: Callable[\u001b[38;5;241m.\u001b[39m\u001b[38;5;241m.\u001b[39m\u001b[38;5;241m.\u001b[39m, Any],\n\u001b[1;32m   (...)\u001b[0m\n\u001b[0;32m    755\u001b[0m     \u001b[38;5;241m*\u001b[39m\u001b[38;5;241m*\u001b[39mkwargs,\n\u001b[0;32m    756\u001b[0m ) \u001b[38;5;241m-\u001b[39m\u001b[38;5;241m>\u001b[39m DataFrame \u001b[38;5;241m|\u001b[39m Series:\n\u001b[1;32m--> 757\u001b[0m     result \u001b[38;5;241m=\u001b[39m \u001b[38;5;28msuper\u001b[39m()\u001b[38;5;241m.\u001b[39m_apply(\n\u001b[0;32m    758\u001b[0m         func,\n\u001b[0;32m    759\u001b[0m         name,\n\u001b[0;32m    760\u001b[0m         numeric_only,\n\u001b[0;32m    761\u001b[0m         numba_args,\n\u001b[0;32m    762\u001b[0m         \u001b[38;5;241m*\u001b[39m\u001b[38;5;241m*\u001b[39mkwargs,\n\u001b[0;32m    763\u001b[0m     )\n\u001b[0;32m    764\u001b[0m     \u001b[38;5;66;03m# Reconstruct the resulting MultiIndex\u001b[39;00m\n\u001b[0;32m    765\u001b[0m     \u001b[38;5;66;03m# 1st set of levels = group by labels\u001b[39;00m\n\u001b[0;32m    766\u001b[0m     \u001b[38;5;66;03m# 2nd set of levels = original DataFrame/Series index\u001b[39;00m\n\u001b[0;32m    767\u001b[0m     grouped_object_index \u001b[38;5;241m=\u001b[39m \u001b[38;5;28mself\u001b[39m\u001b[38;5;241m.\u001b[39mobj\u001b[38;5;241m.\u001b[39mindex\n",
      "File \u001b[1;32m~\\anaconda3\\lib\\site-packages\\pandas\\core\\window\\rolling.py:663\u001b[0m, in \u001b[0;36mBaseWindow._apply\u001b[1;34m(self, func, name, numeric_only, numba_args, **kwargs)\u001b[0m\n\u001b[0;32m    660\u001b[0m     \u001b[38;5;28;01mreturn\u001b[39;00m result\n\u001b[0;32m    662\u001b[0m \u001b[38;5;28;01mif\u001b[39;00m \u001b[38;5;28mself\u001b[39m\u001b[38;5;241m.\u001b[39mmethod \u001b[38;5;241m==\u001b[39m \u001b[38;5;124m\"\u001b[39m\u001b[38;5;124msingle\u001b[39m\u001b[38;5;124m\"\u001b[39m:\n\u001b[1;32m--> 663\u001b[0m     \u001b[38;5;28;01mreturn\u001b[39;00m \u001b[38;5;28;43mself\u001b[39;49m\u001b[38;5;241;43m.\u001b[39;49m\u001b[43m_apply_blockwise\u001b[49m\u001b[43m(\u001b[49m\u001b[43mhomogeneous_func\u001b[49m\u001b[43m,\u001b[49m\u001b[43m \u001b[49m\u001b[43mname\u001b[49m\u001b[43m,\u001b[49m\u001b[43m \u001b[49m\u001b[43mnumeric_only\u001b[49m\u001b[43m)\u001b[49m\n\u001b[0;32m    664\u001b[0m \u001b[38;5;28;01melse\u001b[39;00m:\n\u001b[0;32m    665\u001b[0m     \u001b[38;5;28;01mreturn\u001b[39;00m \u001b[38;5;28mself\u001b[39m\u001b[38;5;241m.\u001b[39m_apply_tablewise(homogeneous_func, name, numeric_only)\n",
      "File \u001b[1;32m~\\anaconda3\\lib\\site-packages\\pandas\\core\\window\\rolling.py:503\u001b[0m, in \u001b[0;36mBaseWindow._apply_blockwise\u001b[1;34m(self, homogeneous_func, name, numeric_only)\u001b[0m\n\u001b[0;32m    501\u001b[0m \u001b[38;5;28mself\u001b[39m\u001b[38;5;241m.\u001b[39m_validate_numeric_only(name, numeric_only)\n\u001b[0;32m    502\u001b[0m \u001b[38;5;28;01mif\u001b[39;00m \u001b[38;5;28mself\u001b[39m\u001b[38;5;241m.\u001b[39m_selected_obj\u001b[38;5;241m.\u001b[39mndim \u001b[38;5;241m==\u001b[39m \u001b[38;5;241m1\u001b[39m:\n\u001b[1;32m--> 503\u001b[0m     \u001b[38;5;28;01mreturn\u001b[39;00m \u001b[38;5;28;43mself\u001b[39;49m\u001b[38;5;241;43m.\u001b[39;49m\u001b[43m_apply_series\u001b[49m\u001b[43m(\u001b[49m\u001b[43mhomogeneous_func\u001b[49m\u001b[43m,\u001b[49m\u001b[43m \u001b[49m\u001b[43mname\u001b[49m\u001b[43m)\u001b[49m\n\u001b[0;32m    505\u001b[0m obj \u001b[38;5;241m=\u001b[39m \u001b[38;5;28mself\u001b[39m\u001b[38;5;241m.\u001b[39m_create_data(\u001b[38;5;28mself\u001b[39m\u001b[38;5;241m.\u001b[39m_selected_obj, numeric_only)\n\u001b[0;32m    506\u001b[0m \u001b[38;5;28;01mif\u001b[39;00m name \u001b[38;5;241m==\u001b[39m \u001b[38;5;124m\"\u001b[39m\u001b[38;5;124mcount\u001b[39m\u001b[38;5;124m\"\u001b[39m:\n\u001b[0;32m    507\u001b[0m     \u001b[38;5;66;03m# GH 12541: Special case for count where we support date-like types\u001b[39;00m\n",
      "File \u001b[1;32m~\\anaconda3\\lib\\site-packages\\pandas\\core\\window\\rolling.py:485\u001b[0m, in \u001b[0;36mBaseWindow._apply_series\u001b[1;34m(self, homogeneous_func, name)\u001b[0m\n\u001b[0;32m    483\u001b[0m     values \u001b[38;5;241m=\u001b[39m \u001b[38;5;28mself\u001b[39m\u001b[38;5;241m.\u001b[39m_prep_values(obj\u001b[38;5;241m.\u001b[39m_values)\n\u001b[0;32m    484\u001b[0m \u001b[38;5;28;01mexcept\u001b[39;00m (\u001b[38;5;167;01mTypeError\u001b[39;00m, \u001b[38;5;167;01mNotImplementedError\u001b[39;00m) \u001b[38;5;28;01mas\u001b[39;00m err:\n\u001b[1;32m--> 485\u001b[0m     \u001b[38;5;28;01mraise\u001b[39;00m DataError(\u001b[38;5;124m\"\u001b[39m\u001b[38;5;124mNo numeric types to aggregate\u001b[39m\u001b[38;5;124m\"\u001b[39m) \u001b[38;5;28;01mfrom\u001b[39;00m \u001b[38;5;21;01merr\u001b[39;00m\n\u001b[0;32m    487\u001b[0m result \u001b[38;5;241m=\u001b[39m homogeneous_func(values)\n\u001b[0;32m    488\u001b[0m index \u001b[38;5;241m=\u001b[39m \u001b[38;5;28mself\u001b[39m\u001b[38;5;241m.\u001b[39m_slice_axis_for_step(obj\u001b[38;5;241m.\u001b[39mindex, result)\n",
      "\u001b[1;31mDataError\u001b[0m: No numeric types to aggregate"
     ]
    }
   ],
   "source": [
    "df.groupby('ID').rolling('10D',on='Invoice_Date')['Difference_Date'].apply(weighted_average)"
   ]
  },
  {
   "cell_type": "code",
   "execution_count": 66,
   "id": "cd6c0be9",
   "metadata": {},
   "outputs": [],
   "source": [
    "def weighted_average(data):\n",
    "    d = {}\n",
    "    d['d1_wa'] = set(data['Difference_Date'])\n",
    "    return pd.Series(d)"
   ]
  },
  {
   "cell_type": "code",
   "execution_count": null,
   "id": "a5d560d6",
   "metadata": {},
   "outputs": [],
   "source": []
  }
 ],
 "metadata": {
  "kernelspec": {
   "display_name": "Python 3 (ipykernel)",
   "language": "python",
   "name": "python3"
  },
  "language_info": {
   "codemirror_mode": {
    "name": "ipython",
    "version": 3
   },
   "file_extension": ".py",
   "mimetype": "text/x-python",
   "name": "python",
   "nbconvert_exporter": "python",
   "pygments_lexer": "ipython3",
   "version": "3.9.15"
  },
  "toc": {
   "base_numbering": 1,
   "nav_menu": {},
   "number_sections": true,
   "sideBar": true,
   "skip_h1_title": false,
   "title_cell": "Table of Contents",
   "title_sidebar": "Contents",
   "toc_cell": false,
   "toc_position": {},
   "toc_section_display": true,
   "toc_window_display": true
  }
 },
 "nbformat": 4,
 "nbformat_minor": 5
}
