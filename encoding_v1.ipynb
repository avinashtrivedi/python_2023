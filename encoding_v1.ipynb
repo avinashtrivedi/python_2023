{
 "cells": [
  {
   "cell_type": "code",
   "execution_count": 1,
   "id": "b0307703",
   "metadata": {},
   "outputs": [],
   "source": [
    "import pandas as pd\n",
    "from tqdm.notebook import tqdm"
   ]
  },
  {
   "cell_type": "code",
   "execution_count": 2,
   "id": "eb974d6b",
   "metadata": {},
   "outputs": [
    {
     "name": "stderr",
     "output_type": "stream",
     "text": [
      "C:\\Users\\avitr\\AppData\\Local\\Temp\\ipykernel_23672\\485318110.py:2: DtypeWarning: Columns (7,8,9,10) have mixed types. Specify dtype option on import or set low_memory=False.\n",
      "  df = pd.read_csv(\"D:\\OneDrive - NITT\\Custom_Download\\Trial.csv\")\n"
     ]
    }
   ],
   "source": [
    "# read csv file\n",
    "df = pd.read_csv(\"D:\\OneDrive - NITT\\Custom_Download\\Trial.csv\")"
   ]
  },
  {
   "cell_type": "code",
   "execution_count": 3,
   "id": "6bb0e76a",
   "metadata": {},
   "outputs": [],
   "source": [
    "# get all column names\n",
    "cols = list(df)"
   ]
  },
  {
   "cell_type": "code",
   "execution_count": 4,
   "id": "f414e229",
   "metadata": {},
   "outputs": [
    {
     "data": {
      "text/html": [
       "<div>\n",
       "<style scoped>\n",
       "    .dataframe tbody tr th:only-of-type {\n",
       "        vertical-align: middle;\n",
       "    }\n",
       "\n",
       "    .dataframe tbody tr th {\n",
       "        vertical-align: top;\n",
       "    }\n",
       "\n",
       "    .dataframe thead th {\n",
       "        text-align: right;\n",
       "    }\n",
       "</style>\n",
       "<table border=\"1\" class=\"dataframe\">\n",
       "  <thead>\n",
       "    <tr style=\"text-align: right;\">\n",
       "      <th></th>\n",
       "      <th>smlt</th>\n",
       "      <th>asn</th>\n",
       "      <th>sd</th>\n",
       "      <th>t2m</th>\n",
       "      <th>skt</th>\n",
       "      <th>sp</th>\n",
       "      <th>msl</th>\n",
       "      <th>ssrd</th>\n",
       "      <th>strd</th>\n",
       "      <th>u10</th>\n",
       "      <th>v10</th>\n",
       "      <th>tp</th>\n",
       "      <th>tcc</th>\n",
       "    </tr>\n",
       "  </thead>\n",
       "  <tbody>\n",
       "    <tr>\n",
       "      <th>0</th>\n",
       "      <td>tcc</td>\n",
       "      <td>v10</td>\n",
       "      <td>strd</td>\n",
       "      <td>tp</td>\n",
       "      <td>asn</td>\n",
       "      <td>sp</td>\n",
       "      <td>t2m</td>\n",
       "      <td>NaN</td>\n",
       "      <td>NaN</td>\n",
       "      <td>NaN</td>\n",
       "      <td>NaN</td>\n",
       "      <td>NaN</td>\n",
       "      <td>NaN</td>\n",
       "    </tr>\n",
       "    <tr>\n",
       "      <th>1</th>\n",
       "      <td>tcc</td>\n",
       "      <td>asn</td>\n",
       "      <td>v10</td>\n",
       "      <td>strd</td>\n",
       "      <td>tp</td>\n",
       "      <td>msl</td>\n",
       "      <td>t2m</td>\n",
       "      <td>NaN</td>\n",
       "      <td>NaN</td>\n",
       "      <td>NaN</td>\n",
       "      <td>NaN</td>\n",
       "      <td>NaN</td>\n",
       "      <td>NaN</td>\n",
       "    </tr>\n",
       "    <tr>\n",
       "      <th>2</th>\n",
       "      <td>asn</td>\n",
       "      <td>tcc</td>\n",
       "      <td>v10</td>\n",
       "      <td>strd</td>\n",
       "      <td>tp</td>\n",
       "      <td>msl</td>\n",
       "      <td>t2m</td>\n",
       "      <td>ssrd</td>\n",
       "      <td>NaN</td>\n",
       "      <td>NaN</td>\n",
       "      <td>NaN</td>\n",
       "      <td>NaN</td>\n",
       "      <td>NaN</td>\n",
       "    </tr>\n",
       "    <tr>\n",
       "      <th>3</th>\n",
       "      <td>tcc</td>\n",
       "      <td>v10</td>\n",
       "      <td>t2m</td>\n",
       "      <td>tp</td>\n",
       "      <td>asn</td>\n",
       "      <td>msl</td>\n",
       "      <td>NaN</td>\n",
       "      <td>NaN</td>\n",
       "      <td>NaN</td>\n",
       "      <td>NaN</td>\n",
       "      <td>NaN</td>\n",
       "      <td>NaN</td>\n",
       "      <td>NaN</td>\n",
       "    </tr>\n",
       "    <tr>\n",
       "      <th>4</th>\n",
       "      <td>tcc</td>\n",
       "      <td>v10</td>\n",
       "      <td>strd</td>\n",
       "      <td>tp</td>\n",
       "      <td>asn</td>\n",
       "      <td>msl</td>\n",
       "      <td>t2m</td>\n",
       "      <td>NaN</td>\n",
       "      <td>NaN</td>\n",
       "      <td>NaN</td>\n",
       "      <td>NaN</td>\n",
       "      <td>NaN</td>\n",
       "      <td>NaN</td>\n",
       "    </tr>\n",
       "    <tr>\n",
       "      <th>...</th>\n",
       "      <td>...</td>\n",
       "      <td>...</td>\n",
       "      <td>...</td>\n",
       "      <td>...</td>\n",
       "      <td>...</td>\n",
       "      <td>...</td>\n",
       "      <td>...</td>\n",
       "      <td>...</td>\n",
       "      <td>...</td>\n",
       "      <td>...</td>\n",
       "      <td>...</td>\n",
       "      <td>...</td>\n",
       "      <td>...</td>\n",
       "    </tr>\n",
       "    <tr>\n",
       "      <th>791731</th>\n",
       "      <td>sd</td>\n",
       "      <td>NaN</td>\n",
       "      <td>NaN</td>\n",
       "      <td>NaN</td>\n",
       "      <td>NaN</td>\n",
       "      <td>NaN</td>\n",
       "      <td>NaN</td>\n",
       "      <td>NaN</td>\n",
       "      <td>NaN</td>\n",
       "      <td>NaN</td>\n",
       "      <td>NaN</td>\n",
       "      <td>NaN</td>\n",
       "      <td>NaN</td>\n",
       "    </tr>\n",
       "    <tr>\n",
       "      <th>791732</th>\n",
       "      <td>sd</td>\n",
       "      <td>smlt</td>\n",
       "      <td>tp</td>\n",
       "      <td>asn</td>\n",
       "      <td>skt</td>\n",
       "      <td>NaN</td>\n",
       "      <td>NaN</td>\n",
       "      <td>NaN</td>\n",
       "      <td>NaN</td>\n",
       "      <td>NaN</td>\n",
       "      <td>NaN</td>\n",
       "      <td>NaN</td>\n",
       "      <td>NaN</td>\n",
       "    </tr>\n",
       "    <tr>\n",
       "      <th>791733</th>\n",
       "      <td>sd</td>\n",
       "      <td>NaN</td>\n",
       "      <td>NaN</td>\n",
       "      <td>NaN</td>\n",
       "      <td>NaN</td>\n",
       "      <td>NaN</td>\n",
       "      <td>NaN</td>\n",
       "      <td>NaN</td>\n",
       "      <td>NaN</td>\n",
       "      <td>NaN</td>\n",
       "      <td>NaN</td>\n",
       "      <td>NaN</td>\n",
       "      <td>NaN</td>\n",
       "    </tr>\n",
       "    <tr>\n",
       "      <th>791734</th>\n",
       "      <td>sd</td>\n",
       "      <td>smlt</td>\n",
       "      <td>tp</td>\n",
       "      <td>asn</td>\n",
       "      <td>skt</td>\n",
       "      <td>NaN</td>\n",
       "      <td>NaN</td>\n",
       "      <td>NaN</td>\n",
       "      <td>NaN</td>\n",
       "      <td>NaN</td>\n",
       "      <td>NaN</td>\n",
       "      <td>NaN</td>\n",
       "      <td>NaN</td>\n",
       "    </tr>\n",
       "    <tr>\n",
       "      <th>791735</th>\n",
       "      <td>sd</td>\n",
       "      <td>NaN</td>\n",
       "      <td>NaN</td>\n",
       "      <td>NaN</td>\n",
       "      <td>NaN</td>\n",
       "      <td>NaN</td>\n",
       "      <td>NaN</td>\n",
       "      <td>NaN</td>\n",
       "      <td>NaN</td>\n",
       "      <td>NaN</td>\n",
       "      <td>NaN</td>\n",
       "      <td>NaN</td>\n",
       "      <td>NaN</td>\n",
       "    </tr>\n",
       "  </tbody>\n",
       "</table>\n",
       "<p>791736 rows × 13 columns</p>\n",
       "</div>"
      ],
      "text/plain": [
       "       smlt   asn    sd   t2m  skt   sp  msl  ssrd strd  u10  v10  tp  tcc\n",
       "0       tcc   v10  strd    tp  asn   sp  t2m   NaN  NaN  NaN  NaN NaN  NaN\n",
       "1       tcc   asn   v10  strd   tp  msl  t2m   NaN  NaN  NaN  NaN NaN  NaN\n",
       "2       asn   tcc   v10  strd   tp  msl  t2m  ssrd  NaN  NaN  NaN NaN  NaN\n",
       "3       tcc   v10   t2m    tp  asn  msl  NaN   NaN  NaN  NaN  NaN NaN  NaN\n",
       "4       tcc   v10  strd    tp  asn  msl  t2m   NaN  NaN  NaN  NaN NaN  NaN\n",
       "...     ...   ...   ...   ...  ...  ...  ...   ...  ...  ...  ...  ..  ...\n",
       "791731   sd   NaN   NaN   NaN  NaN  NaN  NaN   NaN  NaN  NaN  NaN NaN  NaN\n",
       "791732   sd  smlt    tp   asn  skt  NaN  NaN   NaN  NaN  NaN  NaN NaN  NaN\n",
       "791733   sd   NaN   NaN   NaN  NaN  NaN  NaN   NaN  NaN  NaN  NaN NaN  NaN\n",
       "791734   sd  smlt    tp   asn  skt  NaN  NaN   NaN  NaN  NaN  NaN NaN  NaN\n",
       "791735   sd   NaN   NaN   NaN  NaN  NaN  NaN   NaN  NaN  NaN  NaN NaN  NaN\n",
       "\n",
       "[791736 rows x 13 columns]"
      ]
     },
     "execution_count": 4,
     "metadata": {},
     "output_type": "execute_result"
    }
   ],
   "source": [
    "df"
   ]
  },
  {
   "cell_type": "code",
   "execution_count": 5,
   "id": "c51ff258",
   "metadata": {},
   "outputs": [
    {
     "data": {
      "text/plain": [
       "13"
      ]
     },
     "execution_count": 5,
     "metadata": {},
     "output_type": "execute_result"
    }
   ],
   "source": [
    "len(cols)"
   ]
  },
  {
   "cell_type": "code",
   "execution_count": 6,
   "id": "ad20836c",
   "metadata": {},
   "outputs": [],
   "source": [
    "# fill missing Value i.e NaN with empty string i.e ''\n",
    "df = df.fillna('')"
   ]
  },
  {
   "cell_type": "code",
   "execution_count": 7,
   "id": "f5e53fe6",
   "metadata": {},
   "outputs": [],
   "source": [
    "# create a empty dataframe to store the encoded value\n",
    "df_new = pd.DataFrame([],columns=cols)"
   ]
  },
  {
   "cell_type": "code",
   "execution_count": 8,
   "id": "e0edf6a2",
   "metadata": {},
   "outputs": [
    {
     "data": {
      "text/html": [
       "<div>\n",
       "<style scoped>\n",
       "    .dataframe tbody tr th:only-of-type {\n",
       "        vertical-align: middle;\n",
       "    }\n",
       "\n",
       "    .dataframe tbody tr th {\n",
       "        vertical-align: top;\n",
       "    }\n",
       "\n",
       "    .dataframe thead th {\n",
       "        text-align: right;\n",
       "    }\n",
       "</style>\n",
       "<table border=\"1\" class=\"dataframe\">\n",
       "  <thead>\n",
       "    <tr style=\"text-align: right;\">\n",
       "      <th></th>\n",
       "      <th>smlt</th>\n",
       "      <th>asn</th>\n",
       "      <th>sd</th>\n",
       "      <th>t2m</th>\n",
       "      <th>skt</th>\n",
       "      <th>sp</th>\n",
       "      <th>msl</th>\n",
       "      <th>ssrd</th>\n",
       "      <th>strd</th>\n",
       "      <th>u10</th>\n",
       "      <th>v10</th>\n",
       "      <th>tp</th>\n",
       "      <th>tcc</th>\n",
       "    </tr>\n",
       "  </thead>\n",
       "  <tbody>\n",
       "  </tbody>\n",
       "</table>\n",
       "</div>"
      ],
      "text/plain": [
       "Empty DataFrame\n",
       "Columns: [smlt, asn, sd, t2m, skt, sp, msl, ssrd, strd, u10, v10, tp, tcc]\n",
       "Index: []"
      ]
     },
     "execution_count": 8,
     "metadata": {},
     "output_type": "execute_result"
    }
   ],
   "source": [
    "df_new"
   ]
  },
  {
   "cell_type": "code",
   "execution_count": 9,
   "id": "4fd8e42b",
   "metadata": {},
   "outputs": [
    {
     "data": {
      "application/vnd.jupyter.widget-view+json": {
       "model_id": "7fea8912154a4b3585f17da6a2ebf6b2",
       "version_major": 2,
       "version_minor": 0
      },
      "text/plain": [
       "0it [00:00, ?it/s]"
      ]
     },
     "metadata": {},
     "output_type": "display_data"
    }
   ],
   "source": [
    "col_data = [0]\n",
    "data = []\n",
    "\n",
    "# iterate through all rows\n",
    "for indx,line in tqdm(df.iterrows()):\n",
    "    \n",
    "    # make default values as zero for all columns\n",
    "    encoding = dict.fromkeys(cols,0)\n",
    "    for val in line.values:\n",
    "        if val:\n",
    "            \n",
    "            # if value exist in row then make it 1\n",
    "            encoding[val] = 1\n",
    "            \n",
    "    # store in a list\n",
    "    data.append(encoding)"
   ]
  },
  {
   "cell_type": "code",
   "execution_count": 10,
   "id": "b762d9fc",
   "metadata": {},
   "outputs": [
    {
     "data": {
      "text/plain": [
       "{'smlt': 0,\n",
       " 'asn': 0,\n",
       " 'sd': 0,\n",
       " 't2m': 0,\n",
       " 'skt': 0,\n",
       " 'sp': 0,\n",
       " 'msl': 0,\n",
       " 'ssrd': 0,\n",
       " 'strd': 0,\n",
       " 'u10': 0,\n",
       " 'v10': 0,\n",
       " 'tp': 0,\n",
       " 'tcc': 0}"
      ]
     },
     "execution_count": 10,
     "metadata": {},
     "output_type": "execute_result"
    }
   ],
   "source": [
    "dict.fromkeys(cols,0) # just for understanding as to how it works"
   ]
  },
  {
   "cell_type": "code",
   "execution_count": 11,
   "id": "aa57b405",
   "metadata": {},
   "outputs": [],
   "source": [
    "# create a new dataframe from list of dictionary\n",
    "data = pd.DataFrame(data)"
   ]
  },
  {
   "cell_type": "code",
   "execution_count": 12,
   "id": "bdcd7463",
   "metadata": {},
   "outputs": [],
   "source": [
    "data = data.fillna(0)"
   ]
  },
  {
   "cell_type": "code",
   "execution_count": 13,
   "id": "c25ca1dc",
   "metadata": {},
   "outputs": [],
   "source": [
    "data = data.astype(int)"
   ]
  },
  {
   "cell_type": "code",
   "execution_count": 14,
   "id": "27bda2be",
   "metadata": {},
   "outputs": [],
   "source": [
    "# export to csv file\n",
    "data.to_csv('encoded_file.csv',index=False)"
   ]
  }
 ],
 "metadata": {
  "kernelspec": {
   "display_name": "Python 3 (ipykernel)",
   "language": "python",
   "name": "python3"
  },
  "language_info": {
   "codemirror_mode": {
    "name": "ipython",
    "version": 3
   },
   "file_extension": ".py",
   "mimetype": "text/x-python",
   "name": "python",
   "nbconvert_exporter": "python",
   "pygments_lexer": "ipython3",
   "version": "3.9.15"
  }
 },
 "nbformat": 4,
 "nbformat_minor": 5
}
